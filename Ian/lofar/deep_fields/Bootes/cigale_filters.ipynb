{
 "cells": [
  {
   "cell_type": "markdown",
   "metadata": {},
   "source": [
    "## Code to break the single filter file into individual files for each filter for CIGALE"
   ]
  },
  {
   "cell_type": "code",
   "execution_count": null,
   "metadata": {},
   "outputs": [],
   "source": []
  },
  {
   "cell_type": "code",
   "execution_count": 27,
   "metadata": {},
   "outputs": [],
   "source": [
    "f = open('data/photz/filters/filter.bootes_mbrown_2014a.res','r')\n",
    "filters = []\n",
    "filters_num = []\n",
    "for line in f:\n",
    "    line_split = line.split()\n",
    "    if 'filt' in line:\n",
    "        \n",
    "        filters_num.append(int(line_split[0]))\n",
    "        filters.append(line_split[1])\n",
    "        filt = open('data/photz/filters/{}'.format(line_split[1].replace('filter','dat')),'w')\n",
    "        filt.write('# {}\\n'.format(line_split[1].replace('.filter','')))\n",
    "        filt.write('# energy\\n')\n",
    "        continue\n",
    "    filt.write('{} {}\\n'.format(line_split[1],line_split[2]))\n"
   ]
  },
  {
   "cell_type": "code",
   "execution_count": null,
   "metadata": {},
   "outputs": [],
   "source": []
  }
 ],
 "metadata": {
  "kernelspec": {
   "display_name": "Python 3",
   "language": "python",
   "name": "python3"
  },
  "language_info": {
   "codemirror_mode": {
    "name": "ipython",
    "version": 3
   },
   "file_extension": ".py",
   "mimetype": "text/x-python",
   "name": "python",
   "nbconvert_exporter": "python",
   "pygments_lexer": "ipython3",
   "version": "3.6.7"
  }
 },
 "nbformat": 4,
 "nbformat_minor": 2
}
