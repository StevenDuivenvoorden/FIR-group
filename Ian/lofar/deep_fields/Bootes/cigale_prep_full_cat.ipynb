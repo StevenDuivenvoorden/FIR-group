{
 "cells": [
  {
   "cell_type": "code",
   "execution_count": null,
   "metadata": {},
   "outputs": [],
   "source": [
    "import astropy\n",
    "from astropy.table import Table\n",
    "import numpy as np\n",
    "import matplotlib.pyplot as plt\n",
    "import glob\n",
    "import subprocess\n",
    "import os"
   ]
  },
  {
   "cell_type": "code",
   "execution_count": null,
   "metadata": {},
   "outputs": [],
   "source": [
    "def pop_list(ls,indices):\n",
    "    for n,ind in enumerate(indices):\n",
    "        ls.pop(ind)\n",
    "    return(ls)"
   ]
  },
  {
   "cell_type": "code",
   "execution_count": null,
   "metadata": {},
   "outputs": [],
   "source": [
    "#photz = Table.read('data/photz/Bootes_opt_spitzer_merged_vac_opt3as_irac4as_all_hpx_public.fits')\n",
    "photz = Table.read('/beegfs/lofar/deepfields/science_ready_catalogs/Bootes_opt_spitzer_merged_vac_opt3as_irac4as_all_hpx_public.fits')"
   ]
  },
  {
   "cell_type": "code",
   "execution_count": null,
   "metadata": {},
   "outputs": [],
   "source": [
    "photz[0]"
   ]
  },
  {
   "cell_type": "code",
   "execution_count": null,
   "metadata": {},
   "outputs": [],
   "source": [
    "cigale_input = photz.copy()"
   ]
  },
  {
   "cell_type": "code",
   "execution_count": null,
   "metadata": {},
   "outputs": [],
   "source": [
    "filters_file = open('data/photz/filters/filter.bootes_mbrown_2014a.res.info','r')\n",
    "filters = []\n",
    "for line in filters_file:\n",
    "    temp = line.split(' ')\n",
    "    filters.append(temp)\n",
    "filters_file.close()\n",
    "\n",
    "for n,line in enumerate(filters):\n",
    "    if n!=32:\n",
    "        filters[n] = line[0:-1]\n",
    "    else:\n",
    "        filters[n][-1] = filters[n][-1].replace('\\n','')\n",
    "    filters[n] = pop_list(filters[n],[1 for m in range(len(filters[n])-2)])\n",
    "    filters[n][-1] = filters[n][-1].replace('.filter','')"
   ]
  },
  {
   "cell_type": "code",
   "execution_count": null,
   "metadata": {},
   "outputs": [],
   "source": [
    "translate_file = open('data/photz/filters/brown.zphot.2014.translate','r')\n",
    "translate = []\n",
    "for line in translate_file:\n",
    "    if '#' in line:\n",
    "        continue\n",
    "    temp = line.split(' ')\n",
    "    translate.append(temp)\n",
    "translate_file.close()\n",
    "\n",
    "translate = translate[:len(translate)-1]\n",
    "\n",
    "for n,line in enumerate(translate):\n",
    "    translate[n][1] = line[1][1:-1]"
   ]
  },
  {
   "cell_type": "code",
   "execution_count": null,
   "metadata": {
    "scrolled": true
   },
   "outputs": [],
   "source": [
    "for n,line in enumerate(translate):\n",
    "    colname = line[0]\n",
    "    filt_num = int(line[1])\n",
    "    filt_name = ''\n",
    "    for m,filt in enumerate(filters):\n",
    "        if m+1==filt_num:\n",
    "            print(filt)\n",
    "            filt_name = filt[1]\n",
    "    \n",
    "    if 'err' in colname:\n",
    "        filt_name = filt_name+'_err'\n",
    "    #print(colname)\n",
    "    #print(filt_name)\n",
    "    cigale_input.rename_column(colname,filt_name)"
   ]
  },
  {
   "cell_type": "code",
   "execution_count": null,
   "metadata": {},
   "outputs": [],
   "source": [
    "cigale_input.rename_column('z1_median','redshift')"
   ]
  },
  {
   "cell_type": "code",
   "execution_count": null,
   "metadata": {},
   "outputs": [],
   "source": [
    "Table.write(cigale_input,'cigale_input_Bootes.fits',format='fits',overwrite=True)"
   ]
  },
  {
   "cell_type": "code",
   "execution_count": null,
   "metadata": {},
   "outputs": [],
   "source": []
  },
  {
   "cell_type": "code",
   "execution_count": null,
   "metadata": {},
   "outputs": [],
   "source": []
  }
 ],
 "metadata": {
  "kernelspec": {
   "display_name": "Python 3",
   "language": "python",
   "name": "python3"
  },
  "language_info": {
   "codemirror_mode": {
    "name": "ipython",
    "version": 3
   },
   "file_extension": ".py",
   "mimetype": "text/x-python",
   "name": "python",
   "nbconvert_exporter": "python",
   "pygments_lexer": "ipython3",
   "version": "3.6.9"
  }
 },
 "nbformat": 4,
 "nbformat_minor": 2
}
