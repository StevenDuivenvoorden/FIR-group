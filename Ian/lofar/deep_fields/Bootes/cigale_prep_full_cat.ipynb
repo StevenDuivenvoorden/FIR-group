{
 "cells": [
  {
   "cell_type": "code",
   "execution_count": 1,
   "metadata": {},
   "outputs": [
    {
     "ename": "UnsupportedPythonError",
     "evalue": "Astropy does not support Python < 3.5",
     "output_type": "error",
     "traceback": [
      "\u001b[0;31m---------------------------------------------------------------------------\u001b[0m",
      "\u001b[0;31mUnsupportedPythonError\u001b[0m                    Traceback (most recent call last)",
      "\u001b[0;32m<ipython-input-1-130e283780e5>\u001b[0m in \u001b[0;36m<module>\u001b[0;34m()\u001b[0m\n\u001b[0;32m----> 1\u001b[0;31m \u001b[0;32mimport\u001b[0m \u001b[0mastropy\u001b[0m\u001b[0;34m\u001b[0m\u001b[0m\n\u001b[0m\u001b[1;32m      2\u001b[0m \u001b[0;32mfrom\u001b[0m \u001b[0mastropy\u001b[0m\u001b[0;34m.\u001b[0m\u001b[0mtable\u001b[0m \u001b[0;32mimport\u001b[0m \u001b[0mTable\u001b[0m\u001b[0;34m\u001b[0m\u001b[0m\n\u001b[1;32m      3\u001b[0m \u001b[0;32mimport\u001b[0m \u001b[0mnumpy\u001b[0m \u001b[0;32mas\u001b[0m \u001b[0mnp\u001b[0m\u001b[0;34m\u001b[0m\u001b[0m\n\u001b[1;32m      4\u001b[0m \u001b[0;32mimport\u001b[0m \u001b[0mmatplotlib\u001b[0m\u001b[0;34m.\u001b[0m\u001b[0mpyplot\u001b[0m \u001b[0;32mas\u001b[0m \u001b[0mplt\u001b[0m\u001b[0;34m\u001b[0m\u001b[0m\n\u001b[1;32m      5\u001b[0m \u001b[0;32mimport\u001b[0m \u001b[0mglob\u001b[0m\u001b[0;34m\u001b[0m\u001b[0m\n",
      "\u001b[0;32m/soft/python3/usr/local/lib64/python3.6/site-packages/astropy/__init__.py\u001b[0m in \u001b[0;36m<module>\u001b[0;34m()\u001b[0m\n\u001b[1;32m     22\u001b[0m \u001b[0m__minimum_python_version__\u001b[0m \u001b[0;34m=\u001b[0m \u001b[0;34m'3.5'\u001b[0m\u001b[0;34m\u001b[0m\u001b[0m\n\u001b[1;32m     23\u001b[0m \u001b[0;32mif\u001b[0m \u001b[0msys\u001b[0m\u001b[0;34m.\u001b[0m\u001b[0mversion_info\u001b[0m \u001b[0;34m<\u001b[0m \u001b[0mtuple\u001b[0m\u001b[0;34m(\u001b[0m\u001b[0;34m(\u001b[0m\u001b[0mint\u001b[0m\u001b[0;34m(\u001b[0m\u001b[0mval\u001b[0m\u001b[0;34m)\u001b[0m \u001b[0;32mfor\u001b[0m \u001b[0mval\u001b[0m \u001b[0;32min\u001b[0m \u001b[0m__minimum_python_version__\u001b[0m\u001b[0;34m.\u001b[0m\u001b[0msplit\u001b[0m\u001b[0;34m(\u001b[0m\u001b[0;34m'.'\u001b[0m\u001b[0;34m)\u001b[0m\u001b[0;34m)\u001b[0m\u001b[0;34m)\u001b[0m\u001b[0;34m:\u001b[0m\u001b[0;34m\u001b[0m\u001b[0m\n\u001b[0;32m---> 24\u001b[0;31m     \u001b[0;32mraise\u001b[0m \u001b[0mUnsupportedPythonError\u001b[0m\u001b[0;34m(\u001b[0m\u001b[0;34m\"Astropy does not support Python < {}\"\u001b[0m\u001b[0;34m.\u001b[0m\u001b[0mformat\u001b[0m\u001b[0;34m(\u001b[0m\u001b[0m__minimum_python_version__\u001b[0m\u001b[0;34m)\u001b[0m\u001b[0;34m)\u001b[0m\u001b[0;34m\u001b[0m\u001b[0m\n\u001b[0m\u001b[1;32m     25\u001b[0m \u001b[0;34m\u001b[0m\u001b[0m\n\u001b[1;32m     26\u001b[0m \u001b[0;34m\u001b[0m\u001b[0m\n",
      "\u001b[0;31mUnsupportedPythonError\u001b[0m: Astropy does not support Python < 3.5"
     ]
    }
   ],
   "source": [
    "import astropy\n",
    "from astropy.table import Table\n",
    "import numpy as np\n",
    "import matplotlib.pyplot as plt\n",
    "import glob\n",
    "import subprocess\n",
    "import os"
   ]
  },
  {
   "cell_type": "code",
   "execution_count": 2,
   "metadata": {},
   "outputs": [],
   "source": [
    "def pop_list(ls,indices):\n",
    "    for n,ind in enumerate(indices):\n",
    "        ls.pop(ind)\n",
    "    return(ls)"
   ]
  },
  {
   "cell_type": "code",
   "execution_count": 6,
   "metadata": {},
   "outputs": [],
   "source": [
    "aim_cat = Table.read('../../../../../HELP/dmu_products/dmu28/dmu28_Lockman-SWIRE/data/zspec/best_extcor_zspec/Lockman-SWIRE_cigale_best_extcor_zspec_20180219.fits')"
   ]
  },
  {
   "cell_type": "code",
   "execution_count": 7,
   "metadata": {},
   "outputs": [
    {
     "data": {
      "text/html": [
       "<i>Table length=1488</i>\n",
       "<table id=\"table140735855570840\" class=\"table-striped table-bordered table-condensed\">\n",
       "<thead><tr><th>id</th><th>ra</th><th>dec</th><th>ebv</th><th>redshift</th><th>stellarity</th><th>flag_gaia</th><th>wfc_u</th><th>wfc_u_err</th><th>megacam_u</th><th>megacam_u_err</th><th>megacam_g</th><th>megacam_g_err</th><th>gpc1_g</th><th>gpc1_g_err</th><th>wfc_g</th><th>wfc_g_err</th><th>gpc1_r</th><th>gpc1_r_err</th><th>wfc_r</th><th>wfc_r_err</th><th>megacam_r</th><th>megacam_r_err</th><th>gpc1_i</th><th>gpc1_i_err</th><th>megacam_i</th><th>megacam_i_err</th><th>megacam_y</th><th>megacam_y_err</th><th>wfc_i</th><th>wfc_i_err</th><th>gpc1_z</th><th>gpc1_z_err</th><th>wfc_z</th><th>wfc_z_err</th><th>megacam_z</th><th>megacam_z_err</th><th>gpc1_y</th><th>gpc1_y_err</th><th>ukidss_j</th><th>ukidss_j_err</th><th>ukidss_k</th><th>ukidss_k_err</th><th>irac_i1</th><th>irac_i1_err</th><th>irac_i2</th><th>irac_i2_err</th><th>irac_i3</th><th>irac_i3_err</th><th>irac_i4</th><th>irac_i4_err</th><th>mips_24</th><th>mips_24_err</th><th>pacs_green</th><th>pacs_green_err</th><th>pacs_red</th><th>pacs_red_err</th><th>spire_250</th><th>spire_250_err</th><th>spire_350</th><th>spire_350_err</th><th>spire_500</th><th>spire_500_err</th></tr></thead>\n",
       "<thead><tr><th></th><th>deg</th><th>deg</th><th></th><th></th><th></th><th></th><th></th><th></th><th></th><th></th><th></th><th></th><th></th><th></th><th></th><th></th><th></th><th></th><th></th><th></th><th></th><th></th><th></th><th></th><th></th><th></th><th></th><th></th><th></th><th></th><th></th><th></th><th></th><th></th><th></th><th></th><th></th><th></th><th></th><th></th><th></th><th></th><th></th><th></th><th></th><th></th><th>uJy</th><th>uJy</th><th>uJy</th><th>uJy</th><th>uJy</th><th></th><th>mJy</th><th></th><th>mJy</th><th></th><th>mJy</th><th></th><th>mJy</th><th></th><th>mJy</th><th></th></tr></thead>\n",
       "<thead><tr><th>bytes27</th><th>float64</th><th>float64</th><th>float64</th><th>float64</th><th>float64</th><th>int64</th><th>float32</th><th>float32</th><th>float32</th><th>float32</th><th>float64</th><th>float64</th><th>float64</th><th>float64</th><th>float32</th><th>float32</th><th>float64</th><th>float64</th><th>float32</th><th>float32</th><th>float64</th><th>float64</th><th>float64</th><th>float64</th><th>float32</th><th>float32</th><th>float32</th><th>float32</th><th>float32</th><th>float32</th><th>float64</th><th>float64</th><th>float32</th><th>float32</th><th>float64</th><th>float64</th><th>float64</th><th>float64</th><th>float64</th><th>float64</th><th>float32</th><th>float32</th><th>float64</th><th>float64</th><th>float64</th><th>float64</th><th>float64</th><th>float64</th><th>float64</th><th>float64</th><th>float32</th><th>float32</th><th>float32</th><th>float32</th><th>float32</th><th>float32</th><th>float32</th><th>float32</th><th>float32</th><th>float32</th><th>float32</th><th>float32</th></tr></thead>\n",
       "<tr><td>HELP_J103003.211+580101.315</td><td>157.51337716770252</td><td>58.01703196785325</td><td>0.007347816277883911</td><td>0.04587059</td><td>0.05000000074505806</td><td>3</td><td>nan</td><td>nan</td><td>0.25298518</td><td>0.00012147979</td><td>0.6148911505200724</td><td>0.00013883496375141104</td><td>nan</td><td>nan</td><td>nan</td><td>nan</td><td>nan</td><td>nan</td><td>nan</td><td>nan</td><td>0.9125458449071798</td><td>0.0002722285631347264</td><td>1.1205099114577999</td><td>0.005709177830354587</td><td>nan</td><td>nan</td><td>nan</td><td>nan</td><td>nan</td><td>nan</td><td>nan</td><td>nan</td><td>nan</td><td>nan</td><td>1.3853981399103317</td><td>0.0002933147132709644</td><td>1.2879774643211752</td><td>0.03276006201600093</td><td>1.4800558257634662</td><td>0.04442168306776924</td><td>nan</td><td>nan</td><td>1.080875107317789</td><td>0.002753426532957787</td><td>0.7363923948205129</td><td>0.006035675058811598</td><td>1.2655075045154345</td><td>0.013759867299610333</td><td>4.744907757773782</td><td>0.027333870309410587</td><td>0.31437847</td><td>0.28593168</td><td>108.97805</td><td>6.748877</td><td>105.17873</td><td>8.776975</td><td>nan</td><td>nan</td><td>nan</td><td>nan</td><td>nan</td><td>nan</td></tr>\n",
       "<tr><td>HELP_J103038.060+581923.103</td><td>157.65858294470252</td><td>58.32308429285325</td><td>0.010692287489885134</td><td>0.07595738</td><td>0.9</td><td>3</td><td>nan</td><td>nan</td><td>0.07255371</td><td>8.666364e-05</td><td>0.2974083593802311</td><td>5.2473937919488376e-05</td><td>nan</td><td>nan</td><td>nan</td><td>nan</td><td>nan</td><td>nan</td><td>nan</td><td>nan</td><td>0.6042570155026064</td><td>8.847879852305125e-05</td><td>nan</td><td>nan</td><td>nan</td><td>nan</td><td>nan</td><td>nan</td><td>0.8215929</td><td>0.024971599</td><td>nan</td><td>nan</td><td>nan</td><td>nan</td><td>1.1399869154605433</td><td>0.0002841229895481728</td><td>1.1153666841688208</td><td>0.026303778434014737</td><td>1.5148666994581956</td><td>0.017825203701579292</td><td>nan</td><td>nan</td><td>nan</td><td>nan</td><td>0.7441279149498571</td><td>0.0037050682742991903</td><td>0.6119084280365978</td><td>0.016617337519275483</td><td>1.8033614656961572</td><td>0.01407038851056196</td><td>0.3134199</td><td>0.29627702</td><td>71.61587</td><td>6.7045174</td><td>104.53911</td><td>9.1103945</td><td>nan</td><td>nan</td><td>nan</td><td>nan</td><td>nan</td><td>nan</td></tr>\n",
       "<tr><td>HELP_J103039.625+580611.495</td><td>157.66510562670248</td><td>58.10319312085325</td><td>0.008062807365960802</td><td>0.5044448</td><td>1.0</td><td>3</td><td>nan</td><td>nan</td><td>0.0077660377</td><td>3.0075173e-05</td><td>0.031049433696577245</td><td>3.489192287134655e-05</td><td>nan</td><td>nan</td><td>nan</td><td>nan</td><td>nan</td><td>nan</td><td>nan</td><td>nan</td><td>0.08963324464706608</td><td>6.403125189881046e-05</td><td>nan</td><td>nan</td><td>nan</td><td>nan</td><td>nan</td><td>nan</td><td>0.19930774</td><td>0.006057784</td><td>nan</td><td>nan</td><td>nan</td><td>nan</td><td>0.31118482859650703</td><td>0.00012975347925325492</td><td>0.44453381813158005</td><td>0.014533563715638147</td><td>0.622816929678787</td><td>0.013054528897806414</td><td>nan</td><td>nan</td><td>5.184379129597923</td><td>0.00564771179783522</td><td>6.722605699634033</td><td>0.004965122507536076</td><td>8.286910630095774</td><td>0.016202749278868576</td><td>10.772107952026806</td><td>0.010685949978928907</td><td>0.32493857</td><td>0.31351978</td><td>42.05565</td><td>7.185821</td><td>61.23733</td><td>7.9363017</td><td>nan</td><td>nan</td><td>nan</td><td>nan</td><td>nan</td><td>nan</td></tr>\n",
       "<tr><td>HELP_J103055.753+575949.966</td><td>157.7323035527025</td><td>57.99721266185325</td><td>0.00786072671295978</td><td>0.093</td><td>0.91</td><td>0</td><td>nan</td><td>nan</td><td>nan</td><td>nan</td><td>0.3562805470890438</td><td>0.00015109185836978178</td><td>nan</td><td>nan</td><td>nan</td><td>nan</td><td>nan</td><td>nan</td><td>nan</td><td>nan</td><td>0.6696226961185343</td><td>0.0001862385639047195</td><td>0.9207134966286934</td><td>0.0033055371065912552</td><td>nan</td><td>nan</td><td>nan</td><td>nan</td><td>nan</td><td>nan</td><td>1.0578414085539334</td><td>0.008095524867650765</td><td>nan</td><td>nan</td><td>nan</td><td>nan</td><td>1.144680294610679</td><td>0.008619870908410971</td><td>1.272688831568853</td><td>0.021220271211996006</td><td>nan</td><td>nan</td><td>1.1202914131410222</td><td>0.0028137458624653854</td><td>0.7506650589669494</td><td>0.0022923057233992265</td><td>0.7000370300898986</td><td>0.008226310775323755</td><td>1.7512106488454717</td><td>0.008484605888387783</td><td>3.0955198</td><td>0.03750722</td><td>134.96165</td><td>6.8796864</td><td>98.6426</td><td>9.011273</td><td>nan</td><td>nan</td><td>nan</td><td>nan</td><td>nan</td><td>nan</td></tr>\n",
       "<tr><td>HELP_J103115.722+581539.217</td><td>157.81550669070253</td><td>58.26089350485325</td><td>0.008437705041178472</td><td>0.09481014</td><td>0.03</td><td>3</td><td>nan</td><td>nan</td><td>0.18896592</td><td>0.00014551939</td><td>0.7634050375688328</td><td>8.855423356292394e-05</td><td>nan</td><td>nan</td><td>nan</td><td>nan</td><td>nan</td><td>nan</td><td>nan</td><td>nan</td><td>1.5381568595004371</td><td>0.00014544842560146692</td><td>nan</td><td>nan</td><td>nan</td><td>nan</td><td>nan</td><td>nan</td><td>1.6091624</td><td>0.048909083</td><td>nan</td><td>nan</td><td>nan</td><td>nan</td><td>2.718250960122883</td><td>0.0005264130911532112</td><td>2.7472112055476257</td><td>0.033500841956175184</td><td>3.10140283841167</td><td>0.025837894852487244</td><td>nan</td><td>nan</td><td>2.4062883893074547</td><td>0.004656653977684694</td><td>1.5759314437414256</td><td>0.005055458091190104</td><td>1.0491739219434064</td><td>0.014842221539831462</td><td>2.401389256351294</td><td>0.019811543912997817</td><td>0.30942196</td><td>0.31490958</td><td>17.295645</td><td>6.3744</td><td>65.643654</td><td>9.060922</td><td>nan</td><td>nan</td><td>nan</td><td>nan</td><td>15.684103</td><td>2.7783067</td></tr>\n",
       "<tr><td>HELP_J103116.837+580702.862</td><td>157.82015335070253</td><td>58.11746153485325</td><td>0.00716871891396703</td><td>0.0925888</td><td>0.03</td><td>0</td><td>nan</td><td>nan</td><td>0.098696</td><td>9.13759e-05</td><td>0.368817355960861</td><td>0.00010400035655507681</td><td>nan</td><td>nan</td><td>nan</td><td>nan</td><td>nan</td><td>nan</td><td>nan</td><td>nan</td><td>0.7046199762523565</td><td>0.00017847211130113703</td><td>nan</td><td>nan</td><td>nan</td><td>nan</td><td>nan</td><td>nan</td><td>0.93425953</td><td>0.028395997</td><td>nan</td><td>nan</td><td>nan</td><td>nan</td><td>1.3274868896324736</td><td>0.000265553497925855</td><td>1.4286910863953406</td><td>0.04228689947065845</td><td>1.5012342973516934</td><td>0.048234124203187866</td><td>nan</td><td>nan</td><td>1.1673973920471707</td><td>0.002693270025735338</td><td>0.8042477727732761</td><td>0.003092837199125615</td><td>0.5589810823710855</td><td>0.00965675619842993</td><td>2.3759362665738526</td><td>0.013356612524533396</td><td>2.027831</td><td>0.03890166</td><td>55.205166</td><td>7.520959</td><td>89.437454</td><td>8.64185</td><td>nan</td><td>nan</td><td>nan</td><td>nan</td><td>13.566669</td><td>2.9144168</td></tr>\n",
       "<tr><td>HELP_J103128.458+581125.422</td><td>157.8685749257025</td><td>58.19039487785325</td><td>0.006620542716410601</td><td>0.2375322</td><td>0.7</td><td>0</td><td>nan</td><td>nan</td><td>0.011353959</td><td>3.7348058e-05</td><td>0.035068682307937055</td><td>2.5747664170854483e-05</td><td>nan</td><td>nan</td><td>nan</td><td>nan</td><td>nan</td><td>nan</td><td>nan</td><td>nan</td><td>0.07519962325073572</td><td>3.654999497143957e-05</td><td>nan</td><td>nan</td><td>nan</td><td>nan</td><td>nan</td><td>nan</td><td>0.10657725</td><td>0.0033374834</td><td>nan</td><td>nan</td><td>nan</td><td>nan</td><td>0.1442150043536024</td><td>0.00014576562161057043</td><td>0.11834355332579291</td><td>0.008138041572797424</td><td>0.2146591303753467</td><td>0.01487391783340741</td><td>nan</td><td>nan</td><td>0.1881409729946824</td><td>0.00135151552994637</td><td>0.17765051039439947</td><td>0.0018515686998852904</td><td>0.10373702990423371</td><td>0.00631407985623338</td><td>0.5854776958176633</td><td>0.008543906499005218</td><td>0.289866</td><td>0.32139406</td><td>41.04995</td><td>6.445001</td><td>57.8088</td><td>8.73677</td><td>nan</td><td>nan</td><td>nan</td><td>nan</td><td>6.0407653</td><td>2.7487135</td></tr>\n",
       "<tr><td>HELP_J103130.456+582111.442</td><td>157.8769006307025</td><td>58.35317825885325</td><td>0.008239844946388868</td><td>0.09267955</td><td>0.03</td><td>0</td><td>nan</td><td>nan</td><td>0.09707252</td><td>8.806967e-05</td><td>0.271144632827502</td><td>5.0338218002854306e-05</td><td>nan</td><td>nan</td><td>nan</td><td>nan</td><td>nan</td><td>nan</td><td>nan</td><td>nan</td><td>0.4305851323852252</td><td>7.684395094100217e-05</td><td>nan</td><td>nan</td><td>nan</td><td>nan</td><td>nan</td><td>nan</td><td>0.54507303</td><td>0.016567018</td><td>nan</td><td>nan</td><td>nan</td><td>nan</td><td>0.6662281633827752</td><td>0.0002717852896527138</td><td>0.7288417262264223</td><td>0.02572107261789443</td><td>0.5827706403998675</td><td>0.028764621565848383</td><td>nan</td><td>nan</td><td>0.5566467639115936</td><td>0.002383325774209065</td><td>0.3768773566790677</td><td>0.0028830397026023027</td><td>0.4563369539364141</td><td>0.011459214690817248</td><td>2.301939864478872</td><td>0.013567720390646694</td><td>0.29175285</td><td>0.31714624</td><td>47.429775</td><td>6.7022076</td><td>56.66636</td><td>8.024761</td><td>nan</td><td>nan</td><td>nan</td><td>nan</td><td>nan</td><td>nan</td></tr>\n",
       "<tr><td>HELP_J103150.561+580754.924</td><td>157.96067150370249</td><td>58.13192324985325</td><td>0.006468109144124041</td><td>0.09267963</td><td>0.41</td><td>3</td><td>nan</td><td>nan</td><td>0.098612644</td><td>9.631072e-05</td><td>0.4834138644442824</td><td>0.00012462134304865632</td><td>nan</td><td>nan</td><td>nan</td><td>nan</td><td>nan</td><td>nan</td><td>nan</td><td>nan</td><td>1.0399516030356577</td><td>0.0002231594561962875</td><td>nan</td><td>nan</td><td>nan</td><td>nan</td><td>nan</td><td>nan</td><td>1.2763003</td><td>0.03879202</td><td>nan</td><td>nan</td><td>nan</td><td>nan</td><td>2.1054914087646703</td><td>0.0003536630170734522</td><td>2.087127933163333</td><td>0.03363668224958138</td><td>2.540884418668063</td><td>0.025762223225556158</td><td>nan</td><td>nan</td><td>1.8274720899747563</td><td>0.0032635754152726174</td><td>1.1196167389186495</td><td>0.00326270063098338</td><td>0.757077927865854</td><td>0.011707390637100834</td><td>0.7431019446419213</td><td>0.010684772902480875</td><td>0.36812437</td><td>0.02373064</td><td>25.817986</td><td>7.428729</td><td>39.44753</td><td>9.578072</td><td>9.489078</td><td>3.7645917</td><td>nan</td><td>nan</td><td>nan</td><td>nan</td></tr>\n",
       "<tr><td>...</td><td>...</td><td>...</td><td>...</td><td>...</td><td>...</td><td>...</td><td>...</td><td>...</td><td>...</td><td>...</td><td>...</td><td>...</td><td>...</td><td>...</td><td>...</td><td>...</td><td>...</td><td>...</td><td>...</td><td>...</td><td>...</td><td>...</td><td>...</td><td>...</td><td>...</td><td>...</td><td>...</td><td>...</td><td>...</td><td>...</td><td>...</td><td>...</td><td>...</td><td>...</td><td>...</td><td>...</td><td>...</td><td>...</td><td>...</td><td>...</td><td>...</td><td>...</td><td>...</td><td>...</td><td>...</td><td>...</td><td>...</td><td>...</td><td>...</td><td>...</td><td>...</td><td>...</td><td>...</td><td>...</td><td>...</td><td>...</td><td>...</td><td>...</td><td>...</td><td>...</td><td>...</td><td>...</td></tr>\n",
       "<tr><td>HELP_J110223.968+573737.209</td><td>165.59986613270252</td><td>57.62700236385325</td><td>0.006931911627715676</td><td>0.7314013</td><td>0.49</td><td>0</td><td>nan</td><td>nan</td><td>0.009066699</td><td>3.593305e-05</td><td>0.015173546604404333</td><td>2.666065781536629e-05</td><td>nan</td><td>nan</td><td>nan</td><td>nan</td><td>nan</td><td>nan</td><td>nan</td><td>nan</td><td>0.027372949469551804</td><td>4.464621351169503e-05</td><td>nan</td><td>nan</td><td>nan</td><td>nan</td><td>nan</td><td>nan</td><td>0.042256508</td><td>0.001829225</td><td>nan</td><td>nan</td><td>nan</td><td>nan</td><td>0.06376578218060766</td><td>8.690556655322662e-05</td><td>0.05304209739015269</td><td>0.004756872738464515</td><td>0.05675551426072068</td><td>0.011215679060253033</td><td>nan</td><td>nan</td><td>0.16398252583812709</td><td>0.0017520570255615264</td><td>0.12263878741385086</td><td>0.0022319798900913034</td><td>0.10325985848129933</td><td>0.006874650913523853</td><td>0.08549092663240186</td><td>0.0062629982529998325</td><td>0.2975138</td><td>0.3415927</td><td>37.48335</td><td>8.249799</td><td>nan</td><td>nan</td><td>34.302917</td><td>2.35653</td><td>nan</td><td>nan</td><td>16.718313</td><td>2.7217703</td></tr>\n",
       "<tr><td>HELP_J110224.146+573512.810</td><td>165.60060688470253</td><td>57.58689158985325</td><td>0.00688801484674638</td><td>1.619892</td><td>0.999657154083252</td><td>3</td><td>nan</td><td>nan</td><td>0.06389843</td><td>6.72397e-05</td><td>0.06427230792251254</td><td>3.357166396266598e-05</td><td>nan</td><td>nan</td><td>nan</td><td>nan</td><td>nan</td><td>nan</td><td>nan</td><td>nan</td><td>0.07409946343916163</td><td>5.692302174769728e-05</td><td>nan</td><td>nan</td><td>nan</td><td>nan</td><td>nan</td><td>nan</td><td>0.08942542</td><td>0.0032945545</td><td>nan</td><td>nan</td><td>nan</td><td>nan</td><td>0.10435739352588638</td><td>7.471417974427313e-05</td><td>0.08950324177016909</td><td>0.005318410826667049</td><td>0.13171036054974125</td><td>0.012194930641891262</td><td>nan</td><td>nan</td><td>0.16851659696255938</td><td>0.0011813782344095773</td><td>0.27821523021719924</td><td>0.0018216056372820902</td><td>0.4863269323703205</td><td>0.00701471562945668</td><td>0.7757590239370991</td><td>0.007183417108640002</td><td>0.3270102</td><td>0.28728238</td><td>20.387106</td><td>6.237679</td><td>51.098476</td><td>8.913729</td><td>nan</td><td>nan</td><td>nan</td><td>nan</td><td>8.552189</td><td>2.9556477</td></tr>\n",
       "<tr><td>HELP_J110224.227+574453.728</td><td>165.6009468987025</td><td>57.74825773685325</td><td>0.0067471933669327215</td><td>0.2265021</td><td>0.06</td><td>0</td><td>nan</td><td>nan</td><td>0.019575763</td><td>4.289759e-05</td><td>0.059176757980588135</td><td>3.6894520309233235e-05</td><td>nan</td><td>nan</td><td>nan</td><td>nan</td><td>nan</td><td>nan</td><td>nan</td><td>nan</td><td>0.12024196807170924</td><td>7.478388319660407e-05</td><td>nan</td><td>nan</td><td>nan</td><td>nan</td><td>nan</td><td>nan</td><td>0.15295285</td><td>0.0054941163</td><td>nan</td><td>nan</td><td>nan</td><td>nan</td><td>0.21502206854260164</td><td>0.0001135544312892953</td><td>0.20417765593227957</td><td>0.009225769161215184</td><td>0.24100797608501687</td><td>0.022559429076609114</td><td>nan</td><td>nan</td><td>0.23458808612591545</td><td>0.001671910651375379</td><td>0.21119234936696127</td><td>0.0020117369898468894</td><td>0.15866448197839814</td><td>0.007574988197379375</td><td>0.7085201498482433</td><td>0.008844121104023595</td><td>nan</td><td>nan</td><td>48.72214</td><td>10.21734</td><td>nan</td><td>nan</td><td>nan</td><td>nan</td><td>nan</td><td>nan</td><td>6.2509065</td><td>2.9997637</td></tr>\n",
       "<tr><td>HELP_J110234.174+575940.041</td><td>165.6423901595025</td><td>57.9944559553686</td><td>0.007575668596736628</td><td>0.1352675</td><td>0.03</td><td>0</td><td>nan</td><td>nan</td><td>0.10449273</td><td>0.00011076745</td><td>0.37336574958611923</td><td>0.00010699878846871857</td><td>nan</td><td>nan</td><td>nan</td><td>nan</td><td>nan</td><td>nan</td><td>nan</td><td>nan</td><td>0.7002786233433882</td><td>0.00020660723685335036</td><td>0.9177155775769266</td><td>0.004734230068866785</td><td>nan</td><td>nan</td><td>nan</td><td>nan</td><td>nan</td><td>nan</td><td>nan</td><td>nan</td><td>nan</td><td>nan</td><td>1.2677881193809482</td><td>0.0002779324167675007</td><td>1.1617205158558361</td><td>0.030958921078734974</td><td>1.5730688137333153</td><td>0.04546694293398633</td><td>nan</td><td>nan</td><td>nan</td><td>nan</td><td>1.1269624720024523</td><td>0.004624482951540879</td><td>nan</td><td>nan</td><td>5.5662621110635575</td><td>0.018319584288885964</td><td>nan</td><td>nan</td><td>138.13193</td><td>9.676564</td><td>174.90126</td><td>12.093738</td><td>nan</td><td>nan</td><td>nan</td><td>nan</td><td>nan</td><td>nan</td></tr>\n",
       "<tr><td>HELP_J110244.108+574516.453</td><td>165.6837835627025</td><td>57.75457015085325</td><td>0.006700185561010099</td><td>0.4585219</td><td>0.38</td><td>0</td><td>nan</td><td>nan</td><td>0.0006774205</td><td>2.5587642e-05</td><td>0.005784184981923311</td><td>2.4829094018668822e-05</td><td>nan</td><td>nan</td><td>nan</td><td>nan</td><td>nan</td><td>nan</td><td>nan</td><td>nan</td><td>0.024739651389035187</td><td>3.790175420939101e-05</td><td>nan</td><td>nan</td><td>nan</td><td>nan</td><td>nan</td><td>nan</td><td>0.04270937</td><td>0.0017701552</td><td>nan</td><td>nan</td><td>nan</td><td>nan</td><td>0.06732088401534471</td><td>8.977280090761102e-05</td><td>0.06843286871486899</td><td>0.005995885753423236</td><td>0.09605539738899718</td><td>0.015472206688369803</td><td>nan</td><td>nan</td><td>0.13072835547830092</td><td>0.0015918064421082743</td><td>0.11118533196747253</td><td>0.002151845024125177</td><td>nan</td><td>nan</td><td>nan</td><td>nan</td><td>0.18302275</td><td>0.03667485</td><td>nan</td><td>nan</td><td>nan</td><td>nan</td><td>11.588414</td><td>3.5491004</td><td>12.891677</td><td>5.245211</td><td>nan</td><td>nan</td></tr>\n",
       "<tr><td>HELP_J110251.489+575212.194</td><td>165.7145356227025</td><td>57.87005385385325</td><td>0.006439992926325853</td><td>0.1408649</td><td>0.03</td><td>0</td><td>nan</td><td>nan</td><td>0.051095963</td><td>6.547561e-05</td><td>0.16388939151399462</td><td>6.0156147160145775e-05</td><td>nan</td><td>nan</td><td>nan</td><td>nan</td><td>nan</td><td>nan</td><td>nan</td><td>nan</td><td>0.3059276449074466</td><td>0.00011849259662989893</td><td>nan</td><td>nan</td><td>nan</td><td>nan</td><td>nan</td><td>nan</td><td>0.40061915</td><td>0.014390372</td><td>nan</td><td>nan</td><td>nan</td><td>nan</td><td>0.5289886218483033</td><td>0.00017653002064338432</td><td>0.504724957074151</td><td>0.009630223566955653</td><td>0.7031837337281294</td><td>0.028427103737162687</td><td>nan</td><td>nan</td><td>0.4813450473015327</td><td>0.0027029483542991943</td><td>0.35154972342572527</td><td>0.0023219135635930152</td><td>0.23708901907206834</td><td>0.008525358497906737</td><td>1.1587953858546574</td><td>0.009784351688416055</td><td>0.926855</td><td>0.01793244</td><td>72.84015</td><td>10.844103</td><td>72.0732</td><td>15.971995</td><td>22.320938</td><td>3.1601431</td><td>nan</td><td>nan</td><td>nan</td><td>nan</td></tr>\n",
       "<tr><td>HELP_J110308.546+574502.819</td><td>165.78560685770253</td><td>57.75078316285325</td><td>0.006171395132080238</td><td>0.4948809</td><td>0.58</td><td>0</td><td>nan</td><td>nan</td><td>0.00089797797</td><td>2.7323918e-05</td><td>0.005369317929814211</td><td>2.3797404902933366e-05</td><td>nan</td><td>nan</td><td>nan</td><td>nan</td><td>nan</td><td>nan</td><td>nan</td><td>nan</td><td>0.025487094047748165</td><td>4.5501863857490725e-05</td><td>nan</td><td>nan</td><td>nan</td><td>nan</td><td>nan</td><td>nan</td><td>0.04075066</td><td>0.0017640389</td><td>nan</td><td>nan</td><td>nan</td><td>nan</td><td>0.08000759748230976</td><td>9.09952139520369e-05</td><td>0.057343077690941734</td><td>0.005128963127196297</td><td>0.17425421955116965</td><td>0.01826164181589044</td><td>nan</td><td>nan</td><td>0.17813620956095166</td><td>0.0018719567961729682</td><td>0.12089547998547225</td><td>0.0020816440262399196</td><td>0.05186123754882053</td><td>0.0051230857852587516</td><td>nan</td><td>nan</td><td>0.27708003</td><td>0.3013159</td><td>nan</td><td>nan</td><td>93.036</td><td>24.503473</td><td>nan</td><td>nan</td><td>nan</td><td>nan</td><td>10.096322</td><td>3.9689062</td></tr>\n",
       "<tr><td>HELP_J110349.155+575502.003</td><td>165.95481181270253</td><td>57.91722305585325</td><td>0.005910378899162433</td><td>0.5908325</td><td>0.49</td><td>0</td><td>nan</td><td>nan</td><td>0.00080125785</td><td>2.2036478e-05</td><td>0.005522745736008451</td><td>2.174565788502422e-05</td><td>nan</td><td>nan</td><td>nan</td><td>nan</td><td>nan</td><td>nan</td><td>nan</td><td>nan</td><td>0.023963281592814363</td><td>3.972719572916983e-05</td><td>nan</td><td>nan</td><td>nan</td><td>nan</td><td>nan</td><td>nan</td><td>0.046210684</td><td>0.0019152726</td><td>nan</td><td>nan</td><td>nan</td><td>nan</td><td>0.09375019197329942</td><td>8.738785298544665e-05</td><td>0.0789569404046542</td><td>0.007652030122699361</td><td>0.11794520911314778</td><td>0.013949005536587636</td><td>nan</td><td>nan</td><td>nan</td><td>nan</td><td>0.1656452912090336</td><td>0.0030122784348670315</td><td>nan</td><td>nan</td><td>0.06963842579103807</td><td>0.006052470565088067</td><td>0.26420882</td><td>0.035088286</td><td>nan</td><td>nan</td><td>nan</td><td>nan</td><td>11.136204</td><td>4.386209</td><td>17.911695</td><td>3.4968388</td><td>13.669876</td><td>4.5332055</td></tr>\n",
       "<tr><td>HELP_J110406.504+575018.362</td><td>166.02709865370252</td><td>57.83843387385325</td><td>0.0055098131136884125</td><td>0.5139428</td><td>0.43</td><td>0</td><td>nan</td><td>nan</td><td>nan</td><td>nan</td><td>nan</td><td>nan</td><td>0.011427749990384765</td><td>0.0013717578899619114</td><td>nan</td><td>nan</td><td>nan</td><td>nan</td><td>0.03926784</td><td>0.0010850105</td><td>nan</td><td>nan</td><td>nan</td><td>nan</td><td>nan</td><td>nan</td><td>nan</td><td>nan</td><td>0.0461369</td><td>0.0019547082</td><td>0.06905815530715091</td><td>0.0018009730865129248</td><td>nan</td><td>nan</td><td>nan</td><td>nan</td><td>0.07929219651842813</td><td>0.006035193358416853</td><td>0.1959144286077148</td><td>0.021747615722243215</td><td>nan</td><td>nan</td><td>nan</td><td>nan</td><td>0.24563320533319427</td><td>0.0025417923146187297</td><td>nan</td><td>nan</td><td>0.14108368685548842</td><td>0.008293155811047287</td><td>0.30229312</td><td>0.30451813</td><td>nan</td><td>nan</td><td>nan</td><td>nan</td><td>17.582058</td><td>3.6821263</td><td>7.386797</td><td>3.4044256</td><td>nan</td><td>nan</td></tr>\n",
       "<tr><td>HELP_J110413.016+574502.264</td><td>166.0542331487025</td><td>57.75062902685325</td><td>0.00519198698043251</td><td>3.419323</td><td>0.999657154083252</td><td>0</td><td>nan</td><td>nan</td><td>nan</td><td>1.4705607e-05</td><td>nan</td><td>1.5411560673428893e-05</td><td>nan</td><td>nan</td><td>0.008588065</td><td>0.00030057618</td><td>nan</td><td>nan</td><td>nan</td><td>nan</td><td>0.014674532513595415</td><td>2.7034706342973605e-05</td><td>nan</td><td>nan</td><td>nan</td><td>nan</td><td>nan</td><td>nan</td><td>0.0114766415</td><td>0.000866771</td><td>nan</td><td>nan</td><td>nan</td><td>nan</td><td>0.01785006956879002</td><td>3.965740579487606e-05</td><td>0.009170477502360101</td><td>0.005078046914430095</td><td>nan</td><td>nan</td><td>nan</td><td>nan</td><td>nan</td><td>nan</td><td>0.03468304607541073</td><td>0.0018912566959759455</td><td>nan</td><td>nan</td><td>0.032661712014621806</td><td>0.004591646497614521</td><td>0.29400524</td><td>0.31454822</td><td>nan</td><td>nan</td><td>nan</td><td>nan</td><td>5.7013025</td><td>2.5951872</td><td>10.118891</td><td>2.944203</td><td>7.5350084</td><td>2.9203064</td></tr>\n",
       "</table>"
      ],
      "text/plain": [
       "<Table length=1488>\n",
       "             id                     ra         ... spire_500 spire_500_err\n",
       "                                   deg         ...    mJy                 \n",
       "          bytes27                float64       ...  float32     float32   \n",
       "--------------------------- ------------------ ... --------- -------------\n",
       "HELP_J103003.211+580101.315 157.51337716770252 ...       nan           nan\n",
       "HELP_J103038.060+581923.103 157.65858294470252 ...       nan           nan\n",
       "HELP_J103039.625+580611.495 157.66510562670248 ...       nan           nan\n",
       "HELP_J103055.753+575949.966  157.7323035527025 ...       nan           nan\n",
       "HELP_J103115.722+581539.217 157.81550669070253 ... 15.684103     2.7783067\n",
       "HELP_J103116.837+580702.862 157.82015335070253 ... 13.566669     2.9144168\n",
       "HELP_J103128.458+581125.422  157.8685749257025 ... 6.0407653     2.7487135\n",
       "HELP_J103130.456+582111.442  157.8769006307025 ...       nan           nan\n",
       "HELP_J103150.561+580754.924 157.96067150370249 ...       nan           nan\n",
       "                        ...                ... ...       ...           ...\n",
       "HELP_J110223.968+573737.209 165.59986613270252 ... 16.718313     2.7217703\n",
       "HELP_J110224.146+573512.810 165.60060688470253 ...  8.552189     2.9556477\n",
       "HELP_J110224.227+574453.728  165.6009468987025 ... 6.2509065     2.9997637\n",
       "HELP_J110234.174+575940.041  165.6423901595025 ...       nan           nan\n",
       "HELP_J110244.108+574516.453  165.6837835627025 ...       nan           nan\n",
       "HELP_J110251.489+575212.194  165.7145356227025 ...       nan           nan\n",
       "HELP_J110308.546+574502.819 165.78560685770253 ... 10.096322     3.9689062\n",
       "HELP_J110349.155+575502.003 165.95481181270253 ... 13.669876     4.5332055\n",
       "HELP_J110406.504+575018.362 166.02709865370252 ...       nan           nan\n",
       "HELP_J110413.016+574502.264  166.0542331487025 ... 7.5350084     2.9203064"
      ]
     },
     "execution_count": 7,
     "metadata": {},
     "output_type": "execute_result"
    }
   ],
   "source": [
    "aim_cat"
   ]
  },
  {
   "cell_type": "code",
   "execution_count": 3,
   "metadata": {},
   "outputs": [],
   "source": [
    "#photz = Table.read('data/photz/Bootes_opt_spitzer_merged_vac_opt3as_irac4as_all_hpx_public.fits')\n",
    "photz = Table.read('/beegfs/lofar/deepfields/science_ready_catalogs/Bootes_opt_spitzer_merged_vac_opt3as_irac4as_all_hpx_public.fits')"
   ]
  },
  {
   "cell_type": "code",
   "execution_count": 4,
   "metadata": {},
   "outputs": [
    {
     "data": {
      "text/html": [
       "<i>Row index=0 masked=True</i>\n",
       "<table id=\"table4782179384\">\n",
       "<thead><tr><th>ID</th><th>ID_OPTICAL</th><th>ID_SPITZER</th><th>RA</th><th>DEC</th><th>help_id</th><th>RA_HELP</th><th>DEC_HELP</th><th>EBV</th><th>Z_SPEC</th><th>Z_SOURCE</th><th>Z_QUAL</th><th>RA_ZSPEC</th><th>DEC_ZSPEC</th><th>REL</th><th>OBJID</th><th>CLASS_STAR</th><th>FLAG_DEEP</th><th>FLAG_OVERLAP</th><th>FLAG_CLEAN</th><th>FUV_flux</th><th>FUV_fluxerr</th><th>NUV_flux</th><th>NUV_fluxerr</th><th>u_flux</th><th>u_fluxerr</th><th>Bw_flux</th><th>Bw_fluxerr</th><th>R_flux</th><th>R_fluxerr</th><th>I_flux</th><th>I_fluxerr</th><th>z_flux</th><th>z_fluxerr</th><th>z_Subaru_flux</th><th>z_Subaru_fluxerr</th><th>y_flux</th><th>y_fluxerr</th><th>J_flux</th><th>J_fluxerr</th><th>H_flux</th><th>H_fluxerr</th><th>K_flux</th><th>K_fluxerr</th><th>Ks_flux</th><th>Ks_fluxerr</th><th>ch1_flux</th><th>ch1_fluxerr</th><th>ch2_flux</th><th>ch2_fluxerr</th><th>ch3_flux</th><th>ch3_fluxerr</th><th>ch4_flux</th><th>ch4_fluxerr</th><th>F_MIPS_24</th><th>FErr_MIPS_24_u</th><th>FErr_MIPS_24_l</th><th>Bkg_MIPS_24</th><th>Sig_conf_MIPS_24</th><th>Rhat_MIPS_24</th><th>n_eff_MIPS_24</th><th>Pval_res_24</th><th>flag_mips_24</th><th>F_PACS_100</th><th>FErr_PACS_100_u</th><th>FErr_PACS_100_l</th><th>F_PACS_160</th><th>FErr_PACS_160_u</th><th>FErr_PACS_160_l</th><th>Bkg_PACS_100</th><th>Bkg_PACS_160</th><th>Sig_conf_PACS_100</th><th>Sig_conf_PACS_160</th><th>Rhat_PACS_100</th><th>Rhat_PACS_160</th><th>n_eff_PACS_100</th><th>n_eff_PACS_160</th><th>Pval_res_100</th><th>Pval_res_160</th><th>flag_PACS_100</th><th>flag_PACS_160</th><th>F_SPIRE_250</th><th>FErr_SPIRE_250_u</th><th>FErr_SPIRE_250_l</th><th>F_SPIRE_350</th><th>FErr_SPIRE_350_u</th><th>FErr_SPIRE_350_l</th><th>F_SPIRE_500</th><th>FErr_SPIRE_500_u</th><th>FErr_SPIRE_500_l</th><th>Bkg_SPIRE_250</th><th>Bkg_SPIRE_350</th><th>Bkg_SPIRE_500</th><th>Sig_conf_SPIRE_250</th><th>Sig_conf_SPIRE_350</th><th>Sig_conf_SPIRE_500</th><th>Rhat_SPIRE_250</th><th>Rhat_SPIRE_350</th><th>Rhat_SPIRE_500</th><th>n_eff_SPIRE_250</th><th>n_eff_SPIRE_500</th><th>n_eff_SPIRE_350</th><th>Pval_res_250</th><th>Pval_res_350</th><th>Pval_res_500</th><th>flag_spire_250</th><th>flag_spire_350</th><th>flag_spire_500</th><th>AGN</th><th>optAGN</th><th>IRAGN</th><th>AGN_ZSPEC</th><th>XrayAGN</th><th>XrayFlux_0.5-2</th><th>XrayHardness</th><th>z1_median</th><th>z1_min</th><th>z1_max</th><th>z1_area</th><th>z2_median</th><th>z2_min</th><th>z2_max</th><th>z2_area</th><th>nfilt_eazy</th><th>nfilt_atlas</th><th>nfilt_ananna</th><th>chi_r_best</th><th>chi_r_stellar</th><th>stellar_type</th><th>hp_idx_11</th><th>hp_depth_cluster</th></tr></thead>\n",
       "<thead><tr><th></th><th></th><th></th><th>deg</th><th>deg</th><th></th><th>deg</th><th>deg</th><th></th><th></th><th></th><th></th><th></th><th></th><th></th><th></th><th></th><th></th><th></th><th></th><th>uJy</th><th>uJy</th><th>uJy</th><th>uJy</th><th>uJy</th><th>uJy</th><th>uJy</th><th>uJy</th><th>uJy</th><th>uJy</th><th>uJy</th><th>uJy</th><th>uJy</th><th>uJy</th><th>uJy</th><th>uJy</th><th>uJy</th><th>uJy</th><th>uJy</th><th>uJy</th><th>uJy</th><th>uJy</th><th>uJy</th><th>uJy</th><th>uJy</th><th>uJy</th><th>uJy</th><th>uJy</th><th>uJy</th><th>uJy</th><th>uJy</th><th>uJy</th><th>uJy</th><th>uJy</th><th>muJy</th><th>muJy</th><th>muJy</th><th>MJy / sr</th><th>MJy / sr</th><th></th><th></th><th></th><th></th><th>mJy</th><th>mJy</th><th>mJy</th><th>mJy</th><th>mJy</th><th>mJy</th><th>mJy/Beam</th><th>mJy/Beam</th><th>mJy/Beam</th><th>mJy/Beam</th><th></th><th></th><th></th><th></th><th></th><th></th><th></th><th></th><th>mJy</th><th>mJy</th><th>mJy</th><th>mJy</th><th>mJy</th><th>mJy</th><th>mJy</th><th>mJy</th><th>mJy</th><th>mJy/Beam</th><th>mJy/Beam</th><th>mJy/Beam</th><th>mJy/Beam</th><th>mJy/Beam</th><th>mJy/Beam</th><th></th><th></th><th></th><th></th><th></th><th></th><th></th><th></th><th></th><th></th><th></th><th></th><th></th><th></th><th></th><th></th><th></th><th></th><th></th><th></th><th></th><th></th><th></th><th></th><th></th><th></th><th></th><th></th><th></th><th></th><th></th><th></th><th></th><th>deg</th><th></th></tr></thead>\n",
       "<thead><tr><th>int64</th><th>int64</th><th>int64</th><th>float64</th><th>float64</th><th>bytes27</th><th>float64</th><th>float64</th><th>float32</th><th>float64</th><th>int64</th><th>int64</th><th>float64</th><th>float64</th><th>float64</th><th>bytes25</th><th>float32</th><th>int64</th><th>int64</th><th>int64</th><th>float64</th><th>float64</th><th>float64</th><th>float64</th><th>float64</th><th>float64</th><th>float64</th><th>float64</th><th>float64</th><th>float64</th><th>float64</th><th>float64</th><th>float64</th><th>float64</th><th>float64</th><th>float64</th><th>float64</th><th>float64</th><th>float64</th><th>float64</th><th>float64</th><th>float64</th><th>float64</th><th>float64</th><th>float64</th><th>float64</th><th>float64</th><th>float64</th><th>float64</th><th>float64</th><th>float64</th><th>float64</th><th>float64</th><th>float64</th><th>float32</th><th>float32</th><th>float32</th><th>float32</th><th>float32</th><th>float32</th><th>float32</th><th>float32</th><th>bool</th><th>float32</th><th>float32</th><th>float32</th><th>float32</th><th>float32</th><th>float32</th><th>float32</th><th>float32</th><th>float32</th><th>float32</th><th>float32</th><th>float32</th><th>float32</th><th>float32</th><th>float32</th><th>float32</th><th>bool</th><th>bool</th><th>float32</th><th>float32</th><th>float32</th><th>float32</th><th>float32</th><th>float32</th><th>float32</th><th>float32</th><th>float32</th><th>float32</th><th>float32</th><th>float32</th><th>float32</th><th>float32</th><th>float32</th><th>float32</th><th>float32</th><th>float32</th><th>float32</th><th>float32</th><th>float32</th><th>float32</th><th>float32</th><th>float32</th><th>bool</th><th>bool</th><th>bool</th><th>int64</th><th>float64</th><th>float64</th><th>int64</th><th>float64</th><th>float64</th><th>float64</th><th>float64</th><th>float64</th><th>float64</th><th>float64</th><th>float64</th><th>float64</th><th>float64</th><th>float64</th><th>int64</th><th>int64</th><th>int64</th><th>float64</th><th>float64</th><th>bytes6</th><th>int64</th><th>int32</th></tr></thead>\n",
       "<tr><td>0</td><td>1</td><td>--</td><td>216.473863</td><td>32.2825963</td><td>N/A</td><td>nan</td><td>nan</td><td>0.01093379</td><td>nan</td><td>--</td><td>--</td><td>nan</td><td>nan</td><td>nan</td><td>N/A</td><td>0.64</td><td>0</td><td>0</td><td>1</td><td>-99.0</td><td>-99.0</td><td>-99.0</td><td>-99.0</td><td>0.10352171485738193</td><td>0.09050546420954841</td><td>-99.0</td><td>-99.0</td><td>-99.0</td><td>-99.0</td><td>1.2489124884509977</td><td>0.17990861652974743</td><td>-99.0</td><td>-99.0</td><td>-99.0</td><td>-99.0</td><td>-99.0</td><td>-99.0</td><td>-99.0</td><td>-99.0</td><td>-99.0</td><td>-99.0</td><td>-99.0</td><td>-99.0</td><td>-99.0</td><td>-99.0</td><td>-0.49297147310738154</td><td>0.9599805695282839</td><td>0.20943547943156204</td><td>1.134281811727078</td><td>7.514107605812171</td><td>4.5540334671514415</td><td>7.615719616676927</td><td>4.989334194948697</td><td>nan</td><td>nan</td><td>nan</td><td>nan</td><td>nan</td><td>nan</td><td>nan</td><td>nan</td><td>True</td><td>nan</td><td>nan</td><td>nan</td><td>nan</td><td>nan</td><td>nan</td><td>nan</td><td>nan</td><td>nan</td><td>nan</td><td>nan</td><td>nan</td><td>nan</td><td>nan</td><td>nan</td><td>nan</td><td>True</td><td>True</td><td>nan</td><td>nan</td><td>nan</td><td>nan</td><td>nan</td><td>nan</td><td>nan</td><td>nan</td><td>nan</td><td>nan</td><td>nan</td><td>nan</td><td>nan</td><td>nan</td><td>nan</td><td>nan</td><td>nan</td><td>nan</td><td>nan</td><td>nan</td><td>nan</td><td>nan</td><td>nan</td><td>nan</td><td>True</td><td>True</td><td>True</td><td>0</td><td>0.0</td><td>0.0</td><td>--</td><td>0.0</td><td>-99.0</td><td>-99.0</td><td>3.6887</td><td>2.88</td><td>4.63</td><td>0.379</td><td>0.3205</td><td>0.0</td><td>0.81</td><td>0.3</td><td>6</td><td>6</td><td>-99</td><td>0.9076026</td><td>-99.0</td><td></td><td>9355052</td><td>38</td></tr>\n",
       "</table>"
      ],
      "text/plain": [
       "<Row index=0 masked=True>\n",
       "  ID  ID_OPTICAL ID_SPITZER     RA        DEC     help_id RA_HELP DEC_HELP    EBV      Z_SPEC Z_SOURCE Z_QUAL RA_ZSPEC DEC_ZSPEC   REL    OBJID  CLASS_STAR FLAG_DEEP FLAG_OVERLAP FLAG_CLEAN FUV_flux FUV_fluxerr NUV_flux NUV_fluxerr        u_flux            u_fluxerr      Bw_flux Bw_fluxerr  R_flux R_fluxerr       I_flux            I_fluxerr       z_flux z_fluxerr z_Subaru_flux z_Subaru_fluxerr  y_flux y_fluxerr  J_flux J_fluxerr  H_flux H_fluxerr  K_flux K_fluxerr Ks_flux Ks_fluxerr       ch1_flux          ch1_fluxerr           ch2_flux         ch2_fluxerr         ch3_flux        ch3_fluxerr          ch4_flux        ch4_fluxerr    F_MIPS_24 FErr_MIPS_24_u FErr_MIPS_24_l Bkg_MIPS_24 Sig_conf_MIPS_24 Rhat_MIPS_24 n_eff_MIPS_24 Pval_res_24 flag_mips_24 F_PACS_100 FErr_PACS_100_u FErr_PACS_100_l F_PACS_160 FErr_PACS_160_u FErr_PACS_160_l Bkg_PACS_100 Bkg_PACS_160 Sig_conf_PACS_100 Sig_conf_PACS_160 Rhat_PACS_100 Rhat_PACS_160 n_eff_PACS_100 n_eff_PACS_160 Pval_res_100 Pval_res_160 flag_PACS_100 flag_PACS_160 F_SPIRE_250 FErr_SPIRE_250_u FErr_SPIRE_250_l F_SPIRE_350 FErr_SPIRE_350_u FErr_SPIRE_350_l F_SPIRE_500 FErr_SPIRE_500_u FErr_SPIRE_500_l Bkg_SPIRE_250 Bkg_SPIRE_350 Bkg_SPIRE_500 Sig_conf_SPIRE_250 Sig_conf_SPIRE_350 Sig_conf_SPIRE_500 Rhat_SPIRE_250 Rhat_SPIRE_350 Rhat_SPIRE_500 n_eff_SPIRE_250 n_eff_SPIRE_500 n_eff_SPIRE_350 Pval_res_250 Pval_res_350 Pval_res_500 flag_spire_250 flag_spire_350 flag_spire_500  AGN   optAGN  IRAGN  AGN_ZSPEC XrayAGN XrayFlux_0.5-2 XrayHardness z1_median  z1_min  z1_max z1_area z2_median  z2_min  z2_max z2_area nfilt_eazy nfilt_atlas nfilt_ananna chi_r_best chi_r_stellar stellar_type hp_idx_11 hp_depth_cluster\n",
       "                               deg        deg               deg     deg                                                                                                                         uJy        uJy       uJy        uJy             uJy                 uJy           uJy      uJy       uJy      uJy           uJy                 uJy           uJy      uJy         uJy            uJy          uJy      uJy      uJy      uJy      uJy      uJy      uJy      uJy      uJy      uJy             uJy                 uJy                 uJy                uJy               uJy               uJy                uJy               uJy           muJy        muJy           muJy        MJy / sr      MJy / sr                                                            mJy           mJy             mJy          mJy           mJy             mJy         mJy/Beam     mJy/Beam        mJy/Beam          mJy/Beam                                                                                                                         mJy           mJy              mJy            mJy           mJy              mJy            mJy           mJy              mJy           mJy/Beam      mJy/Beam      mJy/Beam        mJy/Beam           mJy/Beam           mJy/Beam                                                                                                                                                                                                                                                                                                                                                                                                            deg                    \n",
       "int64   int64      int64     float64    float64   bytes27 float64 float64   float32   float64  int64   int64  float64   float64  float64 bytes25  float32     int64      int64       int64    float64    float64   float64    float64         float64             float64       float64  float64   float64  float64       float64             float64       float64  float64     float64        float64      float64  float64  float64  float64  float64  float64  float64  float64  float64  float64         float64             float64             float64            float64           float64           float64            float64           float64       float32     float32        float32       float32       float32        float32       float32      float32       bool      float32       float32         float32      float32       float32         float32       float32      float32         float32           float32         float32       float32       float32        float32       float32      float32         bool          bool       float32       float32          float32        float32       float32          float32        float32       float32          float32         float32       float32       float32         float32            float32            float32          float32        float32        float32         float32         float32         float32       float32      float32      float32         bool           bool           bool      int64 float64 float64   int64   float64    float64       float64     float64  float64 float64 float64  float64  float64 float64 float64   int64       int64       int64      float64      float64       bytes6      int64        int32      \n",
       "----- ---------- ---------- ---------- ---------- ------- ------- -------- ---------- ------- -------- ------ -------- --------- ------- ------- ---------- --------- ------------ ---------- -------- ----------- -------- ----------- ------------------- ------------------- ------- ---------- ------- --------- ------------------ ------------------- ------- --------- ------------- ---------------- ------- --------- ------- --------- ------- --------- ------- --------- ------- ---------- -------------------- ------------------ ------------------- ----------------- ----------------- ------------------ ----------------- ----------------- --------- -------------- -------------- ----------- ---------------- ------------ ------------- ----------- ------------ ---------- --------------- --------------- ---------- --------------- --------------- ------------ ------------ ----------------- ----------------- ------------- ------------- -------------- -------------- ------------ ------------ ------------- ------------- ----------- ---------------- ---------------- ----------- ---------------- ---------------- ----------- ---------------- ---------------- ------------- ------------- ------------- ------------------ ------------------ ------------------ -------------- -------------- -------------- --------------- --------------- --------------- ------------ ------------ ------------ -------------- -------------- -------------- ----- ------- ------- --------- ------- -------------- ------------ --------- ------- ------- ------- --------- ------- ------- ------- ---------- ----------- ------------ ---------- ------------- ------------ --------- ----------------\n",
       "    0          1         -- 216.473863 32.2825963     N/A     nan      nan 0.01093379     nan       --     --      nan       nan     nan     N/A       0.64         0            0          1    -99.0       -99.0    -99.0       -99.0 0.10352171485738193 0.09050546420954841   -99.0      -99.0   -99.0     -99.0 1.2489124884509977 0.17990861652974743   -99.0     -99.0         -99.0            -99.0   -99.0     -99.0   -99.0     -99.0   -99.0     -99.0   -99.0     -99.0   -99.0      -99.0 -0.49297147310738154 0.9599805695282839 0.20943547943156204 1.134281811727078 7.514107605812171 4.5540334671514415 7.615719616676927 4.989334194948697       nan            nan            nan         nan              nan          nan           nan         nan         True        nan             nan             nan        nan             nan             nan          nan          nan               nan               nan           nan           nan            nan            nan          nan          nan          True          True         nan              nan              nan         nan              nan              nan         nan              nan              nan           nan           nan           nan                nan                nan                nan            nan            nan            nan             nan             nan             nan          nan          nan          nan           True           True           True     0     0.0     0.0        --     0.0          -99.0        -99.0    3.6887    2.88    4.63   0.379    0.3205     0.0    0.81     0.3          6           6          -99  0.9076026         -99.0                9355052               38"
      ]
     },
     "execution_count": 4,
     "metadata": {},
     "output_type": "execute_result"
    }
   ],
   "source": [
    "photz[0]"
   ]
  },
  {
   "cell_type": "code",
   "execution_count": 5,
   "metadata": {},
   "outputs": [],
   "source": [
    "cigale_input = photz.copy()"
   ]
  },
  {
   "cell_type": "code",
   "execution_count": 7,
   "metadata": {},
   "outputs": [],
   "source": [
    "filters_file = open('data/photz/filters/filter.bootes_mbrown_2014a.res.info','r')\n",
    "filters = []\n",
    "for line in filters_file:\n",
    "    temp = line.split(' ')\n",
    "    filters.append(temp)\n",
    "filters_file.close()\n",
    "\n",
    "for n,line in enumerate(filters):\n",
    "    if n!=32:\n",
    "        filters[n] = line[0:-1]\n",
    "    else:\n",
    "        filters[n][-1] = filters[n][-1].replace('\\n','')\n",
    "    filters[n] = pop_list(filters[n],[1 for m in range(len(filters[n])-2)])\n",
    "    filters[n][-1] = filters[n][-1].replace('.filter','')"
   ]
  },
  {
   "cell_type": "code",
   "execution_count": 8,
   "metadata": {},
   "outputs": [],
   "source": [
    "translate_file = open('data/photz/filters/brown.zphot.2014.translate','r')\n",
    "translate = []\n",
    "for line in translate_file:\n",
    "    if '#' in line:\n",
    "        continue\n",
    "    temp = line.split(' ')\n",
    "    translate.append(temp)\n",
    "translate_file.close()\n",
    "\n",
    "translate = translate[:len(translate)-1]\n",
    "\n",
    "for n,line in enumerate(translate):\n",
    "    translate[n][1] = line[1][1:-1]"
   ]
  },
  {
   "cell_type": "code",
   "execution_count": 9,
   "metadata": {
    "scrolled": true
   },
   "outputs": [
    {
     "name": "stdout",
     "output_type": "stream",
     "text": [
      "['9', 'LBCBlue_Uspec']\n",
      "['9', 'LBCBlue_Uspec']\n",
      "['2', 'Bw_atmccd']\n",
      "['2', 'Bw_atmccd']\n",
      "['11', 'R_atmccd']\n",
      "['11', 'R_atmccd']\n",
      "['7', 'I_atmccd']\n",
      "['7', 'I_atmccd']\n",
      "['34', 'sdssz2']\n",
      "['34', 'sdssz2']\n",
      "['33', 'suprime_FDCCD_z']\n",
      "['33', 'suprime_FDCCD_z']\n",
      "['10', 'LBCR_Y']\n",
      "['10', 'LBCR_Y']\n",
      "['19', 'jband']\n",
      "['19', 'jband']\n",
      "['18', 'hband']\n",
      "['18', 'hband']\n",
      "['8', 'K_atmccd']\n",
      "['8', 'K_atmccd']\n",
      "['20', 'kband']\n",
      "['20', 'kband']\n",
      "['3', 'IRAC_ch1_total_response']\n",
      "['3', 'IRAC_ch1_total_response']\n",
      "['4', 'IRAC_ch2_total_response']\n",
      "['4', 'IRAC_ch2_total_response']\n",
      "['5', 'IRAC_ch3_total_response']\n",
      "['5', 'IRAC_ch3_total_response']\n",
      "['6', 'IRAC_ch4_total_response']\n",
      "['6', 'IRAC_ch4_total_response']\n"
     ]
    }
   ],
   "source": [
    "for n,line in enumerate(translate):\n",
    "    colname = line[0]\n",
    "    filt_num = int(line[1])\n",
    "    filt_name = ''\n",
    "    for m,filt in enumerate(filters):\n",
    "        if m+1==filt_num:\n",
    "            print(filt)\n",
    "            filt_name = filt[1]\n",
    "    \n",
    "    if 'err' in colname:\n",
    "        filt_name = filt_name+'_err'\n",
    "    #print(colname)\n",
    "    #print(filt_name)\n",
    "    cigale_input.rename_column(colname,filt_name)"
   ]
  },
  {
   "cell_type": "code",
   "execution_count": 10,
   "metadata": {},
   "outputs": [],
   "source": [
    "cigale_input.rename_column('z1_median','redshift')"
   ]
  },
  {
   "cell_type": "code",
   "execution_count": 12,
   "metadata": {},
   "outputs": [
    {
     "ename": "IORegistryError",
     "evalue": "No writer defined for format 'fits' and class 'NoneType'.\n\nThe available formats are:\n\nFormat Read Write Auto-identify\n------ ---- ----- -------------",
     "output_type": "error",
     "traceback": [
      "\u001b[0;31m---------------------------------------------------------------------------\u001b[0m",
      "\u001b[0;31mIORegistryError\u001b[0m                           Traceback (most recent call last)",
      "\u001b[0;32m<ipython-input-12-aa21406d5646>\u001b[0m in \u001b[0;36m<module>\u001b[0;34m\u001b[0m\n\u001b[0;32m----> 1\u001b[0;31m \u001b[0mTable\u001b[0m\u001b[0;34m.\u001b[0m\u001b[0mwrite\u001b[0m\u001b[0;34m(\u001b[0m\u001b[0mcigale_input\u001b[0m\u001b[0;34m,\u001b[0m\u001b[0;34m'cigale_input_Bootes.fits'\u001b[0m\u001b[0;34m,\u001b[0m\u001b[0mformat\u001b[0m\u001b[0;34m=\u001b[0m\u001b[0;34m'fits'\u001b[0m\u001b[0;34m,\u001b[0m\u001b[0moverwrite\u001b[0m\u001b[0;34m=\u001b[0m\u001b[0;32mTrue\u001b[0m\u001b[0;34m)\u001b[0m\u001b[0;34m\u001b[0m\u001b[0;34m\u001b[0m\u001b[0m\n\u001b[0m",
      "\u001b[0;32m~/anaconda3/lib/python3.7/site-packages/astropy/table/connect.py\u001b[0m in \u001b[0;36m__call__\u001b[0;34m(self, *args, **kwargs)\u001b[0m\n\u001b[1;32m    112\u001b[0m         \u001b[0minstance\u001b[0m \u001b[0;34m=\u001b[0m \u001b[0mself\u001b[0m\u001b[0;34m.\u001b[0m\u001b[0m_instance\u001b[0m\u001b[0;34m\u001b[0m\u001b[0;34m\u001b[0m\u001b[0m\n\u001b[1;32m    113\u001b[0m         \u001b[0;32mwith\u001b[0m \u001b[0mserialize_method_as\u001b[0m\u001b[0;34m(\u001b[0m\u001b[0minstance\u001b[0m\u001b[0;34m,\u001b[0m \u001b[0mserialize_method\u001b[0m\u001b[0;34m)\u001b[0m\u001b[0;34m:\u001b[0m\u001b[0;34m\u001b[0m\u001b[0;34m\u001b[0m\u001b[0m\n\u001b[0;32m--> 114\u001b[0;31m             \u001b[0mregistry\u001b[0m\u001b[0;34m.\u001b[0m\u001b[0mwrite\u001b[0m\u001b[0;34m(\u001b[0m\u001b[0minstance\u001b[0m\u001b[0;34m,\u001b[0m \u001b[0;34m*\u001b[0m\u001b[0margs\u001b[0m\u001b[0;34m,\u001b[0m \u001b[0;34m**\u001b[0m\u001b[0mkwargs\u001b[0m\u001b[0;34m)\u001b[0m\u001b[0;34m\u001b[0m\u001b[0;34m\u001b[0m\u001b[0m\n\u001b[0m",
      "\u001b[0;32m~/anaconda3/lib/python3.7/site-packages/astropy/io/registry.py\u001b[0m in \u001b[0;36mwrite\u001b[0;34m(data, format, *args, **kwargs)\u001b[0m\n\u001b[1;32m    563\u001b[0m             'write', data.__class__, path, fileobj, args, kwargs)\n\u001b[1;32m    564\u001b[0m \u001b[0;34m\u001b[0m\u001b[0m\n\u001b[0;32m--> 565\u001b[0;31m     \u001b[0mwriter\u001b[0m \u001b[0;34m=\u001b[0m \u001b[0mget_writer\u001b[0m\u001b[0;34m(\u001b[0m\u001b[0mformat\u001b[0m\u001b[0;34m,\u001b[0m \u001b[0mdata\u001b[0m\u001b[0;34m.\u001b[0m\u001b[0m__class__\u001b[0m\u001b[0;34m)\u001b[0m\u001b[0;34m\u001b[0m\u001b[0;34m\u001b[0m\u001b[0m\n\u001b[0m\u001b[1;32m    566\u001b[0m     \u001b[0mwriter\u001b[0m\u001b[0;34m(\u001b[0m\u001b[0mdata\u001b[0m\u001b[0;34m,\u001b[0m \u001b[0;34m*\u001b[0m\u001b[0margs\u001b[0m\u001b[0;34m,\u001b[0m \u001b[0;34m**\u001b[0m\u001b[0mkwargs\u001b[0m\u001b[0;34m)\u001b[0m\u001b[0;34m\u001b[0m\u001b[0;34m\u001b[0m\u001b[0m\n\u001b[1;32m    567\u001b[0m \u001b[0;34m\u001b[0m\u001b[0m\n",
      "\u001b[0;32m~/anaconda3/lib/python3.7/site-packages/astropy/io/registry.py\u001b[0m in \u001b[0;36mget_writer\u001b[0;34m(data_format, data_class)\u001b[0m\n\u001b[1;32m    481\u001b[0m             \u001b[0;34m\"No writer defined for format '{0}' and class '{1}'.\\n\\nThe \"\u001b[0m\u001b[0;34m\u001b[0m\u001b[0;34m\u001b[0m\u001b[0m\n\u001b[1;32m    482\u001b[0m             \"available formats are:\\n\\n{2}\".format(\n\u001b[0;32m--> 483\u001b[0;31m                 data_format, data_class.__name__, format_table_str))\n\u001b[0m\u001b[1;32m    484\u001b[0m \u001b[0;34m\u001b[0m\u001b[0m\n\u001b[1;32m    485\u001b[0m \u001b[0;34m\u001b[0m\u001b[0m\n",
      "\u001b[0;31mIORegistryError\u001b[0m: No writer defined for format 'fits' and class 'NoneType'.\n\nThe available formats are:\n\nFormat Read Write Auto-identify\n------ ---- ----- -------------"
     ]
    }
   ],
   "source": [
    "Table.write(cigale_input,'cigale_input_Bootes.fits',format='fits',overwrite=True)"
   ]
  },
  {
   "cell_type": "code",
   "execution_count": null,
   "metadata": {},
   "outputs": [],
   "source": []
  },
  {
   "cell_type": "code",
   "execution_count": null,
   "metadata": {},
   "outputs": [],
   "source": []
  }
 ],
 "metadata": {
  "kernelspec": {
   "display_name": "Python 3",
   "language": "python",
   "name": "python3"
  },
  "language_info": {
   "codemirror_mode": {
    "name": "ipython",
    "version": 2
   },
   "file_extension": ".py",
   "mimetype": "text/x-python",
   "name": "python",
   "nbconvert_exporter": "python",
   "pygments_lexer": "ipython2",
   "version": "2.7.5"
  }
 },
 "nbformat": 4,
 "nbformat_minor": 2
}
