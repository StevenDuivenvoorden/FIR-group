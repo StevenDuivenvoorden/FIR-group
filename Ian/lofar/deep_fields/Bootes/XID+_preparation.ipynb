{
 "cells": [
  {
   "cell_type": "markdown",
   "metadata": {},
   "source": [
    "# Notebook for preprocessing the LOFAR catalogues before XID+\n",
    "\n",
    "it outputs a modified LOFAR radio data table with two new columns. the first column is XID+_rerun and is a boolean array stating whether a source should ahve XID+ rerun or not. The second is a string column that says what where the fir for that source comes from."
   ]
  },
  {
   "cell_type": "code",
   "execution_count": 1,
   "metadata": {},
   "outputs": [],
   "source": [
    "from astropy.io import ascii, fits\n",
    "import astropy\n",
    "import pylab as plt\n",
    "%matplotlib inline\n",
    "from astropy import wcs\n",
    "from astropy.table import Table,Column,join,hstack,vstack\n",
    "from astropy.coordinates import SkyCoord\n",
    "from astropy import units as u\n",
    "import pymoc\n",
    "import glob\n",
    "from time import sleep\n",
    "import os\n",
    "import pymoc\n",
    "import mocpy\n",
    "\n",
    "import numpy as np\n",
    "import xidplus\n",
    "from xidplus import moc_routines\n",
    "import pickle\n",
    "import xidplus.catalogue as cat\n",
    "\n",
    "import sys\n",
    "#from herschelhelp_internal.utils import inMoc,flux_to_mag\n",
    "from xidplus.stan_fit import SPIRE\n",
    "\n",
    "import aplpy\n",
    "import seaborn as sns\n",
    "#sns.set(color_codes=True)\n",
    "import pandas as pd\n",
    "#sns.set_style(\"white\")\n",
    "import xidplus.posterior_maps as postmaps\n",
    "#from herschelhelp_internal.masterlist import merge_catalogues, nb_merge_dist_plot, specz_merge\n",
    "import pyvo as vo\n",
    "#from herschelhelp_internal.utils import inMoc\n",
    "from pymoc.io.fits import read_moc_fits\n",
    "\n"
   ]
  },
  {
   "cell_type": "code",
   "execution_count": 2,
   "metadata": {},
   "outputs": [],
   "source": [
    "def best_irac(swire,servs):\n",
    "    mask = np.isnan(swire)\n",
    "    swire[mask] = 10000\n",
    "    mask = np.isnan(servs)\n",
    "    servs[mask] = 10000\n",
    "    swire_mask = swire<servs\n",
    "    return(swire_mask)"
   ]
  },
  {
   "cell_type": "code",
   "execution_count": 6,
   "metadata": {},
   "outputs": [
    {
     "name": "stdout",
     "output_type": "stream",
     "text": [
      "SPIRE covers: 22.413863402949218sq degrees\n",
      "PACS covers: 10.331753949911489sq degrees\n",
      "MIPS covers: 10.794021152937951sq degrees\n"
     ]
    }
   ],
   "source": [
    "lofar = Table.read('data/LH_opt_spitzer_merged_vac_opt3as_irac4as_all_hpx_public.fits')\n",
    "\n",
    "mask = ~np.isnan(lofar['F_SPIRE_250'])\n",
    "c = SkyCoord(lofar['RA'][mask],lofar['DEC'][mask],unit='deg')\n",
    "#spire_moc = pymoc.util.catalog.catalog_to_moc(c,15,12)\n",
    "spire_moc = pymoc.moc.MOC()\n",
    "read_moc_fits(spire_moc,'/lustre/scratch/astro/im281/HELP/dmu_products/dmu2/dmu2_field_coverages/Lockman-SWIRE_MOC.fits')\n",
    "print('SPIRE covers: {}sq degrees'.format(spire_moc.area_sq_deg))\n",
    "\n",
    "mask = ~np.isnan(lofar['F_PACS_100'])\n",
    "c = SkyCoord(lofar['RA'][mask],lofar['DEC'][mask],unit='deg')\n",
    "pacs_moc = pymoc.util.catalog.catalog_to_moc(c,15,12)\n",
    "print('PACS covers: {}sq degrees'.format(pacs_moc.area_sq_deg))\n",
    "\n",
    "mask = ~np.isnan(lofar['F_MIPS_24'])\n",
    "c = SkyCoord(lofar['RA'][mask],lofar['DEC'][mask],unit='deg')\n",
    "mips_moc = pymoc.util.catalog.catalog_to_moc(c,15,12)\n",
    "print('MIPS covers: {}sq degrees'.format(mips_moc.area_sq_deg))"
   ]
  },
  {
   "cell_type": "code",
   "execution_count": 4,
   "metadata": {},
   "outputs": [
    {
     "name": "stdout",
     "output_type": "stream",
     "text": [
      "MIPS covers: 17.977005601837728sq degrees\n"
     ]
    }
   ],
   "source": [
    "imfolder='../../../../../HELP/dmu_products/dmu17/dmu17_HELP_Legacy_maps/Lockman-SWIRE/data/'\n",
    "\n",
    "pswfits=imfolder+'wp4_lockman-swire_mips24_map_v1.0.fits.gz'#SPIRE 250 map\n",
    "\n",
    "MIPS_Map = fits.open(pswfits)\n",
    "\n",
    "#-----250-------------\n",
    "hdulist = fits.open(pswfits)\n",
    "im250phdu=hdulist[0].header\n",
    "im250hdu=hdulist[1].header\n",
    "mips_moc = mocpy.MOC.from_image(im250hdu,15)\n",
    "\n",
    "mips_moc.write('data/data_release/final_mocs/mips_moc_Lockman.fits',format='fits',overwrite=True)\n",
    "\n",
    "mips_moc = pymoc.moc.MOC()\n",
    "read_moc_fits(mips_moc,'data/data_release/final_mocs/mips_moc_Lockman.fits')\n",
    "print('MIPS covers: {}sq degrees'.format(mips_moc.area_sq_deg))"
   ]
  },
  {
   "cell_type": "code",
   "execution_count": 5,
   "metadata": {},
   "outputs": [
    {
     "name": "stdout",
     "output_type": "stream",
     "text": [
      "PACS covers: 32.20707401227812sq degrees\n"
     ]
    }
   ],
   "source": [
    "imfolder='../../../../../HELP/dmu_products/dmu18/dmu18_HELP-PACS-maps/data/'\n",
    "\n",
    "im100fits=imfolder + 'Lockman-SWIRE_PACS100_v0.9.fits'#PACS 100 map\n",
    "#-----100-------------\n",
    "hdulist = fits.open(im100fits)\n",
    "im100phdu=hdulist[0].header\n",
    "im100hdu=hdulist[1].header\n",
    "pacs_moc = mocpy.MOC.from_image(im100hdu,15)\n",
    "\n",
    "pacs_moc.write('data/data_release/final_mocs/pacs_moc_Lockman.fits',format='fits',overwrite=True)\n",
    "\n",
    "pacs_moc = pymoc.moc.MOC()\n",
    "read_moc_fits(pacs_moc,'data/data_release/final_mocs/pacs_moc_Lockman.fits')\n",
    "print('PACS covers: {}sq degrees'.format(pacs_moc.area_sq_deg))"
   ]
  },
  {
   "cell_type": "code",
   "execution_count": 6,
   "metadata": {},
   "outputs": [
    {
     "name": "stdout",
     "output_type": "stream",
     "text": [
      "SPIRE covers: 36.20155006580141sq degrees\n"
     ]
    }
   ],
   "source": [
    "imfolder='../../../../../HELP/dmu_products/dmu19/dmu19_HELP-SPIRE-maps/data/'\n",
    "\n",
    "pswfits=imfolder+'Lockman-SWIRE_SPIRE250_v1.0.fits'#SPIRE 250 map\n",
    "\n",
    "#-----250-------------\n",
    "hdulist = fits.open(pswfits)\n",
    "im250phdu=hdulist[0].header\n",
    "im250hdu=hdulist['image'].header\n",
    "spire_moc = mocpy.MOC.from_image(im250hdu,15)\n",
    "\n",
    "spire_moc.write('data/data_release/final_mocs/spire_moc_Lockman.fits',format='fits',overwrite=True)\n",
    "\n",
    "spire_moc = pymoc.moc.MOC()\n",
    "read_moc_fits(spire_moc,'data/data_release/final_mocs/spire_moc_Lockman.fits')\n",
    "print('SPIRE covers: {}sq degrees'.format(spire_moc.area_sq_deg))"
   ]
  },
  {
   "cell_type": "markdown",
   "metadata": {},
   "source": [
    "## Read in the LOFAR catalogues and work out which sources need to be rerun "
   ]
  },
  {
   "cell_type": "code",
   "execution_count": 3,
   "metadata": {},
   "outputs": [
    {
     "name": "stdout",
     "output_type": "stream",
     "text": [
      "4723\n",
      "459\n",
      "459\n"
     ]
    }
   ],
   "source": [
    "lofar = Table.read('data/data_release/final_cross_match_catalogue-v0.5.fits')\n",
    "mask = (~np.isnan(lofar['F_SPIRE_250'])) | (~np.isnan(lofar['F_SPIRE_350'])) | (~np.isnan(lofar['F_SPIRE_500']))\n",
    "lofar = lofar[~mask]\n",
    "print(len(lofar))\n",
    "\n",
    "ras = lofar['optRA']\n",
    "mask = np.isnan(ras)\n",
    "print(np.sum(mask))\n",
    "ras[mask] = lofar['RA'][mask]\n",
    "\n",
    "decs = lofar['optDec']\n",
    "mask = np.isnan(decs)\n",
    "print(np.sum(mask))\n",
    "decs[mask] = lofar['DEC'][mask]\n",
    "\n",
    "ids = lofar['Source_Name']"
   ]
  },
  {
   "cell_type": "code",
   "execution_count": 4,
   "metadata": {},
   "outputs": [],
   "source": [
    "cra = Column(ras,name='ra')\n",
    "cdec = Column(decs,name='dec')\n",
    "cids = Column(ids,name='help_id')\n",
    "cdet = Column(np.zeros(len(ras))-99,name='flag_optnir_det')\n",
    "cmips = Column(np.zeros(len(ras))*np.nan,name='f_mips_24')\n",
    "lofar_prior = Table()\n",
    "lofar_prior.add_columns([cra,cdec,cids,cdet,cmips])"
   ]
  },
  {
   "cell_type": "markdown",
   "metadata": {},
   "source": [
    "## Read in the HELP masterlist"
   ]
  },
  {
   "cell_type": "code",
   "execution_count": 5,
   "metadata": {},
   "outputs": [
    {
     "data": {
      "text/html": [
       "<i>Row index=0</i>\n",
       "<table id=\"table140737204845424\">\n",
       "<thead><tr><th>ra</th><th>dec</th><th>help_id</th><th>flag_optnir_det</th><th>f_irac_i1</th><th>f_irac_i2</th><th>f_irac_i3</th><th>f_irac_i4</th><th>f_mips_24</th><th>f_pacs_green</th><th>f_pacs_red</th></tr></thead>\n",
       "<thead><tr><th>deg</th><th>deg</th><th></th><th></th><th>uJy</th><th>uJy</th><th>uJy</th><th>uJy</th><th>uJy</th><th>uJy</th><th>uJy</th></tr></thead>\n",
       "<thead><tr><th>float64</th><th>float64</th><th>bytes27</th><th>int64</th><th>float64</th><th>float64</th><th>float64</th><th>float64</th><th>float32</th><th>float32</th><th>float32</th></tr></thead>\n",
       "<tr><td>215.88182119597099</td><td>35.4097963240682</td><td>HELP_J142331.637+352435.267</td><td>1</td><td>nan</td><td>nan</td><td>nan</td><td>nan</td><td>nan</td><td>nan</td><td>nan</td></tr>\n",
       "</table>"
      ],
      "text/plain": [
       "<Row index=0>\n",
       "        ra               dec                  help_id           flag_optnir_det f_irac_i1 f_irac_i2 f_irac_i3 f_irac_i4 f_mips_24 f_pacs_green f_pacs_red\n",
       "       deg               deg                                                       uJy       uJy       uJy       uJy       uJy        uJy         uJy    \n",
       "     float64           float64                bytes27                int64       float64   float64   float64   float64   float32    float32     float32  \n",
       "------------------ ---------------- --------------------------- --------------- --------- --------- --------- --------- --------- ------------ ----------\n",
       "215.88182119597099 35.4097963240682 HELP_J142331.637+352435.267               1       nan       nan       nan       nan       nan          nan        nan"
      ]
     },
     "execution_count": 5,
     "metadata": {},
     "output_type": "execute_result"
    }
   ],
   "source": [
    "columns = 'ra','dec','help_id','flag_optnir_det','f_irac_i1','f_irac_i2','f_irac_i3','f_irac_i4','f_mips_24','f_pacs_green','f_pacs_red'\n",
    "masterlist = Table.read('../../../../../HELP/dmu_products/dmu32/dmu32_Bootes/data/Bootes_20190701_cigale.fits')\n",
    "help_masterlist = masterlist[columns]\n",
    "help_masterlist[0]"
   ]
  },
  {
   "cell_type": "markdown",
   "metadata": {},
   "source": [
    "## Create the prior catalogue using the MIPS priors"
   ]
  },
  {
   "cell_type": "code",
   "execution_count": 6,
   "metadata": {},
   "outputs": [
    {
     "name": "stdout",
     "output_type": "stream",
     "text": [
      "number of help prior sources is: 495159\n"
     ]
    }
   ],
   "source": [
    "mips_mask = (help_masterlist['flag_optnir_det']>=5) & (help_masterlist['f_mips_24']>20)\n",
    "\n",
    "prior_cat = help_masterlist[mips_mask]\n",
    "print('number of help prior sources is: {}'.format(len(prior_cat)))"
   ]
  },
  {
   "cell_type": "code",
   "execution_count": 7,
   "metadata": {},
   "outputs": [
    {
     "data": {
      "text/plain": [
       "499882"
      ]
     },
     "execution_count": 7,
     "metadata": {},
     "output_type": "execute_result"
    }
   ],
   "source": [
    "prior_cat = vstack([prior_cat,lofar_prior])\n",
    "len(prior_cat)"
   ]
  },
  {
   "cell_type": "code",
   "execution_count": 11,
   "metadata": {},
   "outputs": [
    {
     "name": "stdout",
     "output_type": "stream",
     "text": [
      "<class 'astropy.table.table.Table'>\n",
      "fits\n"
     ]
    }
   ],
   "source": [
    "#Table.write(prior_cat,'data/data_release/xidplus_prior_cat.fits',overwrite=True)\n",
    "from astropy.io import registry\n",
    "from astropy.table.info import serialize_method_as\n",
    "\n",
    "with serialize_method_as(prior_cat, None):\n",
    "    registry.write(prior_cat,'data/data_release/xidplus_prior_cat.fits',overwrite=True)"
   ]
  },
  {
   "cell_type": "code",
   "execution_count": 12,
   "metadata": {},
   "outputs": [
    {
     "data": {
      "image/png": "[encoded data removed]",
      "text/plain": [
       "<Figure size 432x288 with 1 Axes>"
      ]
     },
     "metadata": {
      "needs_background": "light"
     },
     "output_type": "display_data"
    }
   ],
   "source": [
    "x = help_masterlist['ra']\n",
    "y = help_masterlist['dec']\n",
    "plt.scatter(x,y,s=0.1)\n",
    "\n",
    "x = prior_cat['ra']\n",
    "y = prior_cat['dec']\n",
    "plt.scatter(x,y,s=0.1)\n",
    "plt.show()"
   ]
  },
  {
   "cell_type": "code",
   "execution_count": null,
   "metadata": {},
   "outputs": [],
   "source": [
    "x = prior_cat['ra']\n",
    "y = prior_cat['dec']\n",
    "plt.scatter(x,y,s=0.1)\n",
    "\n",
    "mask = ~np.isnan(help_masterlist['f_pacs_red'])\n",
    "x = help_masterlist['ra'][mask]\n",
    "y = help_masterlist['dec'][mask]\n",
    "plt.scatter(x,y,s=0.1)\n",
    "\n",
    "plt.scatter(ras,decs,c='green',s=1)\n",
    "plt.show()"
   ]
  },
  {
   "cell_type": "code",
   "execution_count": null,
   "metadata": {},
   "outputs": [],
   "source": []
  },
  {
   "cell_type": "markdown",
   "metadata": {},
   "source": [
    "## Create the prior catalogue using the Ldust priors"
   ]
  },
  {
   "cell_type": "code",
   "execution_count": 33,
   "metadata": {},
   "outputs": [],
   "source": [
    "ldust = Table.read('../../../../../HELP/dmu_products/dmu28/dmu28_Lockman-SWIRE/data/Lockman-SWIRE_Ldust_prediction_results.fits')\n",
    "ldust.rename_column('id','help_id')\n",
    "for n in range(len(ldust)):\n",
    "    ldust[n]['help_id']=ldust[n]['help_id'].replace(' ','')"
   ]
  },
  {
   "cell_type": "code",
   "execution_count": 34,
   "metadata": {},
   "outputs": [],
   "source": [
    "ldust_coords = join(ldust,help_masterlist,keys='help_id',join_type='left')"
   ]
  },
  {
   "cell_type": "code",
   "execution_count": 37,
   "metadata": {},
   "outputs": [
    {
     "data": {
      "text/html": [
       "<i>Row index=0</i>\n",
       "<table id=\"table140735625657144\">\n",
       "<thead><tr><th>help_id</th><th>bayes.stellar.m_star</th><th>bayes.stellar.m_star_err</th><th>bayes.sfh.sfr10Myrs</th><th>bayes.sfh.sfr10Myrs_err</th><th>bayes.dust.luminosity</th><th>bayes.dust.luminosity_err</th><th>best.chi_square</th><th>best.reduced_chi_square</th><th>best.attenuation.Av_BC</th><th>best.attenuation.BC_to_ISM_factor</th><th>best.attenuation.bessell_b</th><th>best.attenuation.galex_fuv</th><th>best.attenuation.slope_BC</th><th>best.attenuation.slope_ISM</th><th>best.attenuation.stellar.old</th><th>best.attenuation.stellar.young</th><th>best.dust.alpha</th><th>best.dust.gamma</th><th>best.dust.luminosity</th><th>best.dust.mass</th><th>best.dust.qpah</th><th>best.dust.umin</th><th>best.lyc_absorption_f_dust</th><th>best.lyc_absorption_f_esc</th><th>best.sfh.age</th><th>best.sfh.burst_age</th><th>best.sfh.f_burst</th><th>best.sfh.integrated</th><th>best.sfh.sfr</th><th>best.sfh.sfr100Myrs</th><th>best.sfh.sfr10Myrs</th><th>best.sfh.tau_burst</th><th>best.sfh.tau_main</th><th>best.stellar.age_m_star</th><th>best.stellar.imf</th><th>best.stellar.lum_ly</th><th>best.stellar.lum_ly_old</th><th>best.stellar.lum_ly_young</th><th>best.stellar.m_gas</th><th>best.stellar.m_gas_old</th><th>best.stellar.m_gas_young</th><th>best.stellar.m_star</th><th>best.stellar.m_star_old</th><th>best.stellar.m_star_young</th><th>best.stellar.metallicity</th><th>best.stellar.n_ly</th><th>best.stellar.n_ly_old</th><th>best.stellar.n_ly_young</th><th>best.stellar.old_young_separation_age</th><th>best.universe.age</th><th>best.universe.luminosity_distance</th><th>best.universe.redshift</th><th>best.wfc_u</th><th>best.megacam_u</th><th>best.megacam_g</th><th>best.gpc1_g</th><th>best.wfc_g</th><th>best.gpc1_r</th><th>best.wfc_r</th><th>best.megacam_r</th><th>best.gpc1_i</th><th>best.megacam_i</th><th>best.megacam_y</th><th>best.wfc_i</th><th>best.gpc1_z</th><th>best.wfc_z</th><th>best.megacam_z</th><th>best.gpc1_y</th><th>best.ukidss_j</th><th>best.ukidss_k</th><th>best.irac_i1</th><th>best.irac_i2</th><th>best.irac_i3</th><th>best.irac_i4</th><th>best.mips_24</th><th>best.pacs_green</th><th>best.pacs_red</th><th>best.spire_250</th><th>best.spire_350</th><th>best.spire_500</th><th>ra</th><th>dec</th><th>flag_optnir_det</th><th>f_mips_24</th></tr></thead>\n",
       "<thead><tr><th></th><th></th><th></th><th></th><th></th><th></th><th></th><th></th><th></th><th></th><th></th><th></th><th></th><th></th><th></th><th></th><th></th><th></th><th></th><th></th><th></th><th></th><th></th><th></th><th></th><th></th><th></th><th></th><th></th><th></th><th></th><th></th><th></th><th></th><th></th><th></th><th></th><th></th><th></th><th></th><th></th><th></th><th></th><th></th><th></th><th></th><th></th><th></th><th></th><th></th><th></th><th></th><th></th><th>mJy</th><th>mJy</th><th>mJy</th><th>mJy</th><th>mJy</th><th>mJy</th><th>mJy</th><th>mJy</th><th>mJy</th><th>mJy</th><th>mJy</th><th>mJy</th><th>mJy</th><th>mJy</th><th>mJy</th><th>mJy</th><th>mJy</th><th>mJy</th><th>mJy</th><th>mJy</th><th>mJy</th><th>mJy</th><th>mJy</th><th>mJy</th><th>mJy</th><th>mJy</th><th>mJy</th><th>mJy</th><th>deg</th><th>deg</th><th></th><th>uJy</th></tr></thead>\n",
       "<thead><tr><th>bytes33</th><th>float64</th><th>float64</th><th>float64</th><th>float64</th><th>float64</th><th>float64</th><th>float64</th><th>float64</th><th>float64</th><th>float64</th><th>float64</th><th>float64</th><th>float64</th><th>float64</th><th>float64</th><th>float64</th><th>float64</th><th>float64</th><th>float64</th><th>float64</th><th>float64</th><th>float64</th><th>float64</th><th>float64</th><th>float64</th><th>float64</th><th>float64</th><th>float64</th><th>float64</th><th>float64</th><th>float64</th><th>float64</th><th>float64</th><th>float64</th><th>float64</th><th>float64</th><th>float64</th><th>float64</th><th>float64</th><th>float64</th><th>float64</th><th>float64</th><th>float64</th><th>float64</th><th>float64</th><th>float64</th><th>float64</th><th>float64</th><th>float64</th><th>float64</th><th>float64</th><th>float64</th><th>float64</th><th>float64</th><th>float64</th><th>float64</th><th>float64</th><th>float64</th><th>float64</th><th>float64</th><th>float64</th><th>float64</th><th>float64</th><th>float64</th><th>float64</th><th>float64</th><th>float64</th><th>float64</th><th>float64</th><th>float64</th><th>float64</th><th>float64</th><th>float64</th><th>float64</th><th>float64</th><th>float64</th><th>float64</th><th>float64</th><th>float64</th><th>float64</th><th>float64</th><th>float64</th><th>int64</th><th>float32</th></tr></thead>\n",
       "<tr><td>HELP_J103755.490+592806.025</td><td>5604412346.505531</td><td>1070659840.429403</td><td>5.845980012139975</td><td>6.010488895730351</td><td>2.003748523970805e+37</td><td>1.3759500905290382e+37</td><td>75.78360855764737</td><td>18.945902139411842</td><td>2.8</td><td>0.5</td><td>1.896233573947713</td><td>4.491140701590342</td><td>-0.7</td><td>-0.7</td><td>1.1367687579411335e+37</td><td>1.2326699066642044e+37</td><td>2.0</td><td>0.02</td><td>2.369438664605338e+37</td><td>1.2937072401026876e+38</td><td>0.47</td><td>5.0</td><td>0.0</td><td>0.0</td><td>2500.0</td><td>10.0</td><td>0.001</td><td>9158179043.325256</td><td>6.351138944998894</td><td>5.507923162086263</td><td>6.349904297712362</td><td>10000.0</td><td>3000.0</td><td>907.548715023767</td><td>1.0</td><td>2.58301271179141e+36</td><td>1.355117639488918e+34</td><td>2.569461535396521e+36</td><td>3402142331.604237</td><td>3398017545.981012</td><td>4124785.6232251436</td><td>5756036668.891398</td><td>5696662454.367122</td><td>59374214.52427643</td><td>0.02</td><td>7.909108234720333e+53</td><td>4.06161354487228e+51</td><td>7.86849209927161e+53</td><td>10.0</td><td>7527.949072306243</td><td>1.2775728113550273e+26</td><td>0.68</td><td>0.00022993478651882037</td><td>0.0002440554965314313</td><td>0.0004048585617593933</td><td>0.00040636627766923723</td><td>0.00040743933416579947</td><td>0.0008730861915721103</td><td>0.0008718679753063824</td><td>0.0008871033886155384</td><td>0.001870919806343346</td><td>0.001862288665271551</td><td>0.0019313356246307095</td><td>0.0019359142594710939</td><td>0.0023019628418220945</td><td>0.0023078902290584466</td><td>0.002390749080629269</td><td>0.002732844756374034</td><td>0.003823753093091422</td><td>0.006800458449608271</td><td>0.007565527949133713</td><td>0.005584428627091305</td><td>0.005121825268087085</td><td>0.005815289504854415</td><td>0.0568758741497294</td><td>2.045884151785734</td><td>4.039374641860336</td><td>3.738050847993529</td><td>2.20094672000906</td><td>0.9944247615450231</td><td>159.4812079600245</td><td>59.46834031574975</td><td>3</td><td>nan</td></tr>\n",
       "</table>"
      ],
      "text/plain": [
       "<Row index=0>\n",
       "          help_id           bayes.stellar.m_star bayes.stellar.m_star_err bayes.sfh.sfr10Myrs bayes.sfh.sfr10Myrs_err bayes.dust.luminosity bayes.dust.luminosity_err  best.chi_square  best.reduced_chi_square best.attenuation.Av_BC best.attenuation.BC_to_ISM_factor best.attenuation.bessell_b best.attenuation.galex_fuv best.attenuation.slope_BC best.attenuation.slope_ISM best.attenuation.stellar.old best.attenuation.stellar.young best.dust.alpha best.dust.gamma  best.dust.luminosity     best.dust.mass     best.dust.qpah best.dust.umin best.lyc_absorption_f_dust best.lyc_absorption_f_esc best.sfh.age best.sfh.burst_age best.sfh.f_burst best.sfh.integrated    best.sfh.sfr   best.sfh.sfr100Myrs best.sfh.sfr10Myrs best.sfh.tau_burst best.sfh.tau_main best.stellar.age_m_star best.stellar.imf best.stellar.lum_ly  best.stellar.lum_ly_old best.stellar.lum_ly_young best.stellar.m_gas best.stellar.m_gas_old best.stellar.m_gas_young best.stellar.m_star best.stellar.m_star_old best.stellar.m_star_young best.stellar.metallicity   best.stellar.n_ly   best.stellar.n_ly_old best.stellar.n_ly_young best.stellar.old_young_separation_age best.universe.age best.universe.luminosity_distance best.universe.redshift       best.wfc_u           best.megacam_u        best.megacam_g         best.gpc1_g             best.wfc_g            best.gpc1_r            best.wfc_r          best.megacam_r        best.gpc1_i         best.megacam_i        best.megacam_y          best.wfc_i           best.gpc1_z            best.wfc_z         best.megacam_z        best.gpc1_y         best.ukidss_j        best.ukidss_k         best.irac_i1         best.irac_i2         best.irac_i3         best.irac_i4        best.mips_24     best.pacs_green    best.pacs_red     best.spire_250   best.spire_350    best.spire_500           ra               dec        flag_optnir_det f_mips_24\n",
       "                                                                                                                                                                                                                                                                                                                                                                                                                                                                                                                                                                                                                                                                                                                                                                                                                                                                                                                                                                                                                                                                                                                                                                                                                                                                   mJy                    mJy                   mJy                   mJy                    mJy                    mJy                   mJy                   mJy                  mJy                  mJy                   mJy                   mJy                   mJy                   mJy                  mJy                  mJy                  mJy                  mJy                  mJy                  mJy                  mJy                  mJy                 mJy                mJy               mJy               mJy              mJy               mJy                deg               deg                           uJy   \n",
       "          bytes33                 float64                float64                float64               float64                float64                 float64               float64              float64                float64                      float64                       float64                    float64                    float64                   float64                     float64                       float64                 float64         float64            float64               float64            float64        float64              float64                    float64            float64         float64           float64            float64            float64            float64            float64            float64            float64              float64             float64            float64                float64                  float64               float64              float64                 float64                float64               float64                  float64                  float64                 float64               float64                float64                        float64                     float64                   float64                     float64                float64                float64               float64               float64                float64                float64               float64               float64              float64              float64               float64               float64               float64               float64              float64              float64              float64              float64              float64              float64              float64              float64             float64            float64           float64           float64          float64           float64            float64           float64           int64       float32 \n",
       "--------------------------- -------------------- ------------------------ ------------------- ----------------------- --------------------- ------------------------- ----------------- ----------------------- ---------------------- --------------------------------- -------------------------- -------------------------- ------------------------- -------------------------- ---------------------------- ------------------------------ --------------- --------------- --------------------- ---------------------- -------------- -------------- -------------------------- ------------------------- ------------ ------------------ ---------------- ------------------- ----------------- ------------------- ------------------ ------------------ ----------------- ----------------------- ---------------- -------------------- ----------------------- ------------------------- ------------------ ---------------------- ------------------------ ------------------- ----------------------- ------------------------- ------------------------ --------------------- --------------------- ----------------------- ------------------------------------- ----------------- --------------------------------- ---------------------- ---------------------- --------------------- --------------------- ---------------------- ---------------------- --------------------- --------------------- --------------------- -------------------- -------------------- --------------------- --------------------- --------------------- --------------------- -------------------- -------------------- -------------------- -------------------- -------------------- -------------------- -------------------- -------------------- ------------------ ----------------- ----------------- ----------------- ---------------- ------------------ ----------------- ----------------- --------------- ---------\n",
       "HELP_J103755.490+592806.025    5604412346.505531        1070659840.429403   5.845980012139975       6.010488895730351 2.003748523970805e+37    1.3759500905290382e+37 75.78360855764737      18.945902139411842                    2.8                               0.5          1.896233573947713          4.491140701590342                      -0.7                       -0.7       1.1367687579411335e+37         1.2326699066642044e+37             2.0            0.02 2.369438664605338e+37 1.2937072401026876e+38           0.47            5.0                        0.0                       0.0       2500.0               10.0            0.001   9158179043.325256 6.351138944998894   5.507923162086263  6.349904297712362            10000.0            3000.0        907.548715023767              1.0 2.58301271179141e+36   1.355117639488918e+34     2.569461535396521e+36  3402142331.604237      3398017545.981012       4124785.6232251436   5756036668.891398       5696662454.367122         59374214.52427643                     0.02 7.909108234720333e+53  4.06161354487228e+51    7.86849209927161e+53                                  10.0 7527.949072306243            1.2775728113550273e+26                   0.68 0.00022993478651882037 0.0002440554965314313 0.0004048585617593933 0.00040636627766923723 0.00040743933416579947 0.0008730861915721103 0.0008718679753063824 0.0008871033886155384 0.001870919806343346 0.001862288665271551 0.0019313356246307095 0.0019359142594710939 0.0023019628418220945 0.0023078902290584466 0.002390749080629269 0.002732844756374034 0.003823753093091422 0.006800458449608271 0.007565527949133713 0.005584428627091305 0.005121825268087085 0.005815289504854415 0.0568758741497294 2.045884151785734 4.039374641860336 3.738050847993529 2.20094672000906 0.9944247615450231 159.4812079600245 59.46834031574975               3       nan"
      ]
     },
     "execution_count": 37,
     "metadata": {},
     "output_type": "execute_result"
    }
   ],
   "source": [
    "ldust_coords[0]"
   ]
  },
  {
   "cell_type": "code",
   "execution_count": 38,
   "metadata": {},
   "outputs": [],
   "source": [
    "from astropy.cosmology import Planck15 as cosmo\n",
    "from astropy import units as u\n",
    "f_pred=ldust_coords['bayes.dust.luminosity']/(4*np.pi*cosmo.luminosity_distance(ldust_coords['best.universe.redshift']).to(u.cm))"
   ]
  },
  {
   "cell_type": "code",
   "execution_count": 39,
   "metadata": {},
   "outputs": [],
   "source": [
    "prior=ldust_coords[np.isfinite(f_pred.value)][np.log10(f_pred.value[np.isfinite(f_pred.value)])>8.5]"
   ]
  },
  {
   "cell_type": "code",
   "execution_count": 44,
   "metadata": {},
   "outputs": [],
   "source": [
    "cols = ['help_id','ra','dec']\n",
    "prior_cat = prior[cols]"
   ]
  },
  {
   "cell_type": "code",
   "execution_count": 45,
   "metadata": {},
   "outputs": [],
   "source": []
  },
  {
   "cell_type": "code",
   "execution_count": 46,
   "metadata": {},
   "outputs": [
    {
     "data": {
      "text/plain": [
       "159971"
      ]
     },
     "execution_count": 46,
     "metadata": {},
     "output_type": "execute_result"
    }
   ],
   "source": [
    "prior_cat = vstack([prior_cat,lofar_prior])\n",
    "len(prior_cat)"
   ]
  },
  {
   "cell_type": "code",
   "execution_count": 48,
   "metadata": {},
   "outputs": [],
   "source": [
    "Table.write(prior_cat,'data/data_release/xidplus_prior_cat_rerun_ldust.fits',overwrite=True)"
   ]
  },
  {
   "cell_type": "markdown",
   "metadata": {},
   "source": [
    "## Create the prior for the MIPS rerun"
   ]
  },
  {
   "cell_type": "code",
   "execution_count": 21,
   "metadata": {},
   "outputs": [
    {
     "name": "stdout",
     "output_type": "stream",
     "text": [
      "3849\n",
      "459\n",
      "459\n"
     ]
    }
   ],
   "source": [
    "lofar = Table.read('data/data_release/final_cross_match_catalogue-v0.5.fits')\n",
    "mask = (~np.isnan(lofar['F_MIPS_24']))\n",
    "lofar = lofar[~mask]\n",
    "print(len(lofar))\n",
    "\n",
    "ras = lofar['optRA']\n",
    "mask = np.isnan(ras)\n",
    "print(np.sum(mask))\n",
    "ras[mask] = lofar['RA'][mask]\n",
    "\n",
    "decs = lofar['optDec']\n",
    "mask = np.isnan(decs)\n",
    "print(np.sum(mask))\n",
    "decs[mask] = lofar['DEC'][mask]\n",
    "\n",
    "ids = lofar['Source_Name']"
   ]
  },
  {
   "cell_type": "code",
   "execution_count": 22,
   "metadata": {},
   "outputs": [
    {
     "name": "stdout",
     "output_type": "stream",
     "text": [
      "number of help prior sources is: 1643955\n"
     ]
    }
   ],
   "source": [
    "mips_mask = (help_masterlist['flag_optnir_det']>=5)\n",
    "\n",
    "prior_cat = help_masterlist[mips_mask]\n",
    "print('number of help prior sources is: {}'.format(len(prior_cat)))"
   ]
  },
  {
   "cell_type": "code",
   "execution_count": 23,
   "metadata": {},
   "outputs": [],
   "source": [
    "MIPS_lower=np.full(len(prior_cat),0.0)\n",
    "MIPS_upper=np.full(len(prior_cat),1E5)\n",
    "for i in range(len(prior_cat)):\n",
    "    if np.isnan(prior_cat['f_irac_i4'][i])==False:\n",
    "        MIPS_lower[i]=prior_cat['f_irac_i4'][i]/500.0\n",
    "        MIPS_upper[i]=prior_cat['f_irac_i4'][i]*500.0\n",
    "    elif np.isnan(prior_cat['f_irac_i3'][i])==False:\n",
    "        MIPS_lower[i]=prior_cat['f_irac_i3'][i]/500.0\n",
    "        MIPS_upper[i]=prior_cat['f_irac_i3'][i]*500.0\n",
    "    elif np.isnan(prior_cat['f_irac_i2'][i])==False:\n",
    "        MIPS_lower[i]=prior_cat['f_irac_i2'][i]/500.0\n",
    "        MIPS_upper[i]=prior_cat['f_irac_i2'][i]*500.0\n",
    "    elif np.isnan(prior_cat['f_irac_i1'][i])==False:\n",
    "        MIPS_lower[i]=prior_cat['f_irac_i1'][i]/500.0\n",
    "        MIPS_upper[i]=prior_cat['f_irac_i1'][i]*500.0\n",
    "        \n",
    "mips_lower_col = Column(MIPS_lower,name='MIPS_lower')\n",
    "mips_upper_col = Column(MIPS_upper,name='MIPS_upper')\n",
    "prior_cat.add_columns([mips_lower_col,mips_upper_col])"
   ]
  },
  {
   "cell_type": "code",
   "execution_count": 24,
   "metadata": {},
   "outputs": [
    {
     "data": {
      "text/html": [
       "<i>Table masked=True length=3849</i>\n",
       "<table id=\"table140735718011512\" class=\"table-striped table-bordered table-condensed\">\n",
       "<thead><tr><th>Source_Name</th><th>RA</th><th>DEC</th><th>E_RA</th><th>E_DEC</th><th>Total_flux</th><th>E_Total_flux</th><th>Peak_flux</th><th>E_Peak_flux</th><th>S_Code</th><th>Maj</th><th>Min</th><th>PA</th><th>E_Maj</th><th>E_Min</th><th>E_PA</th><th>DC_Maj</th><th>DC_Min</th><th>DC_PA</th><th>Isl_rms</th><th>FLAG_WORKFLOW</th><th>Prefilter</th><th>NoID</th><th>lr_fin</th><th>optRA</th><th>optDec</th><th>LGZ_Size</th><th>LGZ_Width</th><th>LGZ_PA</th><th>Assoc</th><th>Assoc_Qual</th><th>Art_prob</th><th>Blend_prob</th><th>Hostbroken_prob</th><th>Imagemissing_prob</th><th>Zoom_prob</th><th>Created</th><th>Position_from</th><th>Renamed_from</th><th>FLAG_OVERLAP_RADIO</th><th>flag_clean_radio</th><th>ALPHA_J2000</th><th>DELTA_J2000</th><th>FLAG_DEEP</th><th>flag_clean</th><th>ID_OPTICAL</th><th>ID_SPITZER</th><th>ID</th><th>FLAG_OVERLAP</th><th>EBV</th><th>FUV_flux_corr</th><th>FUV_fluxerr_corr</th><th>FUV_mag_corr</th><th>FUV_magerr_corr</th><th>NUV_flux_corr</th><th>NUV_fluxerr_corr</th><th>NUV_mag_corr</th><th>NUV_magerr_corr</th><th>u_flux_corr</th><th>u_fluxerr_corr</th><th>u_mag_corr</th><th>u_magerr_corr</th><th>Bw_flux_corr</th><th>Bw_fluxerr_corr</th><th>Bw_mag_corr</th><th>Bw_magerr_corr</th><th>R_flux_corr</th><th>R_fluxerr_corr</th><th>R_mag_corr</th><th>R_magerr_corr</th><th>I_flux_corr</th><th>I_fluxerr_corr</th><th>I_mag_corr</th><th>I_magerr_corr</th><th>z_flux_corr</th><th>z_fluxerr_corr</th><th>z_mag_corr</th><th>z_magerr_corr</th><th>z_Subaru_flux_corr</th><th>z_Subaru_fluxerr_corr</th><th>z_Subaru_mag_corr</th><th>z_Subaru_magerr_corr</th><th>y_flux_corr</th><th>y_fluxerr_corr</th><th>y_mag_corr</th><th>y_magerr_corr</th><th>J_flux_corr</th><th>J_fluxerr_corr</th><th>J_mag_corr</th><th>J_magerr_corr</th><th>H_flux_corr</th><th>H_fluxerr_corr</th><th>H_mag_corr</th><th>H_magerr_corr</th><th>K_flux_corr</th><th>K_fluxerr_corr</th><th>K_mag_corr</th><th>K_magerr_corr</th><th>Ks_flux_corr</th><th>Ks_fluxerr_corr</th><th>Ks_mag_corr</th><th>Ks_magerr_corr</th><th>ch1_flux_corr</th><th>ch1_fluxerr_corr</th><th>ch1_mag_corr</th><th>ch1_magerr_corr</th><th>ch2_flux_corr</th><th>ch2_fluxerr_corr</th><th>ch2_mag_corr</th><th>ch2_magerr_corr</th><th>ch3_flux_corr</th><th>ch3_fluxerr_corr</th><th>ch3_mag_corr</th><th>ch3_magerr_corr</th><th>ch4_flux_corr</th><th>ch4_fluxerr_corr</th><th>ch4_mag_corr</th><th>ch4_magerr_corr</th><th>Separation</th><th>help_id</th><th>RA_HELP</th><th>DEC_HELP</th><th>CLASS_STAR</th><th>F_MIPS_24</th><th>FErr_MIPS_24_u</th><th>FErr_MIPS_24_l</th><th>Bkg_MIPS_24</th><th>Sig_conf_MIPS_24</th><th>Rhat_MIPS_24</th><th>n_eff_MIPS_24</th><th>Pval_res_24</th><th>flag_mips_24</th><th>F_PACS_100</th><th>FErr_PACS_100_u</th><th>FErr_PACS_100_l</th><th>F_PACS_160</th><th>FErr_PACS_160_u</th><th>FErr_PACS_160_l</th><th>Bkg_PACS_100</th><th>Bkg_PACS_160</th><th>Sig_conf_PACS_100</th><th>Sig_conf_PACS_160</th><th>Rhat_PACS_100</th><th>Rhat_PACS_160</th><th>n_eff_PACS_100</th><th>n_eff_PACS_160</th><th>Pval_res_100</th><th>Pval_res_160</th><th>flag_PACS_100</th><th>flag_PACS_160</th><th>F_SPIRE_250</th><th>FErr_SPIRE_250_u</th><th>FErr_SPIRE_250_l</th><th>F_SPIRE_350</th><th>FErr_SPIRE_350_u</th><th>FErr_SPIRE_350_l</th><th>F_SPIRE_500</th><th>FErr_SPIRE_500_u</th><th>FErr_SPIRE_500_l</th><th>Bkg_SPIRE_250</th><th>Bkg_SPIRE_350</th><th>Bkg_SPIRE_500</th><th>Sig_conf_SPIRE_250</th><th>Sig_conf_SPIRE_350</th><th>Sig_conf_SPIRE_500</th><th>Rhat_SPIRE_250</th><th>Rhat_SPIRE_350</th><th>Rhat_SPIRE_500</th><th>n_eff_SPIRE_250</th><th>n_eff_SPIRE_500</th><th>n_eff_SPIRE_350</th><th>Pval_res_250</th><th>Pval_res_350</th><th>Pval_res_500</th><th>flag_spire_250</th><th>flag_spire_350</th><th>flag_spire_500</th><th>Z_BEST</th><th>Z_BEST_SOURCE</th><th>Z_SPEC</th><th>Z_SOURCE</th><th>Z_QUAL</th><th>RA_ZSPEC</th><th>DEC_ZSPEC</th><th>REL</th><th>OBJID</th><th>z1_median</th><th>z1_min</th><th>z1_max</th><th>z1_area</th><th>z2_median</th><th>z2_min</th><th>z2_max</th><th>z2_area</th><th>nfilt_eazy</th><th>nfilt_atlas</th><th>nfilt_ananna</th><th>chi_r_best</th><th>chi_r_stellar</th><th>stellar_type</th><th>AGN</th><th>optAGN</th><th>IRAGN</th><th>AGN_ZSPEC</th><th>XrayAGN</th><th>XrayFlux_0.5-2</th><th>XrayHardness</th><th>hp_idx_11</th><th>hp_depth_cluster</th><th>tot_corr_z_Subaru</th><th>tot_corr_err_z_Subaru</th><th>tot_corr_z</th><th>tot_corr_err_z</th><th>zmodel</th><th>chi_best</th><th>Mass_median</th><th>Mass_l68</th><th>Mass_u68</th><th>SFR_median</th><th>SFR_l68</th><th>SFR_u68</th><th>Nfilts</th><th>u_rest</th><th>Bw_rest</th><th>R_rest</th><th>I_rest</th><th>z_rest</th><th>z_Subaru_rest</th><th>y_rest</th><th>J_rest</th><th>H_rest</th><th>K_rest</th><th>Ks_rest</th><th>ch1_rest</th><th>ch2_rest</th><th>ch3_rest</th><th>ch4_rest</th></tr></thead>\n",
       "<thead><tr><th></th><th></th><th></th><th></th><th></th><th></th><th></th><th></th><th></th><th></th><th></th><th></th><th></th><th></th><th></th><th></th><th></th><th></th><th></th><th></th><th></th><th></th><th></th><th></th><th></th><th></th><th></th><th></th><th></th><th></th><th></th><th></th><th></th><th></th><th></th><th></th><th></th><th></th><th></th><th></th><th></th><th></th><th></th><th></th><th></th><th></th><th></th><th></th><th></th><th></th><th></th><th></th><th></th><th></th><th></th><th></th><th></th><th></th><th></th><th></th><th></th><th></th><th></th><th></th><th></th><th></th><th></th><th></th><th></th><th></th><th></th><th></th><th></th><th></th><th></th><th></th><th></th><th></th><th></th><th></th><th></th><th></th><th></th><th></th><th></th><th></th><th></th><th></th><th></th><th></th><th></th><th></th><th></th><th></th><th></th><th></th><th></th><th></th><th></th><th></th><th></th><th></th><th></th><th></th><th></th><th></th><th></th><th></th><th></th><th></th><th></th><th></th><th></th><th></th><th></th><th></th><th></th><th></th><th></th><th></th><th></th><th></th><th></th><th></th><th></th><th></th><th></th><th></th><th></th><th></th><th></th><th></th><th></th><th></th><th></th><th></th><th></th><th></th><th></th><th></th><th></th><th></th><th></th><th></th><th></th><th></th><th></th><th></th><th></th><th></th><th></th><th></th><th></th><th></th><th></th><th></th><th></th><th></th><th></th><th></th><th></th><th></th><th></th><th></th><th></th><th></th><th></th><th></th><th></th><th></th><th></th><th></th><th></th><th></th><th></th><th></th><th></th><th></th><th></th><th></th><th></th><th></th><th></th><th></th><th></th><th></th><th></th><th></th><th></th><th></th><th></th><th></th><th></th><th></th><th></th><th></th><th></th><th></th><th></th><th></th><th></th><th></th><th></th><th></th><th></th><th></th><th></th><th>deg</th><th></th><th></th><th></th><th></th><th></th><th></th><th></th><th></th><th></th><th></th><th></th><th></th><th></th><th></th><th></th><th></th><th></th><th></th><th></th><th></th><th></th><th></th><th></th><th></th><th></th><th></th><th></th><th></th><th></th></tr></thead>\n",
       "<thead><tr><th>bytes22</th><th>float64</th><th>float64</th><th>float64</th><th>float64</th><th>float64</th><th>float64</th><th>float64</th><th>float64</th><th>bytes1</th><th>float64</th><th>float64</th><th>float64</th><th>float64</th><th>float64</th><th>float64</th><th>float64</th><th>float64</th><th>float64</th><th>float64</th><th>int64</th><th>int64</th><th>int64</th><th>float64</th><th>float64</th><th>float64</th><th>float64</th><th>float64</th><th>float64</th><th>int64</th><th>float64</th><th>float64</th><th>float64</th><th>float64</th><th>float64</th><th>float64</th><th>bytes22</th><th>bytes17</th><th>bytes22</th><th>int64</th><th>int64</th><th>float64</th><th>float64</th><th>float64</th><th>int64</th><th>int64</th><th>int64</th><th>float64</th><th>int64</th><th>float32</th><th>float64</th><th>float64</th><th>float64</th><th>float64</th><th>float64</th><th>float64</th><th>float64</th><th>float64</th><th>float64</th><th>float64</th><th>float64</th><th>float64</th><th>float64</th><th>float64</th><th>float64</th><th>float64</th><th>float64</th><th>float64</th><th>float64</th><th>float64</th><th>float64</th><th>float64</th><th>float64</th><th>float64</th><th>float64</th><th>float64</th><th>float64</th><th>float64</th><th>float64</th><th>float64</th><th>float64</th><th>float64</th><th>float64</th><th>float64</th><th>float64</th><th>float64</th><th>float64</th><th>float64</th><th>float64</th><th>float64</th><th>float64</th><th>float64</th><th>float64</th><th>float64</th><th>float64</th><th>float64</th><th>float64</th><th>float64</th><th>float64</th><th>float64</th><th>float64</th><th>float64</th><th>float64</th><th>float64</th><th>float64</th><th>float64</th><th>float64</th><th>float64</th><th>float64</th><th>float64</th><th>float64</th><th>float64</th><th>float64</th><th>float64</th><th>float64</th><th>float64</th><th>float64</th><th>float64</th><th>float64</th><th>bytes27</th><th>float64</th><th>float64</th><th>float32</th><th>float32</th><th>float32</th><th>float32</th><th>float32</th><th>float32</th><th>float32</th><th>float32</th><th>float32</th><th>bool</th><th>float32</th><th>float32</th><th>float32</th><th>float32</th><th>float32</th><th>float32</th><th>float32</th><th>float32</th><th>float32</th><th>float32</th><th>float32</th><th>float32</th><th>float32</th><th>float32</th><th>float32</th><th>float32</th><th>bool</th><th>bool</th><th>float32</th><th>float32</th><th>float32</th><th>float32</th><th>float32</th><th>float32</th><th>float32</th><th>float32</th><th>float32</th><th>float32</th><th>float32</th><th>float32</th><th>float32</th><th>float32</th><th>float32</th><th>float32</th><th>float32</th><th>float32</th><th>float32</th><th>float32</th><th>float32</th><th>float32</th><th>float32</th><th>float32</th><th>bool</th><th>bool</th><th>bool</th><th>float64</th><th>float64</th><th>float64</th><th>int64</th><th>int64</th><th>float64</th><th>float64</th><th>float64</th><th>bytes25</th><th>float64</th><th>float64</th><th>float64</th><th>float64</th><th>float64</th><th>float64</th><th>float64</th><th>float64</th><th>int64</th><th>int64</th><th>int64</th><th>float64</th><th>float64</th><th>bytes6</th><th>int64</th><th>float64</th><th>float64</th><th>int64</th><th>float64</th><th>float64</th><th>float64</th><th>int64</th><th>int32</th><th>float64</th><th>float64</th><th>float64</th><th>float64</th><th>float32</th><th>float32</th><th>float32</th><th>float32</th><th>float32</th><th>float32</th><th>float32</th><th>float32</th><th>int32</th><th>float32</th><th>float32</th><th>float32</th><th>float32</th><th>float32</th><th>float32</th><th>float32</th><th>float32</th><th>float32</th><th>float32</th><th>float32</th><th>float32</th><th>float32</th><th>float32</th><th>float32</th></tr></thead>\n",
       "<tr><td>ILTJ142426.18+354355.7</td><td>216.10908116330452</td><td>35.73215196185592</td><td>0.00029624138106374456</td><td>0.0001984955851937253</td><td>0.0011739308991089012</td><td>0.0002773059731874833</td><td>0.00037375154774999415</td><td>6.873855867090957e-05</td><td>S</td><td>0.0036313189488185564</td><td>0.0024040935704316008</td><td>65.9673923946618</td><td>0.0007384558792367798</td><td>0.00039987668379585096</td><td>22.907039046565725</td><td>0.0032257781153986797</td><td>0.0017325218042100205</td><td>65.9673923946618</td><td>6.673492316622287e-05</td><td>1</td><td>0</td><td>0</td><td>66.32612684304009</td><td>216.1095061</td><td>35.7323263</td><td>nan</td><td>nan</td><td>nan</td><td>0</td><td>nan</td><td>nan</td><td>nan</td><td>nan</td><td>nan</td><td>nan</td><td>Create initial sources</td><td>LR</td><td></td><td>1</td><td>1</td><td>216.1095061</td><td>35.7323263</td><td>nan</td><td>1</td><td>--</td><td>645665</td><td>2204704.0</td><td>1</td><td>0.013603256</td><td>nan</td><td>nan</td><td>nan</td><td>nan</td><td>0.09102021438928627</td><td>0.05956314438090831</td><td>25.593694632856888</td><td>nan</td><td>nan</td><td>nan</td><td>nan</td><td>nan</td><td>nan</td><td>nan</td><td>nan</td><td>nan</td><td>8.758798852938318</td><td>0.16860347405214424</td><td>21.543888657537323</td><td>0.020900000000000002</td><td>nan</td><td>nan</td><td>nan</td><td>nan</td><td>33.742797771245044</td><td>0.8577601211095562</td><td>20.079547297135257</td><td>0.0276</td><td>38.11816230088994</td><td>0.4248083114659669</td><td>19.947170160145685</td><td>0.0121</td><td>nan</td><td>nan</td><td>nan</td><td>nan</td><td>60.48834994799282</td><td>1.125378948951648</td><td>19.44582062417707</td><td>0.0202</td><td>76.85410025194724</td><td>1.9324371128855917</td><td>19.185832350101915</td><td>0.027299999999999998</td><td>175.20951695518224</td><td>17.444521698596677</td><td>18.29110576935058</td><td>0.10809999999999999</td><td>125.66976628760706</td><td>2.581138748005496</td><td>18.65192297143949</td><td>0.0223</td><td>165.55385047347906</td><td>1.006372826416315</td><td>18.352651829414818</td><td>0.006599999999999999</td><td>101.30684140915983</td><td>1.5862198353598946</td><td>18.885903053768534</td><td>0.017</td><td>101.09043004474171</td><td>8.333141558100591</td><td>18.88822488787843</td><td>0.0895</td><td>57.05190826334381</td><td>8.717505725064445</td><td>19.50932454674964</td><td>0.1659</td><td>0.0</td><td>N/A</td><td>nan</td><td>nan</td><td>nan</td><td>nan</td><td>nan</td><td>nan</td><td>nan</td><td>nan</td><td>nan</td><td>nan</td><td>nan</td><td>True</td><td>nan</td><td>nan</td><td>nan</td><td>nan</td><td>nan</td><td>nan</td><td>nan</td><td>nan</td><td>nan</td><td>nan</td><td>nan</td><td>nan</td><td>nan</td><td>nan</td><td>nan</td><td>nan</td><td>True</td><td>True</td><td>nan</td><td>nan</td><td>nan</td><td>nan</td><td>nan</td><td>nan</td><td>nan</td><td>nan</td><td>nan</td><td>nan</td><td>nan</td><td>nan</td><td>nan</td><td>nan</td><td>nan</td><td>nan</td><td>nan</td><td>nan</td><td>nan</td><td>nan</td><td>nan</td><td>nan</td><td>nan</td><td>nan</td><td>True</td><td>True</td><td>True</td><td>nan</td><td>0.0</td><td>nan</td><td>--</td><td>--</td><td>nan</td><td>nan</td><td>nan</td><td>N/A</td><td>nan</td><td>nan</td><td>nan</td><td>nan</td><td>nan</td><td>nan</td><td>nan</td><td>nan</td><td>11</td><td>11</td><td>9</td><td>1.32261625</td><td>194.09550000000002</td><td>m8iii</td><td>0</td><td>0.0</td><td>0.0</td><td>--</td><td>0.0</td><td>nan</td><td>nan</td><td>10773918</td><td>37</td><td>1.0</td><td>nan</td><td>1.0</td><td>nan</td><td>nan</td><td>nan</td><td>nan</td><td>nan</td><td>nan</td><td>nan</td><td>nan</td><td>nan</td><td>--</td><td>nan</td><td>nan</td><td>nan</td><td>nan</td><td>nan</td><td>nan</td><td>nan</td><td>nan</td><td>nan</td><td>nan</td><td>nan</td><td>nan</td><td>nan</td><td>nan</td><td>nan</td></tr>\n",
       "<tr><td>ILTJ142426.44+354503.4</td><td>216.11014740089936</td><td>35.75094361067235</td><td>0.00013971520878493625</td><td>8.91414705899048e-05</td><td>0.0009796323946790254</td><td>0.00017798338938779034</td><td>0.000586807148150815</td><td>7.154445455252174e-05</td><td>S</td><td>0.002451179261914981</td><td>0.0018930052832488772</td><td>91.7847880141057</td><td>0.0003293216259286393</td><td>0.00020944393477371372</td><td>21.116309413871612</td><td>0.0017968519542714946</td><td>0.0008967541987625644</td><td>91.7847880141057</td><td>6.686092092422768e-05</td><td>1</td><td>0</td><td>0</td><td>143.350862679995</td><td>216.1100824</td><td>35.750863</td><td>nan</td><td>nan</td><td>nan</td><td>0</td><td>nan</td><td>nan</td><td>nan</td><td>nan</td><td>nan</td><td>nan</td><td>Create initial sources</td><td>LR</td><td></td><td>1</td><td>1</td><td>216.1100824</td><td>35.750863</td><td>nan</td><td>1</td><td>--</td><td>648439</td><td>2205176.0</td><td>1</td><td>0.013405637</td><td>nan</td><td>nan</td><td>nan</td><td>nan</td><td>0.12104087334572121</td><td>0.056555206300745405</td><td>26.19266981782496</td><td>0.5073000000000001</td><td>nan</td><td>nan</td><td>nan</td><td>nan</td><td>nan</td><td>nan</td><td>nan</td><td>nan</td><td>1.3827278636694795</td><td>0.1544803324491441</td><td>23.548158155873637</td><td>0.1213</td><td>nan</td><td>nan</td><td>nan</td><td>nan</td><td>2.296511258228813</td><td>0.8505078608293426</td><td>22.99732852675047</td><td>0.4021</td><td>1.6207011680840828</td><td>0.46334057975469983</td><td>23.37574265768044</td><td>0.3104</td><td>nan</td><td>nan</td><td>nan</td><td>nan</td><td>5.001354883706851</td><td>1.1884558646396248</td><td>22.152280864745293</td><td>0.258</td><td>9.201663609504147</td><td>2.1535090318701067</td><td>21.49033413946837</td><td>0.2541</td><td>45.00813183749923</td><td>13.924405779195592</td><td>19.766772574981502</td><td>0.3359</td><td>10.432857626277153</td><td>3.182506423457388</td><td>21.353991828774046</td><td>0.3312</td><td>27.674814578016605</td><td>1.1954550267558994</td><td>20.294788194534558</td><td>0.0469</td><td>36.450858935246885</td><td>1.7356973072221331</td><td>19.995730543966214</td><td>0.0517</td><td>48.10848932968812</td><td>9.048011365993602</td><td>19.69444570386929</td><td>0.2042</td><td>64.08322069202963</td><td>9.136733692449805</td><td>19.383139211936975</td><td>0.15479999999999997</td><td>0.0</td><td>N/A</td><td>nan</td><td>nan</td><td>nan</td><td>nan</td><td>nan</td><td>nan</td><td>nan</td><td>nan</td><td>nan</td><td>nan</td><td>nan</td><td>True</td><td>nan</td><td>nan</td><td>nan</td><td>nan</td><td>nan</td><td>nan</td><td>nan</td><td>nan</td><td>nan</td><td>nan</td><td>nan</td><td>nan</td><td>nan</td><td>nan</td><td>nan</td><td>nan</td><td>True</td><td>True</td><td>nan</td><td>nan</td><td>nan</td><td>nan</td><td>nan</td><td>nan</td><td>nan</td><td>nan</td><td>nan</td><td>nan</td><td>nan</td><td>nan</td><td>nan</td><td>nan</td><td>nan</td><td>nan</td><td>nan</td><td>nan</td><td>nan</td><td>nan</td><td>nan</td><td>nan</td><td>nan</td><td>nan</td><td>True</td><td>True</td><td>True</td><td>2.4986</td><td>0.0</td><td>nan</td><td>--</td><td>--</td><td>nan</td><td>nan</td><td>nan</td><td>N/A</td><td>2.4986</td><td>1.12</td><td>3.87</td><td>0.803</td><td>nan</td><td>nan</td><td>nan</td><td>nan</td><td>11</td><td>11</td><td>9</td><td>0.7288542</td><td>6.029203333333334</td><td>rk0v</td><td>1</td><td>0.0</td><td>1.0</td><td>--</td><td>0.0</td><td>nan</td><td>nan</td><td>10773919</td><td>7</td><td>1.0</td><td>nan</td><td>1.0</td><td>nan</td><td>nan</td><td>nan</td><td>nan</td><td>nan</td><td>nan</td><td>nan</td><td>nan</td><td>nan</td><td>--</td><td>nan</td><td>nan</td><td>nan</td><td>nan</td><td>nan</td><td>nan</td><td>nan</td><td>nan</td><td>nan</td><td>nan</td><td>nan</td><td>nan</td><td>nan</td><td>nan</td><td>nan</td></tr>\n",
       "<tr><td>ILTJ142426.69+354941.4</td><td>216.1112288555118</td><td>35.82816821258768</td><td>0.00013359832232176944</td><td>0.00014626609581090577</td><td>0.00038566374103612966</td><td>0.00012080471030348432</td><td>0.00034671827079627406</td><td>6.490629641190945e-05</td><td>S</td><td>0.001800044920588539</td><td>0.0017175949145345614</td><td>175.02327857553846</td><td>0.00034452505614993446</td><td>0.0003144875465646941</td><td>164.06441301978677</td><td>0.0006790359332218416</td><td>0.00041247536089168224</td><td>175.02327857553846</td><td>6.336229853332043e-05</td><td>1</td><td>0</td><td>0</td><td>92.30360325023649</td><td>216.1113229</td><td>35.8282875</td><td>nan</td><td>nan</td><td>nan</td><td>0</td><td>nan</td><td>nan</td><td>nan</td><td>nan</td><td>nan</td><td>nan</td><td>Create initial sources</td><td>LR</td><td></td><td>1</td><td>1</td><td>216.1113229</td><td>35.8282875</td><td>nan</td><td>1</td><td>--</td><td>661991</td><td>2207646.0</td><td>1</td><td>0.012169649</td><td>nan</td><td>nan</td><td>nan</td><td>nan</td><td>0.041518632140570624</td><td>0.06948603733762151</td><td>25.75886285868762</td><td>nan</td><td>nan</td><td>nan</td><td>nan</td><td>nan</td><td>nan</td><td>nan</td><td>nan</td><td>nan</td><td>0.20908465167857687</td><td>0.16592182806171912</td><td>24.567150670451067</td><td>nan</td><td>nan</td><td>nan</td><td>nan</td><td>nan</td><td>nan</td><td>nan</td><td>nan</td><td>nan</td><td>nan</td><td>nan</td><td>nan</td><td>nan</td><td>nan</td><td>nan</td><td>nan</td><td>nan</td><td>nan</td><td>nan</td><td>nan</td><td>nan</td><td>nan</td><td>nan</td><td>nan</td><td>nan</td><td>nan</td><td>nan</td><td>nan</td><td>nan</td><td>nan</td><td>nan</td><td>nan</td><td>nan</td><td>30.157389609849275</td><td>1.6193397683057678</td><td>20.201515636080135</td><td>0.058300000000000005</td><td>36.114285134249286</td><td>2.534601420833011</td><td>20.005802478337095</td><td>0.07620000000000002</td><td>44.084878682604575</td><td>9.761123179694525</td><td>19.7892758949654</td><td>0.2404</td><td>41.862735570122055</td><td>11.112128653752384</td><td>19.84543093358998</td><td>0.2882</td><td>0.0</td><td>N/A</td><td>nan</td><td>nan</td><td>nan</td><td>nan</td><td>nan</td><td>nan</td><td>nan</td><td>nan</td><td>nan</td><td>nan</td><td>nan</td><td>True</td><td>nan</td><td>nan</td><td>nan</td><td>nan</td><td>nan</td><td>nan</td><td>nan</td><td>nan</td><td>nan</td><td>nan</td><td>nan</td><td>nan</td><td>nan</td><td>nan</td><td>nan</td><td>nan</td><td>True</td><td>True</td><td>nan</td><td>nan</td><td>nan</td><td>nan</td><td>nan</td><td>nan</td><td>nan</td><td>nan</td><td>nan</td><td>nan</td><td>nan</td><td>nan</td><td>nan</td><td>nan</td><td>nan</td><td>nan</td><td>nan</td><td>nan</td><td>nan</td><td>nan</td><td>nan</td><td>nan</td><td>nan</td><td>nan</td><td>True</td><td>True</td><td>True</td><td>nan</td><td>0.0</td><td>nan</td><td>--</td><td>--</td><td>nan</td><td>nan</td><td>nan</td><td>N/A</td><td>nan</td><td>nan</td><td>nan</td><td>nan</td><td>nan</td><td>nan</td><td>nan</td><td>nan</td><td>5</td><td>5</td><td>-99</td><td>0.00084312425</td><td>nan</td><td></td><td>0</td><td>0.0</td><td>0.0</td><td>--</td><td>0.0</td><td>nan</td><td>nan</td><td>10773986</td><td>37</td><td>1.0</td><td>nan</td><td>1.0</td><td>nan</td><td>nan</td><td>nan</td><td>nan</td><td>nan</td><td>nan</td><td>nan</td><td>nan</td><td>nan</td><td>--</td><td>nan</td><td>nan</td><td>nan</td><td>nan</td><td>nan</td><td>nan</td><td>nan</td><td>nan</td><td>nan</td><td>nan</td><td>nan</td><td>nan</td><td>nan</td><td>nan</td><td>nan</td></tr>\n",
       "<tr><td>ILTJ142426.73+341313.2</td><td>216.11139553658276</td><td>34.22034543388555</td><td>6.578249498277204e-05</td><td>5.531874149099635e-05</td><td>0.0017434016040863822</td><td>0.000175418461057222</td><td>0.0010882967818388214</td><td>7.293349871206747e-05</td><td>S</td><td>0.0022460340955311247</td><td>0.0019819706676100233</td><td>107.88940103453736</td><td>0.00015785829198777744</td><td>0.00012665011166532156</td><td>22.38522065880595</td><td>0.0015049329324112871</td><td>0.0010725550297029697</td><td>107.88940103453736</td><td>6.774534995201975e-05</td><td>1</td><td>0</td><td>0</td><td>2879.0313550386745</td><td>216.111271</td><td>34.2204359</td><td>nan</td><td>nan</td><td>nan</td><td>0</td><td>nan</td><td>nan</td><td>nan</td><td>nan</td><td>nan</td><td>nan</td><td>Create initial sources</td><td>LR</td><td></td><td>1</td><td>1</td><td>216.111271</td><td>34.2204359</td><td>nan</td><td>1</td><td>--</td><td>338211</td><td>2144717.0</td><td>1</td><td>0.015971446</td><td>nan</td><td>nan</td><td>nan</td><td>nan</td><td>nan</td><td>nan</td><td>nan</td><td>nan</td><td>13.03887448725596</td><td>0.14050819235127146</td><td>21.11189971516158</td><td>0.011699999999999999</td><td>nan</td><td>nan</td><td>nan</td><td>nan</td><td>nan</td><td>nan</td><td>nan</td><td>nan</td><td>0.01193965417314012</td><td>0.40099932885681416</td><td>24.12352127669346</td><td>nan</td><td>126.80288857076819</td><td>1.2379716297197363</td><td>18.642177131310365</td><td>0.010600000000000002</td><td>123.98185931099455</td><td>0.2512213273250393</td><td>18.66660465635173</td><td>0.0022</td><td>126.96498676609824</td><td>1.3564932623894908</td><td>18.640790079711287</td><td>0.0116</td><td>186.72386952539276</td><td>0.722311965438562</td><td>18.222000367413376</td><td>0.0042</td><td>228.8942985014009</td><td>1.5389819108339124</td><td>18.000912550825475</td><td>0.007299999999999999</td><td>278.12365321345203</td><td>26.025993277788544</td><td>17.789405199808826</td><td>0.1016</td><td>286.15470318163193</td><td>2.5828705710377533</td><td>17.758497810325153</td><td>0.0098</td><td>184.46483129381897</td><td>1.3591871063001892</td><td>18.23521604449004</td><td>0.008</td><td>205.63192611531233</td><td>1.212121619754934</td><td>18.117273622272904</td><td>0.0064</td><td>167.03589970506613</td><td>10.492280086048417</td><td>18.342975437899845</td><td>0.0682</td><td>1071.4711014032584</td><td>11.250219438632648</td><td>16.325048805248485</td><td>0.011400000000000002</td><td>0.0</td><td>N/A</td><td>nan</td><td>nan</td><td>nan</td><td>nan</td><td>nan</td><td>nan</td><td>nan</td><td>nan</td><td>nan</td><td>nan</td><td>nan</td><td>True</td><td>nan</td><td>nan</td><td>nan</td><td>nan</td><td>nan</td><td>nan</td><td>nan</td><td>nan</td><td>nan</td><td>nan</td><td>nan</td><td>nan</td><td>nan</td><td>nan</td><td>nan</td><td>nan</td><td>True</td><td>True</td><td>nan</td><td>nan</td><td>nan</td><td>nan</td><td>nan</td><td>nan</td><td>nan</td><td>nan</td><td>nan</td><td>nan</td><td>nan</td><td>nan</td><td>nan</td><td>nan</td><td>nan</td><td>nan</td><td>nan</td><td>nan</td><td>nan</td><td>nan</td><td>nan</td><td>nan</td><td>nan</td><td>nan</td><td>True</td><td>True</td><td>True</td><td>4.5887</td><td>0.0</td><td>nan</td><td>--</td><td>--</td><td>nan</td><td>nan</td><td>nan</td><td>N/A</td><td>4.5887</td><td>2.19</td><td>7.0</td><td>0.668</td><td>0.7189</td><td>0.0</td><td>1.53</td><td>0.238</td><td>12</td><td>12</td><td>10</td><td>0.47251944444444444</td><td>71.89617142857142</td><td>rk0v</td><td>0</td><td>0.0</td><td>0.0</td><td>--</td><td>0.0</td><td>nan</td><td>nan</td><td>10766745</td><td>41</td><td>1.4141793724841831</td><td>0.006673693729398893</td><td>1.3503875089142907</td><td>0.014385258252604609</td><td>nan</td><td>nan</td><td>nan</td><td>nan</td><td>nan</td><td>nan</td><td>nan</td><td>nan</td><td>--</td><td>nan</td><td>nan</td><td>nan</td><td>nan</td><td>nan</td><td>nan</td><td>nan</td><td>nan</td><td>nan</td><td>nan</td><td>nan</td><td>nan</td><td>nan</td><td>nan</td><td>nan</td></tr>\n",
       "<tr><td>ILTJ142426.85+352815.2</td><td>216.11186758513622</td><td>35.47091525047069</td><td>0.00016379606138898918</td><td>0.00015097326233534102</td><td>0.0005854215084327365</td><td>0.0001530036641152945</td><td>0.00037525682784497765</td><td>6.468904160991915e-05</td><td>S</td><td>0.0023070948389036184</td><td>0.001879285721596811</td><td>127.21210489243526</td><td>0.0004311563581405018</td><td>0.0002988324082667973</td><td>37.151890697829536</td><td>0.001595182827927487</td><td>0.0008668410090479819</td><td>127.21210489243525</td><td>6.0504680732265115e-05</td><td>1</td><td>0</td><td>0</td><td>174.83838882252212</td><td>216.111874</td><td>35.470818</td><td>nan</td><td>nan</td><td>nan</td><td>0</td><td>nan</td><td>nan</td><td>nan</td><td>nan</td><td>nan</td><td>nan</td><td>Create initial sources</td><td>LR</td><td></td><td>1</td><td>1</td><td>216.111874</td><td>35.470818</td><td>nan</td><td>1</td><td>--</td><td>593781</td><td>2195635.0</td><td>1</td><td>0.015258953</td><td>nan</td><td>nan</td><td>nan</td><td>nan</td><td>0.3137063306896464</td><td>0.0688819152466894</td><td>25.158691755469437</td><td>0.23840000000000003</td><td>1.8908810366605806</td><td>0.09003895160439067</td><td>23.20833946195867</td><td>0.0517</td><td>nan</td><td>nan</td><td>nan</td><td>nan</td><td>6.857691652145377</td><td>0.27475328312808595</td><td>21.809555127236465</td><td>0.04349999999999999</td><td>18.62894173439822</td><td>0.2436420296837983</td><td>20.724529579131246</td><td>0.014199999999999999</td><td>15.904629811791759</td><td>0.6943486362296186</td><td>20.896191078961152</td><td>0.04739999999999999</td><td>15.160905700992997</td><td>0.5068826797284941</td><td>20.94818711598628</td><td>0.0363</td><td>19.6800464496639</td><td>0.7177893082973158</td><td>20.66493470174214</td><td>0.03960000000000001</td><td>27.58854187013792</td><td>1.2628763091227186</td><td>20.298178095677407</td><td>0.04970000000000001</td><td>35.11787314109488</td><td>2.6296287015749313</td><td>20.036179539417322</td><td>0.0813</td><td>31.187573131061626</td><td>20.144713735217042</td><td>19.26458421260667</td><td>nan</td><td>48.10847285162457</td><td>2.7870701272610643</td><td>19.694446068327256</td><td>0.0629</td><td>87.11664019260729</td><td>1.4924154693206226</td><td>19.049747154685114</td><td>0.0186</td><td>80.87437059282446</td><td>1.4525169370320463</td><td>19.13047273501828</td><td>0.0195</td><td>61.113870093099145</td><td>11.437712354525555</td><td>19.434650487481782</td><td>0.20320000000000002</td><td>77.37475913107454</td><td>8.045794427426646</td><td>19.178501678759353</td><td>0.11289999999999999</td><td>0.0</td><td>N/A</td><td>nan</td><td>nan</td><td>nan</td><td>nan</td><td>nan</td><td>nan</td><td>nan</td><td>nan</td><td>nan</td><td>nan</td><td>nan</td><td>True</td><td>nan</td><td>nan</td><td>nan</td><td>nan</td><td>nan</td><td>nan</td><td>nan</td><td>nan</td><td>nan</td><td>nan</td><td>nan</td><td>nan</td><td>nan</td><td>nan</td><td>nan</td><td>nan</td><td>True</td><td>True</td><td>nan</td><td>nan</td><td>nan</td><td>nan</td><td>nan</td><td>nan</td><td>nan</td><td>nan</td><td>nan</td><td>nan</td><td>nan</td><td>nan</td><td>nan</td><td>nan</td><td>nan</td><td>nan</td><td>nan</td><td>nan</td><td>nan</td><td>nan</td><td>nan</td><td>nan</td><td>nan</td><td>nan</td><td>True</td><td>True</td><td>True</td><td>2.7221</td><td>0.0</td><td>nan</td><td>--</td><td>--</td><td>nan</td><td>nan</td><td>nan</td><td>N/A</td><td>2.7221</td><td>1.88</td><td>3.47</td><td>0.544</td><td>0.8625</td><td>0.62</td><td>1.14</td><td>0.231</td><td>14</td><td>14</td><td>12</td><td>2.2402990909090907</td><td>52.18253333333334</td><td>rk0v</td><td>0</td><td>0.0</td><td>0.0</td><td>--</td><td>0.0</td><td>nan</td><td>nan</td><td>10773795</td><td>31</td><td>1.0</td><td>nan</td><td>1.0</td><td>nan</td><td>nan</td><td>nan</td><td>nan</td><td>nan</td><td>nan</td><td>nan</td><td>nan</td><td>nan</td><td>--</td><td>nan</td><td>nan</td><td>nan</td><td>nan</td><td>nan</td><td>nan</td><td>nan</td><td>nan</td><td>nan</td><td>nan</td><td>nan</td><td>nan</td><td>nan</td><td>nan</td><td>nan</td></tr>\n",
       "<tr><td>ILTJ142427.08+340855.7</td><td>216.1128229236251</td><td>34.14880659468217</td><td>8.24979153741213e-05</td><td>0.00011960009492673746</td><td>0.0021039489830537946</td><td>0.00024543499439671725</td><td>0.0007908283447899122</td><td>6.216427573235705e-05</td><td>M</td><td>0.0028163744045726895</td><td>0.0020533124620521945</td><td>67.87329319650142</td><td>0.00029421815852744904</td><td>0.00017462778463534954</td><td>14.717012249919945</td><td>0.0022699504900423285</td><td>0.0011990268131741968</td><td>67.87329319650142</td><td>6.216427573235705e-05</td><td>1</td><td>0</td><td>0</td><td>nan</td><td>216.112556</td><td>34.143779</td><td>nan</td><td>nan</td><td>nan</td><td>0</td><td>nan</td><td>nan</td><td>nan</td><td>0.0</td><td>0.0</td><td>0.0</td><td>Too zoomed in</td><td>Visual inspection</td><td></td><td>1</td><td>1</td><td>216.1128671</td><td>34.1436767</td><td>nan</td><td>1</td><td>--</td><td>322304</td><td>2141705.0</td><td>1</td><td>0.016846178</td><td>nan</td><td>nan</td><td>nan</td><td>nan</td><td>nan</td><td>nan</td><td>nan</td><td>nan</td><td>0.3512766942146259</td><td>0.12397968183536041</td><td>25.035876718628668</td><td>0.3832</td><td>nan</td><td>nan</td><td>nan</td><td>nan</td><td>nan</td><td>nan</td><td>nan</td><td>nan</td><td>nan</td><td>nan</td><td>nan</td><td>nan</td><td>34.800628257653855</td><td>1.083376634171223</td><td>20.046032303205394</td><td>0.033800000000000004</td><td>38.92248818482773</td><td>0.3154706405897066</td><td>19.924498487446833</td><td>0.008799999999999999</td><td>40.87885529921507</td><td>1.231181720224683</td><td>19.87125313398084</td><td>0.0327</td><td>59.748027346853</td><td>0.7869285258386799</td><td>19.459191087973032</td><td>0.014300000000000002</td><td>80.6817264324492</td><td>1.4119017082588967</td><td>19.133061996521647</td><td>0.019</td><td>90.54744243418072</td><td>19.55666133059048</td><td>19.00780949557816</td><td>0.23450000000000001</td><td>103.74395222596394</td><td>3.0863202702585797</td><td>18.86009302337108</td><td>0.032299999999999995</td><td>79.23151483268497</td><td>1.4594984395926163</td><td>19.15275507981852</td><td>0.02</td><td>59.74467599675326</td><td>1.870913924568012</td><td>19.45925194125324</td><td>0.034</td><td>48.87048795527006</td><td>7.008272305270176</td><td>19.67738329936357</td><td>0.1557</td><td>39.160337184809826</td><td>11.365027888779334</td><td>19.917883892065035</td><td>0.31509999999999994</td><td>0.9973973799624246</td><td>N/A</td><td>nan</td><td>nan</td><td>nan</td><td>nan</td><td>nan</td><td>nan</td><td>nan</td><td>nan</td><td>nan</td><td>nan</td><td>nan</td><td>True</td><td>nan</td><td>nan</td><td>nan</td><td>nan</td><td>nan</td><td>nan</td><td>nan</td><td>nan</td><td>nan</td><td>nan</td><td>nan</td><td>nan</td><td>nan</td><td>nan</td><td>nan</td><td>nan</td><td>True</td><td>True</td><td>nan</td><td>nan</td><td>nan</td><td>nan</td><td>nan</td><td>nan</td><td>nan</td><td>nan</td><td>nan</td><td>nan</td><td>nan</td><td>nan</td><td>nan</td><td>nan</td><td>nan</td><td>nan</td><td>nan</td><td>nan</td><td>nan</td><td>nan</td><td>nan</td><td>nan</td><td>nan</td><td>nan</td><td>True</td><td>True</td><td>True</td><td>nan</td><td>0.0</td><td>nan</td><td>--</td><td>--</td><td>nan</td><td>nan</td><td>nan</td><td>N/A</td><td>nan</td><td>nan</td><td>nan</td><td>nan</td><td>nan</td><td>nan</td><td>nan</td><td>nan</td><td>12</td><td>12</td><td>10</td><td>0.5760265454545455</td><td>105.84545714285714</td><td>m8iii</td><td>0</td><td>0.0</td><td>0.0</td><td>--</td><td>0.0</td><td>nan</td><td>nan</td><td>10766725</td><td>41</td><td>1.0550017939430807</td><td>0.015006739824271916</td><td>1.1523691543615031</td><td>0.038319978188532666</td><td>nan</td><td>nan</td><td>nan</td><td>nan</td><td>nan</td><td>nan</td><td>nan</td><td>nan</td><td>--</td><td>nan</td><td>nan</td><td>nan</td><td>nan</td><td>nan</td><td>nan</td><td>nan</td><td>nan</td><td>nan</td><td>nan</td><td>nan</td><td>nan</td><td>nan</td><td>nan</td><td>nan</td></tr>\n",
       "<tr><td>ILTJ142427.15+355030.5</td><td>216.11312300003408</td><td>35.84180540964815</td><td>9.504258781381164e-05</td><td>5.8485369723244485e-05</td><td>0.0004122955741406061</td><td>8.941051333973479e-05</td><td>0.0004995592744355663</td><td>5.788913612920846e-05</td><td>S</td><td>0.001701267814627654</td><td>0.0013484133352219222</td><td>87.25222514729033</td><td>0.00022392356072111082</td><td>0.0001375675454357087</td><td>21.140910944207633</td><td>0.0</td><td>0.0</td><td>0.0</td><td>6.17709374637343e-05</td><td>1</td><td>0</td><td>0</td><td>212.48706403863537</td><td>216.1132854</td><td>35.8418854</td><td>nan</td><td>nan</td><td>nan</td><td>0</td><td>nan</td><td>nan</td><td>nan</td><td>nan</td><td>nan</td><td>nan</td><td>Create initial sources</td><td>LR</td><td></td><td>1</td><td>1</td><td>216.1132854</td><td>35.8418854</td><td>nan</td><td>1</td><td>--</td><td>668589</td><td>2211945.0</td><td>1</td><td>0.011925632</td><td>nan</td><td>nan</td><td>nan</td><td>nan</td><td>0.10256431671678942</td><td>0.07676244321485957</td><td>25.379021854880662</td><td>nan</td><td>nan</td><td>nan</td><td>nan</td><td>nan</td><td>nan</td><td>nan</td><td>nan</td><td>nan</td><td>2.936096326727994</td><td>0.15468279417490224</td><td>22.730574286023</td><td>0.05720000000000001</td><td>0.015096831724393927</td><td>0.3753878553958721</td><td>24.189608776057234</td><td>nan</td><td>4.556025171260276</td><td>0.874499387171267</td><td>22.253534718340894</td><td>0.20839999999999997</td><td>nan</td><td>nan</td><td>nan</td><td>nan</td><td>nan</td><td>nan</td><td>nan</td><td>nan</td><td>nan</td><td>nan</td><td>nan</td><td>nan</td><td>nan</td><td>nan</td><td>nan</td><td>nan</td><td>nan</td><td>nan</td><td>nan</td><td>nan</td><td>nan</td><td>nan</td><td>nan</td><td>nan</td><td>25.4786120981966</td><td>1.5136001481131194</td><td>20.384560539099578</td><td>0.0645</td><td>37.74552128711615</td><td>2.6490861311187337</td><td>19.957836422716635</td><td>0.07620000000000002</td><td>37.435131188015944</td><td>9.385191969027082</td><td>19.966801598071477</td><td>0.2722</td><td>78.06571869698723</td><td>13.244198103524077</td><td>19.168849041935086</td><td>0.18420000000000003</td><td>0.0</td><td>N/A</td><td>nan</td><td>nan</td><td>nan</td><td>nan</td><td>nan</td><td>nan</td><td>nan</td><td>nan</td><td>nan</td><td>nan</td><td>nan</td><td>True</td><td>nan</td><td>nan</td><td>nan</td><td>nan</td><td>nan</td><td>nan</td><td>nan</td><td>nan</td><td>nan</td><td>nan</td><td>nan</td><td>nan</td><td>nan</td><td>nan</td><td>nan</td><td>nan</td><td>True</td><td>True</td><td>nan</td><td>nan</td><td>nan</td><td>nan</td><td>nan</td><td>nan</td><td>nan</td><td>nan</td><td>nan</td><td>nan</td><td>nan</td><td>nan</td><td>nan</td><td>nan</td><td>nan</td><td>nan</td><td>nan</td><td>nan</td><td>nan</td><td>nan</td><td>nan</td><td>nan</td><td>nan</td><td>nan</td><td>True</td><td>True</td><td>True</td><td>3.3012</td><td>0.0</td><td>nan</td><td>--</td><td>--</td><td>nan</td><td>nan</td><td>nan</td><td>N/A</td><td>3.3012</td><td>2.29</td><td>4.3</td><td>0.798</td><td>nan</td><td>nan</td><td>nan</td><td>nan</td><td>7</td><td>7</td><td>5</td><td>6.152993333333334</td><td>nan</td><td></td><td>0</td><td>0.0</td><td>0.0</td><td>--</td><td>0.0</td><td>nan</td><td>nan</td><td>10773987</td><td>30</td><td>1.0</td><td>nan</td><td>1.0</td><td>nan</td><td>nan</td><td>nan</td><td>nan</td><td>nan</td><td>nan</td><td>nan</td><td>nan</td><td>nan</td><td>--</td><td>nan</td><td>nan</td><td>nan</td><td>nan</td><td>nan</td><td>nan</td><td>nan</td><td>nan</td><td>nan</td><td>nan</td><td>nan</td><td>nan</td><td>nan</td><td>nan</td><td>nan</td></tr>\n",
       "<tr><td>ILTJ142427.17+354647.0</td><td>216.11318926620496</td><td>35.779744573228626</td><td>0.00010821167433075006</td><td>0.00013264916658568566</td><td>0.00035035546431777894</td><td>0.00010839156568923065</td><td>0.00038369876156237563</td><td>6.597627194558208e-05</td><td>S</td><td>0.0017590041793224033</td><td>0.001442829452872404</td><td>28.087817738498032</td><td>0.00033539481986474124</td><td>0.00022372795085053585</td><td>37.37334648294129</td><td>0.0</td><td>0.0</td><td>0.0</td><td>6.80928205838427e-05</td><td>1</td><td>0</td><td>0</td><td>80.78602598638452</td><td>216.1131298</td><td>35.7798454</td><td>nan</td><td>nan</td><td>nan</td><td>0</td><td>nan</td><td>nan</td><td>nan</td><td>nan</td><td>nan</td><td>nan</td><td>Create initial sources</td><td>LR</td><td></td><td>1</td><td>1</td><td>216.1131298</td><td>35.7798454</td><td>1.0</td><td>1</td><td>2021745</td><td>--</td><td>2021744.0</td><td>1</td><td>0.012971748</td><td>nan</td><td>nan</td><td>nan</td><td>nan</td><td>7.500074044799817</td><td>0.02647669029199795</td><td>21.712335385382175</td><td>0.0038328554946929216</td><td>nan</td><td>nan</td><td>nan</td><td>nan</td><td>nan</td><td>nan</td><td>nan</td><td>nan</td><td>63.55711080995934</td><td>0.12975494866044635</td><td>19.392089162021875</td><td>0.0022165835835039616</td><td>96.88935934022265</td><td>0.2025363723318847</td><td>18.934309612959623</td><td>0.0022696100641041994</td><td>81.02550520716431</td><td>0.625287490282254</td><td>19.12844584323466</td><td>0.008378809317946434</td><td>88.15842162475928</td><td>0.5978981213742784</td><td>19.03683887794614</td><td>0.007363557815551758</td><td>nan</td><td>nan</td><td>nan</td><td>nan</td><td>100.02452984837055</td><td>0.930739565613024</td><td>18.899733423255384</td><td>0.010102897882461548</td><td>99.86589519493555</td><td>2.3683516093031187</td><td>18.901456829626113</td><td>0.02574857883155346</td><td>196.42286030880132</td><td>13.996629750495345</td><td>18.16702067758888</td><td>0.07736700028181076</td><td>115.04378865534272</td><td>2.954568702834763</td><td>18.747841483913362</td><td>0.02788401022553444</td><td>90.91019114425944</td><td>1.1215308128085297</td><td>19.003468550508842</td><td>0.013394390232861042</td><td>75.80955675221958</td><td>1.4214560558081786</td><td>19.200689208926633</td><td>0.02035793848335743</td><td>68.5619255093452</td><td>4.570748340559533</td><td>19.3097908658674</td><td>0.07238166779279709</td><td>495.052235009116</td><td>4.4383034881918775</td><td>17.163372627750505</td><td>0.009733975864946842</td><td>0.0</td><td>N/A</td><td>nan</td><td>nan</td><td>0.93</td><td>nan</td><td>nan</td><td>nan</td><td>nan</td><td>nan</td><td>nan</td><td>nan</td><td>nan</td><td>True</td><td>nan</td><td>nan</td><td>nan</td><td>nan</td><td>nan</td><td>nan</td><td>nan</td><td>nan</td><td>nan</td><td>nan</td><td>nan</td><td>nan</td><td>nan</td><td>nan</td><td>nan</td><td>nan</td><td>True</td><td>True</td><td>nan</td><td>nan</td><td>nan</td><td>nan</td><td>nan</td><td>nan</td><td>nan</td><td>nan</td><td>nan</td><td>nan</td><td>nan</td><td>nan</td><td>nan</td><td>nan</td><td>nan</td><td>nan</td><td>nan</td><td>nan</td><td>nan</td><td>nan</td><td>nan</td><td>nan</td><td>nan</td><td>nan</td><td>True</td><td>True</td><td>True</td><td>0.1513</td><td>0.0</td><td>nan</td><td>--</td><td>--</td><td>nan</td><td>nan</td><td>nan</td><td>N/A</td><td>0.1513</td><td>0.1</td><td>0.21</td><td>0.751</td><td>nan</td><td>nan</td><td>nan</td><td>nan</td><td>12</td><td>12</td><td>10</td><td>2.4143954545454545</td><td>27.835028571428573</td><td>rk0v</td><td>0</td><td>0.0</td><td>0.0</td><td>--</td><td>0.0</td><td>nan</td><td>nan</td><td>10773941</td><td>37</td><td>1.0</td><td>nan</td><td>1.0</td><td>nan</td><td>0.16</td><td>148.25333</td><td>8.761437</td><td>8.752913</td><td>9.50772</td><td>1.6014754</td><td>0.51138437</td><td>1.6191866</td><td>12</td><td>-19.10483</td><td>-19.439154</td><td>-19.849031</td><td>-20.115046</td><td>-20.261652</td><td>-20.292437</td><td>-20.403002</td><td>-20.56396</td><td>-20.817556</td><td>-20.62375</td><td>-20.684961</td><td>-19.996279</td><td>-19.505033</td><td>-19.071009</td><td>-18.518892</td></tr>\n",
       "<tr><td>ILTJ142427.29+335944.4</td><td>216.1136932514087</td><td>33.9956725646348</td><td>2.8029051832122123e-05</td><td>2.542911365933164e-05</td><td>0.0020902706975422804</td><td>0.0001185736733537331</td><td>0.001760669772367126</td><td>6.093540944950615e-05</td><td>S</td><td>0.0018640558517493788</td><td>0.001769868015368609</td><td>83.7573095014551</td><td>6.60303406557649e-05</td><td>5.9846657696142484e-05</td><td>26.899015935452276</td><td>0.0008336594290381799</td><td>0.0005952477055637991</td><td>83.7573095014551</td><td>5.872842302778736e-05</td><td>0</td><td>0</td><td>0</td><td>nan</td><td>216.113511</td><td>33.995588</td><td>nan</td><td>nan</td><td>nan</td><td>0</td><td>nan</td><td>nan</td><td>0.0</td><td>0.0</td><td>0.0</td><td>nan</td><td>Create initial sources</td><td>Visual inspection</td><td></td><td>0</td><td>1</td><td>216.1135026</td><td>33.9955901</td><td>nan</td><td>1</td><td>--</td><td>292239</td><td>2136597.0</td><td>0</td><td>0.01502973</td><td>nan</td><td>nan</td><td>nan</td><td>nan</td><td>nan</td><td>nan</td><td>nan</td><td>nan</td><td>0.2642783487516267</td><td>0.11608192115848948</td><td>25.34484609669473</td><td>0.4769</td><td>nan</td><td>nan</td><td>nan</td><td>nan</td><td>nan</td><td>nan</td><td>nan</td><td>nan</td><td>nan</td><td>nan</td><td>nan</td><td>nan</td><td>nan</td><td>nan</td><td>nan</td><td>nan</td><td>6.396740619110517</td><td>0.6457210957708585</td><td>21.88510319196694</td><td>0.10959999999999999</td><td>0.7164690749501956</td><td>2.0900112239397703</td><td>22.175287538536285</td><td>nan</td><td>12.43410183789481</td><td>0.9413733894069081</td><td>21.163463961586274</td><td>0.0822</td><td>14.731296402344029</td><td>2.1627432485377436</td><td>20.979397606439736</td><td>0.1594</td><td>41.63998469815252</td><td>16.011894542423846</td><td>19.851223548216574</td><td>0.4175</td><td>24.12512809549047</td><td>3.9729474660326303</td><td>20.443825937619934</td><td>0.1788</td><td>40.39841100998435</td><td>1.1199701788257272</td><td>19.88408933521584</td><td>0.0301</td><td>37.94880904541178</td><td>1.6392555912108497</td><td>19.952004621407756</td><td>0.0469</td><td>35.18602210954611</td><td>9.190773805401703</td><td>20.03407463225236</td><td>0.2836</td><td>18.82749474070543</td><td>9.46805686627647</td><td>19.957316310912336</td><td>nan</td><td>0.02618641996825557</td><td>N/A</td><td>nan</td><td>nan</td><td>nan</td><td>nan</td><td>nan</td><td>nan</td><td>nan</td><td>nan</td><td>nan</td><td>nan</td><td>nan</td><td>True</td><td>nan</td><td>nan</td><td>nan</td><td>nan</td><td>nan</td><td>nan</td><td>nan</td><td>nan</td><td>nan</td><td>nan</td><td>nan</td><td>nan</td><td>nan</td><td>nan</td><td>nan</td><td>nan</td><td>True</td><td>True</td><td>nan</td><td>nan</td><td>nan</td><td>nan</td><td>nan</td><td>nan</td><td>nan</td><td>nan</td><td>nan</td><td>nan</td><td>nan</td><td>nan</td><td>nan</td><td>nan</td><td>nan</td><td>nan</td><td>nan</td><td>nan</td><td>nan</td><td>nan</td><td>nan</td><td>nan</td><td>nan</td><td>nan</td><td>True</td><td>True</td><td>True</td><td>nan</td><td>0.0</td><td>nan</td><td>--</td><td>--</td><td>nan</td><td>nan</td><td>nan</td><td>N/A</td><td>nan</td><td>nan</td><td>nan</td><td>nan</td><td>nan</td><td>nan</td><td>nan</td><td>nan</td><td>11</td><td>11</td><td>9</td><td>1.216434</td><td>9.86968</td><td>m8iii</td><td>0</td><td>0.0</td><td>0.0</td><td>--</td><td>0.0</td><td>nan</td><td>nan</td><td>10766626</td><td>10</td><td>0.9659967561553658</td><td>0.11870458175359955</td><td>1.0</td><td>nan</td><td>nan</td><td>nan</td><td>nan</td><td>nan</td><td>nan</td><td>nan</td><td>nan</td><td>nan</td><td>--</td><td>nan</td><td>nan</td><td>nan</td><td>nan</td><td>nan</td><td>nan</td><td>nan</td><td>nan</td><td>nan</td><td>nan</td><td>nan</td><td>nan</td><td>nan</td><td>nan</td><td>nan</td></tr>\n",
       "<tr><td>...</td><td>...</td><td>...</td><td>...</td><td>...</td><td>...</td><td>...</td><td>...</td><td>...</td><td>...</td><td>...</td><td>...</td><td>...</td><td>...</td><td>...</td><td>...</td><td>...</td><td>...</td><td>...</td><td>...</td><td>...</td><td>...</td><td>...</td><td>...</td><td>...</td><td>...</td><td>...</td><td>...</td><td>...</td><td>...</td><td>...</td><td>...</td><td>...</td><td>...</td><td>...</td><td>...</td><td>...</td><td>...</td><td>...</td><td>...</td><td>...</td><td>...</td><td>...</td><td>...</td><td>...</td><td>...</td><td>...</td><td>...</td><td>...</td><td>...</td><td>...</td><td>...</td><td>...</td><td>...</td><td>...</td><td>...</td><td>...</td><td>...</td><td>...</td><td>...</td><td>...</td><td>...</td><td>...</td><td>...</td><td>...</td><td>...</td><td>...</td><td>...</td><td>...</td><td>...</td><td>...</td><td>...</td><td>...</td><td>...</td><td>...</td><td>...</td><td>...</td><td>...</td><td>...</td><td>...</td><td>...</td><td>...</td><td>...</td><td>...</td><td>...</td><td>...</td><td>...</td><td>...</td><td>...</td><td>...</td><td>...</td><td>...</td><td>...</td><td>...</td><td>...</td><td>...</td><td>...</td><td>...</td><td>...</td><td>...</td><td>...</td><td>...</td><td>...</td><td>...</td><td>...</td><td>...</td><td>...</td><td>...</td><td>...</td><td>...</td><td>...</td><td>...</td><td>...</td><td>...</td><td>...</td><td>...</td><td>...</td><td>...</td><td>...</td><td>...</td><td>...</td><td>...</td><td>...</td><td>...</td><td>...</td><td>...</td><td>...</td><td>...</td><td>...</td><td>...</td><td>...</td><td>...</td><td>...</td><td>...</td><td>...</td><td>...</td><td>...</td><td>...</td><td>...</td><td>...</td><td>...</td><td>...</td><td>...</td><td>...</td><td>...</td><td>...</td><td>...</td><td>...</td><td>...</td><td>...</td><td>...</td><td>...</td><td>...</td><td>...</td><td>...</td><td>...</td><td>...</td><td>...</td><td>...</td><td>...</td><td>...</td><td>...</td><td>...</td><td>...</td><td>...</td><td>...</td><td>...</td><td>...</td><td>...</td><td>...</td><td>...</td><td>...</td><td>...</td><td>...</td><td>...</td><td>...</td><td>...</td><td>...</td><td>...</td><td>...</td><td>...</td><td>...</td><td>...</td><td>...</td><td>...</td><td>...</td><td>...</td><td>...</td><td>...</td><td>...</td><td>...</td><td>...</td><td>...</td><td>...</td><td>...</td><td>...</td><td>...</td><td>...</td><td>...</td><td>...</td><td>...</td><td>...</td><td>...</td><td>...</td><td>...</td><td>...</td><td>...</td><td>...</td><td>...</td><td>...</td><td>...</td><td>...</td><td>...</td><td>...</td><td>...</td><td>...</td><td>...</td><td>...</td><td>...</td><td>...</td><td>...</td><td>...</td><td>...</td><td>...</td><td>...</td><td>...</td><td>...</td><td>...</td><td>...</td><td>...</td><td>...</td><td>...</td><td>...</td><td>...</td><td>...</td><td>...</td><td>...</td></tr>\n",
       "<tr><td>ILTJ143859.98+353815.9</td><td>219.74993581979632</td><td>35.637773259805854</td><td>4.388868768743754e-05</td><td>5.382045630992728e-05</td><td>0.0011666030810571428</td><td>0.00012447369080641115</td><td>0.001021379357482606</td><td>6.560169592255224e-05</td><td>S</td><td>0.0018787599029692098</td><td>0.0016895990540149591</td><td>178.14921988535048</td><td>0.00012677664645771168</td><td>0.00010329317266476363</td><td>26.906301588411978</td><td>0.000866429898082282</td><td>0.0002745806282315945</td><td>178.14921988535048</td><td>6.38017663732171e-05</td><td>1</td><td>0</td><td>0</td><td>659.639174106963</td><td>219.7499614</td><td>35.6377393</td><td>nan</td><td>nan</td><td>nan</td><td>0</td><td>nan</td><td>nan</td><td>nan</td><td>nan</td><td>nan</td><td>nan</td><td>Create initial sources</td><td>LR</td><td></td><td>1</td><td>1</td><td>219.7499614</td><td>35.6377393</td><td>1.0</td><td>1</td><td>1938869</td><td>--</td><td>1938868.0</td><td>1</td><td>0.009144342</td><td>nan</td><td>nan</td><td>nan</td><td>nan</td><td>nan</td><td>nan</td><td>nan</td><td>nan</td><td>-0.37079673561571624</td><td>0.1315796840887895</td><td>nan</td><td>nan</td><td>0.09658586443859107</td><td>0.047914212819428315</td><td>26.437715627253056</td><td>0.5386108160018921</td><td>1.2125135834110097</td><td>0.12807656060784467</td><td>23.690782519057393</td><td>0.11468518525362015</td><td>3.70371404410821</td><td>0.33998840868660807</td><td>22.478405348956585</td><td>0.09966690093278885</td><td>nan</td><td>nan</td><td>nan</td><td>nan</td><td>nan</td><td>nan</td><td>nan</td><td>nan</td><td>nan</td><td>nan</td><td>nan</td><td>nan</td><td>0.7408756181308433</td><td>2.141349261917867</td><td>22.14746770495549</td><td>nan</td><td>-0.36889979692133323</td><td>1.5266006137204613</td><td>22.827922027092427</td><td>nan</td><td>nan</td><td>nan</td><td>nan</td><td>nan</td><td>1.125354536802888</td><td>9.535311843872137</td><td>20.636837974423543</td><td>nan</td><td>85.88771563734463</td><td>1.1036109740109197</td><td>19.065171771333553</td><td>0.013951125554740429</td><td>77.8449123488117</td><td>1.5837860960085663</td><td>19.17192284495104</td><td>0.02208974026143551</td><td>65.54229470432438</td><td>5.34605527980699</td><td>19.35869598860154</td><td>0.08855969458818436</td><td>52.99289871153178</td><td>5.751310202200273</td><td>19.589455072651617</td><td>0.11783476173877716</td><td>0.0</td><td>N/A</td><td>nan</td><td>nan</td><td>0.03</td><td>nan</td><td>nan</td><td>nan</td><td>nan</td><td>nan</td><td>nan</td><td>nan</td><td>nan</td><td>True</td><td>nan</td><td>nan</td><td>nan</td><td>nan</td><td>nan</td><td>nan</td><td>nan</td><td>nan</td><td>nan</td><td>nan</td><td>nan</td><td>nan</td><td>nan</td><td>nan</td><td>nan</td><td>nan</td><td>True</td><td>True</td><td>nan</td><td>nan</td><td>nan</td><td>nan</td><td>nan</td><td>nan</td><td>nan</td><td>nan</td><td>nan</td><td>nan</td><td>nan</td><td>nan</td><td>nan</td><td>nan</td><td>nan</td><td>nan</td><td>nan</td><td>nan</td><td>nan</td><td>nan</td><td>nan</td><td>nan</td><td>nan</td><td>nan</td><td>True</td><td>True</td><td>True</td><td>3.7244</td><td>0.0</td><td>nan</td><td>--</td><td>--</td><td>nan</td><td>nan</td><td>nan</td><td>N/A</td><td>3.7244</td><td>3.28</td><td>4.15</td><td>0.553</td><td>4.7479</td><td>4.47</td><td>5.02</td><td>0.24</td><td>11</td><td>11</td><td>9</td><td>7.91567125</td><td>14.338705</td><td>rk0v</td><td>0</td><td>0.0</td><td>0.0</td><td>--</td><td>0.0</td><td>nan</td><td>nan</td><td>9415229</td><td>12</td><td>1.0</td><td>nan</td><td>1.0</td><td>nan</td><td>nan</td><td>nan</td><td>nan</td><td>nan</td><td>nan</td><td>nan</td><td>nan</td><td>nan</td><td>--</td><td>nan</td><td>nan</td><td>nan</td><td>nan</td><td>nan</td><td>nan</td><td>nan</td><td>nan</td><td>nan</td><td>nan</td><td>nan</td><td>nan</td><td>nan</td><td>nan</td><td>nan</td></tr>\n",
       "<tr><td>ILTJ143900.12+352628.8</td><td>219.75051383964666</td><td>35.44134860680817</td><td>0.00012596202113737318</td><td>8.607851392511054e-05</td><td>0.00021945194108505503</td><td>7.412489365193069e-05</td><td>0.00030305596476783115</td><td>5.237320667727413e-05</td><td>S</td><td>0.001549768873915332</td><td>0.0012984999312066722</td><td>92.7876235900144</td><td>0.0002966274329428042</td><td>0.00020261433976400027</td><td>43.47186147316858</td><td>0.0</td><td>0.0</td><td>0.0</td><td>5.8220648497808725e-05</td><td>1</td><td>0</td><td>0</td><td>110.26694770127865</td><td>219.7506283</td><td>35.4413069</td><td>nan</td><td>nan</td><td>nan</td><td>0</td><td>nan</td><td>nan</td><td>nan</td><td>nan</td><td>nan</td><td>nan</td><td>Create initial sources</td><td>LR</td><td></td><td>1</td><td>1</td><td>219.7506283</td><td>35.4413069</td><td>1.0</td><td>1</td><td>1822258</td><td>--</td><td>1822257.0</td><td>1</td><td>0.009297978</td><td>nan</td><td>nan</td><td>nan</td><td>nan</td><td>6.221249741431393</td><td>0.019756322632106027</td><td>21.915305137634277</td><td>0.003447884926572442</td><td>19.22883723740324</td><td>0.062018656672349515</td><td>20.69011600315571</td><td>0.0035018185153603554</td><td>27.38879271004862</td><td>0.031745179619150354</td><td>20.30606733635068</td><td>0.001258430420421064</td><td>85.78144540174617</td><td>0.12837139030220612</td><td>19.06651614792645</td><td>0.001624797354452312</td><td>106.71427377793134</td><td>0.1529159098023598</td><td>18.82944394648075</td><td>0.001555802533403039</td><td>nan</td><td>nan</td><td>nan</td><td>nan</td><td>nan</td><td>nan</td><td>nan</td><td>nan</td><td>121.95487812789725</td><td>0.6094052884201773</td><td>18.684501980431378</td><td>0.005425394978374243</td><td>nan</td><td>nan</td><td>nan</td><td>nan</td><td>-1.3071921535458841</td><td>1.6148295126795915</td><td>23.190351666416973</td><td>nan</td><td>nan</td><td>nan</td><td>nan</td><td>nan</td><td>-1.5343007154172028</td><td>3.8705192916897886</td><td>21.91784179979004</td><td>nan</td><td>127.55646355967838</td><td>1.035632591745184</td><td>18.635744009399787</td><td>0.008815106004476547</td><td>100.09196615687415</td><td>1.375099092263639</td><td>18.899001845391467</td><td>0.014916229993104935</td><td>93.75803236907268</td><td>5.130388978607812</td><td>18.969979320303537</td><td>0.05941089615225792</td><td>705.5735226782563</td><td>4.662197077305109</td><td>16.778643119032495</td><td>0.007174186408519745</td><td>0.0</td><td>N/A</td><td>nan</td><td>nan</td><td>0.03</td><td>nan</td><td>nan</td><td>nan</td><td>nan</td><td>nan</td><td>nan</td><td>nan</td><td>nan</td><td>True</td><td>nan</td><td>nan</td><td>nan</td><td>nan</td><td>nan</td><td>nan</td><td>nan</td><td>nan</td><td>nan</td><td>nan</td><td>nan</td><td>nan</td><td>nan</td><td>nan</td><td>nan</td><td>nan</td><td>True</td><td>True</td><td>nan</td><td>nan</td><td>nan</td><td>nan</td><td>nan</td><td>nan</td><td>nan</td><td>nan</td><td>nan</td><td>nan</td><td>nan</td><td>nan</td><td>nan</td><td>nan</td><td>nan</td><td>nan</td><td>nan</td><td>nan</td><td>nan</td><td>nan</td><td>nan</td><td>nan</td><td>nan</td><td>nan</td><td>True</td><td>True</td><td>True</td><td>5.6917</td><td>0.0</td><td>nan</td><td>--</td><td>--</td><td>nan</td><td>nan</td><td>nan</td><td>N/A</td><td>5.6917</td><td>5.1</td><td>6.31</td><td>0.424</td><td>4.7719</td><td>4.4</td><td>5.0</td><td>0.371</td><td>11</td><td>11</td><td>9</td><td>25.3365375</td><td>132.37383333333335</td><td>f2v</td><td>0</td><td>0.0</td><td>0.0</td><td>--</td><td>0.0</td><td>nan</td><td>nan</td><td>9415181</td><td>2</td><td>1.0</td><td>nan</td><td>1.0</td><td>nan</td><td>nan</td><td>nan</td><td>nan</td><td>nan</td><td>nan</td><td>nan</td><td>nan</td><td>nan</td><td>--</td><td>nan</td><td>nan</td><td>nan</td><td>nan</td><td>nan</td><td>nan</td><td>nan</td><td>nan</td><td>nan</td><td>nan</td><td>nan</td><td>nan</td><td>nan</td><td>nan</td><td>nan</td></tr>\n",
       "<tr><td>ILTJ143900.15+353728.5</td><td>219.75062546374184</td><td>35.62460496914532</td><td>0.0001271928922975379</td><td>9.928367733411652e-05</td><td>0.0008444813807760149</td><td>0.00016107596267315256</td><td>0.000535725759125196</td><td>6.772919591309276e-05</td><td>S</td><td>0.0022443965790046455</td><td>0.001951933437148015</td><td>91.6937173647734</td><td>0.0002994480574139653</td><td>0.00023383516957339317</td><td>40.879720362213405</td><td>0.0015025949153174383</td><td>0.0010154820574920116</td><td>91.6937173647734</td><td>6.303621921688318e-05</td><td>1</td><td>0</td><td>0</td><td>43.92370936908683</td><td>219.7499548</td><td>35.6247299</td><td>nan</td><td>nan</td><td>nan</td><td>0</td><td>nan</td><td>nan</td><td>nan</td><td>nan</td><td>nan</td><td>nan</td><td>Create initial sources</td><td>LR</td><td></td><td>1</td><td>2</td><td>219.7499548</td><td>35.6247299</td><td>1.0</td><td>2</td><td>1931009</td><td>--</td><td>1931008.0</td><td>1</td><td>0.009013191</td><td>nan</td><td>nan</td><td>nan</td><td>nan</td><td>nan</td><td>nan</td><td>nan</td><td>nan</td><td>-0.06057347983094541</td><td>0.12605734059528473</td><td>25.69434428215027</td><td>nan</td><td>2.137627654255823</td><td>0.056221356697967906</td><td>23.075168542563915</td><td>0.028555748984217644</td><td>18.15359745357091</td><td>0.12824031216824494</td><td>20.752592742443085</td><td>0.0076698376797139645</td><td>29.17083801330955</td><td>0.3301206329308002</td><td>20.237626753747463</td><td>0.012287062592804432</td><td>nan</td><td>nan</td><td>nan</td><td>nan</td><td>nan</td><td>nan</td><td>nan</td><td>nan</td><td>nan</td><td>nan</td><td>nan</td><td>nan</td><td>1.3134781344306248</td><td>2.3098436077671067</td><td>21.966784101445228</td><td>nan</td><td>-0.49458479741171857</td><td>1.7332274628680864</td><td>22.71742439409718</td><td>nan</td><td>nan</td><td>nan</td><td>nan</td><td>nan</td><td>2.179670911797274</td><td>5.874987602310966</td><td>21.04014867148362</td><td>nan</td><td>101.59710270389769</td><td>0.9883987161625214</td><td>18.88279615540523</td><td>0.010562704876065254</td><td>95.27597190326469</td><td>1.2351223496508936</td><td>18.952540682977997</td><td>0.01407508086413145</td><td>81.00588770912873</td><td>4.694001493290102</td><td>19.128708353615366</td><td>0.06291452795267105</td><td>194.99051538611275</td><td>5.420561030574618</td><td>18.174965522426646</td><td>0.0301824901252985</td><td>0.0</td><td>N/A</td><td>nan</td><td>nan</td><td>0.03</td><td>nan</td><td>nan</td><td>nan</td><td>nan</td><td>nan</td><td>nan</td><td>nan</td><td>nan</td><td>True</td><td>nan</td><td>nan</td><td>nan</td><td>nan</td><td>nan</td><td>nan</td><td>nan</td><td>nan</td><td>nan</td><td>nan</td><td>nan</td><td>nan</td><td>nan</td><td>nan</td><td>nan</td><td>nan</td><td>True</td><td>True</td><td>nan</td><td>nan</td><td>nan</td><td>nan</td><td>nan</td><td>nan</td><td>nan</td><td>nan</td><td>nan</td><td>nan</td><td>nan</td><td>nan</td><td>nan</td><td>nan</td><td>nan</td><td>nan</td><td>nan</td><td>nan</td><td>nan</td><td>nan</td><td>nan</td><td>nan</td><td>nan</td><td>nan</td><td>True</td><td>True</td><td>True</td><td>6.1269</td><td>0.0</td><td>nan</td><td>--</td><td>--</td><td>nan</td><td>nan</td><td>nan</td><td>N/A</td><td>6.1269</td><td>5.46</td><td>6.64</td><td>0.439</td><td>4.4077</td><td>3.8</td><td>4.96</td><td>0.183</td><td>11</td><td>11</td><td>9</td><td>13.0763</td><td>95.61185</td><td>rk0v</td><td>0</td><td>0.0</td><td>0.0</td><td>--</td><td>0.0</td><td>nan</td><td>nan</td><td>9415229</td><td>12</td><td>1.0</td><td>nan</td><td>1.0</td><td>nan</td><td>nan</td><td>nan</td><td>nan</td><td>nan</td><td>nan</td><td>nan</td><td>nan</td><td>nan</td><td>--</td><td>nan</td><td>nan</td><td>nan</td><td>nan</td><td>nan</td><td>nan</td><td>nan</td><td>nan</td><td>nan</td><td>nan</td><td>nan</td><td>nan</td><td>nan</td><td>nan</td><td>nan</td></tr>\n",
       "<tr><td>ILTJ143900.53+355024.0</td><td>219.75222644395063</td><td>35.840018520294855</td><td>0.00013912329314626367</td><td>0.00010860226280535151</td><td>0.0009221202762890267</td><td>0.00017556180860984317</td><td>0.0005633488443781081</td><td>7.129685003044064e-05</td><td>S</td><td>0.0025282291860821916</td><td>0.0017994747506221897</td><td>59.475903937905215</td><td>0.0003642390990915603</td><td>0.00020006058334398944</td><td>19.26611101687598</td><td>0.0019010394275053117</td><td>0.0006762307435297647</td><td>59.475903937905215</td><td>6.729787128278986e-05</td><td>4</td><td>6</td><td>2</td><td>nan</td><td>219.75222644395063</td><td>35.840018520294855</td><td>nan</td><td>nan</td><td>nan</td><td>0</td><td>nan</td><td>nan</td><td>0.0</td><td>0.0</td><td>0.0</td><td>nan</td><td>Create initial sources</td><td>LR</td><td></td><td>1</td><td>1</td><td>nan</td><td>nan</td><td>nan</td><td>--</td><td>--</td><td>--</td><td>nan</td><td>--</td><td>nan</td><td>nan</td><td>nan</td><td>nan</td><td>nan</td><td>nan</td><td>nan</td><td>nan</td><td>nan</td><td>nan</td><td>nan</td><td>nan</td><td>nan</td><td>nan</td><td>nan</td><td>nan</td><td>nan</td><td>nan</td><td>nan</td><td>nan</td><td>nan</td><td>nan</td><td>nan</td><td>nan</td><td>nan</td><td>nan</td><td>nan</td><td>nan</td><td>nan</td><td>nan</td><td>nan</td><td>nan</td><td>nan</td><td>nan</td><td>nan</td><td>nan</td><td>nan</td><td>nan</td><td>nan</td><td>nan</td><td>nan</td><td>nan</td><td>nan</td><td>nan</td><td>nan</td><td>nan</td><td>nan</td><td>nan</td><td>nan</td><td>nan</td><td>nan</td><td>nan</td><td>nan</td><td>nan</td><td>nan</td><td>nan</td><td>nan</td><td>nan</td><td>nan</td><td>nan</td><td>nan</td><td>nan</td><td>nan</td><td>nan</td><td>nan</td><td>nan</td><td>nan</td><td>nan</td><td>nan</td><td>nan</td><td></td><td>nan</td><td>nan</td><td>nan</td><td>nan</td><td>nan</td><td>nan</td><td>nan</td><td>nan</td><td>nan</td><td>nan</td><td>nan</td><td>False</td><td>nan</td><td>nan</td><td>nan</td><td>nan</td><td>nan</td><td>nan</td><td>nan</td><td>nan</td><td>nan</td><td>nan</td><td>nan</td><td>nan</td><td>nan</td><td>nan</td><td>nan</td><td>nan</td><td>False</td><td>False</td><td>nan</td><td>nan</td><td>nan</td><td>nan</td><td>nan</td><td>nan</td><td>nan</td><td>nan</td><td>nan</td><td>nan</td><td>nan</td><td>nan</td><td>nan</td><td>nan</td><td>nan</td><td>nan</td><td>nan</td><td>nan</td><td>nan</td><td>nan</td><td>nan</td><td>nan</td><td>nan</td><td>nan</td><td>False</td><td>False</td><td>False</td><td>nan</td><td>nan</td><td>nan</td><td>--</td><td>--</td><td>nan</td><td>nan</td><td>nan</td><td></td><td>nan</td><td>nan</td><td>nan</td><td>nan</td><td>nan</td><td>nan</td><td>nan</td><td>nan</td><td>--</td><td>--</td><td>--</td><td>nan</td><td>nan</td><td></td><td>--</td><td>nan</td><td>nan</td><td>--</td><td>nan</td><td>nan</td><td>nan</td><td>--</td><td>--</td><td>nan</td><td>nan</td><td>nan</td><td>nan</td><td>nan</td><td>nan</td><td>nan</td><td>nan</td><td>nan</td><td>nan</td><td>nan</td><td>nan</td><td>--</td><td>nan</td><td>nan</td><td>nan</td><td>nan</td><td>nan</td><td>nan</td><td>nan</td><td>nan</td><td>nan</td><td>nan</td><td>nan</td><td>nan</td><td>nan</td><td>nan</td><td>nan</td></tr>\n",
       "<tr><td>ILTJ143900.54+352154.8</td><td>219.75224325591103</td><td>35.36522949099277</td><td>0.0001773539781563866</td><td>0.00023319819955500224</td><td>0.000641551820679727</td><td>0.0001774834826129124</td><td>0.0003140075972825538</td><td>6.153591958822923e-05</td><td>S</td><td>0.0027075619850654652</td><td>0.0020969917338511364</td><td>25.083810856994226</td><td>0.000577278410028501</td><td>0.0003777173098414275</td><td>37.442232161258936</td><td>0.002133793256855685</td><td>0.0012717138697563553</td><td>25.083810856994226</td><td>5.714367580367252e-05</td><td>1</td><td>0</td><td>0</td><td>7.091070601335363</td><td>219.7521285</td><td>35.3657478</td><td>nan</td><td>nan</td><td>nan</td><td>0</td><td>nan</td><td>nan</td><td>nan</td><td>nan</td><td>nan</td><td>nan</td><td>Create initial sources</td><td>LR</td><td></td><td>1</td><td>1</td><td>219.7521285</td><td>35.3657478</td><td>1.0</td><td>1</td><td>1776663</td><td>--</td><td>1776662.0</td><td>1</td><td>0.00930485</td><td>nan</td><td>nan</td><td>nan</td><td>nan</td><td>2.744235011550643</td><td>0.01516643282563157</td><td>22.803946003317833</td><td>0.006000486668199301</td><td>7.306119336844802</td><td>0.06689140696264406</td><td>21.7407820597291</td><td>0.009940491057932377</td><td>nan</td><td>nan</td><td>nan</td><td>nan</td><td>28.090499920755065</td><td>0.09532975413090661</td><td>20.278600804507732</td><td>0.003684625029563904</td><td>35.94406931464846</td><td>0.19686159933853098</td><td>20.01093176752329</td><td>0.0059464541263878345</td><td>nan</td><td>nan</td><td>nan</td><td>nan</td><td>nan</td><td>nan</td><td>nan</td><td>nan</td><td>41.99160842391848</td><td>0.5438573733212593</td><td>19.842092328704894</td><td>0.014061990194022655</td><td>nan</td><td>nan</td><td>nan</td><td>nan</td><td>nan</td><td>nan</td><td>nan</td><td>nan</td><td>nan</td><td>nan</td><td>nan</td><td>nan</td><td>nan</td><td>nan</td><td>nan</td><td>nan</td><td>44.502288078161655</td><td>0.9984211641529441</td><td>19.77904375491198</td><td>0.02435879223048687</td><td>48.76631152858863</td><td>1.130724272217023</td><td>19.67969966563396</td><td>0.025174515321850777</td><td>23.86542144899431</td><td>6.799995217255855</td><td>20.4555762069067</td><td>0.30935972929000854</td><td>121.17763254966121</td><td>5.027490932832563</td><td>18.69144435162889</td><td>0.04504568129777908</td><td>0.0</td><td>N/A</td><td>nan</td><td>nan</td><td>0.03</td><td>nan</td><td>nan</td><td>nan</td><td>nan</td><td>nan</td><td>nan</td><td>nan</td><td>nan</td><td>True</td><td>nan</td><td>nan</td><td>nan</td><td>nan</td><td>nan</td><td>nan</td><td>nan</td><td>nan</td><td>nan</td><td>nan</td><td>nan</td><td>nan</td><td>nan</td><td>nan</td><td>nan</td><td>nan</td><td>True</td><td>True</td><td>nan</td><td>nan</td><td>nan</td><td>nan</td><td>nan</td><td>nan</td><td>nan</td><td>nan</td><td>nan</td><td>nan</td><td>nan</td><td>nan</td><td>nan</td><td>nan</td><td>nan</td><td>nan</td><td>nan</td><td>nan</td><td>nan</td><td>nan</td><td>nan</td><td>nan</td><td>nan</td><td>nan</td><td>True</td><td>True</td><td>True</td><td>0.3104</td><td>0.0</td><td>nan</td><td>--</td><td>--</td><td>nan</td><td>nan</td><td>nan</td><td>N/A</td><td>0.3104</td><td>0.15</td><td>0.46</td><td>0.768</td><td>0.13</td><td>0.12</td><td>0.14</td><td>0.006</td><td>8</td><td>8</td><td>6</td><td>0.29331680000000004</td><td>nan</td><td></td><td>0</td><td>0.0</td><td>0.0</td><td>--</td><td>0.0</td><td>nan</td><td>nan</td><td>9415169</td><td>2</td><td>1.0</td><td>nan</td><td>1.0</td><td>nan</td><td>0.32</td><td>72.150665</td><td>9.862815</td><td>9.620652</td><td>10.113552</td><td>-69.81369</td><td>-74.511665</td><td>-64.94638</td><td>8</td><td>-19.503862</td><td>-20.095228</td><td>-17.550356</td><td>-18.177805</td><td>-18.473482</td><td>-18.52931</td><td>-21.366629</td><td>-19.07982</td><td>-19.495111</td><td>-19.31449</td><td>-19.373968</td><td>-18.714155</td><td>-18.252062</td><td>-17.833136</td><td>-19.503012</td></tr>\n",
       "<tr><td>ILTJ143900.60+352233.3</td><td>219.75251903821226</td><td>35.375929832114785</td><td>0.00011645233544128883</td><td>0.00012684872361068286</td><td>0.00037287218900395626</td><td>0.00010440561851704689</td><td>0.00034671022452460054</td><td>5.7390122175716454e-05</td><td>S</td><td>0.0017682208060982147</td><td>0.0016902138817620443</td><td>8.92356086297189</td><td>0.0002992404800829101</td><td>0.0002736521251612955</td><td>152.1677917752919</td><td>0.0005902810420150401</td><td>0.00027756723353924436</td><td>8.923560862971867</td><td>5.643354234052822e-05</td><td>1</td><td>0</td><td>0</td><td>229.1581466337005</td><td>219.7527322</td><td>35.3761921</td><td>nan</td><td>nan</td><td>nan</td><td>0</td><td>nan</td><td>nan</td><td>nan</td><td>nan</td><td>nan</td><td>nan</td><td>Create initial sources</td><td>LR</td><td></td><td>1</td><td>1</td><td>219.7527322</td><td>35.3761921</td><td>1.0</td><td>1</td><td>1782979</td><td>--</td><td>1782978.0</td><td>1</td><td>0.009219938</td><td>nan</td><td>nan</td><td>nan</td><td>nan</td><td>0.0634347541875302</td><td>0.0157294673196422</td><td>26.89418116211891</td><td>0.26922231912612915</td><td>1.2554571338149714</td><td>0.06585963472896061</td><td>23.65299428626895</td><td>0.05695629492402077</td><td>nan</td><td>nan</td><td>nan</td><td>nan</td><td>64.08538515912187</td><td>0.1026371405853439</td><td>19.38310208171606</td><td>0.0017388809937983751</td><td>107.39139966815219</td><td>0.21556217231301922</td><td>18.822576394304633</td><td>0.002179351868107915</td><td>nan</td><td>nan</td><td>nan</td><td>nan</td><td>nan</td><td>nan</td><td>nan</td><td>nan</td><td>142.37800494629482</td><td>0.6029643070934299</td><td>18.5163930458948</td><td>0.0045980429276824</td><td>nan</td><td>nan</td><td>nan</td><td>nan</td><td>nan</td><td>nan</td><td>nan</td><td>nan</td><td>nan</td><td>nan</td><td>nan</td><td>nan</td><td>nan</td><td>nan</td><td>nan</td><td>nan</td><td>203.91840222834253</td><td>1.0130584909900193</td><td>18.12635895598214</td><td>0.005393893923610449</td><td>170.93651231009062</td><td>0.9866682012043455</td><td>18.317912237369455</td><td>0.006267013028264046</td><td>120.1171246795866</td><td>6.588474685832182</td><td>18.700986533483956</td><td>0.059553083032369614</td><td>83.08833197400236</td><td>5.1059206842192</td><td>19.101149139227346</td><td>0.06672035157680511</td><td>0.0</td><td>N/A</td><td>nan</td><td>nan</td><td>0.03</td><td>nan</td><td>nan</td><td>nan</td><td>nan</td><td>nan</td><td>nan</td><td>nan</td><td>nan</td><td>True</td><td>nan</td><td>nan</td><td>nan</td><td>nan</td><td>nan</td><td>nan</td><td>nan</td><td>nan</td><td>nan</td><td>nan</td><td>nan</td><td>nan</td><td>nan</td><td>nan</td><td>nan</td><td>nan</td><td>True</td><td>True</td><td>nan</td><td>nan</td><td>nan</td><td>nan</td><td>nan</td><td>nan</td><td>nan</td><td>nan</td><td>nan</td><td>nan</td><td>nan</td><td>nan</td><td>nan</td><td>nan</td><td>nan</td><td>nan</td><td>nan</td><td>nan</td><td>nan</td><td>nan</td><td>nan</td><td>nan</td><td>nan</td><td>nan</td><td>True</td><td>True</td><td>True</td><td>0.3900224</td><td>1.0</td><td>0.3900224</td><td>2</td><td>4</td><td>219.75268</td><td>35.376182</td><td>0.99</td><td>SDSS 1237662663745274111</td><td>0.3899</td><td>0.31</td><td>0.47</td><td>0.761</td><td>nan</td><td>nan</td><td>nan</td><td>nan</td><td>8</td><td>8</td><td>6</td><td>0.31059714285714285</td><td>nan</td><td></td><td>0</td><td>0.0</td><td>0.0</td><td>0</td><td>0.0</td><td>nan</td><td>nan</td><td>9415169</td><td>2</td><td>1.0</td><td>nan</td><td>1.0</td><td>nan</td><td>0.4</td><td>34.00633</td><td>11.001093</td><td>10.95056</td><td>11.140695</td><td>-52.456524</td><td>-257.56345</td><td>-6.757476</td><td>8</td><td>-20.359865</td><td>-21.35866</td><td>-22.536463</td><td>-22.863745</td><td>-22.993025</td><td>-23.014448</td><td>-23.083704</td><td>-23.142195</td><td>-23.32427</td><td>-23.00794</td><td>-23.062056</td><td>-22.830595</td><td>-21.774916</td><td>-21.942614</td><td>-20.587591</td></tr>\n",
       "<tr><td>ILTJ143902.07+351652.5</td><td>219.7586427998721</td><td>35.28126534683866</td><td>2.5388065614424702e-06</td><td>2.328485276344662e-06</td><td>0.01786122414518843</td><td>0.00010187981911220992</td><td>0.0169796536938498</td><td>5.684041153024884e-05</td><td>S</td><td>0.0017509848744771577</td><td>0.0016694582583053933</td><td>79.35056901617735</td><td>5.998196180434943e-06</td><td>5.46127507832567e-06</td><td>3.9332928643420297</td><td>0.0005355903647809138</td><td>9.136719734218505e-05</td><td>79.35056901617736</td><td>5.617650458589196e-05</td><td>1</td><td>0</td><td>0</td><td>125.56158623626762</td><td>219.7585862</td><td>35.281391</td><td>nan</td><td>nan</td><td>nan</td><td>0</td><td>nan</td><td>nan</td><td>nan</td><td>nan</td><td>nan</td><td>nan</td><td>Create initial sources</td><td>LR</td><td></td><td>1</td><td>1</td><td>219.7585862</td><td>35.281391</td><td>nan</td><td>1</td><td>--</td><td>556560</td><td>2189269.0</td><td>1</td><td>0.010276372</td><td>0.09514972659164843</td><td>0.04346752386319395</td><td>26.453981161959764</td><td>0.49600000000000005</td><td>0.009109890816130325</td><td>0.06916305237706499</td><td>25.978491238729916</td><td>nan</td><td>nan</td><td>nan</td><td>nan</td><td>nan</td><td>nan</td><td>nan</td><td>nan</td><td>nan</td><td>0.6331738586217412</td><td>0.2323367906213435</td><td>24.39619252586983</td><td>0.3984</td><td>0.7843075961363088</td><td>0.30007415614145583</td><td>24.163783920572644</td><td>0.4154</td><td>nan</td><td>nan</td><td>nan</td><td>nan</td><td>nan</td><td>nan</td><td>nan</td><td>nan</td><td>nan</td><td>nan</td><td>nan</td><td>nan</td><td>nan</td><td>nan</td><td>nan</td><td>nan</td><td>nan</td><td>nan</td><td>nan</td><td>nan</td><td>nan</td><td>nan</td><td>nan</td><td>nan</td><td>nan</td><td>nan</td><td>nan</td><td>nan</td><td>9.56256462535318</td><td>0.9741036938154499</td><td>21.448564029536215</td><td>0.1106</td><td>17.317837613675128</td><td>1.4546689918284645</td><td>20.80376584611665</td><td>0.0912</td><td>19.400362854323614</td><td>8.442816412030743</td><td>20.680475320581703</td><td>0.4725</td><td>44.51346719580857</td><td>11.479557152285409</td><td>19.7787714322151</td><td>0.28</td><td>0.0</td><td>N/A</td><td>nan</td><td>nan</td><td>nan</td><td>nan</td><td>nan</td><td>nan</td><td>nan</td><td>nan</td><td>nan</td><td>nan</td><td>nan</td><td>True</td><td>nan</td><td>nan</td><td>nan</td><td>nan</td><td>nan</td><td>nan</td><td>nan</td><td>nan</td><td>nan</td><td>nan</td><td>nan</td><td>nan</td><td>nan</td><td>nan</td><td>nan</td><td>nan</td><td>True</td><td>True</td><td>nan</td><td>nan</td><td>nan</td><td>nan</td><td>nan</td><td>nan</td><td>nan</td><td>nan</td><td>nan</td><td>nan</td><td>nan</td><td>nan</td><td>nan</td><td>nan</td><td>nan</td><td>nan</td><td>nan</td><td>nan</td><td>nan</td><td>nan</td><td>nan</td><td>nan</td><td>nan</td><td>nan</td><td>True</td><td>True</td><td>True</td><td>3.5943</td><td>0.0</td><td>nan</td><td>--</td><td>--</td><td>nan</td><td>nan</td><td>nan</td><td>N/A</td><td>3.5943</td><td>1.04</td><td>6.21</td><td>0.775</td><td>0.3828</td><td>0.27</td><td>0.5</td><td>0.029</td><td>6</td><td>6</td><td>-99</td><td>0.19195958</td><td>nan</td><td></td><td>1</td><td>0.0</td><td>1.0</td><td>--</td><td>0.0</td><td>nan</td><td>nan</td><td>9371133</td><td>40</td><td>1.0</td><td>nan</td><td>1.0</td><td>nan</td><td>nan</td><td>nan</td><td>nan</td><td>nan</td><td>nan</td><td>nan</td><td>nan</td><td>nan</td><td>--</td><td>nan</td><td>nan</td><td>nan</td><td>nan</td><td>nan</td><td>nan</td><td>nan</td><td>nan</td><td>nan</td><td>nan</td><td>nan</td><td>nan</td><td>nan</td><td>nan</td><td>nan</td></tr>\n",
       "<tr><td>ILTJ143902.19+352802.6</td><td>219.7591306079986</td><td>35.46741506456757</td><td>0.00016128342468440702</td><td>0.00011240047330292893</td><td>0.00030851668143443015</td><td>0.00010165179736499317</td><td>0.0003074909795362934</td><td>5.821382736266699e-05</td><td>S</td><td>0.001835486422909209</td><td>0.0015191195562218852</td><td>99.11181775856417</td><td>0.0003817171026568407</td><td>0.0002618116911578613</td><td>45.38956627886052</td><td>0.0</td><td>0.0</td><td>0.0</td><td>5.855538620380685e-05</td><td>1</td><td>0</td><td>0</td><td>240.80412970885655</td><td>219.7591759</td><td>35.4674826</td><td>nan</td><td>nan</td><td>nan</td><td>0</td><td>nan</td><td>nan</td><td>nan</td><td>nan</td><td>nan</td><td>nan</td><td>Create initial sources</td><td>LR</td><td></td><td>1</td><td>1</td><td>219.7591759</td><td>35.4674826</td><td>1.0</td><td>1</td><td>1837892</td><td>--</td><td>1837891.0</td><td>1</td><td>0.009298603</td><td>nan</td><td>nan</td><td>nan</td><td>nan</td><td>0.0031930030707890966</td><td>0.027096161765810756</td><td>27.00299769639969</td><td>nan</td><td>0.048003621389696605</td><td>0.0689278227088419</td><td>25.727039255201817</td><td>nan</td><td>nan</td><td>nan</td><td>nan</td><td>nan</td><td>1.7112522700731745</td><td>0.11658350284474128</td><td>23.31671493500471</td><td>0.07396858930587769</td><td>3.1817277936906976</td><td>0.18007670938579956</td><td>22.643342880532146</td><td>0.0614495649933815</td><td>nan</td><td>nan</td><td>nan</td><td>nan</td><td>nan</td><td>nan</td><td>nan</td><td>nan</td><td>8.858480648466525</td><td>0.6980710144625064</td><td>21.53160245064646</td><td>0.08555879443883896</td><td>nan</td><td>nan</td><td>nan</td><td>nan</td><td>nan</td><td>nan</td><td>nan</td><td>nan</td><td>nan</td><td>nan</td><td>nan</td><td>nan</td><td>nan</td><td>nan</td><td>nan</td><td>nan</td><td>91.2897950624274</td><td>0.9676312885486453</td><td>18.99894503573887</td><td>0.011508321389555931</td><td>86.0675357072032</td><td>1.3796500054511398</td><td>19.0629002264468</td><td>0.017404191195964813</td><td>68.03442384688697</td><td>5.211412910132935</td><td>19.3181771915406</td><td>0.08316700905561447</td><td>63.91785256113326</td><td>4.843684071955067</td><td>19.38594478473533</td><td>0.08227690309286118</td><td>0.0</td><td>N/A</td><td>nan</td><td>nan</td><td>0.74</td><td>nan</td><td>nan</td><td>nan</td><td>nan</td><td>nan</td><td>nan</td><td>nan</td><td>nan</td><td>True</td><td>nan</td><td>nan</td><td>nan</td><td>nan</td><td>nan</td><td>nan</td><td>nan</td><td>nan</td><td>nan</td><td>nan</td><td>nan</td><td>nan</td><td>nan</td><td>nan</td><td>nan</td><td>nan</td><td>True</td><td>True</td><td>nan</td><td>nan</td><td>nan</td><td>nan</td><td>nan</td><td>nan</td><td>nan</td><td>nan</td><td>nan</td><td>nan</td><td>nan</td><td>nan</td><td>nan</td><td>nan</td><td>nan</td><td>nan</td><td>nan</td><td>nan</td><td>nan</td><td>nan</td><td>nan</td><td>nan</td><td>nan</td><td>nan</td><td>True</td><td>True</td><td>True</td><td>1.3226</td><td>0.0</td><td>nan</td><td>--</td><td>--</td><td>nan</td><td>nan</td><td>nan</td><td>N/A</td><td>1.3226</td><td>1.07</td><td>1.58</td><td>0.795</td><td>nan</td><td>nan</td><td>nan</td><td>nan</td><td>8</td><td>8</td><td>6</td><td>0.5978941428571429</td><td>nan</td><td></td><td>0</td><td>0.0</td><td>0.0</td><td>--</td><td>0.0</td><td>nan</td><td>nan</td><td>9415181</td><td>2</td><td>1.0</td><td>nan</td><td>1.0</td><td>nan</td><td>1.32</td><td>19.570108</td><td>11.312374</td><td>11.141803</td><td>11.561104</td><td>2.2465715</td><td>-8.030177</td><td>2.6060088</td><td>8</td><td>-21.220373</td><td>-22.27971</td><td>-23.564798</td><td>-24.055098</td><td>-24.26406</td><td>-24.303217</td><td>-24.447046</td><td>-24.662767</td><td>-24.980783</td><td>-24.868608</td><td>-24.894022</td><td>-24.303663</td><td>-23.857233</td><td>-23.396883</td><td>-22.827261</td></tr>\n",
       "<tr><td>ILTJ143902.54+352535.7</td><td>219.76057859637427</td><td>35.426607314934536</td><td>0.00020100240632892261</td><td>9.216943480489476e-05</td><td>0.00036751530140142005</td><td>0.00011240535317377067</td><td>0.0003229465361526256</td><td>5.8156239889530736e-05</td><td>S</td><td>0.0021765026194642775</td><td>0.0014530402723772614</td><td>89.37971359601465</td><td>0.0004733937699545439</td><td>0.00021664349466415952</td><td>22.814784710989972</td><td>0.0</td><td>0.0</td><td>0.0</td><td>5.821855302201584e-05</td><td>1</td><td>0</td><td>0</td><td>273.26273920299866</td><td>219.7606298</td><td>35.4266318</td><td>nan</td><td>nan</td><td>nan</td><td>0</td><td>nan</td><td>nan</td><td>nan</td><td>nan</td><td>nan</td><td>nan</td><td>Create initial sources</td><td>LR</td><td></td><td>1</td><td>1</td><td>219.7606298</td><td>35.4266318</td><td>1.0</td><td>1</td><td>1813613</td><td>--</td><td>1813612.0</td><td>1</td><td>0.0091539025</td><td>nan</td><td>nan</td><td>nan</td><td>nan</td><td>0.5463337624026252</td><td>0.019615472769195508</td><td>24.55635415017605</td><td>0.0389820821583271</td><td>1.6107743508790406</td><td>0.05934881986468632</td><td>23.382412366569042</td><td>0.04000384360551834</td><td>nan</td><td>nan</td><td>nan</td><td>nan</td><td>18.93111490350202</td><td>0.11458479606272398</td><td>20.70705809816718</td><td>0.006571660283952951</td><td>31.422757713056626</td><td>0.16208955736809472</td><td>20.156888348050416</td><td>0.005600606556981802</td><td>nan</td><td>nan</td><td>nan</td><td>nan</td><td>nan</td><td>nan</td><td>nan</td><td>nan</td><td>45.967513774652616</td><td>0.5436632684685492</td><td>19.743871153332293</td><td>0.012841131538152695</td><td>nan</td><td>nan</td><td>nan</td><td>nan</td><td>nan</td><td>nan</td><td>nan</td><td>nan</td><td>nan</td><td>nan</td><td>nan</td><td>nan</td><td>nan</td><td>nan</td><td>nan</td><td>nan</td><td>119.6112749094682</td><td>1.1006570855899298</td><td>18.70556803746149</td><td>0.009990891441702843</td><td>115.73667817698515</td><td>1.4410830012959082</td><td>18.741322302259505</td><td>0.013518929481506348</td><td>83.03904397721635</td><td>4.2860736549931175</td><td>19.101794194197282</td><td>0.0560404434800148</td><td>279.85820586969203</td><td>4.319937883462899</td><td>17.782653520873282</td><td>0.016759604215621948</td><td>0.0</td><td>N/A</td><td>nan</td><td>nan</td><td>0.02</td><td>nan</td><td>nan</td><td>nan</td><td>nan</td><td>nan</td><td>nan</td><td>nan</td><td>nan</td><td>True</td><td>nan</td><td>nan</td><td>nan</td><td>nan</td><td>nan</td><td>nan</td><td>nan</td><td>nan</td><td>nan</td><td>nan</td><td>nan</td><td>nan</td><td>nan</td><td>nan</td><td>nan</td><td>nan</td><td>True</td><td>True</td><td>nan</td><td>nan</td><td>nan</td><td>nan</td><td>nan</td><td>nan</td><td>nan</td><td>nan</td><td>nan</td><td>nan</td><td>nan</td><td>nan</td><td>nan</td><td>nan</td><td>nan</td><td>nan</td><td>nan</td><td>nan</td><td>nan</td><td>nan</td><td>nan</td><td>nan</td><td>nan</td><td>nan</td><td>True</td><td>True</td><td>True</td><td>0.3587</td><td>0.0</td><td>nan</td><td>--</td><td>--</td><td>nan</td><td>nan</td><td>nan</td><td>N/A</td><td>0.3587</td><td>0.21</td><td>0.49</td><td>0.774</td><td>nan</td><td>nan</td><td>nan</td><td>nan</td><td>8</td><td>8</td><td>6</td><td>0.12338887999999999</td><td>nan</td><td></td><td>0</td><td>0.0</td><td>0.0</td><td>--</td><td>0.0</td><td>nan</td><td>nan</td><td>9415175</td><td>40</td><td>1.0</td><td>nan</td><td>1.0</td><td>nan</td><td>0.36</td><td>70.221436</td><td>10.668203</td><td>10.52586</td><td>10.781759</td><td>1.1186998</td><td>0.9836717</td><td>1.2895622</td><td>8</td><td>23.834969</td><td>22.743132</td><td>22.20253</td><td>-21.637056</td><td>-21.425829</td><td>-21.483412</td><td>-21.727705</td><td>-22.48408</td><td>-22.586782</td><td>-22.470942</td><td>-22.521997</td><td>-22.249403</td><td>-21.490015</td><td>-21.068766</td><td>-20.829645</td></tr>\n",
       "<tr><td>ILTJ143903.63+354407.9</td><td>219.76510911300528</td><td>35.7355486870069</td><td>4.0078934740854494e-05</td><td>3.2992432657341796e-05</td><td>0.0006250013532624666</td><td>0.0001321962590975349</td><td>0.0006362332829582447</td><td>6.473508256021887e-05</td><td>M</td><td>0.0011740291308838726</td><td>0.0010619730556297162</td><td>163.66975744953783</td><td>9.601249735908002e-05</td><td>7.566283387152815e-05</td><td>31.834264234459088</td><td>0.0</td><td>0.0</td><td>0.0</td><td>6.473508256021887e-05</td><td>2</td><td>0</td><td>0</td><td>nan</td><td>219.765267</td><td>35.735694</td><td>nan</td><td>nan</td><td>nan</td><td>0</td><td>nan</td><td>0.0</td><td>0.0</td><td>0.0</td><td>0.0</td><td>0.0</td><td>Create initial sources</td><td>Visual inspection</td><td></td><td>1</td><td>1</td><td>nan</td><td>nan</td><td>nan</td><td>--</td><td>--</td><td>--</td><td>nan</td><td>--</td><td>nan</td><td>nan</td><td>nan</td><td>nan</td><td>nan</td><td>nan</td><td>nan</td><td>nan</td><td>nan</td><td>nan</td><td>nan</td><td>nan</td><td>nan</td><td>nan</td><td>nan</td><td>nan</td><td>nan</td><td>nan</td><td>nan</td><td>nan</td><td>nan</td><td>nan</td><td>nan</td><td>nan</td><td>nan</td><td>nan</td><td>nan</td><td>nan</td><td>nan</td><td>nan</td><td>nan</td><td>nan</td><td>nan</td><td>nan</td><td>nan</td><td>nan</td><td>nan</td><td>nan</td><td>nan</td><td>nan</td><td>nan</td><td>nan</td><td>nan</td><td>nan</td><td>nan</td><td>nan</td><td>nan</td><td>nan</td><td>nan</td><td>nan</td><td>nan</td><td>nan</td><td>nan</td><td>nan</td><td>nan</td><td>nan</td><td>nan</td><td>nan</td><td>nan</td><td>nan</td><td>nan</td><td>nan</td><td>nan</td><td>nan</td><td>nan</td><td>nan</td><td>nan</td><td>nan</td><td>nan</td><td>nan</td><td></td><td>nan</td><td>nan</td><td>nan</td><td>nan</td><td>nan</td><td>nan</td><td>nan</td><td>nan</td><td>nan</td><td>nan</td><td>nan</td><td>False</td><td>nan</td><td>nan</td><td>nan</td><td>nan</td><td>nan</td><td>nan</td><td>nan</td><td>nan</td><td>nan</td><td>nan</td><td>nan</td><td>nan</td><td>nan</td><td>nan</td><td>nan</td><td>nan</td><td>False</td><td>False</td><td>nan</td><td>nan</td><td>nan</td><td>nan</td><td>nan</td><td>nan</td><td>nan</td><td>nan</td><td>nan</td><td>nan</td><td>nan</td><td>nan</td><td>nan</td><td>nan</td><td>nan</td><td>nan</td><td>nan</td><td>nan</td><td>nan</td><td>nan</td><td>nan</td><td>nan</td><td>nan</td><td>nan</td><td>False</td><td>False</td><td>False</td><td>nan</td><td>nan</td><td>nan</td><td>--</td><td>--</td><td>nan</td><td>nan</td><td>nan</td><td></td><td>nan</td><td>nan</td><td>nan</td><td>nan</td><td>nan</td><td>nan</td><td>nan</td><td>nan</td><td>--</td><td>--</td><td>--</td><td>nan</td><td>nan</td><td></td><td>--</td><td>nan</td><td>nan</td><td>--</td><td>nan</td><td>nan</td><td>nan</td><td>--</td><td>--</td><td>nan</td><td>nan</td><td>nan</td><td>nan</td><td>nan</td><td>nan</td><td>nan</td><td>nan</td><td>nan</td><td>nan</td><td>nan</td><td>nan</td><td>--</td><td>nan</td><td>nan</td><td>nan</td><td>nan</td><td>nan</td><td>nan</td><td>nan</td><td>nan</td><td>nan</td><td>nan</td><td>nan</td><td>nan</td><td>nan</td><td>nan</td><td>nan</td></tr>\n",
       "</table>"
      ],
      "text/plain": [
       "<Table masked=True length=3849>\n",
       "     Source_Name               RA         ...  ch3_rest   ch4_rest \n",
       "                                          ...                      \n",
       "       bytes22              float64       ...  float32    float32  \n",
       "---------------------- ------------------ ... ---------- ----------\n",
       "ILTJ142426.18+354355.7 216.10908116330452 ...        nan        nan\n",
       "ILTJ142426.44+354503.4 216.11014740089936 ...        nan        nan\n",
       "ILTJ142426.69+354941.4  216.1112288555118 ...        nan        nan\n",
       "ILTJ142426.73+341313.2 216.11139553658276 ...        nan        nan\n",
       "ILTJ142426.85+352815.2 216.11186758513622 ...        nan        nan\n",
       "ILTJ142427.08+340855.7  216.1128229236251 ...        nan        nan\n",
       "ILTJ142427.15+355030.5 216.11312300003408 ...        nan        nan\n",
       "ILTJ142427.17+354647.0 216.11318926620496 ... -19.071009 -18.518892\n",
       "ILTJ142427.29+335944.4  216.1136932514087 ...        nan        nan\n",
       "                   ...                ... ...        ...        ...\n",
       "ILTJ143859.98+353815.9 219.74993581979632 ...        nan        nan\n",
       "ILTJ143900.12+352628.8 219.75051383964666 ...        nan        nan\n",
       "ILTJ143900.15+353728.5 219.75062546374184 ...        nan        nan\n",
       "ILTJ143900.53+355024.0 219.75222644395063 ...        nan        nan\n",
       "ILTJ143900.54+352154.8 219.75224325591103 ... -17.833136 -19.503012\n",
       "ILTJ143900.60+352233.3 219.75251903821226 ... -21.942614 -20.587591\n",
       "ILTJ143902.07+351652.5  219.7586427998721 ...        nan        nan\n",
       "ILTJ143902.19+352802.6  219.7591306079986 ... -23.396883 -22.827261\n",
       "ILTJ143902.54+352535.7 219.76057859637427 ... -21.068766 -20.829645\n",
       "ILTJ143903.63+354407.9 219.76510911300528 ...        nan        nan"
      ]
     },
     "execution_count": 24,
     "metadata": {},
     "output_type": "execute_result"
    }
   ],
   "source": [
    "lofar"
   ]
  },
  {
   "cell_type": "code",
   "execution_count": 25,
   "metadata": {},
   "outputs": [],
   "source": [
    "i1_f = lofar['ch1_flux_corr']\n",
    "\n",
    "i2_f = lofar['ch2_flux_corr']\n",
    "\n",
    "i3_f = lofar['ch3_flux_corr']\n",
    "\n",
    "i4_f = lofar['ch4_flux_corr']"
   ]
  },
  {
   "cell_type": "code",
   "execution_count": 26,
   "metadata": {},
   "outputs": [],
   "source": [
    "cra = Column(ras,name='ra')\n",
    "cdec = Column(decs,name='dec')\n",
    "cids = Column(ids,name='help_id')\n",
    "cdet = Column(np.zeros(len(ras))-99,name='flag_optnir_det')\n",
    "ci1 = Column(i1_f,name='f_irac_i1')\n",
    "ci2 = Column(i2_f,name='f_irac_i2')\n",
    "ci3 = Column(i3_f,name='f_irac_i3')\n",
    "ci4 = Column(i4_f,name='f_irac_i4')\n",
    "lofar_prior = Table()\n",
    "lofar_prior.add_columns([cra,cdec,cids,cdet,ci1,ci2,ci3,ci4])"
   ]
  },
  {
   "cell_type": "code",
   "execution_count": 27,
   "metadata": {},
   "outputs": [],
   "source": [
    "MIPS_lower=np.full(len(lofar_prior),0.0)\n",
    "MIPS_upper=np.full(len(lofar_prior),1E5)\n",
    "for i in range(len(lofar_prior)):\n",
    "    if np.isnan(lofar_prior['f_irac_i4'][i])==False:\n",
    "        MIPS_lower[i]=lofar_prior['f_irac_i4'][i]/500.0\n",
    "        MIPS_upper[i]=lofar_prior['f_irac_i4'][i]*500.0\n",
    "    elif np.isnan(lofar_prior['f_irac_i3'][i])==False:\n",
    "        MIPS_lower[i]=lofar_prior['f_irac_i3'][i]/500.0\n",
    "        MIPS_upper[i]=lofar_prior['f_irac_i3'][i]*500.0\n",
    "    elif np.isnan(lofar_prior['f_irac_i2'][i])==False:\n",
    "        MIPS_lower[i]=lofar_prior['f_irac_i2'][i]/500.0\n",
    "        MIPS_upper[i]=lofar_prior['f_irac_i2'][i]*500.0\n",
    "    elif np.isnan(lofar_prior['f_irac_i1'][i])==False:\n",
    "        MIPS_lower[i]=lofar_prior['f_irac_i1'][i]/500.0\n",
    "        MIPS_upper[i]=lofar_prior['f_irac_i1'][i]*500.0\n",
    "        \n",
    "mips_lower_col = Column(MIPS_lower,name='MIPS_lower')\n",
    "mips_upper_col = Column(MIPS_upper,name='MIPS_upper')\n",
    "lofar_prior = Table()\n",
    "lofar_prior.add_columns([cra,cdec,cids,cdet,ci1,ci2,ci3,ci4,mips_lower_col,mips_upper_col])"
   ]
  },
  {
   "cell_type": "code",
   "execution_count": 28,
   "metadata": {},
   "outputs": [
    {
     "data": {
      "text/plain": [
       "1647804"
      ]
     },
     "execution_count": 28,
     "metadata": {},
     "output_type": "execute_result"
    }
   ],
   "source": [
    "prior_cat = vstack([prior_cat,lofar_prior])\n",
    "len(prior_cat)"
   ]
  },
  {
   "cell_type": "code",
   "execution_count": 29,
   "metadata": {},
   "outputs": [
    {
     "data": {
      "text/html": [
       "<i>Table masked=True length=1647804</i>\n",
       "<table id=\"table140735713687872\" class=\"table-striped table-bordered table-condensed\">\n",
       "<thead><tr><th>ra</th><th>dec</th><th>help_id</th><th>flag_optnir_det</th><th>f_irac_i1</th><th>f_irac_i2</th><th>f_irac_i3</th><th>f_irac_i4</th><th>f_mips_24</th><th>MIPS_lower</th><th>MIPS_upper</th></tr></thead>\n",
       "<thead><tr><th>deg</th><th>deg</th><th></th><th></th><th>uJy</th><th>uJy</th><th>uJy</th><th>uJy</th><th>uJy</th><th></th><th></th></tr></thead>\n",
       "<thead><tr><th>float64</th><th>float64</th><th>bytes27</th><th>float64</th><th>float64</th><th>float64</th><th>float64</th><th>float64</th><th>float32</th><th>float64</th><th>float64</th></tr></thead>\n",
       "<tr><td>215.98034637597098</td><td>35.24606363406821</td><td>HELP_J142355.283+351445.829</td><td>5.0</td><td>nan</td><td>75.9898439473133</td><td>nan</td><td>24.2634127557033</td><td>nan</td><td>0.0485268255114066</td><td>12131.70637785165</td></tr>\n",
       "<tr><td>215.98377009597098</td><td>35.25453661406821</td><td>HELP_J142356.105+351516.332</td><td>5.0</td><td>nan</td><td>305.326463282883</td><td>nan</td><td>95.2421844747383</td><td>67.09552</td><td>0.1904843689494766</td><td>47621.09223736915</td></tr>\n",
       "<tr><td>215.98399555597098</td><td>35.2464263940682</td><td>HELP_J142356.159+351447.135</td><td>5.0</td><td>nan</td><td>299.771333969483</td><td>nan</td><td>77.2440070448367</td><td>nan</td><td>0.15448801408967341</td><td>38622.00352241835</td></tr>\n",
       "<tr><td>215.99260956597098</td><td>35.2599410840682</td><td>HELP_J142358.226+351535.788</td><td>5.0</td><td>nan</td><td>35.7791283736967</td><td>nan</td><td>25.2646954360217</td><td>536.5018</td><td>0.0505293908720434</td><td>12632.34771801085</td></tr>\n",
       "<tr><td>215.99734143597098</td><td>35.23536844406821</td><td>HELP_J142359.362+351407.326</td><td>5.0</td><td>69.7791238472183</td><td>nan</td><td>54.389837210805</td><td>nan</td><td>144.67899</td><td>0.10877967442160999</td><td>27194.918605402498</td></tr>\n",
       "<tr><td>215.997465825971</td><td>35.2550397640682</td><td>HELP_J142359.392+351518.143</td><td>5.0</td><td>nan</td><td>214.0883838922</td><td>nan</td><td>42.9535476343467</td><td>41.669342</td><td>0.08590709526869339</td><td>21476.77381717335</td></tr>\n",
       "<tr><td>215.99784159597098</td><td>35.285312194068204</td><td>HELP_J142359.482+351707.124</td><td>5.0</td><td>nan</td><td>10.6273851476723</td><td>nan</td><td>6.15832568355167</td><td>12.882616</td><td>0.01231665136710334</td><td>3079.162841775835</td></tr>\n",
       "<tr><td>215.999529495971</td><td>35.234527354068206</td><td>HELP_J142359.887+351404.298</td><td>5.0</td><td>98.8696025607583</td><td>nan</td><td>129.52004071602</td><td>53.1389248617533</td><td>58.77758</td><td>0.10627784972350661</td><td>26569.46243087665</td></tr>\n",
       "<tr><td>215.999665905971</td><td>35.280193134068206</td><td>HELP_J142359.920+351648.695</td><td>5.0</td><td>nan</td><td>34.027878898915</td><td>nan</td><td>13.6397338089623</td><td>51.83905</td><td>0.0272794676179246</td><td>6819.8669044811495</td></tr>\n",
       "<tr><td>...</td><td>...</td><td>...</td><td>...</td><td>...</td><td>...</td><td>...</td><td>...</td><td>...</td><td>...</td><td>...</td></tr>\n",
       "<tr><td>219.7499614</td><td>35.6377393</td><td>ILTJ143859.98+353815.9</td><td>-99.0</td><td>85.88771563734463</td><td>77.8449123488117</td><td>65.54229470432438</td><td>52.99289871153178</td><td>--</td><td>0.10598579742306356</td><td>26496.44935576589</td></tr>\n",
       "<tr><td>219.7506283</td><td>35.4413069</td><td>ILTJ143900.12+352628.8</td><td>-99.0</td><td>127.55646355967838</td><td>100.09196615687415</td><td>93.75803236907268</td><td>705.5735226782563</td><td>--</td><td>1.4111470453565125</td><td>352786.76133912813</td></tr>\n",
       "<tr><td>219.7499548</td><td>35.6247299</td><td>ILTJ143900.15+353728.5</td><td>-99.0</td><td>101.59710270389769</td><td>95.27597190326469</td><td>81.00588770912873</td><td>194.99051538611275</td><td>--</td><td>0.3899810307722255</td><td>97495.25769305637</td></tr>\n",
       "<tr><td>219.75222644395063</td><td>35.840018520294855</td><td>ILTJ143900.53+355024.0</td><td>-99.0</td><td>nan</td><td>nan</td><td>nan</td><td>nan</td><td>--</td><td>0.0</td><td>100000.0</td></tr>\n",
       "<tr><td>219.7521285</td><td>35.3657478</td><td>ILTJ143900.54+352154.8</td><td>-99.0</td><td>44.502288078161655</td><td>48.76631152858863</td><td>23.86542144899431</td><td>121.17763254966121</td><td>--</td><td>0.24235526509932243</td><td>60588.816274830606</td></tr>\n",
       "<tr><td>219.7527322</td><td>35.3761921</td><td>ILTJ143900.60+352233.3</td><td>-99.0</td><td>203.91840222834253</td><td>170.93651231009062</td><td>120.1171246795866</td><td>83.08833197400236</td><td>--</td><td>0.1661766639480047</td><td>41544.16598700118</td></tr>\n",
       "<tr><td>219.7585862</td><td>35.281391</td><td>ILTJ143902.07+351652.5</td><td>-99.0</td><td>9.56256462535318</td><td>17.317837613675128</td><td>19.400362854323614</td><td>44.51346719580857</td><td>--</td><td>0.08902693439161714</td><td>22256.733597904287</td></tr>\n",
       "<tr><td>219.7591759</td><td>35.4674826</td><td>ILTJ143902.19+352802.6</td><td>-99.0</td><td>91.2897950624274</td><td>86.0675357072032</td><td>68.03442384688697</td><td>63.91785256113326</td><td>--</td><td>0.12783570512226652</td><td>31958.92628056663</td></tr>\n",
       "<tr><td>219.7606298</td><td>35.4266318</td><td>ILTJ143902.54+352535.7</td><td>-99.0</td><td>119.6112749094682</td><td>115.73667817698515</td><td>83.03904397721635</td><td>279.85820586969203</td><td>--</td><td>0.559716411739384</td><td>139929.102934846</td></tr>\n",
       "<tr><td>219.765267</td><td>35.735694</td><td>ILTJ143903.63+354407.9</td><td>-99.0</td><td>nan</td><td>nan</td><td>nan</td><td>nan</td><td>--</td><td>0.0</td><td>100000.0</td></tr>\n",
       "</table>"
      ],
      "text/plain": [
       "<Table masked=True length=1647804>\n",
       "        ra                dec         ...      MIPS_lower         MIPS_upper    \n",
       "       deg                deg         ...                                       \n",
       "     float64            float64       ...       float64            float64      \n",
       "------------------ ------------------ ... ------------------- ------------------\n",
       "215.98034637597098  35.24606363406821 ...  0.0485268255114066  12131.70637785165\n",
       "215.98377009597098  35.25453661406821 ...  0.1904843689494766  47621.09223736915\n",
       "215.98399555597098   35.2464263940682 ... 0.15448801408967341  38622.00352241835\n",
       "215.99260956597098   35.2599410840682 ...  0.0505293908720434  12632.34771801085\n",
       "215.99734143597098  35.23536844406821 ... 0.10877967442160999 27194.918605402498\n",
       "  215.997465825971   35.2550397640682 ... 0.08590709526869339  21476.77381717335\n",
       "215.99784159597098 35.285312194068204 ... 0.01231665136710334  3079.162841775835\n",
       "  215.999529495971 35.234527354068206 ... 0.10627784972350661  26569.46243087665\n",
       "  215.999665905971 35.280193134068206 ...  0.0272794676179246 6819.8669044811495\n",
       "               ...                ... ...                 ...                ...\n",
       "       219.7499614         35.6377393 ... 0.10598579742306356  26496.44935576589\n",
       "       219.7506283         35.4413069 ...  1.4111470453565125 352786.76133912813\n",
       "       219.7499548         35.6247299 ...  0.3899810307722255  97495.25769305637\n",
       "219.75222644395063 35.840018520294855 ...                 0.0           100000.0\n",
       "       219.7521285         35.3657478 ... 0.24235526509932243 60588.816274830606\n",
       "       219.7527322         35.3761921 ...  0.1661766639480047  41544.16598700118\n",
       "       219.7585862          35.281391 ... 0.08902693439161714 22256.733597904287\n",
       "       219.7591759         35.4674826 ... 0.12783570512226652  31958.92628056663\n",
       "       219.7606298         35.4266318 ...   0.559716411739384   139929.102934846\n",
       "        219.765267          35.735694 ...                 0.0           100000.0"
      ]
     },
     "execution_count": 29,
     "metadata": {},
     "output_type": "execute_result"
    }
   ],
   "source": [
    "prior_cat"
   ]
  },
  {
   "cell_type": "code",
   "execution_count": 30,
   "metadata": {},
   "outputs": [],
   "source": [
    "Table.write(prior_cat,'data/data_release/xidplus_prior_cat_MIPS_rerun.fits',overwrite=True)"
   ]
  },
  {
   "cell_type": "code",
   "execution_count": null,
   "metadata": {},
   "outputs": [],
   "source": []
  },
  {
   "cell_type": "code",
   "execution_count": 4,
   "metadata": {},
   "outputs": [],
   "source": [
    "#Read in the HELP masterlist and select the wanted columns\n",
    "columns = 'ra','dec','help_id','f_spire_250','ferr_spire_250','flag_spire_250','f_spire_350','ferr_spire_350','flag_spire_350','f_spire_500','ferr_spire_500','flag_spire_500','flag_optnir_det','f_mips_24'\n",
    "masterlist = Table.read('../../../../../HELP/dmu_products/dmu32/dmu32_Lockman-SWIRE/data/Lockman-SWIRE_20180219.fits')\n",
    "help_masterlist = masterlist[columns]"
   ]
  },
  {
   "cell_type": "code",
   "execution_count": 5,
   "metadata": {},
   "outputs": [],
   "source": [
    "#Read in the Ldust prdictions from CIGALE\n",
    "#when these are on the VO i will change code to read it in from then\n",
    "ldust = Table.read('../../../../../HELP/dmu_products/dmu28/dmu28_Lockman-SWIRE/data/Lockman-SWIRE_Ldust_prediction_results.fits') \n",
    "ldust.rename_column('id','help_id')\n",
    "ldust['help_id'] = ldust['help_id'].astype(str)\n",
    "#join Ldust predictions with the help table\n",
    "ldust_id = [name[:-6] for name in list(ldust['help_id'])]\n",
    "ldust['help_id'] = np.array(ldust_id)\n",
    "ldust_cols = ['help_id','bayes.dust.luminosity','bayes.dust.luminosity_err','best.universe.redshift']\n",
    "ldust = ldust[ldust_cols]\n",
    "\n",
    "\n",
    "help_masterlist_ldust = join(help_masterlist,ldust,keys='help_id',join_type='outer')\n",
    "\n"
   ]
  },
  {
   "cell_type": "code",
   "execution_count": 165,
   "metadata": {},
   "outputs": [],
   "source": [
    "#compute the predicted flux from the dust and usethis to construct the prior\n",
    "from astropy.cosmology import Planck15 as cosmo\n",
    "from astropy import units as u\n",
    "f_pred=help_masterlist_ldust['bayes.dust.luminosity']/(4*np.pi*cosmo.luminosity_distance(help_masterlist_ldust['best.universe.redshift']).to(u.cm))\n",
    "mask = np.isfinite(f_pred)\n",
    "ldust_mask = (np.log10(f_pred)>8.5) & (np.isfinite(f_pred))\n",
    "mips_mask = (help_masterlist['flag_optnir_det']>=5) & (help_masterlist['f_mips_24']>20)\n",
    "\n",
    "\n",
    "prior_cat = help_masterlist_ldust[ldust_mask | mips_mask]\n",
    "#xid_rerun = Column(name='XID_rerun',data=np.zeros(len(prior_cat))-99)\n",
    "#prior_cat.add_column(xid_rerun)"
   ]
  },
  {
   "cell_type": "code",
   "execution_count": null,
   "metadata": {},
   "outputs": [],
   "source": []
  },
  {
   "cell_type": "code",
   "execution_count": 166,
   "metadata": {},
   "outputs": [],
   "source": [
    "lofar_coords = SkyCoord(lofar['ra'],lofar['dec'],unit='deg')\n",
    "prior_coords = SkyCoord(prior_cat['ra'],prior_cat['dec'],unit='deg')\n",
    "radius = 2\n",
    "idx_prior, idx_lofar, d2d, d3d = lofar_coords.search_around_sky(\n",
    "    prior_coords, radius*u.arcsec)"
   ]
  },
  {
   "cell_type": "code",
   "execution_count": 173,
   "metadata": {},
   "outputs": [],
   "source": [
    "not_crossmatched = [i for i in range(len(lofar)) if i not in idx_lofar]"
   ]
  },
  {
   "cell_type": "code",
   "execution_count": 193,
   "metadata": {},
   "outputs": [
    {
     "name": "stderr",
     "output_type": "stream",
     "text": [
      "WARNING: MergeConflictWarning: Cannot merge meta key 'EXTNAME' types <class 'str'> and <class 'str'>, choosing EXTNAME='/data06/HELP/DATA/Ldust_prediction/out/results.fits#1' [astropy.utils.metadata]\n",
      "WARNING:astropy:MergeConflictWarning: Cannot merge meta key 'EXTNAME' types <class 'str'> and <class 'str'>, choosing EXTNAME='/data06/HELP/DATA/Ldust_prediction/out/results.fits#1'\n"
     ]
    }
   ],
   "source": [
    "merged_lofar_prior = hstack([lofar[idx_lofar],prior_cat[idx_prior]])"
   ]
  },
  {
   "cell_type": "code",
   "execution_count": 194,
   "metadata": {},
   "outputs": [
    {
     "name": "stderr",
     "output_type": "stream",
     "text": [
      "WARNING: MergeConflictWarning: Cannot merge meta key 'EXTNAME' types <class 'str'> and <class 'str'>, choosing EXTNAME='LDAC_OBJECTS' [astropy.utils.metadata]\n",
      "WARNING:astropy:MergeConflictWarning: Cannot merge meta key 'EXTNAME' types <class 'str'> and <class 'str'>, choosing EXTNAME='LDAC_OBJECTS'\n"
     ]
    }
   ],
   "source": [
    "merged_lofar_prior.rename_column('ra_1','ra')\n",
    "merged_lofar_prior.rename_column('dec_1','dec')\n",
    "merged_lofar_prior = vstack([merged_lofar_prior,lofar[not_crossmatched]])"
   ]
  },
  {
   "cell_type": "code",
   "execution_count": 212,
   "metadata": {},
   "outputs": [],
   "source": [
    "rerun_col = Column(data=merged_lofar_prior['f_spire_250'].mask,name='xid+_rerun',dtype=bool)\n",
    "merged_lofar_prior.add_column(rerun_col)"
   ]
  },
  {
   "cell_type": "code",
   "execution_count": 215,
   "metadata": {},
   "outputs": [],
   "source": [
    "lofar_coords = SkyCoord(merged_lofar_prior['ra'],merged_lofar_prior['dec'],unit='deg')\n",
    "prior_coords = SkyCoord(prior_cat['ra'],prior_cat['dec'],unit='deg')\n",
    "radius = 2\n",
    "idx_prior, idx_lofar, d2d, d3d = lofar_coords.search_around_sky(\n",
    "    prior_coords, radius*u.arcsec)"
   ]
  },
  {
   "cell_type": "code",
   "execution_count": 257,
   "metadata": {},
   "outputs": [],
   "source": [
    "uniq_ids_prior,counts_prior = np.unique(idx_lofar,return_counts=True)\n",
    "source_type = np.zeros(len(merged_lofar_prior))\n",
    "source_type[uniq_ids_prior] = counts_prior"
   ]
  },
  {
   "cell_type": "code",
   "execution_count": 220,
   "metadata": {},
   "outputs": [],
   "source": [
    "#there may be a problem here NEEDS TO BE DOUBLE CHECKED\n",
    "min_d2d_prior_val = [np.min(d2d[idx_lofar==i].value) for i in uniq_ids_prior]\n",
    "min_d2d_prior = np.ones(len(merged_lofar_prior))\n",
    "min_d2d_prior[uniq_ids_prior] = min_d2d_prior_val"
   ]
  },
  {
   "cell_type": "code",
   "execution_count": 221,
   "metadata": {},
   "outputs": [],
   "source": [
    "lofar_coords = SkyCoord(merged_lofar_prior['ra'],merged_lofar_prior['dec'],unit='deg')\n",
    "help_coords = SkyCoord(help_masterlist_ldust['ra'],help_masterlist_ldust['dec'],unit='deg')\n",
    "radius = 2\n",
    "idx_help, idx_lofar, d2d, d3d = lofar_coords.search_around_sky(\n",
    "    help_coords, radius*u.arcsec)"
   ]
  },
  {
   "cell_type": "code",
   "execution_count": 222,
   "metadata": {},
   "outputs": [],
   "source": [
    "uniq_ids_help,counts_help = np.unique(idx_lofar,return_counts=True)\n",
    "source_type_help = np.zeros(len(merged_lofar_prior))\n",
    "source_type_help[uniq_ids_help] = counts_help"
   ]
  },
  {
   "cell_type": "code",
   "execution_count": 224,
   "metadata": {},
   "outputs": [],
   "source": [
    "min_d2d_help_val = [np.min(d2d[idx_lofar==i].value) for i in uniq_ids_help]\n",
    "min_d2d_help = np.ones(len(merged_lofar_prior))\n",
    "min_d2d_help[uniq_ids_help] = min_d2d_help_val"
   ]
  },
  {
   "cell_type": "code",
   "execution_count": 250,
   "metadata": {},
   "outputs": [
    {
     "data": {
      "image/png": "[encoded data removed]",
      "text/plain": [
       "<Figure size 432x288 with 1 Axes>"
      ]
     },
     "metadata": {
      "needs_background": "light"
     },
     "output_type": "display_data"
    }
   ],
   "source": [
    "bins = np.arange(0,2,0.01)\n",
    "plt.hist(min_d2d_help*3600,bins=bins)\n",
    "plt.hist(min_d2d_prior*3600,bins=bins)\n",
    "plt.show()"
   ]
  },
  {
   "cell_type": "code",
   "execution_count": 258,
   "metadata": {},
   "outputs": [],
   "source": [
    "source_class = np.where((min_d2d_help<min_d2d_prior),'nearer_non_prior','nearest_prior')\n",
    "source_class = np.where((min_d2d_help==min_d2d_prior),'no nearby sources',source_class)\n",
    "#source_class = np.array(['nearest_prior' for i in range(len(merged_lofar_prior))])\n",
    "source_class = np.where(source_type==0,'radio_position',source_class)\n",
    "source_class = np.where(source_type>1,'multiple_prior',source_class)\n",
    "\n",
    "source_class = source_class.astype('U42')\n",
    "\n",
    "mask = (source_type>0) & (min_d2d_help>min_d2d_prior)\n",
    "for i,source in enumerate(source_class):\n",
    "    if mask[i]==True:\n",
    "\n",
    "        source_class[i] = source_class[i] + '_with_nearer_non_prior'\n"
   ]
  },
  {
   "cell_type": "code",
   "execution_count": 262,
   "metadata": {},
   "outputs": [],
   "source": [
    "class_col = Column(data=source_class,name='prior_type')\n",
    "merged_lofar_prior.add_column(class_col)"
   ]
  },
  {
   "cell_type": "code",
   "execution_count": 267,
   "metadata": {},
   "outputs": [],
   "source": [
    "colnames_keep = ['Source_id',\n",
    " 'Isl_id',\n",
    " 'RA',\n",
    " 'E_RA',\n",
    " 'DEC',\n",
    " 'E_DEC',\n",
    " 'Total_flux',\n",
    " 'E_Total_flux',\n",
    " 'Peak_flux',\n",
    " 'E_Peak_flux',\n",
    " 'RA_max',\n",
    " 'E_RA_max',\n",
    " 'DEC_max',\n",
    " 'E_DEC_max',\n",
    " 'Maj',\n",
    " 'E_Maj',\n",
    " 'Min',\n",
    " 'E_Min',\n",
    " 'PA',\n",
    " 'E_PA',\n",
    " 'Maj_img_plane',\n",
    " 'E_Maj_img_plane',\n",
    " 'Min_img_plane',\n",
    " 'E_Min_img_plane',\n",
    " 'PA_img_plane',\n",
    " 'E_PA_img_plane',\n",
    " 'DC_Maj',\n",
    " 'E_DC_Maj',\n",
    " 'DC_Min',\n",
    " 'E_DC_Min',\n",
    " 'DC_PA',\n",
    " 'E_DC_PA',\n",
    " 'DC_Maj_img_plane',\n",
    " 'E_DC_Maj_img_plane',\n",
    " 'DC_Min_img_plane',\n",
    " 'E_DC_Min_img_plane',\n",
    " 'DC_PA_img_plane',\n",
    " 'E_DC_PA_img_plane',\n",
    " 'Isl_Total_flux',\n",
    " 'E_Isl_Total_flux',\n",
    " 'Isl_rms',\n",
    " 'Isl_mean',\n",
    " 'Resid_Isl_rms',\n",
    " 'Resid_Isl_mean',\n",
    " 'S_Code',\n",
    " 'FLAG_OVERLAP_1',\n",
    " 'flag_clean_1',\n",
    " 'Source_Name',\n",
    " 'lr_fin',\n",
    " 'lr_dist_fin',\n",
    " 'lr_index_fin',\n",
    " 'ra',\n",
    " 'dec',\n",
    " 'ra_2',\n",
    " 'dec_2',\n",
    " 'help_id',\n",
    " 'f_spire_250',\n",
    " 'ferr_spire_250',\n",
    " 'flag_spire_250',\n",
    " 'f_spire_350',\n",
    " 'ferr_spire_350',\n",
    " 'flag_spire_350',\n",
    " 'f_spire_500',\n",
    " 'ferr_spire_500',\n",
    " 'flag_spire_500',\n",
    " 'flag_optnir_det',\n",
    " 'f_mips_24',\n",
    " 'bayes.dust.luminosity',\n",
    " 'bayes.dust.luminosity_err',\n",
    " 'best.universe.redshift',\n",
    " 'xid+_rerun',\n",
    " 'prior_type']"
   ]
  },
  {
   "cell_type": "code",
   "execution_count": 268,
   "metadata": {},
   "outputs": [],
   "source": [
    "merged_lofar_prior = merged_lofar_prior[colnames_keep]"
   ]
  },
  {
   "cell_type": "code",
   "execution_count": 269,
   "metadata": {},
   "outputs": [],
   "source": [
    "Table.write(merged_lofar_prior,'data/xid+_prepared_cat.fits')"
   ]
  },
  {
   "cell_type": "code",
   "execution_count": null,
   "metadata": {},
   "outputs": [],
   "source": []
  }
 ],
 "metadata": {
  "kernelspec": {
   "display_name": "Python 3",
   "language": "python",
   "name": "python3"
  },
  "language_info": {
   "codemirror_mode": {
    "name": "ipython",
    "version": 3
   },
   "file_extension": ".py",
   "mimetype": "text/x-python",
   "name": "python",
   "nbconvert_exporter": "python",
   "pygments_lexer": "ipython3",
   "version": "3.6.7"
  }
 },
 "nbformat": 4,
 "nbformat_minor": 2
}
