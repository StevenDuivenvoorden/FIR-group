{
 "cells": [
  {
   "cell_type": "code",
   "execution_count": 1,
   "metadata": {},
   "outputs": [],
   "source": [
    "from astropy.io import ascii, fits\n",
    "import astropy\n",
    "import pylab as plt\n",
    "%matplotlib inline\n",
    "from astropy import wcs\n",
    "from astropy.table import Table,Column,join,hstack,vstack\n",
    "from astropy.coordinates import SkyCoord\n",
    "from astropy import units as u\n",
    "from astropy.cosmology import WMAP9 as cosmo\n",
    "import pymoc\n",
    "import glob\n",
    "from time import sleep\n",
    "import os\n",
    "from astropy.nddata.utils import Cutout2D\n",
    "import herschelhelp.cutouts_server as ctts\n",
    "\n",
    "import numpy as np\n",
    "import xidplus\n",
    "from xidplus import moc_routines\n",
    "import pickle\n",
    "import xidplus.catalogue as cat\n",
    "\n",
    "import sys\n",
    "from herschelhelp_internal.utils import inMoc,flux_to_mag\n",
    "from xidplus.stan_fit import SPIRE\n",
    "\n",
    "import aplpy\n",
    "import seaborn as sns\n",
    "#sns.set(color_codes=True)\n",
    "import pandas as pd\n",
    "#sns.set_style(\"white\")\n",
    "import xidplus.posterior_maps as postmaps\n",
    "from herschelhelp_internal.masterlist import merge_catalogues, nb_merge_dist_plot, specz_merge\n",
    "from herschelhelp import image_plotting\n",
    "import pyvo as vo\n",
    "import glob\n",
    "\n",
    "import copy"
   ]
  },
  {
   "cell_type": "code",
   "execution_count": 2,
   "metadata": {},
   "outputs": [],
   "source": [
    "def read_fits(filename):\n",
    "    hdulist = fits.open(filename)\n",
    "    data = hdulist[1].data\n",
    "    hdulist.close()\n",
    "    return(data)"
   ]
  },
  {
   "cell_type": "code",
   "execution_count": 3,
   "metadata": {},
   "outputs": [],
   "source": [
    "def find_posteror_source(source_num,source_id):\n",
    "    #finds the pkl file corresponding to the source you give.\n",
    "    # Source_num: the row number of the source you want the pkl file for\n",
    "    # Source_id: the sources id\n",
    "    \n",
    "    if type(source_num)==int:\n",
    "        source_num = [source_num]\n",
    "        source_id = [source_id]\n",
    "    \n",
    "\n",
    "    source_list = []\n",
    "    for n,num in enumerate(source_num):\n",
    "        file_num = int(num/10)\n",
    "        #print(file_num)\n",
    "        #print('data/fir_v2/xidplus_run_{}/lofar_xidplus_fir_{}_rerun.pkl.pkl'.format(file_num,file_num))\n",
    "        name = file_list[file_num].replace('fits','pkl.pkl')\n",
    "        #print(name)\n",
    "        priors,posterior = xidplus.load(name)\n",
    "        #print(source_id[n])\n",
    "        if source_id[n] not in priors[0].ID:\n",
    "            print('source number :{}: not in opened file. Something is wrong'.format(num))\n",
    "        source_list.append([priors,posterior])\n",
    "        \n",
    "    return(source_list)"
   ]
  },
  {
   "cell_type": "code",
   "execution_count": 4,
   "metadata": {},
   "outputs": [],
   "source": [
    "lofar_orig = Table.read('data/data_release/final_cross_match_catalogue-v0.5.fits')\n",
    "mips_prior = Table.read('data/data_release/xidplus_prior_cat_MIPS.fits')\n",
    "pacs_prior = Table.read('data/data_release/xidplus_prior_cat.fits')"
   ]
  },
  {
   "cell_type": "code",
   "execution_count": 5,
   "metadata": {},
   "outputs": [
    {
     "data": {
      "text/html": [
       "<i>Row index=0 masked=True</i>\n",
       "<table id=\"table140735718507016\">\n",
       "<thead><tr><th>Source_Name</th><th>RA</th><th>DEC</th><th>E_RA</th><th>E_DEC</th><th>Total_flux</th><th>E_Total_flux</th><th>Peak_flux</th><th>E_Peak_flux</th><th>S_Code</th><th>Maj</th><th>Min</th><th>PA</th><th>E_Maj</th><th>E_Min</th><th>E_PA</th><th>DC_Maj</th><th>DC_Min</th><th>DC_PA</th><th>Isl_rms</th><th>FLAG_WORKFLOW</th><th>Prefilter</th><th>NoID</th><th>lr_fin</th><th>optRA</th><th>optDec</th><th>LGZ_Size</th><th>LGZ_Width</th><th>LGZ_PA</th><th>Assoc</th><th>Assoc_Qual</th><th>Art_prob</th><th>Blend_prob</th><th>Hostbroken_prob</th><th>Imagemissing_prob</th><th>Zoom_prob</th><th>Created</th><th>Position_from</th><th>Renamed_from</th><th>FLAG_OVERLAP_RADIO</th><th>flag_clean_radio</th><th>ID</th><th>X_IMAGE</th><th>Y_IMAGE</th><th>ALPHA_J2000</th><th>DELTA_J2000</th><th>flag_clean</th><th>ID_OPTICAL</th><th>ID_SPITZER</th><th>FLAG_OVERLAP</th><th>u_flux_corr</th><th>u_fluxerr_corr</th><th>u_mag_corr</th><th>u_magerr_corr</th><th>g_flux_corr</th><th>g_fluxerr_corr</th><th>g_mag_corr</th><th>g_magerr_corr</th><th>r_flux_corr</th><th>r_fluxerr_corr</th><th>r_mag_corr</th><th>r_magerr_corr</th><th>i_flux_corr</th><th>i_fluxerr_corr</th><th>i_mag_corr</th><th>i_magerr_corr</th><th>z_flux_corr</th><th>z_fluxerr_corr</th><th>z_mag_corr</th><th>z_magerr_corr</th><th>y_flux_corr</th><th>y_fluxerr_corr</th><th>y_mag_corr</th><th>y_magerr_corr</th><th>g_hsc_flux_corr</th><th>g_hsc_fluxerr_corr</th><th>g_hsc_mag_corr</th><th>g_hsc_magerr_corr</th><th>r_hsc_flux_corr</th><th>r_hsc_fluxerr_corr</th><th>r_hsc_mag_corr</th><th>r_hsc_magerr_corr</th><th>i_hsc_flux_corr</th><th>i_hsc_fluxerr_corr</th><th>i_hsc_mag_corr</th><th>i_hsc_magerr_corr</th><th>z_hsc_flux_corr</th><th>z_hsc_fluxerr_corr</th><th>z_hsc_mag_corr</th><th>z_hsc_magerr_corr</th><th>y_hsc_flux_corr</th><th>y_hsc_fluxerr_corr</th><th>y_hsc_mag_corr</th><th>y_hsc_magerr_corr</th><th>nb921_hsc_flux_corr</th><th>nb921_hsc_fluxerr_corr</th><th>nb921_hsc_mag_corr</th><th>nb921_hsc_magerr_corr</th><th>J_flux_corr</th><th>J_fluxerr_corr</th><th>J_mag_corr</th><th>J_magerr_corr</th><th>K_flux_corr</th><th>K_fluxerr_corr</th><th>K_mag_corr</th><th>K_magerr_corr</th><th>ch1_swire_flux_corr</th><th>ch1_swire_fluxerr_corr</th><th>ch1_swire_mag_corr</th><th>ch1_swire_magerr_corr</th><th>ch2_swire_flux_corr</th><th>ch2_swire_fluxerr_corr</th><th>ch2_swire_mag_corr</th><th>ch2_swire_magerr_corr</th><th>ch3_swire_flux_corr</th><th>ch3_swire_fluxerr_corr</th><th>ch3_swire_mag_corr</th><th>ch3_swire_magerr_corr</th><th>ch4_swire_flux_corr</th><th>ch4_swire_fluxerr_corr</th><th>ch4_swire_mag_corr</th><th>ch4_swire_magerr_corr</th><th>ch1_servs_flux_corr</th><th>ch1_servs_fluxerr_corr</th><th>ch1_servs_mag_corr</th><th>ch1_servs_magerr_corr</th><th>ch2_servs_flux_corr</th><th>ch2_servs_fluxerr_corr</th><th>ch2_servs_mag_corr</th><th>ch2_servs_magerr_corr</th><th>Separation</th><th>help_id</th><th>RA_HELP</th><th>DEC_HELP</th><th>EBV</th><th>CLASS_STAR</th><th>F_MIPS_24</th><th>FErr_MIPS_24_u</th><th>FErr_MIPS_24_l</th><th>Bkg_MIPS_24</th><th>Sig_conf_MIPS_24</th><th>Rhat_MIPS_24</th><th>n_eff_MIPS_24</th><th>Pval_res_24</th><th>flag_mips_24</th><th>F_PACS_100</th><th>FErr_PACS_100_u</th><th>FErr_PACS_100_l</th><th>F_PACS_160</th><th>FErr_PACS_160_u</th><th>FErr_PACS_160_l</th><th>Bkg_PACS_100</th><th>Bkg_PACS_160</th><th>Sig_conf_PACS_100</th><th>Sig_conf_PACS_160</th><th>Rhat_PACS_100</th><th>Rhat_PACS_160</th><th>n_eff_PACS_100</th><th>n_eff_PACS_160</th><th>Pval_res_100</th><th>Pval_res_160</th><th>flag_PACS_100</th><th>flag_PACS_160</th><th>F_SPIRE_250</th><th>FErr_SPIRE_250_u</th><th>FErr_SPIRE_250_l</th><th>F_SPIRE_350</th><th>FErr_SPIRE_350_u</th><th>FErr_SPIRE_350_l</th><th>F_SPIRE_500</th><th>FErr_SPIRE_500_u</th><th>FErr_SPIRE_500_l</th><th>Bkg_SPIRE_250</th><th>Bkg_SPIRE_350</th><th>Bkg_SPIRE_500</th><th>Sig_conf_SPIRE_250</th><th>Sig_conf_SPIRE_350</th><th>Sig_conf_SPIRE_500</th><th>Rhat_SPIRE_250</th><th>Rhat_SPIRE_350</th><th>Rhat_SPIRE_500</th><th>n_eff_SPIRE_250</th><th>n_eff_SPIRE_500</th><th>n_eff_SPIRE_350</th><th>Pval_res_250</th><th>Pval_res_350</th><th>Pval_res_500</th><th>flag_spire_250</th><th>flag_spire_350</th><th>flag_spire_500</th><th>Z_BEST</th><th>Z_BEST_SOURCE</th><th>Z_SPEC</th><th>z1_median</th><th>z1_min</th><th>z1_max</th><th>z1_area</th><th>z2_median</th><th>z2_min</th><th>z2_max</th><th>z2_area</th><th>nfilt_eazy</th><th>nfilt_atlas</th><th>nfilt_ananna</th><th>chi_r_best</th><th>chi_r_stellar</th><th>stellar_type</th><th>AGN</th><th>optAGN</th><th>IRAGN</th><th>XrayAGN</th><th>hp_idx_11</th><th>hp_depth_cluster</th><th>tot_corr_g</th><th>tot_corr_err_g</th><th>tot_corr_r</th><th>tot_corr_err_r</th><th>tot_corr_z</th><th>tot_corr_err_z</th><th>zmodel</th><th>chi_best</th><th>Mass_median</th><th>Mass_l68</th><th>Mass_u68</th><th>SFR_median</th><th>SFR_l68</th><th>SFR_u68</th><th>Nfilts</th><th>u_rest</th><th>g_rest</th><th>r_rest</th><th>i_rest</th><th>z_rest</th><th>y_rest</th><th>J_rest</th><th>K_rest</th><th>ch1_servs_rest</th><th>ch2_servs_rest</th><th>ch1_swire_rest</th><th>ch2_swire_rest</th><th>ch3_swire_rest</th><th>ch4_swire_rest</th></tr></thead>\n",
       "<thead><tr><th></th><th></th><th></th><th></th><th></th><th></th><th></th><th></th><th></th><th></th><th></th><th></th><th></th><th></th><th></th><th></th><th></th><th></th><th></th><th></th><th></th><th></th><th></th><th></th><th></th><th></th><th></th><th></th><th></th><th></th><th></th><th></th><th></th><th></th><th></th><th></th><th></th><th></th><th></th><th></th><th></th><th></th><th></th><th></th><th></th><th></th><th></th><th></th><th></th><th></th><th></th><th></th><th></th><th></th><th></th><th></th><th></th><th></th><th></th><th></th><th></th><th></th><th></th><th></th><th></th><th></th><th></th><th></th><th></th><th></th><th></th><th></th><th></th><th></th><th></th><th></th><th></th><th></th><th></th><th></th><th></th><th></th><th></th><th></th><th></th><th></th><th></th><th></th><th></th><th></th><th></th><th></th><th></th><th></th><th></th><th></th><th></th><th></th><th></th><th></th><th></th><th></th><th></th><th></th><th></th><th></th><th></th><th></th><th></th><th></th><th></th><th></th><th></th><th></th><th></th><th></th><th></th><th></th><th></th><th></th><th></th><th></th><th></th><th></th><th></th><th></th><th></th><th></th><th></th><th></th><th></th><th></th><th></th><th></th><th></th><th></th><th></th><th></th><th></th><th></th><th></th><th></th><th></th><th></th><th></th><th></th><th></th><th></th><th></th><th></th><th></th><th></th><th></th><th></th><th></th><th></th><th></th><th></th><th></th><th></th><th></th><th></th><th></th><th></th><th></th><th></th><th></th><th></th><th></th><th></th><th></th><th></th><th></th><th></th><th></th><th></th><th></th><th></th><th></th><th></th><th></th><th></th><th></th><th></th><th></th><th></th><th></th><th></th><th></th><th></th><th></th><th></th><th></th><th></th><th></th><th></th><th></th><th></th><th></th><th></th><th></th><th></th><th></th><th></th><th></th><th></th><th></th><th></th><th></th><th></th><th></th><th>deg</th><th></th><th></th><th></th><th></th><th></th><th></th><th></th><th></th><th></th><th></th><th></th><th></th><th></th><th></th><th></th><th></th><th></th><th></th><th></th><th></th><th></th><th></th><th></th><th></th><th></th><th></th><th></th><th></th><th></th><th></th></tr></thead>\n",
       "<thead><tr><th>bytes22</th><th>float64</th><th>float64</th><th>float64</th><th>float64</th><th>float64</th><th>float64</th><th>float64</th><th>float64</th><th>bytes1</th><th>float64</th><th>float64</th><th>float64</th><th>float64</th><th>float64</th><th>float64</th><th>float64</th><th>float64</th><th>float64</th><th>float64</th><th>int64</th><th>int64</th><th>int64</th><th>float64</th><th>float64</th><th>float64</th><th>float64</th><th>float64</th><th>float64</th><th>int64</th><th>float64</th><th>float64</th><th>float64</th><th>float64</th><th>float64</th><th>float64</th><th>bytes22</th><th>bytes17</th><th>bytes22</th><th>int64</th><th>int64</th><th>int64</th><th>float32</th><th>float32</th><th>float64</th><th>float64</th><th>int64</th><th>int64</th><th>int32</th><th>int64</th><th>float64</th><th>float64</th><th>float64</th><th>float32</th><th>float64</th><th>float64</th><th>float64</th><th>float32</th><th>float64</th><th>float64</th><th>float64</th><th>float32</th><th>float64</th><th>float64</th><th>float64</th><th>float32</th><th>float64</th><th>float64</th><th>float64</th><th>float32</th><th>float64</th><th>float64</th><th>float64</th><th>float32</th><th>float64</th><th>float64</th><th>float64</th><th>float32</th><th>float64</th><th>float64</th><th>float64</th><th>float32</th><th>float64</th><th>float64</th><th>float64</th><th>float32</th><th>float64</th><th>float64</th><th>float64</th><th>float32</th><th>float64</th><th>float64</th><th>float64</th><th>float32</th><th>float64</th><th>float64</th><th>float64</th><th>float32</th><th>float64</th><th>float64</th><th>float64</th><th>float32</th><th>float64</th><th>float64</th><th>float64</th><th>float32</th><th>float64</th><th>float64</th><th>float64</th><th>float32</th><th>float64</th><th>float64</th><th>float64</th><th>float32</th><th>float64</th><th>float64</th><th>float64</th><th>float32</th><th>float64</th><th>float64</th><th>float64</th><th>float32</th><th>float64</th><th>float64</th><th>float64</th><th>float32</th><th>float64</th><th>float64</th><th>float64</th><th>float32</th><th>float64</th><th>bytes27</th><th>float64</th><th>float64</th><th>float32</th><th>float32</th><th>float64</th><th>float64</th><th>float64</th><th>float64</th><th>float64</th><th>float64</th><th>float32</th><th>float32</th><th>bool</th><th>float32</th><th>float32</th><th>float32</th><th>float32</th><th>float32</th><th>float32</th><th>float32</th><th>float32</th><th>float32</th><th>float32</th><th>float32</th><th>float32</th><th>float32</th><th>float32</th><th>float32</th><th>float32</th><th>bool</th><th>bool</th><th>float64</th><th>float64</th><th>float64</th><th>float64</th><th>float64</th><th>float64</th><th>float64</th><th>float64</th><th>float64</th><th>float64</th><th>float64</th><th>float64</th><th>float64</th><th>float64</th><th>float64</th><th>float64</th><th>float64</th><th>float64</th><th>float32</th><th>float32</th><th>float32</th><th>float32</th><th>float32</th><th>float32</th><th>bool</th><th>bool</th><th>bool</th><th>float64</th><th>float64</th><th>float64</th><th>float64</th><th>float64</th><th>float64</th><th>float64</th><th>float64</th><th>float64</th><th>float64</th><th>float64</th><th>int64</th><th>int64</th><th>int64</th><th>float64</th><th>float64</th><th>bytes6</th><th>int64</th><th>float64</th><th>float64</th><th>float64</th><th>int64</th><th>int32</th><th>float64</th><th>float64</th><th>float64</th><th>float64</th><th>float64</th><th>float64</th><th>float32</th><th>float32</th><th>float32</th><th>float32</th><th>float32</th><th>float32</th><th>float32</th><th>float32</th><th>int32</th><th>float32</th><th>float32</th><th>float32</th><th>float32</th><th>float32</th><th>float32</th><th>float32</th><th>float32</th><th>float32</th><th>float32</th><th>float32</th><th>float32</th><th>float32</th><th>float32</th></tr></thead>\n",
       "<tr><td>ILTJ155957.58+550052.4</td><td>239.98990167026162</td><td>55.01456045936245</td><td>5.366954914924915e-05</td><td>8.08706707123675e-05</td><td>0.0003958345213565919</td><td>5.4160526835678236e-05</td><td>0.0003247963953282784</td><td>2.715224507873135e-05</td><td>S</td><td>0.002071920400992901</td><td>0.0016345290335764496</td><td>166.30848152559156</td><td>0.00019279093100176814</td><td>0.00012276320016402095</td><td>13.835288085283342</td><td>0.0</td><td>0.0</td><td>0.0</td><td>2.6305604478693567e-05</td><td>1</td><td>0</td><td>0</td><td>329.1186755105229</td><td>239.98983453474398</td><td>55.01474018731156</td><td>nan</td><td>nan</td><td>nan</td><td>0</td><td>nan</td><td>nan</td><td>nan</td><td>nan</td><td>nan</td><td>nan</td><td>Create initial sources</td><td>LR</td><td></td><td>7</td><td>1</td><td>1018637</td><td>73464.984</td><td>38011.69</td><td>239.98983453474398</td><td>55.01474018731156</td><td>1</td><td>1180605</td><td>--</td><td>7</td><td>0.29327714443206787</td><td>0.11116945743560791</td><td>25.2318058013916</td><td>0.41154474</td><td>0.8728166222572327</td><td>0.1416342854499817</td><td>24.047691345214844</td><td>0.17617944</td><td>nan</td><td>nan</td><td>nan</td><td>nan</td><td>nan</td><td>nan</td><td>nan</td><td>nan</td><td>0.6396941542625427</td><td>0.27362173795700073</td><td>24.385068893432617</td><td>0.4643955</td><td>nan</td><td>nan</td><td>nan</td><td>nan</td><td>nan</td><td>nan</td><td>nan</td><td>nan</td><td>nan</td><td>nan</td><td>nan</td><td>nan</td><td>nan</td><td>nan</td><td>nan</td><td>nan</td><td>nan</td><td>nan</td><td>nan</td><td>nan</td><td>nan</td><td>nan</td><td>nan</td><td>nan</td><td>nan</td><td>nan</td><td>nan</td><td>nan</td><td>9.882511138916016</td><td>0.899656355381012</td><td>21.412830352783203</td><td>0.09883692</td><td>25.261627197265625</td><td>1.3382182121276855</td><td>20.39384651184082</td><td>0.057514254</td><td>50.90279769897461</td><td>2.228076696395874</td><td>19.633146286010742</td><td>0.047522396</td><td>43.3855094909668</td><td>2.550546646118164</td><td>19.806638717651367</td><td>0.063826114</td><td>52.400089263916016</td><td>10.37252140045166</td><td>19.60167121887207</td><td>0.21491277</td><td>41.083404541015625</td><td>10.319302558898926</td><td>19.865833282470703</td><td>0.27270547</td><td>nan</td><td>nan</td><td>nan</td><td>nan</td><td>nan</td><td>nan</td><td>nan</td><td>nan</td><td>0.0</td><td>HELP_J155957.583+550053.148</td><td>239.9899305856164</td><td>55.014763230443016</td><td>0.008792324</td><td>0.6146006</td><td>444.1495</td><td>460.66238</td><td>428.62732</td><td>-0.0128035685</td><td>4.9787773e-06</td><td>nan</td><td>1740.0</td><td>0.0</td><td>False</td><td>18.182981</td><td>35.759758</td><td>5.8236055</td><td>45.925423</td><td>73.62248</td><td>21.158112</td><td>0.00034133607</td><td>0.00031706542</td><td>2.4065863e-05</td><td>3.9749702e-05</td><td>1.0010502</td><td>0.9992723</td><td>2000.0</td><td>2000.0</td><td>0.0</td><td>0.0</td><td>False</td><td>False</td><td>16.893309</td><td>25.36756</td><td>8.255557</td><td>13.668833</td><td>19.661997</td><td>6.1421905</td><td>3.671343</td><td>8.454711</td><td>1.0102766</td><td>-3.335721</td><td>-6.2808685</td><td>-12.62186</td><td>2.8659503</td><td>2.7927337</td><td>2.5636246</td><td>0.9998516</td><td>1.0013874</td><td>0.9986688</td><td>2000.0</td><td>2000.0</td><td>2000.0</td><td>0.0</td><td>0.0</td><td>0.0</td><td>False</td><td>False</td><td>True</td><td>2.0437</td><td>0.0</td><td>nan</td><td>2.0437</td><td>1.87</td><td>2.2</td><td>0.542</td><td>1.7447</td><td>1.65</td><td>1.85</td><td>0.224</td><td>9</td><td>9</td><td>7</td><td>3.39371</td><td>20.56958</td><td>m9iii</td><td>0</td><td>0.0</td><td>0.0</td><td>0.0</td><td>11797065</td><td>9</td><td>0.7290768027305603</td><td>0.2631777581258685</td><td>1.0</td><td>nan</td><td>9.397477149963379</td><td>4.099506023752639</td><td>nan</td><td>nan</td><td>nan</td><td>nan</td><td>nan</td><td>nan</td><td>nan</td><td>nan</td><td>--</td><td>nan</td><td>nan</td><td>nan</td><td>nan</td><td>nan</td><td>nan</td><td>nan</td><td>nan</td><td>nan</td><td>nan</td><td>nan</td><td>nan</td><td>nan</td><td>nan</td></tr>\n",
       "</table>"
      ],
      "text/plain": [
       "<Row index=0 masked=True>\n",
       "     Source_Name               RA                DEC                 E_RA                E_DEC               Total_flux           E_Total_flux            Peak_flux            E_Peak_flux      S_Code         Maj                   Min                  PA                 E_Maj                  E_Min                 E_PA         DC_Maj  DC_Min  DC_PA         Isl_rms         FLAG_WORKFLOW Prefilter  NoID       lr_fin            optRA              optDec      LGZ_Size LGZ_Width  LGZ_PA Assoc Assoc_Qual Art_prob Blend_prob Hostbroken_prob Imagemissing_prob Zoom_prob        Created         Position_from Renamed_from FLAG_OVERLAP_RADIO flag_clean_radio    ID    X_IMAGE  Y_IMAGE     ALPHA_J2000        DELTA_J2000    flag_clean ID_OPTICAL ID_SPITZER FLAG_OVERLAP     u_flux_corr        u_fluxerr_corr      u_mag_corr    u_magerr_corr    g_flux_corr       g_fluxerr_corr       g_mag_corr     g_magerr_corr r_flux_corr r_fluxerr_corr r_mag_corr r_magerr_corr i_flux_corr i_fluxerr_corr i_mag_corr i_magerr_corr    z_flux_corr        z_fluxerr_corr       z_mag_corr     z_magerr_corr y_flux_corr y_fluxerr_corr y_mag_corr y_magerr_corr g_hsc_flux_corr g_hsc_fluxerr_corr g_hsc_mag_corr g_hsc_magerr_corr r_hsc_flux_corr r_hsc_fluxerr_corr r_hsc_mag_corr r_hsc_magerr_corr i_hsc_flux_corr i_hsc_fluxerr_corr i_hsc_mag_corr i_hsc_magerr_corr z_hsc_flux_corr z_hsc_fluxerr_corr z_hsc_mag_corr z_hsc_magerr_corr y_hsc_flux_corr y_hsc_fluxerr_corr y_hsc_mag_corr y_hsc_magerr_corr nb921_hsc_flux_corr nb921_hsc_fluxerr_corr nb921_hsc_mag_corr nb921_hsc_magerr_corr    J_flux_corr      J_fluxerr_corr      J_mag_corr     J_magerr_corr    K_flux_corr       K_fluxerr_corr       K_mag_corr    K_magerr_corr ch1_swire_flux_corr ch1_swire_fluxerr_corr ch1_swire_mag_corr ch1_swire_magerr_corr ch2_swire_flux_corr ch2_swire_fluxerr_corr ch2_swire_mag_corr ch2_swire_magerr_corr ch3_swire_flux_corr ch3_swire_fluxerr_corr ch3_swire_mag_corr ch3_swire_magerr_corr ch4_swire_flux_corr ch4_swire_fluxerr_corr ch4_swire_mag_corr ch4_swire_magerr_corr ch1_servs_flux_corr ch1_servs_fluxerr_corr ch1_servs_mag_corr ch1_servs_magerr_corr ch2_servs_flux_corr ch2_servs_fluxerr_corr ch2_servs_mag_corr ch2_servs_magerr_corr Separation           help_id                RA_HELP           DEC_HELP          EBV     CLASS_STAR F_MIPS_24 FErr_MIPS_24_u FErr_MIPS_24_l  Bkg_MIPS_24  Sig_conf_MIPS_24 Rhat_MIPS_24 n_eff_MIPS_24 Pval_res_24 flag_mips_24 F_PACS_100 FErr_PACS_100_u FErr_PACS_100_l F_PACS_160 FErr_PACS_160_u FErr_PACS_160_l  Bkg_PACS_100  Bkg_PACS_160 Sig_conf_PACS_100 Sig_conf_PACS_160 Rhat_PACS_100 Rhat_PACS_160 n_eff_PACS_100 n_eff_PACS_160 Pval_res_100 Pval_res_160 flag_PACS_100 flag_PACS_160 F_SPIRE_250 FErr_SPIRE_250_u FErr_SPIRE_250_l F_SPIRE_350 FErr_SPIRE_350_u FErr_SPIRE_350_l F_SPIRE_500 FErr_SPIRE_500_u FErr_SPIRE_500_l Bkg_SPIRE_250 Bkg_SPIRE_350 Bkg_SPIRE_500 Sig_conf_SPIRE_250 Sig_conf_SPIRE_350 Sig_conf_SPIRE_500 Rhat_SPIRE_250 Rhat_SPIRE_350 Rhat_SPIRE_500 n_eff_SPIRE_250 n_eff_SPIRE_500 n_eff_SPIRE_350 Pval_res_250 Pval_res_350 Pval_res_500 flag_spire_250 flag_spire_350 flag_spire_500  Z_BEST Z_BEST_SOURCE  Z_SPEC z1_median  z1_min  z1_max z1_area z2_median  z2_min  z2_max z2_area nfilt_eazy nfilt_atlas nfilt_ananna chi_r_best chi_r_stellar stellar_type  AGN   optAGN  IRAGN  XrayAGN hp_idx_11 hp_depth_cluster     tot_corr_g       tot_corr_err_g   tot_corr_r tot_corr_err_r     tot_corr_z      tot_corr_err_z   zmodel chi_best Mass_median Mass_l68 Mass_u68 SFR_median SFR_l68 SFR_u68 Nfilts  u_rest  g_rest  r_rest  i_rest  z_rest  y_rest  J_rest  K_rest ch1_servs_rest ch2_servs_rest ch1_swire_rest ch2_swire_rest ch3_swire_rest ch4_swire_rest\n",
       "                                                                                                                                                                                                                                                                                                                                                                                                                                                                                                                                                                                                                                                                                                                                                                                                                                                                                                                                                                                                                                                                                                                                                                                                                                                                                                                                                                                                                                                                                                                                                                                                                                                                                                                                                                                                                                                                                                                                                                                                                                                                                                                                                                                                                                                                                                                                                                                                                                                                                                                                                                                                                                                                                                                                                                                                                                                                                                                                                                                                                                                                                                                                                                                                                                                                                                                                                                                                                                      deg                                                                                                                                                                                                                                                                                                                                                                   \n",
       "       bytes22              float64            float64             float64              float64               float64               float64                float64               float64        bytes1       float64               float64             float64              float64                float64              float64       float64 float64 float64        float64             int64       int64   int64      float64           float64            float64      float64   float64  float64 int64  float64   float64   float64       float64          float64       float64         bytes22            bytes17      bytes22          int64             int64        int64   float32  float32       float64            float64        int64      int64      int32       int64           float64             float64           float64         float32         float64            float64            float64          float32      float64      float64      float64      float32      float64      float64      float64      float32         float64             float64            float64          float32      float64      float64      float64      float32        float64          float64          float64          float32          float64          float64          float64          float32          float64          float64          float64          float32          float64          float64          float64          float32          float64          float64          float64          float32            float64              float64              float64              float32             float64           float64           float64          float32         float64            float64            float64         float32          float64              float64              float64              float32              float64              float64              float64              float32              float64              float64              float64              float32              float64              float64              float64              float32              float64              float64              float64              float32              float64              float64              float64              float32         float64             bytes27                float64           float64         float32    float32    float64     float64        float64        float64        float64        float64       float32      float32       bool      float32       float32         float32      float32       float32         float32        float32       float32         float32           float32         float32       float32       float32        float32       float32      float32         bool          bool       float64       float64          float64        float64       float64          float64        float64       float64          float64         float64       float64       float64         float64            float64            float64          float64        float64        float64         float32         float32         float32       float32      float32      float32         bool           bool           bool      float64    float64    float64  float64  float64 float64 float64  float64  float64 float64 float64   int64       int64       int64      float64      float64       bytes6    int64 float64 float64 float64   int64        int32            float64            float64        float64      float64          float64           float64      float32 float32    float32   float32  float32   float32   float32 float32 int32  float32 float32 float32 float32 float32 float32 float32 float32    float32        float32        float32        float32        float32        float32    \n",
       "---------------------- ------------------ ----------------- --------------------- -------------------- --------------------- ---------------------- --------------------- --------------------- ------ -------------------- --------------------- ------------------ ---------------------- ---------------------- ------------------ ------- ------- ------- ---------------------- ------------- --------- ----- ----------------- ------------------ ----------------- -------- --------- ------- ----- ---------- -------- ---------- --------------- ----------------- --------- ---------------------- ------------- ------------ ------------------ ---------------- ------- --------- -------- ------------------ ----------------- ---------- ---------- ---------- ------------ ------------------- ------------------- ---------------- ------------- ------------------ ------------------ ------------------ ------------- ----------- -------------- ---------- ------------- ----------- -------------- ---------- ------------- ------------------ ------------------- ------------------ ------------- ----------- -------------- ---------- ------------- --------------- ------------------ -------------- ----------------- --------------- ------------------ -------------- ----------------- --------------- ------------------ -------------- ----------------- --------------- ------------------ -------------- ----------------- --------------- ------------------ -------------- ----------------- ------------------- ---------------------- ------------------ --------------------- ----------------- ----------------- ------------------ ------------- ------------------ ------------------ ----------------- ------------- ------------------- ---------------------- ------------------ --------------------- ------------------- ---------------------- ------------------ --------------------- ------------------- ---------------------- ------------------ --------------------- ------------------- ---------------------- ------------------ --------------------- ------------------- ---------------------- ------------------ --------------------- ------------------- ---------------------- ------------------ --------------------- ---------- --------------------------- ----------------- ------------------ ----------- ---------- --------- -------------- -------------- ------------- ---------------- ------------ ------------- ----------- ------------ ---------- --------------- --------------- ---------- --------------- --------------- ------------- ------------- ----------------- ----------------- ------------- ------------- -------------- -------------- ------------ ------------ ------------- ------------- ----------- ---------------- ---------------- ----------- ---------------- ---------------- ----------- ---------------- ---------------- ------------- ------------- ------------- ------------------ ------------------ ------------------ -------------- -------------- -------------- --------------- --------------- --------------- ------------ ------------ ------------ -------------- -------------- -------------- ------- ------------- ------- --------- ------- ------- ------- --------- ------- ------- ------- ---------- ----------- ------------ ---------- ------------- ------------ ----- ------- ------- ------- --------- ---------------- ------------------ ------------------ ---------- -------------- ----------------- ----------------- ------- -------- ----------- -------- -------- ---------- ------- ------- ------ ------- ------- ------- ------- ------- ------- ------- ------- -------------- -------------- -------------- -------------- -------------- --------------\n",
       "ILTJ155957.58+550052.4 239.98990167026162 55.01456045936245 5.366954914924915e-05 8.08706707123675e-05 0.0003958345213565919 5.4160526835678236e-05 0.0003247963953282784 2.715224507873135e-05      S 0.002071920400992901 0.0016345290335764496 166.30848152559156 0.00019279093100176814 0.00012276320016402095 13.835288085283342     0.0     0.0     0.0 2.6305604478693567e-05             1         0     0 329.1186755105229 239.98983453474398 55.01474018731156      nan       nan     nan     0        nan      nan        nan             nan               nan       nan Create initial sources            LR                               7                1 1018637 73464.984 38011.69 239.98983453474398 55.01474018731156          1    1180605         --            7 0.29327714443206787 0.11116945743560791 25.2318058013916    0.41154474 0.8728166222572327 0.1416342854499817 24.047691345214844    0.17617944         nan            nan        nan           nan         nan            nan        nan           nan 0.6396941542625427 0.27362173795700073 24.385068893432617     0.4643955         nan            nan        nan           nan             nan                nan            nan               nan             nan                nan            nan               nan             nan                nan            nan               nan             nan                nan            nan               nan             nan                nan            nan               nan                 nan                    nan                nan                   nan 9.882511138916016 0.899656355381012 21.412830352783203    0.09883692 25.261627197265625 1.3382182121276855 20.39384651184082   0.057514254   50.90279769897461      2.228076696395874 19.633146286010742           0.047522396    43.3855094909668      2.550546646118164 19.806638717651367           0.063826114  52.400089263916016      10.37252140045166  19.60167121887207            0.21491277  41.083404541015625     10.319302558898926 19.865833282470703            0.27270547                 nan                    nan                nan                   nan                 nan                    nan                nan                   nan        0.0 HELP_J155957.583+550053.148 239.9899305856164 55.014763230443016 0.008792324  0.6146006  444.1495      460.66238      428.62732 -0.0128035685    4.9787773e-06          nan        1740.0         0.0        False  18.182981       35.759758       5.8236055  45.925423        73.62248       21.158112 0.00034133607 0.00031706542     2.4065863e-05     3.9749702e-05     1.0010502     0.9992723         2000.0         2000.0          0.0          0.0         False         False   16.893309         25.36756         8.255557   13.668833        19.661997        6.1421905    3.671343         8.454711        1.0102766     -3.335721    -6.2808685     -12.62186          2.8659503          2.7927337          2.5636246      0.9998516      1.0013874      0.9986688          2000.0          2000.0          2000.0          0.0          0.0          0.0          False          False           True  2.0437           0.0     nan    2.0437    1.87     2.2   0.542    1.7447    1.65    1.85   0.224          9           9            7    3.39371      20.56958        m9iii     0     0.0     0.0     0.0  11797065                9 0.7290768027305603 0.2631777581258685        1.0            nan 9.397477149963379 4.099506023752639     nan      nan         nan      nan      nan        nan     nan     nan     --     nan     nan     nan     nan     nan     nan     nan     nan            nan            nan            nan            nan            nan            nan"
      ]
     },
     "execution_count": 5,
     "metadata": {},
     "output_type": "execute_result"
    }
   ],
   "source": [
    "lofar_orig[0]"
   ]
  },
  {
   "cell_type": "markdown",
   "metadata": {},
   "source": [
    "## Check that the output from the other sources agrees with HELP"
   ]
  },
  {
   "cell_type": "code",
   "execution_count": 6,
   "metadata": {},
   "outputs": [
    {
     "name": "stdout",
     "output_type": "stream",
     "text": [
      "0\n"
     ]
    }
   ],
   "source": [
    "file_list = glob.glob('data/fir_MIPS_v10/*/lofar_xidplus*.pkl')\n",
    "num_not = np.arange(428,860,1)\n",
    "\n",
    "priors,posterior = xidplus.load(file_list[0])\n",
    "MIPS_cat=cat.create_MIPS_cat(posterior,priors[0],0)\n",
    "lofar_mips_table = Table.read(MIPS_cat,memmap=False)\n",
    "\n",
    "for i,filename in enumerate(file_list[1:]):\n",
    "    #print(filename)\n",
    "    if i%50==0:\n",
    "        print(i)\n",
    "    \n",
    "    priors,posterior = xidplus.load(filename)\n",
    "    MIPS_cat=cat.create_MIPS_cat(posterior,priors[0],0)\n",
    "    MIPS_cat = Table.read(MIPS_cat,memmap=False)\n",
    "    lofar_mips_table = vstack([lofar_mips_table,MIPS_cat])\n",
    "    \n",
    "\n",
    "data_rerun_table = lofar_mips_table"
   ]
  },
  {
   "cell_type": "code",
   "execution_count": 7,
   "metadata": {},
   "outputs": [
    {
     "data": {
      "text/html": [
       "<i>Row index=0</i>\n",
       "<table id=\"table140735723282104\">\n",
       "<thead><tr><th>help_id</th><th>RA</th><th>Dec</th><th>F_MIPS_24</th><th>FErr_MIPS_24_u</th><th>FErr_MIPS_24_l</th><th>Bkg_MIPS_24</th><th>Sig_conf_MIPS_24</th><th>Rhat_MIPS_24</th><th>n_eff_MIPS_24</th><th>Pval_res_24</th></tr></thead>\n",
       "<thead><tr><th></th><th>degrees</th><th>degrees</th><th>muJy</th><th>muJy</th><th>muJy</th><th>MJy / sr</th><th>MJy / sr</th><th></th><th></th><th></th></tr></thead>\n",
       "<thead><tr><th>str27</th><th>float64</th><th>float64</th><th>float32</th><th>float32</th><th>float32</th><th>float32</th><th>float32</th><th>float32</th><th>float32</th><th>float32</th></tr></thead>\n",
       "<tr><td>HELP_J160356.722+542722.094</td><td>240.98634189776928</td><td>54.45613727627435</td><td>71.56493</td><td>117.96191</td><td>23.08381</td><td>5.0810914</td><td>4.9017394e-06</td><td>0.9999967</td><td>2941.118</td><td>0.0</td></tr>\n",
       "</table>"
      ],
      "text/plain": [
       "<Row index=0>\n",
       "          help_id                   RA                Dec        F_MIPS_24 FErr_MIPS_24_u FErr_MIPS_24_l Bkg_MIPS_24 Sig_conf_MIPS_24 Rhat_MIPS_24 n_eff_MIPS_24 Pval_res_24\n",
       "                                 degrees            degrees         muJy        muJy           muJy        MJy / sr      MJy / sr                                           \n",
       "           str27                 float64            float64       float32     float32        float32       float32       float32        float32       float32      float32  \n",
       "--------------------------- ------------------ ----------------- --------- -------------- -------------- ----------- ---------------- ------------ ------------- -----------\n",
       "HELP_J160356.722+542722.094 240.98634189776928 54.45613727627435  71.56493      117.96191       23.08381   5.0810914    4.9017394e-06    0.9999967      2941.118         0.0"
      ]
     },
     "execution_count": 7,
     "metadata": {},
     "output_type": "execute_result"
    }
   ],
   "source": [
    "lofar_mips_table[0]"
   ]
  },
  {
   "cell_type": "code",
   "execution_count": 8,
   "metadata": {},
   "outputs": [],
   "source": [
    "#read in the HELP catalogue\n",
    "masterlist = Table.read('../../../../../HELP/dmu_products/dmu32/dmu32_ELAIS-N1/data/ELAIS-N1_20171020.fits')"
   ]
  },
  {
   "cell_type": "code",
   "execution_count": 9,
   "metadata": {},
   "outputs": [],
   "source": [
    "joined = join(lofar_mips_table,masterlist,join_type='inner',keys='help_id')"
   ]
  },
  {
   "cell_type": "code",
   "execution_count": 16,
   "metadata": {},
   "outputs": [
    {
     "data": {
      "text/html": [
       "<i>Row index=0</i>\n",
       "<table id=\"table140735718335376\">\n",
       "<thead><tr><th>help_id</th><th>RA</th><th>Dec</th><th>F_MIPS_24</th><th>FErr_MIPS_24_u</th><th>FErr_MIPS_24_l</th><th>Bkg_MIPS_24</th><th>Sig_conf_MIPS_24</th><th>Rhat_MIPS_24</th><th>n_eff_MIPS_24</th><th>Pval_res_24</th><th>field</th><th>ra</th><th>dec</th><th>hp_idx</th><th>ebv</th><th>redshift</th><th>zspec</th><th>f_wfc_u</th><th>ferr_wfc_u</th><th>f_ap_wfc_u</th><th>ferr_ap_wfc_u</th><th>m_wfc_u</th><th>merr_wfc_u</th><th>m_ap_wfc_u</th><th>merr_ap_wfc_u</th><th>flag_wfc_u</th><th>f_megacam_u</th><th>ferr_megacam_u</th><th>f_ap_megacam_u</th><th>ferr_ap_megacam_u</th><th>m_megacam_u</th><th>merr_megacam_u</th><th>m_ap_megacam_u</th><th>merr_ap_megacam_u</th><th>flag_megacam_u</th><th>f_suprime_g</th><th>ferr_suprime_g</th><th>f_ap_suprime_g</th><th>ferr_ap_suprime_g</th><th>m_suprime_g</th><th>merr_suprime_g</th><th>m_ap_suprime_g</th><th>merr_ap_suprime_g</th><th>flag_suprime_g</th><th>f_megacam_g</th><th>ferr_megacam_g</th><th>f_ap_megacam_g</th><th>ferr_ap_megacam_g</th><th>m_megacam_g</th><th>merr_megacam_g</th><th>m_ap_megacam_g</th><th>merr_ap_megacam_g</th><th>flag_megacam_g</th><th>f_gpc1_g</th><th>ferr_gpc1_g</th><th>f_ap_gpc1_g</th><th>ferr_ap_gpc1_g</th><th>m_gpc1_g</th><th>merr_gpc1_g</th><th>m_ap_gpc1_g</th><th>merr_ap_gpc1_g</th><th>flag_gpc1_g</th><th>f_wfc_g</th><th>ferr_wfc_g</th><th>f_ap_wfc_g</th><th>ferr_ap_wfc_g</th><th>m_wfc_g</th><th>merr_wfc_g</th><th>m_ap_wfc_g</th><th>merr_ap_wfc_g</th><th>flag_wfc_g</th><th>f_suprime_r</th><th>ferr_suprime_r</th><th>f_ap_suprime_r</th><th>ferr_ap_suprime_r</th><th>m_suprime_r</th><th>merr_suprime_r</th><th>m_ap_suprime_r</th><th>merr_ap_suprime_r</th><th>flag_suprime_r</th><th>f_gpc1_r</th><th>ferr_gpc1_r</th><th>f_ap_gpc1_r</th><th>ferr_ap_gpc1_r</th><th>m_gpc1_r</th><th>merr_gpc1_r</th><th>m_ap_gpc1_r</th><th>merr_ap_gpc1_r</th><th>flag_gpc1_r</th><th>f_wfc_r</th><th>ferr_wfc_r</th><th>f_ap_wfc_r</th><th>ferr_ap_wfc_r</th><th>m_wfc_r</th><th>merr_wfc_r</th><th>m_ap_wfc_r</th><th>merr_ap_wfc_r</th><th>flag_wfc_r</th><th>f_megacam_r</th><th>ferr_megacam_r</th><th>f_ap_megacam_r</th><th>ferr_ap_megacam_r</th><th>m_megacam_r</th><th>merr_megacam_r</th><th>m_ap_megacam_r</th><th>merr_ap_megacam_r</th><th>flag_megacam_r</th><th>f_gpc1_i</th><th>ferr_gpc1_i</th><th>f_ap_gpc1_i</th><th>ferr_ap_gpc1_i</th><th>m_gpc1_i</th><th>merr_gpc1_i</th><th>m_ap_gpc1_i</th><th>merr_ap_gpc1_i</th><th>flag_gpc1_i</th><th>f_suprime_i</th><th>ferr_suprime_i</th><th>f_ap_suprime_i</th><th>ferr_ap_suprime_i</th><th>m_suprime_i</th><th>merr_suprime_i</th><th>m_ap_suprime_i</th><th>merr_ap_suprime_i</th><th>flag_suprime_i</th><th>f_wfc_i</th><th>ferr_wfc_i</th><th>f_ap_wfc_i</th><th>ferr_ap_wfc_i</th><th>m_wfc_i</th><th>merr_wfc_i</th><th>m_ap_wfc_i</th><th>merr_ap_wfc_i</th><th>flag_wfc_i</th><th>f_gpc1_z</th><th>ferr_gpc1_z</th><th>f_ap_gpc1_z</th><th>ferr_ap_gpc1_z</th><th>m_gpc1_z</th><th>merr_gpc1_z</th><th>m_ap_gpc1_z</th><th>merr_ap_gpc1_z</th><th>flag_gpc1_z</th><th>f_wfc_z</th><th>ferr_wfc_z</th><th>f_ap_wfc_z</th><th>ferr_ap_wfc_z</th><th>m_wfc_z</th><th>merr_wfc_z</th><th>m_ap_wfc_z</th><th>merr_ap_wfc_z</th><th>flag_wfc_z</th><th>f_megacam_z</th><th>ferr_megacam_z</th><th>f_ap_megacam_z</th><th>ferr_ap_megacam_z</th><th>m_megacam_z</th><th>merr_megacam_z</th><th>m_ap_megacam_z</th><th>merr_ap_megacam_z</th><th>flag_megacam_z</th><th>f_suprime_z</th><th>ferr_suprime_z</th><th>f_ap_suprime_z</th><th>ferr_ap_suprime_z</th><th>m_suprime_z</th><th>merr_suprime_z</th><th>m_ap_suprime_z</th><th>merr_ap_suprime_z</th><th>flag_suprime_z</th><th>f_suprime_n921</th><th>ferr_suprime_n921</th><th>f_ap_suprime_n921</th><th>ferr_ap_suprime_n921</th><th>m_suprime_n921</th><th>merr_suprime_n921</th><th>m_ap_suprime_n921</th><th>merr_ap_suprime_n921</th><th>flag_suprime_n921</th><th>f_gpc1_y</th><th>ferr_gpc1_y</th><th>f_ap_gpc1_y</th><th>ferr_ap_gpc1_y</th><th>m_gpc1_y</th><th>merr_gpc1_y</th><th>m_ap_gpc1_y</th><th>merr_ap_gpc1_y</th><th>flag_gpc1_y</th><th>f_suprime_y</th><th>ferr_suprime_y</th><th>f_ap_suprime_y</th><th>ferr_ap_suprime_y</th><th>m_suprime_y</th><th>merr_suprime_y</th><th>m_ap_suprime_y</th><th>merr_ap_suprime_y</th><th>flag_suprime_y</th><th>f_ukidss_j</th><th>ferr_ukidss_j</th><th>f_ap_ukidss_j</th><th>ferr_ap_ukidss_j</th><th>m_ukidss_j</th><th>merr_ukidss_j</th><th>m_ap_ukidss_j</th><th>merr_ap_ukidss_j</th><th>flag_ukidss_j</th><th>f_ukidss_k</th><th>ferr_ukidss_k</th><th>f_ap_ukidss_k</th><th>ferr_ap_ukidss_k</th><th>m_ukidss_k</th><th>merr_ukidss_k</th><th>m_ap_ukidss_k</th><th>merr_ap_ukidss_k</th><th>flag_ukidss_k</th><th>f_irac_i1</th><th>ferr_irac_i1</th><th>f_ap_irac_i1</th><th>ferr_ap_irac_i1</th><th>m_irac_i1</th><th>merr_irac_i1</th><th>m_ap_irac_i1</th><th>merr_ap_irac_i1</th><th>flag_irac_i1</th><th>f_irac_i2</th><th>ferr_irac_i2</th><th>f_ap_irac_i2</th><th>ferr_ap_irac_i2</th><th>m_irac_i2</th><th>merr_irac_i2</th><th>m_ap_irac_i2</th><th>merr_ap_irac_i2</th><th>flag_irac_i2</th><th>f_irac_i3</th><th>ferr_irac_i3</th><th>f_ap_irac_i3</th><th>ferr_ap_irac_i3</th><th>m_irac_i3</th><th>merr_irac_i3</th><th>m_ap_irac_i3</th><th>merr_ap_irac_i3</th><th>flag_irac_i3</th><th>f_irac_i4</th><th>ferr_irac_i4</th><th>f_ap_irac_i4</th><th>ferr_ap_irac_i4</th><th>m_irac_i4</th><th>merr_irac_i4</th><th>m_ap_irac_i4</th><th>merr_ap_irac_i4</th><th>flag_irac_i4</th><th>f_mips_24</th><th>ferr_mips_24</th><th>flag_mips_24</th><th>f_pacs_green</th><th>ferr_pacs_green</th><th>flag_pacs_green</th><th>f_pacs_red</th><th>ferr_pacs_red</th><th>flag_pacs_red</th><th>f_spire_250</th><th>ferr_spire_250</th><th>flag_spire_250</th><th>f_spire_350</th><th>ferr_spire_350</th><th>flag_spire_350</th><th>f_spire_500</th><th>ferr_spire_500</th><th>flag_spire_500</th><th>cigale_mstar</th><th>cigale_mstar_err</th><th>cigale_sfr</th><th>cigale_sfr_err</th><th>cigale_dustlumin</th><th>cigale_dustlumin_err</th><th>cigale_dustlumin_ironly</th><th>cigale_dustlumin_ironly_err</th><th>flag_cigale</th><th>flag_cigale_opt</th><th>flag_cigale_ir</th><th>flag_cigale_ironly</th><th>stellarity</th><th>stellarity_origin</th><th>flag_cleaned</th><th>flag_merged</th><th>flag_gaia</th><th>flag_optnir_obs</th><th>flag_optnir_det</th><th>zspec_qual</th><th>zspec_association_flag</th></tr></thead>\n",
       "<thead><tr><th></th><th>degrees</th><th>degrees</th><th>muJy</th><th>muJy</th><th>muJy</th><th>MJy / sr</th><th>MJy / sr</th><th></th><th></th><th></th><th></th><th>deg</th><th>deg</th><th></th><th></th><th></th><th></th><th></th><th></th><th></th><th></th><th></th><th></th><th></th><th></th><th></th><th></th><th></th><th></th><th></th><th>mag</th><th>mag</th><th></th><th></th><th></th><th></th><th></th><th></th><th></th><th></th><th></th><th></th><th></th><th></th><th></th><th></th><th></th><th></th><th>mag</th><th>mag</th><th></th><th></th><th></th><th></th><th></th><th></th><th></th><th></th><th></th><th></th><th></th><th></th><th></th><th></th><th></th><th></th><th></th><th></th><th></th><th></th><th></th><th></th><th></th><th></th><th></th><th></th><th></th><th></th><th></th><th></th><th></th><th></th><th></th><th></th><th></th><th></th><th></th><th></th><th></th><th></th><th></th><th></th><th></th><th></th><th></th><th></th><th></th><th></th><th></th><th></th><th></th><th></th><th>mag</th><th>mag</th><th></th><th></th><th></th><th></th><th></th><th></th><th></th><th></th><th></th><th></th><th></th><th></th><th></th><th></th><th></th><th></th><th></th><th></th><th></th><th></th><th></th><th></th><th></th><th></th><th></th><th></th><th></th><th></th><th></th><th></th><th></th><th></th><th></th><th></th><th></th><th></th><th></th><th></th><th></th><th></th><th></th><th></th><th></th><th></th><th></th><th></th><th></th><th></th><th></th><th></th><th></th><th></th><th>mag</th><th>mag</th><th></th><th></th><th></th><th></th><th></th><th></th><th></th><th></th><th></th><th></th><th></th><th></th><th></th><th></th><th></th><th></th><th></th><th></th><th></th><th></th><th></th><th></th><th></th><th></th><th></th><th></th><th></th><th></th><th></th><th></th><th></th><th></th><th></th><th></th><th></th><th></th><th></th><th></th><th></th><th></th><th></th><th></th><th></th><th></th><th></th><th></th><th></th><th></th><th></th><th></th><th></th><th></th><th></th><th></th><th></th><th></th><th></th><th></th><th></th><th></th><th></th><th></th><th></th><th></th><th></th><th></th><th></th><th></th><th></th><th></th><th></th><th></th><th></th><th></th><th></th><th>uJy</th><th>uJy</th><th>uJy</th><th>uJy</th><th></th><th></th><th></th><th></th><th></th><th>uJy</th><th>uJy</th><th>uJy</th><th>uJy</th><th></th><th></th><th></th><th></th><th></th><th></th><th></th><th></th><th>mJy</th><th></th><th></th><th>mJy</th><th></th><th></th><th></th><th></th><th></th><th></th><th></th><th></th><th></th><th></th><th></th><th></th><th></th><th></th><th></th><th></th><th></th><th></th><th></th><th></th><th></th><th></th><th></th><th></th><th></th><th></th><th></th><th></th><th></th><th></th><th></th><th></th></tr></thead>\n",
       "<thead><tr><th>str1728</th><th>float64</th><th>float64</th><th>float32</th><th>float32</th><th>float32</th><th>float32</th><th>float32</th><th>float32</th><th>float32</th><th>float32</th><th>bytes18</th><th>float64</th><th>float64</th><th>int64</th><th>float64</th><th>float64</th><th>float64</th><th>float32</th><th>float32</th><th>float32</th><th>float32</th><th>float32</th><th>float32</th><th>float32</th><th>float32</th><th>bool</th><th>float32</th><th>float32</th><th>float32</th><th>float32</th><th>float32</th><th>float32</th><th>float32</th><th>float32</th><th>bool</th><th>float32</th><th>float32</th><th>float32</th><th>float32</th><th>float32</th><th>float32</th><th>float32</th><th>float32</th><th>bool</th><th>float32</th><th>float32</th><th>float32</th><th>float32</th><th>float32</th><th>float32</th><th>float32</th><th>float32</th><th>bool</th><th>float64</th><th>float64</th><th>float64</th><th>float64</th><th>float64</th><th>float64</th><th>float64</th><th>float64</th><th>bool</th><th>float32</th><th>float32</th><th>float32</th><th>float32</th><th>float32</th><th>float32</th><th>float32</th><th>float32</th><th>bool</th><th>float32</th><th>float32</th><th>float32</th><th>float32</th><th>float32</th><th>float32</th><th>float32</th><th>float32</th><th>bool</th><th>float64</th><th>float64</th><th>float64</th><th>float64</th><th>float64</th><th>float64</th><th>float64</th><th>float64</th><th>bool</th><th>float32</th><th>float32</th><th>float32</th><th>float32</th><th>float32</th><th>float32</th><th>float32</th><th>float32</th><th>bool</th><th>float32</th><th>float32</th><th>float32</th><th>float32</th><th>float32</th><th>float32</th><th>float32</th><th>float32</th><th>bool</th><th>float64</th><th>float64</th><th>float64</th><th>float64</th><th>float64</th><th>float64</th><th>float64</th><th>float64</th><th>bool</th><th>float32</th><th>float32</th><th>float32</th><th>float32</th><th>float32</th><th>float32</th><th>float32</th><th>float32</th><th>bool</th><th>float32</th><th>float32</th><th>float32</th><th>float32</th><th>float32</th><th>float32</th><th>float32</th><th>float32</th><th>bool</th><th>float64</th><th>float64</th><th>float64</th><th>float64</th><th>float64</th><th>float64</th><th>float64</th><th>float64</th><th>bool</th><th>float32</th><th>float64</th><th>float32</th><th>float32</th><th>float32</th><th>float64</th><th>float32</th><th>float32</th><th>bool</th><th>float32</th><th>float32</th><th>float32</th><th>float32</th><th>float32</th><th>float32</th><th>float32</th><th>float32</th><th>bool</th><th>float32</th><th>float32</th><th>float32</th><th>float32</th><th>float32</th><th>float32</th><th>float32</th><th>float32</th><th>bool</th><th>float32</th><th>float32</th><th>float32</th><th>float32</th><th>float32</th><th>float32</th><th>float32</th><th>float32</th><th>bool</th><th>float64</th><th>float64</th><th>float64</th><th>float64</th><th>float64</th><th>float64</th><th>float64</th><th>float64</th><th>bool</th><th>float32</th><th>float32</th><th>float32</th><th>float32</th><th>float32</th><th>float32</th><th>float32</th><th>float32</th><th>bool</th><th>float32</th><th>float32</th><th>float32</th><th>float32</th><th>float32</th><th>float32</th><th>float32</th><th>float32</th><th>bool</th><th>float32</th><th>float32</th><th>float32</th><th>float32</th><th>float32</th><th>float32</th><th>float32</th><th>float32</th><th>bool</th><th>float64</th><th>float64</th><th>float64</th><th>float64</th><th>float64</th><th>float64</th><th>float64</th><th>float64</th><th>bool</th><th>float64</th><th>float64</th><th>float64</th><th>float64</th><th>float64</th><th>float64</th><th>float64</th><th>float64</th><th>bool</th><th>float64</th><th>float64</th><th>float64</th><th>float64</th><th>float64</th><th>float64</th><th>float64</th><th>float64</th><th>bool</th><th>float64</th><th>float64</th><th>float64</th><th>float64</th><th>float64</th><th>float64</th><th>float64</th><th>float64</th><th>bool</th><th>float64</th><th>float64</th><th>bool</th><th>float32</th><th>float32</th><th>bool</th><th>float32</th><th>float32</th><th>bool</th><th>float64</th><th>float64</th><th>bool</th><th>float64</th><th>float64</th><th>bool</th><th>float64</th><th>float64</th><th>bool</th><th>float64</th><th>float64</th><th>float64</th><th>float64</th><th>float64</th><th>float64</th><th>float64</th><th>float64</th><th>int64</th><th>int64</th><th>int64</th><th>int64</th><th>float64</th><th>bytes20</th><th>bool</th><th>bool</th><th>int64</th><th>int64</th><th>int64</th><th>int64</th><th>bool</th></tr></thead>\n",
       "<tr><td>HELP_J160006.274+544831.753</td><td>240.026141915057</td><td>54.808820405499304</td><td>61.582844</td><td>105.45057</td><td>19.159302</td><td>5.2378592</td><td>4.964249e-06</td><td>0.9992137</td><td>3085.343</td><td>0.0</td><td>ELAIS-N1</td><td>240.026141915057</td><td>54.808820405499304</td><td>188746573</td><td>0.008142248757726156</td><td>0.3243</td><td>nan</td><td>5.5667305</td><td>0.61525774</td><td>3.7670398</td><td>0.3330789</td><td>22.036</td><td>0.12</td><td>22.46</td><td>0.096</td><td>False</td><td>6.906958</td><td>0.06504278</td><td>3.1465847</td><td>0.034742307</td><td>21.801783</td><td>0.01022437</td><td>22.655401</td><td>0.011987912</td><td>False</td><td>nan</td><td>nan</td><td>nan</td><td>nan</td><td>nan</td><td>nan</td><td>nan</td><td>nan</td><td>False</td><td>25.000393</td><td>0.04344392</td><td>12.8578415</td><td>0.022358317</td><td>20.405132</td><td>0.0018867158</td><td>21.127079</td><td>0.0018879711</td><td>False</td><td>22.372790392424825</td><td>0.6825359286181193</td><td>20.211573634671552</td><td>0.0980294728365621</td><td>20.525699615478516</td><td>0.03312300145626068</td><td>20.63599967956543</td><td>0.005266000051051378</td><td>False</td><td>22.972055</td><td>0.7616896</td><td>17.202816</td><td>0.5545533</td><td>20.497</td><td>0.036</td><td>20.811</td><td>0.035</td><td>False</td><td>nan</td><td>nan</td><td>nan</td><td>nan</td><td>nan</td><td>nan</td><td>nan</td><td>nan</td><td>False</td><td>72.05103574913855</td><td>0.9774378703069737</td><td>60.22268741461658</td><td>0.13600544180119023</td><td>19.25589942932129</td><td>0.014728999696671963</td><td>19.450599670410156</td><td>0.002452000044286251</td><td>False</td><td>63.2703</td><td>1.5734009</td><td>49.294678</td><td>1.1804541</td><td>19.397</td><td>0.027</td><td>19.668</td><td>0.026</td><td>False</td><td>71.693726</td><td>0.07260821</td><td>39.375736</td><td>0.044705365</td><td>19.261297</td><td>0.0010995852</td><td>19.911928</td><td>0.001232694</td><td>False</td><td>109.39565968868297</td><td>1.2077756475769912</td><td>90.89079402715221</td><td>0.1499309067259604</td><td>18.802499771118164</td><td>0.011986999772489071</td><td>19.003700256347656</td><td>0.001791000016964972</td><td>False</td><td>nan</td><td>nan</td><td>nan</td><td>nan</td><td>nan</td><td>nan</td><td>nan</td><td>nan</td><td>False</td><td>104.809235</td><td>3.0890522</td><td>83.6373</td><td>2.4650497</td><td>18.849</td><td>0.032</td><td>19.094</td><td>0.032</td><td>False</td><td>124.2225061822386</td><td>1.7720309265733687</td><td>108.32283087876588</td><td>0.22238513036438276</td><td>18.664499282836914</td><td>0.01548799965530634</td><td>18.813199996948242</td><td>0.002228999976068735</td><td>False</td><td>130.4968</td><td>5.769215757027268</td><td>109.345276</td><td>4.7334037</td><td>18.611</td><td>0.048</td><td>18.803</td><td>0.047</td><td>False</td><td>155.01865</td><td>0.20599605</td><td>89.75876</td><td>0.10049435</td><td>18.42404</td><td>0.0014427772</td><td>19.017307</td><td>0.0012155956</td><td>False</td><td>nan</td><td>nan</td><td>nan</td><td>nan</td><td>nan</td><td>nan</td><td>nan</td><td>nan</td><td>False</td><td>nan</td><td>nan</td><td>nan</td><td>nan</td><td>nan</td><td>nan</td><td>nan</td><td>nan</td><td>False</td><td>123.83401836021552</td><td>3.305323917068879</td><td>136.1821952835619</td><td>0.24395831338286963</td><td>18.66790008544922</td><td>0.02897999994456768</td><td>18.564699172973633</td><td>0.0019450000254437327</td><td>False</td><td>nan</td><td>nan</td><td>nan</td><td>nan</td><td>nan</td><td>nan</td><td>nan</td><td>nan</td><td>False</td><td>188.58275</td><td>1.4678267</td><td>138.28482</td><td>1.114088</td><td>18.211245</td><td>0.008450787</td><td>18.548063</td><td>0.008747205</td><td>False</td><td>305.95764</td><td>1.6748683</td><td>221.28944</td><td>1.1143863</td><td>17.685846</td><td>0.0059435195</td><td>18.037598</td><td>0.0054676337</td><td>False</td><td>191.65</td><td>1.53</td><td>149.51</td><td>1.24</td><td>18.193727941024072</td><td>0.008667760987633383</td><td>18.46332439628238</td><td>0.00900483508728567</td><td>False</td><td>156.56</td><td>1.96</td><td>125.1</td><td>1.41</td><td>18.41329796837514</td><td>0.013592507417769118</td><td>18.656856725766453</td><td>0.012237314538041263</td><td>False</td><td>150.31</td><td>8.41</td><td>72.27</td><td>4.57</td><td>18.457530312997967</td><td>0.060748063881417534</td><td>19.252604863204986</td><td>0.06865662731070502</td><td>False</td><td>53.9</td><td>4.75</td><td>56.53</td><td>4.84</td><td>19.57102808703315</td><td>0.09568176201486299</td><td>19.519302536349706</td><td>0.09295884010311951</td><td>False</td><td>37.176304</td><td>15.466750999999995</td><td>False</td><td>9750.247</td><td>11617.177</td><td>True</td><td>10812.046</td><td>13531.716</td><td>True</td><td>2721.52</td><td>2546.15</td><td>True</td><td>2214.1478</td><td>2416.6011999999996</td><td>True</td><td>2463.4010000000003</td><td>2880.256999999999</td><td>True</td><td>nan</td><td>nan</td><td>nan</td><td>nan</td><td>nan</td><td>nan</td><td>nan</td><td>nan</td><td>-1</td><td>-1</td><td>-1</td><td>-1</td><td>0.47</td><td>SWIRE_IRAC1</td><td>False</td><td>False</td><td>0</td><td>7</td><td>7</td><td>-99</td><td>False</td></tr>\n",
       "</table>"
      ],
      "text/plain": [
       "<Row index=0>\n",
       "          help_id                  RA               Dec         F_MIPS_24 FErr_MIPS_24_u FErr_MIPS_24_l Bkg_MIPS_24 Sig_conf_MIPS_24 Rhat_MIPS_24 n_eff_MIPS_24 Pval_res_24  field          ra               dec           hp_idx          ebv          redshift  zspec   f_wfc_u  ferr_wfc_u f_ap_wfc_u ferr_ap_wfc_u m_wfc_u merr_wfc_u m_ap_wfc_u merr_ap_wfc_u flag_wfc_u f_megacam_u ferr_megacam_u f_ap_megacam_u ferr_ap_megacam_u m_megacam_u merr_megacam_u m_ap_megacam_u merr_ap_megacam_u flag_megacam_u f_suprime_g ferr_suprime_g f_ap_suprime_g ferr_ap_suprime_g m_suprime_g merr_suprime_g m_ap_suprime_g merr_ap_suprime_g flag_suprime_g f_megacam_g ferr_megacam_g f_ap_megacam_g ferr_ap_megacam_g m_megacam_g merr_megacam_g m_ap_megacam_g merr_ap_megacam_g flag_megacam_g      f_gpc1_g         ferr_gpc1_g        f_ap_gpc1_g       ferr_ap_gpc1_g        m_gpc1_g          merr_gpc1_g        m_ap_gpc1_g       merr_ap_gpc1_g    flag_gpc1_g  f_wfc_g  ferr_wfc_g f_ap_wfc_g ferr_ap_wfc_g m_wfc_g merr_wfc_g m_ap_wfc_g merr_ap_wfc_g flag_wfc_g f_suprime_r ferr_suprime_r f_ap_suprime_r ferr_ap_suprime_r m_suprime_r merr_suprime_r m_ap_suprime_r merr_ap_suprime_r flag_suprime_r      f_gpc1_r        ferr_gpc1_r        f_ap_gpc1_r       ferr_ap_gpc1_r        m_gpc1_r         merr_gpc1_r         m_ap_gpc1_r        merr_ap_gpc1_r    flag_gpc1_r f_wfc_r ferr_wfc_r f_ap_wfc_r ferr_ap_wfc_r m_wfc_r merr_wfc_r m_ap_wfc_r merr_ap_wfc_r flag_wfc_r f_megacam_r ferr_megacam_r f_ap_megacam_r ferr_ap_megacam_r m_megacam_r merr_megacam_r m_ap_megacam_r merr_ap_megacam_r flag_megacam_r      f_gpc1_i         ferr_gpc1_i        f_ap_gpc1_i      ferr_ap_gpc1_i        m_gpc1_i          merr_gpc1_i         m_ap_gpc1_i        merr_ap_gpc1_i    flag_gpc1_i f_suprime_i ferr_suprime_i f_ap_suprime_i ferr_ap_suprime_i m_suprime_i merr_suprime_i m_ap_suprime_i merr_ap_suprime_i flag_suprime_i  f_wfc_i   ferr_wfc_i f_ap_wfc_i ferr_ap_wfc_i m_wfc_i merr_wfc_i m_ap_wfc_i merr_ap_wfc_i flag_wfc_i      f_gpc1_z        ferr_gpc1_z        f_ap_gpc1_z        ferr_ap_gpc1_z        m_gpc1_z          merr_gpc1_z        m_ap_gpc1_z        merr_ap_gpc1_z    flag_gpc1_z f_wfc_z      ferr_wfc_z    f_ap_wfc_z ferr_ap_wfc_z m_wfc_z merr_wfc_z m_ap_wfc_z merr_ap_wfc_z flag_wfc_z f_megacam_z ferr_megacam_z f_ap_megacam_z ferr_ap_megacam_z m_megacam_z merr_megacam_z m_ap_megacam_z merr_ap_megacam_z flag_megacam_z f_suprime_z ferr_suprime_z f_ap_suprime_z ferr_ap_suprime_z m_suprime_z merr_suprime_z m_ap_suprime_z merr_ap_suprime_z flag_suprime_z f_suprime_n921 ferr_suprime_n921 f_ap_suprime_n921 ferr_ap_suprime_n921 m_suprime_n921 merr_suprime_n921 m_ap_suprime_n921 merr_ap_suprime_n921 flag_suprime_n921      f_gpc1_y         ferr_gpc1_y       f_ap_gpc1_y       ferr_ap_gpc1_y        m_gpc1_y         merr_gpc1_y        m_ap_gpc1_y         merr_ap_gpc1_y    flag_gpc1_y f_suprime_y ferr_suprime_y f_ap_suprime_y ferr_ap_suprime_y m_suprime_y merr_suprime_y m_ap_suprime_y merr_ap_suprime_y flag_suprime_y f_ukidss_j ferr_ukidss_j f_ap_ukidss_j ferr_ap_ukidss_j m_ukidss_j merr_ukidss_j m_ap_ukidss_j merr_ap_ukidss_j flag_ukidss_j f_ukidss_k ferr_ukidss_k f_ap_ukidss_k ferr_ap_ukidss_k m_ukidss_k merr_ukidss_k m_ap_ukidss_k merr_ap_ukidss_k flag_ukidss_k f_irac_i1 ferr_irac_i1 f_ap_irac_i1 ferr_ap_irac_i1     m_irac_i1          merr_irac_i1        m_ap_irac_i1     merr_ap_irac_i1   flag_irac_i1 f_irac_i2 ferr_irac_i2 f_ap_irac_i2 ferr_ap_irac_i2     m_irac_i2         merr_irac_i2        m_ap_irac_i2      merr_ap_irac_i2    flag_irac_i2 f_irac_i3 ferr_irac_i3 f_ap_irac_i3 ferr_ap_irac_i3     m_irac_i3          merr_irac_i3        m_ap_irac_i3      merr_ap_irac_i3   flag_irac_i3 f_irac_i4 ferr_irac_i4 f_ap_irac_i4 ferr_ap_irac_i4     m_irac_i4         merr_irac_i4       m_ap_irac_i4      merr_ap_irac_i4   flag_irac_i4 f_mips_24    ferr_mips_24    flag_mips_24 f_pacs_green ferr_pacs_green flag_pacs_green f_pacs_red ferr_pacs_red flag_pacs_red f_spire_250 ferr_spire_250 flag_spire_250 f_spire_350   ferr_spire_350   flag_spire_350    f_spire_500       ferr_spire_500  flag_spire_500 cigale_mstar cigale_mstar_err cigale_sfr cigale_sfr_err cigale_dustlumin cigale_dustlumin_err cigale_dustlumin_ironly cigale_dustlumin_ironly_err flag_cigale flag_cigale_opt flag_cigale_ir flag_cigale_ironly stellarity stellarity_origin flag_cleaned flag_merged flag_gaia flag_optnir_obs flag_optnir_det zspec_qual zspec_association_flag\n",
       "                                degrees           degrees          muJy        muJy           muJy        MJy / sr      MJy / sr                                                           deg               deg                                                                                                                                                                                                                              mag          mag                                                                                                                                                                                                                                                              mag          mag                                                                                                                                                                                                                                                                                                                                                                                                                                                                                                                                                                                                                                                                                                                                                                                                                  mag          mag                                                                                                                                                                                                                                                                                                                                                                                                                                                                                                                                                                                                                                                                                                                                                                                                                             mag          mag                                                                                                                                                                                                                                                                                                                                                                                                                                                                                                                                                                                                                                                                                                                                                                                                                                                                                                                                                                                                                                                                                                                                                                                                                                           uJy        uJy          uJy            uJy                                                                                                      uJy        uJy          uJy            uJy                                                                                                                                               mJy                                         mJy                                                                                                                                                                                                                                                                                                                                                                                                                                                                                                                              \n",
       "          str1728               float64           float64        float32     float32        float32       float32       float32        float32       float32      float32   bytes18      float64           float64         int64         float64        float64  float64  float32   float32    float32      float32    float32  float32    float32      float32       bool      float32      float32        float32          float32        float32      float32        float32          float32           bool        float32      float32        float32          float32        float32      float32        float32          float32           bool        float32      float32        float32          float32        float32      float32        float32          float32           bool           float64            float64            float64            float64            float64             float64            float64            float64            bool     float32   float32    float32      float32    float32  float32    float32      float32       bool      float32      float32        float32          float32        float32      float32        float32          float32           bool           float64           float64            float64            float64            float64            float64             float64             float64            bool    float32  float32    float32      float32    float32  float32    float32      float32       bool      float32      float32        float32          float32        float32      float32        float32          float32           bool           float64            float64            float64           float64            float64             float64             float64             float64            bool      float32      float32        float32          float32        float32      float32        float32          float32           bool       float32    float32    float32      float32    float32  float32    float32      float32       bool         float64           float64            float64             float64            float64             float64            float64             float64            bool    float32       float64       float32      float32    float32  float64    float32      float32       bool      float32      float32        float32          float32        float32      float32        float32          float32           bool        float32      float32        float32          float32        float32      float32        float32          float32           bool         float32          float32           float32            float32           float32          float32           float32            float32               bool            float64            float64           float64            float64            float64            float64            float64              float64            bool      float32      float32        float32          float32        float32      float32        float32          float32           bool       float32      float32       float32        float32       float32      float32       float32        float32           bool      float32      float32       float32        float32       float32      float32       float32        float32           bool      float64    float64      float64        float64          float64             float64             float64            float64           bool      float64    float64      float64        float64          float64            float64             float64             float64            bool      float64    float64      float64        float64          float64             float64             float64             float64           bool      float64    float64      float64        float64          float64            float64            float64             float64           bool      float64       float64           bool       float32        float32           bool       float32      float32         bool       float64      float64          bool        float64        float64            bool           float64            float64           bool        float64        float64       float64      float64         float64            float64                float64                   float64              int64         int64          int64            int64         float64        bytes20          bool         bool      int64        int64           int64        int64             bool         \n",
       "--------------------------- ---------------- ------------------ --------- -------------- -------------- ----------- ---------------- ------------ ------------- ----------- -------- ---------------- ------------------ --------- -------------------- -------- ------- --------- ---------- ---------- ------------- ------- ---------- ---------- ------------- ---------- ----------- -------------- -------------- ----------------- ----------- -------------- -------------- ----------------- -------------- ----------- -------------- -------------- ----------------- ----------- -------------- -------------- ----------------- -------------- ----------- -------------- -------------- ----------------- ----------- -------------- -------------- ----------------- -------------- ------------------ ------------------ ------------------ ------------------ ------------------ ------------------- ----------------- -------------------- ----------- --------- ---------- ---------- ------------- ------- ---------- ---------- ------------- ---------- ----------- -------------- -------------- ----------------- ----------- -------------- -------------- ----------------- -------------- ----------------- ------------------ ----------------- ------------------- ----------------- -------------------- ------------------ -------------------- ----------- ------- ---------- ---------- ------------- ------- ---------- ---------- ------------- ---------- ----------- -------------- -------------- ----------------- ----------- -------------- -------------- ----------------- -------------- ------------------ ------------------ ----------------- ------------------ ------------------ -------------------- ------------------ -------------------- ----------- ----------- -------------- -------------- ----------------- ----------- -------------- -------------- ----------------- -------------- ---------- ---------- ---------- ------------- ------- ---------- ---------- ------------- ---------- ----------------- ------------------ ------------------ ------------------- ------------------ ------------------- ------------------ -------------------- ----------- -------- ----------------- ---------- ------------- ------- ---------- ---------- ------------- ---------- ----------- -------------- -------------- ----------------- ----------- -------------- -------------- ----------------- -------------- ----------- -------------- -------------- ----------------- ----------- -------------- -------------- ----------------- -------------- -------------- ----------------- ----------------- -------------------- -------------- ----------------- ----------------- -------------------- ----------------- ------------------ ----------------- ----------------- ------------------- ----------------- ------------------- ------------------ --------------------- ----------- ----------- -------------- -------------- ----------------- ----------- -------------- -------------- ----------------- -------------- ---------- ------------- ------------- ---------------- ---------- ------------- ------------- ---------------- ------------- ---------- ------------- ------------- ---------------- ---------- ------------- ------------- ---------------- ------------- --------- ------------ ------------ --------------- ------------------ -------------------- ----------------- ------------------- ------------ --------- ------------ ------------ --------------- ----------------- -------------------- ------------------ -------------------- ------------ --------- ------------ ------------ --------------- ------------------ -------------------- ------------------ ------------------- ------------ --------- ------------ ------------ --------------- ----------------- ------------------- ------------------ ------------------- ------------ --------- ------------------ ------------ ------------ --------------- --------------- ---------- ------------- ------------- ----------- -------------- -------------- ----------- ------------------ -------------- ------------------ ----------------- -------------- ------------ ---------------- ---------- -------------- ---------------- -------------------- ----------------------- --------------------------- ----------- --------------- -------------- ------------------ ---------- ----------------- ------------ ----------- --------- --------------- --------------- ---------- ----------------------\n",
       "HELP_J160006.274+544831.753 240.026141915057 54.808820405499304 61.582844      105.45057      19.159302   5.2378592     4.964249e-06    0.9992137      3085.343         0.0 ELAIS-N1 240.026141915057 54.808820405499304 188746573 0.008142248757726156   0.3243     nan 5.5667305 0.61525774  3.7670398     0.3330789  22.036       0.12      22.46         0.096      False    6.906958     0.06504278      3.1465847       0.034742307   21.801783     0.01022437      22.655401       0.011987912          False         nan            nan            nan               nan         nan            nan            nan               nan          False   25.000393     0.04344392     12.8578415       0.022358317   20.405132   0.0018867158      21.127079      0.0018879711          False 22.372790392424825 0.6825359286181193 20.211573634671552 0.0980294728365621 20.525699615478516 0.03312300145626068 20.63599967956543 0.005266000051051378       False 22.972055  0.7616896  17.202816     0.5545533  20.497      0.036     20.811         0.035      False         nan            nan            nan               nan         nan            nan            nan               nan          False 72.05103574913855 0.9774378703069737 60.22268741461658 0.13600544180119023 19.25589942932129 0.014728999696671963 19.450599670410156 0.002452000044286251       False 63.2703  1.5734009  49.294678     1.1804541  19.397      0.027     19.668         0.026      False   71.693726     0.07260821      39.375736       0.044705365   19.261297   0.0010995852      19.911928       0.001232694          False 109.39565968868297 1.2077756475769912 90.89079402715221 0.1499309067259604 18.802499771118164 0.011986999772489071 19.003700256347656 0.001791000016964972       False         nan            nan            nan               nan         nan            nan            nan               nan          False 104.809235  3.0890522    83.6373     2.4650497  18.849      0.032     19.094         0.032      False 124.2225061822386 1.7720309265733687 108.32283087876588 0.22238513036438276 18.664499282836914 0.01548799965530634 18.813199996948242 0.002228999976068735       False 130.4968 5.769215757027268 109.345276     4.7334037  18.611      0.048     18.803         0.047      False   155.01865     0.20599605       89.75876        0.10049435    18.42404   0.0014427772      19.017307      0.0012155956          False         nan            nan            nan               nan         nan            nan            nan               nan          False            nan               nan               nan                  nan            nan               nan               nan                  nan             False 123.83401836021552 3.305323917068879 136.1821952835619 0.24395831338286963 18.66790008544922 0.02897999994456768 18.564699172973633 0.0019450000254437327       False         nan            nan            nan               nan         nan            nan            nan               nan          False  188.58275     1.4678267     138.28482         1.114088  18.211245   0.008450787     18.548063      0.008747205         False  305.95764     1.6748683     221.28944        1.1143863  17.685846  0.0059435195     18.037598     0.0054676337         False    191.65         1.53       149.51            1.24 18.193727941024072 0.008667760987633383 18.46332439628238 0.00900483508728567        False    156.56         1.96        125.1            1.41 18.41329796837514 0.013592507417769118 18.656856725766453 0.012237314538041263        False    150.31         8.41        72.27            4.57 18.457530312997967 0.060748063881417534 19.252604863204986 0.06865662731070502        False      53.9         4.75        56.53            4.84 19.57102808703315 0.09568176201486299 19.519302536349706 0.09295884010311951        False 37.176304 15.466750999999995        False     9750.247       11617.177            True  10812.046     13531.716          True     2721.52        2546.15           True   2214.1478 2416.6011999999996           True 2463.4010000000003 2880.256999999999           True          nan              nan        nan            nan              nan                  nan                     nan                         nan          -1              -1             -1                 -1       0.47       SWIRE_IRAC1        False       False         0               7               7        -99                  False"
      ]
     },
     "execution_count": 16,
     "metadata": {},
     "output_type": "execute_result"
    }
   ],
   "source": [
    "joined[0]"
   ]
  },
  {
   "cell_type": "code",
   "execution_count": 35,
   "metadata": {},
   "outputs": [
    {
     "data": {
      "image/png": "[encoded data removed]",
      "text/plain": [
       "<Figure size 432x288 with 1 Axes>"
      ]
     },
     "metadata": {
      "needs_background": "light"
     },
     "output_type": "display_data"
    }
   ],
   "source": [
    "x = np.log10(joined['f_mips_24'])\n",
    "xerr = np.log10(joined['ferr_mips_24'])\n",
    "y = np.log10(joined['F_MIPS_24'])\n",
    "yerr_u = np.log10(joined['FErr_MIPS_24_u']-joined['F_MIPS_24'])\n",
    "yerr_l = np.log10(joined['F_MIPS_24']-joined['FErr_MIPS_24_l'])\n",
    "\n",
    "#plt.errorbar(x[::10],y[::10],xerr=xerr[::10],yerr=[yerr_u[::10],yerr_l[::10]],linestyle='')\n",
    "plt.scatter(x,y,s=0.1)\n",
    "plt.plot([0,4],[0,4],c='black')\n",
    "plt.show()"
   ]
  },
  {
   "cell_type": "code",
   "execution_count": 40,
   "metadata": {},
   "outputs": [],
   "source": [
    "plot_params = {'marker':['o','+','s','v','X','d'],\n",
    "              'col':['green','cyan','orange','red'],\n",
    "              'size':100,\n",
    "              'box_length':1/60,\n",
    "              'use_redshift':[False,False,False,False]}"
   ]
  },
  {
   "cell_type": "code",
   "execution_count": 43,
   "metadata": {},
   "outputs": [
    {
     "name": "stdout",
     "output_type": "stream",
     "text": [
      "contours are at [-7.03488459e-05 -2.84357747e-05  1.34772965e-05  5.53903676e-05\n",
      "  9.73034388e-05  1.39216510e-04  1.81129581e-04]\n",
      "plotting 4 sources\n",
      "plotting 3 sources\n",
      "plotting 1 sources\n",
      "plotting 1 sources\n"
     ]
    },
    {
     "data": {
      "image/png": "[encoded data removed]",
      "text/plain": [
       "<Figure size 720x720 with 1 Axes>"
      ]
     },
     "metadata": {
      "needs_background": "light"
     },
     "output_type": "display_data"
    }
   ],
   "source": [
    "mask = np.log10(joined['f_mips_24'])<0.1\n",
    "ra = joined[mask]['ra'][1]\n",
    "dec = joined[mask]['dec'][1]\n",
    "\n",
    "image_plotting.plot_figure(im24,[mips_prior,lofar_mips_table,lofar_orig,joined[mask]],w_24,ra,dec,plot_params,contour_data=[radim_data,radim_wcs])"
   ]
  },
  {
   "cell_type": "markdown",
   "metadata": {},
   "source": [
    "## Processing MIPS output"
   ]
  },
  {
   "cell_type": "code",
   "execution_count": null,
   "metadata": {},
   "outputs": [],
   "source": [
    "file_list = glob.glob('data/fir_MIPS_v10/*/lofar_xidplus*.fits')\n",
    "num_not = np.arange(428,860,1)\n",
    "\n",
    "lofar_mips_table = Table.read(file_list[0])\n",
    "for i,filename in enumerate(file_list[1:]):\n",
    "    #print(filename)\n",
    "    if i%50==0:\n",
    "        print(i)\n",
    "    \n",
    "    run_num = 0\n",
    "    try:\n",
    "        run_num = int(filename[24:27])\n",
    "    except:\n",
    "        run_num = 0\n",
    "    #print(run_num)\n",
    "    if run_num>428:\n",
    "        continue\n",
    "    \n",
    "    #print(filename)\n",
    "    new_table = Table.read(filename,memmap=False)\n",
    "    if len(new_table)!=100:\n",
    "        print(filename)\n",
    "        print('length of table is: {}'.format(len(new_table)))\n",
    "    lofar_mips_table = vstack([lofar_mips_table,new_table])\n",
    "data_rerun_table = lofar_mips_table"
   ]
  },
  {
   "cell_type": "code",
   "execution_count": null,
   "metadata": {},
   "outputs": [],
   "source": [
    "lofar_mips_table[0]"
   ]
  },
  {
   "cell_type": "code",
   "execution_count": null,
   "metadata": {},
   "outputs": [],
   "source": [
    "skew=(lofar_mips_table['FErr_MIPS_24_u']-lofar_mips_table['F_MIPS_24'])/(lofar_mips_table['F_MIPS_24']-lofar_mips_table['FErr_MIPS_24_l'])\n",
    "skew.name='(84th-50th)/(50th-16th) percentile'\n",
    "g=sns.jointplot(x=np.log10(lofar_mips_table['F_MIPS_24']),y=skew, kind='hex')\n",
    "\n",
    "skew=(lofar_orig['FErr_MIPS_24_u']-lofar_orig['F_MIPS_24'])/(lofar_orig['F_MIPS_24']-lofar_orig['FErr_MIPS_24_l'])\n",
    "skew.name='(84th-50th)/(50th-16th) percentile'\n",
    "g=sns.jointplot(x=np.log10(lofar_orig['F_MIPS_24']),y=skew, kind='hex')"
   ]
  },
  {
   "cell_type": "code",
   "execution_count": null,
   "metadata": {},
   "outputs": [],
   "source": [
    "lofar_mips_table.add_column(Column(np.zeros(len(data_rerun_table), dtype=bool),name='flag_MIPS_24'))\n",
    "\n"
   ]
  },
  {
   "cell_type": "code",
   "execution_count": null,
   "metadata": {},
   "outputs": [],
   "source": [
    "ind_SERVS_250=(lofar_mips_table['Pval_res_24']>0.5) | (lofar_mips_table['F_MIPS_24'] <20)\n",
    "print(ind_SERVS_250.sum(),len(lofar_mips_table))\n",
    "\n",
    "lofar_mips_table['flag_MIPS_24'][ind_SERVS_250]=True"
   ]
  },
  {
   "cell_type": "code",
   "execution_count": null,
   "metadata": {},
   "outputs": [],
   "source": [
    "rerun_col = Column(np.ones(len(lofar_mips_table)),name='XID+_rerun_mips',dtype='bool')\n",
    "lofar_mips_table.add_column(rerun_col)"
   ]
  },
  {
   "cell_type": "code",
   "execution_count": null,
   "metadata": {},
   "outputs": [],
   "source": [
    "lofar_mips_table[0]"
   ]
  },
  {
   "cell_type": "markdown",
   "metadata": {},
   "source": [
    "### Plot mips sources"
   ]
  },
  {
   "cell_type": "code",
   "execution_count": 36,
   "metadata": {},
   "outputs": [],
   "source": [
    "#read in mips image and create wcs\n",
    "imfolder='../../../../../HELP/dmu_products/dmu17/dmu17_HELP_Legacy_maps/ELAIS-N1/data/'\n",
    "\n",
    "pswfits=imfolder+'wp4_elais-n1_mips24_map_v1.0.fits.gz'#SPIRE 250 map\n",
    "\n",
    "MIPS_Map = fits.open(pswfits)\n",
    "\n",
    "#-----250-------------\n",
    "hdulist = fits.open(pswfits)\n",
    "im24phdu=hdulist[0].header\n",
    "im24hdu=hdulist[1].header\n",
    "\n",
    "im24=hdulist[1].data*1.0E3 #convert to mJy\n",
    "nim24=hdulist[2].data*1.0E3 #convert to mJy\n",
    "w_24 = wcs.WCS(hdulist[1].header)\n",
    "hdulist.close()"
   ]
  },
  {
   "cell_type": "code",
   "execution_count": 37,
   "metadata": {},
   "outputs": [],
   "source": [
    "fname = 'data/data_release/radio_image.fits'\n",
    "hdulist = fits.open(fname)\n",
    "radim_header = hdulist[0].header\n",
    "radim_wcs = wcs.WCS(radim_header).celestial\n",
    "radim_data = hdulist[0].data[0][0]\n",
    "hdulist.close()"
   ]
  },
  {
   "cell_type": "code",
   "execution_count": 38,
   "metadata": {},
   "outputs": [],
   "source": [
    "plot_params = {'marker':['o','+','s','v','X','d'],\n",
    "              'col':['green','cyan','orange'],\n",
    "              'size':100,\n",
    "              'box_length':1/60,\n",
    "              'use_redshift':[False,False,False,False]}"
   ]
  },
  {
   "cell_type": "code",
   "execution_count": null,
   "metadata": {},
   "outputs": [],
   "source": [
    "lofar_mips_table[mask][3]"
   ]
  },
  {
   "cell_type": "code",
   "execution_count": null,
   "metadata": {},
   "outputs": [],
   "source": [
    "mask = lofar_mips_table['F_MIPS_24']>10**2.5\n",
    "ra = lofar_mips_table['RA'][mask][3]\n",
    "dec = lofar_mips_table['Dec'][mask][3]\n",
    "\n",
    "ra = 244.01967769676352\n",
    "dec = 55.61836714885293\n",
    "image_plotting.plot_figure(im24,[mips_prior,lofar_mips_table,lofar_orig],w_24,ra,dec,plot_params,contour_data=[radim_data,radim_wcs])"
   ]
  },
  {
   "cell_type": "code",
   "execution_count": null,
   "metadata": {},
   "outputs": [],
   "source": []
  },
  {
   "cell_type": "markdown",
   "metadata": {},
   "source": [
    "## Check PACS results against HELP results"
   ]
  },
  {
   "cell_type": "code",
   "execution_count": 22,
   "metadata": {},
   "outputs": [
    {
     "name": "stdout",
     "output_type": "stream",
     "text": [
      "0\n",
      "50\n"
     ]
    }
   ],
   "source": [
    "file_list = glob.glob('data/fir_PACS_v10/*/lofar_xidplus*.pkl')\n",
    "num_not = np.arange(428,860,1)\n",
    "\n",
    "priors,posterior = xidplus.load(file_list[0])\n",
    "PACS_cat=cat.create_PACS_cat(posterior,priors[0],priors[1])\n",
    "lofar_pacs_table = Table.read(PACS_cat,memmap=False)\n",
    "\n",
    "for i,filename in enumerate(file_list[1:]):\n",
    "    #print(filename)\n",
    "    if i%50==0:\n",
    "        print(i)\n",
    "    \n",
    "    priors,posterior = xidplus.load(filename)\n",
    "    PACS_cat=cat.create_PACS_cat(posterior,priors[0],priors[1])\n",
    "    PACS_cat = Table.read(PACS_cat,memmap=False)\n",
    "    lofar_pacs_table = vstack([lofar_pacs_table,PACS_cat])\n",
    "    \n",
    "\n",
    "data_rerun_table = lofar_pacs_table"
   ]
  },
  {
   "cell_type": "code",
   "execution_count": 23,
   "metadata": {},
   "outputs": [],
   "source": [
    "joined_pacs = join(lofar_pacs_table,masterlist,join_type='inner',keys='help_id')"
   ]
  },
  {
   "cell_type": "code",
   "execution_count": 29,
   "metadata": {},
   "outputs": [
    {
     "data": {
      "image/png": "[encoded data removed]",
      "text/plain": [
       "<Figure size 432x288 with 1 Axes>"
      ]
     },
     "metadata": {
      "needs_background": "light"
     },
     "output_type": "display_data"
    }
   ],
   "source": [
    "x = np.log10(joined_pacs['f_pacs_green'])-3\n",
    "xerr = np.log10(joined_pacs['ferr_pacs_green'])-3\n",
    "y = np.log10(joined_pacs['F_PACS_100'])\n",
    "yerr_u = np.log10(joined_pacs['FErr_PACS_100_u'])\n",
    "yerr_l = np.log10(joined_pacs['FErr_PACS_100_l'])\n",
    "\n",
    "#plt.errorbar(x,y,xerr=xerr,yerr=[yerr_u,yerr_l])\n",
    "plt.scatter(x,y,s=0.1)\n",
    "plt.plot([0,2],[0,2],c='black')\n",
    "plt.show()"
   ]
  },
  {
   "cell_type": "markdown",
   "metadata": {},
   "source": [
    "## Processing PACS output"
   ]
  },
  {
   "cell_type": "code",
   "execution_count": null,
   "metadata": {},
   "outputs": [],
   "source": [
    "file_list = glob.glob('data/fir_PACS_v10/*/lofar_xidplus_fir*.fits')\n",
    "#num_not = np.arange(428,860,1)\n",
    "\n",
    "lofar_pacs_table = Table.read(file_list[0])\n",
    "for i,filename in enumerate(file_list[1:]):\n",
    "    #print(filename)\n",
    "    if i%50==0:\n",
    "        print(i)\n",
    "    \n",
    "    #print(filename)\n",
    "    new_table = Table.read(filename,memmap=False)\n",
    "    if len(new_table)!=20:\n",
    "        print(filename)\n",
    "        print('length of table is: {}'.format(len(new_table)))\n",
    "    lofar_pacs_table = vstack([lofar_pacs_table,new_table])\n",
    "data_rerun_table = lofar_pacs_table"
   ]
  },
  {
   "cell_type": "code",
   "execution_count": null,
   "metadata": {},
   "outputs": [],
   "source": [
    "lofar_pacs_table[0]"
   ]
  },
  {
   "cell_type": "code",
   "execution_count": null,
   "metadata": {},
   "outputs": [],
   "source": [
    "skew=(lofar_pacs_table['FErr_PACS_100_u']-lofar_pacs_table['F_PACS_100'])/(lofar_pacs_table['F_PACS_100']-lofar_pacs_table['FErr_PACS_100_l'])\n",
    "skew.name='(84th-50th)/(50th-16th) percentile'\n",
    "g=sns.jointplot(x=np.log10(lofar_pacs_table['F_PACS_100']),y=skew, kind='hex')\n",
    "\n",
    "skew=(lofar_orig['FErr_PACS_100_u']-lofar_orig['F_PACS_100'])/(lofar_orig['F_PACS_100']-lofar_orig['FErr_PACS_100_l'])\n",
    "skew.name='(84th-50th)/(50th-16th) percentile'\n",
    "g=sns.jointplot(x=np.log10(lofar_orig['F_PACS_100']),y=skew, kind='hex')\n",
    "\n",
    "skew=(lofar_pacs_table['FErr_PACS_160_u']-lofar_pacs_table['F_PACS_160'])/(lofar_pacs_table['F_PACS_160']-lofar_pacs_table['FErr_PACS_160_l'])\n",
    "skew.name='(84th-50th)/(50th-16th) percentile'\n",
    "g=sns.jointplot(x=np.log10(lofar_pacs_table['F_PACS_160']),y=skew, kind='hex')\n",
    "\n",
    "skew=(lofar_orig['FErr_PACS_160_u']-lofar_orig['F_PACS_160'])/(lofar_orig['F_PACS_160']-lofar_orig['FErr_PACS_160_l'])\n",
    "skew.name='(84th-50th)/(50th-16th) percentile'\n",
    "g=sns.jointplot(x=np.log10(lofar_orig['F_PACS_160']),y=skew, kind='hex')"
   ]
  },
  {
   "cell_type": "code",
   "execution_count": null,
   "metadata": {},
   "outputs": [],
   "source": [
    "lofar_pacs_table.add_column(Column(np.zeros(len(lofar_pacs_table), dtype=bool),name='flag_PACS_100'))\n",
    "lofar_pacs_table.add_column(Column(np.zeros(len(lofar_pacs_table), dtype=bool),name='flag_PACS_160'))"
   ]
  },
  {
   "cell_type": "code",
   "execution_count": null,
   "metadata": {},
   "outputs": [],
   "source": [
    "ind_SERVS_100=(lofar_pacs_table['Pval_res_100']>0.5) | (lofar_pacs_table['F_PACS_100'] < 12.5)\n",
    "ind_SERVS_160=(lofar_pacs_table['Pval_res_160']>0.5) | (lofar_pacs_table['F_PACS_160'] < 17.5)\n",
    "print(ind_SERVS_100.sum(),ind_SERVS_160.sum(),len(lofar_pacs_table))\n",
    "\n",
    "lofar_pacs_table['flag_PACS_100'][ind_SERVS_100]=True\n",
    "lofar_pacs_table['flag_PACS_160'][ind_SERVS_160]=True"
   ]
  },
  {
   "cell_type": "code",
   "execution_count": null,
   "metadata": {},
   "outputs": [],
   "source": [
    "rerun_col = Column(np.ones(len(lofar_pacs_table)),name='XID+_rerun_pacs',dtype='bool')\n",
    "lofar_pacs_table.add_column(rerun_col)"
   ]
  },
  {
   "cell_type": "code",
   "execution_count": null,
   "metadata": {},
   "outputs": [],
   "source": [
    "lofar_pacs_table[0]"
   ]
  },
  {
   "cell_type": "code",
   "execution_count": null,
   "metadata": {},
   "outputs": [],
   "source": [
    "imfolder='../../../../../HELP/dmu_products/dmu18/dmu18_ELAIS-N1/data/'\n",
    "\n",
    "im100fits=imfolder + 'ELAIS-N1-100um-img_wgls.fits'#PACS 100 map\n",
    "nim100fits=imfolder + 'ELAIS-N1-100um-img_noise.fits'#PACS 100 noise map\n",
    "\n",
    "hdulist = fits.open(im100fits)\n",
    "im100phdu=hdulist[0].header\n",
    "im100hdu=hdulist[0].header\n",
    "im100=hdulist[0].data\n",
    "w_100 = wcs.WCS(hdulist[0].header)\n",
    "pixsize100=3600.0*np.abs(hdulist[0].header['CDELT1']) #pixel size (in arcseconds)\n",
    "hdulist.close()\n",
    "\n",
    "hdulist = fits.open(nim100fits)\n",
    "nim100=hdulist[0].data\n",
    "hdulist.close()"
   ]
  },
  {
   "cell_type": "code",
   "execution_count": null,
   "metadata": {},
   "outputs": [],
   "source": [
    "plot_params = {'marker':['o','+','s','v','X','d'],\n",
    "              'col':['green','cyan','orange'],\n",
    "              'size':100,\n",
    "              'box_length':1/60,\n",
    "              'use_redshift':[False,False,False]}"
   ]
  },
  {
   "cell_type": "code",
   "execution_count": null,
   "metadata": {},
   "outputs": [],
   "source": [
    "#mask = lofar_pacs_table['F_PACS_100']>10**0.9\n",
    "#ra = lofar_pacs_table['RA'][mask][3]\n",
    "#dec = lofar_pacs_table['Dec'][mask][3]\n",
    "\n",
    "ra = 244.01967769676352\n",
    "dec = 55.61836714885293\n",
    "image_plotting.plot_figure(im100,[mips_prior,lofar_mips_table,lofar_orig],w_100,ra,dec,plot_params,contour_data=[radim_data,radim_wcs])"
   ]
  },
  {
   "cell_type": "markdown",
   "metadata": {},
   "source": [
    "## Processing SPIRE output"
   ]
  },
  {
   "cell_type": "code",
   "execution_count": null,
   "metadata": {},
   "outputs": [],
   "source": [
    "file_list = glob.glob('data/fir_v10/*/lofar_xidplus_fir*.fits')\n",
    "num_not = np.arange(428,860,1)\n",
    "\n",
    "lofar_spire_table = Table.read(file_list[0])\n",
    "for i,filename in enumerate(file_list[1:]):\n",
    "    #print(filename)\n",
    "    if i%50==0:\n",
    "        print(i)\n",
    "    \n",
    "    run_num = 0\n",
    "    try:\n",
    "        run_num = int(filename[24:27])\n",
    "    except:\n",
    "        run_num = 0\n",
    "    #print(run_num)\n",
    "    if run_num>428:\n",
    "        continue\n",
    "    \n",
    "    #print(filename)\n",
    "    new_table = Table.read(filename,memmap=False)\n",
    "    if len(new_table)!=20:\n",
    "        print(filename)\n",
    "        print('length of table is: {}'.format(len(new_table)))\n",
    "    lofar_spire_table = vstack([lofar_spire_table,new_table])\n",
    "data_rerun_table = lofar_spire_table"
   ]
  },
  {
   "cell_type": "code",
   "execution_count": null,
   "metadata": {},
   "outputs": [],
   "source": [
    "lofar_spire_table[0]"
   ]
  },
  {
   "cell_type": "code",
   "execution_count": null,
   "metadata": {},
   "outputs": [],
   "source": [
    "skew=(lofar_spire_table['FErr_SPIRE_250_u']-lofar_spire_table['F_SPIRE_250'])/(lofar_spire_table['F_SPIRE_250']-lofar_spire_table['FErr_SPIRE_250_l'])\n",
    "skew.name='(84th-50th)/(50th-16th) percentile'\n",
    "g=sns.jointplot(x=np.log10(lofar_spire_table['F_SPIRE_250']),y=skew, kind='hex')\n",
    "\n",
    "skew=(lofar_orig['FErr_SPIRE_250_u']-lofar_orig['F_SPIRE_250'])/(lofar_orig['F_SPIRE_250']-lofar_orig['FErr_SPIRE_250_l'])\n",
    "skew.name='(84th-50th)/(50th-16th) percentile'\n",
    "g=sns.jointplot(x=np.log10(lofar_orig['F_SPIRE_250']),y=skew, kind='hex')\n"
   ]
  },
  {
   "cell_type": "code",
   "execution_count": null,
   "metadata": {},
   "outputs": [],
   "source": [
    "skew=(lofar_spire_table['FErr_SPIRE_350_u']-lofar_spire_table['F_SPIRE_350'])/(lofar_spire_table['F_SPIRE_350']-lofar_spire_table['FErr_SPIRE_350_l'])\n",
    "skew.name='(84th-50th)/(50th-16th) percentile'\n",
    "g=sns.jointplot(x=np.log10(lofar_spire_table['F_SPIRE_350']),y=skew, kind='hex')"
   ]
  },
  {
   "cell_type": "code",
   "execution_count": null,
   "metadata": {},
   "outputs": [],
   "source": [
    "skew=(lofar_spire_table['FErr_SPIRE_500_u']-lofar_spire_table['F_SPIRE_500'])/(lofar_spire_table['F_SPIRE_500']-lofar_spire_table['FErr_SPIRE_500_l'])\n",
    "skew.name='(84th-50th)/(50th-16th) percentile'\n",
    "g=sns.jointplot(x=np.log10(lofar_spire_table['F_SPIRE_500']),y=skew, kind='hex')"
   ]
  },
  {
   "cell_type": "code",
   "execution_count": null,
   "metadata": {},
   "outputs": [],
   "source": [
    "lofar_spire_table.add_column(Column(np.zeros(len(lofar_spire_table), dtype=bool),name='flag_SPIRE_250'))\n",
    "lofar_spire_table.add_column(Column(np.zeros(len(lofar_spire_table), dtype=bool),name='flag_SPIRE_350'))\n",
    "lofar_spire_table.add_column(Column(np.zeros(len(lofar_spire_table), dtype=bool),name='flag_SPIRE_500'))"
   ]
  },
  {
   "cell_type": "code",
   "execution_count": null,
   "metadata": {},
   "outputs": [],
   "source": [
    "ind_SERVS_250=(lofar_spire_table['Pval_res_250']>0.5) | (lofar_spire_table['F_SPIRE_250'] < 4)\n",
    "ind_SERVS_350=(lofar_spire_table['Pval_res_350']>0.5) | (lofar_spire_table['F_SPIRE_350'] < 4)\n",
    "ind_SERVS_500=(lofar_spire_table['Pval_res_500']>0.5) | (lofar_spire_table['F_SPIRE_500'] < 4)\n",
    "\n",
    "print(ind_SERVS_250.sum(),ind_SERVS_350.sum(),ind_SERVS_500.sum(),len(lofar_spire_table))\n",
    "\n",
    "lofar_spire_table['flag_SPIRE_250'][ind_SERVS_250]=True\n",
    "lofar_spire_table['flag_SPIRE_350'][ind_SERVS_350]=True\n",
    "lofar_spire_table['flag_SPIRE_500'][ind_SERVS_500]=True"
   ]
  },
  {
   "cell_type": "code",
   "execution_count": null,
   "metadata": {},
   "outputs": [],
   "source": [
    "rerun_col = Column(np.ones(len(lofar_spire_table)),name='XID+_rerun_SPIRE',dtype='bool')\n",
    "lofar_spire_table.add_column(rerun_col)"
   ]
  },
  {
   "cell_type": "code",
   "execution_count": null,
   "metadata": {},
   "outputs": [],
   "source": [
    "lofar_spire_table.rename_column('HELP_ID','help_id')"
   ]
  },
  {
   "cell_type": "code",
   "execution_count": null,
   "metadata": {},
   "outputs": [],
   "source": [
    "lofar_spire_table[0]"
   ]
  },
  {
   "cell_type": "markdown",
   "metadata": {},
   "source": [
    "## Plot SPIRE Sources"
   ]
  },
  {
   "cell_type": "code",
   "execution_count": null,
   "metadata": {},
   "outputs": [],
   "source": [
    "imfolder='../../../../../HELP/dmu_products/dmu19/dmu19_HELP-SPIRE-maps/data/'\n",
    "pswfits=imfolder+'ELAIS-N1_SPIRE250_v1.0.fits'\n",
    "hdulist = fits.open(pswfits)\n",
    "im250phdu=hdulist[0].header\n",
    "im250hdu=hdulist['image'].header\n",
    "\n",
    "im250=hdulist['image'].data*1.0E3 #convert to mJy\n",
    "w_250 = wcs.WCS(hdulist['image'].header)\n",
    "hdulist.close()\n",
    "\n",
    "imfolder='../../../../../HELP/dmu_products/dmu19/dmu19_HELP-SPIRE-maps/data/'\n",
    "pswfits=imfolder+'ELAIS-N1_SPIRE350_v1.0.fits'\n",
    "hdulist = fits.open(pswfits)\n",
    "im350phdu=hdulist[0].header\n",
    "im350hdu=hdulist['image'].header\n",
    "\n",
    "im350=hdulist['image'].data*1.0E3 #convert to mJy\n",
    "w_350 = wcs.WCS(hdulist['image'].header)\n",
    "hdulist.close()\n",
    "\n",
    "imfolder='../../../../../HELP/dmu_products/dmu19/dmu19_HELP-SPIRE-maps/data/'\n",
    "pswfits=imfolder+'ELAIS-N1_SPIRE500_v1.0.fits'\n",
    "hdulist = fits.open(pswfits)\n",
    "im500phdu=hdulist[0].header\n",
    "im500hdu=hdulist['image'].header\n",
    "\n",
    "im500=hdulist['image'].data*1.0E3 #convert to mJy\n",
    "w_500 = wcs.WCS(hdulist['image'].header)\n",
    "hdulist.close()"
   ]
  },
  {
   "cell_type": "code",
   "execution_count": null,
   "metadata": {},
   "outputs": [],
   "source": [
    "plot_params = {'marker':['o','+','s','v','X','d'],\n",
    "              'col':['green','cyan','orange'],\n",
    "              'size':100,\n",
    "              'box_length':1/60,\n",
    "              'use_redshift':[False,False,False]}"
   ]
  },
  {
   "cell_type": "code",
   "execution_count": null,
   "metadata": {
    "scrolled": false
   },
   "outputs": [],
   "source": [
    "ra = 244.01967769676352\n",
    "dec = 55.61836714885293\n",
    "image_plotting.plot_figure(im250,[pacs_prior,lofar_spire_table,lofar_orig],w_250,ra,dec,plot_params,contour_data=[radim_data,radim_wcs])\n",
    "image_plotting.plot_figure(im350,[pacs_prior,lofar_spire_table,lofar_orig],w_350,ra,dec,plot_params,contour_data=[radim_data,radim_wcs])\n",
    "image_plotting.plot_figure(im500,[pacs_prior,lofar_spire_table,lofar_orig],w_500,ra,dec,plot_params,contour_data=[radim_data,radim_wcs])"
   ]
  },
  {
   "cell_type": "code",
   "execution_count": null,
   "metadata": {},
   "outputs": [],
   "source": []
  },
  {
   "cell_type": "markdown",
   "metadata": {},
   "source": [
    "## Merge the MIPS, PACS and SPIRE catalogues"
   ]
  },
  {
   "cell_type": "code",
   "execution_count": null,
   "metadata": {},
   "outputs": [],
   "source": [
    "MIPS_x_PACS = join(lofar_mips_table,lofar_pacs_table,keys='help_id',join_type='outer')\n",
    "fir_table = join(MIPS_x_PACS,lofar_spire_table,keys='help_id',join_type='outer')"
   ]
  },
  {
   "cell_type": "code",
   "execution_count": null,
   "metadata": {},
   "outputs": [],
   "source": [
    "for name in fir_table.colnames:\n",
    "    \n",
    "    if ('RA' in name) or ('Dec' in name):\n",
    "        print(name)\n",
    "        fir_table.remove_column(name)\n",
    "fir_table.rename_column('help_id','Source_Name')"
   ]
  },
  {
   "cell_type": "code",
   "execution_count": null,
   "metadata": {},
   "outputs": [],
   "source": [
    "fir_table[0]"
   ]
  },
  {
   "cell_type": "code",
   "execution_count": null,
   "metadata": {},
   "outputs": [],
   "source": [
    "fir_table_v01 = fir_table.copy()"
   ]
  },
  {
   "cell_type": "code",
   "execution_count": null,
   "metadata": {},
   "outputs": [],
   "source": [
    "all_fir_table = join(fir_table,fir_table_v01,join_type='outer',keys='Source_Name')"
   ]
  },
  {
   "cell_type": "code",
   "execution_count": null,
   "metadata": {},
   "outputs": [],
   "source": [
    "mask = [ids in lofar_orig['Source_Name'] for ids in all_fir_table['Source_Name']]\n",
    "new_fir_table = all_fir_table[mask]"
   ]
  },
  {
   "cell_type": "code",
   "execution_count": null,
   "metadata": {},
   "outputs": [],
   "source": [
    "for name in fir_table.colnames:\n",
    "    if ('Source' in name) or ('RA' in name) or ('Dec' in name):\n",
    "        continue\n",
    "\n",
    "    colname = name+'_1'\n",
    "    mask = new_fir_table[colname].mask\n",
    "    new_fir_table[colname][mask] = new_fir_table[name+'_2'][mask]\n",
    "    new_fir_table.rename_column(colname,name)\n",
    "    new_fir_table.remove_column(name+'_2')"
   ]
  },
  {
   "cell_type": "code",
   "execution_count": null,
   "metadata": {},
   "outputs": [],
   "source": [
    "new_fir_table.colnames"
   ]
  },
  {
   "cell_type": "code",
   "execution_count": null,
   "metadata": {},
   "outputs": [],
   "source": [
    "lofar_fir = join(lofar_orig,new_fir_table,keys='Source_Name',join_type='outer')"
   ]
  },
  {
   "cell_type": "code",
   "execution_count": null,
   "metadata": {},
   "outputs": [],
   "source": [
    "lofar_fir[0]"
   ]
  },
  {
   "cell_type": "code",
   "execution_count": null,
   "metadata": {},
   "outputs": [],
   "source": [
    "new_mask = ~lofar_fir['F_SPIRE_250_2'].mask\n",
    "mask = (~np.isnan(lofar_fir['F_SPIRE_250_1'][new_mask])) & (~np.isnan(lofar_fir['F_SPIRE_250_2'][new_mask]))\n",
    "\n",
    "x = np.log10(lofar_fir['F_SPIRE_250_1'][new_mask][mask])\n",
    "y = np.log10(lofar_fir['F_SPIRE_250_2'][new_mask][mask])\n",
    "plt.scatter(x,y)"
   ]
  },
  {
   "cell_type": "code",
   "execution_count": null,
   "metadata": {},
   "outputs": [],
   "source": [
    "Table.write(new_fir_table,'data/data_release/XID+_lofar_ELAIS-N1_v0.5.fits')"
   ]
  },
  {
   "cell_type": "code",
   "execution_count": null,
   "metadata": {},
   "outputs": [],
   "source": []
  },
  {
   "cell_type": "code",
   "execution_count": null,
   "metadata": {},
   "outputs": [],
   "source": []
  },
  {
   "cell_type": "code",
   "execution_count": null,
   "metadata": {},
   "outputs": [],
   "source": []
  },
  {
   "cell_type": "code",
   "execution_count": null,
   "metadata": {},
   "outputs": [],
   "source": []
  },
  {
   "cell_type": "code",
   "execution_count": null,
   "metadata": {},
   "outputs": [],
   "source": []
  },
  {
   "cell_type": "code",
   "execution_count": null,
   "metadata": {},
   "outputs": [],
   "source": [
    "for name in fir_table.colnames:\n",
    "\n",
    "    if 'Source' in name:\n",
    "        continue\n",
    "    if 'rerun' in name:\n",
    "        continue\n",
    "    mask = np.isnan(lofar_fir[name+'_1'])\n",
    "    lofar_fir[name+'_1'][mask] = lofar_fir[name+'_2'][mask]\n",
    "    lofar_fir.remove_column(name+'_2')\n",
    "\n",
    "for name in lofar_fir.colnames:\n",
    "    if name[-2:]=='_1':\n",
    "        lofar_fir.rename_column(name,name.replace('_1',''))\n",
    "    if name[-2:]=='_2':\n",
    "        lofar_fir.rename_column(name,name.replace('_2',''))"
   ]
  },
  {
   "cell_type": "code",
   "execution_count": null,
   "metadata": {},
   "outputs": [],
   "source": [
    "test = 'adadadtt'\n",
    "test[-2:]"
   ]
  },
  {
   "cell_type": "code",
   "execution_count": null,
   "metadata": {},
   "outputs": [],
   "source": [
    "Table.write(lofar_new_ids,'data/data_release/XID+_lofar_ELAIS-N1.fits',overwrite=True)"
   ]
  },
  {
   "cell_type": "markdown",
   "metadata": {},
   "source": [
    "### Running checks on the FIR fluxes to see how they compare with the crossmatched fluxes already in the LOFAR catalogue"
   ]
  },
  {
   "cell_type": "code",
   "execution_count": null,
   "metadata": {},
   "outputs": [],
   "source": [
    "lofar_cat = Table.read('data/data_release/final_cross_match_catalogue-v0.1.fits')"
   ]
  },
  {
   "cell_type": "code",
   "execution_count": null,
   "metadata": {},
   "outputs": [],
   "source": [
    "lofar_cat[0]"
   ]
  },
  {
   "cell_type": "code",
   "execution_count": null,
   "metadata": {},
   "outputs": [],
   "source": [
    "lofar_xid_join = join(lofar_cat,data_rerun_table,join_type='outer',keys='Source_Name')\n",
    "lofar_xid_join['XID+_rerun'] = ~lofar_xid_join['XID+_rerun'].mask"
   ]
  },
  {
   "cell_type": "code",
   "execution_count": null,
   "metadata": {},
   "outputs": [],
   "source": [
    "lofar_xid_join[:5]"
   ]
  },
  {
   "cell_type": "code",
   "execution_count": null,
   "metadata": {},
   "outputs": [],
   "source": [
    "bins = np.arange(0,1,0.01)\n",
    "dat = lofar_cat['Pval_res_250']\n",
    "plt.hist(dat,bins=bins,log=True,color='blue')\n",
    "\n",
    "dat = data_rerun_table['Pval_res_250']\n",
    "plt.hist(dat,bins=bins,log=True,color='red',alpha=0.4)\n",
    "\n",
    "plt.show()\n",
    "\n",
    "dat = lofar_cat['Pval_res_350']\n",
    "plt.hist(dat,bins=bins,log=True,color='blue')\n",
    "\n",
    "dat = data_rerun_table['Pval_res_350']\n",
    "plt.hist(dat,bins=bins,log=True,color='red',alpha=0.4)\n",
    "\n",
    "plt.show()\n",
    "\n",
    "dat = lofar_cat['Pval_res_500']\n",
    "plt.hist(dat,bins=bins,log=True,color='blue')\n",
    "\n",
    "dat = data_rerun_table['Pval_res_500']\n",
    "plt.hist(dat,bins=bins,log=True,color='red',alpha=0.4)\n",
    "\n",
    "plt.show()"
   ]
  },
  {
   "cell_type": "code",
   "execution_count": null,
   "metadata": {},
   "outputs": [],
   "source": [
    "mask = ~np.isnan(lofar_cat['F_SPIRE_250'])\n",
    "bins = np.arange(-5,-1,0.05)\n",
    "dat = np.log10(lofar_cat['Peak_flux'][mask])\n",
    "plt.hist(dat,bins=bins,log=True,color='blue')\n",
    "\n",
    "dat = np.log10(lofar_cat['Peak_flux'][~mask])\n",
    "plt.hist(dat,bins=bins,log=True,color='red')\n",
    "plt.show()"
   ]
  },
  {
   "cell_type": "code",
   "execution_count": null,
   "metadata": {},
   "outputs": [],
   "source": [
    "mask = ~np.isnan(lofar_cat['F_SPIRE_250'])\n",
    "bins = np.arange(-5,5,0.05)\n",
    "dat = np.log10(lofar_cat['ch1_swire_flux'][mask])\n",
    "plt.hist(dat,bins=bins,log=True,color='blue')\n",
    "\n",
    "dat = np.log10(lofar_cat['ch1_swire_flux'][~mask])\n",
    "plt.hist(dat,bins=bins,log=True,color='red',alpha=0.4)\n",
    "plt.show()"
   ]
  },
  {
   "cell_type": "code",
   "execution_count": null,
   "metadata": {},
   "outputs": [],
   "source": [
    "bins = np.arange(0,6000,100)\n",
    "dat = data_rerun_table['n_eff_SPIRE_250']\n",
    "plt.hist(dat,bins=bins,log=True)\n",
    "plt.vlines(40,0,1000)\n",
    "plt.show()"
   ]
  },
  {
   "cell_type": "code",
   "execution_count": null,
   "metadata": {},
   "outputs": [],
   "source": [
    "bins = np.arange(0.5,1.5,0.01)\n",
    "dat = data_rerun_table['Rhat_SPIRE_250']\n",
    "plt.hist(dat,bins=bins,log=True)\n",
    "plt.vlines(1.2,0,1000)\n",
    "plt.show()"
   ]
  },
  {
   "cell_type": "code",
   "execution_count": null,
   "metadata": {},
   "outputs": [],
   "source": [
    "len(lofar_xid_join)"
   ]
  },
  {
   "cell_type": "code",
   "execution_count": null,
   "metadata": {},
   "outputs": [],
   "source": [
    "mask = lofar_xid_join['XID+_rerun']\n",
    "bins = np.arange(0,5,0.1)\n",
    "\n",
    "#plt.hist(dat,bins=bins,log=True,color='blue')\n",
    "dist = cosmo.luminosity_distance(dat).to(u.m).value\n",
    "rad = np.log10(lofar_xid_join['Total_flux'][~mask])\n",
    "fir = np.log10(lofar_xid_join['F_SPIRE_250_1'][~mask])\n",
    "y = rad-fir\n",
    "print(len(y))\n",
    "plt.scatter(rad,y,s=1,c='red')\n",
    "\n",
    "\n",
    "#plt.hist(dat,bins=bins,log=True,color='red',alpha=0.4)\n",
    "rad = np.log10(lofar_xid_join['Total_flux'][mask])\n",
    "fir = np.log10(lofar_xid_join['F_SPIRE_250_1'][mask])\n",
    "y = rad-fir\n",
    "print(len(y))\n",
    "plt.scatter(rad,y,s=1,c='blue')\n",
    "plt.show()"
   ]
  },
  {
   "cell_type": "code",
   "execution_count": null,
   "metadata": {},
   "outputs": [],
   "source": [
    "mask = ~lofar_xid_join['XID+_rerun']\n",
    "x = np.log10(lofar_xid_join['Total_flux'][mask])\n",
    "y = np.log10(lofar_xid_join['F_MIPS_24'][mask]/lofar_xid_join['F_SPIRE_250_1'][mask])\n",
    "plt.scatter(x,y,s=1)\n",
    "plt.show()"
   ]
  },
  {
   "cell_type": "code",
   "execution_count": null,
   "metadata": {},
   "outputs": [],
   "source": [
    "mask = ~lofar_xid_join['XID+_rerun']\n",
    "x = lofar_xid_join['Maj'][mask]/lofar_xid_join['Min'][mask]\n",
    "print(len(x))\n",
    "y = np.log10(lofar_xid_join['Total_flux'][mask]/lofar_xid_join['F_SPIRE_250_1'][mask])\n",
    "plt.scatter(x,y,s=1)\n",
    "\n",
    "mask = lofar_xid_join['XID+_rerun']\n",
    "x = lofar_xid_join['Maj'][mask]/lofar_xid_join['Min'][mask]\n",
    "print(len(x))\n",
    "y = np.log10(lofar_xid_join['Total_flux'][mask]/lofar_xid_join['F_SPIRE_250_2'][mask])\n",
    "plt.scatter(x,y,s=1,c='red')\n",
    "\n",
    "plt.xlim(1,3)\n",
    "plt.xlabel('major_axis/minor_axis')\n",
    "plt.ylabel('radio-250')\n",
    "plt.show()\n",
    "\n",
    "mask = ~lofar_xid_join['XID+_rerun']\n",
    "x = lofar_xid_join['Total_flux'][mask]/lofar_xid_join['Peak_flux'][mask]\n",
    "y = np.log10(lofar_xid_join['Total_flux'][mask]/lofar_xid_join['F_SPIRE_250_1'][mask])\n",
    "plt.scatter(x,y,s=1)\n",
    "\n",
    "mask = lofar_xid_join['XID+_rerun']\n",
    "x = lofar_xid_join['Total_flux'][mask]/lofar_xid_join['Peak_flux'][mask]\n",
    "y = np.log10(lofar_xid_join['Total_flux'][mask]/lofar_xid_join['F_SPIRE_250_2'][mask])\n",
    "plt.scatter(x,y,s=1)\n",
    "\n",
    "plt.xlim(1,3)\n",
    "plt.xlabel('total_flux/peak_flux')\n",
    "plt.ylabel('radio-250')\n",
    "plt.show()"
   ]
  },
  {
   "cell_type": "code",
   "execution_count": null,
   "metadata": {},
   "outputs": [],
   "source": [
    "mask = ~np.isnan(lofar_cat['F_SPIRE_250']) #& (lofar_cat['z1_median']>z_bins[n]) & (lofar_cat['z1_median']<z_bins[n+1])\n",
    "c1 = np.log10(lofar_cat['ch3_swire_flux'][mask]/lofar_cat['ch1_swire_flux'][mask])\n",
    "c2 = np.log10(lofar_cat['ch4_swire_flux'][mask]/lofar_cat['ch2_swire_flux'][mask])\n",
    "plt.scatter(c1,c2,s=1)\n",
    "\n",
    "mask = np.isnan(lofar_cat['F_SPIRE_250']) #& (lofar_cat['z1_median']>z_bins[n]) & (lofar_cat['z1_median']<z_bins[n+1])\n",
    "c1 = np.log10(lofar_cat['ch3_swire_flux'][mask]/lofar_cat['ch1_swire_flux'][mask])\n",
    "c2 = np.log10(lofar_cat['ch4_swire_flux'][mask]/lofar_cat['ch2_swire_flux'][mask])\n",
    "z_col = lofar_cat['z1_median'][mask]\n",
    "z_bins = np.arange(0,4,0.5)\n",
    "z_binned = np.digitize(z_col,z_bins)\n",
    "#plt.scatter(c1[0],c2[0],s=100,c='red')\n",
    "plt.scatter(c1,c2,s=1)\n",
    "#plt.scatter(c1[0],c2[0],s=10,c='red')\n",
    "#plt.scatter(c1[0],c2[0],s=1,c=z_binned[0])\n",
    "\n",
    "\n",
    "plt.xlim(-1,2)\n",
    "plt.ylim(-1,2)\n",
    "plt.xlabel('irac3-irac1')\n",
    "plt.ylabel('irac4-irca2')\n",
    "#plt.title('{} < z < {}'.format(z_bins[n],z_bins[n+1]))\n",
    "plt.show()"
   ]
  },
  {
   "cell_type": "code",
   "execution_count": null,
   "metadata": {
    "scrolled": false
   },
   "outputs": [],
   "source": [
    "z_bins = np.arange(0,4,0.5)\n",
    "dist = cosmo.luminosity_distance(lofar_cat['z1_median']).to(u.m).value\n",
    "ch1_lum = lofar_cat['ch1_swire_flux']*4*np.pi*dist**2\n",
    "ch2_lum = lofar_cat['ch2_swire_flux']*4*np.pi*dist**2\n",
    "ch3_lum = lofar_cat['ch3_swire_flux']*4*np.pi*dist**2\n",
    "ch4_lum = lofar_cat['ch4_swire_flux']*4*np.pi*dist**2\n",
    "for n in range(len(z_bins)-1):\n",
    "    mask = ~np.isnan(lofar_cat['F_SPIRE_250']) & (lofar_cat['z1_median']>z_bins[n]) & (lofar_cat['z1_median']<z_bins[n+1])\n",
    "    c1 = np.log10(lofar_cat['ch3_swire_flux'][mask]/lofar_cat['ch1_swire_flux'][mask])\n",
    "    c2 = np.log10(lofar_cat['ch4_swire_flux'][mask]/lofar_cat['ch2_swire_flux'][mask])\n",
    "    plt.scatter(c1,c2,s=1)\n",
    "\n",
    "    mask = np.isnan(lofar_cat['F_SPIRE_250']) & (lofar_cat['z1_median']>z_bins[n]) & (lofar_cat['z1_median']<z_bins[n+1])\n",
    "    c1 = np.log10(lofar_cat['ch3_swire_flux'][mask]/lofar_cat['ch1_swire_flux'][mask])\n",
    "    c2 = np.log10(lofar_cat['ch4_swire_flux'][mask]/lofar_cat['ch2_swire_flux'][mask])\n",
    "    z_col = lofar_cat['z1_median'][mask]\n",
    "    z_bins = np.arange(0,4,0.5)\n",
    "    z_binned = np.digitize(z_col,z_bins)\n",
    "#plt.scatter(c1[0],c2[0],s=100,c='red')\n",
    "    plt.scatter(c1,c2,s=1)\n",
    "#plt.scatter(c1[0],c2[0],s=10,c='red')\n",
    "#plt.scatter(c1[0],c2[0],s=1,c=z_binned[0])\n",
    "\n",
    "\n",
    "    plt.xlim(-1,2)\n",
    "    plt.ylim(-1,2)\n",
    "    plt.xlabel('irac3-irac1')\n",
    "    plt.ylabel('irac4-irca2')\n",
    "    plt.title('{} < z < {}'.format(z_bins[n],z_bins[n+1]))\n",
    "    plt.show()"
   ]
  },
  {
   "cell_type": "code",
   "execution_count": null,
   "metadata": {},
   "outputs": [],
   "source": [
    "z_bins = np.arange(0,4,0.5)\n",
    "dist = cosmo.luminosity_distance(lofar_cat['z1_median']).to(u.m).value\n",
    "ch1_lum = lofar_cat['ch1_swire_flux']*4*np.pi*dist**2\n",
    "ch2_lum = lofar_cat['ch2_swire_flux']*4*np.pi*dist**2\n",
    "ch3_lum = lofar_cat['ch3_swire_flux']*4*np.pi*dist**2\n",
    "ch4_lum = lofar_cat['ch4_swire_flux']*4*np.pi*dist**2\n",
    "for n in range(len(z_bins)-1):\n",
    "    mask = ~np.isnan(lofar_cat['F_SPIRE_250']) & (lofar_cat['z1_median']>z_bins[n]) & (lofar_cat['z1_median']<z_bins[n+1])\n",
    "    c1 = np.log10(ch3_lum[mask]/ch1_lum[mask])\n",
    "    c2 = np.log10(ch4_lum[mask]/ch2_lum[mask])\n",
    "    plt.scatter(c1,c2,s=1)\n",
    "\n",
    "    mask = np.isnan(lofar_cat['F_SPIRE_250']) & (lofar_cat['z1_median']>z_bins[n]) & (lofar_cat['z1_median']<z_bins[n+1])\n",
    "    c1 = np.log10(ch3_lum[mask]/ch1_lum[mask])\n",
    "    c2 = np.log10(ch4_lum[mask]/ch2_lum[mask])\n",
    "    z_col = lofar_cat['z1_median'][mask]\n",
    "    z_bins = np.arange(0,4,0.5)\n",
    "    z_binned = np.digitize(z_col,z_bins)\n",
    "#plt.scatter(c1[0],c2[0],s=100,c='red')\n",
    "    plt.scatter(c1,c2,s=1)\n",
    "#plt.scatter(c1[0],c2[0],s=10,c='red')\n",
    "#plt.scatter(c1[0],c2[0],s=1,c=z_binned[0])\n",
    "\n",
    "\n",
    "    plt.xlim(-1,2)\n",
    "    plt.ylim(-1,2)\n",
    "    plt.xlabel('irac3-irac1')\n",
    "    plt.ylabel('irac4-irca2')\n",
    "    plt.title('{} < z < {}'.format(z_bins[n],z_bins[n+1]))\n",
    "    plt.show()"
   ]
  },
  {
   "cell_type": "code",
   "execution_count": null,
   "metadata": {},
   "outputs": [],
   "source": []
  }
 ],
 "metadata": {
  "kernelspec": {
   "display_name": "Python 3",
   "language": "python",
   "name": "python3"
  },
  "language_info": {
   "codemirror_mode": {
    "name": "ipython",
    "version": 3
   },
   "file_extension": ".py",
   "mimetype": "text/x-python",
   "name": "python",
   "nbconvert_exporter": "python",
   "pygments_lexer": "ipython3",
   "version": "3.6.7"
  }
 },
 "nbformat": 4,
 "nbformat_minor": 2
}
