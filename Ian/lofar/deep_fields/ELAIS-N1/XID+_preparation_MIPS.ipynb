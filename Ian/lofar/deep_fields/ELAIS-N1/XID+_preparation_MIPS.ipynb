{
 "cells": [
  {
   "cell_type": "markdown",
   "metadata": {},
   "source": [
    "# Notebook for preprocessing the LOFAR catalogues before XID+\n",
    "\n",
    "it outputs a modified LOFAR radio data table with two new columns. the first column is XID+_rerun and is a boolean array stating whether a source should ahve XID+ rerun or not. The second is a string column that says what where the fir for that source comes from."
   ]
  },
  {
   "cell_type": "code",
   "execution_count": 1,
   "metadata": {},
   "outputs": [],
   "source": [
    "from astropy.io import ascii, fits\n",
    "import astropy\n",
    "import pylab as plt\n",
    "%matplotlib inline\n",
    "from astropy import wcs\n",
    "from astropy.table import Table,Column,join,hstack,vstack\n",
    "from astropy.coordinates import SkyCoord\n",
    "from astropy import units as u\n",
    "import pymoc\n",
    "import glob\n",
    "from time import sleep\n",
    "import os\n",
    "\n",
    "\n",
    "import numpy as np\n",
    "import xidplus\n",
    "from xidplus import moc_routines\n",
    "import pickle\n",
    "import xidplus.catalogue as cat\n",
    "\n",
    "import sys\n",
    "#from herschelhelp_internal.utils import inMoc,flux_to_mag\n",
    "from xidplus.stan_fit import SPIRE\n",
    "\n",
    "import aplpy\n",
    "import seaborn as sns\n",
    "#sns.set(color_codes=True)\n",
    "import pandas as pd\n",
    "#sns.set_style(\"white\")\n",
    "import xidplus.posterior_maps as postmaps\n",
    "#from herschelhelp_internal.masterlist import merge_catalogues, nb_merge_dist_plot, specz_merge\n",
    "import pyvo as vo\n",
    "#from herschelhelp_internal.utils import inMoc\n",
    "\n",
    "\n"
   ]
  },
  {
   "cell_type": "code",
   "execution_count": 2,
   "metadata": {},
   "outputs": [],
   "source": [
    "def best_irac(swire,servs):\n",
    "    mask = np.isnan(swire)\n",
    "    swire[mask] = 10000\n",
    "    mask = np.isnan(servs)\n",
    "    servs[mask] = 10000\n",
    "    swire_mask = swire<servs\n",
    "    return(swire_mask)"
   ]
  },
  {
   "cell_type": "code",
   "execution_count": 8,
   "metadata": {},
   "outputs": [
    {
     "name": "stdout",
     "output_type": "stream",
     "text": [
      "807\n",
      "807\n"
     ]
    }
   ],
   "source": [
    "#Read in the LOFAR data and select sources with no FIR measurements from XID+\n",
    "lofar = Table.read('data/data_release/final_cross_match_catalogue-v0.5.fits')\n",
    "mask = (~np.isnan(lofar['F_MIPS_24']))\n",
    "lofar = lofar[~mask]\n",
    "\n",
    "ras = lofar['optRA']\n",
    "mask = np.isnan(ras)\n",
    "print(np.sum(mask))\n",
    "ras[mask] = lofar['RA'][mask]\n",
    "\n",
    "decs = lofar['optDec']\n",
    "mask = np.isnan(decs)\n",
    "print(np.sum(mask))\n",
    "decs[mask] = lofar['DEC'][mask]\n",
    "\n",
    "ids = lofar['Source_Name']"
   ]
  },
  {
   "cell_type": "code",
   "execution_count": 9,
   "metadata": {},
   "outputs": [
    {
     "data": {
      "text/plain": [
       "7530"
      ]
     },
     "execution_count": 9,
     "metadata": {},
     "output_type": "execute_result"
    }
   ],
   "source": [
    "len(lofar)"
   ]
  },
  {
   "cell_type": "code",
   "execution_count": 10,
   "metadata": {},
   "outputs": [],
   "source": [
    "#Read in the HELP masterlist and select the wanted columns\n",
    "columns = 'ra','dec','help_id','flag_optnir_det','f_irac_i1','f_irac_i2','f_irac_i3','f_irac_i4'\n",
    "masterlist = Table.read('../../../../../HELP/dmu_products/dmu32/dmu32_ELAIS-N1/data/ELAIS-N1_20171020.fits')\n",
    "help_masterlist = masterlist[columns]"
   ]
  },
  {
   "cell_type": "code",
   "execution_count": 11,
   "metadata": {},
   "outputs": [
    {
     "data": {
      "text/html": [
       "<i>Row index=0</i>\n",
       "<table id=\"table140735616687968\">\n",
       "<thead><tr><th>help_id</th><th>field</th><th>ra</th><th>dec</th><th>hp_idx</th><th>ebv</th><th>redshift</th><th>zspec</th><th>f_wfc_u</th><th>ferr_wfc_u</th><th>f_ap_wfc_u</th><th>ferr_ap_wfc_u</th><th>m_wfc_u</th><th>merr_wfc_u</th><th>m_ap_wfc_u</th><th>merr_ap_wfc_u</th><th>flag_wfc_u</th><th>f_megacam_u</th><th>ferr_megacam_u</th><th>f_ap_megacam_u</th><th>ferr_ap_megacam_u</th><th>m_megacam_u</th><th>merr_megacam_u</th><th>m_ap_megacam_u</th><th>merr_ap_megacam_u</th><th>flag_megacam_u</th><th>f_suprime_g</th><th>ferr_suprime_g</th><th>f_ap_suprime_g</th><th>ferr_ap_suprime_g</th><th>m_suprime_g</th><th>merr_suprime_g</th><th>m_ap_suprime_g</th><th>merr_ap_suprime_g</th><th>flag_suprime_g</th><th>f_megacam_g</th><th>ferr_megacam_g</th><th>f_ap_megacam_g</th><th>ferr_ap_megacam_g</th><th>m_megacam_g</th><th>merr_megacam_g</th><th>m_ap_megacam_g</th><th>merr_ap_megacam_g</th><th>flag_megacam_g</th><th>f_gpc1_g</th><th>ferr_gpc1_g</th><th>f_ap_gpc1_g</th><th>ferr_ap_gpc1_g</th><th>m_gpc1_g</th><th>merr_gpc1_g</th><th>m_ap_gpc1_g</th><th>merr_ap_gpc1_g</th><th>flag_gpc1_g</th><th>f_wfc_g</th><th>ferr_wfc_g</th><th>f_ap_wfc_g</th><th>ferr_ap_wfc_g</th><th>m_wfc_g</th><th>merr_wfc_g</th><th>m_ap_wfc_g</th><th>merr_ap_wfc_g</th><th>flag_wfc_g</th><th>f_suprime_r</th><th>ferr_suprime_r</th><th>f_ap_suprime_r</th><th>ferr_ap_suprime_r</th><th>m_suprime_r</th><th>merr_suprime_r</th><th>m_ap_suprime_r</th><th>merr_ap_suprime_r</th><th>flag_suprime_r</th><th>f_gpc1_r</th><th>ferr_gpc1_r</th><th>f_ap_gpc1_r</th><th>ferr_ap_gpc1_r</th><th>m_gpc1_r</th><th>merr_gpc1_r</th><th>m_ap_gpc1_r</th><th>merr_ap_gpc1_r</th><th>flag_gpc1_r</th><th>f_wfc_r</th><th>ferr_wfc_r</th><th>f_ap_wfc_r</th><th>ferr_ap_wfc_r</th><th>m_wfc_r</th><th>merr_wfc_r</th><th>m_ap_wfc_r</th><th>merr_ap_wfc_r</th><th>flag_wfc_r</th><th>f_megacam_r</th><th>ferr_megacam_r</th><th>f_ap_megacam_r</th><th>ferr_ap_megacam_r</th><th>m_megacam_r</th><th>merr_megacam_r</th><th>m_ap_megacam_r</th><th>merr_ap_megacam_r</th><th>flag_megacam_r</th><th>f_gpc1_i</th><th>ferr_gpc1_i</th><th>f_ap_gpc1_i</th><th>ferr_ap_gpc1_i</th><th>m_gpc1_i</th><th>merr_gpc1_i</th><th>m_ap_gpc1_i</th><th>merr_ap_gpc1_i</th><th>flag_gpc1_i</th><th>f_suprime_i</th><th>ferr_suprime_i</th><th>f_ap_suprime_i</th><th>ferr_ap_suprime_i</th><th>m_suprime_i</th><th>merr_suprime_i</th><th>m_ap_suprime_i</th><th>merr_ap_suprime_i</th><th>flag_suprime_i</th><th>f_wfc_i</th><th>ferr_wfc_i</th><th>f_ap_wfc_i</th><th>ferr_ap_wfc_i</th><th>m_wfc_i</th><th>merr_wfc_i</th><th>m_ap_wfc_i</th><th>merr_ap_wfc_i</th><th>flag_wfc_i</th><th>f_gpc1_z</th><th>ferr_gpc1_z</th><th>f_ap_gpc1_z</th><th>ferr_ap_gpc1_z</th><th>m_gpc1_z</th><th>merr_gpc1_z</th><th>m_ap_gpc1_z</th><th>merr_ap_gpc1_z</th><th>flag_gpc1_z</th><th>f_wfc_z</th><th>ferr_wfc_z</th><th>f_ap_wfc_z</th><th>ferr_ap_wfc_z</th><th>m_wfc_z</th><th>merr_wfc_z</th><th>m_ap_wfc_z</th><th>merr_ap_wfc_z</th><th>flag_wfc_z</th><th>f_megacam_z</th><th>ferr_megacam_z</th><th>f_ap_megacam_z</th><th>ferr_ap_megacam_z</th><th>m_megacam_z</th><th>merr_megacam_z</th><th>m_ap_megacam_z</th><th>merr_ap_megacam_z</th><th>flag_megacam_z</th><th>f_suprime_z</th><th>ferr_suprime_z</th><th>f_ap_suprime_z</th><th>ferr_ap_suprime_z</th><th>m_suprime_z</th><th>merr_suprime_z</th><th>m_ap_suprime_z</th><th>merr_ap_suprime_z</th><th>flag_suprime_z</th><th>f_suprime_n921</th><th>ferr_suprime_n921</th><th>f_ap_suprime_n921</th><th>ferr_ap_suprime_n921</th><th>m_suprime_n921</th><th>merr_suprime_n921</th><th>m_ap_suprime_n921</th><th>merr_ap_suprime_n921</th><th>flag_suprime_n921</th><th>f_gpc1_y</th><th>ferr_gpc1_y</th><th>f_ap_gpc1_y</th><th>ferr_ap_gpc1_y</th><th>m_gpc1_y</th><th>merr_gpc1_y</th><th>m_ap_gpc1_y</th><th>merr_ap_gpc1_y</th><th>flag_gpc1_y</th><th>f_suprime_y</th><th>ferr_suprime_y</th><th>f_ap_suprime_y</th><th>ferr_ap_suprime_y</th><th>m_suprime_y</th><th>merr_suprime_y</th><th>m_ap_suprime_y</th><th>merr_ap_suprime_y</th><th>flag_suprime_y</th><th>f_ukidss_j</th><th>ferr_ukidss_j</th><th>f_ap_ukidss_j</th><th>ferr_ap_ukidss_j</th><th>m_ukidss_j</th><th>merr_ukidss_j</th><th>m_ap_ukidss_j</th><th>merr_ap_ukidss_j</th><th>flag_ukidss_j</th><th>f_ukidss_k</th><th>ferr_ukidss_k</th><th>f_ap_ukidss_k</th><th>ferr_ap_ukidss_k</th><th>m_ukidss_k</th><th>merr_ukidss_k</th><th>m_ap_ukidss_k</th><th>merr_ap_ukidss_k</th><th>flag_ukidss_k</th><th>f_irac_i1</th><th>ferr_irac_i1</th><th>f_ap_irac_i1</th><th>ferr_ap_irac_i1</th><th>m_irac_i1</th><th>merr_irac_i1</th><th>m_ap_irac_i1</th><th>merr_ap_irac_i1</th><th>flag_irac_i1</th><th>f_irac_i2</th><th>ferr_irac_i2</th><th>f_ap_irac_i2</th><th>ferr_ap_irac_i2</th><th>m_irac_i2</th><th>merr_irac_i2</th><th>m_ap_irac_i2</th><th>merr_ap_irac_i2</th><th>flag_irac_i2</th><th>f_irac_i3</th><th>ferr_irac_i3</th><th>f_ap_irac_i3</th><th>ferr_ap_irac_i3</th><th>m_irac_i3</th><th>merr_irac_i3</th><th>m_ap_irac_i3</th><th>merr_ap_irac_i3</th><th>flag_irac_i3</th><th>f_irac_i4</th><th>ferr_irac_i4</th><th>f_ap_irac_i4</th><th>ferr_ap_irac_i4</th><th>m_irac_i4</th><th>merr_irac_i4</th><th>m_ap_irac_i4</th><th>merr_ap_irac_i4</th><th>flag_irac_i4</th><th>f_mips_24</th><th>ferr_mips_24</th><th>flag_mips_24</th><th>f_pacs_green</th><th>ferr_pacs_green</th><th>flag_pacs_green</th><th>f_pacs_red</th><th>ferr_pacs_red</th><th>flag_pacs_red</th><th>f_spire_250</th><th>ferr_spire_250</th><th>flag_spire_250</th><th>f_spire_350</th><th>ferr_spire_350</th><th>flag_spire_350</th><th>f_spire_500</th><th>ferr_spire_500</th><th>flag_spire_500</th><th>cigale_mstar</th><th>cigale_mstar_err</th><th>cigale_sfr</th><th>cigale_sfr_err</th><th>cigale_dustlumin</th><th>cigale_dustlumin_err</th><th>cigale_dustlumin_ironly</th><th>cigale_dustlumin_ironly_err</th><th>flag_cigale</th><th>flag_cigale_opt</th><th>flag_cigale_ir</th><th>flag_cigale_ironly</th><th>stellarity</th><th>stellarity_origin</th><th>flag_cleaned</th><th>flag_merged</th><th>flag_gaia</th><th>flag_optnir_obs</th><th>flag_optnir_det</th><th>zspec_qual</th><th>zspec_association_flag</th></tr></thead>\n",
       "<thead><tr><th></th><th></th><th>deg</th><th>deg</th><th></th><th></th><th></th><th></th><th></th><th></th><th></th><th></th><th></th><th></th><th></th><th></th><th></th><th></th><th></th><th></th><th></th><th>mag</th><th>mag</th><th></th><th></th><th></th><th></th><th></th><th></th><th></th><th></th><th></th><th></th><th></th><th></th><th></th><th></th><th></th><th></th><th>mag</th><th>mag</th><th></th><th></th><th></th><th></th><th></th><th></th><th></th><th></th><th></th><th></th><th></th><th></th><th></th><th></th><th></th><th></th><th></th><th></th><th></th><th></th><th></th><th></th><th></th><th></th><th></th><th></th><th></th><th></th><th></th><th></th><th></th><th></th><th></th><th></th><th></th><th></th><th></th><th></th><th></th><th></th><th></th><th></th><th></th><th></th><th></th><th></th><th></th><th></th><th></th><th></th><th></th><th></th><th>mag</th><th>mag</th><th></th><th></th><th></th><th></th><th></th><th></th><th></th><th></th><th></th><th></th><th></th><th></th><th></th><th></th><th></th><th></th><th></th><th></th><th></th><th></th><th></th><th></th><th></th><th></th><th></th><th></th><th></th><th></th><th></th><th></th><th></th><th></th><th></th><th></th><th></th><th></th><th></th><th></th><th></th><th></th><th></th><th></th><th></th><th></th><th></th><th></th><th></th><th></th><th></th><th></th><th></th><th></th><th>mag</th><th>mag</th><th></th><th></th><th></th><th></th><th></th><th></th><th></th><th></th><th></th><th></th><th></th><th></th><th></th><th></th><th></th><th></th><th></th><th></th><th></th><th></th><th></th><th></th><th></th><th></th><th></th><th></th><th></th><th></th><th></th><th></th><th></th><th></th><th></th><th></th><th></th><th></th><th></th><th></th><th></th><th></th><th></th><th></th><th></th><th></th><th></th><th></th><th></th><th></th><th></th><th></th><th></th><th></th><th></th><th></th><th></th><th></th><th></th><th></th><th></th><th></th><th></th><th></th><th></th><th></th><th></th><th></th><th></th><th></th><th></th><th></th><th></th><th></th><th></th><th></th><th></th><th>uJy</th><th>uJy</th><th>uJy</th><th>uJy</th><th></th><th></th><th></th><th></th><th></th><th>uJy</th><th>uJy</th><th>uJy</th><th>uJy</th><th></th><th></th><th></th><th></th><th></th><th></th><th></th><th></th><th>mJy</th><th></th><th></th><th>mJy</th><th></th><th></th><th></th><th></th><th></th><th></th><th></th><th></th><th></th><th></th><th></th><th></th><th></th><th></th><th></th><th></th><th></th><th></th><th></th><th></th><th></th><th></th><th></th><th></th><th></th><th></th><th></th><th></th><th></th><th></th><th></th><th></th></tr></thead>\n",
       "<thead><tr><th>bytes1728</th><th>bytes18</th><th>float64</th><th>float64</th><th>int64</th><th>float64</th><th>float64</th><th>float64</th><th>float32</th><th>float32</th><th>float32</th><th>float32</th><th>float32</th><th>float32</th><th>float32</th><th>float32</th><th>bool</th><th>float32</th><th>float32</th><th>float32</th><th>float32</th><th>float32</th><th>float32</th><th>float32</th><th>float32</th><th>bool</th><th>float32</th><th>float32</th><th>float32</th><th>float32</th><th>float32</th><th>float32</th><th>float32</th><th>float32</th><th>bool</th><th>float32</th><th>float32</th><th>float32</th><th>float32</th><th>float32</th><th>float32</th><th>float32</th><th>float32</th><th>bool</th><th>float64</th><th>float64</th><th>float64</th><th>float64</th><th>float64</th><th>float64</th><th>float64</th><th>float64</th><th>bool</th><th>float32</th><th>float32</th><th>float32</th><th>float32</th><th>float32</th><th>float32</th><th>float32</th><th>float32</th><th>bool</th><th>float32</th><th>float32</th><th>float32</th><th>float32</th><th>float32</th><th>float32</th><th>float32</th><th>float32</th><th>bool</th><th>float64</th><th>float64</th><th>float64</th><th>float64</th><th>float64</th><th>float64</th><th>float64</th><th>float64</th><th>bool</th><th>float32</th><th>float32</th><th>float32</th><th>float32</th><th>float32</th><th>float32</th><th>float32</th><th>float32</th><th>bool</th><th>float32</th><th>float32</th><th>float32</th><th>float32</th><th>float32</th><th>float32</th><th>float32</th><th>float32</th><th>bool</th><th>float64</th><th>float64</th><th>float64</th><th>float64</th><th>float64</th><th>float64</th><th>float64</th><th>float64</th><th>bool</th><th>float32</th><th>float32</th><th>float32</th><th>float32</th><th>float32</th><th>float32</th><th>float32</th><th>float32</th><th>bool</th><th>float32</th><th>float32</th><th>float32</th><th>float32</th><th>float32</th><th>float32</th><th>float32</th><th>float32</th><th>bool</th><th>float64</th><th>float64</th><th>float64</th><th>float64</th><th>float64</th><th>float64</th><th>float64</th><th>float64</th><th>bool</th><th>float32</th><th>float64</th><th>float32</th><th>float32</th><th>float32</th><th>float64</th><th>float32</th><th>float32</th><th>bool</th><th>float32</th><th>float32</th><th>float32</th><th>float32</th><th>float32</th><th>float32</th><th>float32</th><th>float32</th><th>bool</th><th>float32</th><th>float32</th><th>float32</th><th>float32</th><th>float32</th><th>float32</th><th>float32</th><th>float32</th><th>bool</th><th>float32</th><th>float32</th><th>float32</th><th>float32</th><th>float32</th><th>float32</th><th>float32</th><th>float32</th><th>bool</th><th>float64</th><th>float64</th><th>float64</th><th>float64</th><th>float64</th><th>float64</th><th>float64</th><th>float64</th><th>bool</th><th>float32</th><th>float32</th><th>float32</th><th>float32</th><th>float32</th><th>float32</th><th>float32</th><th>float32</th><th>bool</th><th>float32</th><th>float32</th><th>float32</th><th>float32</th><th>float32</th><th>float32</th><th>float32</th><th>float32</th><th>bool</th><th>float32</th><th>float32</th><th>float32</th><th>float32</th><th>float32</th><th>float32</th><th>float32</th><th>float32</th><th>bool</th><th>float64</th><th>float64</th><th>float64</th><th>float64</th><th>float64</th><th>float64</th><th>float64</th><th>float64</th><th>bool</th><th>float64</th><th>float64</th><th>float64</th><th>float64</th><th>float64</th><th>float64</th><th>float64</th><th>float64</th><th>bool</th><th>float64</th><th>float64</th><th>float64</th><th>float64</th><th>float64</th><th>float64</th><th>float64</th><th>float64</th><th>bool</th><th>float64</th><th>float64</th><th>float64</th><th>float64</th><th>float64</th><th>float64</th><th>float64</th><th>float64</th><th>bool</th><th>float64</th><th>float64</th><th>bool</th><th>float32</th><th>float32</th><th>bool</th><th>float32</th><th>float32</th><th>bool</th><th>float64</th><th>float64</th><th>bool</th><th>float64</th><th>float64</th><th>bool</th><th>float64</th><th>float64</th><th>bool</th><th>float64</th><th>float64</th><th>float64</th><th>float64</th><th>float64</th><th>float64</th><th>float64</th><th>float64</th><th>int64</th><th>int64</th><th>int64</th><th>int64</th><th>float64</th><th>bytes20</th><th>bool</th><th>bool</th><th>int64</th><th>int64</th><th>int64</th><th>int64</th><th>bool</th></tr></thead>\n",
       "<tr><td>HELP_J155418.784+543407.882</td><td>ELAIS-N1</td><td>238.57826759648933</td><td>54.56885615281104</td><td>185954002</td><td>0.011995937635844039</td><td>nan</td><td>nan</td><td>nan</td><td>nan</td><td>nan</td><td>nan</td><td>nan</td><td>nan</td><td>nan</td><td>nan</td><td>False</td><td>0.052950293</td><td>0.0058535454</td><td>0.07030216</td><td>0.0090578</td><td>27.090328</td><td>0.120025896</td><td>26.782578</td><td>0.13988735</td><td>False</td><td>nan</td><td>nan</td><td>nan</td><td>nan</td><td>nan</td><td>nan</td><td>nan</td><td>nan</td><td>False</td><td>0.121258214</td><td>0.003944644</td><td>0.17838292</td><td>0.006219942</td><td>26.190722</td><td>0.03532002</td><td>25.771616</td><td>0.037857976</td><td>False</td><td>nan</td><td>nan</td><td>nan</td><td>nan</td><td>nan</td><td>nan</td><td>nan</td><td>nan</td><td>False</td><td>nan</td><td>nan</td><td>nan</td><td>nan</td><td>nan</td><td>nan</td><td>nan</td><td>nan</td><td>False</td><td>nan</td><td>nan</td><td>nan</td><td>nan</td><td>nan</td><td>nan</td><td>nan</td><td>nan</td><td>False</td><td>nan</td><td>nan</td><td>nan</td><td>nan</td><td>nan</td><td>nan</td><td>nan</td><td>nan</td><td>False</td><td>nan</td><td>nan</td><td>nan</td><td>nan</td><td>nan</td><td>nan</td><td>nan</td><td>nan</td><td>False</td><td>0.1222928</td><td>0.006793976</td><td>0.17545353</td><td>0.010554355</td><td>26.181498</td><td>0.06031807</td><td>25.789595</td><td>0.06531214</td><td>False</td><td>nan</td><td>nan</td><td>nan</td><td>nan</td><td>nan</td><td>nan</td><td>nan</td><td>nan</td><td>False</td><td>nan</td><td>nan</td><td>nan</td><td>nan</td><td>nan</td><td>nan</td><td>nan</td><td>nan</td><td>False</td><td>nan</td><td>nan</td><td>nan</td><td>nan</td><td>nan</td><td>nan</td><td>nan</td><td>nan</td><td>False</td><td>nan</td><td>nan</td><td>nan</td><td>nan</td><td>nan</td><td>nan</td><td>nan</td><td>nan</td><td>False</td><td>nan</td><td>nan</td><td>nan</td><td>nan</td><td>nan</td><td>nan</td><td>nan</td><td>nan</td><td>False</td><td>nan</td><td>nan</td><td>nan</td><td>nan</td><td>nan</td><td>nan</td><td>nan</td><td>nan</td><td>False</td><td>nan</td><td>nan</td><td>nan</td><td>nan</td><td>nan</td><td>nan</td><td>nan</td><td>nan</td><td>False</td><td>nan</td><td>nan</td><td>nan</td><td>nan</td><td>nan</td><td>nan</td><td>nan</td><td>nan</td><td>False</td><td>nan</td><td>nan</td><td>nan</td><td>nan</td><td>nan</td><td>nan</td><td>nan</td><td>nan</td><td>False</td><td>nan</td><td>nan</td><td>nan</td><td>nan</td><td>nan</td><td>nan</td><td>nan</td><td>nan</td><td>False</td><td>nan</td><td>nan</td><td>nan</td><td>nan</td><td>nan</td><td>nan</td><td>nan</td><td>nan</td><td>False</td><td>nan</td><td>nan</td><td>nan</td><td>nan</td><td>nan</td><td>nan</td><td>nan</td><td>nan</td><td>False</td><td>nan</td><td>nan</td><td>nan</td><td>nan</td><td>nan</td><td>nan</td><td>nan</td><td>nan</td><td>False</td><td>nan</td><td>nan</td><td>nan</td><td>nan</td><td>nan</td><td>nan</td><td>nan</td><td>nan</td><td>False</td><td>nan</td><td>nan</td><td>nan</td><td>nan</td><td>nan</td><td>nan</td><td>nan</td><td>nan</td><td>False</td><td>nan</td><td>nan</td><td>nan</td><td>nan</td><td>nan</td><td>nan</td><td>nan</td><td>nan</td><td>False</td><td>nan</td><td>nan</td><td>False</td><td>nan</td><td>nan</td><td>False</td><td>nan</td><td>nan</td><td>False</td><td>nan</td><td>nan</td><td>False</td><td>nan</td><td>nan</td><td>False</td><td>nan</td><td>nan</td><td>False</td><td>nan</td><td>nan</td><td>nan</td><td>nan</td><td>nan</td><td>nan</td><td>nan</td><td>nan</td><td>-1</td><td>-1</td><td>-1</td><td>-1</td><td>0.39845868945121765</td><td>SPARCS</td><td>False</td><td>False</td><td>0</td><td>1</td><td>0</td><td>-99</td><td>False</td></tr>\n",
       "</table>"
      ],
      "text/plain": [
       "<Row index=0>\n",
       "          help_id            field           ra                dec          hp_idx          ebv          redshift  zspec  f_wfc_u ferr_wfc_u f_ap_wfc_u ferr_ap_wfc_u m_wfc_u merr_wfc_u m_ap_wfc_u merr_ap_wfc_u flag_wfc_u f_megacam_u ferr_megacam_u f_ap_megacam_u ferr_ap_megacam_u m_megacam_u merr_megacam_u m_ap_megacam_u merr_ap_megacam_u flag_megacam_u f_suprime_g ferr_suprime_g f_ap_suprime_g ferr_ap_suprime_g m_suprime_g merr_suprime_g m_ap_suprime_g merr_ap_suprime_g flag_suprime_g f_megacam_g ferr_megacam_g f_ap_megacam_g ferr_ap_megacam_g m_megacam_g merr_megacam_g m_ap_megacam_g merr_ap_megacam_g flag_megacam_g f_gpc1_g ferr_gpc1_g f_ap_gpc1_g ferr_ap_gpc1_g m_gpc1_g merr_gpc1_g m_ap_gpc1_g merr_ap_gpc1_g flag_gpc1_g f_wfc_g ferr_wfc_g f_ap_wfc_g ferr_ap_wfc_g m_wfc_g merr_wfc_g m_ap_wfc_g merr_ap_wfc_g flag_wfc_g f_suprime_r ferr_suprime_r f_ap_suprime_r ferr_ap_suprime_r m_suprime_r merr_suprime_r m_ap_suprime_r merr_ap_suprime_r flag_suprime_r f_gpc1_r ferr_gpc1_r f_ap_gpc1_r ferr_ap_gpc1_r m_gpc1_r merr_gpc1_r m_ap_gpc1_r merr_ap_gpc1_r flag_gpc1_r f_wfc_r ferr_wfc_r f_ap_wfc_r ferr_ap_wfc_r m_wfc_r merr_wfc_r m_ap_wfc_r merr_ap_wfc_r flag_wfc_r f_megacam_r ferr_megacam_r f_ap_megacam_r ferr_ap_megacam_r m_megacam_r merr_megacam_r m_ap_megacam_r merr_ap_megacam_r flag_megacam_r f_gpc1_i ferr_gpc1_i f_ap_gpc1_i ferr_ap_gpc1_i m_gpc1_i merr_gpc1_i m_ap_gpc1_i merr_ap_gpc1_i flag_gpc1_i f_suprime_i ferr_suprime_i f_ap_suprime_i ferr_ap_suprime_i m_suprime_i merr_suprime_i m_ap_suprime_i merr_ap_suprime_i flag_suprime_i f_wfc_i ferr_wfc_i f_ap_wfc_i ferr_ap_wfc_i m_wfc_i merr_wfc_i m_ap_wfc_i merr_ap_wfc_i flag_wfc_i f_gpc1_z ferr_gpc1_z f_ap_gpc1_z ferr_ap_gpc1_z m_gpc1_z merr_gpc1_z m_ap_gpc1_z merr_ap_gpc1_z flag_gpc1_z f_wfc_z ferr_wfc_z f_ap_wfc_z ferr_ap_wfc_z m_wfc_z merr_wfc_z m_ap_wfc_z merr_ap_wfc_z flag_wfc_z f_megacam_z ferr_megacam_z f_ap_megacam_z ferr_ap_megacam_z m_megacam_z merr_megacam_z m_ap_megacam_z merr_ap_megacam_z flag_megacam_z f_suprime_z ferr_suprime_z f_ap_suprime_z ferr_ap_suprime_z m_suprime_z merr_suprime_z m_ap_suprime_z merr_ap_suprime_z flag_suprime_z f_suprime_n921 ferr_suprime_n921 f_ap_suprime_n921 ferr_ap_suprime_n921 m_suprime_n921 merr_suprime_n921 m_ap_suprime_n921 merr_ap_suprime_n921 flag_suprime_n921 f_gpc1_y ferr_gpc1_y f_ap_gpc1_y ferr_ap_gpc1_y m_gpc1_y merr_gpc1_y m_ap_gpc1_y merr_ap_gpc1_y flag_gpc1_y f_suprime_y ferr_suprime_y f_ap_suprime_y ferr_ap_suprime_y m_suprime_y merr_suprime_y m_ap_suprime_y merr_ap_suprime_y flag_suprime_y f_ukidss_j ferr_ukidss_j f_ap_ukidss_j ferr_ap_ukidss_j m_ukidss_j merr_ukidss_j m_ap_ukidss_j merr_ap_ukidss_j flag_ukidss_j f_ukidss_k ferr_ukidss_k f_ap_ukidss_k ferr_ap_ukidss_k m_ukidss_k merr_ukidss_k m_ap_ukidss_k merr_ap_ukidss_k flag_ukidss_k f_irac_i1 ferr_irac_i1 f_ap_irac_i1 ferr_ap_irac_i1 m_irac_i1 merr_irac_i1 m_ap_irac_i1 merr_ap_irac_i1 flag_irac_i1 f_irac_i2 ferr_irac_i2 f_ap_irac_i2 ferr_ap_irac_i2 m_irac_i2 merr_irac_i2 m_ap_irac_i2 merr_ap_irac_i2 flag_irac_i2 f_irac_i3 ferr_irac_i3 f_ap_irac_i3 ferr_ap_irac_i3 m_irac_i3 merr_irac_i3 m_ap_irac_i3 merr_ap_irac_i3 flag_irac_i3 f_irac_i4 ferr_irac_i4 f_ap_irac_i4 ferr_ap_irac_i4 m_irac_i4 merr_irac_i4 m_ap_irac_i4 merr_ap_irac_i4 flag_irac_i4 f_mips_24 ferr_mips_24 flag_mips_24 f_pacs_green ferr_pacs_green flag_pacs_green f_pacs_red ferr_pacs_red flag_pacs_red f_spire_250 ferr_spire_250 flag_spire_250 f_spire_350 ferr_spire_350 flag_spire_350 f_spire_500 ferr_spire_500 flag_spire_500 cigale_mstar cigale_mstar_err cigale_sfr cigale_sfr_err cigale_dustlumin cigale_dustlumin_err cigale_dustlumin_ironly cigale_dustlumin_ironly_err flag_cigale flag_cigale_opt flag_cigale_ir flag_cigale_ironly      stellarity     stellarity_origin flag_cleaned flag_merged flag_gaia flag_optnir_obs flag_optnir_det zspec_qual zspec_association_flag\n",
       "                                            deg                deg                                                                                                                                                                                                                           mag          mag                                                                                                                                                                                                                                                              mag          mag                                                                                                                                                                                                                                                                                                                                                                                                                                                                                                                                                                                                                                                                                            mag          mag                                                                                                                                                                                                                                                                                                                                                                                                                                                                                                                                                                                                                                                                                            mag          mag                                                                                                                                                                                                                                                                                                                                                                                                                                                                                                                                                                                                                                                                                                                                                                                                                                                                                                                                                                                                                                                                                                                            uJy        uJy          uJy            uJy                                                                           uJy        uJy          uJy            uJy                                                                                                                mJy                                         mJy                                                                                                                                                                                                                                                                                                                                                                                                                                                                                                                         \n",
       "         bytes1728          bytes18       float64            float64        int64         float64        float64  float64 float32  float32    float32      float32    float32  float32    float32      float32       bool      float32      float32        float32          float32        float32      float32        float32          float32           bool        float32      float32        float32          float32        float32      float32        float32          float32           bool        float32      float32        float32          float32        float32      float32        float32          float32           bool      float64    float64     float64      float64     float64    float64     float64      float64         bool    float32  float32    float32      float32    float32  float32    float32      float32       bool      float32      float32        float32          float32        float32      float32        float32          float32           bool      float64    float64     float64      float64     float64    float64     float64      float64         bool    float32  float32    float32      float32    float32  float32    float32      float32       bool      float32      float32        float32          float32        float32      float32        float32          float32           bool      float64    float64     float64      float64     float64    float64     float64      float64         bool      float32      float32        float32          float32        float32      float32        float32          float32           bool      float32  float32    float32      float32    float32  float32    float32      float32       bool    float64    float64     float64      float64     float64    float64     float64      float64         bool    float32  float64    float32      float32    float32  float64    float32      float32       bool      float32      float32        float32          float32        float32      float32        float32          float32           bool        float32      float32        float32          float32        float32      float32        float32          float32           bool         float32          float32           float32            float32           float32          float32           float32            float32               bool       float64    float64     float64      float64     float64    float64     float64      float64         bool      float32      float32        float32          float32        float32      float32        float32          float32           bool       float32      float32       float32        float32       float32      float32       float32        float32           bool      float32      float32       float32        float32       float32      float32       float32        float32           bool      float64    float64      float64        float64      float64    float64      float64        float64         bool      float64    float64      float64        float64      float64    float64      float64        float64         bool      float64    float64      float64        float64      float64    float64      float64        float64         bool      float64    float64      float64        float64      float64    float64      float64        float64         bool      float64    float64        bool       float32        float32           bool       float32      float32         bool       float64      float64          bool        float64      float64          bool        float64      float64          bool        float64        float64       float64      float64         float64            float64                float64                   float64              int64         int64          int64            int64              float64            bytes20          bool         bool      int64        int64           int64        int64             bool         \n",
       "--------------------------- -------- ------------------ ----------------- --------- -------------------- -------- ------- ------- ---------- ---------- ------------- ------- ---------- ---------- ------------- ---------- ----------- -------------- -------------- ----------------- ----------- -------------- -------------- ----------------- -------------- ----------- -------------- -------------- ----------------- ----------- -------------- -------------- ----------------- -------------- ----------- -------------- -------------- ----------------- ----------- -------------- -------------- ----------------- -------------- -------- ----------- ----------- -------------- -------- ----------- ----------- -------------- ----------- ------- ---------- ---------- ------------- ------- ---------- ---------- ------------- ---------- ----------- -------------- -------------- ----------------- ----------- -------------- -------------- ----------------- -------------- -------- ----------- ----------- -------------- -------- ----------- ----------- -------------- ----------- ------- ---------- ---------- ------------- ------- ---------- ---------- ------------- ---------- ----------- -------------- -------------- ----------------- ----------- -------------- -------------- ----------------- -------------- -------- ----------- ----------- -------------- -------- ----------- ----------- -------------- ----------- ----------- -------------- -------------- ----------------- ----------- -------------- -------------- ----------------- -------------- ------- ---------- ---------- ------------- ------- ---------- ---------- ------------- ---------- -------- ----------- ----------- -------------- -------- ----------- ----------- -------------- ----------- ------- ---------- ---------- ------------- ------- ---------- ---------- ------------- ---------- ----------- -------------- -------------- ----------------- ----------- -------------- -------------- ----------------- -------------- ----------- -------------- -------------- ----------------- ----------- -------------- -------------- ----------------- -------------- -------------- ----------------- ----------------- -------------------- -------------- ----------------- ----------------- -------------------- ----------------- -------- ----------- ----------- -------------- -------- ----------- ----------- -------------- ----------- ----------- -------------- -------------- ----------------- ----------- -------------- -------------- ----------------- -------------- ---------- ------------- ------------- ---------------- ---------- ------------- ------------- ---------------- ------------- ---------- ------------- ------------- ---------------- ---------- ------------- ------------- ---------------- ------------- --------- ------------ ------------ --------------- --------- ------------ ------------ --------------- ------------ --------- ------------ ------------ --------------- --------- ------------ ------------ --------------- ------------ --------- ------------ ------------ --------------- --------- ------------ ------------ --------------- ------------ --------- ------------ ------------ --------------- --------- ------------ ------------ --------------- ------------ --------- ------------ ------------ ------------ --------------- --------------- ---------- ------------- ------------- ----------- -------------- -------------- ----------- -------------- -------------- ----------- -------------- -------------- ------------ ---------------- ---------- -------------- ---------------- -------------------- ----------------------- --------------------------- ----------- --------------- -------------- ------------------ ------------------- ----------------- ------------ ----------- --------- --------------- --------------- ---------- ----------------------\n",
       "HELP_J155418.784+543407.882 ELAIS-N1 238.57826759648933 54.56885615281104 185954002 0.011995937635844039      nan     nan     nan        nan        nan           nan     nan        nan        nan           nan      False 0.052950293   0.0058535454     0.07030216         0.0090578   27.090328    0.120025896      26.782578        0.13988735          False         nan            nan            nan               nan         nan            nan            nan               nan          False 0.121258214    0.003944644     0.17838292       0.006219942   26.190722     0.03532002      25.771616       0.037857976          False      nan         nan         nan            nan      nan         nan         nan            nan       False     nan        nan        nan           nan     nan        nan        nan           nan      False         nan            nan            nan               nan         nan            nan            nan               nan          False      nan         nan         nan            nan      nan         nan         nan            nan       False     nan        nan        nan           nan     nan        nan        nan           nan      False   0.1222928    0.006793976     0.17545353       0.010554355   26.181498     0.06031807      25.789595        0.06531214          False      nan         nan         nan            nan      nan         nan         nan            nan       False         nan            nan            nan               nan         nan            nan            nan               nan          False     nan        nan        nan           nan     nan        nan        nan           nan      False      nan         nan         nan            nan      nan         nan         nan            nan       False     nan        nan        nan           nan     nan        nan        nan           nan      False         nan            nan            nan               nan         nan            nan            nan               nan          False         nan            nan            nan               nan         nan            nan            nan               nan          False            nan               nan               nan                  nan            nan               nan               nan                  nan             False      nan         nan         nan            nan      nan         nan         nan            nan       False         nan            nan            nan               nan         nan            nan            nan               nan          False        nan           nan           nan              nan        nan           nan           nan              nan         False        nan           nan           nan              nan        nan           nan           nan              nan         False       nan          nan          nan             nan       nan          nan          nan             nan        False       nan          nan          nan             nan       nan          nan          nan             nan        False       nan          nan          nan             nan       nan          nan          nan             nan        False       nan          nan          nan             nan       nan          nan          nan             nan        False       nan          nan        False          nan             nan           False        nan           nan         False         nan            nan          False         nan            nan          False         nan            nan          False          nan              nan        nan            nan              nan                  nan                     nan                         nan          -1              -1             -1                 -1 0.39845868945121765            SPARCS        False       False         0               1               0        -99                  False"
      ]
     },
     "execution_count": 11,
     "metadata": {},
     "output_type": "execute_result"
    }
   ],
   "source": [
    "masterlist[0]"
   ]
  },
  {
   "cell_type": "code",
   "execution_count": 12,
   "metadata": {},
   "outputs": [
    {
     "data": {
      "text/html": [
       "<i>Row index=0 masked=True</i>\n",
       "<table id=\"table140735669888000\">\n",
       "<thead><tr><th>Source_Name</th><th>RA</th><th>DEC</th><th>E_RA</th><th>E_DEC</th><th>Total_flux</th><th>E_Total_flux</th><th>Peak_flux</th><th>E_Peak_flux</th><th>S_Code</th><th>Maj</th><th>Min</th><th>PA</th><th>E_Maj</th><th>E_Min</th><th>E_PA</th><th>DC_Maj</th><th>DC_Min</th><th>DC_PA</th><th>Isl_rms</th><th>FLAG_WORKFLOW</th><th>Prefilter</th><th>NoID</th><th>lr_fin</th><th>optRA</th><th>optDec</th><th>LGZ_Size</th><th>LGZ_Width</th><th>LGZ_PA</th><th>Assoc</th><th>Assoc_Qual</th><th>Art_prob</th><th>Blend_prob</th><th>Hostbroken_prob</th><th>Imagemissing_prob</th><th>Zoom_prob</th><th>Created</th><th>Position_from</th><th>Renamed_from</th><th>FLAG_OVERLAP_RADIO</th><th>flag_clean_radio</th><th>ID</th><th>X_IMAGE</th><th>Y_IMAGE</th><th>ALPHA_J2000</th><th>DELTA_J2000</th><th>flag_clean</th><th>ID_OPTICAL</th><th>ID_SPITZER</th><th>FLAG_OVERLAP</th><th>u_flux_corr</th><th>u_fluxerr_corr</th><th>u_mag_corr</th><th>u_magerr_corr</th><th>g_flux_corr</th><th>g_fluxerr_corr</th><th>g_mag_corr</th><th>g_magerr_corr</th><th>r_flux_corr</th><th>r_fluxerr_corr</th><th>r_mag_corr</th><th>r_magerr_corr</th><th>i_flux_corr</th><th>i_fluxerr_corr</th><th>i_mag_corr</th><th>i_magerr_corr</th><th>z_flux_corr</th><th>z_fluxerr_corr</th><th>z_mag_corr</th><th>z_magerr_corr</th><th>y_flux_corr</th><th>y_fluxerr_corr</th><th>y_mag_corr</th><th>y_magerr_corr</th><th>g_hsc_flux_corr</th><th>g_hsc_fluxerr_corr</th><th>g_hsc_mag_corr</th><th>g_hsc_magerr_corr</th><th>r_hsc_flux_corr</th><th>r_hsc_fluxerr_corr</th><th>r_hsc_mag_corr</th><th>r_hsc_magerr_corr</th><th>i_hsc_flux_corr</th><th>i_hsc_fluxerr_corr</th><th>i_hsc_mag_corr</th><th>i_hsc_magerr_corr</th><th>z_hsc_flux_corr</th><th>z_hsc_fluxerr_corr</th><th>z_hsc_mag_corr</th><th>z_hsc_magerr_corr</th><th>y_hsc_flux_corr</th><th>y_hsc_fluxerr_corr</th><th>y_hsc_mag_corr</th><th>y_hsc_magerr_corr</th><th>nb921_hsc_flux_corr</th><th>nb921_hsc_fluxerr_corr</th><th>nb921_hsc_mag_corr</th><th>nb921_hsc_magerr_corr</th><th>J_flux_corr</th><th>J_fluxerr_corr</th><th>J_mag_corr</th><th>J_magerr_corr</th><th>K_flux_corr</th><th>K_fluxerr_corr</th><th>K_mag_corr</th><th>K_magerr_corr</th><th>ch1_swire_flux_corr</th><th>ch1_swire_fluxerr_corr</th><th>ch1_swire_mag_corr</th><th>ch1_swire_magerr_corr</th><th>ch2_swire_flux_corr</th><th>ch2_swire_fluxerr_corr</th><th>ch2_swire_mag_corr</th><th>ch2_swire_magerr_corr</th><th>ch3_swire_flux_corr</th><th>ch3_swire_fluxerr_corr</th><th>ch3_swire_mag_corr</th><th>ch3_swire_magerr_corr</th><th>ch4_swire_flux_corr</th><th>ch4_swire_fluxerr_corr</th><th>ch4_swire_mag_corr</th><th>ch4_swire_magerr_corr</th><th>ch1_servs_flux_corr</th><th>ch1_servs_fluxerr_corr</th><th>ch1_servs_mag_corr</th><th>ch1_servs_magerr_corr</th><th>ch2_servs_flux_corr</th><th>ch2_servs_fluxerr_corr</th><th>ch2_servs_mag_corr</th><th>ch2_servs_magerr_corr</th><th>Separation</th><th>help_id</th><th>RA_HELP</th><th>DEC_HELP</th><th>EBV</th><th>CLASS_STAR</th><th>F_MIPS_24</th><th>FErr_MIPS_24_u</th><th>FErr_MIPS_24_l</th><th>Bkg_MIPS_24</th><th>Sig_conf_MIPS_24</th><th>Rhat_MIPS_24</th><th>n_eff_MIPS_24</th><th>Pval_res_24</th><th>flag_mips_24</th><th>F_PACS_100</th><th>FErr_PACS_100_u</th><th>FErr_PACS_100_l</th><th>F_PACS_160</th><th>FErr_PACS_160_u</th><th>FErr_PACS_160_l</th><th>Bkg_PACS_100</th><th>Bkg_PACS_160</th><th>Sig_conf_PACS_100</th><th>Sig_conf_PACS_160</th><th>Rhat_PACS_100</th><th>Rhat_PACS_160</th><th>n_eff_PACS_100</th><th>n_eff_PACS_160</th><th>Pval_res_100</th><th>Pval_res_160</th><th>flag_PACS_100</th><th>flag_PACS_160</th><th>F_SPIRE_250</th><th>FErr_SPIRE_250_u</th><th>FErr_SPIRE_250_l</th><th>F_SPIRE_350</th><th>FErr_SPIRE_350_u</th><th>FErr_SPIRE_350_l</th><th>F_SPIRE_500</th><th>FErr_SPIRE_500_u</th><th>FErr_SPIRE_500_l</th><th>Bkg_SPIRE_250</th><th>Bkg_SPIRE_350</th><th>Bkg_SPIRE_500</th><th>Sig_conf_SPIRE_250</th><th>Sig_conf_SPIRE_350</th><th>Sig_conf_SPIRE_500</th><th>Rhat_SPIRE_250</th><th>Rhat_SPIRE_350</th><th>Rhat_SPIRE_500</th><th>n_eff_SPIRE_250</th><th>n_eff_SPIRE_500</th><th>n_eff_SPIRE_350</th><th>Pval_res_250</th><th>Pval_res_350</th><th>Pval_res_500</th><th>flag_spire_250</th><th>flag_spire_350</th><th>flag_spire_500</th><th>Z_BEST</th><th>Z_BEST_SOURCE</th><th>Z_SPEC</th><th>z1_median</th><th>z1_min</th><th>z1_max</th><th>z1_area</th><th>z2_median</th><th>z2_min</th><th>z2_max</th><th>z2_area</th><th>nfilt_eazy</th><th>nfilt_atlas</th><th>nfilt_ananna</th><th>chi_r_best</th><th>chi_r_stellar</th><th>stellar_type</th><th>AGN</th><th>optAGN</th><th>IRAGN</th><th>XrayAGN</th><th>hp_idx_11</th><th>hp_depth_cluster</th><th>tot_corr_g</th><th>tot_corr_err_g</th><th>tot_corr_r</th><th>tot_corr_err_r</th><th>tot_corr_z</th><th>tot_corr_err_z</th><th>zmodel</th><th>chi_best</th><th>Mass_median</th><th>Mass_l68</th><th>Mass_u68</th><th>SFR_median</th><th>SFR_l68</th><th>SFR_u68</th><th>Nfilts</th><th>u_rest</th><th>g_rest</th><th>r_rest</th><th>i_rest</th><th>z_rest</th><th>y_rest</th><th>J_rest</th><th>K_rest</th><th>ch1_servs_rest</th><th>ch2_servs_rest</th><th>ch1_swire_rest</th><th>ch2_swire_rest</th><th>ch3_swire_rest</th><th>ch4_swire_rest</th></tr></thead>\n",
       "<thead><tr><th></th><th></th><th></th><th></th><th></th><th></th><th></th><th></th><th></th><th></th><th></th><th></th><th></th><th></th><th></th><th></th><th></th><th></th><th></th><th></th><th></th><th></th><th></th><th></th><th></th><th></th><th></th><th></th><th></th><th></th><th></th><th></th><th></th><th></th><th></th><th></th><th></th><th></th><th></th><th></th><th></th><th></th><th></th><th></th><th></th><th></th><th></th><th></th><th></th><th></th><th></th><th></th><th></th><th></th><th></th><th></th><th></th><th></th><th></th><th></th><th></th><th></th><th></th><th></th><th></th><th></th><th></th><th></th><th></th><th></th><th></th><th></th><th></th><th></th><th></th><th></th><th></th><th></th><th></th><th></th><th></th><th></th><th></th><th></th><th></th><th></th><th></th><th></th><th></th><th></th><th></th><th></th><th></th><th></th><th></th><th></th><th></th><th></th><th></th><th></th><th></th><th></th><th></th><th></th><th></th><th></th><th></th><th></th><th></th><th></th><th></th><th></th><th></th><th></th><th></th><th></th><th></th><th></th><th></th><th></th><th></th><th></th><th></th><th></th><th></th><th></th><th></th><th></th><th></th><th></th><th></th><th></th><th></th><th></th><th></th><th></th><th></th><th></th><th></th><th></th><th></th><th></th><th></th><th></th><th></th><th></th><th></th><th></th><th></th><th></th><th></th><th></th><th></th><th></th><th></th><th></th><th></th><th></th><th></th><th></th><th></th><th></th><th></th><th></th><th></th><th></th><th></th><th></th><th></th><th></th><th></th><th></th><th></th><th></th><th></th><th></th><th></th><th></th><th></th><th></th><th></th><th></th><th></th><th></th><th></th><th></th><th></th><th></th><th></th><th></th><th></th><th></th><th></th><th></th><th></th><th></th><th></th><th></th><th></th><th></th><th></th><th></th><th></th><th></th><th></th><th></th><th></th><th></th><th></th><th></th><th></th><th>deg</th><th></th><th></th><th></th><th></th><th></th><th></th><th></th><th></th><th></th><th></th><th></th><th></th><th></th><th></th><th></th><th></th><th></th><th></th><th></th><th></th><th></th><th></th><th></th><th></th><th></th><th></th><th></th><th></th><th></th><th></th></tr></thead>\n",
       "<thead><tr><th>bytes22</th><th>float64</th><th>float64</th><th>float64</th><th>float64</th><th>float64</th><th>float64</th><th>float64</th><th>float64</th><th>bytes1</th><th>float64</th><th>float64</th><th>float64</th><th>float64</th><th>float64</th><th>float64</th><th>float64</th><th>float64</th><th>float64</th><th>float64</th><th>int64</th><th>int64</th><th>int64</th><th>float64</th><th>float64</th><th>float64</th><th>float64</th><th>float64</th><th>float64</th><th>int64</th><th>float64</th><th>float64</th><th>float64</th><th>float64</th><th>float64</th><th>float64</th><th>bytes22</th><th>bytes17</th><th>bytes22</th><th>int64</th><th>int64</th><th>int64</th><th>float32</th><th>float32</th><th>float64</th><th>float64</th><th>int64</th><th>int64</th><th>int32</th><th>int64</th><th>float64</th><th>float64</th><th>float64</th><th>float32</th><th>float64</th><th>float64</th><th>float64</th><th>float32</th><th>float64</th><th>float64</th><th>float64</th><th>float32</th><th>float64</th><th>float64</th><th>float64</th><th>float32</th><th>float64</th><th>float64</th><th>float64</th><th>float32</th><th>float64</th><th>float64</th><th>float64</th><th>float32</th><th>float64</th><th>float64</th><th>float64</th><th>float32</th><th>float64</th><th>float64</th><th>float64</th><th>float32</th><th>float64</th><th>float64</th><th>float64</th><th>float32</th><th>float64</th><th>float64</th><th>float64</th><th>float32</th><th>float64</th><th>float64</th><th>float64</th><th>float32</th><th>float64</th><th>float64</th><th>float64</th><th>float32</th><th>float64</th><th>float64</th><th>float64</th><th>float32</th><th>float64</th><th>float64</th><th>float64</th><th>float32</th><th>float64</th><th>float64</th><th>float64</th><th>float32</th><th>float64</th><th>float64</th><th>float64</th><th>float32</th><th>float64</th><th>float64</th><th>float64</th><th>float32</th><th>float64</th><th>float64</th><th>float64</th><th>float32</th><th>float64</th><th>float64</th><th>float64</th><th>float32</th><th>float64</th><th>float64</th><th>float64</th><th>float32</th><th>float64</th><th>bytes27</th><th>float64</th><th>float64</th><th>float32</th><th>float32</th><th>float64</th><th>float64</th><th>float64</th><th>float64</th><th>float64</th><th>float64</th><th>float32</th><th>float32</th><th>bool</th><th>float32</th><th>float32</th><th>float32</th><th>float32</th><th>float32</th><th>float32</th><th>float32</th><th>float32</th><th>float32</th><th>float32</th><th>float32</th><th>float32</th><th>float32</th><th>float32</th><th>float32</th><th>float32</th><th>bool</th><th>bool</th><th>float64</th><th>float64</th><th>float64</th><th>float64</th><th>float64</th><th>float64</th><th>float64</th><th>float64</th><th>float64</th><th>float64</th><th>float64</th><th>float64</th><th>float64</th><th>float64</th><th>float64</th><th>float64</th><th>float64</th><th>float64</th><th>float32</th><th>float32</th><th>float32</th><th>float32</th><th>float32</th><th>float32</th><th>bool</th><th>bool</th><th>bool</th><th>float64</th><th>float64</th><th>float64</th><th>float64</th><th>float64</th><th>float64</th><th>float64</th><th>float64</th><th>float64</th><th>float64</th><th>float64</th><th>int64</th><th>int64</th><th>int64</th><th>float64</th><th>float64</th><th>bytes6</th><th>int64</th><th>float64</th><th>float64</th><th>float64</th><th>int64</th><th>int32</th><th>float64</th><th>float64</th><th>float64</th><th>float64</th><th>float64</th><th>float64</th><th>float32</th><th>float32</th><th>float32</th><th>float32</th><th>float32</th><th>float32</th><th>float32</th><th>float32</th><th>int32</th><th>float32</th><th>float32</th><th>float32</th><th>float32</th><th>float32</th><th>float32</th><th>float32</th><th>float32</th><th>float32</th><th>float32</th><th>float32</th><th>float32</th><th>float32</th><th>float32</th></tr></thead>\n",
       "<tr><td>ILTJ155958.68+550534.6</td><td>239.99448388199113</td><td>55.09297074369422</td><td>0.00023821962081583712</td><td>0.00010519512301371701</td><td>0.00019698809466905858</td><td>5.428131653304336e-05</td><td>0.0001459724688716349</td><td>2.4438707198707708e-05</td><td>S</td><td>0.0026652735251728394</td><td>0.0014069872696194125</td><td>70.02569022630338</td><td>0.000586267634893597</td><td>0.0001792877383089167</td><td>12.053887592466197</td><td>0.0</td><td>0.0</td><td>0.0</td><td>2.481909905327484e-05</td><td>1</td><td>0</td><td>0</td><td>37.11306209526421</td><td>239.9942929896559</td><td>55.0930282279941</td><td>nan</td><td>nan</td><td>nan</td><td>0</td><td>nan</td><td>nan</td><td>nan</td><td>nan</td><td>nan</td><td>nan</td><td>Create initial sources</td><td>LR</td><td></td><td>7</td><td>1</td><td>1084664</td><td>73363.46</td><td>39418.504</td><td>239.9942929896559</td><td>55.0930282279941</td><td>1</td><td>1258800</td><td>--</td><td>7</td><td>-0.054625701159238815</td><td>0.10953739285469055</td><td>nan</td><td>nan</td><td>nan</td><td>nan</td><td>nan</td><td>nan</td><td>nan</td><td>nan</td><td>nan</td><td>nan</td><td>0.6286250948905945</td><td>0.20045976340770721</td><td>24.404020309448242</td><td>0.34621456</td><td>nan</td><td>nan</td><td>nan</td><td>nan</td><td>nan</td><td>nan</td><td>nan</td><td>nan</td><td>nan</td><td>nan</td><td>nan</td><td>nan</td><td>nan</td><td>nan</td><td>nan</td><td>nan</td><td>nan</td><td>nan</td><td>nan</td><td>nan</td><td>nan</td><td>nan</td><td>nan</td><td>nan</td><td>nan</td><td>nan</td><td>nan</td><td>nan</td><td>nan</td><td>nan</td><td>nan</td><td>nan</td><td>11.840296745300293</td><td>0.8874598741531372</td><td>21.21659278869629</td><td>0.08137594</td><td>28.970943450927734</td><td>1.325148582458496</td><td>20.245092391967773</td><td>0.049660586</td><td>54.69256591796875</td><td>2.27272891998291</td><td>19.555179595947266</td><td>0.045115855</td><td>46.85588836669922</td><td>2.5633089542388916</td><td>19.72308921813965</td><td>0.05939455</td><td>41.74480438232422</td><td>10.344277381896973</td><td>19.848493576049805</td><td>0.26903427</td><td>22.26325798034668</td><td>10.28636360168457</td><td>20.531028747558594</td><td>0.5016295</td><td>nan</td><td>nan</td><td>nan</td><td>nan</td><td>nan</td><td>nan</td><td>nan</td><td>nan</td><td>0.0</td><td>N/A</td><td>nan</td><td>nan</td><td>0.008420059</td><td>0.46631563</td><td>nan</td><td>nan</td><td>nan</td><td>nan</td><td>nan</td><td>nan</td><td>nan</td><td>nan</td><td>True</td><td>nan</td><td>nan</td><td>nan</td><td>nan</td><td>nan</td><td>nan</td><td>nan</td><td>nan</td><td>nan</td><td>nan</td><td>nan</td><td>nan</td><td>nan</td><td>nan</td><td>nan</td><td>nan</td><td>True</td><td>True</td><td>nan</td><td>nan</td><td>nan</td><td>nan</td><td>nan</td><td>nan</td><td>nan</td><td>nan</td><td>nan</td><td>nan</td><td>nan</td><td>nan</td><td>nan</td><td>nan</td><td>nan</td><td>nan</td><td>nan</td><td>nan</td><td>nan</td><td>nan</td><td>nan</td><td>nan</td><td>nan</td><td>nan</td><td>True</td><td>True</td><td>True</td><td>1.4289</td><td>0.0</td><td>nan</td><td>1.4289</td><td>0.92</td><td>1.92</td><td>0.798</td><td>nan</td><td>nan</td><td>nan</td><td>nan</td><td>8</td><td>8</td><td>6</td><td>0.7038255999999999</td><td>nan</td><td></td><td>0</td><td>0.0</td><td>0.0</td><td>0.0</td><td>11797094</td><td>9</td><td>1.0</td><td>nan</td><td>1.0</td><td>nan</td><td>1.0</td><td>nan</td><td>1.42</td><td>11.795982</td><td>11.33625</td><td>11.265846</td><td>11.425141</td><td>-51.681652</td><td>-inf</td><td>-5.496326</td><td>8</td><td>-21.227198</td><td>-22.574701</td><td>-23.24705</td><td>-23.595888</td><td>-24.05036</td><td>-23.853888</td><td>-24.250177</td><td>-24.193419</td><td>-23.474669</td><td>-23.017424</td><td>-23.474669</td><td>-23.017424</td><td>-22.600634</td><td>-22.051554</td></tr>\n",
       "</table>"
      ],
      "text/plain": [
       "<Row index=0 masked=True>\n",
       "     Source_Name               RA                DEC                 E_RA                  E_DEC                Total_flux            E_Total_flux           Peak_flux            E_Peak_flux       S_Code          Maj                   Min                  PA               E_Maj                 E_Min                E_PA         DC_Maj  DC_Min  DC_PA         Isl_rms        FLAG_WORKFLOW Prefilter  NoID       lr_fin            optRA            optDec      LGZ_Size LGZ_Width  LGZ_PA Assoc Assoc_Qual Art_prob Blend_prob Hostbroken_prob Imagemissing_prob Zoom_prob        Created         Position_from Renamed_from FLAG_OVERLAP_RADIO flag_clean_radio    ID   X_IMAGE   Y_IMAGE     ALPHA_J2000      DELTA_J2000    flag_clean ID_OPTICAL ID_SPITZER FLAG_OVERLAP      u_flux_corr         u_fluxerr_corr   u_mag_corr u_magerr_corr g_flux_corr g_fluxerr_corr g_mag_corr g_magerr_corr r_flux_corr r_fluxerr_corr r_mag_corr r_magerr_corr    i_flux_corr        i_fluxerr_corr       i_mag_corr     i_magerr_corr z_flux_corr z_fluxerr_corr z_mag_corr z_magerr_corr y_flux_corr y_fluxerr_corr y_mag_corr y_magerr_corr g_hsc_flux_corr g_hsc_fluxerr_corr g_hsc_mag_corr g_hsc_magerr_corr r_hsc_flux_corr r_hsc_fluxerr_corr r_hsc_mag_corr r_hsc_magerr_corr i_hsc_flux_corr i_hsc_fluxerr_corr i_hsc_mag_corr i_hsc_magerr_corr z_hsc_flux_corr z_hsc_fluxerr_corr z_hsc_mag_corr z_hsc_magerr_corr y_hsc_flux_corr y_hsc_fluxerr_corr y_hsc_mag_corr y_hsc_magerr_corr nb921_hsc_flux_corr nb921_hsc_fluxerr_corr nb921_hsc_mag_corr nb921_hsc_magerr_corr    J_flux_corr       J_fluxerr_corr       J_mag_corr    J_magerr_corr    K_flux_corr       K_fluxerr_corr      K_mag_corr     K_magerr_corr ch1_swire_flux_corr ch1_swire_fluxerr_corr ch1_swire_mag_corr ch1_swire_magerr_corr ch2_swire_flux_corr ch2_swire_fluxerr_corr ch2_swire_mag_corr ch2_swire_magerr_corr ch3_swire_flux_corr ch3_swire_fluxerr_corr ch3_swire_mag_corr ch3_swire_magerr_corr ch4_swire_flux_corr ch4_swire_fluxerr_corr ch4_swire_mag_corr ch4_swire_magerr_corr ch1_servs_flux_corr ch1_servs_fluxerr_corr ch1_servs_mag_corr ch1_servs_magerr_corr ch2_servs_flux_corr ch2_servs_fluxerr_corr ch2_servs_mag_corr ch2_servs_magerr_corr Separation help_id RA_HELP DEC_HELP     EBV     CLASS_STAR F_MIPS_24 FErr_MIPS_24_u FErr_MIPS_24_l Bkg_MIPS_24 Sig_conf_MIPS_24 Rhat_MIPS_24 n_eff_MIPS_24 Pval_res_24 flag_mips_24 F_PACS_100 FErr_PACS_100_u FErr_PACS_100_l F_PACS_160 FErr_PACS_160_u FErr_PACS_160_l Bkg_PACS_100 Bkg_PACS_160 Sig_conf_PACS_100 Sig_conf_PACS_160 Rhat_PACS_100 Rhat_PACS_160 n_eff_PACS_100 n_eff_PACS_160 Pval_res_100 Pval_res_160 flag_PACS_100 flag_PACS_160 F_SPIRE_250 FErr_SPIRE_250_u FErr_SPIRE_250_l F_SPIRE_350 FErr_SPIRE_350_u FErr_SPIRE_350_l F_SPIRE_500 FErr_SPIRE_500_u FErr_SPIRE_500_l Bkg_SPIRE_250 Bkg_SPIRE_350 Bkg_SPIRE_500 Sig_conf_SPIRE_250 Sig_conf_SPIRE_350 Sig_conf_SPIRE_500 Rhat_SPIRE_250 Rhat_SPIRE_350 Rhat_SPIRE_500 n_eff_SPIRE_250 n_eff_SPIRE_500 n_eff_SPIRE_350 Pval_res_250 Pval_res_350 Pval_res_500 flag_spire_250 flag_spire_350 flag_spire_500  Z_BEST Z_BEST_SOURCE  Z_SPEC z1_median  z1_min  z1_max z1_area z2_median  z2_min  z2_max z2_area nfilt_eazy nfilt_atlas nfilt_ananna     chi_r_best     chi_r_stellar stellar_type  AGN   optAGN  IRAGN  XrayAGN hp_idx_11 hp_depth_cluster tot_corr_g tot_corr_err_g tot_corr_r tot_corr_err_r tot_corr_z tot_corr_err_z  zmodel  chi_best Mass_median  Mass_l68  Mass_u68 SFR_median SFR_l68  SFR_u68  Nfilts   u_rest     g_rest     r_rest    i_rest     z_rest    y_rest     J_rest     K_rest   ch1_servs_rest ch2_servs_rest ch1_swire_rest ch2_swire_rest ch3_swire_rest ch4_swire_rest\n",
       "                                                                                                                                                                                                                                                                                                                                                                                                                                                                                                                                                                                                                                                                                                                                                                                                                                                                                                                                                                                                                                                                                                                                                                                                                                                                                                                                                                                                                                                                                                                                                                                                                                                                                                                                                                                                                                                                                                                                                                                                                                                                                                                                                                                                                                                                                                                                                                                                                                                                                                                                                                                                                                                                                                                                                                                                                                                                                                                                                                                                                                                                                                                                                                                                                                                                                                                                                                        deg                                                                                                                                                                                                                                                                                                                                                                        \n",
       "       bytes22              float64            float64             float64                float64                float64                float64               float64               float64         bytes1        float64               float64             float64            float64               float64             float64       float64 float64 float64        float64            int64       int64   int64      float64           float64          float64      float64   float64  float64 int64  float64   float64   float64       float64          float64       float64         bytes22            bytes17      bytes22          int64             int64        int64  float32   float32       float64          float64        int64      int64      int32       int64            float64              float64        float64      float32      float64      float64      float64      float32      float64      float64      float64      float32         float64             float64            float64          float32      float64      float64      float64      float32      float64      float64      float64      float32        float64          float64          float64          float32          float64          float64          float64          float32          float64          float64          float64          float32          float64          float64          float64          float32          float64          float64          float64          float32            float64              float64              float64              float32             float64            float64            float64         float32         float64            float64           float64          float32          float64              float64              float64              float32              float64              float64              float64              float32              float64              float64              float64              float32              float64              float64              float64              float32              float64              float64              float64              float32              float64              float64              float64              float32         float64   bytes27 float64 float64    float32    float32    float64     float64        float64       float64       float64        float64       float32      float32       bool      float32       float32         float32      float32       float32         float32       float32      float32         float32           float32         float32       float32       float32        float32       float32      float32         bool          bool       float64       float64          float64        float64       float64          float64        float64       float64          float64         float64       float64       float64         float64            float64            float64          float64        float64        float64         float32         float32         float32       float32      float32      float32         bool           bool           bool      float64    float64    float64  float64  float64 float64 float64  float64  float64 float64 float64   int64       int64       int64          float64          float64       bytes6    int64 float64 float64 float64   int64        int32        float64      float64      float64      float64      float64      float64     float32  float32    float32    float32   float32   float32   float32  float32  int32   float32    float32    float32   float32    float32   float32    float32    float32      float32        float32        float32        float32        float32        float32    \n",
       "---------------------- ------------------ ----------------- ---------------------- ---------------------- ---------------------- --------------------- --------------------- ---------------------- ------ --------------------- --------------------- ----------------- -------------------- --------------------- ------------------ ------- ------- ------- --------------------- ------------- --------- ----- ----------------- ----------------- ---------------- -------- --------- ------- ----- ---------- -------- ---------- --------------- ----------------- --------- ---------------------- ------------- ------------ ------------------ ---------------- ------- -------- --------- ----------------- ---------------- ---------- ---------- ---------- ------------ --------------------- ------------------- ---------- ------------- ----------- -------------- ---------- ------------- ----------- -------------- ---------- ------------- ------------------ ------------------- ------------------ ------------- ----------- -------------- ---------- ------------- ----------- -------------- ---------- ------------- --------------- ------------------ -------------- ----------------- --------------- ------------------ -------------- ----------------- --------------- ------------------ -------------- ----------------- --------------- ------------------ -------------- ----------------- --------------- ------------------ -------------- ----------------- ------------------- ---------------------- ------------------ --------------------- ------------------ ------------------ ----------------- ------------- ------------------ ----------------- ------------------ ------------- ------------------- ---------------------- ------------------ --------------------- ------------------- ---------------------- ------------------ --------------------- ------------------- ---------------------- ------------------ --------------------- ------------------- ---------------------- ------------------ --------------------- ------------------- ---------------------- ------------------ --------------------- ------------------- ---------------------- ------------------ --------------------- ---------- ------- ------- -------- ----------- ---------- --------- -------------- -------------- ----------- ---------------- ------------ ------------- ----------- ------------ ---------- --------------- --------------- ---------- --------------- --------------- ------------ ------------ ----------------- ----------------- ------------- ------------- -------------- -------------- ------------ ------------ ------------- ------------- ----------- ---------------- ---------------- ----------- ---------------- ---------------- ----------- ---------------- ---------------- ------------- ------------- ------------- ------------------ ------------------ ------------------ -------------- -------------- -------------- --------------- --------------- --------------- ------------ ------------ ------------ -------------- -------------- -------------- ------- ------------- ------- --------- ------- ------- ------- --------- ------- ------- ------- ---------- ----------- ------------ ------------------ ------------- ------------ ----- ------- ------- ------- --------- ---------------- ---------- -------------- ---------- -------------- ---------- -------------- ------- --------- ----------- --------- --------- ---------- ------- --------- ------ ---------- ---------- --------- ---------- --------- ---------- ---------- ---------- -------------- -------------- -------------- -------------- -------------- --------------\n",
       "ILTJ155958.68+550534.6 239.99448388199113 55.09297074369422 0.00023821962081583712 0.00010519512301371701 0.00019698809466905858 5.428131653304336e-05 0.0001459724688716349 2.4438707198707708e-05      S 0.0026652735251728394 0.0014069872696194125 70.02569022630338 0.000586267634893597 0.0001792877383089167 12.053887592466197     0.0     0.0     0.0 2.481909905327484e-05             1         0     0 37.11306209526421 239.9942929896559 55.0930282279941      nan       nan     nan     0        nan      nan        nan             nan               nan       nan Create initial sources            LR                               7                1 1084664 73363.46 39418.504 239.9942929896559 55.0930282279941          1    1258800         --            7 -0.054625701159238815 0.10953739285469055        nan           nan         nan            nan        nan           nan         nan            nan        nan           nan 0.6286250948905945 0.20045976340770721 24.404020309448242    0.34621456         nan            nan        nan           nan         nan            nan        nan           nan             nan                nan            nan               nan             nan                nan            nan               nan             nan                nan            nan               nan             nan                nan            nan               nan             nan                nan            nan               nan                 nan                    nan                nan                   nan 11.840296745300293 0.8874598741531372 21.21659278869629    0.08137594 28.970943450927734 1.325148582458496 20.245092391967773   0.049660586   54.69256591796875       2.27272891998291 19.555179595947266           0.045115855   46.85588836669922     2.5633089542388916  19.72308921813965            0.05939455   41.74480438232422     10.344277381896973 19.848493576049805            0.26903427   22.26325798034668      10.28636360168457 20.531028747558594             0.5016295                 nan                    nan                nan                   nan                 nan                    nan                nan                   nan        0.0     N/A     nan      nan 0.008420059 0.46631563       nan            nan            nan         nan              nan          nan           nan         nan         True        nan             nan             nan        nan             nan             nan          nan          nan               nan               nan           nan           nan            nan            nan          nan          nan          True          True         nan              nan              nan         nan              nan              nan         nan              nan              nan           nan           nan           nan                nan                nan                nan            nan            nan            nan             nan             nan             nan          nan          nan          nan           True           True           True  1.4289           0.0     nan    1.4289    0.92    1.92   0.798       nan     nan     nan     nan          8           8            6 0.7038255999999999           nan                  0     0.0     0.0     0.0  11797094                9        1.0            nan        1.0            nan        1.0            nan    1.42 11.795982    11.33625 11.265846 11.425141 -51.681652    -inf -5.496326      8 -21.227198 -22.574701 -23.24705 -23.595888 -24.05036 -23.853888 -24.250177 -24.193419     -23.474669     -23.017424     -23.474669     -23.017424     -22.600634     -22.051554"
      ]
     },
     "execution_count": 12,
     "metadata": {},
     "output_type": "execute_result"
    }
   ],
   "source": [
    "lofar[0]"
   ]
  },
  {
   "cell_type": "code",
   "execution_count": 13,
   "metadata": {},
   "outputs": [
    {
     "name": "stdout",
     "output_type": "stream",
     "text": [
      "number of help prior sources is: 432066\n"
     ]
    }
   ],
   "source": [
    "mips_mask = (help_masterlist['flag_optnir_det']>=5) #& (help_masterlist['f_mips_24']>20)\n",
    "\n",
    "prior_cat = help_masterlist[mips_mask]\n",
    "print('number of help prior sources is: {}'.format(len(prior_cat)))"
   ]
  },
  {
   "cell_type": "code",
   "execution_count": 14,
   "metadata": {},
   "outputs": [],
   "source": [
    "MIPS_lower=np.full(len(prior_cat),0.0)\n",
    "MIPS_upper=np.full(len(prior_cat),1E5)\n",
    "for i in range(len(prior_cat)):\n",
    "    if np.isnan(prior_cat['f_irac_i4'][i])==False:\n",
    "        MIPS_lower[i]=prior_cat['f_irac_i4'][i]/500.0\n",
    "        MIPS_upper[i]=prior_cat['f_irac_i4'][i]*500.0\n",
    "    elif np.isnan(prior_cat['f_irac_i3'][i])==False:\n",
    "        MIPS_lower[i]=prior_cat['f_irac_i3'][i]/500.0\n",
    "        MIPS_upper[i]=prior_cat['f_irac_i3'][i]*500.0\n",
    "    elif np.isnan(prior_cat['f_irac_i2'][i])==False:\n",
    "        MIPS_lower[i]=prior_cat['f_irac_i2'][i]/500.0\n",
    "        MIPS_upper[i]=prior_cat['f_irac_i2'][i]*500.0\n",
    "    elif np.isnan(prior_cat['f_irac_i1'][i])==False:\n",
    "        MIPS_lower[i]=prior_cat['f_irac_i1'][i]/500.0\n",
    "        MIPS_upper[i]=prior_cat['f_irac_i1'][i]*500.0\n",
    "        \n",
    "mips_lower_col = Column(MIPS_lower,name='MIPS_lower')\n",
    "mips_upper_col = Column(MIPS_upper,name='MIPS_upper')\n",
    "prior_cat.add_columns([mips_lower_col,mips_upper_col])"
   ]
  },
  {
   "cell_type": "code",
   "execution_count": 15,
   "metadata": {},
   "outputs": [],
   "source": [
    "swire_mask = best_irac(lofar['ch1_swire_fluxerr_corr'],lofar['ch1_servs_fluxerr_corr'])\n",
    "i1_f = np.zeros(len(ras))\n",
    "i1_f[swire_mask] = lofar['ch1_swire_flux_corr'][swire_mask]\n",
    "i1_f[~swire_mask] = lofar['ch1_servs_flux_corr'][~swire_mask]\n",
    "\n",
    "swire_mask = best_irac(lofar['ch2_swire_fluxerr_corr'],lofar['ch2_servs_fluxerr_corr'])\n",
    "i2_f = np.zeros(len(ras))\n",
    "i2_f[swire_mask] = lofar['ch2_swire_flux_corr'][swire_mask]\n",
    "i2_f[~swire_mask] = lofar['ch2_servs_flux_corr'][~swire_mask]\n",
    "\n",
    "i3_f = lofar['ch3_swire_flux_corr']\n",
    "\n",
    "i4_f = lofar['ch4_swire_flux_corr']"
   ]
  },
  {
   "cell_type": "code",
   "execution_count": 16,
   "metadata": {},
   "outputs": [
    {
     "data": {
      "text/plain": [
       "array([54.69256592, 28.37625885, 42.70845032, ..., 15.97365189,\n",
       "       13.4106245 ,         nan])"
      ]
     },
     "execution_count": 16,
     "metadata": {},
     "output_type": "execute_result"
    }
   ],
   "source": [
    "i1_f"
   ]
  },
  {
   "cell_type": "code",
   "execution_count": 17,
   "metadata": {},
   "outputs": [],
   "source": [
    "cra = Column(ras,name='ra')\n",
    "cdec = Column(decs,name='dec')\n",
    "cids = Column(ids,name='help_id')\n",
    "cdet = Column(np.zeros(len(ras))-99,name='flag_optnir_det')\n",
    "ci1 = Column(i1_f,name='f_irac_i1')\n",
    "ci2 = Column(i2_f,name='f_irac_i2')\n",
    "ci3 = Column(i3_f,name='f_irac_i3')\n",
    "ci4 = Column(i4_f,name='f_irac_i4')\n",
    "lofar_prior = Table()\n",
    "lofar_prior.add_columns([cra,cdec,cids,cdet,ci1,ci2,ci3,ci4])"
   ]
  },
  {
   "cell_type": "code",
   "execution_count": 18,
   "metadata": {},
   "outputs": [],
   "source": [
    "MIPS_lower=np.full(len(lofar_prior),0.0)\n",
    "MIPS_upper=np.full(len(lofar_prior),1E5)\n",
    "for i in range(len(lofar_prior)):\n",
    "    if np.isnan(lofar_prior['f_irac_i4'][i])==False:\n",
    "        MIPS_lower[i]=lofar_prior['f_irac_i4'][i]/500.0\n",
    "        MIPS_upper[i]=lofar_prior['f_irac_i4'][i]*500.0\n",
    "    elif np.isnan(lofar_prior['f_irac_i3'][i])==False:\n",
    "        MIPS_lower[i]=lofar_prior['f_irac_i3'][i]/500.0\n",
    "        MIPS_upper[i]=lofar_prior['f_irac_i3'][i]*500.0\n",
    "    elif np.isnan(lofar_prior['f_irac_i2'][i])==False:\n",
    "        MIPS_lower[i]=lofar_prior['f_irac_i2'][i]/500.0\n",
    "        MIPS_upper[i]=lofar_prior['f_irac_i2'][i]*500.0\n",
    "    elif np.isnan(lofar_prior['f_irac_i1'][i])==False:\n",
    "        MIPS_lower[i]=lofar_prior['f_irac_i1'][i]/500.0\n",
    "        MIPS_upper[i]=lofar_prior['f_irac_i1'][i]*500.0\n",
    "        \n",
    "mips_lower_col = Column(MIPS_lower,name='MIPS_lower')\n",
    "mips_upper_col = Column(MIPS_upper,name='MIPS_upper')\n",
    "lofar_prior = Table()\n",
    "lofar_prior.add_columns([cra,cdec,cids,cdet,ci1,ci2,ci3,ci4,mips_lower_col,mips_upper_col])"
   ]
  },
  {
   "cell_type": "code",
   "execution_count": 19,
   "metadata": {},
   "outputs": [
    {
     "data": {
      "text/plain": [
       "439596"
      ]
     },
     "execution_count": 19,
     "metadata": {},
     "output_type": "execute_result"
    }
   ],
   "source": [
    "prior_cat = vstack([prior_cat,lofar_prior])\n",
    "len(prior_cat)"
   ]
  },
  {
   "cell_type": "code",
   "execution_count": 20,
   "metadata": {},
   "outputs": [
    {
     "data": {
      "text/html": [
       "<i>Table length=439596</i>\n",
       "<table id=\"table140736886669096\" class=\"table-striped table-bordered table-condensed\">\n",
       "<thead><tr><th>ra</th><th>dec</th><th>help_id</th><th>flag_optnir_det</th><th>f_irac_i1</th><th>f_irac_i2</th><th>f_irac_i3</th><th>f_irac_i4</th><th>MIPS_lower</th><th>MIPS_upper</th></tr></thead>\n",
       "<thead><tr><th>deg</th><th>deg</th><th></th><th></th><th></th><th></th><th>uJy</th><th>uJy</th><th></th><th></th></tr></thead>\n",
       "<thead><tr><th>float64</th><th>float64</th><th>bytes1728</th><th>float64</th><th>float64</th><th>float64</th><th>float64</th><th>float64</th><th>float64</th><th>float64</th></tr></thead>\n",
       "<tr><td>239.07610509505702</td><td>54.911710463499304</td><td>HELP_J155618.265+545442.158</td><td>5.0</td><td>nan</td><td>7032.05</td><td>nan</td><td>2794.02</td><td>5.58804</td><td>1397010.0</td></tr>\n",
       "<tr><td>239.086706815057</td><td>54.8536967354993</td><td>HELP_J155620.810+545113.308</td><td>7.0</td><td>nan</td><td>47.73</td><td>nan</td><td>42.79</td><td>0.08558</td><td>21395.0</td></tr>\n",
       "<tr><td>239.09480111705702</td><td>54.835520892499304</td><td>HELP_J155622.752+545007.875</td><td>7.0</td><td>nan</td><td>121.33</td><td>nan</td><td>270.07</td><td>0.54014</td><td>135035.0</td></tr>\n",
       "<tr><td>239.11763696205702</td><td>54.962956684499304</td><td>HELP_J155628.233+545746.644</td><td>7.0</td><td>nan</td><td>160.75</td><td>nan</td><td>39.51</td><td>0.07901999999999999</td><td>19755.0</td></tr>\n",
       "<tr><td>239.117878690057</td><td>54.8814871404993</td><td>HELP_J155628.291+545253.354</td><td>7.0</td><td>nan</td><td>2995.22</td><td>nan</td><td>1064.01</td><td>2.12802</td><td>532005.0</td></tr>\n",
       "<tr><td>239.118442949057</td><td>54.826824867499305</td><td>HELP_J155628.426+544936.570</td><td>7.0</td><td>nan</td><td>623.28</td><td>nan</td><td>198.61</td><td>0.39722</td><td>99305.0</td></tr>\n",
       "<tr><td>239.119170247057</td><td>54.9234330334993</td><td>HELP_J155628.601+545524.359</td><td>7.0</td><td>nan</td><td>52.07</td><td>nan</td><td>78.34</td><td>0.15668</td><td>39170.0</td></tr>\n",
       "<tr><td>239.12081791505702</td><td>54.911293455499305</td><td>HELP_J155628.996+545440.656</td><td>5.0</td><td>nan</td><td>30.84</td><td>nan</td><td>53.86</td><td>0.10772</td><td>26930.0</td></tr>\n",
       "<tr><td>239.12946352005702</td><td>54.9387842164993</td><td>HELP_J155631.071+545619.623</td><td>7.0</td><td>nan</td><td>898.06</td><td>nan</td><td>289.72</td><td>0.5794400000000001</td><td>144860.0</td></tr>\n",
       "<tr><td>...</td><td>...</td><td>...</td><td>...</td><td>...</td><td>...</td><td>...</td><td>...</td><td>...</td><td>...</td></tr>\n",
       "<tr><td>245.52761208557038</td><td>55.07396658137964</td><td>ILTJ162206.53+550425.4</td><td>-99.0</td><td>51.45217514038086</td><td>44.384578704833984</td><td>35.129676818847656</td><td>31.44500732421875</td><td>0.0628900146484375</td><td>15722.503662109375</td></tr>\n",
       "<tr><td>245.53558442002497</td><td>55.085576732531315</td><td>ILTJ162208.52+550507.7</td><td>-99.0</td><td>11.880048751831055</td><td>13.188695907592773</td><td>17.72545623779297</td><td>-6.098056793212891</td><td>-0.012196113586425781</td><td>-3049.0283966064453</td></tr>\n",
       "<tr><td>245.53640508657605</td><td>54.77736020347609</td><td>ILTJ162208.75+544638.3</td><td>-99.0</td><td>149.36195373535156</td><td>117.57526397705078</td><td>60.49384307861328</td><td>38.275596618652344</td><td>0.0765511932373047</td><td>19137.798309326172</td></tr>\n",
       "<tr><td>245.53741376873538</td><td>55.10946367030423</td><td>ILTJ162208.98+550633.8</td><td>-99.0</td><td>7.447127342224121</td><td>11.409573554992676</td><td>8.637432098388672</td><td>17.1832275390625</td><td>0.034366455078125</td><td>8591.61376953125</td></tr>\n",
       "<tr><td>245.54093619895374</td><td>54.99835128186579</td><td>ILTJ162209.82+545954.0</td><td>-99.0</td><td>nan</td><td>nan</td><td>nan</td><td>nan</td><td>0.0</td><td>100000.0</td></tr>\n",
       "<tr><td>245.54698544201148</td><td>54.76750556968743</td><td>ILTJ162211.31+544602.6</td><td>-99.0</td><td>27.22919273376465</td><td>36.33399963378906</td><td>41.782718658447266</td><td>30.141767501831055</td><td>0.06028353500366211</td><td>15070.883750915527</td></tr>\n",
       "<tr><td>245.54925851842674</td><td>54.9787561321765</td><td>ILTJ162211.55+545844.3</td><td>-99.0</td><td>28.7982234954834</td><td>35.11958694458008</td><td>48.170204162597656</td><td>42.71672439575195</td><td>0.08543344879150391</td><td>21358.362197875977</td></tr>\n",
       "<tr><td>245.54950876681855</td><td>54.984329597137716</td><td>ILTJ162211.81+545904.0</td><td>-99.0</td><td>15.973651885986328</td><td>18.43510627746582</td><td>18.970829010009766</td><td>20.554080963134766</td><td>0.04110816192626953</td><td>10277.040481567383</td></tr>\n",
       "<tr><td>245.5592981152525</td><td>55.06116538543187</td><td>ILTJ162214.27+550339.6</td><td>-99.0</td><td>13.410624504089355</td><td>21.179025650024414</td><td>33.60218048095703</td><td>31.419710159301758</td><td>0.06283942031860351</td><td>15709.855079650879</td></tr>\n",
       "<tr><td>245.56667030499543</td><td>54.917808438453065</td><td>ILTJ162216.00+545504.1</td><td>-99.0</td><td>nan</td><td>nan</td><td>nan</td><td>nan</td><td>0.0</td><td>100000.0</td></tr>\n",
       "</table>"
      ],
      "text/plain": [
       "<Table length=439596>\n",
       "        ra                dec         ...      MIPS_upper    \n",
       "       deg                deg         ...                    \n",
       "     float64            float64       ...       float64      \n",
       "------------------ ------------------ ... -------------------\n",
       "239.07610509505702 54.911710463499304 ...           1397010.0\n",
       "  239.086706815057   54.8536967354993 ...             21395.0\n",
       "239.09480111705702 54.835520892499304 ...            135035.0\n",
       "239.11763696205702 54.962956684499304 ...             19755.0\n",
       "  239.117878690057   54.8814871404993 ...            532005.0\n",
       "  239.118442949057 54.826824867499305 ...             99305.0\n",
       "  239.119170247057   54.9234330334993 ...             39170.0\n",
       "239.12081791505702 54.911293455499305 ...             26930.0\n",
       "239.12946352005702   54.9387842164993 ...            144860.0\n",
       "               ...                ... ...                 ...\n",
       "245.52761208557038  55.07396658137964 ...  15722.503662109375\n",
       "245.53558442002497 55.085576732531315 ... -3049.0283966064453\n",
       "245.53640508657605  54.77736020347609 ...  19137.798309326172\n",
       "245.53741376873538  55.10946367030423 ...    8591.61376953125\n",
       "245.54093619895374  54.99835128186579 ...            100000.0\n",
       "245.54698544201148  54.76750556968743 ...  15070.883750915527\n",
       "245.54925851842674   54.9787561321765 ...  21358.362197875977\n",
       "245.54950876681855 54.984329597137716 ...  10277.040481567383\n",
       " 245.5592981152525  55.06116538543187 ...  15709.855079650879\n",
       "245.56667030499543 54.917808438453065 ...            100000.0"
      ]
     },
     "execution_count": 20,
     "metadata": {},
     "output_type": "execute_result"
    }
   ],
   "source": [
    "prior_cat"
   ]
  },
  {
   "cell_type": "code",
   "execution_count": 21,
   "metadata": {},
   "outputs": [],
   "source": [
    "Table.write(prior_cat,'data/data_release/xidplus_prior_cat_MIPS.fits',overwrite=True)"
   ]
  },
  {
   "cell_type": "code",
   "execution_count": null,
   "metadata": {},
   "outputs": [],
   "source": []
  },
  {
   "cell_type": "markdown",
   "metadata": {},
   "source": [
    "## Create prior list for the QSO sources"
   ]
  },
  {
   "cell_type": "code",
   "execution_count": 3,
   "metadata": {},
   "outputs": [
    {
     "data": {
      "text/html": [
       "<i>Row index=0 masked=True</i>\n",
       "<table id=\"table140736609819280\">\n",
       "<thead><tr><th>SDSS_NAME</th><th>RA</th><th>DEC</th><th>THING_ID</th><th>PLATE</th><th>MJD</th><th>FIBERID</th><th>SPECTRO</th><th>Z</th><th>Z_ERR</th><th>SOURCE_Z</th><th>Z_VI</th><th>Z_PIPE</th><th>Z_PIPE_ERR</th><th>ZWARNING</th><th>Z_PCA</th><th>Z_PCA_ER</th><th>Z_MGII</th><th>BOSS_TARGET1</th><th>ANCILLARY_TARGET1</th><th>ANCILLARY_TARGET2</th><th>EBOSS_TARGET0</th><th>EBOSS_TARGET1</th><th>EBOSS_TARGET2</th><th>N_SPEC_SDSS</th><th>N_SPEC_BOSS</th><th>N_SPEC</th><th>PLATE_DUPLICATE [51]</th><th>MJD_DUPLICATE [51]</th><th>FIBERID_DUPLICATE [51]</th><th>SPECTRO_DUPLICATE [51]</th><th>BI_CIV</th><th>ERR_BI_CIV</th><th>RUN_NUMBER</th><th>RERUN_NUMBER</th><th>COL_NUMBER</th><th>FIELD_NUMBER</th><th>OBJ_ID</th><th>PSFFLUX [5]</th><th>IVAR_PSFFLUX [5]</th><th>PSFMAG [5]</th><th>ERR_PSFMAG [5]</th><th>MI</th><th>GAL_EXT [5]</th><th>RASS_COUNTS</th><th>RASS_COUNTS_SNR</th><th>SDSS2ROSAT_SEP</th><th>FLUX_0.2_2.0keV</th><th>FLUX_0.2_2.0keV_ERR</th><th>FLUX_2.0_12.0keV</th><th>FLUX_2.0_12.0keV_ERR</th><th>FLUX_0.2_12.0keV</th><th>FLUX_0.2_12.0keV_ERR</th><th>LUM_0.2_12.0keV</th><th>SDSS2XMM_SEP</th><th>GALEX_MATCHED</th><th>FUV</th><th>FUV_IVAR</th><th>NUV</th><th>NUV_IVAR</th><th>JMAG</th><th>ERR_JMAG</th><th>JSNR</th><th>JRDFLAG</th><th>HMAG</th><th>ERR_HMAG</th><th>HSNR</th><th>HRDFLAG</th><th>KMAG</th><th>ERR_KMAG</th><th>KSNR</th><th>KRDFLAG</th><th>SDSS2MASS_SEP</th><th>W1MAG</th><th>ERR_W1MAG</th><th>W1SNR</th><th>W1CHI2</th><th>W2MAG</th><th>ERR_W2MAG</th><th>W2SNR</th><th>W2CHI2</th><th>W3MAG</th><th>ERR_W3MAG</th><th>W3SNR</th><th>W3CHI2</th><th>W4MAG</th><th>ERR_W4MAG</th><th>W4SNR</th><th>W4CHI2</th><th>CC_FLAGS</th><th>PH_FLAGS</th><th>SDSS2WISE_SEP</th><th>UKIDSS_MATCHED</th><th>YFLUX</th><th>YFLUX_ERR</th><th>JFLUX</th><th>JFLUX_ERR</th><th>HFLUX</th><th>HFLUX_ERR</th><th>KFLUX</th><th>KFLUX_ERR</th><th>FIRST_MATCHED</th><th>FIRST_FLUX</th><th>FIRST_SNR</th><th>SDSS2FIRST_SEP</th><th>DR7_index</th><th>L6mu</th><th>L6mu_err</th><th>sample</th></tr></thead>\n",
       "<thead><tr><th>-</th><th>deg</th><th>deg</th><th>-</th><th>-</th><th>-</th><th>-</th><th>-</th><th>-</th><th>-</th><th>-</th><th>-</th><th>-</th><th>-</th><th>-</th><th>-</th><th>-</th><th>-</th><th>-</th><th>-</th><th>-</th><th>-</th><th>-</th><th>-</th><th>-</th><th>-</th><th>-</th><th>-</th><th>-</th><th>-</th><th>-</th><th>km / s</th><th>km / s</th><th>-</th><th>-</th><th>-</th><th>-</th><th>-</th><th>nanomaggies</th><th>-</th><th>mag</th><th>mag</th><th>-</th><th>mag</th><th>counts/s</th><th>-</th><th>arcsec</th><th>erg / (cm2 s)</th><th>erg / (cm2 s)</th><th>erg / (cm2 s)</th><th>erg / (cm2 s)</th><th>erg / (cm2 s)</th><th>erg / (cm2 s)</th><th>erg / s</th><th>arcsec</th><th>-</th><th>-</th><th>-</th><th>-</th><th>-</th><th>Vega</th><th>Vega</th><th>-</th><th>-</th><th>Vega</th><th>Vega</th><th>-</th><th>-</th><th>Vega</th><th>Vega</th><th>-</th><th>-</th><th>arcsec</th><th>-</th><th>-</th><th>-</th><th>-</th><th>-</th><th>-</th><th>-</th><th>-</th><th>-</th><th>-</th><th>-</th><th>-</th><th>-</th><th>-</th><th>-</th><th>-</th><th>-</th><th>-</th><th>arcsec</th><th>-</th><th>W / (Hz m2)</th><th>W / (Hz m2)</th><th>W / (Hz m2)</th><th>W / (Hz m2)</th><th>W / (Hz m2)</th><th>W / (Hz m2)</th><th>W / (Hz m2)</th><th>W / (Hz m2)</th><th>-</th><th>mJy</th><th>-</th><th>arcsec</th><th></th><th></th><th></th><th></th></tr></thead>\n",
       "<thead><tr><th>bytes18</th><th>float64</th><th>float64</th><th>int32</th><th>int16</th><th>int32</th><th>int16</th><th>bytes4</th><th>float64</th><th>float64</th><th>bytes4</th><th>float64</th><th>float64</th><th>float64</th><th>int16</th><th>float64</th><th>float64</th><th>float64</th><th>int64</th><th>int64</th><th>int64</th><th>int64</th><th>int64</th><th>int64</th><th>int16</th><th>int16</th><th>int16</th><th>int32</th><th>int32</th><th>int32</th><th>bytes1</th><th>float64</th><th>float64</th><th>int16</th><th>bytes1</th><th>int16</th><th>int16</th><th>bytes1</th><th>float64</th><th>float64</th><th>float64</th><th>float64</th><th>float64</th><th>float64</th><th>float64</th><th>float64</th><th>float64</th><th>float64</th><th>float64</th><th>float64</th><th>float64</th><th>float64</th><th>float64</th><th>float64</th><th>float64</th><th>float32</th><th>float64</th><th>float64</th><th>float64</th><th>float64</th><th>float64</th><th>float64</th><th>float32</th><th>int16</th><th>float64</th><th>float64</th><th>float32</th><th>int16</th><th>float64</th><th>float64</th><th>float32</th><th>int16</th><th>float64</th><th>float64</th><th>float64</th><th>float64</th><th>float64</th><th>float64</th><th>float64</th><th>float64</th><th>float64</th><th>float64</th><th>float64</th><th>float64</th><th>float64</th><th>float64</th><th>float64</th><th>float64</th><th>float64</th><th>bytes4</th><th>bytes4</th><th>float64</th><th>float32</th><th>float64</th><th>float64</th><th>float64</th><th>float64</th><th>float64</th><th>float64</th><th>float64</th><th>float64</th><th>int16</th><th>float64</th><th>float64</th><th>float64</th><th>int32</th><th>float64</th><th>float64</th><th>bytes4</th></tr></thead>\n",
       "<tr><td>142640.66+321151.9</td><td>216.66943359375</td><td>32.197757720947266</td><td>-1</td><td>1841</td><td>53491</td><td>317</td><td>SDSS</td><td>0.2019</td><td>0.0</td><td>DR7Q</td><td>-1.0</td><td>-1.0</td><td>-1.0</td><td>-1</td><td>0.0</td><td>0.0</td><td>0.0</td><td>0</td><td>0</td><td>0</td><td>0</td><td>0</td><td>0</td><td>0</td><td>0</td><td>0</td><td>-1 .. -1</td><td>-1 .. -1</td><td>-1 .. -1</td><td>- .. -</td><td>0.0</td><td>0.0</td><td>0</td><td>-</td><td>0</td><td>0</td><td>-</td><td>-9999.0 .. -9999.0</td><td>-9999.0 .. -9999.0</td><td>18.825000762939453 .. 17.885000228881836</td><td>0.023000000044703484 .. 0.028999999165534973</td><td>-22.478964</td><td>0.06 .. 0.01722</td><td>0.0</td><td>0.0</td><td>-1.0</td><td>nan</td><td>nan</td><td>nan</td><td>nan</td><td>nan</td><td>nan</td><td>nan</td><td>nan</td><td>1.0</td><td>6.457155227661133</td><td>1.5975519690476745</td><td>15.947311401367188</td><td>294.5100303885923</td><td>16.269000000000002</td><td>0.111</td><td>10.1</td><td>2</td><td>15.091</td><td>0.093</td><td>12.8</td><td>2</td><td>14.009</td><td>0.052000000000000005</td><td>24.1</td><td>2</td><td>0.297782</td><td>12.93</td><td>0.024</td><td>46.0</td><td>1.216</td><td>11.822</td><td>0.021</td><td>52.099998474121094</td><td>1.213</td><td>8.969</td><td>0.026</td><td>42.400001525878906</td><td>0.8701</td><td>6.419</td><td>0.024</td><td>23.0</td><td>1.031</td><td>0000</td><td>AAAA</td><td>0.045578</td><td>0.0</td><td>0.0</td><td>0.0</td><td>0.0</td><td>0.0</td><td>0.0</td><td>0.0</td><td>0.0</td><td>0.0</td><td>0</td><td>-1.0</td><td>-1.0</td><td>-1.0</td><td>77651</td><td>44.393281024044946</td><td>0.013368619973654723</td><td>cQSO</td></tr>\n",
       "</table>"
      ],
      "text/plain": [
       "<Row index=0 masked=True>\n",
       "    SDSS_NAME             RA              DEC         THING_ID PLATE  MJD  FIBERID SPECTRO    Z     Z_ERR  SOURCE_Z   Z_VI   Z_PIPE Z_PIPE_ERR ZWARNING  Z_PCA  Z_PCA_ER  Z_MGII BOSS_TARGET1 ANCILLARY_TARGET1 ANCILLARY_TARGET2 EBOSS_TARGET0 EBOSS_TARGET1 EBOSS_TARGET2 N_SPEC_SDSS N_SPEC_BOSS N_SPEC PLATE_DUPLICATE [51] MJD_DUPLICATE [51] FIBERID_DUPLICATE [51] SPECTRO_DUPLICATE [51]  BI_CIV ERR_BI_CIV RUN_NUMBER RERUN_NUMBER COL_NUMBER FIELD_NUMBER OBJ_ID    PSFFLUX [5]      IVAR_PSFFLUX [5]                 PSFMAG [5]                               ERR_PSFMAG [5]                    MI       GAL_EXT [5]   RASS_COUNTS RASS_COUNTS_SNR SDSS2ROSAT_SEP FLUX_0.2_2.0keV FLUX_0.2_2.0keV_ERR FLUX_2.0_12.0keV FLUX_2.0_12.0keV_ERR FLUX_0.2_12.0keV FLUX_0.2_12.0keV_ERR LUM_0.2_12.0keV SDSS2XMM_SEP GALEX_MATCHED        FUV             FUV_IVAR             NUV              NUV_IVAR            JMAG        ERR_JMAG   JSNR  JRDFLAG   HMAG  ERR_HMAG   HSNR  HRDFLAG   KMAG        ERR_KMAG         KSNR  KRDFLAG SDSS2MASS_SEP  W1MAG  ERR_W1MAG  W1SNR   W1CHI2  W2MAG  ERR_W2MAG       W2SNR         W2CHI2  W3MAG  ERR_W3MAG       W3SNR         W3CHI2  W4MAG  ERR_W4MAG  W4SNR   W4CHI2 CC_FLAGS PH_FLAGS SDSS2WISE_SEP UKIDSS_MATCHED    YFLUX     YFLUX_ERR     JFLUX     JFLUX_ERR     HFLUX     HFLUX_ERR     KFLUX     KFLUX_ERR  FIRST_MATCHED FIRST_FLUX FIRST_SNR SDSS2FIRST_SEP DR7_index        L6mu              L6mu_err       sample\n",
       "        -                deg              deg            -       -     -      -       -       -       -       -        -       -        -         -        -       -        -         -               -                 -               -             -             -            -           -        -             -                   -                    -                      -             km / s   km / s       -           -           -           -         -       nanomaggies             -                            mag                                        mag                          -            mag         counts/s         -            arcsec      erg / (cm2 s)     erg / (cm2 s)     erg / (cm2 s)      erg / (cm2 s)      erg / (cm2 s)      erg / (cm2 s)         erg / s        arcsec          -               -                 -                  -                  -                Vega          Vega      -       -      Vega    Vega      -       -      Vega          Vega            -       -        arcsec       -        -        -       -       -        -             -             -       -        -             -             -       -        -        -       -       -        -         arcsec          -        W / (Hz m2) W / (Hz m2) W / (Hz m2) W / (Hz m2) W / (Hz m2) W / (Hz m2) W / (Hz m2) W / (Hz m2)       -          mJy         -         arcsec                                                             \n",
       "     bytes18           float64          float64        int32   int16 int32  int16   bytes4 float64 float64  bytes4  float64 float64  float64    int16   float64 float64  float64    int64           int64             int64           int64         int64         int64        int16       int16    int16         int32               int32                int32                  bytes1         float64  float64     int16       bytes1      int16       int16     bytes1      float64            float64                       float64                                    float64                     float64       float64       float64       float64        float64         float64           float64           float64            float64            float64            float64            float64       float64       float32         float64           float64            float64            float64           float64       float64  float32  int16  float64 float64  float32  int16  float64       float64        float32  int16     float64    float64  float64  float64 float64 float64  float64       float64       float64 float64  float64       float64       float64 float64  float64  float64 float64  bytes4   bytes4     float64       float32       float64     float64     float64     float64     float64     float64     float64     float64       int16      float64    float64     float64       int32        float64             float64        bytes4\n",
       "------------------ --------------- ------------------ -------- ----- ----- ------- ------- ------- ------- -------- ------- ------- ---------- -------- ------- -------- ------- ------------ ----------------- ----------------- ------------- ------------- ------------- ----------- ----------- ------ -------------------- ------------------ ---------------------- ---------------------- ------- ---------- ---------- ------------ ---------- ------------ ------ ------------------ ------------------ ---------------------------------------- -------------------------------------------- ---------- --------------- ----------- --------------- -------------- --------------- ------------------- ---------------- -------------------- ---------------- -------------------- --------------- ------------ ------------- ----------------- ------------------ ------------------ ----------------- ------------------ -------- ------- ------- ------- -------- ------- ------- ------- -------------------- ------- ------- ------------- ------- --------- ------- ------- ------- --------- ------------------ ------- ------- --------- ------------------ ------- ------- --------- ------- ------- -------- -------- ------------- -------------- ----------- ----------- ----------- ----------- ----------- ----------- ----------- ----------- ------------- ---------- --------- -------------- --------- ------------------ -------------------- ------\n",
       "142640.66+321151.9 216.66943359375 32.197757720947266       -1  1841 53491     317    SDSS  0.2019     0.0     DR7Q    -1.0    -1.0       -1.0       -1     0.0      0.0     0.0            0                 0                 0             0             0             0           0           0      0             -1 .. -1           -1 .. -1               -1 .. -1                 - .. -     0.0        0.0          0            -          0            0      - -9999.0 .. -9999.0 -9999.0 .. -9999.0 18.825000762939453 .. 17.885000228881836 0.023000000044703484 .. 0.028999999165534973 -22.478964 0.06 .. 0.01722         0.0             0.0           -1.0             nan                 nan              nan                  nan              nan                  nan             nan          nan           1.0 6.457155227661133 1.5975519690476745 15.947311401367188 294.5100303885923 16.269000000000002    0.111    10.1       2  15.091    0.093    12.8       2  14.009 0.052000000000000005    24.1       2      0.297782   12.93     0.024    46.0   1.216  11.822     0.021 52.099998474121094   1.213   8.969     0.026 42.400001525878906  0.8701   6.419     0.024    23.0   1.031     0000     AAAA      0.045578            0.0         0.0         0.0         0.0         0.0         0.0         0.0         0.0         0.0             0       -1.0      -1.0           -1.0     77651 44.393281024044946 0.013368619973654723   cQSO"
      ]
     },
     "execution_count": 3,
     "metadata": {},
     "output_type": "execute_result"
    }
   ],
   "source": [
    "lofar = Table.read('../LOFAR_QSO/data/SDSSrcQSO_LOFARnondetect.fits')\n",
    "\n",
    "ras = lofar['RA']\n",
    "decs = lofar['DEC']\n",
    "ids = lofar['SDSS_NAME']\n",
    "lofar[0]"
   ]
  },
  {
   "cell_type": "code",
   "execution_count": 4,
   "metadata": {},
   "outputs": [],
   "source": [
    "columns = 'ra','dec','help_id','flag_optnir_det','f_irac_i1','f_irac_i2','f_irac_i3','f_irac_i4'\n",
    "masterlist = Table.read('../../../../../HELP/dmu_products/dmu32/dmu32_ELAIS-N1/data/ELAIS-N1_20171020.fits')\n",
    "help_masterlist = masterlist[columns]"
   ]
  },
  {
   "cell_type": "code",
   "execution_count": 5,
   "metadata": {},
   "outputs": [
    {
     "name": "stdout",
     "output_type": "stream",
     "text": [
      "number of help prior sources is: 432066\n"
     ]
    }
   ],
   "source": [
    "mips_mask = (help_masterlist['flag_optnir_det']>=5) #& (help_masterlist['f_mips_24']>20)\n",
    "\n",
    "prior_cat = help_masterlist[mips_mask]\n",
    "print('number of help prior sources is: {}'.format(len(prior_cat)))"
   ]
  },
  {
   "cell_type": "code",
   "execution_count": 6,
   "metadata": {},
   "outputs": [],
   "source": [
    "MIPS_lower=np.full(len(prior_cat),0.0)\n",
    "MIPS_upper=np.full(len(prior_cat),1E5)\n",
    "for i in range(len(prior_cat)):\n",
    "    if np.isnan(prior_cat['f_irac_i4'][i])==False:\n",
    "        MIPS_lower[i]=prior_cat['f_irac_i4'][i]/500.0\n",
    "        MIPS_upper[i]=prior_cat['f_irac_i4'][i]*500.0\n",
    "    elif np.isnan(prior_cat['f_irac_i3'][i])==False:\n",
    "        MIPS_lower[i]=prior_cat['f_irac_i3'][i]/500.0\n",
    "        MIPS_upper[i]=prior_cat['f_irac_i3'][i]*500.0\n",
    "    elif np.isnan(prior_cat['f_irac_i2'][i])==False:\n",
    "        MIPS_lower[i]=prior_cat['f_irac_i2'][i]/500.0\n",
    "        MIPS_upper[i]=prior_cat['f_irac_i2'][i]*500.0\n",
    "    elif np.isnan(prior_cat['f_irac_i1'][i])==False:\n",
    "        MIPS_lower[i]=prior_cat['f_irac_i1'][i]/500.0\n",
    "        MIPS_upper[i]=prior_cat['f_irac_i1'][i]*500.0\n",
    "        \n",
    "mips_lower_col = Column(MIPS_lower,name='MIPS_lower')\n",
    "mips_upper_col = Column(MIPS_upper,name='MIPS_upper')\n",
    "prior_cat.add_columns([mips_lower_col,mips_upper_col])"
   ]
  },
  {
   "cell_type": "code",
   "execution_count": 9,
   "metadata": {},
   "outputs": [],
   "source": [
    "cra = Column(ras,name='ra')\n",
    "cdec = Column(decs,name='dec')\n",
    "cids = Column(ids,name='help_id')\n",
    "cdet = Column(np.zeros(len(ras))-99,name='flag_optnir_det')\n",
    "ci1 = Column(np.zeros(len(lofar)),name='f_irac_i1')\n",
    "ci2 = Column(np.zeros(len(lofar)),name='f_irac_i2')\n",
    "ci3 = Column(np.zeros(len(lofar)),name='f_irac_i3')\n",
    "ci4 = Column(np.zeros(len(lofar)),name='f_irac_i4')\n",
    "lofar_prior = Table()\n",
    "lofar_prior.add_columns([cra,cdec,cids,cdet,ci1,ci2,ci3,ci4])"
   ]
  },
  {
   "cell_type": "code",
   "execution_count": 10,
   "metadata": {},
   "outputs": [],
   "source": [
    "#since there is no IRAC data for the QSO the upper and lower limits on MIPS are left unchanged\n",
    "MIPS_lower=np.full(len(lofar_prior),0.0)\n",
    "MIPS_upper=np.full(len(lofar_prior),1E5)\n",
    "        \n",
    "mips_lower_col = Column(MIPS_lower,name='MIPS_lower')\n",
    "mips_upper_col = Column(MIPS_upper,name='MIPS_upper')\n",
    "lofar_prior = Table()\n",
    "lofar_prior.add_columns([cra,cdec,cids,cdet,ci1,ci2,ci3,ci4,mips_lower_col,mips_upper_col])"
   ]
  },
  {
   "cell_type": "code",
   "execution_count": 11,
   "metadata": {},
   "outputs": [
    {
     "name": "stdout",
     "output_type": "stream",
     "text": [
      "<class 'astropy.table.table.Table'>\n",
      "fits\n"
     ]
    }
   ],
   "source": [
    "#Table.write(prior_cat,'data/data_release/xidplus_prior_cat_MIPS_QSO_Calistro.fits',overwrite=True)\n",
    "from astropy.io import registry\n",
    "from astropy.table.info import serialize_method_as\n",
    "\n",
    "with serialize_method_as(prior_cat, None):\n",
    "            registry.write(prior_cat,'data/xidplus_prior_cat_MIPS_QSO_Calistro.fits',format='fits')"
   ]
  },
  {
   "cell_type": "code",
   "execution_count": null,
   "metadata": {},
   "outputs": [],
   "source": []
  }
 ],
 "metadata": {
  "kernelspec": {
   "display_name": "Python 3",
   "language": "python",
   "name": "python3"
  },
  "language_info": {
   "codemirror_mode": {
    "name": "ipython",
    "version": 3
   },
   "file_extension": ".py",
   "mimetype": "text/x-python",
   "name": "python",
   "nbconvert_exporter": "python",
   "pygments_lexer": "ipython3",
   "version": "3.6.7"
  }
 },
 "nbformat": 4,
 "nbformat_minor": 2
}
