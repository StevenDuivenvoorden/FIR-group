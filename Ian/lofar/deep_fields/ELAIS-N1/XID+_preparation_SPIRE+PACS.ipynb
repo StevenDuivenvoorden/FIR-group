{
 "cells": [
  {
   "cell_type": "markdown",
   "metadata": {},
   "source": [
    "# Notebook for preprocessing the LOFAR catalogues before XID+\n",
    "\n",
    "it outputs a modified LOFAR radio data table with two new columns. the first column is XID+_rerun and is a boolean array stating whether a source should ahve XID+ rerun or not. The second is a string column that says what where the fir for that source comes from."
   ]
  },
  {
   "cell_type": "code",
   "execution_count": 1,
   "metadata": {},
   "outputs": [],
   "source": [
    "from astropy.io import ascii, fits\n",
    "import astropy\n",
    "import pylab as plt\n",
    "%matplotlib inline\n",
    "from astropy import wcs\n",
    "from astropy.table import Table,Column,join,hstack,vstack\n",
    "from astropy.coordinates import SkyCoord\n",
    "from astropy import units as u\n",
    "import pymoc\n",
    "import glob\n",
    "from time import sleep\n",
    "import os\n",
    "import pymoc\n",
    "import mocpy\n",
    "\n",
    "import numpy as np\n",
    "import xidplus\n",
    "from xidplus import moc_routines\n",
    "import pickle\n",
    "import xidplus.catalogue as cat\n",
    "\n",
    "import sys\n",
    "#from herschelhelp_internal.utils import inMoc,flux_to_mag\n",
    "from xidplus.stan_fit import SPIRE\n",
    "\n",
    "import aplpy\n",
    "import seaborn as sns\n",
    "#sns.set(color_codes=True)\n",
    "import pandas as pd\n",
    "#sns.set_style(\"white\")\n",
    "import xidplus.posterior_maps as postmaps\n",
    "#from herschelhelp_internal.masterlist import merge_catalogues, nb_merge_dist_plot, specz_merge\n",
    "import pyvo as vo\n",
    "#from herschelhelp_internal.utils import inMoc\n",
    "from pymoc.io.fits import read_moc_fits\n",
    "\n"
   ]
  },
  {
   "cell_type": "code",
   "execution_count": 7,
   "metadata": {},
   "outputs": [
    {
     "name": "stdout",
     "output_type": "stream",
     "text": [
      "SPIRE covers: 13.507484555454763sq degrees\n",
      "PACS covers: 9.677919150573207sq degrees\n",
      "MIPS covers: 9.72350746163187sq degrees\n"
     ]
    }
   ],
   "source": [
    "lofar = Table.read('data/EN1_opt_spitzer_merged_vac_opt3as_irac4as_all_hpx_public.fits')\n",
    "\n",
    "mask = ~np.isnan(lofar['F_SPIRE_250'])\n",
    "c = SkyCoord(lofar['RA'][mask],lofar['DEC'][mask],unit='deg')\n",
    "spire_moc = pymoc.util.catalog.catalog_to_moc(c,60,15)\n",
    "spire_moc = pymoc.moc.MOC()\n",
    "read_moc_fits(spire_moc,'/lustre/scratch/astro/im281/HELP/dmu_products/dmu2/dmu2_field_coverages/ELAIS-N1_MOC.fits')\n",
    "print('SPIRE covers: {}sq degrees'.format(spire_moc.area_sq_deg))\n",
    "\n",
    "mask = ~np.isnan(lofar['F_PACS_100'])\n",
    "c = SkyCoord(lofar['RA'][mask],lofar['DEC'][mask],unit='deg')\n",
    "pacs_moc = pymoc.util.catalog.catalog_to_moc(c,60,15)\n",
    "print('PACS covers: {}sq degrees'.format(pacs_moc.area_sq_deg))\n",
    "\n",
    "mask = ~np.isnan(lofar['F_MIPS_24'])\n",
    "c = SkyCoord(lofar['RA'][mask],lofar['DEC'][mask],unit='deg')\n",
    "mips_moc = pymoc.util.catalog.catalog_to_moc(c,60,15)\n",
    "print('MIPS covers: {}sq degrees'.format(mips_moc.area_sq_deg))"
   ]
  },
  {
   "cell_type": "code",
   "execution_count": 28,
   "metadata": {},
   "outputs": [
    {
     "name": "stdout",
     "output_type": "stream",
     "text": [
      "SPIRE covers: 13.834475593100896sq degrees\n"
     ]
    }
   ],
   "source": [
    "imfolder='../../../../../HELP/dmu_products/dmu17/dmu17_HELP_Legacy_maps/ELAIS-N1/data/'\n",
    "\n",
    "pswfits=imfolder+'wp4_elais-n1_mips24_map_v1.0.fits.gz'#SPIRE 250 map\n",
    "\n",
    "MIPS_Map = fits.open(pswfits)\n",
    "\n",
    "#-----250-------------\n",
    "hdulist = fits.open(pswfits)\n",
    "im250phdu=hdulist[0].header\n",
    "im250hdu=hdulist[1].header\n",
    "mips_moc = mocpy.MOC.from_image(im250hdu,15)\n",
    "\n",
    "mips_moc.write('data/data_release/final_mocs/mips_moc_en1.fits',format='fits',overwrite=True)\n",
    "\n",
    "mips_moc = pymoc.moc.MOC()\n",
    "read_moc_fits(mips_moc,'data/data_release/final_mocs/mips_moc_en1.fits')\n",
    "print('SPIRE covers: {}sq degrees'.format(mips_moc.area_sq_deg))"
   ]
  },
  {
   "cell_type": "code",
   "execution_count": 29,
   "metadata": {},
   "outputs": [
    {
     "name": "stdout",
     "output_type": "stream",
     "text": [
      "SPIRE covers: 24.23288471879231sq degrees\n"
     ]
    }
   ],
   "source": [
    "imfolder='../../../../../HELP/dmu_products/dmu18/dmu18_ELAIS-N1/data/'\n",
    "\n",
    "im100fits=imfolder + 'ELAIS-N1-100um-img_wgls.fits'#PACS 100 map\n",
    "#-----100-------------\n",
    "hdulist = fits.open(im100fits)\n",
    "im100phdu=hdulist[0].header\n",
    "im100hdu=hdulist[0].header\n",
    "pacs_moc = mocpy.MOC.from_image(im100hdu,15)\n",
    "\n",
    "pacs_moc.write('data/data_release/final_mocs/pacs_moc_en1.fits',format='fits',overwrite=True)\n",
    "\n",
    "pacs_moc = pymoc.moc.MOC()\n",
    "read_moc_fits(pacs_moc,'data/data_release/final_mocs/pacs_moc_en1.fits')\n",
    "print('SPIRE covers: {}sq degrees'.format(pacs_moc.area_sq_deg))"
   ]
  },
  {
   "cell_type": "code",
   "execution_count": 27,
   "metadata": {},
   "outputs": [
    {
     "name": "stdout",
     "output_type": "stream",
     "text": [
      "SPIRE covers: 24.978424412691524sq degrees\n"
     ]
    }
   ],
   "source": [
    "imfolder='../../../../../HELP/dmu_products/dmu19/dmu19_HELP-SPIRE-maps/data/'\n",
    "\n",
    "pswfits=imfolder+'ELAIS-N1_SPIRE250_v1.0.fits'#SPIRE 250 map\n",
    "\n",
    "#-----250-------------\n",
    "hdulist = fits.open(pswfits)\n",
    "im250phdu=hdulist[0].header\n",
    "im250hdu=hdulist['image'].header\n",
    "spire_moc = mocpy.MOC.from_image(im250hdu,15)\n",
    "\n",
    "spire_moc.write('data/data_release/final_mocs/spire_moc_en1.fits',format='fits',overwrite=True)\n",
    "\n",
    "spire_moc = pymoc.moc.MOC()\n",
    "read_moc_fits(spire_moc,'data/data_release/final_mocs/spire_moc_en1.fits')\n",
    "print('SPIRE covers: {}sq degrees'.format(spire_moc.area_sq_deg))"
   ]
  },
  {
   "cell_type": "code",
   "execution_count": 21,
   "metadata": {},
   "outputs": [],
   "source": []
  },
  {
   "cell_type": "code",
   "execution_count": 22,
   "metadata": {},
   "outputs": [
    {
     "name": "stdout",
     "output_type": "stream",
     "text": [
      "SPIRE covers: 24.978424412691524sq degrees\n"
     ]
    }
   ],
   "source": []
  },
  {
   "cell_type": "markdown",
   "metadata": {},
   "source": [
    "# spire_moc"
   ]
  },
  {
   "cell_type": "code",
   "execution_count": 3,
   "metadata": {},
   "outputs": [],
   "source": [
    "#lofar01 = Table.read('data/data_release/final_cross_match_catalogue-v0.1.fits')\n",
    "#lofar05 = Table.read('data/data_release/final_cross_match_catalogue-v0.5.fits')\n",
    "#new_x_old = join(lofar05,lofar01,join_type='left',keys='Source_Name')"
   ]
  },
  {
   "cell_type": "code",
   "execution_count": 17,
   "metadata": {},
   "outputs": [],
   "source": [
    "#mask = new_x_old['optRA_1']==new_x_old['optRA_2']\n",
    "lofar = Table.read('data/data_release/final_cross_match_catalogue-v0.5.fits')"
   ]
  },
  {
   "cell_type": "code",
   "execution_count": 3,
   "metadata": {},
   "outputs": [
    {
     "name": "stdout",
     "output_type": "stream",
     "text": [
      "807\n",
      "807\n"
     ]
    }
   ],
   "source": [
    "#Read in the LOFAR data and select sources with no FIR measurements from XID+\n",
    "lofar = Table.read('data/data_release/final_cross_match_catalogue-v0.5.fits')\n",
    "mask = (~np.isnan(lofar['F_SPIRE_250'])) | (~np.isnan(lofar['F_SPIRE_350'])) | (~np.isnan(lofar['F_SPIRE_500']))\n",
    "lofar = lofar[~mask]\n",
    "\n",
    "ras = lofar['optRA']\n",
    "mask = np.isnan(ras)\n",
    "print(np.sum(mask))\n",
    "ras[mask] = lofar['RA'][mask]\n",
    "\n",
    "decs = lofar['optDec']\n",
    "mask = np.isnan(decs)\n",
    "print(np.sum(mask))\n",
    "decs[mask] = lofar['DEC'][mask]\n",
    "\n",
    "ids = lofar['Source_Name']"
   ]
  },
  {
   "cell_type": "code",
   "execution_count": 4,
   "metadata": {},
   "outputs": [
    {
     "data": {
      "text/plain": [
       "8370"
      ]
     },
     "execution_count": 4,
     "metadata": {},
     "output_type": "execute_result"
    }
   ],
   "source": [
    "len(lofar)"
   ]
  },
  {
   "cell_type": "code",
   "execution_count": 5,
   "metadata": {},
   "outputs": [],
   "source": [
    "#Read in the HELP masterlist and select the wanted columns\n",
    "columns = 'ra','dec','help_id','flag_optnir_det','f_mips_24'\n",
    "masterlist = Table.read('../../../../../HELP/dmu_products/dmu32/dmu32_ELAIS-N1/data/ELAIS-N1_20171020.fits')\n",
    "help_masterlist = masterlist[columns]"
   ]
  },
  {
   "cell_type": "code",
   "execution_count": 6,
   "metadata": {},
   "outputs": [
    {
     "name": "stdout",
     "output_type": "stream",
     "text": [
      "number of help prior sources is: 269611\n"
     ]
    }
   ],
   "source": [
    "mips_mask = (help_masterlist['flag_optnir_det']>=5) & (help_masterlist['f_mips_24']>20)\n",
    "\n",
    "prior_cat = help_masterlist[mips_mask]\n",
    "print('number of help prior sources is: {}'.format(len(prior_cat)))"
   ]
  },
  {
   "cell_type": "code",
   "execution_count": 7,
   "metadata": {},
   "outputs": [],
   "source": [
    "cra = Column(ras,name='ra')\n",
    "cdec = Column(decs,name='dec')\n",
    "cids = Column(ids,name='help_id')\n",
    "cdet = Column(np.zeros(len(ras))-99,name='flag_optnir_det')\n",
    "cmips = Column(np.zeros(len(ras))*np.nan,name='f_mips_24')\n",
    "lofar_prior = Table()\n",
    "lofar_prior.add_columns([cra,cdec,cids,cdet,cmips])"
   ]
  },
  {
   "cell_type": "code",
   "execution_count": 8,
   "metadata": {},
   "outputs": [
    {
     "data": {
      "text/plain": [
       "277981"
      ]
     },
     "execution_count": 8,
     "metadata": {},
     "output_type": "execute_result"
    }
   ],
   "source": [
    "prior_cat = vstack([prior_cat,lofar_prior])\n",
    "len(prior_cat)"
   ]
  },
  {
   "cell_type": "code",
   "execution_count": 9,
   "metadata": {},
   "outputs": [],
   "source": [
    "Table.write(prior_cat,'data/data_release/xidplus_prior_cat.fits',overwrite=True)"
   ]
  },
  {
   "cell_type": "code",
   "execution_count": null,
   "metadata": {},
   "outputs": [],
   "source": []
  },
  {
   "cell_type": "markdown",
   "metadata": {},
   "source": [
    "### Create a seperate prior list for rerunning all sources even if they are nearby a prior list source"
   ]
  },
  {
   "cell_type": "code",
   "execution_count": 102,
   "metadata": {},
   "outputs": [
    {
     "name": "stdout",
     "output_type": "stream",
     "text": [
      "1236\n",
      "1236\n",
      "31748\n"
     ]
    }
   ],
   "source": [
    "lofar = Table.read('data/data_release/final_cross_match_catalogue-v0.1.fits')\n",
    "\n",
    "ras = lofar['optRA']\n",
    "mask = np.isnan(ras)\n",
    "print(np.sum(mask))\n",
    "ras[mask] = lofar['RA'][mask]\n",
    "\n",
    "decs = lofar['optDec']\n",
    "mask = np.isnan(decs)\n",
    "print(np.sum(mask))\n",
    "decs[mask] = lofar['DEC'][mask]\n",
    "\n",
    "ids = lofar['Source_Name']\n",
    "print(len(ras))"
   ]
  },
  {
   "cell_type": "code",
   "execution_count": 103,
   "metadata": {},
   "outputs": [],
   "source": [
    "columns = 'ra','dec','help_id','flag_optnir_det','f_mips_24'\n",
    "masterlist = Table.read('../../../../../HELP/dmu_products/dmu32/dmu32_ELAIS-N1/data/ELAIS-N1_20171020.fits')\n",
    "help_masterlist = masterlist[columns]"
   ]
  },
  {
   "cell_type": "code",
   "execution_count": 104,
   "metadata": {},
   "outputs": [
    {
     "name": "stdout",
     "output_type": "stream",
     "text": [
      "number of help prior sources is: 269611\n"
     ]
    }
   ],
   "source": [
    "mips_mask = (help_masterlist['flag_optnir_det']>=5) & (help_masterlist['f_mips_24']>20)\n",
    "\n",
    "prior_cat = help_masterlist[mips_mask]\n",
    "print('number of help prior sources is: {}'.format(len(prior_cat)))"
   ]
  },
  {
   "cell_type": "code",
   "execution_count": 105,
   "metadata": {},
   "outputs": [],
   "source": [
    "cra = Column(ras,name='ra')\n",
    "cdec = Column(decs,name='dec')\n",
    "cids = Column(ids,name='help_id')\n",
    "cdet = Column(np.zeros(len(ras))-99,name='flag_optnir_det')\n",
    "cmips = Column(np.zeros(len(ras))*np.nan,name='f_mips_24')\n",
    "lofar_prior = Table()\n",
    "lofar_prior.add_columns([cra,cdec,cids,cdet,cmips])"
   ]
  },
  {
   "cell_type": "code",
   "execution_count": 106,
   "metadata": {},
   "outputs": [
    {
     "data": {
      "text/plain": [
       "301359"
      ]
     },
     "execution_count": 106,
     "metadata": {},
     "output_type": "execute_result"
    }
   ],
   "source": [
    "prior_cat = vstack([prior_cat,lofar_prior])\n",
    "len(prior_cat)"
   ]
  },
  {
   "cell_type": "code",
   "execution_count": 107,
   "metadata": {},
   "outputs": [],
   "source": [
    "Table.write(prior_cat,'data/data_release/xidplus_prior_cat_rerun_all.fits',overwrite=True)"
   ]
  },
  {
   "cell_type": "code",
   "execution_count": null,
   "metadata": {},
   "outputs": [],
   "source": []
  },
  {
   "cell_type": "markdown",
   "metadata": {},
   "source": [
    "## Create a prior list for the QSO sources"
   ]
  },
  {
   "cell_type": "code",
   "execution_count": 4,
   "metadata": {},
   "outputs": [
    {
     "data": {
      "text/html": [
       "<i>Row index=0 masked=True</i>\n",
       "<table id=\"table140736758862344\">\n",
       "<thead><tr><th>SDSS_NAME</th><th>RA</th><th>DEC</th><th>THING_ID</th><th>PLATE</th><th>MJD</th><th>FIBERID</th><th>SPECTRO</th><th>Z</th><th>Z_ERR</th><th>SOURCE_Z</th><th>Z_VI</th><th>Z_PIPE</th><th>Z_PIPE_ERR</th><th>ZWARNING</th><th>Z_PCA</th><th>Z_PCA_ER</th><th>Z_MGII</th><th>BOSS_TARGET1</th><th>ANCILLARY_TARGET1</th><th>ANCILLARY_TARGET2</th><th>EBOSS_TARGET0</th><th>EBOSS_TARGET1</th><th>EBOSS_TARGET2</th><th>N_SPEC_SDSS</th><th>N_SPEC_BOSS</th><th>N_SPEC</th><th>PLATE_DUPLICATE [51]</th><th>MJD_DUPLICATE [51]</th><th>FIBERID_DUPLICATE [51]</th><th>SPECTRO_DUPLICATE [51]</th><th>BI_CIV</th><th>ERR_BI_CIV</th><th>RUN_NUMBER</th><th>RERUN_NUMBER</th><th>COL_NUMBER</th><th>FIELD_NUMBER</th><th>OBJ_ID</th><th>PSFFLUX [5]</th><th>IVAR_PSFFLUX [5]</th><th>PSFMAG [5]</th><th>ERR_PSFMAG [5]</th><th>MI</th><th>GAL_EXT [5]</th><th>RASS_COUNTS</th><th>RASS_COUNTS_SNR</th><th>SDSS2ROSAT_SEP</th><th>FLUX_0.2_2.0keV</th><th>FLUX_0.2_2.0keV_ERR</th><th>FLUX_2.0_12.0keV</th><th>FLUX_2.0_12.0keV_ERR</th><th>FLUX_0.2_12.0keV</th><th>FLUX_0.2_12.0keV_ERR</th><th>LUM_0.2_12.0keV</th><th>SDSS2XMM_SEP</th><th>GALEX_MATCHED</th><th>FUV</th><th>FUV_IVAR</th><th>NUV</th><th>NUV_IVAR</th><th>JMAG</th><th>ERR_JMAG</th><th>JSNR</th><th>JRDFLAG</th><th>HMAG</th><th>ERR_HMAG</th><th>HSNR</th><th>HRDFLAG</th><th>KMAG</th><th>ERR_KMAG</th><th>KSNR</th><th>KRDFLAG</th><th>SDSS2MASS_SEP</th><th>W1MAG</th><th>ERR_W1MAG</th><th>W1SNR</th><th>W1CHI2</th><th>W2MAG</th><th>ERR_W2MAG</th><th>W2SNR</th><th>W2CHI2</th><th>W3MAG</th><th>ERR_W3MAG</th><th>W3SNR</th><th>W3CHI2</th><th>W4MAG</th><th>ERR_W4MAG</th><th>W4SNR</th><th>W4CHI2</th><th>CC_FLAGS</th><th>PH_FLAGS</th><th>SDSS2WISE_SEP</th><th>UKIDSS_MATCHED</th><th>YFLUX</th><th>YFLUX_ERR</th><th>JFLUX</th><th>JFLUX_ERR</th><th>HFLUX</th><th>HFLUX_ERR</th><th>KFLUX</th><th>KFLUX_ERR</th><th>FIRST_MATCHED</th><th>FIRST_FLUX</th><th>FIRST_SNR</th><th>SDSS2FIRST_SEP</th><th>DR7_index</th><th>L6mu</th><th>L6mu_err</th><th>sample</th></tr></thead>\n",
       "<thead><tr><th>-</th><th>deg</th><th>deg</th><th>-</th><th>-</th><th>-</th><th>-</th><th>-</th><th>-</th><th>-</th><th>-</th><th>-</th><th>-</th><th>-</th><th>-</th><th>-</th><th>-</th><th>-</th><th>-</th><th>-</th><th>-</th><th>-</th><th>-</th><th>-</th><th>-</th><th>-</th><th>-</th><th>-</th><th>-</th><th>-</th><th>-</th><th>km / s</th><th>km / s</th><th>-</th><th>-</th><th>-</th><th>-</th><th>-</th><th>nanomaggies</th><th>-</th><th>mag</th><th>mag</th><th>-</th><th>mag</th><th>counts/s</th><th>-</th><th>arcsec</th><th>erg / (cm2 s)</th><th>erg / (cm2 s)</th><th>erg / (cm2 s)</th><th>erg / (cm2 s)</th><th>erg / (cm2 s)</th><th>erg / (cm2 s)</th><th>erg / s</th><th>arcsec</th><th>-</th><th>-</th><th>-</th><th>-</th><th>-</th><th>Vega</th><th>Vega</th><th>-</th><th>-</th><th>Vega</th><th>Vega</th><th>-</th><th>-</th><th>Vega</th><th>Vega</th><th>-</th><th>-</th><th>arcsec</th><th>-</th><th>-</th><th>-</th><th>-</th><th>-</th><th>-</th><th>-</th><th>-</th><th>-</th><th>-</th><th>-</th><th>-</th><th>-</th><th>-</th><th>-</th><th>-</th><th>-</th><th>-</th><th>arcsec</th><th>-</th><th>W / (Hz m2)</th><th>W / (Hz m2)</th><th>W / (Hz m2)</th><th>W / (Hz m2)</th><th>W / (Hz m2)</th><th>W / (Hz m2)</th><th>W / (Hz m2)</th><th>W / (Hz m2)</th><th>-</th><th>mJy</th><th>-</th><th>arcsec</th><th></th><th></th><th></th><th></th></tr></thead>\n",
       "<thead><tr><th>bytes18</th><th>float64</th><th>float64</th><th>int32</th><th>int16</th><th>int32</th><th>int16</th><th>bytes4</th><th>float64</th><th>float64</th><th>bytes4</th><th>float64</th><th>float64</th><th>float64</th><th>int16</th><th>float64</th><th>float64</th><th>float64</th><th>int64</th><th>int64</th><th>int64</th><th>int64</th><th>int64</th><th>int64</th><th>int16</th><th>int16</th><th>int16</th><th>int32</th><th>int32</th><th>int32</th><th>bytes1</th><th>float64</th><th>float64</th><th>int16</th><th>bytes1</th><th>int16</th><th>int16</th><th>bytes1</th><th>float64</th><th>float64</th><th>float64</th><th>float64</th><th>float64</th><th>float64</th><th>float64</th><th>float64</th><th>float64</th><th>float64</th><th>float64</th><th>float64</th><th>float64</th><th>float64</th><th>float64</th><th>float64</th><th>float64</th><th>float32</th><th>float64</th><th>float64</th><th>float64</th><th>float64</th><th>float64</th><th>float64</th><th>float32</th><th>int16</th><th>float64</th><th>float64</th><th>float32</th><th>int16</th><th>float64</th><th>float64</th><th>float32</th><th>int16</th><th>float64</th><th>float64</th><th>float64</th><th>float64</th><th>float64</th><th>float64</th><th>float64</th><th>float64</th><th>float64</th><th>float64</th><th>float64</th><th>float64</th><th>float64</th><th>float64</th><th>float64</th><th>float64</th><th>float64</th><th>bytes4</th><th>bytes4</th><th>float64</th><th>float32</th><th>float64</th><th>float64</th><th>float64</th><th>float64</th><th>float64</th><th>float64</th><th>float64</th><th>float64</th><th>int16</th><th>float64</th><th>float64</th><th>float64</th><th>int32</th><th>float64</th><th>float64</th><th>bytes4</th></tr></thead>\n",
       "<tr><td>142640.66+321151.9</td><td>216.66943359375</td><td>32.197757720947266</td><td>-1</td><td>1841</td><td>53491</td><td>317</td><td>SDSS</td><td>0.2019</td><td>0.0</td><td>DR7Q</td><td>-1.0</td><td>-1.0</td><td>-1.0</td><td>-1</td><td>0.0</td><td>0.0</td><td>0.0</td><td>0</td><td>0</td><td>0</td><td>0</td><td>0</td><td>0</td><td>0</td><td>0</td><td>0</td><td>-1 .. -1</td><td>-1 .. -1</td><td>-1 .. -1</td><td>- .. -</td><td>0.0</td><td>0.0</td><td>0</td><td>-</td><td>0</td><td>0</td><td>-</td><td>-9999.0 .. -9999.0</td><td>-9999.0 .. -9999.0</td><td>18.825000762939453 .. 17.885000228881836</td><td>0.023000000044703484 .. 0.028999999165534973</td><td>-22.478964</td><td>0.06 .. 0.01722</td><td>0.0</td><td>0.0</td><td>-1.0</td><td>nan</td><td>nan</td><td>nan</td><td>nan</td><td>nan</td><td>nan</td><td>nan</td><td>nan</td><td>1.0</td><td>6.457155227661133</td><td>1.5975519690476745</td><td>15.947311401367188</td><td>294.5100303885923</td><td>16.269000000000002</td><td>0.111</td><td>10.1</td><td>2</td><td>15.091</td><td>0.093</td><td>12.8</td><td>2</td><td>14.009</td><td>0.052000000000000005</td><td>24.1</td><td>2</td><td>0.297782</td><td>12.93</td><td>0.024</td><td>46.0</td><td>1.216</td><td>11.822</td><td>0.021</td><td>52.099998474121094</td><td>1.213</td><td>8.969</td><td>0.026</td><td>42.400001525878906</td><td>0.8701</td><td>6.419</td><td>0.024</td><td>23.0</td><td>1.031</td><td>0000</td><td>AAAA</td><td>0.045578</td><td>0.0</td><td>0.0</td><td>0.0</td><td>0.0</td><td>0.0</td><td>0.0</td><td>0.0</td><td>0.0</td><td>0.0</td><td>0</td><td>-1.0</td><td>-1.0</td><td>-1.0</td><td>77651</td><td>44.393281024044946</td><td>0.013368619973654723</td><td>cQSO</td></tr>\n",
       "</table>"
      ],
      "text/plain": [
       "<Row index=0 masked=True>\n",
       "    SDSS_NAME             RA              DEC         THING_ID PLATE  MJD  FIBERID SPECTRO    Z     Z_ERR  SOURCE_Z   Z_VI   Z_PIPE Z_PIPE_ERR ZWARNING  Z_PCA  Z_PCA_ER  Z_MGII BOSS_TARGET1 ANCILLARY_TARGET1 ANCILLARY_TARGET2 EBOSS_TARGET0 EBOSS_TARGET1 EBOSS_TARGET2 N_SPEC_SDSS N_SPEC_BOSS N_SPEC PLATE_DUPLICATE [51] MJD_DUPLICATE [51] FIBERID_DUPLICATE [51] SPECTRO_DUPLICATE [51]  BI_CIV ERR_BI_CIV RUN_NUMBER RERUN_NUMBER COL_NUMBER FIELD_NUMBER OBJ_ID    PSFFLUX [5]      IVAR_PSFFLUX [5]                 PSFMAG [5]                               ERR_PSFMAG [5]                    MI       GAL_EXT [5]   RASS_COUNTS RASS_COUNTS_SNR SDSS2ROSAT_SEP FLUX_0.2_2.0keV FLUX_0.2_2.0keV_ERR FLUX_2.0_12.0keV FLUX_2.0_12.0keV_ERR FLUX_0.2_12.0keV FLUX_0.2_12.0keV_ERR LUM_0.2_12.0keV SDSS2XMM_SEP GALEX_MATCHED        FUV             FUV_IVAR             NUV              NUV_IVAR            JMAG        ERR_JMAG   JSNR  JRDFLAG   HMAG  ERR_HMAG   HSNR  HRDFLAG   KMAG        ERR_KMAG         KSNR  KRDFLAG SDSS2MASS_SEP  W1MAG  ERR_W1MAG  W1SNR   W1CHI2  W2MAG  ERR_W2MAG       W2SNR         W2CHI2  W3MAG  ERR_W3MAG       W3SNR         W3CHI2  W4MAG  ERR_W4MAG  W4SNR   W4CHI2 CC_FLAGS PH_FLAGS SDSS2WISE_SEP UKIDSS_MATCHED    YFLUX     YFLUX_ERR     JFLUX     JFLUX_ERR     HFLUX     HFLUX_ERR     KFLUX     KFLUX_ERR  FIRST_MATCHED FIRST_FLUX FIRST_SNR SDSS2FIRST_SEP DR7_index        L6mu              L6mu_err       sample\n",
       "        -                deg              deg            -       -     -      -       -       -       -       -        -       -        -         -        -       -        -         -               -                 -               -             -             -            -           -        -             -                   -                    -                      -             km / s   km / s       -           -           -           -         -       nanomaggies             -                            mag                                        mag                          -            mag         counts/s         -            arcsec      erg / (cm2 s)     erg / (cm2 s)     erg / (cm2 s)      erg / (cm2 s)      erg / (cm2 s)      erg / (cm2 s)         erg / s        arcsec          -               -                 -                  -                  -                Vega          Vega      -       -      Vega    Vega      -       -      Vega          Vega            -       -        arcsec       -        -        -       -       -        -             -             -       -        -             -             -       -        -        -       -       -        -         arcsec          -        W / (Hz m2) W / (Hz m2) W / (Hz m2) W / (Hz m2) W / (Hz m2) W / (Hz m2) W / (Hz m2) W / (Hz m2)       -          mJy         -         arcsec                                                             \n",
       "     bytes18           float64          float64        int32   int16 int32  int16   bytes4 float64 float64  bytes4  float64 float64  float64    int16   float64 float64  float64    int64           int64             int64           int64         int64         int64        int16       int16    int16         int32               int32                int32                  bytes1         float64  float64     int16       bytes1      int16       int16     bytes1      float64            float64                       float64                                    float64                     float64       float64       float64       float64        float64         float64           float64           float64            float64            float64            float64            float64       float64       float32         float64           float64            float64            float64           float64       float64  float32  int16  float64 float64  float32  int16  float64       float64        float32  int16     float64    float64  float64  float64 float64 float64  float64       float64       float64 float64  float64       float64       float64 float64  float64  float64 float64  bytes4   bytes4     float64       float32       float64     float64     float64     float64     float64     float64     float64     float64       int16      float64    float64     float64       int32        float64             float64        bytes4\n",
       "------------------ --------------- ------------------ -------- ----- ----- ------- ------- ------- ------- -------- ------- ------- ---------- -------- ------- -------- ------- ------------ ----------------- ----------------- ------------- ------------- ------------- ----------- ----------- ------ -------------------- ------------------ ---------------------- ---------------------- ------- ---------- ---------- ------------ ---------- ------------ ------ ------------------ ------------------ ---------------------------------------- -------------------------------------------- ---------- --------------- ----------- --------------- -------------- --------------- ------------------- ---------------- -------------------- ---------------- -------------------- --------------- ------------ ------------- ----------------- ------------------ ------------------ ----------------- ------------------ -------- ------- ------- ------- -------- ------- ------- ------- -------------------- ------- ------- ------------- ------- --------- ------- ------- ------- --------- ------------------ ------- ------- --------- ------------------ ------- ------- --------- ------- ------- -------- -------- ------------- -------------- ----------- ----------- ----------- ----------- ----------- ----------- ----------- ----------- ------------- ---------- --------- -------------- --------- ------------------ -------------------- ------\n",
       "142640.66+321151.9 216.66943359375 32.197757720947266       -1  1841 53491     317    SDSS  0.2019     0.0     DR7Q    -1.0    -1.0       -1.0       -1     0.0      0.0     0.0            0                 0                 0             0             0             0           0           0      0             -1 .. -1           -1 .. -1               -1 .. -1                 - .. -     0.0        0.0          0            -          0            0      - -9999.0 .. -9999.0 -9999.0 .. -9999.0 18.825000762939453 .. 17.885000228881836 0.023000000044703484 .. 0.028999999165534973 -22.478964 0.06 .. 0.01722         0.0             0.0           -1.0             nan                 nan              nan                  nan              nan                  nan             nan          nan           1.0 6.457155227661133 1.5975519690476745 15.947311401367188 294.5100303885923 16.269000000000002    0.111    10.1       2  15.091    0.093    12.8       2  14.009 0.052000000000000005    24.1       2      0.297782   12.93     0.024    46.0   1.216  11.822     0.021 52.099998474121094   1.213   8.969     0.026 42.400001525878906  0.8701   6.419     0.024    23.0   1.031     0000     AAAA      0.045578            0.0         0.0         0.0         0.0         0.0         0.0         0.0         0.0         0.0             0       -1.0      -1.0           -1.0     77651 44.393281024044946 0.013368619973654723   cQSO"
      ]
     },
     "execution_count": 4,
     "metadata": {},
     "output_type": "execute_result"
    }
   ],
   "source": [
    "lofar = Table.read('../LOFAR_QSO/data/SDSSrcQSO_LOFARnondetect.fits')\n",
    "\n",
    "ras = lofar['RA']\n",
    "decs = lofar['DEC']\n",
    "ids = lofar['SDSS_NAME']\n",
    "lofar[0]"
   ]
  },
  {
   "cell_type": "code",
   "execution_count": 5,
   "metadata": {},
   "outputs": [],
   "source": [
    "columns = 'ra','dec','help_id','flag_optnir_det','f_mips_24'\n",
    "masterlist = Table.read('../../../../../HELP/dmu_products/dmu32/dmu32_ELAIS-N1/data/ELAIS-N1_20171020.fits')\n",
    "help_masterlist = masterlist[columns]"
   ]
  },
  {
   "cell_type": "code",
   "execution_count": 6,
   "metadata": {},
   "outputs": [
    {
     "name": "stdout",
     "output_type": "stream",
     "text": [
      "number of help prior sources is: 269611\n"
     ]
    }
   ],
   "source": [
    "mips_mask = (help_masterlist['flag_optnir_det']>=5) & (help_masterlist['f_mips_24']>20)\n",
    "\n",
    "prior_cat = help_masterlist[mips_mask]\n",
    "print('number of help prior sources is: {}'.format(len(prior_cat)))"
   ]
  },
  {
   "cell_type": "code",
   "execution_count": 7,
   "metadata": {},
   "outputs": [],
   "source": [
    "cra = Column(ras,name='ra')\n",
    "cdec = Column(decs,name='dec')\n",
    "cids = Column(ids,name='help_id')\n",
    "cdet = Column(np.zeros(len(ras))-99,name='flag_optnir_det')\n",
    "cmips = Column(np.zeros(len(ras))*np.nan,name='f_mips_24')\n",
    "lofar_prior = Table()\n",
    "lofar_prior.add_columns([cra,cdec,cids,cdet,cmips])"
   ]
  },
  {
   "cell_type": "code",
   "execution_count": 8,
   "metadata": {},
   "outputs": [
    {
     "data": {
      "text/plain": [
       "270374"
      ]
     },
     "execution_count": 8,
     "metadata": {},
     "output_type": "execute_result"
    }
   ],
   "source": [
    "prior_cat = vstack([prior_cat,lofar_prior])\n",
    "len(prior_cat)"
   ]
  },
  {
   "cell_type": "code",
   "execution_count": 10,
   "metadata": {},
   "outputs": [
    {
     "name": "stdout",
     "output_type": "stream",
     "text": [
      "<class 'astropy.table.table.Table'>\n",
      "fits\n"
     ]
    }
   ],
   "source": [
    "#Table.write(prior_cat,'data/data_release/xidplus_prior_cat_QSO_Calistro.fits',overwrite=True)\n",
    "from astropy.io import registry\n",
    "from astropy.table.info import serialize_method_as\n",
    "\n",
    "with serialize_method_as(prior_cat, None):\n",
    "            registry.write(prior_cat,'data/xidplus_prior_cat_QSO_Calistro.fits',format='fits')"
   ]
  },
  {
   "cell_type": "code",
   "execution_count": null,
   "metadata": {},
   "outputs": [],
   "source": []
  },
  {
   "cell_type": "code",
   "execution_count": null,
   "metadata": {},
   "outputs": [],
   "source": []
  }
 ],
 "metadata": {
  "kernelspec": {
   "display_name": "Python 3",
   "language": "python",
   "name": "python3"
  },
  "language_info": {
   "codemirror_mode": {
    "name": "ipython",
    "version": 3
   },
   "file_extension": ".py",
   "mimetype": "text/x-python",
   "name": "python",
   "nbconvert_exporter": "python",
   "pygments_lexer": "ipython3",
   "version": "3.6.7"
  }
 },
 "nbformat": 4,
 "nbformat_minor": 2
}
