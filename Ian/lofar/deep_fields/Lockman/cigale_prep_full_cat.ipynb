{
 "cells": [
  {
   "cell_type": "code",
   "execution_count": 1,
   "metadata": {},
   "outputs": [],
   "source": [
    "import astropy\n",
    "from astropy.table import Table\n",
    "import numpy as np\n",
    "import matplotlib.pyplot as plt\n",
    "import glob\n",
    "import subprocess\n",
    "import os"
   ]
  },
  {
   "cell_type": "code",
   "execution_count": 2,
   "metadata": {},
   "outputs": [],
   "source": [
    "def pop_list(ls,indices):\n",
    "    for n,ind in enumerate(indices):\n",
    "        ls.pop(ind)\n",
    "    return(ls)"
   ]
  },
  {
   "cell_type": "code",
   "execution_count": 3,
   "metadata": {},
   "outputs": [],
   "source": [
    "photz = Table.read('data/photz/LH_opt_spitzer_merged_vac_opt3as_irac4as_all_hpx_public.fits')\n",
    "#photz =Table.read('/beegfs/lofar/deepfields/science_ready_catalogs/LH_opt_spitzer_merged_vac_opt3as_irac4as_all_hpx_public.fits')"
   ]
  },
  {
   "cell_type": "code",
   "execution_count": 4,
   "metadata": {},
   "outputs": [
    {
     "data": {
      "text/html": [
       "<i>Row index=0 masked=True</i>\n",
       "<table id=\"table4625071408\">\n",
       "<thead><tr><th>id</th><th>ID_OPTICAL</th><th>ID_SPITZER</th><th>RA</th><th>DEC</th><th>help_id</th><th>RA_HELP</th><th>DEC_HELP</th><th>EBV</th><th>Z_SPEC</th><th>CLASS_STAR</th><th>FLAG_CLEAN</th><th>u_flux</th><th>u_fluxerr</th><th>g_flux</th><th>g_fluxerr</th><th>r_flux</th><th>r_fluxerr</th><th>z_flux</th><th>z_fluxerr</th><th>g_rcs_flux</th><th>g_rcs_fluxerr</th><th>r_rcs_flux</th><th>r_rcs_fluxerr</th><th>i_rcs_flux</th><th>i_rcs_fluxerr</th><th>z_rcs_flux</th><th>z_rcs_fluxerr</th><th>J_flux</th><th>J_fluxerr</th><th>K_flux</th><th>K_fluxerr</th><th>ch1_servs_flux</th><th>ch1_servs_fluxerr</th><th>ch2_servs_flux</th><th>ch2_servs_fluxerr</th><th>ch1_swire_flux</th><th>ch1_swire_fluxerr</th><th>ch2_swire_flux</th><th>ch2_swire_fluxerr</th><th>ch3_swire_flux</th><th>ch3_swire_fluxerr</th><th>ch4_swire_flux</th><th>ch4_swire_fluxerr</th><th>F_MIPS_24</th><th>FErr_MIPS_24_u</th><th>FErr_MIPS_24_l</th><th>Bkg_MIPS_24</th><th>Sig_conf_MIPS_24</th><th>Rhat_MIPS_24</th><th>n_eff_MIPS_24</th><th>Pval_res_24</th><th>flag_mips_24</th><th>F_PACS_100</th><th>FErr_PACS_100_u</th><th>FErr_PACS_100_l</th><th>F_PACS_160</th><th>FErr_PACS_160_u</th><th>FErr_PACS_160_l</th><th>Bkg_PACS_100</th><th>Bkg_PACS_160</th><th>Sig_conf_PACS_100</th><th>Sig_conf_PACS_160</th><th>Rhat_PACS_100</th><th>Rhat_PACS_160</th><th>n_eff_PACS_100</th><th>n_eff_PACS_160</th><th>Pval_res_100</th><th>Pval_res_160</th><th>flag_PACS_100</th><th>flag_PACS_160</th><th>F_SPIRE_250</th><th>FErr_SPIRE_250_u</th><th>FErr_SPIRE_250_l</th><th>F_SPIRE_350</th><th>FErr_SPIRE_350_u</th><th>FErr_SPIRE_350_l</th><th>F_SPIRE_500</th><th>FErr_SPIRE_500_u</th><th>FErr_SPIRE_500_l</th><th>Bkg_SPIRE_250</th><th>Bkg_SPIRE_350</th><th>Bkg_SPIRE_500</th><th>Sig_conf_SPIRE_250</th><th>Sig_conf_SPIRE_350</th><th>Sig_conf_SPIRE_500</th><th>Rhat_SPIRE_250</th><th>Rhat_SPIRE_350</th><th>Rhat_SPIRE_500</th><th>n_eff_SPIRE_250</th><th>n_eff_SPIRE_500</th><th>n_eff_SPIRE_350</th><th>Pval_res_250</th><th>Pval_res_350</th><th>Pval_res_500</th><th>flag_spire_250</th><th>flag_spire_350</th><th>flag_spire_500</th><th>AGN</th><th>optAGN</th><th>IRAGN</th><th>XrayAGN</th><th>z1_median</th><th>z1_min</th><th>z1_max</th><th>z1_area</th><th>z2_median</th><th>z2_min</th><th>z2_max</th><th>z2_area</th><th>nfilt_eazy</th><th>nfilt_atlas</th><th>nfilt_ananna</th><th>chi_r_best</th><th>chi_r_stellar</th><th>stellar_type</th><th>hp_idx_11</th><th>hp_depth_cluster</th></tr></thead>\n",
       "<thead><tr><th></th><th></th><th></th><th>deg</th><th>deg</th><th></th><th>deg</th><th>deg</th><th></th><th></th><th></th><th></th><th>uJy</th><th>uJy</th><th>uJy</th><th>uJy</th><th>uJy</th><th>uJy</th><th>uJy</th><th>uJy</th><th>uJy</th><th>uJy</th><th>uJy</th><th>uJy</th><th>uJy</th><th>uJy</th><th>uJy</th><th>uJy</th><th>uJy</th><th>uJy</th><th>uJy</th><th>uJy</th><th>uJy</th><th>uJy</th><th>uJy</th><th>uJy</th><th>uJy</th><th>uJy</th><th>uJy</th><th>uJy</th><th>uJy</th><th>uJy</th><th>uJy</th><th>uJy</th><th>uJy</th><th>uJy</th><th>uJy</th><th>MJy / sr</th><th>MJy / sr</th><th></th><th></th><th></th><th></th><th>mJy</th><th>mJy</th><th>mJy</th><th>mJy</th><th>mJy</th><th>mJy</th><th>mJy/Beam</th><th>mJy/Beam</th><th>mJy/Beam</th><th>mJy/Beam</th><th></th><th></th><th></th><th></th><th></th><th></th><th></th><th></th><th>mJy</th><th>mJy</th><th>mJy</th><th>mJy</th><th>mJy</th><th>mJy</th><th>mJy</th><th>mJy</th><th>mJy</th><th>mJy/Beam</th><th>mJy/Beam</th><th>mJy/Beam</th><th>mJy/Beam</th><th>mJy/Beam</th><th>mJy/Beam</th><th></th><th></th><th></th><th></th><th></th><th></th><th></th><th></th><th></th><th></th><th></th><th></th><th></th><th></th><th></th><th></th><th></th><th></th><th></th><th></th><th></th><th></th><th></th><th></th><th></th><th></th><th></th><th></th><th></th><th></th><th>deg</th><th></th></tr></thead>\n",
       "<thead><tr><th>int64</th><th>int32</th><th>int32</th><th>float64</th><th>float64</th><th>bytes27</th><th>float64</th><th>float64</th><th>float32</th><th>float64</th><th>float32</th><th>int64</th><th>float32</th><th>float32</th><th>float32</th><th>float32</th><th>float32</th><th>float32</th><th>float32</th><th>float32</th><th>float32</th><th>float32</th><th>float32</th><th>float32</th><th>float32</th><th>float32</th><th>float32</th><th>float32</th><th>float32</th><th>float32</th><th>float32</th><th>float32</th><th>float32</th><th>float32</th><th>float32</th><th>float32</th><th>float32</th><th>float32</th><th>float32</th><th>float32</th><th>float32</th><th>float32</th><th>float32</th><th>float32</th><th>float32</th><th>float32</th><th>float32</th><th>float32</th><th>float32</th><th>float32</th><th>float32</th><th>float32</th><th>bool</th><th>float32</th><th>float32</th><th>float32</th><th>float32</th><th>float32</th><th>float32</th><th>float32</th><th>float32</th><th>float32</th><th>float32</th><th>float32</th><th>float32</th><th>float32</th><th>float32</th><th>float32</th><th>float32</th><th>bool</th><th>bool</th><th>float32</th><th>float32</th><th>float32</th><th>float32</th><th>float32</th><th>float32</th><th>float32</th><th>float32</th><th>float32</th><th>float32</th><th>float32</th><th>float32</th><th>float32</th><th>float32</th><th>float32</th><th>float32</th><th>float32</th><th>float32</th><th>float32</th><th>float32</th><th>float32</th><th>float32</th><th>float32</th><th>float32</th><th>bool</th><th>bool</th><th>bool</th><th>int64</th><th>float64</th><th>float64</th><th>float64</th><th>float64</th><th>float64</th><th>float64</th><th>float64</th><th>float64</th><th>float64</th><th>float64</th><th>float64</th><th>int64</th><th>int64</th><th>int64</th><th>float64</th><th>float64</th><th>bytes6</th><th>int64</th><th>int32</th></tr></thead>\n",
       "<tr><td>0</td><td>1</td><td>--</td><td>164.48053950361853</td><td>55.8801032089467</td><td>N/A</td><td>nan</td><td>nan</td><td>0.008567253</td><td>-99.0</td><td>0.8284701</td><td>1</td><td>-99.0</td><td>-99.0</td><td>-99.0</td><td>-99.0</td><td>-99.0</td><td>-99.0</td><td>-99.0</td><td>-99.0</td><td>1.1428666</td><td>0.16968247</td><td>1.6765456</td><td>0.21724406</td><td>1.3065643</td><td>0.4575452</td><td>2.3796828</td><td>1.7248636</td><td>-99.0</td><td>-99.0</td><td>-99.0</td><td>-99.0</td><td>-99.0</td><td>-99.0</td><td>-99.0</td><td>-99.0</td><td>-99.0</td><td>-99.0</td><td>-99.0</td><td>-99.0</td><td>-99.0</td><td>-99.0</td><td>-99.0</td><td>-99.0</td><td>nan</td><td>nan</td><td>nan</td><td>nan</td><td>nan</td><td>nan</td><td>nan</td><td>nan</td><td>True</td><td>nan</td><td>nan</td><td>nan</td><td>nan</td><td>nan</td><td>nan</td><td>nan</td><td>nan</td><td>nan</td><td>nan</td><td>nan</td><td>nan</td><td>nan</td><td>nan</td><td>nan</td><td>nan</td><td>True</td><td>True</td><td>nan</td><td>nan</td><td>nan</td><td>nan</td><td>nan</td><td>nan</td><td>nan</td><td>nan</td><td>nan</td><td>nan</td><td>nan</td><td>nan</td><td>nan</td><td>nan</td><td>nan</td><td>nan</td><td>nan</td><td>nan</td><td>nan</td><td>nan</td><td>nan</td><td>nan</td><td>nan</td><td>nan</td><td>True</td><td>True</td><td>True</td><td>0</td><td>0.0</td><td>0.0</td><td>0.0</td><td>1.8755</td><td>0.0</td><td>4.81</td><td>0.806</td><td>-99.0</td><td>-99.0</td><td>-99.0</td><td>-99.0</td><td>-99</td><td>-99</td><td>-99</td><td>-99.0</td><td>-99.0</td><td></td><td>6228652</td><td>33</td></tr>\n",
       "</table>"
      ],
      "text/plain": [
       "<Row index=0 masked=True>\n",
       "  id  ID_OPTICAL ID_SPITZER         RA               DEC        help_id RA_HELP DEC_HELP     EBV      Z_SPEC CLASS_STAR FLAG_CLEAN  u_flux u_fluxerr  g_flux g_fluxerr  r_flux r_fluxerr  z_flux z_fluxerr g_rcs_flux g_rcs_fluxerr r_rcs_flux r_rcs_fluxerr i_rcs_flux i_rcs_fluxerr z_rcs_flux z_rcs_fluxerr  J_flux J_fluxerr  K_flux K_fluxerr ch1_servs_flux ch1_servs_fluxerr ch2_servs_flux ch2_servs_fluxerr ch1_swire_flux ch1_swire_fluxerr ch2_swire_flux ch2_swire_fluxerr ch3_swire_flux ch3_swire_fluxerr ch4_swire_flux ch4_swire_fluxerr F_MIPS_24 FErr_MIPS_24_u FErr_MIPS_24_l Bkg_MIPS_24 Sig_conf_MIPS_24 Rhat_MIPS_24 n_eff_MIPS_24 Pval_res_24 flag_mips_24 F_PACS_100 FErr_PACS_100_u FErr_PACS_100_l F_PACS_160 FErr_PACS_160_u FErr_PACS_160_l Bkg_PACS_100 Bkg_PACS_160 Sig_conf_PACS_100 Sig_conf_PACS_160 Rhat_PACS_100 Rhat_PACS_160 n_eff_PACS_100 n_eff_PACS_160 Pval_res_100 Pval_res_160 flag_PACS_100 flag_PACS_160 F_SPIRE_250 FErr_SPIRE_250_u FErr_SPIRE_250_l F_SPIRE_350 FErr_SPIRE_350_u FErr_SPIRE_350_l F_SPIRE_500 FErr_SPIRE_500_u FErr_SPIRE_500_l Bkg_SPIRE_250 Bkg_SPIRE_350 Bkg_SPIRE_500 Sig_conf_SPIRE_250 Sig_conf_SPIRE_350 Sig_conf_SPIRE_500 Rhat_SPIRE_250 Rhat_SPIRE_350 Rhat_SPIRE_500 n_eff_SPIRE_250 n_eff_SPIRE_500 n_eff_SPIRE_350 Pval_res_250 Pval_res_350 Pval_res_500 flag_spire_250 flag_spire_350 flag_spire_500  AGN   optAGN  IRAGN  XrayAGN z1_median  z1_min  z1_max z1_area z2_median  z2_min  z2_max z2_area nfilt_eazy nfilt_atlas nfilt_ananna chi_r_best chi_r_stellar stellar_type hp_idx_11 hp_depth_cluster\n",
       "                                   deg               deg                  deg     deg                                                uJy      uJy      uJy      uJy      uJy      uJy      uJy      uJy       uJy          uJy         uJy          uJy         uJy          uJy         uJy          uJy        uJy      uJy      uJy      uJy         uJy              uJy             uJy              uJy             uJy              uJy             uJy              uJy             uJy              uJy             uJy              uJy           uJy         uJy            uJy         MJy / sr      MJy / sr                                                            mJy           mJy             mJy          mJy           mJy             mJy         mJy/Beam     mJy/Beam        mJy/Beam          mJy/Beam                                                                                                                         mJy           mJy              mJy            mJy           mJy              mJy            mJy           mJy              mJy           mJy/Beam      mJy/Beam      mJy/Beam        mJy/Beam           mJy/Beam           mJy/Beam                                                                                                                                                                                                                                                                                                                                                                      deg                    \n",
       "int64   int32      int32         float64           float64      bytes27 float64 float64    float32   float64  float32     int64    float32  float32  float32  float32  float32  float32  float32  float32   float32      float32     float32      float32     float32      float32     float32      float32    float32  float32  float32  float32     float32          float32         float32          float32         float32          float32         float32          float32         float32          float32         float32          float32       float32     float32        float32       float32       float32        float32       float32      float32       bool      float32       float32         float32      float32       float32         float32       float32      float32         float32           float32         float32       float32       float32        float32       float32      float32         bool          bool       float32       float32          float32        float32       float32          float32        float32       float32          float32         float32       float32       float32         float32            float32            float32          float32        float32        float32         float32         float32         float32       float32      float32      float32         bool           bool           bool      int64 float64 float64 float64  float64  float64 float64 float64  float64  float64 float64 float64   int64       int64       int64      float64      float64       bytes6      int64        int32      \n",
       "----- ---------- ---------- ------------------ ---------------- ------- ------- -------- ----------- ------- ---------- ---------- ------- --------- ------- --------- ------- --------- ------- --------- ---------- ------------- ---------- ------------- ---------- ------------- ---------- ------------- ------- --------- ------- --------- -------------- ----------------- -------------- ----------------- -------------- ----------------- -------------- ----------------- -------------- ----------------- -------------- ----------------- --------- -------------- -------------- ----------- ---------------- ------------ ------------- ----------- ------------ ---------- --------------- --------------- ---------- --------------- --------------- ------------ ------------ ----------------- ----------------- ------------- ------------- -------------- -------------- ------------ ------------ ------------- ------------- ----------- ---------------- ---------------- ----------- ---------------- ---------------- ----------- ---------------- ---------------- ------------- ------------- ------------- ------------------ ------------------ ------------------ -------------- -------------- -------------- --------------- --------------- --------------- ------------ ------------ ------------ -------------- -------------- -------------- ----- ------- ------- ------- --------- ------- ------- ------- --------- ------- ------- ------- ---------- ----------- ------------ ---------- ------------- ------------ --------- ----------------\n",
       "    0          1         -- 164.48053950361853 55.8801032089467     N/A     nan      nan 0.008567253   -99.0  0.8284701          1   -99.0     -99.0   -99.0     -99.0   -99.0     -99.0   -99.0     -99.0  1.1428666    0.16968247  1.6765456    0.21724406  1.3065643     0.4575452  2.3796828     1.7248636   -99.0     -99.0   -99.0     -99.0          -99.0             -99.0          -99.0             -99.0          -99.0             -99.0          -99.0             -99.0          -99.0             -99.0          -99.0             -99.0       nan            nan            nan         nan              nan          nan           nan         nan         True        nan             nan             nan        nan             nan             nan          nan          nan               nan               nan           nan           nan            nan            nan          nan          nan          True          True         nan              nan              nan         nan              nan              nan         nan              nan              nan           nan           nan           nan                nan                nan                nan            nan            nan            nan             nan             nan             nan          nan          nan          nan           True           True           True     0     0.0     0.0     0.0    1.8755     0.0    4.81   0.806     -99.0   -99.0   -99.0   -99.0        -99         -99          -99      -99.0         -99.0                6228652               33"
      ]
     },
     "execution_count": 4,
     "metadata": {},
     "output_type": "execute_result"
    }
   ],
   "source": [
    "photz[0]"
   ]
  },
  {
   "cell_type": "code",
   "execution_count": 24,
   "metadata": {},
   "outputs": [],
   "source": [
    "cigale_input = photz.copy()"
   ]
  },
  {
   "cell_type": "code",
   "execution_count": 6,
   "metadata": {},
   "outputs": [],
   "source": [
    "filters_file = open('data/photz/Lockman-SWIRE_filters.res.info','r')\n",
    "#filters_file = open('/beegfs/lofar/deepfields/science_ready_catalogs/Lockman-SWIRE_filters.res.info','r')\n",
    "filters = []\n",
    "for line in filters_file:\n",
    "    temp = line.split(' ')\n",
    "    filters.append(temp)\n",
    "filters_file.close()\n",
    "\n",
    "for n,line in enumerate(filters):\n",
    "    if n!=32:\n",
    "        filters[n] = line[0:-1]\n",
    "    else:\n",
    "        filters[n][-1] = filters[n][-1].replace('\\n','')\n",
    "    filters[n] = pop_list(filters[n],[1 for m in range(len(filters[n])-2)])\n",
    "    filters[n][-1] = filters[n][-1].replace('.filter','')\n",
    "#ignore the first two filters as they are SWIRE channel 1 and 2 and i want to use SERVS channel 1 and 2 as\n",
    "#they have deeper observations\n",
    "filters = filters[2:]"
   ]
  },
  {
   "cell_type": "code",
   "execution_count": 12,
   "metadata": {},
   "outputs": [
    {
     "data": {
      "text/plain": [
       "[['3', 'IRAC.I3.res'],\n",
       " ['4', 'IRAC.I4.res'],\n",
       " ['5', 'MegaCam.g.rcs.res'],\n",
       " ['6', 'MegaCam.g.res'],\n",
       " ['7', 'MegaCam.i.res'],\n",
       " ['8', 'MegaCam.i_0.res'],\n",
       " ['9', 'MegaCam.r.rcs.res'],\n",
       " ['10', 'MegaCam.r.res'],\n",
       " ['11', 'MegaCam.u.res'],\n",
       " ['12', 'MegaCam.z.rcs.res'],\n",
       " ['13', 'MegaCam.z.res'],\n",
       " ['14', 'PS1.g.res'],\n",
       " ['15', 'PS1.i.res'],\n",
       " ['16', 'PS1.r.res'],\n",
       " ['17', 'PS1.y.res'],\n",
       " ['18', 'PS1.z.res'],\n",
       " ['19', 'UKIDSS.J.res'],\n",
       " ['20', 'UKIDSS.K.res'],\n",
       " ['21', 'WFC.Gunn_g_qe.res'],\n",
       " ['22', 'WFC.Gunn_i_qe.res'],\n",
       " ['23', 'WFC.Gunn_r_qe.res'],\n",
       " ['24', 'WFC.RGO_u_qe.res'],\n",
       " ['25', 'WFC.RGO_z_qe.res'],\n",
       " ['26', 'IRAC.I1.res'],\n",
       " ['27', 'IRAC.I2.res']]"
      ]
     },
     "execution_count": 12,
     "metadata": {},
     "output_type": "execute_result"
    }
   ],
   "source": [
    "filters"
   ]
  },
  {
   "cell_type": "code",
   "execution_count": 7,
   "metadata": {},
   "outputs": [],
   "source": [
    "#translate_file = open('/beegfs/lofar/deepfields/science_ready_catalogs/LH.filter.translate','r')\n",
    "translate_file = open('data/photz/LH.filter.translate','r')\n",
    "translate = []\n",
    "for line in translate_file:\n",
    "    if '#' in line:\n",
    "        continue\n",
    "    temp = line.split(' ')\n",
    "    translate.append(temp)\n",
    "translate_file.close()\n",
    "\n",
    "translate = translate[:len(translate)-1]\n",
    "\n",
    "for n,line in enumerate(translate):\n",
    "    translate[n][1] = line[1][1:-1]"
   ]
  },
  {
   "cell_type": "code",
   "execution_count": 8,
   "metadata": {},
   "outputs": [
    {
     "data": {
      "text/plain": [
       "[['u_flux', '11'],\n",
       " ['u_fluxerr', '11'],\n",
       " ['g_flux', '6'],\n",
       " ['g_fluxerr', '6'],\n",
       " ['r_flux', '10'],\n",
       " ['r_fluxerr', '10'],\n",
       " ['z_flux', '13'],\n",
       " ['z_fluxerr', '13'],\n",
       " ['g_rcs_flux', '5'],\n",
       " ['g_rcs_fluxerr', '5'],\n",
       " ['r_rcs_flux', '9'],\n",
       " ['r_rcs_fluxerr', '9'],\n",
       " ['i_rcs_flux', '7'],\n",
       " ['i_rcs_fluxerr', '7'],\n",
       " ['z_rcs_flux', '12'],\n",
       " ['z_rcs_fluxerr', '12'],\n",
       " ['J_flux', '19'],\n",
       " ['J_fluxerr', '19'],\n",
       " ['K_flux', '20'],\n",
       " ['K_fluxerr', '20'],\n",
       " ['ch1_servs_flux', '26'],\n",
       " ['ch1_servs_fluxerr', '26'],\n",
       " ['ch2_servs_flux', '27'],\n",
       " ['ch2_servs_fluxerr', '27'],\n",
       " ['ch1_swire_flux', '1'],\n",
       " ['ch1_swire_fluxerr', '1'],\n",
       " ['ch2_swire_flux', '2'],\n",
       " ['ch2_swire_fluxerr', '2'],\n",
       " ['ch3_swire_flux', '3'],\n",
       " ['ch3_swire_fluxerr', '3'],\n",
       " ['ch4_swire_flux', '4'],\n",
       " ['ch4_swire_fluxerr', '4']]"
      ]
     },
     "execution_count": 8,
     "metadata": {},
     "output_type": "execute_result"
    }
   ],
   "source": [
    "translate"
   ]
  },
  {
   "cell_type": "code",
   "execution_count": 25,
   "metadata": {
    "scrolled": true
   },
   "outputs": [
    {
     "name": "stdout",
     "output_type": "stream",
     "text": [
      "['u_flux', '11']\n",
      "['11', 'MegaCam.u.res']\n",
      "colname is: u_flux\n",
      "filter name is: MegaCam.u.res\n",
      "['u_fluxerr', '11']\n",
      "['11', 'MegaCam.u.res']\n",
      "colname is: u_fluxerr\n",
      "filter name is: MegaCam.u.res_err\n",
      "['g_flux', '6']\n",
      "['6', 'MegaCam.g.res']\n",
      "colname is: g_flux\n",
      "filter name is: MegaCam.g.res\n",
      "['g_fluxerr', '6']\n",
      "['6', 'MegaCam.g.res']\n",
      "colname is: g_fluxerr\n",
      "filter name is: MegaCam.g.res_err\n",
      "['r_flux', '10']\n",
      "['10', 'MegaCam.r.res']\n",
      "colname is: r_flux\n",
      "filter name is: MegaCam.r.res\n",
      "['r_fluxerr', '10']\n",
      "['10', 'MegaCam.r.res']\n",
      "colname is: r_fluxerr\n",
      "filter name is: MegaCam.r.res_err\n",
      "['z_flux', '13']\n",
      "['13', 'MegaCam.z.res']\n",
      "colname is: z_flux\n",
      "filter name is: MegaCam.z.res\n",
      "['z_fluxerr', '13']\n",
      "['13', 'MegaCam.z.res']\n",
      "colname is: z_fluxerr\n",
      "filter name is: MegaCam.z.res_err\n",
      "['g_rcs_flux', '5']\n",
      "['5', 'MegaCam.g.rcs.res']\n",
      "colname is: g_rcs_flux\n",
      "filter name is: MegaCam.g.rcs.res\n",
      "['g_rcs_fluxerr', '5']\n",
      "['5', 'MegaCam.g.rcs.res']\n",
      "colname is: g_rcs_fluxerr\n",
      "filter name is: MegaCam.g.rcs.res_err\n",
      "['r_rcs_flux', '9']\n",
      "['9', 'MegaCam.r.rcs.res']\n",
      "colname is: r_rcs_flux\n",
      "filter name is: MegaCam.r.rcs.res\n",
      "['r_rcs_fluxerr', '9']\n",
      "['9', 'MegaCam.r.rcs.res']\n",
      "colname is: r_rcs_fluxerr\n",
      "filter name is: MegaCam.r.rcs.res_err\n",
      "['i_rcs_flux', '7']\n",
      "['7', 'MegaCam.i.res']\n",
      "colname is: i_rcs_flux\n",
      "filter name is: MegaCam.i.res\n",
      "['i_rcs_fluxerr', '7']\n",
      "['7', 'MegaCam.i.res']\n",
      "colname is: i_rcs_fluxerr\n",
      "filter name is: MegaCam.i.res_err\n",
      "['z_rcs_flux', '12']\n",
      "['12', 'MegaCam.z.rcs.res']\n",
      "colname is: z_rcs_flux\n",
      "filter name is: MegaCam.z.rcs.res\n",
      "['z_rcs_fluxerr', '12']\n",
      "['12', 'MegaCam.z.rcs.res']\n",
      "colname is: z_rcs_fluxerr\n",
      "filter name is: MegaCam.z.rcs.res_err\n",
      "['J_flux', '19']\n",
      "['19', 'UKIDSS.J.res']\n",
      "colname is: J_flux\n",
      "filter name is: UKIDSS.J.res\n",
      "['J_fluxerr', '19']\n",
      "['19', 'UKIDSS.J.res']\n",
      "colname is: J_fluxerr\n",
      "filter name is: UKIDSS.J.res_err\n",
      "['K_flux', '20']\n",
      "['20', 'UKIDSS.K.res']\n",
      "colname is: K_flux\n",
      "filter name is: UKIDSS.K.res\n",
      "['K_fluxerr', '20']\n",
      "['20', 'UKIDSS.K.res']\n",
      "colname is: K_fluxerr\n",
      "filter name is: UKIDSS.K.res_err\n",
      "['ch1_servs_flux', '26']\n",
      "['26', 'IRAC.I1.res']\n",
      "colname is: ch1_servs_flux\n",
      "filter name is: IRAC.I1.res\n",
      "['ch1_servs_fluxerr', '26']\n",
      "['26', 'IRAC.I1.res']\n",
      "colname is: ch1_servs_fluxerr\n",
      "filter name is: IRAC.I1.res_err\n",
      "['ch2_servs_flux', '27']\n",
      "['27', 'IRAC.I2.res']\n",
      "colname is: ch2_servs_flux\n",
      "filter name is: IRAC.I2.res\n",
      "['ch2_servs_fluxerr', '27']\n",
      "['27', 'IRAC.I2.res']\n",
      "colname is: ch2_servs_fluxerr\n",
      "filter name is: IRAC.I2.res_err\n",
      "['ch1_swire_flux', '1']\n",
      "['ch1_swire_fluxerr', '1']\n",
      "['ch2_swire_flux', '2']\n",
      "['ch2_swire_fluxerr', '2']\n",
      "['ch3_swire_flux', '3']\n",
      "['3', 'IRAC.I3.res']\n",
      "colname is: ch3_swire_flux\n",
      "filter name is: IRAC.I3.res\n",
      "['ch3_swire_fluxerr', '3']\n",
      "['3', 'IRAC.I3.res']\n",
      "colname is: ch3_swire_fluxerr\n",
      "filter name is: IRAC.I3.res_err\n",
      "['ch4_swire_flux', '4']\n",
      "['4', 'IRAC.I4.res']\n",
      "colname is: ch4_swire_flux\n",
      "filter name is: IRAC.I4.res\n",
      "['ch4_swire_fluxerr', '4']\n",
      "['4', 'IRAC.I4.res']\n",
      "colname is: ch4_swire_fluxerr\n",
      "filter name is: IRAC.I4.res_err\n"
     ]
    }
   ],
   "source": [
    "for n,line in enumerate(translate):\n",
    "    print(line)\n",
    "    colname = line[0]\n",
    "    filt_num = int(line[1])\n",
    "    filt_name = ''\n",
    "    for m,filt in enumerate(filters):\n",
    "        if int(filt[0])==filt_num:\n",
    "            print(filt)\n",
    "            filt_name = filt[1]\n",
    "    if filt_name=='':\n",
    "        continue\n",
    "    if 'err' in colname:\n",
    "        filt_name = filt_name+'_err'\n",
    "    #print(colname)\n",
    "    #print(filt_name)\n",
    "    print('colname is: {}'.format(colname))\n",
    "    print('filter name is: {}'.format(filt_name))\n",
    "    cigale_input.rename_column(colname,filt_name)"
   ]
  },
  {
   "cell_type": "code",
   "execution_count": 26,
   "metadata": {},
   "outputs": [],
   "source": [
    "cigale_input.rename_column('z1_median','redshift')"
   ]
  },
  {
   "cell_type": "code",
   "execution_count": 27,
   "metadata": {},
   "outputs": [
    {
     "name": "stderr",
     "output_type": "stream",
     "text": [
      "/Users/im281/anaconda3/lib/python3.7/site-packages/astropy/table/column.py:981: FutureWarning: elementwise comparison failed; returning scalar instead, but in the future will perform elementwise comparison\n",
      "  return getattr(self.data, op)(other)\n"
     ]
    },
    {
     "ename": "IORegistryError",
     "evalue": "No writer defined for format 'fits' and class 'NoneType'.\n\nThe available formats are:\n\nFormat Read Write Auto-identify\n------ ---- ----- -------------",
     "output_type": "error",
     "traceback": [
      "\u001b[0;31m---------------------------------------------------------------------------\u001b[0m",
      "\u001b[0;31mIORegistryError\u001b[0m                           Traceback (most recent call last)",
      "\u001b[0;32m<ipython-input-27-299fc1a621cc>\u001b[0m in \u001b[0;36m<module>\u001b[0;34m\u001b[0m\n\u001b[0;32m----> 1\u001b[0;31m \u001b[0mTable\u001b[0m\u001b[0;34m.\u001b[0m\u001b[0mwrite\u001b[0m\u001b[0;34m(\u001b[0m\u001b[0mcigale_input\u001b[0m\u001b[0;34m,\u001b[0m\u001b[0;34m'data/cigale_input_Lockman.fits'\u001b[0m\u001b[0;34m,\u001b[0m\u001b[0mformat\u001b[0m\u001b[0;34m=\u001b[0m\u001b[0;34m'fits'\u001b[0m\u001b[0;34m,\u001b[0m\u001b[0moverwrite\u001b[0m\u001b[0;34m=\u001b[0m\u001b[0;32mTrue\u001b[0m\u001b[0;34m)\u001b[0m\u001b[0;34m\u001b[0m\u001b[0;34m\u001b[0m\u001b[0m\n\u001b[0m",
      "\u001b[0;32m~/anaconda3/lib/python3.7/site-packages/astropy/table/connect.py\u001b[0m in \u001b[0;36m__call__\u001b[0;34m(self, *args, **kwargs)\u001b[0m\n\u001b[1;32m    112\u001b[0m         \u001b[0minstance\u001b[0m \u001b[0;34m=\u001b[0m \u001b[0mself\u001b[0m\u001b[0;34m.\u001b[0m\u001b[0m_instance\u001b[0m\u001b[0;34m\u001b[0m\u001b[0;34m\u001b[0m\u001b[0m\n\u001b[1;32m    113\u001b[0m         \u001b[0;32mwith\u001b[0m \u001b[0mserialize_method_as\u001b[0m\u001b[0;34m(\u001b[0m\u001b[0minstance\u001b[0m\u001b[0;34m,\u001b[0m \u001b[0mserialize_method\u001b[0m\u001b[0;34m)\u001b[0m\u001b[0;34m:\u001b[0m\u001b[0;34m\u001b[0m\u001b[0;34m\u001b[0m\u001b[0m\n\u001b[0;32m--> 114\u001b[0;31m             \u001b[0mregistry\u001b[0m\u001b[0;34m.\u001b[0m\u001b[0mwrite\u001b[0m\u001b[0;34m(\u001b[0m\u001b[0minstance\u001b[0m\u001b[0;34m,\u001b[0m \u001b[0;34m*\u001b[0m\u001b[0margs\u001b[0m\u001b[0;34m,\u001b[0m \u001b[0;34m**\u001b[0m\u001b[0mkwargs\u001b[0m\u001b[0;34m)\u001b[0m\u001b[0;34m\u001b[0m\u001b[0;34m\u001b[0m\u001b[0m\n\u001b[0m",
      "\u001b[0;32m~/anaconda3/lib/python3.7/site-packages/astropy/io/registry.py\u001b[0m in \u001b[0;36mwrite\u001b[0;34m(data, format, *args, **kwargs)\u001b[0m\n\u001b[1;32m    563\u001b[0m             'write', data.__class__, path, fileobj, args, kwargs)\n\u001b[1;32m    564\u001b[0m \u001b[0;34m\u001b[0m\u001b[0m\n\u001b[0;32m--> 565\u001b[0;31m     \u001b[0mwriter\u001b[0m \u001b[0;34m=\u001b[0m \u001b[0mget_writer\u001b[0m\u001b[0;34m(\u001b[0m\u001b[0mformat\u001b[0m\u001b[0;34m,\u001b[0m \u001b[0mdata\u001b[0m\u001b[0;34m.\u001b[0m\u001b[0m__class__\u001b[0m\u001b[0;34m)\u001b[0m\u001b[0;34m\u001b[0m\u001b[0;34m\u001b[0m\u001b[0m\n\u001b[0m\u001b[1;32m    566\u001b[0m     \u001b[0mwriter\u001b[0m\u001b[0;34m(\u001b[0m\u001b[0mdata\u001b[0m\u001b[0;34m,\u001b[0m \u001b[0;34m*\u001b[0m\u001b[0margs\u001b[0m\u001b[0;34m,\u001b[0m \u001b[0;34m**\u001b[0m\u001b[0mkwargs\u001b[0m\u001b[0;34m)\u001b[0m\u001b[0;34m\u001b[0m\u001b[0;34m\u001b[0m\u001b[0m\n\u001b[1;32m    567\u001b[0m \u001b[0;34m\u001b[0m\u001b[0m\n",
      "\u001b[0;32m~/anaconda3/lib/python3.7/site-packages/astropy/io/registry.py\u001b[0m in \u001b[0;36mget_writer\u001b[0;34m(data_format, data_class)\u001b[0m\n\u001b[1;32m    481\u001b[0m             \u001b[0;34m\"No writer defined for format '{0}' and class '{1}'.\\n\\nThe \"\u001b[0m\u001b[0;34m\u001b[0m\u001b[0;34m\u001b[0m\u001b[0m\n\u001b[1;32m    482\u001b[0m             \"available formats are:\\n\\n{2}\".format(\n\u001b[0;32m--> 483\u001b[0;31m                 data_format, data_class.__name__, format_table_str))\n\u001b[0m\u001b[1;32m    484\u001b[0m \u001b[0;34m\u001b[0m\u001b[0m\n\u001b[1;32m    485\u001b[0m \u001b[0;34m\u001b[0m\u001b[0m\n",
      "\u001b[0;31mIORegistryError\u001b[0m: No writer defined for format 'fits' and class 'NoneType'.\n\nThe available formats are:\n\nFormat Read Write Auto-identify\n------ ---- ----- -------------"
     ]
    }
   ],
   "source": [
    "Table.write(cigale_input,'data/cigale_input_Lockman.fits',format='fits',overwrite=True)"
   ]
  },
  {
   "cell_type": "code",
   "execution_count": null,
   "metadata": {},
   "outputs": [],
   "source": []
  }
 ],
 "metadata": {
  "kernelspec": {
   "display_name": "Python 3",
   "language": "python",
   "name": "python3"
  },
  "language_info": {
   "codemirror_mode": {
    "name": "ipython",
    "version": 3
   },
   "file_extension": ".py",
   "mimetype": "text/x-python",
   "name": "python",
   "nbconvert_exporter": "python",
   "pygments_lexer": "ipython3",
   "version": "3.6.9"
  }
 },
 "nbformat": 4,
 "nbformat_minor": 2
}
