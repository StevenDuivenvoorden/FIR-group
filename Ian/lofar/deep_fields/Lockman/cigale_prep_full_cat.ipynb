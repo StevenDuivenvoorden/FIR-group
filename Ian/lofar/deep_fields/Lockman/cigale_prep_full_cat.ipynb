{
 "cells": [
  {
   "cell_type": "code",
   "execution_count": 1,
   "metadata": {},
   "outputs": [],
   "source": [
    "import astropy\n",
    "from astropy.table import Table\n",
    "import numpy as np\n",
    "import matplotlib.pyplot as plt\n",
    "import glob\n",
    "import subprocess\n",
    "import os"
   ]
  },
  {
   "cell_type": "code",
   "execution_count": 2,
   "metadata": {},
   "outputs": [],
   "source": [
    "def pop_list(ls,indices):\n",
    "    for n,ind in enumerate(indices):\n",
    "        ls.pop(ind)\n",
    "    return(ls)"
   ]
  },
  {
   "cell_type": "code",
   "execution_count": 3,
   "metadata": {},
   "outputs": [],
   "source": [
    "photz = Table.read('data/photz/LH_opt_spitzer_merged_vac_opt3as_irac4as_all_hpx_public.fits')\n",
    "#photz =Table.read('/beegfs/lofar/deepfields/science_ready_catalogs/LH_opt_spitzer_merged_vac_opt3as_irac4as_all_hpx_public.fits')"
   ]
  },
  {
   "cell_type": "code",
   "execution_count": 4,
   "metadata": {},
   "outputs": [
    {
     "data": {
      "text/html": [
       "<i>Row index=0 masked=True</i>\n",
       "<table id=\"table4750758128\">\n",
       "<thead><tr><th>id</th><th>ID_OPTICAL</th><th>ID_SPITZER</th><th>RA</th><th>DEC</th><th>help_id</th><th>RA_HELP</th><th>DEC_HELP</th><th>EBV</th><th>Z_SPEC</th><th>CLASS_STAR</th><th>FLAG_CLEAN</th><th>u_flux</th><th>u_fluxerr</th><th>g_flux</th><th>g_fluxerr</th><th>r_flux</th><th>r_fluxerr</th><th>z_flux</th><th>z_fluxerr</th><th>g_rcs_flux</th><th>g_rcs_fluxerr</th><th>r_rcs_flux</th><th>r_rcs_fluxerr</th><th>i_rcs_flux</th><th>i_rcs_fluxerr</th><th>z_rcs_flux</th><th>z_rcs_fluxerr</th><th>J_flux</th><th>J_fluxerr</th><th>K_flux</th><th>K_fluxerr</th><th>ch1_servs_flux</th><th>ch1_servs_fluxerr</th><th>ch2_servs_flux</th><th>ch2_servs_fluxerr</th><th>ch1_swire_flux</th><th>ch1_swire_fluxerr</th><th>ch2_swire_flux</th><th>ch2_swire_fluxerr</th><th>ch3_swire_flux</th><th>ch3_swire_fluxerr</th><th>ch4_swire_flux</th><th>ch4_swire_fluxerr</th><th>F_MIPS_24</th><th>FErr_MIPS_24_u</th><th>FErr_MIPS_24_l</th><th>Bkg_MIPS_24</th><th>Sig_conf_MIPS_24</th><th>Rhat_MIPS_24</th><th>n_eff_MIPS_24</th><th>Pval_res_24</th><th>flag_mips_24</th><th>F_PACS_100</th><th>FErr_PACS_100_u</th><th>FErr_PACS_100_l</th><th>F_PACS_160</th><th>FErr_PACS_160_u</th><th>FErr_PACS_160_l</th><th>Bkg_PACS_100</th><th>Bkg_PACS_160</th><th>Sig_conf_PACS_100</th><th>Sig_conf_PACS_160</th><th>Rhat_PACS_100</th><th>Rhat_PACS_160</th><th>n_eff_PACS_100</th><th>n_eff_PACS_160</th><th>Pval_res_100</th><th>Pval_res_160</th><th>flag_PACS_100</th><th>flag_PACS_160</th><th>F_SPIRE_250</th><th>FErr_SPIRE_250_u</th><th>FErr_SPIRE_250_l</th><th>F_SPIRE_350</th><th>FErr_SPIRE_350_u</th><th>FErr_SPIRE_350_l</th><th>F_SPIRE_500</th><th>FErr_SPIRE_500_u</th><th>FErr_SPIRE_500_l</th><th>Bkg_SPIRE_250</th><th>Bkg_SPIRE_350</th><th>Bkg_SPIRE_500</th><th>Sig_conf_SPIRE_250</th><th>Sig_conf_SPIRE_350</th><th>Sig_conf_SPIRE_500</th><th>Rhat_SPIRE_250</th><th>Rhat_SPIRE_350</th><th>Rhat_SPIRE_500</th><th>n_eff_SPIRE_250</th><th>n_eff_SPIRE_500</th><th>n_eff_SPIRE_350</th><th>Pval_res_250</th><th>Pval_res_350</th><th>Pval_res_500</th><th>flag_spire_250</th><th>flag_spire_350</th><th>flag_spire_500</th><th>AGN</th><th>optAGN</th><th>IRAGN</th><th>XrayAGN</th><th>z1_median</th><th>z1_min</th><th>z1_max</th><th>z1_area</th><th>z2_median</th><th>z2_min</th><th>z2_max</th><th>z2_area</th><th>nfilt_eazy</th><th>nfilt_atlas</th><th>nfilt_ananna</th><th>chi_r_best</th><th>chi_r_stellar</th><th>stellar_type</th><th>hp_idx_11</th><th>hp_depth_cluster</th></tr></thead>\n",
       "<thead><tr><th></th><th></th><th></th><th>deg</th><th>deg</th><th></th><th>deg</th><th>deg</th><th></th><th></th><th></th><th></th><th>uJy</th><th>uJy</th><th>uJy</th><th>uJy</th><th>uJy</th><th>uJy</th><th>uJy</th><th>uJy</th><th>uJy</th><th>uJy</th><th>uJy</th><th>uJy</th><th>uJy</th><th>uJy</th><th>uJy</th><th>uJy</th><th>uJy</th><th>uJy</th><th>uJy</th><th>uJy</th><th>uJy</th><th>uJy</th><th>uJy</th><th>uJy</th><th>uJy</th><th>uJy</th><th>uJy</th><th>uJy</th><th>uJy</th><th>uJy</th><th>uJy</th><th>uJy</th><th>uJy</th><th>uJy</th><th>uJy</th><th>MJy / sr</th><th>MJy / sr</th><th></th><th></th><th></th><th></th><th>mJy</th><th>mJy</th><th>mJy</th><th>mJy</th><th>mJy</th><th>mJy</th><th>mJy/Beam</th><th>mJy/Beam</th><th>mJy/Beam</th><th>mJy/Beam</th><th></th><th></th><th></th><th></th><th></th><th></th><th></th><th></th><th>mJy</th><th>mJy</th><th>mJy</th><th>mJy</th><th>mJy</th><th>mJy</th><th>mJy</th><th>mJy</th><th>mJy</th><th>mJy/Beam</th><th>mJy/Beam</th><th>mJy/Beam</th><th>mJy/Beam</th><th>mJy/Beam</th><th>mJy/Beam</th><th></th><th></th><th></th><th></th><th></th><th></th><th></th><th></th><th></th><th></th><th></th><th></th><th></th><th></th><th></th><th></th><th></th><th></th><th></th><th></th><th></th><th></th><th></th><th></th><th></th><th></th><th></th><th></th><th></th><th></th><th>deg</th><th></th></tr></thead>\n",
       "<thead><tr><th>int64</th><th>int32</th><th>int32</th><th>float64</th><th>float64</th><th>bytes27</th><th>float64</th><th>float64</th><th>float32</th><th>float64</th><th>float32</th><th>int64</th><th>float32</th><th>float32</th><th>float32</th><th>float32</th><th>float32</th><th>float32</th><th>float32</th><th>float32</th><th>float32</th><th>float32</th><th>float32</th><th>float32</th><th>float32</th><th>float32</th><th>float32</th><th>float32</th><th>float32</th><th>float32</th><th>float32</th><th>float32</th><th>float32</th><th>float32</th><th>float32</th><th>float32</th><th>float32</th><th>float32</th><th>float32</th><th>float32</th><th>float32</th><th>float32</th><th>float32</th><th>float32</th><th>float32</th><th>float32</th><th>float32</th><th>float32</th><th>float32</th><th>float32</th><th>float32</th><th>float32</th><th>bool</th><th>float32</th><th>float32</th><th>float32</th><th>float32</th><th>float32</th><th>float32</th><th>float32</th><th>float32</th><th>float32</th><th>float32</th><th>float32</th><th>float32</th><th>float32</th><th>float32</th><th>float32</th><th>float32</th><th>bool</th><th>bool</th><th>float32</th><th>float32</th><th>float32</th><th>float32</th><th>float32</th><th>float32</th><th>float32</th><th>float32</th><th>float32</th><th>float32</th><th>float32</th><th>float32</th><th>float32</th><th>float32</th><th>float32</th><th>float32</th><th>float32</th><th>float32</th><th>float32</th><th>float32</th><th>float32</th><th>float32</th><th>float32</th><th>float32</th><th>bool</th><th>bool</th><th>bool</th><th>int64</th><th>float64</th><th>float64</th><th>float64</th><th>float64</th><th>float64</th><th>float64</th><th>float64</th><th>float64</th><th>float64</th><th>float64</th><th>float64</th><th>int64</th><th>int64</th><th>int64</th><th>float64</th><th>float64</th><th>bytes6</th><th>int64</th><th>int32</th></tr></thead>\n",
       "<tr><td>0</td><td>1</td><td>--</td><td>164.48053950361853</td><td>55.8801032089467</td><td>N/A</td><td>nan</td><td>nan</td><td>0.008567253</td><td>-99.0</td><td>0.8284701</td><td>1</td><td>-99.0</td><td>-99.0</td><td>-99.0</td><td>-99.0</td><td>-99.0</td><td>-99.0</td><td>-99.0</td><td>-99.0</td><td>1.1428666</td><td>0.16968247</td><td>1.6765456</td><td>0.21724406</td><td>1.3065643</td><td>0.4575452</td><td>2.3796828</td><td>1.7248636</td><td>-99.0</td><td>-99.0</td><td>-99.0</td><td>-99.0</td><td>-99.0</td><td>-99.0</td><td>-99.0</td><td>-99.0</td><td>-99.0</td><td>-99.0</td><td>-99.0</td><td>-99.0</td><td>-99.0</td><td>-99.0</td><td>-99.0</td><td>-99.0</td><td>nan</td><td>nan</td><td>nan</td><td>nan</td><td>nan</td><td>nan</td><td>nan</td><td>nan</td><td>True</td><td>nan</td><td>nan</td><td>nan</td><td>nan</td><td>nan</td><td>nan</td><td>nan</td><td>nan</td><td>nan</td><td>nan</td><td>nan</td><td>nan</td><td>nan</td><td>nan</td><td>nan</td><td>nan</td><td>True</td><td>True</td><td>nan</td><td>nan</td><td>nan</td><td>nan</td><td>nan</td><td>nan</td><td>nan</td><td>nan</td><td>nan</td><td>nan</td><td>nan</td><td>nan</td><td>nan</td><td>nan</td><td>nan</td><td>nan</td><td>nan</td><td>nan</td><td>nan</td><td>nan</td><td>nan</td><td>nan</td><td>nan</td><td>nan</td><td>True</td><td>True</td><td>True</td><td>0</td><td>0.0</td><td>0.0</td><td>0.0</td><td>1.8755</td><td>0.0</td><td>4.81</td><td>0.806</td><td>-99.0</td><td>-99.0</td><td>-99.0</td><td>-99.0</td><td>-99</td><td>-99</td><td>-99</td><td>-99.0</td><td>-99.0</td><td></td><td>6228652</td><td>33</td></tr>\n",
       "</table>"
      ],
      "text/plain": [
       "<Row index=0 masked=True>\n",
       "  id  ID_OPTICAL ID_SPITZER         RA               DEC        help_id RA_HELP DEC_HELP     EBV      Z_SPEC CLASS_STAR FLAG_CLEAN  u_flux u_fluxerr  g_flux g_fluxerr  r_flux r_fluxerr  z_flux z_fluxerr g_rcs_flux g_rcs_fluxerr r_rcs_flux r_rcs_fluxerr i_rcs_flux i_rcs_fluxerr z_rcs_flux z_rcs_fluxerr  J_flux J_fluxerr  K_flux K_fluxerr ch1_servs_flux ch1_servs_fluxerr ch2_servs_flux ch2_servs_fluxerr ch1_swire_flux ch1_swire_fluxerr ch2_swire_flux ch2_swire_fluxerr ch3_swire_flux ch3_swire_fluxerr ch4_swire_flux ch4_swire_fluxerr F_MIPS_24 FErr_MIPS_24_u FErr_MIPS_24_l Bkg_MIPS_24 Sig_conf_MIPS_24 Rhat_MIPS_24 n_eff_MIPS_24 Pval_res_24 flag_mips_24 F_PACS_100 FErr_PACS_100_u FErr_PACS_100_l F_PACS_160 FErr_PACS_160_u FErr_PACS_160_l Bkg_PACS_100 Bkg_PACS_160 Sig_conf_PACS_100 Sig_conf_PACS_160 Rhat_PACS_100 Rhat_PACS_160 n_eff_PACS_100 n_eff_PACS_160 Pval_res_100 Pval_res_160 flag_PACS_100 flag_PACS_160 F_SPIRE_250 FErr_SPIRE_250_u FErr_SPIRE_250_l F_SPIRE_350 FErr_SPIRE_350_u FErr_SPIRE_350_l F_SPIRE_500 FErr_SPIRE_500_u FErr_SPIRE_500_l Bkg_SPIRE_250 Bkg_SPIRE_350 Bkg_SPIRE_500 Sig_conf_SPIRE_250 Sig_conf_SPIRE_350 Sig_conf_SPIRE_500 Rhat_SPIRE_250 Rhat_SPIRE_350 Rhat_SPIRE_500 n_eff_SPIRE_250 n_eff_SPIRE_500 n_eff_SPIRE_350 Pval_res_250 Pval_res_350 Pval_res_500 flag_spire_250 flag_spire_350 flag_spire_500  AGN   optAGN  IRAGN  XrayAGN z1_median  z1_min  z1_max z1_area z2_median  z2_min  z2_max z2_area nfilt_eazy nfilt_atlas nfilt_ananna chi_r_best chi_r_stellar stellar_type hp_idx_11 hp_depth_cluster\n",
       "                                   deg               deg                  deg     deg                                                uJy      uJy      uJy      uJy      uJy      uJy      uJy      uJy       uJy          uJy         uJy          uJy         uJy          uJy         uJy          uJy        uJy      uJy      uJy      uJy         uJy              uJy             uJy              uJy             uJy              uJy             uJy              uJy             uJy              uJy             uJy              uJy           uJy         uJy            uJy         MJy / sr      MJy / sr                                                            mJy           mJy             mJy          mJy           mJy             mJy         mJy/Beam     mJy/Beam        mJy/Beam          mJy/Beam                                                                                                                         mJy           mJy              mJy            mJy           mJy              mJy            mJy           mJy              mJy           mJy/Beam      mJy/Beam      mJy/Beam        mJy/Beam           mJy/Beam           mJy/Beam                                                                                                                                                                                                                                                                                                                                                                      deg                    \n",
       "int64   int32      int32         float64           float64      bytes27 float64 float64    float32   float64  float32     int64    float32  float32  float32  float32  float32  float32  float32  float32   float32      float32     float32      float32     float32      float32     float32      float32    float32  float32  float32  float32     float32          float32         float32          float32         float32          float32         float32          float32         float32          float32         float32          float32       float32     float32        float32       float32       float32        float32       float32      float32       bool      float32       float32         float32      float32       float32         float32       float32      float32         float32           float32         float32       float32       float32        float32       float32      float32         bool          bool       float32       float32          float32        float32       float32          float32        float32       float32          float32         float32       float32       float32         float32            float32            float32          float32        float32        float32         float32         float32         float32       float32      float32      float32         bool           bool           bool      int64 float64 float64 float64  float64  float64 float64 float64  float64  float64 float64 float64   int64       int64       int64      float64      float64       bytes6      int64        int32      \n",
       "----- ---------- ---------- ------------------ ---------------- ------- ------- -------- ----------- ------- ---------- ---------- ------- --------- ------- --------- ------- --------- ------- --------- ---------- ------------- ---------- ------------- ---------- ------------- ---------- ------------- ------- --------- ------- --------- -------------- ----------------- -------------- ----------------- -------------- ----------------- -------------- ----------------- -------------- ----------------- -------------- ----------------- --------- -------------- -------------- ----------- ---------------- ------------ ------------- ----------- ------------ ---------- --------------- --------------- ---------- --------------- --------------- ------------ ------------ ----------------- ----------------- ------------- ------------- -------------- -------------- ------------ ------------ ------------- ------------- ----------- ---------------- ---------------- ----------- ---------------- ---------------- ----------- ---------------- ---------------- ------------- ------------- ------------- ------------------ ------------------ ------------------ -------------- -------------- -------------- --------------- --------------- --------------- ------------ ------------ ------------ -------------- -------------- -------------- ----- ------- ------- ------- --------- ------- ------- ------- --------- ------- ------- ------- ---------- ----------- ------------ ---------- ------------- ------------ --------- ----------------\n",
       "    0          1         -- 164.48053950361853 55.8801032089467     N/A     nan      nan 0.008567253   -99.0  0.8284701          1   -99.0     -99.0   -99.0     -99.0   -99.0     -99.0   -99.0     -99.0  1.1428666    0.16968247  1.6765456    0.21724406  1.3065643     0.4575452  2.3796828     1.7248636   -99.0     -99.0   -99.0     -99.0          -99.0             -99.0          -99.0             -99.0          -99.0             -99.0          -99.0             -99.0          -99.0             -99.0          -99.0             -99.0       nan            nan            nan         nan              nan          nan           nan         nan         True        nan             nan             nan        nan             nan             nan          nan          nan               nan               nan           nan           nan            nan            nan          nan          nan          True          True         nan              nan              nan         nan              nan              nan         nan              nan              nan           nan           nan           nan                nan                nan                nan            nan            nan            nan             nan             nan             nan          nan          nan          nan           True           True           True     0     0.0     0.0     0.0    1.8755     0.0    4.81   0.806     -99.0   -99.0   -99.0   -99.0        -99         -99          -99      -99.0         -99.0                6228652               33"
      ]
     },
     "execution_count": 4,
     "metadata": {},
     "output_type": "execute_result"
    }
   ],
   "source": [
    "photz[0]"
   ]
  },
  {
   "cell_type": "code",
   "execution_count": 18,
   "metadata": {},
   "outputs": [],
   "source": [
    "cigale_input = photz.copy()"
   ]
  },
  {
   "cell_type": "code",
   "execution_count": 23,
   "metadata": {},
   "outputs": [],
   "source": [
    "filters_file = open('data/photz/Lockman-SWIRE_filters.res.info','r')\n",
    "#filters_file = open('/beegfs/lofar/deepfields/science_ready_catalogs/Lockman-SWIRE_filters.res.info','r')\n",
    "filters = []\n",
    "for line in filters_file:\n",
    "    temp = line.split(' ')\n",
    "    filters.append(temp)\n",
    "filters_file.close()\n",
    "\n",
    "for n,line in enumerate(filters):\n",
    "    if n!=32:\n",
    "        filters[n] = line[0:-1]\n",
    "    else:\n",
    "        filters[n][-1] = filters[n][-1].replace('\\n','')\n",
    "    filters[n] = pop_list(filters[n],[1 for m in range(len(filters[n])-2)])\n",
    "    filters[n][-1] = filters[n][-1].replace('.filter','')\n",
    "#ignore the first two filters as they are SWIRE channel 1 and 2 and i want to use SERVS channel 1 and 2 as\n",
    "#they have deeper observations\n",
    "filters = filters[2:]"
   ]
  },
  {
   "cell_type": "code",
   "execution_count": 25,
   "metadata": {},
   "outputs": [
    {
     "data": {
      "text/plain": [
       "[['3', 'IRAC.I3.res'],\n",
       " ['4', 'IRAC.I4.res'],\n",
       " ['5', 'MegaCam.g.rcs.res'],\n",
       " ['6', 'MegaCam.g.res'],\n",
       " ['7', 'MegaCam.i.res'],\n",
       " ['8', 'MegaCam.i_0.res'],\n",
       " ['9', 'MegaCam.r.rcs.res'],\n",
       " ['10', 'MegaCam.r.res'],\n",
       " ['11', 'MegaCam.u.res'],\n",
       " ['12', 'MegaCam.z.rcs.res'],\n",
       " ['13', 'MegaCam.z.res'],\n",
       " ['14', 'PS1.g.res'],\n",
       " ['15', 'PS1.i.res'],\n",
       " ['16', 'PS1.r.res'],\n",
       " ['17', 'PS1.y.res'],\n",
       " ['18', 'PS1.z.res'],\n",
       " ['19', 'UKIDSS.J.res'],\n",
       " ['20', 'UKIDSS.K.res'],\n",
       " ['21', 'WFC.Gunn_g_qe.res'],\n",
       " ['22', 'WFC.Gunn_i_qe.res'],\n",
       " ['23', 'WFC.Gunn_r_qe.res'],\n",
       " ['24', 'WFC.RGO_u_qe.res'],\n",
       " ['25', 'WFC.RGO_z_qe.res'],\n",
       " ['26', 'IRAC.I1.res'],\n",
       " ['27', 'IRAC.I2.res']]"
      ]
     },
     "execution_count": 25,
     "metadata": {},
     "output_type": "execute_result"
    }
   ],
   "source": [
    "filters[2:]"
   ]
  },
  {
   "cell_type": "code",
   "execution_count": 14,
   "metadata": {},
   "outputs": [],
   "source": [
    "#translate_file = open('/beegfs/lofar/deepfields/science_ready_catalogs/LH.filter.translate','r')\n",
    "translate_file = open('data/photz/LH.filter.translate','r')\n",
    "translate = []\n",
    "for line in translate_file:\n",
    "    if '#' in line:\n",
    "        continue\n",
    "    temp = line.split(' ')\n",
    "    translate.append(temp)\n",
    "translate_file.close()\n",
    "\n",
    "translate = translate[:len(translate)-1]\n",
    "\n",
    "for n,line in enumerate(translate):\n",
    "    translate[n][1] = line[1][1:-1]"
   ]
  },
  {
   "cell_type": "code",
   "execution_count": 20,
   "metadata": {},
   "outputs": [
    {
     "data": {
      "text/plain": [
       "[['u_flux', '11'],\n",
       " ['u_fluxerr', '11'],\n",
       " ['g_flux', '6'],\n",
       " ['g_fluxerr', '6'],\n",
       " ['r_flux', '10'],\n",
       " ['r_fluxerr', '10'],\n",
       " ['z_flux', '13'],\n",
       " ['z_fluxerr', '13'],\n",
       " ['g_rcs_flux', '5'],\n",
       " ['g_rcs_fluxerr', '5'],\n",
       " ['r_rcs_flux', '9'],\n",
       " ['r_rcs_fluxerr', '9'],\n",
       " ['i_rcs_flux', '7'],\n",
       " ['i_rcs_fluxerr', '7'],\n",
       " ['z_rcs_flux', '12'],\n",
       " ['z_rcs_fluxerr', '12'],\n",
       " ['J_flux', '19'],\n",
       " ['J_fluxerr', '19'],\n",
       " ['K_flux', '20'],\n",
       " ['K_fluxerr', '20'],\n",
       " ['ch1_servs_flux', '26'],\n",
       " ['ch1_servs_fluxerr', '26'],\n",
       " ['ch2_servs_flux', '27'],\n",
       " ['ch2_servs_fluxerr', '27'],\n",
       " ['ch1_swire_flux', '1'],\n",
       " ['ch1_swire_fluxerr', '1'],\n",
       " ['ch2_swire_flux', '2'],\n",
       " ['ch2_swire_fluxerr', '2'],\n",
       " ['ch3_swire_flux', '3'],\n",
       " ['ch3_swire_fluxerr', '3'],\n",
       " ['ch4_swire_flux', '4'],\n",
       " ['ch4_swire_fluxerr', '4']]"
      ]
     },
     "execution_count": 20,
     "metadata": {},
     "output_type": "execute_result"
    }
   ],
   "source": [
    "translate"
   ]
  },
  {
   "cell_type": "code",
   "execution_count": 19,
   "metadata": {
    "scrolled": true
   },
   "outputs": [
    {
     "name": "stdout",
     "output_type": "stream",
     "text": [
      "['11', 'MegaCam.u.res']\n",
      "u_flux\n",
      "MegaCam.u.res\n",
      "['11', 'MegaCam.u.res']\n",
      "u_fluxerr\n",
      "MegaCam.u.res_err\n",
      "['6', 'MegaCam.g.res']\n",
      "g_flux\n",
      "MegaCam.g.res\n",
      "['6', 'MegaCam.g.res']\n",
      "g_fluxerr\n",
      "MegaCam.g.res_err\n",
      "['10', 'MegaCam.r.res']\n",
      "r_flux\n",
      "MegaCam.r.res\n",
      "['10', 'MegaCam.r.res']\n",
      "r_fluxerr\n",
      "MegaCam.r.res_err\n",
      "['13', 'MegaCam.z.res']\n",
      "z_flux\n",
      "MegaCam.z.res\n",
      "['13', 'MegaCam.z.res']\n",
      "z_fluxerr\n",
      "MegaCam.z.res_err\n",
      "['5', 'MegaCam.g.rcs.res']\n",
      "g_rcs_flux\n",
      "MegaCam.g.rcs.res\n",
      "['5', 'MegaCam.g.rcs.res']\n",
      "g_rcs_fluxerr\n",
      "MegaCam.g.rcs.res_err\n",
      "['9', 'MegaCam.r.rcs.res']\n",
      "r_rcs_flux\n",
      "MegaCam.r.rcs.res\n",
      "['9', 'MegaCam.r.rcs.res']\n",
      "r_rcs_fluxerr\n",
      "MegaCam.r.rcs.res_err\n",
      "['7', 'MegaCam.i.res']\n",
      "i_rcs_flux\n",
      "MegaCam.i.res\n",
      "['7', 'MegaCam.i.res']\n",
      "i_rcs_fluxerr\n",
      "MegaCam.i.res_err\n",
      "['12', 'MegaCam.z.rcs.res']\n",
      "z_rcs_flux\n",
      "MegaCam.z.rcs.res\n",
      "['12', 'MegaCam.z.rcs.res']\n",
      "z_rcs_fluxerr\n",
      "MegaCam.z.rcs.res_err\n",
      "['19', 'UKIDSS.J.res']\n",
      "J_flux\n",
      "UKIDSS.J.res\n",
      "['19', 'UKIDSS.J.res']\n",
      "J_fluxerr\n",
      "UKIDSS.J.res_err\n",
      "['20', 'UKIDSS.K.res']\n",
      "K_flux\n",
      "UKIDSS.K.res\n",
      "['20', 'UKIDSS.K.res']\n",
      "K_fluxerr\n",
      "UKIDSS.K.res_err\n",
      "ch1_servs_flux\n",
      "\n",
      "ch1_servs_fluxerr\n",
      "_err\n",
      "ch2_servs_flux\n",
      "\n"
     ]
    },
    {
     "ename": "KeyError",
     "evalue": "'Column  already exists'",
     "output_type": "error",
     "traceback": [
      "\u001b[0;31m---------------------------------------------------------------------------\u001b[0m",
      "\u001b[0;31mKeyError\u001b[0m                                  Traceback (most recent call last)",
      "\u001b[0;32m<ipython-input-19-fffbd173efce>\u001b[0m in \u001b[0;36m<module>\u001b[0;34m\u001b[0m\n\u001b[1;32m     14\u001b[0m     \u001b[0mprint\u001b[0m\u001b[0;34m(\u001b[0m\u001b[0mcolname\u001b[0m\u001b[0;34m)\u001b[0m\u001b[0;34m\u001b[0m\u001b[0;34m\u001b[0m\u001b[0m\n\u001b[1;32m     15\u001b[0m     \u001b[0mprint\u001b[0m\u001b[0;34m(\u001b[0m\u001b[0mfilt_name\u001b[0m\u001b[0;34m)\u001b[0m\u001b[0;34m\u001b[0m\u001b[0;34m\u001b[0m\u001b[0m\n\u001b[0;32m---> 16\u001b[0;31m     \u001b[0mcigale_input\u001b[0m\u001b[0;34m.\u001b[0m\u001b[0mrename_column\u001b[0m\u001b[0;34m(\u001b[0m\u001b[0mcolname\u001b[0m\u001b[0;34m,\u001b[0m\u001b[0mfilt_name\u001b[0m\u001b[0;34m)\u001b[0m\u001b[0;34m\u001b[0m\u001b[0;34m\u001b[0m\u001b[0m\n\u001b[0m",
      "\u001b[0;32m~/anaconda3/lib/python3.7/site-packages/astropy/table/table.py\u001b[0m in \u001b[0;36mrename_column\u001b[0;34m(self, name, new_name)\u001b[0m\n\u001b[1;32m   2279\u001b[0m             \u001b[0;32mraise\u001b[0m \u001b[0mKeyError\u001b[0m\u001b[0;34m(\u001b[0m\u001b[0;34m\"Column {0} does not exist\"\u001b[0m\u001b[0;34m.\u001b[0m\u001b[0mformat\u001b[0m\u001b[0;34m(\u001b[0m\u001b[0mname\u001b[0m\u001b[0;34m)\u001b[0m\u001b[0;34m)\u001b[0m\u001b[0;34m\u001b[0m\u001b[0;34m\u001b[0m\u001b[0m\n\u001b[1;32m   2280\u001b[0m \u001b[0;34m\u001b[0m\u001b[0m\n\u001b[0;32m-> 2281\u001b[0;31m         \u001b[0mself\u001b[0m\u001b[0;34m.\u001b[0m\u001b[0mcolumns\u001b[0m\u001b[0;34m[\u001b[0m\u001b[0mname\u001b[0m\u001b[0;34m]\u001b[0m\u001b[0;34m.\u001b[0m\u001b[0minfo\u001b[0m\u001b[0;34m.\u001b[0m\u001b[0mname\u001b[0m \u001b[0;34m=\u001b[0m \u001b[0mnew_name\u001b[0m\u001b[0;34m\u001b[0m\u001b[0;34m\u001b[0m\u001b[0m\n\u001b[0m\u001b[1;32m   2282\u001b[0m \u001b[0;34m\u001b[0m\u001b[0m\n\u001b[1;32m   2283\u001b[0m     \u001b[0;32mdef\u001b[0m \u001b[0mrename_columns\u001b[0m\u001b[0;34m(\u001b[0m\u001b[0mself\u001b[0m\u001b[0;34m,\u001b[0m \u001b[0mnames\u001b[0m\u001b[0;34m,\u001b[0m \u001b[0mnew_names\u001b[0m\u001b[0;34m)\u001b[0m\u001b[0;34m:\u001b[0m\u001b[0;34m\u001b[0m\u001b[0;34m\u001b[0m\u001b[0m\n",
      "\u001b[0;32m~/anaconda3/lib/python3.7/site-packages/astropy/utils/data_info.py\u001b[0m in \u001b[0;36m__setattr__\u001b[0;34m(self, attr, value)\u001b[0m\n\u001b[1;32m    322\u001b[0m         \u001b[0;31m# attribute directly in parent.\u001b[0m\u001b[0;34m\u001b[0m\u001b[0;34m\u001b[0m\u001b[0;34m\u001b[0m\u001b[0m\n\u001b[1;32m    323\u001b[0m         \u001b[0;32mif\u001b[0m \u001b[0mattr\u001b[0m \u001b[0;32min\u001b[0m \u001b[0mself\u001b[0m\u001b[0;34m.\u001b[0m\u001b[0mattrs_from_parent\u001b[0m \u001b[0;32mand\u001b[0m \u001b[0;32mnot\u001b[0m \u001b[0misinstance\u001b[0m\u001b[0;34m(\u001b[0m\u001b[0mpropobj\u001b[0m\u001b[0;34m,\u001b[0m \u001b[0mproperty\u001b[0m\u001b[0;34m)\u001b[0m\u001b[0;34m:\u001b[0m\u001b[0;34m\u001b[0m\u001b[0;34m\u001b[0m\u001b[0m\n\u001b[0;32m--> 324\u001b[0;31m             \u001b[0msetattr\u001b[0m\u001b[0;34m(\u001b[0m\u001b[0mself\u001b[0m\u001b[0;34m.\u001b[0m\u001b[0m_parent\u001b[0m\u001b[0;34m,\u001b[0m \u001b[0mattr\u001b[0m\u001b[0;34m,\u001b[0m \u001b[0mvalue\u001b[0m\u001b[0;34m)\u001b[0m\u001b[0;34m\u001b[0m\u001b[0;34m\u001b[0m\u001b[0m\n\u001b[0m\u001b[1;32m    325\u001b[0m             \u001b[0;32mreturn\u001b[0m\u001b[0;34m\u001b[0m\u001b[0;34m\u001b[0m\u001b[0m\n\u001b[1;32m    326\u001b[0m \u001b[0;34m\u001b[0m\u001b[0m\n",
      "\u001b[0;32m~/anaconda3/lib/python3.7/site-packages/astropy/table/column.py\u001b[0m in \u001b[0;36m__setattr__\u001b[0;34m(self, item, value)\u001b[0m\n\u001b[1;32m    850\u001b[0m         \u001b[0;32mif\u001b[0m \u001b[0;32mnot\u001b[0m \u001b[0misinstance\u001b[0m\u001b[0;34m(\u001b[0m\u001b[0mself\u001b[0m\u001b[0;34m,\u001b[0m \u001b[0mMaskedColumn\u001b[0m\u001b[0;34m)\u001b[0m \u001b[0;32mand\u001b[0m \u001b[0mitem\u001b[0m \u001b[0;34m==\u001b[0m \u001b[0;34m\"mask\"\u001b[0m\u001b[0;34m:\u001b[0m\u001b[0;34m\u001b[0m\u001b[0;34m\u001b[0m\u001b[0m\n\u001b[1;32m    851\u001b[0m             \u001b[0;32mraise\u001b[0m \u001b[0mAttributeError\u001b[0m\u001b[0;34m(\u001b[0m\u001b[0;34m\"cannot set mask value to a column in non-masked Table\"\u001b[0m\u001b[0;34m)\u001b[0m\u001b[0;34m\u001b[0m\u001b[0;34m\u001b[0m\u001b[0m\n\u001b[0;32m--> 852\u001b[0;31m         \u001b[0msuper\u001b[0m\u001b[0;34m(\u001b[0m\u001b[0;34m)\u001b[0m\u001b[0;34m.\u001b[0m\u001b[0m__setattr__\u001b[0m\u001b[0;34m(\u001b[0m\u001b[0mitem\u001b[0m\u001b[0;34m,\u001b[0m \u001b[0mvalue\u001b[0m\u001b[0;34m)\u001b[0m\u001b[0;34m\u001b[0m\u001b[0;34m\u001b[0m\u001b[0m\n\u001b[0m\u001b[1;32m    853\u001b[0m \u001b[0;34m\u001b[0m\u001b[0m\n\u001b[1;32m    854\u001b[0m         \u001b[0;32mif\u001b[0m \u001b[0mitem\u001b[0m \u001b[0;34m==\u001b[0m \u001b[0;34m'unit'\u001b[0m \u001b[0;32mand\u001b[0m \u001b[0missubclass\u001b[0m\u001b[0;34m(\u001b[0m\u001b[0mself\u001b[0m\u001b[0;34m.\u001b[0m\u001b[0mdtype\u001b[0m\u001b[0;34m.\u001b[0m\u001b[0mtype\u001b[0m\u001b[0;34m,\u001b[0m \u001b[0mnp\u001b[0m\u001b[0;34m.\u001b[0m\u001b[0mnumber\u001b[0m\u001b[0;34m)\u001b[0m\u001b[0;34m:\u001b[0m\u001b[0;34m\u001b[0m\u001b[0;34m\u001b[0m\u001b[0m\n",
      "\u001b[0;32m~/anaconda3/lib/python3.7/site-packages/astropy/table/column.py\u001b[0m in \u001b[0;36mname\u001b[0;34m(self, val)\u001b[0m\n\u001b[1;32m    407\u001b[0m         \u001b[0;32mif\u001b[0m \u001b[0mself\u001b[0m\u001b[0;34m.\u001b[0m\u001b[0mparent_table\u001b[0m \u001b[0;32mis\u001b[0m \u001b[0;32mnot\u001b[0m \u001b[0;32mNone\u001b[0m\u001b[0;34m:\u001b[0m\u001b[0;34m\u001b[0m\u001b[0;34m\u001b[0m\u001b[0m\n\u001b[1;32m    408\u001b[0m             \u001b[0mtable\u001b[0m \u001b[0;34m=\u001b[0m \u001b[0mself\u001b[0m\u001b[0;34m.\u001b[0m\u001b[0mparent_table\u001b[0m\u001b[0;34m\u001b[0m\u001b[0;34m\u001b[0m\u001b[0m\n\u001b[0;32m--> 409\u001b[0;31m             \u001b[0mtable\u001b[0m\u001b[0;34m.\u001b[0m\u001b[0mcolumns\u001b[0m\u001b[0;34m.\u001b[0m\u001b[0m_rename_column\u001b[0m\u001b[0;34m(\u001b[0m\u001b[0mself\u001b[0m\u001b[0;34m.\u001b[0m\u001b[0mname\u001b[0m\u001b[0;34m,\u001b[0m \u001b[0mval\u001b[0m\u001b[0;34m)\u001b[0m\u001b[0;34m\u001b[0m\u001b[0;34m\u001b[0m\u001b[0m\n\u001b[0m\u001b[1;32m    410\u001b[0m \u001b[0;34m\u001b[0m\u001b[0m\n\u001b[1;32m    411\u001b[0m         \u001b[0mself\u001b[0m\u001b[0;34m.\u001b[0m\u001b[0m_name\u001b[0m \u001b[0;34m=\u001b[0m \u001b[0mval\u001b[0m\u001b[0;34m\u001b[0m\u001b[0;34m\u001b[0m\u001b[0m\n",
      "\u001b[0;32m~/anaconda3/lib/python3.7/site-packages/astropy/table/table.py\u001b[0m in \u001b[0;36m_rename_column\u001b[0;34m(self, name, new_name)\u001b[0m\n\u001b[1;32m    216\u001b[0m \u001b[0;34m\u001b[0m\u001b[0m\n\u001b[1;32m    217\u001b[0m         \u001b[0;32mif\u001b[0m \u001b[0mnew_name\u001b[0m \u001b[0;32min\u001b[0m \u001b[0mself\u001b[0m\u001b[0;34m:\u001b[0m\u001b[0;34m\u001b[0m\u001b[0;34m\u001b[0m\u001b[0m\n\u001b[0;32m--> 218\u001b[0;31m             \u001b[0;32mraise\u001b[0m \u001b[0mKeyError\u001b[0m\u001b[0;34m(\u001b[0m\u001b[0;34m\"Column {0} already exists\"\u001b[0m\u001b[0;34m.\u001b[0m\u001b[0mformat\u001b[0m\u001b[0;34m(\u001b[0m\u001b[0mnew_name\u001b[0m\u001b[0;34m)\u001b[0m\u001b[0;34m)\u001b[0m\u001b[0;34m\u001b[0m\u001b[0;34m\u001b[0m\u001b[0m\n\u001b[0m\u001b[1;32m    219\u001b[0m \u001b[0;34m\u001b[0m\u001b[0m\n\u001b[1;32m    220\u001b[0m         \u001b[0mmapper\u001b[0m \u001b[0;34m=\u001b[0m \u001b[0;34m{\u001b[0m\u001b[0mname\u001b[0m\u001b[0;34m:\u001b[0m \u001b[0mnew_name\u001b[0m\u001b[0;34m}\u001b[0m\u001b[0;34m\u001b[0m\u001b[0;34m\u001b[0m\u001b[0m\n",
      "\u001b[0;31mKeyError\u001b[0m: 'Column  already exists'"
     ]
    }
   ],
   "source": [
    "for n,line in enumerate(translate):\n",
    "    colname = line[0]\n",
    "    filt_num = int(line[1])\n",
    "    filt_name = ''\n",
    "    for m,filt in enumerate(filters):\n",
    "        if m+1==filt_num:\n",
    "            print(filt)\n",
    "            filt_name = filt[1]\n",
    "    \n",
    "    if 'err' in colname:\n",
    "        filt_name = filt_name+'_err'\n",
    "    #print(colname)\n",
    "    #print(filt_name)\n",
    "    print(colname)\n",
    "    print(filt_name)\n",
    "    cigale_input.rename_column(colname,filt_name)"
   ]
  },
  {
   "cell_type": "code",
   "execution_count": 140,
   "metadata": {},
   "outputs": [
    {
     "data": {
      "text/html": [
       "<i>Table masked=True length=2214845</i>\n",
       "<table id=\"table140733994846360\" class=\"table-striped table-bordered table-condensed\">\n",
       "<thead><tr><th>ID</th><th>ID_OPTICAL</th><th>ID_SPITZER</th><th>RA</th><th>DEC</th><th>help_id</th><th>RA_HELP</th><th>DEC_HELP</th><th>EBV</th><th>Z_SPEC</th><th>Z_SOURCE</th><th>Z_QUAL</th><th>RA_ZSPEC</th><th>DEC_ZSPEC</th><th>REL</th><th>OBJID</th><th>CLASS_STAR</th><th>FLAG_DEEP</th><th>FLAG_OVERLAP</th><th>FLAG_CLEAN</th><th>FUV_flux</th><th>FUV_fluxerr</th><th>NUV_flux</th><th>NUV_fluxerr</th><th>LBCBlue_Uspec</th><th>LBCBlue_Uspec_err</th><th>Bw_atmccd</th><th>Bw_atmccd_err</th><th>R_atmccd</th><th>R_atmccd_err</th><th>I_atmccd</th><th>I_atmccd_err</th><th>sdssz2</th><th>sdssz2_err</th><th>suprime_FDCCD_z</th><th>suprime_FDCCD_z_err</th><th>LBCR_Y</th><th>LBCR_Y_err</th><th>jband</th><th>jband_err</th><th>hband</th><th>hband_err</th><th>K_atmccd</th><th>K_atmccd_err</th><th>kband</th><th>kband_err</th><th>IRAC_ch1_total_response</th><th>IRAC_ch1_total_response_err</th><th>IRAC_ch2_total_response</th><th>IRAC_ch2_total_response_err</th><th>IRAC_ch3_total_response</th><th>IRAC_ch3_total_response_err</th><th>IRAC_ch4_total_response</th><th>IRAC_ch4_total_response_err</th><th>F_MIPS_24</th><th>FErr_MIPS_24_u</th><th>FErr_MIPS_24_l</th><th>Bkg_MIPS_24</th><th>Sig_conf_MIPS_24</th><th>Rhat_MIPS_24</th><th>n_eff_MIPS_24</th><th>Pval_res_24</th><th>flag_mips_24</th><th>F_PACS_100</th><th>FErr_PACS_100_u</th><th>FErr_PACS_100_l</th><th>F_PACS_160</th><th>FErr_PACS_160_u</th><th>FErr_PACS_160_l</th><th>Bkg_PACS_100</th><th>Bkg_PACS_160</th><th>Sig_conf_PACS_100</th><th>Sig_conf_PACS_160</th><th>Rhat_PACS_100</th><th>Rhat_PACS_160</th><th>n_eff_PACS_100</th><th>n_eff_PACS_160</th><th>Pval_res_100</th><th>Pval_res_160</th><th>flag_PACS_100</th><th>flag_PACS_160</th><th>F_SPIRE_250</th><th>FErr_SPIRE_250_u</th><th>FErr_SPIRE_250_l</th><th>F_SPIRE_350</th><th>FErr_SPIRE_350_u</th><th>FErr_SPIRE_350_l</th><th>F_SPIRE_500</th><th>FErr_SPIRE_500_u</th><th>FErr_SPIRE_500_l</th><th>Bkg_SPIRE_250</th><th>Bkg_SPIRE_350</th><th>Bkg_SPIRE_500</th><th>Sig_conf_SPIRE_250</th><th>Sig_conf_SPIRE_350</th><th>Sig_conf_SPIRE_500</th><th>Rhat_SPIRE_250</th><th>Rhat_SPIRE_350</th><th>Rhat_SPIRE_500</th><th>n_eff_SPIRE_250</th><th>n_eff_SPIRE_500</th><th>n_eff_SPIRE_350</th><th>Pval_res_250</th><th>Pval_res_350</th><th>Pval_res_500</th><th>flag_spire_250</th><th>flag_spire_350</th><th>flag_spire_500</th><th>AGN</th><th>optAGN</th><th>IRAGN</th><th>AGN_ZSPEC</th><th>XrayAGN</th><th>XrayFlux_0.5-2</th><th>XrayHardness</th><th>z1_median</th><th>z1_min</th><th>z1_max</th><th>z1_area</th><th>z2_median</th><th>z2_min</th><th>z2_max</th><th>z2_area</th><th>nfilt_eazy</th><th>nfilt_atlas</th><th>nfilt_ananna</th><th>chi_r_best</th><th>chi_r_stellar</th><th>stellar_type</th><th>hp_idx_11</th><th>hp_depth_cluster</th></tr></thead>\n",
       "<thead><tr><th></th><th></th><th></th><th>deg</th><th>deg</th><th></th><th>deg</th><th>deg</th><th></th><th></th><th></th><th></th><th></th><th></th><th></th><th></th><th></th><th></th><th></th><th></th><th>uJy</th><th>uJy</th><th>uJy</th><th>uJy</th><th>uJy</th><th>uJy</th><th>uJy</th><th>uJy</th><th>uJy</th><th>uJy</th><th>uJy</th><th>uJy</th><th>uJy</th><th>uJy</th><th>uJy</th><th>uJy</th><th>uJy</th><th>uJy</th><th>uJy</th><th>uJy</th><th>uJy</th><th>uJy</th><th>uJy</th><th>uJy</th><th>uJy</th><th>uJy</th><th>uJy</th><th>uJy</th><th>uJy</th><th>uJy</th><th>uJy</th><th>uJy</th><th>uJy</th><th>uJy</th><th>muJy</th><th>muJy</th><th>muJy</th><th>MJy / sr</th><th>MJy / sr</th><th></th><th></th><th></th><th></th><th>mJy</th><th>mJy</th><th>mJy</th><th>mJy</th><th>mJy</th><th>mJy</th><th>mJy/Beam</th><th>mJy/Beam</th><th>mJy/Beam</th><th>mJy/Beam</th><th></th><th></th><th></th><th></th><th></th><th></th><th></th><th></th><th>mJy</th><th>mJy</th><th>mJy</th><th>mJy</th><th>mJy</th><th>mJy</th><th>mJy</th><th>mJy</th><th>mJy</th><th>mJy/Beam</th><th>mJy/Beam</th><th>mJy/Beam</th><th>mJy/Beam</th><th>mJy/Beam</th><th>mJy/Beam</th><th></th><th></th><th></th><th></th><th></th><th></th><th></th><th></th><th></th><th></th><th></th><th></th><th></th><th></th><th></th><th></th><th></th><th></th><th></th><th></th><th></th><th></th><th></th><th></th><th></th><th></th><th></th><th></th><th></th><th></th><th></th><th></th><th></th><th>deg</th><th></th></tr></thead>\n",
       "<thead><tr><th>int64</th><th>int64</th><th>int64</th><th>float64</th><th>float64</th><th>bytes27</th><th>float64</th><th>float64</th><th>float32</th><th>float64</th><th>int64</th><th>int64</th><th>float64</th><th>float64</th><th>float64</th><th>bytes25</th><th>float32</th><th>int64</th><th>int64</th><th>int64</th><th>float64</th><th>float64</th><th>float64</th><th>float64</th><th>float64</th><th>float64</th><th>float64</th><th>float64</th><th>float64</th><th>float64</th><th>float64</th><th>float64</th><th>float64</th><th>float64</th><th>float64</th><th>float64</th><th>float64</th><th>float64</th><th>float64</th><th>float64</th><th>float64</th><th>float64</th><th>float64</th><th>float64</th><th>float64</th><th>float64</th><th>float64</th><th>float64</th><th>float64</th><th>float64</th><th>float64</th><th>float64</th><th>float64</th><th>float64</th><th>float32</th><th>float32</th><th>float32</th><th>float32</th><th>float32</th><th>float32</th><th>float32</th><th>float32</th><th>bool</th><th>float32</th><th>float32</th><th>float32</th><th>float32</th><th>float32</th><th>float32</th><th>float32</th><th>float32</th><th>float32</th><th>float32</th><th>float32</th><th>float32</th><th>float32</th><th>float32</th><th>float32</th><th>float32</th><th>bool</th><th>bool</th><th>float32</th><th>float32</th><th>float32</th><th>float32</th><th>float32</th><th>float32</th><th>float32</th><th>float32</th><th>float32</th><th>float32</th><th>float32</th><th>float32</th><th>float32</th><th>float32</th><th>float32</th><th>float32</th><th>float32</th><th>float32</th><th>float32</th><th>float32</th><th>float32</th><th>float32</th><th>float32</th><th>float32</th><th>bool</th><th>bool</th><th>bool</th><th>int64</th><th>float64</th><th>float64</th><th>int64</th><th>float64</th><th>float64</th><th>float64</th><th>float64</th><th>float64</th><th>float64</th><th>float64</th><th>float64</th><th>float64</th><th>float64</th><th>float64</th><th>int64</th><th>int64</th><th>int64</th><th>float64</th><th>float64</th><th>bytes6</th><th>int64</th><th>int32</th></tr></thead>\n",
       "<tr><td>0</td><td>1</td><td>--</td><td>216.473863</td><td>32.2825963</td><td>N/A</td><td>nan</td><td>nan</td><td>0.01093379</td><td>nan</td><td>--</td><td>--</td><td>nan</td><td>nan</td><td>nan</td><td>N/A</td><td>0.64</td><td>0</td><td>0</td><td>1</td><td>-99.0</td><td>-99.0</td><td>-99.0</td><td>-99.0</td><td>0.10352171485738193</td><td>0.09050546420954841</td><td>-99.0</td><td>-99.0</td><td>-99.0</td><td>-99.0</td><td>1.2489124884509977</td><td>0.17990861652974743</td><td>-99.0</td><td>-99.0</td><td>-99.0</td><td>-99.0</td><td>-99.0</td><td>-99.0</td><td>-99.0</td><td>-99.0</td><td>-99.0</td><td>-99.0</td><td>-99.0</td><td>-99.0</td><td>-99.0</td><td>-99.0</td><td>-0.49297147310738154</td><td>0.9599805695282839</td><td>0.20943547943156204</td><td>1.134281811727078</td><td>7.514107605812171</td><td>4.5540334671514415</td><td>7.615719616676927</td><td>4.989334194948697</td><td>nan</td><td>nan</td><td>nan</td><td>nan</td><td>nan</td><td>nan</td><td>nan</td><td>nan</td><td>True</td><td>nan</td><td>nan</td><td>nan</td><td>nan</td><td>nan</td><td>nan</td><td>nan</td><td>nan</td><td>nan</td><td>nan</td><td>nan</td><td>nan</td><td>nan</td><td>nan</td><td>nan</td><td>nan</td><td>True</td><td>True</td><td>nan</td><td>nan</td><td>nan</td><td>nan</td><td>nan</td><td>nan</td><td>nan</td><td>nan</td><td>nan</td><td>nan</td><td>nan</td><td>nan</td><td>nan</td><td>nan</td><td>nan</td><td>nan</td><td>nan</td><td>nan</td><td>nan</td><td>nan</td><td>nan</td><td>nan</td><td>nan</td><td>nan</td><td>True</td><td>True</td><td>True</td><td>0</td><td>0.0</td><td>0.0</td><td>--</td><td>0.0</td><td>-99.0</td><td>-99.0</td><td>3.6887</td><td>2.88</td><td>4.63</td><td>0.379</td><td>0.3205</td><td>0.0</td><td>0.81</td><td>0.3</td><td>6</td><td>6</td><td>-99</td><td>0.9076026</td><td>-99.0</td><td></td><td>9355052</td><td>38</td></tr>\n",
       "<tr><td>1</td><td>2</td><td>--</td><td>216.6176098</td><td>32.2827433</td><td>N/A</td><td>nan</td><td>nan</td><td>0.011378967</td><td>nan</td><td>--</td><td>--</td><td>nan</td><td>nan</td><td>nan</td><td>N/A</td><td>0.66</td><td>1</td><td>0</td><td>1</td><td>-99.0</td><td>-99.0</td><td>-99.0</td><td>-99.0</td><td>0.14205340354133433</td><td>0.10208383139344512</td><td>-99.0</td><td>-99.0</td><td>-99.0</td><td>-99.0</td><td>2.2504786392603933</td><td>0.296515815034585</td><td>-99.0</td><td>-99.0</td><td>-99.0</td><td>-99.0</td><td>3.024591269118048</td><td>0.9852884297638695</td><td>-99.0</td><td>-99.0</td><td>-99.0</td><td>-99.0</td><td>-99.0</td><td>-99.0</td><td>-99.0</td><td>-99.0</td><td>0.9767319824514686</td><td>1.5478341974800571</td><td>-1.7595202200970164</td><td>1.7629785131039455</td><td>-5.952454398315695</td><td>5.309193218215569</td><td>-2.2705116400237557</td><td>6.32218752331255</td><td>nan</td><td>nan</td><td>nan</td><td>nan</td><td>nan</td><td>nan</td><td>nan</td><td>nan</td><td>True</td><td>nan</td><td>nan</td><td>nan</td><td>nan</td><td>nan</td><td>nan</td><td>nan</td><td>nan</td><td>nan</td><td>nan</td><td>nan</td><td>nan</td><td>nan</td><td>nan</td><td>nan</td><td>nan</td><td>True</td><td>True</td><td>nan</td><td>nan</td><td>nan</td><td>nan</td><td>nan</td><td>nan</td><td>nan</td><td>nan</td><td>nan</td><td>nan</td><td>nan</td><td>nan</td><td>nan</td><td>nan</td><td>nan</td><td>nan</td><td>nan</td><td>nan</td><td>nan</td><td>nan</td><td>nan</td><td>nan</td><td>nan</td><td>nan</td><td>True</td><td>True</td><td>True</td><td>0</td><td>0.0</td><td>0.0</td><td>--</td><td>0.0</td><td>-99.0</td><td>-99.0</td><td>0.2606</td><td>0.0</td><td>0.66</td><td>0.336</td><td>4.7469</td><td>4.24</td><td>5.17</td><td>0.238</td><td>7</td><td>7</td><td>5</td><td>0.6073765</td><td>-99.0</td><td></td><td>9355035</td><td>1</td></tr>\n",
       "<tr><td>2</td><td>3</td><td>--</td><td>216.6229261</td><td>32.2827587</td><td>N/A</td><td>nan</td><td>nan</td><td>0.011368896</td><td>nan</td><td>--</td><td>--</td><td>nan</td><td>nan</td><td>nan</td><td>N/A</td><td>0.95</td><td>0</td><td>0</td><td>1</td><td>-99.0</td><td>-99.0</td><td>-99.0</td><td>-99.0</td><td>-0.20942682085571818</td><td>0.1166916513937899</td><td>-99.0</td><td>-99.0</td><td>-99.0</td><td>-99.0</td><td>2.220177368145073</td><td>0.3306786162937243</td><td>-99.0</td><td>-99.0</td><td>-99.0</td><td>-99.0</td><td>5.238676595379729</td><td>1.0627950082149482</td><td>-99.0</td><td>-99.0</td><td>-99.0</td><td>-99.0</td><td>-99.0</td><td>-99.0</td><td>-99.0</td><td>-99.0</td><td>-0.8736442902151111</td><td>1.6758988109110646</td><td>-1.409917399317976</td><td>1.77943339824526</td><td>-13.181820106633495</td><td>4.818007365596486</td><td>-3.911684546621075</td><td>5.659510254803649</td><td>nan</td><td>nan</td><td>nan</td><td>nan</td><td>nan</td><td>nan</td><td>nan</td><td>nan</td><td>True</td><td>nan</td><td>nan</td><td>nan</td><td>nan</td><td>nan</td><td>nan</td><td>nan</td><td>nan</td><td>nan</td><td>nan</td><td>nan</td><td>nan</td><td>nan</td><td>nan</td><td>nan</td><td>nan</td><td>True</td><td>True</td><td>nan</td><td>nan</td><td>nan</td><td>nan</td><td>nan</td><td>nan</td><td>nan</td><td>nan</td><td>nan</td><td>nan</td><td>nan</td><td>nan</td><td>nan</td><td>nan</td><td>nan</td><td>nan</td><td>nan</td><td>nan</td><td>nan</td><td>nan</td><td>nan</td><td>nan</td><td>nan</td><td>nan</td><td>True</td><td>True</td><td>True</td><td>0</td><td>0.0</td><td>0.0</td><td>--</td><td>0.0</td><td>-99.0</td><td>-99.0</td><td>4.9513</td><td>4.07</td><td>5.58</td><td>0.591</td><td>0.1685</td><td>0.0</td><td>0.41</td><td>0.207</td><td>7</td><td>7</td><td>5</td><td>3.4639166666666665</td><td>-99.0</td><td></td><td>9355033</td><td>38</td></tr>\n",
       "<tr><td>3</td><td>4</td><td>--</td><td>216.6170473</td><td>32.2827598</td><td>N/A</td><td>nan</td><td>nan</td><td>0.011380097</td><td>nan</td><td>--</td><td>--</td><td>nan</td><td>nan</td><td>nan</td><td>N/A</td><td>0.81</td><td>0</td><td>0</td><td>1</td><td>-99.0</td><td>-99.0</td><td>-99.0</td><td>-99.0</td><td>-0.08493638348388899</td><td>0.10427008394822934</td><td>-99.0</td><td>-99.0</td><td>-99.0</td><td>-99.0</td><td>2.3595813247692377</td><td>0.2965496460267474</td><td>-99.0</td><td>-99.0</td><td>-99.0</td><td>-99.0</td><td>3.978017640980397</td><td>1.177209875748531</td><td>-99.0</td><td>-99.0</td><td>-99.0</td><td>-99.0</td><td>-99.0</td><td>-99.0</td><td>-99.0</td><td>-99.0</td><td>1.4013146832281649</td><td>1.448610668757567</td><td>-0.8201158156326755</td><td>1.6198821627253892</td><td>-3.8652412491337884</td><td>5.209062470633796</td><td>-6.936884145866884</td><td>6.357018470812079</td><td>nan</td><td>nan</td><td>nan</td><td>nan</td><td>nan</td><td>nan</td><td>nan</td><td>nan</td><td>True</td><td>nan</td><td>nan</td><td>nan</td><td>nan</td><td>nan</td><td>nan</td><td>nan</td><td>nan</td><td>nan</td><td>nan</td><td>nan</td><td>nan</td><td>nan</td><td>nan</td><td>nan</td><td>nan</td><td>True</td><td>True</td><td>nan</td><td>nan</td><td>nan</td><td>nan</td><td>nan</td><td>nan</td><td>nan</td><td>nan</td><td>nan</td><td>nan</td><td>nan</td><td>nan</td><td>nan</td><td>nan</td><td>nan</td><td>nan</td><td>nan</td><td>nan</td><td>nan</td><td>nan</td><td>nan</td><td>nan</td><td>nan</td><td>nan</td><td>True</td><td>True</td><td>True</td><td>0</td><td>0.0</td><td>0.0</td><td>--</td><td>0.0</td><td>-99.0</td><td>-99.0</td><td>4.4549</td><td>3.55</td><td>5.39</td><td>0.674</td><td>0.1492</td><td>0.0</td><td>0.34</td><td>0.11</td><td>7</td><td>7</td><td>5</td><td>1.0809625</td><td>-99.0</td><td></td><td>9355035</td><td>1</td></tr>\n",
       "<tr><td>4</td><td>5</td><td>--</td><td>216.6101975</td><td>32.2827674</td><td>N/A</td><td>nan</td><td>nan</td><td>0.011392847</td><td>nan</td><td>--</td><td>--</td><td>nan</td><td>nan</td><td>nan</td><td>N/A</td><td>0.94</td><td>0</td><td>0</td><td>1</td><td>-99.0</td><td>-99.0</td><td>-99.0</td><td>-99.0</td><td>0.011237726769472545</td><td>0.09655114210534066</td><td>-99.0</td><td>-99.0</td><td>-99.0</td><td>-99.0</td><td>2.052690189911573</td><td>0.22829569053203969</td><td>-99.0</td><td>-99.0</td><td>-99.0</td><td>-99.0</td><td>2.962329339330779</td><td>0.8741551520439828</td><td>-99.0</td><td>-99.0</td><td>-99.0</td><td>-99.0</td><td>-99.0</td><td>-99.0</td><td>-99.0</td><td>-99.0</td><td>2.1793988266377937</td><td>1.83139540394113</td><td>2.5529110121423173</td><td>1.7247845745870052</td><td>-1.9081699296520327</td><td>6.303530365433403</td><td>4.549084320637178</td><td>5.867839393692748</td><td>nan</td><td>nan</td><td>nan</td><td>nan</td><td>nan</td><td>nan</td><td>nan</td><td>nan</td><td>True</td><td>nan</td><td>nan</td><td>nan</td><td>nan</td><td>nan</td><td>nan</td><td>nan</td><td>nan</td><td>nan</td><td>nan</td><td>nan</td><td>nan</td><td>nan</td><td>nan</td><td>nan</td><td>nan</td><td>True</td><td>True</td><td>nan</td><td>nan</td><td>nan</td><td>nan</td><td>nan</td><td>nan</td><td>nan</td><td>nan</td><td>nan</td><td>nan</td><td>nan</td><td>nan</td><td>nan</td><td>nan</td><td>nan</td><td>nan</td><td>nan</td><td>nan</td><td>nan</td><td>nan</td><td>nan</td><td>nan</td><td>nan</td><td>nan</td><td>True</td><td>True</td><td>True</td><td>0</td><td>0.0</td><td>0.0</td><td>--</td><td>0.0</td><td>-99.0</td><td>-99.0</td><td>4.4835</td><td>3.37</td><td>5.58</td><td>0.586</td><td>0.2732</td><td>0.0</td><td>0.58</td><td>0.21</td><td>7</td><td>7</td><td>5</td><td>0.053912825</td><td>-99.0</td><td></td><td>9355035</td><td>1</td></tr>\n",
       "<tr><td>5</td><td>6</td><td>--</td><td>216.5465545</td><td>32.2827939</td><td>N/A</td><td>nan</td><td>nan</td><td>0.0113954935</td><td>nan</td><td>--</td><td>--</td><td>nan</td><td>nan</td><td>nan</td><td>N/A</td><td>0.71</td><td>0</td><td>0</td><td>1</td><td>-99.0</td><td>-99.0</td><td>-99.0</td><td>-99.0</td><td>0.5127235452642509</td><td>0.0680329434989213</td><td>-99.0</td><td>-99.0</td><td>-99.0</td><td>-99.0</td><td>2.7272558909632494</td><td>0.1430594889508594</td><td>-99.0</td><td>-99.0</td><td>-99.0</td><td>-99.0</td><td>-2.027281831658655</td><td>0.7119577998524917</td><td>-99.0</td><td>-99.0</td><td>-99.0</td><td>-99.0</td><td>-99.0</td><td>-99.0</td><td>-99.0</td><td>-99.0</td><td>7.462023036148935</td><td>0.8670840108299771</td><td>6.30951363843451</td><td>1.1099708027368251</td><td>-1.769850885971593</td><td>4.61123470901299</td><td>9.56498098893735</td><td>3.964390884128761</td><td>nan</td><td>nan</td><td>nan</td><td>nan</td><td>nan</td><td>nan</td><td>nan</td><td>nan</td><td>True</td><td>nan</td><td>nan</td><td>nan</td><td>nan</td><td>nan</td><td>nan</td><td>nan</td><td>nan</td><td>nan</td><td>nan</td><td>nan</td><td>nan</td><td>nan</td><td>nan</td><td>nan</td><td>nan</td><td>True</td><td>True</td><td>nan</td><td>nan</td><td>nan</td><td>nan</td><td>nan</td><td>nan</td><td>nan</td><td>nan</td><td>nan</td><td>nan</td><td>nan</td><td>nan</td><td>nan</td><td>nan</td><td>nan</td><td>nan</td><td>nan</td><td>nan</td><td>nan</td><td>nan</td><td>nan</td><td>nan</td><td>nan</td><td>nan</td><td>True</td><td>True</td><td>True</td><td>0</td><td>0.0</td><td>0.0</td><td>--</td><td>0.0</td><td>-99.0</td><td>-99.0</td><td>2.7475</td><td>2.28</td><td>3.11</td><td>0.789</td><td>0.718</td><td>0.7</td><td>0.74</td><td>0.006</td><td>7</td><td>7</td><td>5</td><td>7.1180650000000005</td><td>-99.0</td><td></td><td>9355056</td><td>38</td></tr>\n",
       "<tr><td>6</td><td>7</td><td>--</td><td>216.6220666</td><td>32.2827948</td><td>N/A</td><td>nan</td><td>nan</td><td>0.011370702</td><td>nan</td><td>--</td><td>--</td><td>nan</td><td>nan</td><td>nan</td><td>N/A</td><td>0.96</td><td>0</td><td>0</td><td>1</td><td>-99.0</td><td>-99.0</td><td>-99.0</td><td>-99.0</td><td>-0.03802906983937815</td><td>0.10497828051327485</td><td>-99.0</td><td>-99.0</td><td>-99.0</td><td>-99.0</td><td>1.7806945921523436</td><td>0.3305310478425625</td><td>-99.0</td><td>-99.0</td><td>-99.0</td><td>-99.0</td><td>2.7472762126518546</td><td>1.0473396422429744</td><td>-99.0</td><td>-99.0</td><td>-99.0</td><td>-99.0</td><td>-99.0</td><td>-99.0</td><td>-99.0</td><td>-99.0</td><td>-1.1433393831680405</td><td>1.5468761152371258</td><td>-2.2754894163085737</td><td>1.7494617424943044</td><td>-4.972972629941921</td><td>4.8184094983487284</td><td>-7.867632011440264</td><td>5.806048587652981</td><td>nan</td><td>nan</td><td>nan</td><td>nan</td><td>nan</td><td>nan</td><td>nan</td><td>nan</td><td>True</td><td>nan</td><td>nan</td><td>nan</td><td>nan</td><td>nan</td><td>nan</td><td>nan</td><td>nan</td><td>nan</td><td>nan</td><td>nan</td><td>nan</td><td>nan</td><td>nan</td><td>nan</td><td>nan</td><td>True</td><td>True</td><td>nan</td><td>nan</td><td>nan</td><td>nan</td><td>nan</td><td>nan</td><td>nan</td><td>nan</td><td>nan</td><td>nan</td><td>nan</td><td>nan</td><td>nan</td><td>nan</td><td>nan</td><td>nan</td><td>nan</td><td>nan</td><td>nan</td><td>nan</td><td>nan</td><td>nan</td><td>nan</td><td>nan</td><td>True</td><td>True</td><td>True</td><td>0</td><td>0.0</td><td>0.0</td><td>--</td><td>0.0</td><td>-99.0</td><td>-99.0</td><td>4.4733</td><td>3.44</td><td>5.37</td><td>0.593</td><td>0.1788</td><td>0.0</td><td>0.43</td><td>0.186</td><td>7</td><td>7</td><td>5</td><td>1.59636</td><td>-99.0</td><td></td><td>9355035</td><td>1</td></tr>\n",
       "<tr><td>7</td><td>8</td><td>--</td><td>216.6373394</td><td>32.2827983</td><td>N/A</td><td>nan</td><td>nan</td><td>0.011337835</td><td>nan</td><td>--</td><td>--</td><td>nan</td><td>nan</td><td>nan</td><td>N/A</td><td>0.95</td><td>0</td><td>0</td><td>1</td><td>-99.0</td><td>-99.0</td><td>-99.0</td><td>-99.0</td><td>-0.036533602654072794</td><td>0.1072444582847103</td><td>-99.0</td><td>-99.0</td><td>-99.0</td><td>-99.0</td><td>1.5119137359928345</td><td>0.6272947206539925</td><td>-99.0</td><td>-99.0</td><td>-99.0</td><td>-99.0</td><td>5.245739642073204</td><td>1.1060053750283032</td><td>-99.0</td><td>-99.0</td><td>-99.0</td><td>-99.0</td><td>-99.0</td><td>-99.0</td><td>-99.0</td><td>-99.0</td><td>-1.4075126192795295</td><td>1.1803694604774364</td><td>-0.29010297427952736</td><td>1.55138434425524</td><td>-12.881733110325513</td><td>4.630836114952217</td><td>16.783506703364992</td><td>5.489725593558944</td><td>nan</td><td>nan</td><td>nan</td><td>nan</td><td>nan</td><td>nan</td><td>nan</td><td>nan</td><td>True</td><td>nan</td><td>nan</td><td>nan</td><td>nan</td><td>nan</td><td>nan</td><td>nan</td><td>nan</td><td>nan</td><td>nan</td><td>nan</td><td>nan</td><td>nan</td><td>nan</td><td>nan</td><td>nan</td><td>True</td><td>True</td><td>nan</td><td>nan</td><td>nan</td><td>nan</td><td>nan</td><td>nan</td><td>nan</td><td>nan</td><td>nan</td><td>nan</td><td>nan</td><td>nan</td><td>nan</td><td>nan</td><td>nan</td><td>nan</td><td>nan</td><td>nan</td><td>nan</td><td>nan</td><td>nan</td><td>nan</td><td>nan</td><td>nan</td><td>True</td><td>True</td><td>True</td><td>0</td><td>0.0</td><td>0.0</td><td>--</td><td>0.0</td><td>-99.0</td><td>-99.0</td><td>0.1774</td><td>0.0</td><td>0.53</td><td>0.433</td><td>4.9478</td><td>4.03</td><td>5.65</td><td>0.284</td><td>7</td><td>7</td><td>5</td><td>3.3298475</td><td>-99.0</td><td></td><td>9355036</td><td>38</td></tr>\n",
       "<tr><td>8</td><td>9</td><td>--</td><td>216.6312664</td><td>32.2828096</td><td>N/A</td><td>nan</td><td>nan</td><td>0.011352327</td><td>nan</td><td>--</td><td>--</td><td>nan</td><td>nan</td><td>nan</td><td>N/A</td><td>0.59</td><td>0</td><td>0</td><td>1</td><td>-99.0</td><td>-99.0</td><td>-99.0</td><td>-99.0</td><td>0.2024325623635832</td><td>0.1069881527561396</td><td>-99.0</td><td>-99.0</td><td>-99.0</td><td>-99.0</td><td>2.9272271182156544</td><td>0.4353748581626711</td><td>-99.0</td><td>-99.0</td><td>-99.0</td><td>-99.0</td><td>7.049745548096553</td><td>1.0874362430018465</td><td>-99.0</td><td>-99.0</td><td>-99.0</td><td>-99.0</td><td>-99.0</td><td>-99.0</td><td>-99.0</td><td>-99.0</td><td>-2.5361417704382347</td><td>1.4758292035597265</td><td>-2.502840670135413</td><td>1.6524407836351145</td><td>-16.26952241853178</td><td>4.694948235570791</td><td>-12.473937370317913</td><td>5.288649044949864</td><td>nan</td><td>nan</td><td>nan</td><td>nan</td><td>nan</td><td>nan</td><td>nan</td><td>nan</td><td>True</td><td>nan</td><td>nan</td><td>nan</td><td>nan</td><td>nan</td><td>nan</td><td>nan</td><td>nan</td><td>nan</td><td>nan</td><td>nan</td><td>nan</td><td>nan</td><td>nan</td><td>nan</td><td>nan</td><td>True</td><td>True</td><td>nan</td><td>nan</td><td>nan</td><td>nan</td><td>nan</td><td>nan</td><td>nan</td><td>nan</td><td>nan</td><td>nan</td><td>nan</td><td>nan</td><td>nan</td><td>nan</td><td>nan</td><td>nan</td><td>nan</td><td>nan</td><td>nan</td><td>nan</td><td>nan</td><td>nan</td><td>nan</td><td>nan</td><td>True</td><td>True</td><td>True</td><td>0</td><td>0.0</td><td>0.0</td><td>--</td><td>0.0</td><td>-99.0</td><td>-99.0</td><td>0.1334</td><td>0.0</td><td>0.56</td><td>0.658</td><td>5.1169</td><td>4.83</td><td>5.38</td><td>0.109</td><td>6</td><td>6</td><td>5</td><td>5.148</td><td>-99.0</td><td></td><td>9355033</td><td>38</td></tr>\n",
       "<tr><td>...</td><td>...</td><td>...</td><td>...</td><td>...</td><td>...</td><td>...</td><td>...</td><td>...</td><td>...</td><td>...</td><td>...</td><td>...</td><td>...</td><td>...</td><td>...</td><td>...</td><td>...</td><td>...</td><td>...</td><td>...</td><td>...</td><td>...</td><td>...</td><td>...</td><td>...</td><td>...</td><td>...</td><td>...</td><td>...</td><td>...</td><td>...</td><td>...</td><td>...</td><td>...</td><td>...</td><td>...</td><td>...</td><td>...</td><td>...</td><td>...</td><td>...</td><td>...</td><td>...</td><td>...</td><td>...</td><td>...</td><td>...</td><td>...</td><td>...</td><td>...</td><td>...</td><td>...</td><td>...</td><td>...</td><td>...</td><td>...</td><td>...</td><td>...</td><td>...</td><td>...</td><td>...</td><td>...</td><td>...</td><td>...</td><td>...</td><td>...</td><td>...</td><td>...</td><td>...</td><td>...</td><td>...</td><td>...</td><td>...</td><td>...</td><td>...</td><td>...</td><td>...</td><td>...</td><td>...</td><td>...</td><td>...</td><td>...</td><td>...</td><td>...</td><td>...</td><td>...</td><td>...</td><td>...</td><td>...</td><td>...</td><td>...</td><td>...</td><td>...</td><td>...</td><td>...</td><td>...</td><td>...</td><td>...</td><td>...</td><td>...</td><td>...</td><td>...</td><td>...</td><td>...</td><td>...</td><td>...</td><td>...</td><td>...</td><td>...</td><td>...</td><td>...</td><td>...</td><td>...</td><td>...</td><td>...</td><td>...</td><td>...</td><td>...</td><td>...</td><td>...</td><td>...</td><td>...</td><td>...</td><td>...</td><td>...</td><td>...</td><td>...</td><td>...</td><td>...</td><td>...</td></tr>\n",
       "<tr><td>2214319</td><td>--</td><td>671677</td><td>219.0647896</td><td>35.8783314</td><td>N/A</td><td>nan</td><td>nan</td><td>0.011749455</td><td>nan</td><td>--</td><td>--</td><td>nan</td><td>nan</td><td>nan</td><td>N/A</td><td>nan</td><td>-99</td><td>0</td><td>1</td><td>-99.0</td><td>-99.0</td><td>-99.0</td><td>-99.0</td><td>-99.0</td><td>-99.0</td><td>-99.0</td><td>-99.0</td><td>1.6106562505884352</td><td>0.20071338668600622</td><td>-99.0</td><td>-99.0</td><td>-99.0</td><td>-99.0</td><td>-99.0</td><td>-99.0</td><td>-99.0</td><td>-99.0</td><td>-99.0</td><td>-99.0</td><td>-99.0</td><td>-99.0</td><td>-99.0</td><td>-99.0</td><td>-99.0</td><td>-99.0</td><td>11.64777031710155</td><td>1.3195431290998065</td><td>10.276745602500554</td><td>1.597731244569244</td><td>16.63381675514409</td><td>8.395530647197669</td><td>13.152706758842648</td><td>10.759735276403076</td><td>nan</td><td>nan</td><td>nan</td><td>nan</td><td>nan</td><td>nan</td><td>nan</td><td>nan</td><td>True</td><td>nan</td><td>nan</td><td>nan</td><td>nan</td><td>nan</td><td>nan</td><td>nan</td><td>nan</td><td>nan</td><td>nan</td><td>nan</td><td>nan</td><td>nan</td><td>nan</td><td>nan</td><td>nan</td><td>True</td><td>True</td><td>nan</td><td>nan</td><td>nan</td><td>nan</td><td>nan</td><td>nan</td><td>nan</td><td>nan</td><td>nan</td><td>nan</td><td>nan</td><td>nan</td><td>nan</td><td>nan</td><td>nan</td><td>nan</td><td>nan</td><td>nan</td><td>nan</td><td>nan</td><td>nan</td><td>nan</td><td>nan</td><td>nan</td><td>True</td><td>True</td><td>True</td><td>0</td><td>0.0</td><td>0.0</td><td>--</td><td>0.0</td><td>-99.0</td><td>-99.0</td><td>-99.0</td><td>-99.0</td><td>-99.0</td><td>-99.0</td><td>-99.0</td><td>-99.0</td><td>-99.0</td><td>-99.0</td><td>5</td><td>5</td><td>-99</td><td>0.025190325</td><td>-99.0</td><td></td><td>10769883</td><td>32</td></tr>\n",
       "<tr><td>2214320</td><td>--</td><td>671678</td><td>219.068612</td><td>35.8568207</td><td>N/A</td><td>nan</td><td>nan</td><td>0.011213751</td><td>nan</td><td>--</td><td>--</td><td>nan</td><td>nan</td><td>nan</td><td>N/A</td><td>nan</td><td>-99</td><td>0</td><td>1</td><td>-99.0</td><td>-99.0</td><td>-99.0</td><td>-99.0</td><td>-99.0</td><td>-99.0</td><td>1.094067067189616</td><td>0.0865591113750546</td><td>4.121865321190551</td><td>0.18981891287804956</td><td>-99.0</td><td>-99.0</td><td>-99.0</td><td>-99.0</td><td>-99.0</td><td>-99.0</td><td>-99.0</td><td>-99.0</td><td>-99.0</td><td>-99.0</td><td>-99.0</td><td>-99.0</td><td>-99.0</td><td>-99.0</td><td>-99.0</td><td>-99.0</td><td>28.816642122534873</td><td>1.4013705146811342</td><td>34.3198854036511</td><td>1.7258941304778475</td><td>39.39212100974028</td><td>8.206871736756952</td><td>28.384369783857966</td><td>9.38009788548684</td><td>nan</td><td>nan</td><td>nan</td><td>nan</td><td>nan</td><td>nan</td><td>nan</td><td>nan</td><td>True</td><td>nan</td><td>nan</td><td>nan</td><td>nan</td><td>nan</td><td>nan</td><td>nan</td><td>nan</td><td>nan</td><td>nan</td><td>nan</td><td>nan</td><td>nan</td><td>nan</td><td>nan</td><td>nan</td><td>True</td><td>True</td><td>nan</td><td>nan</td><td>nan</td><td>nan</td><td>nan</td><td>nan</td><td>nan</td><td>nan</td><td>nan</td><td>nan</td><td>nan</td><td>nan</td><td>nan</td><td>nan</td><td>nan</td><td>nan</td><td>nan</td><td>nan</td><td>nan</td><td>nan</td><td>nan</td><td>nan</td><td>nan</td><td>nan</td><td>True</td><td>True</td><td>True</td><td>0</td><td>0.0</td><td>0.0</td><td>--</td><td>0.0</td><td>-99.0</td><td>-99.0</td><td>-99.0</td><td>-99.0</td><td>-99.0</td><td>-99.0</td><td>-99.0</td><td>-99.0</td><td>-99.0</td><td>-99.0</td><td>6</td><td>6</td><td>-99</td><td>0.15825724000000002</td><td>-99.0</td><td></td><td>10769880</td><td>13</td></tr>\n",
       "<tr><td>2214321</td><td>--</td><td>671679</td><td>219.3623376</td><td>35.8416359</td><td>N/A</td><td>nan</td><td>nan</td><td>0.012033021</td><td>nan</td><td>--</td><td>--</td><td>nan</td><td>nan</td><td>nan</td><td>N/A</td><td>nan</td><td>-99</td><td>1</td><td>1</td><td>-99.0</td><td>-99.0</td><td>-99.0</td><td>-99.0</td><td>-99.0</td><td>-99.0</td><td>-99.0</td><td>-99.0</td><td>0.006052744261474014</td><td>0.20348628687953954</td><td>0.18730901422689625</td><td>0.3080826043568358</td><td>0.6405709247309992</td><td>1.14876490447473</td><td>-99.0</td><td>-99.0</td><td>-99.0</td><td>-99.0</td><td>-99.0</td><td>-99.0</td><td>-99.0</td><td>-99.0</td><td>-99.0</td><td>-99.0</td><td>-99.0</td><td>-99.0</td><td>9.994099569588949</td><td>1.77562634323609</td><td>13.736352400307764</td><td>2.2026519355374523</td><td>16.216753302492357</td><td>7.4636100276868405</td><td>27.35417175787915</td><td>7.7169599509715985</td><td>nan</td><td>nan</td><td>nan</td><td>nan</td><td>nan</td><td>nan</td><td>nan</td><td>nan</td><td>True</td><td>nan</td><td>nan</td><td>nan</td><td>nan</td><td>nan</td><td>nan</td><td>nan</td><td>nan</td><td>nan</td><td>nan</td><td>nan</td><td>nan</td><td>nan</td><td>nan</td><td>nan</td><td>nan</td><td>True</td><td>True</td><td>nan</td><td>nan</td><td>nan</td><td>nan</td><td>nan</td><td>nan</td><td>nan</td><td>nan</td><td>nan</td><td>nan</td><td>nan</td><td>nan</td><td>nan</td><td>nan</td><td>nan</td><td>nan</td><td>nan</td><td>nan</td><td>nan</td><td>nan</td><td>nan</td><td>nan</td><td>nan</td><td>nan</td><td>True</td><td>True</td><td>True</td><td>1</td><td>0.0</td><td>1.0</td><td>--</td><td>0.0</td><td>-99.0</td><td>-99.0</td><td>4.3383</td><td>1.57</td><td>7.0</td><td>0.814</td><td>-99.0</td><td>-99.0</td><td>-99.0</td><td>-99.0</td><td>7</td><td>7</td><td>5</td><td>0.0024375775</td><td>-99.0</td><td></td><td>10813455</td><td>13</td></tr>\n",
       "<tr><td>2214322</td><td>--</td><td>671680</td><td>219.2714771</td><td>35.9168913</td><td>N/A</td><td>nan</td><td>nan</td><td>0.012027135</td><td>nan</td><td>--</td><td>--</td><td>nan</td><td>nan</td><td>nan</td><td>N/A</td><td>nan</td><td>-99</td><td>0</td><td>1</td><td>-99.0</td><td>-99.0</td><td>-99.0</td><td>-99.0</td><td>-99.0</td><td>-99.0</td><td>-99.0</td><td>-99.0</td><td>-99.0</td><td>-99.0</td><td>-99.0</td><td>-99.0</td><td>-99.0</td><td>-99.0</td><td>-99.0</td><td>-99.0</td><td>-99.0</td><td>-99.0</td><td>-99.0</td><td>-99.0</td><td>-99.0</td><td>-99.0</td><td>-99.0</td><td>-99.0</td><td>-99.0</td><td>-99.0</td><td>17.083752013030537</td><td>5.03353599614552</td><td>13.475691562189903</td><td>4.547599469142056</td><td>7.400203309634994</td><td>15.243624215041853</td><td>3.174120532056944</td><td>21.72842108338415</td><td>nan</td><td>nan</td><td>nan</td><td>nan</td><td>nan</td><td>nan</td><td>nan</td><td>nan</td><td>True</td><td>nan</td><td>nan</td><td>nan</td><td>nan</td><td>nan</td><td>nan</td><td>nan</td><td>nan</td><td>nan</td><td>nan</td><td>nan</td><td>nan</td><td>nan</td><td>nan</td><td>nan</td><td>nan</td><td>True</td><td>True</td><td>nan</td><td>nan</td><td>nan</td><td>nan</td><td>nan</td><td>nan</td><td>nan</td><td>nan</td><td>nan</td><td>nan</td><td>nan</td><td>nan</td><td>nan</td><td>nan</td><td>nan</td><td>nan</td><td>nan</td><td>nan</td><td>nan</td><td>nan</td><td>nan</td><td>nan</td><td>nan</td><td>nan</td><td>True</td><td>True</td><td>True</td><td>0</td><td>0.0</td><td>0.0</td><td>--</td><td>0.0</td><td>-99.0</td><td>-99.0</td><td>-99.0</td><td>-99.0</td><td>-99.0</td><td>-99.0</td><td>-99.0</td><td>-99.0</td><td>-99.0</td><td>-99.0</td><td>-99</td><td>-99</td><td>-99</td><td>-99.0</td><td>-99.0</td><td></td><td>10813486</td><td>32</td></tr>\n",
       "<tr><td>2214323</td><td>--</td><td>671681</td><td>216.6593893</td><td>35.852981</td><td>N/A</td><td>nan</td><td>nan</td><td>0.0126099605</td><td>nan</td><td>--</td><td>--</td><td>nan</td><td>nan</td><td>nan</td><td>N/A</td><td>nan</td><td>-99</td><td>1</td><td>1</td><td>-99.0</td><td>-99.0</td><td>0.30501727073419954</td><td>0.045791799989528946</td><td>-99.0</td><td>-99.0</td><td>-99.0</td><td>-99.0</td><td>0.019979316163083856</td><td>0.19860511470460554</td><td>0.9912661543943463</td><td>0.6562571172040682</td><td>1.450960697728065</td><td>1.2707677255516943</td><td>-99.0</td><td>-99.0</td><td>-99.0</td><td>-99.0</td><td>-99.0</td><td>-99.0</td><td>-99.0</td><td>-99.0</td><td>-99.0</td><td>-99.0</td><td>-99.0</td><td>-99.0</td><td>2.9326898742671044</td><td>1.2784340352727168</td><td>3.4433686695097023</td><td>2.034491427853377</td><td>-99.0</td><td>-99.0</td><td>1.514121379032665</td><td>11.455591158843776</td><td>nan</td><td>nan</td><td>nan</td><td>nan</td><td>nan</td><td>nan</td><td>nan</td><td>nan</td><td>True</td><td>nan</td><td>nan</td><td>nan</td><td>nan</td><td>nan</td><td>nan</td><td>nan</td><td>nan</td><td>nan</td><td>nan</td><td>nan</td><td>nan</td><td>nan</td><td>nan</td><td>nan</td><td>nan</td><td>True</td><td>True</td><td>nan</td><td>nan</td><td>nan</td><td>nan</td><td>nan</td><td>nan</td><td>nan</td><td>nan</td><td>nan</td><td>nan</td><td>nan</td><td>nan</td><td>nan</td><td>nan</td><td>nan</td><td>nan</td><td>nan</td><td>nan</td><td>nan</td><td>nan</td><td>nan</td><td>nan</td><td>nan</td><td>nan</td><td>True</td><td>True</td><td>True</td><td>0</td><td>0.0</td><td>0.0</td><td>--</td><td>0.0</td><td>-99.0</td><td>-99.0</td><td>5.3159</td><td>3.6</td><td>6.75</td><td>0.556</td><td>1.2402</td><td>0.27</td><td>2.25</td><td>0.246</td><td>6</td><td>6</td><td>5</td><td>0.044957819999999996</td><td>-99.0</td><td></td><td>10776595</td><td>13</td></tr>\n",
       "<tr><td>2214324</td><td>--</td><td>671682</td><td>216.7329817</td><td>35.8620179</td><td>N/A</td><td>nan</td><td>nan</td><td>0.012953706</td><td>nan</td><td>--</td><td>--</td><td>nan</td><td>nan</td><td>nan</td><td>N/A</td><td>nan</td><td>-99</td><td>0</td><td>1</td><td>-99.0</td><td>-99.0</td><td>0.033435238906329684</td><td>0.06067845435412033</td><td>-99.0</td><td>-99.0</td><td>-99.0</td><td>-99.0</td><td>-99.0</td><td>-99.0</td><td>-99.0</td><td>-99.0</td><td>-99.0</td><td>-99.0</td><td>-99.0</td><td>-99.0</td><td>-99.0</td><td>-99.0</td><td>-99.0</td><td>-99.0</td><td>-99.0</td><td>-99.0</td><td>-99.0</td><td>-99.0</td><td>-99.0</td><td>-99.0</td><td>9.136323170099528</td><td>0.9988444297410207</td><td>8.297029760630625</td><td>1.8149386190808225</td><td>5.551402184521286</td><td>8.548986772148151</td><td>-99.0</td><td>-99.0</td><td>nan</td><td>nan</td><td>nan</td><td>nan</td><td>nan</td><td>nan</td><td>nan</td><td>nan</td><td>True</td><td>nan</td><td>nan</td><td>nan</td><td>nan</td><td>nan</td><td>nan</td><td>nan</td><td>nan</td><td>nan</td><td>nan</td><td>nan</td><td>nan</td><td>nan</td><td>nan</td><td>nan</td><td>nan</td><td>True</td><td>True</td><td>nan</td><td>nan</td><td>nan</td><td>nan</td><td>nan</td><td>nan</td><td>nan</td><td>nan</td><td>nan</td><td>nan</td><td>nan</td><td>nan</td><td>nan</td><td>nan</td><td>nan</td><td>nan</td><td>nan</td><td>nan</td><td>nan</td><td>nan</td><td>nan</td><td>nan</td><td>nan</td><td>nan</td><td>True</td><td>True</td><td>True</td><td>0</td><td>0.0</td><td>0.0</td><td>--</td><td>0.0</td><td>-99.0</td><td>-99.0</td><td>-99.0</td><td>-99.0</td><td>-99.0</td><td>-99.0</td><td>-99.0</td><td>-99.0</td><td>-99.0</td><td>-99.0</td><td>-99</td><td>-99</td><td>-99</td><td>-99.0</td><td>-99.0</td><td></td><td>10771135</td><td>13</td></tr>\n",
       "<tr><td>2214325</td><td>--</td><td>671683</td><td>219.1728896</td><td>35.8911643</td><td>N/A</td><td>nan</td><td>nan</td><td>0.010622395</td><td>nan</td><td>--</td><td>--</td><td>nan</td><td>nan</td><td>nan</td><td>N/A</td><td>nan</td><td>-99</td><td>0</td><td>1</td><td>-99.0</td><td>-99.0</td><td>-99.0</td><td>-99.0</td><td>-99.0</td><td>-99.0</td><td>-99.0</td><td>-99.0</td><td>22.34044584513792</td><td>0.17284101264815396</td><td>-99.0</td><td>-99.0</td><td>-99.0</td><td>-99.0</td><td>-99.0</td><td>-99.0</td><td>-99.0</td><td>-99.0</td><td>-99.0</td><td>-99.0</td><td>-99.0</td><td>-99.0</td><td>-99.0</td><td>-99.0</td><td>-99.0</td><td>-99.0</td><td>55.07060677322851</td><td>1.2934085338253636</td><td>44.42146695683027</td><td>2.5489224539832263</td><td>31.141852093823566</td><td>9.562814100312455</td><td>28.46437933456972</td><td>13.289226076704022</td><td>nan</td><td>nan</td><td>nan</td><td>nan</td><td>nan</td><td>nan</td><td>nan</td><td>nan</td><td>True</td><td>nan</td><td>nan</td><td>nan</td><td>nan</td><td>nan</td><td>nan</td><td>nan</td><td>nan</td><td>nan</td><td>nan</td><td>nan</td><td>nan</td><td>nan</td><td>nan</td><td>nan</td><td>nan</td><td>True</td><td>True</td><td>nan</td><td>nan</td><td>nan</td><td>nan</td><td>nan</td><td>nan</td><td>nan</td><td>nan</td><td>nan</td><td>nan</td><td>nan</td><td>nan</td><td>nan</td><td>nan</td><td>nan</td><td>nan</td><td>nan</td><td>nan</td><td>nan</td><td>nan</td><td>nan</td><td>nan</td><td>nan</td><td>nan</td><td>True</td><td>True</td><td>True</td><td>0</td><td>0.0</td><td>0.0</td><td>--</td><td>0.0</td><td>-99.0</td><td>-99.0</td><td>-99.0</td><td>-99.0</td><td>-99.0</td><td>-99.0</td><td>-99.0</td><td>-99.0</td><td>-99.0</td><td>-99.0</td><td>5</td><td>5</td><td>-99</td><td>0.008346455</td><td>-99.0</td><td></td><td>10769879</td><td>32</td></tr>\n",
       "<tr><td>2214326</td><td>--</td><td>671684</td><td>218.0307862</td><td>35.8798515</td><td>N/A</td><td>nan</td><td>nan</td><td>0.012139199</td><td>nan</td><td>--</td><td>--</td><td>nan</td><td>nan</td><td>nan</td><td>N/A</td><td>nan</td><td>-99</td><td>0</td><td>1</td><td>-99.0</td><td>-99.0</td><td>0.031684322909209736</td><td>0.09106349148614283</td><td>-99.0</td><td>-99.0</td><td>-99.0</td><td>-99.0</td><td>-99.0</td><td>-99.0</td><td>-99.0</td><td>-99.0</td><td>-99.0</td><td>-99.0</td><td>-99.0</td><td>-99.0</td><td>-99.0</td><td>-99.0</td><td>-99.0</td><td>-99.0</td><td>-99.0</td><td>-99.0</td><td>-99.0</td><td>-99.0</td><td>-99.0</td><td>-99.0</td><td>34.02761615641259</td><td>1.3883882559344958</td><td>34.2450115328588</td><td>2.283555456761526</td><td>21.272001611274924</td><td>8.109227110896677</td><td>19.86583047157225</td><td>12.17855378123282</td><td>nan</td><td>nan</td><td>nan</td><td>nan</td><td>nan</td><td>nan</td><td>nan</td><td>nan</td><td>True</td><td>nan</td><td>nan</td><td>nan</td><td>nan</td><td>nan</td><td>nan</td><td>nan</td><td>nan</td><td>nan</td><td>nan</td><td>nan</td><td>nan</td><td>nan</td><td>nan</td><td>nan</td><td>nan</td><td>True</td><td>True</td><td>nan</td><td>nan</td><td>nan</td><td>nan</td><td>nan</td><td>nan</td><td>nan</td><td>nan</td><td>nan</td><td>nan</td><td>nan</td><td>nan</td><td>nan</td><td>nan</td><td>nan</td><td>nan</td><td>nan</td><td>nan</td><td>nan</td><td>nan</td><td>nan</td><td>nan</td><td>nan</td><td>nan</td><td>True</td><td>True</td><td>True</td><td>0</td><td>0.0</td><td>0.0</td><td>--</td><td>0.0</td><td>-99.0</td><td>-99.0</td><td>-99.0</td><td>-99.0</td><td>-99.0</td><td>-99.0</td><td>-99.0</td><td>-99.0</td><td>-99.0</td><td>-99.0</td><td>-99</td><td>-99</td><td>-99</td><td>-99.0</td><td>-99.0</td><td></td><td>10771481</td><td>32</td></tr>\n",
       "<tr><td>2214327</td><td>--</td><td>671685</td><td>217.1683812</td><td>35.8845031</td><td>N/A</td><td>nan</td><td>nan</td><td>0.013492663</td><td>nan</td><td>--</td><td>--</td><td>nan</td><td>nan</td><td>nan</td><td>N/A</td><td>nan</td><td>-99</td><td>0</td><td>1</td><td>-99.0</td><td>-99.0</td><td>-99.0</td><td>-99.0</td><td>-99.0</td><td>-99.0</td><td>-99.0</td><td>-99.0</td><td>-99.0</td><td>-99.0</td><td>-99.0</td><td>-99.0</td><td>-99.0</td><td>-99.0</td><td>-99.0</td><td>-99.0</td><td>-99.0</td><td>-99.0</td><td>-99.0</td><td>-99.0</td><td>-99.0</td><td>-99.0</td><td>-99.0</td><td>-99.0</td><td>-99.0</td><td>-99.0</td><td>14.516139224718085</td><td>1.211309163308631</td><td>11.43174753680586</td><td>2.015256071369631</td><td>4.77557192873224</td><td>11.654610838348825</td><td>17.59004362691905</td><td>14.12243688880315</td><td>nan</td><td>nan</td><td>nan</td><td>nan</td><td>nan</td><td>nan</td><td>nan</td><td>nan</td><td>True</td><td>nan</td><td>nan</td><td>nan</td><td>nan</td><td>nan</td><td>nan</td><td>nan</td><td>nan</td><td>nan</td><td>nan</td><td>nan</td><td>nan</td><td>nan</td><td>nan</td><td>nan</td><td>nan</td><td>True</td><td>True</td><td>nan</td><td>nan</td><td>nan</td><td>nan</td><td>nan</td><td>nan</td><td>nan</td><td>nan</td><td>nan</td><td>nan</td><td>nan</td><td>nan</td><td>nan</td><td>nan</td><td>nan</td><td>nan</td><td>nan</td><td>nan</td><td>nan</td><td>nan</td><td>nan</td><td>nan</td><td>nan</td><td>nan</td><td>True</td><td>True</td><td>True</td><td>0</td><td>0.0</td><td>0.0</td><td>--</td><td>0.0</td><td>-99.0</td><td>-99.0</td><td>-99.0</td><td>-99.0</td><td>-99.0</td><td>-99.0</td><td>-99.0</td><td>-99.0</td><td>-99.0</td><td>-99.0</td><td>-99</td><td>-99</td><td>-99</td><td>-99.0</td><td>-99.0</td><td></td><td>10771244</td><td>32</td></tr>\n",
       "<tr><td>2214328</td><td>--</td><td>671686</td><td>217.6568763</td><td>35.9031051</td><td>N/A</td><td>nan</td><td>nan</td><td>0.013645258</td><td>nan</td><td>--</td><td>--</td><td>nan</td><td>nan</td><td>nan</td><td>N/A</td><td>nan</td><td>-99</td><td>0</td><td>1</td><td>-99.0</td><td>-99.0</td><td>-99.0</td><td>-99.0</td><td>-99.0</td><td>-99.0</td><td>-99.0</td><td>-99.0</td><td>-99.0</td><td>-99.0</td><td>-99.0</td><td>-99.0</td><td>-99.0</td><td>-99.0</td><td>-99.0</td><td>-99.0</td><td>-99.0</td><td>-99.0</td><td>-99.0</td><td>-99.0</td><td>-99.0</td><td>-99.0</td><td>-99.0</td><td>-99.0</td><td>-99.0</td><td>-99.0</td><td>38.92085617422636</td><td>1.5199311716374275</td><td>47.4986318737179</td><td>1.881157837068596</td><td>58.872408310394356</td><td>8.838429180624068</td><td>53.29806186341258</td><td>14.103364248380775</td><td>nan</td><td>nan</td><td>nan</td><td>nan</td><td>nan</td><td>nan</td><td>nan</td><td>nan</td><td>True</td><td>nan</td><td>nan</td><td>nan</td><td>nan</td><td>nan</td><td>nan</td><td>nan</td><td>nan</td><td>nan</td><td>nan</td><td>nan</td><td>nan</td><td>nan</td><td>nan</td><td>nan</td><td>nan</td><td>True</td><td>True</td><td>nan</td><td>nan</td><td>nan</td><td>nan</td><td>nan</td><td>nan</td><td>nan</td><td>nan</td><td>nan</td><td>nan</td><td>nan</td><td>nan</td><td>nan</td><td>nan</td><td>nan</td><td>nan</td><td>nan</td><td>nan</td><td>nan</td><td>nan</td><td>nan</td><td>nan</td><td>nan</td><td>nan</td><td>True</td><td>True</td><td>True</td><td>0</td><td>0.0</td><td>0.0</td><td>--</td><td>0.0</td><td>-99.0</td><td>-99.0</td><td>-99.0</td><td>-99.0</td><td>-99.0</td><td>-99.0</td><td>-99.0</td><td>-99.0</td><td>-99.0</td><td>-99.0</td><td>-99</td><td>-99</td><td>-99</td><td>-99.0</td><td>-99.0</td><td></td><td>10770907</td><td>32</td></tr>\n",
       "</table>"
      ],
      "text/plain": [
       "<Table masked=True length=2214845>\n",
       "   ID   ID_OPTICAL ID_SPITZER ... stellar_type hp_idx_11 hp_depth_cluster\n",
       "                              ...                 deg                    \n",
       " int64    int64      int64    ...    bytes6      int64        int32      \n",
       "------- ---------- ---------- ... ------------ --------- ----------------\n",
       "      0          1         -- ...                9355052               38\n",
       "      1          2         -- ...                9355035                1\n",
       "      2          3         -- ...                9355033               38\n",
       "      3          4         -- ...                9355035                1\n",
       "      4          5         -- ...                9355035                1\n",
       "      5          6         -- ...                9355056               38\n",
       "      6          7         -- ...                9355035                1\n",
       "      7          8         -- ...                9355036               38\n",
       "      8          9         -- ...                9355033               38\n",
       "    ...        ...        ... ...          ...       ...              ...\n",
       "2214319         --     671677 ...               10769883               32\n",
       "2214320         --     671678 ...               10769880               13\n",
       "2214321         --     671679 ...               10813455               13\n",
       "2214322         --     671680 ...               10813486               32\n",
       "2214323         --     671681 ...               10776595               13\n",
       "2214324         --     671682 ...               10771135               13\n",
       "2214325         --     671683 ...               10769879               32\n",
       "2214326         --     671684 ...               10771481               32\n",
       "2214327         --     671685 ...               10771244               32\n",
       "2214328         --     671686 ...               10770907               32"
      ]
     },
     "execution_count": 140,
     "metadata": {},
     "output_type": "execute_result"
    }
   ],
   "source": [
    "cigale_input.rename_column('z1_median','redshift')"
   ]
  },
  {
   "cell_type": "code",
   "execution_count": null,
   "metadata": {},
   "outputs": [],
   "source": [
    "Table.write(cigale_input,'cigale_input_Lockman.fits',format='fits',overwrite=True)"
   ]
  }
 ],
 "metadata": {
  "kernelspec": {
   "display_name": "Python 3",
   "language": "python",
   "name": "python3"
  },
  "language_info": {
   "codemirror_mode": {
    "name": "ipython",
    "version": 3
   },
   "file_extension": ".py",
   "mimetype": "text/x-python",
   "name": "python",
   "nbconvert_exporter": "python",
   "pygments_lexer": "ipython3",
   "version": "3.7.3"
  }
 },
 "nbformat": 4,
 "nbformat_minor": 2
}
