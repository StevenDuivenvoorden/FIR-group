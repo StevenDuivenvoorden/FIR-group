{
 "cells": [
  {
   "cell_type": "code",
   "execution_count": 1,
   "metadata": {},
   "outputs": [],
   "source": [
    "from astropy.io import ascii, fits\n",
    "import astropy\n",
    "import pylab as plt\n",
    "%matplotlib inline\n",
    "from astropy import wcs\n",
    "from astropy.table import Table,Column,join,hstack\n",
    "from astropy.coordinates import SkyCoord\n",
    "from astropy import units as u\n",
    "import pymoc\n",
    "import glob\n",
    "from time import sleep\n",
    "import os\n",
    "\n",
    "\n",
    "import numpy as np\n",
    "import xidplus\n",
    "from xidplus import moc_routines\n",
    "import pickle\n",
    "import xidplus.catalogue as cat\n",
    "\n",
    "import sys\n",
    "from herschelhelp_internal.utils import inMoc,flux_to_mag\n",
    "from xidplus.stan_fit import SPIRE\n",
    "\n",
    "import aplpy\n",
    "import seaborn as sns\n",
    "#sns.set(color_codes=True)\n",
    "import pandas as pd\n",
    "#sns.set_style(\"white\")\n",
    "import xidplus.posterior_maps as postmaps\n",
    "from herschelhelp_internal.masterlist import merge_catalogues, nb_merge_dist_plot, specz_merge\n",
    "import pyvo as vo\n",
    "import time"
   ]
  },
  {
   "cell_type": "markdown",
   "metadata": {},
   "source": [
    "#This cell is now outdated with the newer catalogue releases\n",
    "\n",
    "#Read in the LOFAR data both optical and radio\n",
    "lofar_rad = Table.read('data/radio/EN1_ML_RUN_fin_overlap_srl_workflow.fits')\n",
    "lofar_opt = Table.read('data/optical/EN1_MASTER_opt_spitzer_merged_cedit_apcorr.fits')\n",
    "lofar_opt.rename_column('ALPHA_J2000','ra')\n",
    "lofar_opt.rename_column('DELTA_J2000','dec')\n",
    "\n",
    "#merge the optical and radio catalogue to find out which optical sources need crossmatching to HELP\n",
    "mask = ~np.isnan(lofar_rad['lr_index_fin'])\n",
    "lofar = hstack([lofar_rad[mask],lofar_opt[lofar_rad[mask]['lr_index_fin'].astype(int)]])"
   ]
  },
  {
   "cell_type": "code",
   "execution_count": 2,
   "metadata": {},
   "outputs": [
    {
     "name": "stdout",
     "output_type": "stream",
     "text": [
      "11757\n"
     ]
    }
   ],
   "source": [
    "lofar = Table.read('data/data_release/final_cross_match_catalogue-v0.5.fits')\n",
    "mask = (~np.isnan(lofar['F_SPIRE_250'])) | (~np.isnan(lofar['F_SPIRE_350'])) | (~np.isnan(lofar['F_SPIRE_500']))\n",
    "lofar = lofar[~mask]\n",
    "\n",
    "print(len(lofar))                  "
   ]
  },
  {
   "cell_type": "code",
   "execution_count": 22,
   "metadata": {},
   "outputs": [],
   "source": [
    "taskid = 1\n",
    "batch_size = 20\n",
    "\n",
    "if taskid*batch_size>len(lofar):\n",
    "    print('Task id is too high. Trying to run code on more sources than exist')\n",
    "    sys.exit()\n",
    "ind_low = taskid*batch_size\n",
    "if taskid*batch_size+batch_size>len(lofar):\n",
    "    ind_up = len(lofar)\n",
    "else:\n",
    "    ind_up = taskid*batch_size+batch_size\n",
    "ras = lofar['optRA'][ind_low:ind_up]\n",
    "mask = np.isnan(ras)\n",
    "ras[mask] = lofar['RA'][ind_low:ind_up][mask]\n",
    "\n",
    "decs = lofar['optDec'][ind_low:ind_up]\n",
    "mask = np.isnan(decs)\n",
    "decs[mask] = lofar['DEC'][ind_low:ind_up][mask]\n",
    "\n",
    "ids = lofar['Source_Name'][ind_low:ind_up]"
   ]
  },
  {
   "cell_type": "code",
   "execution_count": 23,
   "metadata": {},
   "outputs": [
    {
     "data": {
      "text/plain": [
       "20"
      ]
     },
     "execution_count": 23,
     "metadata": {},
     "output_type": "execute_result"
    }
   ],
   "source": [
    "len(ras)"
   ]
  },
  {
   "cell_type": "code",
   "execution_count": 55,
   "metadata": {},
   "outputs": [],
   "source": [
    "source_use = [0,1,2,3,4,5,6,7,8,9]\n",
    "ras = lofar['optRA'][source_use]\n",
    "mask = np.isnan(ras)\n",
    "ras[mask] = lofar['RA'][source_use][mask]\n",
    "\n",
    "decs = lofar['optDec'][source_use]\n",
    "mask = np.isnan(decs)\n",
    "decs[mask] = lofar['DEC'][source_use][mask]\n",
    "\n",
    "ids = lofar['Source_Name'][source_use]"
   ]
  },
  {
   "cell_type": "code",
   "execution_count": 9,
   "metadata": {},
   "outputs": [],
   "source": [
    "imfolder='../../../../../HELP/dmu_products/dmu18/dmu18_HELP-PACS-maps/data/'\n",
    "\n",
    "im100fits=imfolder + 'Lockman-SWIRE_PACS100_v0.9.fits'#PACS 100 map\n",
    "im160fits=imfolder + 'Lockman-SWIRE_PACS160_v0.9.fits'#PACS 160 map\n",
    "\n",
    "#-----100-------------\n",
    "hdulist = fits.open(im100fits)\n",
    "im100phdu=hdulist[0].header\n",
    "im100hdu=hdulist[1].header\n",
    "im100=hdulist[1].data\n",
    "w_100 = wcs.WCS(hdulist[1].header)\n",
    "pixsize100=3600.0*np.abs(hdulist[1].header['CDELT1']) #pixel size (in arcseconds)\n",
    "\n",
    "nim100=hdulist[2].data\n",
    "hdulist.close()\n",
    "\n",
    "#-----160-------------\n",
    "hdulist = fits.open(im160fits)\n",
    "im160phdu=hdulist[0].header\n",
    "im160hdu=hdulist[1].header\n",
    "\n",
    "im160=hdulist[1].data #convert to mJy\n",
    "w_160 = wcs.WCS(hdulist[1].header)\n",
    "pixsize160=3600.0*np.abs(hdulist[1].header['CDELT1']) #pixel size (in arcseconds)\n",
    "\n",
    "nim160=hdulist[2].data\n",
    "hdulist.close()"
   ]
  },
  {
   "cell_type": "markdown",
   "metadata": {},
   "source": [
    "# find the position of the radio source\n",
    "ra = lofar['ra'][[3]]\n",
    "dec = lofar['dec'][[3]]\n",
    "\n",
    "#using pyvo find all help objects within 1 arcminute of the rdaio crossmatch\n",
    "columns = 'ra','dec','help_id','f_spire_250','ferr_spire_250','flag_spire_250','f_spire_350','ferr_spire_350','flag_spire_350','f_spire_500','ferr_spire_500','flag_spire_500','flag_optnir_det','f_mips_24'\n",
    "query = \"\"\"\n",
    "SELECT *\n",
    "FROM herschelhelp.main AS db\n",
    "JOIN TAP_UPLOAD.t1 AS tc\n",
    "ON 1=CONTAINS(POINT('ICRS', db.ra, db.dec),\n",
    "CIRCLE('ICRS', tc.RA, tc.DEC, 1./60.))\n",
    "\"\"\"\n",
    "\n",
    "pos = Table()\n",
    "pos.add_column(Column(data=ra, name='ra'))\n",
    "pos.add_column(Column(data=dec, name='dec'))\n",
    "\n",
    "service = vo.dal.TAPService(\"https://herschel-vos.phys.sussex.ac.uk/__system__/tap/run/tap\")\n",
    "job = service.submit_job(query,\n",
    "                          uploads = {'t1': pos})\n",
    "job.run()\n",
    "    \n",
    "while job.phase == \"EXECUTING\":\n",
    "    print(\"Job running\")\n",
    "    sleep(5)\n",
    "print('job finsihed')\n",
    "help_all = job.fetch_result().to_table()\n",
    "help_all['help_id'] = help_all['help_id'].astype(str)\n",
    "help_all.remove_column('ra_')\n",
    "help_all.remove_column('dec_')"
   ]
  },
  {
   "cell_type": "code",
   "execution_count": 43,
   "metadata": {},
   "outputs": [],
   "source": [
    "#Read in the HELP masterlist and select the wanted columns\n",
    "columns = 'ra','dec','help_id','flag_optnir_det','f_mips_24',\n",
    "masterlist = Table.read('../../../../../HELP/dmu_products/dmu32/dmu32_ELAIS-N1/data/ELAIS-N1_20171020.fits')\n",
    "help_masterlist = masterlist[columns]"
   ]
  },
  {
   "cell_type": "markdown",
   "metadata": {},
   "source": [
    "#### following cells are for the python version of the code as pyvo doesn't seem to work on apollo2 when submitted to the queue"
   ]
  },
  {
   "cell_type": "markdown",
   "metadata": {},
   "source": [
    "#comparing with the help masterlist from fits file\n",
    "masterlist = Table.read('../../../../../HELP/dmu_products/dmu32/dmu32_ELAIS-N1/data/ELAIS-N1_20171020.fits')\n",
    "help_masterlist = help_masterlist[columns]"
   ]
  },
  {
   "cell_type": "markdown",
   "metadata": {},
   "source": [
    "lofar_coords = SkyCoord(ra,dec,unit='deg')\n",
    "help_coords = SkyCoord(help_masterlist['ra'],help_masterlist['dec'],unit='deg')\n",
    "radius = 60\n",
    "idx_help, idx_lofar, d2d, d3d = lofar_coords.search_around_sky(\n",
    "    help_coords, radius*u.arcsec)\n",
    "help_masterlist = help_masterlist[idx_help]"
   ]
  },
  {
   "cell_type": "markdown",
   "metadata": {},
   "source": [
    "#Read in the Ldust prdictions from CIGALE\n",
    "#when these are on the VO i will change code to read it in from then\n",
    "ldust = Table.read('../../../../../HELP/dmu_products/dmu28/dmu28_ELAIS-N1/data/ELAIS_N1_Ldust_prediction_results.fits') \n",
    "ldust.rename_column('id','help_id')\n",
    "ldust['help_id'] = ldust['help_id'].astype(str)\n",
    "#join Ldust predictions with the help table\n",
    "help_masterlist_ldust = join(help_masterlist,ldust,keys='help_id',join_type='inner')"
   ]
  },
  {
   "cell_type": "markdown",
   "metadata": {},
   "source": [
    "#create the prior list from the help masterlist\n",
    "prior_mask = (help_masterlist['flag_optnir_det']>=5) & (help_masterlist['f_mips_24']>20)\n",
    "prior_cat = help_masterlist[prior_mask]\n",
    "for n,pos in enumerate(ras):\n",
    "    prior_cat.add_row([ras[n],decs[n],ids[n],-99,np.nan])"
   ]
  },
  {
   "cell_type": "code",
   "execution_count": 25,
   "metadata": {},
   "outputs": [],
   "source": [
    "prior_cat = Table.read('data/data_release/xidplus_prior_cat_rerun_ldust.fits')"
   ]
  },
  {
   "cell_type": "markdown",
   "metadata": {},
   "source": [
    "x = help_masterlist['ra']\n",
    "y = help_masterlist['dec']\n",
    "#plt.scatter(x,y,s=1)\n",
    "\n",
    "x = prior_cat['ra']\n",
    "y = prior_cat['dec']\n",
    "plt.scatter(x,y,s=5,color='red')\n",
    "\n",
    "x = lofar['optRA']\n",
    "y = lofar['optDec']\n",
    "plt.scatter(x,y,s=10)\n",
    "\n",
    "plt.xlim(np.min(help_masterlist['ra']),np.max(help_masterlist['ra']))\n",
    "plt.ylim(np.min(help_masterlist['dec']),np.max(help_masterlist['dec']))\n",
    "plt.show()"
   ]
  },
  {
   "cell_type": "markdown",
   "metadata": {},
   "source": [
    "#if there is only one crossmatch within the search radius then match them if the source is in the prior list\n",
    "#otherwise add the ra and dec of the lofar optical counterpart to the prior list\n",
    "XID_rerun = []\n",
    "source_type = []\n",
    "mask = (help_masterlist[idx_help]['flag_optnir_det']>=5) & (help_masterlist[idx_help]['f_mips_24']>20)\n",
    "idx_true = idx_help[mask]\n",
    "\n",
    "if len(d2d) == 0:\n",
    "    min_d2d = np.nan\n",
    "else:\n",
    "    min_d2d = np.min(d2d)\n",
    "\n",
    "if d2d[mask] != min_d2d:\n",
    "    source_type.append('nearer_non_prior')\n",
    "    XID_rerun.append(False)\n",
    "if np.sum(mask)==0:\n",
    "    prior_cat.add_row([ra,dec,'lofar',np.nan,np.nan,np.nan,np.nan,np.nan,np.nan,np.nan,np.nan,np.nan,-99,np.nan,False])\n",
    "    source_type.append('radio_position')\n",
    "    XID_rerun.append(True)\n",
    "if np.sum(mask)>1:\n",
    "    nearer = ''\n",
    "    if np.min(d2d[mask]) != min_d2d:\n",
    "        nearer = 'nearer_non_prior'\n",
    "    for n in range(np.sum(mask)):\n",
    "        source_type.append('multiple_prior'+nearer)\n",
    "        XID_rerun.append(False)\n",
    "if np.sum(mask)==1:\n",
    "    source_type.append('nearest_prior')\n",
    "    XID_rerun.append(False)\n",
    "    if d2d[mask] != np.min(d2d):\n",
    "        source_type.append('nearer_non_prior')\n",
    "        XID_rerun.append(False)\n"
   ]
  },
  {
   "cell_type": "markdown",
   "metadata": {},
   "source": [
    "if False in XID_rerun:\n",
    "    mask = lofar['ra']==ra\n",
    "    lofar_fir = hstack([lofar[mask],help_masterlist[idx_true]])\n",
    "    XID_rerun_col = Column(data=XID_rerun,name='XID_rerun',dtype=bool)\n",
    "    source_type_col = Column(data=source_type,name='source_type',dtype=str)\n",
    "    lofar_fir.add_columns([XID_rerun_col,source_type_col])\n",
    "    \n",
    "    #os.mkdir('testfolder')\n",
    "    #Table.write(lofar_fir,'testfolder/lofar_xidplus_fir.fits')"
   ]
  },
  {
   "cell_type": "code",
   "execution_count": 26,
   "metadata": {},
   "outputs": [],
   "source": [
    "from astropy.coordinates import SkyCoord\n",
    "from astropy import units as u\n",
    "c = SkyCoord(ra=ras*u.degree, dec=decs*u.degree)  \n",
    "import pymoc\n",
    "moc=pymoc.util.catalog.catalog_to_moc(c,20,15)"
   ]
  },
  {
   "cell_type": "code",
   "execution_count": 27,
   "metadata": {},
   "outputs": [
    {
     "name": "stderr",
     "output_type": "stream",
     "text": [
      "WARNING: AstropyDeprecationWarning: \n",
      "Private attributes \"_naxis1\" and \"_naxis2\" have been deprecated since v3.1.\n",
      "Instead use the \"pixel_shape\" property which returns a list of NAXISj keyword values.\n",
      " [astropy.wcs.wcs]\n",
      "WARNING:astropy:AstropyDeprecationWarning: \n",
      "Private attributes \"_naxis1\" and \"_naxis2\" have been deprecated since v3.1.\n",
      "Instead use the \"pixel_shape\" property which returns a list of NAXISj keyword values.\n",
      "\n",
      "WARNING: AstropyDeprecationWarning: \n",
      "Private attributes \"_naxis1\" and \"_naxis2\" have been deprecated since v3.1.\n",
      "Instead use the \"pixel_shape\" property which returns a list of NAXISj keyword values.\n",
      " [astropy.wcs.wcs]\n",
      "WARNING:astropy:AstropyDeprecationWarning: \n",
      "Private attributes \"_naxis1\" and \"_naxis2\" have been deprecated since v3.1.\n",
      "Instead use the \"pixel_shape\" property which returns a list of NAXISj keyword values.\n",
      "\n"
     ]
    },
    {
     "name": "stdout",
     "output_type": "stream",
     "text": [
      "time taken is: 1946.2399053573608s\n"
     ]
    }
   ],
   "source": [
    "t1 = time.time()\n",
    "#---prior100--------\n",
    "prior100=xidplus.prior(im100,nim100,im100phdu,im100hdu, moc=moc)#Initialise with map, uncertianty map, wcs info and primary header\n",
    "prior100.prior_cat(prior_cat['ra'],prior_cat['dec'],'prior_cat',ID=prior_cat['help_id'])#Set input catalogue\n",
    "prior100.prior_bkg(0.0,5)#Set prior on background (assumes Gaussian pdf with mu and sigma)\n",
    "\n",
    "#---prior160--------\n",
    "prior160=xidplus.prior(im160,nim160,im160phdu,im160hdu, moc=moc)\n",
    "prior160.prior_cat(prior_cat['ra'],prior_cat['dec'],'prior_cat',ID=prior_cat['help_id'])\n",
    "prior160.prior_bkg(0.0,5)\n",
    "t2 = time.time()\n",
    "print('time taken is: {}s'.format(t2-t1))"
   ]
  },
  {
   "cell_type": "code",
   "execution_count": 28,
   "metadata": {},
   "outputs": [],
   "source": [
    "pacs100_psf=fits.open('../../../../../HELP/dmu_products/dmu18/dmu18_Lockman-SWIRE/data/dmu18_PACS_100_PSF_Lockman-SWIRE_20171214.fits')\n",
    "pacs160_psf=fits.open('../../../../../HELP/dmu_products/dmu18/dmu18_Lockman-SWIRE/data/dmu18_PACS_160_PSF_Lockman-SWIRE_20171214.fits')\n",
    "\n",
    "centre100=np.long((pacs100_psf[1].header['NAXIS1']-1)/2)\n",
    "radius100=15\n",
    "centre160=np.long((pacs160_psf[1].header['NAXIS1']-1)/2)\n",
    "radius160=25\n",
    "\n",
    "pind100=np.arange(0,radius100+1+radius100,1)*3600*np.abs(pacs100_psf[1].header['CDELT1'])/pixsize100 #get 100 scale in terms of pixel scale of map\n",
    "pind160=np.arange(0,radius160+1+radius160,1)*3600*np.abs(pacs160_psf[1].header['CDELT1'])/pixsize160 #get 160 scale in terms of pixel scale of map\n",
    "\n",
    "prior100.set_prf(pacs100_psf[1].data[centre100-radius100:centre100+radius100+1,centre100-radius100:centre100+radius100+1]/1000.0,\n",
    "                pind100,pind100)\n",
    "prior160.set_prf(pacs160_psf[1].data[centre160-radius160:centre160+radius160+1,centre160-radius160:centre160+radius160+1]/1000.0,\n",
    "                pind160,pind160)"
   ]
  },
  {
   "cell_type": "code",
   "execution_count": 29,
   "metadata": {},
   "outputs": [
    {
     "name": "stdout",
     "output_type": "stream",
     "text": [
      "fitting 20 sources \n",
      "\n",
      "using 5629, 2499\n"
     ]
    }
   ],
   "source": [
    "print('fitting '+ str(prior100.nsrc)+' sources \\n')\n",
    "print('using ' +  str(prior100.snpix)+', '+ str(prior160.snpix))\n",
    "\n"
   ]
  },
  {
   "cell_type": "code",
   "execution_count": 30,
   "metadata": {},
   "outputs": [],
   "source": [
    "prior100.get_pointing_matrix()\n",
    "prior160.get_pointing_matrix()"
   ]
  },
  {
   "cell_type": "code",
   "execution_count": 31,
   "metadata": {},
   "outputs": [],
   "source": [
    "prior100.upper_lim_map()\n",
    "prior160.upper_lim_map()"
   ]
  },
  {
   "cell_type": "code",
   "execution_count": 62,
   "metadata": {},
   "outputs": [
    {
     "name": "stdout",
     "output_type": "stream",
     "text": [
      "/lustre/scratch/astro/im281/FIR-group/Ian/lofar/deep_fields/ELAIS-N1/XID+PACS.pkl\n",
      "/XID+PACS found. Reusing\n",
      "time taken is: 965.6159772872925s\n"
     ]
    }
   ],
   "source": [
    "from xidplus.stan_fit import PACS\n",
    "t1 = time.time()\n",
    "fit=PACS.all_bands(prior100,prior160,iter=1000)\n",
    "t2 = time.time()\n",
    "print('time taken is: {}s'.format(t2-t1))"
   ]
  },
  {
   "cell_type": "code",
   "execution_count": null,
   "metadata": {},
   "outputs": [],
   "source": [
    "posterior=xidplus.posterior_stan(fit,[prior100,prior160])"
   ]
  },
  {
   "cell_type": "code",
   "execution_count": null,
   "metadata": {},
   "outputs": [],
   "source": [
    "priors = [prior100,prior160]"
   ]
  },
  {
   "cell_type": "code",
   "execution_count": null,
   "metadata": {},
   "outputs": [],
   "source": [
    "figs,fig=xidplus.plot_map(priors)"
   ]
  },
  {
   "cell_type": "code",
   "execution_count": null,
   "metadata": {},
   "outputs": [],
   "source": [
    "figs, fig=xidplus.plot_Bayes_pval_map(priors, posterior)"
   ]
  },
  {
   "cell_type": "code",
   "execution_count": null,
   "metadata": {},
   "outputs": [],
   "source": [
    "import xidplus.catalogue as cat\n",
    "PACS_cat=cat.create_PACS_cat(posterior,priors[0],priors[1])"
   ]
  },
  {
   "cell_type": "code",
   "execution_count": null,
   "metadata": {},
   "outputs": [],
   "source": [
    "PACS_cat = Table.read(PACS_cat)"
   ]
  },
  {
   "cell_type": "code",
   "execution_count": null,
   "metadata": {},
   "outputs": [],
   "source": [
    "PACS_cat[0]"
   ]
  },
  {
   "cell_type": "code",
   "execution_count": null,
   "metadata": {},
   "outputs": [],
   "source": [
    "mask = [PACS_cat['help_id'][i] in ids for i in range(len(PACS_cat))]\n",
    "#mask2 = ['ILTJ' in ]\n",
    "PACS_cat[mask]"
   ]
  },
  {
   "cell_type": "code",
   "execution_count": 140,
   "metadata": {},
   "outputs": [],
   "source": [
    "mask = 'ILTJ' in SPIRE_cat['HELP_ID']\n",
    "mask_lofar = lofar['ra']==ra\n",
    "mask_pcat = prior_cat['help_id']=='lofar'\n",
    "SPIRE_cat = SPIRE_cat[mask]\n",
    "SPIRE_cat.add_columns([prior_cat['f_mips_24'][mask_pcat],prior_cat['flag_optnir_det'][mask_pcat]])\n",
    "lofar_fir = hstack([lofar[mask_lofar],SPIRE_cat])\n",
    "XID_rerun_col = Column(data=XID_rerun,name='XID_rerun',dtype=bool)\n",
    "source_type_col = Column(data=source_type,name='source_type',dtype=str)\n",
    "lofar_fir.add_columns([XID_rerun_col,source_type_col])\n",
    "    \n",
    "#os.mkdir('testfolder')\n",
    "#Table.write(lofar_fir,'testfolder/lofar_xidplus_fir.fits')"
   ]
  },
  {
   "cell_type": "code",
   "execution_count": 141,
   "metadata": {},
   "outputs": [
    {
     "data": {
      "text/html": [
       "<i>Table masked=True length=1</i>\n",
       "<table id=\"table140736680603376\" class=\"table-striped table-bordered table-condensed\">\n",
       "<thead><tr><th>Source_id</th><th>Isl_id</th><th>RA_1</th><th>E_RA</th><th>DEC</th><th>E_DEC</th><th>Total_flux</th><th>E_Total_flux</th><th>Peak_flux</th><th>E_Peak_flux</th><th>RA_max</th><th>E_RA_max</th><th>DEC_max</th><th>E_DEC_max</th><th>Maj</th><th>E_Maj</th><th>Min</th><th>E_Min</th><th>PA</th><th>E_PA</th><th>Maj_img_plane</th><th>E_Maj_img_plane</th><th>Min_img_plane</th><th>E_Min_img_plane</th><th>PA_img_plane</th><th>E_PA_img_plane</th><th>DC_Maj</th><th>E_DC_Maj</th><th>DC_Min</th><th>E_DC_Min</th><th>DC_PA</th><th>E_DC_PA</th><th>DC_Maj_img_plane</th><th>E_DC_Maj_img_plane</th><th>DC_Min_img_plane</th><th>E_DC_Min_img_plane</th><th>DC_PA_img_plane</th><th>E_DC_PA_img_plane</th><th>Isl_Total_flux</th><th>E_Isl_Total_flux</th><th>Isl_rms</th><th>Isl_mean</th><th>Resid_Isl_rms</th><th>Resid_Isl_mean</th><th>S_Code</th><th>FLAG_OVERLAP_1</th><th>lr_fin</th><th>lr_dist_fin</th><th>lr_index_fin</th><th>fworkflow_all</th><th>FLAG_WORKFLOW</th><th>NUMBER</th><th>SNR_WIN</th><th>BACKGROUND</th><th>THRESHOLD</th><th>X_IMAGE</th><th>Y_IMAGE</th><th>ra</th><th>dec</th><th>X2_IMAGE</th><th>Y2_IMAGE</th><th>XY_IMAGE</th><th>X2_WORLD</th><th>Y2_WORLD</th><th>A_IMAGE</th><th>B_IMAGE</th><th>THETA_IMAGE</th><th>ERRA_IMAGE</th><th>ERRB_IMAGE</th><th>ERRTHETA_IMAGE</th><th>FLAGS_i</th><th>CLASS_STAR</th><th>FLAGS_J</th><th>FLAGS_K</th><th>FLAGS_g</th><th>FLAGS_hscg</th><th>FLAGS_hsci</th><th>FLAGS_hscnb921</th><th>FLAGS_hscr</th><th>FLAGS_hscy</th><th>FLAGS_hscz</th><th>FLAGS_r</th><th>FLAGS_se1</th><th>FLAGS_se2</th><th>FLAGS_sw1</th><th>FLAGS_sw2</th><th>FLAGS_sw3</th><th>FLAGS_sw4</th><th>FLAGS_u</th><th>FLAGS_y</th><th>FLAGS_z</th><th>flag_clean</th><th>NUMBER_OPTICAL</th><th>NUMBER_SPITZER</th><th>MAG_APER_sw4_1</th><th>MAG_APER_sw4_2</th><th>MAG_APER_sw4_3</th><th>MAG_APER_sw4_4</th><th>MAG_APER_sw4_5</th><th>MAG_APER_sw4_6</th><th>MAG_APER_sw4_7</th><th>MAG_APER_sw4_10</th><th>MAGERR_APER_sw4_1</th><th>MAGERR_APER_sw4_2</th><th>MAGERR_APER_sw4_3</th><th>MAGERR_APER_sw4_4</th><th>MAGERR_APER_sw4_5</th><th>MAGERR_APER_sw4_6</th><th>MAGERR_APER_sw4_7</th><th>MAGERR_APER_sw4_10</th><th>FLUX_APER_sw4_1</th><th>FLUX_APER_sw4_2</th><th>FLUX_APER_sw4_3</th><th>FLUX_APER_sw4_4</th><th>FLUX_APER_sw4_5</th><th>FLUX_APER_sw4_6</th><th>FLUX_APER_sw4_7</th><th>FLUX_APER_sw4_10</th><th>FLUXERR_APER_sw4_1</th><th>FLUXERR_APER_sw4_2</th><th>FLUXERR_APER_sw4_3</th><th>FLUXERR_APER_sw4_4</th><th>FLUXERR_APER_sw4_5</th><th>FLUXERR_APER_sw4_6</th><th>FLUXERR_APER_sw4_7</th><th>FLUXERR_APER_sw4_10</th><th>MAG_APER_sw1_1</th><th>MAG_APER_sw1_2</th><th>MAG_APER_sw1_3</th><th>MAG_APER_sw1_4</th><th>MAG_APER_sw1_5</th><th>MAG_APER_sw1_6</th><th>MAG_APER_sw1_7</th><th>MAG_APER_sw1_10</th><th>MAGERR_APER_sw1_1</th><th>MAGERR_APER_sw1_2</th><th>MAGERR_APER_sw1_3</th><th>MAGERR_APER_sw1_4</th><th>MAGERR_APER_sw1_5</th><th>MAGERR_APER_sw1_6</th><th>MAGERR_APER_sw1_7</th><th>MAGERR_APER_sw1_10</th><th>FLUX_APER_sw1_1</th><th>FLUX_APER_sw1_2</th><th>FLUX_APER_sw1_3</th><th>FLUX_APER_sw1_4</th><th>FLUX_APER_sw1_5</th><th>FLUX_APER_sw1_6</th><th>FLUX_APER_sw1_7</th><th>FLUX_APER_sw1_10</th><th>FLUXERR_APER_sw1_1</th><th>FLUXERR_APER_sw1_2</th><th>FLUXERR_APER_sw1_3</th><th>FLUXERR_APER_sw1_4</th><th>FLUXERR_APER_sw1_5</th><th>FLUXERR_APER_sw1_6</th><th>FLUXERR_APER_sw1_7</th><th>FLUXERR_APER_sw1_10</th><th>MAG_APER_sw3_1</th><th>MAG_APER_sw3_2</th><th>MAG_APER_sw3_3</th><th>MAG_APER_sw3_4</th><th>MAG_APER_sw3_5</th><th>MAG_APER_sw3_6</th><th>MAG_APER_sw3_7</th><th>MAG_APER_sw3_10</th><th>MAGERR_APER_sw3_1</th><th>MAGERR_APER_sw3_2</th><th>MAGERR_APER_sw3_3</th><th>MAGERR_APER_sw3_4</th><th>MAGERR_APER_sw3_5</th><th>MAGERR_APER_sw3_6</th><th>MAGERR_APER_sw3_7</th><th>MAGERR_APER_sw3_10</th><th>FLUX_APER_sw3_1</th><th>FLUX_APER_sw3_2</th><th>FLUX_APER_sw3_3</th><th>FLUX_APER_sw3_4</th><th>FLUX_APER_sw3_5</th><th>FLUX_APER_sw3_6</th><th>FLUX_APER_sw3_7</th><th>FLUX_APER_sw3_10</th><th>FLUXERR_APER_sw3_1</th><th>FLUXERR_APER_sw3_2</th><th>FLUXERR_APER_sw3_3</th><th>FLUXERR_APER_sw3_4</th><th>FLUXERR_APER_sw3_5</th><th>FLUXERR_APER_sw3_6</th><th>FLUXERR_APER_sw3_7</th><th>FLUXERR_APER_sw3_10</th><th>MAG_APER_sw2_1</th><th>MAG_APER_sw2_2</th><th>MAG_APER_sw2_3</th><th>MAG_APER_sw2_4</th><th>MAG_APER_sw2_5</th><th>MAG_APER_sw2_6</th><th>MAG_APER_sw2_7</th><th>MAG_APER_sw2_10</th><th>MAGERR_APER_sw2_1</th><th>MAGERR_APER_sw2_2</th><th>MAGERR_APER_sw2_3</th><th>MAGERR_APER_sw2_4</th><th>MAGERR_APER_sw2_5</th><th>MAGERR_APER_sw2_6</th><th>MAGERR_APER_sw2_7</th><th>MAGERR_APER_sw2_10</th><th>FLUX_APER_sw2_1</th><th>FLUX_APER_sw2_2</th><th>FLUX_APER_sw2_3</th><th>FLUX_APER_sw2_4</th><th>FLUX_APER_sw2_5</th><th>FLUX_APER_sw2_6</th><th>FLUX_APER_sw2_7</th><th>FLUX_APER_sw2_10</th><th>FLUXERR_APER_sw2_1</th><th>FLUXERR_APER_sw2_2</th><th>FLUXERR_APER_sw2_3</th><th>FLUXERR_APER_sw2_4</th><th>FLUXERR_APER_sw2_5</th><th>FLUXERR_APER_sw2_6</th><th>FLUXERR_APER_sw2_7</th><th>FLUXERR_APER_sw2_10</th><th>MAG_APER_se2_1</th><th>MAG_APER_se2_2</th><th>MAG_APER_se2_3</th><th>MAG_APER_se2_4</th><th>MAG_APER_se2_5</th><th>MAG_APER_se2_6</th><th>MAG_APER_se2_7</th><th>MAG_APER_se2_10</th><th>MAGERR_APER_se2_1</th><th>MAGERR_APER_se2_2</th><th>MAGERR_APER_se2_3</th><th>MAGERR_APER_se2_4</th><th>MAGERR_APER_se2_5</th><th>MAGERR_APER_se2_6</th><th>MAGERR_APER_se2_7</th><th>MAGERR_APER_se2_10</th><th>FLUX_APER_se2_1</th><th>FLUX_APER_se2_2</th><th>FLUX_APER_se2_3</th><th>FLUX_APER_se2_4</th><th>FLUX_APER_se2_5</th><th>FLUX_APER_se2_6</th><th>FLUX_APER_se2_7</th><th>FLUX_APER_se2_10</th><th>FLUXERR_APER_se2_1</th><th>FLUXERR_APER_se2_2</th><th>FLUXERR_APER_se2_3</th><th>FLUXERR_APER_se2_4</th><th>FLUXERR_APER_se2_5</th><th>FLUXERR_APER_se2_6</th><th>FLUXERR_APER_se2_7</th><th>FLUXERR_APER_se2_10</th><th>MAG_APER_se1_1</th><th>MAG_APER_se1_2</th><th>MAG_APER_se1_3</th><th>MAG_APER_se1_4</th><th>MAG_APER_se1_5</th><th>MAG_APER_se1_6</th><th>MAG_APER_se1_7</th><th>MAG_APER_se1_10</th><th>MAGERR_APER_se1_1</th><th>MAGERR_APER_se1_2</th><th>MAGERR_APER_se1_3</th><th>MAGERR_APER_se1_4</th><th>MAGERR_APER_se1_5</th><th>MAGERR_APER_se1_6</th><th>MAGERR_APER_se1_7</th><th>MAGERR_APER_se1_10</th><th>FLUX_APER_se1_1</th><th>FLUX_APER_se1_2</th><th>FLUX_APER_se1_3</th><th>FLUX_APER_se1_4</th><th>FLUX_APER_se1_5</th><th>FLUX_APER_se1_6</th><th>FLUX_APER_se1_7</th><th>FLUX_APER_se1_10</th><th>FLUXERR_APER_se1_1</th><th>FLUXERR_APER_se1_2</th><th>FLUXERR_APER_se1_3</th><th>FLUXERR_APER_se1_4</th><th>FLUXERR_APER_se1_5</th><th>FLUXERR_APER_se1_6</th><th>FLUXERR_APER_se1_7</th><th>FLUXERR_APER_se1_10</th><th>MAG_APER_y_1</th><th>MAG_APER_y_2</th><th>MAG_APER_y_3</th><th>MAG_APER_y_4</th><th>MAG_APER_y_5</th><th>MAG_APER_y_6</th><th>MAG_APER_y_7</th><th>MAG_APER_y_10</th><th>MAGERR_APER_y_1</th><th>MAGERR_APER_y_2</th><th>MAGERR_APER_y_3</th><th>MAGERR_APER_y_4</th><th>MAGERR_APER_y_5</th><th>MAGERR_APER_y_6</th><th>MAGERR_APER_y_7</th><th>MAGERR_APER_y_10</th><th>FLUX_APER_y_1</th><th>FLUX_APER_y_2</th><th>FLUX_APER_y_3</th><th>FLUX_APER_y_4</th><th>FLUX_APER_y_5</th><th>FLUX_APER_y_6</th><th>FLUX_APER_y_7</th><th>FLUX_APER_y_10</th><th>FLUXERR_APER_y_1</th><th>FLUXERR_APER_y_2</th><th>FLUXERR_APER_y_3</th><th>FLUXERR_APER_y_4</th><th>FLUXERR_APER_y_5</th><th>FLUXERR_APER_y_6</th><th>FLUXERR_APER_y_7</th><th>FLUXERR_APER_y_10</th><th>MAG_APER_g_1</th><th>MAG_APER_g_2</th><th>MAG_APER_g_3</th><th>MAG_APER_g_4</th><th>MAG_APER_g_5</th><th>MAG_APER_g_6</th><th>MAG_APER_g_7</th><th>MAG_APER_g_10</th><th>MAGERR_APER_g_1</th><th>MAGERR_APER_g_2</th><th>MAGERR_APER_g_3</th><th>MAGERR_APER_g_4</th><th>MAGERR_APER_g_5</th><th>MAGERR_APER_g_6</th><th>MAGERR_APER_g_7</th><th>MAGERR_APER_g_10</th><th>FLUX_APER_g_1</th><th>FLUX_APER_g_2</th><th>FLUX_APER_g_3</th><th>FLUX_APER_g_4</th><th>FLUX_APER_g_5</th><th>FLUX_APER_g_6</th><th>FLUX_APER_g_7</th><th>FLUX_APER_g_10</th><th>FLUXERR_APER_g_1</th><th>FLUXERR_APER_g_2</th><th>FLUXERR_APER_g_3</th><th>FLUXERR_APER_g_4</th><th>FLUXERR_APER_g_5</th><th>FLUXERR_APER_g_6</th><th>FLUXERR_APER_g_7</th><th>FLUXERR_APER_g_10</th><th>MAG_APER_u_1</th><th>MAG_APER_u_2</th><th>MAG_APER_u_3</th><th>MAG_APER_u_4</th><th>MAG_APER_u_5</th><th>MAG_APER_u_6</th><th>MAG_APER_u_7</th><th>MAG_APER_u_10</th><th>MAGERR_APER_u_1</th><th>MAGERR_APER_u_2</th><th>MAGERR_APER_u_3</th><th>MAGERR_APER_u_4</th><th>MAGERR_APER_u_5</th><th>MAGERR_APER_u_6</th><th>MAGERR_APER_u_7</th><th>MAGERR_APER_u_10</th><th>FLUX_APER_u_1</th><th>FLUX_APER_u_2</th><th>FLUX_APER_u_3</th><th>FLUX_APER_u_4</th><th>FLUX_APER_u_5</th><th>FLUX_APER_u_6</th><th>FLUX_APER_u_7</th><th>FLUX_APER_u_10</th><th>FLUXERR_APER_u_1</th><th>FLUXERR_APER_u_2</th><th>FLUXERR_APER_u_3</th><th>FLUXERR_APER_u_4</th><th>FLUXERR_APER_u_5</th><th>FLUXERR_APER_u_6</th><th>FLUXERR_APER_u_7</th><th>FLUXERR_APER_u_10</th><th>MAG_APER_z_1</th><th>MAG_APER_z_2</th><th>MAG_APER_z_3</th><th>MAG_APER_z_4</th><th>MAG_APER_z_5</th><th>MAG_APER_z_6</th><th>MAG_APER_z_7</th><th>MAG_APER_z_10</th><th>MAGERR_APER_z_1</th><th>MAGERR_APER_z_2</th><th>MAGERR_APER_z_3</th><th>MAGERR_APER_z_4</th><th>MAGERR_APER_z_5</th><th>MAGERR_APER_z_6</th><th>MAGERR_APER_z_7</th><th>MAGERR_APER_z_10</th><th>FLUX_APER_z_1</th><th>FLUX_APER_z_2</th><th>FLUX_APER_z_3</th><th>FLUX_APER_z_4</th><th>FLUX_APER_z_5</th><th>FLUX_APER_z_6</th><th>FLUX_APER_z_7</th><th>FLUX_APER_z_10</th><th>FLUXERR_APER_z_1</th><th>FLUXERR_APER_z_2</th><th>FLUXERR_APER_z_3</th><th>FLUXERR_APER_z_4</th><th>FLUXERR_APER_z_5</th><th>FLUXERR_APER_z_6</th><th>FLUXERR_APER_z_7</th><th>FLUXERR_APER_z_10</th><th>MAG_APER_i_1</th><th>MAG_APER_i_2</th><th>MAG_APER_i_3</th><th>MAG_APER_i_4</th><th>MAG_APER_i_5</th><th>MAG_APER_i_6</th><th>MAG_APER_i_7</th><th>MAG_APER_i_10</th><th>MAGERR_APER_i_1</th><th>MAGERR_APER_i_2</th><th>MAGERR_APER_i_3</th><th>MAGERR_APER_i_4</th><th>MAGERR_APER_i_5</th><th>MAGERR_APER_i_6</th><th>MAGERR_APER_i_7</th><th>MAGERR_APER_i_10</th><th>FLUX_APER_i_1</th><th>FLUX_APER_i_2</th><th>FLUX_APER_i_3</th><th>FLUX_APER_i_4</th><th>FLUX_APER_i_5</th><th>FLUX_APER_i_6</th><th>FLUX_APER_i_7</th><th>FLUX_APER_i_10</th><th>FLUXERR_APER_i_1</th><th>FLUXERR_APER_i_2</th><th>FLUXERR_APER_i_3</th><th>FLUXERR_APER_i_4</th><th>FLUXERR_APER_i_5</th><th>FLUXERR_APER_i_6</th><th>FLUXERR_APER_i_7</th><th>FLUXERR_APER_i_10</th><th>MAG_APER_r_1</th><th>MAG_APER_r_2</th><th>MAG_APER_r_3</th><th>MAG_APER_r_4</th><th>MAG_APER_r_5</th><th>MAG_APER_r_6</th><th>MAG_APER_r_7</th><th>MAG_APER_r_10</th><th>MAGERR_APER_r_1</th><th>MAGERR_APER_r_2</th><th>MAGERR_APER_r_3</th><th>MAGERR_APER_r_4</th><th>MAGERR_APER_r_5</th><th>MAGERR_APER_r_6</th><th>MAGERR_APER_r_7</th><th>MAGERR_APER_r_10</th><th>FLUX_APER_r_1</th><th>FLUX_APER_r_2</th><th>FLUX_APER_r_3</th><th>FLUX_APER_r_4</th><th>FLUX_APER_r_5</th><th>FLUX_APER_r_6</th><th>FLUX_APER_r_7</th><th>FLUX_APER_r_10</th><th>FLUXERR_APER_r_1</th><th>FLUXERR_APER_r_2</th><th>FLUXERR_APER_r_3</th><th>FLUXERR_APER_r_4</th><th>FLUXERR_APER_r_5</th><th>FLUXERR_APER_r_6</th><th>FLUXERR_APER_r_7</th><th>FLUXERR_APER_r_10</th><th>MAG_APER_hscg_1</th><th>MAG_APER_hscg_2</th><th>MAG_APER_hscg_3</th><th>MAG_APER_hscg_4</th><th>MAG_APER_hscg_5</th><th>MAG_APER_hscg_6</th><th>MAG_APER_hscg_7</th><th>MAG_APER_hscg_10</th><th>MAGERR_APER_hscg_1</th><th>MAGERR_APER_hscg_2</th><th>MAGERR_APER_hscg_3</th><th>MAGERR_APER_hscg_4</th><th>MAGERR_APER_hscg_5</th><th>MAGERR_APER_hscg_6</th><th>MAGERR_APER_hscg_7</th><th>MAGERR_APER_hscg_10</th><th>FLUX_APER_hscg_1</th><th>FLUX_APER_hscg_2</th><th>FLUX_APER_hscg_3</th><th>FLUX_APER_hscg_4</th><th>FLUX_APER_hscg_5</th><th>FLUX_APER_hscg_6</th><th>FLUX_APER_hscg_7</th><th>FLUX_APER_hscg_10</th><th>FLUXERR_APER_hscg_1</th><th>FLUXERR_APER_hscg_2</th><th>FLUXERR_APER_hscg_3</th><th>FLUXERR_APER_hscg_4</th><th>FLUXERR_APER_hscg_5</th><th>FLUXERR_APER_hscg_6</th><th>FLUXERR_APER_hscg_7</th><th>FLUXERR_APER_hscg_10</th><th>MAG_APER_hsci_1</th><th>MAG_APER_hsci_2</th><th>MAG_APER_hsci_3</th><th>MAG_APER_hsci_4</th><th>MAG_APER_hsci_5</th><th>MAG_APER_hsci_6</th><th>MAG_APER_hsci_7</th><th>MAG_APER_hsci_10</th><th>MAGERR_APER_hsci_1</th><th>MAGERR_APER_hsci_2</th><th>MAGERR_APER_hsci_3</th><th>MAGERR_APER_hsci_4</th><th>MAGERR_APER_hsci_5</th><th>MAGERR_APER_hsci_6</th><th>MAGERR_APER_hsci_7</th><th>MAGERR_APER_hsci_10</th><th>FLUX_APER_hsci_1</th><th>FLUX_APER_hsci_2</th><th>FLUX_APER_hsci_3</th><th>FLUX_APER_hsci_4</th><th>FLUX_APER_hsci_5</th><th>FLUX_APER_hsci_6</th><th>FLUX_APER_hsci_7</th><th>FLUX_APER_hsci_10</th><th>FLUXERR_APER_hsci_1</th><th>FLUXERR_APER_hsci_2</th><th>FLUXERR_APER_hsci_3</th><th>FLUXERR_APER_hsci_4</th><th>FLUXERR_APER_hsci_5</th><th>FLUXERR_APER_hsci_6</th><th>FLUXERR_APER_hsci_7</th><th>FLUXERR_APER_hsci_10</th><th>MAG_APER_hscz_1</th><th>MAG_APER_hscz_2</th><th>MAG_APER_hscz_3</th><th>MAG_APER_hscz_4</th><th>MAG_APER_hscz_5</th><th>MAG_APER_hscz_6</th><th>MAG_APER_hscz_7</th><th>MAG_APER_hscz_10</th><th>MAGERR_APER_hscz_1</th><th>MAGERR_APER_hscz_2</th><th>MAGERR_APER_hscz_3</th><th>MAGERR_APER_hscz_4</th><th>MAGERR_APER_hscz_5</th><th>MAGERR_APER_hscz_6</th><th>MAGERR_APER_hscz_7</th><th>MAGERR_APER_hscz_10</th><th>FLUX_APER_hscz_1</th><th>FLUX_APER_hscz_2</th><th>FLUX_APER_hscz_3</th><th>FLUX_APER_hscz_4</th><th>FLUX_APER_hscz_5</th><th>FLUX_APER_hscz_6</th><th>FLUX_APER_hscz_7</th><th>FLUX_APER_hscz_10</th><th>FLUXERR_APER_hscz_1</th><th>FLUXERR_APER_hscz_2</th><th>FLUXERR_APER_hscz_3</th><th>FLUXERR_APER_hscz_4</th><th>FLUXERR_APER_hscz_5</th><th>FLUXERR_APER_hscz_6</th><th>FLUXERR_APER_hscz_7</th><th>FLUXERR_APER_hscz_10</th><th>MAG_APER_hscr_1</th><th>MAG_APER_hscr_2</th><th>MAG_APER_hscr_3</th><th>MAG_APER_hscr_4</th><th>MAG_APER_hscr_5</th><th>MAG_APER_hscr_6</th><th>MAG_APER_hscr_7</th><th>MAG_APER_hscr_10</th><th>MAGERR_APER_hscr_1</th><th>MAGERR_APER_hscr_2</th><th>MAGERR_APER_hscr_3</th><th>MAGERR_APER_hscr_4</th><th>MAGERR_APER_hscr_5</th><th>MAGERR_APER_hscr_6</th><th>MAGERR_APER_hscr_7</th><th>MAGERR_APER_hscr_10</th><th>FLUX_APER_hscr_1</th><th>FLUX_APER_hscr_2</th><th>FLUX_APER_hscr_3</th><th>FLUX_APER_hscr_4</th><th>FLUX_APER_hscr_5</th><th>FLUX_APER_hscr_6</th><th>FLUX_APER_hscr_7</th><th>FLUX_APER_hscr_10</th><th>FLUXERR_APER_hscr_1</th><th>FLUXERR_APER_hscr_2</th><th>FLUXERR_APER_hscr_3</th><th>FLUXERR_APER_hscr_4</th><th>FLUXERR_APER_hscr_5</th><th>FLUXERR_APER_hscr_6</th><th>FLUXERR_APER_hscr_7</th><th>FLUXERR_APER_hscr_10</th><th>MAG_APER_hscnb921_1</th><th>MAG_APER_hscnb921_2</th><th>MAG_APER_hscnb921_3</th><th>MAG_APER_hscnb921_4</th><th>MAG_APER_hscnb921_5</th><th>MAG_APER_hscnb921_6</th><th>MAG_APER_hscnb921_7</th><th>MAG_APER_hscnb921_10</th><th>MAGERR_APER_hscnb921_1</th><th>MAGERR_APER_hscnb921_2</th><th>MAGERR_APER_hscnb921_3</th><th>MAGERR_APER_hscnb921_4</th><th>MAGERR_APER_hscnb921_5</th><th>MAGERR_APER_hscnb921_6</th><th>MAGERR_APER_hscnb921_7</th><th>MAGERR_APER_hscnb921_10</th><th>FLUX_APER_hscnb921_1</th><th>FLUX_APER_hscnb921_2</th><th>FLUX_APER_hscnb921_3</th><th>FLUX_APER_hscnb921_4</th><th>FLUX_APER_hscnb921_5</th><th>FLUX_APER_hscnb921_6</th><th>FLUX_APER_hscnb921_7</th><th>FLUX_APER_hscnb921_10</th><th>FLUXERR_APER_hscnb921_1</th><th>FLUXERR_APER_hscnb921_2</th><th>FLUXERR_APER_hscnb921_3</th><th>FLUXERR_APER_hscnb921_4</th><th>FLUXERR_APER_hscnb921_5</th><th>FLUXERR_APER_hscnb921_6</th><th>FLUXERR_APER_hscnb921_7</th><th>FLUXERR_APER_hscnb921_10</th><th>MAG_APER_hscy_1</th><th>MAG_APER_hscy_2</th><th>MAG_APER_hscy_3</th><th>MAG_APER_hscy_4</th><th>MAG_APER_hscy_5</th><th>MAG_APER_hscy_6</th><th>MAG_APER_hscy_7</th><th>MAG_APER_hscy_10</th><th>MAGERR_APER_hscy_1</th><th>MAGERR_APER_hscy_2</th><th>MAGERR_APER_hscy_3</th><th>MAGERR_APER_hscy_4</th><th>MAGERR_APER_hscy_5</th><th>MAGERR_APER_hscy_6</th><th>MAGERR_APER_hscy_7</th><th>MAGERR_APER_hscy_10</th><th>FLUX_APER_hscy_1</th><th>FLUX_APER_hscy_2</th><th>FLUX_APER_hscy_3</th><th>FLUX_APER_hscy_4</th><th>FLUX_APER_hscy_5</th><th>FLUX_APER_hscy_6</th><th>FLUX_APER_hscy_7</th><th>FLUX_APER_hscy_10</th><th>FLUXERR_APER_hscy_1</th><th>FLUXERR_APER_hscy_2</th><th>FLUXERR_APER_hscy_3</th><th>FLUXERR_APER_hscy_4</th><th>FLUXERR_APER_hscy_5</th><th>FLUXERR_APER_hscy_6</th><th>FLUXERR_APER_hscy_7</th><th>FLUXERR_APER_hscy_10</th><th>MAG_APER_J_1</th><th>MAG_APER_J_2</th><th>MAG_APER_J_3</th><th>MAG_APER_J_4</th><th>MAG_APER_J_5</th><th>MAG_APER_J_6</th><th>MAG_APER_J_7</th><th>MAG_APER_J_10</th><th>MAGERR_APER_J_1</th><th>MAGERR_APER_J_2</th><th>MAGERR_APER_J_3</th><th>MAGERR_APER_J_4</th><th>MAGERR_APER_J_5</th><th>MAGERR_APER_J_6</th><th>MAGERR_APER_J_7</th><th>MAGERR_APER_J_10</th><th>FLUX_APER_J_1</th><th>FLUX_APER_J_2</th><th>FLUX_APER_J_3</th><th>FLUX_APER_J_4</th><th>FLUX_APER_J_5</th><th>FLUX_APER_J_6</th><th>FLUX_APER_J_7</th><th>FLUX_APER_J_10</th><th>FLUXERR_APER_J_1</th><th>FLUXERR_APER_J_2</th><th>FLUXERR_APER_J_3</th><th>FLUXERR_APER_J_4</th><th>FLUXERR_APER_J_5</th><th>FLUXERR_APER_J_6</th><th>FLUXERR_APER_J_7</th><th>FLUXERR_APER_J_10</th><th>MAG_APER_K_1</th><th>MAG_APER_K_2</th><th>MAG_APER_K_3</th><th>MAG_APER_K_4</th><th>MAG_APER_K_5</th><th>MAG_APER_K_6</th><th>MAG_APER_K_7</th><th>MAG_APER_K_10</th><th>MAGERR_APER_K_1</th><th>MAGERR_APER_K_2</th><th>MAGERR_APER_K_3</th><th>MAGERR_APER_K_4</th><th>MAGERR_APER_K_5</th><th>MAGERR_APER_K_6</th><th>MAGERR_APER_K_7</th><th>MAGERR_APER_K_10</th><th>FLUX_APER_K_1</th><th>FLUX_APER_K_2</th><th>FLUX_APER_K_3</th><th>FLUX_APER_K_4</th><th>FLUX_APER_K_5</th><th>FLUX_APER_K_6</th><th>FLUX_APER_K_7</th><th>FLUX_APER_K_10</th><th>FLUXERR_APER_K_1</th><th>FLUXERR_APER_K_2</th><th>FLUXERR_APER_K_3</th><th>FLUXERR_APER_K_4</th><th>FLUXERR_APER_K_5</th><th>FLUXERR_APER_K_6</th><th>FLUXERR_APER_K_7</th><th>FLUXERR_APER_K_10</th><th>FLAG_OVERLAP_2</th><th>HELP_ID</th><th>RA_2</th><th>Dec</th><th>F_SPIRE_250</th><th>FErr_SPIRE_250_u</th><th>FErr_SPIRE_250_l</th><th>F_SPIRE_350</th><th>FErr_SPIRE_350_u</th><th>FErr_SPIRE_350_l</th><th>F_SPIRE_500</th><th>FErr_SPIRE_500_u</th><th>FErr_SPIRE_500_l</th><th>Bkg_SPIRE_250</th><th>Bkg_SPIRE_350</th><th>Bkg_SPIRE_500</th><th>Sig_conf_SPIRE_250</th><th>Sig_conf_SPIRE_350</th><th>Sig_conf_SPIRE_500</th><th>Rhat_SPIRE_250</th><th>Rhat_SPIRE_350</th><th>Rhat_SPIRE_500</th><th>n_eff_SPIRE_250</th><th>n_eff_SPIRE_500</th><th>n_eff_SPIRE_350</th><th>Pval_res_250</th><th>Pval_res_350</th><th>Pval_res_500</th><th>f_mips_24</th><th>flag_optnir_det</th><th>XID_rerun</th><th>source_type</th></tr></thead>\n",
       "<thead><tr><th></th><th></th><th>deg</th><th>deg</th><th>deg</th><th>deg</th><th>Jy</th><th>Jy</th><th>Jy / beam</th><th>Jy / beam</th><th>deg</th><th>deg</th><th>deg</th><th>deg</th><th>deg</th><th>deg</th><th>deg</th><th>deg</th><th>deg</th><th>deg</th><th>deg</th><th>deg</th><th>deg</th><th>deg</th><th>deg</th><th>deg</th><th>deg</th><th>deg</th><th>deg</th><th>deg</th><th>deg</th><th>deg</th><th>deg</th><th>deg</th><th>deg</th><th>deg</th><th>deg</th><th>deg</th><th>Jy</th><th>Jy</th><th>Jy / beam</th><th>Jy / beam</th><th>Jy / beam</th><th>Jy / beam</th><th></th><th></th><th></th><th></th><th></th><th></th><th></th><th></th><th></th><th>ct</th><th>ct</th><th>pix</th><th>pix</th><th>deg</th><th>deg</th><th>pix2</th><th>pix2</th><th>pix2</th><th>deg2</th><th>deg2</th><th>pix</th><th>pix</th><th>deg</th><th>pix</th><th>pix</th><th>deg</th><th></th><th></th><th></th><th></th><th></th><th></th><th></th><th></th><th></th><th></th><th></th><th></th><th></th><th></th><th></th><th></th><th></th><th></th><th></th><th></th><th></th><th></th><th></th><th></th><th>mag</th><th>mag</th><th>mag</th><th>mag</th><th>mag</th><th>mag</th><th>mag</th><th>mag</th><th>mag</th><th>mag</th><th>mag</th><th>mag</th><th>mag</th><th>mag</th><th>mag</th><th>mag</th><th>ct</th><th>ct</th><th>ct</th><th>ct</th><th>ct</th><th>ct</th><th>ct</th><th>ct</th><th>ct</th><th>ct</th><th>ct</th><th>ct</th><th>ct</th><th>ct</th><th>ct</th><th>ct</th><th>mag</th><th>mag</th><th>mag</th><th>mag</th><th>mag</th><th>mag</th><th>mag</th><th>mag</th><th>mag</th><th>mag</th><th>mag</th><th>mag</th><th>mag</th><th>mag</th><th>mag</th><th>mag</th><th>ct</th><th>ct</th><th>ct</th><th>ct</th><th>ct</th><th>ct</th><th>ct</th><th>ct</th><th>ct</th><th>ct</th><th>ct</th><th>ct</th><th>ct</th><th>ct</th><th>ct</th><th>ct</th><th>mag</th><th>mag</th><th>mag</th><th>mag</th><th>mag</th><th>mag</th><th>mag</th><th>mag</th><th>mag</th><th>mag</th><th>mag</th><th>mag</th><th>mag</th><th>mag</th><th>mag</th><th>mag</th><th>ct</th><th>ct</th><th>ct</th><th>ct</th><th>ct</th><th>ct</th><th>ct</th><th>ct</th><th>ct</th><th>ct</th><th>ct</th><th>ct</th><th>ct</th><th>ct</th><th>ct</th><th>ct</th><th>mag</th><th>mag</th><th>mag</th><th>mag</th><th>mag</th><th>mag</th><th>mag</th><th>mag</th><th>mag</th><th>mag</th><th>mag</th><th>mag</th><th>mag</th><th>mag</th><th>mag</th><th>mag</th><th>ct</th><th>ct</th><th>ct</th><th>ct</th><th>ct</th><th>ct</th><th>ct</th><th>ct</th><th>ct</th><th>ct</th><th>ct</th><th>ct</th><th>ct</th><th>ct</th><th>ct</th><th>ct</th><th>mag</th><th>mag</th><th>mag</th><th>mag</th><th>mag</th><th>mag</th><th>mag</th><th>mag</th><th>mag</th><th>mag</th><th>mag</th><th>mag</th><th>mag</th><th>mag</th><th>mag</th><th>mag</th><th>ct</th><th>ct</th><th>ct</th><th>ct</th><th>ct</th><th>ct</th><th>ct</th><th>ct</th><th>ct</th><th>ct</th><th>ct</th><th>ct</th><th>ct</th><th>ct</th><th>ct</th><th>ct</th><th>mag</th><th>mag</th><th>mag</th><th>mag</th><th>mag</th><th>mag</th><th>mag</th><th>mag</th><th>mag</th><th>mag</th><th>mag</th><th>mag</th><th>mag</th><th>mag</th><th>mag</th><th>mag</th><th>ct</th><th>ct</th><th>ct</th><th>ct</th><th>ct</th><th>ct</th><th>ct</th><th>ct</th><th>ct</th><th>ct</th><th>ct</th><th>ct</th><th>ct</th><th>ct</th><th>ct</th><th>ct</th><th>mag</th><th>mag</th><th>mag</th><th>mag</th><th>mag</th><th>mag</th><th>mag</th><th>mag</th><th>mag</th><th>mag</th><th>mag</th><th>mag</th><th>mag</th><th>mag</th><th>mag</th><th>mag</th><th>ct</th><th>ct</th><th>ct</th><th>ct</th><th>ct</th><th>ct</th><th>ct</th><th>ct</th><th>ct</th><th>ct</th><th>ct</th><th>ct</th><th>ct</th><th>ct</th><th>ct</th><th>ct</th><th>mag</th><th>mag</th><th>mag</th><th>mag</th><th>mag</th><th>mag</th><th>mag</th><th>mag</th><th>mag</th><th>mag</th><th>mag</th><th>mag</th><th>mag</th><th>mag</th><th>mag</th><th>mag</th><th>ct</th><th>ct</th><th>ct</th><th>ct</th><th>ct</th><th>ct</th><th>ct</th><th>ct</th><th>ct</th><th>ct</th><th>ct</th><th>ct</th><th>ct</th><th>ct</th><th>ct</th><th>ct</th><th>mag</th><th>mag</th><th>mag</th><th>mag</th><th>mag</th><th>mag</th><th>mag</th><th>mag</th><th>mag</th><th>mag</th><th>mag</th><th>mag</th><th>mag</th><th>mag</th><th>mag</th><th>mag</th><th>ct</th><th>ct</th><th>ct</th><th>ct</th><th>ct</th><th>ct</th><th>ct</th><th>ct</th><th>ct</th><th>ct</th><th>ct</th><th>ct</th><th>ct</th><th>ct</th><th>ct</th><th>ct</th><th>mag</th><th>mag</th><th>mag</th><th>mag</th><th>mag</th><th>mag</th><th>mag</th><th>mag</th><th>mag</th><th>mag</th><th>mag</th><th>mag</th><th>mag</th><th>mag</th><th>mag</th><th>mag</th><th>ct</th><th>ct</th><th>ct</th><th>ct</th><th>ct</th><th>ct</th><th>ct</th><th>ct</th><th>ct</th><th>ct</th><th>ct</th><th>ct</th><th>ct</th><th>ct</th><th>ct</th><th>ct</th><th>mag</th><th>mag</th><th>mag</th><th>mag</th><th>mag</th><th>mag</th><th>mag</th><th>mag</th><th>mag</th><th>mag</th><th>mag</th><th>mag</th><th>mag</th><th>mag</th><th>mag</th><th>mag</th><th>ct</th><th>ct</th><th>ct</th><th>ct</th><th>ct</th><th>ct</th><th>ct</th><th>ct</th><th>ct</th><th>ct</th><th>ct</th><th>ct</th><th>ct</th><th>ct</th><th>ct</th><th>ct</th><th>mag</th><th>mag</th><th>mag</th><th>mag</th><th>mag</th><th>mag</th><th>mag</th><th>mag</th><th>mag</th><th>mag</th><th>mag</th><th>mag</th><th>mag</th><th>mag</th><th>mag</th><th>mag</th><th>ct</th><th>ct</th><th>ct</th><th>ct</th><th>ct</th><th>ct</th><th>ct</th><th>ct</th><th>ct</th><th>ct</th><th>ct</th><th>ct</th><th>ct</th><th>ct</th><th>ct</th><th>ct</th><th>mag</th><th>mag</th><th>mag</th><th>mag</th><th>mag</th><th>mag</th><th>mag</th><th>mag</th><th>mag</th><th>mag</th><th>mag</th><th>mag</th><th>mag</th><th>mag</th><th>mag</th><th>mag</th><th>ct</th><th>ct</th><th>ct</th><th>ct</th><th>ct</th><th>ct</th><th>ct</th><th>ct</th><th>ct</th><th>ct</th><th>ct</th><th>ct</th><th>ct</th><th>ct</th><th>ct</th><th>ct</th><th>mag</th><th>mag</th><th>mag</th><th>mag</th><th>mag</th><th>mag</th><th>mag</th><th>mag</th><th>mag</th><th>mag</th><th>mag</th><th>mag</th><th>mag</th><th>mag</th><th>mag</th><th>mag</th><th>ct</th><th>ct</th><th>ct</th><th>ct</th><th>ct</th><th>ct</th><th>ct</th><th>ct</th><th>ct</th><th>ct</th><th>ct</th><th>ct</th><th>ct</th><th>ct</th><th>ct</th><th>ct</th><th>mag</th><th>mag</th><th>mag</th><th>mag</th><th>mag</th><th>mag</th><th>mag</th><th>mag</th><th>mag</th><th>mag</th><th>mag</th><th>mag</th><th>mag</th><th>mag</th><th>mag</th><th>mag</th><th>ct</th><th>ct</th><th>ct</th><th>ct</th><th>ct</th><th>ct</th><th>ct</th><th>ct</th><th>ct</th><th>ct</th><th>ct</th><th>ct</th><th>ct</th><th>ct</th><th>ct</th><th>ct</th><th>mag</th><th>mag</th><th>mag</th><th>mag</th><th>mag</th><th>mag</th><th>mag</th><th>mag</th><th>mag</th><th>mag</th><th>mag</th><th>mag</th><th>mag</th><th>mag</th><th>mag</th><th>mag</th><th>ct</th><th>ct</th><th>ct</th><th>ct</th><th>ct</th><th>ct</th><th>ct</th><th>ct</th><th>ct</th><th>ct</th><th>ct</th><th>ct</th><th>ct</th><th>ct</th><th>ct</th><th>ct</th><th>mag</th><th>mag</th><th>mag</th><th>mag</th><th>mag</th><th>mag</th><th>mag</th><th>mag</th><th>mag</th><th>mag</th><th>mag</th><th>mag</th><th>mag</th><th>mag</th><th>mag</th><th>mag</th><th>ct</th><th>ct</th><th>ct</th><th>ct</th><th>ct</th><th>ct</th><th>ct</th><th>ct</th><th>ct</th><th>ct</th><th>ct</th><th>ct</th><th>ct</th><th>ct</th><th>ct</th><th>ct</th><th>mag</th><th>mag</th><th>mag</th><th>mag</th><th>mag</th><th>mag</th><th>mag</th><th>mag</th><th>mag</th><th>mag</th><th>mag</th><th>mag</th><th>mag</th><th>mag</th><th>mag</th><th>mag</th><th>ct</th><th>ct</th><th>ct</th><th>ct</th><th>ct</th><th>ct</th><th>ct</th><th>ct</th><th>ct</th><th>ct</th><th>ct</th><th>ct</th><th>ct</th><th>ct</th><th>ct</th><th>ct</th><th>mag</th><th>mag</th><th>mag</th><th>mag</th><th>mag</th><th>mag</th><th>mag</th><th>mag</th><th>mag</th><th>mag</th><th>mag</th><th>mag</th><th>mag</th><th>mag</th><th>mag</th><th>mag</th><th>ct</th><th>ct</th><th>ct</th><th>ct</th><th>ct</th><th>ct</th><th>ct</th><th>ct</th><th>ct</th><th>ct</th><th>ct</th><th>ct</th><th>ct</th><th>ct</th><th>ct</th><th>ct</th><th>mag</th><th>mag</th><th>mag</th><th>mag</th><th>mag</th><th>mag</th><th>mag</th><th>mag</th><th>mag</th><th>mag</th><th>mag</th><th>mag</th><th>mag</th><th>mag</th><th>mag</th><th>mag</th><th>ct</th><th>ct</th><th>ct</th><th>ct</th><th>ct</th><th>ct</th><th>ct</th><th>ct</th><th>ct</th><th>ct</th><th>ct</th><th>ct</th><th>ct</th><th>ct</th><th>ct</th><th>ct</th><th></th><th></th><th>degrees</th><th>degrees</th><th>mJy</th><th>mJy</th><th>mJy</th><th>mJy</th><th>mJy</th><th>mJy</th><th>mJy</th><th>mJy</th><th>mJy</th><th>mJy/Beam</th><th>mJy/Beam</th><th>mJy/Beam</th><th>mJy/Beam</th><th>mJy/Beam</th><th>mJy/Beam</th><th></th><th></th><th></th><th></th><th></th><th></th><th></th><th></th><th></th><th>uJy</th><th></th><th></th><th></th></tr></thead>\n",
       "<thead><tr><th>int32</th><th>int32</th><th>float64</th><th>float64</th><th>float64</th><th>float64</th><th>float64</th><th>float64</th><th>float64</th><th>float64</th><th>float64</th><th>float64</th><th>float64</th><th>float64</th><th>float64</th><th>float64</th><th>float64</th><th>float64</th><th>float64</th><th>float64</th><th>float64</th><th>float64</th><th>float64</th><th>float64</th><th>float64</th><th>float64</th><th>float64</th><th>float64</th><th>float64</th><th>float64</th><th>float64</th><th>float64</th><th>float64</th><th>float64</th><th>float64</th><th>float64</th><th>float64</th><th>float64</th><th>float64</th><th>float64</th><th>float64</th><th>float64</th><th>float64</th><th>float64</th><th>bytes1</th><th>int64</th><th>float64</th><th>float64</th><th>float64</th><th>float64</th><th>int64</th><th>int64</th><th>float32</th><th>float32</th><th>float32</th><th>float32</th><th>float32</th><th>float64</th><th>float64</th><th>float64</th><th>float64</th><th>float64</th><th>float64</th><th>float64</th><th>float32</th><th>float32</th><th>float32</th><th>float32</th><th>float32</th><th>float32</th><th>int16</th><th>float32</th><th>int16</th><th>int16</th><th>int16</th><th>int16</th><th>int16</th><th>int16</th><th>int16</th><th>int16</th><th>int16</th><th>int16</th><th>int16</th><th>int16</th><th>int16</th><th>int16</th><th>int16</th><th>int16</th><th>int16</th><th>int16</th><th>int16</th><th>int64</th><th>int32</th><th>int32</th><th>float32</th><th>float32</th><th>float32</th><th>float32</th><th>float32</th><th>float32</th><th>float32</th><th>float32</th><th>float32</th><th>float32</th><th>float32</th><th>float32</th><th>float32</th><th>float32</th><th>float32</th><th>float32</th><th>float32</th><th>float32</th><th>float32</th><th>float32</th><th>float32</th><th>float32</th><th>float32</th><th>float32</th><th>float32</th><th>float32</th><th>float32</th><th>float32</th><th>float32</th><th>float32</th><th>float32</th><th>float32</th><th>float32</th><th>float32</th><th>float32</th><th>float32</th><th>float32</th><th>float32</th><th>float32</th><th>float32</th><th>float32</th><th>float32</th><th>float32</th><th>float32</th><th>float32</th><th>float32</th><th>float32</th><th>float32</th><th>float32</th><th>float32</th><th>float32</th><th>float32</th><th>float32</th><th>float32</th><th>float32</th><th>float32</th><th>float32</th><th>float32</th><th>float32</th><th>float32</th><th>float32</th><th>float32</th><th>float32</th><th>float32</th><th>float32</th><th>float32</th><th>float32</th><th>float32</th><th>float32</th><th>float32</th><th>float32</th><th>float32</th><th>float32</th><th>float32</th><th>float32</th><th>float32</th><th>float32</th><th>float32</th><th>float32</th><th>float32</th><th>float32</th><th>float32</th><th>float32</th><th>float32</th><th>float32</th><th>float32</th><th>float32</th><th>float32</th><th>float32</th><th>float32</th><th>float32</th><th>float32</th><th>float32</th><th>float32</th><th>float32</th><th>float32</th><th>float32</th><th>float32</th><th>float32</th><th>float32</th><th>float32</th><th>float32</th><th>float32</th><th>float32</th><th>float32</th><th>float32</th><th>float32</th><th>float32</th><th>float32</th><th>float32</th><th>float32</th><th>float32</th><th>float32</th><th>float32</th><th>float32</th><th>float32</th><th>float32</th><th>float32</th><th>float32</th><th>float32</th><th>float32</th><th>float32</th><th>float32</th><th>float32</th><th>float32</th><th>float32</th><th>float32</th><th>float32</th><th>float32</th><th>float32</th><th>float32</th><th>float32</th><th>float32</th><th>float32</th><th>float32</th><th>float32</th><th>float32</th><th>float32</th><th>float32</th><th>float32</th><th>float32</th><th>float32</th><th>float32</th><th>float32</th><th>float32</th><th>float32</th><th>float32</th><th>float32</th><th>float32</th><th>float32</th><th>float32</th><th>float32</th><th>float32</th><th>float32</th><th>float32</th><th>float32</th><th>float32</th><th>float32</th><th>float32</th><th>float32</th><th>float32</th><th>float32</th><th>float32</th><th>float32</th><th>float32</th><th>float32</th><th>float32</th><th>float32</th><th>float32</th><th>float32</th><th>float32</th><th>float32</th><th>float32</th><th>float32</th><th>float32</th><th>float32</th><th>float32</th><th>float32</th><th>float32</th><th>float32</th><th>float32</th><th>float32</th><th>float32</th><th>float32</th><th>float32</th><th>float32</th><th>float32</th><th>float32</th><th>float32</th><th>float32</th><th>float32</th><th>float32</th><th>float32</th><th>float32</th><th>float32</th><th>float32</th><th>float32</th><th>float32</th><th>float32</th><th>float32</th><th>float32</th><th>float32</th><th>float32</th><th>float32</th><th>float32</th><th>float32</th><th>float32</th><th>float32</th><th>float32</th><th>float32</th><th>float32</th><th>float32</th><th>float32</th><th>float32</th><th>float32</th><th>float32</th><th>float32</th><th>float32</th><th>float32</th><th>float32</th><th>float32</th><th>float32</th><th>float32</th><th>float32</th><th>float32</th><th>float32</th><th>float32</th><th>float32</th><th>float32</th><th>float32</th><th>float32</th><th>float32</th><th>float32</th><th>float32</th><th>float32</th><th>float32</th><th>float32</th><th>float32</th><th>float32</th><th>float32</th><th>float32</th><th>float32</th><th>float32</th><th>float32</th><th>float32</th><th>float32</th><th>float32</th><th>float32</th><th>float32</th><th>float32</th><th>float32</th><th>float32</th><th>float32</th><th>float32</th><th>float32</th><th>float32</th><th>float32</th><th>float32</th><th>float32</th><th>float32</th><th>float32</th><th>float32</th><th>float32</th><th>float32</th><th>float32</th><th>float32</th><th>float32</th><th>float32</th><th>float32</th><th>float32</th><th>float32</th><th>float32</th><th>float32</th><th>float32</th><th>float32</th><th>float32</th><th>float32</th><th>float32</th><th>float32</th><th>float32</th><th>float32</th><th>float32</th><th>float32</th><th>float32</th><th>float32</th><th>float32</th><th>float32</th><th>float32</th><th>float32</th><th>float32</th><th>float32</th><th>float32</th><th>float32</th><th>float32</th><th>float32</th><th>float32</th><th>float32</th><th>float32</th><th>float32</th><th>float32</th><th>float32</th><th>float32</th><th>float32</th><th>float32</th><th>float32</th><th>float32</th><th>float32</th><th>float32</th><th>float32</th><th>float32</th><th>float32</th><th>float32</th><th>float32</th><th>float32</th><th>float32</th><th>float32</th><th>float32</th><th>float32</th><th>float32</th><th>float32</th><th>float32</th><th>float32</th><th>float32</th><th>float32</th><th>float32</th><th>float32</th><th>float32</th><th>float32</th><th>float32</th><th>float32</th><th>float32</th><th>float32</th><th>float32</th><th>float32</th><th>float32</th><th>float32</th><th>float32</th><th>float32</th><th>float32</th><th>float32</th><th>float32</th><th>float32</th><th>float32</th><th>float32</th><th>float32</th><th>float32</th><th>float32</th><th>float32</th><th>float32</th><th>float32</th><th>float32</th><th>float32</th><th>float32</th><th>float32</th><th>float32</th><th>float32</th><th>float32</th><th>float32</th><th>float32</th><th>float32</th><th>float32</th><th>float32</th><th>float32</th><th>float32</th><th>float32</th><th>float32</th><th>float32</th><th>float32</th><th>float32</th><th>float32</th><th>float32</th><th>float32</th><th>float32</th><th>float32</th><th>float32</th><th>float32</th><th>float32</th><th>float32</th><th>float32</th><th>float32</th><th>float32</th><th>float32</th><th>float32</th><th>float32</th><th>float32</th><th>float32</th><th>float32</th><th>float32</th><th>float32</th><th>float32</th><th>float32</th><th>float32</th><th>float32</th><th>float32</th><th>float32</th><th>float32</th><th>float32</th><th>float32</th><th>float32</th><th>float32</th><th>float32</th><th>float32</th><th>float32</th><th>float32</th><th>float32</th><th>float32</th><th>float32</th><th>float32</th><th>float32</th><th>float32</th><th>float32</th><th>float32</th><th>float32</th><th>float32</th><th>float32</th><th>float32</th><th>float32</th><th>float32</th><th>float32</th><th>float32</th><th>float32</th><th>float32</th><th>float32</th><th>float32</th><th>float32</th><th>float32</th><th>float32</th><th>float32</th><th>float32</th><th>float32</th><th>float32</th><th>float32</th><th>float32</th><th>float32</th><th>float32</th><th>float32</th><th>float32</th><th>float32</th><th>float32</th><th>float32</th><th>float32</th><th>float32</th><th>float32</th><th>float32</th><th>float32</th><th>float32</th><th>float32</th><th>float32</th><th>float32</th><th>float32</th><th>float32</th><th>float32</th><th>float32</th><th>float32</th><th>float32</th><th>float32</th><th>float32</th><th>float32</th><th>float32</th><th>float32</th><th>float32</th><th>float32</th><th>float32</th><th>float32</th><th>float32</th><th>float32</th><th>float32</th><th>float32</th><th>float32</th><th>float32</th><th>float32</th><th>float32</th><th>float32</th><th>float32</th><th>float32</th><th>float32</th><th>float32</th><th>float32</th><th>float32</th><th>float32</th><th>float32</th><th>float32</th><th>float32</th><th>float32</th><th>float32</th><th>float32</th><th>float32</th><th>float32</th><th>float32</th><th>float32</th><th>float32</th><th>float32</th><th>float32</th><th>float32</th><th>float32</th><th>float32</th><th>float32</th><th>float32</th><th>float32</th><th>float32</th><th>float32</th><th>float32</th><th>float32</th><th>float32</th><th>float32</th><th>float32</th><th>float32</th><th>float32</th><th>float32</th><th>float32</th><th>float32</th><th>float32</th><th>float32</th><th>float32</th><th>float32</th><th>float32</th><th>float32</th><th>float32</th><th>float32</th><th>float32</th><th>float32</th><th>float32</th><th>float32</th><th>float32</th><th>float32</th><th>float32</th><th>float32</th><th>float32</th><th>float32</th><th>float32</th><th>float32</th><th>float32</th><th>float32</th><th>float32</th><th>float32</th><th>float32</th><th>float32</th><th>float32</th><th>float32</th><th>float32</th><th>float32</th><th>float32</th><th>float32</th><th>float32</th><th>float32</th><th>float32</th><th>float32</th><th>float32</th><th>float32</th><th>float32</th><th>float32</th><th>float32</th><th>float32</th><th>float32</th><th>float32</th><th>float32</th><th>float32</th><th>float32</th><th>float32</th><th>float32</th><th>float32</th><th>float32</th><th>float32</th><th>float32</th><th>float32</th><th>float32</th><th>float32</th><th>float32</th><th>float32</th><th>float32</th><th>float32</th><th>float32</th><th>float32</th><th>float32</th><th>float32</th><th>float32</th><th>float32</th><th>float32</th><th>float32</th><th>float32</th><th>float32</th><th>float32</th><th>float32</th><th>float32</th><th>float32</th><th>float32</th><th>float32</th><th>float32</th><th>float32</th><th>float32</th><th>float32</th><th>float32</th><th>float32</th><th>float32</th><th>float32</th><th>float32</th><th>float32</th><th>float32</th><th>float32</th><th>float32</th><th>float32</th><th>float32</th><th>float32</th><th>float32</th><th>float32</th><th>float32</th><th>float32</th><th>float32</th><th>float32</th><th>float32</th><th>float32</th><th>float32</th><th>float32</th><th>float32</th><th>float32</th><th>float32</th><th>float32</th><th>float32</th><th>float32</th><th>float32</th><th>float32</th><th>float32</th><th>float32</th><th>float32</th><th>float32</th><th>float32</th><th>float32</th><th>float32</th><th>float32</th><th>float32</th><th>float32</th><th>float32</th><th>float32</th><th>float32</th><th>float32</th><th>float32</th><th>float32</th><th>float32</th><th>float32</th><th>float32</th><th>int64</th><th>str27</th><th>float64</th><th>float64</th><th>float32</th><th>float32</th><th>float32</th><th>float32</th><th>float32</th><th>float32</th><th>float32</th><th>float32</th><th>float32</th><th>float32</th><th>float32</th><th>float32</th><th>float32</th><th>float32</th><th>float32</th><th>float32</th><th>float32</th><th>float32</th><th>float32</th><th>float32</th><th>float32</th><th>float32</th><th>float32</th><th>float32</th><th>float64</th><th>int16</th><th>bool</th><th>str14</th></tr></thead>\n",
       "<tr><td>11198</td><td>11231</td><td>245.5596019712882</td><td>7.898312193953011e-05</td><td>54.84066488324045</td><td>7.651126269418831e-05</td><td>0.0006349232552071793</td><td>9.016285878459866e-05</td><td>0.0004479201576326518</td><td>4.0916067704350446e-05</td><td>245.5596019712882</td><td>7.898312193953011e-05</td><td>54.84066488324045</td><td>7.651126269418831e-05</td><td>0.0020963456305893233</td><td>0.0002003361101409009</td><td>0.0018790113989312356</td><td>0.00016406639304419245</td><td>51.89277698429571</td><td>38.3174446862141</td><td>0.002095794321657885</td><td>0.0002003361101409009</td><td>0.001878752046839936</td><td>0.00016406639304419245</td><td>49.596062936374665</td><td>38.3174446862141</td><td>0.0012709939483501582</td><td>0.0002003361101409009</td><td>0.0008672595289296417</td><td>0.00016406639304419245</td><td>51.8927769842957</td><td>38.3174446862141</td><td>0.0012706596951645452</td><td>0.0002003361101409009</td><td>0.0008671398247846018</td><td>0.00016406639304419245</td><td>49.59606293637466</td><td>38.3174446862141</td><td>0.0004999049194633918</td><td>4.2348387940828714e-05</td><td>3.844320963253267e-05</td><td>0.0</td><td>7.79403853812255e-06</td><td>-5.608766073805782e-08</td><td>S</td><td>7</td><td>3.591724178199175e-20</td><td>7.920986287887408</td><td>891092.0</td><td>5.0</td><td>4</td><td>891092</td><td>3047</td><td>1.521837</td><td>1</td><td>15891.0752</td><td>34920.1758</td><td>245.5562970</td><td>54.8417691</td><td>1.9363474912e+03</td><td>9.1862152600e+02</td><td>-9.5728610515e+02</td><td>6.0801892946e-06</td><td>2.7198139668e-06</td><td>50.116</td><td>18.530</td><td>-31.00</td><td>0.06715</td><td>0.01527</td><td>-29.52</td><td>7</td><td>0.032</td><td>3</td><td>3</td><td>7</td><td>3</td><td>3</td><td>3</td><td>3</td><td>3</td><td>3</td><td>7</td><td>3</td><td>3</td><td>3</td><td>3</td><td>3</td><td>3</td><td>3</td><td>7</td><td>7</td><td>1</td><td>1030509</td><td>--</td><td>18.6569</td><td>18.7024</td><td>18.7657</td><td>18.8276</td><td>18.8587</td><td>18.8532</td><td>18.8469</td><td>18.7274</td><td>0.1185</td><td>0.0930</td><td>0.0933</td><td>0.1057</td><td>0.1218</td><td>0.1361</td><td>0.1501</td><td>0.1890</td><td>125.0951</td><td>119.9623</td><td>113.1639</td><td>106.8985</td><td>103.8785</td><td>104.4053</td><td>105.0096</td><td>117.2315</td><td>13.65595</td><td>10.28045</td><td>9.721194</td><td>10.40801</td><td>11.65429</td><td>13.08467</td><td>14.52202</td><td>20.40509</td><td>17.2172</td><td>17.2334</td><td>17.2553</td><td>17.2802</td><td>17.2964</td><td>17.3012</td><td>17.2972</td><td>17.2435</td><td>0.0328</td><td>0.0167</td><td>0.0127</td><td>0.0114</td><td>0.0113</td><td>0.0120</td><td>0.0137</td><td>0.0242</td><td>471.1146</td><td>464.1458</td><td>454.8608</td><td>444.5402</td><td>437.9671</td><td>436.0497</td><td>437.6258</td><td>459.8135</td><td>14.22363</td><td>7.138387</td><td>5.304199</td><td>4.687673</td><td>4.569212</td><td>4.823917</td><td>5.502545</td><td>10.26733</td><td>18.0268</td><td>18.0959</td><td>18.1922</td><td>18.2546</td><td>18.2528</td><td>18.2234</td><td>18.1869</td><td>17.9698</td><td>0.0727</td><td>0.0549</td><td>0.0567</td><td>0.0635</td><td>0.0696</td><td>0.0763</td><td>0.0847</td><td>0.1056</td><td>223.4943</td><td>209.7139</td><td>191.9221</td><td>181.2034</td><td>181.5088</td><td>186.4816</td><td>192.8595</td><td>235.5397</td><td>14.96786</td><td>10.59883</td><td>10.01444</td><td>10.6049</td><td>11.6375</td><td>13.09917</td><td>15.04204</td><td>22.90824</td><td>17.5741</td><td>17.6508</td><td>17.7218</td><td>17.7631</td><td>17.7811</td><td>17.7895</td><td>17.7881</td><td>17.7254</td><td>0.0341</td><td>0.0183</td><td>0.0149</td><td>0.0144</td><td>0.0151</td><td>0.0170</td><td>0.0201</td><td>0.0371</td><td>339.1359</td><td>315.9806</td><td>295.9965</td><td>284.9538</td><td>280.2591</td><td>278.1003</td><td>278.4504</td><td>295.0145</td><td>10.63652</td><td>5.332055</td><td>4.073044</td><td>3.785328</td><td>3.907961</td><td>4.346516</td><td>5.162434</td><td>10.08542</td><td>-99.0000</td><td>-99.0000</td><td>-99.0000</td><td>-99.0000</td><td>-99.0000</td><td>-99.0000</td><td>-99.0000</td><td>-99.0000</td><td>-99.0000</td><td>-99.0000</td><td>-99.0000</td><td>-99.0000</td><td>-99.0000</td><td>-99.0000</td><td>-99.0000</td><td>-99.0000</td><td>-99</td><td>-99</td><td>-99</td><td>-99</td><td>-99</td><td>-99</td><td>-99</td><td>-99</td><td>0.0370186</td><td>0.1178735</td><td>0.2165122</td><td>0.3439004</td><td>0.4887345</td><td>0.6460603</td><td>0.8688539</td><td>1.749573</td><td>-99.0000</td><td>-99.0000</td><td>-99.0000</td><td>-99.0000</td><td>-99.0000</td><td>-99.0000</td><td>-99.0000</td><td>-99.0000</td><td>-99.0000</td><td>-99.0000</td><td>-99.0000</td><td>-99.0000</td><td>-99.0000</td><td>-99.0000</td><td>-99.0000</td><td>-99.0000</td><td>-99</td><td>-99</td><td>-99</td><td>-99</td><td>-99</td><td>-99</td><td>-99</td><td>-99</td><td>0.02845968</td><td>0.09084167</td><td>0.1758394</td><td>0.2783491</td><td>0.3977777</td><td>0.5423697</td><td>0.6439554</td><td>1.107014</td><td>15.8639</td><td>15.8610</td><td>15.8883</td><td>15.9095</td><td>15.9193</td><td>15.9199</td><td>15.9155</td><td>15.8826</td><td>0.0006</td><td>0.0006</td><td>0.0007</td><td>0.0009</td><td>0.0012</td><td>0.0017</td><td>0.0024</td><td>0.0053</td><td>1638.491</td><td>1642.813</td><td>1602.021</td><td>1571.06</td><td>1557.032</td><td>1556.138</td><td>1562.393</td><td>1610.463</td><td>0.9743943</td><td>0.8628076</td><td>1.034776</td><td>1.338171</td><td>1.787688</td><td>2.453844</td><td>3.423978</td><td>7.808487</td><td>16.9260</td><td>16.7664</td><td>16.6801</td><td>16.6541</td><td>16.6457</td><td>16.6418</td><td>16.6393</td><td>16.6325</td><td>0.0007</td><td>0.0005</td><td>0.0005</td><td>0.0005</td><td>0.0006</td><td>0.0006</td><td>0.0008</td><td>0.0017</td><td>616.0083</td><td>713.5718</td><td>772.5778</td><td>791.3272</td><td>797.5172</td><td>800.3407</td><td>802.1609</td><td>807.2222</td><td>0.3806731</td><td>0.3191145</td><td>0.3496975</td><td>0.3789004</td><td>0.4125264</td><td>0.4748936</td><td>0.584393</td><td>1.245255</td><td>17.6461</td><td>17.6739</td><td>17.6575</td><td>17.6433</td><td>17.6362</td><td>17.6333</td><td>17.6316</td><td>17.6284</td><td>0.0003</td><td>0.0003</td><td>0.0004</td><td>0.0005</td><td>0.0007</td><td>0.0009</td><td>0.0013</td><td>0.0027</td><td>317.3768</td><td>309.338</td><td>314.0401</td><td>318.1894</td><td>320.2822</td><td>321.1365</td><td>321.6249</td><td>322.5856</td><td>0.08982559</td><td>0.08169378</td><td>0.1082857</td><td>0.1496689</td><td>0.2045306</td><td>0.2796458</td><td>0.3827198</td><td>0.8105959</td><td>17.0034</td><td>16.1760</td><td>16.1487</td><td>16.1592</td><td>16.1661</td><td>16.1683</td><td>16.1672</td><td>16.1512</td><td>0.0011</td><td>0.0005</td><td>0.0005</td><td>0.0005</td><td>0.0007</td><td>0.0009</td><td>0.0013</td><td>0.0037</td><td>573.6495</td><td>1229.118</td><td>1260.439</td><td>1248.321</td><td>1240.401</td><td>1237.851</td><td>1239.186</td><td>1257.532</td><td>0.6067348</td><td>0.5106986</td><td>0.5494424</td><td>0.6188447</td><td>0.755584</td><td>1.046562</td><td>1.528962</td><td>4.311911</td><td>21.1989</td><td>16.8437</td><td>16.5661</td><td>16.5057</td><td>16.4815</td><td>16.4674</td><td>16.4562</td><td>16.4278</td><td>0.0337</td><td>0.0005</td><td>0.0005</td><td>0.0005</td><td>0.0006</td><td>0.0009</td><td>0.0014</td><td>0.0037</td><td>12.0353</td><td>664.512</td><td>858.1811</td><td>907.245</td><td>927.642</td><td>939.8199</td><td>949.5891</td><td>974.7128</td><td>0.3736792</td><td>0.317772</td><td>0.3565389</td><td>0.4144259</td><td>0.5275583</td><td>0.7675022</td><td>1.186385</td><td>3.305939</td><td>18.6972</td><td>16.8357</td><td>16.6059</td><td>16.5429</td><td>16.5194</td><td>16.5081</td><td>16.5011</td><td>16.4848</td><td>0.0038</td><td>0.0006</td><td>0.0005</td><td>0.0005</td><td>0.0006</td><td>0.0007</td><td>0.0010</td><td>0.0026</td><td>120.5316</td><td>669.4503</td><td>827.2554</td><td>876.7035</td><td>895.8345</td><td>905.2654</td><td>911.1213</td><td>924.8556</td><td>0.4189012</td><td>0.355896</td><td>0.3949229</td><td>0.433553</td><td>0.4945486</td><td>0.6163787</td><td>0.8401984</td><td>2.172919</td><td>-99.0000</td><td>-99.0000</td><td>-99.0000</td><td>-99.0000</td><td>-99.0000</td><td>-99.0000</td><td>-99.0000</td><td>-99.0000</td><td>-99.0000</td><td>-99.0000</td><td>-99.0000</td><td>-99.0000</td><td>-99.0000</td><td>-99.0000</td><td>-99.0000</td><td>-99.0000</td><td>-99</td><td>-99</td><td>-99</td><td>-99</td><td>-99</td><td>-99</td><td>-99</td><td>-99</td><td>0</td><td>0</td><td>0</td><td>0</td><td>0</td><td>0</td><td>0</td><td>0</td><td>-99.0000</td><td>-99.0000</td><td>-99.0000</td><td>-99.0000</td><td>-99.0000</td><td>-99.0000</td><td>-99.0000</td><td>-99.0000</td><td>-99.0000</td><td>-99.0000</td><td>-99.0000</td><td>-99.0000</td><td>-99.0000</td><td>-99.0000</td><td>-99.0000</td><td>-99.0000</td><td>-99</td><td>-99</td><td>-99</td><td>-99</td><td>-99</td><td>-99</td><td>-99</td><td>-99</td><td>0</td><td>0</td><td>0</td><td>0</td><td>0</td><td>0</td><td>0</td><td>0</td><td>-99.0000</td><td>-99.0000</td><td>-99.0000</td><td>-99.0000</td><td>-99.0000</td><td>-99.0000</td><td>-99.0000</td><td>-99.0000</td><td>-99.0000</td><td>-99.0000</td><td>-99.0000</td><td>-99.0000</td><td>-99.0000</td><td>-99.0000</td><td>-99.0000</td><td>-99.0000</td><td>-99</td><td>-99</td><td>-99</td><td>-99</td><td>-99</td><td>-99</td><td>-99</td><td>-99</td><td>0</td><td>0</td><td>0</td><td>0</td><td>0</td><td>0</td><td>0</td><td>0</td><td>-99.0000</td><td>-99.0000</td><td>-99.0000</td><td>-99.0000</td><td>-99.0000</td><td>-99.0000</td><td>-99.0000</td><td>-99.0000</td><td>-99.0000</td><td>-99.0000</td><td>-99.0000</td><td>-99.0000</td><td>-99.0000</td><td>-99.0000</td><td>-99.0000</td><td>-99.0000</td><td>-99</td><td>-99</td><td>-99</td><td>-99</td><td>-99</td><td>-99</td><td>-99</td><td>-99</td><td>0</td><td>0</td><td>0</td><td>0</td><td>0</td><td>0</td><td>0</td><td>0</td><td>-99.0000</td><td>-99.0000</td><td>-99.0000</td><td>-99.0000</td><td>-99.0000</td><td>-99.0000</td><td>-99.0000</td><td>-99.0000</td><td>-99.0000</td><td>-99.0000</td><td>-99.0000</td><td>-99.0000</td><td>-99.0000</td><td>-99.0000</td><td>-99.0000</td><td>-99.0000</td><td>-99</td><td>-99</td><td>-99</td><td>-99</td><td>-99</td><td>-99</td><td>-99</td><td>-99</td><td>0</td><td>0</td><td>0</td><td>0</td><td>0</td><td>0</td><td>0</td><td>0</td><td>-99.0000</td><td>-99.0000</td><td>-99.0000</td><td>-99.0000</td><td>-99.0000</td><td>-99.0000</td><td>-99.0000</td><td>-99.0000</td><td>-99.0000</td><td>-99.0000</td><td>-99.0000</td><td>-99.0000</td><td>-99.0000</td><td>-99.0000</td><td>-99.0000</td><td>-99.0000</td><td>-99</td><td>-99</td><td>-99</td><td>-99</td><td>-99</td><td>-99</td><td>-99</td><td>-99</td><td>0</td><td>0</td><td>0</td><td>0</td><td>0</td><td>0</td><td>0</td><td>0</td><td>15.9068</td><td>15.9434</td><td>15.9540</td><td>15.9576</td><td>15.9569</td><td>15.9534</td><td>15.9488</td><td>15.9300</td><td>0.0013</td><td>0.0009</td><td>0.0010</td><td>0.0011</td><td>0.0014</td><td>0.0018</td><td>0.0025</td><td>0.0056</td><td>1574.961</td><td>1522.77</td><td>1507.949</td><td>1503.033</td><td>1503.926</td><td>1508.765</td><td>1515.185</td><td>1541.718</td><td>1.901111</td><td>1.281219</td><td>1.327276</td><td>1.564058</td><td>1.958417</td><td>2.543359</td><td>3.453583</td><td>7.954752</td><td>16.0228</td><td>16.3123</td><td>16.4301</td><td>16.4666</td><td>16.4760</td><td>16.4790</td><td>16.4760</td><td>16.4652</td><td>0.0014</td><td>0.0013</td><td>0.0017</td><td>0.0023</td><td>0.0032</td><td>0.0044</td><td>0.0062</td><td>0.0142</td><td>1415.4</td><td>1084.111</td><td>972.6312</td><td>940.5427</td><td>932.4307</td><td>929.8123</td><td>932.3696</td><td>941.736</td><td>1.781529</td><td>1.274106</td><td>1.498896</td><td>2.012879</td><td>2.754123</td><td>3.790242</td><td>5.304479</td><td>12.33252</td><td>7</td><td>lofar</td><td>245.55629702388072</td><td>54.841769094171426</td><td>0.4667056</td><td>1.1837785</td><td>0.12740567</td><td>14.895493</td><td>19.234793</td><td>10.540677</td><td>17.78888</td><td>23.34265</td><td>12.398614</td><td>-0.7007863</td><td>1.3349718</td><td>1.225545</td><td>0.31379002</td><td>0.18847793</td><td>0.38512367</td><td>0.9992512</td><td>1.004647</td><td>1.0012473</td><td>1691.2772</td><td>2081.499</td><td>1438.9949</td><td>0.008</td><td>0.0</td><td>0.0</td><td>nan</td><td>-99</td><td>True</td><td>radio_position</td></tr>\n",
       "</table>"
      ],
      "text/plain": [
       "<Table masked=True length=1>\n",
       "Source_id Isl_id        RA_1       ... flag_optnir_det XID_rerun  source_type  \n",
       "                        deg        ...                                         \n",
       "  int32   int32       float64      ...      int16         bool       str14     \n",
       "--------- ------ ----------------- ... --------------- --------- --------------\n",
       "    11198  11231 245.5596019712882 ...             -99      True radio_position"
      ]
     },
     "execution_count": 141,
     "metadata": {},
     "output_type": "execute_result"
    }
   ],
   "source": [
    "lofar_fir"
   ]
  },
  {
   "cell_type": "code",
   "execution_count": 147,
   "metadata": {},
   "outputs": [
    {
     "data": {
      "text/plain": [
       "True"
      ]
     },
     "execution_count": 147,
     "metadata": {},
     "output_type": "execute_result"
    }
   ],
   "source": [
    "os.path.exists('data/fir_v2/xidplus_run_3')"
   ]
  },
  {
   "cell_type": "code",
   "execution_count": 9,
   "metadata": {},
   "outputs": [
    {
     "data": {
      "text/plain": [
       "32833"
      ]
     },
     "execution_count": 9,
     "metadata": {},
     "output_type": "execute_result"
    }
   ],
   "source": [
    "len(lofar)"
   ]
  },
  {
   "cell_type": "code",
   "execution_count": null,
   "metadata": {},
   "outputs": [],
   "source": []
  }
 ],
 "metadata": {
  "kernelspec": {
   "display_name": "Python 3",
   "language": "python",
   "name": "python3"
  },
  "language_info": {
   "codemirror_mode": {
    "name": "ipython",
    "version": 3
   },
   "file_extension": ".py",
   "mimetype": "text/x-python",
   "name": "python",
   "nbconvert_exporter": "python",
   "pygments_lexer": "ipython3",
   "version": "3.6.7"
  }
 },
 "nbformat": 4,
 "nbformat_minor": 2
}
