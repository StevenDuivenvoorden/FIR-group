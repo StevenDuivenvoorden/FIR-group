{
 "cells": [
  {
   "cell_type": "markdown",
   "metadata": {},
   "source": [
    "# Notebook for preprocessing the LOFAR catalogues before XID+\n",
    "\n",
    "it outputs a modified LOFAR radio data table with two new columns. the first column is XID+_rerun and is a boolean array stating whether a source should ahve XID+ rerun or not. The second is a string column that says what where the fir for that source comes from."
   ]
  },
  {
   "cell_type": "code",
   "execution_count": 175,
   "metadata": {},
   "outputs": [],
   "source": [
    "from astropy.io import ascii, fits\n",
    "import astropy\n",
    "import pylab as plt\n",
    "%matplotlib inline\n",
    "from astropy import wcs\n",
    "from astropy.table import Table,Column,join,hstack,vstack\n",
    "from astropy.coordinates import SkyCoord\n",
    "from astropy import units as u\n",
    "import pymoc\n",
    "import glob\n",
    "from time import sleep\n",
    "import os\n",
    "\n",
    "\n",
    "import numpy as np\n",
    "import xidplus\n",
    "from xidplus import moc_routines\n",
    "import pickle\n",
    "import xidplus.catalogue as cat\n",
    "\n",
    "import sys\n",
    "from herschelhelp_internal.utils import inMoc,flux_to_mag\n",
    "from xidplus.stan_fit import SPIRE\n",
    "\n",
    "import aplpy\n",
    "import seaborn as sns\n",
    "#sns.set(color_codes=True)\n",
    "import pandas as pd\n",
    "#sns.set_style(\"white\")\n",
    "import xidplus.posterior_maps as postmaps\n",
    "from herschelhelp_internal.masterlist import merge_catalogues, nb_merge_dist_plot, specz_merge\n",
    "import pyvo as vo\n",
    "from herschelhelp_internal.utils import inMoc\n",
    "\n",
    "\n"
   ]
  },
  {
   "cell_type": "code",
   "execution_count": 2,
   "metadata": {},
   "outputs": [],
   "source": [
    "#Read in the LOFAR data, both optical and radio\n",
    "lofar_rad = Table.read('data/radio/LH_ML_RUN_fin_overlap_srl_workflow.fits')\n",
    "lofar_opt = Table.read('data/edited_cats/optical/LH_MASTER_opt_spitzer_merged_cedit_apcorr.fits')\n",
    "lofar_opt.rename_column('ALPHA_J2000','ra')\n",
    "lofar_opt.rename_column('DELTA_J2000','dec')"
   ]
  },
  {
   "cell_type": "code",
   "execution_count": 3,
   "metadata": {},
   "outputs": [],
   "source": [
    "#Merge the two catalogues \n",
    "mask = ~np.isnan(lofar_rad['lr_index_fin'])\n",
    "lofar = hstack([lofar_rad[mask],lofar_opt[lofar_rad[mask]['lr_index_fin'].astype(int)]])"
   ]
  },
  {
   "cell_type": "code",
   "execution_count": 4,
   "metadata": {},
   "outputs": [],
   "source": [
    "#Read in the HELP masterlist and select the wanted columns\n",
    "columns = 'ra','dec','help_id','f_spire_250','ferr_spire_250','flag_spire_250','f_spire_350','ferr_spire_350','flag_spire_350','f_spire_500','ferr_spire_500','flag_spire_500','flag_optnir_det','f_mips_24'\n",
    "masterlist = Table.read('../../../../../HELP/dmu_products/dmu32/dmu32_Lockman-SWIRE/data/Lockman-SWIRE_20180219.fits')\n",
    "help_masterlist = masterlist[columns]"
   ]
  },
  {
   "cell_type": "code",
   "execution_count": 5,
   "metadata": {},
   "outputs": [],
   "source": [
    "#Read in the Ldust prdictions from CIGALE\n",
    "#when these are on the VO i will change code to read it in from then\n",
    "ldust = Table.read('../../../../../HELP/dmu_products/dmu28/dmu28_Lockman-SWIRE/data/Lockman-SWIRE_Ldust_prediction_results.fits') \n",
    "ldust.rename_column('id','help_id')\n",
    "ldust['help_id'] = ldust['help_id'].astype(str)\n",
    "#join Ldust predictions with the help table\n",
    "ldust_id = [name[:-6] for name in list(ldust['help_id'])]\n",
    "ldust['help_id'] = np.array(ldust_id)\n",
    "ldust_cols = ['help_id','bayes.dust.luminosity','bayes.dust.luminosity_err','best.universe.redshift']\n",
    "ldust = ldust[ldust_cols]\n",
    "\n",
    "\n",
    "help_masterlist_ldust = join(help_masterlist,ldust,keys='help_id',join_type='outer')\n",
    "\n"
   ]
  },
  {
   "cell_type": "code",
   "execution_count": 165,
   "metadata": {},
   "outputs": [],
   "source": [
    "#compute the predicted flux from the dust and usethis to construct the prior\n",
    "from astropy.cosmology import Planck15 as cosmo\n",
    "from astropy import units as u\n",
    "f_pred=help_masterlist_ldust['bayes.dust.luminosity']/(4*np.pi*cosmo.luminosity_distance(help_masterlist_ldust['best.universe.redshift']).to(u.cm))\n",
    "mask = np.isfinite(f_pred)\n",
    "ldust_mask = (np.log10(f_pred)>8.5) & (np.isfinite(f_pred))\n",
    "mips_mask = (help_masterlist['flag_optnir_det']>=5) & (help_masterlist['f_mips_24']>20)\n",
    "\n",
    "\n",
    "prior_cat = help_masterlist_ldust[ldust_mask | mips_mask]\n",
    "#xid_rerun = Column(name='XID_rerun',data=np.zeros(len(prior_cat))-99)\n",
    "#prior_cat.add_column(xid_rerun)"
   ]
  },
  {
   "cell_type": "code",
   "execution_count": null,
   "metadata": {},
   "outputs": [],
   "source": []
  },
  {
   "cell_type": "code",
   "execution_count": 166,
   "metadata": {},
   "outputs": [],
   "source": [
    "lofar_coords = SkyCoord(lofar['ra'],lofar['dec'],unit='deg')\n",
    "prior_coords = SkyCoord(prior_cat['ra'],prior_cat['dec'],unit='deg')\n",
    "radius = 2\n",
    "idx_prior, idx_lofar, d2d, d3d = lofar_coords.search_around_sky(\n",
    "    prior_coords, radius*u.arcsec)"
   ]
  },
  {
   "cell_type": "code",
   "execution_count": 173,
   "metadata": {},
   "outputs": [],
   "source": [
    "not_crossmatched = [i for i in range(len(lofar)) if i not in idx_lofar]"
   ]
  },
  {
   "cell_type": "code",
   "execution_count": 193,
   "metadata": {},
   "outputs": [
    {
     "name": "stderr",
     "output_type": "stream",
     "text": [
      "WARNING: MergeConflictWarning: Cannot merge meta key 'EXTNAME' types <class 'str'> and <class 'str'>, choosing EXTNAME='/data06/HELP/DATA/Ldust_prediction/out/results.fits#1' [astropy.utils.metadata]\n",
      "WARNING:astropy:MergeConflictWarning: Cannot merge meta key 'EXTNAME' types <class 'str'> and <class 'str'>, choosing EXTNAME='/data06/HELP/DATA/Ldust_prediction/out/results.fits#1'\n"
     ]
    }
   ],
   "source": [
    "merged_lofar_prior = hstack([lofar[idx_lofar],prior_cat[idx_prior]])"
   ]
  },
  {
   "cell_type": "code",
   "execution_count": 194,
   "metadata": {},
   "outputs": [
    {
     "name": "stderr",
     "output_type": "stream",
     "text": [
      "WARNING: MergeConflictWarning: Cannot merge meta key 'EXTNAME' types <class 'str'> and <class 'str'>, choosing EXTNAME='LDAC_OBJECTS' [astropy.utils.metadata]\n",
      "WARNING:astropy:MergeConflictWarning: Cannot merge meta key 'EXTNAME' types <class 'str'> and <class 'str'>, choosing EXTNAME='LDAC_OBJECTS'\n"
     ]
    }
   ],
   "source": [
    "merged_lofar_prior.rename_column('ra_1','ra')\n",
    "merged_lofar_prior.rename_column('dec_1','dec')\n",
    "merged_lofar_prior = vstack([merged_lofar_prior,lofar[not_crossmatched]])"
   ]
  },
  {
   "cell_type": "code",
   "execution_count": 212,
   "metadata": {},
   "outputs": [],
   "source": [
    "rerun_col = Column(data=merged_lofar_prior['f_spire_250'].mask,name='xid+_rerun',dtype=bool)\n",
    "merged_lofar_prior.add_column(rerun_col)"
   ]
  },
  {
   "cell_type": "code",
   "execution_count": 215,
   "metadata": {},
   "outputs": [],
   "source": [
    "lofar_coords = SkyCoord(merged_lofar_prior['ra'],merged_lofar_prior['dec'],unit='deg')\n",
    "prior_coords = SkyCoord(prior_cat['ra'],prior_cat['dec'],unit='deg')\n",
    "radius = 2\n",
    "idx_prior, idx_lofar, d2d, d3d = lofar_coords.search_around_sky(\n",
    "    prior_coords, radius*u.arcsec)"
   ]
  },
  {
   "cell_type": "code",
   "execution_count": 257,
   "metadata": {},
   "outputs": [],
   "source": [
    "uniq_ids_prior,counts_prior = np.unique(idx_lofar,return_counts=True)\n",
    "source_type = np.zeros(len(merged_lofar_prior))\n",
    "source_type[uniq_ids_prior] = counts_prior"
   ]
  },
  {
   "cell_type": "code",
   "execution_count": 220,
   "metadata": {},
   "outputs": [],
   "source": [
    "#there may be a problem here NEEDS TO BE DOUBLE CHECKED\n",
    "min_d2d_prior_val = [np.min(d2d[idx_lofar==i].value) for i in uniq_ids_prior]\n",
    "min_d2d_prior = np.ones(len(merged_lofar_prior))\n",
    "min_d2d_prior[uniq_ids_prior] = min_d2d_prior_val"
   ]
  },
  {
   "cell_type": "code",
   "execution_count": 221,
   "metadata": {},
   "outputs": [],
   "source": [
    "lofar_coords = SkyCoord(merged_lofar_prior['ra'],merged_lofar_prior['dec'],unit='deg')\n",
    "help_coords = SkyCoord(help_masterlist_ldust['ra'],help_masterlist_ldust['dec'],unit='deg')\n",
    "radius = 2\n",
    "idx_help, idx_lofar, d2d, d3d = lofar_coords.search_around_sky(\n",
    "    help_coords, radius*u.arcsec)"
   ]
  },
  {
   "cell_type": "code",
   "execution_count": 222,
   "metadata": {},
   "outputs": [],
   "source": [
    "uniq_ids_help,counts_help = np.unique(idx_lofar,return_counts=True)\n",
    "source_type_help = np.zeros(len(merged_lofar_prior))\n",
    "source_type_help[uniq_ids_help] = counts_help"
   ]
  },
  {
   "cell_type": "code",
   "execution_count": 224,
   "metadata": {},
   "outputs": [],
   "source": [
    "min_d2d_help_val = [np.min(d2d[idx_lofar==i].value) for i in uniq_ids_help]\n",
    "min_d2d_help = np.ones(len(merged_lofar_prior))\n",
    "min_d2d_help[uniq_ids_help] = min_d2d_help_val"
   ]
  },
  {
   "cell_type": "code",
   "execution_count": 250,
   "metadata": {},
   "outputs": [
    {
     "data": {
      "image/png": "[encoded data removed]",
      "text/plain": [
       "<Figure size 432x288 with 1 Axes>"
      ]
     },
     "metadata": {
      "needs_background": "light"
     },
     "output_type": "display_data"
    }
   ],
   "source": [
    "bins = np.arange(0,2,0.01)\n",
    "plt.hist(min_d2d_help*3600,bins=bins)\n",
    "plt.hist(min_d2d_prior*3600,bins=bins)\n",
    "plt.show()"
   ]
  },
  {
   "cell_type": "code",
   "execution_count": 258,
   "metadata": {},
   "outputs": [],
   "source": [
    "source_class = np.where((min_d2d_help<min_d2d_prior),'nearer_non_prior','nearest_prior')\n",
    "source_class = np.where((min_d2d_help==min_d2d_prior),'no nearby sources',source_class)\n",
    "#source_class = np.array(['nearest_prior' for i in range(len(merged_lofar_prior))])\n",
    "source_class = np.where(source_type==0,'radio_position',source_class)\n",
    "source_class = np.where(source_type>1,'multiple_prior',source_class)\n",
    "\n",
    "source_class = source_class.astype('U42')\n",
    "\n",
    "mask = (source_type>0) & (min_d2d_help>min_d2d_prior)\n",
    "for i,source in enumerate(source_class):\n",
    "    if mask[i]==True:\n",
    "\n",
    "        source_class[i] = source_class[i] + '_with_nearer_non_prior'\n"
   ]
  },
  {
   "cell_type": "code",
   "execution_count": 262,
   "metadata": {},
   "outputs": [],
   "source": [
    "class_col = Column(data=source_class,name='prior_type')\n",
    "merged_lofar_prior.add_column(class_col)"
   ]
  },
  {
   "cell_type": "code",
   "execution_count": 267,
   "metadata": {},
   "outputs": [],
   "source": [
    "colnames_keep = ['Source_id',\n",
    " 'Isl_id',\n",
    " 'RA',\n",
    " 'E_RA',\n",
    " 'DEC',\n",
    " 'E_DEC',\n",
    " 'Total_flux',\n",
    " 'E_Total_flux',\n",
    " 'Peak_flux',\n",
    " 'E_Peak_flux',\n",
    " 'RA_max',\n",
    " 'E_RA_max',\n",
    " 'DEC_max',\n",
    " 'E_DEC_max',\n",
    " 'Maj',\n",
    " 'E_Maj',\n",
    " 'Min',\n",
    " 'E_Min',\n",
    " 'PA',\n",
    " 'E_PA',\n",
    " 'Maj_img_plane',\n",
    " 'E_Maj_img_plane',\n",
    " 'Min_img_plane',\n",
    " 'E_Min_img_plane',\n",
    " 'PA_img_plane',\n",
    " 'E_PA_img_plane',\n",
    " 'DC_Maj',\n",
    " 'E_DC_Maj',\n",
    " 'DC_Min',\n",
    " 'E_DC_Min',\n",
    " 'DC_PA',\n",
    " 'E_DC_PA',\n",
    " 'DC_Maj_img_plane',\n",
    " 'E_DC_Maj_img_plane',\n",
    " 'DC_Min_img_plane',\n",
    " 'E_DC_Min_img_plane',\n",
    " 'DC_PA_img_plane',\n",
    " 'E_DC_PA_img_plane',\n",
    " 'Isl_Total_flux',\n",
    " 'E_Isl_Total_flux',\n",
    " 'Isl_rms',\n",
    " 'Isl_mean',\n",
    " 'Resid_Isl_rms',\n",
    " 'Resid_Isl_mean',\n",
    " 'S_Code',\n",
    " 'FLAG_OVERLAP_1',\n",
    " 'flag_clean_1',\n",
    " 'Source_Name',\n",
    " 'lr_fin',\n",
    " 'lr_dist_fin',\n",
    " 'lr_index_fin',\n",
    " 'ra',\n",
    " 'dec',\n",
    " 'ra_2',\n",
    " 'dec_2',\n",
    " 'help_id',\n",
    " 'f_spire_250',\n",
    " 'ferr_spire_250',\n",
    " 'flag_spire_250',\n",
    " 'f_spire_350',\n",
    " 'ferr_spire_350',\n",
    " 'flag_spire_350',\n",
    " 'f_spire_500',\n",
    " 'ferr_spire_500',\n",
    " 'flag_spire_500',\n",
    " 'flag_optnir_det',\n",
    " 'f_mips_24',\n",
    " 'bayes.dust.luminosity',\n",
    " 'bayes.dust.luminosity_err',\n",
    " 'best.universe.redshift',\n",
    " 'xid+_rerun',\n",
    " 'prior_type']"
   ]
  },
  {
   "cell_type": "code",
   "execution_count": 268,
   "metadata": {},
   "outputs": [],
   "source": [
    "merged_lofar_prior = merged_lofar_prior[colnames_keep]"
   ]
  },
  {
   "cell_type": "code",
   "execution_count": 269,
   "metadata": {},
   "outputs": [],
   "source": [
    "Table.write(merged_lofar_prior,'data/xid+_prepared_cat.fits')"
   ]
  },
  {
   "cell_type": "code",
   "execution_count": null,
   "metadata": {},
   "outputs": [],
   "source": []
  }
 ],
 "metadata": {
  "kernelspec": {
   "display_name": "Python 3",
   "language": "python",
   "name": "python3"
  },
  "language_info": {
   "codemirror_mode": {
    "name": "ipython",
    "version": 3
   },
   "file_extension": ".py",
   "mimetype": "text/x-python",
   "name": "python",
   "nbconvert_exporter": "python",
   "pygments_lexer": "ipython3",
   "version": "3.7.3"
  }
 },
 "nbformat": 4,
 "nbformat_minor": 2
}
