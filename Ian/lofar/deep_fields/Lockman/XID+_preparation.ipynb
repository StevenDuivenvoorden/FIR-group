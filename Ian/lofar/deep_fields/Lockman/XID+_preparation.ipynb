{
 "cells": [
  {
   "cell_type": "markdown",
   "metadata": {},
   "source": [
    "# Notebook for preprocessing the LOFAR catalogues before XID+\n",
    "\n",
    "it outputs a modified LOFAR radio data table with two new columns. the first column is XID+_rerun and is a boolean array stating whether a source should ahve XID+ rerun or not. The second is a string column that says what where the fir for that source comes from."
   ]
  },
  {
   "cell_type": "code",
   "execution_count": 1,
   "metadata": {},
   "outputs": [],
   "source": [
    "from astropy.io import ascii, fits\n",
    "import astropy\n",
    "import pylab as plt\n",
    "%matplotlib inline\n",
    "from astropy import wcs\n",
    "from astropy.table import Table,Column,join,hstack,vstack\n",
    "from astropy.coordinates import SkyCoord\n",
    "from astropy import units as u\n",
    "import pymoc\n",
    "import glob\n",
    "from time import sleep\n",
    "import os\n",
    "import pymoc\n",
    "import mocpy\n",
    "\n",
    "import numpy as np\n",
    "import xidplus\n",
    "from xidplus import moc_routines\n",
    "import pickle\n",
    "import xidplus.catalogue as cat\n",
    "\n",
    "import sys\n",
    "#from herschelhelp_internal.utils import inMoc,flux_to_mag\n",
    "from xidplus.stan_fit import SPIRE\n",
    "\n",
    "import aplpy\n",
    "import seaborn as sns\n",
    "#sns.set(color_codes=True)\n",
    "import pandas as pd\n",
    "#sns.set_style(\"white\")\n",
    "import xidplus.posterior_maps as postmaps\n",
    "#from herschelhelp_internal.masterlist import merge_catalogues, nb_merge_dist_plot, specz_merge\n",
    "import pyvo as vo\n",
    "#from herschelhelp_internal.utils import inMoc\n",
    "from pymoc.io.fits import read_moc_fits\n",
    "\n"
   ]
  },
  {
   "cell_type": "code",
   "execution_count": 2,
   "metadata": {},
   "outputs": [],
   "source": [
    "def best_irac(swire,servs):\n",
    "    mask = np.isnan(swire)\n",
    "    swire[mask] = 10000\n",
    "    mask = np.isnan(servs)\n",
    "    servs[mask] = 10000\n",
    "    swire_mask = swire<servs\n",
    "    return(swire_mask)"
   ]
  },
  {
   "cell_type": "code",
   "execution_count": 6,
   "metadata": {},
   "outputs": [
    {
     "name": "stdout",
     "output_type": "stream",
     "text": [
      "SPIRE covers: 22.413863402949218sq degrees\n",
      "PACS covers: 10.331753949911489sq degrees\n",
      "MIPS covers: 10.794021152937951sq degrees\n"
     ]
    }
   ],
   "source": [
    "lofar = Table.read('data/LH_opt_spitzer_merged_vac_opt3as_irac4as_all_hpx_public.fits')\n",
    "\n",
    "mask = ~np.isnan(lofar['F_SPIRE_250'])\n",
    "c = SkyCoord(lofar['RA'][mask],lofar['DEC'][mask],unit='deg')\n",
    "#spire_moc = pymoc.util.catalog.catalog_to_moc(c,15,12)\n",
    "spire_moc = pymoc.moc.MOC()\n",
    "read_moc_fits(spire_moc,'/lustre/scratch/astro/im281/HELP/dmu_products/dmu2/dmu2_field_coverages/Lockman-SWIRE_MOC.fits')\n",
    "print('SPIRE covers: {}sq degrees'.format(spire_moc.area_sq_deg))\n",
    "\n",
    "mask = ~np.isnan(lofar['F_PACS_100'])\n",
    "c = SkyCoord(lofar['RA'][mask],lofar['DEC'][mask],unit='deg')\n",
    "pacs_moc = pymoc.util.catalog.catalog_to_moc(c,15,12)\n",
    "print('PACS covers: {}sq degrees'.format(pacs_moc.area_sq_deg))\n",
    "\n",
    "mask = ~np.isnan(lofar['F_MIPS_24'])\n",
    "c = SkyCoord(lofar['RA'][mask],lofar['DEC'][mask],unit='deg')\n",
    "mips_moc = pymoc.util.catalog.catalog_to_moc(c,15,12)\n",
    "print('MIPS covers: {}sq degrees'.format(mips_moc.area_sq_deg))"
   ]
  },
  {
   "cell_type": "code",
   "execution_count": 4,
   "metadata": {},
   "outputs": [
    {
     "name": "stdout",
     "output_type": "stream",
     "text": [
      "MIPS covers: 17.977005601837728sq degrees\n"
     ]
    }
   ],
   "source": [
    "imfolder='../../../../../HELP/dmu_products/dmu17/dmu17_HELP_Legacy_maps/Lockman-SWIRE/data/'\n",
    "\n",
    "pswfits=imfolder+'wp4_lockman-swire_mips24_map_v1.0.fits.gz'#SPIRE 250 map\n",
    "\n",
    "MIPS_Map = fits.open(pswfits)\n",
    "\n",
    "#-----250-------------\n",
    "hdulist = fits.open(pswfits)\n",
    "im250phdu=hdulist[0].header\n",
    "im250hdu=hdulist[1].header\n",
    "mips_moc = mocpy.MOC.from_image(im250hdu,15)\n",
    "\n",
    "mips_moc.write('data/data_release/final_mocs/mips_moc_Lockman.fits',format='fits',overwrite=True)\n",
    "\n",
    "mips_moc = pymoc.moc.MOC()\n",
    "read_moc_fits(mips_moc,'data/data_release/final_mocs/mips_moc_Lockman.fits')\n",
    "print('MIPS covers: {}sq degrees'.format(mips_moc.area_sq_deg))"
   ]
  },
  {
   "cell_type": "code",
   "execution_count": 5,
   "metadata": {},
   "outputs": [
    {
     "name": "stdout",
     "output_type": "stream",
     "text": [
      "PACS covers: 32.20707401227812sq degrees\n"
     ]
    }
   ],
   "source": [
    "imfolder='../../../../../HELP/dmu_products/dmu18/dmu18_HELP-PACS-maps/data/'\n",
    "\n",
    "im100fits=imfolder + 'Lockman-SWIRE_PACS100_v0.9.fits'#PACS 100 map\n",
    "#-----100-------------\n",
    "hdulist = fits.open(im100fits)\n",
    "im100phdu=hdulist[0].header\n",
    "im100hdu=hdulist[1].header\n",
    "pacs_moc = mocpy.MOC.from_image(im100hdu,15)\n",
    "\n",
    "pacs_moc.write('data/data_release/final_mocs/pacs_moc_Lockman.fits',format='fits',overwrite=True)\n",
    "\n",
    "pacs_moc = pymoc.moc.MOC()\n",
    "read_moc_fits(pacs_moc,'data/data_release/final_mocs/pacs_moc_Lockman.fits')\n",
    "print('PACS covers: {}sq degrees'.format(pacs_moc.area_sq_deg))"
   ]
  },
  {
   "cell_type": "code",
   "execution_count": 6,
   "metadata": {},
   "outputs": [
    {
     "name": "stdout",
     "output_type": "stream",
     "text": [
      "SPIRE covers: 36.20155006580141sq degrees\n"
     ]
    }
   ],
   "source": [
    "imfolder='../../../../../HELP/dmu_products/dmu19/dmu19_HELP-SPIRE-maps/data/'\n",
    "\n",
    "pswfits=imfolder+'Lockman-SWIRE_SPIRE250_v1.0.fits'#SPIRE 250 map\n",
    "\n",
    "#-----250-------------\n",
    "hdulist = fits.open(pswfits)\n",
    "im250phdu=hdulist[0].header\n",
    "im250hdu=hdulist['image'].header\n",
    "spire_moc = mocpy.MOC.from_image(im250hdu,15)\n",
    "\n",
    "spire_moc.write('data/data_release/final_mocs/spire_moc_Lockman.fits',format='fits',overwrite=True)\n",
    "\n",
    "spire_moc = pymoc.moc.MOC()\n",
    "read_moc_fits(spire_moc,'data/data_release/final_mocs/spire_moc_Lockman.fits')\n",
    "print('SPIRE covers: {}sq degrees'.format(spire_moc.area_sq_deg))"
   ]
  },
  {
   "cell_type": "markdown",
   "metadata": {},
   "source": [
    "## Read in the LOFAR catalogues and work out which sources need to be rerun "
   ]
  },
  {
   "cell_type": "code",
   "execution_count": 3,
   "metadata": {},
   "outputs": [
    {
     "name": "stdout",
     "output_type": "stream",
     "text": [
      "11757\n",
      "768\n",
      "768\n"
     ]
    }
   ],
   "source": [
    "lofar = Table.read('data/data_release/final_cross_match_catalogue-v0.5.fits')\n",
    "mask = (~np.isnan(lofar['F_SPIRE_250'])) | (~np.isnan(lofar['F_SPIRE_350'])) | (~np.isnan(lofar['F_SPIRE_500']))\n",
    "lofar = lofar[~mask]\n",
    "print(len(lofar))\n",
    "\n",
    "ras = lofar['optRA']\n",
    "mask = np.isnan(ras)\n",
    "print(np.sum(mask))\n",
    "ras[mask] = lofar['RA'][mask]\n",
    "\n",
    "decs = lofar['optDec']\n",
    "mask = np.isnan(decs)\n",
    "print(np.sum(mask))\n",
    "decs[mask] = lofar['DEC'][mask]\n",
    "\n",
    "ids = lofar['Source_Name']"
   ]
  },
  {
   "cell_type": "code",
   "execution_count": 4,
   "metadata": {},
   "outputs": [],
   "source": [
    "cra = Column(ras,name='ra')\n",
    "cdec = Column(decs,name='dec')\n",
    "cids = Column(ids,name='help_id')\n",
    "cdet = Column(np.zeros(len(ras))-99,name='flag_optnir_det')\n",
    "cmips = Column(np.zeros(len(ras))*np.nan,name='f_mips_24')\n",
    "lofar_prior = Table()\n",
    "lofar_prior.add_columns([cra,cdec,cids,cdet,cmips])"
   ]
  },
  {
   "cell_type": "markdown",
   "metadata": {},
   "source": [
    "## Read in the HELP masterlist"
   ]
  },
  {
   "cell_type": "code",
   "execution_count": 5,
   "metadata": {},
   "outputs": [
    {
     "data": {
      "text/html": [
       "<i>Row index=0</i>\n",
       "<table id=\"table140736167440568\">\n",
       "<thead><tr><th>ra</th><th>dec</th><th>help_id</th><th>flag_optnir_det</th><th>f_irac_i1</th><th>f_irac_i2</th><th>f_irac_i3</th><th>f_irac_i4</th><th>f_mips_24</th><th>f_pacs_green</th><th>f_spire_250</th></tr></thead>\n",
       "<thead><tr><th>deg</th><th>deg</th><th></th><th></th><th></th><th></th><th>uJy</th><th>uJy</th><th>uJy</th><th>mJy</th><th>mJy</th></tr></thead>\n",
       "<thead><tr><th>float64</th><th>float64</th><th>bytes33</th><th>int64</th><th>float64</th><th>float64</th><th>float64</th><th>float64</th><th>float32</th><th>float32</th><th>float32</th></tr></thead>\n",
       "<tr><td>155.7719884600245</td><td>59.036624215749754</td><td>HELP_J102305.277+590211.847</td><td>1</td><td>nan</td><td>nan</td><td>nan</td><td>nan</td><td>nan</td><td>nan</td><td>nan</td></tr>\n",
       "</table>"
      ],
      "text/plain": [
       "<Row index=0>\n",
       "        ra               dec                   help_id           flag_optnir_det f_irac_i1 f_irac_i2 f_irac_i3 f_irac_i4 f_mips_24 f_pacs_green f_spire_250\n",
       "       deg               deg                                                                            uJy       uJy       uJy        mJy          mJy    \n",
       "     float64           float64                 bytes33                int64       float64   float64   float64   float64   float32    float32      float32  \n",
       "----------------- ------------------ --------------------------- --------------- --------- --------- --------- --------- --------- ------------ -----------\n",
       "155.7719884600245 59.036624215749754 HELP_J102305.277+590211.847               1       nan       nan       nan       nan       nan          nan         nan"
      ]
     },
     "execution_count": 5,
     "metadata": {},
     "output_type": "execute_result"
    }
   ],
   "source": [
    "columns = 'ra','dec','help_id','flag_optnir_det','f_irac_i1','f_irac_i2','f_irac_i3','f_irac_i4','f_mips_24','f_pacs_green','f_spire_250'\n",
    "masterlist = Table.read('../../../../../HELP/dmu_products/dmu32/dmu32_Lockman-SWIRE/data/Lockman-SWIRE_20180219.fits')\n",
    "help_masterlist = masterlist[columns]\n",
    "help_masterlist[0]"
   ]
  },
  {
   "cell_type": "markdown",
   "metadata": {},
   "source": [
    "## Create the prior catalogue using the MIPS priors"
   ]
  },
  {
   "cell_type": "code",
   "execution_count": 6,
   "metadata": {},
   "outputs": [
    {
     "name": "stdout",
     "output_type": "stream",
     "text": [
      "number of help prior sources is: 249732\n"
     ]
    }
   ],
   "source": [
    "mips_mask = (help_masterlist['flag_optnir_det']>=5) & (help_masterlist['f_mips_24']>20)\n",
    "\n",
    "prior_cat = help_masterlist[mips_mask]\n",
    "print('number of help prior sources is: {}'.format(len(prior_cat)))"
   ]
  },
  {
   "cell_type": "code",
   "execution_count": 7,
   "metadata": {},
   "outputs": [
    {
     "data": {
      "text/plain": [
       "261489"
      ]
     },
     "execution_count": 7,
     "metadata": {},
     "output_type": "execute_result"
    }
   ],
   "source": [
    "prior_cat = vstack([prior_cat,lofar_prior])\n",
    "len(prior_cat)"
   ]
  },
  {
   "cell_type": "code",
   "execution_count": 9,
   "metadata": {},
   "outputs": [
    {
     "data": {
      "image/png": "[encoded data removed]",
      "text/plain": [
       "<Figure size 432x288 with 1 Axes>"
      ]
     },
     "metadata": {
      "needs_background": "light"
     },
     "output_type": "display_data"
    }
   ],
   "source": [
    "x = help_masterlist['ra']\n",
    "y = help_masterlist['dec']\n",
    "plt.scatter(x,y,s=0.1,c='black')\n",
    "\n",
    "mips_mask = (help_masterlist['flag_optnir_det']>=5)\n",
    "x = help_masterlist['ra'][mips_mask]\n",
    "y = help_masterlist['dec'][mips_mask]\n",
    "plt.scatter(x,y,s=0.1,c='green')\n",
    "\n",
    "x = prior_cat['ra']\n",
    "y = prior_cat['dec']\n",
    "plt.scatter(x,y,s=0.1,c='red')\n",
    "\n",
    "\n",
    "plt.scatter(ras,decs,s=1,c='blue')\n",
    "\n",
    "plt.show()"
   ]
  },
  {
   "cell_type": "code",
   "execution_count": 52,
   "metadata": {},
   "outputs": [],
   "source": [
    "Table.write(prior_cat,'data/data_release/xidplus_prior_cat_rerun_mips.fits',overwrite=True)"
   ]
  },
  {
   "cell_type": "markdown",
   "metadata": {},
   "source": [
    "## Create the prior catalogue using the Ldust priors"
   ]
  },
  {
   "cell_type": "code",
   "execution_count": 10,
   "metadata": {},
   "outputs": [],
   "source": [
    "ldust = Table.read('../../../../../HELP/dmu_products/dmu28/dmu28_Lockman-SWIRE/data/Lockman-SWIRE_Ldust_prediction_results.fits')\n",
    "ldust.rename_column('id','help_id')\n",
    "for n in range(len(ldust)):\n",
    "    ldust[n]['help_id']=ldust[n]['help_id'].replace(' ','')"
   ]
  },
  {
   "cell_type": "code",
   "execution_count": 11,
   "metadata": {},
   "outputs": [],
   "source": [
    "ldust_coords = join(ldust,help_masterlist,keys='help_id',join_type='left')"
   ]
  },
  {
   "cell_type": "code",
   "execution_count": 12,
   "metadata": {},
   "outputs": [
    {
     "data": {
      "text/html": [
       "<i>Row index=0</i>\n",
       "<table id=\"table140736170335760\">\n",
       "<thead><tr><th>help_id</th><th>bayes.stellar.m_star</th><th>bayes.stellar.m_star_err</th><th>bayes.sfh.sfr10Myrs</th><th>bayes.sfh.sfr10Myrs_err</th><th>bayes.dust.luminosity</th><th>bayes.dust.luminosity_err</th><th>best.chi_square</th><th>best.reduced_chi_square</th><th>best.attenuation.Av_BC</th><th>best.attenuation.BC_to_ISM_factor</th><th>best.attenuation.bessell_b</th><th>best.attenuation.galex_fuv</th><th>best.attenuation.slope_BC</th><th>best.attenuation.slope_ISM</th><th>best.attenuation.stellar.old</th><th>best.attenuation.stellar.young</th><th>best.dust.alpha</th><th>best.dust.gamma</th><th>best.dust.luminosity</th><th>best.dust.mass</th><th>best.dust.qpah</th><th>best.dust.umin</th><th>best.lyc_absorption_f_dust</th><th>best.lyc_absorption_f_esc</th><th>best.sfh.age</th><th>best.sfh.burst_age</th><th>best.sfh.f_burst</th><th>best.sfh.integrated</th><th>best.sfh.sfr</th><th>best.sfh.sfr100Myrs</th><th>best.sfh.sfr10Myrs</th><th>best.sfh.tau_burst</th><th>best.sfh.tau_main</th><th>best.stellar.age_m_star</th><th>best.stellar.imf</th><th>best.stellar.lum_ly</th><th>best.stellar.lum_ly_old</th><th>best.stellar.lum_ly_young</th><th>best.stellar.m_gas</th><th>best.stellar.m_gas_old</th><th>best.stellar.m_gas_young</th><th>best.stellar.m_star</th><th>best.stellar.m_star_old</th><th>best.stellar.m_star_young</th><th>best.stellar.metallicity</th><th>best.stellar.n_ly</th><th>best.stellar.n_ly_old</th><th>best.stellar.n_ly_young</th><th>best.stellar.old_young_separation_age</th><th>best.universe.age</th><th>best.universe.luminosity_distance</th><th>best.universe.redshift</th><th>best.wfc_u</th><th>best.megacam_u</th><th>best.megacam_g</th><th>best.gpc1_g</th><th>best.wfc_g</th><th>best.gpc1_r</th><th>best.wfc_r</th><th>best.megacam_r</th><th>best.gpc1_i</th><th>best.megacam_i</th><th>best.megacam_y</th><th>best.wfc_i</th><th>best.gpc1_z</th><th>best.wfc_z</th><th>best.megacam_z</th><th>best.gpc1_y</th><th>best.ukidss_j</th><th>best.ukidss_k</th><th>best.irac_i1</th><th>best.irac_i2</th><th>best.irac_i3</th><th>best.irac_i4</th><th>best.mips_24</th><th>best.pacs_green</th><th>best.pacs_red</th><th>best.spire_250</th><th>best.spire_350</th><th>best.spire_500</th><th>ra</th><th>dec</th><th>flag_optnir_det</th><th>f_irac_i1</th><th>f_irac_i2</th><th>f_irac_i3</th><th>f_irac_i4</th><th>f_mips_24</th><th>f_pacs_green</th><th>f_spire_250</th></tr></thead>\n",
       "<thead><tr><th></th><th></th><th></th><th></th><th></th><th></th><th></th><th></th><th></th><th></th><th></th><th></th><th></th><th></th><th></th><th></th><th></th><th></th><th></th><th></th><th></th><th></th><th></th><th></th><th></th><th></th><th></th><th></th><th></th><th></th><th></th><th></th><th></th><th></th><th></th><th></th><th></th><th></th><th></th><th></th><th></th><th></th><th></th><th></th><th></th><th></th><th></th><th></th><th></th><th></th><th></th><th></th><th></th><th>mJy</th><th>mJy</th><th>mJy</th><th>mJy</th><th>mJy</th><th>mJy</th><th>mJy</th><th>mJy</th><th>mJy</th><th>mJy</th><th>mJy</th><th>mJy</th><th>mJy</th><th>mJy</th><th>mJy</th><th>mJy</th><th>mJy</th><th>mJy</th><th>mJy</th><th>mJy</th><th>mJy</th><th>mJy</th><th>mJy</th><th>mJy</th><th>mJy</th><th>mJy</th><th>mJy</th><th>mJy</th><th>deg</th><th>deg</th><th></th><th></th><th></th><th>uJy</th><th>uJy</th><th>uJy</th><th>mJy</th><th>mJy</th></tr></thead>\n",
       "<thead><tr><th>bytes33</th><th>float64</th><th>float64</th><th>float64</th><th>float64</th><th>float64</th><th>float64</th><th>float64</th><th>float64</th><th>float64</th><th>float64</th><th>float64</th><th>float64</th><th>float64</th><th>float64</th><th>float64</th><th>float64</th><th>float64</th><th>float64</th><th>float64</th><th>float64</th><th>float64</th><th>float64</th><th>float64</th><th>float64</th><th>float64</th><th>float64</th><th>float64</th><th>float64</th><th>float64</th><th>float64</th><th>float64</th><th>float64</th><th>float64</th><th>float64</th><th>float64</th><th>float64</th><th>float64</th><th>float64</th><th>float64</th><th>float64</th><th>float64</th><th>float64</th><th>float64</th><th>float64</th><th>float64</th><th>float64</th><th>float64</th><th>float64</th><th>float64</th><th>float64</th><th>float64</th><th>float64</th><th>float64</th><th>float64</th><th>float64</th><th>float64</th><th>float64</th><th>float64</th><th>float64</th><th>float64</th><th>float64</th><th>float64</th><th>float64</th><th>float64</th><th>float64</th><th>float64</th><th>float64</th><th>float64</th><th>float64</th><th>float64</th><th>float64</th><th>float64</th><th>float64</th><th>float64</th><th>float64</th><th>float64</th><th>float64</th><th>float64</th><th>float64</th><th>float64</th><th>float64</th><th>float64</th><th>int64</th><th>float64</th><th>float64</th><th>float64</th><th>float64</th><th>float32</th><th>float32</th><th>float32</th></tr></thead>\n",
       "<tr><td>HELP_J103755.490+592806.025</td><td>5604412346.505531</td><td>1070659840.429403</td><td>5.845980012139975</td><td>6.010488895730351</td><td>2.003748523970805e+37</td><td>1.3759500905290382e+37</td><td>75.78360855764737</td><td>18.945902139411842</td><td>2.8</td><td>0.5</td><td>1.896233573947713</td><td>4.491140701590342</td><td>-0.7</td><td>-0.7</td><td>1.1367687579411335e+37</td><td>1.2326699066642044e+37</td><td>2.0</td><td>0.02</td><td>2.369438664605338e+37</td><td>1.2937072401026876e+38</td><td>0.47</td><td>5.0</td><td>0.0</td><td>0.0</td><td>2500.0</td><td>10.0</td><td>0.001</td><td>9158179043.325256</td><td>6.351138944998894</td><td>5.507923162086263</td><td>6.349904297712362</td><td>10000.0</td><td>3000.0</td><td>907.548715023767</td><td>1.0</td><td>2.58301271179141e+36</td><td>1.355117639488918e+34</td><td>2.569461535396521e+36</td><td>3402142331.604237</td><td>3398017545.981012</td><td>4124785.6232251436</td><td>5756036668.891398</td><td>5696662454.367122</td><td>59374214.52427643</td><td>0.02</td><td>7.909108234720333e+53</td><td>4.06161354487228e+51</td><td>7.86849209927161e+53</td><td>10.0</td><td>7527.949072306243</td><td>1.2775728113550273e+26</td><td>0.68</td><td>0.00022993478651882037</td><td>0.0002440554965314313</td><td>0.0004048585617593933</td><td>0.00040636627766923723</td><td>0.00040743933416579947</td><td>0.0008730861915721103</td><td>0.0008718679753063824</td><td>0.0008871033886155384</td><td>0.001870919806343346</td><td>0.001862288665271551</td><td>0.0019313356246307095</td><td>0.0019359142594710939</td><td>0.0023019628418220945</td><td>0.0023078902290584466</td><td>0.002390749080629269</td><td>0.002732844756374034</td><td>0.003823753093091422</td><td>0.006800458449608271</td><td>0.007565527949133713</td><td>0.005584428627091305</td><td>0.005121825268087085</td><td>0.005815289504854415</td><td>0.0568758741497294</td><td>2.045884151785734</td><td>4.039374641860336</td><td>3.738050847993529</td><td>2.20094672000906</td><td>0.9944247615450231</td><td>159.4812079600245</td><td>59.46834031574975</td><td>3</td><td>nan</td><td>nan</td><td>nan</td><td>nan</td><td>nan</td><td>nan</td><td>nan</td></tr>\n",
       "</table>"
      ],
      "text/plain": [
       "<Row index=0>\n",
       "          help_id           bayes.stellar.m_star bayes.stellar.m_star_err bayes.sfh.sfr10Myrs bayes.sfh.sfr10Myrs_err bayes.dust.luminosity bayes.dust.luminosity_err  best.chi_square  best.reduced_chi_square best.attenuation.Av_BC best.attenuation.BC_to_ISM_factor best.attenuation.bessell_b best.attenuation.galex_fuv best.attenuation.slope_BC best.attenuation.slope_ISM best.attenuation.stellar.old best.attenuation.stellar.young best.dust.alpha best.dust.gamma  best.dust.luminosity     best.dust.mass     best.dust.qpah best.dust.umin best.lyc_absorption_f_dust best.lyc_absorption_f_esc best.sfh.age best.sfh.burst_age best.sfh.f_burst best.sfh.integrated    best.sfh.sfr   best.sfh.sfr100Myrs best.sfh.sfr10Myrs best.sfh.tau_burst best.sfh.tau_main best.stellar.age_m_star best.stellar.imf best.stellar.lum_ly  best.stellar.lum_ly_old best.stellar.lum_ly_young best.stellar.m_gas best.stellar.m_gas_old best.stellar.m_gas_young best.stellar.m_star best.stellar.m_star_old best.stellar.m_star_young best.stellar.metallicity   best.stellar.n_ly   best.stellar.n_ly_old best.stellar.n_ly_young best.stellar.old_young_separation_age best.universe.age best.universe.luminosity_distance best.universe.redshift       best.wfc_u           best.megacam_u        best.megacam_g         best.gpc1_g             best.wfc_g            best.gpc1_r            best.wfc_r          best.megacam_r        best.gpc1_i         best.megacam_i        best.megacam_y          best.wfc_i           best.gpc1_z            best.wfc_z         best.megacam_z        best.gpc1_y         best.ukidss_j        best.ukidss_k         best.irac_i1         best.irac_i2         best.irac_i3         best.irac_i4        best.mips_24     best.pacs_green    best.pacs_red     best.spire_250   best.spire_350    best.spire_500           ra               dec        flag_optnir_det f_irac_i1 f_irac_i2 f_irac_i3 f_irac_i4 f_mips_24 f_pacs_green f_spire_250\n",
       "                                                                                                                                                                                                                                                                                                                                                                                                                                                                                                                                                                                                                                                                                                                                                                                                                                                                                                                                                                                                                                                                                                                                                                                                                                                                   mJy                    mJy                   mJy                   mJy                    mJy                    mJy                   mJy                   mJy                  mJy                  mJy                   mJy                   mJy                   mJy                   mJy                  mJy                  mJy                  mJy                  mJy                  mJy                  mJy                  mJy                  mJy                 mJy                mJy               mJy               mJy              mJy               mJy                deg               deg                                               uJy       uJy       uJy        mJy          mJy    \n",
       "          bytes33                 float64                float64                float64               float64                float64                 float64               float64              float64                float64                      float64                       float64                    float64                    float64                   float64                     float64                       float64                 float64         float64            float64               float64            float64        float64              float64                    float64            float64         float64           float64            float64            float64            float64            float64            float64            float64              float64             float64            float64                float64                  float64               float64              float64                 float64                float64               float64                  float64                  float64                 float64               float64                float64                        float64                     float64                   float64                     float64                float64                float64               float64               float64                float64                float64               float64               float64              float64              float64               float64               float64               float64               float64              float64              float64              float64              float64              float64              float64              float64              float64             float64            float64           float64           float64          float64           float64            float64           float64           int64       float64   float64   float64   float64   float32    float32      float32  \n",
       "--------------------------- -------------------- ------------------------ ------------------- ----------------------- --------------------- ------------------------- ----------------- ----------------------- ---------------------- --------------------------------- -------------------------- -------------------------- ------------------------- -------------------------- ---------------------------- ------------------------------ --------------- --------------- --------------------- ---------------------- -------------- -------------- -------------------------- ------------------------- ------------ ------------------ ---------------- ------------------- ----------------- ------------------- ------------------ ------------------ ----------------- ----------------------- ---------------- -------------------- ----------------------- ------------------------- ------------------ ---------------------- ------------------------ ------------------- ----------------------- ------------------------- ------------------------ --------------------- --------------------- ----------------------- ------------------------------------- ----------------- --------------------------------- ---------------------- ---------------------- --------------------- --------------------- ---------------------- ---------------------- --------------------- --------------------- --------------------- -------------------- -------------------- --------------------- --------------------- --------------------- --------------------- -------------------- -------------------- -------------------- -------------------- -------------------- -------------------- -------------------- -------------------- ------------------ ----------------- ----------------- ----------------- ---------------- ------------------ ----------------- ----------------- --------------- --------- --------- --------- --------- --------- ------------ -----------\n",
       "HELP_J103755.490+592806.025    5604412346.505531        1070659840.429403   5.845980012139975       6.010488895730351 2.003748523970805e+37    1.3759500905290382e+37 75.78360855764737      18.945902139411842                    2.8                               0.5          1.896233573947713          4.491140701590342                      -0.7                       -0.7       1.1367687579411335e+37         1.2326699066642044e+37             2.0            0.02 2.369438664605338e+37 1.2937072401026876e+38           0.47            5.0                        0.0                       0.0       2500.0               10.0            0.001   9158179043.325256 6.351138944998894   5.507923162086263  6.349904297712362            10000.0            3000.0        907.548715023767              1.0 2.58301271179141e+36   1.355117639488918e+34     2.569461535396521e+36  3402142331.604237      3398017545.981012       4124785.6232251436   5756036668.891398       5696662454.367122         59374214.52427643                     0.02 7.909108234720333e+53  4.06161354487228e+51    7.86849209927161e+53                                  10.0 7527.949072306243            1.2775728113550273e+26                   0.68 0.00022993478651882037 0.0002440554965314313 0.0004048585617593933 0.00040636627766923723 0.00040743933416579947 0.0008730861915721103 0.0008718679753063824 0.0008871033886155384 0.001870919806343346 0.001862288665271551 0.0019313356246307095 0.0019359142594710939 0.0023019628418220945 0.0023078902290584466 0.002390749080629269 0.002732844756374034 0.003823753093091422 0.006800458449608271 0.007565527949133713 0.005584428627091305 0.005121825268087085 0.005815289504854415 0.0568758741497294 2.045884151785734 4.039374641860336 3.738050847993529 2.20094672000906 0.9944247615450231 159.4812079600245 59.46834031574975               3       nan       nan       nan       nan       nan          nan         nan"
      ]
     },
     "execution_count": 12,
     "metadata": {},
     "output_type": "execute_result"
    }
   ],
   "source": [
    "ldust_coords[0]"
   ]
  },
  {
   "cell_type": "code",
   "execution_count": 13,
   "metadata": {},
   "outputs": [],
   "source": [
    "from astropy.cosmology import Planck15 as cosmo\n",
    "from astropy import units as u\n",
    "f_pred=ldust_coords['bayes.dust.luminosity']/(4*np.pi*cosmo.luminosity_distance(ldust_coords['best.universe.redshift']).to(u.cm))"
   ]
  },
  {
   "cell_type": "code",
   "execution_count": 14,
   "metadata": {},
   "outputs": [],
   "source": [
    "prior=ldust_coords[np.isfinite(f_pred.value)][np.log10(f_pred.value[np.isfinite(f_pred.value)])>8.5]"
   ]
  },
  {
   "cell_type": "code",
   "execution_count": 15,
   "metadata": {},
   "outputs": [],
   "source": [
    "cols = ['help_id','ra','dec']\n",
    "prior_cat = prior[cols]"
   ]
  },
  {
   "cell_type": "code",
   "execution_count": null,
   "metadata": {},
   "outputs": [],
   "source": []
  },
  {
   "cell_type": "code",
   "execution_count": 16,
   "metadata": {},
   "outputs": [
    {
     "data": {
      "text/plain": [
       "159971"
      ]
     },
     "execution_count": 16,
     "metadata": {},
     "output_type": "execute_result"
    }
   ],
   "source": [
    "prior_cat = vstack([prior_cat,lofar_prior])\n",
    "len(prior_cat)"
   ]
  },
  {
   "cell_type": "code",
   "execution_count": 17,
   "metadata": {},
   "outputs": [
    {
     "data": {
      "image/png": "[encoded data removed]",
      "text/plain": [
       "<Figure size 432x288 with 1 Axes>"
      ]
     },
     "metadata": {
      "needs_background": "light"
     },
     "output_type": "display_data"
    }
   ],
   "source": [
    "x = help_masterlist['ra']\n",
    "y = help_masterlist['dec']\n",
    "plt.scatter(x,y,s=0.1,c='black')\n",
    "\n",
    "mips_mask = (help_masterlist['flag_optnir_det']>=5)\n",
    "x = help_masterlist['ra'][mips_mask]\n",
    "y = help_masterlist['dec'][mips_mask]\n",
    "plt.scatter(x,y,s=0.1,c='green')\n",
    "\n",
    "x = prior_cat['ra']\n",
    "y = prior_cat['dec']\n",
    "plt.scatter(x,y,s=0.1,c='red')\n",
    "\n",
    "\n",
    "plt.scatter(ras,decs,s=1,c='blue')\n",
    "\n",
    "plt.show()"
   ]
  },
  {
   "cell_type": "code",
   "execution_count": 48,
   "metadata": {},
   "outputs": [],
   "source": [
    "Table.write(prior_cat,'data/data_release/xidplus_prior_cat_rerun_ldust.fits',overwrite=True)"
   ]
  },
  {
   "cell_type": "markdown",
   "metadata": {},
   "source": [
    "## Create the prior for the MIPS rerun"
   ]
  },
  {
   "cell_type": "code",
   "execution_count": 56,
   "metadata": {},
   "outputs": [
    {
     "name": "stdout",
     "output_type": "stream",
     "text": [
      "number of help prior sources is: 563112\n"
     ]
    }
   ],
   "source": [
    "mips_mask = (help_masterlist['flag_optnir_det']>=5)\n",
    "\n",
    "prior_cat = help_masterlist[mips_mask]\n",
    "print('number of help prior sources is: {}'.format(len(prior_cat)))"
   ]
  },
  {
   "cell_type": "code",
   "execution_count": 57,
   "metadata": {},
   "outputs": [],
   "source": [
    "MIPS_lower=np.full(len(prior_cat),0.0)\n",
    "MIPS_upper=np.full(len(prior_cat),1E5)\n",
    "for i in range(len(prior_cat)):\n",
    "    if np.isnan(prior_cat['f_irac_i4'][i])==False:\n",
    "        MIPS_lower[i]=prior_cat['f_irac_i4'][i]/500.0\n",
    "        MIPS_upper[i]=prior_cat['f_irac_i4'][i]*500.0\n",
    "    elif np.isnan(prior_cat['f_irac_i3'][i])==False:\n",
    "        MIPS_lower[i]=prior_cat['f_irac_i3'][i]/500.0\n",
    "        MIPS_upper[i]=prior_cat['f_irac_i3'][i]*500.0\n",
    "    elif np.isnan(prior_cat['f_irac_i2'][i])==False:\n",
    "        MIPS_lower[i]=prior_cat['f_irac_i2'][i]/500.0\n",
    "        MIPS_upper[i]=prior_cat['f_irac_i2'][i]*500.0\n",
    "    elif np.isnan(prior_cat['f_irac_i1'][i])==False:\n",
    "        MIPS_lower[i]=prior_cat['f_irac_i1'][i]/500.0\n",
    "        MIPS_upper[i]=prior_cat['f_irac_i1'][i]*500.0\n",
    "        \n",
    "mips_lower_col = Column(MIPS_lower,name='MIPS_lower')\n",
    "mips_upper_col = Column(MIPS_upper,name='MIPS_upper')\n",
    "prior_cat.add_columns([mips_lower_col,mips_upper_col])"
   ]
  },
  {
   "cell_type": "code",
   "execution_count": 60,
   "metadata": {},
   "outputs": [],
   "source": [
    "swire_mask = best_irac(lofar['ch1_swire_fluxerr_corr'],lofar['ch1_servs_fluxerr_corr'])\n",
    "i1_f = np.zeros(len(ras))\n",
    "i1_f[swire_mask] = lofar['ch1_swire_flux_corr'][swire_mask]\n",
    "i1_f[~swire_mask] = lofar['ch1_servs_flux_corr'][~swire_mask]\n",
    "\n",
    "swire_mask = best_irac(lofar['ch2_swire_fluxerr_corr'],lofar['ch2_servs_fluxerr_corr'])\n",
    "i2_f = np.zeros(len(ras))\n",
    "i2_f[swire_mask] = lofar['ch2_swire_flux_corr'][swire_mask]\n",
    "i2_f[~swire_mask] = lofar['ch2_servs_flux_corr'][~swire_mask]\n",
    "\n",
    "i3_f = lofar['ch3_swire_flux_corr']\n",
    "\n",
    "i4_f = lofar['ch4_swire_flux_corr']"
   ]
  },
  {
   "cell_type": "code",
   "execution_count": 61,
   "metadata": {},
   "outputs": [],
   "source": [
    "cra = Column(ras,name='ra')\n",
    "cdec = Column(decs,name='dec')\n",
    "cids = Column(ids,name='help_id')\n",
    "cdet = Column(np.zeros(len(ras))-99,name='flag_optnir_det')\n",
    "ci1 = Column(i1_f,name='f_irac_i1')\n",
    "ci2 = Column(i2_f,name='f_irac_i2')\n",
    "ci3 = Column(i3_f,name='f_irac_i3')\n",
    "ci4 = Column(i4_f,name='f_irac_i4')\n",
    "lofar_prior = Table()\n",
    "lofar_prior.add_columns([cra,cdec,cids,cdet,ci1,ci2,ci3,ci4])"
   ]
  },
  {
   "cell_type": "code",
   "execution_count": 62,
   "metadata": {},
   "outputs": [],
   "source": [
    "MIPS_lower=np.full(len(lofar_prior),0.0)\n",
    "MIPS_upper=np.full(len(lofar_prior),1E5)\n",
    "for i in range(len(lofar_prior)):\n",
    "    if np.isnan(lofar_prior['f_irac_i4'][i])==False:\n",
    "        MIPS_lower[i]=lofar_prior['f_irac_i4'][i]/500.0\n",
    "        MIPS_upper[i]=lofar_prior['f_irac_i4'][i]*500.0\n",
    "    elif np.isnan(lofar_prior['f_irac_i3'][i])==False:\n",
    "        MIPS_lower[i]=lofar_prior['f_irac_i3'][i]/500.0\n",
    "        MIPS_upper[i]=lofar_prior['f_irac_i3'][i]*500.0\n",
    "    elif np.isnan(lofar_prior['f_irac_i2'][i])==False:\n",
    "        MIPS_lower[i]=lofar_prior['f_irac_i2'][i]/500.0\n",
    "        MIPS_upper[i]=lofar_prior['f_irac_i2'][i]*500.0\n",
    "    elif np.isnan(lofar_prior['f_irac_i1'][i])==False:\n",
    "        MIPS_lower[i]=lofar_prior['f_irac_i1'][i]/500.0\n",
    "        MIPS_upper[i]=lofar_prior['f_irac_i1'][i]*500.0\n",
    "        \n",
    "mips_lower_col = Column(MIPS_lower,name='MIPS_lower')\n",
    "mips_upper_col = Column(MIPS_upper,name='MIPS_upper')\n",
    "lofar_prior = Table()\n",
    "lofar_prior.add_columns([cra,cdec,cids,cdet,ci1,ci2,ci3,ci4,mips_lower_col,mips_upper_col])"
   ]
  },
  {
   "cell_type": "code",
   "execution_count": 63,
   "metadata": {},
   "outputs": [
    {
     "data": {
      "text/plain": [
       "574869"
      ]
     },
     "execution_count": 63,
     "metadata": {},
     "output_type": "execute_result"
    }
   ],
   "source": [
    "prior_cat = vstack([prior_cat,lofar_prior])\n",
    "len(prior_cat)"
   ]
  },
  {
   "cell_type": "code",
   "execution_count": 64,
   "metadata": {},
   "outputs": [
    {
     "data": {
      "text/html": [
       "<i>Table masked=True length=574869</i>\n",
       "<table id=\"table140735676953768\" class=\"table-striped table-bordered table-condensed\">\n",
       "<thead><tr><th>ra</th><th>dec</th><th>help_id</th><th>flag_optnir_det</th><th>f_irac_i1</th><th>f_irac_i2</th><th>f_irac_i3</th><th>f_irac_i4</th><th>f_mips_24</th><th>MIPS_lower</th><th>MIPS_upper</th></tr></thead>\n",
       "<thead><tr><th>deg</th><th>deg</th><th></th><th></th><th></th><th></th><th>uJy</th><th>uJy</th><th>uJy</th><th></th><th></th></tr></thead>\n",
       "<thead><tr><th>float64</th><th>float64</th><th>bytes33</th><th>float64</th><th>float64</th><th>float64</th><th>float64</th><th>float64</th><th>float32</th><th>float64</th><th>float64</th></tr></thead>\n",
       "<tr><td>157.2796582227025</td><td>57.99707349485325</td><td>HELP_J102907.118+575949.465</td><td>5.0</td><td>190.24</td><td>nan</td><td>174.37</td><td>nan</td><td>306.02975</td><td>0.34874</td><td>87185.0</td></tr>\n",
       "<tr><td>157.29126236270253</td><td>57.99114196185325</td><td>HELP_J102909.903+575928.111</td><td>5.0</td><td>188.67</td><td>nan</td><td>82.46</td><td>nan</td><td>349.8095</td><td>0.16491999999999998</td><td>41230.0</td></tr>\n",
       "<tr><td>157.29213656770253</td><td>58.03713053085325</td><td>HELP_J102910.113+580213.670</td><td>5.0</td><td>133.78</td><td>nan</td><td>43.39</td><td>nan</td><td>287.9511</td><td>0.08678</td><td>21695.0</td></tr>\n",
       "<tr><td>157.2957963907025</td><td>58.01957580385325</td><td>HELP_J102910.991+580110.473</td><td>5.0</td><td>217.75</td><td>nan</td><td>102.95</td><td>nan</td><td>299.20413</td><td>0.2059</td><td>51475.0</td></tr>\n",
       "<tr><td>157.2960316727025</td><td>58.07526703485325</td><td>HELP_J102911.048+580430.961</td><td>5.0</td><td>71.55</td><td>nan</td><td>41.94</td><td>nan</td><td>305.64017</td><td>0.08388</td><td>20970.0</td></tr>\n",
       "<tr><td>157.3182025027025</td><td>58.02709531985325</td><td>HELP_J102916.369+580137.543</td><td>5.0</td><td>117.09</td><td>nan</td><td>43.62</td><td>nan</td><td>278.56427</td><td>0.08724</td><td>21810.0</td></tr>\n",
       "<tr><td>157.3295255287025</td><td>58.04200775285325</td><td>HELP_J102919.086+580231.228</td><td>5.0</td><td>272.62</td><td>nan</td><td>132.82</td><td>nan</td><td>299.52432</td><td>0.26564</td><td>66410.0</td></tr>\n",
       "<tr><td>157.33253821570253</td><td>58.01675290285325</td><td>HELP_J102919.809+580100.310</td><td>5.0</td><td>157.14</td><td>nan</td><td>58.93</td><td>nan</td><td>287.80228</td><td>0.11785999999999999</td><td>29465.0</td></tr>\n",
       "<tr><td>157.3337935787025</td><td>57.98341408585325</td><td>HELP_J102920.110+575900.291</td><td>5.0</td><td>2392.01</td><td>nan</td><td>870.5</td><td>nan</td><td>298.92123</td><td>1.741</td><td>435250.0</td></tr>\n",
       "<tr><td>...</td><td>...</td><td>...</td><td>...</td><td>...</td><td>...</td><td>...</td><td>...</td><td>...</td><td>...</td><td>...</td></tr>\n",
       "<tr><td>166.05676645078256</td><td>57.783468257358315</td><td>ILTJ110413.62+574700.4</td><td>-99.0</td><td>nan</td><td>nan</td><td>nan</td><td>nan</td><td>--</td><td>0.0</td><td>100000.0</td></tr>\n",
       "<tr><td>166.0890471308417</td><td>57.74063709686142</td><td>ILTJ110421.42+574425.5</td><td>-99.0</td><td>nan</td><td>52.85110855102539</td><td>nan</td><td>49.42448425292969</td><td>--</td><td>0.09884896850585938</td><td>24712.242126464844</td></tr>\n",
       "<tr><td>166.10032048721126</td><td>57.75175622844874</td><td>ILTJ110424.09+574506.5</td><td>-99.0</td><td>nan</td><td>49.673194885253906</td><td>nan</td><td>85.54554748535156</td><td>--</td><td>0.17109109497070313</td><td>42772.77374267578</td></tr>\n",
       "<tr><td>166.1041110265812</td><td>57.79205289520722</td><td>ILTJ110425.09+574731.6</td><td>-99.0</td><td>nan</td><td>114.36763763427734</td><td>nan</td><td>50.427947998046875</td><td>--</td><td>0.10085589599609375</td><td>25213.973999023438</td></tr>\n",
       "<tr><td>166.1084028986748</td><td>57.85060747955768</td><td>ILTJ110426.06+575101.7</td><td>-99.0</td><td>nan</td><td>161.39295959472656</td><td>nan</td><td>375.9344177246094</td><td>--</td><td>0.7518688354492188</td><td>187967.2088623047</td></tr>\n",
       "<tr><td>166.1218180045805</td><td>57.76876709022104</td><td>ILTJ110429.21+574608.2</td><td>-99.0</td><td>nan</td><td>58.813743591308594</td><td>nan</td><td>51.1120491027832</td><td>--</td><td>0.10222409820556641</td><td>25556.0245513916</td></tr>\n",
       "<tr><td>166.130579</td><td>57.769096</td><td>ILTJ110431.18+574607.3</td><td>-99.0</td><td>nan</td><td>74.60484313964844</td><td>nan</td><td>51.009281158447266</td><td>--</td><td>0.10201856231689453</td><td>25504.640579223633</td></tr>\n",
       "<tr><td>166.132383</td><td>57.772176</td><td>ILTJ110431.77+574619.9</td><td>-99.0</td><td>nan</td><td>71.22320556640625</td><td>nan</td><td>65.88746643066406</td><td>--</td><td>0.13177493286132813</td><td>32943.73321533203</td></tr>\n",
       "<tr><td>166.1501075462649</td><td>57.845226414908886</td><td>ILTJ110435.97+575043.3</td><td>-99.0</td><td>nan</td><td>35.97349548339844</td><td>nan</td><td>31.99917984008789</td><td>--</td><td>0.06399835968017578</td><td>15999.589920043945</td></tr>\n",
       "<tr><td>166.15643239779484</td><td>57.78319214114571</td><td>ILTJ110437.59+574659.9</td><td>-99.0</td><td>nan</td><td>122.37418365478516</td><td>nan</td><td>78.51104736328125</td><td>--</td><td>0.1570220947265625</td><td>39255.523681640625</td></tr>\n",
       "</table>"
      ],
      "text/plain": [
       "<Table masked=True length=574869>\n",
       "        ra                dec         ...      MIPS_lower         MIPS_upper    \n",
       "       deg                deg         ...                                       \n",
       "     float64            float64       ...       float64            float64      \n",
       "------------------ ------------------ ... ------------------- ------------------\n",
       " 157.2796582227025  57.99707349485325 ...             0.34874            87185.0\n",
       "157.29126236270253  57.99114196185325 ... 0.16491999999999998            41230.0\n",
       "157.29213656770253  58.03713053085325 ...             0.08678            21695.0\n",
       " 157.2957963907025  58.01957580385325 ...              0.2059            51475.0\n",
       " 157.2960316727025  58.07526703485325 ...             0.08388            20970.0\n",
       " 157.3182025027025  58.02709531985325 ...             0.08724            21810.0\n",
       " 157.3295255287025  58.04200775285325 ...             0.26564            66410.0\n",
       "157.33253821570253  58.01675290285325 ... 0.11785999999999999            29465.0\n",
       " 157.3337935787025  57.98341408585325 ...               1.741           435250.0\n",
       "               ...                ... ...                 ...                ...\n",
       "166.05676645078256 57.783468257358315 ...                 0.0           100000.0\n",
       " 166.0890471308417  57.74063709686142 ... 0.09884896850585938 24712.242126464844\n",
       "166.10032048721126  57.75175622844874 ... 0.17109109497070313  42772.77374267578\n",
       " 166.1041110265812  57.79205289520722 ... 0.10085589599609375 25213.973999023438\n",
       " 166.1084028986748  57.85060747955768 ...  0.7518688354492188  187967.2088623047\n",
       " 166.1218180045805  57.76876709022104 ... 0.10222409820556641   25556.0245513916\n",
       "        166.130579          57.769096 ... 0.10201856231689453 25504.640579223633\n",
       "        166.132383          57.772176 ... 0.13177493286132813  32943.73321533203\n",
       " 166.1501075462649 57.845226414908886 ... 0.06399835968017578 15999.589920043945\n",
       "166.15643239779484  57.78319214114571 ...  0.1570220947265625 39255.523681640625"
      ]
     },
     "execution_count": 64,
     "metadata": {},
     "output_type": "execute_result"
    }
   ],
   "source": [
    "prior_cat"
   ]
  },
  {
   "cell_type": "code",
   "execution_count": 65,
   "metadata": {},
   "outputs": [],
   "source": [
    "Table.write(prior_cat,'data/data_release/xidplus_prior_cat_MIPS_rerun.fits',overwrite=True)"
   ]
  },
  {
   "cell_type": "code",
   "execution_count": null,
   "metadata": {},
   "outputs": [],
   "source": []
  },
  {
   "cell_type": "code",
   "execution_count": 4,
   "metadata": {},
   "outputs": [],
   "source": [
    "#Read in the HELP masterlist and select the wanted columns\n",
    "columns = 'ra','dec','help_id','f_spire_250','ferr_spire_250','flag_spire_250','f_spire_350','ferr_spire_350','flag_spire_350','f_spire_500','ferr_spire_500','flag_spire_500','flag_optnir_det','f_mips_24'\n",
    "masterlist = Table.read('../../../../../HELP/dmu_products/dmu32/dmu32_Lockman-SWIRE/data/Lockman-SWIRE_20180219.fits')\n",
    "help_masterlist = masterlist[columns]"
   ]
  },
  {
   "cell_type": "code",
   "execution_count": 5,
   "metadata": {},
   "outputs": [],
   "source": [
    "#Read in the Ldust prdictions from CIGALE\n",
    "#when these are on the VO i will change code to read it in from then\n",
    "ldust = Table.read('../../../../../HELP/dmu_products/dmu28/dmu28_Lockman-SWIRE/data/Lockman-SWIRE_Ldust_prediction_results.fits') \n",
    "ldust.rename_column('id','help_id')\n",
    "ldust['help_id'] = ldust['help_id'].astype(str)\n",
    "#join Ldust predictions with the help table\n",
    "ldust_id = [name[:-6] for name in list(ldust['help_id'])]\n",
    "ldust['help_id'] = np.array(ldust_id)\n",
    "ldust_cols = ['help_id','bayes.dust.luminosity','bayes.dust.luminosity_err','best.universe.redshift']\n",
    "ldust = ldust[ldust_cols]\n",
    "\n",
    "\n",
    "help_masterlist_ldust = join(help_masterlist,ldust,keys='help_id',join_type='outer')\n",
    "\n"
   ]
  },
  {
   "cell_type": "code",
   "execution_count": 165,
   "metadata": {},
   "outputs": [],
   "source": [
    "#compute the predicted flux from the dust and usethis to construct the prior\n",
    "from astropy.cosmology import Planck15 as cosmo\n",
    "from astropy import units as u\n",
    "f_pred=help_masterlist_ldust['bayes.dust.luminosity']/(4*np.pi*cosmo.luminosity_distance(help_masterlist_ldust['best.universe.redshift']).to(u.cm))\n",
    "mask = np.isfinite(f_pred)\n",
    "ldust_mask = (np.log10(f_pred)>8.5) & (np.isfinite(f_pred))\n",
    "mips_mask = (help_masterlist['flag_optnir_det']>=5) & (help_masterlist['f_mips_24']>20)\n",
    "\n",
    "\n",
    "prior_cat = help_masterlist_ldust[ldust_mask | mips_mask]\n",
    "#xid_rerun = Column(name='XID_rerun',data=np.zeros(len(prior_cat))-99)\n",
    "#prior_cat.add_column(xid_rerun)"
   ]
  },
  {
   "cell_type": "code",
   "execution_count": null,
   "metadata": {},
   "outputs": [],
   "source": []
  },
  {
   "cell_type": "code",
   "execution_count": 166,
   "metadata": {},
   "outputs": [],
   "source": [
    "lofar_coords = SkyCoord(lofar['ra'],lofar['dec'],unit='deg')\n",
    "prior_coords = SkyCoord(prior_cat['ra'],prior_cat['dec'],unit='deg')\n",
    "radius = 2\n",
    "idx_prior, idx_lofar, d2d, d3d = lofar_coords.search_around_sky(\n",
    "    prior_coords, radius*u.arcsec)"
   ]
  },
  {
   "cell_type": "code",
   "execution_count": 173,
   "metadata": {},
   "outputs": [],
   "source": [
    "not_crossmatched = [i for i in range(len(lofar)) if i not in idx_lofar]"
   ]
  },
  {
   "cell_type": "code",
   "execution_count": 193,
   "metadata": {},
   "outputs": [
    {
     "name": "stderr",
     "output_type": "stream",
     "text": [
      "WARNING: MergeConflictWarning: Cannot merge meta key 'EXTNAME' types <class 'str'> and <class 'str'>, choosing EXTNAME='/data06/HELP/DATA/Ldust_prediction/out/results.fits#1' [astropy.utils.metadata]\n",
      "WARNING:astropy:MergeConflictWarning: Cannot merge meta key 'EXTNAME' types <class 'str'> and <class 'str'>, choosing EXTNAME='/data06/HELP/DATA/Ldust_prediction/out/results.fits#1'\n"
     ]
    }
   ],
   "source": [
    "merged_lofar_prior = hstack([lofar[idx_lofar],prior_cat[idx_prior]])"
   ]
  },
  {
   "cell_type": "code",
   "execution_count": 194,
   "metadata": {},
   "outputs": [
    {
     "name": "stderr",
     "output_type": "stream",
     "text": [
      "WARNING: MergeConflictWarning: Cannot merge meta key 'EXTNAME' types <class 'str'> and <class 'str'>, choosing EXTNAME='LDAC_OBJECTS' [astropy.utils.metadata]\n",
      "WARNING:astropy:MergeConflictWarning: Cannot merge meta key 'EXTNAME' types <class 'str'> and <class 'str'>, choosing EXTNAME='LDAC_OBJECTS'\n"
     ]
    }
   ],
   "source": [
    "merged_lofar_prior.rename_column('ra_1','ra')\n",
    "merged_lofar_prior.rename_column('dec_1','dec')\n",
    "merged_lofar_prior = vstack([merged_lofar_prior,lofar[not_crossmatched]])"
   ]
  },
  {
   "cell_type": "code",
   "execution_count": 212,
   "metadata": {},
   "outputs": [],
   "source": [
    "rerun_col = Column(data=merged_lofar_prior['f_spire_250'].mask,name='xid+_rerun',dtype=bool)\n",
    "merged_lofar_prior.add_column(rerun_col)"
   ]
  },
  {
   "cell_type": "code",
   "execution_count": 215,
   "metadata": {},
   "outputs": [],
   "source": [
    "lofar_coords = SkyCoord(merged_lofar_prior['ra'],merged_lofar_prior['dec'],unit='deg')\n",
    "prior_coords = SkyCoord(prior_cat['ra'],prior_cat['dec'],unit='deg')\n",
    "radius = 2\n",
    "idx_prior, idx_lofar, d2d, d3d = lofar_coords.search_around_sky(\n",
    "    prior_coords, radius*u.arcsec)"
   ]
  },
  {
   "cell_type": "code",
   "execution_count": 257,
   "metadata": {},
   "outputs": [],
   "source": [
    "uniq_ids_prior,counts_prior = np.unique(idx_lofar,return_counts=True)\n",
    "source_type = np.zeros(len(merged_lofar_prior))\n",
    "source_type[uniq_ids_prior] = counts_prior"
   ]
  },
  {
   "cell_type": "code",
   "execution_count": 220,
   "metadata": {},
   "outputs": [],
   "source": [
    "#there may be a problem here NEEDS TO BE DOUBLE CHECKED\n",
    "min_d2d_prior_val = [np.min(d2d[idx_lofar==i].value) for i in uniq_ids_prior]\n",
    "min_d2d_prior = np.ones(len(merged_lofar_prior))\n",
    "min_d2d_prior[uniq_ids_prior] = min_d2d_prior_val"
   ]
  },
  {
   "cell_type": "code",
   "execution_count": 221,
   "metadata": {},
   "outputs": [],
   "source": [
    "lofar_coords = SkyCoord(merged_lofar_prior['ra'],merged_lofar_prior['dec'],unit='deg')\n",
    "help_coords = SkyCoord(help_masterlist_ldust['ra'],help_masterlist_ldust['dec'],unit='deg')\n",
    "radius = 2\n",
    "idx_help, idx_lofar, d2d, d3d = lofar_coords.search_around_sky(\n",
    "    help_coords, radius*u.arcsec)"
   ]
  },
  {
   "cell_type": "code",
   "execution_count": 222,
   "metadata": {},
   "outputs": [],
   "source": [
    "uniq_ids_help,counts_help = np.unique(idx_lofar,return_counts=True)\n",
    "source_type_help = np.zeros(len(merged_lofar_prior))\n",
    "source_type_help[uniq_ids_help] = counts_help"
   ]
  },
  {
   "cell_type": "code",
   "execution_count": 224,
   "metadata": {},
   "outputs": [],
   "source": [
    "min_d2d_help_val = [np.min(d2d[idx_lofar==i].value) for i in uniq_ids_help]\n",
    "min_d2d_help = np.ones(len(merged_lofar_prior))\n",
    "min_d2d_help[uniq_ids_help] = min_d2d_help_val"
   ]
  },
  {
   "cell_type": "code",
   "execution_count": 250,
   "metadata": {},
   "outputs": [
    {
     "data": {
      "image/png": "[encoded data removed]",
      "text/plain": [
       "<Figure size 432x288 with 1 Axes>"
      ]
     },
     "metadata": {
      "needs_background": "light"
     },
     "output_type": "display_data"
    }
   ],
   "source": [
    "bins = np.arange(0,2,0.01)\n",
    "plt.hist(min_d2d_help*3600,bins=bins)\n",
    "plt.hist(min_d2d_prior*3600,bins=bins)\n",
    "plt.show()"
   ]
  },
  {
   "cell_type": "code",
   "execution_count": 258,
   "metadata": {},
   "outputs": [],
   "source": [
    "source_class = np.where((min_d2d_help<min_d2d_prior),'nearer_non_prior','nearest_prior')\n",
    "source_class = np.where((min_d2d_help==min_d2d_prior),'no nearby sources',source_class)\n",
    "#source_class = np.array(['nearest_prior' for i in range(len(merged_lofar_prior))])\n",
    "source_class = np.where(source_type==0,'radio_position',source_class)\n",
    "source_class = np.where(source_type>1,'multiple_prior',source_class)\n",
    "\n",
    "source_class = source_class.astype('U42')\n",
    "\n",
    "mask = (source_type>0) & (min_d2d_help>min_d2d_prior)\n",
    "for i,source in enumerate(source_class):\n",
    "    if mask[i]==True:\n",
    "\n",
    "        source_class[i] = source_class[i] + '_with_nearer_non_prior'\n"
   ]
  },
  {
   "cell_type": "code",
   "execution_count": 262,
   "metadata": {},
   "outputs": [],
   "source": [
    "class_col = Column(data=source_class,name='prior_type')\n",
    "merged_lofar_prior.add_column(class_col)"
   ]
  },
  {
   "cell_type": "code",
   "execution_count": 267,
   "metadata": {},
   "outputs": [],
   "source": [
    "colnames_keep = ['Source_id',\n",
    " 'Isl_id',\n",
    " 'RA',\n",
    " 'E_RA',\n",
    " 'DEC',\n",
    " 'E_DEC',\n",
    " 'Total_flux',\n",
    " 'E_Total_flux',\n",
    " 'Peak_flux',\n",
    " 'E_Peak_flux',\n",
    " 'RA_max',\n",
    " 'E_RA_max',\n",
    " 'DEC_max',\n",
    " 'E_DEC_max',\n",
    " 'Maj',\n",
    " 'E_Maj',\n",
    " 'Min',\n",
    " 'E_Min',\n",
    " 'PA',\n",
    " 'E_PA',\n",
    " 'Maj_img_plane',\n",
    " 'E_Maj_img_plane',\n",
    " 'Min_img_plane',\n",
    " 'E_Min_img_plane',\n",
    " 'PA_img_plane',\n",
    " 'E_PA_img_plane',\n",
    " 'DC_Maj',\n",
    " 'E_DC_Maj',\n",
    " 'DC_Min',\n",
    " 'E_DC_Min',\n",
    " 'DC_PA',\n",
    " 'E_DC_PA',\n",
    " 'DC_Maj_img_plane',\n",
    " 'E_DC_Maj_img_plane',\n",
    " 'DC_Min_img_plane',\n",
    " 'E_DC_Min_img_plane',\n",
    " 'DC_PA_img_plane',\n",
    " 'E_DC_PA_img_plane',\n",
    " 'Isl_Total_flux',\n",
    " 'E_Isl_Total_flux',\n",
    " 'Isl_rms',\n",
    " 'Isl_mean',\n",
    " 'Resid_Isl_rms',\n",
    " 'Resid_Isl_mean',\n",
    " 'S_Code',\n",
    " 'FLAG_OVERLAP_1',\n",
    " 'flag_clean_1',\n",
    " 'Source_Name',\n",
    " 'lr_fin',\n",
    " 'lr_dist_fin',\n",
    " 'lr_index_fin',\n",
    " 'ra',\n",
    " 'dec',\n",
    " 'ra_2',\n",
    " 'dec_2',\n",
    " 'help_id',\n",
    " 'f_spire_250',\n",
    " 'ferr_spire_250',\n",
    " 'flag_spire_250',\n",
    " 'f_spire_350',\n",
    " 'ferr_spire_350',\n",
    " 'flag_spire_350',\n",
    " 'f_spire_500',\n",
    " 'ferr_spire_500',\n",
    " 'flag_spire_500',\n",
    " 'flag_optnir_det',\n",
    " 'f_mips_24',\n",
    " 'bayes.dust.luminosity',\n",
    " 'bayes.dust.luminosity_err',\n",
    " 'best.universe.redshift',\n",
    " 'xid+_rerun',\n",
    " 'prior_type']"
   ]
  },
  {
   "cell_type": "code",
   "execution_count": 268,
   "metadata": {},
   "outputs": [],
   "source": [
    "merged_lofar_prior = merged_lofar_prior[colnames_keep]"
   ]
  },
  {
   "cell_type": "code",
   "execution_count": 269,
   "metadata": {},
   "outputs": [],
   "source": [
    "Table.write(merged_lofar_prior,'data/xid+_prepared_cat.fits')"
   ]
  },
  {
   "cell_type": "code",
   "execution_count": null,
   "metadata": {},
   "outputs": [],
   "source": []
  }
 ],
 "metadata": {
  "kernelspec": {
   "display_name": "Python 3",
   "language": "python",
   "name": "python3"
  },
  "language_info": {
   "codemirror_mode": {
    "name": "ipython",
    "version": 3
   },
   "file_extension": ".py",
   "mimetype": "text/x-python",
   "name": "python",
   "nbconvert_exporter": "python",
   "pygments_lexer": "ipython3",
   "version": "3.6.7"
  }
 },
 "nbformat": 4,
 "nbformat_minor": 2
}
