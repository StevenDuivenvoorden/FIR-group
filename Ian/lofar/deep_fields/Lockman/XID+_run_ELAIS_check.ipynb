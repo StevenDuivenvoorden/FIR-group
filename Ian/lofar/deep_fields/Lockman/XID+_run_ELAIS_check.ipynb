{
 "cells": [
  {
   "cell_type": "code",
   "execution_count": 1,
   "metadata": {},
   "outputs": [],
   "source": [
    "from astropy.io import ascii, fits\n",
    "import astropy\n",
    "import pylab as plt\n",
    "%matplotlib inline\n",
    "from astropy import wcs\n",
    "from astropy.table import Table,Column,join,hstack\n",
    "from astropy.coordinates import SkyCoord\n",
    "from astropy import units as u\n",
    "import pymoc\n",
    "import glob\n",
    "from time import sleep\n",
    "\n",
    "\n",
    "import numpy as np\n",
    "import xidplus\n",
    "from xidplus import moc_routines\n",
    "import pickle\n",
    "import xidplus.catalogue as cat\n",
    "\n",
    "import sys\n",
    "from herschelhelp_internal.utils import inMoc,flux_to_mag\n",
    "from xidplus.stan_fit import SPIRE\n",
    "\n",
    "import aplpy\n",
    "import seaborn as sns\n",
    "#sns.set(color_codes=True)\n",
    "import pandas as pd\n",
    "#sns.set_style(\"white\")\n",
    "import xidplus.posterior_maps as postmaps\n",
    "from herschelhelp_internal.masterlist import merge_catalogues, nb_merge_dist_plot, specz_merge\n",
    "import pyvo as vo\n",
    "\n"
   ]
  },
  {
   "cell_type": "code",
   "execution_count": 2,
   "metadata": {},
   "outputs": [],
   "source": [
    "#Read in the LOFAR data both optical and radio\n",
    "lofar_rad = Table.read('data/radio/EN1_ML_RUN_fin_overlap_srl_workflow.fits')\n",
    "lofar_opt = Table.read('data/optical/EN1_MASTER_opt_spitzer_merged_cedit_apcorr.fits')\n",
    "lofar_opt.rename_column('ALPHA_J2000','ra')\n",
    "lofar_opt.rename_column('DELTA_J2000','dec')"
   ]
  },
  {
   "cell_type": "code",
   "execution_count": 79,
   "metadata": {},
   "outputs": [],
   "source": [
    "LR_suitable = pickle.load(open('data/LR/sources_to_send_to_lr.pckl','rb'))\n",
    "lofar_rad = lofar_rad[LR_suitable]"
   ]
  },
  {
   "cell_type": "code",
   "execution_count": 80,
   "metadata": {},
   "outputs": [],
   "source": [
    "#merge the optical and radio catalogue to find out which optical sources need crossmatching to HELP\n",
    "mask = ~np.isnan(lofar_rad['lr_index_fin'])\n",
    "lofar = hstack([lofar_rad[mask],lofar_opt[lofar_rad[mask]['lr_index_fin'].astype(int)]])"
   ]
  },
  {
   "cell_type": "code",
   "execution_count": 83,
   "metadata": {},
   "outputs": [],
   "source": [
    "#comparing with the help masterlist from fits file\n",
    "masterlist = Table.read('../../../../../HELP/dmu_products/dmu32/dmu32_ELAIS-N1/data/ELAIS-N1_20171020.fits')"
   ]
  },
  {
   "cell_type": "code",
   "execution_count": 84,
   "metadata": {},
   "outputs": [],
   "source": [
    "prior_mask = (masterlist['flag_optnir_det']>=5) & (masterlist['f_mips_24']>20)"
   ]
  },
  {
   "cell_type": "code",
   "execution_count": 85,
   "metadata": {},
   "outputs": [],
   "source": [
    "ra = lofar['ra']\n",
    "dec = lofar['dec']\n",
    "#Crossmatch the lofar source with the help masterlist\n",
    "lofar_coords = SkyCoord(ra,dec,unit='deg')\n",
    "help_coords = SkyCoord(masterlist['ra'],masterlist['dec'],unit='deg')\n",
    "radius = 2\n",
    "idx_help, idx_lofar, d2d, d3d = lofar_coords.search_around_sky(\n",
    "    help_coords, radius*u.arcsec)\n",
    "d2d = d2d.value\n",
    "ids,counts = np.unique(idx_lofar,return_counts=True)"
   ]
  },
  {
   "cell_type": "code",
   "execution_count": 86,
   "metadata": {},
   "outputs": [
    {
     "name": "stdout",
     "output_type": "stream",
     "text": [
      "number of radio sources with no help source within 2 arcseconds is: 45\n"
     ]
    }
   ],
   "source": [
    "#look at sources with no crossmatch\n",
    "x = []\n",
    "y = []\n",
    "for n in range(len(lofar)):\n",
    "    if n not in ids:\n",
    "        x.append(ra[n])\n",
    "        y.append(dec[n])\n",
    "print('number of radio sources with no help source within 2 arcseconds is: {}'.format(len(ra)-len(ids)))"
   ]
  },
  {
   "cell_type": "code",
   "execution_count": 87,
   "metadata": {},
   "outputs": [
    {
     "data": {
      "image/png": "[encoded data removed]",
      "text/plain": [
       "<Figure size 432x288 with 1 Axes>"
      ]
     },
     "metadata": {
      "needs_background": "light"
     },
     "output_type": "display_data"
    }
   ],
   "source": [
    "plt.scatter(x,y,c='red',s=10)\n",
    "plt.scatter(masterlist['ra'],masterlist['dec'],s=0.1,c='blue')\n",
    "\n",
    "\n",
    "plt.xlim(242,242.01)\n",
    "plt.ylim(53.9,54)\n",
    "plt.show()"
   ]
  },
  {
   "cell_type": "code",
   "execution_count": null,
   "metadata": {},
   "outputs": [],
   "source": [
    "for n in range(len(ids)):\n",
    "    if counts[n]>1:\n",
    "        mask = idx_lofar==ids[n]\n",
    "        for m in range(len(d2d[mask])):\n",
    "            print('distance to object is {} arcseconds and is in prior list = {}'.format(d2d[mask][m]*3600,prior_mask[idx_help[mask][m]]))\n",
    "        print('...........')\n",
    "            "
   ]
  },
  {
   "cell_type": "code",
   "execution_count": 88,
   "metadata": {},
   "outputs": [
    {
     "name": "stdout",
     "output_type": "stream",
     "text": [
      "number of radio sources with no possible prior list object but with multiple sources is: 1940\n",
      "number of radio sources with multiple nearby help objects but the nearest is in the prior list is: 6080\n",
      "number of radio sources with multiple nearby help objects but the nearest is not in the prior list is: 1090\n",
      "number of radio sources with nultiple sources nearby which are in the prior list is: 79\n"
     ]
    }
   ],
   "source": [
    "num_spire_far = 0\n",
    "num_spire_far_sep_diff = []\n",
    "idx_spire_far_help = []\n",
    "idx_spire_far_lofar = []\n",
    "num_spire_near = 0\n",
    "num_nspire_more = 0\n",
    "\n",
    "num_spire_more = 0\n",
    "for n in range(len(ids)):\n",
    "    if counts[n]>1:\n",
    "        mask = idx_lofar==ids[n]\n",
    "        seperations = d2d[mask]\n",
    "        priors = prior_mask[idx_help[mask]]\n",
    "        \n",
    "        if np.sum(priors)==0:\n",
    "            num_nspire_more = num_nspire_more+1\n",
    "            \n",
    "        if np.sum(priors)==1:\n",
    "            mask_sep = seperations==np.min(seperations)\n",
    "            if priors[mask_sep]==True:\n",
    "                num_spire_near = num_spire_near+1\n",
    "            if priors[mask_sep]==False:\n",
    "                num_spire_far = num_spire_far+1\n",
    "                sep_diff = seperations[priors]-np.min(seperations)\n",
    "                num_spire_far_sep_diff.append(sep_diff[0])\n",
    "                for i in range(np.sum(mask)):\n",
    "                    idx_spire_far_help.append(idx_help[mask][i])\n",
    "                    idx_spire_far_lofar.append(idx_lofar[mask][i])\n",
    "        if np.sum(priors)>1:\n",
    "            num_spire_more = num_spire_more+1\n",
    "print('number of radio sources with no possible prior list object but with multiple sources is: {}'.format(num_nspire_more))\n",
    "print('number of radio sources with multiple nearby help objects but the nearest is in the prior list is: {}'.format(num_spire_near))\n",
    "print('number of radio sources with multiple nearby help objects but the nearest is not in the prior list is: {}'.format(num_spire_far))\n",
    "print('number of radio sources with nultiple sources nearby which are in the prior list is: {}'.format(num_spire_more))\n",
    "            #print('distance to object is {} arcseconds and is in prior list = {}'.format(d2d[mask][m]*3600,prior_mask[idx_help[mask][m]]))\n",
    "        #print('...........')\n",
    "        \n",
    "idx_spire_far_help = np.array(idx_spire_far_help)\n",
    "idx_spire_far_lofar = np.array(idx_spire_far_lofar)"
   ]
  },
  {
   "cell_type": "code",
   "execution_count": 24,
   "metadata": {},
   "outputs": [
    {
     "data": {
      "image/png": "[encoded data removed]",
      "text/plain": [
       "<Figure size 432x288 with 1 Axes>"
      ]
     },
     "metadata": {
      "needs_background": "light"
     },
     "output_type": "display_data"
    }
   ],
   "source": [
    "plt.hist(np.array(num_spire_far_sep_diff)*3600,bins=np.arange(0,2,0.1))\n",
    "plt.title('diference in seperation between prior object and nearest help object')\n",
    "plt.show()\n",
    "\n",
    "x = lofar['ra'][idx_spire_far_lofar]\n",
    "y = lofar['dec'][idx_spire_far_lofar]"
   ]
  },
  {
   "cell_type": "code",
   "execution_count": 71,
   "metadata": {},
   "outputs": [
    {
     "data": {
      "image/png": "[encoded data removed]",
      "text/plain": [
       "<Figure size 432x288 with 1 Axes>"
      ]
     },
     "metadata": {
      "needs_background": "light"
     },
     "output_type": "display_data"
    }
   ],
   "source": [
    "#plots the position of sources near a radio source which has a prior object nearby but isn't the nearest object\n",
    "idx_spire_far_lofar_unique = np.unique(idx_spire_far_lofar)\n",
    "lofar_id = idx_spire_far_lofar_unique[6]\n",
    "mask = idx_spire_far_lofar==lofar_id\n",
    "\n",
    "x = lofar['ra'][lofar_id]\n",
    "y = lofar['dec'][lofar_id]\n",
    "plt.scatter(x,y,c='black')\n",
    "\n",
    "help_id = idx_spire_far_help[mask]\n",
    "x = masterlist['ra'][help_id]\n",
    "y = masterlist['dec'][help_id]\n",
    "plt.scatter(x,y,c='red',s=10)\n",
    "\n",
    "x = masterlist['ra'][help_id]\n",
    "y = masterlist['dec'][help_id]\n",
    "mask_temp = (masterlist['flag_optnir_det'][help_id]>=5) & (masterlist['f_mips_24'][help_id]>20)\n",
    "x = x[mask_temp]\n",
    "y = y[mask_temp]\n",
    "plt.scatter(x,y,c='blue',s=10)\n",
    "\n",
    "\n",
    "plt.xlim(lofar['ra'][lofar_id]-4/3600,lofar['ra'][lofar_id]+4/3600)\n",
    "plt.ylim(lofar['dec'][lofar_id]-4/3600,lofar['dec'][lofar_id]+4/3600)\n",
    "plt.show()"
   ]
  },
  {
   "cell_type": "code",
   "execution_count": null,
   "metadata": {},
   "outputs": [],
   "source": [
    "#plots the position of sources near a radio source which has a prior object nearby but isn't the nearest object\n",
    "idx_spire_far_lofar_unique = np.unique(idx_spire_far_lofar)\n",
    "lofar_id = idx_spire_far_lofar_unique[6]\n",
    "mask = idx_spire_far_lofar==lofar_id\n",
    "\n",
    "x = lofar['ra'][lofar_id]\n",
    "y = lofar['dec'][lofar_id]\n",
    "plt.scatter(x,y,c='black')\n",
    "\n",
    "help_id = idx_spire_far_help[mask]\n",
    "x = masterlist['ra'][help_id]\n",
    "y = masterlist['dec'][help_id]\n",
    "plt.scatter(x,y,c='red',s=10)\n",
    "\n",
    "x = masterlist['ra'][help_id]\n",
    "y = masterlist['dec'][help_id]\n",
    "mask_temp = (masterlist['flag_optnir_det'][help_id]>=5) & (masterlist['f_mips_24'][help_id]>20)\n",
    "x = x[mask_temp]\n",
    "y = y[mask_temp]\n",
    "plt.scatter(x,y,c='blue',s=10)\n",
    "\n",
    "\n",
    "plt.xlim(lofar['ra'][lofar_id]-4/3600,lofar['ra'][lofar_id]+4/3600)\n",
    "plt.ylim(lofar['dec'][lofar_id]-4/3600,lofar['dec'][lofar_id]+4/3600)\n",
    "plt.show()"
   ]
  },
  {
   "cell_type": "code",
   "execution_count": 50,
   "metadata": {},
   "outputs": [
    {
     "data": {
      "text/plain": [
       "array([  148,   148,   155, ..., 32830, 32830, 32830])"
      ]
     },
     "execution_count": 50,
     "metadata": {},
     "output_type": "execute_result"
    }
   ],
   "source": [
    "idx_spire_far_lofar"
   ]
  },
  {
   "cell_type": "code",
   "execution_count": 54,
   "metadata": {},
   "outputs": [
    {
     "data": {
      "text/plain": [
       "array([148, 155, 157, 159, 164, 167, 173, 180, 183, 192])"
      ]
     },
     "execution_count": 54,
     "metadata": {},
     "output_type": "execute_result"
    }
   ],
   "source": [
    "ids_many[30:40]"
   ]
  },
  {
   "cell_type": "code",
   "execution_count": null,
   "metadata": {},
   "outputs": [],
   "source": []
  }
 ],
 "metadata": {
  "kernelspec": {
   "display_name": "Python 3",
   "language": "python",
   "name": "python3"
  },
  "language_info": {
   "codemirror_mode": {
    "name": "ipython",
    "version": 3
   },
   "file_extension": ".py",
   "mimetype": "text/x-python",
   "name": "python",
   "nbconvert_exporter": "python",
   "pygments_lexer": "ipython3",
   "version": "3.6.7"
  }
 },
 "nbformat": 4,
 "nbformat_minor": 2
}
