{
 "cells": [
  {
   "cell_type": "markdown",
   "metadata": {},
   "source": [
    "# ML RUN2 - Incorporating colour"
   ]
  },
  {
   "cell_type": "markdown",
   "metadata": {},
   "source": [
    "---"
   ]
  },
  {
   "cell_type": "code",
   "execution_count": 1,
   "metadata": {},
   "outputs": [],
   "source": [
    "# Load in all the required functions\n",
    "\n",
    "from socket import gethostname\n",
    "\n",
    "if gethostname() == 'colonsay':\n",
    "    PATH_START = '/disk1/rohitk/ELN1_project/'\n",
    "\n",
    "elif gethostname() == 'rohitk-elitebook':\n",
    "    PATH_START = '/home/rohitk/Documents/PhD/Year1/ELN1_project/'\n",
    "\n",
    "# Path start for Max_L analysis\n",
    "#PATH_START = PATH_START + \"OCT17_ELAIS_im/maxl_test/\"\n",
    "    \n",
    "#################################################\n",
    "# Add the path of useful functions at the start\n",
    "\n",
    "import sys\n",
    "\n",
    "# Import some important functions\n",
    "#sys.path.append(PATH_START+'../../basic_functions')\n",
    "\n",
    "# Import coordinate converstion functions\n",
    "from useful_functions import (coord_matching, nearest_neigh_match, latest_dir, varstat, return_hist_par, field_filter)\n",
    "#from overlapping_area import (isinpan, isinukidss, isinSWIRE, isinSERVS)\n",
    "from moc_util import coords_to_hpidx, inMoc\n",
    "##################################################\n",
    "\n",
    "import numpy as np\n",
    "from matplotlib import pyplot as plt\n",
    "from astropy.table import Table\n",
    "import matplotlib.gridspec as gridspec\n",
    "#get_ipython().magic(u'matplotlib inline')\n",
    "#get_ipython().magic(u'pylab inline')\n",
    "\n",
    "# Set default properties about all figures\n",
    "from matplotlib import rcParams\n",
    "\n",
    "rcParams['figure.figsize'] = 10,10\n",
    "#from matplotlib import rc\n",
    "# plt.rc('legend',**{'fontsize':16})\n",
    "rcParams['axes.labelsize'] = 16\n",
    "rcParams['axes.linewidth'] = 2\n",
    "rcParams['xtick.labelsize'] = 16\n",
    "rcParams['ytick.labelsize'] = 16\n",
    "\n",
    "import time\n",
    "\n",
    "from astropy.coordinates import search_around_sky\n",
    "from astropy import units as u\n",
    "from astropy.coordinates import SkyCoord\n",
    "from astropy.coordinates import match_coordinates_sky\n",
    "\n",
    "# Multiprocessin method of doing the ML analysis\n",
    "import multiprocessing as mp\n",
    "from functools import partial\n",
    "\n",
    "from os import makedirs\n",
    "\n",
    "ts = time.time()\n",
    "# %pylab inline\n",
    "import importlib\n",
    "import os\n",
    "from time import strftime\n",
    "from useful_functions import logspace_bins\n",
    "import glob\n",
    "import pickle\n",
    "\n",
    "# For MOC files\n",
    "import pymoc.io.fits\n",
    "import healpy as hp\n",
    "import pymoc.util.catalog\n",
    "\n",
    "tstart = time.time()"
   ]
  },
  {
   "cell_type": "code",
   "execution_count": 2,
   "metadata": {},
   "outputs": [],
   "source": [
    "# Load in all the required functions\n",
    "\n",
    "from socket import gethostname\n",
    "\n",
    "if gethostname() == 'colonsay':\n",
    "    PATH_START = '/disk1/rohitk/ELN1_project/'\n",
    "\n",
    "elif gethostname() == 'rohitk-elitebook':\n",
    "    PATH_START = '/home/rohitk/Documents/PhD/Year1/ELN1_project/'\n",
    "\n",
    "# Path start for Max_L analysis\n",
    "# PATH_START = PATH_START + \"OCT17_ELAIS_im/maxl_test/\"\n",
    "    \n",
    "#################################################\n",
    "# Add the path of useful functions at the start\n",
    "\n",
    "import sys\n",
    "\n",
    "# Import some important functions\n",
    "#sys.path.append(PATH_START+'basic_functions')\n",
    "\n",
    "import importlib\n",
    "\n",
    "# Import coordinate converstion functions\n",
    "from useful_functions import field_filter, get_overlap_sources, latest_dir, logspace_bins, return_hist_par\n",
    "#from overlapping_area import (isinpan, isinukidss, isinSWIRE, isinSERVS)\n",
    "from plot_func import rc_def, make_fig\n",
    "rc_def()\n",
    "\n",
    "# For reading in MOC files and filtering catalogues\n",
    "from moc_util import coords_to_hpidx, inMoc\n",
    "##################################################\n",
    "\n",
    "import numpy as np\n",
    "from matplotlib import pyplot as plt\n",
    "from astropy.table import Table\n",
    "\n",
    "import time\n",
    "\n",
    "from astropy.coordinates import search_around_sky\n",
    "from astropy import units as u\n",
    "from astropy.coordinates import SkyCoord\n",
    "from astropy.coordinates import match_coordinates_sky\n",
    "\n",
    "\n",
    "# Multiprocessin method of doing the ML analysis\n",
    "import multiprocessing as mp\n",
    "from functools import partial\n",
    "\n",
    "import pickle\n",
    "\n",
    "ts = time.time()\n",
    "# %pylab inline\n",
    "import matplotlib as mpl\n",
    "mpl.rcParams[\"font.size\"] = 18\n",
    "mpl.rcParams[\"xtick.labelsize\"] = 18\n",
    "mpl.rcParams[\"ytick.labelsize\"] = 18\n",
    "mpl.rcParams[\"axes.labelsize\"] = 18\n",
    "\n",
    "import os\n",
    "from time import strftime\n",
    "import glob\n",
    "\n",
    "# For MOC creation files\n",
    "import pymoc.io.fits\n",
    "import healpy as hp\n",
    "import pymoc.util.catalog\n",
    "from mocpy import MOC, WCS"
   ]
  },
  {
   "cell_type": "code",
   "execution_count": 3,
   "metadata": {},
   "outputs": [],
   "source": [
    "# Import ML functions from mlrun1\n",
    "import mlrun1_bootes\n",
    "importlib.reload(mlrun1_bootes)\n",
    "\n",
    "\n",
    "from mlrun1_bootes import (survey_area, get_bin_list, get_n_m, get_q_m, \n",
    "                    generate_rand_pos_servs, get_Q0, compute_Fr, get_nm_interp,\n",
    "                    get_qm_interp, get_lr,\n",
    "                   get_giK_bin_indices, get_iK_bin_indices,\n",
    "                   get_qm_c, gen_binc_binl, get_nm_c, generate_rand_pos_bootes, gen_rand_cat_inMOC)\n",
    "\n",
    "from mlrun1_bootes import (get_n_m_kde, get_q_m_kde, estimate_q_m_kde, get_sigma_all, fr_u)\n"
   ]
  },
  {
   "cell_type": "markdown",
   "metadata": {},
   "source": [
    "## Miscellaneous <a class=\"anchor\" id=\"misc-func\"></a>"
   ]
  },
  {
   "cell_type": "code",
   "execution_count": 4,
   "metadata": {},
   "outputs": [],
   "source": [
    "def completeness(lr, threshold, q0):\n",
    "    n = len(lr)\n",
    "    lrt = lr[lr < threshold]\n",
    "    return 1. - np.sum((q0 * lrt)/(q0 * lrt + (1 - q0)))/float(n)/q0\n",
    "\n",
    "def reliability(lr, threshold, q0):\n",
    "    n = len(lr)\n",
    "    lrt = lr[lr > threshold]\n",
    "    return 1. - np.sum((1. - q0)/(q0 * lrt + (1 - q0)))/float(n)/q0\n",
    "\n",
    "completeness_v = np.vectorize(completeness, excluded=[0])\n",
    "reliability_v = np.vectorize(reliability, excluded=[0])\n",
    "\n",
    "def comp_rel_threshold(lr, threshold, q0):\n",
    "    \"\"\"\n",
    "    Function to compute the crossing point of the completeness and reliability graph\n",
    "    \"\"\"\n",
    "\n",
    "    completeness_t = completeness_v(lr, threshold, q0)\n",
    "    reliability_t = reliability_v(lr, threshold, q0)\n",
    "    average_t = (completeness_t + reliability_t)/2\n",
    "    \n",
    "    # Crossing point of completeness and reliability\n",
    "    th_cross = threshold[np.argmin(np.abs(completeness_t - reliability_t))]\n",
    "    \n",
    "    return th_cross, completeness_t, reliability_t"
   ]
  },
  {
   "cell_type": "code",
   "execution_count": 5,
   "metadata": {},
   "outputs": [],
   "source": [
    "from matplotlib import cm\n",
    "from matplotlib.collections import LineCollection\n",
    "\n",
    "\n",
    "def plot_q_n_m(q_m, n_m):\n",
    "    fig, a = plt.subplots()\n",
    "\n",
    "    for i, q_m_k in enumerate(q_m):\n",
    "        #plot(centers[i], q_m_old[i]/n_m_old[i])\n",
    "        a = subplot(4,4,i+1)\n",
    "        if i not in [-1]:\n",
    "            n_m_aux = n_m[i]/np.sum(n_m[i])\n",
    "            lwidths = (n_m_aux/np.max(n_m_aux)*10).astype(float) + 1\n",
    "            #print(lwidths)\n",
    "\n",
    "            y_aux = q_m_k/n_m[i]\n",
    "            factor = np.max(y_aux[low:high])\n",
    "            y = y_aux\n",
    "            #print(y)\n",
    "            x = centers[i]\n",
    "\n",
    "            points = np.array([x, y]).T.reshape(-1, 1, 2)\n",
    "            segments = np.concatenate([points[:-1], points[1:]], axis=1)\n",
    "\n",
    "            lc = LineCollection(segments, linewidths=lwidths, color=colors[i])\n",
    "\n",
    "            a.add_collection(lc)\n",
    "\n",
    "            #plot(centers[i], x/factor, color=colors[i-1])\n",
    "            xlim([12, 30])\n",
    "            if i == 0:\n",
    "                xlim([10, 23])\n",
    "            ylim([0, 1.2*factor])\n",
    "\n",
    "    subplots_adjust(left=0.125, \n",
    "                    bottom=0.1, \n",
    "                    right=0.9, \n",
    "                    top=0.9,\n",
    "                    wspace=0.4, \n",
    "                    hspace=0.2)\n",
    "    return fig"
   ]
  },
  {
   "cell_type": "code",
   "execution_count": 6,
   "metadata": {},
   "outputs": [],
   "source": [
    "def plot_qn_c(bin_centres, magnitude_distribution, outfig_fname):\n",
    "    \"\"\"\n",
    "    Function to plot the n(m,c) and q(m,c) distributions\n",
    "    \n",
    "    Parameters:\n",
    "    -----------\n",
    "    bin_centres: Bin centres used to compute the n(m,c) distribution\n",
    "    magnitude_distribution: Magnitude distribution of n(m) or q(m) for each category\n",
    "    \"\"\"\n",
    "    \n",
    "    fig = plt.subplots(figsize=(11,20))\n",
    "    ratio = .8\n",
    "    plt.subplots_adjust(left=0.1, bottom=0.1, right=0.95, top=0.95, wspace=0.6, hspace=0.5)\n",
    "        \n",
    "    for k in range(len(magnitude_distribution)):\n",
    "        ax = plt.subplot(9,4,k+1)\n",
    "\n",
    "        # ax = plt.subplot(gs[k])\n",
    "        plt.plot(bin_centres, magnitude_distribution[k])\n",
    "        # ax.set_aspect(aspect='equal', adjustable='box')\n",
    "        \n",
    "        # Sets the aspect ratio of each subplot\n",
    "        xvals,yvals = plt.gca().axes.get_xlim(), plt.gca().axes.get_ylim()\n",
    "        xrange = xvals[1]-xvals[0]\n",
    "        yrange = yvals[1]-yvals[0]\n",
    "        plt.gca().set_aspect(ratio*(xrange/yrange), adjustable='box')\n",
    "\n",
    "        plt.title(col_cat_def[k][\"cat\"])\n",
    "    plt.savefig(outfig_fname)\n",
    "    plt.close() # Doesn't plot the output inline\n",
    "        \n",
    "    return"
   ]
  },
  {
   "cell_type": "code",
   "execution_count": 7,
   "metadata": {},
   "outputs": [],
   "source": [
    "def indx_to_bool(array_of_indices, array_length):\n",
    "    \"\"\"\n",
    "    Convert an array_of_indices into a boolean array of length array_length\n",
    "    \"\"\"\n",
    "    bool_array = np.zeros(array_length, dtype=bool)\n",
    "    bool_array[array_of_indices] = True\n",
    "    return bool_array"
   ]
  },
  {
   "cell_type": "markdown",
   "metadata": {},
   "source": [
    "### PanSTARRS and UKIDSS survey areas <a class=\"anchor\" id=\"survey-area\"></a>"
   ]
  },
  {
   "cell_type": "code",
   "execution_count": 8,
   "metadata": {},
   "outputs": [
    {
     "name": "stdout",
     "output_type": "stream",
     "text": [
      "34964523.7041\n"
     ]
    }
   ],
   "source": [
    "# Survey area definitions - used for generated random catalogue and select the relevant PanSTARRS sources\n",
    "\n",
    "# PanSTARRS \"rectangle box\" definition\n",
    "p_ra_down = 160.2\n",
    "p_dec_down = 57.2\n",
    "p_ra_up = 164.1\n",
    "p_dec_up = 58.5\n",
    "\n",
    "# UKIDSS survey area\n",
    "\n",
    "# Get the area of the rectangle used for n(m)\n",
    "# Get the PanSTARRS area in arcsec\n",
    "pan_area = survey_area(p_ra_up, p_dec_up, p_ra_down, p_dec_down)\n",
    "print(pan_area)"
   ]
  },
  {
   "cell_type": "code",
   "execution_count": 97,
   "metadata": {},
   "outputs": [],
   "source": [
    "workflow_tier = True\n",
    "\n",
    "if workflow_tier:\n",
    "    add_str = \"_workflow\"\n",
    "else:\n",
    "    add_str = \"\""
   ]
  },
  {
   "cell_type": "code",
   "execution_count": 98,
   "metadata": {},
   "outputs": [],
   "source": [
    "# Definition of the paths\n",
    "\n",
    "PATH_PYBDSF_RAW = 'data/edited_cats/radio/image_full_ampphase_di_m.NS_shift.blanked.scaled.cat_foverlap.fits'\n",
    "#PATH_MASTER_LIST = \"data/EN1_MASTER_opt_spitzer_merged_forML.fits\"\n",
    "PATH_MASTER_LIST = \"data/edited_cats/optical/LH_MASTER_opt_spitzer_merged_forLGZ.fits\""
   ]
  },
  {
   "cell_type": "code",
   "execution_count": 99,
   "metadata": {},
   "outputs": [
    {
     "name": "stdout",
     "output_type": "stream",
     "text": [
      "run1_matches_workflow/21_06_2019_1\n"
     ]
    }
   ],
   "source": [
    "# Find the latest ML RUN1 output and read that in\n",
    "catdir = latest_dir(\"run1_matches\" + add_str + \"/*2019*\")\n",
    "print(catdir)\n",
    "\n",
    "# Select the type of catalogue to load (srl or gaus)\n",
    "cat_type = \"_srl\"\n",
    "field = \"EN1\"\n",
    "\n",
    "PATH_RUN1_MATCHES = catdir + '/' + field + '_ML_RUN1' + cat_type + '_nanth.fits'"
   ]
  },
  {
   "cell_type": "code",
   "execution_count": 100,
   "metadata": {},
   "outputs": [
    {
     "name": "stdout",
     "output_type": "stream",
     "text": [
      "run1_matches_workflow/21_06_2019_1/EN1_ML_RUN1_srl_nanth.fits\n"
     ]
    }
   ],
   "source": [
    "print(PATH_RUN1_MATCHES)"
   ]
  },
  {
   "cell_type": "code",
   "execution_count": 101,
   "metadata": {},
   "outputs": [],
   "source": [
    "# Load the master and the RUN1 matches\n",
    "master =  Table.read(PATH_MASTER_LIST, format='fits')"
   ]
  },
  {
   "cell_type": "code",
   "execution_count": 102,
   "metadata": {},
   "outputs": [
    {
     "data": {
      "text/plain": [
       "'# Read in the MOC file\\nPATH_MOC = \"/disk3/rohitk/ELAIS_opt_swarped/moc_files/stitch_moc/final_mocs/EL_EN1_i_K_sw2_with_add.fits\"\\n\\n# Generate a MOC class instance first\\ncata_moc = pymoc.MOC()\\npymoc.io.fits.read_moc_fits(cata_moc, PATH_MOC)\\n\\nmoc_area = cata_moc.area_sq_deg\\nprint(\"Area of MOC: {0} sq. deg.\".format(moc_area))'"
      ]
     },
     "execution_count": 102,
     "metadata": {},
     "output_type": "execute_result"
    }
   ],
   "source": [
    "'''# Read in the MOC file\n",
    "PATH_MOC = \"/disk3/rohitk/ELAIS_opt_swarped/moc_files/stitch_moc/final_mocs/EL_EN1_i_K_sw2_with_add.fits\"\n",
    "\n",
    "# Generate a MOC class instance first\n",
    "cata_moc = pymoc.MOC()\n",
    "pymoc.io.fits.read_moc_fits(cata_moc, PATH_MOC)\n",
    "\n",
    "moc_area = cata_moc.area_sq_deg\n",
    "print(\"Area of MOC: {0} sq. deg.\".format(moc_area))'''"
   ]
  },
  {
   "cell_type": "code",
   "execution_count": 103,
   "metadata": {},
   "outputs": [
    {
     "name": "stdout",
     "output_type": "stream",
     "text": [
      "Area of r-MOC: 13.321917803932173 sq. deg.\n",
      "Area of se2-MOC: 5.574102257180664 sq. deg.\n",
      "Area of sw2-MOC: 10.949807996199757 sq. deg.\n"
     ]
    }
   ],
   "source": [
    "# Load in the MOCs\n",
    "PATH_MOC_r = \"data/edited_cats/optical/mocs/LH_r_moc_order_18_MOC_with_add.fits\"\n",
    "PATH_MOC_se2 = \"data/edited_cats/optical/mocs/LH_se2_moc_order_18_MOC.fits\"\n",
    "PATH_MOC_sw2 = \"data/edited_cats/optical/mocs/LH_sw2_moc_order_18_MOC.fits\"\n",
    "\n",
    "moc_r = pymoc.MOC()\n",
    "pymoc.io.fits.read_moc_fits(moc_r, PATH_MOC_r)\n",
    "\n",
    "moc_se2 = pymoc.MOC()\n",
    "pymoc.io.fits.read_moc_fits(moc_se2, PATH_MOC_se2)\n",
    "\n",
    "moc_sw2 = pymoc.MOC()\n",
    "pymoc.io.fits.read_moc_fits(moc_sw2, PATH_MOC_sw2)\n",
    "\n",
    "print(\"Area of r-MOC: {0} sq. deg.\".format(moc_r.area_sq_deg))\n",
    "print(\"Area of se2-MOC: {0} sq. deg.\".format(moc_se2.area_sq_deg))\n",
    "print(\"Area of sw2-MOC: {0} sq. deg.\".format(moc_sw2.area_sq_deg))"
   ]
  },
  {
   "cell_type": "markdown",
   "metadata": {},
   "source": [
    "## Define the optical and IR magnitude columns for SNR calculations"
   ]
  },
  {
   "cell_type": "code",
   "execution_count": 104,
   "metadata": {},
   "outputs": [],
   "source": [
    "# Define the magnitude/flux columns to use for optical and Spitzer data\n",
    "opt_ap = \"2\"  # 3'' aperture magnitude\n",
    "mid_ap = \"2\"  # 4'' aperture magnitude\n",
    "\n",
    "\n",
    "opt_fl_col = \"FLUX_APER_r_\" + opt_ap\n",
    "opt_efl_col = \"FLUXERR_APER_r_\" + opt_ap\n",
    "opt_mag_col = \"MAG_APER_r_\" + opt_ap\n",
    "\n",
    "mir_fl_col = \"FLUX_APER_sw2_\" + mid_ap\n",
    "mir_efl_col = \"FLUXERR_APER_sw2_\" + mid_ap\n",
    "mir_mag_col = \"MAG_APER_sw2_\" + mid_ap\n",
    "\n",
    "snr_th = 3\n",
    "\n",
    "# Condition based on overlapping area of all thee surveys\n",
    "overlap_cond = master[\"FLAG_OVERLAP\"] == 3\n",
    "\n",
    "# Compute SNR of i and K band\n",
    "snr_i = master[opt_fl_col] / master[opt_efl_col]\n",
    "i_det = np.copy((snr_i >= snr_th) & (overlap_cond))\n",
    "\n",
    "snr_ir = master[mir_fl_col] / master[mir_efl_col]\n",
    "ir_det = np.copy((snr_ir >= snr_th) & (overlap_cond))\n",
    "\n",
    "opt_ir_sources = i_det & ir_det & overlap_cond"
   ]
  },
  {
   "cell_type": "code",
   "execution_count": 105,
   "metadata": {},
   "outputs": [
    {
     "name": "stdout",
     "output_type": "stream",
     "text": [
      "564452\n",
      "564452\n",
      "1465714\n",
      "1465714\n"
     ]
    }
   ],
   "source": [
    "print(np.sum((snr_ir >= snr_th) & (overlap_cond)))\n",
    "print(np.sum(np.copy((snr_ir >= snr_th) & (overlap_cond))))\n",
    "print(np.sum((snr_i >= snr_th) & (overlap_cond)))\n",
    "print(np.sum(np.copy((snr_i >= snr_th) & (overlap_cond))))\n"
   ]
  },
  {
   "cell_type": "code",
   "execution_count": 106,
   "metadata": {},
   "outputs": [
    {
     "name": "stdout",
     "output_type": "stream",
     "text": [
      "SNR > 3 in r: 1465714\n",
      "SNR > 3 in ch2: 564452\n",
      "SNR > 3 in and r and ch2: 444304\n"
     ]
    }
   ],
   "source": [
    "# Over-ride the aperture to use after doing the SNR calculation\n",
    "opt_ap = \"3\"  # 3'' aperture magnitude\n",
    "mid_ap = \"4\"  # 4'' aperture magnitude\n",
    "\n",
    "opt_fl_col = \"FLUX_APER_r_\" + opt_ap\n",
    "opt_efl_col = \"FLUXERR_APER_r_\" + opt_ap\n",
    "opt_mag_col = \"MAG_APER_r_\" + opt_ap\n",
    "\n",
    "mir_fl_col = \"FLUX_APER_sw2_\" + mid_ap\n",
    "mir_efl_col = \"FLUXERR_APER_sw2_\" + mid_ap\n",
    "mir_mag_col = \"MAG_APER_sw2_\" + mid_ap\n",
    "\n",
    "# Compute the i-K colour for these soruces\n",
    "master[\"ich2_col_o\"] = np.nan\n",
    "master[\"ich2_col_o\"][opt_ir_sources] = master[opt_mag_col][opt_ir_sources] - master[mir_mag_col][opt_ir_sources]\n",
    "\n",
    "print(\"SNR > 3 in r: {0}\".format(np.sum(i_det)))\n",
    "print(\"SNR > 3 in ch2: {0}\".format(np.sum(ir_det)))\n",
    "print(\"SNR > 3 in and r and ch2: {0}\".format(np.sum(opt_ir_sources)))\n",
    "\n",
    "# varstat(master[opt_mag_col][opt_ir_sources])\n",
    "# varstat(master[mir_mag_col][(snr_i < 3) & (snr_i > 1.)])"
   ]
  },
  {
   "cell_type": "code",
   "execution_count": 107,
   "metadata": {},
   "outputs": [],
   "source": [
    "\"\"\"SNR > 3 in i: 1606750\n",
    "SNR > 3 in ch2: 1084915\n",
    "SNR > 3 in and i and ch2: 891001\"\"\";"
   ]
  },
  {
   "cell_type": "markdown",
   "metadata": {},
   "source": [
    "### (2) i-only and $4.5 \\mu m$-only sources"
   ]
  },
  {
   "cell_type": "code",
   "execution_count": 108,
   "metadata": {},
   "outputs": [
    {
     "name": "stdout",
     "output_type": "stream",
     "text": [
      "r-only sources: 1021410\n",
      "ch2-only sources: 120148\n"
     ]
    }
   ],
   "source": [
    "# Define these as sources with snr_i < 3 or snr_K < 3\n",
    "\n",
    "i_only = (i_det & ~ir_det)\n",
    "ir_only = (ir_det & ~i_det)\n",
    "\n",
    "print(\"r-only sources: {0}\".format(np.sum(i_only)))\n",
    "print(\"ch2-only sources: {0}\".format(np.sum(ir_only)))"
   ]
  },
  {
   "cell_type": "code",
   "execution_count": 109,
   "metadata": {},
   "outputs": [
    {
     "data": {
      "text/plain": [
       "120148"
      ]
     },
     "execution_count": 109,
     "metadata": {},
     "output_type": "execute_result"
    }
   ],
   "source": [
    "np.sum(ir_det & ~opt_ir_sources)"
   ]
  },
  {
   "cell_type": "code",
   "execution_count": 110,
   "metadata": {},
   "outputs": [
    {
     "name": "stdout",
     "output_type": "stream",
     "text": [
      "No. of r-ch2 sources: 444304\n",
      "No. of r-only sources: 1021410\n",
      "No. of ir-only sources: 120148\n",
      "=========================================\n",
      "Total no. of sources: 1585862,  52.1%\n",
      "Total no. of sources in overlap region: 1585862,   inf%\n",
      "No. of sources in the overlapping region of PS, DXS and SWIRE: 0\n",
      "No. of sources in OVERLAP and in some colour category: 0\n"
     ]
    },
    {
     "name": "stderr",
     "output_type": "stream",
     "text": [
      "/its/home/im281/.conda/envs/herschelhelp/lib/python3.6/site-packages/ipykernel_launcher.py:10: RuntimeWarning: divide by zero encountered in long_scalars\n",
      "  # Remove the CWD from sys.path while we load stuff.\n"
     ]
    }
   ],
   "source": [
    "print(\"No. of r-ch2 sources: {0}\".format(np.sum(opt_ir_sources)))\n",
    "print(\"No. of r-only sources: {0}\".format(np.sum(i_only)))\n",
    "print(\"No. of ir-only sources: {0}\".format(np.sum(ir_only)))\n",
    "print(\"=========================================\")\n",
    "\n",
    "ncol_tot = np.sum(opt_ir_sources | i_only | ir_only)\n",
    "ncol_tot_ov = np.sum((master[\"FLAG_OVERLAP\"] ==3) & (opt_ir_sources | i_only | ir_only))\n",
    "\n",
    "print(\"Total no. of sources: {0}, {1:5.3}%\".format(ncol_tot, ncol_tot/len(opt_ir_sources)*100))\n",
    "print(\"Total no. of sources in overlap region: {0}, {1:5.3}%\".format(ncol_tot_ov, ncol_tot_ov/np.sum(master[\"FLAG_OVERLAP\"]==7)*100))\n",
    "# cat_inmoc = inMoc(master[\"ALPHA_J2000\"], master[\"DELTA_J2000\"], cata_moc)\n",
    "\n",
    "print(\"No. of sources in the overlapping region of PS, DXS and SWIRE: {0}\".format(np.sum(master[\"FLAG_OVERLAP\"] == 7)))\n",
    "\n",
    "# print(\"No. of sources in MOC: {0}\".format(np.sum(cat_inmoc)))\n",
    "print(\"No. of sources in OVERLAP and in some colour category: {0}\".format(np.sum((master[\"FLAG_OVERLAP\"] ==7) & (opt_ir_sources | i_only | ir_only))))"
   ]
  },
  {
   "cell_type": "code",
   "execution_count": 111,
   "metadata": {},
   "outputs": [
    {
     "data": {
      "text/plain": [
       "80.84244546738239"
      ]
     },
     "execution_count": 111,
     "metadata": {},
     "output_type": "execute_result"
    }
   ],
   "source": [
    "ncol_tot/np.sum(master[\"FLAG_OVERLAP\"]==3)*100"
   ]
  },
  {
   "cell_type": "code",
   "execution_count": 112,
   "metadata": {},
   "outputs": [
    {
     "name": "stdout",
     "output_type": "stream",
     "text": [
      "375808\n",
      "No. of sources in OVERLAP and NOT in ANY colour category: 0\n"
     ]
    }
   ],
   "source": [
    "nocat_bool = ((master[\"FLAG_OVERLAP\"] == 3) & ~(opt_ir_sources | i_only | ir_only))\n",
    "print(np.sum(nocat_bool))\n",
    "print(\"No. of sources in OVERLAP and NOT in ANY colour category: {0}\".format(np.sum((master[\"FLAG_OVERLAP\"] ==7) & ~(opt_ir_sources | i_only | ir_only))))"
   ]
  },
  {
   "cell_type": "code",
   "execution_count": 113,
   "metadata": {},
   "outputs": [
    {
     "name": "stdout",
     "output_type": "stream",
     "text": [
      "Total no. of sources in all categories (incl. no-mag): 1961670, 1.0\n"
     ]
    }
   ],
   "source": [
    "# Do a consistency check\n",
    "all_cat_totals = np.sum((opt_ir_sources | i_only | ir_only | nocat_bool)  & (master[\"FLAG_OVERLAP\"] == 3))\n",
    "print(\"Total no. of sources in all categories (incl. no-mag): {0}, {1}\".format(all_cat_totals, all_cat_totals/np.sum(master[\"FLAG_OVERLAP\"] == 3)))"
   ]
  },
  {
   "cell_type": "code",
   "execution_count": 114,
   "metadata": {},
   "outputs": [],
   "source": [
    "full_indices = np.arange(len(master))\n",
    "\n",
    "olap_ind = full_indices[overlap_cond]\n",
    "opt_ir_ind = full_indices[opt_ir_sources]\n",
    "opt_ind = full_indices[i_only]\n",
    "ir_ind = full_indices[ir_only]\n",
    "nocat_ind = full_indices[nocat_bool]"
   ]
  },
  {
   "cell_type": "code",
   "execution_count": 115,
   "metadata": {},
   "outputs": [
    {
     "data": {
      "text/plain": [
       "(1961670, 1961670)"
      ]
     },
     "execution_count": 115,
     "metadata": {},
     "output_type": "execute_result"
    }
   ],
   "source": [
    "len(olap_ind), len(opt_ir_ind) + len(opt_ind) + len(ir_ind) + len(nocat_ind)"
   ]
  },
  {
   "cell_type": "code",
   "execution_count": 116,
   "metadata": {},
   "outputs": [],
   "source": [
    "del full_indices, olap_ind, opt_ir_ind, opt_ind, ir_ind, nocat_ind"
   ]
  },
  {
   "cell_type": "code",
   "execution_count": 117,
   "metadata": {},
   "outputs": [
    {
     "name": "stdout",
     "output_type": "stream",
     "text": [
      "34964523.7041\n",
      "375808\n",
      "n(c) of the no calour category: 0.0026183968863668795\n"
     ]
    }
   ],
   "source": [
    "# Get the area of the rectangle used for n(m)\n",
    "pan_area = survey_area(p_ra_up, p_dec_up, p_ra_down, p_dec_down)\n",
    "print(pan_area)\n",
    "\n",
    "ind_rect = field_filter(p_ra_up, p_dec_up, p_ra_down, p_dec_down, master[\"ALPHA_J2000\"], master[\"DELTA_J2000\"])\n",
    "\n",
    "# nocat_bool = ((master[\"FLAG_OVERLAP\"] ==7) &  ~(opt_ir_sources | i_only | ir_only))\n",
    "print(np.sum(nocat_bool))\n",
    "\n",
    "nm_nocat = np.sum(nocat_bool & ind_rect) / pan_area\n",
    "# nm_nocat = np.sum(i_only) / pan_area\n",
    "print(\"n(c) of the no calour category: {0}\".format(nm_nocat))"
   ]
  },
  {
   "cell_type": "markdown",
   "metadata": {},
   "source": [
    "# Get the i-K colour bins indices and create the colour groupings"
   ]
  },
  {
   "cell_type": "code",
   "execution_count": 118,
   "metadata": {},
   "outputs": [
    {
     "name": "stdout",
     "output_type": "stream",
     "text": [
      "i-K bins: \n",
      "[-40.    -0.5   -0.25   0.     0.25   0.5    0.75   1.     1.25   1.5\n",
      "   1.75   2.     2.25   2.5    2.75   3.     3.25   3.5    3.75   4.    40.  ]\n"
     ]
    }
   ],
   "source": [
    "# Separate the objects into the i-K colour indices\n",
    "\n",
    "# Colour bin width\n",
    "col_bin_width = 0.2\n",
    "\n",
    "iK_col_bins = np.arange(-1.5, 4.5+0.5, 0.5)\n",
    "iK_col_bins[0] = -50. # Some very small small such that the i-K < 3 bin can be calculated\n",
    "iK_col_bins[-1] = 50.\n",
    "\n",
    "large_binw = 0.5\n",
    "small_binw = 0.25\n",
    "\n",
    "iK_col_bins = []\n",
    "mid_iK_col_bins = list(np.arange(-1+small_binw, 4.2+small_binw, small_binw))\n",
    "iK_col_bins.extend(mid_iK_col_bins)\n",
    "iK_col_bins[0] = -40\n",
    "\n",
    "# iK_col_bins.extend(list(np.arange(1.5+large_binw, 5.0, large_binw)))\n",
    "iK_col_bins[-1] = 40\n",
    "\n",
    "iK_col_bins = np.array(iK_col_bins)\n",
    "\n",
    "print(\"i-K bins: \")\n",
    "print(iK_col_bins)\n"
   ]
  },
  {
   "cell_type": "code",
   "execution_count": 119,
   "metadata": {},
   "outputs": [
    {
     "name": "stderr",
     "output_type": "stream",
     "text": [
      "/its/home/im281/.conda/envs/herschelhelp/lib/python3.6/site-packages/astropy/table/column.py:965: RuntimeWarning: invalid value encountered in greater_equal\n",
      "  return getattr(self.data, op)(other)\n",
      "/its/home/im281/.conda/envs/herschelhelp/lib/python3.6/site-packages/astropy/table/column.py:965: RuntimeWarning: invalid value encountered in less\n",
      "  return getattr(self.data, op)(other)\n"
     ]
    }
   ],
   "source": [
    "def get_iK_bin_indices(iK_bin_list, iK_colours):\n",
    "    \"\"\"\n",
    "    Get the indices of objects in each giK colour bins \n",
    "    10 i-K colour bins --> further divided into 2 equal g-i colour halves\n",
    "    \n",
    "    Parameters:\n",
    "    -----------\n",
    "    \n",
    "    iK_bin_list : Bin list of i-K colours\n",
    "    iK_colours : i-K colour of the sources to be binned\n",
    "    \n",
    "    Returns:\n",
    "    --------\n",
    "    iK_ind : Indices in each i-K bin, a list of bool arrays\n",
    "    \"\"\"\n",
    "    \n",
    "    # List of boolean arrays (each of length=len(iK_digitize))\n",
    "    iK_all_ind = []\n",
    "    # List of boolean arrays  - BUT each array has length = len(master) - so it an be used for indexing\n",
    "    iK_full_ind = []\n",
    "\n",
    "    # Loop counter\n",
    "    count = 0\n",
    "    \n",
    "    # Gives indices of objects in each bin\n",
    "    for k in range(len(iK_bin_list)-1):\n",
    "        \n",
    "        # Bool array of colours within the jth and jth+1 bin\n",
    "        iK_full_ind.append((iK_colours >= iK_bin_list[k]) & (iK_colours < iK_bin_list[k+1]))\n",
    "        \n",
    "    return iK_full_ind # Don't actually need to return iK_all_ind\n",
    "\n",
    "# Full master indices\n",
    "master_indices_arr = np.arange(len(master))\n",
    "# iKcol_master_ind = master_indices_arr[iK_sources]\n",
    "\n",
    "iK_ind = get_iK_bin_indices(iK_col_bins, master[\"ich2_col_o\"])"
   ]
  },
  {
   "cell_type": "markdown",
   "metadata": {},
   "source": [
    "### Define the non-colour categories here"
   ]
  },
  {
   "cell_type": "code",
   "execution_count": 120,
   "metadata": {},
   "outputs": [
    {
     "name": "stdout",
     "output_type": "stream",
     "text": [
      "**** i-4.5 colour bins and master catalogue sources *****\n",
      "20 i-4.5 colour categories\n",
      "-40.0 < -0.5: 10485\n",
      "-0.5 < -0.25: 5137\n",
      "-0.25 < 0.0: 7871\n",
      "0.0 < 0.25: 10846\n",
      "0.25 < 0.5: 14601\n",
      "0.5 < 0.75: 18594\n",
      "0.75 < 1.0: 22804\n",
      "1.0 < 1.25: 26284\n",
      "1.25 < 1.5: 29222\n",
      "1.5 < 1.75: 31447\n",
      "1.75 < 2.0: 32875\n",
      "2.0 < 2.25: 33651\n",
      "2.25 < 2.5: 33065\n",
      "2.5 < 2.75: 31430\n",
      "2.75 < 3.0: 29271\n",
      "3.0 < 3.25: 25973\n",
      "3.25 < 3.5: 22032\n",
      "3.5 < 3.75: 17856\n",
      "3.75 < 4.0: 13671\n",
      "4.0 < 40.0: 27121\n"
     ]
    }
   ],
   "source": [
    "print(\"**** i-4.5 colour bins and master catalogue sources *****\")\n",
    "print(\"{0} i-4.5 colour categories\".format(len(iK_col_bins)-1))\n",
    "for k in range(len(iK_ind)):\n",
    "    print(\"{0} < {1}: {2}\".format(iK_col_bins[k], iK_col_bins[k+1], np.sum(iK_ind[k])))"
   ]
  },
  {
   "cell_type": "code",
   "execution_count": 121,
   "metadata": {},
   "outputs": [],
   "source": [
    "# Make a list of the \"non-colour\" colour categories from the above classifications and the string corresponding to the category\n",
    "\"\"\"no_col_group_str = [\"iK_only\", \"gi_only\", \"i_only\", \"ir_only\"]  # This is used for making the colour categories dictionary\n",
    "\n",
    "non_col_group = []\n",
    "non_col_group.append(iK_only)\n",
    "non_col_group.append(gi_only)\n",
    "non_col_group.append(new_ionly)\n",
    "non_col_group.append(ir_only)\"\"\";\n",
    "\n",
    "no_col_group_str = [\"i_only\", \"ir_only\", \"no_mag\"]  # This is used for making the colour categories dictionary\n",
    "\n",
    "non_col_group = []\n",
    "non_col_group.append(i_only)\n",
    "non_col_group.append(ir_only)\n",
    "non_col_group.append(nocat_bool)"
   ]
  },
  {
   "cell_type": "code",
   "execution_count": 122,
   "metadata": {},
   "outputs": [
    {
     "name": "stdout",
     "output_type": "stream",
     "text": [
      "['${-40.0} < (i-4.5) \\\\leq {-0.5}$', '${-0.5} < (i-4.5) \\\\leq {-0.25}$', '${-0.25} < (i-4.5) \\\\leq {0.0}$', '${0.0} < (i-4.5) \\\\leq {0.25}$', '${0.25} < (i-4.5) \\\\leq {0.5}$', '${0.5} < (i-4.5) \\\\leq {0.75}$', '${0.75} < (i-4.5) \\\\leq {1.0}$', '${1.0} < (i-4.5) \\\\leq {1.25}$', '${1.25} < (i-4.5) \\\\leq {1.5}$', '${1.5} < (i-4.5) \\\\leq {1.75}$', '${1.75} < (i-4.5) \\\\leq {2.0}$', '${2.0} < (i-4.5) \\\\leq {2.25}$', '${2.25} < (i-4.5) \\\\leq {2.5}$', '${2.5} < (i-4.5) \\\\leq {2.75}$', '${2.75} < (i-4.5) \\\\leq {3.0}$', '${3.0} < (i-4.5) \\\\leq {3.25}$', '${3.25} < (i-4.5) \\\\leq {3.5}$', '${3.5} < (i-4.5) \\\\leq {3.75}$', '${3.75} < (i-4.5) \\\\leq {4.0}$', '${4.0} < (i-4.5) \\\\leq {40.0}$', '${i-only}$', '${4.5-only}$']\n"
     ]
    }
   ],
   "source": [
    "# Make a list of the legends for the plots later on\n",
    "col_cat_legend = []\n",
    "\n",
    "for k in range(len(iK_ind)):\n",
    "    col_cat_legend.append(r\"${{{low}}} < (i-4.5) \\leq {{{max}}}$\".format(low=iK_col_bins[k], max=iK_col_bins[k+1]))\n",
    "    \n",
    "# Add the i-only, ir-only and no-mag category\n",
    "no_col_group_str_latex = [\"i-only\", \"4.5-only\"]\n",
    "for estr in no_col_group_str_latex:\n",
    "    col_cat_legend.append(r\"${{{lstr}}}$\".format(lstr=estr))\n",
    "\n",
    "print(col_cat_legend)"
   ]
  },
  {
   "cell_type": "markdown",
   "metadata": {},
   "source": [
    "### Make a dictionary of colour categories (for the 29 defined categories) <a class=\"anchor\" id=\"dict_col_cat\"></a>"
   ]
  },
  {
   "cell_type": "code",
   "execution_count": 123,
   "metadata": {},
   "outputs": [
    {
     "name": "stdout",
     "output_type": "stream",
     "text": [
      "Category # Sources       Cat no.\n",
      "i45_1 \t 10485       0\n",
      "i45_2 \t 5137       1\n",
      "i45_3 \t 7871       2\n",
      "i45_4 \t 10846       3\n",
      "i45_5 \t 14601       4\n",
      "i45_6 \t 18594       5\n",
      "i45_7 \t 22804       6\n",
      "i45_8 \t 26284       7\n",
      "i45_9 \t 29222       8\n",
      "i45_10 \t 31447       9\n",
      "i45_11 \t 32875       10\n",
      "i45_12 \t 33651       11\n",
      "i45_13 \t 33065       12\n",
      "i45_14 \t 31430       13\n",
      "i45_15 \t 29271       14\n",
      "i45_16 \t 25973       15\n",
      "i45_17 \t 22032       16\n",
      "i45_18 \t 17856       17\n",
      "i45_19 \t 13671       18\n",
      "i45_20 \t 27121       19\n",
      "i_only \t 1021410       20\n",
      "ir_only \t 120148       21\n",
      "no_mag \t 375808       22\n",
      "====================================================\n",
      "Total no. of sources in ANY category: 1961602\n",
      "No. of MASTER sources not in any category: 1080192\n",
      "No. of MASTER sources in MOC but with NO colour category: 68\n"
     ]
    }
   ],
   "source": [
    "# Make a dictionary of the colour categories\n",
    "\n",
    "col_cat_def = []\n",
    "# Build up the dictionary for each of the 29 categories\n",
    "\n",
    "# Initialise with the 1st category (both lower and upper giK half)\n",
    "col_cat_def = [{\"cat_no\":0, \"cat\":\"i45_1\",\n",
    "                \"condition\":iK_ind[0]}]\n",
    "\n",
    "############### For the 20 giK colour categories ###############\n",
    "\n",
    "for k in range(1, len(iK_ind)):\n",
    "    \n",
    "    col_cat_def.append({\"cat_no\":col_cat_def[-1]['cat_no']+1,    # Add 1 to the previous category number\n",
    "                        \"cat\":\"i45_\" + str(k+1),               # Edit the unique category identifier\n",
    "                        \"condition\":iK_ind[k]})              # Append the gi <= median bool array\n",
    "\n",
    "###############  For the non-colour categories #################\n",
    "\n",
    "# The unique string identifying each of the non-colour categories\n",
    "# non_col_group_str = [\"i_only\", \"ir_only\"]  # This is used for making the colour categories dictionary\n",
    "\n",
    "for k in range(len(non_col_group)):\n",
    "    \n",
    "    col_cat_def.append({\"cat_no\":col_cat_def[-1]['cat_no']+1,\n",
    "                        \"cat\":no_col_group_str[k],\n",
    "                        \"condition\":non_col_group[k]})\n",
    "\n",
    "# Print the numbers in each category    \n",
    "test = []\n",
    "print(\"Category # Sources       Cat no.\")\n",
    "for item in col_cat_def:\n",
    "    print(\"{0} \\t {1}       {2}\".format(item['cat'], np.sum(item[\"condition\"]), item[\"cat_no\"]))\n",
    "    test.append(np.sum(item[\"condition\"]))\n",
    "\n",
    "print(\"====================================================\")\n",
    "print(\"Total no. of sources in ANY category: {0}\".format(np.sum(test)))\n",
    "\n",
    "# Strings of all categories\n",
    "all_cat = [a['cat'] for a in col_cat_def]\n",
    "# Total numbers in each colour category\n",
    "tot_numbers = np.array([np.sum(a[\"condition\"]) for a in col_cat_def])\n",
    "\n",
    "\n",
    "# For each source in the master catalogue, assign it a category\n",
    "master[\"cat_no\"] = np.nan\n",
    "for aa in col_cat_def:\n",
    "    \n",
    "    # Assign value=aa wherever the \"condition\" of the source evaluates to true\n",
    "    # i.e. if a row in col_cat_def[\"condition\"][aa] == True, assign it the master[\"cat_no\"] = aa\n",
    "    master[\"cat_no\"][aa[\"condition\"]] = aa[\"cat_no\"]\n",
    "\n",
    "# Number of master sources not in any category\n",
    "print(\"No. of MASTER sources not in any category: \" + str(np.sum(np.isnan(master[\"cat_no\"]))))\n",
    "print(\"No. of MASTER sources in MOC but with NO colour category: {0}\".format(np.sum((master[\"FLAG_OVERLAP\"]==3) & np.isnan(master[\"cat_no\"]))))\n",
    "#master.write('MASTER_LIST_0418_with_mag_ccat', format='ascii')"
   ]
  },
  {
   "cell_type": "code",
   "execution_count": 124,
   "metadata": {},
   "outputs": [
    {
     "name": "stdout",
     "output_type": "stream",
     "text": [
      "Total no. of colour categories: 23\n",
      "['MAG_APER_r_3', 'MAG_APER_r_3', 'MAG_APER_r_3', 'MAG_APER_r_3', 'MAG_APER_r_3', 'MAG_APER_r_3', 'MAG_APER_r_3', 'MAG_APER_r_3', 'MAG_APER_r_3', 'MAG_APER_r_3', 'MAG_APER_r_3', 'MAG_APER_r_3', 'MAG_APER_r_3', 'MAG_APER_r_3', 'MAG_APER_r_3', 'MAG_APER_r_3', 'MAG_APER_r_3', 'MAG_APER_r_3', 'MAG_APER_r_3', 'MAG_APER_r_3', 'MAG_APER_r_3', 'MAG_APER_sw2_4', 'no_mag']\n"
     ]
    }
   ],
   "source": [
    "# List of magnitude column names - fn_opt_indices in apply_ml(*args) function\n",
    "mag_col_name = []\n",
    "\n",
    "for a in range(len(col_cat_def)):\n",
    "    \n",
    "    if col_cat_def[a][\"cat\"][:4] == 'i45_' or col_cat_def[a][\"cat\"] == 'i_only':\n",
    "        # i.e. if the category is either i-4.5 colour or i_only, then use the i-band colour\n",
    "        mag_col_name.append(opt_mag_col)\n",
    "        \n",
    "    elif col_cat_def[a][\"cat\"] == 'ir_only':\n",
    "        mag_col_name.append(mir_mag_col)\n",
    "        \n",
    "    elif col_cat_def[a][\"cat\"] == 'iK_only':\n",
    "        mag_col_name.append(\"MAG_APER_K_3\")\n",
    "        \n",
    "    elif col_cat_def[a][\"cat\"] == 'gi_only':\n",
    "        mag_col_name.append(opt_mag_col)\n",
    "        \n",
    "    elif col_cat_def[a][\"cat\"] == \"no_mag\":\n",
    "        mag_col_name.append(\"no_mag\")\n",
    "\n",
    "print(\"Total no. of colour categories: {0}\".format(len(mag_col_name)))\n",
    "print(mag_col_name)"
   ]
  },
  {
   "cell_type": "code",
   "execution_count": 125,
   "metadata": {},
   "outputs": [],
   "source": [
    "# Function to compute ML based on magnitude of possible conterpart and the sigma\n",
    "\n",
    "def apply_ml(i):\n",
    "    \"\"\"\n",
    "    Function which combines previous routines to compute ML values \n",
    "    for each ith LOFAR source that has a match within 15'' to opt/NIR catalogue\n",
    "    \n",
    "    Parameters:\n",
    "    -----------\n",
    "    i : Index of the LOFAR coordinates\n",
    "    fn_opt_indices : Field name of indices in MASTER catalogue\n",
    "    mean_Q0 : Mean Q0 value for the band\n",
    "    nm_categ : Cumulative n(m) distribution for the category\n",
    "    qm_categ : Cumulative q(m) distribution for the category\n",
    "    nm_bc_categ : Bin centres from the n(m) distribution\n",
    "    \n",
    "    Returns:\n",
    "    --------\n",
    "    res = [opt_index,dist,lr_value] : [Index into the optical catalogue,\n",
    "                                        Separation to counterpart,\n",
    "                                        LR value]\n",
    "    \"\"\"\n",
    "    mean_Q0 = Q0_c\n",
    "    nm_categ = mag_nm_cumul\n",
    "    qm_categ = mag_qm_cumul\n",
    "    nm_bc_categ = nm_bin_c\n",
    "    fn_opt_indices = mag_col_name\n",
    "    \n",
    "    # Get the indices into the corresponding MASTER_category catalogue\n",
    "    indx_o_match = indx_m[indx_l == i]\n",
    "    s2d_o = s2d[indx_l == i]  # The 2d separation of the sources from LOFAR source\n",
    "\n",
    "    \n",
    "    # Indices corresponding to the FULL MASTER catalogue - the -1 to get into python index notation\n",
    "    indx_o_master = master_categ[\"NUMBER\"][indx_o_match]\n",
    "    \n",
    "    # Get the LOFAR positions and errors\n",
    "    lofar_ra = final['RA'][i]\n",
    "    lofar_dec = final['DEC'][i]\n",
    "    lofar_pa = final['PA'][i]\n",
    "    lofar_maj_err = final['E_Maj'][i]\n",
    "    lofar_min_err = final['E_Min'][i]\n",
    "    \n",
    "    # Get the optical/NIR counterpart positions and positional errors\n",
    "    c_ra = master_categ['ALPHA_J2000'][indx_o_match]\n",
    "    c_dec = master_categ['DELTA_J2000'][indx_o_match]\n",
    "    \n",
    "    c_ra_err = np.ones(len(indx_o_match)) * 0.35\n",
    "    c_dec_err = np.ones(len(indx_o_match)) * 0.35\n",
    "    \n",
    "    # Get the categories of the possible counterparts\n",
    "    c_cat_no = master_categ[\"cat_no\"][indx_o_match].astype(int)\n",
    "    # For each possible counterpart - use the required n(m,c) and q(m,c) based on the cat number\n",
    "    \n",
    "    # For each possible counterpart - use the required n(m,c) and q(m,c) based on the cat number\n",
    "    \n",
    "    sigma_0_0, det_sigma = get_sigma_all(lofar_maj_err, lofar_min_err, lofar_pa, \n",
    "                      lofar_ra, lofar_dec, \n",
    "                      c_ra, c_dec, c_ra_err, c_dec_err)\n",
    "    \n",
    "    c_lr = []\n",
    "    for jj in range(len(c_cat_no)):\n",
    "\n",
    "        # Define the magnitude colum to use from the list of magnitude columns based on the category of jj'th source\n",
    "        mag_col_to_use = fn_opt_indices[c_cat_no[jj]]\n",
    "        \n",
    "        # Older sigma calculation without the correct angles\n",
    "        \"\"\"sig, sig_maj, sig_min = get_sigma_all(lofar_maj_err, lofar_min_err,\n",
    "                                                  lofar_pa, lofar_ra, lofar_dec,\n",
    "                                                  c_ra[jj], c_dec[jj], c_ra_err[jj], c_dec_err[jj])\"\"\"\n",
    "\n",
    "        if mag_col_to_use != \"no_mag\":\n",
    "            # Magnitude of the jj'th counterpart\n",
    "            c_mag = master_categ[mag_col_to_use][indx_o_match]\n",
    "\n",
    "            # mean_Q0[c_cat_no[jj]]\n",
    "            c_lr.append(get_lr(c_mag[jj], mean_Q0[c_cat_no[jj]], nm_categ[c_cat_no[jj]], qm_categ[c_cat_no[jj]], \n",
    "                               np.sqrt(sigma_0_0[jj]), sigma_0_0[jj], det_sigma[jj], (s2d_o.arcsec)[jj],\n",
    "                               nm_bc_categ, lof_opt_rad, False))\n",
    "        else:\n",
    "            \n",
    "            # This is the case where there is no magnitude or colour information, simply Q0/n * f(r)\n",
    "            \n",
    "            # Get f(r) and F(r)\n",
    "            fr = fr_u((s2d_o.arcsec)[jj], sigma_0_0[jj], det_sigma[jj])\n",
    "            \n",
    "            # Compute F(r) using search radius from matching and the combined sigma\n",
    "            # Fr = compute_Fr(lof_opt_rad, sig)\n",
    "            # COmpute \"q(m)\" by factoring Q0 by F(r) to get the expected matches within search radius\n",
    "            \n",
    "            qm_fix = null_Q0_nocat   #/ Fr\n",
    "\n",
    "            c_lr.append(qm_fix * fr / nm_nocat)\n",
    "    \n",
    "    # Get indices of n=4 maximum values\n",
    "    # arr.argsort()[-4:][::-1]\n",
    "\n",
    "    if np.sum(~np.isnan(c_lr)) == 0:\n",
    "        result = [np.nan, np.nan, np.nan]\n",
    "\n",
    "        \"\"\"if not os.path.exists(outdir_name + \"/nan_slices/\"):\n",
    "            os.makedirs(outdir_name + \"/nan_slices/\")\n",
    "            \n",
    "        pickle.dump([i, indx_o_master], open(outdir_name+\"/nan_slices/list_lofar_and_masterfull_ind_{0}.pckl\".format(run_count), \"wb\"))\n",
    "        \n",
    "        with open(outdir_name + \"/nan_slices/nan_slice_masterfull_ind_{0}.txt\".format(run_count), 'a') as fout:\n",
    "            fout.write(' '.join([str(aa) for aa in indx_o_master]) + \"\\n\")\n",
    "\n",
    "        with open(outdir_name + \"/nan_slices/nan_slice_lofar_ind_{0}.txt\".format(run_count), 'a') as fout:\n",
    "            fout.write(str(i) + \"\\n\")\"\"\"\n",
    "    else:\n",
    "        # Get the index of the maximum\n",
    "        lr_max_ind = np.nanargmax(c_lr)\n",
    "        \n",
    "        result = [indx_o_master[lr_max_ind],            # i_band_index into the master catalogue\n",
    "              (s2d_o.arcsec)[lr_max_ind],           # Separation between counterpart and LOFAR source\n",
    "              c_lr[lr_max_ind]]                     # Max LR value\n",
    "    \n",
    "    return result"
   ]
  },
  {
   "cell_type": "markdown",
   "metadata": {},
   "source": [
    "### Delete all the unnecessary data and columns to save memory\n",
    "Remove all columns other than raErr and decErr (xErr and yErr for K-band)"
   ]
  },
  {
   "cell_type": "code",
   "execution_count": 126,
   "metadata": {},
   "outputs": [],
   "source": [
    "del iK_ind, non_col_group, i_only, ir_only, i_det, ir_det, opt_ir_sources, snr_i, snr_ir, nocat_bool, ncol_tot"
   ]
  },
  {
   "cell_type": "code",
   "execution_count": 127,
   "metadata": {},
   "outputs": [
    {
     "data": {
      "text/plain": [
       "650"
      ]
     },
     "execution_count": 127,
     "metadata": {},
     "output_type": "execute_result"
    }
   ],
   "source": [
    "import gc\n",
    "gc.collect()"
   ]
  },
  {
   "cell_type": "markdown",
   "metadata": {},
   "source": [
    "# Everything above are parameters that don't change\n",
    "\n",
    "---\n",
    "\n",
    "# Now iterate the LR analysis\n",
    "\n",
    "-----"
   ]
  },
  {
   "cell_type": "code",
   "execution_count": 128,
   "metadata": {},
   "outputs": [],
   "source": [
    "# Make a directory based on when the code is run to store output\n",
    "\n",
    "# Make the general directory to store the catalogue\n",
    "if os.path.exists(strftime(\"colour_runs\"+add_str+\"/%d_%m_%Y_1\")):\n",
    "    # Get list of directories created today\n",
    "    outdir_name = strftime(\"colour_runs\"+add_str+\"/%d_%m_%Y\")\n",
    "    dirs_today = sorted(glob.glob(outdir_name+\"*\"))\n",
    "\n",
    "    # Now create a new output directory name by adding one to the last number\n",
    "    last_num = int(dirs_today[-1][-1])+1\n",
    "\n",
    "    # Now finally create the directory\n",
    "    outdir_name = outdir_name+\"_\"+str(last_num)\n",
    "    os.makedirs(outdir_name)\n",
    "    outdir_intermediate = outdir_name+'/interm_output'\n",
    "    os.makedirs(outdir_intermediate)\n",
    "else:\n",
    "    outdir_name = strftime(\"colour_runs\"+add_str+\"/%d_%m_%Y_1\")\n",
    "    os.makedirs(outdir_name)\n",
    "    outdir_intermediate = outdir_name+'/interm_output'\n",
    "    os.makedirs(outdir_intermediate)"
   ]
  },
  {
   "cell_type": "code",
   "execution_count": 129,
   "metadata": {},
   "outputs": [
    {
     "data": {
      "text/plain": [
       "('colour_runs_workflow/21_06_2019_1',\n",
       " 'colour_runs_workflow/21_06_2019_1/interm_output')"
      ]
     },
     "execution_count": 129,
     "metadata": {},
     "output_type": "execute_result"
    }
   ],
   "source": [
    "outdir_name, outdir_intermediate"
   ]
  },
  {
   "cell_type": "code",
   "execution_count": 130,
   "metadata": {},
   "outputs": [
    {
     "data": {
      "text/plain": [
       "'run1_matches_workflow/21_06_2019_1/EN1_ML_RUN1_srl_nanth.fits'"
      ]
     },
     "execution_count": 130,
     "metadata": {},
     "output_type": "execute_result"
    }
   ],
   "source": [
    "PATH_RUN1_MATCHES"
   ]
  },
  {
   "cell_type": "code",
   "execution_count": 131,
   "metadata": {},
   "outputs": [],
   "source": [
    "# Load the LOFAR catalogue with the RUN1 matches\n",
    "final = Table.read(PATH_RUN1_MATCHES, format='fits')  ### Find LR > th from initial set of matches\n",
    "\n",
    "opt_lr = \"i\"\n",
    "mir_lr = \"ch2\""
   ]
  },
  {
   "cell_type": "code",
   "execution_count": 132,
   "metadata": {},
   "outputs": [
    {
     "data": {
      "text/plain": [
       "26948"
      ]
     },
     "execution_count": 132,
     "metadata": {},
     "output_type": "execute_result"
    }
   ],
   "source": [
    "len(final)"
   ]
  },
  {
   "cell_type": "code",
   "execution_count": 133,
   "metadata": {},
   "outputs": [
    {
     "name": "stdout",
     "output_type": "stream",
     "text": [
      "No. of sources above threshold in any band: 26179\n",
      "Frac. of LOFAR sources above threshold : 0.9714635594478255\n",
      "No. of NaNs: 769\n",
      "No. of possible counterparts in any category: 26174\n",
      "No. of possible counterparts NOT in any category: 5\n"
     ]
    }
   ],
   "source": [
    "# Find the number of sources above the threshold in any of the bands\n",
    "n_th = (~np.isnan(final[\"lr_i\"]) | ~np.isnan(final[\"lr_ch2\"]))\n",
    "print(\"No. of sources above threshold in any band: \" + str(len(final[n_th])))\n",
    "\n",
    "print(\"Frac. of LOFAR sources above threshold : \" + str(len(final[n_th])/float(len(final))))\n",
    "\n",
    "final[\"lr_1\"] = np.nan\n",
    "final[\"lr_1\"][n_th] = np.nanmax((final[\"lr_i\"][n_th], final[\"lr_ch2\"][n_th]), axis=0)\n",
    "final[\"lr_type_1\"] = 0  # Sets numbers to be 0 for the ~700sources where all LRs in all bands are below threshold\n",
    "final[\"lr_type_1\"][n_th] = np.nanargmax((final[\"lr_i\"][n_th], final[\"lr_ch2\"][n_th]), axis=0) + 1\n",
    "\n",
    "# Based on the value of type, assign the MASTER index to lr_index_1 column and dist to the lr_dist_1 column\n",
    "final[\"lr_index_1\"] = np.nan\n",
    "final[\"lr_dist_1\"] = np.nan\n",
    "\n",
    "# Do it in a loop\n",
    "# String of the bands\n",
    "band_str = [opt_lr, mir_lr]\n",
    "\n",
    "for k in range(1,np.nanmax(final[\"lr_type_1\"])+1):\n",
    "\n",
    "    # Assing the MASTER index of the most likely band counterpart\n",
    "    final[\"lr_index_1\"][final[\"lr_type_1\"] == k] = final[\"lr_index_\"+band_str[k-1]][final[\"lr_type_1\"] == k]\n",
    "    \n",
    "    # Assign the distance to the most likely band counterpart\n",
    "    final[\"lr_dist_1\"][final[\"lr_type_1\"] == k] = final[\"lr_dist_\"+band_str[k-1]][final[\"lr_type_1\"] == k]\n",
    "\n",
    "print(\"No. of NaNs: {0}\".format(len(final[np.isnan(final[\"lr_index_1\"])])))\n",
    "### Associate each of the initial counterparts to the master[\"cat_no\"]\n",
    "\n",
    "# Colour category of the counterpart\n",
    "final[\"cat_no\"] = np.nan\n",
    "final[\"cat_no\"][n_th] = master[\"cat_no\"][(final[\"lr_index_1\"][n_th]).astype(int)]\n",
    "\n",
    "# The number of nan's ideally should be equal to the no of sources above threshold - but since not all MASTER\n",
    "# sources have a colour category, it will be lower\n",
    "print(\"No. of possible counterparts in any category: \" + str(np.sum(~np.isnan(final[\"cat_no\"][n_th]))))\n",
    "print(\"No. of possible counterparts NOT in any category: \" + str(np.sum(np.isnan(final[\"cat_no\"][n_th]))))\n",
    "\n",
    "### Finally compute q(m,c)\n",
    "\n",
    "# Indices of LOFAR catalogue sources within each category\n",
    "cat_ind = np.array([final[\"cat_no\"] == a[\"cat_no\"] for a in col_cat_def])\n",
    "\n",
    "# Copy the index field to be used and overwritten in loop\n",
    "final[\"lr_index_run_n\"] = np.copy(final[\"lr_index_1\"])\n"
   ]
  },
  {
   "cell_type": "code",
   "execution_count": 134,
   "metadata": {},
   "outputs": [
    {
     "name": "stdout",
     "output_type": "stream",
     "text": [
      "Number of counterparts in each category:\n",
      "i45_1 46\n",
      "i45_2 34\n",
      "i45_3 113\n",
      "i45_4 247\n",
      "i45_5 432\n",
      "i45_6 612\n",
      "i45_7 823\n",
      "i45_8 1082\n",
      "i45_9 1212\n",
      "i45_10 1272\n",
      "i45_11 1236\n",
      "i45_12 1343\n",
      "i45_13 1329\n",
      "i45_14 1319\n",
      "i45_15 1363\n",
      "i45_16 1311\n",
      "i45_17 1337\n",
      "i45_18 1340\n",
      "i45_19 1228\n",
      "i45_20 3577\n",
      "i_only 185\n",
      "ir_only 4733\n",
      "no_mag 0\n"
     ]
    }
   ],
   "source": [
    "no_lofar = np.sum(cat_ind, axis=1)\n",
    "print(\"Number of counterparts in each category:\")\n",
    "\n",
    "for k in range(len(no_lofar)):\n",
    "    print(all_cat[k], no_lofar[k])"
   ]
  },
  {
   "cell_type": "code",
   "execution_count": 135,
   "metadata": {},
   "outputs": [],
   "source": [
    "# Categories when the \"i_only\" category was split into gi_only, \"new_ionly\" and iK_only\n",
    "\"\"\"Number of counterparts in each category:\n",
    "i45_1 26\n",
    "i45_2 34\n",
    "i45_3 94\n",
    "i45_4 232\n",
    "i45_5 392\n",
    "i45_6 643\n",
    "i45_7 816\n",
    "i45_8 907\n",
    "i45_9 833\n",
    "i45_10 716\n",
    "i45_11 764\n",
    "i45_12 698\n",
    "i45_13 684\n",
    "i45_14 584\n",
    "i45_15 598\n",
    "i45_16 622\n",
    "i45_17 617\n",
    "i45_18 578\n",
    "i45_19 543\n",
    "i45_20 1222\n",
    "iK_only 132\n",
    "gi_only 74\n",
    "i_only 68\n",
    "ir_only 1004\"\"\";"
   ]
  },
  {
   "cell_type": "code",
   "execution_count": 136,
   "metadata": {},
   "outputs": [
    {
     "name": "stdout",
     "output_type": "stream",
     "text": [
      "No. of sources used for n(m, c) calculation: 479077\n"
     ]
    }
   ],
   "source": [
    "# Set up the initial conditions before running a while loop to iterate the LR analysis\n",
    "\n",
    "# Indices of objects within rectangle - for n(m,c)\n",
    "# Find the indices in the master catalogue within the rectangle\n",
    "ind_rect = field_filter(p_ra_up, p_dec_up, p_ra_down, p_dec_down, master[\"ALPHA_J2000\"], master[\"DELTA_J2000\"])\n",
    "print(\"No. of sources used for n(m, c) calculation: {0}\".format(np.sum(ind_rect)))\n",
    "\n",
    "# Define a parallel processing function\n",
    "\n",
    "# The number of cpu's to use\n",
    "ncpu = mp.cpu_count()\n",
    "ncpu_use = np.max([1, ncpu-1])\n",
    "\n",
    "def run_parallel_c(i):\n",
    "    \n",
    "    pool = mp.Pool(processes=ncpu_use)\n",
    "    resu = pool.map(apply_ml,i)\n",
    "    return resu\n",
    "\n",
    "\n",
    "# Initial value for number of categories where difference in source between previous run is non-zero\n",
    "diff_no_lofar_sum = 800\n",
    "n_changes = 800\n",
    "\n",
    "# Max number of sources per category that can change for while loop to converge\n",
    "# tol = 0\n",
    "tol = 1\n",
    "\n",
    "# The Minimum Q0 value to set - such that 1 LOFAR source over the whole area might be a possible counterpart\n",
    "# null_Q0 = 0.0005\n",
    "null_Q0 = 0.001\n",
    "\n",
    "null_Q0_nocat = null_Q0"
   ]
  },
  {
   "cell_type": "code",
   "execution_count": 137,
   "metadata": {},
   "outputs": [],
   "source": [
    "# Firstly generate bin list and centres\n",
    "nm_bin_list, nm_bin_c = gen_binc_binl(7., 35., 0.05)\n",
    "\n",
    "# FIX THE THRESHOLD OF LR\n",
    "fix_th = False\n",
    "\n",
    "lof_opt_rad = 15\n",
    "run_count = 1\n",
    "\n",
    "lofar_co = SkyCoord(final[\"RA\"], final[\"DEC\"], unit='deg', frame='icrs')"
   ]
  },
  {
   "cell_type": "code",
   "execution_count": 138,
   "metadata": {},
   "outputs": [
    {
     "name": "stdout",
     "output_type": "stream",
     "text": [
      "==================================================\n",
      "*************** RUN NUMBER: 1 ***************\n",
      "Number of counterparts in each category:\n",
      "i45_1 46\n",
      "i45_2 34\n",
      "i45_3 113\n",
      "i45_4 247\n",
      "i45_5 432\n",
      "i45_6 612\n",
      "i45_7 823\n",
      "i45_8 1082\n",
      "i45_9 1212\n",
      "i45_10 1272\n",
      "i45_11 1236\n",
      "i45_12 1343\n",
      "i45_13 1329\n",
      "i45_14 1319\n",
      "i45_15 1363\n",
      "i45_16 1311\n",
      "i45_17 1337\n",
      "i45_18 1340\n",
      "i45_19 1228\n",
      "i45_20 3577\n",
      "i_only 185\n",
      "ir_only 4733\n",
      "no_mag 0\n",
      "No. of nan mag in all colour categories: 0\n",
      "No. of nan mag in all colour categories: 0\n",
      "Q0: \n",
      "[ 0.00170699  0.00126169  0.00419326  0.0091658   0.01603087  0.02271041\n",
      "  0.0305403   0.0401514   0.04497551  0.04720202  0.04586611  0.04983672\n",
      "  0.0493172   0.04894612  0.05057889  0.04864925  0.04961407  0.0497254\n",
      "  0.04556924  0.13273712  0.00686507  0.17563456  0.001     ]\n",
      "15.016300678253174\n"
     ]
    },
    {
     "name": "stderr",
     "output_type": "stream",
     "text": [
      "/its/home/im281/.conda/envs/herschelhelp/lib/python3.6/site-packages/astropy/table/column.py:965: RuntimeWarning: invalid value encountered in less\n",
      "  return getattr(self.data, op)(other)\n",
      "/its/home/im281/.conda/envs/herschelhelp/lib/python3.6/site-packages/astropy/table/column.py:965: RuntimeWarning: invalid value encountered in greater\n",
      "  return getattr(self.data, op)(other)\n"
     ]
    },
    {
     "name": "stdout",
     "output_type": "stream",
     "text": [
      "Mean       Median     Std. Dev.  Length     Min        Max        Len_Zeros \n",
      "641.058399 109.527018 61462.973855 26948      4.70207742112e-88 10081314.3914 0         \n",
      "====================\n",
      "\n",
      "Q0: 0.972278016921\n",
      "Threshold: 0.06724790213517705\n",
      "Threshold at cross-over: 0.055\n",
      "Effective Q0 corresponding to cross-over threshold: 0.9721686210479442\n",
      "No of nan LRs: 46\n",
      "No of sources below threshold: 746\n",
      "====================\n",
      "\n",
      "Total changes between runs: 590\n",
      "i45_1 -11\n",
      "i45_2 -1\n",
      "i45_3 -2\n",
      "i45_4 -16\n",
      "i45_5 -17\n",
      "i45_6 -17\n",
      "i45_7 -10\n",
      "i45_8 -24\n",
      "i45_9 -26\n",
      "i45_10 -41\n",
      "i45_11 -23\n",
      "i45_12 -18\n",
      "i45_13 -17\n",
      "i45_14 -22\n",
      "i45_15 -20\n",
      "i45_16 -5\n",
      "i45_17 -9\n",
      "i45_18 -4\n",
      "i45_19 20\n",
      "i45_20 83\n",
      "i_only 0\n",
      "ir_only 38\n",
      "no_mag 166\n",
      "**** N_changes: 305 ****\n",
      "**** T_changes: 1390 ****\n",
      "**** C_changes: 277 ****\n",
      "Iteration Time: 50.324002504348755\n",
      "==================================================\n",
      "*************** RUN NUMBER: 2 ***************\n",
      "Number of counterparts in each category:\n",
      "i45_1 35\n",
      "i45_2 33\n",
      "i45_3 111\n",
      "i45_4 231\n",
      "i45_5 415\n",
      "i45_6 595\n",
      "i45_7 813\n",
      "i45_8 1058\n",
      "i45_9 1186\n",
      "i45_10 1231\n",
      "i45_11 1213\n",
      "i45_12 1325\n",
      "i45_13 1312\n",
      "i45_14 1297\n",
      "i45_15 1343\n",
      "i45_16 1306\n",
      "i45_17 1328\n",
      "i45_18 1336\n",
      "i45_19 1248\n",
      "i45_20 3660\n",
      "i_only 185\n",
      "ir_only 4771\n",
      "no_mag 166\n"
     ]
    },
    {
     "name": "stderr",
     "output_type": "stream",
     "text": [
      "/its/home/im281/.conda/envs/herschelhelp/lib/python3.6/site-packages/astropy/table/column.py:965: RuntimeWarning: invalid value encountered in greater_equal\n",
      "  return getattr(self.data, op)(other)\n",
      "/its/home/im281/.conda/envs/herschelhelp/lib/python3.6/site-packages/astropy/table/column.py:965: RuntimeWarning: invalid value encountered in less_equal\n",
      "  return getattr(self.data, op)(other)\n"
     ]
    },
    {
     "name": "stdout",
     "output_type": "stream",
     "text": [
      "No. of nan mag in all colour categories: 0\n",
      "No. of nan mag in all colour categories: 0\n",
      "Q0: \n",
      "[ 0.0012988   0.00122458  0.00411904  0.00857206  0.01540003  0.02207956\n",
      "  0.03016921  0.0392608   0.04401069  0.04568057  0.04501262  0.04916877\n",
      "  0.04868636  0.04812973  0.04983672  0.04846371  0.04928009  0.04957696\n",
      "  0.04631141  0.13581713  0.00686507  0.17704468  0.00616001]\n",
      "15.012180805206299\n"
     ]
    },
    {
     "name": "stderr",
     "output_type": "stream",
     "text": [
      "/its/home/im281/.conda/envs/herschelhelp/lib/python3.6/site-packages/astropy/table/column.py:965: RuntimeWarning: invalid value encountered in less\n",
      "  return getattr(self.data, op)(other)\n",
      "/its/home/im281/.conda/envs/herschelhelp/lib/python3.6/site-packages/astropy/table/column.py:965: RuntimeWarning: invalid value encountered in greater\n",
      "  return getattr(self.data, op)(other)\n"
     ]
    },
    {
     "name": "stdout",
     "output_type": "stream",
     "text": [
      "Mean       Median     Std. Dev.  Length     Min        Max        Len_Zeros \n",
      "642.315862 110.037926 61462.973659 26948      4.55481918978e-88 10081314.3914 0         \n",
      "====================\n",
      "\n",
      "Q0: 0.972168621048\n",
      "Threshold: 0.06670558977699677\n",
      "Threshold at cross-over: 0.055\n",
      "Effective Q0 corresponding to cross-over threshold: 0.9719459700163278\n",
      "No of nan LRs: 46\n",
      "No of sources below threshold: 749\n",
      "====================\n",
      "\n",
      "Total changes between runs: 12\n",
      "i45_1 -1\n",
      "i45_2 0\n",
      "i45_3 0\n",
      "i45_4 0\n",
      "i45_5 0\n",
      "i45_6 -1\n",
      "i45_7 0\n",
      "i45_8 0\n",
      "i45_9 0\n",
      "i45_10 0\n",
      "i45_11 -1\n",
      "i45_12 -1\n",
      "i45_13 -1\n",
      "i45_14 0\n",
      "i45_15 0\n",
      "i45_16 -2\n",
      "i45_17 1\n",
      "i45_18 0\n",
      "i45_19 0\n",
      "i45_20 1\n",
      "i_only -2\n",
      "ir_only 1\n",
      "no_mag 0\n",
      "**** N_changes: 11 ****\n",
      "**** T_changes: 772 ****\n",
      "**** C_changes: 9 ****\n",
      "Iteration Time: 100.70608448982239\n",
      "==================================================\n",
      "*************** RUN NUMBER: 3 ***************\n",
      "Number of counterparts in each category:\n",
      "i45_1 34\n",
      "i45_2 33\n",
      "i45_3 111\n",
      "i45_4 231\n",
      "i45_5 415\n",
      "i45_6 594\n",
      "i45_7 813\n",
      "i45_8 1058\n",
      "i45_9 1186\n",
      "i45_10 1231\n",
      "i45_11 1212\n",
      "i45_12 1324\n",
      "i45_13 1311\n",
      "i45_14 1297\n",
      "i45_15 1343\n",
      "i45_16 1304\n",
      "i45_17 1329\n",
      "i45_18 1336\n",
      "i45_19 1248\n",
      "i45_20 3661\n",
      "i_only 183\n",
      "ir_only 4772\n",
      "no_mag 166\n"
     ]
    },
    {
     "name": "stderr",
     "output_type": "stream",
     "text": [
      "/its/home/im281/.conda/envs/herschelhelp/lib/python3.6/site-packages/astropy/table/column.py:965: RuntimeWarning: invalid value encountered in greater_equal\n",
      "  return getattr(self.data, op)(other)\n",
      "/its/home/im281/.conda/envs/herschelhelp/lib/python3.6/site-packages/astropy/table/column.py:965: RuntimeWarning: invalid value encountered in less_equal\n",
      "  return getattr(self.data, op)(other)\n"
     ]
    },
    {
     "name": "stdout",
     "output_type": "stream",
     "text": [
      "No. of nan mag in all colour categories: 0\n",
      "No. of nan mag in all colour categories: 0\n",
      "Q0: \n",
      "[ 0.00126169  0.00122458  0.00411904  0.00857206  0.01540003  0.02204245\n",
      "  0.03016921  0.0392608   0.04401069  0.04568057  0.04497551  0.04913166\n",
      "  0.04864925  0.04812973  0.04983672  0.04838949  0.0493172   0.04957696\n",
      "  0.04631141  0.13585424  0.00679086  0.17708179  0.00616001]\n",
      "15.811845779418945\n"
     ]
    },
    {
     "name": "stderr",
     "output_type": "stream",
     "text": [
      "/its/home/im281/.conda/envs/herschelhelp/lib/python3.6/site-packages/astropy/table/column.py:965: RuntimeWarning: invalid value encountered in less\n",
      "  return getattr(self.data, op)(other)\n",
      "/its/home/im281/.conda/envs/herschelhelp/lib/python3.6/site-packages/astropy/table/column.py:965: RuntimeWarning: invalid value encountered in greater\n",
      "  return getattr(self.data, op)(other)\n"
     ]
    },
    {
     "name": "stdout",
     "output_type": "stream",
     "text": [
      "Mean       Median     Std. Dev.  Length     Min        Max        Len_Zeros \n",
      "642.330939 109.982576 61462.973565 26948      4.55481918978e-88 10081314.3914 0         \n",
      "====================\n",
      "\n",
      "Q0: 0.971945970016\n",
      "Threshold: 0.0678591249558358\n",
      "Threshold at cross-over: 0.055\n",
      "Effective Q0 corresponding to cross-over threshold: 0.9719088615110584\n",
      "No of nan LRs: 46\n",
      "No of sources below threshold: 755\n",
      "====================\n",
      "\n",
      "Total changes between runs: 3\n",
      "i45_1 0\n",
      "i45_2 0\n",
      "i45_3 0\n",
      "i45_4 0\n",
      "i45_5 0\n",
      "i45_6 0\n",
      "i45_7 0\n",
      "i45_8 0\n",
      "i45_9 0\n",
      "i45_10 0\n",
      "i45_11 0\n",
      "i45_12 -1\n",
      "i45_13 0\n",
      "i45_14 0\n",
      "i45_15 0\n",
      "i45_16 0\n",
      "i45_17 0\n",
      "i45_18 0\n",
      "i45_19 0\n",
      "i45_20 0\n",
      "i_only -1\n",
      "ir_only 1\n",
      "no_mag 0\n",
      "**** N_changes: 1 ****\n",
      "**** T_changes: 759 ****\n",
      "**** C_changes: 1 ****\n",
      "Iteration Time: 150.74566888809204\n",
      "Total time taken for iterations:  150.74586057662964\n"
     ]
    },
    {
     "name": "stderr",
     "output_type": "stream",
     "text": [
      "/its/home/im281/.conda/envs/herschelhelp/lib/python3.6/site-packages/astropy/table/column.py:965: RuntimeWarning: invalid value encountered in greater_equal\n",
      "  return getattr(self.data, op)(other)\n",
      "/its/home/im281/.conda/envs/herschelhelp/lib/python3.6/site-packages/astropy/table/column.py:965: RuntimeWarning: invalid value encountered in less_equal\n",
      "  return getattr(self.data, op)(other)\n"
     ]
    }
   ],
   "source": [
    "# MAKE SURE n_th changes before the while loop goes to the next iteration\n",
    "# Run the while loop iterate\n",
    "tin = time.time()\n",
    "\n",
    "# Store the LR thresholds\n",
    "th_runs = []\n",
    "th_cross_l = []\n",
    "th_runs_old = []\n",
    "\n",
    "while diff_no_lofar_sum > tol:\n",
    "    \n",
    "    final[\"lr_index_run_n-1\"] = np.copy(final[\"lr_index_run_n\"])\n",
    "    final[\"cat_no-1\"] = np.copy(final[\"cat_no\"])\n",
    "    \n",
    "    print(\"==================================================\")\n",
    "    print(\"*************** RUN NUMBER: {0} ***************\".format(str(run_count)))\n",
    "    \n",
    "    # Number of counterparts in each bin\n",
    "    no_lofar = np.sum(cat_ind, axis=1)\n",
    "    print(\"Number of counterparts in each category:\")\n",
    "\n",
    "    for k in range(len(no_lofar)):\n",
    "        print(all_cat[k], no_lofar[k])\n",
    "    \n",
    "    ################# q(m,c) and n(m,c) ##############\n",
    "\n",
    "    # Compute n(m) for each category using the master catalogue positions\n",
    "\n",
    "    # Use a for loop to decide what band magnitude to use for n(m) and q(m) based on a category c\n",
    "\n",
    "    mag_qm = []\n",
    "    mag_nm = []\n",
    "\n",
    "    for a in range(len(cat_ind) - 1):\n",
    "        \n",
    "        # Magnitude distribution of the initial matches within category a (cat_ind[a] gives sources within category a)\n",
    "        mag_qm.append(master[mag_col_name[a]][(final[\"lr_index_run_n\"][cat_ind[a]]).astype(int)])\n",
    "            \n",
    "        # Magnitude distribution of all sources within rectangle and category a\n",
    "        mag_nm.append(master[mag_col_name[a]][((ind_rect) & (master[\"cat_no\"] == a))])\n",
    "\n",
    "    no_nans = []\n",
    "    no_nans = [np.sum(np.isnan(aa)) for aa in mag_nm]\n",
    "    print(\"No. of nan mag in all colour categories: \" + str(np.sum(no_nans)))\n",
    "\n",
    "    mag_nm_cumul = []\n",
    "    for aa in mag_nm:\n",
    "        if len(aa) != 0:\n",
    "            mag_nm_cumul.append(get_n_m_kde(aa, nm_bin_c, area=pan_area, bandwidth=0.5))    \n",
    "        else:\n",
    "            mag_nm_cumul.append(get_nm_c(aa, nm_bin_list, pan_area))\n",
    "    mag_nm_cumul = np.array(mag_nm_cumul)\n",
    "    \n",
    "    mag_qm_cumul = []\n",
    "    for aa in mag_qm:\n",
    "        if len(aa) != 0:\n",
    "            mag_qm_cumul.append(get_q_m_kde(aa, nm_bin_c, radius=lof_opt_rad, bandwidth=0.5))\n",
    "        else:\n",
    "            mag_qm_cumul.append(get_qm_c(aa, nm_bin_list))\n",
    "    mag_qm_cumul = np.array(mag_qm_cumul)\n",
    "    \n",
    "    \"\"\"    # Original method\n",
    "    mag_nm_cumul = []\n",
    "    mag_nm_cumul = np.array([get_nm_c(aa, nm_bin_list, pan_area) for aa in mag_nm])\n",
    "    # Cumulative q(m,c)\n",
    "    mag_qm_cumul = []\n",
    "    mag_qm_cumul = np.array([get_qm_c(aa, nm_bin_list) for aa in mag_qm])\"\"\"\n",
    "    \n",
    "\n",
    "    no_nans = []\n",
    "    no_nans = [np.sum(np.isnan(aa)) for aa in mag_nm]\n",
    "    print(\"No. of nan mag in all colour categories: \" + str(np.sum(no_nans)))\n",
    "    \n",
    "    # Q0 for each colour category\n",
    "    Q0_c = no_lofar / float(len(final))\n",
    "    # For very low Q0_c values, set a minimum of 0.001 otherwise it will iterate down to zero\n",
    "    Q0_c[Q0_c < null_Q0] = null_Q0\n",
    "    print(\"Q0: \")\n",
    "    print(Q0_c)\n",
    "\n",
    "    # Total Q0 value - summing over all of them \n",
    "    # Q0 = np.sum(no_lofar) / float(len(final))\n",
    "    Q0 = np.sum(Q0_c)\n",
    "    \n",
    "    # Plot n(m,c)\n",
    "    plot_qn_c(nm_bin_c, mag_nm_cumul, outdir_intermediate+'/nm_c_run_'+str(run_count+1)+'.pdf')\n",
    "    plot_qn_c(nm_bin_c, np.cumsum(mag_nm_cumul, axis=1), outdir_intermediate+'/nm_csum_c_run_'+str(run_count+1)+'.pdf')\n",
    "\n",
    "    # Plot q(m,c)\n",
    "    plot_qn_c(nm_bin_c, mag_qm_cumul, outdir_intermediate+'/qm_c_run_'+str(run_count+1)+'.pdf')\n",
    "    plot_qn_c(nm_bin_c, np.cumsum(mag_qm_cumul, axis=1), outdir_intermediate+'/qm_csum_c_run_'+str(run_count+1)+'.pdf')\n",
    "    \n",
    "    plot_qn_c(nm_bin_c, mag_qm_cumul/mag_nm_cumul, outdir_intermediate + \"/qm_over_nm_c_\"+str(run_count)+\".pdf\")\n",
    "\n",
    "    ###############################################\n",
    "    #             Run LR analysis                 #\n",
    "    ###############################################\n",
    "\n",
    "    # Select the non-nan category sources in master catalogue - this \n",
    "    # excludes the spurious K-band detections that are present in the master catalogue\n",
    "    master_categ = master[~np.isnan(master[\"cat_no\"])]\n",
    "\n",
    "    # Convert master positions to SkyCoord object\n",
    "    master_coords = SkyCoord(master_categ['ALPHA_J2000'], master_categ['DELTA_J2000'],\n",
    "                             unit=(u.deg, u.deg), frame='icrs')\n",
    "\n",
    "    # New search radius to match the LOFAR and combined PanSTARRS WISE caalogue\n",
    "    lof_opt_rad = 15.\n",
    "\n",
    "    # Match the coordinates\n",
    "    indx_l, indx_m, s2d, _ = search_around_sky(lofar_co, master_coords, \n",
    "                                                lof_opt_rad*u.arcsec)\n",
    "\n",
    "    # Number of unique LOFAR sources with a match to the master catalogue\n",
    "    ind_l_un = np.unique(indx_l)\n",
    "\n",
    "    # Now run the parallel process\n",
    "\n",
    "    # Initialise the columns to store the output of LR values\n",
    "    final[\"lr_run_n\"] = np.nan\n",
    "    final[\"lr_index_run_n\"] = np.nan\n",
    "    final[\"lr_dist_run_n\"] = np.nan\n",
    "\n",
    "    t2 = time.time()\n",
    "\n",
    "    res = run_parallel_c(ind_l_un)\n",
    "\n",
    "    (final[\"lr_index_run_n\"][ind_l_un],\n",
    "    final[\"lr_dist_run_n\"][ind_l_un],\n",
    "    final[\"lr_run_n\"][ind_l_un]) = list(map(list, zip(*res)))\n",
    "    \n",
    "    del res\n",
    "\n",
    "    print(time.time() - t2)\n",
    "    \n",
    "    # Calculate the threshold \n",
    "    threshold_all = np.nanpercentile(final[\"lr_run_n\"], 100*(1 - Q0))\n",
    "    \n",
    "    if fix_th == True:        \n",
    "        # Fix the threshold\n",
    "        threshold_all = 0.5\n",
    "    \n",
    "    th_runs_old.append(threshold_all)\n",
    "    \n",
    "    # Compute the completeness and reliability and plot them\n",
    "    thresholds = np.arange(0., 2 * threshold_all, 0.001)\n",
    "    th_cross, completeness_t, reliability_t = comp_rel_threshold(final[\"lr_run_n\"], thresholds, Q0)\n",
    "    \n",
    "    th_runs.append(th_cross)\n",
    "    th_cross_l.append(th_cross)\n",
    "    \n",
    "    # Make a plot of the completeness/reliability\n",
    "    fig = plt.figure()\n",
    "    plt.plot(thresholds, completeness_t, \"r-\", label='Completeness')\n",
    "    plt.plot(thresholds, reliability_t, \"g-\", label='Reliability')\n",
    "    # plt.plot(thresholds, average_t, \"k-\")\n",
    "    plt.axvline(th_cross, color=\"k\", ls=\"--\", label='Cross-over')\n",
    "    plt.axvline(threshold_all, color=\"y\", ls=\":\", label='Q0 threshold')\n",
    "    plt.xlabel(r\"$Threshold$\")\n",
    "    plt.ylabel(r\"$Completeness/Reliability$\")\n",
    "    plt.legend()\n",
    "    plt.tight_layout()\n",
    "    plt.savefig(outdir_intermediate+\"/completeness_reliability_\"+str(run_count+1)+\".pdf\")\n",
    "    plt.close()\n",
    "    \n",
    "    # Plot the LR values\n",
    "    lr_n, lr_e, _ = return_hist_par(1, final[\"lr_run_n\"][~np.isnan(final[\"lr_run_n\"])])\n",
    "    lr_e = logspace_bins(np.nanmin(final['lr_run_n']),np.nanmax(final['lr_run_n']),0.05)\n",
    "    fig = plt.figure()\n",
    "    \n",
    "    plt.hist(np.log10(final[\"lr_run_n\"][~np.isnan(final[\"lr_run_n\"])]), bins=lr_e)\n",
    "    plt.axvline(threshold_all, 0, 1, color='r')\n",
    "    plt.yscale('log')\n",
    "    plt.xlabel('$log(LR)$')\n",
    "    plt.tight_layout()\n",
    "    plt.savefig(outdir_intermediate+\"/LR_run_\"+str(run_count+1)+\".pdf\")\n",
    "    plt.close()\n",
    "\n",
    "    varstat(final[\"lr_run_n\"])\n",
    "    \n",
    "    ###########################################\n",
    "    #            Prepare for next run         #\n",
    "    #            Update the categories        #\n",
    "    ###########################################\n",
    "    # prefilt_lr = np.copy(final[\"lr_run_n\"])  # Uncomment to get the last set of plots working\n",
    "    \n",
    "    print(\"====================\\n\")\n",
    "    print(\"Q0: \" + str(Q0))\n",
    "    print(\"Threshold: {0}\".format(threshold_all))\n",
    "    print(\"Threshold at cross-over: {0}\".format(th_cross))\n",
    "    print(\"Effective Q0 corresponding to cross-over threshold: {0}\".format(np.sum(final[\"lr_run_n\"] >= th_cross)/len(lofar_co)))\n",
    "    print(\"No of nan LRs: {0}\".format(np.sum(np.isnan(final[\"lr_run_n\"]))))\n",
    "\n",
    "    print(\"No of sources below threshold: {0}\".format(np.sum(final[\"lr_run_n\"] <=threshold_all)))\n",
    "    print(\"====================\\n\")\n",
    "    \n",
    "    # Overwrite the threshold used\n",
    "    threshold_all = np.copy(th_cross)\n",
    "\n",
    "    # Give all sources below the threshold a nan value\n",
    "    final[\"lr_index_run_n\"][final[\"lr_run_n\"] < threshold_all] = np.nan\n",
    "    final[\"lr_dist_run_n\"][final[\"lr_run_n\"] < threshold_all] = np.nan\n",
    "    final[\"lr_run_n\"][final[\"lr_run_n\"] < threshold_all] = np.nan\n",
    "    \n",
    "    # Sources above the threshold - UPDATING n_th here\n",
    "    n_th = ~np.isnan(final[\"lr_run_n\"])\n",
    "    \n",
    "    # Colour category of the counterpart\n",
    "    final[\"cat_no\"] = np.nan\n",
    "    final[\"cat_no\"][n_th] = master[\"cat_no\"][(final[\"lr_index_run_n\"][n_th]).astype(int)]\n",
    "    \n",
    "    # print(\"No. of LOFAR matches with no colour category: {0}\".format(np.sum(np.isnan(final[\"cat_no\"]))))\n",
    "    \n",
    "    # Get the indices of the new categories\n",
    "    # Indices of LOFAR catalogue sources within each category\n",
    "    cat_ind = np.array([final[\"cat_no\"] == a[\"cat_no\"] for a in col_cat_def])\n",
    "\n",
    "    # Number of counterparts in each bin\n",
    "    no_lofar_r2 = np.sum(cat_ind, axis=1)\n",
    "    \n",
    "    # Difference in each colour category between the two runs\n",
    "    diff_nos = no_lofar_r2 - no_lofar\n",
    "    print(\"Total changes between runs: \" + str(np.sum(np.abs(diff_nos))))\n",
    "    for k in range(len(no_lofar)):\n",
    "        print(all_cat[k], diff_nos[k])\n",
    "    \n",
    "    # Update the while loop condition - If no changes then the len(argument) = 0 - while loop stops\n",
    "    diff_no_lofar_sum = len(diff_nos[np.abs(diff_nos) > tol])   # This is the coorection method\n",
    "    \n",
    "    # The below line was adapted for Bootes testing\n",
    "    diff_no_lofar_sum = np.sum(np.abs(diff_nos))\n",
    "    \n",
    "    # Assign the LR, index and dist values to the older field name\n",
    "    # final[\"lr_index_n\"] = np.copy(final[\"lr_index_run_n\"])\n",
    "    # print(\"No. of sources in cat {0}: {1}\".format(all_cat[2], np.sum(final[\"cat_no\"] == 2)))\n",
    "    \n",
    "    n_changes = np.sum((final[\"lr_index_run_n\"] != final[\"lr_index_run_n-1\"]) & \n",
    "                      (~np.isnan(final[\"lr_index_run_n\"])) & \n",
    "                      (~np.isnan(final[\"lr_index_run_n-1\"])))\n",
    "    t_changes = np.sum((final[\"lr_index_run_n\"] != final[\"lr_index_run_n-1\"]))\n",
    "    \n",
    "    c_changes = np.sum((final[\"cat_no\"] != final[\"cat_no-1\"]) & \n",
    "                      (~np.isnan(final[\"cat_no\"])) & \n",
    "                      (~np.isnan(final[\"cat_no-1\"])))\n",
    "    \n",
    "    print(\"**** N_changes: {0} ****\".format(n_changes))\n",
    "    print(\"**** T_changes: {0} ****\".format(t_changes))\n",
    "    print(\"**** C_changes: {0} ****\".format(c_changes))\n",
    "    \n",
    "    diff_no_lofar_sum = np.copy(n_changes)\n",
    "    \n",
    "    # Update the loop counter\n",
    "    run_count = run_count + 1\n",
    "    \n",
    "    print(\"Iteration Time: {0}\".format(time.time() - tin))\n",
    "\n",
    "print(\"Total time taken for iterations: \", time.time() - tin)"
   ]
  },
  {
   "cell_type": "code",
   "execution_count": 139,
   "metadata": {},
   "outputs": [
    {
     "name": "stdout",
     "output_type": "stream",
     "text": [
      "Sources without LR values: 757 : 2.8091 % \n",
      "Effective fraction of matches: 97.1909 %\n",
      "Threshold values: \n",
      "[0.055, 0.055, 0.055]\n"
     ]
    }
   ],
   "source": [
    "n_n = np.isnan(final[\"lr_index_run_n\"])\n",
    "print(\"Sources without LR values: {0} : {1:4.4f} % \".format(np.sum(n_n), np.sum(n_n)/len(final)*100))\n",
    "print(\"Effective fraction of matches: {0:4.4f} %\".format(np.sum(~np.isnan(final[\"lr_run_n\"]))/len(final)*100))\n",
    "print(\"Threshold values: \")\n",
    "print(th_runs)"
   ]
  },
  {
   "cell_type": "code",
   "execution_count": 140,
   "metadata": {},
   "outputs": [
    {
     "name": "stdout",
     "output_type": "stream",
     "text": [
      "0.971908861511\n",
      "0.971945970016\n",
      "Actual Q0:  0.971945970016\n"
     ]
    }
   ],
   "source": [
    "print(np.sum(~np.isnan(final[\"lr_run_n\"])) / len(final))\n",
    "print(np.sum(no_lofar) / float(len(final)))\n",
    "print(\"Actual Q0: \", Q0)"
   ]
  },
  {
   "cell_type": "code",
   "execution_count": 141,
   "metadata": {},
   "outputs": [
    {
     "name": "stdout",
     "output_type": "stream",
     "text": [
      "Number of counterparts in each category:\n",
      "i45_1 34\n",
      "i45_2 33\n",
      "i45_3 111\n",
      "i45_4 231\n",
      "i45_5 415\n",
      "i45_6 594\n",
      "i45_7 813\n",
      "i45_8 1058\n",
      "i45_9 1186\n",
      "i45_10 1231\n",
      "i45_11 1212\n",
      "i45_12 1323\n",
      "i45_13 1311\n",
      "i45_14 1297\n",
      "i45_15 1343\n",
      "i45_16 1304\n",
      "i45_17 1329\n",
      "i45_18 1336\n",
      "i45_19 1248\n",
      "i45_20 3661\n",
      "i_only 182\n",
      "ir_only 4773\n",
      "no_mag 166\n",
      "No. of nan mag in all colour categories: 0\n",
      "Q0: \n",
      "[ 0.00126169  0.00122458  0.00411904  0.00857206  0.01540003  0.02204245\n",
      "  0.03016921  0.0392608   0.04401069  0.04568057  0.04497551  0.04909455\n",
      "  0.04864925  0.04812973  0.04983672  0.04838949  0.0493172   0.04957696\n",
      "  0.04631141  0.13585424  0.00675375  0.1771189   0.00616001]\n"
     ]
    }
   ],
   "source": [
    "# print(\"***** Final categories, Q0, n(m,c) and q(m,c) calculation\")\n",
    "\n",
    "# Number of counterparts in each bin\n",
    "no_lofar = np.sum(cat_ind, axis=1)\n",
    "print(\"Number of counterparts in each category:\")\n",
    "\n",
    "for k in range(len(no_lofar)):\n",
    "    print(all_cat[k], no_lofar[k])\n",
    "\n",
    "################# q(m,c) and n(m,c) ##############\n",
    "\n",
    "# Compute n(m) for each category using the master catalogue positions\n",
    "\n",
    "# Use a for loop to decide what band magnitude to use for n(m) and q(m) based on a category c\n",
    "\n",
    "mag_qm = []\n",
    "mag_nm = []\n",
    "\n",
    "for a in range(len(cat_ind)-1):\n",
    "\n",
    "    # Magnitude distribution of the initial matches within category a (cat_ind[a] gives sources within category a)\n",
    "    mag_qm.append(master[mag_col_name[a]][(final[\"lr_index_run_n\"][cat_ind[a]]).astype(int)])\n",
    "\n",
    "    # Magnitude distribution of all sources within rectangle and category a\n",
    "    mag_nm.append(master[mag_col_name[a]][((ind_rect) & (master[\"cat_no\"] == a))])\n",
    "    \n",
    "# Cumulative n(m,c)\n",
    "mag_nm_cumul = []\n",
    "for aa in mag_nm:\n",
    "    if len(aa) != 0:\n",
    "        mag_nm_cumul.append(get_n_m_kde(aa, nm_bin_c, area=pan_area, bandwidth=0.5))\n",
    "    else:\n",
    "        mag_nm_cumul.append(get_nm_c(aa, nm_bin_list, pan_area))\n",
    "mag_nm_cumul = np.array(mag_nm_cumul)\n",
    "\n",
    "\n",
    "mag_qm_cumul = []\n",
    "for aa in mag_qm:\n",
    "    if len(aa) != 0:\n",
    "        mag_qm_cumul.append(get_q_m_kde(aa, nm_bin_c, radius=lof_opt_rad, bandwidth=0.5))\n",
    "    else:\n",
    "        mag_qm_cumul.append(get_qm_c(aa, nm_bin_list))\n",
    "mag_qm_cumul = np.array(mag_qm_cumul)\n",
    "\n",
    "no_nans = []\n",
    "no_nans = [np.sum(np.isnan(aa)) for aa in mag_nm]\n",
    "print(\"No. of nan mag in all colour categories: \" + str(np.sum(no_nans)))\n",
    "\n",
    "# Q0 for each colour category\n",
    "Q0_c = no_lofar / float(len(final))\n",
    "# For very low Q0_c values, set a minimum of 0.001 otherwise it will iterate down to zero\n",
    "Q0_c[Q0_c < null_Q0] = null_Q0\n",
    "print(\"Q0: \")\n",
    "print(Q0_c)\n",
    "\n",
    "# Total Q0 value - summing over all of them \n",
    "Q0 = np.sum(Q0_c)\n",
    "\n",
    "# Plot n(m,c)\n",
    "plot_qn_c(nm_bin_c, mag_nm_cumul, outdir_intermediate+'/nm_c_run_'+str(run_count+1)+'.pdf')\n",
    "plot_qn_c(nm_bin_c, np.cumsum(mag_nm_cumul, axis=1), outdir_intermediate+'/nm_csum_c_run_'+str(run_count+1)+'.pdf')\n",
    "\n",
    "# Plot q(m,c)\n",
    "plot_qn_c(nm_bin_c, mag_qm_cumul, outdir_intermediate+'/qm_c_run_'+str(run_count+1)+'.pdf')\n",
    "plot_qn_c(nm_bin_c, np.cumsum(mag_qm_cumul, axis=1), outdir_intermediate+'/qm_csum_c_run_'+str(run_count+1)+'.pdf')"
   ]
  },
  {
   "cell_type": "code",
   "execution_count": 142,
   "metadata": {},
   "outputs": [],
   "source": [
    "\"\"\"\n",
    "Number of counterparts in each category:\n",
    "i45_1 86\n",
    "i45_2 85\n",
    "i45_3 208\n",
    "i45_4 457\n",
    "i45_5 796\n",
    "i45_6 1287\n",
    "i45_7 1572\n",
    "i45_8 1688\n",
    "i45_9 1597\n",
    "i45_10 1474\n",
    "i45_11 1596\n",
    "i45_12 1377\n",
    "i45_13 1385\n",
    "i45_14 1292\n",
    "i45_15 1357\n",
    "i45_16 1364\n",
    "i45_17 1284\n",
    "i45_18 1183\n",
    "i45_19 1100\n",
    "i45_20 2170\n",
    "i_only 155\n",
    "ir_only 3173\n",
    "no_mag 79\n",
    "No. of nan mag in all colour categories: 0\n",
    "Q0: \n",
    "[0.00307406 0.00303832 0.00743494 0.01633543 0.02845296 0.04600372\n",
    " 0.05619102 0.06033743 0.05708464 0.05268802 0.0570489  0.04922076\n",
    " 0.04950672 0.04618244 0.04850586 0.04875608 0.04589648 0.04228625\n",
    " 0.03931942 0.07756649 0.00554046 0.11341864 0.00282385]\"\"\";\n",
    "\n",
    "# Run with the previous merged catalogue and without the aperture corrections applied\n",
    "\"\"\"\n",
    "Number of counterparts in each category:\n",
    "i45_1 30\n",
    "i45_2 24\n",
    "i45_3 60\n",
    "i45_4 134\n",
    "i45_5 297\n",
    "i45_6 514\n",
    "i45_7 728\n",
    "i45_8 893\n",
    "i45_9 912\n",
    "i45_10 815\n",
    "i45_11 744\n",
    "i45_12 755\n",
    "i45_13 764\n",
    "i45_14 627\n",
    "i45_15 655\n",
    "i45_16 643\n",
    "i45_17 656\n",
    "i45_18 660\n",
    "i45_19 595\n",
    "i45_20 1508\n",
    "i_only 75\n",
    "ir_only 1190\n",
    "no_mag 37\n",
    "No. of nan mag in all colour categories: 0\n",
    "Q0: \n",
    "[0.00214623 0.00171698 0.00429246 0.00958649 0.02124767 0.03677207\n",
    " 0.05208184 0.06388611 0.06524539 0.05830591 0.0532265  0.05401345\n",
    " 0.05465732 0.0448562  0.04685935 0.04600086 0.04693089 0.04721706\n",
    " 0.04256689 0.10788382 0.00536557 0.08513378 0.00264702]\"\"\";"
   ]
  },
  {
   "cell_type": "code",
   "execution_count": 143,
   "metadata": {},
   "outputs": [
    {
     "data": {
      "text/plain": [
       "0.97190886151105838"
      ]
     },
     "execution_count": 143,
     "metadata": {},
     "output_type": "execute_result"
    }
   ],
   "source": [
    "Q0"
   ]
  },
  {
   "cell_type": "code",
   "execution_count": 144,
   "metadata": {},
   "outputs": [
    {
     "name": "stdout",
     "output_type": "stream",
     "text": [
      "Sources without LR values: 757 : 2.8091 % \n",
      "Effective fraction of matches: 97.1909 %\n",
      "Threshold values: \n",
      "[0.055, 0.055, 0.055]\n"
     ]
    }
   ],
   "source": [
    "n_n = np.isnan(final[\"lr_index_run_n\"])\n",
    "print(\"Sources without LR values: {0} : {1:4.4f} % \".format(np.sum(n_n), np.sum(n_n)/len(final)*100))\n",
    "print(\"Effective fraction of matches: {0:4.4f} %\".format(np.sum(~np.isnan(final[\"lr_run_n\"]))/len(final)*100))\n",
    "print(\"Threshold values: \")\n",
    "print(th_runs)"
   ]
  },
  {
   "cell_type": "code",
   "execution_count": 145,
   "metadata": {},
   "outputs": [],
   "source": [
    "# Write the matches to file\n",
    "# run_type = \"_faint_\"  # If no flux limit then set run_type = \"_\"\n",
    "run_type = \"_\"\n",
    "final.write(outdir_name+'/ML_RUN'+str(run_count)+run_type + cat_type + '_nanth', format='ascii', overwrite=True)\n",
    "final.write(outdir_name+'/ML_RUN'+str(run_count)+run_type + cat_type + '_nanth.fits', format='fits', overwrite=True)"
   ]
  },
  {
   "cell_type": "code",
   "execution_count": 146,
   "metadata": {},
   "outputs": [],
   "source": [
    "# Save the q(m,c) and n(m,c) from the final iteration\n",
    "# Filenames to store the intermediate output\n",
    "nmc_f = '{0}/nm{1}c{2}.txt'.format(outdir_name, run_type, cat_type)\n",
    "qmc_f = '{0}/qm{1}c{2}.txt'.format(outdir_name, run_type, cat_type)\n",
    "nmbc_f = '{0}/nm_bin_centres{1}.txt'.format(outdir_name, cat_type)\n",
    "colgroups_f = '{0}/RUN{1}colour_groupings.txt'.format(outdir_name, run_count)\n",
    "q0c_f = '{0}/Q0_c_{1}.txt'.format(outdir_name, cat_type)\n",
    "th_f = '{0}/iter_threshold{1}.txt'.format(outdir_name, cat_type)\n",
    "th_cross_f = '{0}/iter_threshold_cross{1}.txt'.format(outdir_name, cat_type)\n",
    "\n",
    "\n",
    "# Or store as a pckl file\n",
    "pickle.dump([mag_nm_cumul, mag_qm_cumul, nm_bin_c, no_lofar_r2, Q0_c, th_runs],\n",
    "            open('{0}/col_iter_out{1}.pckl'.format(outdir_name, cat_type), \"wb\"))\n",
    "\n",
    "np.savetxt(nmc_f, mag_nm_cumul, delimiter=' ')\n",
    "np.savetxt(qmc_f, mag_qm_cumul, delimiter=' ')\n",
    "np.savetxt(nmbc_f, nm_bin_c, delimiter=' ')\n",
    "np.savetxt(colgroups_f, no_lofar_r2, delimiter=' ', fmt='%d')\n",
    "np.savetxt(q0c_f, Q0_c, delimiter=' ')\n",
    "with open(th_f, 'w') as thout:\n",
    "    for abc in th_runs:\n",
    "        thout.write(str(abc) + \"\\n\")\n",
    "with open(th_cross_f, 'w') as thout:\n",
    "    for abc in th_cross_l:\n",
    "        thout.write(str(abc) + \"\\n\")"
   ]
  },
  {
   "cell_type": "code",
   "execution_count": 147,
   "metadata": {},
   "outputs": [
    {
     "name": "stdout",
     "output_type": "stream",
     "text": [
      "Time taken for the full code to run:  3847.585646390915\n"
     ]
    }
   ],
   "source": [
    "print(\"Time taken for the full code to run: \", time.time() - tstart)"
   ]
  },
  {
   "cell_type": "code",
   "execution_count": 148,
   "metadata": {},
   "outputs": [
    {
     "data": {
      "text/plain": [
       "0"
      ]
     },
     "execution_count": 148,
     "metadata": {},
     "output_type": "execute_result"
    }
   ],
   "source": [
    "# Move the HTML notebook to the output directory\n",
    "os.system(\"jupyter-nbconvert MaxL_RUN2_KDE.ipynb && mv MaxL_RUN2_KDE.html {0}\".format(outdir_name))"
   ]
  },
  {
   "cell_type": "markdown",
   "metadata": {},
   "source": [
    "# Now run the calibrated $q(m,c)$ on the FULL LOFAR catalogue (in the overlapping area)"
   ]
  },
  {
   "cell_type": "markdown",
   "metadata": {},
   "source": [
    "## Clean up some of the variables to save space"
   ]
  },
  {
   "cell_type": "code",
   "execution_count": 149,
   "metadata": {},
   "outputs": [
    {
     "data": {
      "text/plain": [
       "135326"
      ]
     },
     "execution_count": 149,
     "metadata": {},
     "output_type": "execute_result"
    }
   ],
   "source": [
    "del final, outdir_name\n",
    "gc.collect()"
   ]
  },
  {
   "cell_type": "markdown",
   "metadata": {},
   "source": [
    "## Load and filter LOFAR Catalogue to overlapping region only"
   ]
  },
  {
   "cell_type": "code",
   "execution_count": 200,
   "metadata": {},
   "outputs": [],
   "source": [
    "# Definition of the paths\n",
    "# PATH_PYBDSF_RAW = \"/disk1/rohitk/ELN1_project/ELAIS-N1/image_full_ampphase_di_m.NS_shift.int.facetRestored-scaled.pybdsm.srl_foverlap.fits\"\n",
    "PATH_PYBDSF_RAW = \"data/edited_cats/radio/image_full_ampphase_di_m.NS_shift.blanked.scaled.cat.gaul_foverlap.fits\"\n",
    "\n",
    "#cat_type = \"_srl\"\n",
    "cat_type = \"_gaul\"\n",
    "\n",
    "# Read in Final Catalogue - LOFAR DATA\n",
    "deepfull = Table.read(PATH_PYBDSF_RAW)"
   ]
  },
  {
   "cell_type": "code",
   "execution_count": 201,
   "metadata": {},
   "outputs": [],
   "source": [
    "# Make the general directory to store the catalogue\n",
    "if os.path.exists(strftime(\"full_runs\"+cat_type+add_str+\"/%d_%m_%Y_1\")):\n",
    "    # Get list of directories created today\n",
    "    outdir_name = strftime(\"full_runs\"+cat_type+add_str+\"/%d_%m_%Y\")\n",
    "    dirs_today = sorted(glob.glob(outdir_name+\"*\"))\n",
    "\n",
    "    # Now create a new output directory name by adding one to the last number\n",
    "    last_num = int(dirs_today[-1][-1]) + 1\n",
    "\n",
    "    # Now finally create the directory\n",
    "    outdir_name = outdir_name+\"_\"+str(last_num)\n",
    "    os.makedirs(outdir_name)\n",
    "else:\n",
    "    outdir_name = strftime(\"full_runs\"+cat_type+add_str+\"/%d_%m_%Y_1\")\n",
    "    os.makedirs(outdir_name)"
   ]
  },
  {
   "cell_type": "code",
   "execution_count": 202,
   "metadata": {},
   "outputs": [
    {
     "data": {
      "text/plain": [
       "'full_runs_gaul_workflow/21_06_2019_1'"
      ]
     },
     "execution_count": 202,
     "metadata": {},
     "output_type": "execute_result"
    }
   ],
   "source": [
    "outdir_name"
   ]
  },
  {
   "cell_type": "code",
   "execution_count": 203,
   "metadata": {},
   "outputs": [
    {
     "name": "stdout",
     "output_type": "stream",
     "text": [
      "Number of radio sources in overlapping region of PS, DXS and SWIRE: 42073\n"
     ]
    }
   ],
   "source": [
    "# Filter the LOFAR catalogue to the overlapping area and S sources\n",
    "maj_cut = 10.  # Major axis size cut (in arcsec) for radio catalogue\n",
    "\n",
    "# Select the sources that will be used for LR analysis\n",
    "forlr_indx = (deepfull[\"FLAG_OVERLAP\"] == 3)\n",
    "\n",
    "# Now index and get the entire catalogue\n",
    "final = deepfull[forlr_indx]\n",
    "print(\"Number of radio sources in overlapping region of PS, DXS and SWIRE: {0}\".format(np.sum(forlr_indx)))"
   ]
  },
  {
   "cell_type": "markdown",
   "metadata": {},
   "source": [
    "### Load in the $n(m,c)$, $q(m,c)$ and bins used for $n(m,c)$"
   ]
  },
  {
   "cell_type": "code",
   "execution_count": 204,
   "metadata": {},
   "outputs": [
    {
     "data": {
      "text/plain": [
       "'_workflow'"
      ]
     },
     "execution_count": 204,
     "metadata": {},
     "output_type": "execute_result"
    }
   ],
   "source": [
    "add_str"
   ]
  },
  {
   "cell_type": "code",
   "execution_count": 205,
   "metadata": {},
   "outputs": [
    {
     "name": "stdout",
     "output_type": "stream",
     "text": [
      "Q0:\n",
      "[ 0.00126169  0.00122458  0.00411904  0.00857206  0.01540003  0.02204245\n",
      "  0.03016921  0.0392608   0.04401069  0.04568057  0.04497551  0.04909455\n",
      "  0.04864925  0.04812973  0.04983672  0.04838949  0.0493172   0.04957696\n",
      "  0.04631141  0.13585424  0.00675375  0.1771189   0.00616001]\n",
      "Final Q0 from calibration: 0.9719088615110584\n"
     ]
    }
   ],
   "source": [
    "# Load the latest colour-calibration directory run on srl catalogue\n",
    "mldir = latest_dir(\"colour_runs\" +add_str+\"/*2019*\")\n",
    "    \n",
    "mag_nm_cumul, mag_qm_cumul, nm_bin_c, _, Q0_c, th_runs  = pickle.load(open('{0}/col_iter_out_srl.pckl'.format(mldir, cat_type), \"rb\"))\n",
    "# threshold_fin = float(th_runs[-1])\n",
    "Q0 = np.sum(Q0_c)\n",
    "\n",
    "print(\"Q0:\")\n",
    "print(Q0_c)\n",
    "print(\"Final Q0 from calibration: {0}\".format(Q0))"
   ]
  },
  {
   "cell_type": "code",
   "execution_count": 206,
   "metadata": {},
   "outputs": [
    {
     "data": {
      "text/plain": [
       "'colour_runs_workflow/21_06_2019_1'"
      ]
     },
     "execution_count": 206,
     "metadata": {},
     "output_type": "execute_result"
    }
   ],
   "source": [
    "mldir"
   ]
  },
  {
   "cell_type": "markdown",
   "metadata": {},
   "source": [
    "### Compute f(r)"
   ]
  },
  {
   "cell_type": "code",
   "execution_count": 207,
   "metadata": {},
   "outputs": [
    {
     "name": "stdout",
     "output_type": "stream",
     "text": [
      "41969\n",
      "No. of LOFAR sources without a single match in 15.0'': 104\n"
     ]
    }
   ],
   "source": [
    "lofar_coords = SkyCoord(final[\"RA\"], final[\"DEC\"], unit='deg', frame='icrs')\n",
    "# Select the non-nan category sources in master catalogue - this \n",
    "# excludes the spurious K-band detections that are present in the master catalogue\n",
    "master_categ = master[~np.isnan(master[\"cat_no\"])]\n",
    "master_coords = SkyCoord(master_categ[\"ALPHA_J2000\"], master_categ[\"DELTA_J2000\"], unit='deg', frame='icrs')\n",
    "\n",
    "lof_opt_rad = 15.\n",
    "\n",
    "# Match the coordinates\n",
    "indx_l, indx_m, s2d, _ = search_around_sky(lofar_coords, master_coords, \n",
    "                                           lof_opt_rad*u.arcsec)\n",
    "# Only take the unique values\n",
    "ind_l_un = np.unique(indx_l)\n",
    "print(len(ind_l_un))\n",
    "\n",
    "print(\"No. of LOFAR sources without a single match in {0}'': {1}\".format(lof_opt_rad, len(lofar_coords) - len(ind_l_un)))"
   ]
  },
  {
   "cell_type": "code",
   "execution_count": 208,
   "metadata": {},
   "outputs": [],
   "source": [
    "null_Q0 = 0.001\n",
    "null_Q0_nocat = null_Q0\n",
    "run_count = 0"
   ]
  },
  {
   "cell_type": "code",
   "execution_count": 209,
   "metadata": {},
   "outputs": [
    {
     "name": "stdout",
     "output_type": "stream",
     "text": [
      "23.541969537734985\n",
      "Mean       Median     Std. Dev.  Length     Min        Max        Len_Zeros \n",
      "435.465263 53.351812  49209.603956 42073      4.55481918978e-88 10081314.3914 0         \n"
     ]
    }
   ],
   "source": [
    "ncpu = mp.cpu_count()\n",
    "ncpu_use = np.max([1, ncpu-1])\n",
    "\n",
    "def run_parallel_c(i):\n",
    "    \n",
    "    pool = mp.Pool(processes=ncpu_use)\n",
    "    resu = pool.map(apply_ml,i)\n",
    "    return resu\n",
    "\n",
    "tfin = time.time()\n",
    "\n",
    "res = run_parallel_c(ind_l_un)\n",
    "\n",
    "print(time.time() - tfin)\n",
    "\n",
    "# Create columns in the LOFAR catalogue to store the output of ML in iband\n",
    "final[\"lr_fin\"] = np.nan\n",
    "final[\"lr_dist_fin\"] = np.nan\n",
    "final[\"lr_index_fin\"] = np.nan\n",
    "\n",
    "# Map the outputs to a list - all non-matches have a nan value\n",
    "(final[\"lr_index_fin\"][ind_l_un],\n",
    " final[\"lr_dist_fin\"][ind_l_un],\n",
    " final[\"lr_fin\"][ind_l_un]) = list(map(list, zip(*res)))\n",
    "\n",
    "varstat(final[\"lr_fin\"])"
   ]
  },
  {
   "cell_type": "code",
   "execution_count": 210,
   "metadata": {},
   "outputs": [],
   "source": [
    "\"\"\"\n",
    "# From older radio catalogue, without aperture corrections - GAUL run\n",
    "32.04521036148071\n",
    "Mean       Median     Std. Dev.  Length     Min        Max        Len_Zeros \n",
    "285.890415 83.63248   500.953156 19466      7.440928530108947e-89 4508.520114 0  \"\"\";"
   ]
  },
  {
   "cell_type": "markdown",
   "metadata": {},
   "source": [
    "### Analyse the results of ML analysis"
   ]
  },
  {
   "cell_type": "code",
   "execution_count": 211,
   "metadata": {},
   "outputs": [
    {
     "name": "stdout",
     "output_type": "stream",
     "text": [
      "Q0: 0.971908861511\n",
      "Final Threshold:  0.055\n",
      "No of nan LRs: 104\n",
      "No of sources below 0.1: 3971\n",
      "Mean       Median     Std. Dev.  Length     Min        Max        Len_Zeros \n",
      "0.013352   0.000501   0.02378    3971       4.55481918978e-88 0.099895   0         \n",
      "No of sources below threshold: 3609\n"
     ]
    },
    {
     "data": {
      "text/plain": [
       "Text(0.5, 0, 'log(LR)')"
      ]
     },
     "execution_count": 211,
     "metadata": {},
     "output_type": "execute_result"
    },
    {
     "data": {
      "image/png": "[encoded data removed]",
      "text/plain": [
       "<Figure size 432x288 with 1 Axes>"
      ]
     },
     "metadata": {
      "needs_background": "light"
     },
     "output_type": "display_data"
    }
   ],
   "source": [
    "threshold_fin = th_runs[-1]\n",
    "# threshold_fin = np.nanpercentile(final[\"lr_fin\"], 100*(1 - Q0))\n",
    "print(\"Q0: \" + str(Q0))\n",
    "print(\"Final Threshold: \", threshold_fin)\n",
    "\n",
    "print(\"No of nan LRs: \" + str(len(final[np.isnan(final[\"lr_fin\"])])))\n",
    "\n",
    "print(\"No of sources below 0.1: \" + \n",
    "      str(len(final[\"lr_fin\"][final[\"lr_fin\"] < 0.1])))\n",
    "\n",
    "vlow_lr_k = final[\"lr_fin\"][final[\"lr_fin\"] < 0.1]\n",
    "varstat(vlow_lr_k)\n",
    "\n",
    "print(\"No of sources below threshold: \" + \n",
    "      str(len(final[\"lr_fin\"][final[\"lr_fin\"] <=threshold_fin])))\n",
    "\n",
    "fig = plt.figure()\n",
    "lr_be = logspace_bins(0.1, np.nanmax(final[\"lr_fin\"]), 0.05)\n",
    "plt.hist(final[\"lr_fin\"][~np.isnan(final[\"lr_fin\"])], bins=lr_be)\n",
    "plt.axvline(threshold_fin, 0, 1, color='r')\n",
    "plt.ylim([0., 50])\n",
    "\n",
    "#plt.yscale('log')\n",
    "plt.xlabel('log(LR)')\n",
    "# plt.xscale('log')"
   ]
  },
  {
   "cell_type": "code",
   "execution_count": 212,
   "metadata": {},
   "outputs": [
    {
     "name": "stdout",
     "output_type": "stream",
     "text": [
      "Cross-over threshold from the final run: 0.045\n"
     ]
    },
    {
     "data": {
      "image/png": "[encoded data removed]",
      "text/plain": [
       "<Figure size 432x288 with 1 Axes>"
      ]
     },
     "metadata": {
      "needs_background": "light"
     },
     "output_type": "display_data"
    }
   ],
   "source": [
    "# Compute the completeness and reliability and plot them\n",
    "thresholds = np.arange(0., 5 * threshold_fin, 0.005)\n",
    "th_cross, completeness_t, reliability_t = comp_rel_threshold(final[\"lr_fin\"], thresholds, Q0)\n",
    "\n",
    "print(\"Cross-over threshold from the final run: {0}\".format(th_cross))\n",
    "\n",
    "fig = plt.figure()\n",
    "plt.plot(thresholds, completeness_t, \"r-\")\n",
    "plt.plot(thresholds, reliability_t, \"g-\")\n",
    "# plt.plot(thresholds, average_t, \"k-\")\n",
    "plt.axvline(th_cross, color=\"k\", ls=\"--\")\n",
    "plt.xlabel(r\"$Threshold$\")\n",
    "plt.ylabel(r\"$Completeness/Reliability$\")\n",
    "# plt.xscale('log')\n",
    "plt.tight_layout()\n",
    "plt.savefig(outdir_name+\"/completeness_reliability_fin.pdf\")\n",
    "# plt.close()"
   ]
  },
  {
   "cell_type": "code",
   "execution_count": 213,
   "metadata": {},
   "outputs": [
    {
     "name": "stdout",
     "output_type": "stream",
     "text": [
      "0.911748627386\n"
     ]
    }
   ],
   "source": [
    "# Take the fraction of sources which have a LR above threshold compared with the no. of radio\n",
    "# sources that had a match around lop_opt_radius\n",
    "lr_above_th = ((~np.isnan(final[\"lr_fin\"])) & (final[\"lr_fin\"] >= threshold_fin))\n",
    "print(np.sum(lr_above_th)/len(final))"
   ]
  },
  {
   "cell_type": "code",
   "execution_count": 214,
   "metadata": {},
   "outputs": [
    {
     "data": {
      "text/plain": [
       "'full_runs_gaul_workflow/21_06_2019_1'"
      ]
     },
     "execution_count": 214,
     "metadata": {},
     "output_type": "execute_result"
    }
   ],
   "source": [
    "outdir_name"
   ]
  },
  {
   "cell_type": "code",
   "execution_count": 215,
   "metadata": {},
   "outputs": [
    {
     "name": "stdout",
     "output_type": "stream",
     "text": [
      "NOT SETTING THE SOURCES BELOWT THRESHOLD TO NaNs!\n"
     ]
    }
   ],
   "source": [
    "# Save the results by copying the LR results to the FULL deepfull catalogue\n",
    "deepfull[\"lr_fin\"] = np.nan\n",
    "deepfull[\"lr_dist_fin\"] = np.nan\n",
    "deepfull[\"lr_index_fin\"] = np.nan\n",
    "\n",
    "# Set all sources below the threshold to be nan? - NEED TO DO THIS WHEN RUNNING IT PROPERLY\n",
    "print(\"NOT SETTING THE SOURCES BELOWT THRESHOLD TO NaNs!\")\n",
    "\n",
    "deepfull[\"lr_fin\"][forlr_indx] = final[\"lr_fin\"]\n",
    "deepfull[\"lr_dist_fin\"][forlr_indx] = final[\"lr_dist_fin\"]\n",
    "deepfull[\"lr_index_fin\"][forlr_indx] = final[\"lr_index_fin\"]\n",
    "\n",
    "field = \"EN1\"\n",
    "\n",
    "# Write the deepfull to file\n",
    "deepfull.write(outdir_name + \"/\" + field + \"_ML_RUN_fin_overlap\" + cat_type + \".fits\", format='fits', overwrite=True)\n",
    "# deepfull.write(outdir_name + \"/\" + field + \"_ML_RUN_fin_overlap\" + cat_type + \".txt\", format='ascii', overwrite=True)"
   ]
  },
  {
   "cell_type": "code",
   "execution_count": 216,
   "metadata": {},
   "outputs": [
    {
     "data": {
      "text/plain": [
       "0"
      ]
     },
     "execution_count": 216,
     "metadata": {},
     "output_type": "execute_result"
    }
   ],
   "source": [
    "# Move the HTML notebook to the output directory\n",
    "os.system(\"jupyter-nbconvert MaxL_RUN2_KDE.ipynb && mv MaxL_RUN2_KDE.html {0}\".format(outdir_name))"
   ]
  },
  {
   "cell_type": "code",
   "execution_count": null,
   "metadata": {},
   "outputs": [],
   "source": []
  }
 ],
 "metadata": {
  "kernelspec": {
   "display_name": "Python 3",
   "language": "python",
   "name": "python3"
  },
  "language_info": {
   "codemirror_mode": {
    "name": "ipython",
    "version": 3
   },
   "file_extension": ".py",
   "mimetype": "text/x-python",
   "name": "python",
   "nbconvert_exporter": "python",
   "pygments_lexer": "ipython3",
   "version": "3.6.7"
  }
 },
 "nbformat": 4,
 "nbformat_minor": 2
}
