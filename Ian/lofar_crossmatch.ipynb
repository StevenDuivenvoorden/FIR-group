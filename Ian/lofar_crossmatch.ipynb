{
 "cells": [
  {
   "cell_type": "code",
   "execution_count": 1,
   "metadata": {},
   "outputs": [],
   "source": [
    "import numpy as np\n",
    "import astropy\n",
    "from astropy.table import Table, Column,join,vstack\n",
    "from astropy import units as u\n",
    "from astropy.coordinates import SkyCoord, search_around_sky\n",
    "from IPython.display import clear_output\n",
    "import pickle\n",
    "import os\n",
    "from glob import glob\n",
    "from shutil import copyfile\n",
    "from pymoc import MOC\n",
    "from pymoc.util import catalog\n",
    "import matplotlib.pyplot as plt\n",
    "import matplotlib.patches as mpatches\n",
    "from sklearn.neighbors import KernelDensity"
   ]
  },
  {
   "cell_type": "code",
   "execution_count": 5,
   "metadata": {},
   "outputs": [],
   "source": [
    "from mltier import (get_center, get_n_m, estimate_q_m, Field, SingleMLEstimator, MultiMLEstimator,\n",
    "                     parallel_process, get_sigma_all, get_q_m, get_threshold, q0_min_level, q0_min_numbers,\n",
    "                     get_n_m_kde, estimate_q_m_kde, get_q_m_kde, describe)\n",
    "from Q0_calc import Q0_calc"
   ]
  },
  {
   "cell_type": "markdown",
   "metadata": {},
   "source": [
    "#### Read in the optical and infrared data and the radio data"
   ]
  },
  {
   "cell_type": "code",
   "execution_count": 7,
   "metadata": {},
   "outputs": [],
   "source": [
    "opt_ir_cat = Table.read('/its/home/im281/HELP/dmu_products/dmu32/dmu32_Lockman-SWIRE/data/Lockman-SWIRE_20180219.fits')"
   ]
  },
  {
   "cell_type": "code",
   "execution_count": 13,
   "metadata": {},
   "outputs": [],
   "source": [
    "#lofar_all = Table.read('/its/home/im281/HELP/dmu_products/dmu8/data/data/deep-lockman-v0.1.cat.fits')\n",
    "lofar_all = Table.read('/its/home/im281/FIR-group/Ian/lofar/deep_fields/Lockman/data/image_full_ampphase_di_m.NS_shift.blanked.scaled.cat.fits')"
   ]
  },
  {
   "cell_type": "code",
   "execution_count": 14,
   "metadata": {},
   "outputs": [],
   "source": [
    "opt_colname = 'm_megacam_r'\n",
    "ir_colname = 'm_irac_i2'"
   ]
  },
  {
   "cell_type": "markdown",
   "metadata": {},
   "source": [
    "#### Define the field "
   ]
  },
  {
   "cell_type": "code",
   "execution_count": 15,
   "metadata": {},
   "outputs": [],
   "source": [
    "#select the moc of the optical data\n",
    "#MOC_loc = 'mocs/DF-SWIRE_Lockman-SWIRE_MOC.fits'\n",
    "#MHz150_MOC1 = MOC(filename=MOC_loc)\n",
    "MOC_loc = '/its/home/im281/HELP/dmu_products/dmu0/dmu0_DataFusion-Spitzer/data/DF-SERVS_Lockman-SWIRE_MOC.fits'\n",
    "MHz150_MOC = MOC(filename=MOC_loc)\n",
    "#MHz150_MOC = MHz150_MOC1 - MHz150_MOC2"
   ]
  },
  {
   "cell_type": "code",
   "execution_count": 16,
   "metadata": {},
   "outputs": [
    {
     "name": "stdout",
     "output_type": "stream",
     "text": [
      "field area is defined by a MOC\n"
     ]
    }
   ],
   "source": [
    "ra_down, ra_up, dec_down, dec_up = min(lofar_all['RA']),max(lofar_all['RA']),min(lofar_all['DEC']),max(lofar_all['DEC'])\n",
    "field = Field(ra_down, ra_up, dec_down, dec_up, MHz150_MOC)"
   ]
  },
  {
   "cell_type": "markdown",
   "metadata": {},
   "source": [
    "#### Filter the catalogues"
   ]
  },
  {
   "cell_type": "code",
   "execution_count": 19,
   "metadata": {},
   "outputs": [
    {
     "name": "stdout",
     "output_type": "stream",
     "text": [
      "filtering in a MOC\n"
     ]
    }
   ],
   "source": [
    "# remove sources with a major axis greater than 30 arcseconds\n",
    "lofar_aux = lofar_all[~np.isnan(lofar_all['Maj'])]\n",
    "lofar = field.filter_catalogue(lofar_aux[(lofar_aux['Maj'] < 15.)], \n",
    "                               colnames=(\"RA\", \"DEC\"))"
   ]
  },
  {
   "cell_type": "code",
   "execution_count": 18,
   "metadata": {},
   "outputs": [
    {
     "name": "stdout",
     "output_type": "stream",
     "text": [
      "filtering in a MOC\n"
     ]
    }
   ],
   "source": [
    "opt_ir = field.filter_catalogue(opt_ir_cat, \n",
    "                               colnames=(\"ra\", \"dec\"))\n",
    "#remove sources with no detection in the opt or ir bands used for xmatching\n",
    "mask = (~np.isnan(opt_ir[opt_colname])) | (~np.isnan(opt_ir[ir_colname]))\n",
    "opt_ir = opt_ir[mask]"
   ]
  },
  {
   "cell_type": "code",
   "execution_count": 20,
   "metadata": {},
   "outputs": [],
   "source": [
    "opt_ir[\"colour\"] = opt_ir[opt_colname] - opt_ir[ir_colname]"
   ]
  },
  {
   "cell_type": "code",
   "execution_count": 21,
   "metadata": {},
   "outputs": [],
   "source": [
    "opt_ir_index = np.arange(len(opt_ir))"
   ]
  },
  {
   "cell_type": "code",
   "execution_count": 22,
   "metadata": {},
   "outputs": [],
   "source": [
    "opt_ir_coords = SkyCoord(opt_ir['ra'], \n",
    "                           opt_ir['dec'], \n",
    "                           unit=(u.deg, u.deg), \n",
    "                           frame='icrs')"
   ]
  },
  {
   "cell_type": "code",
   "execution_count": 23,
   "metadata": {},
   "outputs": [],
   "source": [
    "lofar_coords = SkyCoord(lofar['RA'], \n",
    "                       lofar['DEC'], \n",
    "                       unit=(u.deg, u.deg), \n",
    "                       frame='icrs')"
   ]
  },
  {
   "cell_type": "code",
   "execution_count": 24,
   "metadata": {},
   "outputs": [
    {
     "name": "stdout",
     "output_type": "stream",
     "text": [
      "number of radio sources within SWIRE footprint is: 19346\n",
      "number of lofar sources iwth major axis>45\" is: 30\n"
     ]
    }
   ],
   "source": [
    "print('number of radio sources within SWIRE footprint is: {}'.format(len(lofar)))\n",
    "print('number of lofar sources iwth major axis>45\" is: {}'.format(np.sum(lofar['Maj']*3600>45)))"
   ]
  },
  {
   "cell_type": "code",
   "execution_count": 25,
   "metadata": {},
   "outputs": [],
   "source": [
    "idx_radio, idx_radiox, _, _ = search_around_sky(\n",
    "            lofar_coords, lofar_coords, 45*u.arcsec)"
   ]
  },
  {
   "cell_type": "code",
   "execution_count": 26,
   "metadata": {},
   "outputs": [
    {
     "name": "stdout",
     "output_type": "stream",
     "text": [
      "number of clustered sources (>4 sources within 45\") is : 4278\n"
     ]
    }
   ],
   "source": [
    "idx,counts = np.unique(idx_radio,return_counts=True)\n",
    "print('number of clustered sources (>4 sources within 45\") is : {}'.format(np.sum(counts>3)))"
   ]
  },
  {
   "cell_type": "code",
   "execution_count": 27,
   "metadata": {},
   "outputs": [
    {
     "data": {
      "text/plain": [
       "1005"
      ]
     },
     "execution_count": 27,
     "metadata": {},
     "output_type": "execute_result"
    }
   ],
   "source": [
    "np.sum(lofar[counts>3]['S_Code']=='M')"
   ]
  },
  {
   "cell_type": "code",
   "execution_count": 28,
   "metadata": {},
   "outputs": [
    {
     "data": {
      "text/html": [
       "<i>Row index=0</i>\n",
       "<table id=\"table46913447113224\">\n",
       "<thead><tr><th>Source_id</th><th>Isl_id</th><th>RA</th><th>E_RA</th><th>DEC</th><th>E_DEC</th><th>Total_flux</th><th>E_Total_flux</th><th>Peak_flux</th><th>E_Peak_flux</th><th>RA_max</th><th>E_RA_max</th><th>DEC_max</th><th>E_DEC_max</th><th>Maj</th><th>E_Maj</th><th>Min</th><th>E_Min</th><th>PA</th><th>E_PA</th><th>Maj_img_plane</th><th>E_Maj_img_plane</th><th>Min_img_plane</th><th>E_Min_img_plane</th><th>PA_img_plane</th><th>E_PA_img_plane</th><th>DC_Maj</th><th>E_DC_Maj</th><th>DC_Min</th><th>E_DC_Min</th><th>DC_PA</th><th>E_DC_PA</th><th>DC_Maj_img_plane</th><th>E_DC_Maj_img_plane</th><th>DC_Min_img_plane</th><th>E_DC_Min_img_plane</th><th>DC_PA_img_plane</th><th>E_DC_PA_img_plane</th><th>Isl_Total_flux</th><th>E_Isl_Total_flux</th><th>Isl_rms</th><th>Isl_mean</th><th>Resid_Isl_rms</th><th>Resid_Isl_mean</th><th>S_Code</th></tr></thead>\n",
       "<thead><tr><th></th><th></th><th>deg</th><th>deg</th><th>deg</th><th>deg</th><th>Jy</th><th>Jy</th><th>Jy / beam</th><th>Jy / beam</th><th>deg</th><th>deg</th><th>deg</th><th>deg</th><th>deg</th><th>deg</th><th>deg</th><th>deg</th><th>deg</th><th>deg</th><th>deg</th><th>deg</th><th>deg</th><th>deg</th><th>deg</th><th>deg</th><th>deg</th><th>deg</th><th>deg</th><th>deg</th><th>deg</th><th>deg</th><th>deg</th><th>deg</th><th>deg</th><th>deg</th><th>deg</th><th>deg</th><th>Jy</th><th>Jy</th><th>Jy / beam</th><th>Jy / beam</th><th>Jy / beam</th><th>Jy / beam</th><th></th></tr></thead>\n",
       "<thead><tr><th>int32</th><th>int32</th><th>float64</th><th>float64</th><th>float64</th><th>float64</th><th>float64</th><th>float64</th><th>float64</th><th>float64</th><th>float64</th><th>float64</th><th>float64</th><th>float64</th><th>float64</th><th>float64</th><th>float64</th><th>float64</th><th>float64</th><th>float64</th><th>float64</th><th>float64</th><th>float64</th><th>float64</th><th>float64</th><th>float64</th><th>float64</th><th>float64</th><th>float64</th><th>float64</th><th>float64</th><th>float64</th><th>float64</th><th>float64</th><th>float64</th><th>float64</th><th>float64</th><th>float64</th><th>float64</th><th>float64</th><th>float64</th><th>float64</th><th>float64</th><th>float64</th><th>bytes1</th></tr></thead>\n",
       "<tr><td>3962</td><td>4066</td><td>165.188170438</td><td>0.000296172956493</td><td>57.4468294332</td><td>0.000195501421197</td><td>0.00165142036634</td><td>0.000365843762868</td><td>0.000553041865774</td><td>9.38822880634e-05</td><td>165.188170438</td><td>0.000296172956493</td><td>57.4468294332</td><td>0.000195501421197</td><td>0.00391250464344</td><td>0.000776738402454</td><td>0.00212124831163</td><td>0.000307909411134</td><td>64.3000338474</td><td>19.5573452814</td><td>0.00391034037329</td><td>0.000776738402454</td><td>0.00212120462089</td><td>0.000307909411134</td><td>61.4023176131</td><td>19.5573452814</td><td>0.00353932749292</td><td>0.000776738402454</td><td>0.00131217460425</td><td>0.000307909411134</td><td>64.3000338474</td><td>19.5573452814</td><td>0.00353736965232</td><td>0.000776738402454</td><td>0.00131214757779</td><td>0.000307909411134</td><td>61.4023176131</td><td>19.5573452814</td><td>0.00109847518893</td><td>0.000168187651034</td><td>9.323139966e-05</td><td>0.0</td><td>6.91451932653e-05</td><td>2.13903354052e-06</td><td>S</td></tr>\n",
       "</table>"
      ],
      "text/plain": [
       "<Row index=0>\n",
       "Source_id Isl_id       RA             E_RA            DEC            E_DEC          Total_flux       E_Total_flux       Peak_flux        E_Peak_flux        RA_max         E_RA_max        DEC_max        E_DEC_max           Maj              E_Maj             Min              E_Min             PA           E_PA      Maj_img_plane    E_Maj_img_plane   Min_img_plane    E_Min_img_plane   PA_img_plane E_PA_img_plane      DC_Maj           E_DC_Maj          DC_Min           E_DC_Min         DC_PA        E_DC_PA    DC_Maj_img_plane E_DC_Maj_img_plane DC_Min_img_plane E_DC_Min_img_plane DC_PA_img_plane E_DC_PA_img_plane  Isl_Total_flux   E_Isl_Total_flux     Isl_rms      Isl_mean   Resid_Isl_rms     Resid_Isl_mean  S_Code\n",
       "                      deg             deg             deg             deg               Jy                Jy            Jy / beam         Jy / beam          deg             deg             deg             deg              deg               deg              deg               deg             deg           deg            deg               deg              deg               deg             deg           deg             deg               deg              deg               deg             deg           deg            deg               deg               deg               deg               deg              deg               Jy                Jy           Jy / beam    Jy / beam     Jy / beam         Jy / beam           \n",
       "  int32   int32     float64         float64         float64         float64          float64           float64           float64           float64         float64         float64         float64         float64          float64           float64          float64           float64         float64       float64        float64           float64          float64           float64         float64       float64         float64           float64          float64           float64         float64       float64        float64           float64           float64           float64           float64          float64          float64           float64          float64      float64       float64           float64      bytes1\n",
       "--------- ------ ------------- ----------------- ------------- ----------------- ---------------- ----------------- ----------------- ----------------- ------------- ----------------- ------------- ----------------- ---------------- ----------------- ---------------- ----------------- ------------- ------------- ---------------- ----------------- ---------------- ----------------- ------------- -------------- ---------------- ----------------- ---------------- ----------------- ------------- ------------- ---------------- ------------------ ---------------- ------------------ --------------- ----------------- ---------------- ----------------- --------------- --------- ----------------- ----------------- ------\n",
       "     3962   4066 165.188170438 0.000296172956493 57.4468294332 0.000195501421197 0.00165142036634 0.000365843762868 0.000553041865774 9.38822880634e-05 165.188170438 0.000296172956493 57.4468294332 0.000195501421197 0.00391250464344 0.000776738402454 0.00212124831163 0.000307909411134 64.3000338474 19.5573452814 0.00391034037329 0.000776738402454 0.00212120462089 0.000307909411134 61.4023176131  19.5573452814 0.00353932749292 0.000776738402454 0.00131217460425 0.000307909411134 64.3000338474 19.5573452814 0.00353736965232  0.000776738402454 0.00131214757779  0.000307909411134   61.4023176131     19.5573452814 0.00109847518893 0.000168187651034 9.323139966e-05       0.0 6.91451932653e-05 2.13903354052e-06      S"
      ]
     },
     "execution_count": 28,
     "metadata": {},
     "output_type": "execute_result"
    }
   ],
   "source": [
    "lofar[0]"
   ]
  },
  {
   "cell_type": "code",
   "execution_count": 29,
   "metadata": {},
   "outputs": [],
   "source": [
    "opt_ir_num_both = (~np.isnan(opt_ir[opt_colname]) & ~np.isnan(opt_ir[ir_colname])) # number of sources detected in opt and ir\n",
    "opt_ir_num_opt = (~np.isnan(opt_ir[opt_colname]) & np.isnan(opt_ir[ir_colname])) # number of sources detected in opt only\n",
    "opt_ir_num_ir =(np.isnan(opt_ir[opt_colname]) & ~np.isnan(opt_ir[ir_colname])) # number of sources detected in ir only\n",
    "opt_num = opt_ir_num_both | opt_ir_num_opt\n",
    "ir_num = opt_ir_num_both | opt_ir_num_ir\n",
    "\n",
    "opt_cat = opt_ir[opt_num]\n",
    "ir_cat = opt_ir[ir_num]"
   ]
  },
  {
   "cell_type": "code",
   "execution_count": 30,
   "metadata": {},
   "outputs": [
    {
     "name": "stdout",
     "output_type": "stream",
     "text": [
      "Total    -  1483392\n",
      "opt and ir -  446792\n",
      "Only opt   -  711790\n",
      "With opt   -  1158582\n",
      "Only ir  -  324810\n",
      "With ir  -  771602\n"
     ]
    }
   ],
   "source": [
    "print(\"Total    - \", len(opt_ir))\n",
    "print(\"opt and ir - \", np.sum(opt_ir_num_both))\n",
    "print(\"Only opt   - \", np.sum(opt_ir_num_opt))\n",
    "print(\"With opt   - \", np.sum(opt_num))\n",
    "print(\"Only ir  - \", np.sum(opt_ir_num_ir))\n",
    "print(\"With ir  - \", np.sum(ir_num))"
   ]
  },
  {
   "cell_type": "markdown",
   "metadata": {},
   "source": [
    "check the distribution of sources to make sure the selected area is correct and that there are no gaps that could influence the calculation of Q0"
   ]
  },
  {
   "cell_type": "code",
   "execution_count": 31,
   "metadata": {},
   "outputs": [
    {
     "data": {
      "image/png": "[encoded data removed]",
      "text/plain": [
       "<Figure size 432x288 with 1 Axes>"
      ]
     },
     "metadata": {
      "needs_background": "light"
     },
     "output_type": "display_data"
    }
   ],
   "source": [
    "x = lofar['RA']\n",
    "y = lofar['DEC']\n",
    "plt.scatter(x,y,s=0.1)\n",
    "\n",
    "x = opt_ir['ra']\n",
    "y = opt_ir['dec']\n",
    "plt.scatter(x,y,s=0.01)\n",
    "plt.show()"
   ]
  },
  {
   "cell_type": "code",
   "execution_count": 32,
   "metadata": {},
   "outputs": [
    {
     "data": {
      "image/png": "[encoded data removed]",
      "text/plain": [
       "<Figure size 432x288 with 1 Axes>"
      ]
     },
     "metadata": {
      "needs_background": "light"
     },
     "output_type": "display_data"
    }
   ],
   "source": [
    "mask = ~np.isnan(opt_ir_cat['m_gpc1_i'])\n",
    "x = opt_ir_cat['ra'][mask]\n",
    "y = opt_ir_cat['dec'][mask]\n",
    "plt.scatter(x,y,s=0.01)\n",
    "plt.xlim(158,159)\n",
    "plt.ylim(58,59)\n",
    "plt.show()"
   ]
  },
  {
   "cell_type": "code",
   "execution_count": null,
   "metadata": {},
   "outputs": [],
   "source": []
  },
  {
   "cell_type": "markdown",
   "metadata": {},
   "source": [
    "### Compute Q0 for the optical and IR"
   ]
  },
  {
   "cell_type": "code",
   "execution_count": 33,
   "metadata": {},
   "outputs": [
    {
     "name": "stdout",
     "output_type": "stream",
     "text": [
      "field area is defined by a MOC\n",
      "filtering in a MOC\n",
      "filtering in a MOC\n",
      "[    0     1     2 ..., 19343 19344 19345]\n",
      "7418\n",
      "starting to find Q0. This will take a while\n",
      "finding Q0 with radius = 0.1 arcseconds\n",
      "number of random sources with no matches: 7415\n",
      "number of real sources with no matches: 7272\n",
      "number of random sources with no matches: 7413\n",
      "number of real sources with no matches: 7272\n",
      "number of random sources with no matches: 7415\n",
      "number of real sources with no matches: 7272\n",
      "number of random sources with no matches: 7414\n",
      "number of real sources with no matches: 7272\n",
      "number of random sources with no matches: 7413\n",
      "number of real sources with no matches: 7272\n",
      "number of random sources with no matches: 7417\n",
      "number of real sources with no matches: 7272\n",
      "number of random sources with no matches: 7415\n",
      "number of real sources with no matches: 7272\n",
      "number of random sources with no matches: 7416\n",
      "number of real sources with no matches: 7272\n",
      "number of random sources with no matches: 7411\n",
      "number of real sources with no matches: 7272\n",
      "number of random sources with no matches: 7411\n",
      "number of real sources with no matches: 7272\n",
      "finding Q0 with radius = 0.37241379310344824 arcseconds\n",
      "number of random sources with no matches: 7349\n",
      "number of real sources with no matches: 5829\n",
      "number of random sources with no matches: 7369\n",
      "number of real sources with no matches: 5829\n",
      "number of random sources with no matches: 7377\n",
      "number of real sources with no matches: 5829\n",
      "number of random sources with no matches: 7373\n",
      "number of real sources with no matches: 5829\n",
      "number of random sources with no matches: 7378\n",
      "number of real sources with no matches: 5829\n",
      "number of random sources with no matches: 7376\n",
      "number of real sources with no matches: 5829\n",
      "number of random sources with no matches: 7363\n",
      "number of real sources with no matches: 5829\n",
      "number of random sources with no matches: 7385\n",
      "number of real sources with no matches: 5829\n",
      "number of random sources with no matches: 7371\n",
      "number of real sources with no matches: 5829\n",
      "number of random sources with no matches: 7373\n",
      "number of real sources with no matches: 5829\n",
      "finding Q0 with radius = 0.6448275862068965 arcseconds\n",
      "number of random sources with no matches: 7265\n",
      "number of real sources with no matches: 4225\n",
      "number of random sources with no matches: 7278\n",
      "number of real sources with no matches: 4225\n",
      "number of random sources with no matches: 7267\n",
      "number of real sources with no matches: 4225\n",
      "number of random sources with no matches: 7275\n",
      "number of real sources with no matches: 4225\n",
      "number of random sources with no matches: 7280\n",
      "number of real sources with no matches: 4225\n",
      "number of random sources with no matches: 7276\n",
      "number of real sources with no matches: 4225\n",
      "number of random sources with no matches: 7278\n",
      "number of real sources with no matches: 4225\n",
      "number of random sources with no matches: 7271\n",
      "number of real sources with no matches: 4225\n",
      "number of random sources with no matches: 7297\n",
      "number of real sources with no matches: 4225\n",
      "number of random sources with no matches: 7278\n",
      "number of real sources with no matches: 4225\n",
      "finding Q0 with radius = 0.9172413793103448 arcseconds\n",
      "number of random sources with no matches: 7135\n",
      "number of real sources with no matches: 3192\n",
      "number of random sources with no matches: 7138\n",
      "number of real sources with no matches: 3192\n",
      "number of random sources with no matches: 7119\n",
      "number of real sources with no matches: 3192\n",
      "number of random sources with no matches: 7134\n",
      "number of real sources with no matches: 3192\n",
      "number of random sources with no matches: 7131\n",
      "number of real sources with no matches: 3192\n",
      "number of random sources with no matches: 7117\n",
      "number of real sources with no matches: 3192\n",
      "number of random sources with no matches: 7121\n",
      "number of real sources with no matches: 3192\n",
      "number of random sources with no matches: 7129\n",
      "number of real sources with no matches: 3192\n",
      "number of random sources with no matches: 7144\n",
      "number of real sources with no matches: 3192\n",
      "number of random sources with no matches: 7150\n",
      "number of real sources with no matches: 3192\n",
      "finding Q0 with radius = 1.1896551724137931 arcseconds\n",
      "number of random sources with no matches: 6957\n",
      "number of real sources with no matches: 2554\n",
      "number of random sources with no matches: 6937\n",
      "number of real sources with no matches: 2554\n",
      "number of random sources with no matches: 6923\n",
      "number of real sources with no matches: 2554\n",
      "number of random sources with no matches: 6946\n",
      "number of real sources with no matches: 2554\n",
      "number of random sources with no matches: 6931\n",
      "number of real sources with no matches: 2554\n",
      "number of random sources with no matches: 6946\n",
      "number of real sources with no matches: 2554\n",
      "number of random sources with no matches: 6944\n",
      "number of real sources with no matches: 2554\n",
      "number of random sources with no matches: 6916\n",
      "number of real sources with no matches: 2554\n",
      "number of random sources with no matches: 6927\n",
      "number of real sources with no matches: 2554\n",
      "number of random sources with no matches: 6917\n",
      "number of real sources with no matches: 2554\n",
      "finding Q0 with radius = 1.4620689655172414 arcseconds\n",
      "number of random sources with no matches: 6725\n",
      "number of real sources with no matches: 2224\n",
      "number of random sources with no matches: 6738\n",
      "number of real sources with no matches: 2224\n",
      "number of random sources with no matches: 6705\n",
      "number of real sources with no matches: 2224\n",
      "number of random sources with no matches: 6717\n",
      "number of real sources with no matches: 2224\n",
      "number of random sources with no matches: 6711\n",
      "number of real sources with no matches: 2224\n",
      "number of random sources with no matches: 6689\n",
      "number of real sources with no matches: 2224\n",
      "number of random sources with no matches: 6736\n",
      "number of real sources with no matches: 2224\n",
      "number of random sources with no matches: 6686\n",
      "number of real sources with no matches: 2224\n",
      "number of random sources with no matches: 6661\n",
      "number of real sources with no matches: 2224\n",
      "number of random sources with no matches: 6693\n",
      "number of real sources with no matches: 2224\n",
      "finding Q0 with radius = 1.7344827586206897 arcseconds\n",
      "number of random sources with no matches: 6395\n",
      "number of real sources with no matches: 1979\n",
      "number of random sources with no matches: 6493\n",
      "number of real sources with no matches: 1979\n",
      "number of random sources with no matches: 6445\n",
      "number of real sources with no matches: 1979\n",
      "number of random sources with no matches: 6466\n",
      "number of real sources with no matches: 1979\n",
      "number of random sources with no matches: 6463\n",
      "number of real sources with no matches: 1979\n",
      "number of random sources with no matches: 6444\n",
      "number of real sources with no matches: 1979\n",
      "number of random sources with no matches: 6400\n",
      "number of real sources with no matches: 1979\n",
      "number of random sources with no matches: 6448\n",
      "number of real sources with no matches: 1979\n",
      "number of random sources with no matches: 6499\n",
      "number of real sources with no matches: 1979\n",
      "number of random sources with no matches: 6430\n",
      "number of real sources with no matches: 1979\n",
      "finding Q0 with radius = 2.0068965517241377 arcseconds\n",
      "number of random sources with no matches: 6078\n",
      "number of real sources with no matches: 1796\n",
      "number of random sources with no matches: 6160\n",
      "number of real sources with no matches: 1796\n",
      "number of random sources with no matches: 6156\n",
      "number of real sources with no matches: 1796\n",
      "number of random sources with no matches: 6164\n",
      "number of real sources with no matches: 1796\n",
      "number of random sources with no matches: 6185\n",
      "number of real sources with no matches: 1796\n",
      "number of random sources with no matches: 6145\n",
      "number of real sources with no matches: 1796\n",
      "number of random sources with no matches: 6093\n",
      "number of real sources with no matches: 1796\n",
      "number of random sources with no matches: 6116\n",
      "number of real sources with no matches: 1796\n",
      "number of random sources with no matches: 6104\n",
      "number of real sources with no matches: 1796\n",
      "number of random sources with no matches: 6174\n",
      "number of real sources with no matches: 1796\n",
      "finding Q0 with radius = 2.279310344827586 arcseconds\n",
      "number of random sources with no matches: 5834\n",
      "number of real sources with no matches: 1663\n",
      "number of random sources with no matches: 5826\n",
      "number of real sources with no matches: 1663\n",
      "number of random sources with no matches: 5787\n",
      "number of real sources with no matches: 1663\n"
     ]
    },
    {
     "name": "stdout",
     "output_type": "stream",
     "text": [
      "number of random sources with no matches: 5877\n",
      "number of real sources with no matches: 1663\n",
      "number of random sources with no matches: 5891\n",
      "number of real sources with no matches: 1663\n",
      "number of random sources with no matches: 5815\n",
      "number of real sources with no matches: 1663\n",
      "number of random sources with no matches: 5821\n",
      "number of real sources with no matches: 1663\n",
      "number of random sources with no matches: 5828\n",
      "number of real sources with no matches: 1663\n",
      "number of random sources with no matches: 5819\n",
      "number of real sources with no matches: 1663\n",
      "number of random sources with no matches: 5782\n",
      "number of real sources with no matches: 1663\n",
      "finding Q0 with radius = 2.5517241379310343 arcseconds\n",
      "number of random sources with no matches: 5487\n",
      "number of real sources with no matches: 1514\n",
      "number of random sources with no matches: 5574\n",
      "number of real sources with no matches: 1514\n",
      "number of random sources with no matches: 5533\n",
      "number of real sources with no matches: 1514\n",
      "number of random sources with no matches: 5453\n",
      "number of real sources with no matches: 1514\n",
      "number of random sources with no matches: 5480\n",
      "number of real sources with no matches: 1514\n",
      "number of random sources with no matches: 5525\n",
      "number of real sources with no matches: 1514\n",
      "number of random sources with no matches: 5429\n",
      "number of real sources with no matches: 1514\n",
      "number of random sources with no matches: 5506\n",
      "number of real sources with no matches: 1514\n",
      "number of random sources with no matches: 5464\n",
      "number of real sources with no matches: 1514\n",
      "number of random sources with no matches: 5505\n",
      "number of real sources with no matches: 1514\n",
      "finding Q0 with radius = 2.8241379310344827 arcseconds\n",
      "number of random sources with no matches: 5177\n",
      "number of real sources with no matches: 1398\n",
      "number of random sources with no matches: 5114\n",
      "number of real sources with no matches: 1398\n",
      "number of random sources with no matches: 5184\n",
      "number of real sources with no matches: 1398\n",
      "number of random sources with no matches: 5124\n",
      "number of real sources with no matches: 1398\n",
      "number of random sources with no matches: 5208\n",
      "number of real sources with no matches: 1398\n",
      "number of random sources with no matches: 5179\n",
      "number of real sources with no matches: 1398\n",
      "number of random sources with no matches: 5197\n",
      "number of real sources with no matches: 1398\n",
      "number of random sources with no matches: 5173\n",
      "number of real sources with no matches: 1398\n",
      "number of random sources with no matches: 5213\n",
      "number of real sources with no matches: 1398\n",
      "number of random sources with no matches: 5129\n",
      "number of real sources with no matches: 1398\n",
      "finding Q0 with radius = 3.0965517241379312 arcseconds\n",
      "number of random sources with no matches: 4821\n",
      "number of real sources with no matches: 1303\n",
      "number of random sources with no matches: 4773\n",
      "number of real sources with no matches: 1303\n",
      "number of random sources with no matches: 4811\n",
      "number of real sources with no matches: 1303\n",
      "number of random sources with no matches: 4843\n",
      "number of real sources with no matches: 1303\n",
      "number of random sources with no matches: 4841\n",
      "number of real sources with no matches: 1303\n",
      "number of random sources with no matches: 4821\n",
      "number of real sources with no matches: 1303\n",
      "number of random sources with no matches: 4827\n",
      "number of real sources with no matches: 1303\n",
      "number of random sources with no matches: 4875\n",
      "number of real sources with no matches: 1303\n",
      "number of random sources with no matches: 4766\n",
      "number of real sources with no matches: 1303\n",
      "number of random sources with no matches: 4776\n",
      "number of real sources with no matches: 1303\n",
      "finding Q0 with radius = 3.3689655172413793 arcseconds\n",
      "number of random sources with no matches: 4393\n",
      "number of real sources with no matches: 1219\n",
      "number of random sources with no matches: 4483\n",
      "number of real sources with no matches: 1219\n",
      "number of random sources with no matches: 4408\n",
      "number of real sources with no matches: 1219\n",
      "number of random sources with no matches: 4475\n",
      "number of real sources with no matches: 1219\n",
      "number of random sources with no matches: 4414\n",
      "number of real sources with no matches: 1219\n",
      "number of random sources with no matches: 4393\n",
      "number of real sources with no matches: 1219\n",
      "number of random sources with no matches: 4405\n",
      "number of real sources with no matches: 1219\n",
      "number of random sources with no matches: 4491\n",
      "number of real sources with no matches: 1219\n",
      "number of random sources with no matches: 4473\n",
      "number of real sources with no matches: 1219\n",
      "number of random sources with no matches: 4423\n",
      "number of real sources with no matches: 1219\n",
      "finding Q0 with radius = 3.6413793103448273 arcseconds\n",
      "number of random sources with no matches: 4078\n",
      "number of real sources with no matches: 1105\n",
      "number of random sources with no matches: 4121\n",
      "number of real sources with no matches: 1105\n",
      "number of random sources with no matches: 4093\n",
      "number of real sources with no matches: 1105\n",
      "number of random sources with no matches: 4135\n",
      "number of real sources with no matches: 1105\n",
      "number of random sources with no matches: 4074\n",
      "number of real sources with no matches: 1105\n",
      "number of random sources with no matches: 4063\n",
      "number of real sources with no matches: 1105\n",
      "number of random sources with no matches: 4079\n",
      "number of real sources with no matches: 1105\n",
      "number of random sources with no matches: 4143\n",
      "number of real sources with no matches: 1105\n",
      "number of random sources with no matches: 4109\n",
      "number of real sources with no matches: 1105\n",
      "number of random sources with no matches: 4174\n",
      "number of real sources with no matches: 1105\n",
      "finding Q0 with radius = 3.913793103448276 arcseconds\n",
      "number of random sources with no matches: 3708\n",
      "number of real sources with no matches: 1002\n",
      "number of random sources with no matches: 3756\n",
      "number of real sources with no matches: 1002\n",
      "number of random sources with no matches: 3695\n",
      "number of real sources with no matches: 1002\n",
      "number of random sources with no matches: 3749\n",
      "number of real sources with no matches: 1002\n",
      "number of random sources with no matches: 3705\n",
      "number of real sources with no matches: 1002\n",
      "number of random sources with no matches: 3731\n",
      "number of real sources with no matches: 1002\n",
      "number of random sources with no matches: 3721\n",
      "number of real sources with no matches: 1002\n",
      "number of random sources with no matches: 3738\n",
      "number of real sources with no matches: 1002\n",
      "number of random sources with no matches: 3768\n",
      "number of real sources with no matches: 1002\n",
      "number of random sources with no matches: 3741\n",
      "number of real sources with no matches: 1002\n",
      "finding Q0 with radius = 4.186206896551724 arcseconds\n",
      "number of random sources with no matches: 3450\n",
      "number of real sources with no matches:  901\n",
      "number of random sources with no matches: 3415\n",
      "number of real sources with no matches:  901\n",
      "number of random sources with no matches: 3522\n",
      "number of real sources with no matches:  901\n",
      "number of random sources with no matches: 3440\n",
      "number of real sources with no matches:  901\n",
      "number of random sources with no matches: 3340\n",
      "number of real sources with no matches:  901\n",
      "number of random sources with no matches: 3434\n",
      "number of real sources with no matches:  901\n",
      "number of random sources with no matches: 3388\n",
      "number of real sources with no matches:  901\n",
      "number of random sources with no matches: 3440\n",
      "number of real sources with no matches:  901\n",
      "number of random sources with no matches: 3457\n",
      "number of real sources with no matches:  901\n",
      "number of random sources with no matches: 3380\n",
      "number of real sources with no matches:  901\n",
      "finding Q0 with radius = 4.458620689655172 arcseconds\n",
      "number of random sources with no matches: 3100\n",
      "number of real sources with no matches:  820\n",
      "number of random sources with no matches: 3208\n",
      "number of real sources with no matches:  820\n",
      "number of random sources with no matches: 3001\n",
      "number of real sources with no matches:  820\n",
      "number of random sources with no matches: 3092\n",
      "number of real sources with no matches:  820\n",
      "number of random sources with no matches: 3149\n",
      "number of real sources with no matches:  820\n",
      "number of random sources with no matches: 3164\n",
      "number of real sources with no matches:  820\n",
      "number of random sources with no matches: 3092\n",
      "number of real sources with no matches:  820\n",
      "number of random sources with no matches: 3035\n",
      "number of real sources with no matches:  820\n"
     ]
    },
    {
     "name": "stdout",
     "output_type": "stream",
     "text": [
      "number of random sources with no matches: 3061\n",
      "number of real sources with no matches:  820\n",
      "number of random sources with no matches: 3029\n",
      "number of real sources with no matches:  820\n",
      "finding Q0 with radius = 4.73103448275862 arcseconds\n",
      "number of random sources with no matches: 2767\n",
      "number of real sources with no matches:  746\n",
      "number of random sources with no matches: 2795\n",
      "number of real sources with no matches:  746\n",
      "number of random sources with no matches: 2791\n",
      "number of real sources with no matches:  746\n",
      "number of random sources with no matches: 2830\n",
      "number of real sources with no matches:  746\n",
      "number of random sources with no matches: 2775\n",
      "number of real sources with no matches:  746\n",
      "number of random sources with no matches: 2785\n",
      "number of real sources with no matches:  746\n",
      "number of random sources with no matches: 2770\n",
      "number of real sources with no matches:  746\n",
      "number of random sources with no matches: 2858\n",
      "number of real sources with no matches:  746\n",
      "number of random sources with no matches: 2800\n",
      "number of real sources with no matches:  746\n",
      "number of random sources with no matches: 2858\n",
      "number of real sources with no matches:  746\n",
      "finding Q0 with radius = 5.003448275862068 arcseconds\n",
      "number of random sources with no matches: 2512\n",
      "number of real sources with no matches:  674\n",
      "number of random sources with no matches: 2481\n",
      "number of real sources with no matches:  674\n",
      "number of random sources with no matches: 2492\n",
      "number of real sources with no matches:  674\n",
      "number of random sources with no matches: 2507\n",
      "number of real sources with no matches:  674\n",
      "number of random sources with no matches: 2570\n",
      "number of real sources with no matches:  674\n",
      "number of random sources with no matches: 2438\n",
      "number of real sources with no matches:  674\n",
      "number of random sources with no matches: 2575\n",
      "number of real sources with no matches:  674\n",
      "number of random sources with no matches: 2499\n",
      "number of real sources with no matches:  674\n",
      "number of random sources with no matches: 2538\n",
      "number of real sources with no matches:  674\n",
      "number of random sources with no matches: 2486\n",
      "number of real sources with no matches:  674\n",
      "finding Q0 with radius = 5.275862068965517 arcseconds\n",
      "number of random sources with no matches: 2312\n",
      "number of real sources with no matches:  597\n",
      "number of random sources with no matches: 2212\n",
      "number of real sources with no matches:  597\n",
      "number of random sources with no matches: 2205\n",
      "number of real sources with no matches:  597\n",
      "number of random sources with no matches: 2291\n",
      "number of real sources with no matches:  597\n",
      "number of random sources with no matches: 2239\n",
      "number of real sources with no matches:  597\n",
      "number of random sources with no matches: 2207\n",
      "number of real sources with no matches:  597\n",
      "number of random sources with no matches: 2247\n",
      "number of real sources with no matches:  597\n",
      "number of random sources with no matches: 2265\n",
      "number of real sources with no matches:  597\n",
      "number of random sources with no matches: 2247\n",
      "number of real sources with no matches:  597\n",
      "number of random sources with no matches: 2305\n",
      "number of real sources with no matches:  597\n",
      "finding Q0 with radius = 5.548275862068965 arcseconds\n",
      "number of random sources with no matches: 2044\n",
      "number of real sources with no matches:  529\n",
      "number of random sources with no matches: 2042\n",
      "number of real sources with no matches:  529\n",
      "number of random sources with no matches: 2049\n",
      "number of real sources with no matches:  529\n",
      "number of random sources with no matches: 2032\n",
      "number of real sources with no matches:  529\n",
      "number of random sources with no matches: 2097\n",
      "number of real sources with no matches:  529\n",
      "number of random sources with no matches: 1983\n",
      "number of real sources with no matches:  529\n",
      "number of random sources with no matches: 1961\n",
      "number of real sources with no matches:  529\n",
      "number of random sources with no matches: 2000\n",
      "number of real sources with no matches:  529\n",
      "number of random sources with no matches: 1999\n",
      "number of real sources with no matches:  529\n",
      "number of random sources with no matches: 1992\n",
      "number of real sources with no matches:  529\n",
      "finding Q0 with radius = 5.820689655172413 arcseconds\n",
      "number of random sources with no matches: 1772\n",
      "number of real sources with no matches:  467\n",
      "number of random sources with no matches: 1746\n",
      "number of real sources with no matches:  467\n",
      "number of random sources with no matches: 1801\n",
      "number of real sources with no matches:  467\n",
      "number of random sources with no matches: 1783\n",
      "number of real sources with no matches:  467\n",
      "number of random sources with no matches: 1738\n",
      "number of real sources with no matches:  467\n",
      "number of random sources with no matches: 1714\n",
      "number of real sources with no matches:  467\n",
      "number of random sources with no matches: 1813\n",
      "number of real sources with no matches:  467\n",
      "number of random sources with no matches: 1737\n",
      "number of real sources with no matches:  467\n",
      "number of random sources with no matches: 1780\n",
      "number of real sources with no matches:  467\n",
      "number of random sources with no matches: 1753\n",
      "number of real sources with no matches:  467\n",
      "finding Q0 with radius = 6.093103448275862 arcseconds\n",
      "number of random sources with no matches: 1551\n",
      "number of real sources with no matches:  406\n",
      "number of random sources with no matches: 1510\n",
      "number of real sources with no matches:  406\n",
      "number of random sources with no matches: 1549\n",
      "number of real sources with no matches:  406\n",
      "number of random sources with no matches: 1554\n",
      "number of real sources with no matches:  406\n",
      "number of random sources with no matches: 1606\n",
      "number of real sources with no matches:  406\n",
      "number of random sources with no matches: 1568\n",
      "number of real sources with no matches:  406\n",
      "number of random sources with no matches: 1557\n",
      "number of real sources with no matches:  406\n",
      "number of random sources with no matches: 1610\n",
      "number of real sources with no matches:  406\n",
      "number of random sources with no matches: 1582\n",
      "number of real sources with no matches:  406\n",
      "number of random sources with no matches: 1577\n",
      "number of real sources with no matches:  406\n",
      "finding Q0 with radius = 6.36551724137931 arcseconds\n",
      "number of random sources with no matches: 1366\n",
      "number of real sources with no matches:  365\n",
      "number of random sources with no matches: 1342\n",
      "number of real sources with no matches:  365\n",
      "number of random sources with no matches: 1378\n",
      "number of real sources with no matches:  365\n",
      "number of random sources with no matches: 1354\n",
      "number of real sources with no matches:  365\n",
      "number of random sources with no matches: 1326\n",
      "number of real sources with no matches:  365\n",
      "number of random sources with no matches: 1366\n",
      "number of real sources with no matches:  365\n",
      "number of random sources with no matches: 1391\n",
      "number of real sources with no matches:  365\n",
      "number of random sources with no matches: 1334\n",
      "number of real sources with no matches:  365\n",
      "number of random sources with no matches: 1388\n",
      "number of real sources with no matches:  365\n",
      "number of random sources with no matches: 1399\n",
      "number of real sources with no matches:  365\n",
      "finding Q0 with radius = 6.637931034482758 arcseconds\n",
      "number of random sources with no matches: 1213\n",
      "number of real sources with no matches:  316\n",
      "number of random sources with no matches: 1219\n",
      "number of real sources with no matches:  316\n",
      "number of random sources with no matches: 1202\n",
      "number of real sources with no matches:  316\n",
      "number of random sources with no matches: 1225\n",
      "number of real sources with no matches:  316\n",
      "number of random sources with no matches: 1117\n",
      "number of real sources with no matches:  316\n",
      "number of random sources with no matches: 1204\n",
      "number of real sources with no matches:  316\n",
      "number of random sources with no matches: 1211\n",
      "number of real sources with no matches:  316\n",
      "number of random sources with no matches: 1212\n",
      "number of real sources with no matches:  316\n",
      "number of random sources with no matches: 1200\n",
      "number of real sources with no matches:  316\n",
      "number of random sources with no matches: 1173\n",
      "number of real sources with no matches:  316\n",
      "finding Q0 with radius = 6.910344827586206 arcseconds\n",
      "number of random sources with no matches: 1119\n",
      "number of real sources with no matches:  282\n",
      "number of random sources with no matches: 1009\n",
      "number of real sources with no matches:  282\n"
     ]
    },
    {
     "name": "stdout",
     "output_type": "stream",
     "text": [
      "number of random sources with no matches: 1047\n",
      "number of real sources with no matches:  282\n",
      "number of random sources with no matches: 1058\n",
      "number of real sources with no matches:  282\n",
      "number of random sources with no matches: 1058\n",
      "number of real sources with no matches:  282\n",
      "number of random sources with no matches: 1014\n",
      "number of real sources with no matches:  282\n",
      "number of random sources with no matches: 1021\n",
      "number of real sources with no matches:  282\n",
      "number of random sources with no matches: 1088\n",
      "number of real sources with no matches:  282\n",
      "number of random sources with no matches: 1082\n",
      "number of real sources with no matches:  282\n",
      "number of random sources with no matches: 1019\n",
      "number of real sources with no matches:  282\n",
      "finding Q0 with radius = 7.182758620689654 arcseconds\n",
      "number of random sources with no matches:  982\n",
      "number of real sources with no matches:  249\n",
      "number of random sources with no matches:  912\n",
      "number of real sources with no matches:  249\n",
      "number of random sources with no matches:  904\n",
      "number of real sources with no matches:  249\n",
      "number of random sources with no matches:  875\n",
      "number of real sources with no matches:  249\n",
      "number of random sources with no matches:  883\n",
      "number of real sources with no matches:  249\n",
      "number of random sources with no matches:  859\n",
      "number of real sources with no matches:  249\n",
      "number of random sources with no matches:  913\n",
      "number of real sources with no matches:  249\n",
      "number of random sources with no matches:  921\n",
      "number of real sources with no matches:  249\n",
      "number of random sources with no matches:  909\n",
      "number of real sources with no matches:  249\n",
      "number of random sources with no matches:  916\n",
      "number of real sources with no matches:  249\n",
      "finding Q0 with radius = 7.455172413793103 arcseconds\n",
      "number of random sources with no matches:  787\n",
      "number of real sources with no matches:  216\n",
      "number of random sources with no matches:  776\n",
      "number of real sources with no matches:  216\n",
      "number of random sources with no matches:  810\n",
      "number of real sources with no matches:  216\n",
      "number of random sources with no matches:  786\n",
      "number of real sources with no matches:  216\n",
      "number of random sources with no matches:  820\n",
      "number of real sources with no matches:  216\n",
      "number of random sources with no matches:  773\n",
      "number of real sources with no matches:  216\n",
      "number of random sources with no matches:  763\n",
      "number of real sources with no matches:  216\n",
      "number of random sources with no matches:  744\n",
      "number of real sources with no matches:  216\n",
      "number of random sources with no matches:  812\n",
      "number of real sources with no matches:  216\n",
      "number of random sources with no matches:  833\n",
      "number of real sources with no matches:  216\n",
      "finding Q0 with radius = 7.727586206896551 arcseconds\n",
      "number of random sources with no matches:  753\n",
      "number of real sources with no matches:  194\n",
      "number of random sources with no matches:  697\n",
      "number of real sources with no matches:  194\n",
      "number of random sources with no matches:  674\n",
      "number of real sources with no matches:  194\n",
      "number of random sources with no matches:  664\n",
      "number of real sources with no matches:  194\n",
      "number of random sources with no matches:  698\n",
      "number of real sources with no matches:  194\n",
      "number of random sources with no matches:  691\n",
      "number of real sources with no matches:  194\n",
      "number of random sources with no matches:  691\n",
      "number of real sources with no matches:  194\n",
      "number of random sources with no matches:  719\n",
      "number of real sources with no matches:  194\n",
      "number of random sources with no matches:  694\n",
      "number of real sources with no matches:  194\n",
      "number of random sources with no matches:  688\n",
      "number of real sources with no matches:  194\n",
      "finding Q0 with radius = 8.0 arcseconds\n",
      "number of random sources with no matches:  569\n",
      "number of real sources with no matches:  171\n",
      "number of random sources with no matches:  604\n",
      "number of real sources with no matches:  171\n",
      "number of random sources with no matches:  602\n",
      "number of real sources with no matches:  171\n",
      "number of random sources with no matches:  652\n",
      "number of real sources with no matches:  171\n",
      "number of random sources with no matches:  611\n",
      "number of real sources with no matches:  171\n",
      "number of random sources with no matches:  617\n",
      "number of real sources with no matches:  171\n",
      "number of random sources with no matches:  580\n",
      "number of real sources with no matches:  171\n",
      "number of random sources with no matches:  592\n",
      "number of real sources with no matches:  171\n",
      "number of random sources with no matches:  596\n",
      "number of real sources with no matches:  171\n",
      "number of random sources with no matches:  553\n",
      "number of real sources with no matches:  171\n"
     ]
    }
   ],
   "source": [
    "Q0_opt,search_rad_r = Q0_calc(lofar,opt_cat,'RA','DEC','ra','dec',opt_colname,min(lofar['RA']),max(lofar['RA']),min(lofar['DEC']),max(lofar['DEC']),0.1,8,30,moc=MHz150_MOC)"
   ]
  },
  {
   "cell_type": "code",
   "execution_count": 34,
   "metadata": {},
   "outputs": [
    {
     "data": {
      "image/png": "[encoded data removed]",
      "text/plain": [
       "<Figure size 432x288 with 1 Axes>"
      ]
     },
     "metadata": {
      "needs_background": "light"
     },
     "output_type": "display_data"
    },
    {
     "name": "stdout",
     "output_type": "stream",
     "text": [
      "Q0 = 0.7407243011867102\n",
      "search radius = 6.093103448275862\n"
     ]
    }
   ],
   "source": [
    "x = search_rad_r\n",
    "y = 1 - np.array(Q0_opt)\n",
    "plt.plot(x,y)\n",
    "plt.xlabel('Radius (arcseconds)')\n",
    "plt.ylabel('Q0')\n",
    "plt.show()\n",
    "\n",
    "Q0 = max(Q0_opt)\n",
    "search_rad_opt = search_rad_r[Q0_opt == Q0][0]\n",
    "#Q0 = popt[0]\n",
    "#search_rad = 6.9103\n",
    "\n",
    "print('Q0 = {}'.format(Q0))\n",
    "print('search radius = {}'.format(search_rad_opt))\n",
    "Q0_opt = Q0"
   ]
  },
  {
   "cell_type": "code",
   "execution_count": 35,
   "metadata": {},
   "outputs": [
    {
     "name": "stdout",
     "output_type": "stream",
     "text": [
      "field area is defined by a MOC\n",
      "filtering in a MOC\n",
      "filtering in a MOC\n",
      "[    0     1     2 ..., 19343 19344 19345]\n",
      "7418\n",
      "starting to find Q0. This will take a while\n",
      "finding Q0 with radius = 0.1 arcseconds\n",
      "number of random sources with no matches: 7417\n",
      "number of real sources with no matches: 7230\n",
      "number of random sources with no matches: 7417\n",
      "number of real sources with no matches: 7230\n",
      "number of random sources with no matches: 7413\n",
      "number of real sources with no matches: 7230\n",
      "number of random sources with no matches: 7417\n",
      "number of real sources with no matches: 7230\n",
      "number of random sources with no matches: 7414\n",
      "number of real sources with no matches: 7230\n",
      "number of random sources with no matches: 7417\n",
      "number of real sources with no matches: 7230\n",
      "number of random sources with no matches: 7414\n",
      "number of real sources with no matches: 7230\n",
      "number of random sources with no matches: 7416\n",
      "number of real sources with no matches: 7230\n",
      "number of random sources with no matches: 7415\n",
      "number of real sources with no matches: 7230\n",
      "number of random sources with no matches: 7415\n",
      "number of real sources with no matches: 7230\n",
      "finding Q0 with radius = 0.37241379310344824 arcseconds\n",
      "number of random sources with no matches: 7387\n",
      "number of real sources with no matches: 5321\n",
      "number of random sources with no matches: 7382\n",
      "number of real sources with no matches: 5321\n",
      "number of random sources with no matches: 7387\n",
      "number of real sources with no matches: 5321\n",
      "number of random sources with no matches: 7386\n",
      "number of real sources with no matches: 5321\n",
      "number of random sources with no matches: 7381\n",
      "number of real sources with no matches: 5321\n",
      "number of random sources with no matches: 7384\n",
      "number of real sources with no matches: 5321\n",
      "number of random sources with no matches: 7384\n",
      "number of real sources with no matches: 5321\n",
      "number of random sources with no matches: 7392\n",
      "number of real sources with no matches: 5321\n",
      "number of random sources with no matches: 7398\n",
      "number of real sources with no matches: 5321\n",
      "number of random sources with no matches: 7376\n",
      "number of real sources with no matches: 5321\n",
      "finding Q0 with radius = 0.6448275862068965 arcseconds\n",
      "number of random sources with no matches: 7318\n",
      "number of real sources with no matches: 3167\n",
      "number of random sources with no matches: 7323\n",
      "number of real sources with no matches: 3167\n",
      "number of random sources with no matches: 7307\n",
      "number of real sources with no matches: 3167\n",
      "number of random sources with no matches: 7321\n",
      "number of real sources with no matches: 3167\n",
      "number of random sources with no matches: 7294\n",
      "number of real sources with no matches: 3167\n",
      "number of random sources with no matches: 7330\n",
      "number of real sources with no matches: 3167\n",
      "number of random sources with no matches: 7315\n",
      "number of real sources with no matches: 3167\n",
      "number of random sources with no matches: 7314\n",
      "number of real sources with no matches: 3167\n",
      "number of random sources with no matches: 7320\n",
      "number of real sources with no matches: 3167\n",
      "number of random sources with no matches: 7324\n",
      "number of real sources with no matches: 3167\n",
      "finding Q0 with radius = 0.9172413793103448 arcseconds\n",
      "number of random sources with no matches: 7236\n",
      "number of real sources with no matches: 1847\n",
      "number of random sources with no matches: 7241\n",
      "number of real sources with no matches: 1847\n",
      "number of random sources with no matches: 7218\n",
      "number of real sources with no matches: 1847\n",
      "number of random sources with no matches: 7236\n",
      "number of real sources with no matches: 1847\n",
      "number of random sources with no matches: 7191\n",
      "number of real sources with no matches: 1847\n",
      "number of random sources with no matches: 7212\n",
      "number of real sources with no matches: 1847\n",
      "number of random sources with no matches: 7240\n",
      "number of real sources with no matches: 1847\n",
      "number of random sources with no matches: 7243\n",
      "number of real sources with no matches: 1847\n",
      "number of random sources with no matches: 7237\n",
      "number of real sources with no matches: 1847\n",
      "number of random sources with no matches: 7216\n",
      "number of real sources with no matches: 1847\n",
      "finding Q0 with radius = 1.1896551724137931 arcseconds\n",
      "number of random sources with no matches: 7087\n",
      "number of real sources with no matches: 1083\n",
      "number of random sources with no matches: 7075\n",
      "number of real sources with no matches: 1083\n",
      "number of random sources with no matches: 7109\n",
      "number of real sources with no matches: 1083\n",
      "number of random sources with no matches: 7077\n",
      "number of real sources with no matches: 1083\n",
      "number of random sources with no matches: 7106\n",
      "number of real sources with no matches: 1083\n",
      "number of random sources with no matches: 7074\n",
      "number of real sources with no matches: 1083\n",
      "number of random sources with no matches: 7102\n",
      "number of real sources with no matches: 1083\n",
      "number of random sources with no matches: 7105\n",
      "number of real sources with no matches: 1083\n",
      "number of random sources with no matches: 7073\n",
      "number of real sources with no matches: 1083\n",
      "number of random sources with no matches: 7102\n",
      "number of real sources with no matches: 1083\n",
      "finding Q0 with radius = 1.4620689655172414 arcseconds\n",
      "number of random sources with no matches: 6900\n",
      "number of real sources with no matches:  701\n",
      "number of random sources with no matches: 6921\n",
      "number of real sources with no matches:  701\n",
      "number of random sources with no matches: 6914\n",
      "number of real sources with no matches:  701\n",
      "number of random sources with no matches: 6919\n",
      "number of real sources with no matches:  701\n",
      "number of random sources with no matches: 6921\n",
      "number of real sources with no matches:  701\n",
      "number of random sources with no matches: 6955\n",
      "number of real sources with no matches:  701\n",
      "number of random sources with no matches: 6906\n",
      "number of real sources with no matches:  701\n",
      "number of random sources with no matches: 6953\n",
      "number of real sources with no matches:  701\n",
      "number of random sources with no matches: 6918\n",
      "number of real sources with no matches:  701\n",
      "number of random sources with no matches: 6896\n",
      "number of real sources with no matches:  701\n",
      "finding Q0 with radius = 1.7344827586206897 arcseconds\n",
      "number of random sources with no matches: 6731\n",
      "number of real sources with no matches:  470\n",
      "number of random sources with no matches: 6687\n",
      "number of real sources with no matches:  470\n",
      "number of random sources with no matches: 6747\n",
      "number of real sources with no matches:  470\n",
      "number of random sources with no matches: 6720\n",
      "number of real sources with no matches:  470\n",
      "number of random sources with no matches: 6751\n",
      "number of real sources with no matches:  470\n",
      "number of random sources with no matches: 6792\n",
      "number of real sources with no matches:  470\n",
      "number of random sources with no matches: 6715\n",
      "number of real sources with no matches:  470\n",
      "number of random sources with no matches: 6735\n",
      "number of real sources with no matches:  470\n",
      "number of random sources with no matches: 6714\n",
      "number of real sources with no matches:  470\n",
      "number of random sources with no matches: 6751\n",
      "number of real sources with no matches:  470\n",
      "finding Q0 with radius = 2.0068965517241377 arcseconds\n",
      "number of random sources with no matches: 6478\n",
      "number of real sources with no matches:  359\n",
      "number of random sources with no matches: 6474\n",
      "number of real sources with no matches:  359\n",
      "number of random sources with no matches: 6490\n",
      "number of real sources with no matches:  359\n",
      "number of random sources with no matches: 6515\n",
      "number of real sources with no matches:  359\n",
      "number of random sources with no matches: 6462\n",
      "number of real sources with no matches:  359\n",
      "number of random sources with no matches: 6506\n",
      "number of real sources with no matches:  359\n",
      "number of random sources with no matches: 6540\n",
      "number of real sources with no matches:  359\n",
      "number of random sources with no matches: 6472\n",
      "number of real sources with no matches:  359\n",
      "number of random sources with no matches: 6509\n",
      "number of real sources with no matches:  359\n",
      "number of random sources with no matches: 6520\n",
      "number of real sources with no matches:  359\n",
      "finding Q0 with radius = 2.279310344827586 arcseconds\n",
      "number of random sources with no matches: 6295\n",
      "number of real sources with no matches:  300\n",
      "number of random sources with no matches: 6236\n",
      "number of real sources with no matches:  300\n",
      "number of random sources with no matches: 6285\n",
      "number of real sources with no matches:  300\n"
     ]
    },
    {
     "name": "stdout",
     "output_type": "stream",
     "text": [
      "number of random sources with no matches: 6291\n",
      "number of real sources with no matches:  300\n",
      "number of random sources with no matches: 6218\n",
      "number of real sources with no matches:  300\n",
      "number of random sources with no matches: 6279\n",
      "number of real sources with no matches:  300\n",
      "number of random sources with no matches: 6264\n",
      "number of real sources with no matches:  300\n",
      "number of random sources with no matches: 6257\n",
      "number of real sources with no matches:  300\n",
      "number of random sources with no matches: 6247\n",
      "number of real sources with no matches:  300\n",
      "number of random sources with no matches: 6224\n",
      "number of real sources with no matches:  300\n",
      "finding Q0 with radius = 2.5517241379310343 arcseconds\n",
      "number of random sources with no matches: 5979\n",
      "number of real sources with no matches:  242\n",
      "number of random sources with no matches: 5913\n",
      "number of real sources with no matches:  242\n",
      "number of random sources with no matches: 5960\n",
      "number of real sources with no matches:  242\n",
      "number of random sources with no matches: 5935\n",
      "number of real sources with no matches:  242\n",
      "number of random sources with no matches: 5997\n",
      "number of real sources with no matches:  242\n",
      "number of random sources with no matches: 5896\n",
      "number of real sources with no matches:  242\n",
      "number of random sources with no matches: 5987\n",
      "number of real sources with no matches:  242\n",
      "number of random sources with no matches: 5964\n",
      "number of real sources with no matches:  242\n",
      "number of random sources with no matches: 6004\n",
      "number of real sources with no matches:  242\n",
      "number of random sources with no matches: 6019\n",
      "number of real sources with no matches:  242\n",
      "finding Q0 with radius = 2.8241379310344827 arcseconds\n",
      "number of random sources with no matches: 5651\n",
      "number of real sources with no matches:  214\n",
      "number of random sources with no matches: 5715\n",
      "number of real sources with no matches:  214\n",
      "number of random sources with no matches: 5640\n",
      "number of real sources with no matches:  214\n",
      "number of random sources with no matches: 5716\n",
      "number of real sources with no matches:  214\n",
      "number of random sources with no matches: 5680\n",
      "number of real sources with no matches:  214\n",
      "number of random sources with no matches: 5614\n",
      "number of real sources with no matches:  214\n",
      "number of random sources with no matches: 5654\n",
      "number of real sources with no matches:  214\n",
      "number of random sources with no matches: 5671\n",
      "number of real sources with no matches:  214\n",
      "number of random sources with no matches: 5627\n",
      "number of real sources with no matches:  214\n",
      "number of random sources with no matches: 5647\n",
      "number of real sources with no matches:  214\n",
      "finding Q0 with radius = 3.0965517241379312 arcseconds\n",
      "number of random sources with no matches: 5349\n",
      "number of real sources with no matches:  193\n",
      "number of random sources with no matches: 5391\n",
      "number of real sources with no matches:  193\n",
      "number of random sources with no matches: 5361\n",
      "number of real sources with no matches:  193\n",
      "number of random sources with no matches: 5363\n",
      "number of real sources with no matches:  193\n",
      "number of random sources with no matches: 5427\n",
      "number of real sources with no matches:  193\n",
      "number of random sources with no matches: 5392\n",
      "number of real sources with no matches:  193\n",
      "number of random sources with no matches: 5403\n",
      "number of real sources with no matches:  193\n",
      "number of random sources with no matches: 5391\n",
      "number of real sources with no matches:  193\n",
      "number of random sources with no matches: 5427\n",
      "number of real sources with no matches:  193\n",
      "number of random sources with no matches: 5395\n",
      "number of real sources with no matches:  193\n",
      "finding Q0 with radius = 3.3689655172413793 arcseconds\n",
      "number of random sources with no matches: 5098\n",
      "number of real sources with no matches:  174\n",
      "number of random sources with no matches: 5037\n",
      "number of real sources with no matches:  174\n",
      "number of random sources with no matches: 5022\n",
      "number of real sources with no matches:  174\n",
      "number of random sources with no matches: 5059\n",
      "number of real sources with no matches:  174\n",
      "number of random sources with no matches: 5114\n",
      "number of real sources with no matches:  174\n",
      "number of random sources with no matches: 5077\n",
      "number of real sources with no matches:  174\n",
      "number of random sources with no matches: 5013\n",
      "number of real sources with no matches:  174\n",
      "number of random sources with no matches: 5065\n",
      "number of real sources with no matches:  174\n",
      "number of random sources with no matches: 5072\n",
      "number of real sources with no matches:  174\n",
      "number of random sources with no matches: 5104\n",
      "number of real sources with no matches:  174\n",
      "finding Q0 with radius = 3.6413793103448273 arcseconds\n",
      "number of random sources with no matches: 4729\n",
      "number of real sources with no matches:  164\n",
      "number of random sources with no matches: 4693\n",
      "number of real sources with no matches:  164\n",
      "number of random sources with no matches: 4725\n",
      "number of real sources with no matches:  164\n",
      "number of random sources with no matches: 4799\n",
      "number of real sources with no matches:  164\n",
      "number of random sources with no matches: 4751\n",
      "number of real sources with no matches:  164\n",
      "number of random sources with no matches: 4798\n",
      "number of real sources with no matches:  164\n",
      "number of random sources with no matches: 4708\n",
      "number of real sources with no matches:  164\n",
      "number of random sources with no matches: 4692\n",
      "number of real sources with no matches:  164\n",
      "number of random sources with no matches: 4695\n",
      "number of real sources with no matches:  164\n",
      "number of random sources with no matches: 4738\n",
      "number of real sources with no matches:  164\n",
      "finding Q0 with radius = 3.913793103448276 arcseconds\n",
      "number of random sources with no matches: 4447\n",
      "number of real sources with no matches:  151\n",
      "number of random sources with no matches: 4488\n",
      "number of real sources with no matches:  151\n",
      "number of random sources with no matches: 4418\n",
      "number of real sources with no matches:  151\n",
      "number of random sources with no matches: 4503\n",
      "number of real sources with no matches:  151\n",
      "number of random sources with no matches: 4451\n",
      "number of real sources with no matches:  151\n",
      "number of random sources with no matches: 4448\n",
      "number of real sources with no matches:  151\n",
      "number of random sources with no matches: 4501\n",
      "number of real sources with no matches:  151\n",
      "number of random sources with no matches: 4457\n",
      "number of real sources with no matches:  151\n",
      "number of random sources with no matches: 4457\n",
      "number of real sources with no matches:  151\n",
      "number of random sources with no matches: 4492\n",
      "number of real sources with no matches:  151\n",
      "finding Q0 with radius = 4.186206896551724 arcseconds\n",
      "number of random sources with no matches: 4175\n",
      "number of real sources with no matches:  144\n",
      "number of random sources with no matches: 4154\n",
      "number of real sources with no matches:  144\n",
      "number of random sources with no matches: 4078\n",
      "number of real sources with no matches:  144\n",
      "number of random sources with no matches: 4068\n",
      "number of real sources with no matches:  144\n",
      "number of random sources with no matches: 4122\n",
      "number of real sources with no matches:  144\n",
      "number of random sources with no matches: 4170\n",
      "number of real sources with no matches:  144\n",
      "number of random sources with no matches: 4144\n",
      "number of real sources with no matches:  144\n",
      "number of random sources with no matches: 4161\n",
      "number of real sources with no matches:  144\n",
      "number of random sources with no matches: 4135\n",
      "number of real sources with no matches:  144\n",
      "number of random sources with no matches: 4145\n",
      "number of real sources with no matches:  144\n",
      "finding Q0 with radius = 4.458620689655172 arcseconds\n",
      "number of random sources with no matches: 3791\n",
      "number of real sources with no matches:  138\n",
      "number of random sources with no matches: 3772\n",
      "number of real sources with no matches:  138\n",
      "number of random sources with no matches: 3841\n",
      "number of real sources with no matches:  138\n",
      "number of random sources with no matches: 3795\n",
      "number of real sources with no matches:  138\n",
      "number of random sources with no matches: 3790\n",
      "number of real sources with no matches:  138\n",
      "number of random sources with no matches: 3827\n",
      "number of real sources with no matches:  138\n",
      "number of random sources with no matches: 3861\n",
      "number of real sources with no matches:  138\n",
      "number of random sources with no matches: 3865\n",
      "number of real sources with no matches:  138\n"
     ]
    },
    {
     "name": "stdout",
     "output_type": "stream",
     "text": [
      "number of random sources with no matches: 3823\n",
      "number of real sources with no matches:  138\n",
      "number of random sources with no matches: 3833\n",
      "number of real sources with no matches:  138\n",
      "finding Q0 with radius = 4.73103448275862 arcseconds\n",
      "number of random sources with no matches: 3482\n",
      "number of real sources with no matches:  136\n",
      "number of random sources with no matches: 3612\n",
      "number of real sources with no matches:  136\n",
      "number of random sources with no matches: 3542\n",
      "number of real sources with no matches:  136\n",
      "number of random sources with no matches: 3575\n",
      "number of real sources with no matches:  136\n",
      "number of random sources with no matches: 3527\n",
      "number of real sources with no matches:  136\n",
      "number of random sources with no matches: 3540\n",
      "number of real sources with no matches:  136\n",
      "number of random sources with no matches: 3506\n",
      "number of real sources with no matches:  136\n",
      "number of random sources with no matches: 3535\n",
      "number of real sources with no matches:  136\n",
      "number of random sources with no matches: 3593\n",
      "number of real sources with no matches:  136\n",
      "number of random sources with no matches: 3560\n",
      "number of real sources with no matches:  136\n",
      "finding Q0 with radius = 5.003448275862068 arcseconds\n",
      "number of random sources with no matches: 3289\n",
      "number of real sources with no matches:  128\n",
      "number of random sources with no matches: 3270\n",
      "number of real sources with no matches:  128\n",
      "number of random sources with no matches: 3212\n",
      "number of real sources with no matches:  128\n",
      "number of random sources with no matches: 3253\n",
      "number of real sources with no matches:  128\n",
      "number of random sources with no matches: 3269\n",
      "number of real sources with no matches:  128\n",
      "number of random sources with no matches: 3238\n",
      "number of real sources with no matches:  128\n",
      "number of random sources with no matches: 3299\n",
      "number of real sources with no matches:  128\n",
      "number of random sources with no matches: 3165\n",
      "number of real sources with no matches:  128\n",
      "number of random sources with no matches: 3256\n",
      "number of real sources with no matches:  128\n",
      "number of random sources with no matches: 3337\n",
      "number of real sources with no matches:  128\n",
      "finding Q0 with radius = 5.275862068965517 arcseconds\n",
      "number of random sources with no matches: 2997\n",
      "number of real sources with no matches:  121\n",
      "number of random sources with no matches: 3000\n",
      "number of real sources with no matches:  121\n",
      "number of random sources with no matches: 3005\n",
      "number of real sources with no matches:  121\n",
      "number of random sources with no matches: 3067\n",
      "number of real sources with no matches:  121\n",
      "number of random sources with no matches: 2960\n",
      "number of real sources with no matches:  121\n",
      "number of random sources with no matches: 3015\n",
      "number of real sources with no matches:  121\n",
      "number of random sources with no matches: 3023\n",
      "number of real sources with no matches:  121\n",
      "number of random sources with no matches: 3008\n",
      "number of real sources with no matches:  121\n",
      "number of random sources with no matches: 3036\n",
      "number of real sources with no matches:  121\n",
      "number of random sources with no matches: 2989\n",
      "number of real sources with no matches:  121\n",
      "finding Q0 with radius = 5.548275862068965 arcseconds\n",
      "number of random sources with no matches: 2716\n",
      "number of real sources with no matches:  118\n",
      "number of random sources with no matches: 2724\n",
      "number of real sources with no matches:  118\n",
      "number of random sources with no matches: 2804\n",
      "number of real sources with no matches:  118\n",
      "number of random sources with no matches: 2761\n",
      "number of real sources with no matches:  118\n",
      "number of random sources with no matches: 2654\n",
      "number of real sources with no matches:  118\n",
      "number of random sources with no matches: 2754\n",
      "number of real sources with no matches:  118\n",
      "number of random sources with no matches: 2728\n",
      "number of real sources with no matches:  118\n",
      "number of random sources with no matches: 2681\n",
      "number of real sources with no matches:  118\n",
      "number of random sources with no matches: 2680\n",
      "number of real sources with no matches:  118\n",
      "number of random sources with no matches: 2729\n",
      "number of real sources with no matches:  118\n",
      "finding Q0 with radius = 5.820689655172413 arcseconds\n",
      "number of random sources with no matches: 2538\n",
      "number of real sources with no matches:  114\n",
      "number of random sources with no matches: 2546\n",
      "number of real sources with no matches:  114\n",
      "number of random sources with no matches: 2498\n",
      "number of real sources with no matches:  114\n",
      "number of random sources with no matches: 2535\n",
      "number of real sources with no matches:  114\n",
      "number of random sources with no matches: 2500\n",
      "number of real sources with no matches:  114\n",
      "number of random sources with no matches: 2496\n",
      "number of real sources with no matches:  114\n",
      "number of random sources with no matches: 2498\n",
      "number of real sources with no matches:  114\n",
      "number of random sources with no matches: 2446\n",
      "number of real sources with no matches:  114\n",
      "number of random sources with no matches: 2464\n",
      "number of real sources with no matches:  114\n",
      "number of random sources with no matches: 2491\n",
      "number of real sources with no matches:  114\n",
      "finding Q0 with radius = 6.093103448275862 arcseconds\n",
      "number of random sources with no matches: 2279\n",
      "number of real sources with no matches:  108\n",
      "number of random sources with no matches: 2257\n",
      "number of real sources with no matches:  108\n",
      "number of random sources with no matches: 2342\n",
      "number of real sources with no matches:  108\n",
      "number of random sources with no matches: 2242\n",
      "number of real sources with no matches:  108\n",
      "number of random sources with no matches: 2306\n",
      "number of real sources with no matches:  108\n",
      "number of random sources with no matches: 2273\n",
      "number of real sources with no matches:  108\n",
      "number of random sources with no matches: 2343\n",
      "number of real sources with no matches:  108\n",
      "number of random sources with no matches: 2305\n",
      "number of real sources with no matches:  108\n",
      "number of random sources with no matches: 2281\n",
      "number of real sources with no matches:  108\n",
      "number of random sources with no matches: 2215\n",
      "number of real sources with no matches:  108\n",
      "finding Q0 with radius = 6.36551724137931 arcseconds\n",
      "number of random sources with no matches: 2047\n",
      "number of real sources with no matches:  106\n",
      "number of random sources with no matches: 2025\n",
      "number of real sources with no matches:  106\n",
      "number of random sources with no matches: 2072\n",
      "number of real sources with no matches:  106\n",
      "number of random sources with no matches: 2068\n",
      "number of real sources with no matches:  106\n",
      "number of random sources with no matches: 2141\n",
      "number of real sources with no matches:  106\n",
      "number of random sources with no matches: 2108\n",
      "number of real sources with no matches:  106\n",
      "number of random sources with no matches: 2112\n",
      "number of real sources with no matches:  106\n",
      "number of random sources with no matches: 2075\n",
      "number of real sources with no matches:  106\n",
      "number of random sources with no matches: 2047\n",
      "number of real sources with no matches:  106\n",
      "number of random sources with no matches: 2053\n",
      "number of real sources with no matches:  106\n",
      "finding Q0 with radius = 6.637931034482758 arcseconds\n",
      "number of random sources with no matches: 1825\n",
      "number of real sources with no matches:  101\n",
      "number of random sources with no matches: 1832\n",
      "number of real sources with no matches:  101\n",
      "number of random sources with no matches: 1864\n",
      "number of real sources with no matches:  101\n",
      "number of random sources with no matches: 1888\n",
      "number of real sources with no matches:  101\n",
      "number of random sources with no matches: 1886\n",
      "number of real sources with no matches:  101\n",
      "number of random sources with no matches: 1862\n",
      "number of real sources with no matches:  101\n",
      "number of random sources with no matches: 1863\n",
      "number of real sources with no matches:  101\n",
      "number of random sources with no matches: 1857\n",
      "number of real sources with no matches:  101\n",
      "number of random sources with no matches: 1854\n",
      "number of real sources with no matches:  101\n",
      "number of random sources with no matches: 1859\n",
      "number of real sources with no matches:  101\n",
      "finding Q0 with radius = 6.910344827586206 arcseconds\n",
      "number of random sources with no matches: 1744\n",
      "number of real sources with no matches:  100\n",
      "number of random sources with no matches: 1672\n",
      "number of real sources with no matches:  100\n"
     ]
    },
    {
     "name": "stdout",
     "output_type": "stream",
     "text": [
      "number of random sources with no matches: 1684\n",
      "number of real sources with no matches:  100\n",
      "number of random sources with no matches: 1707\n",
      "number of real sources with no matches:  100\n",
      "number of random sources with no matches: 1626\n",
      "number of real sources with no matches:  100\n",
      "number of random sources with no matches: 1643\n",
      "number of real sources with no matches:  100\n",
      "number of random sources with no matches: 1763\n",
      "number of real sources with no matches:  100\n",
      "number of random sources with no matches: 1765\n",
      "number of real sources with no matches:  100\n",
      "number of random sources with no matches: 1689\n",
      "number of real sources with no matches:  100\n",
      "number of random sources with no matches: 1675\n",
      "number of real sources with no matches:  100\n",
      "finding Q0 with radius = 7.182758620689654 arcseconds\n",
      "number of random sources with no matches: 1551\n",
      "number of real sources with no matches:   95\n",
      "number of random sources with no matches: 1545\n",
      "number of real sources with no matches:   95\n",
      "number of random sources with no matches: 1487\n",
      "number of real sources with no matches:   95\n",
      "number of random sources with no matches: 1549\n",
      "number of real sources with no matches:   95\n",
      "number of random sources with no matches: 1514\n",
      "number of real sources with no matches:   95\n",
      "number of random sources with no matches: 1542\n",
      "number of real sources with no matches:   95\n",
      "number of random sources with no matches: 1527\n",
      "number of real sources with no matches:   95\n",
      "number of random sources with no matches: 1506\n",
      "number of real sources with no matches:   95\n",
      "number of random sources with no matches: 1535\n",
      "number of real sources with no matches:   95\n",
      "number of random sources with no matches: 1552\n",
      "number of real sources with no matches:   95\n",
      "finding Q0 with radius = 7.455172413793103 arcseconds\n",
      "number of random sources with no matches: 1386\n",
      "number of real sources with no matches:   92\n",
      "number of random sources with no matches: 1421\n",
      "number of real sources with no matches:   92\n",
      "number of random sources with no matches: 1349\n",
      "number of real sources with no matches:   92\n",
      "number of random sources with no matches: 1431\n",
      "number of real sources with no matches:   92\n",
      "number of random sources with no matches: 1383\n",
      "number of real sources with no matches:   92\n",
      "number of random sources with no matches: 1402\n",
      "number of real sources with no matches:   92\n",
      "number of random sources with no matches: 1367\n",
      "number of real sources with no matches:   92\n",
      "number of random sources with no matches: 1399\n",
      "number of real sources with no matches:   92\n",
      "number of random sources with no matches: 1359\n",
      "number of real sources with no matches:   92\n",
      "number of random sources with no matches: 1342\n",
      "number of real sources with no matches:   92\n",
      "finding Q0 with radius = 7.727586206896551 arcseconds\n",
      "number of random sources with no matches: 1230\n",
      "number of real sources with no matches:   87\n",
      "number of random sources with no matches: 1242\n",
      "number of real sources with no matches:   87\n",
      "number of random sources with no matches: 1260\n",
      "number of real sources with no matches:   87\n",
      "number of random sources with no matches: 1208\n",
      "number of real sources with no matches:   87\n",
      "number of random sources with no matches: 1269\n",
      "number of real sources with no matches:   87\n",
      "number of random sources with no matches: 1243\n",
      "number of real sources with no matches:   87\n",
      "number of random sources with no matches: 1277\n",
      "number of real sources with no matches:   87\n",
      "number of random sources with no matches: 1298\n",
      "number of real sources with no matches:   87\n",
      "number of random sources with no matches: 1226\n",
      "number of real sources with no matches:   87\n",
      "number of random sources with no matches: 1201\n",
      "number of real sources with no matches:   87\n",
      "finding Q0 with radius = 8.0 arcseconds\n",
      "number of random sources with no matches: 1073\n",
      "number of real sources with no matches:   82\n",
      "number of random sources with no matches: 1154\n",
      "number of real sources with no matches:   82\n",
      "number of random sources with no matches: 1095\n",
      "number of real sources with no matches:   82\n",
      "number of random sources with no matches: 1190\n",
      "number of real sources with no matches:   82\n",
      "number of random sources with no matches: 1094\n",
      "number of real sources with no matches:   82\n",
      "number of random sources with no matches: 1155\n",
      "number of real sources with no matches:   82\n",
      "number of random sources with no matches: 1191\n",
      "number of real sources with no matches:   82\n",
      "number of random sources with no matches: 1158\n",
      "number of real sources with no matches:   82\n",
      "number of random sources with no matches: 1174\n",
      "number of real sources with no matches:   82\n",
      "number of random sources with no matches: 1188\n",
      "number of real sources with no matches:   82\n"
     ]
    }
   ],
   "source": [
    "Q0_ir,search_rad_r = Q0_calc(lofar,ir_cat,'RA','DEC','ra','dec',ir_colname,min(lofar['RA']),max(lofar['RA']),min(lofar['DEC']),max(lofar['DEC']),0.1,8,30,moc=MHz150_MOC)"
   ]
  },
  {
   "cell_type": "code",
   "execution_count": 36,
   "metadata": {},
   "outputs": [
    {
     "data": {
      "image/png": "[encoded data removed]",
      "text/plain": [
       "<Figure size 432x288 with 1 Axes>"
      ]
     },
     "metadata": {
      "needs_background": "light"
     },
     "output_type": "display_data"
    },
    {
     "name": "stdout",
     "output_type": "stream",
     "text": [
      "Q0 = 0.9661892885812756\n",
      "search radius = 3.913793103448276\n"
     ]
    }
   ],
   "source": [
    "x = search_rad_r\n",
    "y = 1 - np.array(Q0_ir)\n",
    "plt.plot(x,y)\n",
    "plt.xlabel('Radius (arcseconds)')\n",
    "plt.ylabel('Q0')\n",
    "plt.show()\n",
    "Q0 = max(Q0_ir)\n",
    "\n",
    "search_rad_ir = search_rad_r[Q0_ir == Q0][0]\n",
    "#Q0 = popt[0]\n",
    "#search_rad = 6.9103\n",
    "\n",
    "print('Q0 = {}'.format(Q0))\n",
    "print('search radius = {}'.format(search_rad_ir))\n",
    "Q0_ir = Q0"
   ]
  },
  {
   "cell_type": "markdown",
   "metadata": {},
   "source": [
    "### Prepare the optical likelihood ratio"
   ]
  },
  {
   "cell_type": "code",
   "execution_count": 41,
   "metadata": {},
   "outputs": [],
   "source": [
    "opt_cat = opt_ir[opt_num]"
   ]
  },
  {
   "cell_type": "code",
   "execution_count": 42,
   "metadata": {},
   "outputs": [],
   "source": [
    "bin_list_opt = np.arange(7., 35., 0.05)\n",
    "center_opt = get_center(bin_list_opt)"
   ]
  },
  {
   "cell_type": "code",
   "execution_count": 24,
   "metadata": {},
   "outputs": [],
   "source": [
    "bandwidth_opt = 0.5\n",
    "\n",
    "#find the magnitude distribution of all sources n(m)\n",
    "n_m_opt = get_n_m(opt_cat[opt_colname], bin_list_opt, field.area)\n",
    "#find the magnitude distribution of all sources using a kernal instead of bining \n",
    "n_m_opt_kde = get_n_m_kde(opt_cat[opt_colname], center_opt, field.area, bandwidth=bandwidth_opt)\n",
    "n_m_opt_kde_cs = np.cumsum(n_m_opt_kde)\n",
    "\n",
    "#estimate q(m) using the method of Fleuren et al 2012\n",
    "q_m_opt = estimate_q_m(opt_cat[opt_colname], \n",
    "                      bin_list_opt, \n",
    "                      n_m_opt, \n",
    "                      lofar_coords, \n",
    "                      opt_ir_coords[opt_num], \n",
    "                      radius=5)\n",
    "\n",
    "#estimate q(m) using the method of fleuren et al 2012 but instead of binning the magnitudes using a\n",
    "#kernal to create a smoother q(m)\n",
    "q_m_opt_kde = estimate_q_m_kde(opt_cat[opt_colname], \n",
    "                      center_opt, \n",
    "                      n_m_opt_kde, \n",
    "                      lofar_coords, \n",
    "                      opt_ir_coords[opt_num], \n",
    "                      radius=5, \n",
    "                      bandwidth=bandwidth_opt)\n",
    "q_m_opt_kde_cs = np.cumsum(q_m_opt_kde)"
   ]
  },
  {
   "cell_type": "code",
   "execution_count": 25,
   "metadata": {},
   "outputs": [
    {
     "data": {
      "image/png": "[encoded data removed]",
      "text/plain": [
       "<matplotlib.figure.Figure at 0x3044f6358>"
      ]
     },
     "metadata": {},
     "output_type": "display_data"
    }
   ],
   "source": [
    "plt.rcParams[\"figure.figsize\"] = (20,5)\n",
    "plt.subplot(1,3,1)\n",
    "plt.plot(center_opt, n_m_opt,color='blue');\n",
    "plt.plot(center_opt, n_m_opt_kde_cs,color='red');\n",
    "plt.title('n (m)')\n",
    "\n",
    "\n",
    "plt.subplot(1,3,2)\n",
    "plt.rcParams[\"figure.figsize\"] = (5,5)\n",
    "plt.plot(center_opt, q_m_opt,color='blue');\n",
    "plt.plot(center_opt, q_m_opt_kde_cs,color='red');\n",
    "plt.title('q (m)')\n",
    "\n",
    "plt.subplot(1,3,3)\n",
    "plt.rcParams[\"figure.figsize\"] = (5,5)\n",
    "plt.plot(center_opt, q_m_opt/n_m_opt,color='blue');\n",
    "plt.plot(center_opt, q_m_opt_kde_cs/n_m_opt_kde_cs,color='red');\n",
    "plt.ylim(0.9*np.min(q_m_opt_kde_cs/n_m_opt_kde_cs),1.1*np.max(q_m_opt_kde_cs/n_m_opt_kde_cs))\n",
    "plt.title('q (m) / n (m)')\n",
    "plt.show()"
   ]
  },
  {
   "cell_type": "code",
   "execution_count": 26,
   "metadata": {},
   "outputs": [],
   "source": [
    "likelihood_ratio_opt = SingleMLEstimator(Q0_opt, n_m_opt_kde_cs, q_m_opt_kde_cs, center_opt)"
   ]
  },
  {
   "cell_type": "markdown",
   "metadata": {},
   "source": [
    "### Prepare the IR likelihood ratio"
   ]
  },
  {
   "cell_type": "code",
   "execution_count": 37,
   "metadata": {},
   "outputs": [],
   "source": [
    "ir_cat = opt_ir[ir_num]"
   ]
  },
  {
   "cell_type": "code",
   "execution_count": 43,
   "metadata": {},
   "outputs": [],
   "source": [
    "bin_list_ir = np.arange(7., 35., 0.05)\n",
    "center_ir = get_center(bin_list_ir)"
   ]
  },
  {
   "cell_type": "code",
   "execution_count": 44,
   "metadata": {},
   "outputs": [],
   "source": [
    "bandwidth_ir = 0.5\n",
    "\n",
    "n_m_ir = get_n_m(ir_cat[ir_colname], bin_list_ir, field.area)\n",
    "n_m_ir_kde = get_n_m_kde(ir_cat[ir_colname], center_ir, field.area, bandwidth=bandwidth_ir)\n",
    "n_m_ir_kde_cs = np.cumsum(n_m_ir_kde)\n",
    "\n",
    "q_m_ir = estimate_q_m(ir_cat[ir_colname], \n",
    "                      bin_list_ir, \n",
    "                      n_m_ir, \n",
    "                      lofar_coords, \n",
    "                      opt_ir_coords[ir_num], \n",
    "                      radius=5)\n",
    "\n",
    "q_m_ir_kde = estimate_q_m_kde(ir_cat[ir_colname], \n",
    "                      center_ir, \n",
    "                      n_m_ir_kde, \n",
    "                      lofar_coords, \n",
    "                      opt_ir_coords[ir_num], \n",
    "                      radius=5, \n",
    "                      bandwidth=bandwidth_ir)\n",
    "q_m_ir_kde_cs = np.cumsum(q_m_ir_kde)"
   ]
  },
  {
   "cell_type": "code",
   "execution_count": 45,
   "metadata": {},
   "outputs": [
    {
     "name": "stderr",
     "output_type": "stream",
     "text": [
      "/its/home/im281/.conda/envs/herschelhelp/lib/python3.6/site-packages/ipykernel_launcher.py:15: RuntimeWarning: divide by zero encountered in true_divide\n",
      "  from ipykernel import kernelapp as app\n"
     ]
    },
    {
     "data": {
      "image/png": "[encoded data removed]",
      "text/plain": [
       "<Figure size 1080x360 with 3 Axes>"
      ]
     },
     "metadata": {
      "needs_background": "light"
     },
     "output_type": "display_data"
    }
   ],
   "source": [
    "plt.rcParams[\"figure.figsize\"] = (15,5)\n",
    "plt.subplot(1,3,1)\n",
    "plt.plot(center_ir, n_m_ir,color='blue');\n",
    "plt.plot(center_ir, n_m_ir_kde_cs,color='red');\n",
    "plt.title('n (m)')\n",
    "\n",
    "plt.subplot(1,3,2)\n",
    "plt.rcParams[\"figure.figsize\"] = (5,5)\n",
    "plt.plot(center_ir, q_m_ir,color='blue');\n",
    "plt.plot(center_ir, q_m_ir_kde_cs,color='red');\n",
    "plt.title('q (m)')\n",
    "\n",
    "plt.subplot(1,3,3)\n",
    "plt.rcParams[\"figure.figsize\"] = (5,5)\n",
    "plt.plot(center_ir, q_m_ir/n_m_ir,color='blue');\n",
    "plt.plot(center_ir, q_m_ir_kde_cs/n_m_ir_kde_cs,color='red');\n",
    "plt.ylim(0.9*np.min(q_m_ir_kde_cs/n_m_ir_kde_cs),1.1*np.max(q_m_ir_kde_cs/n_m_ir_kde_cs))\n",
    "plt.title('q (m) / n (m)')\n",
    "plt.show()"
   ]
  },
  {
   "cell_type": "code",
   "execution_count": 46,
   "metadata": {},
   "outputs": [],
   "source": [
    "ir_param_list = [n_m_ir,q_m_ir,q_m_ir_kde]\n",
    "pickle.dump(ir_param_list,open('LR_params_I2.pkl','wb'))"
   ]
  },
  {
   "cell_type": "code",
   "execution_count": 31,
   "metadata": {},
   "outputs": [],
   "source": [
    "likelihood_ratio_ir = SingleMLEstimator(Q0_ir, n_m_ir_kde_cs, q_m_ir_kde_cs, center_ir)"
   ]
  },
  {
   "cell_type": "markdown",
   "metadata": {},
   "source": [
    "### Start the magnitude only crossmatch"
   ]
  },
  {
   "cell_type": "markdown",
   "metadata": {},
   "source": [
    "#### optical"
   ]
  },
  {
   "cell_type": "code",
   "execution_count": 32,
   "metadata": {},
   "outputs": [],
   "source": [
    "import multiprocessing\n",
    "n_cpus_total = multiprocessing.cpu_count()\n",
    "n_cpus = max(1, n_cpus_total-1)"
   ]
  },
  {
   "cell_type": "code",
   "execution_count": 33,
   "metadata": {},
   "outputs": [
    {
     "name": "stdout",
     "output_type": "stream",
     "text": [
      "number of LOFAR sources with a possible crossmatch within 15 arcseconds is 11621\n"
     ]
    }
   ],
   "source": [
    "radius = 15\n",
    "idx_lofar, idx_opt, d2d, d3d = search_around_sky(\n",
    "    lofar_coords, opt_ir_coords[opt_num], radius*u.arcsec)\n",
    "\n",
    "# create an array of the indexs of lofar sources with a possible crossmatch within the search radius\n",
    "idx_lofar_unique = np.unique(idx_lofar)\n",
    "print('number of LOFAR sources with a possible crossmatch within {} arcseconds is {}'.format(radius,len(idx_lofar_unique)))"
   ]
  },
  {
   "cell_type": "code",
   "execution_count": 34,
   "metadata": {},
   "outputs": [],
   "source": [
    "lofar[\"lr_opt\"] = np.nan                   # Likelihood ratio\n",
    "lofar[\"lr_dist_opt\"] = np.nan              # Distance to the selected source\n",
    "lofar[\"lr_index_opt\"] = np.nan             # Index of the PanSTARRS source in combined\n",
    "lofar[\"lr_reliability_opt\"] = np.nan\n",
    "lofar[\"helpid_opt\"] = ''"
   ]
  },
  {
   "cell_type": "code",
   "execution_count": 59,
   "metadata": {},
   "outputs": [],
   "source": [
    "#do the crossmatching for the radio to optical dataset\n",
    "#inputs: i, the index saying which radio source to do the LR analysis for\n",
    "def ml_opt(i):\n",
    "\n",
    "    #get the indexes to the radio and optical catalogues from the cross match done above\n",
    "    idx_0 = idx_opt[idx_lofar == i]\n",
    "    d2d_0 = d2d[idx_lofar == i]\n",
    "    mag = opt_cat[opt_colname][idx_0]\n",
    "    \n",
    "    lofar_ra = lofar[i][\"RA\"]\n",
    "    lofar_dec = lofar[i][\"DEC\"]\n",
    "    lofar_pa = lofar[i][\"PA\"]\n",
    "    lofar_maj_err = lofar[i][\"E_Maj\"]\n",
    "    lofar_min_err = lofar[i][\"E_Min\"]\n",
    "    c_ra = opt_cat[\"ra\"][idx_0]\n",
    "    c_dec = opt_cat[\"dec\"][idx_0]\n",
    "    c_ra_err = 1.0\n",
    "    c_dec_err = 1.0\n",
    "    \n",
    "    #calculate the positional error of the radio source based on the PA and major and minor axis\n",
    "    #also includes an additional error of 0.6 arcseconds added in quadrature \n",
    "    sigma, sigma_maj, sigma_min = get_sigma_all(lofar_maj_err, lofar_min_err, lofar_pa, \n",
    "                      lofar_ra, lofar_dec, \n",
    "                      c_ra, c_dec, c_ra_err, c_dec_err)\n",
    "    \n",
    "    lr_0 = likelihood_ratio_opt(mag, d2d_0.arcsec, sigma)\n",
    "    #if the radio source has no sources within the search radius then return a row of nans\n",
    "    if len(lr_0) == 0:\n",
    "        result = [np.nan,np.nan,np.nan,np.nan,np.nan]\n",
    "        return result\n",
    "    chosen_index = np.argmax(lr_0)\n",
    "    lr_sum = np.sum(lr_0)\n",
    "    #calculate the realiability using the formula from smith et al 2013\n",
    "    rel = lr_0/(lr_sum + (1-Q0_opt))\n",
    "    helpid = opt_cat['help_id'][idx_0][0]\n",
    "    #return the indexs to optical catalogue, the distance to the source, the likelihood ratio\n",
    "    #and the helpid\n",
    "    result = [opt_ir_index[opt_num][idx_0[chosen_index]], # Index\n",
    "              (d2d_0.arcsec)[chosen_index],                        # distance\n",
    "              lr_0[chosen_index],\n",
    "              rel[chosen_index],\n",
    "              helpid]                                  # LR\n",
    "    \n",
    "\n",
    "    return(result)\n",
    "    #return (result,rel[chosen_index],helpid)"
   ]
  },
  {
   "cell_type": "code",
   "execution_count": 60,
   "metadata": {},
   "outputs": [
    {
     "name": "stderr",
     "output_type": "stream",
     "text": [
      "100%|██████████| 11.6k/11.6k [00:42<00:00, 273it/s]\n",
      "100%|██████████| 11618/11618 [00:00<00:00, 321718.56it/s]\n"
     ]
    }
   ],
   "source": [
    "res = parallel_process(idx_lofar_unique, ml_opt, n_jobs=n_cpus)"
   ]
  },
  {
   "cell_type": "code",
   "execution_count": 61,
   "metadata": {},
   "outputs": [
    {
     "name": "stderr",
     "output_type": "stream",
     "text": [
      "/Users/im281/anaconda3/lib/python3.6/site-packages/ipykernel/__main__.py:6: StringTruncateWarning: truncated right side string(s) longer than 1 character(s) during assignment\n"
     ]
    }
   ],
   "source": [
    "#add the crossmatched sources to the radio table\n",
    "(lofar[\"lr_index_opt\"][idx_lofar_unique], \n",
    " lofar[\"lr_dist_opt\"][idx_lofar_unique], \n",
    " lofar[\"lr_opt\"][idx_lofar_unique],\n",
    " lofar[\"lr_reliability_opt\"][idx_lofar_unique],\n",
    " lofar[\"helpid_opt\"][idx_lofar_unique]) = list(map(list, zip(*res)))"
   ]
  },
  {
   "cell_type": "code",
   "execution_count": 62,
   "metadata": {},
   "outputs": [],
   "source": [
    "lofar[\"lr_opt\"][np.isnan(lofar[\"lr_opt\"])] = 0"
   ]
  },
  {
   "cell_type": "code",
   "execution_count": 63,
   "metadata": {},
   "outputs": [
    {
     "data": {
      "text/plain": [
       "3.58457972454297"
      ]
     },
     "execution_count": 63,
     "metadata": {},
     "output_type": "execute_result"
    }
   ],
   "source": [
    "#calculate the threshold of trusted crossmatches using Q0 as the fraction of sources that have trusted crossmatches\n",
    "mask = (~np.isnan(lofar['lr_dist_opt'])) & (lofar['lr_opt']>0)\n",
    "threshold_opt = np.percentile(lofar[\"lr_opt\"][mask], 100*(1 - Q0_opt))\n",
    "threshold_opt"
   ]
  },
  {
   "cell_type": "code",
   "execution_count": 64,
   "metadata": {},
   "outputs": [
    {
     "data": {
      "image/png": "[encoded data removed]",
      "text/plain": [
       "<matplotlib.figure.Figure at 0x47493f860>"
      ]
     },
     "metadata": {},
     "output_type": "display_data"
    }
   ],
   "source": [
    "plt.rcParams[\"figure.figsize\"] = (15,6)\n",
    "plt.subplot(1,2,1)\n",
    "plt.hist(lofar[lofar[\"lr_opt\"] != 0][\"lr_opt\"], bins=200)\n",
    "plt.vlines([threshold_opt], 0, 1000)\n",
    "plt.ylim([0,1000])\n",
    "\n",
    "plt.subplot(1,2,2)\n",
    "plt.hist(np.log10(lofar[lofar[\"lr_opt\"] != 0][\"lr_opt\"]+1), bins=200)\n",
    "plt.vlines(np.log10(threshold_opt+1), 0, 1000)\n",
    "ticks, _ = plt.xticks()\n",
    "plt.xticks(ticks, [\"{:.1f}\".format(10**t-1) for t in ticks])\n",
    "plt.ylim([0,1000]);\n",
    "plt.show()"
   ]
  },
  {
   "cell_type": "code",
   "execution_count": 65,
   "metadata": {},
   "outputs": [
    {
     "name": "stdout",
     "output_type": "stream",
     "text": [
      "number of xmatches above the threshold is 8959\n"
     ]
    }
   ],
   "source": [
    "lofar[\"lr_index_sel_opt\"] = lofar[\"lr_index_opt\"]\n",
    "lofar[\"lr_index_sel_opt\"][lofar[\"lr_opt\"] < threshold_opt] = np.nan\n",
    "print('number of xmatches above the threshold is {}'.format(np.sum(lofar['lr_opt']>threshold_opt)))"
   ]
  },
  {
   "cell_type": "code",
   "execution_count": 66,
   "metadata": {},
   "outputs": [
    {
     "name": "stderr",
     "output_type": "stream",
     "text": [
      "/Users/im281/anaconda3/lib/python3.6/site-packages/astropy/table/column.py:965: RuntimeWarning: invalid value encountered in greater\n",
      "  return getattr(self.data, op)(other)\n",
      "/Users/im281/anaconda3/lib/python3.6/site-packages/astropy/table/column.py:965: RuntimeWarning: invalid value encountered in less\n",
      "  return getattr(self.data, op)(other)\n"
     ]
    },
    {
     "data": {
      "image/png": "[encoded data removed]",
      "text/plain": [
       "<matplotlib.figure.Figure at 0x5152f5898>"
      ]
     },
     "metadata": {},
     "output_type": "display_data"
    }
   ],
   "source": [
    "plt.rcParams[\"figure.figsize\"] = (15,5)\n",
    "bins = np.arange(0,search_rad_opt,search_rad_opt/50)\n",
    "plt.subplot(1,3,1)\n",
    "mask = ~np.isnan(lofar['lr_dist_opt'])\n",
    "plt.hist(lofar['lr_dist_opt'][mask],bins=bins,color='red')\n",
    "mask = (lofar['lr_opt'] > threshold_opt) & (~np.isnan(lofar['lr_dist_opt']))\n",
    "plt.hist(lofar['lr_dist_opt'][mask],bins=bins,color='green')\n",
    "plt.xlabel('Seperation (arcseconds)')\n",
    "green_patch = mpatches.Patch(color='green',label='Trusted Crossmatches')\n",
    "red_patch = mpatches.Patch(color='red',label='All Crossmatches')\n",
    "plt.legend(handles=[red_patch,green_patch])\n",
    "\n",
    "plt.subplot(1,3,2)\n",
    "reliability_r = []\n",
    "mask1 = (~np.isnan(lofar['lr_dist_opt']))\n",
    "for n in range(len(bins)-1):\n",
    "    mask = (lofar['lr_dist_opt'] > bins[n]) & (lofar['lr_dist_opt'] < bins[n+1])\n",
    "    mask = mask\n",
    "    rel_temp = lofar['lr_reliability_opt'][mask]\n",
    "    reliability_r.append(np.mean(rel_temp))\n",
    "rad_cent = get_center(bins)\n",
    "plt.plot(rad_cent,reliability_r,color='green')\n",
    "plt.xlabel('Seperation (arcseconds)')\n",
    "plt.ylabel('Reliability')\n",
    "\n",
    "plt.subplot(1,3,3)\n",
    "lrt_r = []\n",
    "mask1 = (~np.isnan(lofar['lr_dist_opt']))\n",
    "for n in range(len(bins)-1):\n",
    "    mask = (lofar['lr_dist_opt'] > bins[n]) & (lofar['lr_dist_opt'] < bins[n+1])\n",
    "    #mask = mask[mask1]\n",
    "    rel_temp = lofar['lr_opt'][mask]\n",
    "    lrt_r.append(np.mean(rel_temp))\n",
    "rad_cent = get_center(bins)\n",
    "plt.plot(rad_cent,lrt_r,color='green')\n",
    "plt.xlabel('Seperation (arcseconds)')\n",
    "plt.ylabel('likelihood ratio')\n",
    "plt.ylim(0,np.max(lrt_r)*1.1)\n",
    "\n",
    "plt.show()"
   ]
  },
  {
   "cell_type": "markdown",
   "metadata": {},
   "source": [
    "#### IR band"
   ]
  },
  {
   "cell_type": "code",
   "execution_count": 43,
   "metadata": {},
   "outputs": [
    {
     "name": "stdout",
     "output_type": "stream",
     "text": [
      "number of LOFAR sources with a possible crossmatch within 15 arcseconds is 11564\n"
     ]
    }
   ],
   "source": [
    "idx_lofar, idx_ir, d2d, d3d = search_around_sky(\n",
    "    lofar_coords, opt_ir_coords[ir_num], radius*u.arcsec)\n",
    "\n",
    "idx_lofar_unique = np.unique(idx_lofar)\n",
    "print('number of LOFAR sources with a possible crossmatch within {} arcseconds is {}'.format(radius,len(idx_lofar_unique)))"
   ]
  },
  {
   "cell_type": "code",
   "execution_count": 44,
   "metadata": {},
   "outputs": [
    {
     "data": {
      "text/plain": [
       "733913"
      ]
     },
     "execution_count": 44,
     "metadata": {},
     "output_type": "execute_result"
    }
   ],
   "source": [
    "len(opt_ir_coords[ir_num])"
   ]
  },
  {
   "cell_type": "code",
   "execution_count": 45,
   "metadata": {},
   "outputs": [
    {
     "data": {
      "text/plain": [
       "733908"
      ]
     },
     "execution_count": 45,
     "metadata": {},
     "output_type": "execute_result"
    }
   ],
   "source": [
    "max(idx_ir)"
   ]
  },
  {
   "cell_type": "code",
   "execution_count": 46,
   "metadata": {},
   "outputs": [
    {
     "name": "stdout",
     "output_type": "stream",
     "text": [
      "number of LOFAR sources with a possible crossmatch within 15 arcseconds is 11564\n"
     ]
    }
   ],
   "source": [
    "radius = 15\n",
    "idx_lofar, idx_ir, d2d, d3d = search_around_sky(\n",
    "    lofar_coords, opt_ir_coords[ir_num], radius*u.arcsec)\n",
    "\n",
    "# create an array of the indexs of lofar sources with a possible crossmatch within the search radius\n",
    "idx_lofar_unique = np.unique(idx_lofar)\n",
    "print('number of LOFAR sources with a possible crossmatch within {} arcseconds is {}'.format(radius,len(idx_lofar_unique)))"
   ]
  },
  {
   "cell_type": "code",
   "execution_count": 47,
   "metadata": {},
   "outputs": [],
   "source": [
    "lofar[\"lr_ir\"] = np.nan                   # Likelihood ratio\n",
    "lofar[\"lr_dist_ir\"] = np.nan              # Distance to the selected source\n",
    "lofar[\"lr_index_ir\"] = np.nan             # Index of the PanSTARRS source in combined\n",
    "lofar[\"lr_reliability_ir\"] = np.nan\n",
    "lofar[\"helpid_ir\"] = ''"
   ]
  },
  {
   "cell_type": "code",
   "execution_count": 48,
   "metadata": {},
   "outputs": [],
   "source": [
    "def ml_ir(i):\n",
    "\n",
    "    idx_0 = idx_ir[idx_lofar == i]\n",
    "    d2d_0 = d2d[idx_lofar == i]\n",
    "    mag = ir_cat[ir_colname][idx_0]\n",
    "    \n",
    "    lofar_ra = lofar[i][\"RA\"]\n",
    "    lofar_dec = lofar[i][\"DEC\"]\n",
    "    lofar_pa = lofar[i][\"PA\"]\n",
    "    lofar_maj_err = lofar[i][\"E_Maj\"]\n",
    "    lofar_min_err = lofar[i][\"E_Min\"]\n",
    "    c_ra = ir_cat[\"ra\"][idx_0]\n",
    "    c_dec = ir_cat[\"dec\"][idx_0]\n",
    "    c_ra_err = 1.0\n",
    "    c_dec_err = 1.0\n",
    "    \n",
    "    sigma, sigma_maj, sigma_min = get_sigma_all(lofar_maj_err, lofar_min_err, lofar_pa, \n",
    "                      lofar_ra, lofar_dec, \n",
    "                      c_ra, c_dec, c_ra_err, c_dec_err)\n",
    "    \n",
    "    lr_0 = likelihood_ratio_ir(mag, d2d_0.arcsec, sigma)\n",
    "    if len(lr_0) == 0:\n",
    "        result = [np.nan,np.nan,np.nan,np.nan,np.nan]\n",
    "        return result\n",
    "    chosen_index = np.argmax(lr_0)\n",
    "    lr_sum = np.sum(lr_0)\n",
    "    rel = lr_0/(lr_sum + (1-Q0_opt))\n",
    "    helpid = ir_cat['help_id'][idx_0][0]\n",
    "    result = [opt_ir_index[ir_num][idx_0[chosen_index]], # Index\n",
    "              (d2d_0.arcsec)[chosen_index],                        # distance\n",
    "              lr_0[chosen_index],\n",
    "              rel[chosen_index],\n",
    "              helpid]                                  # LR\n",
    "    \n",
    "\n",
    "    return(result)\n",
    "    #return (result,rel[chosen_index],helpid)"
   ]
  },
  {
   "cell_type": "code",
   "execution_count": 49,
   "metadata": {},
   "outputs": [
    {
     "name": "stderr",
     "output_type": "stream",
     "text": [
      "100%|██████████| 11.6k/11.6k [00:39<00:00, 292it/s]\n",
      "100%|██████████| 11561/11561 [00:00<00:00, 300381.89it/s]\n"
     ]
    }
   ],
   "source": [
    "res = parallel_process(idx_lofar_unique, ml_ir, n_jobs=n_cpus)"
   ]
  },
  {
   "cell_type": "code",
   "execution_count": 50,
   "metadata": {},
   "outputs": [
    {
     "name": "stderr",
     "output_type": "stream",
     "text": [
      "/Users/im281/anaconda3/lib/python3.6/site-packages/ipykernel/__main__.py:5: StringTruncateWarning: truncated right side string(s) longer than 1 character(s) during assignment\n"
     ]
    }
   ],
   "source": [
    "(lofar[\"lr_index_ir\"][idx_lofar_unique], \n",
    " lofar[\"lr_dist_ir\"][idx_lofar_unique], \n",
    " lofar[\"lr_ir\"][idx_lofar_unique],\n",
    " lofar[\"lr_reliability_ir\"][idx_lofar_unique],\n",
    " lofar[\"helpid_ir\"][idx_lofar_unique]) = list(map(list, zip(*res)))"
   ]
  },
  {
   "cell_type": "code",
   "execution_count": 51,
   "metadata": {},
   "outputs": [],
   "source": [
    "lofar[\"lr_ir\"][np.isnan(lofar[\"lr_ir\"])] = 0"
   ]
  },
  {
   "cell_type": "code",
   "execution_count": 52,
   "metadata": {},
   "outputs": [
    {
     "data": {
      "text/plain": [
       "2.44684906615897"
      ]
     },
     "execution_count": 52,
     "metadata": {},
     "output_type": "execute_result"
    }
   ],
   "source": [
    "mask = (~np.isnan(lofar['lr_dist_ir'])) & (lofar['lr_ir']>0)\n",
    "threshold_ir = np.percentile(lofar[\"lr_ir\"][mask], 100*(1 - Q0_ir))\n",
    "threshold_ir"
   ]
  },
  {
   "cell_type": "code",
   "execution_count": 53,
   "metadata": {},
   "outputs": [
    {
     "data": {
      "image/png": "[encoded data removed]",
      "text/plain": [
       "<matplotlib.figure.Figure at 0x478aa6c18>"
      ]
     },
     "metadata": {},
     "output_type": "display_data"
    }
   ],
   "source": [
    "plt.rcParams[\"figure.figsize\"] = (15,6)\n",
    "plt.subplot(1,2,1)\n",
    "plt.hist(lofar[lofar[\"lr_ir\"] != 0][\"lr_ir\"], bins=200)\n",
    "plt.vlines([threshold_ir], 0, 1000)\n",
    "plt.ylim([0,1000])\n",
    "\n",
    "plt.subplot(1,2,2)\n",
    "plt.hist(np.log10(lofar[lofar[\"lr_ir\"] != 0][\"lr_ir\"]+1), bins=200)\n",
    "plt.vlines(np.log10(threshold_ir+1), 0, 1000)\n",
    "ticks, _ = plt.xticks()\n",
    "plt.xticks(ticks, [\"{:.1f}\".format(10**t-1) for t in ticks])\n",
    "plt.ylim([0,1000]);\n",
    "plt.show()"
   ]
  },
  {
   "cell_type": "code",
   "execution_count": 54,
   "metadata": {},
   "outputs": [
    {
     "name": "stdout",
     "output_type": "stream",
     "text": [
      "number of xmatches above the threshold is 9236\n"
     ]
    }
   ],
   "source": [
    "lofar[\"lr_index_sel_ir\"] = lofar[\"lr_index_ir\"]\n",
    "lofar[\"lr_index_sel_ir\"][lofar[\"lr_ir\"] < threshold_ir] = np.nan\n",
    "print('number of xmatches above the threshold is {}'.format(np.sum(lofar['lr_opt']>threshold_ir)))"
   ]
  },
  {
   "cell_type": "code",
   "execution_count": 55,
   "metadata": {},
   "outputs": [
    {
     "name": "stderr",
     "output_type": "stream",
     "text": [
      "/Users/im281/anaconda3/lib/python3.6/site-packages/astropy/table/column.py:965: RuntimeWarning: invalid value encountered in greater\n",
      "  return getattr(self.data, op)(other)\n",
      "/Users/im281/anaconda3/lib/python3.6/site-packages/astropy/table/column.py:965: RuntimeWarning: invalid value encountered in less\n",
      "  return getattr(self.data, op)(other)\n"
     ]
    },
    {
     "data": {
      "image/png": "[encoded data removed]",
      "text/plain": [
       "<matplotlib.figure.Figure at 0x4727b03c8>"
      ]
     },
     "metadata": {},
     "output_type": "display_data"
    }
   ],
   "source": [
    "plt.rcParams[\"figure.figsize\"] = (15,5)\n",
    "bins = np.arange(0,search_rad_opt,search_rad_opt/50)\n",
    "plt.subplot(1,3,1)\n",
    "mask = ~np.isnan(lofar['lr_dist_ir'])\n",
    "plt.hist(lofar['lr_dist_ir'][mask],bins=bins,color='red')\n",
    "mask = (lofar['lr_ir'] > threshold_ir) & (~np.isnan(lofar['lr_dist_ir']))\n",
    "plt.hist(lofar['lr_dist_ir'][mask],bins=bins,color='green')\n",
    "plt.xlabel('Seperation (arcseconds)')\n",
    "green_patch = mpatches.Patch(color='green',label='Trusted Crossmatches')\n",
    "red_patch = mpatches.Patch(color='red',label='All Crossmatches')\n",
    "plt.legend(handles=[red_patch,green_patch])\n",
    "\n",
    "plt.subplot(1,3,2)\n",
    "reliability_r = []\n",
    "mask1 = (~np.isnan(lofar['lr_dist_ir']))\n",
    "for n in range(len(bins)-1):\n",
    "    mask = (lofar['lr_dist_ir'] > bins[n]) & (lofar['lr_dist_ir'] < bins[n+1])\n",
    "    mask = mask\n",
    "    rel_temp = lofar['lr_reliability_ir'][mask]\n",
    "    reliability_r.append(np.mean(rel_temp))\n",
    "rad_cent = get_center(bins)\n",
    "plt.plot(rad_cent,reliability_r,color='green')\n",
    "plt.xlabel('Seperation (arcseconds)')\n",
    "plt.ylabel('Reliability')\n",
    "\n",
    "plt.subplot(1,3,3)\n",
    "lrt_r = []\n",
    "mask1 = (~np.isnan(lofar['lr_dist_ir']))\n",
    "for n in range(len(bins)-1):\n",
    "    mask = (lofar['lr_dist_ir'] > bins[n]) & (lofar['lr_dist_ir'] < bins[n+1])\n",
    "    #mask = mask[mask1]\n",
    "    rel_temp = lofar['lr_ir'][mask]\n",
    "    lrt_r.append(np.mean(rel_temp))\n",
    "rad_cent = get_center(bins)\n",
    "plt.plot(rad_cent,lrt_r,color='green')\n",
    "plt.xlabel('Seperation (arcseconds)')\n",
    "plt.ylabel('likelihood ratio')\n",
    "plt.ylim(0,np.max(lrt_r)*1.1)\n",
    "\n",
    "plt.show()"
   ]
  },
  {
   "cell_type": "markdown",
   "metadata": {},
   "source": [
    "### Final selection of the match\n",
    "\n",
    "We combine the ML matching done in i-band and W1-band. All the galaxies were the LR is above the selection ratio for the respective band are finally selected."
   ]
  },
  {
   "cell_type": "code",
   "execution_count": 56,
   "metadata": {},
   "outputs": [],
   "source": [
    "# lr_opt_and_ir = (lofar[\"lr_opt\"] != 0) & (lofar[\"lr_ir\"] != 0)\n",
    "# lr_only_opt = (lofar[\"lr_opt\"] != 0) & (lofar[\"lr_ir\"] == 0)\n",
    "# lr_only_ir = (lofar[\"lr_opt\"] == 0) & (lofar[\"lr_ir\"] != 0)\n",
    "# lr_no_match = (lofar[\"lr_opt\"] == 0) & (lofar[\"lr_ir\"] == 0)\n",
    "lr_opt_and_ir = ~np.isnan(lofar[\"lr_index_sel_opt\"]) & ~np.isnan(lofar[\"lr_index_sel_ir\"])\n",
    "lr_only_opt = ~np.isnan(lofar[\"lr_index_sel_opt\"]) & np.isnan(lofar[\"lr_index_sel_ir\"])\n",
    "lr_only_ir = np.isnan(lofar[\"lr_index_sel_opt\"]) & ~np.isnan(lofar[\"lr_index_sel_ir\"])\n",
    "lr_no_match = np.isnan(lofar[\"lr_index_sel_opt\"]) & np.isnan(lofar[\"lr_index_sel_ir\"])"
   ]
  },
  {
   "cell_type": "code",
   "execution_count": 57,
   "metadata": {},
   "outputs": [
    {
     "name": "stdout",
     "output_type": "stream",
     "text": [
      "8765\n",
      "186\n",
      "2146\n",
      "538\n"
     ]
    }
   ],
   "source": [
    "print(np.sum(lr_opt_and_ir))\n",
    "print(np.sum(lr_only_opt))\n",
    "print(np.sum(lr_only_ir))\n",
    "print(np.sum(lr_no_match))"
   ]
  },
  {
   "cell_type": "code",
   "execution_count": 58,
   "metadata": {},
   "outputs": [],
   "source": [
    "lofar[\"lr_index_1\"] = np.nan\n",
    "lofar[\"lr_dist_1\"] = np.nan\n",
    "lofar[\"lr_1\"] = np.nan\n",
    "lofar[\"lr_type_1\"] = 0"
   ]
  },
  {
   "cell_type": "code",
   "execution_count": 59,
   "metadata": {},
   "outputs": [],
   "source": [
    "# Only i matches\n",
    "lofar[\"lr_1\"][lr_only_opt] = lofar[\"lr_opt\"][lr_only_opt]\n",
    "lofar[\"lr_index_1\"][lr_only_opt] = lofar[\"lr_index_opt\"][lr_only_opt]\n",
    "lofar[\"lr_dist_1\"][lr_only_opt] = lofar[\"lr_dist_opt\"][lr_only_opt]\n",
    "lofar[\"lr_type_1\"][lr_only_opt] = 1\n",
    "\n",
    "# Only w1 matches\n",
    "lofar[\"lr_1\"][lr_only_ir] = lofar[\"lr_ir\"][lr_only_ir]\n",
    "lofar[\"lr_index_1\"][lr_only_ir] = lofar[\"lr_index_ir\"][lr_only_ir]\n",
    "lofar[\"lr_dist_1\"][lr_only_ir] = lofar[\"lr_dist_ir\"][lr_only_ir]\n",
    "lofar[\"lr_type_1\"][lr_only_ir] = 2\n",
    "\n",
    "# Both matches\n",
    "lofar[\"lr_1\"][lr_opt_and_ir] = np.max([lofar[\"lr_opt\"][lr_opt_and_ir], lofar[\"lr_ir\"][lr_opt_and_ir]], axis=0)\n",
    "lofar[\"lr_type_1\"][lr_opt_and_ir] = np.argmax([lofar[\"lr_opt\"][lr_opt_and_ir], lofar[\"lr_ir\"][lr_opt_and_ir]], axis=0) + 1\n",
    "\n",
    "c1 = (lofar[\"lr_type_1\"] == 1)\n",
    "c2 = (lofar[\"lr_type_1\"] == 2)\n",
    "lofar[\"lr_index_1\"][lr_opt_and_ir & c1] = lofar[\"lr_index_opt\"][lr_opt_and_ir & c1]\n",
    "lofar[\"lr_index_1\"][lr_opt_and_ir & c2] = lofar[\"lr_index_ir\"][lr_opt_and_ir & c2]\n",
    "lofar[\"lr_dist_1\"][lr_opt_and_ir & c1] = lofar[\"lr_dist_opt\"][lr_opt_and_ir & c1]\n",
    "lofar[\"lr_dist_1\"][lr_opt_and_ir & c2] = lofar[\"lr_dist_ir\"][lr_opt_and_ir & c2]"
   ]
  },
  {
   "cell_type": "code",
   "execution_count": 60,
   "metadata": {},
   "outputs": [
    {
     "name": "stdout",
     "output_type": "stream",
     "text": [
      "match    sel-opt:  403\n",
      "match   sel-ir:  8362\n",
      "match     both:  8765\n",
      "match   opt-only:  186\n",
      "match  ir-only:  2146\n",
      "match      all:  11097\n",
      "         Total:  11635\n"
     ]
    }
   ],
   "source": [
    "print(\"match    sel-opt: \", np.sum(lofar[\"lr_type_1\"][lr_opt_and_ir] == 1))\n",
    "print(\"match   sel-ir: \", np.sum(lofar[\"lr_type_1\"][lr_opt_and_ir] == 2))\n",
    "print(\"match     both: \", np.sum(lofar[\"lr_type_1\"][lr_opt_and_ir] == 1) + \n",
    "                          np.sum(lofar[\"lr_type_1\"][lr_opt_and_ir] == 2))\n",
    "print(\"match   opt-only: \", np.sum(lofar[\"lr_type_1\"] == 1) - np.sum(lofar[\"lr_type_1\"][lr_opt_and_ir] == 1))\n",
    "print(\"match  ir-only: \", np.sum(lofar[\"lr_type_1\"] == 2) - np.sum(lofar[\"lr_type_1\"][lr_opt_and_ir] == 2))\n",
    "print(\"match      all: \", np.sum(lofar[\"lr_type_1\"] == 1) + \n",
    "                          np.sum(lofar[\"lr_type_1\"] == 2))\n",
    "print(\"         Total: \", len(lofar))"
   ]
  },
  {
   "cell_type": "code",
   "execution_count": 61,
   "metadata": {},
   "outputs": [
    {
     "name": "stdout",
     "output_type": "stream",
     "text": [
      "number of sources for which the match in opt-band and ir-band are above the threshold but gives a different match to the combined catalogue is 1045\n"
     ]
    }
   ],
   "source": [
    "print('number of sources for which the match in opt-band and ir-band are above the threshold but gives a different match to the combined catalogue is {}'.format(np.sum(lofar[\"lr_index_opt\"][lr_opt_and_ir] != lofar[\"lr_index_ir\"][lr_opt_and_ir])))"
   ]
  },
  {
   "cell_type": "markdown",
   "metadata": {},
   "source": [
    "### Define the colour bins to be used later\n",
    "\n",
    "Create color bins in the opt-ir plane."
   ]
  },
  {
   "cell_type": "code",
   "execution_count": 62,
   "metadata": {},
   "outputs": [],
   "source": [
    "colour_limits = [0.0, 0.5, 1.0, 1.25, 1.5, 1.75, 2.0, 2.25, 2.5, 2.75, 3.0, 3.5, 4.0]"
   ]
  },
  {
   "cell_type": "code",
   "execution_count": 63,
   "metadata": {},
   "outputs": [
    {
     "name": "stderr",
     "output_type": "stream",
     "text": [
      "/Users/im281/anaconda3/lib/python3.6/site-packages/astropy/table/column.py:965: RuntimeWarning: invalid value encountered in less\n",
      "  return getattr(self.data, op)(other)\n",
      "/Users/im281/anaconda3/lib/python3.6/site-packages/astropy/table/column.py:965: RuntimeWarning: invalid value encountered in greater_equal\n",
      "  return getattr(self.data, op)(other)\n"
     ]
    }
   ],
   "source": [
    "# start with the only opt or ir detected and the colour < lowest colour bin \n",
    "colour_bin_def = [{\"name\":\"only W1\", \"condition\": opt_ir_num_ir},\n",
    "                  {\"name\":\"only i\", \"condition\": opt_ir_num_opt},\n",
    "                  {\"name\":\"-inf to {}\".format(colour_limits[0]), \n",
    "                   \"condition\": (opt_ir[\"colour\"] < colour_limits[0])}]\n",
    "\n",
    "# Get the colour bins\n",
    "for i in range(len(colour_limits)-1):\n",
    "    name = \"{} to {}\".format(colour_limits[i], colour_limits[i+1])\n",
    "    condition = ((opt_ir[\"colour\"] >= colour_limits[i]) & \n",
    "                 (opt_ir[\"colour\"] < colour_limits[i+1]))\n",
    "    colour_bin_def.append({\"name\":name, \"condition\":condition})\n",
    "\n",
    "# Add the \"more than higher colour\" bin\n",
    "colour_bin_def.append({\"name\":\"{} to inf\".format(colour_limits[-1]), \n",
    "                       \"condition\": (opt_ir[\"colour\"] >= colour_limits[-1])})"
   ]
  },
  {
   "cell_type": "code",
   "execution_count": 64,
   "metadata": {},
   "outputs": [],
   "source": [
    "# assign every source a number based on which colour bin it is in\n",
    "opt_ir[\"category\"] = np.nan\n",
    "for i in range(len(colour_bin_def)):\n",
    "    opt_ir[\"category\"][colour_bin_def[i][\"condition\"]] = i"
   ]
  },
  {
   "cell_type": "code",
   "execution_count": 65,
   "metadata": {},
   "outputs": [
    {
     "data": {
      "text/plain": [
       "array([237371, 662040,  30068,  34848,  56371,  37158,  41589,  42615,\n",
       "        40476,  36416,  31998,  27124,  22618,  35954,  25546,  33761])"
      ]
     },
     "execution_count": 65,
     "metadata": {},
     "output_type": "execute_result"
    }
   ],
   "source": [
    "numbers_combined_bins = np.array([np.sum(a[\"condition\"]) for a in colour_bin_def])\n",
    "numbers_combined_bins"
   ]
  },
  {
   "cell_type": "markdown",
   "metadata": {},
   "source": [
    "## Skipped bit on duplicated sources"
   ]
  },
  {
   "cell_type": "code",
   "execution_count": 66,
   "metadata": {},
   "outputs": [
    {
     "data": {
      "text/plain": [
       "array([237371, 662040,  30068,  34848,  56371,  37158,  41589,  42615,\n",
       "        40476,  36416,  31998,  27124,  22618,  35954,  25546,  33761])"
      ]
     },
     "execution_count": 66,
     "metadata": {},
     "output_type": "execute_result"
    }
   ],
   "source": [
    "bin_list = [bin_list_ir if i == 0 else bin_list_opt for i in range(len(colour_bin_def))]\n",
    "centers = [center_ir if i == 0 else center_opt for i in range(len(colour_bin_def))]\n",
    "\n",
    "numbers_combined_bins = np.array([np.sum(a[\"condition\"]) for a in colour_bin_def])\n",
    "bandwidth_colour = [0.5, 0.5, 0.5, 0.5, 0.5, 0.5, 0.5,0.5, 0.5, 0.5, 0.5, 0.5, 0.5, 0.5, 0.5, 0.5]\n",
    "numbers_combined_bins"
   ]
  },
  {
   "cell_type": "code",
   "execution_count": 67,
   "metadata": {},
   "outputs": [],
   "source": [
    "#Calculate n(m) and q(m) within each colour bin to give n(m,c) and q(m,c)\n",
    "n_m_kde = []\n",
    "\n",
    "# W1 only sources\n",
    "n_m_kde.append(get_n_m_kde(opt_ir[ir_colname][opt_ir[\"category\"] == 0], \n",
    "                       centers[0], field.area, bandwidth=bandwidth_colour[0]))\n",
    "\n",
    "# Rest of the sources\n",
    "for i in range(1, len(colour_bin_def)):\n",
    "    n_m_kde.append(get_n_m_kde(opt_ir[opt_colname][opt_ir[\"category\"] == i], \n",
    "                           centers[i], field.area, bandwidth=bandwidth_colour[i]))"
   ]
  },
  {
   "cell_type": "code",
   "execution_count": 68,
   "metadata": {},
   "outputs": [],
   "source": [
    "n_m = []\n",
    "\n",
    "# W1 only sources\n",
    "n_m.append(get_n_m(opt_ir[ir_colname][opt_ir[\"category\"] == 0], bin_list_ir, field.area))\n",
    "\n",
    "# Rest of the sources\n",
    "for i in range(1, len(colour_bin_def)):\n",
    "    n_m.append(get_n_m(opt_ir[opt_colname][opt_ir[\"category\"] == i], bin_list_opt, field.area))"
   ]
  },
  {
   "cell_type": "code",
   "execution_count": 69,
   "metadata": {},
   "outputs": [
    {
     "data": {
      "image/png": "[encoded data removed]",
      "text/plain": [
       "<matplotlib.figure.Figure at 0x51405a4a8>"
      ]
     },
     "metadata": {},
     "output_type": "display_data"
    }
   ],
   "source": [
    "plt.rcParams[\"figure.figsize\"] = (15,15)\n",
    "for i, n_m_k in enumerate(n_m_kde):\n",
    "    plt.subplot(5,5,i+1)\n",
    "    plt.plot(centers[i], n_m[i])\n",
    "    plt.plot(centers[i], np.cumsum(n_m_k))\n",
    "plt.show()"
   ]
  },
  {
   "cell_type": "code",
   "execution_count": 70,
   "metadata": {},
   "outputs": [],
   "source": [
    "lofar[\"category\"] = np.nan\n",
    "lofar[ir_colname] = np.nan\n",
    "lofar[opt_colname] = np.nan"
   ]
  },
  {
   "cell_type": "code",
   "execution_count": 71,
   "metadata": {},
   "outputs": [],
   "source": [
    "c = ~np.isnan(lofar[\"lr_index_1\"])\n",
    "indices = lofar[\"lr_index_1\"][c].astype(int)\n",
    "lofar[\"category\"][c] = opt_ir[indices][\"category\"]\n",
    "lofar[ir_colname][c] = opt_ir[indices][ir_colname]\n",
    "lofar[opt_colname][c] = opt_ir[indices][opt_colname]"
   ]
  },
  {
   "cell_type": "markdown",
   "metadata": {},
   "source": [
    "The next parameter represent the number of matched LOFAR sources in each colour category."
   ]
  },
  {
   "cell_type": "code",
   "execution_count": 72,
   "metadata": {},
   "outputs": [
    {
     "data": {
      "text/plain": [
       "array([2625,  273,   31,  224,  621,  375,  406,  421,  392,  410,  404,\n",
       "        464,  494, 1020, 1022, 1915])"
      ]
     },
     "execution_count": 72,
     "metadata": {},
     "output_type": "execute_result"
    }
   ],
   "source": [
    "numbers_lofar_combined_bins = np.array([np.sum(lofar[\"category\"] == c) \n",
    "                                        for c in range(len(numbers_combined_bins))])\n",
    "numbers_lofar_combined_bins"
   ]
  },
  {
   "cell_type": "code",
   "execution_count": 73,
   "metadata": {},
   "outputs": [
    {
     "data": {
      "text/plain": [
       "0.9537602062741727"
      ]
     },
     "execution_count": 73,
     "metadata": {},
     "output_type": "execute_result"
    }
   ],
   "source": [
    "#Q0(c) is defined as the fraction of trsuted crossmatches in each category to give a value of Q0 in each category\n",
    "#and Q0(c) is the sum of these individual Q0's divided by the total number of radio sources\n",
    "Q_0_colour = numbers_lofar_combined_bins/len(lofar)\n",
    "q0_total = np.sum(Q_0_colour)\n",
    "q0_total"
   ]
  },
  {
   "cell_type": "code",
   "execution_count": 74,
   "metadata": {},
   "outputs": [],
   "source": [
    "#calculate q(m) in each colour bin to calculate q(m,c)\n",
    "q_m = []\n",
    "radius = 15. \n",
    "\n",
    "# W1 only sources\n",
    "q_m.append(get_q_m(lofar[ir_colname][lofar[\"category\"] == 0], \n",
    "                   bin_list_ir, \n",
    "                   numbers_lofar_combined_bins[0], \n",
    "                   n_m[0], \n",
    "                   field.area, \n",
    "                   radius=radius))\n",
    "\n",
    "# Rest of the sources\n",
    "for i in range(1, len(numbers_lofar_combined_bins)):\n",
    "    q_m.append(get_q_m(lofar[opt_colname][lofar[\"category\"] == i], \n",
    "                   bin_list_opt, \n",
    "                   numbers_lofar_combined_bins[i], \n",
    "                   n_m[i], \n",
    "                   field.area, \n",
    "                   radius=radius))"
   ]
  },
  {
   "cell_type": "code",
   "execution_count": 75,
   "metadata": {},
   "outputs": [],
   "source": [
    "q_m_kde = []\n",
    "radius = 15. \n",
    "\n",
    "# W1 only sources\n",
    "q_m_kde.append(get_q_m_kde(lofar[ir_colname][lofar[\"category\"] == 0], \n",
    "                   centers[0], \n",
    "                   radius=radius,\n",
    "                   bandwidth=0.5))\n",
    "\n",
    "# Rest of the sources\n",
    "for i in range(1, len(numbers_lofar_combined_bins)):\n",
    "    q_m_kde.append(get_q_m_kde(lofar[opt_colname][lofar[\"category\"] == i], \n",
    "                   centers[i], \n",
    "                   radius=radius,\n",
    "                   bandwidth=bandwidth_colour[i]))"
   ]
  },
  {
   "cell_type": "code",
   "execution_count": 76,
   "metadata": {},
   "outputs": [
    {
     "data": {
      "text/plain": [
       "array([16.25, 16.75, 17.25, 17.75, 18.25, 18.75, 19.25, 19.75, 20.25,\n",
       "       20.75, 21.25, 21.75, 22.25, 22.75, 23.25, 23.75, 24.25, 24.75,\n",
       "       25.25, 25.75, 26.25, 26.75, 27.25])"
      ]
     },
     "execution_count": 76,
     "metadata": {},
     "output_type": "execute_result"
    }
   ],
   "source": [
    "np.ones_like(23)\n",
    "centers[0]"
   ]
  },
  {
   "cell_type": "code",
   "execution_count": 77,
   "metadata": {},
   "outputs": [
    {
     "data": {
      "text/plain": [
       "array([0.5, 0.5, 0.5, 0.5, 0.5, 0.5, 0.5, 0.5, 0.5, 0.5, 0.5, 0.5, 0.5,\n",
       "       0.5, 0.5, 0.5, 0.5, 0.5, 0.5, 0.5, 0.5, 0.5, 0.5])"
      ]
     },
     "execution_count": 77,
     "metadata": {},
     "output_type": "execute_result"
    }
   ],
   "source": [
    "np.ones_like(centers[0])*0.5"
   ]
  },
  {
   "cell_type": "code",
   "execution_count": 78,
   "metadata": {},
   "outputs": [
    {
     "data": {
      "image/png": "[encoded data removed]",
      "text/plain": [
       "<matplotlib.figure.Figure at 0x4768ba0b8>"
      ]
     },
     "metadata": {},
     "output_type": "display_data"
    }
   ],
   "source": [
    "plt.rcParams[\"figure.figsize\"] = (15,15)\n",
    "for i, q_m_k in enumerate(q_m_kde):\n",
    "    plt.subplot(5,5,i+1)\n",
    "    plt.plot(centers[i], q_m[i])\n",
    "    plt.plot(centers[i], np.cumsum(q_m_k))\n",
    "plt.show()"
   ]
  },
  {
   "cell_type": "code",
   "execution_count": 79,
   "metadata": {},
   "outputs": [
    {
     "name": "stderr",
     "output_type": "stream",
     "text": [
      "/Users/im281/anaconda3/lib/python3.6/site-packages/ipykernel/__main__.py:23: RuntimeWarning: invalid value encountered in true_divide\n"
     ]
    },
    {
     "data": {
      "image/png": "[encoded data removed]",
      "text/plain": [
       "<matplotlib.figure.Figure at 0x51403f2b0>"
      ]
     },
     "metadata": {},
     "output_type": "display_data"
    }
   ],
   "source": [
    "#plot q(m,c)/n(m,c) to see that everthing looks okay. The width of the line shows how many sources are in the bin\n",
    "plt.rcParams[\"figure.figsize\"] = (12,10)\n",
    "\n",
    "from matplotlib import cm\n",
    "from matplotlib.collections import LineCollection\n",
    "\n",
    "cm_subsection = np.linspace(0., 1., 16) \n",
    "colors = [ cm.viridis(x) for x in cm_subsection ]\n",
    "\n",
    "low = np.nonzero(centers[1] >= 15)[0][0]\n",
    "high = np.nonzero(centers[1] >= 22.2)[0][0]\n",
    "\n",
    "fig, a = plt.subplots()\n",
    "\n",
    "for i, q_m_k in enumerate(q_m):\n",
    "    #plot(centers[i], q_m_old[i]/n_m_old[i])\n",
    "    a = plt.subplot(4,4,i+1)\n",
    "    if i not in [-1]:\n",
    "        n_m_aux = n_m[i]/np.sum(n_m[i])\n",
    "        lwidths = (n_m_aux/np.max(n_m_aux)*10).astype(float) + 1\n",
    "        #print(lwidths)\n",
    "        \n",
    "        y_aux = q_m_k/n_m[i]\n",
    "        mask = ~np.isnan(y_aux)\n",
    "        y_aux = y_aux[mask]\n",
    "        factor = np.max(y_aux[low:high])\n",
    "        y = y_aux\n",
    "        #print(y)\n",
    "        x = centers[i]\n",
    "        \n",
    "        points = np.array([x, y]).T.reshape(-1, 1, 2)\n",
    "        segments = np.concatenate([points[:-1], points[1:]], axis=1)\n",
    "        \n",
    "        lc = LineCollection(segments, linewidths=lwidths, color=colors[i])\n",
    "        \n",
    "        a.add_collection(lc)\n",
    "        \n",
    "        #plot(centers[i], x/factor, color=colors[i-1])\n",
    "        plt.xlim([12, 30])\n",
    "        if i == 0:\n",
    "            plt.xlim([10, 23])\n",
    "        plt.ylim([0, 1.2*factor])\n",
    "\n",
    "plt.subplots_adjust(left=0.125, \n",
    "                bottom=0.1, \n",
    "                right=0.9, \n",
    "                top=0.9,\n",
    "                wspace=0.4, \n",
    "                hspace=0.2)\n",
    "plt.show()"
   ]
  },
  {
   "cell_type": "code",
   "execution_count": 80,
   "metadata": {},
   "outputs": [],
   "source": [
    "selection = ~np.isnan(opt_ir[\"category\"]) # Avoid the two dreaded sources with no actual data\n",
    "catalogue = opt_ir[selection]"
   ]
  },
  {
   "cell_type": "code",
   "execution_count": 81,
   "metadata": {},
   "outputs": [],
   "source": [
    "radius = 15"
   ]
  },
  {
   "cell_type": "code",
   "execution_count": 82,
   "metadata": {},
   "outputs": [],
   "source": [
    "def apply_ml(i, likelihood_ratio_function):\n",
    "    idx_0 = idx_i[idx_lofar == i]\n",
    "    d2d_0 = d2d[idx_lofar == i]\n",
    "    \n",
    "    category = catalogue[\"category\"][idx_0].astype(int)\n",
    "    mag = catalogue[opt_colname][idx_0]\n",
    "    mag[category == 0] = catalogue[ir_colname][idx_0][category == 0]\n",
    "    \n",
    "    lofar_ra = lofar[i][\"RA\"]\n",
    "    lofar_dec = lofar[i][\"DEC\"]\n",
    "    lofar_pa = lofar[i][\"PA\"]\n",
    "    lofar_maj_err = lofar[i][\"E_Maj\"]\n",
    "    lofar_min_err = lofar[i][\"E_Min\"]\n",
    "    c_ra = catalogue[\"ra\"][idx_0]\n",
    "    c_dec = catalogue[\"dec\"][idx_0]\n",
    "    c_ra_err = 1.0\n",
    "    c_dec_err = 1.0\n",
    "    \n",
    "    sigma, sigma_maj, sigma_min = get_sigma_all(lofar_maj_err, lofar_min_err, lofar_pa, \n",
    "                      lofar_ra, lofar_dec, \n",
    "                      c_ra, c_dec, c_ra_err, c_dec_err)\n",
    "\n",
    "    lr_0 = likelihood_ratio_function(mag, d2d_0.arcsec, sigma, category)\n",
    "    if len(lr_0) == 0:\n",
    "\n",
    "        result = [np.nan,np.nan,np.nan,np.nan,np.nan]\n",
    "        return result\n",
    "    chosen_index = np.argmax(lr_0)\n",
    "    lr_sum = np.sum(lr_0)\n",
    "    rel = lr_0/(lr_sum + (1-q0_total))\n",
    "    helpid = catalogue['help_id'][idx_0][0]\n",
    "    result = [opt_ir_index[selection][idx_0[chosen_index]], # Index\n",
    "              (d2d_0.arcsec)[chosen_index],                        # distance\n",
    "              lr_0[chosen_index],\n",
    "              rel[chosen_index],\n",
    "              helpid]                                  # LR\n",
    "    return result"
   ]
  },
  {
   "cell_type": "markdown",
   "metadata": {},
   "source": [
    "### Run the cross-match\n",
    "\n",
    "This will not need to be repeated after"
   ]
  },
  {
   "cell_type": "code",
   "execution_count": 83,
   "metadata": {},
   "outputs": [],
   "source": [
    "idx_lofar, idx_i, d2d, d3d = search_around_sky(\n",
    "    lofar_coords, opt_ir_coords[selection], radius*u.arcsec)\n",
    "idx_lofar_unique = np.unique(idx_lofar)"
   ]
  },
  {
   "cell_type": "code",
   "execution_count": 84,
   "metadata": {},
   "outputs": [],
   "source": [
    "likelihood_ratio = MultiMLEstimator(Q_0_colour, n_m_kde, q_m_kde, centers)"
   ]
  },
  {
   "cell_type": "code",
   "execution_count": 85,
   "metadata": {},
   "outputs": [],
   "source": [
    "def ml(i):\n",
    "    return apply_ml(i, likelihood_ratio)"
   ]
  },
  {
   "cell_type": "code",
   "execution_count": 86,
   "metadata": {},
   "outputs": [
    {
     "name": "stderr",
     "output_type": "stream",
     "text": [
      "100%|██████████| 11.6k/11.6k [00:56<00:00, 204it/s] \n",
      "100%|██████████| 11626/11626 [00:00<00:00, 255848.74it/s]\n"
     ]
    }
   ],
   "source": [
    "res = parallel_process(idx_lofar_unique, ml, n_jobs=n_cpus)"
   ]
  },
  {
   "cell_type": "code",
   "execution_count": 87,
   "metadata": {},
   "outputs": [],
   "source": [
    "lofar[\"lr_index_2\"] = np.nan\n",
    "lofar[\"lr_dist_2\"] = np.nan\n",
    "lofar[\"lr_2\"] = np.nan\n",
    "lofar[\"lr_reliability_2\"] = np.nan\n",
    "lofar[\"helpid_2\"] = ''"
   ]
  },
  {
   "cell_type": "code",
   "execution_count": 88,
   "metadata": {},
   "outputs": [
    {
     "name": "stderr",
     "output_type": "stream",
     "text": [
      "/Users/im281/anaconda3/lib/python3.6/site-packages/ipykernel/__main__.py:5: StringTruncateWarning: truncated right side string(s) longer than 1 character(s) during assignment\n"
     ]
    }
   ],
   "source": [
    "(lofar[\"lr_index_2\"][idx_lofar_unique], \n",
    " lofar[\"lr_dist_2\"][idx_lofar_unique], \n",
    " lofar[\"lr_2\"][idx_lofar_unique],\n",
    " lofar[\"lr_reliability_2\"][idx_lofar_unique],\n",
    " lofar[\"helpid_2\"][idx_lofar_unique]) = list(map(list, zip(*res)))"
   ]
  },
  {
   "cell_type": "code",
   "execution_count": 89,
   "metadata": {},
   "outputs": [
    {
     "data": {
      "text/plain": [
       "0.2664323871537029"
      ]
     },
     "execution_count": 89,
     "metadata": {},
     "output_type": "execute_result"
    }
   ],
   "source": [
    "lofar[\"lr_2\"][np.isnan(lofar[\"lr_2\"])] = 0\n",
    "\n",
    "mask = (~np.isnan(lofar[\"lr_dist_2\"])) & (lofar['lr_2']>0)\n",
    "threshold = np.percentile(lofar[\"lr_2\"][mask], 100*(1 - q0_total))\n",
    "threshold"
   ]
  },
  {
   "cell_type": "code",
   "execution_count": 90,
   "metadata": {},
   "outputs": [
    {
     "data": {
      "image/png": "[encoded data removed]",
      "text/plain": [
       "<matplotlib.figure.Figure at 0x47e6f49e8>"
      ]
     },
     "metadata": {},
     "output_type": "display_data"
    }
   ],
   "source": [
    "plt.rcParams[\"figure.figsize\"] = (15,6)\n",
    "plt.subplot(1,2,1)\n",
    "plt.hist(lofar[lofar[\"lr_2\"] != 0][\"lr_2\"], bins=200)\n",
    "plt.vlines([threshold], 0, 1000)\n",
    "plt.ylim([0,1000])\n",
    "plt.subplot(1,2,2)\n",
    "plt.hist(np.log10(lofar[lofar[\"lr_2\"] != 0][\"lr_2\"]+1), bins=200)\n",
    "plt.vlines(np.log10(threshold+1), 0, 1000)\n",
    "ticks, _ = plt.xticks()\n",
    "plt.xticks(ticks, [\"{:.1f}\".format(10**t-1) for t in ticks])\n",
    "plt.ylim([0,1000]);\n",
    "plt.show()"
   ]
  },
  {
   "cell_type": "code",
   "execution_count": 91,
   "metadata": {},
   "outputs": [],
   "source": [
    "lofar[\"lr_index_sel_2\"] = lofar[\"lr_index_2\"]\n",
    "lofar[\"lr_index_sel_2\"][lofar[\"lr_2\"] < threshold] = np.nan"
   ]
  },
  {
   "cell_type": "code",
   "execution_count": 92,
   "metadata": {},
   "outputs": [
    {
     "data": {
      "text/plain": [
       "248"
      ]
     },
     "execution_count": 92,
     "metadata": {},
     "output_type": "execute_result"
    }
   ],
   "source": [
    "n_changes = np.sum((lofar[\"lr_index_sel_2\"] != lofar[\"lr_index_1\"]) & \n",
    "                   ~np.isnan(lofar[\"lr_index_sel_2\"]) &\n",
    "                   ~np.isnan(lofar[\"lr_index_1\"]))\n",
    "n_changes"
   ]
  },
  {
   "cell_type": "code",
   "execution_count": 93,
   "metadata": {},
   "outputs": [],
   "source": [
    "lofar[\"category\"] = np.nan\n",
    "lofar[ir_colname] = np.nan\n",
    "lofar[opt_colname] = np.nan\n",
    "\n",
    "c = ~np.isnan(lofar[\"lr_index_sel_2\"])\n",
    "indices = lofar[\"lr_index_sel_2\"][c].astype(int)\n",
    "lofar[\"category\"][c] = opt_ir[indices][\"category\"]\n",
    "lofar[ir_colname][c] = opt_ir[indices][ir_colname]\n",
    "lofar[opt_colname][c] = opt_ir[indices][opt_colname]"
   ]
  },
  {
   "cell_type": "code",
   "execution_count": 94,
   "metadata": {},
   "outputs": [
    {
     "data": {
      "text/plain": [
       "array([2700,   90,   26,  222,  618,  375,  417,  423,  391,  415,  408,\n",
       "        470,  501, 1039, 1044, 1952])"
      ]
     },
     "execution_count": 94,
     "metadata": {},
     "output_type": "execute_result"
    }
   ],
   "source": [
    "numbers_lofar_combined_bins = np.array([np.sum(lofar[\"category\"] == c) \n",
    "                                        for c in range(len(numbers_combined_bins))])\n",
    "numbers_lofar_combined_bins"
   ]
  },
  {
   "cell_type": "markdown",
   "metadata": {},
   "source": [
    "## Skipped rerun iter section"
   ]
  },
  {
   "cell_type": "code",
   "execution_count": 95,
   "metadata": {},
   "outputs": [],
   "source": [
    "def plot_q_n_m(q_m, n_m):\n",
    "    fig, a = plt.subplots()\n",
    "\n",
    "    for i, q_m_k in enumerate(q_m):\n",
    "        #plot(centers[i], q_m_old[i]/n_m_old[i])\n",
    "        a = plt.subplot(4,4,i+1)\n",
    "        if i not in [-1]:\n",
    "            n_m_aux = n_m[i]/np.sum(n_m[i])\n",
    "            lwidths = (n_m_aux/np.max(n_m_aux)*10).astype(float) + 1\n",
    "            #print(lwidths)\n",
    "\n",
    "            y_aux = q_m_k/n_m[i]\n",
    "            \n",
    "            y = y_aux\n",
    "            mask = ~np.isnan(y_aux)\n",
    "            y_aux = y_aux[mask]\n",
    "            factor = np.max(y_aux[low:high])\n",
    "            #print(y)\n",
    "            x = centers[i]\n",
    "\n",
    "            points = np.array([x, y]).T.reshape(-1, 1, 2)\n",
    "            segments = np.concatenate([points[:-1], points[1:]], axis=1)\n",
    "\n",
    "            lc = LineCollection(segments, linewidths=lwidths, color=colors[i])\n",
    "\n",
    "            a.add_collection(lc)\n",
    "\n",
    "            #plot(centers[i], x/factor, color=colors[i-1])\n",
    "            plt.xlim([12, 30])\n",
    "            if i == 0:\n",
    "                plt.xlim([10,23])\n",
    "            plt.ylim([0, 1.2*factor])\n",
    "\n",
    "    plt.subplots_adjust(left=0.125, \n",
    "                    bottom=0.1, \n",
    "                    right=0.9, \n",
    "                    top=0.9,\n",
    "                    wspace=0.4, \n",
    "                    hspace=0.2)\n",
    "    return fig"
   ]
  },
  {
   "cell_type": "code",
   "execution_count": null,
   "metadata": {},
   "outputs": [],
   "source": []
  },
  {
   "cell_type": "code",
   "execution_count": 96,
   "metadata": {},
   "outputs": [],
   "source": [
    "#create a copy of the radio catalogue for debugging\n",
    "original = lofar.copy()"
   ]
  },
  {
   "cell_type": "code",
   "execution_count": 97,
   "metadata": {},
   "outputs": [],
   "source": [
    "lofar = original.copy()"
   ]
  },
  {
   "cell_type": "code",
   "execution_count": 98,
   "metadata": {},
   "outputs": [],
   "source": [
    "#Calculate the LR for radio sources using color\n",
    "#returns the reliability and other parameters for each potential crossmatch to allow comparison\n",
    "#the column lr_max is set to true for the crossmatch with the highest LR for each radio source\n",
    "\n",
    "#the column lr_sel is set to true for the crossmatch with the highest LR for each radio source \n",
    "#but will later be set to false if the LR is below the threshold\n",
    "\n",
    "def apply_ml_all(i, likelihood_ratio_function):\n",
    "    \n",
    "    #print(i)\n",
    "    \n",
    "    idx_0 = idx_i[idx_lofar == i]\n",
    "    d2d_0 = d2d[idx_lofar == i]\n",
    "    if len(idx_0) == 0:\n",
    "        print('no sources within search radius')\n",
    "        temp = Table()\n",
    "        col_index = Column(np.nan,name='lr_index_{}'.format(iteration))\n",
    "        col_d2d = Column(np.nan,name='lr_dist_{}'.format(iteration))\n",
    "        col_lr = Column(np.nan,name='lr_{}'.format(iteration))\n",
    "        col_rel = Column(np.nan,name='lr_reliability_{}'.format(iteration))\n",
    "        col_sourceid = Column(np.nan,name='Source_id')\n",
    "        col_helpid = Column('',name='help_id')\n",
    "        col_lr_max = Column(False,name='lr_max_{}'.format(iteration))\n",
    "        col_lr_sel = Column(False,name='lr_sel_{}'.format(iteration))\n",
    "        temp.add_columns([col_index,col_d2d,col_lr,col_rel,col_sourceid,col_helpid,col_lr_max,col_lr_sel])\n",
    "        return temp,0\n",
    "    \n",
    "    if j>0:\n",
    "        s_id = source_ids[i]\n",
    "        mask = (lofar['Source_id'] == s_id)\n",
    "    \n",
    "    category = catalogue[\"category\"][idx_0].astype(int)\n",
    "    mag = catalogue[opt_colname][idx_0]\n",
    "    mag[category == 0] = catalogue[ir_colname][idx_0][category == 0]\n",
    "    #print(mag)\n",
    "    \n",
    "    if j>0:\n",
    "        lofar_ra = original[i][\"RA\"]\n",
    "        lofar_dec = original[i][\"DEC\"]\n",
    "        lofar_pa = original[i][\"PA\"]\n",
    "        lofar_maj_err = original[i][\"E_Maj\"]\n",
    "        lofar_min_err = original[i][\"E_Min\"]\n",
    "        \n",
    "    else:\n",
    "        lofar_ra = lofar[i][\"RA\"]\n",
    "        lofar_dec = lofar[i][\"DEC\"]\n",
    "        lofar_pa = lofar[i][\"PA\"]\n",
    "        lofar_maj_err = lofar[i][\"E_Maj\"]\n",
    "        lofar_min_err = lofar[i][\"E_Min\"]\n",
    "        \n",
    "    c_ra = catalogue[\"ra\"][idx_0]\n",
    "    c_dec = catalogue[\"dec\"][idx_0]\n",
    "    c_ra_err = 1.0\n",
    "    c_dec_err = 1.0\n",
    "    \n",
    "    sigma, sigma_maj, sigma_min = get_sigma_all(lofar_maj_err, lofar_min_err, lofar_pa, \n",
    "                      lofar_ra, lofar_dec, \n",
    "                      c_ra, c_dec, c_ra_err, c_dec_err)\n",
    "\n",
    "    lr_0 = likelihood_ratio_function(mag, d2d_0.arcsec, sigma, category)\n",
    "    #print(lr_0)\n",
    "\n",
    "    chosen_index = np.argmax(lr_0)\n",
    "    lr_sum = np.sum(lr_0)\n",
    "    rel = lr_0/(lr_sum + (1-q0_total))\n",
    "    helpid = catalogue['help_id'][idx_0]\n",
    "    sourceid = (np.zeros(len(lr_0)) + np.unique(lofar['Source_id'])[i]).astype('int')\n",
    "    col_index = Column(opt_ir_index[selection][idx_0],name='lr_index_{}'.format(iteration))\n",
    "    col_d2d = Column(d2d_0.arcsec,name='lr_dist_{}'.format(iteration))\n",
    "    col_lr = Column(lr_0,name='lr_{}'.format(iteration))\n",
    "    col_rel = Column(rel,name='lr_reliability_{}'.format(iteration))\n",
    "    col_sourceid = Column(sourceid,name='Source_id')\n",
    "    col_helpid = Column(helpid,name='help_id')\n",
    "    col_lr_max = Column(np.zeros(len(lr_0),dtype=bool),name='lr_max_{}'.format(iteration))\n",
    "    col_lr_max[chosen_index] = True\n",
    "    col_lr_sel = Column(np.zeros(len(lr_0),dtype=bool),name='lr_sel_{}'.format(iteration))\n",
    "    col_lr_sel[chosen_index] = True\n",
    "\n",
    "    #print(col_sourceid)\n",
    "    #print(col_index,col_d2d,col_lr,col_rel,col_sourceid,col_helpid)\n",
    "    \n",
    "    temp = Table([col_index,col_d2d,col_lr,col_rel,col_sourceid,col_helpid,col_lr_max,col_lr_sel])\n",
    "\n",
    "    lrs = np.max(col_lr)\n",
    "    \n",
    "    #if np.sum(col_lr_max)!=1:\n",
    "    #    print('problem')\n",
    "    #    print(temp)\n",
    "    return (temp,lrs)\n",
    "\n",
    "    #return (result)"
   ]
  },
  {
   "cell_type": "code",
   "execution_count": 99,
   "metadata": {},
   "outputs": [
    {
     "name": "stdout",
     "output_type": "stream",
     "text": [
      "Iteration 3\n",
      "=============\n",
      "numbers_lofar_combined_bins\n",
      "[2700   90   26  222  618  375  417  423  391  415  408  470  501 1039\n",
      " 1044 1952]\n",
      "Q_0_colour\n",
      "[0.23205844 0.00773528 0.00223464 0.01908036 0.0531156  0.03223034\n",
      " 0.03584014 0.03635582 0.0336055  0.03566824 0.03506661 0.04039536\n",
      " 0.04305973 0.08929953 0.08972927 0.16776966]\n",
      "Q_0_total:  0.9532445208422862\n"
     ]
    },
    {
     "name": "stderr",
     "output_type": "stream",
     "text": [
      "100%|██████████| 11.6k/11.6k [01:07<00:00, 173it/s] \n",
      "100%|██████████| 11626/11626 [00:00<00:00, 289240.04it/s]\n"
     ]
    },
    {
     "name": "stdout",
     "output_type": "stream",
     "text": [
      "Threshold:  0.18319611862368892\n"
     ]
    },
    {
     "data": {
      "image/png": "[encoded data removed]",
      "text/plain": [
       "<matplotlib.figure.Figure at 0x4790bb908>"
      ]
     },
     "metadata": {},
     "output_type": "display_data"
    },
    {
     "name": "stdout",
     "output_type": "stream",
     "text": [
      "updated Threshold:  0.14\n",
      "N changes:  109\n",
      "T changes:  109\n",
      "******** continue **********\n",
      "Iteration 4\n",
      "=============\n",
      "numbers_lofar_combined_bins\n",
      "[2723   70   26  223  619  375  417  423  396  417  409  469  503 1038\n",
      " 1049 1955]\n",
      "Q_0_colour\n",
      "[0.23403524 0.00601633 0.00223464 0.01916631 0.05320155 0.03223034\n",
      " 0.03584014 0.03635582 0.03403524 0.03584014 0.03515256 0.04030941\n",
      " 0.04323163 0.08921358 0.090159   0.1680275 ]\n",
      "Q_0_total:  0.9550494198538891\n"
     ]
    },
    {
     "name": "stderr",
     "output_type": "stream",
     "text": [
      "100%|██████████| 11.6k/11.6k [01:20<00:00, 145it/s] \n",
      "100%|██████████| 11626/11626 [00:00<00:00, 233200.76it/s]\n"
     ]
    },
    {
     "name": "stdout",
     "output_type": "stream",
     "text": [
      "Threshold:  0.13622926037409694\n"
     ]
    },
    {
     "data": {
      "image/png": "[encoded data removed]",
      "text/plain": [
       "<matplotlib.figure.Figure at 0x60a0b2208>"
      ]
     },
     "metadata": {},
     "output_type": "display_data"
    },
    {
     "name": "stdout",
     "output_type": "stream",
     "text": [
      "updated Threshold:  0.157\n",
      "N changes:  42\n",
      "T changes:  42\n",
      "******** continue **********\n",
      "Iteration 5\n",
      "=============\n",
      "numbers_lofar_combined_bins\n",
      "[2725   61   26  223  619  374  417  422  396  416  410  469  503 1037\n",
      " 1048 1953]\n",
      "Q_0_colour\n",
      "[0.23420713 0.0052428  0.00223464 0.01916631 0.05320155 0.03214439\n",
      " 0.03584014 0.03626988 0.03403524 0.03575419 0.0352385  0.04030941\n",
      " 0.04323163 0.08912763 0.09007306 0.16785561]\n",
      "Q_0_total:  0.953932101418135\n"
     ]
    },
    {
     "name": "stderr",
     "output_type": "stream",
     "text": [
      "100%|██████████| 11.6k/11.6k [01:14<00:00, 155it/s] \n",
      "100%|██████████| 11626/11626 [00:00<00:00, 212883.92it/s]\n"
     ]
    },
    {
     "name": "stdout",
     "output_type": "stream",
     "text": [
      "Threshold:  0.157517031904148\n"
     ]
    },
    {
     "data": {
      "image/png": "[encoded data removed]",
      "text/plain": [
       "<matplotlib.figure.Figure at 0x804ffc4e0>"
      ]
     },
     "metadata": {},
     "output_type": "display_data"
    },
    {
     "name": "stdout",
     "output_type": "stream",
     "text": [
      "updated Threshold:  0.17500000000000002\n",
      "N changes:  38\n",
      "T changes:  38\n",
      "******** continue **********\n"
     ]
    }
   ],
   "source": [
    "xmatch_iter = []\n",
    "for j in range(3):\n",
    "    iteration = j+3 \n",
    "    print(\"Iteration {}\".format(iteration))\n",
    "    print(\"=============\")\n",
    "    ## Get new parameters\n",
    "    # Number of matched sources per bin\n",
    "    \n",
    "    #select trusted crossmatches to recalculate Q0(c)\n",
    "    if j==0:\n",
    "        #for the first iteration need to use sources with LR>threshold as lr_sel hasn't been created for this iteration\n",
    "        mask_sel = lofar['lr_2']>threshold\n",
    "    else:\n",
    "        mask_sel = lofar['lr_sel_{}'.format(iteration-1)]\n",
    "    numbers_lofar_combined_bins = np.array([np.sum(lofar[mask_sel][\"category\"] == c) \n",
    "                                            for c in range(len(numbers_combined_bins))])\n",
    "    print(\"numbers_lofar_combined_bins\")\n",
    "    print(numbers_lofar_combined_bins)\n",
    "    #recompute Q0(c)\n",
    "    Q_0_colour_est = numbers_lofar_combined_bins/len(np.unique(lofar['Source_id'])) ### Q_0\n",
    "    Q_0_colour = q0_min_level(Q_0_colour_est, min_level=0.001)\n",
    "    print(\"Q_0_colour\")\n",
    "    print(Q_0_colour)\n",
    "    q0_total = np.sum(Q_0_colour)\n",
    "    print(\"Q_0_total: \", q0_total)\n",
    "    #Recompute q(m,c) for the new Q0(c)\n",
    "    q_m = []\n",
    "    # W1 only sources\n",
    "    q_m.append(get_q_m(lofar[mask_sel][ir_colname][lofar[mask_sel][\"category\"] == 0], \n",
    "                   bin_list_ir, numbers_lofar_combined_bins[0], \n",
    "                   n_m[0], field.area, radius=radius))\n",
    "    # Rest of the sources\n",
    "    for i in range(1, len(numbers_lofar_combined_bins)):\n",
    "        q_m.append(get_q_m(lofar[mask_sel][opt_colname][lofar[mask_sel][\"category\"] == i], \n",
    "                       bin_list_opt, numbers_lofar_combined_bins[i],\n",
    "                       n_m[i], field.area, radius=radius))\n",
    "    # q_m\n",
    "    q_m_kde = []\n",
    "    # W1 only sources\n",
    "    q_m_kde.append(get_q_m_kde(lofar[mask_sel][ir_colname][lofar[mask_sel][\"category\"] == 0], \n",
    "                   centers[0], radius=radius, bandwidth=bandwidth_colour[0]))\n",
    "    # Rest of the sources\n",
    "    for i in range(1, len(numbers_lofar_combined_bins)):\n",
    "        q_m_kde.append(get_q_m_kde(lofar[mask_sel][opt_colname][lofar[mask_sel][\"category\"] == i], \n",
    "                       centers[i], radius=radius, bandwidth=bandwidth_colour[i]))\n",
    "    #set plot_intermediate to True if you want to see plots of n(m,c), q(m,c) and q(m,c)/n(m,c)\n",
    "    plot_intermediate = False\n",
    "    if plot_intermediate:\n",
    "        fig = plt.figure(figsize=(15,15))\n",
    "        for i, q_m_k in enumerate(q_m_kde):\n",
    "            plt.subplot(5,5,i+1)\n",
    "            plt.plot(centers[i], np.cumsum(q_m_k))\n",
    "        #plt.savefig('{}/q0_{}.png'.format(idp, iteration))\n",
    "        del fig\n",
    "        fig = plt.figure(figsize=(15,15))\n",
    "        for i, q_m_k in enumerate(q_m_kde):\n",
    "            plt.subplot(5,5,i+1)\n",
    "            plt.plot(centers[i], q_m_k/n_m[i])\n",
    "        #plt.savefig('{}/q_over_n_{}.png'.format(idp, iteration))\n",
    "        del fig\n",
    "        fig = plot_q_n_m(q_m, n_m)\n",
    "        #plt.savefig('{}/q_over_n_nice_{}.png'.format(idp, iteration))\n",
    "        del fig\n",
    "    ## Define new likelihood_ratio\n",
    "    likelihood_ratio = MultiMLEstimator(Q_0_colour, n_m_kde, q_m_kde, centers)\n",
    "    def ml(i):\n",
    "        return apply_ml_all(i, likelihood_ratio)\n",
    "    \n",
    "    #create a seperate copy of the source id column before the lofar table gets expanded with\n",
    "    #all the possible crossmatches\n",
    "    if j==0:\n",
    "        source_ids = lofar['Source_id']\n",
    "        \n",
    "    #idx_lofar, idx_i, d2d, d3d = search_around_sky(lofar_coords, opt_ir_coords[selection], radius*u.arcsec)\n",
    "    #idx_lofar_unique = np.unique(idx_lofar)\n",
    "\n",
    "    #create an empty table to store the crossmatch results with the same columns in it\n",
    "    temp = Table()\n",
    "    col_index = Column(name='lr_index_{}'.format(iteration))\n",
    "    col_d2d = Column(name='lr_dist_{}'.format(iteration))\n",
    "    col_lr = Column(name='lr_{}'.format(iteration))\n",
    "    col_rel = Column(name='lr_reliability_{}'.format(iteration))\n",
    "    col_sourceid = Column(name='Source_id')\n",
    "    col_helpid = Column(name='help_id')\n",
    "    temp.add_columns([col_index,col_d2d,col_lr,col_rel,col_sourceid,col_helpid])\n",
    "    #run the LR calculation\n",
    "    res = parallel_process(np.unique(idx_lofar), ml, n_jobs=n_cpus)\n",
    "    test1 = np.transpose(res)\n",
    "    test2 = test1[0].tolist()\n",
    "    res = astropy.table.vstack(test2)\n",
    "    #create a array of highest LR for each radio source\n",
    "    lrs = test1[1]\n",
    "    \n",
    "    \n",
    "    res[\"lr_{}\".format(iteration)][np.isnan(res[\"lr_{}\".format(iteration)])] = 0\n",
    "    ## Get and apply the threshold calculated from Q0(c) \n",
    "    mask = res['lr_sel_{}'.format(iteration)]\n",
    "    threshold = np.percentile(res[mask]['lr_{}'.format(iteration)], 100*(1 - q0_total))\n",
    "    print(\"Threshold: \", threshold)\n",
    "    \n",
    "    #change lr_sel to False if the value is less than the threshold\n",
    "    #for n,row in enumerate(res[res['lr_max_{}'.format(iteration)]]):\n",
    "    #    if row['lr_{}'.format(iteration)]<threshold:\n",
    "    #        mask = res['help_id']==row['help_id']\n",
    "    #        res['lr_sel_{}'.format(iteration)][mask] = False             \n",
    "    \n",
    "    #Calculate the completeness and reliability as a function of the threshold\n",
    "    #Use this to calculate the thershold that gives an equal completeness and reliability\n",
    "    def completeness(lr, threshold, q0):\n",
    "        n = len(lr)\n",
    "        lrt = lr[lr < threshold]\n",
    "        return 1. - np.sum((q0 * lrt)/(q0 * lrt + (1 - q0)))/(float(n)*q0)\n",
    "    \n",
    "    def reliability(lr, threshold, q0):\n",
    "        n = len(lr)\n",
    "        lrt = lr[lr > threshold]\n",
    "        return 1. - np.sum((1. - q0)/(q0 * lrt + (1 - q0)))/(float(n)*q0)\n",
    "    completeness_v = np.vectorize(completeness, excluded=[0])\n",
    "    reliability_v = np.vectorize(reliability, excluded=[0])\n",
    "    thresholds = np.arange(0., 10., 0.001)\n",
    "    mask = res['lr_max_{}'.format(iteration)]\n",
    "    lr_temp = res['lr_{}'.format(iteration)][mask]\n",
    "    completeness_t = completeness_v(lr_temp , thresholds, Q0)\n",
    "    reliability_t = reliability_v(lr_temp , thresholds, Q0)\n",
    "    diff = abs(completeness_t-reliability_t)\n",
    "    mask = ~np.isnan(diff)\n",
    "    index = np.argmin(diff[mask])\n",
    "    threshold = thresholds[mask][index]\n",
    "    plt.plot(thresholds,completeness_t)\n",
    "    plt.plot(thresholds,reliability_t)\n",
    "    plt.vlines(threshold,0,1)\n",
    "    plt.ylim(0.9,1.0)\n",
    "    plt.show()\n",
    "    print(\"updated Threshold: \", threshold)\n",
    "\n",
    "    for n,row in enumerate(res[res['lr_max_{}'.format(iteration)]]):#####\n",
    "        if row['lr_{}'.format(iteration)]<threshold:\n",
    "            mask = res['help_id']==row['help_id']\n",
    "            res['lr_sel_{}'.format(iteration)][mask] = False\n",
    "    xmatch_iter.append(res)\n",
    "        #only include if you uncomment the earlier redoing of lr_sel after calculating the first threshold\n",
    "        #based on Q0(c)\n",
    "        #else:\n",
    "        #    mask = res['help_id']==row['help_id']\n",
    "        #    res['lr_sel_{}'.format(iteration)][mask] = True\n",
    "    \n",
    "    #join the crossmatch data to te radio table the first time this is done an outer join\n",
    "    #is needed as there are multiple crossmatches for each radio source and all of these are needed\n",
    "    #For subsequent iterations a hstack can be used \n",
    "\n",
    "    lofar = join(lofar,res[res['lr_max_{}'.format(iteration)]],keys='Source_id',join_type='outer')\n",
    "    '''\n",
    "    else:\n",
    "        Table.write(res,'data/xmatch_iter_{}.fits'.format(iteration),format='fits',overwrite=True)\n",
    "        res.remove_column('Source_id')\n",
    "        lofar = astropy.table.hstack([lofar,res])\n",
    "        #lofar = astropy.table.join(lofar,res,keys=['help_id','Source_id'],join_type='inner')\n",
    "    '''\n",
    "    #Table.write(res,'data/xmatch_iter_{}.fits'.format(iteration),format='fits',overwrite=True)\n",
    "    \n",
    "    if plot_intermediate:\n",
    "        fig = plt.figure(figsize=(15,6))\n",
    "        plt.subplot(1,2,1)\n",
    "        plt.hist(lofar[lofar[\"lr_{}\".format(iteration)] != 0][\"lr_{}\".format(iteration)], bins=200)\n",
    "        plt.vlines([threshold], 0, 1000)\n",
    "        plt.ylim([0,1000])\n",
    "        plt.subplot(1,2,2)\n",
    "        plt.hist(np.log10(lofar[lofar[\"lr_{}\".format(iteration)] != 0][\"lr_{}\".format(iteration)]+1), bins=200)\n",
    "        plt.vlines(np.log10(threshold+1), 0, 1000)\n",
    "        ticks, _ = plt.xticks()\n",
    "        plt.xticks(ticks, [\"{:.1f}\".format(10**t-1) for t in ticks])\n",
    "        plt.ylim([0,1000])\n",
    "        #plt.savefig('{}/lr_distribution_{}.png'.format(idp, iteration))\n",
    "        del fig\n",
    "    ## Apply the threshold\n",
    "\n",
    "    ## Enter changes into the catalogue\n",
    "    # Clear aux columns\n",
    "    lofar[\"category\"] = np.nan\n",
    "    lofar[ir_colname] = np.nan\n",
    "    lofar[opt_colname] = np.nan\n",
    "    # Update data\n",
    "    c = ~np.isnan(lofar[\"lr_index_{}\".format(iteration)])\n",
    "    indices = lofar[\"lr_index_{}\".format(iteration)][c].astype(int)\n",
    "    lofar[\"category\"][c] = opt_ir[indices][\"category\"]\n",
    "    lofar[ir_colname][c] = opt_ir[indices][ir_colname]\n",
    "    lofar[opt_colname][c] = opt_ir[indices][opt_colname]\n",
    "    '''# Save the data\n",
    "    if save_intermediate:\n",
    "        lofar[mask_sel].write(\"{}/lofar[mask_sel]_m{}.fits\".format(idp, iteration), format=\"fits\")'''\n",
    "    ## Compute number of changes\n",
    "    n_changes = np.sum((\n",
    "            lofar[\"lr_index_{}\".format(iteration)] != lofar[\"lr_index_{}\".format(iteration-1)]) & \n",
    "            ~np.isnan(lofar[\"lr_index_{}\".format(iteration)]) &\n",
    "            ~np.isnan(lofar[\"lr_index_{}\".format(iteration-1)]))\n",
    "    print(\"N changes: \", n_changes)\n",
    "    t_changes = np.sum((\n",
    "            lofar[\"lr_index_{}\".format(iteration)] != lofar[\"lr_index_{}\".format(iteration-1)]))\n",
    "    print(\"T changes: \", t_changes)\n",
    "    ## Check changes\n",
    "    plt.show()\n",
    "    if n_changes == 0:\n",
    "        break\n",
    "    else:\n",
    "        print(\"******** continue **********\")\n",
    "\n",
    "joined = join(xmatch_iter[0],xmatch_iter[1],keys=['Source_id','help_id'],join_type='inner')\n",
    "for n in range(len(xmatch_iter)-2):\n",
    "    joined = join(joined,xmatch_iter[n+2],keys=['Source_id','help_id'],join_type='inner')\n",
    "for n,name in enumerate(lofar.colnames):\n",
    "    if n >69:\n",
    "        lofar.remove_column(name)\n",
    "lofar = join(lofar,joined,keys='Source_id',join_type='outer')"
   ]
  },
  {
   "cell_type": "code",
   "execution_count": 100,
   "metadata": {},
   "outputs": [],
   "source": [
    "Table.write(lofar,'data/xmatch_servs_20181122.fits',format='fits')"
   ]
  },
  {
   "cell_type": "markdown",
   "metadata": {},
   "source": [
    "pickle.dump([likelihood_ratio], \n",
    "                open(\"data/LR_class.pckl\", 'wb'))"
   ]
  },
  {
   "cell_type": "code",
   "execution_count": null,
   "metadata": {},
   "outputs": [],
   "source": [
    "for n,name in enumerate(lofar.colnames):\n",
    "    if n >44:\n",
    "        lofar.remove_column(name)"
   ]
  },
  {
   "cell_type": "code",
   "execution_count": null,
   "metadata": {},
   "outputs": [],
   "source": [
    "lofar.colnames"
   ]
  },
  {
   "cell_type": "code",
   "execution_count": null,
   "metadata": {},
   "outputs": [],
   "source": [
    "np.sum(lofar['Source_id_1']==lofar['Source_id_2'])"
   ]
  },
  {
   "cell_type": "code",
   "execution_count": null,
   "metadata": {},
   "outputs": [],
   "source": [
    "len(res)"
   ]
  },
  {
   "cell_type": "code",
   "execution_count": null,
   "metadata": {},
   "outputs": [],
   "source": [
    "len(np.unique(res['help_id']))"
   ]
  },
  {
   "cell_type": "code",
   "execution_count": null,
   "metadata": {},
   "outputs": [],
   "source": [
    "np.sum(np.isnan(lofar['lr_3']))"
   ]
  },
  {
   "cell_type": "code",
   "execution_count": null,
   "metadata": {},
   "outputs": [],
   "source": []
  },
  {
   "cell_type": "code",
   "execution_count": null,
   "metadata": {},
   "outputs": [],
   "source": []
  },
  {
   "cell_type": "code",
   "execution_count": null,
   "metadata": {},
   "outputs": [],
   "source": []
  },
  {
   "cell_type": "code",
   "execution_count": null,
   "metadata": {},
   "outputs": [],
   "source": []
  },
  {
   "cell_type": "code",
   "execution_count": null,
   "metadata": {},
   "outputs": [],
   "source": [
    "lofar"
   ]
  },
  {
   "cell_type": "code",
   "execution_count": null,
   "metadata": {},
   "outputs": [],
   "source": []
  }
 ],
 "metadata": {
  "kernelspec": {
   "display_name": "Python 3",
   "language": "python",
   "name": "python3"
  },
  "language_info": {
   "codemirror_mode": {
    "name": "ipython",
    "version": 3
   },
   "file_extension": ".py",
   "mimetype": "text/x-python",
   "name": "python",
   "nbconvert_exporter": "python",
   "pygments_lexer": "ipython3",
   "version": "3.6.7"
  }
 },
 "nbformat": 4,
 "nbformat_minor": 2
}
