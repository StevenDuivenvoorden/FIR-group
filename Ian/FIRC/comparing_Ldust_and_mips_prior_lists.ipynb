{
 "cells": [
  {
   "cell_type": "code",
   "execution_count": 16,
   "metadata": {},
   "outputs": [],
   "source": [
    "import numpy as np\n",
    "from astropy.table import Table,join\n",
    "\n",
    "from astropy.cosmology import Planck15 as cosmo\n",
    "from astropy import units as u"
   ]
  },
  {
   "cell_type": "code",
   "execution_count": 2,
   "metadata": {},
   "outputs": [],
   "source": [
    "servs = Table.read('/its/home/im281/HELP/dmu_products/dmu26/dmu26_XID+SPIRE_ELAIS-N1/data/dmu26_XID+SPIRE_ELAIS-N1_SERVS_cat_20170725.fits')"
   ]
  },
  {
   "cell_type": "code",
   "execution_count": 3,
   "metadata": {},
   "outputs": [
    {
     "data": {
      "text/html": [
       "<i>Table length=120282</i>\n",
       "<table id=\"table46913182237416\" class=\"table-striped table-bordered table-condensed\">\n",
       "<thead><tr><th>help_id</th><th>RA</th><th>Dec</th><th>F_SPIRE_250</th><th>FErr_SPIRE_250_u</th><th>FErr_SPIRE_250_l</th><th>F_SPIRE_350</th><th>FErr_SPIRE_350_u</th><th>FErr_SPIRE_350_l</th><th>F_SPIRE_500</th><th>FErr_SPIRE_500_u</th><th>FErr_SPIRE_500_l</th><th>Bkg_SPIRE_250</th><th>Bkg_SPIRE_350</th><th>Bkg_SPIRE_500</th><th>Sig_conf_SPIRE_250</th><th>Sig_conf_SPIRE_350</th><th>Sig_conf_SPIRE_500</th><th>Rhat_SPIRE_250</th><th>Rhat_SPIRE_350</th><th>Rhat_SPIRE_500</th><th>n_eff_SPIRE_250</th><th>n_eff_SPIRE_500</th><th>n_eff_SPIRE_350</th><th>Pval_res_250</th><th>Pval_res_350</th><th>Pval_res_500</th><th>flag_spire_250</th><th>flag_spire_350</th><th>flag_spire_500</th></tr></thead>\n",
       "<thead><tr><th>bytes27</th><th>float64</th><th>float64</th><th>float64</th><th>float64</th><th>float64</th><th>float64</th><th>float64</th><th>float64</th><th>float64</th><th>float64</th><th>float64</th><th>float64</th><th>float64</th><th>float64</th><th>float64</th><th>float64</th><th>float64</th><th>float64</th><th>float64</th><th>float64</th><th>float32</th><th>float32</th><th>float32</th><th>float32</th><th>float32</th><th>float32</th><th>bool</th><th>bool</th><th>bool</th></tr></thead>\n",
       "<tr><td>HELP_J161008.641+533615.951</td><td>242.536005913</td><td>53.6044309555</td><td>4.416648</td><td>7.7753344</td><td>1.6382358</td><td>5.182577</td><td>9.190328</td><td>1.7084872</td><td>2.2211666</td><td>5.271754</td><td>0.54498196</td><td>-4.5099244</td><td>-7.9549756</td><td>-16.017649</td><td>1.9647906</td><td>1.9295305</td><td>2.0387936</td><td>0.9997869</td><td>0.99870014</td><td>0.9996924</td><td>1335.0</td><td>2000.0</td><td>1326.0</td><td>0.0</td><td>0.395</td><td>0.007</td><td>False</td><td>False</td><td>True</td></tr>\n",
       "<tr><td>HELP_J161002.817+533625.213</td><td>242.511735883</td><td>53.6070036615</td><td>2.3032277</td><td>5.2079988</td><td>0.6031188</td><td>2.0286655</td><td>4.781719</td><td>0.5173753</td><td>1.8734548</td><td>4.59874</td><td>0.5025132</td><td>-4.5099244</td><td>-7.9549756</td><td>-16.017649</td><td>1.9647906</td><td>1.9295305</td><td>2.0387936</td><td>1.0029615</td><td>1.0030634</td><td>0.9986513</td><td>545.0</td><td>2000.0</td><td>2000.0</td><td>0.0</td><td>0.004</td><td>0.006</td><td>True</td><td>True</td><td>True</td></tr>\n",
       "<tr><td>HELP_J161009.708+533610.215</td><td>242.540451147</td><td>53.6028373869</td><td>0.9836785</td><td>2.1987345</td><td>0.2654378</td><td>3.0107715</td><td>5.8264165</td><td>0.99638754</td><td>2.2982576</td><td>5.2868314</td><td>0.6292213</td><td>-4.5099244</td><td>-7.9549756</td><td>-16.017649</td><td>1.9647906</td><td>1.9295305</td><td>2.0387936</td><td>0.9987532</td><td>0.999366</td><td>1.0001421</td><td>2000.0</td><td>2000.0</td><td>2000.0</td><td>0.135</td><td>0.562</td><td>0.019</td><td>True</td><td>True</td><td>True</td></tr>\n",
       "<tr><td>HELP_J161000.625+533444.663</td><td>242.50260411</td><td>53.5790731835</td><td>0.9134867</td><td>2.1258948</td><td>0.24786404</td><td>4.7278066</td><td>6.8080416</td><td>2.6306653</td><td>10.663006</td><td>13.800948</td><td>7.7373605</td><td>-4.5099244</td><td>-7.9549756</td><td>-16.017649</td><td>1.9647906</td><td>1.9295305</td><td>2.0387936</td><td>0.99856704</td><td>0.9992026</td><td>0.9990708</td><td>2000.0</td><td>2000.0</td><td>2000.0</td><td>0.181</td><td>0.772</td><td>0.783</td><td>True</td><td>True</td><td>True</td></tr>\n",
       "<tr><td>HELP_J161001.356+533536.905</td><td>242.50564932</td><td>53.5935847165</td><td>0.6717705</td><td>1.5100226</td><td>0.187072</td><td>0.4133348</td><td>1.0640303</td><td>0.11367303</td><td>2.63875</td><td>4.861831</td><td>0.85159653</td><td>-4.5099244</td><td>-7.9549756</td><td>-16.017649</td><td>1.9647906</td><td>1.9295305</td><td>2.0387936</td><td>0.99888694</td><td>1.0000468</td><td>0.9995959</td><td>2000.0</td><td>2000.0</td><td>2000.0</td><td>0.0</td><td>0.013</td><td>0.179</td><td>True</td><td>True</td><td>True</td></tr>\n",
       "<tr><td>HELP_J161004.821+533526.090</td><td>242.520085665</td><td>53.5905806855</td><td>10.549994</td><td>12.255883</td><td>8.976363</td><td>3.998767</td><td>5.7164273</td><td>2.131084</td><td>4.626412</td><td>7.7568035</td><td>1.8391626</td><td>-4.5099244</td><td>-7.9549756</td><td>-16.017649</td><td>1.9647906</td><td>1.9295305</td><td>2.0387936</td><td>1.000034</td><td>0.9992249</td><td>0.999524</td><td>2000.0</td><td>1217.0</td><td>2000.0</td><td>0.0</td><td>0.03</td><td>0.18</td><td>False</td><td>True</td><td>False</td></tr>\n",
       "<tr><td>HELP_J161009.666+533550.864</td><td>242.540275318</td><td>53.5974621925</td><td>8.631624</td><td>10.266283</td><td>6.867471</td><td>10.429331</td><td>12.384341</td><td>8.404783</td><td>5.3960223</td><td>9.161527</td><td>2.1336532</td><td>-4.5099244</td><td>-7.9549756</td><td>-16.017649</td><td>1.9647906</td><td>1.9295305</td><td>2.0387936</td><td>0.99884146</td><td>0.9988433</td><td>0.9991502</td><td>2000.0</td><td>2000.0</td><td>2000.0</td><td>0.317</td><td>0.733</td><td>0.045</td><td>False</td><td>True</td><td>False</td></tr>\n",
       "<tr><td>HELP_J161004.741+533640.873</td><td>242.519754128</td><td>53.6113536495</td><td>4.648423</td><td>8.05269</td><td>1.7417854</td><td>3.4699323</td><td>7.5169063</td><td>0.874711</td><td>2.5535855</td><td>6.242018</td><td>0.6565503</td><td>-4.5099244</td><td>-7.9549756</td><td>-16.017649</td><td>1.9647906</td><td>1.9295305</td><td>2.0387936</td><td>1.0003527</td><td>1.0021408</td><td>0.99923337</td><td>1446.0</td><td>2000.0</td><td>1335.0</td><td>0.0</td><td>0.001</td><td>0.002</td><td>False</td><td>True</td><td>True</td></tr>\n",
       "<tr><td>HELP_J161005.189+533632.271</td><td>242.52161917</td><td>53.6089641562</td><td>1.8682607</td><td>4.145923</td><td>0.58592963</td><td>4.3562336</td><td>8.5242405</td><td>1.3400108</td><td>2.697393</td><td>6.11731</td><td>0.78760046</td><td>-4.5099244</td><td>-7.9549756</td><td>-16.017649</td><td>1.9647906</td><td>1.9295305</td><td>2.0387936</td><td>0.99930495</td><td>0.9994028</td><td>0.99967957</td><td>2000.0</td><td>2000.0</td><td>2000.0</td><td>0.0</td><td>0.001</td><td>0.003</td><td>True</td><td>False</td><td>True</td></tr>\n",
       "<tr><td>HELP_J161001.294+533558.395</td><td>242.505392806</td><td>53.5995542015</td><td>8.46542</td><td>10.349272</td><td>6.635644</td><td>6.6870904</td><td>8.848455</td><td>4.471193</td><td>4.572555</td><td>8.289334</td><td>1.6380506</td><td>-4.5099244</td><td>-7.9549756</td><td>-16.017649</td><td>1.9647906</td><td>1.9295305</td><td>2.0387936</td><td>0.9987666</td><td>1.0024033</td><td>0.9991208</td><td>2000.0</td><td>1768.0</td><td>1209.0</td><td>0.0</td><td>0.001</td><td>0.008</td><td>False</td><td>False</td><td>False</td></tr>\n",
       "<tr><td>...</td><td>...</td><td>...</td><td>...</td><td>...</td><td>...</td><td>...</td><td>...</td><td>...</td><td>...</td><td>...</td><td>...</td><td>...</td><td>...</td><td>...</td><td>...</td><td>...</td><td>...</td><td>...</td><td>...</td><td>...</td><td>...</td><td>...</td><td>...</td><td>...</td><td>...</td><td>...</td><td>...</td><td>...</td><td>...</td></tr>\n",
       "<tr><td>HELP_J160406.305+545846.819</td><td>241.026270695</td><td>54.9796718435</td><td>12.536112</td><td>15.246424</td><td>9.572062</td><td>2.7020175</td><td>5.21062</td><td>0.7648402</td><td>2.768601</td><td>6.1368375</td><td>0.7768635</td><td>-4.6533437</td><td>-7.6500645</td><td>-12.03333</td><td>2.1235788</td><td>2.6154475</td><td>3.5499558</td><td>0.99910694</td><td>1.0019085</td><td>1.000728</td><td>2000.0</td><td>2000.0</td><td>2000.0</td><td>0.0</td><td>0.0</td><td>0.0</td><td>False</td><td>True</td><td>True</td></tr>\n",
       "<tr><td>HELP_J160409.750+545809.834</td><td>241.040625347</td><td>54.9693984185</td><td>9.799591</td><td>12.597496</td><td>7.1418085</td><td>6.755908</td><td>10.9508</td><td>3.1429129</td><td>10.496745</td><td>19.506289</td><td>3.5800574</td><td>-4.6533437</td><td>-7.6500645</td><td>-12.03333</td><td>2.1235788</td><td>2.6154475</td><td>3.5499558</td><td>0.9994779</td><td>1.0003917</td><td>0.9986472</td><td>2000.0</td><td>1654.0</td><td>1553.0</td><td>0.169</td><td>0.001</td><td>0.0</td><td>False</td><td>False</td><td>False</td></tr>\n",
       "<tr><td>HELP_J160413.547+545916.745</td><td>241.056445218</td><td>54.9879848035</td><td>1.0234102</td><td>2.574759</td><td>0.2780674</td><td>2.6065807</td><td>5.1459684</td><td>0.8523544</td><td>1.5286393</td><td>3.602399</td><td>0.4481147</td><td>-4.6533437</td><td>-7.6500645</td><td>-12.03333</td><td>2.1235788</td><td>2.6154475</td><td>3.5499558</td><td>0.99967533</td><td>0.9993015</td><td>0.9994225</td><td>2000.0</td><td>2000.0</td><td>2000.0</td><td>0.0</td><td>0.0</td><td>0.001</td><td>True</td><td>True</td><td>True</td></tr>\n",
       "<tr><td>HELP_J160412.307+545949.243</td><td>241.051279635</td><td>54.9970118665</td><td>10.969004</td><td>13.703845</td><td>8.022978</td><td>5.055658</td><td>8.007241</td><td>2.537002</td><td>1.6624752</td><td>3.7839196</td><td>0.50218487</td><td>-4.6533437</td><td>-7.6500645</td><td>-12.03333</td><td>2.1235788</td><td>2.6154475</td><td>3.5499558</td><td>0.99909765</td><td>0.999064</td><td>0.99825794</td><td>2000.0</td><td>2000.0</td><td>2000.0</td><td>0.0</td><td>0.0</td><td>0.001</td><td>False</td><td>False</td><td>True</td></tr>\n",
       "<tr><td>HELP_J160411.491+545832.748</td><td>241.047879066</td><td>54.9757633591</td><td>5.3700705</td><td>8.4072</td><td>2.59399</td><td>7.082688</td><td>11.954477</td><td>2.950485</td><td>3.7438552</td><td>8.173038</td><td>0.962805</td><td>-4.6533437</td><td>-7.6500645</td><td>-12.03333</td><td>2.1235788</td><td>2.6154475</td><td>3.5499558</td><td>0.999237</td><td>0.99933726</td><td>0.99955356</td><td>2000.0</td><td>2000.0</td><td>1544.0</td><td>0.026</td><td>0.001</td><td>0.0</td><td>False</td><td>False</td><td>True</td></tr>\n",
       "<tr><td>HELP_J160412.650+550019.017</td><td>241.052707165</td><td>55.0052825745</td><td>5.782146</td><td>8.583858</td><td>2.9956849</td><td>5.746879</td><td>8.328489</td><td>3.2006516</td><td>6.430779</td><td>9.884351</td><td>2.9938118</td><td>-4.6533437</td><td>-7.6500645</td><td>-12.03333</td><td>2.1235788</td><td>2.6154475</td><td>3.5499558</td><td>0.99989915</td><td>1.0001185</td><td>0.99881834</td><td>2000.0</td><td>2000.0</td><td>2000.0</td><td>0.0</td><td>0.001</td><td>0.0</td><td>False</td><td>False</td><td>False</td></tr>\n",
       "<tr><td>HELP_J160410.177+545836.290</td><td>241.042403828</td><td>54.9767472665</td><td>9.671017</td><td>12.764542</td><td>6.5751967</td><td>8.122506</td><td>11.970424</td><td>4.003822</td><td>6.7226</td><td>11.836991</td><td>2.4085293</td><td>-4.6533437</td><td>-7.6500645</td><td>-12.03333</td><td>2.1235788</td><td>2.6154475</td><td>3.5499558</td><td>1.0004983</td><td>0.99984103</td><td>0.9998874</td><td>2000.0</td><td>2000.0</td><td>1656.0</td><td>0.169</td><td>0.003</td><td>0.001</td><td>False</td><td>False</td><td>False</td></tr>\n",
       "<tr><td>HELP_J160411.126+545912.581</td><td>241.046356302</td><td>54.9868279755</td><td>9.416708</td><td>11.91634</td><td>7.020143</td><td>5.8411155</td><td>8.481244</td><td>3.1569626</td><td>6.4991064</td><td>10.185843</td><td>3.289193</td><td>-4.6533437</td><td>-7.6500645</td><td>-12.03333</td><td>2.1235788</td><td>2.6154475</td><td>3.5499558</td><td>0.99884135</td><td>0.9992798</td><td>0.9985582</td><td>2000.0</td><td>2000.0</td><td>2000.0</td><td>0.002</td><td>0.0</td><td>0.001</td><td>False</td><td>False</td><td>False</td></tr>\n",
       "<tr><td>HELP_J160414.675+545900.559</td><td>241.061147349</td><td>54.9834884925</td><td>3.4129472</td><td>6.083411</td><td>1.1892004</td><td>2.2303853</td><td>4.5895753</td><td>0.66310257</td><td>2.2904358</td><td>5.1363983</td><td>0.6289631</td><td>-4.6533437</td><td>-7.6500645</td><td>-12.03333</td><td>2.1235788</td><td>2.6154475</td><td>3.5499558</td><td>0.99855334</td><td>0.9988459</td><td>0.9998489</td><td>2000.0</td><td>2000.0</td><td>2000.0</td><td>0.0</td><td>0.0</td><td>0.001</td><td>True</td><td>True</td><td>True</td></tr>\n",
       "<tr><td>HELP_J160413.502+545846.783</td><td>241.056256979</td><td>54.9796618495</td><td>3.0598185</td><td>6.1728554</td><td>1.0680119</td><td>3.5950968</td><td>6.729149</td><td>1.2517483</td><td>2.1733775</td><td>5.1210895</td><td>0.53962165</td><td>-4.6533437</td><td>-7.6500645</td><td>-12.03333</td><td>2.1235788</td><td>2.6154475</td><td>3.5499558</td><td>0.9991712</td><td>1.0003272</td><td>0.9988063</td><td>2000.0</td><td>2000.0</td><td>2000.0</td><td>0.0</td><td>0.0</td><td>0.001</td><td>True</td><td>True</td><td>True</td></tr>\n",
       "</table>"
      ],
      "text/plain": [
       "<Table length=120282>\n",
       "          help_id                 RA      ... flag_spire_350 flag_spire_500\n",
       "          bytes27              float64    ...      bool           bool     \n",
       "--------------------------- ------------- ... -------------- --------------\n",
       "HELP_J161008.641+533615.951 242.536005913 ...          False           True\n",
       "HELP_J161002.817+533625.213 242.511735883 ...           True           True\n",
       "HELP_J161009.708+533610.215 242.540451147 ...           True           True\n",
       "HELP_J161000.625+533444.663  242.50260411 ...           True           True\n",
       "HELP_J161001.356+533536.905  242.50564932 ...           True           True\n",
       "HELP_J161004.821+533526.090 242.520085665 ...           True          False\n",
       "HELP_J161009.666+533550.864 242.540275318 ...           True          False\n",
       "HELP_J161004.741+533640.873 242.519754128 ...           True           True\n",
       "HELP_J161005.189+533632.271  242.52161917 ...          False           True\n",
       "HELP_J161001.294+533558.395 242.505392806 ...          False          False\n",
       "                        ...           ... ...            ...            ...\n",
       "HELP_J160406.305+545846.819 241.026270695 ...           True           True\n",
       "HELP_J160409.750+545809.834 241.040625347 ...          False          False\n",
       "HELP_J160413.547+545916.745 241.056445218 ...           True           True\n",
       "HELP_J160412.307+545949.243 241.051279635 ...          False           True\n",
       "HELP_J160411.491+545832.748 241.047879066 ...          False           True\n",
       "HELP_J160412.650+550019.017 241.052707165 ...          False          False\n",
       "HELP_J160410.177+545836.290 241.042403828 ...          False          False\n",
       "HELP_J160411.126+545912.581 241.046356302 ...          False          False\n",
       "HELP_J160414.675+545900.559 241.061147349 ...           True           True\n",
       "HELP_J160413.502+545846.783 241.056256979 ...           True           True"
      ]
     },
     "execution_count": 3,
     "metadata": {},
     "output_type": "execute_result"
    }
   ],
   "source": [
    "servs"
   ]
  },
  {
   "cell_type": "code",
   "execution_count": 12,
   "metadata": {},
   "outputs": [],
   "source": [
    "ldust = Table.read('/its/home/im281/HELP/dmu_products/dmu28/dmu28_ELAIS-N1/data/ELAIS_N1_Ldust_prediction_results.fits')\n",
    "ldust.rename_column('id','help_id')"
   ]
  },
  {
   "cell_type": "code",
   "execution_count": 6,
   "metadata": {},
   "outputs": [],
   "source": [
    "photz = Table.read('/its/home/im281/HELP/dmu_products/dmu24/dmu24_ELAIS-N1/data/master_catalogue_elais-n1_20170706_photoz_20170725_irac1_optimised.fits')"
   ]
  },
  {
   "cell_type": "code",
   "execution_count": 13,
   "metadata": {},
   "outputs": [],
   "source": [
    "ldust_photz_merged = join(ldust,photz,keys='help_id',join_type='inner')"
   ]
  },
  {
   "cell_type": "code",
   "execution_count": 17,
   "metadata": {},
   "outputs": [],
   "source": [
    "f_pred=ldust_photz_merged['bayes.dust.luminosity']/(4*np.pi*cosmo.luminosity_distance(ldust_photz_merged['z1_median']).to(u.cm))"
   ]
  },
  {
   "cell_type": "code",
   "execution_count": 18,
   "metadata": {},
   "outputs": [],
   "source": [
    "prior=ldust_photz_merged[np.isfinite(f_pred.value)][np.log10(f_pred.value[np.isfinite(f_pred.value)])>8.5]"
   ]
  },
  {
   "cell_type": "code",
   "execution_count": 22,
   "metadata": {},
   "outputs": [
    {
     "data": {
      "text/plain": [
       "120282"
      ]
     },
     "execution_count": 22,
     "metadata": {},
     "output_type": "execute_result"
    }
   ],
   "source": [
    "len(prior)\n",
    "len(servs)"
   ]
  },
  {
   "cell_type": "code",
   "execution_count": 26,
   "metadata": {},
   "outputs": [
    {
     "name": "stdout",
     "output_type": "stream",
     "text": [
      "percentage of mips prior objects that are in the ldust predictions and mips based prior list is: 0.3100879599607589\n",
      "percentage of ldust prior objects that are in the ldust predictions and mips based prior list is: 0.16360135274430765\n"
     ]
    }
   ],
   "source": [
    "temp = join(servs,prior,keys='help_id')\n",
    "print('percentage of mips prior objects that are in the ldust predictions and mips based prior list is: {}'.format(len(temp)/len(servs)))\n",
    "print('percentage of ldust prior objects that are in the ldust predictions and mips based prior list is: {}'.format(len(temp)/len(prior)))"
   ]
  },
  {
   "cell_type": "code",
   "execution_count": null,
   "metadata": {},
   "outputs": [],
   "source": []
  }
 ],
 "metadata": {
  "kernelspec": {
   "display_name": "Python 3",
   "language": "python",
   "name": "python3"
  },
  "language_info": {
   "codemirror_mode": {
    "name": "ipython",
    "version": 3
   },
   "file_extension": ".py",
   "mimetype": "text/x-python",
   "name": "python",
   "nbconvert_exporter": "python",
   "pygments_lexer": "ipython3",
   "version": "3.6.7"
  }
 },
 "nbformat": 4,
 "nbformat_minor": 2
}
