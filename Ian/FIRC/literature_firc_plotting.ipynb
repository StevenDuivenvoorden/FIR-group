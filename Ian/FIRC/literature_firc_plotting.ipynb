{
 "cells": [
  {
   "cell_type": "code",
   "execution_count": 1,
   "metadata": {},
   "outputs": [],
   "source": [
    "import numpy as np\n",
    "import matplotlib.pyplot as plt\n",
    "import astropy\n",
    "import astropy.wcs as wcs\n",
    "from astropy.coordinates import SkyCoord\n",
    "from astropy.nddata.utils import Cutout2D\n",
    "from astropy.io import ascii, fits\n",
    "from astropy.table import Table,vstack,Column,join\n",
    "from astropy import units as u\n",
    "from IPython.display import Image,display\n",
    "import os\n",
    "\n",
    "from herschelhelp import image_plotting\n",
    "import yaml\n",
    "import glob\n",
    "import pymoc\n",
    "import scipy"
   ]
  },
  {
   "cell_type": "code",
   "execution_count": 5,
   "metadata": {},
   "outputs": [
    {
     "data": {
      "text/html": [
       "<i>Table length=2</i>\n",
       "<table id=\"table46913399481512\" class=\"table-striped table-bordered table-condensed\">\n",
       "<thead><tr><th>lead_author</th><th>form</th><th>normalistaion</th><th>alpha</th></tr></thead>\n",
       "<thead><tr><th>str26</th><th>str9</th><th>float64</th><th>float64</th></tr></thead>\n",
       "<tr><td>Calistro_Rivera_et_al_2017</td><td>power_law</td><td>1.72</td><td>-0.22</td></tr>\n",
       "<tr><td>Delhaize_et_al_2017</td><td>power_law</td><td>2.88</td><td>-0.19</td></tr>\n",
       "</table>"
      ],
      "text/plain": [
       "<Table length=2>\n",
       "       lead_author            form   normalistaion  alpha \n",
       "          str26               str9      float64    float64\n",
       "-------------------------- --------- ------------- -------\n",
       "Calistro_Rivera_et_al_2017 power_law          1.72   -0.22\n",
       "       Delhaize_et_al_2017 power_law          2.88   -0.19"
      ]
     },
     "execution_count": 5,
     "metadata": {},
     "output_type": "execute_result"
    }
   ],
   "source": [
    "Table.read('data/literature_firc',format='csv')"
   ]
  },
  {
   "cell_type": "code",
   "execution_count": 6,
   "metadata": {},
   "outputs": [],
   "source": [
    "import json"
   ]
  },
  {
   "cell_type": "code",
   "execution_count": null,
   "metadata": {},
   "outputs": [],
   "source": []
  }
 ],
 "metadata": {
  "kernelspec": {
   "display_name": "Python 3",
   "language": "python",
   "name": "python3"
  },
  "language_info": {
   "codemirror_mode": {
    "name": "ipython",
    "version": 3
   },
   "file_extension": ".py",
   "mimetype": "text/x-python",
   "name": "python",
   "nbconvert_exporter": "python",
   "pygments_lexer": "ipython3",
   "version": "3.6.7"
  }
 },
 "nbformat": 4,
 "nbformat_minor": 2
}
