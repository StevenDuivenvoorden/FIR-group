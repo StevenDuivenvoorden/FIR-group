{
 "cells": [
  {
   "cell_type": "code",
   "execution_count": 1,
   "metadata": {},
   "outputs": [],
   "source": [
    "import numpy as np\n",
    "import astropy\n",
    "import matplotlib.pyplot as plt\n",
    "from astropy.cosmology import WMAP9 as cosmo\n",
    "import astropy.units as u"
   ]
  },
  {
   "cell_type": "code",
   "execution_count": 2,
   "metadata": {},
   "outputs": [],
   "source": [
    "class radio_galaxy:\n",
    "    '''\n",
    "    a class containing teh observed properties of a radio galaxy from\n",
    "    which other properties can be calculated/derived\n",
    "    '''\n",
    "    def __init__(self,z,flux,vobs,spec_index):\n",
    "        '''\n",
    "        initialise the galaxy with a redshift, flux a an observed \n",
    "        frequecy and a spectral index\n",
    "        flux should be given in jy\n",
    "        '''\n",
    "        self.z = z\n",
    "        self.flux = flux * 1E-26\n",
    "        self.vobs = vobs\n",
    "        self.spec_index = spec_index\n",
    "        \n",
    "    def radio_kcorrection(self,vrest):\n",
    "        '''\n",
    "        k corrects a radio luminosity from the original frequency to a new\n",
    "        frequency assuming a given spectral index using the formula\n",
    "    \n",
    "        lnew = lold * (fnew/fold)^-spec_index\n",
    "    \n",
    "        Parameters\n",
    "        ----------------------------\n",
    "        vobs - frequency of the given raduio luminosity\n",
    "        vrest - frequecny of the k corrceted luminsoity\n",
    "        spec_index - assumed spectral index\n",
    "        fobs - flux at the frequnecy vold\n",
    "    \n",
    "        Returns\n",
    "        -------------------------------\n",
    "        frest - flux at the frequnecy vnew\n",
    "        '''\n",
    "    \n",
    "        frest = self.flux * (vrest/self.vobs)**(self.spec_index)\n",
    "        return(frest)\n",
    "    \n",
    "    def radio_luminosity(self,vrest):\n",
    "        flux = self.radio_kcorrection(vrest)\n",
    "        distance = cosmo.luminosity_distance(self.z).to(u.m).value\n",
    "        lum = flux * 4 * np.pi * distance*distance\n",
    "        return(lum)\n",
    "    \n",
    "    def rad2fir(self,q):\n",
    "        '''\n",
    "        Given a q value and a radio luminosity at 1.4GHz in W/Hz \n",
    "        returns the total FIR luminosity from 8-1000um in solar\n",
    "        luminsoities\n",
    "        '''\n",
    "    \n",
    "        fir = q + np.log10(3.75E12 * self.radio_luminosity(1.4))\n",
    "        return(10**fir/(3.827E26))"
   ]
  },
  {
   "cell_type": "code",
   "execution_count": 3,
   "metadata": {},
   "outputs": [
    {
     "name": "stderr",
     "output_type": "stream",
     "text": [
      "/its/home/im281/anaconda3/envs/herschelhelp/lib/python3.6/site-packages/ipykernel_launcher.py:8: RuntimeWarning: divide by zero encountered in log10\n",
      "  \n"
     ]
    },
    {
     "data": {
      "image/png": "[encoded data removed]",
      "text/plain": [
       "<Figure size 432x288 with 1 Axes>"
      ]
     },
     "metadata": {
      "needs_background": "light"
     },
     "output_type": "display_data"
    }
   ],
   "source": [
    "z = np.linspace(0,5,1000)\n",
    "flux = 150E-6\n",
    "vobs = 0.15\n",
    "spec_index = -0.8\n",
    "gal = radio_galaxy(z,flux,vobs,spec_index)\n",
    "rad_lum = gal.radio_luminosity(0.15)\n",
    "\n",
    "plt.plot(z,np.log10(rad_lum))\n",
    "plt.show()"
   ]
  },
  {
   "cell_type": "code",
   "execution_count": null,
   "metadata": {},
   "outputs": [],
   "source": []
  }
 ],
 "metadata": {
  "kernelspec": {
   "display_name": "Python 3",
   "language": "python",
   "name": "python3"
  },
  "language_info": {
   "codemirror_mode": {
    "name": "ipython",
    "version": 3
   },
   "file_extension": ".py",
   "mimetype": "text/x-python",
   "name": "python",
   "nbconvert_exporter": "python",
   "pygments_lexer": "ipython3",
   "version": "3.6.7"
  }
 },
 "nbformat": 4,
 "nbformat_minor": 2
}
