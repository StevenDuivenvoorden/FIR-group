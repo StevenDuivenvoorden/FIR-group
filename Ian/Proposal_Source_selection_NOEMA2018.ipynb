{
 "cells": [
  {
   "cell_type": "code",
   "execution_count": 11,
   "metadata": {},
   "outputs": [],
   "source": [
    "import numpy as np\n",
    "import astropy\n",
    "from astropy.table import Table, Column, vstack\n",
    "from astropy import units as u\n",
    "from astropy.modeling import models, fitting\n",
    "from astropy.modeling.models import custom_model\n",
    "from astropy.coordinates import SkyCoord, search_around_sky\n",
    "from IPython.display import clear_output\n",
    "import scipy\n",
    "from scipy.optimize import curve_fit\n",
    "from scipy import stats\n",
    "import scipy.stats\n",
    "import pickle\n",
    "import os\n",
    "from pymoc.util import catalog\n",
    "from pymoc import MOC\n",
    "import matplotlib\n",
    "import matplotlib.pyplot as plt\n",
    "import matplotlib.patches as patches\n",
    "\n",
    "import random\n",
    "import pyvo as vo\n",
    "from time import sleep\n",
    "\n",
    "from astropy.cosmology import WMAP9 as cosmo\n",
    "import astropy.units as u\n",
    "from astropy.modeling import models, fitting\n",
    "from astropy.modeling.models import custom_model\n",
    "\n",
    "import emcee\n",
    "import time\n",
    "import corner\n",
    "from heapq import nsmallest\n",
    "import subprocess\n"
   ]
  },
  {
   "cell_type": "code",
   "execution_count": 7,
   "metadata": {},
   "outputs": [],
   "source": [
    "#returns the redshifted frequency of a source given the redshift of the source and the restframe frequency\n",
    "def redshifted(z,f0):\n",
    "    return(f0/(z+1))\n",
    "\n",
    "#returns the CO1-0 emission line luminosity from the LIR luminosity using the relation for the MS found in \n",
    "#Walter&Carilli2013 section 4 (i think?)\n",
    "def CO_from_Ldust_MS(L):\n",
    "    return( 10**((np.log10(L)-0.53)/1.13) )\n",
    "\n",
    "#returns the CO1-0 emission line luminosity from the LIR luminosity using the relation for all sources found in \n",
    "#Walter&Carilli2013 section 4 (i think?)\n",
    "def CO_from_Ldust_all(L):\n",
    "    return( 10**((np.log10(L)+1.74)/1.37) )\n",
    "\n",
    "#finds the linewidth of a emission line given the rotational velocity of the galaxy, the redshift \n",
    "#and the rest frame frequency\n",
    "def linewidth(f0,v,z):\n",
    "    c = 3e5\n",
    "    fshift1 = redshifted(z,c/(c+v)*f0)\n",
    "    fshift2 = redshifted(z,c/(c-v)*f0)\n",
    "    return(fshift2-fshift1)\n",
    "\n",
    "#returns the linebrightness of a source given its line luminosity the distance to the source, its redshift and\n",
    "#the observed frequnecy of the line\n",
    "def linebrightness(L,d,z,f):\n",
    "    nume = (1+z)**3 * f**2 * L\n",
    "    denom = 3.25e7*d**2\n",
    "    return(nume/denom)"
   ]
  },
  {
   "cell_type": "code",
   "execution_count": 32,
   "metadata": {},
   "outputs": [],
   "source": [
    "#estimate time needed to observe a source to get to the given rms\n",
    "def obs_time(rms):\n",
    "    if len(rms) == 1:\n",
    "        rms = rms[0]\n",
    "        if rms<0.1768:\n",
    "            obs_time = 2*(rms/0.1768)**-2\n",
    "            return(obs_time)\n",
    "        if rms>0.331:\n",
    "            return(1.0)\n",
    "        if (rms<0.331) & (rms>0.240):\n",
    "            return(1.2)\n",
    "        if (rms<0.240) & (rms>0.206):\n",
    "            return(1.5)\n",
    "        if (rms<0.206) & (rms>0.177):\n",
    "            return(1.85)\n",
    "    else:\n",
    "        hours = 0\n",
    "        for val in rms:\n",
    "            if val<0.1768:\n",
    "                obs_time = 2*(val/0.1768)**-2\n",
    "                hours = hours + obs_time\n",
    "            if val>0.331:\n",
    "                hours = hours + 1.0\n",
    "            if (val<0.331) & (val>0.240):\n",
    "                hours = hours+1.2\n",
    "            if (val<0.240) & (val>0.206):\n",
    "                hours = hours + 1.5\n",
    "            if (val<0.206) & (val>0.177):\n",
    "                hours = hours + 1.85\n",
    "        return(hours)"
   ]
  },
  {
   "cell_type": "code",
   "execution_count": 33,
   "metadata": {},
   "outputs": [],
   "source": [
    "#function to find the maximum n values in an array because i couldn't find a function to do this already\n",
    "def find_n_max(array):\n",
    "    if np.shape(array) == ():\n",
    "        return([0])\n",
    "    \n",
    "    else:\n",
    "        high1 = 1e-99\n",
    "        ind = 0\n",
    "        index = []\n",
    "        for n,val in enumerate(array):\n",
    "            if val>high1:\n",
    "                high1=val\n",
    "                ind = n\n",
    "        index.append(ind)\n",
    "        high2 = 1e-99\n",
    "        ind2 = 0\n",
    "        for n,val in enumerate(array):\n",
    "            if (val>high2) & (val<high1):\n",
    "                high2 = val\n",
    "                ind = n\n",
    "        index.append(ind)\n",
    "    return(index)"
   ]
  },
  {
   "cell_type": "code",
   "execution_count": 49,
   "metadata": {},
   "outputs": [],
   "source": [
    "#plots the sources in a given luminosity range on the sSFR-Tdust plane\n",
    "def target_select(cands,llow,lhigh):\n",
    "    \n",
    "    tmid = 33\n",
    "    ssfrmid = 2e-9\n",
    "    \n",
    "    lir_mask = np.log10(cands['cigale_dustlumin']/3.8e26)\n",
    "    mask = (lir_mask>llow) & (lir_mask<lhigh)\n",
    "    fig, ax1 = plt.subplots()\n",
    "    #ax1.set_yscale('log')\n",
    "    ax1.set_xscale('log')\n",
    "    lir = cands[mask]['cigale_dustlumin']/3.8e26\n",
    "    lirerr = cands[mask]['cigale_dustlumin_err']/3.8e26\n",
    "    x = cands[mask]['cigale_sfr']/cands[mask]['cigale_mstar']\n",
    "    xerr = np.sqrt(x**2*((cands[mask]['cigale_sfr']/cands[mask]['cigale_sfr_err'])**2 + (cands[mask]['cigale_mstar']/cands[mask]['cigale_mstar_err'])**2)**-1)\n",
    "    y = cands[mask]['peak_wavelength']/1000\n",
    "    \n",
    "    ax1.errorbar(x,y,xerr=xerr,fmt='o')\n",
    "    for n in range(len(cands[mask])):\n",
    "        label = '{}h'.format(np.round(obs_time([cands['rms'][mask][n]]),2))\n",
    "        ax1.annotate(label,(x[n],y[n]))\n",
    "    ax1.set_xlabel('sSFR')\n",
    "    ax1.set_ylabel('peak_wavelength (um)')\n",
    "    ax1.set_yticks(np.linspace(157, 314, 5))\n",
    "    ax1.set_ylim(157,314)\n",
    "\n",
    "    ax2 = ax1.twinx()\n",
    "    ax2.tick_params(axis='y')\n",
    "    ytick = np.round(np.interp(np.linspace(157,314,5),np.flip(temp_conv['col2'],0),np.flip(temp_conv['col1'],0)),1)\n",
    "    ax2.set_yticks(np.linspace(22,44,5))\n",
    "    ax2.set_yticklabels(np.flip(ytick,0))\n",
    "    ax2.invert_yaxis()\n",
    "    ax2.set_ylim(min(ytick),max(ytick))\n",
    "    ax2.set_ylabel('temperature (K)')\n",
    "    ax1.set_title('{}<Ldust<{}'.format(llow,lhigh))\n",
    "    fig.tight_layout()\n",
    "    plt.gca().invert_yaxis()\n",
    "    \n",
    "    targets = Table(cands[0])\n",
    "    quad = (cands['cigale_sfr']/cands['cigale_mstar']<ssfrmid) & (cands['temp_est']<tmid) & (lir_mask>llow) & (lir_mask<lhigh)\n",
    "    targets = quad_calc(cands,quad,ax1,targets)\n",
    "    targets.remove_row(0)\n",
    "    print('for {}<Ldust<{} there are {} sources with sSFR<{} and T<{} which would take {} hours to observe'.format(llow,lhigh,len(cands[quad]),ssfrmid,tmid,obs_time(cands['rms'][quad])))\n",
    "    \n",
    "    quad = (cands['cigale_sfr']/cands['cigale_mstar']>ssfrmid) & (cands['temp_est']<tmid) & (lir_mask>llow) & (lir_mask<lhigh)\n",
    "    targets = quad_calc(cands,quad,ax1,targets)\n",
    "    print('for {}<Ldust<{} there are {} sources with sSFR>{} and T<{} which would take {} hours to observe'.format(llow,lhigh,len(cands[quad]),ssfrmid,tmid,obs_time(cands['rms'][quad])))\n",
    "    \n",
    "    quad = (cands['cigale_sfr']/cands['cigale_mstar']<ssfrmid) & (cands['temp_est']>tmid) & (lir_mask>llow) & (lir_mask<lhigh)\n",
    "    targets = quad_calc(cands,quad,ax1,targets)\n",
    "    print('for {}<Ldust<{} there are {} sources with sSFR<{} and T>{} which would take {} hours to observe'.format(llow,lhigh,len(cands[quad]),ssfrmid,tmid,obs_time(cands['rms'][quad])))\n",
    "    \n",
    "    quad = (cands['cigale_sfr']/cands['cigale_mstar']>ssfrmid) & (cands['temp_est']>tmid) & (lir_mask>llow) & (lir_mask<lhigh)\n",
    "    targets = quad_calc(cands,quad,ax1,targets)\n",
    "    print('for {}<Ldust<{} there are {} sources with sSFR>{} and T>{} which would take {} hours to observe'.format(llow,lhigh,len(cands[quad]),ssfrmid,tmid,obs_time(cands['rms'][quad])))\n",
    "    plt.show()\n",
    "    return(targets)\n",
    "\n",
    "#returns the 2 brightest sources in a given quadrant\n",
    "def quad_calc(cands,quad,ax1,targets):\n",
    "    \n",
    "    if np.sum(quad) == 0:\n",
    "        return(targets)\n",
    "    \n",
    "    temp = Table(cands[0])\n",
    "    #print(temp)\n",
    "    ind = find_n_max(cands[quad]['line_brightness'])\n",
    "    #print(ind)\n",
    "    temp.add_row(cands[quad][ind][0])\n",
    "    temp.add_row(cands[quad][ind][1])\n",
    "    #print(temp)\n",
    "    temp.remove_row(0)\n",
    "    if len(np.unique(ind))==1:\n",
    "        temp.remove_row(1)\n",
    "    #print(temp)\n",
    "    x = cands[quad][ind]['cigale_sfr']/cands[quad][ind]['cigale_mstar']\n",
    "    xerr = np.sqrt(x**2*((cands[quad][ind]['cigale_sfr']/cands[quad][ind]['cigale_sfr_err'])**2 + (cands[quad][ind]['cigale_mstar']/cands[quad][ind]['cigale_mstar_err'])**2)**-1)\n",
    "    y = cands[quad][ind]['peak_wavelength']/1000\n",
    "    ax1.errorbar(x,y,xerr=xerr,fmt='o',color='red')\n",
    "    #print(temp)\n",
    "    temp = vstack([targets,temp])\n",
    "    return(temp)"
   ]
  },
  {
   "cell_type": "markdown",
   "metadata": {},
   "source": [
    "load the data from the VO server. We are only looking in the five fields because from previous inspection these are the only visible fields with cigale run on them. We return sources between 1.19<z<1.31 and that have cigale SEDs"
   ]
  },
  {
   "cell_type": "code",
   "execution_count": 2,
   "metadata": {},
   "outputs": [
    {
     "name": "stdout",
     "output_type": "stream",
     "text": [
      "Job running in COSMOS...\n",
      "Job running in COSMOS...\n",
      "Job running in COSMOS...\n",
      "Job running in COSMOS...\n",
      "Job running in COSMOS...\n"
     ]
    },
    {
     "name": "stderr",
     "output_type": "stream",
     "text": [
      "WARNING: W35: None:2:1196: W35: 'value' attribute required for INFO elements [astropy.io.votable.tree]\n",
      "WARNING: W27: None:2:1574: W27: COOSYS deprecated in VOTable 1.2 [astropy.io.votable.tree]\n",
      "WARNING: W06: None:2:3038: W06: Invalid UCD 'src.redsfhit': Unknown word 'src.redsfhit' [astropy.io.votable.tree]\n",
      "WARNING: W06: None:2:4370: W06: Invalid UCD 'phot.flux;em.IR.1500-3000GHz': Unknown word 'em.IR.1500-3000GHz' [astropy.io.votable.tree]\n",
      "WARNING: W06: None:2:4641: W06: Invalid UCD 'stat.error;phot.flux;em.IR.1500-3000GHz': Unknown word 'em.IR.1500-3000GHz' [astropy.io.votable.tree]\n",
      "WARNING: W06: None:2:4824: W06: Invalid UCD 'phot.flux;em.IR.750-1500GHz': Unknown word 'em.IR.750-1500GHz' [astropy.io.votable.tree]\n",
      "WARNING: W06: None:2:5097: W06: Invalid UCD 'stat.error;phot.flux;em.IR.750-1500GHz': Unknown word 'em.IR.750-1500GHz' [astropy.io.votable.tree]\n",
      "WARNING: W06: None:2:5282: W06: Invalid UCD 'phot.flux;em.IR.750-1500GHz': Unknown word 'em.IR.750-1500GHz' [astropy.io.votable.tree]\n",
      "WARNING: W06: None:2:5555: W06: Invalid UCD 'stat.error;phot.flux;em.IR.750-1500GHz': Unknown word 'em.IR.750-1500GHz' [astropy.io.votable.tree]\n",
      "WARNING: W06: None:2:5740: W06: Invalid UCD 'phot.flux;em.IR.400-750GHz': Unknown word 'em.IR.400-750GHz' [astropy.io.votable.tree]\n",
      "WARNING: W06: None:2:6011: W06: Invalid UCD 'stat.error;phot.flux;em.IR.400-750GHz': Unknown word 'em.IR.400-750GHz' [astropy.io.votable.tree]\n",
      "WARNING: W06: None:2:6195: W06: Invalid UCD 'phys.dust;phys.luminosity': Unknown word 'phys.dust' (suppressing further warnings of this type...) [astropy.io.votable.tree]\n"
     ]
    },
    {
     "name": "stdout",
     "output_type": "stream",
     "text": [
      "Job running in ELAIS-N1...\n",
      "Job running in ELAIS-N1...\n",
      "Job running in ELAIS-N1...\n"
     ]
    },
    {
     "name": "stderr",
     "output_type": "stream",
     "text": [
      "WARNING: W35: None:2:1198: W35: 'value' attribute required for INFO elements [astropy.io.votable.tree]\n",
      "WARNING: W27: None:2:1576: W27: COOSYS deprecated in VOTable 1.2 [astropy.io.votable.tree]\n",
      "WARNING: W06: None:2:3040: W06: Invalid UCD 'src.redsfhit': Unknown word 'src.redsfhit' [astropy.io.votable.tree]\n",
      "WARNING: W06: None:2:4372: W06: Invalid UCD 'phot.flux;em.IR.1500-3000GHz': Unknown word 'em.IR.1500-3000GHz' [astropy.io.votable.tree]\n",
      "WARNING: W06: None:2:4643: W06: Invalid UCD 'stat.error;phot.flux;em.IR.1500-3000GHz': Unknown word 'em.IR.1500-3000GHz' [astropy.io.votable.tree]\n",
      "WARNING: W06: None:2:4826: W06: Invalid UCD 'phot.flux;em.IR.750-1500GHz': Unknown word 'em.IR.750-1500GHz' [astropy.io.votable.tree]\n",
      "WARNING: W06: None:2:5099: W06: Invalid UCD 'stat.error;phot.flux;em.IR.750-1500GHz': Unknown word 'em.IR.750-1500GHz' [astropy.io.votable.tree]\n",
      "WARNING: W06: None:2:5284: W06: Invalid UCD 'phot.flux;em.IR.750-1500GHz': Unknown word 'em.IR.750-1500GHz' [astropy.io.votable.tree]\n",
      "WARNING: W06: None:2:5557: W06: Invalid UCD 'stat.error;phot.flux;em.IR.750-1500GHz': Unknown word 'em.IR.750-1500GHz' [astropy.io.votable.tree]\n",
      "WARNING: W06: None:2:5742: W06: Invalid UCD 'phot.flux;em.IR.400-750GHz': Unknown word 'em.IR.400-750GHz' [astropy.io.votable.tree]\n",
      "WARNING: W06: None:2:6013: W06: Invalid UCD 'stat.error;phot.flux;em.IR.400-750GHz': Unknown word 'em.IR.400-750GHz' [astropy.io.votable.tree]\n",
      "WARNING: W06: None:2:6197: W06: Invalid UCD 'phys.dust;phys.luminosity': Unknown word 'phys.dust' (suppressing further warnings of this type...) [astropy.io.votable.tree]\n"
     ]
    },
    {
     "name": "stdout",
     "output_type": "stream",
     "text": [
      "Job running in GAMA-09...\n",
      "Job running in GAMA-09...\n",
      "Job running in GAMA-09...\n",
      "Job running in GAMA-09...\n",
      "Job running in GAMA-09...\n",
      "Job running in GAMA-09...\n",
      "Job running in GAMA-09...\n",
      "Job running in GAMA-09...\n",
      "Job running in GAMA-09...\n",
      "Job running in GAMA-09...\n"
     ]
    },
    {
     "name": "stderr",
     "output_type": "stream",
     "text": [
      "WARNING: W35: None:2:1197: W35: 'value' attribute required for INFO elements [astropy.io.votable.tree]\n",
      "WARNING: W27: None:2:1575: W27: COOSYS deprecated in VOTable 1.2 [astropy.io.votable.tree]\n",
      "WARNING: W06: None:2:3039: W06: Invalid UCD 'src.redsfhit': Unknown word 'src.redsfhit' [astropy.io.votable.tree]\n",
      "WARNING: W06: None:2:4371: W06: Invalid UCD 'phot.flux;em.IR.1500-3000GHz': Unknown word 'em.IR.1500-3000GHz' [astropy.io.votable.tree]\n",
      "WARNING: W06: None:2:4642: W06: Invalid UCD 'stat.error;phot.flux;em.IR.1500-3000GHz': Unknown word 'em.IR.1500-3000GHz' [astropy.io.votable.tree]\n",
      "WARNING: W06: None:2:4825: W06: Invalid UCD 'phot.flux;em.IR.750-1500GHz': Unknown word 'em.IR.750-1500GHz' [astropy.io.votable.tree]\n",
      "WARNING: W06: None:2:5098: W06: Invalid UCD 'stat.error;phot.flux;em.IR.750-1500GHz': Unknown word 'em.IR.750-1500GHz' [astropy.io.votable.tree]\n",
      "WARNING: W06: None:2:5283: W06: Invalid UCD 'phot.flux;em.IR.750-1500GHz': Unknown word 'em.IR.750-1500GHz' [astropy.io.votable.tree]\n",
      "WARNING: W06: None:2:5556: W06: Invalid UCD 'stat.error;phot.flux;em.IR.750-1500GHz': Unknown word 'em.IR.750-1500GHz' [astropy.io.votable.tree]\n",
      "WARNING: W06: None:2:5741: W06: Invalid UCD 'phot.flux;em.IR.400-750GHz': Unknown word 'em.IR.400-750GHz' [astropy.io.votable.tree]\n",
      "WARNING: W06: None:2:6012: W06: Invalid UCD 'stat.error;phot.flux;em.IR.400-750GHz': Unknown word 'em.IR.400-750GHz' [astropy.io.votable.tree]\n",
      "WARNING: W06: None:2:6196: W06: Invalid UCD 'phys.dust;phys.luminosity': Unknown word 'phys.dust' (suppressing further warnings of this type...) [astropy.io.votable.tree]\n"
     ]
    },
    {
     "name": "stdout",
     "output_type": "stream",
     "text": [
      "Job running in GAMA-12...\n",
      "Job running in GAMA-12...\n",
      "Job running in GAMA-12...\n",
      "Job running in GAMA-12...\n",
      "Job running in GAMA-12...\n",
      "Job running in GAMA-12...\n",
      "Job running in GAMA-12...\n",
      "Job running in GAMA-12...\n",
      "Job running in GAMA-12...\n",
      "Job running in GAMA-12...\n"
     ]
    },
    {
     "name": "stderr",
     "output_type": "stream",
     "text": [
      "WARNING: W35: None:2:1197: W35: 'value' attribute required for INFO elements [astropy.io.votable.tree]\n",
      "WARNING: W27: None:2:1575: W27: COOSYS deprecated in VOTable 1.2 [astropy.io.votable.tree]\n",
      "WARNING: W06: None:2:3039: W06: Invalid UCD 'src.redsfhit': Unknown word 'src.redsfhit' [astropy.io.votable.tree]\n",
      "WARNING: W06: None:2:4371: W06: Invalid UCD 'phot.flux;em.IR.1500-3000GHz': Unknown word 'em.IR.1500-3000GHz' [astropy.io.votable.tree]\n",
      "WARNING: W06: None:2:4642: W06: Invalid UCD 'stat.error;phot.flux;em.IR.1500-3000GHz': Unknown word 'em.IR.1500-3000GHz' [astropy.io.votable.tree]\n",
      "WARNING: W06: None:2:4825: W06: Invalid UCD 'phot.flux;em.IR.750-1500GHz': Unknown word 'em.IR.750-1500GHz' [astropy.io.votable.tree]\n",
      "WARNING: W06: None:2:5098: W06: Invalid UCD 'stat.error;phot.flux;em.IR.750-1500GHz': Unknown word 'em.IR.750-1500GHz' [astropy.io.votable.tree]\n",
      "WARNING: W06: None:2:5283: W06: Invalid UCD 'phot.flux;em.IR.750-1500GHz': Unknown word 'em.IR.750-1500GHz' [astropy.io.votable.tree]\n",
      "WARNING: W06: None:2:5556: W06: Invalid UCD 'stat.error;phot.flux;em.IR.750-1500GHz': Unknown word 'em.IR.750-1500GHz' [astropy.io.votable.tree]\n",
      "WARNING: W06: None:2:5741: W06: Invalid UCD 'phot.flux;em.IR.400-750GHz': Unknown word 'em.IR.400-750GHz' [astropy.io.votable.tree]\n",
      "WARNING: W06: None:2:6012: W06: Invalid UCD 'stat.error;phot.flux;em.IR.400-750GHz': Unknown word 'em.IR.400-750GHz' [astropy.io.votable.tree]\n",
      "WARNING: W06: None:2:6196: W06: Invalid UCD 'phys.dust;phys.luminosity': Unknown word 'phys.dust' (suppressing further warnings of this type...) [astropy.io.votable.tree]\n"
     ]
    },
    {
     "name": "stdout",
     "output_type": "stream",
     "text": [
      "Job running in GAMA-15...\n",
      "Job running in GAMA-15...\n",
      "Job running in GAMA-15...\n",
      "Job running in GAMA-15...\n",
      "Job running in GAMA-15...\n",
      "Job running in GAMA-15...\n",
      "Job running in GAMA-15...\n",
      "Job running in GAMA-15...\n",
      "Job running in GAMA-15...\n",
      "Job running in GAMA-15...\n",
      "Job running in GAMA-15...\n",
      "Job running in GAMA-15...\n",
      "Job running in GAMA-15...\n"
     ]
    },
    {
     "name": "stderr",
     "output_type": "stream",
     "text": [
      "WARNING: W35: None:2:1197: W35: 'value' attribute required for INFO elements [astropy.io.votable.tree]\n",
      "WARNING: W27: None:2:1575: W27: COOSYS deprecated in VOTable 1.2 [astropy.io.votable.tree]\n",
      "WARNING: W06: None:2:3039: W06: Invalid UCD 'src.redsfhit': Unknown word 'src.redsfhit' [astropy.io.votable.tree]\n",
      "WARNING: W06: None:2:4371: W06: Invalid UCD 'phot.flux;em.IR.1500-3000GHz': Unknown word 'em.IR.1500-3000GHz' [astropy.io.votable.tree]\n",
      "WARNING: W06: None:2:4642: W06: Invalid UCD 'stat.error;phot.flux;em.IR.1500-3000GHz': Unknown word 'em.IR.1500-3000GHz' [astropy.io.votable.tree]\n",
      "WARNING: W06: None:2:4825: W06: Invalid UCD 'phot.flux;em.IR.750-1500GHz': Unknown word 'em.IR.750-1500GHz' [astropy.io.votable.tree]\n",
      "WARNING: W06: None:2:5098: W06: Invalid UCD 'stat.error;phot.flux;em.IR.750-1500GHz': Unknown word 'em.IR.750-1500GHz' [astropy.io.votable.tree]\n",
      "WARNING: W06: None:2:5283: W06: Invalid UCD 'phot.flux;em.IR.750-1500GHz': Unknown word 'em.IR.750-1500GHz' [astropy.io.votable.tree]\n",
      "WARNING: W06: None:2:5556: W06: Invalid UCD 'stat.error;phot.flux;em.IR.750-1500GHz': Unknown word 'em.IR.750-1500GHz' [astropy.io.votable.tree]\n",
      "WARNING: W06: None:2:5741: W06: Invalid UCD 'phot.flux;em.IR.400-750GHz': Unknown word 'em.IR.400-750GHz' [astropy.io.votable.tree]\n",
      "WARNING: W06: None:2:6012: W06: Invalid UCD 'stat.error;phot.flux;em.IR.400-750GHz': Unknown word 'em.IR.400-750GHz' [astropy.io.votable.tree]\n",
      "WARNING: W06: None:2:6196: W06: Invalid UCD 'phys.dust;phys.luminosity': Unknown word 'phys.dust' (suppressing further warnings of this type...) [astropy.io.votable.tree]\n"
     ]
    }
   ],
   "source": [
    "fields = [\n",
    "'COSMOS',\n",
    "'ELAIS-N1',\n",
    "'GAMA-09',\n",
    "'GAMA-12',\n",
    "'GAMA-15',]\n",
    "\n",
    "service = vo.dal.TAPService(\"https://herschel-vos.phys.sussex.ac.uk/__system__/tap/run/tap\")\n",
    "\n",
    "result = []\n",
    "for n,field in enumerate(fields):\n",
    "\n",
    "    query=\"\"\"\n",
    "SELECT help_id, ra, dec, redshift, zspec, zspec_association_flag, f_mips_24, ferr_mips_24, f_pacs_green, ferr_pacs_green, f_pacs_red, ferr_pacs_red, f_spire_250, ferr_spire_250, f_spire_350, ferr_spire_350, f_spire_500, ferr_spire_500, cigale_dustlumin, cigale_dustlumin_err, cigale_mstar, cigale_mstar_err, cigale_sfr, cigale_sfr_err, field\n",
    "FROM herschelhelp.main\n",
    "WHERE (\n",
    "herschelhelp.main.redshift BETWEEN 1.19 AND 1.31 AND\n",
    "herschelhelp.main.cigale_dustlumin>1 AND\n",
    "herschelhelp.main.field='{}'\n",
    ")\"\"\".format(field)\n",
    "\n",
    "    job = service.submit_job(query)\n",
    "    job.run()\n",
    "    \n",
    "    while job.phase == \"EXECUTING\":\n",
    "        print(\"Job running in {}...\".format(field))\n",
    "        sleep(5)\n",
    "    \n",
    "    table = job.fetch_result().to_table()\n",
    "\n",
    "    job.delete()\n",
    "    \n",
    "    if n==0:\n",
    "        result=table\n",
    "    else:\n",
    "        result = astropy.table.vstack([result,table],join_type='outer')"
   ]
  },
  {
   "cell_type": "markdown",
   "metadata": {},
   "source": [
    "limit the returned sources to 1.2<z<1.3 confirmed by both zspec and photoz and require that it have a zspec and that they agree with the photoz within 0.1. Sources were then limited to COSMOS in as this is an observable field and has enough sources to cover a range of parameter space."
   ]
  },
  {
   "cell_type": "code",
   "execution_count": 51,
   "metadata": {},
   "outputs": [
    {
     "name": "stderr",
     "output_type": "stream",
     "text": [
      "/Users/im281/anaconda3/envs/herschelhelp_internal/lib/python3.6/site-packages/astropy/table/column.py:965: RuntimeWarning: invalid value encountered in greater_equal\n",
      "  return getattr(self.data, op)(other)\n",
      "/Users/im281/anaconda3/envs/herschelhelp_internal/lib/python3.6/site-packages/astropy/table/column.py:965: RuntimeWarning: invalid value encountered in less_equal\n",
      "  return getattr(self.data, op)(other)\n"
     ]
    }
   ],
   "source": [
    "mask = (result['field'] == b'COSMOS') & (result['redshift']-result['zspec'] < 0.1) & (result['redshift']>=1.2) & (result['redshift']<=1.3) & (result['zspec']>=1.2) & (result['zspec']<=1.3)\n",
    "cands = result[mask]\n",
    "mask = cands['field']==b'COSMOS'\n",
    "cands = cands[mask]"
   ]
  },
  {
   "cell_type": "markdown",
   "metadata": {},
   "source": [
    "Calculate the rms needed to observe each source"
   ]
  },
  {
   "cell_type": "code",
   "execution_count": 52,
   "metadata": {},
   "outputs": [],
   "source": [
    "#list the frequencies of the CO transitions\n",
    "CO1 = 115.3\n",
    "CO2 = 2*CO1\n",
    "CO3 = 3*CO1\n",
    "z = cands['zspec']\n",
    "f = redshifted(z,CO2)\n",
    "\n",
    "d = cosmo.luminosity_distance(z).value\n",
    "L = cands['cigale_dustlumin']/3.8e26\n",
    "L = CO_from_Ldust_all(L)*0.7\n",
    "\n",
    "#calculate the rms level needed to observe the given source\n",
    "linebright = linebrightness(L,d,z,f)/300/5\n",
    "np.percentile(linebright,[85,50,15])\n",
    "linebricol = Column(linebright*5*1000,name='line_brightness',unit='mJy')\n",
    "rmscol = Column(linebright*1000,name='rms',unit='mJy')\n",
    "cands.add_column(linebricol)\n",
    "cands.add_column(rmscol)"
   ]
  },
  {
   "cell_type": "markdown",
   "metadata": {},
   "source": [
    "download the SEDs of all the candidates"
   ]
  },
  {
   "cell_type": "code",
   "execution_count": 54,
   "metadata": {},
   "outputs": [],
   "source": [
    "for n in range(len(cands)):\n",
    "    field = str(cands[n]['field'])[2:-1]\n",
    "    helpid = str(cands[n]['help_id'])[2:-1]\n",
    "    url = 'http://hedam.lam.fr/HELP/dataproducts/dmu28/dmu28_{}/data/zphot/SEDs/fits/{}_best_model.fits'.format(field,helpid)\n",
    "    #print(url)\n",
    "    subprocess.call(['curl','-O',url])"
   ]
  },
  {
   "cell_type": "code",
   "execution_count": 55,
   "metadata": {},
   "outputs": [],
   "source": [
    "for n in range(len(cands)):\n",
    "    field = str(cands[n]['field'])[2:-1]\n",
    "    helpid = str(cands[n]['help_id'])[2:-1]\n",
    "    url = 'http://hedam.lam.fr/HELP/dataproducts/dmu28/dmu28_{}/data/zphot/SEDs/png/{}_best_model.png'.format(field,helpid)\n",
    "    #print(url)\n",
    "    subprocess.call(['curl','-O',url])"
   ]
  },
  {
   "cell_type": "markdown",
   "metadata": {},
   "source": [
    "read in the peak wavelength of each SED"
   ]
  },
  {
   "cell_type": "code",
   "execution_count": 56,
   "metadata": {},
   "outputs": [],
   "source": [
    "peak_wav = []\n",
    "for name in cands['help_id']:\n",
    "    ids = str(name)[2:-1]\n",
    "    fname = '{}_best_model.fits'.format(ids)\n",
    "    try:\n",
    "        sed = Table.read(fname)\n",
    "    except:\n",
    "        print(fname)\n",
    "        continue\n",
    "    mask = (sed['wavelength']>50e3) & (sed['wavelength']<500e3)\n",
    "    max_wav = np.argmax(sed['Fnu'][mask])\n",
    "    peak_wav.append(sed[mask][max_wav]['wavelength'])"
   ]
  },
  {
   "cell_type": "markdown",
   "metadata": {},
   "source": [
    "read in a conversion table from peak wavelength to temperature created from Casey2012 templates and work out the temperature of each source"
   ]
  },
  {
   "cell_type": "code",
   "execution_count": 57,
   "metadata": {},
   "outputs": [],
   "source": [
    "temp_conv = Table.read('test.dat',format='ascii')"
   ]
  },
  {
   "cell_type": "code",
   "execution_count": 58,
   "metadata": {},
   "outputs": [],
   "source": [
    "temp_est = []\n",
    "for val in peak_wav:\n",
    "    min_index = np.argmin(np.abs(temp_conv['col2'] - val/1000))\n",
    "    temp_est.append(temp_conv['col1'][min_index])\n",
    "temp_est = Column(temp_est,name='temp_est',unit='K')\n",
    "peak_wav = Column(peak_wav,name='peak_wavelength',unit='nm')\n",
    "cands.add_column(peak_wav)\n",
    "cands.add_column(temp_est)"
   ]
  },
  {
   "cell_type": "code",
   "execution_count": 59,
   "metadata": {},
   "outputs": [
    {
     "name": "stdout",
     "output_type": "stream",
     "text": [
      "for 11.2<Ldust<11.6 there are 2 sources with sSFR<2e-09 and T<33 which would take 16.229516829046034 hours to observe\n",
      "for 11.2<Ldust<11.6 there are 0 sources with sSFR>2e-09 and T<33 which would take 0 hours to observe\n",
      "for 11.2<Ldust<11.6 there are 0 sources with sSFR<2e-09 and T>33 which would take 0 hours to observe\n",
      "for 11.2<Ldust<11.6 there are 1 sources with sSFR>2e-09 and T>33 which would take 4.031311675654418 hours to observe\n"
     ]
    },
    {
     "data": {
      "image/png": "[encoded data removed]",
      "text/plain": [
       "<matplotlib.figure.Figure at 0x1a202c6828>"
      ]
     },
     "metadata": {},
     "output_type": "display_data"
    },
    {
     "name": "stdout",
     "output_type": "stream",
     "text": [
      "for 11.6<Ldust<11.8 there are 5 sources with sSFR<2e-09 and T<33 which would take 13.673666035229514 hours to observe\n",
      "for 11.6<Ldust<11.8 there are 1 sources with sSFR>2e-09 and T<33 which would take 2.9539067266610366 hours to observe\n",
      "for 11.6<Ldust<11.8 there are 5 sources with sSFR<2e-09 and T>33 which would take 17.074821407599796 hours to observe\n",
      "for 11.6<Ldust<11.8 there are 3 sources with sSFR>2e-09 and T>33 which would take 10.753827805481485 hours to observe\n"
     ]
    },
    {
     "data": {
      "image/png": "[encoded data removed]",
      "text/plain": [
       "<matplotlib.figure.Figure at 0x1a20c7fc50>"
      ]
     },
     "metadata": {},
     "output_type": "display_data"
    },
    {
     "name": "stdout",
     "output_type": "stream",
     "text": [
      "for 11.8<Ldust<12.0 there are 3 sources with sSFR<2e-09 and T<33 which would take 5.7375520949691765 hours to observe\n",
      "for 11.8<Ldust<12.0 there are 1 sources with sSFR>2e-09 and T<33 which would take 1.85 hours to observe\n",
      "for 11.8<Ldust<12.0 there are 4 sources with sSFR<2e-09 and T>33 which would take 6.699999999999999 hours to observe\n",
      "for 11.8<Ldust<12.0 there are 2 sources with sSFR>2e-09 and T>33 which would take 3.05 hours to observe\n"
     ]
    },
    {
     "data": {
      "image/png": "[encoded data removed]",
      "text/plain": [
       "<matplotlib.figure.Figure at 0x1a20a5e048>"
      ]
     },
     "metadata": {},
     "output_type": "display_data"
    },
    {
     "name": "stdout",
     "output_type": "stream",
     "text": [
      "for 12.0<Ldust<12.4 there are 2 sources with sSFR<2e-09 and T<33 which would take 2.2 hours to observe\n",
      "for 12.0<Ldust<12.4 there are 0 sources with sSFR>2e-09 and T<33 which would take 0 hours to observe\n",
      "for 12.0<Ldust<12.4 there are 2 sources with sSFR<2e-09 and T>33 which would take 2.7 hours to observe\n",
      "for 12.0<Ldust<12.4 there are 2 sources with sSFR>2e-09 and T>33 which would take 2.4 hours to observe\n"
     ]
    },
    {
     "data": {
      "image/png": "[encoded data removed]",
      "text/plain": [
       "<matplotlib.figure.Figure at 0x1a20c3f780>"
      ]
     },
     "metadata": {},
     "output_type": "display_data"
    }
   ],
   "source": [
    "targets = Table(cands[0])\n",
    "targets = vstack([targets,target_select(cands,11.2,11.6)])\n",
    "targets.remove_row(0)\n",
    "targets = vstack([targets,target_select(cands,11.6,11.8)])\n",
    "targets = vstack([targets,target_select(cands,11.8,12.0)])\n",
    "targets = vstack([targets,target_select(cands,12.0,12.4)])"
   ]
  },
  {
   "cell_type": "markdown",
   "metadata": {},
   "source": [
    "now we have a table of the sources we will observe"
   ]
  },
  {
   "cell_type": "code",
   "execution_count": 60,
   "metadata": {},
   "outputs": [
    {
     "data": {
      "text/html": [
       "<i>Table masked=True length=23</i>\n",
       "<table id=\"table112197190712\" class=\"table-striped table-bordered table-condensed\">\n",
       "<thead><tr><th>help_id</th><th>ra</th><th>dec</th><th>redshift</th><th>zspec</th><th>zspec_association_flag</th><th>f_mips_24</th><th>ferr_mips_24</th><th>f_pacs_green</th><th>ferr_pacs_green</th><th>f_pacs_red</th><th>ferr_pacs_red</th><th>f_spire_250</th><th>ferr_spire_250</th><th>f_spire_350</th><th>ferr_spire_350</th><th>f_spire_500</th><th>ferr_spire_500</th><th>cigale_dustlumin</th><th>cigale_dustlumin_err</th><th>cigale_mstar</th><th>cigale_mstar_err</th><th>cigale_sfr</th><th>cigale_sfr_err</th><th>field</th><th>line_brightness</th><th>rms</th><th>peak_wavelength</th><th>temp_est</th></tr></thead>\n",
       "<thead><tr><th></th><th>deg</th><th>deg</th><th></th><th></th><th></th><th>uJy</th><th>uJy</th><th>uJy</th><th>uJy</th><th>uJy</th><th>uJy</th><th>uJy</th><th>uJy</th><th>uJy</th><th>uJy</th><th>uJy</th><th>uJy</th><th>W</th><th>W</th><th>Msun</th><th>Msun</th><th>Msun / yr</th><th>Msun / yr</th><th></th><th>mJy</th><th>mJy</th><th>nm</th><th>K</th></tr></thead>\n",
       "<thead><tr><th>object</th><th>float64</th><th>float64</th><th>float32</th><th>float32</th><th>bool</th><th>float64</th><th>float64</th><th>float64</th><th>float64</th><th>float64</th><th>float64</th><th>float64</th><th>float64</th><th>float64</th><th>float64</th><th>float64</th><th>float64</th><th>float64</th><th>float64</th><th>float64</th><th>float64</th><th>float64</th><th>float64</th><th>object</th><th>float64</th><th>float64</th><th>float64</th><th>float64</th></tr></thead>\n",
       "<tr><td>HELP_J095802.539+022352.169</td><td>149.510579165864</td><td>2.39782479400304</td><td>1.2244</td><td>1.2576</td><td>False</td><td>144.56181</td><td>6.301941</td><td>809.612742159516</td><td>1010.92358818278</td><td>4527.30385586619</td><td>4962.45874091983</td><td>6312.61</td><td>1134.1978</td><td>3392.7</td><td>1464.3433</td><td>976.64655</td><td>1260.987</td><td>1.1781135724774e+38</td><td>1.88073833411026e+37</td><td>36944616166.215</td><td>3042789862.89247</td><td>43.5225186434315</td><td>8.31693662563703</td><td>COSMOS</td><td>0.49035236652551273</td><td>0.09807047330510255</td><td>221999.99999999997</td><td>31.0</td></tr>\n",
       "<tr><td>HELP_J095901.780+015714.240</td><td>149.757417551427</td><td>1.95395542264345</td><td>1.2293</td><td>1.237</td><td>False</td><td>127.17205</td><td>5.9596634</td><td>286.600523395464</td><td>471.250648843125</td><td>4043.59214007854</td><td>4614.54130709171</td><td>5413.3276</td><td>2623.7456</td><td>6569.7754</td><td>3208.3118</td><td>2532.9478</td><td>2661.9727</td><td>8.55515688686372e+37</td><td>1.1099514195975e+37</td><td>56613385606.1593</td><td>3225489244.69921</td><td>30.6906116498208</td><td>4.33569002083767</td><td>COSMOS</td><td>0.4007958062038942</td><td>0.08015916124077885</td><td>299489.0</td><td>23.0</td></tr>\n",
       "<tr><td>HELP_J095833.906+020031.565</td><td>149.641273950035</td><td>2.00876813297309</td><td>1.2133</td><td>1.2074</td><td>False</td><td>90.477196</td><td>5.1971664</td><td>6668.41445490718</td><td>1312.10219115019</td><td>9210.9302058816</td><td>9206.0360289216</td><td>3803.9546</td><td>1108.2856</td><td>3851.8806</td><td>1362.3767</td><td>2412.0776</td><td>1808.1201</td><td>1.46705364630403e+38</td><td>3.7625922807037e+37</td><td>6569525189.85233</td><td>918019680.097482</td><td>73.9135665903807</td><td>25.4948472270743</td><td>COSMOS</td><td>0.6226501178890952</td><td>0.12453002357781903</td><td>158633.8</td><td>44.0</td></tr>\n",
       "<tr><td>HELP_J095851.103+014849.254</td><td>149.712927429498</td><td>1.81368168146414</td><td>1.23</td><td>1.2222</td><td>False</td><td>228.70009</td><td>7.0305023</td><td>1626.11098494381</td><td>1496.00452277809</td><td>3173.03487099707</td><td>3568.29003430903</td><td>11175.505</td><td>1115.7285</td><td>9294.926</td><td>1489.0498</td><td>4263.9316</td><td>2226.7788</td><td>2.26958112018612e+38</td><td>1.20931031297394e+37</td><td>67995291484.9898</td><td>5804186208.21791</td><td>68.4131944142641</td><td>5.32459795153877</td><td>COSMOS</td><td>0.8362105621099506</td><td>0.16724211242199014</td><td>265147.0</td><td>26.0</td></tr>\n",
       "<tr><td>HELP_J095933.167+015215.990</td><td>149.888193911483</td><td>1.87110835911878</td><td>1.2255</td><td>1.2219</td><td>False</td><td>168.06285</td><td>6.743454</td><td>526.575255207717</td><td>705.022481270134</td><td>2171.72526754439</td><td>3205.90217597783</td><td>16517.6</td><td>1096.5938</td><td>14252.436</td><td>1206.1943</td><td>5048.4062</td><td>1384.9287</td><td>2.22781452292158e+38</td><td>2.78040778166963e+37</td><td>54001621104.427</td><td>5874830915.94424</td><td>70.8819119132285</td><td>14.6041809219038</td><td>COSMOS</td><td>0.8253421031858925</td><td>0.1650684206371785</td><td>254086.2</td><td>27.0</td></tr>\n",
       "<tr><td>HELP_J100003.585+023924.220</td><td>150.014935418367</td><td>2.65672790899388</td><td>1.2302</td><td>1.245</td><td>False</td><td>223.7158</td><td>6.5095367</td><td>1967.23896078765</td><td>1329.70209233463</td><td>1986.48101650178</td><td>3000.57441927493</td><td>11001.954</td><td>1890.1885</td><td>12750.7705</td><td>3062.2031</td><td>4279.7144</td><td>4130.0464</td><td>1.96904190419054e+38</td><td>2.33870785200867e+37</td><td>23963931232.0956</td><td>5439473674.86232</td><td>62.6205597172215</td><td>8.93804845399796</td><td>COSMOS</td><td>0.7273925923364561</td><td>0.14547851846729123</td><td>299489.0</td><td>23.0</td></tr>\n",
       "<tr><td>HELP_J100047.992+015946.672</td><td>150.199965407891</td><td>1.9962978162064</td><td>1.2334</td><td>1.2434</td><td>False</td><td>128.23312</td><td>5.3392944</td><td>3727.06586495042</td><td>1002.77224555612</td><td>10342.0624509454</td><td>10335.9611425996</td><td>8690.413</td><td>1089.0566</td><td>3007.8276</td><td>1347.6226</td><td>1238.0916</td><td>1248.1675</td><td>2.04662413776574e+38</td><td>2.0408460877949e+37</td><td>50543864565.1935</td><td>3549606562.89749</td><td>70.1580238467187</td><td>9.82748073775574</td><td>COSMOS</td><td>0.750062825222006</td><td>0.1500125650444012</td><td>180942.2</td><td>38.0</td></tr>\n",
       "<tr><td>HELP_J100153.658+014006.193</td><td>150.473575547007</td><td>1.66838708054512</td><td>1.226</td><td>1.244</td><td>False</td><td>121.0397</td><td>7.121132</td><td>4777.58748456836</td><td>1090.45603312552</td><td>5256.36319071054</td><td>5254.60697036982</td><td>4207.1294</td><td>979.3115</td><td>3847.757</td><td>1177.5813</td><td>1317.8502</td><td>1194.6837</td><td>2.01333585395862e+38</td><td>1.26798377258982e+37</td><td>55461706618.523</td><td>2886234010.61399</td><td>54.9117213392273</td><td>3.75281071263645</td><td>COSMOS</td><td>0.7404481270424108</td><td>0.14808962540848214</td><td>161581.34</td><td>43.0</td></tr>\n",
       "<tr><td>HELP_J095958.688+020937.593</td><td>149.994531575738</td><td>2.16044243873887</td><td>1.2338</td><td>1.2519</td><td>False</td><td>141.47498</td><td>6.518692</td><td>5463.14148232341</td><td>1515.43039828539</td><td>3137.68652267754</td><td>3687.0373878628</td><td>6594.563</td><td>1362.436</td><td>4530.458</td><td>2373.7913</td><td>4949.772</td><td>2473.7434</td><td>1.79587443847579e+38</td><td>3.8434541331449e+37</td><td>14354663024.4906</td><td>3654922115.62308</td><td>94.0749565487353</td><td>19.9675265408495</td><td>COSMOS</td><td>0.6729064394853209</td><td>0.13458128789706417</td><td>161581.34</td><td>43.0</td></tr>\n",
       "<tr><td>...</td><td>...</td><td>...</td><td>...</td><td>...</td><td>...</td><td>...</td><td>...</td><td>...</td><td>...</td><td>...</td><td>...</td><td>...</td><td>...</td><td>...</td><td>...</td><td>...</td><td>...</td><td>...</td><td>...</td><td>...</td><td>...</td><td>...</td><td>...</td><td>...</td><td>...</td><td>...</td><td>...</td><td>...</td></tr>\n",
       "<tr><td>HELP_J095859.998+020026.000</td><td>149.749990609098</td><td>2.0072220969885</td><td>1.2242</td><td>1.2371</td><td>False</td><td>255.4814</td><td>5.503647</td><td>6507.74966925383</td><td>1298.27810451388</td><td>8795.75591534376</td><td>8792.1321310401</td><td>11285.204</td><td>1561.9727</td><td>9782.193</td><td>2259.5947</td><td>6006.0576</td><td>3018.0894</td><td>3.50158828232942e+38</td><td>4.59079825904692e+37</td><td>94882035288.4835</td><td>12416356742.5178</td><td>95.5555602510767</td><td>13.1815337860099</td><td>COSMOS</td><td>1.1209797659866334</td><td>0.22419595319732666</td><td>181285.19999999998</td><td>38.0</td></tr>\n",
       "<tr><td>HELP_J100107.324+021100.561</td><td>150.280515087528</td><td>2.18348924389133</td><td>1.2045</td><td>1.2409</td><td>False</td><td>161.83739</td><td>5.5700836</td><td>4833.41282233596</td><td>1756.87414593995</td><td>3160.37447191775</td><td>3851.88800282776</td><td>9239.128</td><td>950.5596</td><td>9326.213</td><td>1144.3843</td><td>4789.649</td><td>1435.9082</td><td>3.20445740144223e+38</td><td>1.60222870072112e+37</td><td>152845541550.707</td><td>7642277077.53537</td><td>68.3203607783474</td><td>3.41601803891737</td><td>COSMOS</td><td>1.0445145157248712</td><td>0.2089029031449742</td><td>178508.0</td><td>39.0</td></tr>\n",
       "<tr><td>HELP_J100109.225+014113.328</td><td>150.288436080737</td><td>1.6870355323555</td><td>1.2255</td><td>1.2216</td><td>False</td><td>177.16452</td><td>4.9855347</td><td>8811.61447614431</td><td>1054.5402765274</td><td>28077.9767781496</td><td>28054.8540192842</td><td>13784.402</td><td>1189.3848</td><td>6795.816</td><td>1827.6187</td><td>9320.399</td><td>3577.1768</td><td>3.73715528353286e+38</td><td>1.86857764176643e+37</td><td>41068392274.5704</td><td>6694590673.85572</td><td>112.271796682893</td><td>8.07610144814267</td><td>COSMOS</td><td>1.2045569120896662</td><td>0.24091138241793325</td><td>180942.2</td><td>38.0</td></tr>\n",
       "<tr><td>HELP_J100053.210+022132.380</td><td>150.221709292953</td><td>2.35899443050399</td><td>1.2255</td><td>1.2212</td><td>False</td><td>141.55202</td><td>4.643463</td><td>7127.24169716239</td><td>1348.60025718808</td><td>9024.71970766783</td><td>9018.51585549116</td><td>9509.998</td><td>955.28906</td><td>8036.622</td><td>1221.373</td><td>3918.5042</td><td>1540.6772</td><td>2.93170993813439e+38</td><td>1.82682443239446e+37</td><td>19939937649.9304</td><td>3099099524.9518</td><td>105.015681220221</td><td>9.27777268092533</td><td>COSMOS</td><td>1.0096099251101245</td><td>0.20192198502202488</td><td>180942.2</td><td>38.0</td></tr>\n",
       "<tr><td>HELP_J095940.526+020440.101</td><td>149.918859951116</td><td>2.07780593816401</td><td>1.2578</td><td>1.2348</td><td>False</td><td>205.43924</td><td>5.2365417</td><td>30612.0999157429</td><td>1013.9811784029</td><td>17168.5013920069</td><td>17158.2324386835</td><td>31448.193</td><td>1009.7832</td><td>23153.146</td><td>1187.5527</td><td>13256.895</td><td>1172.1045</td><td>6.17482944190363e+38</td><td>4.01773481930131e+37</td><td>153459163959.595</td><td>17607676870.873</td><td>182.24871713743</td><td>27.242049161243</td><td>COSMOS</td><td>1.7020975024329208</td><td>0.34041950048658415</td><td>215829.99999999997</td><td>32.0</td></tr>\n",
       "<tr><td>HELP_J100020.585+021751.597</td><td>150.085772076459</td><td>2.29766580368799</td><td>1.2378</td><td>1.2525</td><td>False</td><td>429.98822</td><td>5.044159</td><td>6403.33350747824</td><td>3924.63896423578</td><td>14889.7292092443</td><td>14880.1931174397</td><td>25861.854</td><td>1695.209</td><td>12271.091</td><td>3823.4424</td><td>4740.3716</td><td>4295.1226</td><td>5.41698258133743e+38</td><td>5.71966813242215e+37</td><td>121941798616.73</td><td>20445659041.7909</td><td>157.580290429962</td><td>27.376521646405</td><td>COSMOS</td><td>1.5050108259781294</td><td>0.3010021651956259</td><td>217884.80000000002</td><td>32.0</td></tr>\n",
       "<tr><td>HELP_J095848.547+024347.333</td><td>149.702279066201</td><td>2.7298147278073</td><td>1.2938</td><td>1.2753</td><td>False</td><td>179.18701</td><td>8.540176</td><td>3557.11532756686</td><td>1791.88838228583</td><td>4424.60039630532</td><td>4423.21816042066</td><td>12062.855</td><td>1016.8584</td><td>10230.129</td><td>1543.9707</td><td>3342.0435</td><td>2468.4966</td><td>4.31651653500581e+38</td><td>2.1582582675029e+37</td><td>228697596335.598</td><td>11434879816.7799</td><td>102.043776062515</td><td>5.10218880312573</td><td>COSMOS</td><td>1.2315617125640081</td><td>0.24631234251280165</td><td>185810.6</td><td>37.0</td></tr>\n",
       "<tr><td>HELP_J100200.825+023901.319</td><td>150.503437775102</td><td>2.65036649768049</td><td>1.2904</td><td>1.29</td><td>False</td><td>223.06778</td><td>7.465027</td><td>3668.59161294997</td><td>1961.58024482429</td><td>9751.8777474761</td><td>9748.94348973036</td><td>12148.087</td><td>1628.8652</td><td>7122.8774</td><td>3033.0247</td><td>2927.0515</td><td>2636.7727</td><td>4.11613455497402e+38</td><td>2.05806727748701e+37</td><td>101830061809.05</td><td>5091503090.45248</td><td>101.158538875319</td><td>6.81288975287365</td><td>COSMOS</td><td>1.1636363391472155</td><td>0.23272726782944309</td><td>165928.82</td><td>42.0</td></tr>\n",
       "<tr><td>HELP_J100010.426+021019.739</td><td>150.043441344391</td><td>2.17214960774514</td><td>1.2286</td><td>1.2182</td><td>False</td><td>178.93918</td><td>8.477493</td><td>12885.0685432553</td><td>1786.93886846304</td><td>6830.30113577843</td><td>6827.86143732071</td><td>14454.299</td><td>1104.2852</td><td>7323.519</td><td>1505.0845</td><td>3456.436</td><td>2205.6821</td><td>4.13555058585575e+38</td><td>2.30699705299773e+37</td><td>38521526851.8917</td><td>4471909484.96306</td><td>139.763424840989</td><td>11.4073223377746</td><td>COSMOS</td><td>1.304012695476642</td><td>0.2608025390953284</td><td>161581.34</td><td>43.0</td></tr>\n",
       "<tr><td>HELP_J100216.399+023827.738</td><td>150.568329734172</td><td>2.64103825798306</td><td>1.2695</td><td>1.26</td><td>False</td><td>181.77534</td><td>5.0414734</td><td>9178.02099138498</td><td>1188.9236047864</td><td>10123.2612505555</td><td>10117.2170963883</td><td>14168.041</td><td>1315.875</td><td>10351.481</td><td>1828.5859</td><td>3153.919</td><td>2169.711</td><td>4.09389015825059e+38</td><td>2.72213349132304e+37</td><td>75901672205.4059</td><td>10084308713.1018</td><td>162.628077398498</td><td>14.6484933458744</td><td>COSMOS</td><td>1.2127331288166965</td><td>0.24254662576333932</td><td>184187.8</td><td>38.0</td></tr>\n",
       "</table>"
      ],
      "text/plain": [
       "<Table masked=True length=23>\n",
       "          help_id                  ra        ...  peak_wavelength   temp_est\n",
       "                                  deg        ...         nm            K    \n",
       "           object               float64      ...      float64       float64 \n",
       "--------------------------- ---------------- ... ------------------ --------\n",
       "HELP_J095802.539+022352.169 149.510579165864 ... 221999.99999999997     31.0\n",
       "HELP_J095901.780+015714.240 149.757417551427 ...           299489.0     23.0\n",
       "HELP_J095833.906+020031.565 149.641273950035 ...           158633.8     44.0\n",
       "HELP_J095851.103+014849.254 149.712927429498 ...           265147.0     26.0\n",
       "HELP_J095933.167+015215.990 149.888193911483 ...           254086.2     27.0\n",
       "HELP_J100003.585+023924.220 150.014935418367 ...           299489.0     23.0\n",
       "HELP_J100047.992+015946.672 150.199965407891 ...           180942.2     38.0\n",
       "HELP_J100153.658+014006.193 150.473575547007 ...          161581.34     43.0\n",
       "HELP_J095958.688+020937.593 149.994531575738 ...          161581.34     43.0\n",
       "                        ...              ... ...                ...      ...\n",
       "HELP_J095859.998+020026.000 149.749990609098 ... 181285.19999999998     38.0\n",
       "HELP_J100107.324+021100.561 150.280515087528 ...           178508.0     39.0\n",
       "HELP_J100109.225+014113.328 150.288436080737 ...           180942.2     38.0\n",
       "HELP_J100053.210+022132.380 150.221709292953 ...           180942.2     38.0\n",
       "HELP_J095940.526+020440.101 149.918859951116 ... 215829.99999999997     32.0\n",
       "HELP_J100020.585+021751.597 150.085772076459 ... 217884.80000000002     32.0\n",
       "HELP_J095848.547+024347.333 149.702279066201 ...           185810.6     37.0\n",
       "HELP_J100200.825+023901.319 150.503437775102 ...          165928.82     42.0\n",
       "HELP_J100010.426+021019.739 150.043441344391 ...          161581.34     43.0\n",
       "HELP_J100216.399+023827.738 150.568329734172 ...           184187.8     38.0"
      ]
     },
     "execution_count": 60,
     "metadata": {},
     "output_type": "execute_result"
    }
   ],
   "source": [
    "targets"
   ]
  },
  {
   "cell_type": "code",
   "execution_count": null,
   "metadata": {},
   "outputs": [],
   "source": []
  }
 ],
 "metadata": {
  "kernelspec": {
   "display_name": "Python 3",
   "language": "python",
   "name": "python3"
  },
  "language_info": {
   "codemirror_mode": {
    "name": "ipython",
    "version": 3
   },
   "file_extension": ".py",
   "mimetype": "text/x-python",
   "name": "python",
   "nbconvert_exporter": "python",
   "pygments_lexer": "ipython3",
   "version": "3.6.7"
  }
 },
 "nbformat": 4,
 "nbformat_minor": 2
}
