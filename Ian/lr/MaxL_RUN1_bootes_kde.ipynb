{
 "cells": [
  {
   "cell_type": "markdown",
   "metadata": {},
   "source": [
    "# Maximum Likelihood RUN 1\n",
    "\n",
    "### The raw PyBDSF catalogue, optical, NIR catalogues and, the MASTER LIST are used"
   ]
  },
  {
   "cell_type": "markdown",
   "metadata": {},
   "source": [
    "---"
   ]
  },
  {
   "cell_type": "code",
   "execution_count": 5,
   "metadata": {},
   "outputs": [
    {
     "ename": "ImportError",
     "evalue": "cannot import name 'coords_to_hpidx'",
     "output_type": "error",
     "traceback": [
      "\u001b[0;31m---------------------------------------------------------------------------\u001b[0m",
      "\u001b[0;31mImportError\u001b[0m                               Traceback (most recent call last)",
      "\u001b[0;32m<ipython-input-5-d076a0660a47>\u001b[0m in \u001b[0;36m<module>\u001b[0;34m\u001b[0m\n\u001b[1;32m     26\u001b[0m \u001b[0;31m#from overlapping_area import (isinpan, isinukidss, isinSWIRE, isinSERVS)\u001b[0m\u001b[0;34m\u001b[0m\u001b[0;34m\u001b[0m\u001b[0;34m\u001b[0m\u001b[0m\n\u001b[1;32m     27\u001b[0m \u001b[0;31m#from plot_func import rc_def, make_fig\u001b[0m\u001b[0;34m\u001b[0m\u001b[0;34m\u001b[0m\u001b[0;34m\u001b[0m\u001b[0m\n\u001b[0;32m---> 28\u001b[0;31m \u001b[0;32mfrom\u001b[0m \u001b[0mhealpy\u001b[0m \u001b[0;32mimport\u001b[0m \u001b[0mcoords_to_hpidx\u001b[0m\u001b[0;34m\u001b[0m\u001b[0;34m\u001b[0m\u001b[0m\n\u001b[0m\u001b[1;32m     29\u001b[0m \u001b[0;32mfrom\u001b[0m \u001b[0mherschelhelp\u001b[0m \u001b[0;32mimport\u001b[0m \u001b[0minMoc\u001b[0m\u001b[0;34m\u001b[0m\u001b[0;34m\u001b[0m\u001b[0m\n\u001b[1;32m     30\u001b[0m \u001b[0mrc_def\u001b[0m\u001b[0;34m(\u001b[0m\u001b[0;34m)\u001b[0m\u001b[0;34m\u001b[0m\u001b[0;34m\u001b[0m\u001b[0m\n",
      "\u001b[0;31mImportError\u001b[0m: cannot import name 'coords_to_hpidx'"
     ]
    }
   ],
   "source": [
    "# Load in all the required functions\n",
    "\n",
    "from socket import gethostname\n",
    "\n",
    "if gethostname() == 'colonsay':\n",
    "    PATH_START = '/disk1/rohitk/ELN1_project/'\n",
    "\n",
    "elif gethostname() == 'rohitk-elitebook':\n",
    "    PATH_START = '/home/rohitk/Documents/PhD/Year1/ELN1_project/'\n",
    "\n",
    "# Path start for Max_L analysis\n",
    "# PATH_START = PATH_START + \"OCT17_ELAIS_im/maxl_test/\"\n",
    "    \n",
    "#################################################\n",
    "# Add the path of useful functions at the start\n",
    "\n",
    "import sys\n",
    "\n",
    "# Import some important functions\n",
    "#sys.path.append(PATH_START+'basic_functions')\n",
    "\n",
    "import importlib\n",
    "\n",
    "# Import coordinate converstion functions\n",
    "from useful_functions import field_filter, get_overlap_sources, latest_dir, logspace_bins, return_hist_par\n",
    "#from overlapping_area import (isinpan, isinukidss, isinSWIRE, isinSERVS)\n",
    "from plot_func import rc_def, make_fig\n",
    "from moc_util import coords_to_hpidx, inMoc\n",
    "rc_def()\n",
    "##################################################\n",
    "\n",
    "import numpy as np\n",
    "from matplotlib import pyplot as plt\n",
    "from astropy.table import Table\n",
    "\n",
    "import time\n",
    "\n",
    "from astropy.coordinates import search_around_sky\n",
    "from astropy import units as u\n",
    "from astropy.coordinates import SkyCoord\n",
    "from astropy.coordinates import match_coordinates_sky\n",
    "\n",
    "\n",
    "# Multiprocessin method of doing the ML analysis\n",
    "import multiprocessing as mp\n",
    "from functools import partial\n",
    "\n",
    "import pickle\n",
    "\n",
    "ts = time.time()\n",
    "# %pylab inline\n",
    "import matplotlib as mpl\n",
    "mpl.rcParams[\"font.size\"] = 18\n",
    "mpl.rcParams[\"xtick.labelsize\"] = 18\n",
    "mpl.rcParams[\"ytick.labelsize\"] = 18\n",
    "mpl.rcParams[\"axes.labelsize\"] = 18\n",
    "\n",
    "import os\n",
    "from time import strftime\n",
    "import glob\n",
    "\n",
    "# For MOC files\n",
    "import pymoc.io.fits\n",
    "import healpy as hp\n",
    "import pymoc.util.catalog"
   ]
  },
  {
   "cell_type": "code",
   "execution_count": 7,
   "metadata": {},
   "outputs": [
    {
     "ename": "NameError",
     "evalue": "name 'PATH_START' is not defined",
     "output_type": "error",
     "traceback": [
      "\u001b[0;31m---------------------------------------------------------------------------\u001b[0m",
      "\u001b[0;31mNameError\u001b[0m                                 Traceback (most recent call last)",
      "\u001b[0;32m<ipython-input-7-f5dc5541f4ea>\u001b[0m in \u001b[0;36m<module>\u001b[0;34m\u001b[0m\n\u001b[1;32m      1\u001b[0m \u001b[0;31m# Import ML functions from mlrun1\u001b[0m\u001b[0;34m\u001b[0m\u001b[0;34m\u001b[0m\u001b[0;34m\u001b[0m\u001b[0m\n\u001b[0;32m----> 2\u001b[0;31m \u001b[0;32mimport\u001b[0m \u001b[0mmlrun1_bootes\u001b[0m\u001b[0;34m\u001b[0m\u001b[0;34m\u001b[0m\u001b[0m\n\u001b[0m\u001b[1;32m      3\u001b[0m \u001b[0mimportlib\u001b[0m\u001b[0;34m.\u001b[0m\u001b[0mreload\u001b[0m\u001b[0;34m(\u001b[0m\u001b[0mmlrun1_bootes\u001b[0m\u001b[0;34m)\u001b[0m\u001b[0;34m\u001b[0m\u001b[0;34m\u001b[0m\u001b[0m\n\u001b[1;32m      4\u001b[0m \u001b[0;34m\u001b[0m\u001b[0m\n\u001b[1;32m      5\u001b[0m \u001b[0;34m\u001b[0m\u001b[0m\n",
      "\u001b[0;32m/mnt/pact/im281/FIR-group/Ian/lr/mlrun1_bootes.py\u001b[0m in \u001b[0;36m<module>\u001b[0;34m\u001b[0m\n\u001b[1;32m     14\u001b[0m \u001b[0;34m\u001b[0m\u001b[0m\n\u001b[1;32m     15\u001b[0m \u001b[0;32mimport\u001b[0m \u001b[0msys\u001b[0m\u001b[0;34m\u001b[0m\u001b[0;34m\u001b[0m\u001b[0m\n\u001b[0;32m---> 16\u001b[0;31m \u001b[0msys\u001b[0m\u001b[0;34m.\u001b[0m\u001b[0mpath\u001b[0m\u001b[0;34m.\u001b[0m\u001b[0mappend\u001b[0m\u001b[0;34m(\u001b[0m\u001b[0mPATH_START\u001b[0m\u001b[0;34m)\u001b[0m\u001b[0;34m\u001b[0m\u001b[0;34m\u001b[0m\u001b[0m\n\u001b[0m\u001b[1;32m     17\u001b[0m \u001b[0;31m# Import some important functions\u001b[0m\u001b[0;34m\u001b[0m\u001b[0;34m\u001b[0m\u001b[0;34m\u001b[0m\u001b[0m\n\u001b[1;32m     18\u001b[0m \u001b[0msys\u001b[0m\u001b[0;34m.\u001b[0m\u001b[0mpath\u001b[0m\u001b[0;34m.\u001b[0m\u001b[0mappend\u001b[0m\u001b[0;34m(\u001b[0m\u001b[0mPATH_START\u001b[0m\u001b[0;34m+\u001b[0m\u001b[0;34m'../../basic_functions'\u001b[0m\u001b[0;34m)\u001b[0m\u001b[0;34m\u001b[0m\u001b[0;34m\u001b[0m\u001b[0m\n",
      "\u001b[0;31mNameError\u001b[0m: name 'PATH_START' is not defined"
     ]
    }
   ],
   "source": [
    "# Import ML functions from mlrun1\n",
    "import mlrun1_bootes\n",
    "importlib.reload(mlrun1_bootes)\n",
    "\n",
    "\n",
    "from mlrun1_bootes import (varstat, survey_area, get_sigma_all_old, get_fr_old, get_bin_list, get_n_m, get_q_m, \n",
    "                    generate_rand_pos_servs, get_Q0, compute_Fr, get_nm_interp,\n",
    "                    get_qm_interp, get_lr)\n",
    "\n",
    "from mlrun1_bootes import (generate_rand_pos_bootes, get_n_m_kde, get_q_m_kde, estimate_q_m_kde, get_sigma_all, gen_binc_binl)\n",
    "\n",
    "# from mlrun1 import survey_area"
   ]
  },
  {
   "cell_type": "markdown",
   "metadata": {},
   "source": [
    "## Contents"
   ]
  },
  {
   "cell_type": "markdown",
   "metadata": {},
   "source": [
    "- [Function Definitions](#func-def)\n",
    "    - [Miscellaneous](#misc-func)\n",
    "- [Load Catalogues](#load-catalogues)\n",
    "- [Filter LOFAR Catalogue](#filter-lofar)\n",
    "- [PanSTARRS i band](#pani-analysis)\n",
    "    - [Filter PanSTARRS i-band](#filter-pani)\n",
    "    - [Compute Q$_0$](#comp-q0_i)\n",
    "        - [Compute F(r)](#comp-fR_i)\n",
    "    - [Compute n(m)](#comp-nm_i)\n",
    "    - [Compute q(m)](#comp-qm_i)\n",
    "- [Compile i-band LR](#comp-lr_i)\n",
    "- [PanSTARRS g band](#pang-analysis)\n",
    "    - [Filter PanSTARRS g-band](#filter-pang)\n",
    "    - [Compute Q$_0$](#comp-q0_g)\n",
    "        - [Compute F(r)](#comp-fR_g)\n",
    "    - [Compute n(m)](#comp-nm_g)\n",
    "    - [Compute q(m)](#comp-qm_g)\n",
    "- [Compile g-band LR](#comp-lr_g)\n",
    "- [UKIDSS K band](#K-analysis)\n",
    "    - [Filter UKIDSS K-band](#filter-k)\n",
    "    - [Compute Q$_0$](#comp-q0_k)\n",
    "        - [Compute F(r)](#comp-fR_k)\n",
    "    - [Compute n(m)](#comp-nm_k)\n",
    "    - [Compute q(m)](#comp-qm_k)\n",
    "- [Compile K-band LR](#comp-lr_k)\n",
    "- [SERVS/SWIRE band](#s-analysis)\n",
    "    - [Filter s-band](#filter-s)\n",
    "    - [Compute Q$_0$](#comp-q0_s)\n",
    "        - [Compute F(r)](#comp-fR_s)\n",
    "    - [Compute n(m)](#comp-nm_s)\n",
    "    - [Compute q(m)](#comp-qm_s)\n",
    "- [Compile s-band LR](#comp-lr_s)\n",
    "\n",
    "- [ML Colour Analysis](#ml_colour)\n",
    "- [Colour Bin Definition](#col_cat_def)\n",
    "- [K/Ks only categories](#gik_only_col_cat)"
   ]
  },
  {
   "cell_type": "markdown",
   "metadata": {},
   "source": [
    "### Survey areas <a class=\"anchor\" id=\"survey-area\"></a>"
   ]
  },
  {
   "cell_type": "code",
   "execution_count": 44,
   "metadata": {},
   "outputs": [
    {
     "name": "stdout",
     "output_type": "stream",
     "text": [
      "2.472347185586362\n"
     ]
    }
   ],
   "source": [
    "# Survey area definitions - used for generated random catalogue and select the relevant PanSTARRS sources\n",
    "\n",
    "# Rectangular region for n(m) calculation\n",
    "p_ra_down = 217.\n",
    "p_dec_down = 34.\n",
    "p_ra_up = 220.\n",
    "p_dec_up = 35.\n",
    "\n",
    "\"\"\"\n",
    "p_ra_down = 216.2\n",
    "p_ra_up = 218.8\n",
    "p_dec_down = 33.0\n",
    "p_dec_up = 35.6\n",
    "\"\"\";\n",
    "\n",
    "# UKIDSS survey area\n",
    "\n",
    "# Get the area of the rectangle used for n(m)\n",
    "pan_area = survey_area(p_ra_up, p_dec_up, p_ra_down, p_dec_down)\n",
    "print(pan_area / 3600**2)"
   ]
  },
  {
   "cell_type": "markdown",
   "metadata": {},
   "source": [
    "## Load Catalogues <a class=\"anchor\" id=\"load-catalogues\"></a>"
   ]
  },
  {
   "cell_type": "code",
   "execution_count": 45,
   "metadata": {},
   "outputs": [],
   "source": [
    "# Definition of the paths\n",
    "PATH_PYBDSF_RAW = \"/disk3/rohitk/Bootes/radio/image_full_ampphase_di_m.NS_shift.blanked.scaled.cat.fits\"\n",
    "PATH_MASTER_LIST = \"/disk3/rohitk/Bootes/Bootes_optical/MASTER_catalogue/Bootes_MASTER_opt_spitzer_merged.fits\""
   ]
  },
  {
   "cell_type": "code",
   "execution_count": 46,
   "metadata": {},
   "outputs": [
    {
     "name": "stdout",
     "output_type": "stream",
     "text": [
      "_srl\n"
     ]
    }
   ],
   "source": [
    "# Get the type of catalogue (srl) or (gaul)\n",
    "if PATH_PYBDSF_RAW.split(\"/\")[-1][-8:-5] == \"cat\":\n",
    "    cat_type = \"_srl\"\n",
    "    id_type = \"Source_id\"  # Column name to choose - NOT USED\n",
    "elif PATH_PYBDSF_RAW.split(\"/\")[-1][-9:-5] == \"gaul\":\n",
    "    cat_type = \"_gaul\"\n",
    "    id_type = \"Gaus_id\"\n",
    "    \n",
    "print(cat_type)"
   ]
  },
  {
   "cell_type": "code",
   "execution_count": 47,
   "metadata": {},
   "outputs": [],
   "source": [
    "# Read in Master List - This contains all of the magnitudes for the 20 filters\n",
    "master = Table.read(PATH_MASTER_LIST)\n",
    "\n",
    "# Read in Final Catalogue - LOFAR DATA\n",
    "deepfull = Table.read(PATH_PYBDSF_RAW)\n"
   ]
  },
  {
   "cell_type": "markdown",
   "metadata": {},
   "source": [
    "## Filter LOFAR Catalogue and MASTER catalogue <a class=\"anchor\" id=\"filter-lofar\"></a>"
   ]
  },
  {
   "cell_type": "code",
   "execution_count": 48,
   "metadata": {},
   "outputs": [
    {
     "name": "stdout",
     "output_type": "stream",
     "text": [
      "Area of MOC: 9.643885598599503 sq. deg.\n"
     ]
    }
   ],
   "source": [
    "# Read in the MOC file\n",
    "PATH_MOC = \"/disk3/rohitk/Bootes/Bootes_optical/moc_files/Bootes_I-band_MOC.fits\"\n",
    "\n",
    "# Generate a MOC class instance first\n",
    "cata_moc = pymoc.MOC()\n",
    "pymoc.io.fits.read_moc_fits(cata_moc, PATH_MOC)\n",
    "\n",
    "moc_area = cata_moc.area_sq_deg\n",
    "print(\"Area of MOC: {0} sq. deg.\".format(moc_area))"
   ]
  },
  {
   "cell_type": "code",
   "execution_count": 49,
   "metadata": {},
   "outputs": [
    {
     "name": "stdout",
     "output_type": "stream",
     "text": [
      "Area of MOC: 9.467311334732925 sq. deg.\n"
     ]
    }
   ],
   "source": [
    "NEW_MOC = \"/disk3/rohitk/Bootes/Bootes_optical/moc_files/stitch_moc/Bootes_i_MOC.fits\"\n",
    "\n",
    "moc_i = pymoc.MOC()\n",
    "pymoc.io.fits.read_moc_fits(moc_i, NEW_MOC)\n",
    "\n",
    "imoc_area = moc_i.area_sq_deg\n",
    "print(\"Area of MOC: {0} sq. deg.\".format(imoc_area))"
   ]
  },
  {
   "cell_type": "code",
   "execution_count": 51,
   "metadata": {},
   "outputs": [
    {
     "name": "stdout",
     "output_type": "stream",
     "text": [
      "Number of radio sources in OLD MOC: 20586\n",
      "Number of radio sources in NEW MOC: 20355\n"
     ]
    }
   ],
   "source": [
    "radio_inmoc = inMoc(deepfull[\"RA\"], deepfull[\"DEC\"], cata_moc)\n",
    "print(\"Number of radio sources in OLD MOC: {0}\".format(np.sum(radio_inmoc)))\n",
    "\n",
    "radio_innewmoc = inMoc(deepfull[\"RA\"], deepfull[\"DEC\"], moc_i)\n",
    "print(\"Number of radio sources in NEW MOC: {0}\".format(np.sum(radio_innewmoc)))"
   ]
  },
  {
   "cell_type": "code",
   "execution_count": 55,
   "metadata": {},
   "outputs": [
    {
     "name": "stdout",
     "output_type": "stream",
     "text": [
      "231\n"
     ]
    }
   ],
   "source": [
    "# Sources not in NEW moc but in OLD moc\n",
    "not_in_new = radio_inmoc & ~radio_innewmoc\n",
    "print(np.sum(not_in_new))\n",
    "\n",
    "deepfull[not_in_new].write(\"lofar_in_old_moc_not_in_new.fits\", overwrite=True)\n",
    "deepfull[\"RA\", \"DEC\"][not_in_new].write(\"lofar_pos_in_old_moc_not_in_new.txt\", format='ascii.commented_header', overwrite=True)"
   ]
  },
  {
   "cell_type": "code",
   "execution_count": 9,
   "metadata": {},
   "outputs": [
    {
     "name": "stdout",
     "output_type": "stream",
     "text": [
      "Number of radio sources in MOC: 20586\n",
      "Number of radio sources in MOC, S and Maj < 10.0'': 15291\n",
      "Radio sources within rectangle: 6584\n"
     ]
    }
   ],
   "source": [
    "# Filter the LOFAR catalogue to the overlapping area and S sources and a Maj size cut\n",
    "\"\"\"\n",
    "Coordinates for the Radio FIR overlap area\n",
    "ov_ra_d = 216.2\n",
    "ov_ra_up = 218.8\n",
    "ov_dec_d = 33.0\n",
    "ov_dec_up = 35.6\n",
    "\"\"\"\n",
    "\n",
    "maj_cut = 10.  # Major axis size cut (in arcsec) for radio catalogue\n",
    "\n",
    "# Radio sources in MOC\n",
    "radio_inmoc = inMoc(deepfull[\"RA\"], deepfull[\"DEC\"], cata_moc)\n",
    "print(\"Number of radio sources in MOC: {0}\".format(np.sum(radio_inmoc)))\n",
    "\n",
    "workflow_iter = False\n",
    "\n",
    "\n",
    "if workflow_iter:\n",
    "    workflow_latest_dir = latest_dir(\"/disk3/rohitk/Bootes/bootes_workflow/workflow_iter_*\")\n",
    "    indx_forlr = pickle.load(open(workflow_latest_dir + \"/sources_to_send_to_lr.pckl\", \"rb\"))\n",
    "    \n",
    "    print(\"***** USING LOFAR SOURCES FROM WORKFLOW OUTPUT ****\")\n",
    "    \n",
    "else:\n",
    "    indx_forlr = ((deepfull['S_Code'] == 'S') &\n",
    "                  (deepfull[\"Maj\"]*3600. <= maj_cut) &\n",
    "                  (radio_inmoc))\n",
    "\n",
    "# Now index and get the entire catalogue\n",
    "final = deepfull[indx_forlr]\n",
    "print(\"Number of radio sources in MOC, S and Maj < {0}'': {1}\".format(maj_cut, np.sum(indx_forlr)))\n",
    "\n",
    "# Radio sources in the rectangular area for n(m) calculation\n",
    "radio_rect = field_filter(p_ra_up, p_dec_up, p_ra_down, p_dec_down, deepfull[\"RA\"], deepfull[\"DEC\"])\n",
    "print(\"Radio sources within rectangle: {0}\".format(np.sum(radio_rect)))"
   ]
  },
  {
   "cell_type": "markdown",
   "metadata": {},
   "source": [
    "## I-band ML matching <a class=\"anchor\" id=\"pani_analysis\"></a>"
   ]
  },
  {
   "cell_type": "markdown",
   "metadata": {},
   "source": [
    "### n(m) PanSTARRS i-band <a class=\"anchor\" id=\"comp-nm_i\"></a>\n",
    "\n",
    "$\\textbf{Definition:}$ n(m) is the number of sources in the optical/NIR catalogue below a magnitude, m within an area of 1arcsec (i.e. divide by the area of the survey)"
   ]
  },
  {
   "cell_type": "code",
   "execution_count": 33,
   "metadata": {},
   "outputs": [],
   "source": [
    "filt = \"I\"\n",
    "mag_col = filt + \"_mag_2\"\n",
    "flux_col = filt + \"_flux_2\"\n",
    "fluxerr_col = filt + \"_fluxerr_2\"\n",
    "\n",
    "null_mag = -99\n",
    "\n",
    "snr_th = 3.\n",
    "\n",
    "snr_band = (master[flux_col] / master[fluxerr_col] >= snr_th)\n",
    "\n",
    "# Set the FLAG_DEEP of Spitzer only sources to -99s\n",
    "master[\"FLAG_DEEP\"].fill_value = -99\n",
    "master[\"FLAG_DEEP\"] = master[\"FLAG_DEEP\"].filled(-99)\n",
    "\n",
    "flag_cond = (master[\"FLAG_DEEP\"] == 1) | (master[\"FLAG_DEEP\"] == -99)"
   ]
  },
  {
   "cell_type": "code",
   "execution_count": 34,
   "metadata": {},
   "outputs": [
    {
     "name": "stdout",
     "output_type": "stream",
     "text": [
      "Optical sources used for n(m) calculation: 315532\n",
      "Properties of n(m) in i-band: \n",
      "Mean       Median     Std. Dev.  Length     Min        Max        Len_Zeros \n",
      "0.003984   0.000532   0.004548   559        1.5331513400367e-67 0.009848   0         \n"
     ]
    },
    {
     "data": {
      "text/plain": [
       "[<matplotlib.lines.Line2D at 0x7fb0c02577f0>]"
      ]
     },
     "execution_count": 34,
     "metadata": {},
     "output_type": "execute_result"
    },
    {
     "data": {
      "image/png": "[encoded data removed]",
      "text/plain": [
       "<Figure size 432x288 with 1 Axes>"
      ]
     },
     "metadata": {},
     "output_type": "display_data"
    }
   ],
   "source": [
    "# Get sources for the n(m) calculation\n",
    "\n",
    "filt = \"I\"\n",
    "mag_col = filt + \"_mag_2\"\n",
    "flux_col = filt + \"_flux_2\"\n",
    "fluxerr_col = filt + \"_fluxerr_2\"\n",
    "\n",
    "# Find all the optical catalogue sources within the rectangle and those with non-99 magnitudes and SNR >= threshold\n",
    "master_rect_ind = ((field_filter(p_ra_up, p_dec_up, p_ra_down, p_dec_down, master[\"ALPHA_J2000\"], master[\"DELTA_J2000\"])) & (master[mag_col] != null_mag) &\n",
    "                  ~np.isnan(master[mag_col]) & snr_band & flag_cond)\n",
    "\n",
    "print(\"Optical sources used for n(m) calculation: {0}\".format(np.sum(master_rect_ind)))\n",
    "\n",
    "# Get the bin_list for computing n(m) for i band\n",
    "# _, nm_be_i, nm_bc_i = return_hist_par(0.05, master[mag_col][master_rect_ind])\n",
    "\n",
    "nm_be_i, nm_bc_i = gen_binc_binl(7., 35., 0.05)\n",
    "\n",
    "# Get n(m) for the i band\n",
    "nm_i_old = get_n_m(master[mag_col][master_rect_ind], nm_be_i, pan_area)\n",
    "\n",
    "nm_i = get_n_m_kde(master[mag_col][master_rect_ind], nm_bc_i, area=pan_area, bandwidth=0.5)\n",
    "\n",
    "# Print properties of the n(m) distribution\n",
    "print(\"Properties of n(m) in i-band: \")\n",
    "varstat(np.cumsum(nm_i))\n",
    "\n",
    "# Compute sigma for each source\n",
    "# print(\"Diff in PanSTARRS area: \" + str(46390728.8503 - pan_area)+\" arcsec**2\")\n",
    "\n",
    "fig = plt.figure()\n",
    "\n",
    "plt.plot(nm_bc_i, np.cumsum(nm_i))"
   ]
  },
  {
   "cell_type": "code",
   "execution_count": 41,
   "metadata": {},
   "outputs": [],
   "source": [
    "# Write the n(m) distribution to pckl file to compare with the other fields\n",
    "pickle.dump([nm_bc_i, nm_i, nm_i_old], open(\"Bootes_nm_i_2asec.pckl\", \"wb\"))"
   ]
  },
  {
   "cell_type": "markdown",
   "metadata": {},
   "source": [
    "## q(m) PanSTARRS i-band <a class=\"anchor\" id=\"comp-qm_i\"></a>\n",
    "\n",
    "$\\textbf{Definition:}$ q(m) is the apriori probability that the radio source has a counterpart brighter than magnitude m.\n",
    "* Depends on real(m) and Q$_0$"
   ]
  },
  {
   "cell_type": "code",
   "execution_count": 36,
   "metadata": {},
   "outputs": [
    {
     "name": "stdout",
     "output_type": "stream",
     "text": [
      "No. of LOFAR and I-band sources used in analysis from now on:  15291\n",
      "No. of i-band sources used for LR cross-match: 1468723\n"
     ]
    }
   ],
   "source": [
    "lofar_co = SkyCoord(final['RA'], final['DEC'], unit=(u.deg,u.deg),\n",
    "                    frame='icrs')\n",
    "lofar_rect = SkyCoord(deepfull['RA'][radio_rect], deepfull['DEC'][radio_rect], unit=(u.deg,u.deg),\n",
    "                    frame='icrs')\n",
    "\n",
    "# Define i-only sources as sources with a SNR > 3 (or 5) in the i-band\n",
    "i_only_bool = (flag_cond) & (master[mag_col] != null_mag) & (~np.isnan(master[mag_col]) & snr_band)\n",
    "\n",
    "# i_only_bool = (master[mag_col] != 99) & (~np.isnan(master[mag_col]))\n",
    "# print(np.sum(i_only_bool))\n",
    "\n",
    "i_coords = SkyCoord(master['ALPHA_J2000'][i_only_bool], \n",
    "                       master['DELTA_J2000'][i_only_bool],\n",
    "                       unit=(u.deg,u.deg),frame='icrs')\n",
    "\n",
    "print(\"No. of LOFAR and I-band sources used in analysis from now on: \", len(lofar_co))\n",
    "print(\"No. of i-band sources used for LR cross-match: {0}\".format(np.sum(i_only_bool)))"
   ]
  },
  {
   "cell_type": "code",
   "execution_count": 39,
   "metadata": {},
   "outputs": [
    {
     "name": "stdout",
     "output_type": "stream",
     "text": [
      "Unique opt_ind:  23882\n",
      "Unique LOFAR ind:  13230\n"
     ]
    },
    {
     "data": {
      "text/plain": [
       "<matplotlib.legend.Legend at 0x7fb0c14e6c88>"
      ]
     },
     "execution_count": 39,
     "metadata": {},
     "output_type": "execute_result"
    },
    {
     "data": {
      "image/png": "[encoded data removed]",
      "text/plain": [
       "<Figure size 432x288 with 1 Axes>"
      ]
     },
     "metadata": {},
     "output_type": "display_data"
    },
    {
     "data": {
      "image/png": "[encoded data removed]",
      "text/plain": [
       "<Figure size 432x288 with 1 Axes>"
      ]
     },
     "metadata": {},
     "output_type": "display_data"
    }
   ],
   "source": [
    "# Compute q(m)\n",
    "# lofar_rect_cuts = lofar_rect & (deepfull[\"S_Code\"] == \"S\") & (deepfull[\"Maj\"]*3600. <= maj_cut)\n",
    "# lofar_co_test = SkyCoord(deepfull['RA'][lofar_rect_cuts], deepfull['DEC'][lofar_rect_cuts], unit=(u.deg,u.deg),\n",
    "#                    frame='icrs')\n",
    "RMAX = 5.\n",
    "\n",
    "qm_i_old, tm_i, rm_i = get_q_m(lofar_co, i_coords, RMAX,\n",
    "               master[mag_col][i_only_bool], nm_be_i, pan_area, nm_i_old)\n",
    "\n",
    "nm_i = get_n_m_kde(master[mag_col][master_rect_ind], nm_bc_i, area=pan_area, bandwidth=0.5)\n",
    "qm_i = estimate_q_m_kde(master[mag_col][i_only_bool], nm_bc_i, nm_i,\n",
    "                        lofar_co, i_coords, RMAX, bandwidth=0.5)\n",
    "\n",
    "fig = plt.figure()\n",
    "\n",
    "plt.plot(nm_bc_i, np.cumsum(qm_i), label='KDE')\n",
    "plt.plot(nm_bc_i, qm_i_old, label='Cumulative')\n",
    "plt.legend()\n",
    "\n",
    "fig = plt.figure()\n",
    "\n",
    "plt.plot(nm_bc_i, tm_i, color='b', label='total(m)')\n",
    "plt.plot(nm_bc_i, np.pi * RMAX**2 * np.cumsum(nm_i) * (len(lofar_co)), color='r')\n",
    "plt.plot(nm_bc_i, rm_i, label='real(m)')\n",
    "plt.axvline(x=nm_bc_i[np.argmax(rm_i)], ymin=0, ymax=1, color='y')\n",
    "\n",
    "#plt.yscale('log')\n",
    "plt.legend()\n"
   ]
  },
  {
   "cell_type": "code",
   "execution_count": 40,
   "metadata": {},
   "outputs": [],
   "source": [
    "# Write the q(m) distribution to pckl file to compare with the other fields\n",
    "pickle.dump([nm_bc_i, qm_i, qm_i_old], open(\"Bootes_qm_i_2asec.pckl\", \"wb\"))"
   ]
  },
  {
   "cell_type": "markdown",
   "metadata": {},
   "source": [
    "### Compute Q$_0$ <a class=\"anchor\" id=\"comp-q0_i\"></a>"
   ]
  },
  {
   "cell_type": "markdown",
   "metadata": {},
   "source": [
    "#### Firstly, redefine coordinates to include all the sources in the overlapping area"
   ]
  },
  {
   "cell_type": "code",
   "execution_count": 13,
   "metadata": {},
   "outputs": [
    {
     "name": "stdout",
     "output_type": "stream",
     "text": [
      "Timetaken: 3.856074571609497\n",
      "Radius Blanks Random Blanks Q_0\n",
      "1 7128 17704 0.5973791233619521\n",
      "2 3984 16065 0.7520074696545285\n",
      "3 3211 13819 0.7676387582314205\n",
      "4 2737 11395 0.7598069328652918\n",
      "5 2294 9003 0.7451960457625236\n",
      "6 1974 7013 0.718522743476401\n",
      "7 1698 5499 0.691216584833606\n",
      "8 1436 4358 0.6704910509407985\n",
      "9 1231 3598 0.6578654808226793\n"
     ]
    },
    {
     "data": {
      "text/plain": [
       "Text(0, 0.5, '$Q_0$')"
      ]
     },
     "execution_count": 13,
     "metadata": {},
     "output_type": "execute_result"
    },
    {
     "data": {
      "image/png": "[encoded data removed]",
      "text/plain": [
       "<Figure size 432x288 with 1 Axes>"
      ]
     },
     "metadata": {},
     "output_type": "display_data"
    }
   ],
   "source": [
    "# Compute Q_0 for the i band\n",
    "\n",
    "t1 = time.time()\n",
    "\n",
    "# Empty lists to store the output from the PanSTARRS catalogue\n",
    "q0_li = []\n",
    "l_no_m_i = []\n",
    "r_no_m_i = []\n",
    "\n",
    "rad = np.arange(1,10)\n",
    "\n",
    "# Generate random coords\n",
    "rand_coords = generate_rand_pos_bootes(p_ra_up,p_dec_up,p_ra_down,p_dec_down,len(lofar_rect))\n",
    "\n",
    "for k in range(len(rad)):\n",
    "    q0_i, nl_non_i, nr_non_i = get_Q0(lofar_rect, i_coords, rand_coords, float(rad[k]))\n",
    "    q0_li.append(q0_i)\n",
    "    l_no_m_i.append(nl_non_i)\n",
    "    r_no_m_i.append(nr_non_i)\n",
    "\n",
    "print('Timetaken: ' + str(time.time() - t1))\n",
    "\n",
    "print('Radius Blanks Random Blanks Q_0')\n",
    "\n",
    "for aa in range(len(q0_li)):\n",
    "    \n",
    "    print(rad[aa], l_no_m_i[aa], r_no_m_i[aa], q0_li[aa])\n",
    "\n",
    "\n",
    "# Make a plot of Q0 vs radius\n",
    "fig_q0 = plt.figure()\n",
    "\n",
    "plt.plot(rad, q0_li, 'r.')\n",
    "#plt.yscale('log')\n",
    "plt.xlabel('Radius (arcsec)')\n",
    "plt.ylabel('$Q_0$')"
   ]
  },
  {
   "cell_type": "code",
   "execution_count": 14,
   "metadata": {},
   "outputs": [
    {
     "name": "stdout",
     "output_type": "stream",
     "text": [
      "0.7561623016284411\n",
      "Q_0 for i band: 0.7561623016284411\n"
     ]
    }
   ],
   "source": [
    "# Estimate a mean Q_0 value for the i-band\n",
    "mean_Q0_vals = []\n",
    "mean_Q0_i = np.mean(q0_li[1:5])\n",
    "# mean_Q0_i = np.max(q0_li)\n",
    "print(mean_Q0_i)\n",
    "\n",
    "mean_Q0_vals.append(mean_Q0_i)\n",
    "# print(\"TAKING THE MAX of the Q0 vs radius distribution!\")\n",
    "print(\"Q_0 for i band: \" + str(mean_Q0_i))"
   ]
  },
  {
   "cell_type": "markdown",
   "metadata": {},
   "source": [
    "### Compute LR i-band <a class=\"anchor\" id=\"run-lr_i\"></a>"
   ]
  },
  {
   "cell_type": "code",
   "execution_count": 15,
   "metadata": {},
   "outputs": [
    {
     "name": "stdout",
     "output_type": "stream",
     "text": [
      "Sources with i-band detection: 1468723\n"
     ]
    }
   ],
   "source": [
    "# Add the positional uncertainties column\n",
    "opt_pos_err = 0.35 # / 3600.       # In degrees\n",
    "# master[\"ERR_RA\"] = opt_pos_err\n",
    "# master[\"ERR_DEC\"] = opt_pos_err\n",
    "\n",
    "# Make the subset of MASTER catalogue which are in \"i\"\n",
    "master_categ = master[i_only_bool]\n",
    "print(\"Sources with i-band detection: \" + str(len(master_categ)))"
   ]
  },
  {
   "cell_type": "code",
   "execution_count": 16,
   "metadata": {},
   "outputs": [
    {
     "name": "stdout",
     "output_type": "stream",
     "text": [
      "17644\n",
      "No. of radio sources without any positional cross-match: 619\n"
     ]
    }
   ],
   "source": [
    "# First match LOFAR to the MASTER catalogue -\n",
    "# then calculate sigma for all matches in the optical catalogue \n",
    "# to a given LOFAR source\n",
    "\n",
    "# Convert master positions to SkyCoord object\n",
    "master_coords = SkyCoord(master_categ['ALPHA_J2000'], master_categ['DELTA_J2000'],\n",
    "                         unit=(u.deg, u.deg), frame='icrs')\n",
    "\n",
    "# New search radius to match the LOFAR and combined PanSTARRS WISE caalogue\n",
    "lof_opt_rad = 15.\n",
    "\n",
    "# Match the coordinates\n",
    "indx_l, indx_m, s2d, _ = search_around_sky(lofar_co, master_coords, \n",
    "                                           lof_opt_rad*u.arcsec)\n",
    "\n",
    "# This match returns x of possible counterparts within 15'' of a\n",
    "# LOFAR source - compute LR for all x sources wrt the LOFAR source\n",
    "# Take the max value of the LR\n",
    "\n",
    "\n",
    "# Get the indices of LOFAR which have at least one match - only need to calculate LR for these sources\n",
    "ind_l_un = np.unique(indx_l)\n",
    "print(len(ind_l_un))\n",
    "print(\"No. of radio sources without any positional cross-match: {0}\".format(len(lofar_co) - len(ind_l_un)))"
   ]
  },
  {
   "cell_type": "code",
   "execution_count": 17,
   "metadata": {},
   "outputs": [],
   "source": [
    "# Functino to compute ML based on magnitude of possible conterpart and the sigma\n",
    "\n",
    "def apply_ml(i, opt_cat_era, opt_cat_edec, opt_cat_mag, fn_opt_indices, mean_Q0, nm_categ, qm_categ, nm_bc_categ):\n",
    "    \"\"\"\n",
    "    Function which combines previous routines to compute ML values \n",
    "    for each ith LOFAR source that has a match within 15'' to opt/NIR catalogue\n",
    "    \n",
    "    Parameters:\n",
    "    -----------\n",
    "    i : Index of the LOFAR coordinates\n",
    "    opt_cat_era : All of optical RA errors\n",
    "    opt_cat_edec : All of optical Dec errors\n",
    "    opt_cat_mag : All of the optical magnitudes\n",
    "    fn_opt_indices : Field name of indices in MASTER catalogue\n",
    "    mean_Q0 : Mean Q0 value for the band\n",
    "    nm_categ : Cumulative n(m) distribution for the category\n",
    "    qm_categ : Cumulative q(m) distribution for the category\n",
    "    nm_bc_categ : Bin centres from the n(m) distribution\n",
    "    \n",
    "    Returns:\n",
    "    --------\n",
    "    res = [opt_index,dist,lr_value] : [Index into the optical catalogue,\n",
    "                                        Separation to counterpart,\n",
    "                                        LR value]\n",
    "    \"\"\"\n",
    "    \n",
    "    # Get the indices into the corresponding MASTER_category catalogue\n",
    "    indx_o_match = indx_m[indx_l == i]\n",
    "    s2d_o = s2d[indx_l == i]  # The 2d separation of the sources from LOFAR source\n",
    "    \n",
    "    # Indices corresponding to the FULL MASTER catalogue - the -1 to get into python index notation\n",
    "    indx_o_master = master_categ[\"ID\"][indx_o_match]\n",
    "    \n",
    "    # Get the indices into the ACTUAL optical catalogue\n",
    "    # indx_o = master_categ[fn_opt_indices][indx_o_match] -- Not used anymore with new catalogue\n",
    "    \n",
    "    # Now only select the optical catalogue sources which have an index value in master catalogue\n",
    "    # indx_o_match = indx_o_match[indx_o != -99.]\n",
    "    # s2d_o = s2d_o[indx_o != -99.]\n",
    "    # indx_o = indx_o[indx_o != -99.]\n",
    "    \n",
    "    # Get the LOFAR positions and errors\n",
    "    lofar_ra = final['RA'][i]\n",
    "    lofar_dec = final['DEC'][i]\n",
    "    lofar_pa = final['PA'][i]\n",
    "    lofar_maj_err = final['E_Maj'][i]\n",
    "    lofar_min_err = final['E_Min'][i]\n",
    "    \n",
    "    # Get the optical/NIR counterpart positions and positional errors\n",
    "    c_ra = master_categ['ALPHA_J2000'][indx_o_match]\n",
    "    c_dec = master_categ['DELTA_J2000'][indx_o_match]\n",
    "    c_ra_err = opt_cat_era[indx_o_match]\n",
    "    c_dec_err = opt_cat_edec[indx_o_match]\n",
    "    \n",
    "    # Magnitude of the counterparts\n",
    "    c_mag = opt_cat_mag[indx_o_match]\n",
    "    \n",
    "    # Compute the sigma value for the ith LOFAR source and the possible\n",
    "    # len(indx_o) optical counterparts\n",
    "    \n",
    "    \"\"\"sig, sig_maj, sig_min = get_sigma_all_old(lofar_maj_err, lofar_min_err,\n",
    "                                         lofar_pa, lofar_ra, lofar_dec,\n",
    "                                         c_ra, c_dec, c_ra_err, c_dec_err)\"\"\"\n",
    "    \n",
    "    # New corrected angles Gaussian code - sig^2 is actually sigma_0_0 i.e. the average pos err squared?\n",
    "    sigma_0_0, det_sigma = get_sigma_all(lofar_maj_err, lofar_min_err, lofar_pa, \n",
    "                      lofar_ra, lofar_dec, \n",
    "                      c_ra, c_dec, c_ra_err, c_dec_err)\n",
    "    \n",
    "    \n",
    "    \n",
    "    # Compute the LR of all the possible counterparts\n",
    "    # Set the last argument to False if you do not want to apply the F(r) factor to q(m)\n",
    "    c_lr = get_lr(c_mag, mean_Q0, nm_categ, qm_categ, np.sqrt(sigma_0_0), \n",
    "                  sigma_0_0, det_sigma, s2d_o.arcsec, nm_bc_categ, lof_opt_rad, True) \n",
    "    \n",
    "    # Get indices of n=4 maximum values\n",
    "    # lr_max_ind = c_lr.argsort()[-3:][::-1]\n",
    "    \n",
    "    # Get the index of the maximum \n",
    "    lr_max_ind = np.argmax(c_lr)\n",
    "    \n",
    "    \n",
    "    result = [indx_o_master[lr_max_ind],     # i_band_index into the FULL master catalogue\n",
    "              (s2d_o.arcsec)[lr_max_ind],    # Separation between counterpart and LOFAR source\n",
    "              c_lr[lr_max_ind]]              # Max LR value\n",
    "    \n",
    "    return result\n",
    "\n"
   ]
  },
  {
   "cell_type": "code",
   "execution_count": 18,
   "metadata": {},
   "outputs": [
    {
     "name": "stdout",
     "output_type": "stream",
     "text": [
      "10.950337171554565\n",
      "Mean       Median     Std. Dev.  Length     Min        Max        Len_Zeros \n",
      "56.630561  19.521963  85.168412  18263      9.474184055679629e-98 496.145104 0         \n"
     ]
    }
   ],
   "source": [
    "\n",
    "# A wrapper function to use multiple arguments\n",
    "def merge_names_unpack(args):\n",
    "    return apply_ml(*args)\n",
    "\n",
    "# The number of cpu's to use\n",
    "ncpu = mp.cpu_count()\n",
    "ncpu_use = np.max([1, ncpu-1])\n",
    "\n",
    "def run_parallel(i, opt_cat_era, opt_cat_edec, opt_cat_mag, fn_opt_indices, mean_Q0, nm_categ, qm_categ, nm_bc_categ):\n",
    "    \n",
    "    pool = mp.Pool(processes=ncpu_use)\n",
    "    #resu = pool.map(partial(apply_ml, opt_cat_era, opt_cat_edec, opt_cat_mag, \n",
    "    #                          fn_opt_indices, mean_Q0, nm_categ, qm_categ, nm_bc_categ), i)\n",
    "\n",
    "    resu = pool.map(partial(apply_ml, opt_cat_era=opt_cat_era, opt_cat_edec=opt_cat_edec,\n",
    "                                        opt_cat_mag=opt_cat_mag,fn_opt_indices=fn_opt_indices,\n",
    "                                        mean_Q0=mean_Q0, nm_categ=nm_categ, qm_categ=qm_categ, nm_bc_categ=nm_bc_categ),i)\n",
    "\n",
    "    return resu\n",
    "\n",
    "t4 = time.time()\n",
    "# ind_l_un = ind_l_un[:10]\n",
    "\n",
    "res = run_parallel(ind_l_un, opt_pos_err*np.ones(len(master)), opt_pos_err*np.ones(len(master)),\n",
    "                   master_categ[mag_col],'does_not_matter',\n",
    "                   mean_Q0_i, nm_i, qm_i, nm_bc_i)\n",
    "\n",
    "print(time.time() - t4)\n",
    "\n",
    "lr_type = \"i\"\n",
    "\n",
    "# Create columns in the LOFAR catalogue to store the output of ML in iband\n",
    "final[\"lr_\"+lr_type] = np.nan\n",
    "final[\"lr_dist_\"+lr_type] = np.nan\n",
    "final[\"lr_index_\"+lr_type] = np.nan\n",
    "\n",
    "# Map the outputs to a list - all non-matches have a nan value\n",
    "(final[\"lr_index_\"+lr_type][ind_l_un],\n",
    " final[\"lr_dist_\"+lr_type][ind_l_un],\n",
    " final[\"lr_\"+lr_type][ind_l_un]) = list(map(list, zip(*res)))\n",
    "\n",
    "varstat(final[\"lr_\"+lr_type])\n"
   ]
  },
  {
   "cell_type": "markdown",
   "metadata": {},
   "source": [
    "### i-band LR Threshold\n"
   ]
  },
  {
   "cell_type": "code",
   "execution_count": 19,
   "metadata": {},
   "outputs": [
    {
     "name": "stdout",
     "output_type": "stream",
     "text": [
      "Mean       Median     Std. Dev.  Length     Min        Max        Len_Zeros \n",
      "52.198868  18.978968  77.120356  14728      9.462457709220904e-98 465.160889 0         \n"
     ]
    },
    {
     "name": "stderr",
     "output_type": "stream",
     "text": [
      "/disk1/rohitk/miniconda3/lib/python3.6/site-packages/astropy/table/column.py:965: RuntimeWarning: invalid value encountered in greater\n",
      "  return getattr(self.data, op)(other)\n"
     ]
    }
   ],
   "source": [
    "# From older run i.e. when we ran LR on S and Maj < 10'' sources, left here for comparison\n",
    "# varstat(final[\"lr_\"+lr_type][final[\"lr_\"+lr_type] >0.])\n",
    "\"\"\"Mean       Median     Std. Dev.  Length     Min        Max        Len_Zeros \n",
    "52.198868  18.978968  77.120356  14728      9.462457709220904e-98 465.160889 0\"\"\";"
   ]
  },
  {
   "cell_type": "code",
   "execution_count": 19,
   "metadata": {},
   "outputs": [
    {
     "name": "stdout",
     "output_type": "stream",
     "text": [
      "i-band threshold: 2.7865202053290554\n",
      "No of nan LRs: 619\n",
      "No of sources below threshold: 4303\n"
     ]
    },
    {
     "name": "stderr",
     "output_type": "stream",
     "text": [
      "/disk1/rohitk/miniconda3/lib/python3.6/site-packages/astropy/table/column.py:965: RuntimeWarning: invalid value encountered in less\n",
      "  return getattr(self.data, op)(other)\n"
     ]
    },
    {
     "data": {
      "text/plain": [
       "Text(0.5, 0, '$log(LR)$')"
      ]
     },
     "execution_count": 19,
     "metadata": {},
     "output_type": "execute_result"
    },
    {
     "data": {
      "image/png": "[encoded data removed]",
      "text/plain": [
       "<Figure size 432x288 with 1 Axes>"
      ]
     },
     "metadata": {},
     "output_type": "display_data"
    },
    {
     "data": {
      "image/png": "[encoded data removed]",
      "text/plain": [
       "<Figure size 432x288 with 1 Axes>"
      ]
     },
     "metadata": {},
     "output_type": "display_data"
    }
   ],
   "source": [
    "threshold_i = np.nanpercentile(final[\"lr_\"+lr_type], 100*(1 - mean_Q0_i))\n",
    "\n",
    "print(\"i-band threshold: \"+ str(threshold_i))\n",
    "\n",
    "print(\"No of nan LRs: \" + str(len(final[np.isnan(final[\"lr_\"+lr_type])])))\n",
    "\n",
    "print(\"No of sources below threshold: {0}\".format(np.sum(final[\"lr_\"+lr_type] < threshold_i)))\n",
    "\n",
    "fig = plt.figure()\n",
    "lr_be = logspace_bins(0.1, np.nanmax(final[\"lr_\"+lr_type]), 0.05)\n",
    "plt.hist(np.log10(final[\"lr_\"+lr_type][~np.isnan(final[\"lr_\"+lr_type])]), bins=lr_be)\n",
    "plt.axvline(np.log10(threshold_i), 0, 100000, color='r')\n",
    "\n",
    "lr_n, lr_e, _ = return_hist_par(1, final[\"lr_\"+lr_type][~np.isnan(final[\"lr_\"+lr_type])])\n",
    "# print(lr_n)\n",
    "\n",
    "fig = plt.figure()\n",
    "plt.hist(final[\"lr_\"+lr_type][~np.isnan(final[\"lr_\"+lr_type])], bins=lr_e)\n",
    "plt.axvline((threshold_i), 0, 100000, color='r')\n",
    "\n",
    "# plt.xscale('log')\n",
    "plt.yscale('log')\n",
    "#plt.xscale('log')\n",
    "plt.xlabel('$log(LR)$')"
   ]
  },
  {
   "cell_type": "code",
   "execution_count": 20,
   "metadata": {},
   "outputs": [
    {
     "name": "stdout",
     "output_type": "stream",
     "text": [
      "Mean       Median     Std. Dev.  Length     Min        Max        Len_Zeros \n",
      "365.945438 360.015011 44.649446  574        300.19591874310805 496.145104 0         \n",
      "Mean       Median     Std. Dev.  Length     Min        Max        Len_Zeros \n",
      "22.125329  22.261847  1.813957   17644      16.40304850508916 25.669847  0         \n"
     ]
    },
    {
     "name": "stderr",
     "output_type": "stream",
     "text": [
      "/disk1/rohitk/miniconda3/lib/python3.6/site-packages/astropy/table/column.py:965: RuntimeWarning: invalid value encountered in greater\n",
      "  return getattr(self.data, op)(other)\n",
      "/disk1/rohitk/miniconda3/lib/python3.6/site-packages/numpy/core/fromnumeric.py:688: UserWarning: Warning: 'partition' will ignore the 'mask' of the MaskedColumn.\n",
      "  a.partition(kth, axis=axis, kind=kind, order=order)\n"
     ]
    },
    {
     "data": {
      "text/plain": [
       "Text(0, 0.5, '$log(LR)$')"
      ]
     },
     "execution_count": 20,
     "metadata": {},
     "output_type": "execute_result"
    },
    {
     "data": {
      "image/png": "[encoded data removed]",
      "text/plain": [
       "<Figure size 432x288 with 1 Axes>"
      ]
     },
     "metadata": {},
     "output_type": "display_data"
    },
    {
     "data": {
      "image/png": "[encoded data removed]",
      "text/plain": [
       "<Figure size 432x288 with 1 Axes>"
      ]
     },
     "metadata": {},
     "output_type": "display_data"
    }
   ],
   "source": [
    "high_lr = final[\"lr_\"+lr_type] > 300\n",
    "varstat(final[\"lr_\"+lr_type][high_lr])\n",
    "\n",
    "good_lr_ind = (final[\"lr_index_\"+lr_type][~np.isnan(final[\"lr_index_\"+lr_type])]).astype(int)\n",
    "varstat(master[mag_col][(final[\"lr_index_\"+lr_type][~np.isnan(final[\"lr_index_\"+lr_type])]).astype(int)])\n",
    "\n",
    "_, me, mc = return_hist_par(0.1, master[mag_col][good_lr_ind])\n",
    "fig, ax = make_fig()\n",
    "plt.hist(master[mag_col][good_lr_ind], bins=me, histtype='step', lw=1.5)\n",
    "plt.xlabel('$mag_{i,3}$')\n",
    "\n",
    "fig, ax = make_fig()\n",
    "plt.scatter(master[mag_col][good_lr_ind], (final[\"lr_\"+lr_type][~np.isnan(final[\"lr_index_\"+lr_type])]),\n",
    "            s=7, alpha=0.1)\n",
    "plt.yscale('log')\n",
    "plt.ylim([0.1, 1000])\n",
    "plt.xlabel('$mag_{i,3}$')\n",
    "plt.ylabel('$log(LR)$')"
   ]
  },
  {
   "cell_type": "markdown",
   "metadata": {},
   "source": [
    "## Spitzer Ch2 filter <a class=\"anchor\" id=\"k-analysis\"></a>"
   ]
  },
  {
   "cell_type": "code",
   "execution_count": 22,
   "metadata": {},
   "outputs": [],
   "source": [
    "# Define the mag column and the filter\n",
    "filt = \"ch2\"\n",
    "mag_col = filt + \"_mag_3\"\n",
    "flux_col = filt + \"_flux_3\"\n",
    "fluxerr_col = filt + \"_fluxerr_3\"\n",
    "\n",
    "# Get the sources with SNR > threshold in the filter\n",
    "snr_band = (master[flux_col] / master[fluxerr_col] >= snr_th)"
   ]
  },
  {
   "cell_type": "code",
   "execution_count": 23,
   "metadata": {},
   "outputs": [
    {
     "name": "stdout",
     "output_type": "stream",
     "text": [
      "No. of ch2 sources in rectangular area: 175708\n"
     ]
    }
   ],
   "source": [
    "# Find all the optical catalogue sources within the rectangle and those with non-99 magnitudes\n",
    "master_rect_ind = ((field_filter(p_ra_up, p_dec_up, p_ra_down, p_dec_down, master[\"ALPHA_J2000\"], master[\"DELTA_J2000\"])) &\n",
    "                   (master[mag_col] != null_mag) & (~np.isnan(master[mag_col])) & flag_cond & snr_band)\n",
    "\n",
    "# Flag_cond select all sources which have a DEEP_FLAG = 1 or -99 (i.e. Spitzer-only sources)\n",
    "\n",
    "print(\"No. of ch2 sources in rectangular area: \" + str(np.sum(master_rect_ind)))"
   ]
  },
  {
   "cell_type": "markdown",
   "metadata": {},
   "source": [
    "### n(m) Spitzer 4.5$\\mu$m <a class=\"anchor\" id=\"comp-nm_k\"></a>"
   ]
  },
  {
   "cell_type": "code",
   "execution_count": 24,
   "metadata": {},
   "outputs": [
    {
     "name": "stdout",
     "output_type": "stream",
     "text": [
      "Properties of n(m) in K-band: \n",
      "Mean       Median     Std. Dev.  Length     Min        Max        Len_Zeros \n",
      "0.002622   0.001554   0.002606   559        9.098559160603292e-32 0.005484   0         \n"
     ]
    },
    {
     "data": {
      "text/plain": [
       "<matplotlib.legend.Legend at 0x7fb0c17504a8>"
      ]
     },
     "execution_count": 24,
     "metadata": {},
     "output_type": "execute_result"
    },
    {
     "data": {
      "image/png": "[encoded data removed]",
      "text/plain": [
       "<Figure size 432x288 with 1 Axes>"
      ]
     },
     "metadata": {},
     "output_type": "display_data"
    }
   ],
   "source": [
    "# Get the bin_list for computing n(m) for g band\n",
    "# _, nm_be_k, nm_bc_k = return_hist_par(0.05, master[mag_col][master_rect_ind])\n",
    "\n",
    "nm_be_k, nm_bc_k = gen_binc_binl(7., 35., 0.05)\n",
    "\n",
    "# Get n(m) for the g band\n",
    "nm_k_old = get_n_m(master[mag_col][master_rect_ind], nm_be_k, pan_area)\n",
    "\n",
    "nm_k = get_n_m_kde(master[mag_col][master_rect_ind], nm_bc_k, area=pan_area, bandwidth=0.5)\n",
    "\n",
    "# Print properties of the n(m) distribution\n",
    "print(\"Properties of n(m) in K-band: \")\n",
    "varstat(np.cumsum(nm_k))\n",
    "\n",
    "fig = plt.figure()\n",
    "\n",
    "plt.plot(nm_bc_k, np.cumsum(nm_k), label='KDE')\n",
    "plt.plot(nm_bc_k, nm_k_old, label='Cumulative')\n",
    "plt.xlabel('$mag_{4.5}$')\n",
    "plt.legend()\n"
   ]
  },
  {
   "cell_type": "code",
   "execution_count": 26,
   "metadata": {},
   "outputs": [],
   "source": [
    "# Write the n(m) distribution to pckl file to compare with the other fields\n",
    "pickle.dump([nm_bc_k, nm_k, nm_k_old], open(\"Bootes_nm_ir_3asec.pckl\", \"wb\"))"
   ]
  },
  {
   "cell_type": "markdown",
   "metadata": {},
   "source": [
    "### q(m) Spitzer 4.5 $\\mu$m <a class=\"anchor\" id=\"comp-qm_k\"></a>"
   ]
  },
  {
   "cell_type": "code",
   "execution_count": 28,
   "metadata": {},
   "outputs": [
    {
     "name": "stdout",
     "output_type": "stream",
     "text": [
      "No. of LOFAR and I-band sources used in analysis from now on:  15291\n",
      "No. of i-band sources used for LR cross-match: 803759\n"
     ]
    }
   ],
   "source": [
    "# Redefine the coordinates list to include all the overlapping sources (NOT only in rectangle)\n",
    "# Define i-only sources as sources with a SNR > 3 (or 5) in the i-band\n",
    "snr_th = 3.\n",
    "\n",
    "ir_only_bool = ((master[flux_col] / master[fluxerr_col] >= snr_th) &\n",
    "               (master[mag_col] != -99) & (~np.isnan(master[mag_col])) & (master[\"FLAG_DEEP\"] == 1))\n",
    "\n",
    "ir_only_bool = ((master[flux_col] / master[fluxerr_col] >= snr_th) & master[\"FLAG_DEEP\"] == 1)\n",
    "\n",
    "ir_only_bool = (flag_cond) & (master[mag_col] != null_mag) & (~np.isnan(master[mag_col])) & snr_band\n",
    "\n",
    "# i_only_bool = (master[mag_col] != 99) & (~np.isnan(master[mag_col]))\n",
    "# print(np.sum(i_only_bool))\n",
    "\n",
    "ir_coords = SkyCoord(master['ALPHA_J2000'][ir_only_bool], \n",
    "                       master['DELTA_J2000'][ir_only_bool],\n",
    "                       unit=(u.deg,u.deg),frame='icrs')\n",
    "\n",
    "print(\"No. of LOFAR and I-band sources used in analysis from now on: \", len(lofar_co))\n",
    "print(\"No. of i-band sources used for LR cross-match: {0}\".format(np.sum(ir_only_bool)))"
   ]
  },
  {
   "cell_type": "code",
   "execution_count": 31,
   "metadata": {},
   "outputs": [
    {
     "name": "stdout",
     "output_type": "stream",
     "text": [
      "Unique opt_ind:  23093\n",
      "Unique LOFAR ind:  14038\n",
      "q(m) statistics: \n",
      "Mean       Median     Std. Dev.  Length     Min        Max        Len_Zeros \n",
      "0.001789   0.0        0.004292   559        0.0 0.018268   226       \n",
      "6660610\n",
      "real m\n",
      "4903801.039030591\n"
     ]
    },
    {
     "data": {
      "image/png": "[encoded data removed]",
      "text/plain": [
       "<Figure size 432x288 with 1 Axes>"
      ]
     },
     "metadata": {},
     "output_type": "display_data"
    },
    {
     "data": {
      "image/png": "[encoded data removed]",
      "text/plain": [
       "<Figure size 432x288 with 1 Axes>"
      ]
     },
     "metadata": {},
     "output_type": "display_data"
    },
    {
     "data": {
      "image/png": "[encoded data removed]",
      "text/plain": [
       "<Figure size 432x288 with 1 Axes>"
      ]
     },
     "metadata": {},
     "output_type": "display_data"
    }
   ],
   "source": [
    "RMAX = 5.\n",
    "\n",
    "\n",
    "qm_k_old, tm_k, rm_k = get_q_m(lofar_co, ir_coords, RMAX,\n",
    "               master[mag_col][(ir_only_bool)], nm_be_k, pan_area, nm_k_old)\n",
    "\n",
    "qm_k = estimate_q_m_kde(master[mag_col][ir_only_bool], nm_bc_k, nm_k,\n",
    "                        lofar_co, ir_coords, RMAX, bandwidth=0.5)\n",
    "\n",
    "fig = plt.figure()\n",
    "plt.plot(nm_bc_k, np.cumsum(qm_k), label='KDE')\n",
    "plt.plot(nm_bc_k, qm_k_old, label='Cumulative')\n",
    "plt.legend()\n",
    "\n",
    "fig = plt.figure()\n",
    "plt.plot(nm_bc_k, tm_k, color='b', label='tm')\n",
    "plt.plot(nm_bc_k, np.pi*RMAX**2*np.cumsum(nm_k)*len(lofar_co), color='r')\n",
    "plt.legend()\n",
    "\n",
    "fig = plt.figure()\n",
    "\n",
    "plt.plot(nm_bc_k, rm_k)\n",
    "\n",
    "print(\"q(m) statistics: \")\n",
    "varstat(qm_k)\n",
    "\n",
    "print(np.sum(tm_k))\n",
    "print(\"real m\")\n",
    "print(np.sum(rm_k))"
   ]
  },
  {
   "cell_type": "code",
   "execution_count": 32,
   "metadata": {},
   "outputs": [],
   "source": [
    "# Write the q(m) distribution to pckl file to compare with the other fields\n",
    "pickle.dump([nm_bc_k, qm_k, qm_k_old], open(\"Bootes_qm_ir_3asec.pckl\", \"wb\"))"
   ]
  },
  {
   "cell_type": "markdown",
   "metadata": {},
   "source": [
    "## Compute Q$_0$ <a class=\"anchor\" id=\"comp-Q0_k\"></a>"
   ]
  },
  {
   "cell_type": "code",
   "execution_count": 26,
   "metadata": {},
   "outputs": [
    {
     "name": "stdout",
     "output_type": "stream",
     "text": [
      "Timetaken: 3.0153725147247314\n",
      "Radius Blanks Random Blanks Q_0\n",
      "1 5610 17948 0.6874303543570315\n",
      "2 2167 17049 0.8728957710129627\n",
      "3 1630 15646 0.8958200178959479\n",
      "4 1452 13978 0.8961224781799971\n",
      "5 1338 12123 0.8896312793862905\n",
      "6 1244 10371 0.8800501398129399\n",
      "7 1127 8645 0.8696356275303644\n",
      "8 1003 7078 0.8582933031929924\n",
      "9 889 5754 0.8454987834549879\n"
     ]
    },
    {
     "data": {
      "text/plain": [
       "Text(0, 0.5, '$Q_0$')"
      ]
     },
     "execution_count": 26,
     "metadata": {},
     "output_type": "execute_result"
    },
    {
     "data": {
      "image/png": "[encoded data removed]",
      "text/plain": [
       "<Figure size 432x288 with 1 Axes>"
      ]
     },
     "metadata": {},
     "output_type": "display_data"
    }
   ],
   "source": [
    "# Compute Q_0 for the g band\n",
    "\n",
    "t1 = time.time()\n",
    "\n",
    "# Empty lists to store the output from the PanSTARRS catalogue\n",
    "q0_lk = []\n",
    "l_no_m_k = []\n",
    "r_no_m_k = []\n",
    "\n",
    "rad = np.arange(1,10)\n",
    "\n",
    "# DON'T GENERATE THE RANDOM COORDINATES AGAIN\n",
    "\n",
    "# Generate random coords\n",
    "rand_coords = generate_rand_pos_bootes(p_ra_up,p_dec_up,p_ra_down,p_dec_down,len(lofar_rect))\n",
    "\n",
    "for k in range(len(rad)):\n",
    "    q0_k, nl_non_k, nr_non_k = get_Q0(lofar_rect, ir_coords, rand_coords, float(rad[k]))\n",
    "    q0_lk.append(q0_k)\n",
    "    l_no_m_k.append(nl_non_k)\n",
    "    r_no_m_k.append(nr_non_k)\n",
    "\n",
    "print('Timetaken: ' + str(time.time() - t1))\n",
    "\n",
    "print('Radius Blanks Random Blanks Q_0')\n",
    "\n",
    "for aa in range(len(q0_lk)):\n",
    "    \n",
    "    print(rad[aa], l_no_m_k[aa], r_no_m_k[aa], q0_lk[aa])\n",
    "\n",
    "\n",
    "# Make a plot of Q0 vs radius\n",
    "fig_q0 = plt.figure()\n",
    "\n",
    "plt.plot(rad, q0_lk, 'r.')\n",
    "#plt.yscale('log')\n",
    "plt.xlabel('Radius (arcsec)')\n",
    "plt.ylabel('$Q_0$')"
   ]
  },
  {
   "cell_type": "code",
   "execution_count": 27,
   "metadata": {},
   "outputs": [
    {
     "name": "stdout",
     "output_type": "stream",
     "text": [
      "Q_0 for K-band: 0.8886173866187995\n"
     ]
    }
   ],
   "source": [
    "# Estimate a mean Q_0 value for the i-band\n",
    "\n",
    "mean_Q0_k = np.mean(q0_lk[1:5])\n",
    "# mean_Q0_k = np.max(q0_lk)\n",
    "\n",
    "print(\"Q_0 for K-band: \" + str(mean_Q0_k))\n",
    "mean_Q0_vals.append(mean_Q0_k)"
   ]
  },
  {
   "cell_type": "markdown",
   "metadata": {},
   "source": [
    "## Compute LR for K-band <a class=\"anchor\" id=\"comp-lr_k\"></a>"
   ]
  },
  {
   "cell_type": "code",
   "execution_count": 28,
   "metadata": {},
   "outputs": [
    {
     "name": "stdout",
     "output_type": "stream",
     "text": [
      "Sources with Spitzer ch2 detection: 803759\n"
     ]
    }
   ],
   "source": [
    "# Define the sub catalogue of master sources that are \"K_only\"\n",
    "master_categ = master[ir_only_bool]\n",
    "print(\"Sources with Spitzer ch2 detection: \" + str(len(master_categ)))"
   ]
  },
  {
   "cell_type": "code",
   "execution_count": 29,
   "metadata": {},
   "outputs": [
    {
     "name": "stdout",
     "output_type": "stream",
     "text": [
      "17895\n",
      "No. of radio sources without any positional cross-match: 368\n"
     ]
    }
   ],
   "source": [
    "# First match LOFAR to the MASTER catalogue -\n",
    "# then calculate sigma for all matches in the optical catalogue \n",
    "# to a given LOFAR source\n",
    "\n",
    "# Convert master positions to SkyCoord object\n",
    "master_coords = SkyCoord(master_categ['ALPHA_J2000'], master_categ['DELTA_J2000'],\n",
    "                         unit=(u.deg, u.deg), frame='icrs')\n",
    "\n",
    "# New search radius to match the LOFAR and combined PanSTARRS WISE caalogue\n",
    "lof_opt_rad = 15.\n",
    "\n",
    "# Match the coordinates\n",
    "indx_l, indx_m, s2d, _ = search_around_sky(lofar_co, master_coords, \n",
    "                                           lof_opt_rad*u.arcsec)\n",
    "\n",
    "# Get the indices of LOFAR which have at least one match - only need to calculate LR for these sources\n",
    "ind_l_un = np.unique(indx_l)\n",
    "print(len(ind_l_un))\n",
    "print(\"No. of radio sources without any positional cross-match: {0}\".format(len(lofar_co) - len(ind_l_un)))"
   ]
  },
  {
   "cell_type": "code",
   "execution_count": 30,
   "metadata": {},
   "outputs": [
    {
     "name": "stdout",
     "output_type": "stream",
     "text": [
      "8.699378967285156\n",
      "Mean       Median     Std. Dev.  Length     Min        Max        Len_Zeros \n",
      "157.343373 83.617974  195.407741 18263      0.0 1224.293776 4         \n"
     ]
    }
   ],
   "source": [
    "# Run the ML function\n",
    "\n",
    "# Pixel scale for the K-band - to convert from xErr to raErr, etc\n",
    "K_pix_scale = 0.2\n",
    "\n",
    "t3 = time.time()\n",
    "\n",
    "\n",
    "# Run the apply_ml function and store the values in res as a list\n",
    "\"\"\"res = []\n",
    "for aa in ind_l_un:\n",
    "    res.append(apply_ml(aa,K_pix_scale*ukidss_cat['xErr'],K_pix_scale*ukidss_cat['yErr'],\n",
    "                        ukidss_cat['kHallMag'],'K_band_index',mean_Q0_k, nm_k, qm_k, nm_bc_k))\n",
    "\n",
    "print(time.time() - t3)\n",
    "\"\"\";\n",
    "\n",
    "t4 = time.time()\n",
    "\n",
    "res = run_parallel(ind_l_un, opt_pos_err*np.ones(len(master)), opt_pos_err*np.ones(len(master)),\n",
    "                        master_categ[mag_col], 'does_not_matter',mean_Q0_k, nm_k, qm_k, nm_bc_k)\n",
    "\n",
    "print(time.time() - t4)\n",
    "\n",
    "lr_type = \"ch2\"\n",
    "# Create columns in the LOFAR catalogue to store the output of ML in iband\n",
    "final[\"lr_\"+lr_type] = np.nan\n",
    "final[\"lr_dist_\"+lr_type] = np.nan\n",
    "final[\"lr_index_\"+lr_type] = np.nan\n",
    "\n",
    "# Map the outputs to a list - all non-matches have a nan value\n",
    "(final[\"lr_index_\"+lr_type][ind_l_un],\n",
    " final[\"lr_dist_\"+lr_type][ind_l_un],\n",
    " final[\"lr_\"+lr_type][ind_l_un]) = list(map(list, zip(*res)))\n",
    "\n",
    "# Convert the index into ints as the map converts them to float\n",
    "# final[\"lr_index_K\"] = final[\"lr_index_K\"].astype(int)\n",
    "\n",
    "varstat(final[\"lr_\"+lr_type])"
   ]
  },
  {
   "cell_type": "code",
   "execution_count": 31,
   "metadata": {},
   "outputs": [
    {
     "name": "stdout",
     "output_type": "stream",
     "text": [
      "ch2-band threshold: 5.741713577977949\n",
      "No of nan LRs: 368\n",
      "No of sources below threshold: 1994\n"
     ]
    },
    {
     "name": "stderr",
     "output_type": "stream",
     "text": [
      "/disk1/rohitk/miniconda3/lib/python3.6/site-packages/astropy/table/column.py:965: RuntimeWarning: invalid value encountered in less\n",
      "  return getattr(self.data, op)(other)\n",
      "/disk1/rohitk/miniconda3/lib/python3.6/site-packages/ipykernel_launcher.py:11: RuntimeWarning: divide by zero encountered in log10\n",
      "  # This is added back by InteractiveShellApp.init_path()\n"
     ]
    },
    {
     "data": {
      "text/plain": [
       "Text(0.5, 0, '$log(LR)$')"
      ]
     },
     "execution_count": 31,
     "metadata": {},
     "output_type": "execute_result"
    },
    {
     "data": {
      "image/png": "[encoded data removed]",
      "text/plain": [
       "<Figure size 432x288 with 1 Axes>"
      ]
     },
     "metadata": {},
     "output_type": "display_data"
    },
    {
     "data": {
      "image/png": "[encoded data removed]",
      "text/plain": [
       "<Figure size 432x288 with 1 Axes>"
      ]
     },
     "metadata": {},
     "output_type": "display_data"
    }
   ],
   "source": [
    "threshold_ch2 = np.nanpercentile(final[\"lr_\"+lr_type], 100*(1 - mean_Q0_k))\n",
    "\n",
    "print(\"ch2-band threshold: \"+ str(threshold_ch2))\n",
    "\n",
    "print(\"No of nan LRs: \" + str(len(final[np.isnan(final[\"lr_\"+lr_type])])))\n",
    "\n",
    "print(\"No of sources below threshold: {0}\".format(np.sum(final[\"lr_\"+lr_type] < threshold_ch2)))\n",
    "\n",
    "fig = plt.figure()\n",
    "lr_be = logspace_bins(0.1, np.nanmax(final[\"lr_\"+lr_type]), 0.05)\n",
    "plt.hist(np.log10(final[\"lr_\"+lr_type][~np.isnan(final[\"lr_\"+lr_type])]), bins=lr_be)\n",
    "plt.axvline(np.log10(threshold_ch2), 0, 100000, color='r')\n",
    "\n",
    "lr_n, lr_e, _ = return_hist_par(1, final[\"lr_\"+lr_type][~np.isnan(final[\"lr_\"+lr_type])])\n",
    "# print(lr_n)\n",
    "\n",
    "fig = plt.figure()\n",
    "plt.hist(final[\"lr_\"+lr_type][~np.isnan(final[\"lr_\"+lr_type])], bins=lr_e)\n",
    "plt.axvline((threshold_ch2), 0, 100000, color='r')\n",
    "\n",
    "# plt.xscale('log')\n",
    "plt.yscale('log')\n",
    "#plt.xscale('log')\n",
    "plt.xlabel('$log(LR)$')"
   ]
  },
  {
   "cell_type": "code",
   "execution_count": 32,
   "metadata": {},
   "outputs": [
    {
     "name": "stdout",
     "output_type": "stream",
     "text": [
      "Mean       Median     Std. Dev.  Length     Min        Max        Len_Zeros \n",
      "523.030582 462.640207 198.770703 2955       300.0244203357923 1224.293776 0         \n",
      "Mean       Median     Std. Dev.  Length     Min        Max        Len_Zeros \n",
      "19.988079  19.913254  1.083214   17895      12.143552608004494 23.292252  0         \n"
     ]
    },
    {
     "name": "stderr",
     "output_type": "stream",
     "text": [
      "/disk1/rohitk/miniconda3/lib/python3.6/site-packages/astropy/table/column.py:965: RuntimeWarning: invalid value encountered in greater\n",
      "  return getattr(self.data, op)(other)\n",
      "/disk1/rohitk/miniconda3/lib/python3.6/site-packages/numpy/core/fromnumeric.py:688: UserWarning: Warning: 'partition' will ignore the 'mask' of the MaskedColumn.\n",
      "  a.partition(kth, axis=axis, kind=kind, order=order)\n"
     ]
    },
    {
     "data": {
      "text/plain": [
       "Text(0, 0.5, '$log(LR)$')"
      ]
     },
     "execution_count": 32,
     "metadata": {},
     "output_type": "execute_result"
    },
    {
     "data": {
      "image/png": "[encoded data removed]",
      "text/plain": [
       "<Figure size 432x288 with 1 Axes>"
      ]
     },
     "metadata": {},
     "output_type": "display_data"
    },
    {
     "data": {
      "image/png": "[encoded data removed]",
      "text/plain": [
       "<Figure size 432x288 with 1 Axes>"
      ]
     },
     "metadata": {},
     "output_type": "display_data"
    }
   ],
   "source": [
    "high_lr = final[\"lr_\"+lr_type] > 300\n",
    "varstat(final[\"lr_\"+lr_type][high_lr])\n",
    "\n",
    "good_lr_ind = (final[\"lr_index_\"+lr_type][~np.isnan(final[\"lr_index_\"+lr_type])]).astype(int)\n",
    "varstat(master[mag_col][(final[\"lr_index_\"+lr_type][~np.isnan(final[\"lr_index_\"+lr_type])]).astype(int)])\n",
    "\n",
    "_, me, mc = return_hist_par(0.1, master[mag_col][good_lr_ind])\n",
    "fig, ax = make_fig()\n",
    "plt.hist(master[mag_col][good_lr_ind], bins=me, histtype='step', lw=1.5)\n",
    "plt.xlabel('$mag_{i,3}$')\n",
    "\n",
    "fig, ax = make_fig()\n",
    "plt.scatter(master[mag_col][good_lr_ind], (final[\"lr_\"+lr_type][~np.isnan(final[\"lr_index_\"+lr_type])]),\n",
    "            s=7, alpha=0.1)\n",
    "plt.yscale('log')\n",
    "plt.ylim([0.1, 10000])\n",
    "plt.xlabel('$mag_{ch2,3}$')\n",
    "plt.ylabel('$log(LR)$')"
   ]
  },
  {
   "cell_type": "markdown",
   "metadata": {},
   "source": [
    "# Run until here for now #"
   ]
  },
  {
   "cell_type": "code",
   "execution_count": 33,
   "metadata": {},
   "outputs": [],
   "source": [
    "# Make a directory based on when the code is run to store output\n",
    "\n",
    "if workflow_iter:\n",
    "    add_str = \"_workflow\"\n",
    "else:\n",
    "    add_str = \"\"\n",
    "\n",
    "# Make the general directory to store the catalogue\n",
    "if os.path.exists(strftime(\"run1_matches\"+add_str+\"/%d_%m_%Y_1\")):\n",
    "    # Get list of directories created today\n",
    "    outdir_name = strftime(\"run1_matches\"+add_str+\"/%d_%m_%Y\")\n",
    "    dirs_today = sorted(glob.glob(outdir_name+\"*\"))\n",
    "\n",
    "    # Now create a new output directory name by adding one to the last number\n",
    "    last_num = int(dirs_today[-1][-1])\n",
    "    \n",
    "    # Now finally create the directory\n",
    "    outdir_name = outdir_name+\"_\"+str(last_num+1)\n",
    "    print(outdir_name)\n",
    "    os.makedirs(outdir_name)\n",
    "else:\n",
    "    outdir_name = strftime(\"run1_matches\"+add_str+\"/%d_%m_%Y_1\")\n",
    "    os.makedirs(outdir_name)\n"
   ]
  },
  {
   "cell_type": "code",
   "execution_count": 34,
   "metadata": {},
   "outputs": [
    {
     "data": {
      "text/plain": [
       "'run1_matches_workflow/05_04_2019_1'"
      ]
     },
     "execution_count": 34,
     "metadata": {},
     "output_type": "execute_result"
    }
   ],
   "source": [
    "outdir_name"
   ]
  },
  {
   "cell_type": "code",
   "execution_count": 35,
   "metadata": {},
   "outputs": [
    {
     "name": "stderr",
     "output_type": "stream",
     "text": [
      "/disk1/rohitk/miniconda3/lib/python3.6/site-packages/astropy/table/column.py:965: RuntimeWarning: invalid value encountered in less\n",
      "  return getattr(self.data, op)(other)\n"
     ]
    },
    {
     "name": "stdout",
     "output_type": "stream",
     "text": [
      "369.06297540664673\n",
      "Mean Q0s: \n",
      "[0.7561623016284411, 0.8886173866187995]\n"
     ]
    }
   ],
   "source": [
    "# Edit sources such that soucres below threshold are nans\n",
    "\n",
    "# run_type = \"1_faint\"\n",
    "run_type = \"1\"\n",
    "\n",
    "field = \"Bootes\"\n",
    "\n",
    "# Write the matches before setting threshold to be nan's\n",
    "final.write(outdir_name + '/' + field + '_ML_RUN'+run_type + cat_type, format='ascii', overwrite=True)\n",
    "final.write(outdir_name + '/' + field + '_ML_RUN'+run_type+cat_type+'.fits', format='fits', overwrite=True)\n",
    "\n",
    "final[\"lr_index_i\"][final[\"lr_i\"] < threshold_i] = np.nan\n",
    "final[\"lr_index_ch2\"][final[\"lr_ch2\"] < threshold_ch2] = np.nan\n",
    "\n",
    "final[\"lr_dist_i\"][final[\"lr_i\"] < threshold_i] = np.nan\n",
    "final[\"lr_dist_ch2\"][final[\"lr_ch2\"] < threshold_ch2] = np.nan\n",
    "\n",
    "final[\"lr_i\"][final[\"lr_i\"] < threshold_i] = np.nan\n",
    "final[\"lr_ch2\"][final[\"lr_ch2\"] < threshold_ch2] = np.nan\n",
    "\n",
    "final.write(outdir_name + '/' + field + '_ML_RUN'+run_type+cat_type+'_nanth', format='ascii', overwrite=True)\n",
    "final.write(outdir_name + '/' + field + '_ML_RUN'+run_type+cat_type+'_nanth.fits', format='fits', overwrite=True)\n",
    "\n",
    "print(time.time() - ts)\n",
    "print(\"Mean Q0s: \")\n",
    "print(mean_Q0_vals)\n",
    "\n",
    "run1_filts = [\"i\", \"ch2\"]\n",
    "\n",
    "# Write the mean Q0s to pckl file too\n",
    "pickle.dump([run1_filts, mean_Q0_vals], open(outdir_name + \"/run1_filts_and_mean_Q0.pckl\", \"wb\"))"
   ]
  },
  {
   "cell_type": "code",
   "execution_count": 36,
   "metadata": {},
   "outputs": [
    {
     "name": "stdout",
     "output_type": "stream",
     "text": [
      "LR > threshold i: 13341\n",
      "LR > threshold IR: 15901\n",
      "LR > threshold in both optical and IR: 13224, 0.7240869517603898\n",
      "LR > threshold in optical OR IR: 16018, 0.8770738651919181\n"
     ]
    },
    {
     "name": "stderr",
     "output_type": "stream",
     "text": [
      "/disk1/rohitk/miniconda3/lib/python3.6/site-packages/astropy/table/column.py:965: RuntimeWarning: invalid value encountered in greater_equal\n",
      "  return getattr(self.data, op)(other)\n"
     ]
    }
   ],
   "source": [
    "good_lr_i = final[\"lr_i\"] >= threshold_i\n",
    "good_lr_ir = final[\"lr_ch2\"] >= threshold_ch2\n",
    "print(\"LR > threshold i: {0}\".format(np.sum(good_lr_i)))\n",
    "print(\"LR > threshold IR: {0}\".format(np.sum(good_lr_ir)))\n",
    "\n",
    "print(\"LR > threshold in both optical and IR: {0}, {1}\".format(np.sum(good_lr_i & good_lr_ir), np.sum(good_lr_i & good_lr_ir)/len(final)))\n",
    "print(\"LR > threshold in optical OR IR: {0}, {1}\".format(np.sum(good_lr_i | good_lr_ir), np.sum(good_lr_i | good_lr_ir)/len(final)))\n"
   ]
  },
  {
   "cell_type": "code",
   "execution_count": 37,
   "metadata": {},
   "outputs": [
    {
     "name": "stdout",
     "output_type": "stream",
     "text": [
      "No. of sources above threshold in any band: 16018\n",
      "Frac. of LOFAR sources above threshold : 0.8770738651919181\n"
     ]
    }
   ],
   "source": [
    "# Find the number of sources above the threshold in any of the bands\n",
    "n_th = (~np.isnan(final[\"lr_i\"]) | ~np.isnan(final[\"lr_ch2\"]))\n",
    "print(\"No. of sources above threshold in any band: \" + str(len(final[n_th])))\n",
    "\n",
    "print(\"Frac. of LOFAR sources above threshold : \" + str(len(final[n_th])/float(len(final))))\n",
    "\n",
    "\n",
    "# To be finished--------------------------\n",
    "# Now assign a lr_1, lr_index_1 and lr_dist_1 to each LOFAR sources based on the maximum LR value in any of the bands\n",
    "\n",
    "\"\"\"\n",
    "# First category - Match in all of the sources\n",
    "final[\"lr_1\"] = np.nan\n",
    "final[\"lr_1\"][n_th] = np.max((final[\"lr_i\"][n_th], final[\"lr_g\"][n_th], \n",
    "                           final[\"lr_K\"][n_th], final[\"lr_s\"][n_th]), axis=0)\n",
    "final[\"lr_type_1\"] = 0\n",
    "final[\"lr_type_1\"][n_th] = np.argmax((final[\"lr_i\"][n_th], final[\"lr_g\"][n_th], \n",
    "                           final[\"lr_K\"][n_th], final[\"lr_s\"][n_th]), axis=0) + 1\n",
    "\"\"\";\n",
    "#--------------------------------------------"
   ]
  },
  {
   "cell_type": "code",
   "execution_count": 38,
   "metadata": {},
   "outputs": [
    {
     "data": {
      "text/plain": [
       "0"
      ]
     },
     "execution_count": 38,
     "metadata": {},
     "output_type": "execute_result"
    }
   ],
   "source": [
    "# Move the HTML notebook to the output directory\n",
    "os.system(\"jupyter-nbconvert MaxL_RUN1_bootes.ipynb && mv MaxL_RUN1_bootes.html {0}\".format(outdir_name))"
   ]
  },
  {
   "cell_type": "markdown",
   "metadata": {},
   "source": [
    "### i-K and g-i colour categories <a class=\"anchor\" id=\"gik_col_cat\"></a>"
   ]
  },
  {
   "cell_type": "code",
   "execution_count": null,
   "metadata": {},
   "outputs": [],
   "source": [
    "# master indices\n",
    "master_indices_arr = np.arange(len(master))"
   ]
  },
  {
   "cell_type": "code",
   "execution_count": null,
   "metadata": {},
   "outputs": [],
   "source": [
    "# i-K colour\n",
    "master[\"iK_col\"] = np.nan\n",
    "master[\"iK_col\"] = master[\"i_psfMag\"] - master[\"kHallMag\"]\n",
    "\n",
    "# g-i colours\n",
    "master[\"gi_col\"] = np.nan\n",
    "master[\"gi_col\"] = master[\"g_psfMag\"] - master[\"i_psfMag\"]\n",
    "\n",
    "# Separate the objects into the i-K colour indices\n",
    "\n",
    "# Colour bin width\n",
    "col_bin_width = 0.2\n",
    "\n",
    "# Number of i-K colour bins\n",
    "n_ik_bins = len(np.arange(3.5,4.9, col_bin_width)) + 1\n",
    "\n",
    "# Generate the un-even width colour bins\n",
    "iK_col_bins = np.zeros(n_ik_bins)\n",
    "iK_col_bins[0] = 3.0\n",
    "iK_col_bins[1:] = np.arange(3.5,4.9,col_bin_width)\n",
    "iK_col_bins[6] = 4.6\n",
    "iK_col_bins[7] = 5.\n",
    "iK_col_bins[8] = 6.\n",
    "\n",
    "print(\"i-K bins: \")\n",
    "print(iK_col_bins)\n",
    "\n",
    "def get_giK_bin_indices(iK_bin_list):\n",
    "    \"\"\"\n",
    "    Get the indices of objects in each giK colour bins \n",
    "    10 i-K colour bins --> further divided into 2 equal g-i colour halves\n",
    "    \n",
    "    Parameters:\n",
    "    -----------\n",
    "    \n",
    "    iK_bin_list : Bin list of i-K colours\n",
    "    \n",
    "    Returns:\n",
    "    --------\n",
    "    [iK_ind, : Indices in each i-K bin\n",
    "    gi_upper, : Indices in upper g-i bin for each jth i-K bin\n",
    "    gi_lower] : Indices in lower g-i bin for each jth i-K bin\n",
    "    \"\"\"\n",
    "    \n",
    "    iK_digitize = np.digitize(master[\"iK_col\"], bins=iK_bin_list)\n",
    "\n",
    "    # Prints the number of objects within the entire colour range\n",
    "    #print(len(master[(iK_col_bins[0] <= master[\"iK_col\"]) & (master[\"iK_col\"] <= iK_col_bins[-1])]))\n",
    "\n",
    "    # All the colours but as separate bins\n",
    "    iK_all_ind = []\n",
    "\n",
    "    # Gives indices of objects in each bin\n",
    "    for k in range(1,len(np.unique(iK_digitize))-1):\n",
    "        iK_all_ind.append(iK_digitize == k)\n",
    "    \n",
    "    # Now split each iK bin into equal halves in gi colour\n",
    "    gi_lower = []\n",
    "    gi_upper = []\n",
    "\n",
    "    for aa in range(len(iK_all_ind)):\n",
    "        \n",
    "        # Subset of master indices within the jth i-K bin\n",
    "        master_ind_subset_bin = master_indices_arr[iK_all_ind[aa]]\n",
    "    \n",
    "        # Find the median g-i colour\n",
    "        gi_median = np.nanmedian(master[\"gi_col\"][iK_all_ind[aa]])\n",
    "        \n",
    "        # Get indices of objects within the upper and lower half of the g-i bin\n",
    "        # that index into the FULL master catalogue\n",
    "        gi_low_master_ind = master_ind_subset_bin[master[\"gi_col\"][iK_all_ind[aa]] <= gi_median]\n",
    "        gi_upp_master_ind = master_ind_subset_bin[master[\"gi_col\"][iK_all_ind[aa]] > gi_median]\n",
    "        \n",
    "        # Split into higher or lower than the median - this should not select any nan values (the less/greater than)\n",
    "        gi_lower.append(np.isin(master_indices_arr, gi_low_master_ind, assume_unique=True))\n",
    "        gi_upper.append(np.isin(master_indices_arr, gi_upp_master_ind, assume_unique=True))\n",
    "        \n",
    "    return [iK_all_ind, gi_upper, gi_lower] # Don't actually need to return iK_all_ind"
   ]
  },
  {
   "cell_type": "code",
   "execution_count": null,
   "metadata": {},
   "outputs": [],
   "source": []
  }
 ],
 "metadata": {
  "kernelspec": {
   "display_name": "Python 3",
   "language": "python",
   "name": "python3"
  },
  "language_info": {
   "codemirror_mode": {
    "name": "ipython",
    "version": 3
   },
   "file_extension": ".py",
   "mimetype": "text/x-python",
   "name": "python",
   "nbconvert_exporter": "python",
   "pygments_lexer": "ipython3",
   "version": "3.6.7"
  }
 },
 "nbformat": 4,
 "nbformat_minor": 2
}
