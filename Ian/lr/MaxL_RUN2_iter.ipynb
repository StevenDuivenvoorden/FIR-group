{
 "cells": [
  {
   "cell_type": "markdown",
   "metadata": {},
   "source": [
    "# ML RUN2 - Incorporating colour"
   ]
  },
  {
   "cell_type": "markdown",
   "metadata": {},
   "source": [
    "---"
   ]
  },
  {
   "cell_type": "code",
   "execution_count": 3,
   "metadata": {},
   "outputs": [],
   "source": [
    "# Load in all the required functions\n",
    "\n",
    "from socket import gethostname\n",
    "\n",
    "if gethostname() == 'colonsay':\n",
    "    PATH_START = '/disk1/rohitk/ELN1_project/'\n",
    "\n",
    "elif gethostname() == 'rohitk-elitebook':\n",
    "    PATH_START = '/home/rohitk/Documents/PhD/Year1/ELN1_project/'\n",
    "\n",
    "# Path start for Max_L analysis\n",
    "PATH_START = PATH_START + \"OCT17_ELAIS_im/maxl_test/\"\n",
    "    \n",
    "#################################################\n",
    "# Add the path of useful functions at the start\n",
    "\n",
    "import sys\n",
    "\n",
    "# Import some important functions\n",
    "sys.path.append(PATH_START+'../../basic_functions')\n",
    "\n",
    "# Import coordinate converstion functions\n",
    "from useful_functions import (coord_matching, nearest_neigh_match, latest_dir, varstat, return_hist_par)\n",
    "from overlapping_area import (isinpan, isinukidss, isinSWIRE, isinSERVS)\n",
    "from moc_util import coords_to_hpidx, inMoc\n",
    "##################################################\n",
    "\n",
    "import numpy as np\n",
    "from matplotlib import pyplot as plt\n",
    "from astropy.table import Table\n",
    "import matplotlib.gridspec as gridspec\n",
    "\n",
    "# Set default properties about all figures\n",
    "from matplotlib import rcParams\n",
    "\n",
    "rcParams['figure.figsize'] = 10,10\n",
    "#from matplotlib import rc\n",
    "# plt.rc('legend',**{'fontsize':16})\n",
    "rcParams['axes.labelsize'] = 16\n",
    "rcParams['axes.linewidth'] = 2\n",
    "rcParams['xtick.labelsize'] = 16\n",
    "rcParams['ytick.labelsize'] = 16\n",
    "\n",
    "import time\n",
    "\n",
    "from astropy.coordinates import search_around_sky\n",
    "from astropy import units as u\n",
    "from astropy.coordinates import SkyCoord\n",
    "from astropy.coordinates import match_coordinates_sky\n",
    "\n",
    "# Multiprocessin method of doing the ML analysis\n",
    "import multiprocessing as mp\n",
    "from functools import partial\n",
    "\n",
    "from os import makedirs\n",
    "\n",
    "ts = time.time()\n",
    "# %pylab inline\n",
    "import importlib\n",
    "import os\n",
    "from time import strftime\n",
    "from useful_functions import logspace_bins\n",
    "import glob\n",
    "import pickle\n",
    "\n",
    "# For MOC files\n",
    "import pymoc.io.fits\n",
    "import healpy as hp\n",
    "import pymoc.util.catalog\n",
    "\n",
    "tstart = time.time()"
   ]
  },
  {
   "cell_type": "code",
   "execution_count": 4,
   "metadata": {},
   "outputs": [],
   "source": [
    "# Import ML functions from mlrun1\n",
    "import mlrun1_bootes\n",
    "importlib.reload(mlrun1_bootes)\n",
    "\n",
    "\n",
    "from mlrun1_bootes import (survey_area, get_bin_list, get_n_m, get_q_m, \n",
    "                    generate_rand_pos_servs, get_Q0, compute_Fr, get_nm_interp,\n",
    "                    get_qm_interp, get_lr,\n",
    "                   get_giK_bin_indices, get_iK_bin_indices,\n",
    "                   get_qm_c, gen_binc_binl, get_nm_c, generate_rand_pos_bootes, gen_rand_cat_inMOC)\n",
    "\n",
    "from mlrun1_bootes import (get_n_m_kde, get_q_m_kde, estimate_q_m_kde, get_sigma_all, fr_u)\n",
    "\n",
    "# from mlrun1 import survey_area"
   ]
  },
  {
   "cell_type": "markdown",
   "metadata": {},
   "source": [
    "- [Miscellaneous Functions](#misc-func)\n",
    "- [Load Catalogues](#load-catalogues)\n",
    "- [ML Colour Analysis](#ml_colour)\n",
    "- [giK Colour Categories](#gik_col_cat)\n",
    "- [gis only Categories](#gis_only_col_cat)\n",
    "- [K/Ks only Categories](#ks_only_col_cat)\n",
    "- [Colour Bin Definition](#dict_col_cat)"
   ]
  },
  {
   "cell_type": "markdown",
   "metadata": {},
   "source": [
    "## Miscellaneous <a class=\"anchor\" id=\"misc-func\"></a>"
   ]
  },
  {
   "cell_type": "code",
   "execution_count": 5,
   "metadata": {},
   "outputs": [],
   "source": [
    "def completeness(lr, threshold, q0):\n",
    "    n = len(lr)\n",
    "    lrt = lr[lr < threshold]\n",
    "    return 1. - np.sum((q0 * lrt)/(q0 * lrt + (1 - q0)))/float(n)/q0\n",
    "\n",
    "def reliability(lr, threshold, q0):\n",
    "    n = len(lr)\n",
    "    lrt = lr[lr > threshold]\n",
    "    return 1. - np.sum((1. - q0)/(q0 * lrt + (1 - q0)))/float(n)/q0\n",
    "\n",
    "completeness_v = np.vectorize(completeness, excluded=[0])\n",
    "reliability_v = np.vectorize(reliability, excluded=[0])\n",
    "\n",
    "def comp_rel_threshold(lr, threshold, q0):\n",
    "    \"\"\"\n",
    "    Function to compute the crossing point of the completeness and reliability graph\n",
    "    \"\"\"\n",
    "\n",
    "    completeness_t = completeness_v(lr, threshold, q0)\n",
    "    reliability_t = reliability_v(lr, threshold, q0)\n",
    "    average_t = (completeness_t + reliability_t)/2\n",
    "    \n",
    "    # Crossing point of completeness and reliability\n",
    "    th_cross = threshold[np.argmin(np.abs(completeness_t - reliability_t))]\n",
    "    \n",
    "    return th_cross, completeness_t, reliability_t"
   ]
  },
  {
   "cell_type": "code",
   "execution_count": 6,
   "metadata": {},
   "outputs": [],
   "source": [
    "def plot_qn_c(bin_centres, magnitude_distribution, outfig_fname):\n",
    "    \"\"\"\n",
    "    Function to plot the n(m,c) and q(m,c) distributions\n",
    "    \n",
    "    Parameters:\n",
    "    -----------\n",
    "    bin_centres: Bin centres used to compute the n(m,c) distribution\n",
    "    magnitude_distribution: Magnitude distribution of n(m) or q(m) for each category\n",
    "    \"\"\"\n",
    "    \n",
    "    fig = plt.subplots(figsize=(11,20))\n",
    "    ratio = .8\n",
    "    plt.subplots_adjust(left=0.1, bottom=0.1, right=0.95, top=0.95, wspace=0.6, hspace=0.5)\n",
    "        \n",
    "    for k in range(len(magnitude_distribution)):\n",
    "        ax = plt.subplot(9,4,k+1)\n",
    "\n",
    "        # ax = plt.subplot(gs[k])\n",
    "        plt.plot(bin_centres, magnitude_distribution[k])\n",
    "        # ax.set_aspect(aspect='equal', adjustable='box')\n",
    "        \n",
    "        # Sets the aspect ratio of each subplot\n",
    "        xvals,yvals = plt.gca().axes.get_xlim(), plt.gca().axes.get_ylim()\n",
    "        xrange = xvals[1]-xvals[0]\n",
    "        yrange = yvals[1]-yvals[0]\n",
    "        plt.gca().set_aspect(ratio*(xrange/yrange), adjustable='box')\n",
    "\n",
    "        plt.title(col_cat_def[k][\"cat\"])\n",
    "    plt.savefig(outfig_fname)\n",
    "    plt.close() # Doesn't plot the output inline\n",
    "        \n",
    "    return\n"
   ]
  },
  {
   "cell_type": "code",
   "execution_count": 7,
   "metadata": {},
   "outputs": [],
   "source": [
    "# Definition of the paths\n",
    "PATH_PYBDSF_RAW = \"/disk3/rohitk/Bootes/radio/image_full_ampphase_di_m.NS_shift.blanked.scaled.cat.fits\"\n",
    "PATH_MASTER_LIST = \"/disk3/rohitk/Bootes/Bootes_optical/MASTER_catalogue/Bootes_MASTER_opt_spitzer_merged_forML.fits\""
   ]
  },
  {
   "cell_type": "code",
   "execution_count": 8,
   "metadata": {},
   "outputs": [],
   "source": [
    "\"\"\"# Find the latest ML RUN1 output and read that in\n",
    "catdir = latest_dir(\"run1_matches_bf_020419/*2019*\")\n",
    "print(catdir)\n",
    "\n",
    "# Select the type of catalogue to load (srl or gaus)\n",
    "cat_type = \"srl\"\n",
    "field = \"Bootes\"\n",
    "\n",
    "PATH_RUN1_MATCHES = catdir + '/' + field + '_ML_RUN1_' + cat_type + '_nanth_ionly.fits'\n",
    "print(PATH_RUN1_MATCHES)\"\"\";"
   ]
  },
  {
   "cell_type": "code",
   "execution_count": 9,
   "metadata": {},
   "outputs": [],
   "source": [
    "workflow_tier = True\n",
    "\n",
    "if workflow_tier:\n",
    "    add_str = \"_workflow\"\n",
    "else:\n",
    "    add_str = \"\""
   ]
  },
  {
   "cell_type": "code",
   "execution_count": 12,
   "metadata": {},
   "outputs": [
    {
     "name": "stdout",
     "output_type": "stream",
     "text": [
      "run1_matches_workflow/05_04_2019_1\n",
      "run1_matches_workflow/05_04_2019_1/Bootes_ML_RUN1_srl_nanth.fits\n"
     ]
    }
   ],
   "source": [
    "# Find the latest ML RUN1 output and read that in\n",
    "catdir = latest_dir(\"run1_matches\"+add_str+\"/*2019*\")\n",
    "print(catdir)\n",
    "\n",
    "# Select the type of catalogue to load (srl or gaus)\n",
    "cat_type = \"_srl\"\n",
    "field = \"Bootes\"\n",
    "\n",
    "PATH_RUN1_MATCHES = catdir + '/' + field + '_ML_RUN1' + cat_type + '_nanth.fits'\n",
    "print(PATH_RUN1_MATCHES)"
   ]
  },
  {
   "cell_type": "code",
   "execution_count": 13,
   "metadata": {},
   "outputs": [],
   "source": [
    "# Load the master and the RUN1 matches\n",
    "master =  Table.read(PATH_MASTER_LIST, format='fits')"
   ]
  },
  {
   "cell_type": "code",
   "execution_count": 14,
   "metadata": {},
   "outputs": [
    {
     "name": "stdout",
     "output_type": "stream",
     "text": [
      "Area of MOC: 9.643885598599503 sq. deg.\n",
      "Total no. of sources in MOC (ALL FLAG_DEEPs): 2172469\n"
     ]
    }
   ],
   "source": [
    "# Read in the MOC file\n",
    "PATH_MOC = \"/disk3/rohitk/Bootes/Bootes_optical/moc_files/Bootes_I-band_MOC.fits\"\n",
    "\n",
    "# Generate a MOC class instance first\n",
    "cata_moc = pymoc.MOC()\n",
    "pymoc.io.fits.read_moc_fits(cata_moc, PATH_MOC)\n",
    "\n",
    "moc_area = cata_moc.area_sq_deg\n",
    "print(\"Area of MOC: {0} sq. deg.\".format(moc_area))\n",
    "\n",
    "cat_inmoc = inMoc(master[\"ALPHA_J2000\"], master[\"DELTA_J2000\"], cata_moc)\n",
    "print(\"Total no. of sources in MOC (ALL FLAG_DEEPs): {0}\".format(np.sum(cat_inmoc)))"
   ]
  },
  {
   "cell_type": "markdown",
   "metadata": {},
   "source": [
    "## Define the optical and IR magnitude columns"
   ]
  },
  {
   "cell_type": "code",
   "execution_count": 15,
   "metadata": {},
   "outputs": [
    {
     "name": "stdout",
     "output_type": "stream",
     "text": [
      "1759884 307006\n",
      "1907323 2214329\n",
      "1004793\n"
     ]
    }
   ],
   "source": [
    "# Define the magnitude/flux columns to use for optical and Spitzer data\n",
    "opt_ap = \"2\"  # 3'' aperture magnitude\n",
    "mid_ap = \"2\"   # 4'' aperture magnitude\n",
    "\n",
    "opt_fl_col = \"I_flux_\" + opt_ap\n",
    "opt_efl_col = \"I_fluxerr_\" + opt_ap\n",
    "opt_mag_col = \"I_mag_\" + opt_ap\n",
    "\n",
    "mir_fl_col = \"ch2_flux_\" + mid_ap\n",
    "mir_efl_col = \"ch2_fluxerr_\" + mid_ap\n",
    "mir_mag_col = \"ch2_mag_\" + opt_ap\n",
    "\n",
    "snr_th = 3\n",
    "\n",
    "masks = master[\"FLAG_DEEP\"].mask\n",
    "\n",
    "print(np.sum(master[\"FLAG_DEEP\"]==1), np.sum(master[\"FLAG_DEEP\"]==0))\n",
    "\n",
    "# Set the FLAG_DEEP of Spitzer only sources to -99s\n",
    "master[\"FLAG_DEEP\"].fill_value = -99\n",
    "master[\"FLAG_DEEP\"] = master[\"FLAG_DEEP\"].filled(-99)\n",
    "\n",
    "flag_cond = (master[\"FLAG_DEEP\"] == 1) | (master[\"FLAG_DEEP\"] == -99)\n",
    "# flag_cond = ~np.isnan(master[\"FLAG_DEEP\"])\n",
    "\n",
    "print(np.sum(flag_cond), len(master))\n",
    "\n",
    "# Compute SNR of i and K band\n",
    "snr_i = master[opt_fl_col] / master[opt_efl_col]\n",
    "i_det = ((snr_i >= snr_th) & flag_cond & cat_inmoc)\n",
    "\n",
    "\n",
    "snr_ir = master[mir_fl_col] / master[mir_efl_col]\n",
    "ir_det = ((snr_ir >= snr_th) & flag_cond & cat_inmoc)\n",
    "\n",
    "print(np.sum(ir_det))\n",
    "\n",
    "opt_ir_sources = i_det & ir_det & flag_cond & cat_inmoc"
   ]
  },
  {
   "cell_type": "markdown",
   "metadata": {},
   "source": [
    "# Compute the colour categories "
   ]
  },
  {
   "cell_type": "markdown",
   "metadata": {},
   "source": [
    "### (1) i-K colour categories\n",
    "    - Defined as source with a SNR > 3 in both i and K bands and then split into the different colour bins"
   ]
  },
  {
   "cell_type": "code",
   "execution_count": 16,
   "metadata": {},
   "outputs": [
    {
     "name": "stdout",
     "output_type": "stream",
     "text": [
      "SNR > 3 in i: 1468722\n",
      "SNR > 3 in ch2: 1004793\n",
      "SNR > 3 in and i and ch2: 869284\n"
     ]
    }
   ],
   "source": [
    "# Over-ride the aperture to use after doing the SNR calculation\n",
    "opt_ap = \"2\"  # 2'' aperture magnitude\n",
    "mid_ap = \"3\"  # 3'' aperture magnitude\n",
    "\n",
    "opt_fl_col = \"I_flux_\" + opt_ap\n",
    "opt_efl_col = \"I_fluxerr_\" + opt_ap\n",
    "opt_mag_col = \"I_mag_\" + opt_ap\n",
    "\n",
    "mir_fl_col = \"ch2_flux_\" + mid_ap\n",
    "mir_efl_col = \"ch2_fluxerr_\" + mid_ap\n",
    "mir_mag_col = \"ch2_mag_\" + mid_ap\n",
    "\n",
    "# Compute the i-K colour for these soruces\n",
    "master[\"ich2_col_o\"] = np.nan\n",
    "master[\"ich2_col_o\"][opt_ir_sources] = master[opt_mag_col][opt_ir_sources] - master[mir_mag_col][opt_ir_sources]\n",
    "\n",
    "print(\"SNR > 3 in i: {0}\".format(np.sum(i_det)))\n",
    "print(\"SNR > 3 in ch2: {0}\".format(np.sum(ir_det)))\n",
    "print(\"SNR > 3 in and i and ch2: {0}\".format(np.sum(opt_ir_sources)))\n",
    "\n",
    "# varstat(master[opt_mag_col][opt_ir_sources])\n",
    "# varstat(master[mir_mag_col][(snr_i < 3) & (snr_i > 1.)])\n"
   ]
  },
  {
   "cell_type": "markdown",
   "metadata": {},
   "source": [
    "### (2) i-only and K-only sources"
   ]
  },
  {
   "cell_type": "code",
   "execution_count": 17,
   "metadata": {},
   "outputs": [
    {
     "name": "stdout",
     "output_type": "stream",
     "text": [
      "i-only sources: 599438\n",
      "ch2-only sources: 135509\n"
     ]
    }
   ],
   "source": [
    "# Define these as sources with snr_i < 3 or snr_K < 3\n",
    "\n",
    "i_only = (i_det & ~ir_det & flag_cond & cat_inmoc)\n",
    "ir_only = (ir_det & ~i_det & flag_cond & cat_inmoc)\n",
    "\n",
    "print(\"i-only sources: {0}\".format(np.sum(i_only)))\n",
    "print(\"ch2-only sources: {0}\".format(np.sum(ir_only)))"
   ]
  },
  {
   "cell_type": "code",
   "execution_count": 18,
   "metadata": {},
   "outputs": [
    {
     "name": "stdout",
     "output_type": "stream",
     "text": [
      "Mean       Median     Std. Dev.  Length     Min        Max        Len_Zeros \n",
      "7.715475   5.448159   13.52624   599438     3.000003329907968 2714.340512 0         \n"
     ]
    },
    {
     "name": "stderr",
     "output_type": "stream",
     "text": [
      "/disk1/rohitk/miniconda3/lib/python3.6/site-packages/numpy/core/fromnumeric.py:688: UserWarning: Warning: 'partition' will ignore the 'mask' of the MaskedColumn.\n",
      "  a.partition(kth, axis=axis, kind=kind, order=order)\n"
     ]
    }
   ],
   "source": [
    "varstat(snr_i[i_only])"
   ]
  },
  {
   "cell_type": "code",
   "execution_count": 19,
   "metadata": {},
   "outputs": [
    {
     "name": "stdout",
     "output_type": "stream",
     "text": [
      "No. of i-ch2 sources: 869284\n",
      "No. of i-only sources: 599438\n",
      "No. of ir-only sources: 135509\n",
      "=========================================\n",
      "Total no. of sources: 1604231,  73.8%\n",
      "No. of sources in MOC: 2172469\n",
      "No. of sources in MOC and in some colour category: 1604231\n"
     ]
    }
   ],
   "source": [
    "print(\"No. of i-ch2 sources: {0}\".format(np.sum(opt_ir_sources)))\n",
    "print(\"No. of i-only sources: {0}\".format(np.sum(i_only)))\n",
    "print(\"No. of ir-only sources: {0}\".format(np.sum(ir_only)))\n",
    "print(\"=========================================\")\n",
    "\n",
    "ncol_tot = np.sum(opt_ir_sources) + np.sum(i_only) + np.sum(ir_only)\n",
    "print(\"Total no. of sources: {0}, {1:5.3}%\".format(ncol_tot, ncol_tot/np.sum(cat_inmoc)*100))\n",
    "\n",
    "print(\"No. of sources in MOC: {0}\".format(np.sum(cat_inmoc)))\n",
    "print(\"No. of sources in MOC and in some colour category: {0}\".format(np.sum(cat_inmoc & (opt_ir_sources | i_only | ir_only))))"
   ]
  },
  {
   "cell_type": "code",
   "execution_count": 20,
   "metadata": {},
   "outputs": [
    {
     "name": "stdout",
     "output_type": "stream",
     "text": [
      "No. of sources in MOC but with NO colour category: 261232\n",
      "Number density of sources in MOC and with NO colour category: 0.0020901108704964298\n"
     ]
    }
   ],
   "source": [
    "inmoc_nocat = (cat_inmoc & ~(opt_ir_sources | i_only | ir_only) & (master[\"FLAG_DEEP\"] != 0))\n",
    "\n",
    "nm_nocat = np.sum(inmoc_nocat) / (moc_area * 3600**2)\n",
    "print(\"No. of sources in MOC but with NO colour category: {0}\".format(np.sum(inmoc_nocat)))\n",
    "print(\"Number density of sources in MOC and with NO colour category: {0}\".format(nm_nocat))\n",
    "\n",
    "# master[inmoc_nocat].write(\"Bootes_inmoc_notin_any_colcat.fits\", format='fits', overwrite=True)"
   ]
  },
  {
   "cell_type": "code",
   "execution_count": 21,
   "metadata": {},
   "outputs": [
    {
     "name": "stdout",
     "output_type": "stream",
     "text": [
      "Mean       Median     Std. Dev.  Length     Min        Max        Len_Zeros \n",
      "1.893165   2.01829    0.770936   261232     -17.389986075050704 2.999549   0         \n"
     ]
    }
   ],
   "source": [
    "varstat(snr_i[inmoc_nocat])"
   ]
  },
  {
   "cell_type": "code",
   "execution_count": 22,
   "metadata": {},
   "outputs": [],
   "source": [
    "# Rectangular region for n(m) calculation\n",
    "p_ra_down = 217.\n",
    "p_dec_down = 34.\n",
    "p_ra_up = 220.\n",
    "p_dec_up = 35."
   ]
  },
  {
   "cell_type": "code",
   "execution_count": 23,
   "metadata": {},
   "outputs": [
    {
     "name": "stdout",
     "output_type": "stream",
     "text": [
      "261232\n"
     ]
    }
   ],
   "source": [
    "final = Table.read(PATH_RUN1_MATCHES, format='fits')\n",
    "\n",
    "lofar_co = SkyCoord(final['RA'], final['DEC'], unit=(u.deg,u.deg),\n",
    "                    frame='icrs')\n",
    "\n",
    "i_coords = SkyCoord(master['ALPHA_J2000'][inmoc_nocat], \n",
    "                       master['DELTA_J2000'][inmoc_nocat],\n",
    "                       unit=(u.deg,u.deg),frame='icrs')\n",
    "print(len(i_coords))"
   ]
  },
  {
   "cell_type": "code",
   "execution_count": 24,
   "metadata": {},
   "outputs": [
    {
     "name": "stdout",
     "output_type": "stream",
     "text": [
      "Timetaken: 2.4898412227630615\n",
      "Radius Blanks Random Blanks Q_0\n",
      "1 18230 18169 -0.0033573669436952613\n",
      "2 18193 17818 -0.02104613312380743\n",
      "3 18096 17314 -0.04516576181125109\n",
      "4 17790 16620 -0.07039711191335729\n",
      "5 17265 15896 -0.08612229491696022\n",
      "6 16454 15080 -0.09111405835543773\n",
      "7 15568 14297 -0.08889976918234588\n",
      "8 14619 13461 -0.08602629819478502\n",
      "9 13707 12657 -0.0829580469305522\n"
     ]
    },
    {
     "data": {
      "text/plain": [
       "Text(0, 0.5, '$Q_0$')"
      ]
     },
     "execution_count": 24,
     "metadata": {},
     "output_type": "execute_result"
    },
    {
     "data": {
      "image/png": "[encoded data removed]",
      "text/plain": [
       "<Figure size 720x720 with 1 Axes>"
      ]
     },
     "metadata": {},
     "output_type": "display_data"
    }
   ],
   "source": [
    "# Get Q0 of the non-colour category\n",
    "t1 = time.time()\n",
    "\n",
    "# Empty lists to store the output from the PanSTARRS catalogue\n",
    "q0_li = []\n",
    "l_no_m_i = []\n",
    "r_no_m_i = []\n",
    "\n",
    "rad = np.arange(1,10)\n",
    "\n",
    "# Generate random coords\n",
    "# rand_coords = generate_rand_pos_bootes(p_ra_up,p_dec_up,p_ra_down,p_dec_down,len(lofar_co))\n",
    "rand_ra_up = 219.8\n",
    "rand_ra_down = 216.0\n",
    "rand_dec_up = 35.85\n",
    "rand_dec_down = 32.25\n",
    "\n",
    "rand_coords = gen_rand_cat_inMOC(len(lofar_co), rand_ra_up, rand_ra_down, rand_dec_up, rand_dec_down, cata_moc)\n",
    "\n",
    "for k in range(len(rad)):\n",
    "    q0_i, nl_non_i, nr_non_i = get_Q0(lofar_co, i_coords, rand_coords, float(rad[k]))\n",
    "    q0_li.append(q0_i)\n",
    "    l_no_m_i.append(nl_non_i)\n",
    "    r_no_m_i.append(nr_non_i)\n",
    "\n",
    "print('Timetaken: ' + str(time.time() - t1))\n",
    "\n",
    "print('Radius Blanks Random Blanks Q_0')\n",
    "\n",
    "for aa in range(len(q0_li)):\n",
    "    \n",
    "    print(rad[aa], l_no_m_i[aa], r_no_m_i[aa], q0_li[aa])\n",
    "\n",
    "\n",
    "# Make a plot of Q0 vs radius\n",
    "fig_q0 = plt.figure()\n",
    "\n",
    "plt.plot(rad, q0_li, 'r.')\n",
    "#plt.yscale('log')\n",
    "plt.xlabel('Radius (arcsec)')\n",
    "plt.ylabel('$Q_0$')"
   ]
  },
  {
   "cell_type": "markdown",
   "metadata": {},
   "source": [
    "# Get the i-K colour bins indices and create the colour groupings"
   ]
  },
  {
   "cell_type": "code",
   "execution_count": 25,
   "metadata": {},
   "outputs": [
    {
     "name": "stdout",
     "output_type": "stream",
     "text": [
      "i-K bins: \n",
      "[-40.     0.     0.25   0.5    0.75   1.     1.25   1.5    1.75   2.\n",
      "   2.25   2.5    2.75   3.     3.25   3.5    4.    40.  ]\n"
     ]
    }
   ],
   "source": [
    "# Separate the objects into the i-K colour indices\n",
    "\n",
    "\"\"\"# Colour bin width\n",
    "col_bin_width = 0.2\n",
    "\n",
    "# Number of i-K colour bins\n",
    "n_ik_bins = len(np.arange(3.5,4.9, col_bin_width)) + 1 + 2 # +2 at the end for the -inf and inf bin\n",
    "\n",
    "# Generate the un-even width colour bins\n",
    "iK_col_bins = np.zeros(n_ik_bins)\n",
    "iK_col_bins[0] = -50. # Some very small small such that the i-K < 3 bin can be calculated\n",
    "iK_col_bins[1] = 3.\n",
    "iK_col_bins[2:-1] = np.arange(3.5,4.9,col_bin_width)\n",
    "iK_col_bins[7] = 4.6\n",
    "iK_col_bins[8] = 5.\n",
    "iK_col_bins[9] = 6.\n",
    "iK_col_bins[-1] = 50.\"\"\";\n",
    "\n",
    "\n",
    "large_binw = 0.5\n",
    "#iK_col_bins = list(np.arange(-2.0, 0.+large_binw, large_binw))\n",
    "#iK_col_bins[0] = -40.\n",
    "\n",
    "small_binw = 0.25\n",
    "iK_col_bins = []\n",
    "mid_iK_col_bins = list(np.arange(-0.5+small_binw, 3.5+small_binw, small_binw))\n",
    "iK_col_bins.extend(mid_iK_col_bins)\n",
    "iK_col_bins[0] = -40\n",
    "\n",
    "iK_col_bins.extend(list(np.arange(3.5+large_binw, 5.0, large_binw)))\n",
    "iK_col_bins[-1] = 40\n",
    "\n",
    "iK_col_bins = np.array(iK_col_bins)\n",
    "\n",
    "print(\"i-K bins: \")\n",
    "print(iK_col_bins)"
   ]
  },
  {
   "cell_type": "code",
   "execution_count": 26,
   "metadata": {},
   "outputs": [
    {
     "name": "stderr",
     "output_type": "stream",
     "text": [
      "/disk1/rohitk/miniconda3/lib/python3.6/site-packages/astropy/table/column.py:965: RuntimeWarning: invalid value encountered in greater_equal\n",
      "  return getattr(self.data, op)(other)\n",
      "/disk1/rohitk/miniconda3/lib/python3.6/site-packages/astropy/table/column.py:965: RuntimeWarning: invalid value encountered in less\n",
      "  return getattr(self.data, op)(other)\n"
     ]
    }
   ],
   "source": [
    "def get_iK_bin_indices(iK_bin_list, iK_colours):\n",
    "    \"\"\"\n",
    "    Get the indices of objects in each giK colour bins \n",
    "    10 i-K colour bins --> further divided into 2 equal g-i colour halves\n",
    "    \n",
    "    Parameters:\n",
    "    -----------\n",
    "    \n",
    "    iK_bin_list : Bin list of i-K colours\n",
    "    iK_colours : i-K colour of the sources to be binned\n",
    "    \n",
    "    Returns:\n",
    "    --------\n",
    "    iK_ind : Indices in each i-K bin, a list of bool arrays\n",
    "    \"\"\"\n",
    "    \n",
    "    # List of boolean arrays (each of length=len(iK_digitize))\n",
    "    iK_all_ind = []\n",
    "    # List of boolean arrays  - BUT each array has length = len(master) - so it an be used for indexing\n",
    "    iK_full_ind = []\n",
    "\n",
    "    # Loop counter\n",
    "    count = 0\n",
    "    \n",
    "    # Gives indices of objects in each bin\n",
    "    for k in range(len(iK_bin_list)-1):\n",
    "        \n",
    "        # Bool array of colours within the jth and jth+1 bin\n",
    "        iK_full_ind.append((iK_colours >= iK_bin_list[k]) & (iK_colours < iK_bin_list[k+1]))\n",
    "        \n",
    "    return iK_full_ind # Don't actually need to return iK_all_ind\n",
    "\n",
    "# Full master indices\n",
    "master_indices_arr = np.arange(len(master))\n",
    "# iKcol_master_ind = master_indices_arr[iK_sources]\n",
    "\n",
    "iK_ind = get_iK_bin_indices(iK_col_bins, master[\"ich2_col_o\"])"
   ]
  },
  {
   "cell_type": "code",
   "execution_count": 27,
   "metadata": {},
   "outputs": [
    {
     "data": {
      "text/plain": [
       "869284"
      ]
     },
     "execution_count": 27,
     "metadata": {},
     "output_type": "execute_result"
    }
   ],
   "source": [
    "np.sum(~np.isnan(master[\"ich2_col_o\"]))"
   ]
  },
  {
   "cell_type": "markdown",
   "metadata": {},
   "source": [
    "### Define the non-colour categories here"
   ]
  },
  {
   "cell_type": "code",
   "execution_count": 28,
   "metadata": {},
   "outputs": [
    {
     "name": "stdout",
     "output_type": "stream",
     "text": [
      "**** i-4.5 colour bins and master catalogue sources *****\n",
      "17 i-4.5 colour categories\n",
      "-40.0 < 0.0: 115980\n",
      "0.0 < 0.25: 47584\n",
      "0.25 < 0.5: 57457\n",
      "0.5 < 0.75: 67058\n",
      "0.75 < 1.0: 75002\n",
      "1.0 < 1.25: 80777\n",
      "1.25 < 1.5: 81707\n",
      "1.5 < 1.75: 77261\n",
      "1.75 < 2.0: 66036\n",
      "2.0 < 2.25: 52133\n",
      "2.25 < 2.5: 39378\n",
      "2.5 < 2.75: 29694\n",
      "2.75 < 3.0: 22903\n",
      "3.0 < 3.25: 17836\n",
      "3.25 < 3.5: 13738\n",
      "3.5 < 4.0: 16615\n",
      "4.0 < 40.0: 8125\n"
     ]
    }
   ],
   "source": [
    "print(\"**** i-4.5 colour bins and master catalogue sources *****\")\n",
    "print(\"{0} i-4.5 colour categories\".format(len(iK_col_bins)-1))\n",
    "for k in range(len(iK_ind)):\n",
    "    print(\"{0} < {1}: {2}\".format(iK_col_bins[k], iK_col_bins[k+1], np.sum(iK_ind[k])))"
   ]
  },
  {
   "cell_type": "code",
   "execution_count": 29,
   "metadata": {},
   "outputs": [],
   "source": [
    "# Make a list of the \"non-colour\" colour categories from the above classifications and the string corresponding to the category\n",
    "non_col_group = []\n",
    "non_col_group.append(i_only)\n",
    "non_col_group.append(ir_only)\n",
    "non_col_group.append(inmoc_nocat)"
   ]
  },
  {
   "cell_type": "markdown",
   "metadata": {},
   "source": [
    "### Make a dictionary of colour categories (for the 29 defined categories) <a class=\"anchor\" id=\"dict_col_cat\"></a>"
   ]
  },
  {
   "cell_type": "code",
   "execution_count": 30,
   "metadata": {},
   "outputs": [
    {
     "name": "stdout",
     "output_type": "stream",
     "text": [
      "Category # Sources       Cat no.\n",
      "i45_1 \t 115980       0\n",
      "i45_2 \t 47584       1\n",
      "i45_3 \t 57457       2\n",
      "i45_4 \t 67058       3\n",
      "i45_5 \t 75002       4\n",
      "i45_6 \t 80777       5\n",
      "i45_7 \t 81707       6\n",
      "i45_8 \t 77261       7\n",
      "i45_9 \t 66036       8\n",
      "i45_10 \t 52133       9\n",
      "i45_11 \t 39378       10\n",
      "i45_12 \t 29694       11\n",
      "i45_13 \t 22903       12\n",
      "i45_14 \t 17836       13\n",
      "i45_15 \t 13738       14\n",
      "i45_16 \t 16615       15\n",
      "i45_17 \t 8125       16\n",
      "i_only \t 599438       17\n",
      "ir_only \t 135509       18\n",
      "no_mag \t 261232       19\n",
      "====================================================\n",
      "Total no. of sources in ANY category: 1865463\n",
      "No. of MASTER sources not in any category: 348866\n",
      "No. of MASTER sources in MOC but with NO colour category: 307006\n"
     ]
    }
   ],
   "source": [
    "# Make a dictionary of the colour categories\n",
    "\n",
    "col_cat_def = []\n",
    "# Build up the dictionary for each of the 29 categories\n",
    "\n",
    "# Initialise with the 1st category (both lower and upper giK half)\n",
    "col_cat_def = [{\"cat_no\":0, \"cat\":\"i45_1\",\n",
    "                \"condition\":iK_ind[0]}]\n",
    "\n",
    "############### For the 20 giK colour categories ###############\n",
    "\n",
    "for k in range(1, len(iK_ind)):\n",
    "    \n",
    "    col_cat_def.append({\"cat_no\":col_cat_def[-1]['cat_no']+1,    # Add 1 to the previous category number\n",
    "                        \"cat\":\"i45_\" + str(k+1),               # Edit the unique category identifier\n",
    "                        \"condition\":iK_ind[k]})              # Append the gi <= median bool array\n",
    "\n",
    "###############  For the non-colour categories #################\n",
    "\n",
    "# The unique string identifying each of the non-colour categories\n",
    "non_col_group_str = [\"i_only\", \"ir_only\", \"no_mag\"]  # This is used for making the colour categories dictionary\n",
    "\n",
    "for k in range(len(non_col_group)):\n",
    "    \n",
    "    col_cat_def.append({\"cat_no\":col_cat_def[-1]['cat_no']+1,\n",
    "                        \"cat\":non_col_group_str[k],\n",
    "                        \"condition\":non_col_group[k]})\n",
    "\n",
    "# Print the numbers in each category    \n",
    "test = []\n",
    "print(\"Category # Sources       Cat no.\")\n",
    "for item in col_cat_def:\n",
    "    print(\"{0} \\t {1}       {2}\".format(item['cat'], np.sum(item[\"condition\"]), item[\"cat_no\"]))\n",
    "    test.append(np.sum(item[\"condition\"]))\n",
    "\n",
    "print(\"====================================================\")\n",
    "print(\"Total no. of sources in ANY category: {0}\".format(np.sum(test)))\n",
    "\n",
    "# Strings of all categories\n",
    "all_cat = [a['cat'] for a in col_cat_def]\n",
    "# Total numbers in each colour category\n",
    "tot_numbers = np.array([np.sum(a[\"condition\"]) for a in col_cat_def])\n",
    "\n",
    "\n",
    "# For each source in the master catalogue, assign it a category\n",
    "master[\"cat_no\"] = np.nan\n",
    "for aa in col_cat_def:\n",
    "    \n",
    "    # Assign value=aa wherever the \"condition\" of the source evaluates to true\n",
    "    # i.e. if a row in col_cat_def[\"condition\"][aa] == True, assign it the master[\"cat_no\"] = aa\n",
    "    master[\"cat_no\"][aa[\"condition\"]] = aa[\"cat_no\"]\n",
    "\n",
    "# Number of master sources not in any category\n",
    "print(\"No. of MASTER sources not in any category: \" + str(np.sum(np.isnan(master[\"cat_no\"]))))\n",
    "print(\"No. of MASTER sources in MOC but with NO colour category: {0}\".format(np.sum(cat_inmoc & np.isnan(master[\"cat_no\"]))))\n",
    "#master.write('MASTER_LIST_0418_with_mag_ccat', format='ascii')"
   ]
  },
  {
   "cell_type": "code",
   "execution_count": 31,
   "metadata": {},
   "outputs": [
    {
     "name": "stdout",
     "output_type": "stream",
     "text": [
      "Mean       Median     Std. Dev.  Length     Min        Max        Len_Zeros \n",
      "24.491571  24.619249  0.689074   599438     15.622948505089159 26.308647  0         \n"
     ]
    },
    {
     "name": "stderr",
     "output_type": "stream",
     "text": [
      "/disk1/rohitk/miniconda3/lib/python3.6/site-packages/numpy/core/fromnumeric.py:688: UserWarning: Warning: 'partition' will ignore the 'mask' of the MaskedColumn.\n",
      "  a.partition(kth, axis=axis, kind=kind, order=order)\n"
     ]
    }
   ],
   "source": [
    "varstat(master[opt_mag_col][i_only])"
   ]
  },
  {
   "cell_type": "code",
   "execution_count": 32,
   "metadata": {},
   "outputs": [
    {
     "name": "stdout",
     "output_type": "stream",
     "text": [
      "Total no. of colour categories: 20\n",
      "['I_mag_2', 'I_mag_2', 'I_mag_2', 'I_mag_2', 'I_mag_2', 'I_mag_2', 'I_mag_2', 'I_mag_2', 'I_mag_2', 'I_mag_2', 'I_mag_2', 'I_mag_2', 'I_mag_2', 'I_mag_2', 'I_mag_2', 'I_mag_2', 'I_mag_2', 'I_mag_2', 'ch2_mag_3', 'no_mag']\n"
     ]
    }
   ],
   "source": [
    "# List of magnitude column names - fn_opt_indices in apply_ml(*args) function\n",
    "mag_col_name = []\n",
    "\n",
    "for a in range(len(col_cat_def)):\n",
    "    \n",
    "    if col_cat_def[a][\"cat\"][:4] == 'i45_' or col_cat_def[a][\"cat\"] == 'i_only':\n",
    "        # i.e. if the category is either i-4.5 colour or i_only, then use the i-band colour\n",
    "        mag_col_name.append(opt_mag_col)\n",
    "        \n",
    "    elif col_cat_def[a][\"cat\"] == 'ir_only':\n",
    "        mag_col_name.append(mir_mag_col)\n",
    "        \n",
    "    elif col_cat_def[a][\"cat\"] == 'no_mag':\n",
    "        mag_col_name.append(\"no_mag\")\n",
    "\n",
    "print(\"Total no. of colour categories: {0}\".format(len(mag_col_name)))\n",
    "print(mag_col_name)"
   ]
  },
  {
   "cell_type": "code",
   "execution_count": 33,
   "metadata": {},
   "outputs": [],
   "source": [
    "# Function to compute ML based on magnitude of possible conterpart and the sigma\n",
    "\n",
    "def apply_ml(i):\n",
    "    \"\"\"\n",
    "    Function which combines previous routines to compute ML values \n",
    "    for each ith LOFAR source that has a match within 15'' to opt/NIR catalogue\n",
    "    \n",
    "    Parameters:\n",
    "    -----------\n",
    "    i : Index of the LOFAR coordinates\n",
    "    fn_opt_indices : Field name of indices in MASTER catalogue\n",
    "    mean_Q0 : Mean Q0 value for the band\n",
    "    nm_categ : Cumulative n(m) distribution for the category\n",
    "    qm_categ : Cumulative q(m) distribution for the category\n",
    "    nm_bc_categ : Bin centres from the n(m) distribution\n",
    "    \n",
    "    Returns:\n",
    "    --------\n",
    "    res = [opt_index,dist,lr_value] : [Index into the optical catalogue,\n",
    "                                        Separation to counterpart,\n",
    "                                        LR value]\n",
    "    \"\"\"\n",
    "    mean_Q0 = Q0_c\n",
    "    nm_categ = mag_nm_cumul\n",
    "    qm_categ = mag_qm_cumul\n",
    "    nm_bc_categ = nm_bin_c\n",
    "    fn_opt_indices = mag_col_name\n",
    "    \n",
    "    # Get the indices into the corresponding MASTER_category catalogue\n",
    "    indx_o_match = indx_m[indx_l == i]\n",
    "    s2d_o = s2d[indx_l == i]  # The 2d separation of the sources from LOFAR source\n",
    "    \n",
    "    # Indices corresponding to the FULL MASTER catalogue - the -1 to get into python index notation\n",
    "    indx_o_master = master_categ[\"ID\"][indx_o_match]\n",
    "    \n",
    "    # Get the LOFAR positions and errors\n",
    "    lofar_ra = final['RA'][i]\n",
    "    lofar_dec = final['DEC'][i]\n",
    "    lofar_pa = final['PA'][i]\n",
    "    lofar_maj_err = final['E_Maj'][i]\n",
    "    lofar_min_err = final['E_Min'][i]\n",
    "    \n",
    "    # Get the optical/NIR counterpart positions and positional errors\n",
    "    c_ra = master_categ['ALPHA_J2000'][indx_o_match]\n",
    "    c_dec = master_categ['DELTA_J2000'][indx_o_match]\n",
    "    \n",
    "    c_ra_err = np.ones(len(indx_o_match)) * 0.35\n",
    "    c_dec_err = np.ones(len(indx_o_match)) * 0.35\n",
    "    \n",
    "    # Get the categories of the possible counterparts\n",
    "    c_cat_no = master_categ[\"cat_no\"][indx_o_match].astype(int)\n",
    "    # For each possible counterpart - use the required n(m,c) and q(m,c) based on the cat number\n",
    "    \n",
    "    sigma_0_0, det_sigma = get_sigma_all(lofar_maj_err, lofar_min_err, lofar_pa, \n",
    "                      lofar_ra, lofar_dec, \n",
    "                      c_ra, c_dec, c_ra_err, c_dec_err)\n",
    "    \n",
    "    c_lr = []\n",
    "    for jj in range(len(c_cat_no)):\n",
    "\n",
    "        # Define the magnitude colum to use from the list of magnitude columns based on the category of jj'th source\n",
    "        mag_col_to_use = fn_opt_indices[c_cat_no[jj]]\n",
    "        \n",
    "        # Older sigma calculation without the correct angles\n",
    "        \"\"\"sig, sig_maj, sig_min = get_sigma_all(lofar_maj_err, lofar_min_err,\n",
    "                                                  lofar_pa, lofar_ra, lofar_dec,\n",
    "                                                  c_ra[jj], c_dec[jj], c_ra_err[jj], c_dec_err[jj])\"\"\"\n",
    "\n",
    "        if mag_col_to_use != \"no_mag\":\n",
    "            # Magnitude of the jj'th counterpart\n",
    "            c_mag = master_categ[mag_col_to_use][indx_o_match]\n",
    "\n",
    "            # mean_Q0[c_cat_no[jj]]\n",
    "            c_lr.append(get_lr(c_mag[jj], mean_Q0[c_cat_no[jj]], nm_categ[c_cat_no[jj]], qm_categ[c_cat_no[jj]], \n",
    "                               np.sqrt(sigma_0_0[jj]), sigma_0_0[jj], det_sigma[jj], (s2d_o.arcsec)[jj],\n",
    "                               nm_bc_categ, lof_opt_rad, False))\n",
    "        else:\n",
    "            \n",
    "            # This is the case where there is no magnitude or colour information, simply Q0/n * f(r)\n",
    "            \n",
    "            # Get f(r) and F(r)\n",
    "            fr = fr_u((s2d_o.arcsec)[jj], sigma_0_0[jj], det_sigma[jj])\n",
    "            \n",
    "            # Compute F(r) using search radius from matching and the combined sigma\n",
    "            # Fr = compute_Fr(lof_opt_rad, sig)\n",
    "            # COmpute \"q(m)\" by factoring Q0 by F(r) to get the expected matches within search radius\n",
    "            \n",
    "            qm_fix = null_Q0_nocat   #/ Fr\n",
    "\n",
    "            c_lr.append(qm_fix * fr / nm_nocat)\n",
    "    \n",
    "    # Get indices of n=4 maximum values\n",
    "    # arr.argsort()[-4:][::-1]\n",
    "\n",
    "    if np.sum(~np.isnan(c_lr)) == 0:\n",
    "        result = [np.nan, np.nan, np.nan]\n",
    "\n",
    "        if not os.path.exists(outdir_name + \"/nan_slices/\"):\n",
    "            os.makedirs(outdir_name + \"/nan_slices/\")\n",
    "            \n",
    "        pickle.dump([i, indx_o_master], open(outdir_name+\"/nan_slices/list_lofar_and_masterfull_ind_{0}.pckl\".format(run_count), \"wb\"))\n",
    "        \n",
    "        with open(outdir_name + \"/nan_slices/nan_slice_masterfull_ind_{0}.txt\".format(run_count), 'a') as fout:\n",
    "            fout.write(' '.join([str(aa) for aa in indx_o_master]) + \"\\n\")\n",
    "\n",
    "        with open(outdir_name + \"/nan_slices/nan_slice_lofar_ind_{0}.txt\".format(run_count), 'a') as fout:\n",
    "            fout.write(str(i) + \"\\n\")\n",
    "    else:\n",
    "        # Get the index of the maximum\n",
    "        lr_max_ind = np.nanargmax(c_lr)\n",
    "        \n",
    "        result = [indx_o_master[lr_max_ind],            # i_band_index into the master catalogue\n",
    "              (s2d_o.arcsec)[lr_max_ind],           # Separation between counterpart and LOFAR source\n",
    "              c_lr[lr_max_ind]]                     # Max LR value\n",
    "    \n",
    "    return result"
   ]
  },
  {
   "cell_type": "markdown",
   "metadata": {},
   "source": [
    "### Delete all the unnecessary data and columns to save memory\n",
    "Remove all columns other than raErr and decErr (xErr and yErr for K-band)"
   ]
  },
  {
   "cell_type": "code",
   "execution_count": 34,
   "metadata": {},
   "outputs": [],
   "source": [
    "del iK_ind, non_col_group, i_only, ir_only, i_det, ir_det, opt_ir_sources, snr_i, snr_ir, inmoc_nocat"
   ]
  },
  {
   "cell_type": "markdown",
   "metadata": {},
   "source": [
    "# Everything above are parameters that don't change\n",
    "\n",
    "---"
   ]
  },
  {
   "cell_type": "code",
   "execution_count": 35,
   "metadata": {},
   "outputs": [],
   "source": [
    "# Make a directory based on when the code is run to store output\n",
    "\n",
    "# Make the general directory to store the catalogue\n",
    "if os.path.exists(strftime(\"colour_runs\"+add_str+\"/%d_%m_%Y_1\")):\n",
    "    # Get list of directories created today\n",
    "    outdir_name = strftime(\"colour_runs\"+add_str+\"/%d_%m_%Y\")\n",
    "    dirs_today = sorted(glob.glob(outdir_name+\"*\"))\n",
    "\n",
    "    # Now create a new output directory name by adding one to the last number\n",
    "    last_num = int(dirs_today[-1][-1])+1\n",
    "\n",
    "    # Now finally create the directory\n",
    "    outdir_name = outdir_name+\"_\"+str(last_num)\n",
    "    os.makedirs(outdir_name)\n",
    "    outdir_intermediate = outdir_name+'/interm_output'\n",
    "    os.makedirs(outdir_intermediate)\n",
    "else:\n",
    "    outdir_name = strftime(\"colour_runs\"+add_str+\"/%d_%m_%Y_1\")\n",
    "    os.makedirs(outdir_name)\n",
    "    outdir_intermediate = outdir_name+'/interm_output'\n",
    "    os.makedirs(outdir_intermediate)\n"
   ]
  },
  {
   "cell_type": "code",
   "execution_count": 36,
   "metadata": {},
   "outputs": [
    {
     "data": {
      "text/plain": [
       "('colour_runs_workflow/05_04_2019_1',\n",
       " 'colour_runs_workflow/05_04_2019_1/interm_output')"
      ]
     },
     "execution_count": 36,
     "metadata": {},
     "output_type": "execute_result"
    }
   ],
   "source": [
    "outdir_name, outdir_intermediate"
   ]
  },
  {
   "cell_type": "markdown",
   "metadata": {},
   "source": [
    "# Now iterate the LR analysis\n",
    "\n",
    "-----"
   ]
  },
  {
   "cell_type": "code",
   "execution_count": 37,
   "metadata": {},
   "outputs": [],
   "source": [
    "# Load the LOFAR catalogue with the RUN1 matches\n",
    "final = Table.read(PATH_RUN1_MATCHES, format='fits')  ### Find LR > th from initial set of matches\n",
    "\n",
    "opt_lr = \"i\"\n",
    "mir_lr = \"ch2\""
   ]
  },
  {
   "cell_type": "code",
   "execution_count": 38,
   "metadata": {},
   "outputs": [
    {
     "data": {
      "text/plain": [
       "18263"
      ]
     },
     "execution_count": 38,
     "metadata": {},
     "output_type": "execute_result"
    }
   ],
   "source": [
    "len(final)"
   ]
  },
  {
   "cell_type": "code",
   "execution_count": 39,
   "metadata": {},
   "outputs": [
    {
     "name": "stdout",
     "output_type": "stream",
     "text": [
      "No. of sources above threshold in any band: 16018\n",
      "Frac. of LOFAR sources above threshold : 0.8770738651919181\n",
      "No. of NaNs: 2245\n",
      "No. of possible counterparts in any category: 16017\n",
      "No. of possible counterparts NOT in any category: 1\n"
     ]
    }
   ],
   "source": [
    "# Find the number of sources above the threshold in any of the bands\n",
    "n_th = (~np.isnan(final[\"lr_i\"]) | ~np.isnan(final[\"lr_ch2\"]))\n",
    "print(\"No. of sources above threshold in any band: \" + str(len(final[n_th])))\n",
    "\n",
    "print(\"Frac. of LOFAR sources above threshold : \" + str(len(final[n_th])/float(len(final))))\n",
    "\n",
    "final[\"lr_1\"] = np.nan\n",
    "final[\"lr_1\"][n_th] = np.nanmax((final[\"lr_i\"][n_th], final[\"lr_ch2\"][n_th]), axis=0)\n",
    "final[\"lr_type_1\"] = 0  # Sets numbers to be 0 for the ~700sources where all LRs in all bands are below threshold\n",
    "final[\"lr_type_1\"][n_th] = np.nanargmax((final[\"lr_i\"][n_th], final[\"lr_ch2\"][n_th]), axis=0) + 1\n",
    "\n",
    "# Based on the value of type, assign the MASTER index to lr_index_1 column and dist to the lr_dist_1 column\n",
    "final[\"lr_index_1\"] = np.nan\n",
    "final[\"lr_dist_1\"] = np.nan\n",
    "\n",
    "# Do it in a loop\n",
    "# String of the bands\n",
    "band_str = [opt_lr, mir_lr]\n",
    "\n",
    "for k in range(1,np.nanmax(final[\"lr_type_1\"])+1):\n",
    "\n",
    "    # Assing the MASTER index of the most likely band counterpart\n",
    "    final[\"lr_index_1\"][final[\"lr_type_1\"] == k] = final[\"lr_index_\"+band_str[k-1]][final[\"lr_type_1\"] == k]\n",
    "    \n",
    "    # Assign the distance to the most likely band counterpart\n",
    "    final[\"lr_dist_1\"][final[\"lr_type_1\"] == k] = final[\"lr_dist_\"+band_str[k-1]][final[\"lr_type_1\"] == k]\n",
    "\n",
    "print(\"No. of NaNs: {0}\".format(len(final[np.isnan(final[\"lr_index_1\"])])))\n",
    "### Associate each of the initial counterparts to the master[\"cat_no\"]\n",
    "\n",
    "# Colour category of the counterpart\n",
    "final[\"cat_no\"] = np.nan\n",
    "final[\"cat_no\"][n_th] = master[\"cat_no\"][(final[\"lr_index_1\"][n_th]).astype(int)]\n",
    "\n",
    "# The number of nan's ideally should be equal to the no of sources above threshold - but since not all MASTER\n",
    "# sources have a colour category, it will be lower\n",
    "print(\"No. of possible counterparts in any category: \" + str(np.sum(~np.isnan(final[\"cat_no\"][n_th]))))\n",
    "print(\"No. of possible counterparts NOT in any category: \" + str(np.sum(np.isnan(final[\"cat_no\"][n_th]))))\n",
    "\n",
    "### Finally compute q(m,c)\n",
    "\n",
    "# Indices of LOFAR catalogue sources within each category\n",
    "cat_ind = np.array([final[\"cat_no\"] == a[\"cat_no\"] for a in col_cat_def])\n",
    "\n",
    "# Copy the index field to be used and overwritten in loop\n",
    "final[\"lr_index_run_n\"] = np.copy(final[\"lr_index_1\"])\n"
   ]
  },
  {
   "cell_type": "code",
   "execution_count": 40,
   "metadata": {},
   "outputs": [
    {
     "name": "stdout",
     "output_type": "stream",
     "text": [
      "*MAX* No. of sources used for n(m,c) calculation, i.e. in MOC (less than this in reality): 2172469\n"
     ]
    }
   ],
   "source": [
    "# Set up the initial conditions before running a while loop to iterate the LR analysis\n",
    "\n",
    "# Indices of objects within rectangle - for n(m,c)\n",
    "# Find the indices in the master catalogue within the rectangle\n",
    "print(\"*MAX* No. of sources used for n(m,c) calculation, i.e. in MOC (less than this in reality): {0}\".format(np.sum(cat_inmoc)))\n",
    "\n",
    "# Define a parallel processing function\n",
    "\n",
    "# The number of cpu's to use\n",
    "ncpu = mp.cpu_count()\n",
    "ncpu_use = np.max([1, ncpu-1])\n",
    "\n",
    "def run_parallel_c(i):\n",
    "    \n",
    "    pool = mp.Pool(processes=ncpu_use)\n",
    "    resu = pool.map(apply_ml,i)\n",
    "    return resu\n",
    "\n",
    "# Initial value for number of categories where difference in source between previous run is non-zero\n",
    "diff_no_lofar_sum = 800\n",
    "n_changes = 800\n",
    "\n",
    "# Max number of sources per category that can change for while loop to converge\n",
    "tol = 1\n",
    "\n",
    "# While loop counter\n",
    "run_count = 1\n",
    "\n",
    "# The Minimum Q0 value to set - such that 1 LOFAR source over the whole area might be a possible counterpart\n",
    "null_Q0 = len(final) / (moc_area * 3600**2)\n",
    "null_Q0 = 1 / len(final)\n",
    "null_Q0 = 0.001\n",
    "\n",
    "null_Q0_nocat = null_Q0"
   ]
  },
  {
   "cell_type": "code",
   "execution_count": 41,
   "metadata": {},
   "outputs": [],
   "source": [
    "# Firstly generate bin list and centres\n",
    "nm_bin_list, nm_bin_c = gen_binc_binl(7., 35., 0.05)\n",
    "\n",
    "# FIX THE THRESHOLD OF LR\n",
    "fix_th = False\n",
    "\n",
    "lofar_co = SkyCoord(final['RA'], final['DEC'], unit=(u.deg, u.deg), frame='icrs')\n",
    "# New search radius to match the LOFAR and combined PanSTARRS WISE caalogue\n",
    "lof_opt_rad = 15."
   ]
  },
  {
   "cell_type": "code",
   "execution_count": 42,
   "metadata": {},
   "outputs": [
    {
     "name": "stdout",
     "output_type": "stream",
     "text": [
      "==================================================\n",
      "*************** RUN NUMBER: 1 ***************\n",
      "Number of counterparts in each category:\n",
      "i45_1 243\n",
      "i45_2 330\n",
      "i45_3 558\n",
      "i45_4 856\n",
      "i45_5 1018\n",
      "i45_6 1120\n",
      "i45_7 1028\n",
      "i45_8 958\n",
      "i45_9 919\n",
      "i45_10 879\n",
      "i45_11 793\n",
      "i45_12 786\n",
      "i45_13 799\n",
      "i45_14 791\n",
      "i45_15 778\n",
      "i45_16 1255\n",
      "i45_17 1056\n",
      "i_only 5\n",
      "ir_only 1845\n",
      "no_mag 0\n",
      "No. of nan mag in all colour categories: 0\n",
      "Q0: \n",
      "[0.01330559 0.01806932 0.03055358 0.04687072 0.05574112 0.06132618\n",
      " 0.05628867 0.05245578 0.05032032 0.0481301  0.04342112 0.04303784\n",
      " 0.04374966 0.04331161 0.04259979 0.06871817 0.05782183 0.001\n",
      " 0.10102393 0.001     ]\n",
      "26.813602685928345\n"
     ]
    },
    {
     "name": "stderr",
     "output_type": "stream",
     "text": [
      "/disk1/rohitk/miniconda3/lib/python3.6/site-packages/astropy/table/column.py:965: RuntimeWarning: invalid value encountered in less\n",
      "  return getattr(self.data, op)(other)\n",
      "/disk1/rohitk/miniconda3/lib/python3.6/site-packages/astropy/table/column.py:965: RuntimeWarning: invalid value encountered in greater\n",
      "  return getattr(self.data, op)(other)\n"
     ]
    },
    {
     "name": "stdout",
     "output_type": "stream",
     "text": [
      "Mean       Median     Std. Dev.  Length     Min        Max        Len_Zeros \n",
      "207.318956 101.532061 280.787986 18263      1.5279853533592809e-99 2829.21152 0         \n",
      "====================\n",
      "\n",
      "Q0: 0.8787453320922083\n",
      "Threshold: 4.290444701278383\n",
      "Cross-over threshold: 0.32\n",
      "Effective Q0 corresponding to cross-over threshold: 0.9086130427640585\n",
      "No of nan LRs: 207\n",
      "No of sources below threshold: 2190\n",
      "===================\n",
      "\n",
      "Total changes between runs: 655\n",
      "i45_1 -17\n",
      "i45_2 4\n",
      "i45_3 -12\n",
      "i45_4 -5\n",
      "i45_5 2\n",
      "i45_6 7\n",
      "i45_7 18\n",
      "i45_8 32\n",
      "i45_9 22\n",
      "i45_10 40\n",
      "i45_11 35\n",
      "i45_12 49\n",
      "i45_13 42\n",
      "i45_14 42\n",
      "i45_15 26\n",
      "i45_16 32\n",
      "i45_17 20\n",
      "i_only -5\n",
      "ir_only 245\n",
      "no_mag 0\n",
      "No. of sources in cat i45_3: 546\n",
      "**** N_changes: 141 ****\n",
      "**** T_changes: 2419 ****\n",
      "**** C_changes: 94 ****\n",
      "Iteration Time: 98.71133255958557\n",
      "==================================================\n",
      "*************** RUN NUMBER: 2 ***************\n",
      "Number of counterparts in each category:\n",
      "i45_1 226\n",
      "i45_2 334\n",
      "i45_3 546\n",
      "i45_4 851\n",
      "i45_5 1020\n",
      "i45_6 1127\n",
      "i45_7 1046\n",
      "i45_8 990\n",
      "i45_9 941\n",
      "i45_10 919\n",
      "i45_11 828\n",
      "i45_12 835\n",
      "i45_13 841\n",
      "i45_14 833\n",
      "i45_15 804\n",
      "i45_16 1287\n",
      "i45_17 1076\n",
      "i_only 0\n",
      "ir_only 2090\n",
      "no_mag 0\n"
     ]
    },
    {
     "name": "stderr",
     "output_type": "stream",
     "text": [
      "/disk1/rohitk/miniconda3/lib/python3.6/site-packages/astropy/table/column.py:965: RuntimeWarning: invalid value encountered in greater_equal\n",
      "  return getattr(self.data, op)(other)\n",
      "/disk1/rohitk/miniconda3/lib/python3.6/site-packages/astropy/table/column.py:965: RuntimeWarning: invalid value encountered in less_equal\n",
      "  return getattr(self.data, op)(other)\n"
     ]
    },
    {
     "name": "stdout",
     "output_type": "stream",
     "text": [
      "No. of nan mag in all colour categories: 0\n"
     ]
    },
    {
     "name": "stderr",
     "output_type": "stream",
     "text": [
      "/disk3/rohitk/Bootes/bootes_lr/mlrun1_bootes.py:684: RuntimeWarning: invalid value encountered in true_divide\n",
      "  return cumul_n_bins / float(cumul_n_bins[-1])\n"
     ]
    },
    {
     "name": "stdout",
     "output_type": "stream",
     "text": [
      "Q0: \n",
      "[0.01237475 0.01828834 0.02989651 0.04659694 0.05585063 0.06170947\n",
      " 0.05727427 0.05420796 0.05152494 0.05032032 0.04533757 0.04572086\n",
      " 0.04604939 0.04561135 0.04402344 0.07047035 0.05891694 0.001\n",
      " 0.11443903 0.001     ]\n",
      "27.158936262130737\n"
     ]
    },
    {
     "name": "stderr",
     "output_type": "stream",
     "text": [
      "/disk1/rohitk/miniconda3/lib/python3.6/site-packages/astropy/table/column.py:965: RuntimeWarning: invalid value encountered in less\n",
      "  return getattr(self.data, op)(other)\n",
      "/disk1/rohitk/miniconda3/lib/python3.6/site-packages/astropy/table/column.py:965: RuntimeWarning: invalid value encountered in greater\n",
      "  return getattr(self.data, op)(other)\n"
     ]
    },
    {
     "name": "stdout",
     "output_type": "stream",
     "text": [
      "Mean       Median     Std. Dev.  Length     Min        Max        Len_Zeros \n",
      "210.538598 104.608169 282.691767 18263      1.875066703137331e-97 2829.336335 0         \n",
      "====================\n",
      "\n",
      "Q0: 0.9106130427640584\n",
      "Threshold: 1.1989308172518112\n",
      "Cross-over threshold: 0.215\n",
      "Effective Q0 corresponding to cross-over threshold: 0.91146032962821\n",
      "No of nan LRs: 244\n",
      "No of sources below threshold: 1611\n",
      "===================\n",
      "\n",
      "Total changes between runs: 56\n",
      "i45_1 4\n",
      "i45_2 1\n",
      "i45_3 0\n",
      "i45_4 -2\n",
      "i45_5 4\n",
      "i45_6 0\n",
      "i45_7 3\n",
      "i45_8 7\n",
      "i45_9 7\n",
      "i45_10 8\n",
      "i45_11 5\n",
      "i45_12 0\n",
      "i45_13 2\n",
      "i45_14 1\n",
      "i45_15 2\n",
      "i45_16 1\n",
      "i45_17 0\n",
      "i_only 0\n",
      "ir_only 5\n",
      "no_mag 4\n",
      "No. of sources in cat i45_3: 546\n",
      "**** N_changes: 1 ****\n",
      "**** T_changes: 1672 ****\n",
      "**** C_changes: 1 ****\n",
      "Iteration Time: 198.68337893486023\n",
      "Total time taken for iterations:  198.68356823921204\n"
     ]
    },
    {
     "name": "stderr",
     "output_type": "stream",
     "text": [
      "/disk1/rohitk/miniconda3/lib/python3.6/site-packages/astropy/table/column.py:965: RuntimeWarning: invalid value encountered in greater_equal\n",
      "  return getattr(self.data, op)(other)\n",
      "/disk1/rohitk/miniconda3/lib/python3.6/site-packages/astropy/table/column.py:965: RuntimeWarning: invalid value encountered in less_equal\n",
      "  return getattr(self.data, op)(other)\n"
     ]
    }
   ],
   "source": [
    "# MAKE SURE n_th changes before the while loop goes to the next iteration\n",
    "# Run the while loop iterate\n",
    "tin = time.time()\n",
    "\n",
    "# Store the LR thresholds\n",
    "th_runs = []\n",
    "th_cross_l = []\n",
    "th_runs_old = []\n",
    "\n",
    "while diff_no_lofar_sum > tol:\n",
    "    \n",
    "    final[\"lr_index_run_n-1\"] = np.copy(final[\"lr_index_run_n\"])\n",
    "    final[\"cat_no-1\"] = np.copy(final[\"cat_no\"])\n",
    "    \n",
    "    print(\"==================================================\")\n",
    "    print(\"*************** RUN NUMBER: {0} ***************\".format(str(run_count)))\n",
    "    \n",
    "    # Number of counterparts in each bin\n",
    "    no_lofar = np.sum(cat_ind, axis=1)\n",
    "    print(\"Number of counterparts in each category:\")\n",
    "\n",
    "    for k in range(len(no_lofar)):\n",
    "        print(all_cat[k], no_lofar[k])\n",
    "    \n",
    "    ################# q(m,c) and n(m,c) ##############\n",
    "\n",
    "    # Compute n(m) for each category using the master catalogue positions\n",
    "\n",
    "    # Use a for loop to decide what band magnitude to use for n(m) and q(m) based on a category c\n",
    "\n",
    "    mag_qm = []\n",
    "    mag_nm = []\n",
    "\n",
    "    for a in range(len(cat_ind) - 1):\n",
    "\n",
    "        # Magnitude distribution of the initial matches within category a (cat_ind[a] gives sources within category a)\n",
    "        mag_qm.append(master[mag_col_name[a]][(final[\"lr_index_run_n\"][cat_ind[a]]).astype(int)])\n",
    "            \n",
    "        # Magnitude distribution of all sources within rectangle and category a\n",
    "        mag_nm.append(master[mag_col_name[a]][((cat_inmoc) & (master[\"cat_no\"] == a))])\n",
    "\n",
    "    no_nans = []\n",
    "    no_nans = [np.sum(np.isnan(aa)) for aa in mag_nm]\n",
    "    print(\"No. of nan mag in all colour categories: \" + str(np.sum(no_nans)))\n",
    "\n",
    "    # To get the cumulative q(m,c): bin the the q(m) in each colour category - then calculate cumulative sum\n",
    "\n",
    "    # Cumulative n(m,c)\n",
    "    # mag_nm_cumul = np.array([get_nm_c(aa, nm_bin_list, moc_area*3600**2) for aa in mag_nm])\n",
    "    # mag_nm_cumul = np.array([get_n_m_kde(aa, nm_bin_c, area=moc_area*(3600**2), bandwidth=0.5) for aa in mag_nm])\n",
    "    \n",
    "    mag_nm_cumul = []\n",
    "    for aa in mag_nm:\n",
    "        if len(aa) != 0:\n",
    "            mag_nm_cumul.append(get_n_m_kde(aa, nm_bin_c, area=moc_area*(3600**2), bandwidth=0.5))    \n",
    "        else:\n",
    "            mag_nm_cumul.append(get_nm_c(aa, nm_bin_list, moc_area*3600**2))\n",
    "    mag_nm_cumul = np.array(mag_nm_cumul)\n",
    "\n",
    "    # Cumulative q(m,c)\n",
    "    # mag_qm_cumul = np.array([get_qm_c(aa, nm_bin_list) for aa in mag_qm])\n",
    "    # mag_qm_cumul = np.array([get_q_m_kde(aa, nm_bin_c, radius=lof_opt_rad, bandwidth=0.5) for aa in mag_qm])\n",
    "    \n",
    "    mag_qm_cumul = []\n",
    "    for aa in mag_qm:\n",
    "        if len(aa) != 0:\n",
    "            mag_qm_cumul.append(get_q_m_kde(aa, nm_bin_c, radius=lof_opt_rad, bandwidth=0.5))\n",
    "        else:\n",
    "            mag_qm_cumul.append(get_qm_c(aa, nm_bin_list))\n",
    "    mag_qm_cumul = np.array(mag_qm_cumul)\n",
    "    \n",
    "    # Q0 for each colour category\n",
    "    Q0_c = no_lofar / float(len(final))\n",
    "    # For very low Q0_c values, set a minimum of 0.001 otherwise it will iterate down to zero\n",
    "    Q0_c[Q0_c < null_Q0] = null_Q0\n",
    "    print(\"Q0: \")\n",
    "    print(Q0_c)\n",
    "\n",
    "    # Total Q0 value - summing over all of them \n",
    "    # Q0 = np.sum(no_lofar) / float(len(final))\n",
    "    Q0 = np.sum(Q0_c)\n",
    "\n",
    "    # Plot n(m,c)\n",
    "    plot_qn_c(nm_bin_c, mag_nm_cumul, outdir_intermediate+'/nm_c_run_'+str(run_count+1)+'.pdf')\n",
    "    plot_qn_c(nm_bin_c, np.cumsum(mag_nm_cumul, axis=1), outdir_intermediate+'/nm_csum_c_run_'+str(run_count+1)+'.pdf')\n",
    "\n",
    "    # Plot q(m,c)\n",
    "    plot_qn_c(nm_bin_c, mag_qm_cumul, outdir_intermediate+'/qm_c_run_'+str(run_count+1)+'.pdf')\n",
    "    plot_qn_c(nm_bin_c, np.cumsum(mag_qm_cumul, axis=1), outdir_intermediate+'/qm_csum_c_run_'+str(run_count+1)+'.pdf')\n",
    "\n",
    "    ###############################################\n",
    "    #             Run LR analysis                 #\n",
    "    ###############################################\n",
    "\n",
    "    # Select the non-nan category sources in master catalogue - this \n",
    "    # excludes the spurious K-band detections that are present in the master catalogue\n",
    "    master_categ = master[~np.isnan(master[\"cat_no\"])]\n",
    "\n",
    "    # Convert master positions to SkyCoord object\n",
    "    master_coords = SkyCoord(master_categ['ALPHA_J2000'], master_categ['DELTA_J2000'],\n",
    "                             unit=(u.deg, u.deg), frame='icrs')\n",
    "\n",
    "    # Match the coordinates\n",
    "    indx_l, indx_m, s2d, _ = search_around_sky(lofar_co, master_coords, \n",
    "                                                lof_opt_rad*u.arcsec)\n",
    "\n",
    "    # Number of unique LOFAR sources with a match to the master catalogue\n",
    "    ind_l_un = np.unique(indx_l)\n",
    "\n",
    "    # Now run the parallel process\n",
    "\n",
    "    # Initialise the columns to store the output of LR values\n",
    "    final[\"lr_run_n\"] = np.nan\n",
    "    final[\"lr_index_run_n\"] = np.nan\n",
    "    final[\"lr_dist_run_n\"] = np.nan\n",
    "\n",
    "    t2 = time.time()\n",
    "\n",
    "    res = run_parallel_c(ind_l_un)\n",
    "\n",
    "    (final[\"lr_index_run_n\"][ind_l_un],\n",
    "    final[\"lr_dist_run_n\"][ind_l_un],\n",
    "    final[\"lr_run_n\"][ind_l_un]) = list(map(list, zip(*res)))\n",
    "    \n",
    "    del res\n",
    "\n",
    "    print(time.time() - t2)\n",
    "    \n",
    "    # Calculate the threshold \n",
    "    threshold_all = np.nanpercentile(final[\"lr_run_n\"], 100*(1 - Q0))\n",
    "    \n",
    "    if fix_th == True:        \n",
    "        # Fix the threshold\n",
    "        threshold_all = 0.5\n",
    "    \n",
    "    th_runs_old.append(threshold_all)\n",
    "    \n",
    "    # Compute the completeness and reliability and plot them\n",
    "    thresholds = np.arange(0., 1.5 * threshold_all, 0.005)\n",
    "    th_cross, completeness_t, reliability_t = comp_rel_threshold(final[\"lr_run_n\"], thresholds, Q0)\n",
    "    \n",
    "    th_runs.append(th_cross)\n",
    "    th_cross_l.append(th_cross)\n",
    "    \n",
    "    fig = plt.figure()\n",
    "    plt.plot(thresholds, completeness_t, \"r-\")\n",
    "    plt.plot(thresholds, reliability_t, \"g-\")\n",
    "    # plt.plot(thresholds, average_t, \"k-\")\n",
    "    plt.axvline(th_cross, color=\"k\", ls=\"--\")\n",
    "    plt.axvline(threshold_all, color=\"y\", ls=\":\")\n",
    "    plt.xlabel(r\"$Threshold$\")\n",
    "    plt.ylabel(r\"$Completeness/Reliability$\")\n",
    "    # plt.xscale('log')\n",
    "    plt.tight_layout()\n",
    "    plt.savefig(outdir_intermediate+\"/completeness_reliability_\"+str(run_count+1)+\".pdf\")\n",
    "    plt.close()\n",
    "    \n",
    "    # Plot the LR values\n",
    "    lr_n, lr_e, _ = return_hist_par(1, final[\"lr_run_n\"][~np.isnan(final[\"lr_run_n\"])])\n",
    "\n",
    "    fig = plt.figure()\n",
    "    plt.hist(final[\"lr_run_n\"][~np.isnan(final[\"lr_run_n\"])], bins=lr_e)\n",
    "    plt.axvline(threshold_all, 0, 1, color='r')\n",
    "    plt.yscale('log')\n",
    "    plt.xlabel('$log(LR)$')\n",
    "    plt.tight_layout()\n",
    "    plt.savefig(outdir_intermediate+\"/LR_run_\"+str(run_count+1)+\".pdf\")\n",
    "    plt.close()\n",
    "\n",
    "    varstat(final[\"lr_run_n\"])\n",
    "    \n",
    "    ###########################################\n",
    "    #            Prepare for next run         #\n",
    "    #            Update the categories        #\n",
    "    ###########################################\n",
    "    # prefilt_lr = np.copy(final[\"lr_run_n\"])  # Uncomment to get the last set of plots working\n",
    "    \n",
    "    print(\"====================\\n\")\n",
    "    print(\"Q0: \" + str(Q0))\n",
    "    print(\"Threshold: \"+ str(threshold_all))\n",
    "    print(\"Cross-over threshold: {0}\".format(th_cross))\n",
    "    print(\"Effective Q0 corresponding to cross-over threshold: {0}\".format(np.sum(final[\"lr_run_n\"] >= th_cross)/len(lofar_co)))\n",
    "    print(\"No of nan LRs: \" + str(len(final[np.isnan(final[\"lr_run_n\"])])))\n",
    "\n",
    "    print(\"No of sources below threshold: \" + \n",
    "          str(len(final[\"lr_run_n\"][final[\"lr_run_n\"] <=threshold_all])))\n",
    "    print(\"===================\\n\")\n",
    "\n",
    "    # Overwrite the threshold used\n",
    "    threshold_all = np.copy(th_cross)\n",
    "    \n",
    "    # Give all sources below the threshold a nan value\n",
    "    final[\"lr_index_run_n\"][final[\"lr_run_n\"] < threshold_all] = np.nan\n",
    "    final[\"lr_dist_run_n\"][final[\"lr_run_n\"] < threshold_all] = np.nan\n",
    "    final[\"lr_run_n\"][final[\"lr_run_n\"] < threshold_all] = np.nan\n",
    "    \n",
    "    # print(\"No of sources below th or without LR: \", np.sum(np.isnan(final[\"lr_run_n\"])))\n",
    "    \n",
    "    # Sources above the threshold - UPDATING n_th here\n",
    "    n_th = ~np.isnan(final[\"lr_run_n\"])\n",
    "    \n",
    "    # Colour category of the counterpart\n",
    "    final[\"cat_no\"] = np.nan\n",
    "    final[\"cat_no\"][n_th] = master[\"cat_no\"][(final[\"lr_index_run_n\"][n_th]).astype(int)]\n",
    "    \n",
    "    # print(\"No. of LOFAR matches with no colour category: {0}\".format(np.sum(np.isnan(final[\"cat_no\"]))))\n",
    "    \n",
    "    # Get the indices of the new categories\n",
    "    # Indices of LOFAR catalogue sources within each category\n",
    "    cat_ind = np.array([final[\"cat_no\"] == a[\"cat_no\"] for a in col_cat_def])\n",
    "\n",
    "    # Number of counterparts in each bin\n",
    "    no_lofar_r2 = np.sum(cat_ind, axis=1)\n",
    "    \n",
    "    # Difference in each colour category between the two runs\n",
    "    diff_nos = no_lofar_r2 - no_lofar\n",
    "    print(\"Total changes between runs: \" + str(np.sum(np.abs(diff_nos))))\n",
    "    for k in range(len(no_lofar)):\n",
    "        print(all_cat[k], diff_nos[k])\n",
    "    \n",
    "    # Update the while loop condition - If no changes then the len(argument) = 0 - while loop stops\n",
    "    diff_no_lofar_sum = len(diff_nos[np.abs(diff_nos) > tol])   # This is the coorection method\n",
    "    \n",
    "    # The below line was adapted for Bootes testing\n",
    "    diff_no_lofar_sum = np.sum(np.abs(diff_nos))\n",
    "    \n",
    "    # Assign the LR, index and dist values to the older field name\n",
    "    # final[\"lr_index_n\"] = np.copy(final[\"lr_index_run_n\"])\n",
    "    print(\"No. of sources in cat {0}: {1}\".format(all_cat[2], np.sum(final[\"cat_no\"] == 2)))\n",
    "    \n",
    "    n_changes = np.sum((final[\"lr_index_run_n\"] != final[\"lr_index_run_n-1\"]) & \n",
    "                      (~np.isnan(final[\"lr_index_run_n\"])) & \n",
    "                      (~np.isnan(final[\"lr_index_run_n-1\"])))\n",
    "    t_changes = np.sum((final[\"lr_index_run_n\"] != final[\"lr_index_run_n-1\"]))\n",
    "    \n",
    "    c_changes = np.sum((final[\"cat_no\"] != final[\"cat_no-1\"]) & \n",
    "                      (~np.isnan(final[\"cat_no\"])) & \n",
    "                      (~np.isnan(final[\"cat_no-1\"])))\n",
    "    \n",
    "    print(\"**** N_changes: {0} ****\".format(n_changes))\n",
    "    print(\"**** T_changes: {0} ****\".format(t_changes))\n",
    "    print(\"**** C_changes: {0} ****\".format(c_changes))\n",
    "    \n",
    "    diff_no_lofar_sum = np.copy(n_changes)\n",
    "    \n",
    "    # Update the loop counter\n",
    "    run_count = run_count + 1\n",
    "    \n",
    "    print(\"Iteration Time: {0}\".format(time.time() - tin))\n",
    "\n",
    "print(\"Total time taken for iterations: \", time.time() - tin)"
   ]
  },
  {
   "cell_type": "code",
   "execution_count": 43,
   "metadata": {},
   "outputs": [
    {
     "name": "stdout",
     "output_type": "stream",
     "text": [
      "0.91146032962821\n",
      "0.9086130427640585\n",
      "Actual Q0:  0.9106130427640584\n"
     ]
    }
   ],
   "source": [
    "print(np.sum(~np.isnan(final[\"lr_run_n\"])) / len(final))\n",
    "print(np.sum(no_lofar) / float(len(final)))\n",
    "print(\"Actual Q0: \", Q0)"
   ]
  },
  {
   "cell_type": "code",
   "execution_count": 44,
   "metadata": {},
   "outputs": [
    {
     "name": "stdout",
     "output_type": "stream",
     "text": [
      "Number of counterparts in each category:\n",
      "i45_1 230\n",
      "i45_2 335\n",
      "i45_3 546\n",
      "i45_4 849\n",
      "i45_5 1024\n",
      "i45_6 1127\n",
      "i45_7 1049\n",
      "i45_8 997\n",
      "i45_9 948\n",
      "i45_10 927\n",
      "i45_11 833\n",
      "i45_12 835\n",
      "i45_13 843\n",
      "i45_14 834\n",
      "i45_15 806\n",
      "i45_16 1288\n",
      "i45_17 1076\n",
      "i_only 0\n",
      "ir_only 2095\n",
      "no_mag 4\n",
      "No. of nan mag in all colour categories: 0\n"
     ]
    },
    {
     "name": "stderr",
     "output_type": "stream",
     "text": [
      "/disk3/rohitk/Bootes/bootes_lr/mlrun1_bootes.py:684: RuntimeWarning: invalid value encountered in true_divide\n",
      "  return cumul_n_bins / float(cumul_n_bins[-1])\n"
     ]
    },
    {
     "name": "stdout",
     "output_type": "stream",
     "text": [
      "Q0: \n",
      "[0.01259377 0.0183431  0.02989651 0.04648743 0.05606965 0.06170947\n",
      " 0.05743854 0.05459125 0.05190823 0.05075836 0.04561135 0.04572086\n",
      " 0.0461589  0.0456661  0.04413295 0.07052511 0.05891694 0.001\n",
      " 0.11471281 0.001     ]\n"
     ]
    }
   ],
   "source": [
    "# print(\"***** Final categories, Q0, n(m,c) and q(m,c) calculation\")\n",
    "\n",
    "# Number of counterparts in each bin\n",
    "no_lofar = np.sum(cat_ind, axis=1)\n",
    "print(\"Number of counterparts in each category:\")\n",
    "\n",
    "for k in range(len(no_lofar)):\n",
    "    print(all_cat[k], no_lofar[k])\n",
    "\n",
    "################# q(m,c) and n(m,c) ##############\n",
    "\n",
    "# Compute n(m) for each category using the master catalogue positions\n",
    "\n",
    "# Use a for loop to decide what band magnitude to use for n(m) and q(m) based on a category c\n",
    "\n",
    "mag_qm = []\n",
    "mag_nm = []\n",
    "\n",
    "for a in range(len(cat_ind) - 1):\n",
    "\n",
    "    # Magnitude distribution of the initial matches within category a (cat_ind[a] gives sources within category a)\n",
    "    mag_qm.append(master[mag_col_name[a]][(final[\"lr_index_run_n\"][cat_ind[a]]).astype(int)])\n",
    "\n",
    "    # Magnitude distribution of all sources within rectangle and category a\n",
    "    mag_nm.append(master[mag_col_name[a]][((cat_inmoc) & (master[\"cat_no\"] == a))])\n",
    "\n",
    "no_nans = []\n",
    "no_nans = [np.sum(np.isnan(aa)) for aa in mag_nm]\n",
    "print(\"No. of nan mag in all colour categories: \" + str(np.sum(no_nans)))\n",
    "\n",
    "# To get the cumulative q(m,c): bin the the q(m) in each colour category - then calculate cumulative sum\n",
    "\n",
    "# Cumulative n(m,c)\n",
    "mag_nm_cumul = []\n",
    "for aa in mag_nm:\n",
    "    if len(aa) != 0:\n",
    "        mag_nm_cumul.append(get_n_m_kde(aa, nm_bin_c, area=moc_area*(3600**2), bandwidth=0.5))    \n",
    "    else:\n",
    "        mag_nm_cumul.append(get_nm_c(aa, nm_bin_list, moc_area*3600**2))\n",
    "mag_nm_cumul = np.array(mag_nm_cumul)\n",
    "\n",
    "# Cumulative q(m,c)\n",
    "# mag_qm_cumul = np.array([get_qm_c(aa, nm_bin_list) for aa in mag_qm])\n",
    "# mag_qm_cumul = np.array([get_q_m_kde(aa, nm_bin_c, radius=lof_opt_rad, bandwidth=0.5) for aa in mag_qm])\n",
    "\n",
    "mag_qm_cumul = []\n",
    "for aa in mag_qm:\n",
    "    if len(aa) != 0:\n",
    "        mag_qm_cumul.append(get_q_m_kde(aa, nm_bin_c, radius=lof_opt_rad, bandwidth=0.5))\n",
    "    else:\n",
    "        mag_qm_cumul.append(get_qm_c(aa, nm_bin_list))\n",
    "mag_qm_cumul = np.array(mag_qm_cumul)\n",
    "\n",
    "\n",
    "# Q0 for each colour category\n",
    "Q0_c = no_lofar / float(len(final))\n",
    "# For very low Q0_c values, set a minimum of 0.001 otherwise it will iterate down to zero\n",
    "Q0_c[Q0_c < null_Q0] = null_Q0\n",
    "print(\"Q0: \")\n",
    "print(Q0_c)\n",
    "\n",
    "# Total Q0 value - summing over all of them \n",
    "Q0 = np.sum(Q0_c)\n",
    "\n",
    "# Plot n(m,c)\n",
    "plot_qn_c(nm_bin_c, mag_nm_cumul, outdir_intermediate+'/nm_c_run_'+str(run_count+1)+'.pdf')\n",
    "plot_qn_c(nm_bin_c, np.cumsum(mag_nm_cumul, axis=1), outdir_intermediate+'/nm_csum_c_run_'+str(run_count+1)+'.pdf')\n",
    "\n",
    "# Plot q(m,c)\n",
    "plot_qn_c(nm_bin_c, mag_qm_cumul, outdir_intermediate+'/qm_c_run_'+str(run_count+1)+'.pdf')\n",
    "plot_qn_c(nm_bin_c, np.cumsum(mag_qm_cumul, axis=1), outdir_intermediate+'/qm_csum_c_run_'+str(run_count+1)+'.pdf')"
   ]
  },
  {
   "cell_type": "code",
   "execution_count": 45,
   "metadata": {},
   "outputs": [
    {
     "data": {
      "text/plain": [
       "0.9132413075617368"
      ]
     },
     "execution_count": 45,
     "metadata": {},
     "output_type": "execute_result"
    }
   ],
   "source": [
    "Q0"
   ]
  },
  {
   "cell_type": "code",
   "execution_count": 46,
   "metadata": {},
   "outputs": [
    {
     "name": "stdout",
     "output_type": "stream",
     "text": [
      "Sources without LR values: 1617 : 8.8540 % \n",
      "Effective fraction of matches: 91.1460 %\n",
      "Threshold values: \n",
      "[0.32, 0.215]\n"
     ]
    }
   ],
   "source": [
    "n_n = np.isnan(final[\"lr_index_run_n\"])\n",
    "print(\"Sources without LR values: {0} : {1:4.4f} % \".format(np.sum(n_n), np.sum(n_n)/len(final)*100))\n",
    "print(\"Effective fraction of matches: {0:4.4f} %\".format(np.sum(~np.isnan(final[\"lr_run_n\"]))/len(final)*100))\n",
    "print(\"Threshold values: \")\n",
    "print(th_runs)"
   ]
  },
  {
   "cell_type": "code",
   "execution_count": 47,
   "metadata": {},
   "outputs": [],
   "source": [
    "# Write the matches to file\n",
    "# run_type = \"_faint_\"  # If no flux limit then set run_type = \"_\"\n",
    "run_type = \"_\"\n",
    "final.write(outdir_name+'/ML_RUN'+str(run_count)+run_type + cat_type + '_nanth', format='ascii', overwrite=True)\n",
    "final.write(outdir_name+'/ML_RUN'+str(run_count)+run_type + cat_type + '_nanth.fits', format='fits', overwrite=True)"
   ]
  },
  {
   "cell_type": "code",
   "execution_count": 48,
   "metadata": {},
   "outputs": [],
   "source": [
    "# Save the q(m,c) and n(m,c) from the final iteration\n",
    "# Filenames to store the intermediate output\n",
    "nmc_f = '{0}/nm{1}c{2}.txt'.format(outdir_name, run_type, cat_type)\n",
    "qmc_f = '{0}/qm{1}c{2}.txt'.format(outdir_name, run_type, cat_type)\n",
    "nmbc_f = '{0}/nm_bin_centres{1}.txt'.format(outdir_name, cat_type)\n",
    "colgroups_f = '{0}/RUN{1}colour_groupings.txt'.format(outdir_name, run_count)\n",
    "q0c_f = '{0}/Q0_c{1}.txt'.format(outdir_name, cat_type)\n",
    "th_f = '{0}/iter_threshold{1}.txt'.format(outdir_name, cat_type)\n",
    "th_f_old = '{0}/iter_threshold_old{1}.txt'.format(outdir_name, cat_type)\n",
    "\n",
    "# Or store as a pckl file\n",
    "pickle.dump([mag_nm_cumul, mag_qm_cumul, nm_bin_c, no_lofar_r2, Q0_c, th_runs],\n",
    "            open('{0}/col_iter_out{1}.pckl'.format(outdir_name, cat_type), \"wb\"))\n",
    "\n",
    "np.savetxt(nmc_f, mag_nm_cumul, delimiter=' ')\n",
    "np.savetxt(qmc_f, mag_qm_cumul, delimiter=' ')\n",
    "np.savetxt(nmbc_f, nm_bin_c, delimiter=' ')\n",
    "np.savetxt(colgroups_f, no_lofar_r2, delimiter=' ', fmt='%d')\n",
    "np.savetxt(q0c_f, Q0_c, delimiter=' ')\n",
    "with open(th_f, 'w') as thout:\n",
    "    for abc in th_runs:\n",
    "        thout.write(str(abc) + \"\\n\")\n",
    "with open(th_f_old, 'w') as thout:\n",
    "    for abc in th_runs_old:\n",
    "        thout.write(str(abc) + \"\\n\")"
   ]
  },
  {
   "cell_type": "code",
   "execution_count": 49,
   "metadata": {},
   "outputs": [
    {
     "name": "stdout",
     "output_type": "stream",
     "text": [
      "Time taken for the full code to run:  813.0923218727112\n"
     ]
    }
   ],
   "source": [
    "print(\"Time taken for the full code to run: \", time.time() - tstart)"
   ]
  },
  {
   "cell_type": "code",
   "execution_count": 50,
   "metadata": {},
   "outputs": [
    {
     "data": {
      "text/plain": [
       "0"
      ]
     },
     "execution_count": 50,
     "metadata": {},
     "output_type": "execute_result"
    }
   ],
   "source": [
    "# Move the HTML notebook to the output directory\n",
    "os.system(\"jupyter-nbconvert MaxL_RUN2_iter.ipynb && mv MaxL_RUN2_iter.html {0}\".format(outdir_name))"
   ]
  },
  {
   "cell_type": "code",
   "execution_count": 51,
   "metadata": {},
   "outputs": [
    {
     "data": {
      "text/plain": [
       "'colour_runs_workflow/05_04_2019_1'"
      ]
     },
     "execution_count": 51,
     "metadata": {},
     "output_type": "execute_result"
    }
   ],
   "source": [
    "outdir_name"
   ]
  },
  {
   "cell_type": "code",
   "execution_count": 69,
   "metadata": {},
   "outputs": [],
   "source": [
    "del final, outdir_name, cata_moc"
   ]
  },
  {
   "cell_type": "markdown",
   "metadata": {},
   "source": [
    "# Now run the calibrated $q(m,c)$ on the FULL LOFAR catalogue (in the overlapping area)"
   ]
  },
  {
   "cell_type": "markdown",
   "metadata": {},
   "source": [
    "## Load and filter LOFAR Catalogue to overlapping region only"
   ]
  },
  {
   "cell_type": "code",
   "execution_count": 70,
   "metadata": {},
   "outputs": [],
   "source": [
    "# Definition of the paths\n",
    "# PATH_PYBDSF_RAW = \"/disk3/rohitk/Bootes/radio/image_full_ampphase_di_m.NS_shift.blanked.scaled.cat.fits\"\n",
    "PATH_PYBDSF_RAW = \"/disk3/rohitk/Bootes/radio/image_full_ampphase_di_m.NS_shift.blanked.scaled.cat.gaul.fits\"\n",
    "\n",
    "# Read in Final Catalogue - LOFAR DATA\n",
    "deepfull = Table.read(PATH_PYBDSF_RAW)"
   ]
  },
  {
   "cell_type": "code",
   "execution_count": 71,
   "metadata": {},
   "outputs": [
    {
     "name": "stdout",
     "output_type": "stream",
     "text": [
      "_gaul\n"
     ]
    }
   ],
   "source": [
    "# Get the type of catalogue (srl) or (gaul)\n",
    "if PATH_PYBDSF_RAW.split(\"/\")[-1][-8:-5] == \"cat\":\n",
    "    cat_type = \"_srl\"\n",
    "    id_type = \"Source_id\"  # Column name to choose - NOT USED\n",
    "elif PATH_PYBDSF_RAW.split(\"/\")[-1][-9:-5] == \"gaul\":\n",
    "    cat_type = \"_gaul\"\n",
    "    id_type = \"Gaus_id\"\n",
    "\n",
    "print(cat_type)"
   ]
  },
  {
   "cell_type": "code",
   "execution_count": 72,
   "metadata": {},
   "outputs": [],
   "source": [
    "# Make the general directory to store the catalogue\n",
    "if os.path.exists(strftime(\"full_runs\"+cat_type+add_str+\"/%d_%m_%Y_1\")):\n",
    "    # Get list of directories created today\n",
    "    outdir_name = strftime(\"full_runs\"+cat_type+add_str+\"/%d_%m_%Y\")\n",
    "    dirs_today = sorted(glob.glob(outdir_name+\"*\"))\n",
    "\n",
    "    # Now create a new output directory name by adding one to the last number\n",
    "    last_num = int(dirs_today[-1][-1]) + 1\n",
    "\n",
    "    # Now finally create the directory\n",
    "    outdir_name = outdir_name+\"_\"+str(last_num)\n",
    "    os.makedirs(outdir_name)\n",
    "else:\n",
    "    outdir_name = strftime(\"full_runs\"+cat_type+add_str+\"/%d_%m_%Y_1\")\n",
    "    os.makedirs(outdir_name)"
   ]
  },
  {
   "cell_type": "code",
   "execution_count": 73,
   "metadata": {},
   "outputs": [
    {
     "data": {
      "text/plain": [
       "'full_runs_gaul_workflow/05_04_2019_1'"
      ]
     },
     "execution_count": 73,
     "metadata": {},
     "output_type": "execute_result"
    }
   ],
   "source": [
    "outdir_name"
   ]
  },
  {
   "cell_type": "code",
   "execution_count": 74,
   "metadata": {},
   "outputs": [
    {
     "name": "stdout",
     "output_type": "stream",
     "text": [
      "Area of MOC: 9.643885598599503 sq. deg.\n",
      "Total no. of LOFAR sources in MOC: 27040\n"
     ]
    }
   ],
   "source": [
    "# Read in the MOC file\n",
    "PATH_MOC = \"/disk3/rohitk/Bootes/Bootes_optical/moc_files/Bootes_I-band_MOC.fits\"\n",
    "\n",
    "# Generate a MOC class instance first\n",
    "cata_moc = pymoc.MOC()\n",
    "pymoc.io.fits.read_moc_fits(cata_moc, PATH_MOC)\n",
    "\n",
    "moc_area = cata_moc.area_sq_deg\n",
    "print(\"Area of MOC: {0} sq. deg.\".format(moc_area))\n",
    "\n",
    "forlr_indx = inMoc(deepfull[\"RA\"], deepfull[\"DEC\"], cata_moc)\n",
    "\n",
    "final = deepfull[forlr_indx]\n",
    "print(\"Total no. of LOFAR sources in MOC: {0}\".format(np.sum(forlr_indx)))"
   ]
  },
  {
   "cell_type": "markdown",
   "metadata": {},
   "source": [
    "### Load in the $n(m,c)$, $q(m,c)$ and bins used for $n(m,c)$"
   ]
  },
  {
   "cell_type": "code",
   "execution_count": 75,
   "metadata": {},
   "outputs": [
    {
     "name": "stdout",
     "output_type": "stream",
     "text": [
      "colour_runs_workflow/05_04_2019_1\n",
      "Q0:\n",
      "[0.01259377 0.0183431  0.02989651 0.04648743 0.05606965 0.06170947\n",
      " 0.05743854 0.05459125 0.05190823 0.05075836 0.04561135 0.04572086\n",
      " 0.0461589  0.0456661  0.04413295 0.07052511 0.05891694 0.001\n",
      " 0.11471281 0.001     ]\n",
      "Final Q0 from calibration: 0.9132413075617368\n"
     ]
    }
   ],
   "source": [
    "# Load the latest colour-calibration directory run on srl catalogue\n",
    "mldir = latest_dir(\"colour_runs\"+add_str+\"/*2019*\")\n",
    "print(mldir)\n",
    "\n",
    "mag_nm_cumul, mag_qm_cumul, nm_bin_c, _, Q0_c, th_runs  = pickle.load(open('{0}/col_iter_out_srl.pckl'.format(mldir, cat_type), \"rb\"))\n",
    "# threshold_fin = float(th_runs[-1])\n",
    "Q0 = np.sum(Q0_c)\n",
    "\n",
    "print(\"Q0:\")\n",
    "print(Q0_c)\n",
    "print(\"Final Q0 from calibration: {0}\".format(Q0))"
   ]
  },
  {
   "cell_type": "markdown",
   "metadata": {},
   "source": [
    "### Compute f(r)"
   ]
  },
  {
   "cell_type": "code",
   "execution_count": 76,
   "metadata": {},
   "outputs": [
    {
     "name": "stdout",
     "output_type": "stream",
     "text": [
      "26677\n"
     ]
    }
   ],
   "source": [
    "lofar_coords = SkyCoord(final[\"RA\"], final[\"DEC\"], unit='deg', frame='icrs')\n",
    "# Select the non-nan category sources in master catalogue - this \n",
    "# excludes the spurious K-band detections that are present in the master catalogue\n",
    "master_categ = master[~np.isnan(master[\"cat_no\"])]\n",
    "master_coords = SkyCoord(master_categ[\"ALPHA_J2000\"], master_categ[\"DELTA_J2000\"], unit='deg', frame='icrs')\n",
    "\n",
    "lof_opt_rad = 15.\n",
    "\n",
    "# Match the coordinates\n",
    "indx_l, indx_m, s2d, _ = search_around_sky(lofar_coords, master_coords, \n",
    "                                           lof_opt_rad*u.arcsec)\n",
    "# Only take the unique values\n",
    "ind_l_un = np.unique(indx_l)\n",
    "print(len(ind_l_un))"
   ]
  },
  {
   "cell_type": "code",
   "execution_count": 77,
   "metadata": {},
   "outputs": [],
   "source": [
    "null_Q0 = 0.001\n",
    "null_Q0_nocat = null_Q0\n",
    "run_count = 0"
   ]
  },
  {
   "cell_type": "code",
   "execution_count": 78,
   "metadata": {},
   "outputs": [
    {
     "name": "stdout",
     "output_type": "stream",
     "text": [
      "41.89621615409851\n",
      "Mean       Median     Std. Dev.  Length     Min        Max        Len_Zeros \n",
      "157.270283 58.045857  251.910679 27040      4.1688981425717366e-100 2557.264466 0         \n"
     ]
    }
   ],
   "source": [
    "ncpu = mp.cpu_count()\n",
    "ncpu_use = np.max([1, ncpu-1])\n",
    "\n",
    "def run_parallel_c(i):\n",
    "    \n",
    "    pool = mp.Pool(processes=ncpu_use)\n",
    "    resu = pool.map(apply_ml,i)\n",
    "    return resu\n",
    "\n",
    "tfin = time.time()\n",
    "\n",
    "res = run_parallel_c(ind_l_un)\n",
    "\n",
    "print(time.time() - tfin)\n",
    "\n",
    "# Create columns in the LOFAR catalogue to store the output of ML in iband\n",
    "final[\"lr_fin\"] = np.nan\n",
    "final[\"lr_dist_fin\"] = np.nan\n",
    "final[\"lr_index_fin\"] = np.nan\n",
    "\n",
    "# Map the outputs to a list - all non-matches have a nan value\n",
    "(final[\"lr_index_fin\"][ind_l_un],\n",
    " final[\"lr_dist_fin\"][ind_l_un],\n",
    " final[\"lr_fin\"][ind_l_un]) = list(map(list, zip(*res)))\n",
    "\n",
    "varstat(final[\"lr_fin\"])"
   ]
  },
  {
   "cell_type": "code",
   "execution_count": 79,
   "metadata": {},
   "outputs": [
    {
     "name": "stdout",
     "output_type": "stream",
     "text": [
      "Q0: 0.9132413075617368\n",
      "Final Threshold:  0.215\n",
      "No of nan LRs: 433\n",
      "No of sources below 0.1: 3983\n",
      "Mean       Median     Std. Dev.  Length     Min        Max        Len_Zeros \n",
      "0.006641   0.0        0.018216   3983       4.1688981425717366e-100 0.099807   0         \n",
      "No of sources below threshold: 4223\n"
     ]
    },
    {
     "data": {
      "text/plain": [
       "Text(0.5, 0, 'log(LR)')"
      ]
     },
     "execution_count": 79,
     "metadata": {},
     "output_type": "execute_result"
    },
    {
     "data": {
      "image/png": "[encoded data removed]",
      "text/plain": [
       "<Figure size 720x720 with 1 Axes>"
      ]
     },
     "metadata": {},
     "output_type": "display_data"
    }
   ],
   "source": [
    "threshold_fin = th_runs[-1]\n",
    "# threshold_fin = np.nanpercentile(final[\"lr_fin\"], 100*(1 - Q0))\n",
    "print(\"Q0: \" + str(Q0))\n",
    "print(\"Final Threshold: \", threshold_fin)\n",
    "\n",
    "print(\"No of nan LRs: \" + str(len(final[np.isnan(final[\"lr_fin\"])])))\n",
    "\n",
    "print(\"No of sources below 0.1: \" + \n",
    "      str(len(final[\"lr_fin\"][final[\"lr_fin\"] < 0.1])))\n",
    "\n",
    "vlow_lr_k = final[\"lr_fin\"][final[\"lr_fin\"] < 0.1]\n",
    "varstat(vlow_lr_k)\n",
    "\n",
    "print(\"No of sources below threshold: \" + \n",
    "      str(len(final[\"lr_fin\"][final[\"lr_fin\"] <=threshold_fin])))\n",
    "\n",
    "fig = plt.figure()\n",
    "lr_be = logspace_bins(0.1, np.nanmax(final[\"lr_fin\"]), 0.05)\n",
    "plt.hist(final[\"lr_fin\"][~np.isnan(final[\"lr_fin\"])], bins=lr_be)\n",
    "plt.axvline(threshold_fin, 0, 1, color='r')\n",
    "plt.ylim([0., 50])\n",
    "\n",
    "# plt.yscale('log')\n",
    "plt.xlabel('log(LR)')\n",
    "# plt.xscale('log')"
   ]
  },
  {
   "cell_type": "code",
   "execution_count": 80,
   "metadata": {},
   "outputs": [
    {
     "name": "stdout",
     "output_type": "stream",
     "text": [
      "Cross-over threshold from the final run: 0.14\n"
     ]
    },
    {
     "data": {
      "image/png": "[encoded data removed]",
      "text/plain": [
       "<Figure size 720x720 with 1 Axes>"
      ]
     },
     "metadata": {},
     "output_type": "display_data"
    }
   ],
   "source": [
    "# Compute the completeness and reliability and plot them\n",
    "thresholds = np.arange(0., 5 * threshold_fin, 0.005)\n",
    "th_cross, completeness_t, reliability_t = comp_rel_threshold(final[\"lr_fin\"], thresholds, Q0)\n",
    "\n",
    "print(\"Cross-over threshold from the final run: {0}\".format(th_cross))\n",
    "\n",
    "fig = plt.figure()\n",
    "plt.plot(thresholds, completeness_t, \"r-\")\n",
    "plt.plot(thresholds, reliability_t, \"g-\")\n",
    "# plt.plot(thresholds, average_t, \"k-\")\n",
    "plt.axvline(th_cross, color=\"k\", ls=\"--\")\n",
    "plt.xlabel(r\"$Threshold$\")\n",
    "plt.ylabel(r\"$Completeness/Reliability$\")\n",
    "# plt.xscale('log')\n",
    "plt.tight_layout()\n",
    "plt.savefig(outdir_name+\"/completeness_reliability_fin.pdf\")\n",
    "# plt.close()"
   ]
  },
  {
   "cell_type": "code",
   "execution_count": 81,
   "metadata": {},
   "outputs": [
    {
     "name": "stdout",
     "output_type": "stream",
     "text": [
      "0.827810650887574\n"
     ]
    }
   ],
   "source": [
    "# Take the fraction of sources which have a LR above threshold compared with the no. of radio\n",
    "# sources that had a match around lop_opt_radius\n",
    "lr_above_th = ((~np.isnan(final[\"lr_fin\"])) & (final[\"lr_fin\"] >= threshold_fin))\n",
    "print(np.sum(lr_above_th)/len(final))"
   ]
  },
  {
   "cell_type": "code",
   "execution_count": 82,
   "metadata": {},
   "outputs": [
    {
     "name": "stdout",
     "output_type": "stream",
     "text": [
      "NOT SETTING THE SOURCES BELOW THRESHOLD TO NaNs!\n"
     ]
    }
   ],
   "source": [
    "# Save the results by copying the LR results to the FULL deepfull catalogue\n",
    "deepfull[\"lr_fin\"] = np.nan\n",
    "deepfull[\"lr_dist_fin\"] = np.nan\n",
    "deepfull[\"lr_index_fin\"] = np.nan\n",
    "\n",
    "# Set all sources below the threshold to be nan? - NEED TO DO THIS WHEN RUNNING IT PROPERLY\n",
    "print(\"NOT SETTING THE SOURCES BELOW THRESHOLD TO NaNs!\")\n",
    "\n",
    "deepfull[\"lr_fin\"][forlr_indx] = final[\"lr_fin\"]\n",
    "deepfull[\"lr_dist_fin\"][forlr_indx] = final[\"lr_dist_fin\"]\n",
    "deepfull[\"lr_index_fin\"][forlr_indx] = final[\"lr_index_fin\"]\n",
    "\n",
    "field = \"Bootes\"\n",
    "\n",
    "# Write the deepfull to file\n",
    "deepfull.write(outdir_name + \"/\" + field + \"_ML_RUN_fin_overlap\" + cat_type + \".fits\", format='fits', overwrite=True)\n",
    "# deepfull.write(outdir_name + \"/\" + field + \"_ML_RUN_fin_overlap\" + cat_type + \".txt\", format='ascii', overwrite=True)"
   ]
  },
  {
   "cell_type": "code",
   "execution_count": 83,
   "metadata": {},
   "outputs": [
    {
     "data": {
      "text/plain": [
       "0"
      ]
     },
     "execution_count": 83,
     "metadata": {},
     "output_type": "execute_result"
    }
   ],
   "source": [
    "# Move the HTML notebook to the output directory\n",
    "os.system(\"jupyter-nbconvert MaxL_RUN2_iter.ipynb && mv MaxL_RUN2_iter.html {0}\".format(outdir_name))"
   ]
  },
  {
   "cell_type": "code",
   "execution_count": null,
   "metadata": {},
   "outputs": [],
   "source": []
  }
 ],
 "metadata": {
  "kernelspec": {
   "display_name": "Python 3",
   "language": "python",
   "name": "python3"
  },
  "language_info": {
   "codemirror_mode": {
    "name": "ipython",
    "version": 3
   },
   "file_extension": ".py",
   "mimetype": "text/x-python",
   "name": "python",
   "nbconvert_exporter": "python",
   "pygments_lexer": "ipython3",
   "version": "3.6.7"
  }
 },
 "nbformat": 4,
 "nbformat_minor": 2
}
