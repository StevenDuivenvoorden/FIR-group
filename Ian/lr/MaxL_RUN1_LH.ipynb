{
 "cells": [
  {
   "cell_type": "markdown",
   "metadata": {},
   "source": [
    "# Maximum Likelihood RUN 1\n",
    "\n",
    "### The raw PyBDSF catalogue, optical, NIR catalogues and, the MASTER LIST are used"
   ]
  },
  {
   "cell_type": "markdown",
   "metadata": {},
   "source": [
    "---"
   ]
  },
  {
   "cell_type": "code",
   "execution_count": 39,
   "metadata": {},
   "outputs": [],
   "source": [
    "# Load in all the required functions\n",
    "\n",
    "from socket import gethostname\n",
    "\n",
    "if gethostname() == 'colonsay':\n",
    "    PATH_START = '/disk1/rohitk/ELN1_project/'\n",
    "\n",
    "elif gethostname() == 'rohitk-elitebook':\n",
    "    PATH_START = '/home/rohitk/Documents/PhD/Year1/ELN1_project/'\n",
    "\n",
    "import sys\n",
    "\n",
    "# Import some important functions\n",
    "#sys.path.append(PATH_START+'basic_functions')\n",
    "\n",
    "import importlib\n",
    "\n",
    "# Import coordinate converstion functions\n",
    "from useful_functions import field_filter, get_overlap_sources, latest_dir, logspace_bins, return_hist_par\n",
    "from plot_func import rc_def, make_fig\n",
    "from moc_util import coords_to_hpidx, inMoc\n",
    "rc_def()\n",
    "##################################################\n",
    "\n",
    "import numpy as np\n",
    "from matplotlib import pyplot as plt\n",
    "from astropy.table import Table\n",
    "\n",
    "import time\n",
    "\n",
    "from astropy.coordinates import search_around_sky\n",
    "from astropy import units as u\n",
    "from astropy.coordinates import SkyCoord\n",
    "from astropy.coordinates import match_coordinates_sky\n",
    "\n",
    "\n",
    "# Multiprocessin method of doing the ML analysis\n",
    "import multiprocessing as mp\n",
    "from functools import partial\n",
    "\n",
    "import pickle\n",
    "\n",
    "ts = time.time()\n",
    "# %pylab inline\n",
    "import matplotlib as mpl\n",
    "#mpl.rcParams[\"font.size\"] = 18\n",
    "#mpl.rcParams[\"xtick.labelsize\"] = 18\n",
    "#mpl.rcParams[\"ytick.labelsize\"] = 18\n",
    "#mpl.rcParams[\"axes.labelsize\"] = 18\n",
    "\n",
    "import os\n",
    "from time import strftime\n",
    "import glob\n",
    "\n",
    "# For MOC files\n",
    "import pymoc.io.fits\n",
    "import healpy as hp\n",
    "import pymoc.util.catalog"
   ]
  },
  {
   "cell_type": "code",
   "execution_count": 2,
   "metadata": {},
   "outputs": [],
   "source": [
    "# Import ML functions from mlrun1\n",
    "import mlrun1_bootes\n",
    "importlib.reload(mlrun1_bootes)\n",
    "\n",
    "\n",
    "from mlrun1_bootes import (varstat, survey_area, get_sigma_all_old, get_fr_old, get_bin_list, get_n_m, get_q_m, \n",
    "                    generate_rand_pos_servs, get_Q0, compute_Fr, get_nm_interp,\n",
    "                    get_qm_interp, get_lr)\n",
    "\n",
    "from mlrun1_bootes import (generate_rand_pos_bootes, get_n_m_kde, get_q_m_kde, estimate_q_m_kde, get_sigma_all, gen_binc_binl)\n",
    "\n",
    "# from mlrun1 import survey_area"
   ]
  },
  {
   "cell_type": "markdown",
   "metadata": {},
   "source": [
    "### Survey areas <a class=\"anchor\" id=\"survey-area\"></a>"
   ]
  },
  {
   "cell_type": "code",
   "execution_count": 76,
   "metadata": {},
   "outputs": [
    {
     "name": "stdout",
     "output_type": "stream",
     "text": [
      "3.27883656259\n"
     ]
    }
   ],
   "source": [
    "# Survey area definitions - used for generated random catalogue and select the relevant PanSTARRS sources\n",
    "\n",
    "# Rectangular region for n(m) calculation for the optical data - this is NOT used for the 4.5 micron data\n",
    "p_ra_down = 159.\n",
    "p_dec_down = 56.5\n",
    "p_ra_up = 164.0\n",
    "p_dec_up = 58.5\n",
    "\n",
    "p_ra_down = 160.2\n",
    "p_dec_down = 57.5\n",
    "p_ra_up = 164.1\n",
    "p_dec_up = 59.1\n",
    "\n",
    "# UKIDSS survey area\n",
    "\n",
    "# Get the area of the rectangle used for n(m)\n",
    "pan_area = survey_area(p_ra_up, p_dec_up, p_ra_down, p_dec_down)\n",
    "print(pan_area / 3600**2)"
   ]
  },
  {
   "cell_type": "markdown",
   "metadata": {},
   "source": [
    "## Load Catalogues <a class=\"anchor\" id=\"load-catalogues\"></a>"
   ]
  },
  {
   "cell_type": "code",
   "execution_count": 3,
   "metadata": {},
   "outputs": [],
   "source": [
    "# Definition of the paths\n",
    "PATH_PYBDSF_RAW = \"../lofar/deep_fields/Lockman/data/image_full_ampphase_di_m.NS_shift.blanked.scaled.cat.fits\"\n",
    "PATH_MASTER_LIST = \"../lofar/deep_fields/Lockman/data/Lockman_MASTER_opt_spitzer_merged_cedit.fits\""
   ]
  },
  {
   "cell_type": "code",
   "execution_count": 4,
   "metadata": {},
   "outputs": [
    {
     "name": "stdout",
     "output_type": "stream",
     "text": [
      "_srl\n"
     ]
    }
   ],
   "source": [
    "# Get the type of catalogue (srl) or (gaul)\n",
    "if PATH_PYBDSF_RAW.split(\"/\")[-1][-8:-5] == \"cat\":\n",
    "    cat_type = \"_srl\"\n",
    "    id_type = \"Source_id\"  # Column name to choose - NOT USED\n",
    "elif PATH_PYBDSF_RAW.split(\"/\")[-1][-9:-5] == \"gaul\":\n",
    "    cat_type = \"_gaul\"\n",
    "    id_type = \"Gaus_id\"\n",
    "    \n",
    "print(cat_type)"
   ]
  },
  {
   "cell_type": "code",
   "execution_count": 5,
   "metadata": {},
   "outputs": [],
   "source": [
    "# Read in Master List - This contains all of the magnitudes for the 20 filters\n",
    "master = Table.read(PATH_MASTER_LIST)\n",
    "\n",
    "# Read in Final Catalogue - LOFAR DATA\n",
    "deepfull = Table.read(PATH_PYBDSF_RAW)\n"
   ]
  },
  {
   "cell_type": "code",
   "execution_count": 62,
   "metadata": {},
   "outputs": [],
   "source": [
    "help_cat = Table.read('../../../HELP/dmu_products/dmu32/dmu32_Lockman-SWIRE/data/Lockman-SWIRE_20180219.fits')"
   ]
  },
  {
   "cell_type": "markdown",
   "metadata": {},
   "source": [
    "## Filter LOFAR Catalogue and MASTER catalogue <a class=\"anchor\" id=\"filter-lofar\"></a>"
   ]
  },
  {
   "cell_type": "code",
   "execution_count": 48,
   "metadata": {},
   "outputs": [
    {
     "name": "stdout",
     "output_type": "stream",
     "text": [
      "Area of MOC: 9.643885598599503 sq. deg.\n"
     ]
    }
   ],
   "source": [
    "#Skipping this until i have the moc file\n",
    "\n",
    "# Read in the MOC file\n",
    "PATH_MOC = \"/disk3/rohitk/Bootes/Bootes_optical/moc_files/Bootes_I-band_MOC.fits\"\n",
    "\n",
    "# Generate a MOC class instance first\n",
    "cata_moc = pymoc.MOC()\n",
    "pymoc.io.fits.read_moc_fits(cata_moc, PATH_MOC)\n",
    "\n",
    "moc_area = cata_moc.area_sq_deg\n",
    "print(\"Area of MOC: {0} sq. deg.\".format(moc_area))"
   ]
  },
  {
   "cell_type": "code",
   "execution_count": 9,
   "metadata": {},
   "outputs": [],
   "source": [
    "#creating temporary moc using cat tomoc function\n",
    "coords = SkyCoord(master['ALPHA_J2000'],master['DELTA_J2000'])\n",
    "cata_moc = pymoc.util.catalog.catalog_to_moc(coords,1/360*u.degree,14)"
   ]
  },
  {
   "cell_type": "code",
   "execution_count": 12,
   "metadata": {},
   "outputs": [
    {
     "name": "stdout",
     "output_type": "stream",
     "text": [
      "Number of radio sources in MOC: 41856\n",
      "Number of radio sources in MOC, S and Maj < 10.0'': 28665\n",
      "Radio sources within rectangle, used for Q0 calculation: 17270\n"
     ]
    }
   ],
   "source": [
    "# Filter the LOFAR catalogue to the overlapping area and S sources and a Maj size cut\n",
    "\n",
    "maj_cut = 10.  # Major axis size cut (in arcsec) for radio catalogue\n",
    "\n",
    "# Radio sources in MOC\n",
    "radio_inmoc = inMoc(deepfull[\"RA\"], deepfull[\"DEC\"], cata_moc)\n",
    "print(\"Number of radio sources in MOC: {0}\".format(np.sum(radio_inmoc)))\n",
    "\n",
    "# Set this to False for the first run through. When using the output from the workflow (flowchart) which finds \n",
    "# the most suitable sources to be used for LR calibration, set this to True.\n",
    "workflow_iter = False\n",
    "\n",
    "\n",
    "if workflow_iter:\n",
    "    workflow_latest_dir = latest_dir(\"/disk3/rohitk/Bootes/bootes_workflow/workflow_iter_*\")\n",
    "    indx_forlr = pickle.load(open(workflow_latest_dir + \"/sources_to_send_to_lr.pckl\", \"rb\"))\n",
    "    \n",
    "    print(\"***** USING LOFAR SOURCES FROM WORKFLOW OUTPUT ****\")\n",
    "    \n",
    "else:\n",
    "    indx_forlr = ((deepfull['S_Code'] == 'S') &\n",
    "                  (deepfull[\"Maj\"]*3600. <= maj_cut) &\n",
    "                  (radio_inmoc))\n",
    "\n",
    "# Now index and get the entire catalogue\n",
    "final = deepfull[indx_forlr]\n",
    "print(\"Number of radio sources in MOC, S and Maj < {0}'': {1}\".format(maj_cut, np.sum(indx_forlr)))\n",
    "\n",
    "# Radio sources in the rectangular area for n(m) calculation\n",
    "radio_rect = field_filter(p_ra_up, p_dec_up, p_ra_down, p_dec_down, deepfull[\"RA\"], deepfull[\"DEC\"])\n",
    "print(\"Radio sources within rectangle, used for Q0 calculation: {0}\".format(np.sum(radio_rect)))"
   ]
  },
  {
   "cell_type": "markdown",
   "metadata": {},
   "source": [
    "## I-band ML matching <a class=\"anchor\" id=\"pani_analysis\"></a>"
   ]
  },
  {
   "cell_type": "markdown",
   "metadata": {},
   "source": [
    "### n(m) PanSTARRS i-band <a class=\"anchor\" id=\"comp-nm_i\"></a>\n",
    "\n",
    "$\\textbf{Definition:}$ n(m) is the number of sources in the optical/NIR catalogue below a magnitude, m within an area of 1arcsec (i.e. divide by the area of the survey)"
   ]
  },
  {
   "cell_type": "code",
   "execution_count": 92,
   "metadata": {},
   "outputs": [],
   "source": [
    "filt = \"i\"\n",
    "ap = \"3\"\n",
    "flux_col = \"FLUX_APER_\" + filt + \"_\" + ap\n",
    "eflux_col = \"FLUXERR_APER_\" + filt + \"_\" + ap\n",
    "mag_col = \"MAG_APER_\" + filt + \"_\" + ap\n",
    "\n",
    "# Aperture to use for SNR calculations\n",
    "sflux_col = \"FLUX_APER_\" + filt + \"_2\"\n",
    "seflux_col = \"FLUXERR_APER_\" + filt + \"_2\"\n",
    "\n",
    "snr_th = 3.\n",
    "snr_band = master[sflux_col] / master[seflux_col]\n",
    "\n",
    "# Any null values for sources\n",
    "null_mag = -99"
   ]
  },
  {
   "cell_type": "code",
   "execution_count": 93,
   "metadata": {},
   "outputs": [
    {
     "name": "stdout",
     "output_type": "stream",
     "text": [
      "Optical sources used for n(m) calculation: 336873\n",
      "Properties of n(m) in i-band: \n",
      "Mean       Median     Std. Dev.  Length     Min        Max        Len_Zeros \n",
      "0.00488    0.007734   0.003513   367        6.27784048414e-08 0.007928   0         \n"
     ]
    },
    {
     "data": {
      "text/plain": [
       "<matplotlib.legend.Legend at 0x2aaf736c5828>"
      ]
     },
     "execution_count": 93,
     "metadata": {},
     "output_type": "execute_result"
    },
    {
     "data": {
      "image/png": "[encoded data removed]",
      "text/plain": [
       "<Figure size 432x288 with 1 Axes>"
      ]
     },
     "metadata": {
      "needs_background": "light"
     },
     "output_type": "display_data"
    }
   ],
   "source": [
    "# Find all the optical catalogue sources within the rectangle and those with non-99 magnitudes and SNR >= threshold\n",
    "master_rect_ind = ((field_filter(p_ra_up, p_dec_up, p_ra_down, p_dec_down, master[\"ALPHA_J2000\"], master[\"DELTA_J2000\"])) & (master[mag_col] != null_mag) &\n",
    "                  ~np.isnan(master[mag_col]) & (snr_band >= snr_th))\n",
    "\n",
    "print(\"Optical sources used for n(m) calculation: {0}\".format(np.sum(master_rect_ind)))\n",
    "\n",
    "# Get the bin_list for computing n(m) for i band\n",
    "_, nm_be_i, nm_bc_i = return_hist_par(0.05, master[mag_col][master_rect_ind])\n",
    "\n",
    "# Get n(m) for the i band\n",
    "nm_i_old = get_n_m(master[mag_col][master_rect_ind], nm_be_i, pan_area)\n",
    "\n",
    "nm_i = get_n_m_kde(master[mag_col][master_rect_ind], nm_bc_i, area=pan_area, bandwidth=0.5)\n",
    "\n",
    "# Print properties of the n(m) distribution\n",
    "print(\"Properties of n(m) in i-band: \")\n",
    "varstat(np.cumsum(nm_i))\n",
    "\n",
    "# Compute sigma for each source\n",
    "# print(\"Diff in PanSTARRS area: \" + str(46390728.8503 - pan_area)+\" arcsec**2\")\n",
    "\n",
    "fig = plt.figure()\n",
    "\n",
    "plt.plot(nm_bc_i, np.cumsum(nm_i), label='KDE')\n",
    "plt.plot(nm_bc_i, nm_i_old, label='Cumulative')\n",
    "plt.legend()"
   ]
  },
  {
   "cell_type": "code",
   "execution_count": 16,
   "metadata": {},
   "outputs": [],
   "source": [
    "# Write the n(m) distribution to pckl file to compare with the other fields\n",
    "pickle.dump([nm_bc_i, nm_i, nm_i_old], open(\"LH_nm_{0}_{1}asec_apcorr.pckl\".format(filt, ap), \"wb\"))"
   ]
  },
  {
   "cell_type": "markdown",
   "metadata": {},
   "source": [
    "## q(m) PanSTARRS i-band <a class=\"anchor\" id=\"comp-qm_i\"></a>\n",
    "\n",
    "$\\textbf{Definition:}$ q(m) is the apriori probability that the radio source has a counterpart brighter than magnitude m.\n",
    "* Depends on real(m) and Q$_0$"
   ]
  },
  {
   "cell_type": "code",
   "execution_count": 17,
   "metadata": {},
   "outputs": [
    {
     "name": "stdout",
     "output_type": "stream",
     "text": [
      "No. of LOFAR and I-band sources used in analysis from now on:  28665\n",
      "No. of i-band sources used for LR cross-match: 1851734\n"
     ]
    }
   ],
   "source": [
    "lofar_co = SkyCoord(final['RA'], final['DEC'], unit=(u.deg,u.deg),\n",
    "                    frame='icrs')\n",
    "\n",
    "# Define i-only sources as sources with a SNR > 3 in the i-band\n",
    "i_only_bool = (master[mag_col] != null_mag) & (~np.isnan(master[mag_col]) & (snr_band >= snr_th))\n",
    "\n",
    "i_coords = SkyCoord(master['ALPHA_J2000'][i_only_bool], \n",
    "                       master['DELTA_J2000'][i_only_bool],\n",
    "                       unit=(u.deg,u.deg),frame='icrs')\n",
    "\n",
    "print(\"No. of LOFAR and I-band sources used in analysis from now on: \", len(lofar_co))\n",
    "print(\"No. of i-band sources used for LR cross-match: {0}\".format(np.sum(i_only_bool)))"
   ]
  },
  {
   "cell_type": "code",
   "execution_count": 18,
   "metadata": {},
   "outputs": [
    {
     "name": "stdout",
     "output_type": "stream",
     "text": [
      "Unique opt_ind:  36872\n",
      "Unique LOFAR ind:  22392\n"
     ]
    },
    {
     "data": {
      "text/plain": [
       "<matplotlib.legend.Legend at 0x2aaf4983f3c8>"
      ]
     },
     "execution_count": 18,
     "metadata": {},
     "output_type": "execute_result"
    },
    {
     "data": {
      "image/png": "[encoded data removed]",
      "text/plain": [
       "<Figure size 432x288 with 1 Axes>"
      ]
     },
     "metadata": {
      "needs_background": "light"
     },
     "output_type": "display_data"
    },
    {
     "data": {
      "image/png": "[encoded data removed]",
      "text/plain": [
       "<Figure size 432x288 with 1 Axes>"
      ]
     },
     "metadata": {
      "needs_background": "light"
     },
     "output_type": "display_data"
    }
   ],
   "source": [
    "# Compute q(m)\n",
    "RMAX = 5.\n",
    "\n",
    "qm_i_old, tm_i, rm_i = get_q_m(lofar_co, i_coords, RMAX,\n",
    "               master[mag_col][i_only_bool], nm_be_i, pan_area, nm_i_old)\n",
    "\n",
    "nm_i = get_n_m_kde(master[mag_col][master_rect_ind], nm_bc_i, area=pan_area, bandwidth=0.5)\n",
    "qm_i = estimate_q_m_kde(master[mag_col][i_only_bool], nm_bc_i, nm_i,\n",
    "                        lofar_co, i_coords, RMAX, bandwidth=0.5)\n",
    "\n",
    "fig = plt.figure()\n",
    "\n",
    "plt.plot(nm_bc_i, np.cumsum(qm_i), label='KDE')\n",
    "plt.plot(nm_bc_i, qm_i_old, label='Cumulative')\n",
    "plt.legend()\n",
    "\n",
    "fig = plt.figure()\n",
    "\n",
    "plt.plot(nm_bc_i, tm_i, color='b', label='total(m)')\n",
    "plt.plot(nm_bc_i, np.pi * RMAX**2 * np.cumsum(nm_i) * (len(lofar_co)), color='r')\n",
    "plt.plot(nm_bc_i, rm_i, label='real(m)')\n",
    "plt.axvline(x=nm_bc_i[np.argmax(rm_i)], ymin=0, ymax=1, color='y')\n",
    "\n",
    "#plt.yscale('log')\n",
    "plt.legend()\n"
   ]
  },
  {
   "cell_type": "code",
   "execution_count": 30,
   "metadata": {},
   "outputs": [],
   "source": [
    "# Write the q(m) distribution to pckl file to compare with the other fields\n",
    "pickle.dump([nm_bc_i, qm_i, qm_i_old], open(\"LH_qm_{0}_{1}asec_apcorr.pckl\".format(filt, ap), \"wb\"))"
   ]
  },
  {
   "cell_type": "markdown",
   "metadata": {},
   "source": [
    "### Compute Q$_0$ <a class=\"anchor\" id=\"comp-q0_i\"></a>"
   ]
  },
  {
   "cell_type": "markdown",
   "metadata": {},
   "source": [
    "#### Firstly, redefine coordinates to include all the sources in the overlapping area"
   ]
  },
  {
   "cell_type": "code",
   "execution_count": 32,
   "metadata": {},
   "outputs": [
    {
     "name": "stdout",
     "output_type": "stream",
     "text": [
      "Timetaken: 4.586076974868774\n",
      "Radius Blanks Random Blanks Q_0\n",
      "1 8160 16842 0.5154969718560741\n",
      "2 5869 15510 0.621598968407479\n",
      "3 4812 13613 0.6465143612723132\n",
      "4 4001 11379 0.6483873802618859\n",
      "5 3317 9065 0.6340871483728627\n",
      "6 2758 6985 0.6051539012168934\n",
      "7 2298 5251 0.562369072557608\n",
      "8 1908 3876 0.5077399380804953\n",
      "9 1578 2856 0.4474789915966386\n"
     ]
    },
    {
     "data": {
      "text/plain": [
       "Text(0, 0.5, '$Q_0$')"
      ]
     },
     "execution_count": 32,
     "metadata": {},
     "output_type": "execute_result"
    },
    {
     "data": {
      "image/png": "[encoded data removed]",
      "text/plain": [
       "<Figure size 432x288 with 1 Axes>"
      ]
     },
     "metadata": {
      "needs_background": "light"
     },
     "output_type": "display_data"
    }
   ],
   "source": [
    "lofar_rect = SkyCoord(deepfull[\"RA\"][radio_rect], deepfull[\"DEC\"][radio_rect], unit='deg', frame='icrs')\n",
    "\n",
    "# Compute Q_0 for the i band\n",
    "\n",
    "t1 = time.time()\n",
    "\n",
    "# Empty lists to store the output from the PanSTARRS catalogue\n",
    "q0_li = []\n",
    "l_no_m_i = []\n",
    "r_no_m_i = []\n",
    "\n",
    "rad = np.arange(1,10)\n",
    "\n",
    "# Generate random coords\n",
    "rand_coords = generate_rand_pos_bootes(p_ra_up,p_dec_up,p_ra_down,p_dec_down,len(lofar_rect))\n",
    "\n",
    "for k in range(len(rad)):\n",
    "    q0_i, nl_non_i, nr_non_i = get_Q0(lofar_rect, i_coords, rand_coords, float(rad[k]))\n",
    "    q0_li.append(q0_i)\n",
    "    l_no_m_i.append(nl_non_i)\n",
    "    r_no_m_i.append(nr_non_i)\n",
    "\n",
    "print('Timetaken: ' + str(time.time() - t1))\n",
    "\n",
    "print('Radius Blanks Random Blanks Q_0')\n",
    "\n",
    "for aa in range(len(q0_li)):\n",
    "    \n",
    "    print(rad[aa], l_no_m_i[aa], r_no_m_i[aa], q0_li[aa])\n",
    "\n",
    "\n",
    "# Make a plot of Q0 vs radius\n",
    "fig_q0 = plt.figure()\n",
    "\n",
    "plt.plot(rad, q0_li, 'r.')\n",
    "#plt.yscale('log')\n",
    "plt.xlabel('Radius (arcsec)')\n",
    "plt.ylabel('$Q_0$')"
   ]
  },
  {
   "cell_type": "code",
   "execution_count": 33,
   "metadata": {},
   "outputs": [
    {
     "name": "stdout",
     "output_type": "stream",
     "text": [
      "0.634087148373\n"
     ]
    }
   ],
   "source": [
    "# Check the median Q0 value with the plot above to see if it is reasonable before saving the value\n",
    "Q0 = np.median(q0_li[3:6])\n",
    "print(Q0)"
   ]
  },
  {
   "cell_type": "code",
   "execution_count": 34,
   "metadata": {},
   "outputs": [],
   "source": [
    "# Write the Q0 value to file\n",
    "pickle.dump(Q0, open(\"LH_Q0_{0}_{1}arcsec.pckl\".format(filt,ap), \"wb\"))"
   ]
  },
  {
   "cell_type": "code",
   "execution_count": 35,
   "metadata": {},
   "outputs": [
    {
     "name": "stdout",
     "output_type": "stream",
     "text": [
      "0.629209476617\n",
      "Q_0 for i band: 0.629209476617\n"
     ]
    }
   ],
   "source": [
    "# Estimate a mean Q_0 value for the i-band\n",
    "mean_Q0_vals = []\n",
    "mean_Q0_i = np.mean(q0_li[3:6])\n",
    "# mean_Q0_i = np.max(q0_li)\n",
    "print(mean_Q0_i)\n",
    "\n",
    "mean_Q0_vals.append(mean_Q0_i)\n",
    "# print(\"TAKING THE MAX of the Q0 vs radius distribution!\")\n",
    "print(\"Q_0 for i band: \" + str(mean_Q0_i))"
   ]
  },
  {
   "cell_type": "markdown",
   "metadata": {},
   "source": [
    "### Compute LR i-band <a class=\"anchor\" id=\"run-lr_i\"></a>"
   ]
  },
  {
   "cell_type": "code",
   "execution_count": 40,
   "metadata": {},
   "outputs": [
    {
     "name": "stdout",
     "output_type": "stream",
     "text": [
      "Sources with i-band detection: 1851734\n"
     ]
    }
   ],
   "source": [
    "# Add the positional uncertainties column\n",
    "opt_pos_err = 0.35 # / 3600.       # In degrees\n",
    "# master[\"ERR_RA\"] = opt_pos_err\n",
    "# master[\"ERR_DEC\"] = opt_pos_err\n",
    "\n",
    "# Make the subset of MASTER catalogue which are in \"i\"\n",
    "master_categ = master[i_only_bool]\n",
    "print(\"Sources with i-band detection: \" + str(len(master_categ)))"
   ]
  },
  {
   "cell_type": "code",
   "execution_count": 41,
   "metadata": {},
   "outputs": [
    {
     "name": "stdout",
     "output_type": "stream",
     "text": [
      "26597\n",
      "No. of radio sources without any positional cross-match: 2068\n"
     ]
    }
   ],
   "source": [
    "# First match LOFAR to the MASTER catalogue -\n",
    "# then calculate sigma for all matches in the optical catalogue \n",
    "# to a given LOFAR source\n",
    "\n",
    "# Convert master positions to SkyCoord object\n",
    "master_coords = SkyCoord(master_categ['ALPHA_J2000'], master_categ['DELTA_J2000'],\n",
    "                         unit=(u.deg, u.deg), frame='icrs')\n",
    "\n",
    "# New search radius to match the LOFAR and combined PanSTARRS WISE caalogue\n",
    "lof_opt_rad = 15.\n",
    "\n",
    "# Match the coordinates\n",
    "indx_l, indx_m, s2d, _ = search_around_sky(lofar_co, master_coords, \n",
    "                                           lof_opt_rad*u.arcsec)\n",
    "\n",
    "# This match returns x of possible counterparts within 15'' of a\n",
    "# LOFAR source - compute LR for all x sources wrt the LOFAR source\n",
    "# Take the max value of the LR\n",
    "\n",
    "\n",
    "# Get the indices of LOFAR which have at least one match - only need to calculate LR for these sources\n",
    "ind_l_un = np.unique(indx_l)\n",
    "print(len(ind_l_un))\n",
    "print(\"No. of radio sources without any positional cross-match: {0}\".format(len(lofar_co) - len(ind_l_un)))"
   ]
  },
  {
   "cell_type": "code",
   "execution_count": 42,
   "metadata": {},
   "outputs": [],
   "source": [
    "# Functino to compute ML based on magnitude of possible conterpart and the sigma\n",
    "\n",
    "def apply_ml(i, opt_cat_era, opt_cat_edec, opt_cat_mag, fn_opt_indices, mean_Q0, nm_categ, qm_categ, nm_bc_categ):\n",
    "    \"\"\"\n",
    "    Function which combines previous routines to compute ML values \n",
    "    for each ith LOFAR source that has a match within 15'' to opt/NIR catalogue\n",
    "    \n",
    "    Parameters:\n",
    "    -----------\n",
    "    i : Index of the LOFAR coordinates\n",
    "    opt_cat_era : All of optical RA errors\n",
    "    opt_cat_edec : All of optical Dec errors\n",
    "    opt_cat_mag : All of the optical magnitudes\n",
    "    fn_opt_indices : Field name of indices in MASTER catalogue\n",
    "    mean_Q0 : Mean Q0 value for the band\n",
    "    nm_categ : Cumulative n(m) distribution for the category\n",
    "    qm_categ : Cumulative q(m) distribution for the category\n",
    "    nm_bc_categ : Bin centres from the n(m) distribution\n",
    "    \n",
    "    Returns:\n",
    "    --------\n",
    "    res = [opt_index,dist,lr_value] : [Index into the optical catalogue,\n",
    "                                        Separation to counterpart,\n",
    "                                        LR value]\n",
    "    \"\"\"\n",
    "    \n",
    "    # Get the indices into the corresponding MASTER_category catalogue\n",
    "    indx_o_match = indx_m[indx_l == i]\n",
    "    s2d_o = s2d[indx_l == i]  # The 2d separation of the sources from LOFAR source\n",
    "    \n",
    "    # Indices corresponding to the FULL MASTER catalogue - the -1 to get into python index notation\n",
    "    indx_o_master = master_categ[\"NUMBER\"][indx_o_match]\n",
    "    \n",
    "    # Get the indices into the ACTUAL optical catalogue\n",
    "    # indx_o = master_categ[fn_opt_indices][indx_o_match] -- Not used anymore with new catalogue\n",
    "    \n",
    "    # Now only select the optical catalogue sources which have an index value in master catalogue\n",
    "    # indx_o_match = indx_o_match[indx_o != -99.]\n",
    "    # s2d_o = s2d_o[indx_o != -99.]\n",
    "    # indx_o = indx_o[indx_o != -99.]\n",
    "    \n",
    "    # Get the LOFAR positions and errors\n",
    "    lofar_ra = final['RA'][i]\n",
    "    lofar_dec = final['DEC'][i]\n",
    "    lofar_pa = final['PA'][i]\n",
    "    lofar_maj_err = final['E_Maj'][i]\n",
    "    lofar_min_err = final['E_Min'][i]\n",
    "    \n",
    "    # Get the optical/NIR counterpart positions and positional errors\n",
    "    c_ra = master_categ['ALPHA_J2000'][indx_o_match]\n",
    "    c_dec = master_categ['DELTA_J2000'][indx_o_match]\n",
    "    c_ra_err = opt_cat_era[indx_o_match]\n",
    "    c_dec_err = opt_cat_edec[indx_o_match]\n",
    "    \n",
    "    # Magnitude of the counterparts\n",
    "    c_mag = opt_cat_mag[indx_o_match]\n",
    "    \n",
    "    # Compute the sigma value for the ith LOFAR source and the possible\n",
    "    # len(indx_o) optical counterparts\n",
    "    \n",
    "    \"\"\"sig, sig_maj, sig_min = get_sigma_all_old(lofar_maj_err, lofar_min_err,\n",
    "                                         lofar_pa, lofar_ra, lofar_dec,\n",
    "                                         c_ra, c_dec, c_ra_err, c_dec_err)\"\"\"\n",
    "    \n",
    "    # New corrected angles Gaussian code - sig^2 is actually sigma_0_0 i.e. the average pos err squared?\n",
    "    sigma_0_0, det_sigma = get_sigma_all(lofar_maj_err, lofar_min_err, lofar_pa, \n",
    "                      lofar_ra, lofar_dec, \n",
    "                      c_ra, c_dec, c_ra_err, c_dec_err)\n",
    "    \n",
    "    \n",
    "    \n",
    "    # Compute the LR of all the possible counterparts\n",
    "    # Set the last argument to False if you do not want to apply the F(r) factor to q(m)\n",
    "    c_lr = get_lr(c_mag, mean_Q0, nm_categ, qm_categ, np.sqrt(sigma_0_0), \n",
    "                  sigma_0_0, det_sigma, s2d_o.arcsec, nm_bc_categ, lof_opt_rad, True) \n",
    "    \n",
    "    # Get indices of n=4 maximum values\n",
    "    # lr_max_ind = c_lr.argsort()[-3:][::-1]\n",
    "    \n",
    "    # Get the index of the maximum \n",
    "    lr_max_ind = np.argmax(c_lr)\n",
    "    \n",
    "    \n",
    "    result = [indx_o_master[lr_max_ind],     # i_band_index into the FULL master catalogue\n",
    "              (s2d_o.arcsec)[lr_max_ind],    # Separation between counterpart and LOFAR source\n",
    "              c_lr[lr_max_ind]]              # Max LR value\n",
    "    \n",
    "    return result\n",
    "\n"
   ]
  },
  {
   "cell_type": "code",
   "execution_count": 43,
   "metadata": {},
   "outputs": [
    {
     "name": "stdout",
     "output_type": "stream",
     "text": [
      "86.83341884613037\n",
      "Mean       Median     Std. Dev.  Length     Min        Max        Len_Zeros \n",
      "40.581657  12.884373  62.862014  28665      0.0 382.968234 26        \n"
     ]
    }
   ],
   "source": [
    "\n",
    "# A wrapper function to use multiple arguments\n",
    "def merge_names_unpack(args):\n",
    "    return apply_ml(*args)\n",
    "\n",
    "# The number of cpu's to use\n",
    "ncpu = mp.cpu_count()\n",
    "ncpu_use = np.max([1, ncpu-1])\n",
    "\n",
    "def run_parallel(i, opt_cat_era, opt_cat_edec, opt_cat_mag, fn_opt_indices, mean_Q0, nm_categ, qm_categ, nm_bc_categ):\n",
    "    \n",
    "    pool = mp.Pool(processes=ncpu_use)\n",
    "    #resu = pool.map(partial(apply_ml, opt_cat_era, opt_cat_edec, opt_cat_mag, \n",
    "    #                          fn_opt_indices, mean_Q0, nm_categ, qm_categ, nm_bc_categ), i)\n",
    "\n",
    "    resu = pool.map(partial(apply_ml, opt_cat_era=opt_cat_era, opt_cat_edec=opt_cat_edec,\n",
    "                                        opt_cat_mag=opt_cat_mag,fn_opt_indices=fn_opt_indices,\n",
    "                                        mean_Q0=mean_Q0, nm_categ=nm_categ, qm_categ=qm_categ, nm_bc_categ=nm_bc_categ),i)\n",
    "\n",
    "    return resu\n",
    "\n",
    "t4 = time.time()\n",
    "# ind_l_un = ind_l_un[:10]\n",
    "\n",
    "res = run_parallel(ind_l_un, opt_pos_err*np.ones(len(master)), opt_pos_err*np.ones(len(master)),\n",
    "                   master_categ[mag_col],'does_not_matter',\n",
    "                   mean_Q0_i, nm_i, qm_i, nm_bc_i)\n",
    "\n",
    "print(time.time() - t4)\n",
    "\n",
    "lr_type = \"i\"\n",
    "\n",
    "# Create columns in the LOFAR catalogue to store the output of ML in iband\n",
    "final[\"lr_\"+lr_type] = np.nan\n",
    "final[\"lr_dist_\"+lr_type] = np.nan\n",
    "final[\"lr_index_\"+lr_type] = np.nan\n",
    "\n",
    "# Map the outputs to a list - all non-matches have a nan value\n",
    "(final[\"lr_index_\"+lr_type][ind_l_un],\n",
    " final[\"lr_dist_\"+lr_type][ind_l_un],\n",
    " final[\"lr_\"+lr_type][ind_l_un]) = list(map(list, zip(*res)))\n",
    "\n",
    "varstat(final[\"lr_\"+lr_type])\n"
   ]
  },
  {
   "cell_type": "markdown",
   "metadata": {},
   "source": [
    "### i-band LR Threshold\n"
   ]
  },
  {
   "cell_type": "code",
   "execution_count": 49,
   "metadata": {},
   "outputs": [
    {
     "data": {
      "text/plain": [
       "26"
      ]
     },
     "execution_count": 49,
     "metadata": {},
     "output_type": "execute_result"
    }
   ],
   "source": [
    "np.sum(final[\"lr_\"+lr_type][~np.isnan(final[\"lr_\"+lr_type])]==0)"
   ]
  },
  {
   "cell_type": "code",
   "execution_count": 52,
   "metadata": {},
   "outputs": [
    {
     "name": "stdout",
     "output_type": "stream",
     "text": [
      "i-band threshold: 4.47725384799\n",
      "No of nan LRs: 2068\n",
      "No of LRs=0: 26\n",
      "No of sources below threshold: 9862\n"
     ]
    },
    {
     "data": {
      "text/plain": [
       "Text(0.5, 0, '$log(LR)$')"
      ]
     },
     "execution_count": 52,
     "metadata": {},
     "output_type": "execute_result"
    },
    {
     "data": {
      "image/png": "[encoded data removed]",
      "text/plain": [
       "<Figure size 432x288 with 1 Axes>"
      ]
     },
     "metadata": {
      "needs_background": "light"
     },
     "output_type": "display_data"
    },
    {
     "data": {
      "image/png": "[encoded data removed]",
      "text/plain": [
       "<Figure size 432x288 with 1 Axes>"
      ]
     },
     "metadata": {
      "needs_background": "light"
     },
     "output_type": "display_data"
    }
   ],
   "source": [
    "threshold_i = np.nanpercentile(final[\"lr_\"+lr_type], 100*(1 - mean_Q0_i))\n",
    "\n",
    "print(\"i-band threshold: \"+ str(threshold_i))\n",
    "\n",
    "print(\"No of nan LRs: \" + str(len(final[np.isnan(final[\"lr_\"+lr_type])])))\n",
    "\n",
    "print(\"No of LRs=0: \" + str(len(final[(final[\"lr_\"+lr_type]==0)])))\n",
    "\n",
    "print(\"No of sources below threshold: {0}\".format(np.sum(final[\"lr_\"+lr_type] < threshold_i)))\n",
    "\n",
    "mask = (~np.isnan(final[\"lr_\"+lr_type])) & (final[\"lr_\"+lr_type]!=0)\n",
    "\n",
    "fig = plt.figure()\n",
    "lr_be = logspace_bins(0.1, np.nanmax(final[\"lr_\"+lr_type]), 0.05)\n",
    "plt.hist(np.log10(final[\"lr_\"+lr_type][mask]), bins=lr_be)\n",
    "plt.axvline(np.log10(threshold_i), 0, 100000, color='r')\n",
    "\n",
    "lr_n, lr_e, _ = return_hist_par(1, final[\"lr_\"+lr_type][mask])\n",
    "# print(lr_n)\n",
    "\n",
    "fig = plt.figure()\n",
    "plt.hist(final[\"lr_\"+lr_type][mask], bins=lr_e)\n",
    "plt.axvline((threshold_i), 0, 100000, color='r')\n",
    "\n",
    "# plt.xscale('log')\n",
    "plt.yscale('log')\n",
    "#plt.xscale('log')\n",
    "plt.xlabel('$log(LR)$')"
   ]
  },
  {
   "cell_type": "code",
   "execution_count": 53,
   "metadata": {},
   "outputs": [
    {
     "name": "stdout",
     "output_type": "stream",
     "text": [
      "Mean       Median     Std. Dev.  Length     Min        Max        Len_Zeros \n",
      "327.34336  322.101086 20.746764  173        300.141814437 382.968234 0         \n",
      "Mean       Median     Std. Dev.  Length     Min        Max        Len_Zeros \n",
      "22.1731    22.465363  1.69425    26597      16.0807 30.9023    0         \n"
     ]
    },
    {
     "name": "stderr",
     "output_type": "stream",
     "text": [
      "/its/home/im281/.conda/envs/herschelhelp/lib/python3.6/site-packages/astropy/table/column.py:965: RuntimeWarning: invalid value encountered in greater\n",
      "  return getattr(self.data, op)(other)\n",
      "/its/home/im281/.conda/envs/herschelhelp/lib/python3.6/site-packages/numpy/core/fromnumeric.py:639: UserWarning: Warning: 'partition' will ignore the 'mask' of the MaskedColumn.\n",
      "  a.partition(kth, axis=axis, kind=kind, order=order)\n"
     ]
    },
    {
     "data": {
      "text/plain": [
       "Text(0, 0.5, '$log(LR)$')"
      ]
     },
     "execution_count": 53,
     "metadata": {},
     "output_type": "execute_result"
    },
    {
     "data": {
      "image/png": "[encoded data removed]",
      "text/plain": [
       "<Figure size 432x288 with 1 Axes>"
      ]
     },
     "metadata": {
      "needs_background": "light"
     },
     "output_type": "display_data"
    },
    {
     "data": {
      "image/png": "[encoded data removed]",
      "text/plain": [
       "<Figure size 432x288 with 1 Axes>"
      ]
     },
     "metadata": {
      "needs_background": "light"
     },
     "output_type": "display_data"
    }
   ],
   "source": [
    "high_lr = final[\"lr_\"+lr_type] > 300\n",
    "varstat(final[\"lr_\"+lr_type][high_lr])\n",
    "\n",
    "good_lr_ind = (final[\"lr_index_\"+lr_type][~np.isnan(final[\"lr_index_\"+lr_type])]).astype(int)\n",
    "varstat(master[mag_col][(final[\"lr_index_\"+lr_type][~np.isnan(final[\"lr_index_\"+lr_type])]).astype(int)])\n",
    "\n",
    "_, me, mc = return_hist_par(0.1, master[mag_col][good_lr_ind])\n",
    "fig, ax = make_fig()\n",
    "plt.hist(master[mag_col][good_lr_ind], bins=me, histtype='step', lw=1.5)\n",
    "plt.xlabel('$mag_{i,3}$')\n",
    "\n",
    "fig, ax = make_fig()\n",
    "plt.scatter(master[mag_col][good_lr_ind], (final[\"lr_\"+lr_type][~np.isnan(final[\"lr_index_\"+lr_type])]),\n",
    "            s=7, alpha=0.1)\n",
    "plt.yscale('log')\n",
    "plt.ylim([0.1, 1000])\n",
    "plt.xlabel('$mag_{i,3}$')\n",
    "plt.ylabel('$log(LR)$')"
   ]
  },
  {
   "cell_type": "markdown",
   "metadata": {},
   "source": [
    "## Spitzer Ch2 filter <a class=\"anchor\" id=\"k-analysis\"></a>"
   ]
  },
  {
   "cell_type": "code",
   "execution_count": 83,
   "metadata": {},
   "outputs": [
    {
     "name": "stdout",
     "output_type": "stream",
     "text": [
      "SERVS area from MOC: 10.949807996199757\n"
     ]
    }
   ],
   "source": [
    "# Read in the MOC file\n",
    "SERVS_MOC_PATH = \"../lofar/deep_fields/Lockman/data/mocs/LH_swch2_moc_order_18_MOC.fits\"\n",
    "\n",
    "servs_moc = pymoc.MOC()\n",
    "pymoc.io.fits.read_moc_fits(servs_moc, SERVS_MOC_PATH)\n",
    "\n",
    "# Area in arcsec squared\n",
    "servs_area = servs_moc.area_sq_deg * 3600**2\n",
    "\n",
    "print(\"SERVS area from MOC: {0}\".format(servs_moc.area_sq_deg))"
   ]
  },
  {
   "cell_type": "code",
   "execution_count": 84,
   "metadata": {},
   "outputs": [],
   "source": [
    "# Get the LOFAR and MASTER catalogue sources within the SERVS MOC\n",
    "servs_ind = inMoc(master[\"ALPHA_J2000\"], master[\"DELTA_J2000\"], servs_moc)\n",
    "lofar_sin = inMoc(deepfull[\"RA\"], deepfull[\"DEC\"], servs_moc)"
   ]
  },
  {
   "cell_type": "code",
   "execution_count": 85,
   "metadata": {},
   "outputs": [],
   "source": [
    "# Define the mag column and the filter - Use SERVS 4.5\n",
    "filt = \"se2\"\n",
    "ap = \"3\"\n",
    "flux_col = \"FLUX_APER_\" + filt + \"_\" + ap\n",
    "eflux_col = \"FLUXERR_APER_\" + filt + \"_\" + ap\n",
    "mag_col = \"MAG_APER_\" + filt + \"_\" + ap\n",
    "\n",
    "# Aperture to use for SNR calculations\n",
    "sflux_col = \"FLUX_APER_\" + filt + \"_2\"\n",
    "seflux_col = \"FLUXERR_APER_\" + filt + \"_2\"\n",
    "\n",
    "# Get the sources with SNR > threshold in the filter\n",
    "snr_band = (master[sflux_col] / master[seflux_col])"
   ]
  },
  {
   "cell_type": "code",
   "execution_count": 86,
   "metadata": {},
   "outputs": [
    {
     "name": "stdout",
     "output_type": "stream",
     "text": [
      "503056\n",
      "No. of SERVS sources in rectangular area: 503056\n"
     ]
    }
   ],
   "source": [
    "master_rect_ind = servs_ind & (master[mag_col] != null_mag) & (snr_band >= snr_th)\n",
    "print(np.sum(master_rect_ind))\n",
    "print(\"No. of SERVS sources in rectangular area: \" + str(np.sum(master_rect_ind)))"
   ]
  },
  {
   "cell_type": "code",
   "execution_count": 87,
   "metadata": {},
   "outputs": [
    {
     "ename": "KeyboardInterrupt",
     "evalue": "",
     "output_type": "error",
     "traceback": [
      "\u001b[0;31m---------------------------------------------------------------------------\u001b[0m",
      "\u001b[0;31mKeyboardInterrupt\u001b[0m                         Traceback (most recent call last)",
      "\u001b[0;32m<ipython-input-87-7ef2525faf8a>\u001b[0m in \u001b[0;36m<module>\u001b[0;34m\u001b[0m\n\u001b[1;32m      1\u001b[0m \u001b[0mmask\u001b[0m \u001b[0;34m=\u001b[0m \u001b[0;34m~\u001b[0m\u001b[0mnp\u001b[0m\u001b[0;34m.\u001b[0m\u001b[0misnan\u001b[0m\u001b[0;34m(\u001b[0m\u001b[0mhelp_cat\u001b[0m\u001b[0;34m[\u001b[0m\u001b[0;34m'f_ap_irac_i1'\u001b[0m\u001b[0;34m]\u001b[0m\u001b[0;34m)\u001b[0m\u001b[0;34m\u001b[0m\u001b[0;34m\u001b[0m\u001b[0m\n\u001b[0;32m----> 2\u001b[0;31m \u001b[0mmask\u001b[0m \u001b[0;34m=\u001b[0m \u001b[0minMoc\u001b[0m\u001b[0;34m(\u001b[0m\u001b[0mhelp_cat\u001b[0m\u001b[0;34m[\u001b[0m\u001b[0;34m'ra'\u001b[0m\u001b[0;34m]\u001b[0m\u001b[0;34m[\u001b[0m\u001b[0mmask\u001b[0m\u001b[0;34m]\u001b[0m\u001b[0;34m,\u001b[0m\u001b[0mhelp_cat\u001b[0m\u001b[0;34m[\u001b[0m\u001b[0;34m'dec'\u001b[0m\u001b[0;34m]\u001b[0m\u001b[0;34m[\u001b[0m\u001b[0mmask\u001b[0m\u001b[0;34m]\u001b[0m\u001b[0;34m,\u001b[0m\u001b[0mservs_moc\u001b[0m\u001b[0;34m)\u001b[0m\u001b[0;34m\u001b[0m\u001b[0;34m\u001b[0m\u001b[0m\n\u001b[0m\u001b[1;32m      3\u001b[0m \u001b[0mprint\u001b[0m\u001b[0;34m(\u001b[0m\u001b[0;34m'number of help sources with a SERVS flux is: {}'\u001b[0m\u001b[0;34m.\u001b[0m\u001b[0mformat\u001b[0m\u001b[0;34m(\u001b[0m\u001b[0mnp\u001b[0m\u001b[0;34m.\u001b[0m\u001b[0msum\u001b[0m\u001b[0;34m(\u001b[0m\u001b[0mmask\u001b[0m\u001b[0;34m)\u001b[0m\u001b[0;34m)\u001b[0m\u001b[0;34m)\u001b[0m\u001b[0;34m\u001b[0m\u001b[0;34m\u001b[0m\u001b[0m\n",
      "\u001b[0;32m/mnt/pact/im281/FIR-group/Ian/lr/moc_util.py\u001b[0m in \u001b[0;36minMoc\u001b[0;34m(ra, dec, moc)\u001b[0m\n\u001b[1;32m     53\u001b[0m \u001b[0;34m\u001b[0m\u001b[0m\n\u001b[1;32m     54\u001b[0m     \u001b[0;31m# Array of all the HEALpix cell ids of the MOC at its maximum order.\u001b[0m\u001b[0;34m\u001b[0m\u001b[0;34m\u001b[0m\u001b[0;34m\u001b[0m\u001b[0m\n\u001b[0;32m---> 55\u001b[0;31m     \u001b[0mmoc_healpix_cells\u001b[0m \u001b[0;34m=\u001b[0m \u001b[0mnp\u001b[0m\u001b[0;34m.\u001b[0m\u001b[0marray\u001b[0m\u001b[0;34m(\u001b[0m\u001b[0mlist\u001b[0m\u001b[0;34m(\u001b[0m\u001b[0mmoc\u001b[0m\u001b[0;34m.\u001b[0m\u001b[0mflattened\u001b[0m\u001b[0;34m(\u001b[0m\u001b[0;34m)\u001b[0m\u001b[0;34m)\u001b[0m\u001b[0;34m)\u001b[0m\u001b[0;34m\u001b[0m\u001b[0;34m\u001b[0m\u001b[0m\n\u001b[0m\u001b[1;32m     56\u001b[0m \u001b[0;34m\u001b[0m\u001b[0m\n\u001b[1;32m     57\u001b[0m     \u001b[0;31m# We look for sources that are in the MOC and return the mask\u001b[0m\u001b[0;34m\u001b[0m\u001b[0;34m\u001b[0m\u001b[0;34m\u001b[0m\u001b[0m\n",
      "\u001b[0;32m~/.conda/envs/herschelhelp/lib/python3.6/site-packages/pymoc/moc.py\u001b[0m in \u001b[0;36mflattened\u001b[0;34m(self, order, include_smaller)\u001b[0m\n\u001b[1;32m    675\u001b[0m \u001b[0;34m\u001b[0m\u001b[0m\n\u001b[1;32m    676\u001b[0m             \u001b[0;32mfor\u001b[0m \u001b[0mcell\u001b[0m \u001b[0;32min\u001b[0m \u001b[0mself\u001b[0m\u001b[0;34m[\u001b[0m\u001b[0morder_i\u001b[0m\u001b[0;34m]\u001b[0m\u001b[0;34m:\u001b[0m\u001b[0;34m\u001b[0m\u001b[0;34m\u001b[0m\u001b[0m\n\u001b[0;32m--> 677\u001b[0;31m                 \u001b[0mflat\u001b[0m\u001b[0;34m.\u001b[0m\u001b[0mupdate\u001b[0m\u001b[0;34m(\u001b[0m\u001b[0mrange\u001b[0m\u001b[0;34m(\u001b[0m\u001b[0mcell\u001b[0m \u001b[0;34m<<\u001b[0m \u001b[0mshift\u001b[0m\u001b[0;34m,\u001b[0m \u001b[0;34m(\u001b[0m\u001b[0mcell\u001b[0m \u001b[0;34m+\u001b[0m \u001b[0;36m1\u001b[0m\u001b[0;34m)\u001b[0m \u001b[0;34m<<\u001b[0m \u001b[0mshift\u001b[0m\u001b[0;34m)\u001b[0m\u001b[0;34m)\u001b[0m\u001b[0;34m\u001b[0m\u001b[0;34m\u001b[0m\u001b[0m\n\u001b[0m\u001b[1;32m    678\u001b[0m \u001b[0;34m\u001b[0m\u001b[0m\n\u001b[1;32m    679\u001b[0m         \u001b[0;31m# Look at higher orders unless we have been told to exclude\u001b[0m\u001b[0;34m\u001b[0m\u001b[0;34m\u001b[0m\u001b[0;34m\u001b[0m\u001b[0m\n",
      "\u001b[0;31mKeyboardInterrupt\u001b[0m: "
     ]
    }
   ],
   "source": [
    "mask = ~np.isnan(help_cat['f_ap_irac_i1'])\n",
    "mask = inMoc(help_cat['ra'][mask],help_cat['dec'][mask],servs_moc)\n",
    "print('number of help sources with a SERVS flux is: {}'.format(np.sum(mask)))"
   ]
  },
  {
   "cell_type": "markdown",
   "metadata": {},
   "source": [
    "### n(m) Spitzer 4.5$\\mu$m <a class=\"anchor\" id=\"comp-nm_k\"></a>"
   ]
  },
  {
   "cell_type": "code",
   "execution_count": null,
   "metadata": {},
   "outputs": [],
   "source": [
    "# Get the bin_list for computing n(m) for g band\n",
    "_, nm_be_ir, nm_bc_ir = return_hist_par(0.05, master[mag_col][master_rect_ind])\n",
    "\n",
    "# Get n(m) for the g band\n",
    "nm_ir_old = get_n_m(master[mag_col][master_rect_ind], nm_be_ir, servs_area)\n",
    "\n",
    "nm_ir = get_n_m_kde(master[mag_col][master_rect_ind], nm_bc_ir, area=servs_area, bandwidth=0.5)\n",
    "\n",
    "# Print properties of the n(m) distribution\n",
    "print(\"Properties of n(m) in 4.5-band: \")\n",
    "varstat(np.cumsum(nm_ir))\n",
    "\n",
    "fig = plt.figure()\n",
    "\n",
    "plt.plot(nm_bc_ir, np.cumsum(nm_ir), label='KDE')\n",
    "plt.plot(nm_bc_ir, nm_ir_old, label='Cumulative')\n",
    "plt.xlabel('$mag_{4.5}$')\n",
    "plt.legend()\n"
   ]
  },
  {
   "cell_type": "code",
   "execution_count": 65,
   "metadata": {},
   "outputs": [],
   "source": [
    "# Write the n(m) distribution to pckl file to compare with the other fields\n",
    "pickle.dump([nm_bc_ir, nm_ir, nm_ir_old], open(\"LH_nm_{0}_{1}asec_apcorr.pckl\".format(filt, ap), \"wb\"))"
   ]
  },
  {
   "cell_type": "markdown",
   "metadata": {},
   "source": [
    "### q(m) Spitzer 4.5 $\\mu$m <a class=\"anchor\" id=\"comp-qm_k\"></a>"
   ]
  },
  {
   "cell_type": "code",
   "execution_count": 72,
   "metadata": {},
   "outputs": [
    {
     "name": "stdout",
     "output_type": "stream",
     "text": [
      "503050\n",
      "No. of IR sources used for q(m) calculation: 503050\n",
      "No. of LOFAR sources used for q(m) calculation: <SkyCoord (ICRS): (ra, dec) in deg\n",
      "    [( 165.04968211,  57.36045019), ( 165.00901956,  57.34062476),\n",
      "     ( 164.98167683,  57.37914716), ..., ( 159.34184712,  58.71101612),\n",
      "     ( 159.33925964,  58.71435933), ( 159.32977296,  58.7157107 )]>\n"
     ]
    }
   ],
   "source": [
    "# Get the IR sources within the SERVS region with good magnitudes and SNR > threshold\n",
    "\n",
    "snr_th = 3.0\n",
    "ir_only_bool_servs = (master[mag_col] != null_mag) & servs_ind & (snr_band >= snr_th)\n",
    "print(np.sum(ir_only_bool_servs))\n",
    "\n",
    "# Optical Coordinates\n",
    "ir_coords_se = SkyCoord(master['ALPHA_J2000'][ir_only_bool_servs], \n",
    "                       master['DELTA_J2000'][ir_only_bool_servs],unit=(u.deg,u.deg),frame='icrs')\n",
    "\n",
    "print(\"No. of IR sources used for q(m) calculation: {0}\".format(np.sum(ir_only_bool_servs)))\n",
    "\n",
    "lofar_co_se = SkyCoord(deepfull[\"RA\"][lofar_sin], deepfull[\"DEC\"][lofar_sin],unit='deg', frame='icrs')\n",
    "\n",
    "print(\"No. of LOFAR sources used for q(m) calculation: {0}\".format(lofar_co_se))"
   ]
  },
  {
   "cell_type": "code",
   "execution_count": 75,
   "metadata": {},
   "outputs": [
    {
     "name": "stdout",
     "output_type": "stream",
     "text": [
      "Unique opt_ind:  30666\n",
      "Unique LOFAR ind:  17226\n",
      "q(m) statistics: \n",
      "Mean       Median     Std. Dev.  Length     Min        Max        Len_Zeros \n",
      "0.443559   0.254776   0.443854   245        0.0 1.0        18        \n",
      "3027678\n",
      "real m\n",
      "2254420.16975\n"
     ]
    },
    {
     "data": {
      "image/png": "[encoded data removed]",
      "text/plain": [
       "<Figure size 432x288 with 1 Axes>"
      ]
     },
     "metadata": {
      "needs_background": "light"
     },
     "output_type": "display_data"
    },
    {
     "data": {
      "image/png": "[encoded data removed]",
      "text/plain": [
       "<Figure size 432x288 with 1 Axes>"
      ]
     },
     "metadata": {
      "needs_background": "light"
     },
     "output_type": "display_data"
    }
   ],
   "source": [
    "RMAX = 5.\n",
    "\n",
    "# This is only estimated in the SERVS region\n",
    "qm_ir_old, tm_ir, rm_ir = get_q_m(lofar_co_se, ir_coords_se, RMAX,\n",
    "               master[mag_col][ir_only_bool_servs], nm_be_ir, servs_area, nm_ir_old)\n",
    "\n",
    "qm_ir = estimate_q_m_kde(master[mag_col][ir_only_bool_servs], nm_bc_ir, nm_ir,\n",
    "                        lofar_co_se, ir_coords_se, RMAX, bandwidth=0.5)\n",
    "\n",
    "fig = plt.figure()\n",
    "\n",
    "plt.plot(nm_bc_ir, np.cumsum(qm_ir), label='KDE')\n",
    "plt.plot(nm_bc_ir, qm_ir_old, label='Cumulative')\n",
    "plt.legend()\n",
    "\n",
    "\n",
    "fig = plt.figure()\n",
    "\n",
    "plt.plot(nm_bc_ir, tm_ir, color='b', label='tm')\n",
    "plt.plot(nm_bc_ir, np.pi*RMAX**2 * np.cumsum(nm_ir) * len(lofar_co_se), color='r')\n",
    "plt.plot(nm_bc_ir, rm_ir)\n",
    "plt.legend()\n",
    "\n",
    "\n",
    "print(\"q(m) statistics: \")\n",
    "varstat(np.cumsum(qm_ir))\n",
    "\n",
    "print(np.sum(tm_ir))\n",
    "print(\"real m\")\n",
    "print(np.sum(rm_ir))"
   ]
  },
  {
   "cell_type": "code",
   "execution_count": 74,
   "metadata": {},
   "outputs": [],
   "source": [
    "# Write the q(m) distribution to pckl file to compare with the other fields\n",
    "pickle.dump([nm_bc_ir, qm_ir, qm_ir_old], open(\"LH_qm_{0}_{1}asec_apcorr.pckl\".format(filt, ap), \"wb\"))"
   ]
  },
  {
   "cell_type": "markdown",
   "metadata": {},
   "source": [
    "## Compute Q$_0$ <a class=\"anchor\" id=\"comp-Q0_k\"></a>"
   ]
  },
  {
   "cell_type": "code",
   "execution_count": null,
   "metadata": {},
   "outputs": [],
   "source": [
    "# Compute Q_0 for the g band\n",
    "\n",
    "t1 = time.time()\n",
    "\n",
    "# Empty lists to store the output from the PanSTARRS catalogue\n",
    "q0_lk = []\n",
    "l_no_m_k = []\n",
    "r_no_m_k = []\n",
    "\n",
    "rad = np.arange(1,10)\n",
    "\n",
    "# Generate random coords\n",
    "# rand_coords = generate_rand_pos_bootes(p_ra_up,p_dec_up,p_ra_down,p_dec_down,len(lofar_co_se))\n",
    "\n",
    "# Generate random coordinates using MOC - Make these coordinates be just larger than a rectangle encompassing the full SERVS region\n",
    "ra_up = 0.\n",
    "ra_down = 0.\n",
    "dec_up = 0.\n",
    "dec_down = 0.\n",
    "\n",
    "rand_coords = gen_rand_cat_inMOC(len(lofar_co_se), ra_up, ra_down, dec_up, dec_down, servs_moc)\n",
    "\n",
    "for k in range(len(rad)):\n",
    "    q0_k, nl_non_k, nr_non_k = get_Q0(lofar_co_se, ir_coords_se, rand_coords, float(rad[k]))\n",
    "    q0_lk.append(q0_k)\n",
    "    l_no_m_k.append(nl_non_k)\n",
    "    r_no_m_k.append(nr_non_k)\n",
    "\n",
    "print('Timetaken: ' + str(time.time() - t1))\n",
    "\n",
    "print('Radius Blanks Random Blanks Q_0')\n",
    "\n",
    "for aa in range(len(q0_lk)):\n",
    "    \n",
    "    print(rad[aa], l_no_m_k[aa], r_no_m_k[aa], q0_lk[aa])\n",
    "\n",
    "\n",
    "# Make a plot of Q0 vs radius\n",
    "fig_q0 = plt.figure()\n",
    "\n",
    "plt.plot(rad, q0_lk, 'r.')\n",
    "#plt.yscale('log')\n",
    "plt.xlabel('Radius (arcsec)')\n",
    "plt.ylabel('$Q_0$')"
   ]
  },
  {
   "cell_type": "code",
   "execution_count": null,
   "metadata": {},
   "outputs": [],
   "source": [
    "# Estimate a mean Q_0 value for the i-band\n",
    "\n",
    "mean_Q0_ir = np.mean(q0_lk[3:6])\n",
    "# mean_Q0_k = np.max(q0_lk)\n",
    "\n",
    "print(\"Q_0 for 4.5-band: \" + str(mean_Q0_ir))\n",
    "mean_Q0_vals.append(mean_Q0_k)"
   ]
  },
  {
   "cell_type": "code",
   "execution_count": null,
   "metadata": {},
   "outputs": [],
   "source": [
    "# Check the median Q0 value with the plot above to see if it is reasonable before saving the value\n",
    "Q0 = np.median(q0_li[3:6])\n",
    "print(Q0)"
   ]
  },
  {
   "cell_type": "code",
   "execution_count": null,
   "metadata": {},
   "outputs": [],
   "source": [
    "# Write the Q0 value to file\n",
    "pickle.dump(Q0, open(\"LH_dist/LH_Q0_{0}_{1}arcsec.pckl\".format(filt,ap), \"wb\"))"
   ]
  },
  {
   "cell_type": "markdown",
   "metadata": {},
   "source": [
    "# Redefine the LOFAR coordinates and master coordinates to the full SWIRE region"
   ]
  },
  {
   "cell_type": "code",
   "execution_count": null,
   "metadata": {},
   "outputs": [],
   "source": [
    "# Redefine the IR magnitude to be taken from the full SWIRE 4.5um channel\n",
    "\n",
    "filt = \"sw2\"\n",
    "ap = \"3\"\n",
    "flux_col = \"FLUX_APER_\" + filt + \"_\" + ap\n",
    "eflux_col = \"FLUXERR_APER_\" + filt + \"_\" + ap\n",
    "mag_col = \"MAG_APER_\" + filt + \"_\" + ap\n",
    "\n",
    "# Aperture to use for SNR calculations\n",
    "sflux_col = \"FLUX_APER_\" + filt + \"_2\"\n",
    "seflux_col = \"FLUXERR_APER_\" + filt + \"_2\"\n",
    "\n",
    "snr_band = master[sflux_col] / master[seflux_col]"
   ]
  },
  {
   "cell_type": "code",
   "execution_count": null,
   "metadata": {},
   "outputs": [],
   "source": [
    "# Redefine the LOFAR and optical coordinates to be in the full SWIRE region\n",
    "\n",
    "ir_only_bool = (master[mag_col] != null_mag) & (snr_band >= snr_th)\n",
    "\n",
    "# Optical Coordinates\n",
    "ir_coords = SkyCoord(master['ALPHA_J2000'][ir_only_bool], \n",
    "                       master['DELTA_J2000'][ir_only_bool],\n",
    "                       unit=(u.deg,u.deg),frame='icrs')\n",
    "\n",
    "print(\"No. of IR sources used for Q0 calculation and cross-match: {0}\".format(np.sum(ir_only_bool)))\n",
    "print(\"No. of LOFAR sources used for Q0 and cross-match: {0}\".format(len(lofar_co)))"
   ]
  },
  {
   "cell_type": "markdown",
   "metadata": {},
   "source": [
    "## Compute LR for 4.5-band"
   ]
  },
  {
   "cell_type": "code",
   "execution_count": 28,
   "metadata": {},
   "outputs": [
    {
     "name": "stdout",
     "output_type": "stream",
     "text": [
      "Sources with Spitzer ch2 detection: 803759\n"
     ]
    }
   ],
   "source": [
    "# Define the sub catalogue of master sources that are \"K_only\"\n",
    "master_categ = master[ir_only_bool]\n",
    "print(\"Sources with Spitzer ch2 detection: \" + str(len(master_categ)))"
   ]
  },
  {
   "cell_type": "code",
   "execution_count": 29,
   "metadata": {},
   "outputs": [
    {
     "name": "stdout",
     "output_type": "stream",
     "text": [
      "17895\n",
      "No. of radio sources without any positional cross-match: 368\n"
     ]
    }
   ],
   "source": [
    "# First match LOFAR to the MASTER catalogue -\n",
    "# then calculate sigma for all matches in the optical catalogue \n",
    "# to a given LOFAR source\n",
    "\n",
    "# Convert master positions to SkyCoord object\n",
    "master_coords = SkyCoord(master_categ['ALPHA_J2000'], master_categ['DELTA_J2000'],\n",
    "                         unit=(u.deg, u.deg), frame='icrs')\n",
    "\n",
    "# New search radius to match the LOFAR and combined PanSTARRS WISE caalogue\n",
    "lof_opt_rad = 15.\n",
    "\n",
    "# Match the coordinates\n",
    "indx_l, indx_m, s2d, _ = search_around_sky(lofar_co, master_coords, \n",
    "                                           lof_opt_rad*u.arcsec)\n",
    "\n",
    "# Get the indices of LOFAR which have at least one match - only need to calculate LR for these sources\n",
    "ind_l_un = np.unique(indx_l)\n",
    "print(len(ind_l_un))\n",
    "print(\"No. of radio sources without any positional cross-match: {0}\".format(len(lofar_co) - len(ind_l_un)))"
   ]
  },
  {
   "cell_type": "code",
   "execution_count": 30,
   "metadata": {},
   "outputs": [
    {
     "name": "stdout",
     "output_type": "stream",
     "text": [
      "8.699378967285156\n",
      "Mean       Median     Std. Dev.  Length     Min        Max        Len_Zeros \n",
      "157.343373 83.617974  195.407741 18263      0.0 1224.293776 4         \n"
     ]
    }
   ],
   "source": [
    "# Run the ML function\n",
    "\n",
    "opt_pos_err = 0.35\n",
    "\n",
    "t3 = time.time()\n",
    "\n",
    "\n",
    "# Run the apply_ml function and store the values in res as a list\n",
    "t4 = time.time()\n",
    "\n",
    "res = run_parallel(ind_l_un, opt_pos_err*np.ones(len(master)), opt_pos_err*np.ones(len(master)),\n",
    "                        master_categ[mag_col], 'does_not_matter', mean_Q0_ir, nm_ir, qm_ir, nm_bc_ir)\n",
    "\n",
    "print(time.time() - t4)\n",
    "\n",
    "lr_type = \"ch2\"\n",
    "lr_types.append(lr_type)\n",
    "\n",
    "# Create columns in the LOFAR catalogue to store the output of ML in iband\n",
    "final[\"lr_\"+lr_type] = np.nan\n",
    "final[\"lr_dist_\"+lr_type] = np.nan\n",
    "final[\"lr_index_\"+lr_type] = np.nan\n",
    "\n",
    "# Map the outputs to a list - all non-matches have a nan value\n",
    "(final[\"lr_index_\"+lr_type][ind_l_un],\n",
    " final[\"lr_dist_\"+lr_type][ind_l_un],\n",
    " final[\"lr_\"+lr_type][ind_l_un]) = list(map(list, zip(*res)))\n",
    "\n",
    "# Convert the index into ints as the map converts them to float\n",
    "# final[\"lr_index_K\"] = final[\"lr_index_K\"].astype(int)\n",
    "\n",
    "varstat(final[\"lr_\"+lr_type])"
   ]
  },
  {
   "cell_type": "code",
   "execution_count": 31,
   "metadata": {},
   "outputs": [
    {
     "name": "stdout",
     "output_type": "stream",
     "text": [
      "ch2-band threshold: 5.741713577977949\n",
      "No of nan LRs: 368\n",
      "No of sources below threshold: 1994\n"
     ]
    },
    {
     "name": "stderr",
     "output_type": "stream",
     "text": [
      "/disk1/rohitk/miniconda3/lib/python3.6/site-packages/astropy/table/column.py:965: RuntimeWarning: invalid value encountered in less\n",
      "  return getattr(self.data, op)(other)\n",
      "/disk1/rohitk/miniconda3/lib/python3.6/site-packages/ipykernel_launcher.py:11: RuntimeWarning: divide by zero encountered in log10\n",
      "  # This is added back by InteractiveShellApp.init_path()\n"
     ]
    },
    {
     "data": {
      "text/plain": [
       "Text(0.5, 0, '$log(LR)$')"
      ]
     },
     "execution_count": 31,
     "metadata": {},
     "output_type": "execute_result"
    },
    {
     "data": {
      "image/png": "[encoded data removed]",
      "text/plain": [
       "<Figure size 432x288 with 1 Axes>"
      ]
     },
     "metadata": {},
     "output_type": "display_data"
    },
    {
     "data": {
      "image/png": "[encoded data removed]",
      "text/plain": [
       "<Figure size 432x288 with 1 Axes>"
      ]
     },
     "metadata": {},
     "output_type": "display_data"
    }
   ],
   "source": [
    "threshold_ch2 = np.nanpercentile(final[\"lr_\"+lr_type], 100*(1 - mean_Q0_k))\n",
    "\n",
    "print(\"ch2-band threshold: \"+ str(threshold_ch2))\n",
    "\n",
    "print(\"No of nan LRs: \" + str(len(final[np.isnan(final[\"lr_\"+lr_type])])))\n",
    "\n",
    "print(\"No of sources below threshold: {0}\".format(np.sum(final[\"lr_\"+lr_type] < threshold_ch2)))\n",
    "\n",
    "fig = plt.figure()\n",
    "lr_be = logspace_bins(0.1, np.nanmax(final[\"lr_\"+lr_type]), 0.05)\n",
    "plt.hist(np.log10(final[\"lr_\"+lr_type][~np.isnan(final[\"lr_\"+lr_type])]), bins=lr_be)\n",
    "plt.axvline(np.log10(threshold_ch2), 0, 100000, color='r')\n",
    "\n",
    "lr_n, lr_e, _ = return_hist_par(1, final[\"lr_\"+lr_type][~np.isnan(final[\"lr_\"+lr_type])])\n",
    "# print(lr_n)\n",
    "\n",
    "fig = plt.figure()\n",
    "plt.hist(final[\"lr_\"+lr_type][~np.isnan(final[\"lr_\"+lr_type])], bins=lr_e)\n",
    "plt.axvline((threshold_ch2), 0, 100000, color='r')\n",
    "\n",
    "# plt.xscale('log')\n",
    "plt.yscale('log')\n",
    "#plt.xscale('log')\n",
    "plt.xlabel('$log(LR)$')"
   ]
  },
  {
   "cell_type": "code",
   "execution_count": 32,
   "metadata": {},
   "outputs": [
    {
     "name": "stdout",
     "output_type": "stream",
     "text": [
      "Mean       Median     Std. Dev.  Length     Min        Max        Len_Zeros \n",
      "523.030582 462.640207 198.770703 2955       300.0244203357923 1224.293776 0         \n",
      "Mean       Median     Std. Dev.  Length     Min        Max        Len_Zeros \n",
      "19.988079  19.913254  1.083214   17895      12.143552608004494 23.292252  0         \n"
     ]
    },
    {
     "name": "stderr",
     "output_type": "stream",
     "text": [
      "/disk1/rohitk/miniconda3/lib/python3.6/site-packages/astropy/table/column.py:965: RuntimeWarning: invalid value encountered in greater\n",
      "  return getattr(self.data, op)(other)\n",
      "/disk1/rohitk/miniconda3/lib/python3.6/site-packages/numpy/core/fromnumeric.py:688: UserWarning: Warning: 'partition' will ignore the 'mask' of the MaskedColumn.\n",
      "  a.partition(kth, axis=axis, kind=kind, order=order)\n"
     ]
    },
    {
     "data": {
      "text/plain": [
       "Text(0, 0.5, '$log(LR)$')"
      ]
     },
     "execution_count": 32,
     "metadata": {},
     "output_type": "execute_result"
    },
    {
     "data": {
      "image/png": "[encoded data removed]",
      "text/plain": [
       "<Figure size 432x288 with 1 Axes>"
      ]
     },
     "metadata": {},
     "output_type": "display_data"
    },
    {
     "data": {
      "image/png": "[encoded data removed]",
      "text/plain": [
       "<Figure size 432x288 with 1 Axes>"
      ]
     },
     "metadata": {},
     "output_type": "display_data"
    }
   ],
   "source": [
    "high_lr = final[\"lr_\"+lr_type] > 300\n",
    "varstat(final[\"lr_\"+lr_type][high_lr])\n",
    "\n",
    "good_lr_ind = (final[\"lr_index_\"+lr_type][~np.isnan(final[\"lr_index_\"+lr_type])]).astype(int)\n",
    "varstat(master[mag_col][(final[\"lr_index_\"+lr_type][~np.isnan(final[\"lr_index_\"+lr_type])]).astype(int)])\n",
    "\n",
    "_, me, mc = return_hist_par(0.1, master[mag_col][good_lr_ind])\n",
    "fig, ax = make_fig()\n",
    "plt.hist(master[mag_col][good_lr_ind], bins=me, histtype='step', lw=1.5)\n",
    "plt.xlabel('$mag_{ch2,3}$')\n",
    "\n",
    "fig, ax = make_fig()\n",
    "plt.scatter(master[mag_col][good_lr_ind], (final[\"lr_\"+lr_type][~np.isnan(final[\"lr_index_\"+lr_type])]),\n",
    "            s=7, alpha=0.1)\n",
    "plt.yscale('log')\n",
    "plt.ylim([0.1, 10000])\n",
    "plt.xlabel('$mag_{ch2,3}$')\n",
    "plt.ylabel('$log(LR)$')"
   ]
  },
  {
   "cell_type": "markdown",
   "metadata": {},
   "source": [
    "# Run until here for now #"
   ]
  },
  {
   "cell_type": "code",
   "execution_count": 33,
   "metadata": {},
   "outputs": [],
   "source": [
    "# Make a directory based on when the code is run to store output\n",
    "\n",
    "if workflow_iter:\n",
    "    add_str = \"_workflow\"\n",
    "else:\n",
    "    add_str = \"\"\n",
    "\n",
    "# Make the general directory to store the catalogue\n",
    "if os.path.exists(strftime(\"run1_matches\"+add_str+\"/%d_%m_%Y_1\")):\n",
    "    # Get list of directories created today\n",
    "    outdir_name = strftime(\"run1_matches\"+add_str+\"/%d_%m_%Y\")\n",
    "    dirs_today = sorted(glob.glob(outdir_name+\"*\"))\n",
    "\n",
    "    # Now create a new output directory name by adding one to the last number\n",
    "    last_num = int(dirs_today[-1][-1])\n",
    "    \n",
    "    # Now finally create the directory\n",
    "    outdir_name = outdir_name+\"_\"+str(last_num+1)\n",
    "    print(outdir_name)\n",
    "    os.makedirs(outdir_name)\n",
    "else:\n",
    "    outdir_name = strftime(\"run1_matches\"+add_str+\"/%d_%m_%Y_1\")\n",
    "    os.makedirs(outdir_name)\n"
   ]
  },
  {
   "cell_type": "code",
   "execution_count": 34,
   "metadata": {},
   "outputs": [
    {
     "data": {
      "text/plain": [
       "'run1_matches_workflow/05_04_2019_1'"
      ]
     },
     "execution_count": 34,
     "metadata": {},
     "output_type": "execute_result"
    }
   ],
   "source": [
    "outdir_name"
   ]
  },
  {
   "cell_type": "code",
   "execution_count": 35,
   "metadata": {},
   "outputs": [
    {
     "name": "stderr",
     "output_type": "stream",
     "text": [
      "/disk1/rohitk/miniconda3/lib/python3.6/site-packages/astropy/table/column.py:965: RuntimeWarning: invalid value encountered in less\n",
      "  return getattr(self.data, op)(other)\n"
     ]
    },
    {
     "name": "stdout",
     "output_type": "stream",
     "text": [
      "369.06297540664673\n",
      "Mean Q0s: \n",
      "[0.7561623016284411, 0.8886173866187995]\n"
     ]
    }
   ],
   "source": [
    "# Edit sources such that soucres below threshold are nans\n",
    "\n",
    "# run_type = \"1_faint\"\n",
    "run_type = \"1\"\n",
    "\n",
    "field = \"LH\"\n",
    "\n",
    "# Write the matches before setting threshold to be nan's\n",
    "final.write(outdir_name + '/' + field + '_ML_RUN'+run_type + cat_type, format='ascii', overwrite=True)\n",
    "final.write(outdir_name + '/' + field + '_ML_RUN'+run_type+cat_type+'.fits', format='fits', overwrite=True)\n",
    "\n",
    "final[\"lr_index_i\"][final[\"lr_i\"] < threshold_i] = np.nan\n",
    "final[\"lr_index_ch2\"][final[\"lr_ch2\"] < threshold_ch2] = np.nan\n",
    "\n",
    "final[\"lr_dist_i\"][final[\"lr_i\"] < threshold_i] = np.nan\n",
    "final[\"lr_dist_ch2\"][final[\"lr_ch2\"] < threshold_ch2] = np.nan\n",
    "\n",
    "final[\"lr_i\"][final[\"lr_i\"] < threshold_i] = np.nan\n",
    "final[\"lr_ch2\"][final[\"lr_ch2\"] < threshold_ch2] = np.nan\n",
    "\n",
    "final.write(outdir_name + '/' + field + '_ML_RUN'+run_type+cat_type+'_nanth', format='ascii', overwrite=True)\n",
    "final.write(outdir_name + '/' + field + '_ML_RUN'+run_type+cat_type+'_nanth.fits', format='fits', overwrite=True)\n",
    "\n",
    "print(time.time() - ts)\n",
    "print(\"Mean Q0s: \")\n",
    "print(mean_Q0_vals)\n",
    "\n",
    "run1_filts = [\"i\", \"ch2\"]\n",
    "\n",
    "# Write the mean Q0s to pckl file too\n",
    "pickle.dump([run1_filts, mean_Q0_vals], open(outdir_name + \"/run1_filts_and_mean_Q0.pckl\", \"wb\"))"
   ]
  },
  {
   "cell_type": "code",
   "execution_count": 36,
   "metadata": {},
   "outputs": [
    {
     "name": "stdout",
     "output_type": "stream",
     "text": [
      "LR > threshold i: 13341\n",
      "LR > threshold IR: 15901\n",
      "LR > threshold in both optical and IR: 13224, 0.7240869517603898\n",
      "LR > threshold in optical OR IR: 16018, 0.8770738651919181\n"
     ]
    },
    {
     "name": "stderr",
     "output_type": "stream",
     "text": [
      "/disk1/rohitk/miniconda3/lib/python3.6/site-packages/astropy/table/column.py:965: RuntimeWarning: invalid value encountered in greater_equal\n",
      "  return getattr(self.data, op)(other)\n"
     ]
    }
   ],
   "source": [
    "good_lr_i = final[\"lr_i\"] >= threshold_i\n",
    "good_lr_ir = final[\"lr_ch2\"] >= threshold_ch2\n",
    "print(\"LR > threshold i: {0}\".format(np.sum(good_lr_i)))\n",
    "print(\"LR > threshold IR: {0}\".format(np.sum(good_lr_ir)))\n",
    "\n",
    "print(\"LR > threshold in both optical and IR: {0}, {1}\".format(np.sum(good_lr_i & good_lr_ir), np.sum(good_lr_i & good_lr_ir)/len(final)))\n",
    "print(\"LR > threshold in optical OR IR: {0}, {1}\".format(np.sum(good_lr_i | good_lr_ir), np.sum(good_lr_i | good_lr_ir)/len(final)))\n"
   ]
  },
  {
   "cell_type": "code",
   "execution_count": 37,
   "metadata": {},
   "outputs": [
    {
     "name": "stdout",
     "output_type": "stream",
     "text": [
      "No. of sources above threshold in any band: 16018\n",
      "Frac. of LOFAR sources above threshold : 0.8770738651919181\n"
     ]
    }
   ],
   "source": [
    "# Find the number of sources above the threshold in any of the bands\n",
    "n_th = (~np.isnan(final[\"lr_i\"]) | ~np.isnan(final[\"lr_ch2\"]))\n",
    "print(\"No. of sources above threshold in any band: \" + str(len(final[n_th])))\n",
    "\n",
    "print(\"Frac. of LOFAR sources above threshold : \" + str(len(final[n_th])/float(len(final))))"
   ]
  },
  {
   "cell_type": "code",
   "execution_count": 38,
   "metadata": {},
   "outputs": [
    {
     "data": {
      "text/plain": [
       "0"
      ]
     },
     "execution_count": 38,
     "metadata": {},
     "output_type": "execute_result"
    }
   ],
   "source": [
    "# Move the HTML notebook to the output directory\n",
    "os.system(\"jupyter-nbconvert MaxL_RUN1_LH.ipynb && mv MaxL_RUN1_LH.html {0}\".format(outdir_name))"
   ]
  },
  {
   "cell_type": "code",
   "execution_count": null,
   "metadata": {},
   "outputs": [],
   "source": []
  }
 ],
 "metadata": {
  "kernelspec": {
   "display_name": "Python 3",
   "language": "python",
   "name": "python3"
  },
  "language_info": {
   "codemirror_mode": {
    "name": "ipython",
    "version": 3
   },
   "file_extension": ".py",
   "mimetype": "text/x-python",
   "name": "python",
   "nbconvert_exporter": "python",
   "pygments_lexer": "ipython3",
   "version": "3.6.7"
  }
 },
 "nbformat": 4,
 "nbformat_minor": 2
}
