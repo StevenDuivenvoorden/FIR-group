{
 "cells": [
  {
   "cell_type": "code",
   "execution_count": 1,
   "metadata": {},
   "outputs": [],
   "source": [
    "import numpy as np\n",
    "import astropy\n",
    "from astropy.table import Table, Column,join,vstack\n",
    "from astropy import units as u\n",
    "from astropy.coordinates import SkyCoord, search_around_sky\n",
    "from IPython.display import clear_output\n",
    "import pickle\n",
    "import os\n",
    "from glob import glob\n",
    "from shutil import copyfile\n",
    "import pymoc\n",
    "from pymoc import MOC\n",
    "from pymoc.util import catalog\n",
    "from pymoc.io.fits import read_moc_fits\n",
    "import matplotlib.pyplot as plt\n",
    "import matplotlib.patches as mpatches\n",
    "from sklearn.neighbors import KernelDensity\n",
    "\n",
    "import importlib\n",
    "import time"
   ]
  },
  {
   "cell_type": "code",
   "execution_count": 2,
   "metadata": {},
   "outputs": [],
   "source": [
    "\n",
    "#importlib.reload(mltier)\n",
    "from mltier import (get_center, get_n_m, estimate_q_m, Field, SingleMLEstimator, MultiMLEstimator,\n",
    "                     parallel_process, get_sigma_all, get_q_m, get_threshold, q0_min_level, q0_min_numbers,\n",
    "                     get_n_m_kde, estimate_q_m_kde, get_q_m_kde, describe)\n",
    "from Q0_calc import Q0_calc"
   ]
  },
  {
   "cell_type": "code",
   "execution_count": 3,
   "metadata": {},
   "outputs": [],
   "source": [
    "def varstat(distribution):\n",
    "    \"\"\"\n",
    "    Print basic properties about a variable to stdout\n",
    "\n",
    "\n",
    "    Parameters:\n",
    "    ------------\n",
    "\n",
    "    distribution : The input variable/distribution to display the statistic of to stdout\n",
    "\n",
    "    Returns:\n",
    "    -----------\n",
    "    \"\"\"\n",
    "\n",
    "    stat_to_print = [np.nanmean(distribution),np.nanmedian(distribution),\n",
    "                     np.nanstd(distribution),len(distribution),np.nanmin(distribution),\n",
    "                     np.nanmax(distribution),len(distribution[distribution==0.])]\n",
    "\n",
    "    var_to_print = [\"Mean\", \"Median\", \"Std. Dev.\", \"Length\", \"Min\", \"Max\", \"Len_Zeros\"]\n",
    "    var_to_print = [aa.ljust(10) for aa in var_to_print]\n",
    "    print(\" \".join(var_to_print))\n",
    "\n",
    "    #stat_to_print = map(str,stat_to_print)\n",
    "    #print(stat_to_print)\n",
    "    stat_to_print = [str(np.round(bb,6)).ljust(10) for bb in stat_to_print]\n",
    "    stat_to_print[4] = str(np.nanmin(distribution))\n",
    "    print(\" \".join(stat_to_print))\n",
    "    # print(stat_to_print)\n",
    "    return"
   ]
  },
  {
   "cell_type": "markdown",
   "metadata": {},
   "source": [
    "#### Read in the optical and infrared data and the radio data"
   ]
  },
  {
   "cell_type": "code",
   "execution_count": 5,
   "metadata": {},
   "outputs": [],
   "source": [
<<<<<<< HEAD
    "opt_ir_cat = Table.read('data/masterlist_swire_20181115.fits')"
=======
    "opt_ir_cat = Table.read('../../../HELP/dmu_products/dmu32/dmu32_Lockman-SWIRE/data/Lockman-SWIRE_20180219.fits')"
   ]
  },
  {
   "cell_type": "code",
   "execution_count": 6,
   "metadata": {},
   "outputs": [
    {
     "name": "stdout",
     "output_type": "stream",
     "text": [
      "4366298\n"
     ]
    },
    {
     "data": {
      "text/html": [
       "<i>Row index=0</i>\n",
       "<table id=\"table46913446502696\">\n",
       "<thead><tr><th>help_id</th><th>field</th><th>ra</th><th>dec</th><th>hp_idx</th><th>f_ap_wfc_u</th><th>ferr_ap_wfc_u</th><th>m_ap_wfc_u</th><th>merr_ap_wfc_u</th><th>f_wfc_u</th><th>ferr_wfc_u</th><th>m_wfc_u</th><th>merr_wfc_u</th><th>f_ap_wfc_g</th><th>ferr_ap_wfc_g</th><th>m_ap_wfc_g</th><th>merr_ap_wfc_g</th><th>f_wfc_g</th><th>ferr_wfc_g</th><th>m_wfc_g</th><th>merr_wfc_g</th><th>f_ap_wfc_r</th><th>ferr_ap_wfc_r</th><th>m_ap_wfc_r</th><th>merr_ap_wfc_r</th><th>f_wfc_r</th><th>ferr_wfc_r</th><th>m_wfc_r</th><th>merr_wfc_r</th><th>f_ap_wfc_i</th><th>ferr_ap_wfc_i</th><th>m_ap_wfc_i</th><th>merr_ap_wfc_i</th><th>f_wfc_i</th><th>ferr_wfc_i</th><th>m_wfc_i</th><th>merr_wfc_i</th><th>f_ap_wfc_z</th><th>ferr_ap_wfc_z</th><th>m_ap_wfc_z</th><th>merr_ap_wfc_z</th><th>f_wfc_z</th><th>ferr_wfc_z</th><th>m_wfc_z</th><th>merr_wfc_z</th><th>f_ap_gpc1_g</th><th>ferr_ap_gpc1_g</th><th>m_ap_gpc1_g</th><th>merr_ap_gpc1_g</th><th>f_gpc1_g</th><th>ferr_gpc1_g</th><th>m_gpc1_g</th><th>merr_gpc1_g</th><th>f_ap_gpc1_r</th><th>ferr_ap_gpc1_r</th><th>m_ap_gpc1_r</th><th>merr_ap_gpc1_r</th><th>f_gpc1_r</th><th>ferr_gpc1_r</th><th>m_gpc1_r</th><th>merr_gpc1_r</th><th>f_ap_gpc1_i</th><th>ferr_ap_gpc1_i</th><th>m_ap_gpc1_i</th><th>merr_ap_gpc1_i</th><th>f_gpc1_i</th><th>ferr_gpc1_i</th><th>m_gpc1_i</th><th>merr_gpc1_i</th><th>f_ap_gpc1_z</th><th>ferr_ap_gpc1_z</th><th>m_ap_gpc1_z</th><th>merr_ap_gpc1_z</th><th>f_gpc1_z</th><th>ferr_gpc1_z</th><th>m_gpc1_z</th><th>merr_gpc1_z</th><th>f_ap_gpc1_y</th><th>ferr_ap_gpc1_y</th><th>m_ap_gpc1_y</th><th>merr_ap_gpc1_y</th><th>f_gpc1_y</th><th>ferr_gpc1_y</th><th>m_gpc1_y</th><th>merr_gpc1_y</th><th>f_ap_megacam_u</th><th>ferr_ap_megacam_u</th><th>m_ap_megacam_u</th><th>merr_ap_megacam_u</th><th>f_megacam_u</th><th>ferr_megacam_u</th><th>m_megacam_u</th><th>merr_megacam_u</th><th>f_ap_megacam_g</th><th>ferr_ap_megacam_g</th><th>m_ap_megacam_g</th><th>merr_ap_megacam_g</th><th>f_megacam_g</th><th>ferr_megacam_g</th><th>m_megacam_g</th><th>merr_megacam_g</th><th>f_ap_megacam_r</th><th>ferr_ap_megacam_r</th><th>m_ap_megacam_r</th><th>merr_ap_megacam_r</th><th>f_megacam_r</th><th>ferr_megacam_r</th><th>m_megacam_r</th><th>merr_megacam_r</th><th>f_ap_megacam_z</th><th>ferr_ap_megacam_z</th><th>m_ap_megacam_z</th><th>merr_ap_megacam_z</th><th>f_megacam_z</th><th>ferr_megacam_z</th><th>m_megacam_z</th><th>merr_megacam_z</th><th>f_ap_ukidss_k</th><th>ferr_ap_ukidss_k</th><th>m_ap_ukidss_k</th><th>merr_ap_ukidss_k</th><th>f_ukidss_k</th><th>ferr_ukidss_k</th><th>m_ukidss_k</th><th>merr_ukidss_k</th><th>f_ap_irac_i3</th><th>ferr_ap_irac_i3</th><th>m_ap_irac_i3</th><th>merr_ap_irac_i3</th><th>f_irac_i3</th><th>ferr_irac_i3</th><th>m_irac_i3</th><th>merr_irac_i3</th><th>f_ap_irac_i4</th><th>ferr_ap_irac_i4</th><th>m_ap_irac_i4</th><th>merr_ap_irac_i4</th><th>f_irac_i4</th><th>ferr_irac_i4</th><th>m_irac_i4</th><th>merr_irac_i4</th><th>f_ap_irac_i1</th><th>ferr_ap_irac_i1</th><th>m_ap_irac_i1</th><th>merr_ap_irac_i1</th><th>f_irac_i1</th><th>ferr_irac_i1</th><th>m_irac_i1</th><th>merr_irac_i1</th><th>f_ap_irac_i2</th><th>ferr_ap_irac_i2</th><th>m_ap_irac_i2</th><th>merr_ap_irac_i2</th><th>f_irac_i2</th><th>ferr_irac_i2</th><th>m_irac_i2</th><th>merr_irac_i2</th><th>f_ap_ukidss_j</th><th>ferr_ap_ukidss_j</th><th>m_ap_ukidss_j</th><th>merr_ap_ukidss_j</th><th>f_ukidss_j</th><th>ferr_ukidss_j</th><th>m_ukidss_j</th><th>merr_ukidss_j</th><th>m_megacam_i</th><th>ferr_megacam_i</th><th>merr_megacam_i</th><th>f_megacam_i</th><th>m_megacam_y</th><th>ferr_megacam_y</th><th>merr_megacam_y</th><th>f_megacam_y</th><th>stellarity</th><th>stellarity_origin</th><th>zspec</th><th>zspec_qual</th><th>zspec_association_flag</th><th>ebv</th><th>f_mips_24</th><th>ferr_mips_24</th><th>flag_mips_24</th><th>f_pacs_green</th><th>ferr_pacs_green</th><th>flag_pacs_green</th><th>f_pacs_red</th><th>ferr_pacs_red</th><th>flag_pacs_red</th><th>f_spire_250</th><th>ferr_spire_250</th><th>flag_spire_250</th><th>f_spire_350</th><th>ferr_spire_350</th><th>flag_spire_350</th><th>f_spire_500</th><th>ferr_spire_500</th><th>flag_spire_500</th><th>redshift</th><th>flag_megacam_i</th><th>flag_megacam_y</th><th>flag_cleaned</th><th>flag_merged</th><th>flag_gaia</th><th>flag_optnir_obs</th><th>flag_optnir_det</th><th>flag_gpc1_g</th><th>flag_gpc1_r</th><th>flag_gpc1_i</th><th>flag_gpc1_z</th><th>flag_gpc1_y</th><th>flag_irac_i1</th><th>flag_irac_i2</th><th>flag_irac_i3</th><th>flag_irac_i4</th><th>flag_wfc_u</th><th>flag_megacam_u</th><th>flag_wfc_g</th><th>flag_megacam_g</th><th>flag_wfc_r</th><th>flag_megacam_r</th><th>flag_wfc_i</th><th>flag_wfc_z</th><th>flag_megacam_z</th><th>cigale_mstar</th><th>cigale_mstar_err</th><th>cigale_sfr</th><th>cigale_sfr_err</th><th>cigale_dustlumin</th><th>cigale_dustlumin_err</th><th>cigale_dustlumin_ironly</th><th>cigale_dustlumin_ironly_err</th><th>flag_cigale</th><th>flag_cigale_opt</th><th>flag_cigale_ir</th><th>flag_cigale_ironly</th></tr></thead>\n",
       "<thead><tr><th></th><th></th><th>deg</th><th>deg</th><th></th><th></th><th></th><th></th><th></th><th></th><th></th><th></th><th></th><th></th><th></th><th></th><th></th><th></th><th></th><th></th><th></th><th></th><th></th><th></th><th></th><th></th><th></th><th></th><th></th><th></th><th></th><th></th><th></th><th></th><th></th><th></th><th></th><th></th><th></th><th></th><th></th><th></th><th></th><th></th><th></th><th></th><th></th><th></th><th></th><th></th><th></th><th></th><th></th><th></th><th></th><th></th><th></th><th></th><th></th><th></th><th></th><th></th><th></th><th></th><th></th><th></th><th></th><th></th><th></th><th></th><th></th><th></th><th></th><th></th><th></th><th></th><th></th><th></th><th></th><th></th><th></th><th></th><th></th><th></th><th></th><th></th><th></th><th></th><th></th><th></th><th></th><th>mag</th><th>mag</th><th></th><th></th><th></th><th></th><th></th><th></th><th></th><th></th><th></th><th></th><th></th><th></th><th></th><th></th><th></th><th></th><th></th><th></th><th></th><th></th><th></th><th></th><th></th><th></th><th></th><th></th><th></th><th></th><th></th><th></th><th></th><th></th><th>uJy</th><th>uJy</th><th></th><th></th><th>uJy</th><th>uJy</th><th></th><th></th><th>uJy</th><th>uJy</th><th></th><th></th><th>uJy</th><th>uJy</th><th></th><th></th><th></th><th></th><th></th><th></th><th></th><th></th><th></th><th></th><th></th><th></th><th></th><th></th><th></th><th></th><th></th><th></th><th></th><th></th><th></th><th></th><th></th><th></th><th></th><th></th><th></th><th></th><th></th><th></th><th></th><th></th><th></th><th></th><th></th><th></th><th></th><th></th><th></th><th></th><th>uJy</th><th></th><th></th><th>mJy</th><th></th><th></th><th>mJy</th><th></th><th></th><th>mJy</th><th></th><th></th><th>mJy</th><th></th><th></th><th>mJy</th><th></th><th></th><th></th><th></th><th></th><th></th><th></th><th></th><th></th><th></th><th></th><th></th><th></th><th></th><th></th><th></th><th></th><th></th><th></th><th></th><th></th><th></th><th></th><th></th><th></th><th></th><th></th><th></th><th></th><th></th><th></th><th></th><th></th><th></th><th></th><th></th><th></th><th></th><th></th><th></th></tr></thead>\n",
       "<thead><tr><th>bytes33</th><th>bytes18</th><th>float64</th><th>float64</th><th>int64</th><th>float32</th><th>float32</th><th>float32</th><th>float32</th><th>float32</th><th>float32</th><th>float32</th><th>float32</th><th>float32</th><th>float32</th><th>float32</th><th>float32</th><th>float32</th><th>float32</th><th>float32</th><th>float32</th><th>float32</th><th>float32</th><th>float32</th><th>float32</th><th>float32</th><th>float32</th><th>float32</th><th>float32</th><th>float32</th><th>float32</th><th>float32</th><th>float32</th><th>float32</th><th>float32</th><th>float32</th><th>float32</th><th>float32</th><th>float32</th><th>float32</th><th>float32</th><th>float32</th><th>float32</th><th>float32</th><th>float32</th><th>float64</th><th>float64</th><th>float64</th><th>float64</th><th>float64</th><th>float64</th><th>float64</th><th>float64</th><th>float64</th><th>float64</th><th>float64</th><th>float64</th><th>float64</th><th>float64</th><th>float64</th><th>float64</th><th>float64</th><th>float64</th><th>float64</th><th>float64</th><th>float64</th><th>float64</th><th>float64</th><th>float64</th><th>float64</th><th>float64</th><th>float64</th><th>float64</th><th>float64</th><th>float64</th><th>float64</th><th>float64</th><th>float64</th><th>float64</th><th>float64</th><th>float64</th><th>float64</th><th>float64</th><th>float64</th><th>float64</th><th>float32</th><th>float32</th><th>float32</th><th>float32</th><th>float32</th><th>float32</th><th>float32</th><th>float32</th><th>float32</th><th>float32</th><th>float32</th><th>float32</th><th>float64</th><th>float64</th><th>float64</th><th>float64</th><th>float32</th><th>float32</th><th>float32</th><th>float32</th><th>float64</th><th>float64</th><th>float64</th><th>float64</th><th>float32</th><th>float32</th><th>float32</th><th>float32</th><th>float64</th><th>float64</th><th>float64</th><th>float64</th><th>float32</th><th>float32</th><th>float32</th><th>float32</th><th>float32</th><th>float32</th><th>float32</th><th>float32</th><th>float64</th><th>float64</th><th>float64</th><th>float64</th><th>float64</th><th>float64</th><th>float64</th><th>float64</th><th>float64</th><th>float64</th><th>float64</th><th>float64</th><th>float64</th><th>float64</th><th>float64</th><th>float64</th><th>float64</th><th>float64</th><th>float64</th><th>float64</th><th>float64</th><th>float64</th><th>float64</th><th>float64</th><th>float64</th><th>float64</th><th>float64</th><th>float64</th><th>float64</th><th>float64</th><th>float64</th><th>float64</th><th>float64</th><th>float64</th><th>float64</th><th>float64</th><th>float64</th><th>float64</th><th>float64</th><th>float64</th><th>float32</th><th>float32</th><th>float32</th><th>float32</th><th>float32</th><th>float32</th><th>float32</th><th>float32</th><th>float64</th><th>bytes20</th><th>float64</th><th>int64</th><th>bool</th><th>float64</th><th>float32</th><th>float32</th><th>bool</th><th>float32</th><th>float32</th><th>bool</th><th>float32</th><th>float32</th><th>bool</th><th>float32</th><th>float32</th><th>bool</th><th>float32</th><th>float32</th><th>bool</th><th>float32</th><th>float32</th><th>bool</th><th>float64</th><th>bool</th><th>bool</th><th>bool</th><th>bool</th><th>int64</th><th>int64</th><th>int64</th><th>bool</th><th>bool</th><th>bool</th><th>bool</th><th>bool</th><th>bool</th><th>bool</th><th>bool</th><th>bool</th><th>bool</th><th>bool</th><th>bool</th><th>bool</th><th>bool</th><th>bool</th><th>bool</th><th>bool</th><th>bool</th><th>float64</th><th>float64</th><th>float64</th><th>float64</th><th>float64</th><th>float64</th><th>float64</th><th>float64</th><th>int64</th><th>int64</th><th>int64</th><th>int64</th></tr></thead>\n",
       "<tr><td>HELP_J102305.277+590211.847</td><td>Lockman SWIRE</td><td>155.77198846</td><td>59.0366242157</td><td>121936758</td><td>nan</td><td>nan</td><td>nan</td><td>nan</td><td>nan</td><td>nan</td><td>nan</td><td>nan</td><td>nan</td><td>nan</td><td>nan</td><td>nan</td><td>nan</td><td>nan</td><td>nan</td><td>nan</td><td>nan</td><td>nan</td><td>nan</td><td>nan</td><td>nan</td><td>nan</td><td>nan</td><td>nan</td><td>nan</td><td>nan</td><td>nan</td><td>nan</td><td>nan</td><td>nan</td><td>nan</td><td>nan</td><td>nan</td><td>nan</td><td>nan</td><td>nan</td><td>nan</td><td>nan</td><td>nan</td><td>nan</td><td>nan</td><td>nan</td><td>nan</td><td>nan</td><td>nan</td><td>nan</td><td>nan</td><td>nan</td><td>nan</td><td>nan</td><td>nan</td><td>nan</td><td>nan</td><td>nan</td><td>nan</td><td>nan</td><td>nan</td><td>nan</td><td>nan</td><td>nan</td><td>nan</td><td>nan</td><td>nan</td><td>nan</td><td>nan</td><td>nan</td><td>nan</td><td>nan</td><td>nan</td><td>nan</td><td>nan</td><td>nan</td><td>nan</td><td>nan</td><td>nan</td><td>nan</td><td>nan</td><td>nan</td><td>nan</td><td>nan</td><td>nan</td><td>nan</td><td>nan</td><td>nan</td><td>nan</td><td>nan</td><td>nan</td><td>nan</td><td>nan</td><td>nan</td><td>nan</td><td>nan</td><td>0.477749437094</td><td>0.0158404055983</td><td>24.7019996643</td><td>0.0359990000725</td><td>nan</td><td>nan</td><td>nan</td><td>nan</td><td>0.790678203106</td><td>0.0180689115077</td><td>24.1550006866</td><td>0.0248116999865</td><td>nan</td><td>nan</td><td>nan</td><td>nan</td><td>1.43271517754</td><td>0.0782311409712</td><td>23.5095996857</td><td>0.0592848993838</td><td>nan</td><td>nan</td><td>nan</td><td>nan</td><td>nan</td><td>nan</td><td>nan</td><td>nan</td><td>nan</td><td>nan</td><td>nan</td><td>nan</td><td>nan</td><td>nan</td><td>nan</td><td>nan</td><td>nan</td><td>nan</td><td>nan</td><td>nan</td><td>nan</td><td>nan</td><td>nan</td><td>nan</td><td>nan</td><td>nan</td><td>nan</td><td>nan</td><td>nan</td><td>nan</td><td>nan</td><td>nan</td><td>nan</td><td>nan</td><td>nan</td><td>nan</td><td>nan</td><td>nan</td><td>nan</td><td>nan</td><td>nan</td><td>nan</td><td>nan</td><td>nan</td><td>nan</td><td>nan</td><td>nan</td><td>nan</td><td>nan</td><td>nan</td><td>nan</td><td>nan</td><td>24.0246</td><td>0.0316829</td><td>0.0385824</td><td>0.891579</td><td>0.239999994636</td><td>rcs_stellarity</td><td>nan</td><td>-99</td><td>False</td><td>0.00534795331823</td><td>nan</td><td>nan</td><td>False</td><td>nan</td><td>nan</td><td>False</td><td>nan</td><td>nan</td><td>False</td><td>nan</td><td>nan</td><td>False</td><td>nan</td><td>nan</td><td>False</td><td>nan</td><td>nan</td><td>False</td><td>nan</td><td>False</td><td>False</td><td>False</td><td>False</td><td>0</td><td>3</td><td>1</td><td>False</td><td>False</td><td>False</td><td>False</td><td>False</td><td>False</td><td>False</td><td>False</td><td>False</td><td>False</td><td>False</td><td>False</td><td>False</td><td>False</td><td>False</td><td>False</td><td>False</td><td>False</td><td>nan</td><td>nan</td><td>nan</td><td>nan</td><td>nan</td><td>nan</td><td>nan</td><td>nan</td><td>-1</td><td>-1</td><td>-1</td><td>-1</td></tr>\n",
       "</table>"
      ],
      "text/plain": [
       "<Row index=0>\n",
       "          help_id               field          ra           dec        hp_idx  f_ap_wfc_u ferr_ap_wfc_u m_ap_wfc_u merr_ap_wfc_u f_wfc_u ferr_wfc_u m_wfc_u merr_wfc_u f_ap_wfc_g ferr_ap_wfc_g m_ap_wfc_g merr_ap_wfc_g f_wfc_g ferr_wfc_g m_wfc_g merr_wfc_g f_ap_wfc_r ferr_ap_wfc_r m_ap_wfc_r merr_ap_wfc_r f_wfc_r ferr_wfc_r m_wfc_r merr_wfc_r f_ap_wfc_i ferr_ap_wfc_i m_ap_wfc_i merr_ap_wfc_i f_wfc_i ferr_wfc_i m_wfc_i merr_wfc_i f_ap_wfc_z ferr_ap_wfc_z m_ap_wfc_z merr_ap_wfc_z f_wfc_z ferr_wfc_z m_wfc_z merr_wfc_z f_ap_gpc1_g ferr_ap_gpc1_g m_ap_gpc1_g merr_ap_gpc1_g f_gpc1_g ferr_gpc1_g m_gpc1_g merr_gpc1_g f_ap_gpc1_r ferr_ap_gpc1_r m_ap_gpc1_r merr_ap_gpc1_r f_gpc1_r ferr_gpc1_r m_gpc1_r merr_gpc1_r f_ap_gpc1_i ferr_ap_gpc1_i m_ap_gpc1_i merr_ap_gpc1_i f_gpc1_i ferr_gpc1_i m_gpc1_i merr_gpc1_i f_ap_gpc1_z ferr_ap_gpc1_z m_ap_gpc1_z merr_ap_gpc1_z f_gpc1_z ferr_gpc1_z m_gpc1_z merr_gpc1_z f_ap_gpc1_y ferr_ap_gpc1_y m_ap_gpc1_y merr_ap_gpc1_y f_gpc1_y ferr_gpc1_y m_gpc1_y merr_gpc1_y f_ap_megacam_u ferr_ap_megacam_u m_ap_megacam_u merr_ap_megacam_u f_megacam_u ferr_megacam_u m_megacam_u merr_megacam_u f_ap_megacam_g ferr_ap_megacam_g m_ap_megacam_g merr_ap_megacam_g  f_megacam_g    ferr_megacam_g  m_megacam_g   merr_megacam_g f_ap_megacam_r ferr_ap_megacam_r m_ap_megacam_r merr_ap_megacam_r  f_megacam_r    ferr_megacam_r  m_megacam_r   merr_megacam_r f_ap_megacam_z ferr_ap_megacam_z m_ap_megacam_z merr_ap_megacam_z  f_megacam_z   ferr_megacam_z  m_megacam_z   merr_megacam_z f_ap_ukidss_k ferr_ap_ukidss_k m_ap_ukidss_k merr_ap_ukidss_k f_ukidss_k ferr_ukidss_k m_ukidss_k merr_ukidss_k f_ap_irac_i3 ferr_ap_irac_i3 m_ap_irac_i3 merr_ap_irac_i3 f_irac_i3 ferr_irac_i3 m_irac_i3 merr_irac_i3 f_ap_irac_i4 ferr_ap_irac_i4 m_ap_irac_i4 merr_ap_irac_i4 f_irac_i4 ferr_irac_i4 m_irac_i4 merr_irac_i4 f_ap_irac_i1 ferr_ap_irac_i1 m_ap_irac_i1 merr_ap_irac_i1 f_irac_i1 ferr_irac_i1 m_irac_i1 merr_irac_i1 f_ap_irac_i2 ferr_ap_irac_i2 m_ap_irac_i2 merr_ap_irac_i2 f_irac_i2 ferr_irac_i2 m_irac_i2 merr_irac_i2 f_ap_ukidss_j ferr_ap_ukidss_j m_ap_ukidss_j merr_ap_ukidss_j f_ukidss_j ferr_ukidss_j m_ukidss_j merr_ukidss_j m_megacam_i ferr_megacam_i merr_megacam_i f_megacam_i m_megacam_y ferr_megacam_y merr_megacam_y f_megacam_y   stellarity   stellarity_origin  zspec  zspec_qual zspec_association_flag       ebv        f_mips_24 ferr_mips_24 flag_mips_24 f_pacs_green ferr_pacs_green flag_pacs_green f_pacs_red ferr_pacs_red flag_pacs_red f_spire_250 ferr_spire_250 flag_spire_250 f_spire_350 ferr_spire_350 flag_spire_350 f_spire_500 ferr_spire_500 flag_spire_500 redshift flag_megacam_i flag_megacam_y flag_cleaned flag_merged flag_gaia flag_optnir_obs flag_optnir_det flag_gpc1_g flag_gpc1_r flag_gpc1_i flag_gpc1_z flag_gpc1_y flag_irac_i1 flag_irac_i2 flag_irac_i3 flag_irac_i4 flag_wfc_u flag_megacam_u flag_wfc_g flag_megacam_g flag_wfc_r flag_megacam_r flag_wfc_i flag_wfc_z flag_megacam_z cigale_mstar cigale_mstar_err cigale_sfr cigale_sfr_err cigale_dustlumin cigale_dustlumin_err cigale_dustlumin_ironly cigale_dustlumin_ironly_err flag_cigale flag_cigale_opt flag_cigale_ir flag_cigale_ironly\n",
       "                                              deg           deg                                                                                                                                                                                                                                                                                                                                                                                                                                                                                                                                                                                                                                                                                                                                                                                                                                                                                                                                                                                                                                                                         mag          mag                                                                                                                                                                                                                                                                                                                                                                                                                                                                                                                       uJy            uJy                                       uJy        uJy                                 uJy            uJy                                       uJy        uJy                                                                                                                                                                                                                                                                                                                                                                                                                                                                                                                                                                        uJy                                  mJy                                         mJy                                     mJy                                       mJy                                       mJy                                                                                                                                                                                                                                                                                                                                                                                                                                                                                                                                                                                               \n",
       "          bytes33              bytes18      float64       float64      int64    float32      float32     float32      float32    float32  float32   float32  float32    float32      float32     float32      float32    float32  float32   float32  float32    float32      float32     float32      float32    float32  float32   float32  float32    float32      float32     float32      float32    float32  float32   float32  float32    float32      float32     float32      float32    float32  float32   float32  float32     float64      float64       float64      float64     float64    float64   float64    float64     float64      float64       float64      float64     float64    float64   float64    float64     float64      float64       float64      float64     float64    float64   float64    float64     float64      float64       float64      float64     float64    float64   float64    float64     float64      float64       float64      float64     float64    float64   float64    float64      float32          float32         float32          float32        float32      float32       float32      float32        float32          float32         float32          float32         float64         float64        float64        float64        float32          float32         float32          float32         float64         float64        float64        float64        float32          float32         float32          float32         float64        float64        float64        float64        float32        float32         float32        float32       float32      float32     float32      float32      float64        float64       float64        float64      float64    float64     float64    float64      float64        float64       float64        float64      float64    float64     float64    float64      float64        float64       float64        float64      float64    float64     float64    float64      float64        float64       float64        float64      float64    float64     float64    float64       float64        float64         float64        float64       float64      float64     float64      float64      float32      float32        float32       float32     float32      float32        float32       float32      float64          bytes20      float64   int64             bool              float64       float32    float32        bool       float32        float32           bool       float32      float32         bool       float32      float32          bool        float32      float32          bool        float32      float32          bool      float64       bool           bool          bool         bool      int64        int64           int64          bool        bool        bool        bool        bool        bool         bool         bool         bool        bool         bool         bool         bool         bool         bool         bool       bool         bool        float64        float64       float64      float64         float64            float64                float64                   float64              int64         int64          int64            int64       \n",
       "--------------------------- ------------- ------------ ------------- --------- ---------- ------------- ---------- ------------- ------- ---------- ------- ---------- ---------- ------------- ---------- ------------- ------- ---------- ------- ---------- ---------- ------------- ---------- ------------- ------- ---------- ------- ---------- ---------- ------------- ---------- ------------- ------- ---------- ------- ---------- ---------- ------------- ---------- ------------- ------- ---------- ------- ---------- ----------- -------------- ----------- -------------- -------- ----------- -------- ----------- ----------- -------------- ----------- -------------- -------- ----------- -------- ----------- ----------- -------------- ----------- -------------- -------- ----------- -------- ----------- ----------- -------------- ----------- -------------- -------- ----------- -------- ----------- ----------- -------------- ----------- -------------- -------- ----------- -------- ----------- -------------- ----------------- -------------- ----------------- ----------- -------------- ----------- -------------- -------------- ----------------- -------------- ----------------- -------------- --------------- ------------- --------------- -------------- ----------------- -------------- ----------------- -------------- --------------- ------------- --------------- -------------- ----------------- -------------- ----------------- ------------- --------------- ------------- --------------- ------------- ---------------- ------------- ---------------- ---------- ------------- ---------- ------------- ------------ --------------- ------------ --------------- --------- ------------ --------- ------------ ------------ --------------- ------------ --------------- --------- ------------ --------- ------------ ------------ --------------- ------------ --------------- --------- ------------ --------- ------------ ------------ --------------- ------------ --------------- --------- ------------ --------- ------------ ------------- ---------------- ------------- ---------------- ---------- ------------- ---------- ------------- ----------- -------------- -------------- ----------- ----------- -------------- -------------- ----------- -------------- ----------------- ------- ---------- ---------------------- ---------------- --------- ------------ ------------ ------------ --------------- --------------- ---------- ------------- ------------- ----------- -------------- -------------- ----------- -------------- -------------- ----------- -------------- -------------- -------- -------------- -------------- ------------ ----------- --------- --------------- --------------- ----------- ----------- ----------- ----------- ----------- ------------ ------------ ------------ ------------ ---------- -------------- ---------- -------------- ---------- -------------- ---------- ---------- -------------- ------------ ---------------- ---------- -------------- ---------------- -------------------- ----------------------- --------------------------- ----------- --------------- -------------- ------------------\n",
       "HELP_J102305.277+590211.847 Lockman SWIRE 155.77198846 59.0366242157 121936758        nan           nan        nan           nan     nan        nan     nan        nan        nan           nan        nan           nan     nan        nan     nan        nan        nan           nan        nan           nan     nan        nan     nan        nan        nan           nan        nan           nan     nan        nan     nan        nan        nan           nan        nan           nan     nan        nan     nan        nan         nan            nan         nan            nan      nan         nan      nan         nan         nan            nan         nan            nan      nan         nan      nan         nan         nan            nan         nan            nan      nan         nan      nan         nan         nan            nan         nan            nan      nan         nan      nan         nan         nan            nan         nan            nan      nan         nan      nan         nan            nan               nan            nan               nan         nan            nan         nan            nan            nan               nan            nan               nan 0.477749437094 0.0158404055983 24.7019996643 0.0359990000725            nan               nan            nan               nan 0.790678203106 0.0180689115077 24.1550006866 0.0248116999865            nan               nan            nan               nan 1.43271517754 0.0782311409712 23.5095996857 0.0592848993838           nan              nan           nan              nan        nan           nan        nan           nan          nan             nan          nan             nan       nan          nan       nan          nan          nan             nan          nan             nan       nan          nan       nan          nan          nan             nan          nan             nan       nan          nan       nan          nan          nan             nan          nan             nan       nan          nan       nan          nan           nan              nan           nan              nan        nan           nan        nan           nan         nan            nan            nan         nan     24.0246      0.0316829      0.0385824    0.891579 0.239999994636    rcs_stellarity     nan        -99                  False 0.00534795331823       nan          nan        False          nan             nan           False        nan           nan         False         nan            nan          False         nan            nan          False         nan            nan          False      nan          False          False        False       False         0               3               1       False       False       False       False       False        False        False        False        False      False          False      False          False      False          False      False      False          False          nan              nan        nan            nan              nan                  nan                     nan                         nan          -1              -1             -1                 -1"
      ]
     },
     "execution_count": 6,
     "metadata": {},
     "output_type": "execute_result"
    }
   ],
   "source": [
    "print(len(opt_ir_cat))\n",
    "opt_ir_cat[0]"
>>>>>>> 93a8c5fd990faf0e43987aebebea97c125234b56
   ]
  },
  {
   "cell_type": "code",
   "execution_count": 7,
   "metadata": {},
   "outputs": [],
   "source": [
    "lofar_all = Table.read('../lofar/deep_fields/Lockman/data/edited_cats/radio/image_full_ampphase_di_m.NS_shift.blanked.scaled.cat_foverlap.fits')"
   ]
  },
  {
   "cell_type": "code",
   "execution_count": 8,
   "metadata": {},
   "outputs": [
    {
     "data": {
      "text/html": [
       "<i>Row index=0</i>\n",
       "<table id=\"table46913446200096\">\n",
       "<thead><tr><th>Source_id</th><th>Isl_id</th><th>RA</th><th>E_RA</th><th>DEC</th><th>E_DEC</th><th>Total_flux</th><th>E_Total_flux</th><th>Peak_flux</th><th>E_Peak_flux</th><th>RA_max</th><th>E_RA_max</th><th>DEC_max</th><th>E_DEC_max</th><th>Maj</th><th>E_Maj</th><th>Min</th><th>E_Min</th><th>PA</th><th>E_PA</th><th>Maj_img_plane</th><th>E_Maj_img_plane</th><th>Min_img_plane</th><th>E_Min_img_plane</th><th>PA_img_plane</th><th>E_PA_img_plane</th><th>DC_Maj</th><th>E_DC_Maj</th><th>DC_Min</th><th>E_DC_Min</th><th>DC_PA</th><th>E_DC_PA</th><th>DC_Maj_img_plane</th><th>E_DC_Maj_img_plane</th><th>DC_Min_img_plane</th><th>E_DC_Min_img_plane</th><th>DC_PA_img_plane</th><th>E_DC_PA_img_plane</th><th>Isl_Total_flux</th><th>E_Isl_Total_flux</th><th>Isl_rms</th><th>Isl_mean</th><th>Resid_Isl_rms</th><th>Resid_Isl_mean</th><th>S_Code</th><th>FLAG_OVERLAP</th><th>flag_clean</th><th>Source_Name</th></tr></thead>\n",
       "<thead><tr><th></th><th></th><th>deg</th><th>deg</th><th>deg</th><th>deg</th><th>Jy</th><th>Jy</th><th>Jy / beam</th><th>Jy / beam</th><th>deg</th><th>deg</th><th>deg</th><th>deg</th><th>deg</th><th>deg</th><th>deg</th><th>deg</th><th>deg</th><th>deg</th><th>deg</th><th>deg</th><th>deg</th><th>deg</th><th>deg</th><th>deg</th><th>deg</th><th>deg</th><th>deg</th><th>deg</th><th>deg</th><th>deg</th><th>deg</th><th>deg</th><th>deg</th><th>deg</th><th>deg</th><th>deg</th><th>Jy</th><th>Jy</th><th>Jy / beam</th><th>Jy / beam</th><th>Jy / beam</th><th>Jy / beam</th><th></th><th></th><th></th><th></th></tr></thead>\n",
       "<thead><tr><th>int32</th><th>int32</th><th>float64</th><th>float64</th><th>float64</th><th>float64</th><th>float64</th><th>float64</th><th>float64</th><th>float64</th><th>float64</th><th>float64</th><th>float64</th><th>float64</th><th>float64</th><th>float64</th><th>float64</th><th>float64</th><th>float64</th><th>float64</th><th>float64</th><th>float64</th><th>float64</th><th>float64</th><th>float64</th><th>float64</th><th>float64</th><th>float64</th><th>float64</th><th>float64</th><th>float64</th><th>float64</th><th>float64</th><th>float64</th><th>float64</th><th>float64</th><th>float64</th><th>float64</th><th>float64</th><th>float64</th><th>float64</th><th>float64</th><th>float64</th><th>float64</th><th>bytes1</th><th>int64</th><th>int64</th><th>bytes22</th></tr></thead>\n",
       "<tr><td>0</td><td>2</td><td>167.140371012</td><td>0.000224831119071</td><td>57.7293926059</td><td>6.98686836164e-05</td><td>0.000392924930152</td><td>0.000121253904068</td><td>0.000378014226818</td><td>6.43930593582e-05</td><td>167.140371012</td><td>0.000224831119071</td><td>57.7293926059</td><td>6.98686836164e-05</td><td>0.00231057449509</td><td>0.000530889673946</td><td>0.00125120866868</td><td>0.000158018298889</td><td>97.1852631296</td><td>19.0337910704</td><td>0.00230769444596</td><td>0.000530889673946</td><td>0.00125118242094</td><td>0.000158018298889</td><td>92.6292703714</td><td>19.0337910704</td><td>0.0</td><td>0.000530889673946</td><td>0.0</td><td>0.000158018298889</td><td>0.0</td><td>19.0337910704</td><td>0.0</td><td>0.000530889673946</td><td>0.0</td><td>0.000158018298889</td><td>0.0</td><td>19.0337910704</td><td>0.000351682817313</td><td>7.53038720014e-05</td><td>6.83596881572e-05</td><td>0.0</td><td>2.9045888823e-06</td><td>-4.4299389157e-10</td><td>S</td><td>0</td><td>1</td><td>ILTJ110833.69+574345.8</td></tr>\n",
       "</table>"
      ],
      "text/plain": [
       "<Row index=0>\n",
       "Source_id Isl_id       RA             E_RA            DEC            E_DEC           Total_flux       E_Total_flux       Peak_flux        E_Peak_flux        RA_max         E_RA_max        DEC_max        E_DEC_max           Maj              E_Maj             Min              E_Min             PA           E_PA      Maj_img_plane    E_Maj_img_plane   Min_img_plane    E_Min_img_plane   PA_img_plane E_PA_img_plane  DC_Maj      E_DC_Maj      DC_Min      E_DC_Min      DC_PA     E_DC_PA    DC_Maj_img_plane E_DC_Maj_img_plane DC_Min_img_plane E_DC_Min_img_plane DC_PA_img_plane E_DC_PA_img_plane   Isl_Total_flux   E_Isl_Total_flux      Isl_rms       Isl_mean  Resid_Isl_rms     Resid_Isl_mean  S_Code FLAG_OVERLAP flag_clean      Source_Name      \n",
       "                      deg             deg             deg             deg                Jy                Jy            Jy / beam         Jy / beam          deg             deg             deg             deg              deg               deg              deg               deg             deg           deg            deg               deg              deg               deg             deg           deg         deg          deg          deg          deg          deg        deg            deg               deg               deg               deg               deg              deg                Jy                Jy            Jy / beam     Jy / beam    Jy / beam         Jy / beam                                                          \n",
       "  int32   int32     float64         float64         float64         float64           float64           float64           float64           float64         float64         float64         float64         float64          float64           float64          float64           float64         float64       float64        float64           float64          float64           float64         float64       float64     float64      float64      float64      float64      float64    float64        float64           float64           float64           float64           float64          float64           float64           float64           float64       float64      float64           float64      bytes1    int64       int64           bytes22        \n",
       "--------- ------ ------------- ----------------- ------------- ----------------- ----------------- ----------------- ----------------- ----------------- ------------- ----------------- ------------- ----------------- ---------------- ----------------- ---------------- ----------------- ------------- ------------- ---------------- ----------------- ---------------- ----------------- ------------- -------------- ------- ----------------- ------- ----------------- ------- ------------- ---------------- ------------------ ---------------- ------------------ --------------- ----------------- ----------------- ----------------- ----------------- --------- ---------------- ----------------- ------ ------------ ---------- ----------------------\n",
       "        0      2 167.140371012 0.000224831119071 57.7293926059 6.98686836164e-05 0.000392924930152 0.000121253904068 0.000378014226818 6.43930593582e-05 167.140371012 0.000224831119071 57.7293926059 6.98686836164e-05 0.00231057449509 0.000530889673946 0.00125120866868 0.000158018298889 97.1852631296 19.0337910704 0.00230769444596 0.000530889673946 0.00125118242094 0.000158018298889 92.6292703714  19.0337910704     0.0 0.000530889673946     0.0 0.000158018298889     0.0 19.0337910704              0.0  0.000530889673946              0.0  0.000158018298889             0.0     19.0337910704 0.000351682817313 7.53038720014e-05 6.83596881572e-05       0.0 2.9045888823e-06 -4.4299389157e-10      S            0          1 ILTJ110833.69+574345.8"
      ]
     },
     "execution_count": 8,
     "metadata": {},
     "output_type": "execute_result"
    }
   ],
   "source": [
    "lofar_all[0]"
   ]
  },
  {
   "cell_type": "code",
   "execution_count": 9,
   "metadata": {},
   "outputs": [],
   "source": [
    "opt_colname = 'm_ap_megacam_r'\n",
    "ir_colname = 'm_ap_irac_i2'\n",
    "opt_ra = 'ra'\n",
    "opt_dec = 'dec'"
   ]
  },
  {
   "cell_type": "markdown",
   "metadata": {},
   "source": [
    "#### Define the field "
   ]
  },
  {
   "cell_type": "code",
   "execution_count": 10,
   "metadata": {},
   "outputs": [
    {
     "name": "stdout",
     "output_type": "stream",
     "text": [
      "Area of r-MOC: 13.321917803932173 sq. deg.\n",
      "Area of se2-MOC: 5.574102257180664 sq. deg.\n",
      "Area of sw2-MOC: 10.949807996199757 sq. deg.\n",
      "Area of overlaping moc: 10.73406473187727 sq. deg.\n"
     ]
    }
   ],
   "source": [
    "#select the moc of the optical data\n",

    "#MOC_loc = '../lofar/deep_fields/Lockman/data/Bootes_I-band_MOC.fits'\n",
    "#MHz150_MOC = MOC(filename=MOC_loc)\n",
    "\n",
    "# Load in the MOCs\n",
    "PATH_MOC_r = \"../lofar/deep_fields/Lockman/data/edited_cats/optical/mocs/LH_r_moc_order_18_MOC_with_add.fits\"\n",
    "PATH_MOC_se2 = \"../lofar/deep_fields/Lockman/data/edited_cats/optical/mocs/LH_se2_moc_order_18_MOC.fits\"\n",
    "PATH_MOC_sw2 = \"../lofar/deep_fields/Lockman/data/edited_cats/optical/mocs/LH_sw2_moc_order_18_MOC.fits\"\n",
    "\n",
    "moc_r = pymoc.MOC()\n",
    "read_moc_fits(moc_r, PATH_MOC_r)\n",
    "\n",
    "moc_se2 = pymoc.MOC()\n",
    "read_moc_fits(moc_se2, PATH_MOC_se2)\n",
    "\n",
    "moc_sw2 = pymoc.MOC()\n",
    "read_moc_fits(moc_sw2, PATH_MOC_sw2)\n",
    "\n",
    "print(\"Area of r-MOC: {0} sq. deg.\".format(moc_r.area_sq_deg))\n",
    "print(\"Area of se2-MOC: {0} sq. deg.\".format(moc_se2.area_sq_deg))\n",
    "print(\"Area of sw2-MOC: {0} sq. deg.\".format(moc_sw2.area_sq_deg))\n",
    "\n",
    "moc_overlap = moc_r.intersection(moc_sw2)\n",
    "\n",
    "print(\"Area of overlaping moc: {0} sq. deg.\".format(moc_overlap.area_sq_deg))"

   ]
  },
  {
   "cell_type": "code",
   "execution_count": 11,
   "metadata": {},
   "outputs": [
    {
     "name": "stdout",
     "output_type": "stream",
     "text": [
      "field area is defined by a MOC\n"
     ]
    }
   ],
   "source": [
    "ra_down, ra_up, dec_down, dec_up = min(lofar_all['RA']),max(lofar_all['RA']),min(lofar_all['DEC']),max(lofar_all['DEC'])\n",
    "field = Field(ra_down, ra_up, dec_down, dec_up, moc_overlap)"
   ]
  },
  {
   "cell_type": "markdown",
   "metadata": {},
   "source": [
    "#### Filter the catalogues"
   ]
  },
  {
   "cell_type": "code",
   "execution_count": 12,
   "metadata": {},
   "outputs": [
    {
     "name": "stdout",
     "output_type": "stream",
     "text": [
      "filtering in a MOC\n",
      "number of radio sources is: 21620\n"
     ]
    }
   ],
   "source": [
    "# remove sources with a major axis greater than 30 arcseconds\n",
    "lofar_aux = lofar_all[~np.isnan(lofar_all['Maj'])]\n",
    "lofar = field.filter_catalogue(lofar_aux[(lofar_aux['Maj'] < 10./3600) & (lofar_aux['S_Code']=='S')], \n",
    "                               colnames=(\"RA\", \"DEC\"))\n",
    "print('number of radio sources is: {}'.format(len(lofar)))"
   ]
  },
  {
   "cell_type": "code",
   "execution_count": 13,
   "metadata": {},
   "outputs": [
    {
     "name": "stdout",
     "output_type": "stream",
     "text": [
      "filtering in a MOC\n"
     ]
    }
   ],
   "source": [
    "opt_ir = field.filter_catalogue(opt_ir_cat, \n",
    "                               colnames=(opt_ra, opt_dec))\n",
    "\n",
    "#remove sources with no detection in the opt or ir bands used for xmatching\n",
    "#mask = (~np.isnan(opt_ir[opt_colname])) | (~np.isnan(opt_ir[ir_colname]))\n",
    "#mask = opt_ir['FLAG_DEEP']==1 \n",
    "#opt_ir = opt_ir[mask]"
   ]
  },
  {
   "cell_type": "code",
   "execution_count": 14,
   "metadata": {},
   "outputs": [],
   "source": [
    "opt_ir[\"colour\"] = opt_ir[opt_colname] - opt_ir[ir_colname]"
   ]
  },
  {
   "cell_type": "code",
   "execution_count": 15,
   "metadata": {},
   "outputs": [],
   "source": [
    "opt_ir_index = np.arange(len(opt_ir))"
   ]
  },
  {
   "cell_type": "code",
   "execution_count": 16,
   "metadata": {},
   "outputs": [],
   "source": [
    "opt_ir_coords = SkyCoord(opt_ir[opt_ra], \n",
    "                           opt_ir[opt_dec], \n",
    "                           unit=(u.deg, u.deg), \n",
    "                           frame='icrs')"
   ]
  },
  {
   "cell_type": "code",
   "execution_count": 17,
   "metadata": {},
   "outputs": [],
   "source": [
    "lofar_coords = SkyCoord(lofar['RA'], \n",
    "                       lofar['DEC'], \n",
    "                       unit=(u.deg, u.deg), \n",
    "                       frame='icrs')"
   ]
  },
  {
   "cell_type": "code",
<<<<<<< HEAD
   "execution_count": 84,
   "metadata": {},
   "outputs": [
    {
     "name": "stdout",
     "output_type": "stream",
     "text": [
      "number of radio sources within SWIRE footprint is: 11635\n",
      "number of lofar sources iwth major axis>45\" is: 20\n"
     ]
    }
   ],
   "source": [
    "print('number of radio sources within SWIRE footprint is: {}'.format(len(lofar)))\n",
    "print('number of lofar sources iwth major axis>45\" is: {}'.format(np.sum(lofar['Maj']*3600>45)))"
   ]
  },
  {
   "cell_type": "code",
   "execution_count": 85,
   "metadata": {},
   "outputs": [],
   "source": [
    "idx_radio, idx_radiox, _, _ = search_around_sky(\n",
    "            lofar_coords, lofar_coords, 45*u.arcsec)"
   ]
  },
  {
   "cell_type": "code",
   "execution_count": 91,
   "metadata": {},
   "outputs": [
    {
     "name": "stdout",
     "output_type": "stream",
     "text": [
      "number of clustered sources (>4 sources within 45\") is : 962\n"
     ]
    }
   ],
   "source": [
    "idx,counts = np.unique(idx_radio,return_counts=True)\n",
    "print('number of clustered sources (>4 sources within 45\") is : {}'.format(np.sum(counts>3)))"
   ]
  },
  {
   "cell_type": "code",
   "execution_count": 98,
   "metadata": {},
   "outputs": [
    {
     "data": {
      "text/plain": [
       "51"
      ]
     },
     "execution_count": 98,
     "metadata": {},
     "output_type": "execute_result"
    }
   ],
   "source": [
    "np.sum(lofar[counts>3]['S_Code']=='M')"
   ]
  },
  {
   "cell_type": "code",
   "execution_count": 94,
   "metadata": {},
   "outputs": [
    {
     "data": {
      "text/html": [
       "<i>Row index=0</i>\n",
       "<table id=\"table4857958920\">\n",
       "<thead><tr><th>Source_id</th><th>Isl_id</th><th>RA</th><th>E_RA</th><th>DEC</th><th>E_DEC</th><th>Total_flux</th><th>E_Total_flux</th><th>Peak_flux</th><th>E_Peak_flux</th><th>RA_max</th><th>E_RA_max</th><th>DEC_max</th><th>E_DEC_max</th><th>Maj</th><th>E_Maj</th><th>Min</th><th>E_Min</th><th>PA</th><th>E_PA</th><th>Maj_img_plane</th><th>E_Maj_img_plane</th><th>Min_img_plane</th><th>E_Min_img_plane</th><th>PA_img_plane</th><th>E_PA_img_plane</th><th>DC_Maj</th><th>E_DC_Maj</th><th>DC_Min</th><th>E_DC_Min</th><th>DC_PA</th><th>E_DC_PA</th><th>DC_Maj_img_plane</th><th>E_DC_Maj_img_plane</th><th>DC_Min_img_plane</th><th>E_DC_Min_img_plane</th><th>DC_PA_img_plane</th><th>E_DC_PA_img_plane</th><th>Isl_Total_flux</th><th>E_Isl_Total_flux</th><th>Isl_rms</th><th>Isl_mean</th><th>Resid_Isl_rms</th><th>Resid_Isl_mean</th><th>S_Code</th><th>lr_opt</th><th>lr_dist_opt</th><th>lr_index_opt</th><th>lr_reliability_opt</th><th>helpid_opt</th><th>lr_index_sel_opt</th></tr></thead>\n",
       "<thead><tr><th></th><th></th><th>deg</th><th>deg</th><th>deg</th><th>deg</th><th>Jy</th><th>Jy</th><th>Jy / beam</th><th>Jy / beam</th><th>deg</th><th>deg</th><th>deg</th><th>deg</th><th>deg</th><th>deg</th><th>deg</th><th>deg</th><th>deg</th><th>deg</th><th>deg</th><th>deg</th><th>deg</th><th>deg</th><th>deg</th><th>deg</th><th>deg</th><th>deg</th><th>deg</th><th>deg</th><th>deg</th><th>deg</th><th>deg</th><th>deg</th><th>deg</th><th>deg</th><th>deg</th><th>deg</th><th>Jy</th><th>Jy</th><th>Jy / beam</th><th>Jy / beam</th><th>Jy / beam</th><th>Jy / beam</th><th></th><th></th><th></th><th></th><th></th><th></th><th></th></tr></thead>\n",
       "<thead><tr><th>int32</th><th>int32</th><th>float64</th><th>float64</th><th>float64</th><th>float64</th><th>float64</th><th>float64</th><th>float64</th><th>float64</th><th>float64</th><th>float64</th><th>float64</th><th>float64</th><th>float64</th><th>float64</th><th>float64</th><th>float64</th><th>float64</th><th>float64</th><th>float64</th><th>float64</th><th>float64</th><th>float64</th><th>float64</th><th>float64</th><th>float64</th><th>float64</th><th>float64</th><th>float64</th><th>float64</th><th>float64</th><th>float64</th><th>float64</th><th>float64</th><th>float64</th><th>float64</th><th>float64</th><th>float64</th><th>float64</th><th>float64</th><th>float64</th><th>float64</th><th>float64</th><th>bytes1</th><th>float64</th><th>float64</th><th>float64</th><th>float64</th><th>str1</th><th>float64</th></tr></thead>\n",
       "<tr><td>4647</td><td>4686</td><td>165.1676868495051</td><td>0.00012412998244901624</td><td>57.42699432668178</td><td>0.00010592754586234796</td><td>0.0003788505822926592</td><td>8.173406010274535e-05</td><td>0.000329224946359873</td><td>4.9287007413779976e-05</td><td>165.1676868495051</td><td>0.00012412998244901624</td><td>57.42699432668178</td><td>0.00010592754586234796</td><td>0.001905158644031686</td><td>0.0003025475338877522</td><td>0.001678765597816325</td><td>0.00023692286579199103</td><td>117.28097942845878</td><td>54.061533245522206</td><td>0.0019045708720817802</td><td>0.0003025475338877522</td><td>0.0016783231484565914</td><td>0.00023692286579199103</td><td>114.40114652903338</td><td>54.061533245522206</td><td>0.0009220286924680522</td><td>0.0003025475338877522</td><td>0.0001975129705891618</td><td>0.00023692286579199103</td><td>117.28097942845878</td><td>54.061533245522206</td><td>0.0009217442318802833</td><td>0.0003025475338877522</td><td>0.00019746091478433573</td><td>0.00023692286579199103</td><td>114.4011465290334</td><td>54.061533245522206</td><td>0.00028692888788533024</td><td>4.904223291681102e-05</td><td>4.79057380289305e-05</td><td>0.0</td><td>3.558060598152224e-06</td><td>-1.2425020123885133e-08</td><td>S</td><td>0.005685893259467253</td><td>4.923919442462073</td><td>79737.0</td><td>0.023691838616012286</td><td>H</td><td>nan</td></tr>\n",
       "</table>"
      ],
      "text/plain": [
       "<Row index=0>\n",
       "Source_id Isl_id         RA                 E_RA                 DEC                E_DEC                Total_flux           E_Total_flux          Peak_flux            E_Peak_flux             RA_max             E_RA_max             DEC_max            E_DEC_max                Maj                  E_Maj                 Min                  E_Min                  PA                E_PA            Maj_img_plane        E_Maj_img_plane        Min_img_plane        E_Min_img_plane        PA_img_plane      E_PA_img_plane           DC_Maj               E_DC_Maj               DC_Min               E_DC_Min              DC_PA             E_DC_PA          DC_Maj_img_plane     E_DC_Maj_img_plane     DC_Min_img_plane      E_DC_Min_img_plane    DC_PA_img_plane  E_DC_PA_img_plane      Isl_Total_flux        E_Isl_Total_flux         Isl_rms         Isl_mean     Resid_Isl_rms          Resid_Isl_mean     S_Code        lr_opt           lr_dist_opt    lr_index_opt  lr_reliability_opt  helpid_opt lr_index_sel_opt\n",
       "                        deg                 deg                  deg                 deg                     Jy                    Jy               Jy / beam             Jy / beam               deg                 deg                  deg                 deg                   deg                   deg                  deg                   deg                  deg                deg                  deg                   deg                   deg                   deg                  deg                deg                  deg                   deg                   deg                   deg                  deg                deg                  deg                   deg                   deg                    deg                  deg               deg                   Jy                     Jy               Jy / beam       Jy / beam       Jy / beam              Jy / beam                                                                                                                   \n",
       "  int32   int32       float64             float64              float64             float64                float64               float64              float64               float64              float64             float64              float64             float64               float64               float64              float64               float64              float64            float64              float64               float64               float64               float64              float64            float64              float64               float64               float64               float64              float64            float64              float64               float64               float64                float64              float64           float64              float64                float64              float64         float64         float64                float64         bytes1       float64             float64        float64          float64           str1        float64     \n",
       "--------- ------ ----------------- ---------------------- ----------------- ---------------------- --------------------- --------------------- -------------------- ---------------------- ----------------- ---------------------- ----------------- ---------------------- -------------------- --------------------- -------------------- ---------------------- ------------------ ------------------ --------------------- --------------------- --------------------- ---------------------- ------------------ ------------------ --------------------- --------------------- --------------------- ---------------------- ------------------ ------------------ --------------------- --------------------- ---------------------- ---------------------- ----------------- ------------------ ---------------------- --------------------- -------------------- --------- --------------------- ----------------------- ------ -------------------- ----------------- ------------ -------------------- ---------- ----------------\n",
       "     4647   4686 165.1676868495051 0.00012412998244901624 57.42699432668178 0.00010592754586234796 0.0003788505822926592 8.173406010274535e-05 0.000329224946359873 4.9287007413779976e-05 165.1676868495051 0.00012412998244901624 57.42699432668178 0.00010592754586234796 0.001905158644031686 0.0003025475338877522 0.001678765597816325 0.00023692286579199103 117.28097942845878 54.061533245522206 0.0019045708720817802 0.0003025475338877522 0.0016783231484565914 0.00023692286579199103 114.40114652903338 54.061533245522206 0.0009220286924680522 0.0003025475338877522 0.0001975129705891618 0.00023692286579199103 117.28097942845878 54.061533245522206 0.0009217442318802833 0.0003025475338877522 0.00019746091478433573 0.00023692286579199103 114.4011465290334 54.061533245522206 0.00028692888788533024 4.904223291681102e-05 4.79057380289305e-05       0.0 3.558060598152224e-06 -1.2425020123885133e-08      S 0.005685893259467253 4.923919442462073      79737.0 0.023691838616012286          H              nan"
      ]
     },
     "execution_count": 94,
     "metadata": {},
     "output_type": "execute_result"
    }
   ],
   "source": [
    "lofar[0]"
   ]
  },
  {
   "cell_type": "code",
   "execution_count": 14,
=======
   "execution_count": 18,
>>>>>>> 93a8c5fd990faf0e43987aebebea97c125234b56
   "metadata": {},
   "outputs": [],
   "source": [
    "#remove sources with mag=-99\n",
    "opt_ir_num_both = (~np.isnan(opt_ir[opt_colname]) & ~np.isnan(opt_ir[ir_colname])) # number of sources detected in opt and ir\n",
    "opt_ir_num_opt = (~np.isnan(opt_ir[opt_colname]) & np.isnan(opt_ir[ir_colname])) # number of sources detected in opt only\n",
    "opt_ir_num_ir =(np.isnan(opt_ir[opt_colname]) & ~np.isnan(opt_ir[ir_colname])) # number of sources detected in ir only\n",
    "opt_num = (opt_ir_num_both | opt_ir_num_opt) & (opt_ir[opt_colname]!=-99)\n",
    "ir_num = (opt_ir_num_both | opt_ir_num_ir) & (opt_ir[ir_colname]!=-99)\n",
    "\n",
    "opt_cat = opt_ir[opt_num]\n",
    "ir_cat = opt_ir[ir_num]"
   ]
  },
  {
   "cell_type": "code",
   "execution_count": 19,
   "metadata": {},
   "outputs": [
    {
     "name": "stdout",
     "output_type": "stream",
     "text": [
<<<<<<< HEAD
      "Total    -  1395953\n",
      "opt and ir -  496542\n",
      "Only opt   -  662040\n",
      "With opt   -  1158582\n",
      "Only ir  -  237371\n",
      "With ir  -  733913\n"
=======
      "Total    -  2830987\n",
      "opt and ir -  561799\n",
      "Only opt   -  1319555\n",
      "With opt   -  1881354\n",
      "Only ir  -  385409\n",
      "With ir  -  947208\n"
>>>>>>> 93a8c5fd990faf0e43987aebebea97c125234b56
     ]
    }
   ],
   "source": [
    "print(\"Total    - \", len(opt_ir))\n",
    "print(\"opt and ir - \", np.sum(opt_ir_num_both))\n",
    "print(\"Only opt   - \", np.sum(opt_ir_num_opt))\n",
    "print(\"With opt   - \", np.sum(opt_num))\n",
    "print(\"Only ir  - \", np.sum(opt_ir_num_ir))\n",
    "print(\"With ir  - \", np.sum(ir_num))"
   ]
  },
  {
   "cell_type": "markdown",
   "metadata": {},
   "source": [
    "check the distribution of sources to make sure the selected area is correct and that there are no gaps that could influence the calculation of Q0"
   ]
  },
  {
   "cell_type": "code",
   "execution_count": null,
   "metadata": {},
<<<<<<< HEAD
   "outputs": [
    {
     "data": {
      "image/png": "iVBORw0KGgoAAAANSUhEUgAAAX4AAAD8CAYAAABw1c+bAAAABHNCSVQICAgIfAhkiAAAAAlwSFlz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\nIpFeRhT+SCQS6WVE4Y9EIpFexv8HszyE7DnEKlUAAAAASUVORK5CYII=\n",
      "text/plain": [
       "<matplotlib.figure.Figure at 0x12196fb70>"
      ]
     },
     "metadata": {},
     "output_type": "display_data"
    }
   ],
=======
   "outputs": [],
>>>>>>> 93a8c5fd990faf0e43987aebebea97c125234b56
   "source": [
    "x = lofar['RA']\n",
    "y = lofar['DEC']\n",
    "plt.scatter(x,y,s=0.1)\n",
    "\n",
    "x = opt_ir[opt_ra]\n",
    "y = opt_ir[opt_dec]\n",
    "plt.scatter(x,y,s=0.01)\n",
    "plt.show()"
   ]
  },
  {
   "cell_type": "code",
   "execution_count": null,
   "metadata": {},
<<<<<<< HEAD
   "outputs": [
    {
     "data": {
      "image/png": "iVBORw0KGgoAAAANSUhEUgAAAYgAAAD8CAYAAABthzNFAAAABHNCSVQICAgIfAhkiAAAAAlwSFlz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\n/dt5AAAAAElFTkSuQmCC\n",
      "text/plain": [
       "<matplotlib.figure.Figure at 0x1219b7ef0>"
      ]
     },
     "metadata": {},
     "output_type": "display_data"
    }
   ],
=======
   "outputs": [],
>>>>>>> 93a8c5fd990faf0e43987aebebea97c125234b56
   "source": [
    "mask = ~np.isnan(opt_ir_cat['m_gpc1_i'])\n",
    "x = opt_ir_cat['ra'][mask]\n",
    "y = opt_ir_cat['dec'][mask]\n",
    "plt.scatter(x,y,s=0.01)\n",
    "plt.xlim(158,159)\n",
    "plt.ylim(58,59)\n",
    "plt.show()"
   ]
  },
  {
   "cell_type": "code",
   "execution_count": null,
   "metadata": {},
   "outputs": [],
   "source": [
    "print(min(lofar['RA']),max(lofar['RA']),min(lofar['DEC']),max(lofar['DEC']))"
   ]
  },
  {
   "cell_type": "markdown",
   "metadata": {},
   "source": [
    "### Compute Q0 for the optical and IR"
   ]
  },
  {
   "cell_type": "code",
   "execution_count": 20,
   "metadata": {},
   "outputs": [
    {
     "name": "stdout",
     "output_type": "stream",
     "text": [
      "field area is defined by a MOC\n",
      "filtering in a MOC\n",
      "filtering in a MOC\n",
      "[    0     1     2 ..., 21617 21618 21619]\n",
      "13816\n",
      "starting to find Q0. This will take a while\n",
      "finding Q0 with radius = 0.1 arcseconds\n",
<<<<<<< HEAD
      "number of random sources with no matches: 7121\n",
      "number of real sources with no matches: 6925\n",
      "number of random sources with no matches: 7117\n",
      "number of real sources with no matches: 6925\n",
      "number of random sources with no matches: 7122\n",
      "number of real sources with no matches: 6925\n",
      "number of random sources with no matches: 7120\n",
      "number of real sources with no matches: 6925\n",
      "number of random sources with no matches: 7121\n",
      "number of real sources with no matches: 6925\n",
      "number of random sources with no matches: 7119\n",
      "number of real sources with no matches: 6925\n",
      "number of random sources with no matches: 7118\n",
      "number of real sources with no matches: 6925\n",
      "number of random sources with no matches: 7121\n",
      "number of real sources with no matches: 6925\n",
      "number of random sources with no matches: 7120\n",
      "number of real sources with no matches: 6925\n",
      "number of random sources with no matches: 7118\n",
      "number of real sources with no matches: 6925\n",
      "finding Q0 with radius = 0.37241379310344824 arcseconds\n",
      "number of random sources with no matches: 7081\n",
      "number of real sources with no matches: 5322\n",
      "number of random sources with no matches: 7083\n",
      "number of real sources with no matches: 5322\n",
      "number of random sources with no matches: 7076\n",
      "number of real sources with no matches: 5322\n",
      "number of random sources with no matches: 7075\n",
      "number of real sources with no matches: 5322\n",
      "number of random sources with no matches: 7078\n",
      "number of real sources with no matches: 5322\n",
      "number of random sources with no matches: 7083\n",
      "number of real sources with no matches: 5322\n",
      "number of random sources with no matches: 7073\n",
      "number of real sources with no matches: 5322\n",
      "number of random sources with no matches: 7086\n",
      "number of real sources with no matches: 5322\n",
      "number of random sources with no matches: 7076\n",
      "number of real sources with no matches: 5322\n",
      "number of random sources with no matches: 7074\n",
      "number of real sources with no matches: 5322\n",
      "finding Q0 with radius = 0.6448275862068965 arcseconds\n",
      "number of random sources with no matches: 7004\n",
      "number of real sources with no matches: 3793\n",
      "number of random sources with no matches: 6977\n",
      "number of real sources with no matches: 3793\n",
      "number of random sources with no matches: 6984\n",
      "number of real sources with no matches: 3793\n",
      "number of random sources with no matches: 6998\n",
      "number of real sources with no matches: 3793\n",
      "number of random sources with no matches: 6995\n",
      "number of real sources with no matches: 3793\n",
      "number of random sources with no matches: 6985\n",
      "number of real sources with no matches: 3793\n",
      "number of random sources with no matches: 6980\n",
      "number of real sources with no matches: 3793\n",
      "number of random sources with no matches: 6970\n",
      "number of real sources with no matches: 3793\n",
      "number of random sources with no matches: 6981\n",
      "number of real sources with no matches: 3793\n",
      "number of random sources with no matches: 6967\n",
      "number of real sources with no matches: 3793\n",
      "finding Q0 with radius = 0.9172413793103448 arcseconds\n",
      "number of random sources with no matches: 6869\n",
      "number of real sources with no matches: 2846\n",
      "number of random sources with no matches: 6863\n",
      "number of real sources with no matches: 2846\n",
      "number of random sources with no matches: 6822\n",
      "number of real sources with no matches: 2846\n",
      "number of random sources with no matches: 6897\n",
      "number of real sources with no matches: 2846\n",
      "number of random sources with no matches: 6813\n",
      "number of real sources with no matches: 2846\n",
      "number of random sources with no matches: 6824\n",
      "number of real sources with no matches: 2846\n",
      "number of random sources with no matches: 6827\n",
      "number of real sources with no matches: 2846\n",
      "number of random sources with no matches: 6860\n",
      "number of real sources with no matches: 2846\n",
      "number of random sources with no matches: 6874\n",
      "number of real sources with no matches: 2846\n",
      "number of random sources with no matches: 6834\n",
      "number of real sources with no matches: 2846\n",
      "finding Q0 with radius = 1.1896551724137931 arcseconds\n",
      "number of random sources with no matches: 6692\n",
      "number of real sources with no matches: 2282\n",
      "number of random sources with no matches: 6663\n",
      "number of real sources with no matches: 2282\n",
      "number of random sources with no matches: 6625\n",
      "number of real sources with no matches: 2282\n",
      "number of random sources with no matches: 6664\n",
      "number of real sources with no matches: 2282\n",
      "number of random sources with no matches: 6656\n",
      "number of real sources with no matches: 2282\n",
      "number of random sources with no matches: 6672\n",
      "number of real sources with no matches: 2282\n",
      "number of random sources with no matches: 6642\n",
      "number of real sources with no matches: 2282\n",
      "number of random sources with no matches: 6643\n",
      "number of real sources with no matches: 2282\n",
      "number of random sources with no matches: 6661\n",
      "number of real sources with no matches: 2282\n",
      "number of random sources with no matches: 6678\n",
      "number of real sources with no matches: 2282\n",
      "finding Q0 with radius = 1.4620689655172414 arcseconds\n",
      "number of random sources with no matches: 6430\n",
      "number of real sources with no matches: 1970\n",
      "number of random sources with no matches: 6450\n",
      "number of real sources with no matches: 1970\n",
      "number of random sources with no matches: 6443\n",
      "number of real sources with no matches: 1970\n",
      "number of random sources with no matches: 6512\n",
      "number of real sources with no matches: 1970\n",
      "number of random sources with no matches: 6430\n",
      "number of real sources with no matches: 1970\n",
      "number of random sources with no matches: 6461\n",
      "number of real sources with no matches: 1970\n",
      "number of random sources with no matches: 6445\n",
      "number of real sources with no matches: 1970\n",
      "number of random sources with no matches: 6425\n",
      "number of real sources with no matches: 1970\n",
      "number of random sources with no matches: 6417\n",
      "number of real sources with no matches: 1970\n",
      "number of random sources with no matches: 6460\n",
      "number of real sources with no matches: 1970\n",
      "finding Q0 with radius = 1.7344827586206897 arcseconds\n",
      "number of random sources with no matches: 6226\n",
      "number of real sources with no matches: 1740\n",
      "number of random sources with no matches: 6191\n",
      "number of real sources with no matches: 1740\n",
      "number of random sources with no matches: 6184\n",
      "number of real sources with no matches: 1740\n",
      "number of random sources with no matches: 6176\n",
      "number of real sources with no matches: 1740\n",
      "number of random sources with no matches: 6162\n",
      "number of real sources with no matches: 1740\n",
      "number of random sources with no matches: 6177\n",
      "number of real sources with no matches: 1740\n",
      "number of random sources with no matches: 6206\n",
      "number of real sources with no matches: 1740\n",
      "number of random sources with no matches: 6124\n",
      "number of real sources with no matches: 1740\n",
      "number of random sources with no matches: 6193\n",
      "number of real sources with no matches: 1740\n",
      "number of random sources with no matches: 6156\n",
      "number of real sources with no matches: 1740\n",
      "finding Q0 with radius = 2.0068965517241377 arcseconds\n",
      "number of random sources with no matches: 5915\n",
      "number of real sources with no matches: 1582\n",
      "number of random sources with no matches: 5977\n",
      "number of real sources with no matches: 1582\n",
      "number of random sources with no matches: 5956\n",
      "number of real sources with no matches: 1582\n",
      "number of random sources with no matches: 5912\n",
      "number of real sources with no matches: 1582\n",
      "number of random sources with no matches: 5926\n",
      "number of real sources with no matches: 1582\n",
      "number of random sources with no matches: 5921\n",
      "number of real sources with no matches: 1582\n",
      "number of random sources with no matches: 5876\n",
      "number of real sources with no matches: 1582\n",
      "number of random sources with no matches: 5927\n",
      "number of real sources with no matches: 1582\n",
      "number of random sources with no matches: 5885\n",
      "number of real sources with no matches: 1582\n",
      "number of random sources with no matches: 5905\n",
      "number of real sources with no matches: 1582\n",
      "finding Q0 with radius = 2.279310344827586 arcseconds\n",
      "number of random sources with no matches: 5589\n",
      "number of real sources with no matches: 1451\n",
      "number of random sources with no matches: 5618\n",
      "number of real sources with no matches: 1451\n",
      "number of random sources with no matches: 5631\n",
      "number of real sources with no matches: 1451\n"
     ]
    },
    {
     "name": "stdout",
     "output_type": "stream",
     "text": [
      "number of random sources with no matches: 5593\n",
      "number of real sources with no matches: 1451\n",
      "number of random sources with no matches: 5586\n",
      "number of real sources with no matches: 1451\n",
      "number of random sources with no matches: 5551\n",
      "number of real sources with no matches: 1451\n",
      "number of random sources with no matches: 5557\n",
      "number of real sources with no matches: 1451\n",
      "number of random sources with no matches: 5586\n",
      "number of real sources with no matches: 1451\n",
      "number of random sources with no matches: 5577\n",
      "number of real sources with no matches: 1451\n",
      "number of random sources with no matches: 5592\n",
      "number of real sources with no matches: 1451\n",
      "finding Q0 with radius = 2.5517241379310343 arcseconds\n",
      "number of random sources with no matches: 5208\n",
      "number of real sources with no matches: 1330\n",
      "number of random sources with no matches: 5240\n",
      "number of real sources with no matches: 1330\n",
      "number of random sources with no matches: 5286\n",
      "number of real sources with no matches: 1330\n",
      "number of random sources with no matches: 5244\n",
      "number of real sources with no matches: 1330\n",
      "number of random sources with no matches: 5277\n",
      "number of real sources with no matches: 1330\n",
      "number of random sources with no matches: 5262\n",
      "number of real sources with no matches: 1330\n",
      "number of random sources with no matches: 5311\n",
      "number of real sources with no matches: 1330\n",
      "number of random sources with no matches: 5223\n",
      "number of real sources with no matches: 1330\n",
      "number of random sources with no matches: 5290\n",
      "number of real sources with no matches: 1330\n",
      "number of random sources with no matches: 5289\n",
      "number of real sources with no matches: 1330\n",
      "finding Q0 with radius = 2.8241379310344827 arcseconds\n",
      "number of random sources with no matches: 4930\n",
      "number of real sources with no matches: 1223\n",
      "number of random sources with no matches: 4887\n",
      "number of real sources with no matches: 1223\n",
      "number of random sources with no matches: 4982\n",
      "number of real sources with no matches: 1223\n",
      "number of random sources with no matches: 4946\n",
      "number of real sources with no matches: 1223\n",
      "number of random sources with no matches: 4943\n",
      "number of real sources with no matches: 1223\n",
      "number of random sources with no matches: 4933\n",
      "number of real sources with no matches: 1223\n",
      "number of random sources with no matches: 4851\n",
      "number of real sources with no matches: 1223\n",
      "number of random sources with no matches: 5011\n",
      "number of real sources with no matches: 1223\n",
      "number of random sources with no matches: 4867\n",
      "number of real sources with no matches: 1223\n",
      "number of random sources with no matches: 4957\n",
      "number of real sources with no matches: 1223\n",
      "finding Q0 with radius = 3.0965517241379312 arcseconds\n",
      "number of random sources with no matches: 4614\n",
      "number of real sources with no matches: 1126\n",
      "number of random sources with no matches: 4628\n",
      "number of real sources with no matches: 1126\n",
      "number of random sources with no matches: 4585\n",
      "number of real sources with no matches: 1126\n",
      "number of random sources with no matches: 4584\n",
      "number of real sources with no matches: 1126\n",
      "number of random sources with no matches: 4625\n",
      "number of real sources with no matches: 1126\n",
      "number of random sources with no matches: 4643\n",
      "number of real sources with no matches: 1126\n",
      "number of random sources with no matches: 4581\n",
      "number of real sources with no matches: 1126\n",
      "number of random sources with no matches: 4602\n",
      "number of real sources with no matches: 1126\n",
      "number of random sources with no matches: 4583\n",
      "number of real sources with no matches: 1126\n",
      "number of random sources with no matches: 4604\n",
      "number of real sources with no matches: 1126\n",
      "finding Q0 with radius = 3.3689655172413793 arcseconds\n",
      "number of random sources with no matches: 4246\n",
      "number of real sources with no matches: 1025\n",
      "number of random sources with no matches: 4308\n",
      "number of real sources with no matches: 1025\n",
      "number of random sources with no matches: 4323\n",
      "number of real sources with no matches: 1025\n",
      "number of random sources with no matches: 4263\n",
      "number of real sources with no matches: 1025\n",
      "number of random sources with no matches: 4233\n",
      "number of real sources with no matches: 1025\n",
      "number of random sources with no matches: 4355\n",
      "number of real sources with no matches: 1025\n",
      "number of random sources with no matches: 4239\n",
      "number of real sources with no matches: 1025\n",
      "number of random sources with no matches: 4239\n",
      "number of real sources with no matches: 1025\n",
      "number of random sources with no matches: 4233\n",
      "number of real sources with no matches: 1025\n",
      "number of random sources with no matches: 4284\n",
      "number of real sources with no matches: 1025\n",
      "finding Q0 with radius = 3.6413793103448273 arcseconds\n",
      "number of random sources with no matches: 3968\n",
      "number of real sources with no matches:  929\n",
      "number of random sources with no matches: 3949\n",
      "number of real sources with no matches:  929\n",
      "number of random sources with no matches: 3929\n",
      "number of real sources with no matches:  929\n",
      "number of random sources with no matches: 3970\n",
      "number of real sources with no matches:  929\n",
      "number of random sources with no matches: 3832\n",
      "number of real sources with no matches:  929\n",
      "number of random sources with no matches: 3916\n",
      "number of real sources with no matches:  929\n",
      "number of random sources with no matches: 3907\n",
      "number of real sources with no matches:  929\n",
      "number of random sources with no matches: 3929\n",
      "number of real sources with no matches:  929\n",
      "number of random sources with no matches: 3951\n",
      "number of real sources with no matches:  929\n",
      "number of random sources with no matches: 3923\n",
      "number of real sources with no matches:  929\n",
      "finding Q0 with radius = 3.913793103448276 arcseconds\n",
      "number of random sources with no matches: 3622\n",
      "number of real sources with no matches:  864\n",
      "number of random sources with no matches: 3573\n",
      "number of real sources with no matches:  864\n",
      "number of random sources with no matches: 3587\n",
      "number of real sources with no matches:  864\n",
      "number of random sources with no matches: 3585\n",
      "number of real sources with no matches:  864\n",
      "number of random sources with no matches: 3590\n",
      "number of real sources with no matches:  864\n",
      "number of random sources with no matches: 3589\n",
      "number of real sources with no matches:  864\n",
      "number of random sources with no matches: 3660\n",
      "number of real sources with no matches:  864\n",
      "number of random sources with no matches: 3656\n",
      "number of real sources with no matches:  864\n",
      "number of random sources with no matches: 3617\n",
      "number of real sources with no matches:  864\n",
      "number of random sources with no matches: 3590\n",
      "number of real sources with no matches:  864\n",
      "finding Q0 with radius = 4.186206896551724 arcseconds\n",
      "number of random sources with no matches: 3365\n",
      "number of real sources with no matches:  780\n",
      "number of random sources with no matches: 3259\n",
      "number of real sources with no matches:  780\n",
      "number of random sources with no matches: 3293\n",
      "number of real sources with no matches:  780\n",
      "number of random sources with no matches: 3319\n",
      "number of real sources with no matches:  780\n",
      "number of random sources with no matches: 3289\n",
      "number of real sources with no matches:  780\n",
      "number of random sources with no matches: 3334\n",
      "number of real sources with no matches:  780\n",
      "number of random sources with no matches: 3276\n",
      "number of real sources with no matches:  780\n",
      "number of random sources with no matches: 3275\n",
      "number of real sources with no matches:  780\n",
      "number of random sources with no matches: 3217\n",
      "number of real sources with no matches:  780\n",
      "number of random sources with no matches: 3216\n",
      "number of real sources with no matches:  780\n",
      "finding Q0 with radius = 4.458620689655172 arcseconds\n",
      "number of random sources with no matches: 2950\n",
      "number of real sources with no matches:  703\n",
      "number of random sources with no matches: 2988\n",
      "number of real sources with no matches:  703\n",
      "number of random sources with no matches: 2952\n",
      "number of real sources with no matches:  703\n",
      "number of random sources with no matches: 3004\n",
      "number of real sources with no matches:  703\n",
      "number of random sources with no matches: 2988\n",
      "number of real sources with no matches:  703\n",
      "number of random sources with no matches: 2917\n",
      "number of real sources with no matches:  703\n",
      "number of random sources with no matches: 3006\n",
      "number of real sources with no matches:  703\n",
      "number of random sources with no matches: 2948\n",
      "number of real sources with no matches:  703\n"
     ]
    },
    {
     "name": "stdout",
     "output_type": "stream",
     "text": [
      "number of random sources with no matches: 2968\n",
      "number of real sources with no matches:  703\n",
      "number of random sources with no matches: 2943\n",
      "number of real sources with no matches:  703\n",
      "finding Q0 with radius = 4.73103448275862 arcseconds\n",
      "number of random sources with no matches: 2725\n",
      "number of real sources with no matches:  635\n",
      "number of random sources with no matches: 2760\n",
      "number of real sources with no matches:  635\n",
      "number of random sources with no matches: 2656\n",
      "number of real sources with no matches:  635\n",
      "number of random sources with no matches: 2698\n",
      "number of real sources with no matches:  635\n",
      "number of random sources with no matches: 2668\n",
      "number of real sources with no matches:  635\n",
      "number of random sources with no matches: 2704\n",
      "number of real sources with no matches:  635\n",
      "number of random sources with no matches: 2640\n",
      "number of real sources with no matches:  635\n",
      "number of random sources with no matches: 2624\n",
      "number of real sources with no matches:  635\n",
      "number of random sources with no matches: 2753\n",
      "number of real sources with no matches:  635\n",
      "number of random sources with no matches: 2686\n",
      "number of real sources with no matches:  635\n",
      "finding Q0 with radius = 5.003448275862068 arcseconds\n",
      "number of random sources with no matches: 2450\n",
      "number of real sources with no matches:  579\n",
      "number of random sources with no matches: 2440\n",
      "number of real sources with no matches:  579\n",
      "number of random sources with no matches: 2416\n",
      "number of real sources with no matches:  579\n",
      "number of random sources with no matches: 2412\n",
      "number of real sources with no matches:  579\n",
      "number of random sources with no matches: 2407\n",
      "number of real sources with no matches:  579\n",
      "number of random sources with no matches: 2357\n",
      "number of real sources with no matches:  579\n",
      "number of random sources with no matches: 2433\n",
      "number of real sources with no matches:  579\n",
      "number of random sources with no matches: 2452\n",
      "number of real sources with no matches:  579\n",
      "number of random sources with no matches: 2449\n",
      "number of real sources with no matches:  579\n",
      "number of random sources with no matches: 2414\n",
      "number of real sources with no matches:  579\n",
      "finding Q0 with radius = 5.275862068965517 arcseconds\n",
      "number of random sources with no matches: 2169\n",
      "number of real sources with no matches:  502\n",
      "number of random sources with no matches: 2166\n",
      "number of real sources with no matches:  502\n",
      "number of random sources with no matches: 2155\n",
      "number of real sources with no matches:  502\n",
      "number of random sources with no matches: 2164\n",
      "number of real sources with no matches:  502\n",
      "number of random sources with no matches: 2240\n",
      "number of real sources with no matches:  502\n",
      "number of random sources with no matches: 2094\n",
      "number of real sources with no matches:  502\n",
      "number of random sources with no matches: 2183\n",
      "number of real sources with no matches:  502\n",
      "number of random sources with no matches: 2189\n",
      "number of real sources with no matches:  502\n",
      "number of random sources with no matches: 2149\n",
      "number of real sources with no matches:  502\n",
      "number of random sources with no matches: 2219\n",
      "number of real sources with no matches:  502\n",
      "finding Q0 with radius = 5.548275862068965 arcseconds\n",
      "number of random sources with no matches: 1960\n",
      "number of real sources with no matches:  450\n",
      "number of random sources with no matches: 1967\n",
      "number of real sources with no matches:  450\n",
      "number of random sources with no matches: 1963\n",
      "number of real sources with no matches:  450\n",
      "number of random sources with no matches: 1900\n",
      "number of real sources with no matches:  450\n",
      "number of random sources with no matches: 1989\n",
      "number of real sources with no matches:  450\n",
      "number of random sources with no matches: 1897\n",
      "number of real sources with no matches:  450\n",
      "number of random sources with no matches: 1872\n",
      "number of real sources with no matches:  450\n",
      "number of random sources with no matches: 1921\n",
      "number of real sources with no matches:  450\n",
      "number of random sources with no matches: 1952\n",
      "number of real sources with no matches:  450\n",
      "number of random sources with no matches: 1879\n",
      "number of real sources with no matches:  450\n",
      "finding Q0 with radius = 5.820689655172413 arcseconds\n",
      "number of random sources with no matches: 1693\n",
      "number of real sources with no matches:  395\n",
      "number of random sources with no matches: 1737\n",
      "number of real sources with no matches:  395\n",
      "number of random sources with no matches: 1611\n",
      "number of real sources with no matches:  395\n",
      "number of random sources with no matches: 1680\n",
      "number of real sources with no matches:  395\n",
      "number of random sources with no matches: 1752\n",
      "number of real sources with no matches:  395\n",
      "number of random sources with no matches: 1667\n",
      "number of real sources with no matches:  395\n",
      "number of random sources with no matches: 1656\n",
      "number of real sources with no matches:  395\n",
      "number of random sources with no matches: 1667\n",
      "number of real sources with no matches:  395\n",
      "number of random sources with no matches: 1722\n",
      "number of real sources with no matches:  395\n",
      "number of random sources with no matches: 1671\n",
      "number of real sources with no matches:  395\n",
      "finding Q0 with radius = 6.093103448275862 arcseconds\n",
      "number of random sources with no matches: 1504\n",
      "number of real sources with no matches:  344\n",
      "number of random sources with no matches: 1449\n",
      "number of real sources with no matches:  344\n",
      "number of random sources with no matches: 1525\n",
      "number of real sources with no matches:  344\n",
      "number of random sources with no matches: 1493\n",
      "number of real sources with no matches:  344\n",
      "number of random sources with no matches: 1577\n",
      "number of real sources with no matches:  344\n",
      "number of random sources with no matches: 1511\n",
      "number of real sources with no matches:  344\n",
      "number of random sources with no matches: 1510\n",
      "number of real sources with no matches:  344\n",
      "number of random sources with no matches: 1432\n",
      "number of real sources with no matches:  344\n",
      "number of random sources with no matches: 1511\n",
      "number of real sources with no matches:  344\n",
      "number of random sources with no matches: 1517\n",
      "number of real sources with no matches:  344\n",
      "finding Q0 with radius = 6.36551724137931 arcseconds\n",
      "number of random sources with no matches: 1333\n",
      "number of real sources with no matches:  311\n",
      "number of random sources with no matches: 1268\n",
      "number of real sources with no matches:  311\n",
      "number of random sources with no matches: 1347\n",
      "number of real sources with no matches:  311\n",
      "number of random sources with no matches: 1309\n",
      "number of real sources with no matches:  311\n",
      "number of random sources with no matches: 1279\n",
      "number of real sources with no matches:  311\n",
      "number of random sources with no matches: 1328\n",
      "number of real sources with no matches:  311\n",
      "number of random sources with no matches: 1320\n",
      "number of real sources with no matches:  311\n",
      "number of random sources with no matches: 1331\n",
      "number of real sources with no matches:  311\n",
      "number of random sources with no matches: 1268\n",
      "number of real sources with no matches:  311\n",
      "number of random sources with no matches: 1293\n",
      "number of real sources with no matches:  311\n",
      "finding Q0 with radius = 6.637931034482758 arcseconds\n",
      "number of random sources with no matches: 1171\n",
      "number of real sources with no matches:  269\n",
      "number of random sources with no matches: 1171\n",
      "number of real sources with no matches:  269\n",
      "number of random sources with no matches: 1177\n",
      "number of real sources with no matches:  269\n",
      "number of random sources with no matches: 1136\n",
      "number of real sources with no matches:  269\n",
      "number of random sources with no matches: 1164\n",
      "number of real sources with no matches:  269\n",
      "number of random sources with no matches: 1166\n",
      "number of real sources with no matches:  269\n",
      "number of random sources with no matches: 1146\n",
      "number of real sources with no matches:  269\n",
      "number of random sources with no matches: 1172\n",
      "number of real sources with no matches:  269\n",
      "number of random sources with no matches: 1175\n",
      "number of real sources with no matches:  269\n",
      "number of random sources with no matches: 1190\n",
      "number of real sources with no matches:  269\n",
      "finding Q0 with radius = 6.910344827586206 arcseconds\n",
      "number of random sources with no matches: 1009\n",
      "number of real sources with no matches:  240\n",
      "number of random sources with no matches:  983\n",
      "number of real sources with no matches:  240\n"
     ]
    },
    {
     "name": "stdout",
     "output_type": "stream",
     "text": [
      "number of random sources with no matches:  988\n",
      "number of real sources with no matches:  240\n",
      "number of random sources with no matches:  997\n",
      "number of real sources with no matches:  240\n",
      "number of random sources with no matches: 1005\n",
      "number of real sources with no matches:  240\n",
      "number of random sources with no matches: 1022\n",
      "number of real sources with no matches:  240\n",
      "number of random sources with no matches: 1031\n",
      "number of real sources with no matches:  240\n",
      "number of random sources with no matches:  972\n",
      "number of real sources with no matches:  240\n",
      "number of random sources with no matches: 1003\n",
      "number of real sources with no matches:  240\n",
      "number of random sources with no matches:  954\n",
      "number of real sources with no matches:  240\n",
      "finding Q0 with radius = 7.182758620689654 arcseconds\n",
      "number of random sources with no matches:  856\n",
      "number of real sources with no matches:  213\n",
      "number of random sources with no matches:  865\n",
      "number of real sources with no matches:  213\n",
      "number of random sources with no matches:  852\n",
      "number of real sources with no matches:  213\n",
      "number of random sources with no matches:  874\n",
      "number of real sources with no matches:  213\n",
      "number of random sources with no matches:  820\n",
      "number of real sources with no matches:  213\n",
      "number of random sources with no matches:  880\n",
      "number of real sources with no matches:  213\n",
      "number of random sources with no matches:  868\n",
      "number of real sources with no matches:  213\n",
      "number of random sources with no matches:  889\n",
      "number of real sources with no matches:  213\n",
      "number of random sources with no matches:  862\n",
      "number of real sources with no matches:  213\n",
      "number of random sources with no matches:  887\n",
      "number of real sources with no matches:  213\n",
      "finding Q0 with radius = 7.455172413793103 arcseconds\n",
      "number of random sources with no matches:  760\n",
      "number of real sources with no matches:  189\n",
      "number of random sources with no matches:  743\n",
      "number of real sources with no matches:  189\n",
      "number of random sources with no matches:  782\n",
      "number of real sources with no matches:  189\n",
      "number of random sources with no matches:  764\n",
      "number of real sources with no matches:  189\n",
      "number of random sources with no matches:  779\n",
      "number of real sources with no matches:  189\n",
      "number of random sources with no matches:  718\n",
      "number of real sources with no matches:  189\n",
      "number of random sources with no matches:  760\n",
      "number of real sources with no matches:  189\n",
      "number of random sources with no matches:  774\n",
      "number of real sources with no matches:  189\n",
      "number of random sources with no matches:  773\n",
      "number of real sources with no matches:  189\n",
      "number of random sources with no matches:  738\n",
      "number of real sources with no matches:  189\n",
      "finding Q0 with radius = 7.727586206896551 arcseconds\n",
      "number of random sources with no matches:  630\n",
      "number of real sources with no matches:  172\n",
      "number of random sources with no matches:  657\n",
      "number of real sources with no matches:  172\n",
      "number of random sources with no matches:  656\n",
      "number of real sources with no matches:  172\n",
      "number of random sources with no matches:  653\n",
      "number of real sources with no matches:  172\n",
      "number of random sources with no matches:  619\n",
      "number of real sources with no matches:  172\n",
      "number of random sources with no matches:  651\n",
      "number of real sources with no matches:  172\n",
      "number of random sources with no matches:  634\n",
      "number of real sources with no matches:  172\n",
      "number of random sources with no matches:  663\n",
      "number of real sources with no matches:  172\n",
      "number of random sources with no matches:  632\n",
      "number of real sources with no matches:  172\n",
      "number of random sources with no matches:  645\n",
      "number of real sources with no matches:  172\n",
      "finding Q0 with radius = 8.0 arcseconds\n",
      "number of random sources with no matches:  582\n",
      "number of real sources with no matches:  151\n",
      "number of random sources with no matches:  536\n",
      "number of real sources with no matches:  151\n",
      "number of random sources with no matches:  605\n",
      "number of real sources with no matches:  151\n",
      "number of random sources with no matches:  527\n",
      "number of real sources with no matches:  151\n",
      "number of random sources with no matches:  550\n",
      "number of real sources with no matches:  151\n",
      "number of random sources with no matches:  552\n",
      "number of real sources with no matches:  151\n",
      "number of random sources with no matches:  603\n",
      "number of real sources with no matches:  151\n",
      "number of random sources with no matches:  589\n",
      "number of real sources with no matches:  151\n",
      "number of random sources with no matches:  550\n",
      "number of real sources with no matches:  151\n",
      "number of random sources with no matches:  557\n",
      "number of real sources with no matches:  151\n"
=======
      "ratio of the random generation area compared to the moc area is: 3.350025161472081\n",
      "number of random sources with no matches: 13810\n",
      "number of real sources with no matches: 13533\n",
      "ratio of the random generation area compared to the moc area is: 3.350025161472081\n",
      "number of random sources with no matches: 13810\n",
      "number of real sources with no matches: 13533\n",
      "ratio of the random generation area compared to the moc area is: 3.350025161472081\n",
      "number of random sources with no matches: 13813\n",
      "number of real sources with no matches: 13533\n",
      "ratio of the random generation area compared to the moc area is: 3.350025161472081\n",
      "number of random sources with no matches: 13809\n",
      "number of real sources with no matches: 13533\n",
      "ratio of the random generation area compared to the moc area is: 3.350025161472081\n",
      "number of random sources with no matches: 13808\n",
      "number of real sources with no matches: 13533\n",
      "ratio of the random generation area compared to the moc area is: 3.350025161472081\n",
      "number of random sources with no matches: 13810\n",
      "number of real sources with no matches: 13533\n",
      "ratio of the random generation area compared to the moc area is: 3.350025161472081\n"
     ]
    },
    {
     "ename": "KeyboardInterrupt",
     "evalue": "",
     "output_type": "error",
     "traceback": [
      "\u001b[0;31m---------------------------------------------------------------------------\u001b[0m",
      "\u001b[0;31mKeyboardInterrupt\u001b[0m                         Traceback (most recent call last)",
      "\u001b[0;32m<ipython-input-20-d9f6799ad0cb>\u001b[0m in \u001b[0;36m<module>\u001b[0;34m\u001b[0m\n\u001b[0;32m----> 1\u001b[0;31m \u001b[0mQ0_opt\u001b[0m\u001b[0;34m,\u001b[0m\u001b[0msearch_rad_r\u001b[0m \u001b[0;34m=\u001b[0m \u001b[0mQ0_calc\u001b[0m\u001b[0;34m(\u001b[0m\u001b[0mlofar\u001b[0m\u001b[0;34m,\u001b[0m\u001b[0mopt_cat\u001b[0m\u001b[0;34m,\u001b[0m\u001b[0;34m'RA'\u001b[0m\u001b[0;34m,\u001b[0m\u001b[0;34m'DEC'\u001b[0m\u001b[0;34m,\u001b[0m\u001b[0mopt_ra\u001b[0m\u001b[0;34m,\u001b[0m\u001b[0mopt_dec\u001b[0m\u001b[0;34m,\u001b[0m\u001b[0mopt_colname\u001b[0m\u001b[0;34m,\u001b[0m\u001b[0mmin\u001b[0m\u001b[0;34m(\u001b[0m\u001b[0mlofar\u001b[0m\u001b[0;34m[\u001b[0m\u001b[0;34m'RA'\u001b[0m\u001b[0;34m]\u001b[0m\u001b[0;34m)\u001b[0m\u001b[0;34m,\u001b[0m\u001b[0mmax\u001b[0m\u001b[0;34m(\u001b[0m\u001b[0mlofar\u001b[0m\u001b[0;34m[\u001b[0m\u001b[0;34m'RA'\u001b[0m\u001b[0;34m]\u001b[0m\u001b[0;34m)\u001b[0m\u001b[0;34m,\u001b[0m\u001b[0mmin\u001b[0m\u001b[0;34m(\u001b[0m\u001b[0mlofar\u001b[0m\u001b[0;34m[\u001b[0m\u001b[0;34m'DEC'\u001b[0m\u001b[0;34m]\u001b[0m\u001b[0;34m)\u001b[0m\u001b[0;34m,\u001b[0m\u001b[0mmax\u001b[0m\u001b[0;34m(\u001b[0m\u001b[0mlofar\u001b[0m\u001b[0;34m[\u001b[0m\u001b[0;34m'DEC'\u001b[0m\u001b[0;34m]\u001b[0m\u001b[0;34m)\u001b[0m\u001b[0;34m,\u001b[0m\u001b[0;36m0.1\u001b[0m\u001b[0;34m,\u001b[0m\u001b[0;36m8\u001b[0m\u001b[0;34m,\u001b[0m\u001b[0;36m30\u001b[0m\u001b[0;34m,\u001b[0m\u001b[0mmoc\u001b[0m\u001b[0;34m=\u001b[0m\u001b[0mmoc_overlap\u001b[0m\u001b[0;34m)\u001b[0m\u001b[0;34m\u001b[0m\u001b[0;34m\u001b[0m\u001b[0m\n\u001b[0m\u001b[1;32m      2\u001b[0m \u001b[0;31m#Q0_opt,search_rad_r = Q0_calc(lofar,opt_cat,'RA','DEC',opt_ra,opt_dec,opt_colname,16,163.5,57.5,58.5,0.1,8,30,moc=moc_overlap)\u001b[0m\u001b[0;34m\u001b[0m\u001b[0;34m\u001b[0m\u001b[0;34m\u001b[0m\u001b[0m\n",
      "\u001b[0;32m/mnt/pact/im281/FIR-group/Ian/lr/Q0_calc.py\u001b[0m in \u001b[0;36mQ0_calc\u001b[0;34m(cat1, cat2, cat1ra, cat1dec, cat2ra, cat2dec, cat2flux, ra_down, ra_up, dec_down, dec_up, radius_low, radius_up, steps, moc)\u001b[0m\n\u001b[1;32m     96\u001b[0m         \u001b[0mq_0_rad_aux\u001b[0m \u001b[0;34m=\u001b[0m \u001b[0;34m[\u001b[0m\u001b[0;34m]\u001b[0m\u001b[0;34m\u001b[0m\u001b[0;34m\u001b[0m\u001b[0m\n\u001b[1;32m     97\u001b[0m         \u001b[0;32mfor\u001b[0m \u001b[0mi\u001b[0m \u001b[0;32min\u001b[0m \u001b[0mrange\u001b[0m\u001b[0;34m(\u001b[0m\u001b[0mn_iter\u001b[0m\u001b[0;34m)\u001b[0m\u001b[0;34m:\u001b[0m\u001b[0;34m\u001b[0m\u001b[0;34m\u001b[0m\u001b[0m\n\u001b[0;32m---> 98\u001b[0;31m             \u001b[0mout\u001b[0m \u001b[0;34m=\u001b[0m \u001b[0mq_0_comp_i\u001b[0m\u001b[0;34m(\u001b[0m\u001b[0mradius\u001b[0m\u001b[0;34m=\u001b[0m\u001b[0mradius\u001b[0m\u001b[0;34m)\u001b[0m\u001b[0;34m\u001b[0m\u001b[0;34m\u001b[0m\u001b[0m\n\u001b[0m\u001b[1;32m     99\u001b[0m             \u001b[0mq_0_rad_aux\u001b[0m\u001b[0;34m.\u001b[0m\u001b[0mappend\u001b[0m\u001b[0;34m(\u001b[0m\u001b[0mout\u001b[0m\u001b[0;34m)\u001b[0m\u001b[0;34m\u001b[0m\u001b[0;34m\u001b[0m\u001b[0m\n\u001b[1;32m    100\u001b[0m         \u001b[0mq_0_rad_i\u001b[0m\u001b[0;34m.\u001b[0m\u001b[0mappend\u001b[0m\u001b[0;34m(\u001b[0m\u001b[0mnp\u001b[0m\u001b[0;34m.\u001b[0m\u001b[0mmean\u001b[0m\u001b[0;34m(\u001b[0m\u001b[0mq_0_rad_aux\u001b[0m\u001b[0;34m)\u001b[0m\u001b[0;34m)\u001b[0m\u001b[0;34m\u001b[0m\u001b[0;34m\u001b[0m\u001b[0m\n",
      "\u001b[0;32m/mnt/pact/im281/FIR-group/Ian/lr/mltier.py\u001b[0m in \u001b[0;36m__call__\u001b[0;34m(self, radius)\u001b[0m\n\u001b[1;32m    224\u001b[0m \u001b[0;34m\u001b[0m\u001b[0m\n\u001b[1;32m    225\u001b[0m         \u001b[0;31m# Generate random catalogue with n sources as the small one\u001b[0m\u001b[0;34m\u001b[0m\u001b[0;34m\u001b[0m\u001b[0;34m\u001b[0m\u001b[0m\n\u001b[0;32m--> 226\u001b[0;31m         \u001b[0mrandom_small\u001b[0m \u001b[0;34m=\u001b[0m \u001b[0mself\u001b[0m\u001b[0;34m.\u001b[0m\u001b[0mfield\u001b[0m\u001b[0;34m.\u001b[0m\u001b[0mrandom_catalogue\u001b[0m\u001b[0;34m(\u001b[0m\u001b[0mself\u001b[0m\u001b[0;34m.\u001b[0m\u001b[0mn_small\u001b[0m\u001b[0;34m)\u001b[0m\u001b[0;34m\u001b[0m\u001b[0;34m\u001b[0m\u001b[0m\n\u001b[0m\u001b[1;32m    227\u001b[0m         idx_random_small, idx_big, d2d, d3d = search_around_sky(\n\u001b[1;32m    228\u001b[0m             random_small, self.coords_big, radius*u.arcsec)\n",
      "\u001b[0;32m/mnt/pact/im281/FIR-group/Ian/lr/mltier.py\u001b[0m in \u001b[0;36mrandom_catalogue\u001b[0;34m(self, n)\u001b[0m\n\u001b[1;32m    204\u001b[0m         \u001b[0;32melse\u001b[0m\u001b[0;34m:\u001b[0m\u001b[0;34m\u001b[0m\u001b[0;34m\u001b[0m\u001b[0m\n\u001b[1;32m    205\u001b[0m             return gen_rand_cat_inMOC(\n\u001b[0;32m--> 206\u001b[0;31m                 n, self.ra_up, self.ra_down, self.dec_up, self.dec_down, self.moc)\n\u001b[0m\u001b[1;32m    207\u001b[0m \u001b[0;34m\u001b[0m\u001b[0m\n\u001b[1;32m    208\u001b[0m \u001b[0;32mclass\u001b[0m \u001b[0mQ_0\u001b[0m\u001b[0;34m(\u001b[0m\u001b[0mobject\u001b[0m\u001b[0;34m)\u001b[0m\u001b[0;34m:\u001b[0m\u001b[0;34m\u001b[0m\u001b[0;34m\u001b[0m\u001b[0m\n",
      "\u001b[0;32m/mnt/pact/im281/FIR-group/Ian/lr/mltier.py\u001b[0m in \u001b[0;36mgen_rand_cat_inMOC\u001b[0;34m(n, RAmax, RAmin, DECmax, DECmin, catmoc)\u001b[0m\n\u001b[1;32m     98\u001b[0m     \u001b[0mrandra\u001b[0m \u001b[0;34m=\u001b[0m \u001b[0mnp\u001b[0m\u001b[0;34m.\u001b[0m\u001b[0mrandom\u001b[0m\u001b[0;34m.\u001b[0m\u001b[0muniform\u001b[0m\u001b[0;34m(\u001b[0m\u001b[0mRAmin\u001b[0m\u001b[0;34m,\u001b[0m \u001b[0mRAmax\u001b[0m\u001b[0;34m,\u001b[0m \u001b[0mint\u001b[0m\u001b[0;34m(\u001b[0m\u001b[0;36m2\u001b[0m\u001b[0;34m*\u001b[0m\u001b[0mn\u001b[0m\u001b[0;34m*\u001b[0m\u001b[0mratio\u001b[0m\u001b[0;34m)\u001b[0m\u001b[0;34m)\u001b[0m\u001b[0;34m\u001b[0m\u001b[0;34m\u001b[0m\u001b[0m\n\u001b[1;32m     99\u001b[0m     \u001b[0mranddec\u001b[0m \u001b[0;34m=\u001b[0m \u001b[0mnp\u001b[0m\u001b[0;34m.\u001b[0m\u001b[0mrandom\u001b[0m\u001b[0;34m.\u001b[0m\u001b[0muniform\u001b[0m\u001b[0;34m(\u001b[0m\u001b[0mDECmin\u001b[0m\u001b[0;34m,\u001b[0m \u001b[0mDECmax\u001b[0m\u001b[0;34m,\u001b[0m \u001b[0mint\u001b[0m\u001b[0;34m(\u001b[0m\u001b[0;36m2\u001b[0m\u001b[0;34m*\u001b[0m\u001b[0mn\u001b[0m\u001b[0;34m*\u001b[0m\u001b[0mratio\u001b[0m\u001b[0;34m)\u001b[0m\u001b[0;34m)\u001b[0m\u001b[0;34m\u001b[0m\u001b[0;34m\u001b[0m\u001b[0m\n\u001b[0;32m--> 100\u001b[0;31m     \u001b[0mmask\u001b[0m \u001b[0;34m=\u001b[0m \u001b[0minMoc\u001b[0m\u001b[0;34m(\u001b[0m\u001b[0mrandra\u001b[0m\u001b[0;34m,\u001b[0m\u001b[0mranddec\u001b[0m\u001b[0;34m,\u001b[0m\u001b[0mcatmoc\u001b[0m\u001b[0;34m)\u001b[0m\u001b[0;34m\u001b[0m\u001b[0;34m\u001b[0m\u001b[0m\n\u001b[0m\u001b[1;32m    101\u001b[0m     \u001b[0;32mif\u001b[0m \u001b[0mnp\u001b[0m\u001b[0;34m.\u001b[0m\u001b[0msum\u001b[0m\u001b[0;34m(\u001b[0m\u001b[0mmask\u001b[0m\u001b[0;34m)\u001b[0m\u001b[0;34m>=\u001b[0m\u001b[0mn\u001b[0m\u001b[0;34m:\u001b[0m\u001b[0;34m\u001b[0m\u001b[0;34m\u001b[0m\u001b[0m\n\u001b[1;32m    102\u001b[0m         \u001b[0mcoords\u001b[0m \u001b[0;34m=\u001b[0m \u001b[0mSkyCoord\u001b[0m\u001b[0;34m(\u001b[0m\u001b[0mrandra\u001b[0m\u001b[0;34m[\u001b[0m\u001b[0mmask\u001b[0m\u001b[0;34m]\u001b[0m\u001b[0;34m[\u001b[0m\u001b[0;34m:\u001b[0m\u001b[0mn\u001b[0m\u001b[0;34m]\u001b[0m\u001b[0;34m,\u001b[0m\u001b[0mranddec\u001b[0m\u001b[0;34m[\u001b[0m\u001b[0mmask\u001b[0m\u001b[0;34m]\u001b[0m\u001b[0;34m[\u001b[0m\u001b[0;34m:\u001b[0m\u001b[0mn\u001b[0m\u001b[0;34m]\u001b[0m\u001b[0;34m,\u001b[0m\u001b[0munit\u001b[0m\u001b[0;34m=\u001b[0m\u001b[0;34m'deg'\u001b[0m\u001b[0;34m)\u001b[0m\u001b[0;34m\u001b[0m\u001b[0;34m\u001b[0m\u001b[0m\n",
      "\u001b[0;32m/mnt/pact/im281/HELP/herschelhelp_internal/herschelhelp_internal/utils.py\u001b[0m in \u001b[0;36minMoc\u001b[0;34m(ra, dec, moc)\u001b[0m\n\u001b[1;32m    266\u001b[0m \u001b[0;34m\u001b[0m\u001b[0m\n\u001b[1;32m    267\u001b[0m     \u001b[0;31m# Array of all the HEALpix cell ids of the MOC at its maximum order.\u001b[0m\u001b[0;34m\u001b[0m\u001b[0;34m\u001b[0m\u001b[0;34m\u001b[0m\u001b[0m\n\u001b[0;32m--> 268\u001b[0;31m     \u001b[0mmoc_healpix_cells\u001b[0m \u001b[0;34m=\u001b[0m \u001b[0mnp\u001b[0m\u001b[0;34m.\u001b[0m\u001b[0marray\u001b[0m\u001b[0;34m(\u001b[0m\u001b[0mlist\u001b[0m\u001b[0;34m(\u001b[0m\u001b[0mmoc\u001b[0m\u001b[0;34m.\u001b[0m\u001b[0mflattened\u001b[0m\u001b[0;34m(\u001b[0m\u001b[0;34m)\u001b[0m\u001b[0;34m)\u001b[0m\u001b[0;34m)\u001b[0m\u001b[0;34m\u001b[0m\u001b[0;34m\u001b[0m\u001b[0m\n\u001b[0m\u001b[1;32m    269\u001b[0m \u001b[0;34m\u001b[0m\u001b[0m\n\u001b[1;32m    270\u001b[0m     \u001b[0;31m# We look for sources that are in the MOC and return the mask\u001b[0m\u001b[0;34m\u001b[0m\u001b[0;34m\u001b[0m\u001b[0;34m\u001b[0m\u001b[0m\n",
      "\u001b[0;32m~/.conda/envs/herschelhelp/lib/python3.6/site-packages/pymoc/moc.py\u001b[0m in \u001b[0;36mflattened\u001b[0;34m(self, order, include_smaller)\u001b[0m\n\u001b[1;32m    675\u001b[0m \u001b[0;34m\u001b[0m\u001b[0m\n\u001b[1;32m    676\u001b[0m             \u001b[0;32mfor\u001b[0m \u001b[0mcell\u001b[0m \u001b[0;32min\u001b[0m \u001b[0mself\u001b[0m\u001b[0;34m[\u001b[0m\u001b[0morder_i\u001b[0m\u001b[0;34m]\u001b[0m\u001b[0;34m:\u001b[0m\u001b[0;34m\u001b[0m\u001b[0;34m\u001b[0m\u001b[0m\n\u001b[0;32m--> 677\u001b[0;31m                 \u001b[0mflat\u001b[0m\u001b[0;34m.\u001b[0m\u001b[0mupdate\u001b[0m\u001b[0;34m(\u001b[0m\u001b[0mrange\u001b[0m\u001b[0;34m(\u001b[0m\u001b[0mcell\u001b[0m \u001b[0;34m<<\u001b[0m \u001b[0mshift\u001b[0m\u001b[0;34m,\u001b[0m \u001b[0;34m(\u001b[0m\u001b[0mcell\u001b[0m \u001b[0;34m+\u001b[0m \u001b[0;36m1\u001b[0m\u001b[0;34m)\u001b[0m \u001b[0;34m<<\u001b[0m \u001b[0mshift\u001b[0m\u001b[0;34m)\u001b[0m\u001b[0;34m)\u001b[0m\u001b[0;34m\u001b[0m\u001b[0;34m\u001b[0m\u001b[0m\n\u001b[0m\u001b[1;32m    678\u001b[0m \u001b[0;34m\u001b[0m\u001b[0m\n\u001b[1;32m    679\u001b[0m         \u001b[0;31m# Look at higher orders unless we have been told to exclude\u001b[0m\u001b[0;34m\u001b[0m\u001b[0;34m\u001b[0m\u001b[0;34m\u001b[0m\u001b[0m\n",
      "\u001b[0;31mKeyboardInterrupt\u001b[0m: "
>>>>>>> 93a8c5fd990faf0e43987aebebea97c125234b56
     ]
    }
   ],
   "source": [
    "Q0_opt,search_rad_r = Q0_calc(lofar,opt_cat,'RA','DEC',opt_ra,opt_dec,opt_colname,min(lofar['RA']),max(lofar['RA']),min(lofar['DEC']),max(lofar['DEC']),0.1,8,30,moc=moc_overlap)\n",
    "#Q0_opt,search_rad_r = Q0_calc(lofar,opt_cat,'RA','DEC',opt_ra,opt_dec,opt_colname,16,163.5,57.5,58.5,0.1,8,30,moc=moc_overlap)"
   ]
  },
  {
   "cell_type": "code",
   "execution_count": null,
   "metadata": {},
<<<<<<< HEAD
   "outputs": [
    {
     "data": {
      "image/png": "iVBORw0KGgoAAAANSUhEUgAAAYUAAAEKCAYAAAD9xUlFAAAABHNCSVQICAgIfAhkiAAAAAlwSFlz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\ngoiIDFMoiIjIMIWCiIgM+//LX4Pkee/xFQAAAABJRU5ErkJggg==\n",
      "text/plain": [
       "<matplotlib.figure.Figure at 0x54fdf3630>"
      ]
     },
     "metadata": {},
     "output_type": "display_data"
    },
    {
     "name": "stdout",
     "output_type": "stream",
     "text": [
      "Q0 = 0.7709624464687147\n",
      "search radius = 6.093103448275862\n"
     ]
    }
   ],
=======
   "outputs": [],
>>>>>>> 93a8c5fd990faf0e43987aebebea97c125234b56
   "source": [
    "x = search_rad_r\n",
    "y = 1 - np.array(Q0_opt)\n",
    "plt.plot(x,y)\n",
    "plt.xlabel('Radius (arcseconds)')\n",
    "plt.ylabel('Q0')\n",
    "plt.show()\n",
    "\n",
    "Q0 = max(Q0_opt)\n",
    "#search_rad_opt = search_rad_r[Q0_opt == Q0][0]\n",
    "#using large search rad to make sure every source has a crossmatch and to make sure no true counterparts are missed\n",
    "search_rad_opt = 15\n",
    "#Q0 = popt[0]\n",
    "#search_rad = 6.9103\n",
    "\n",
    "print('Q0 = {}'.format(Q0))\n",
    "print('search radius = {}'.format(search_rad_opt))\n",
    "Q0_opt = Q0\n"
   ]
  },
  {
   "cell_type": "code",
   "execution_count": null,
   "metadata": {},
<<<<<<< HEAD
   "outputs": [
    {
     "name": "stdout",
     "output_type": "stream",
     "text": [
      "field area is defined by a MOC\n",
      "filtering in a MOC\n",
      "filtering in a MOC\n",
      "[    0     1     2 ... 11632 11633 11634]\n",
      "7123\n",
      "starting to find Q0. This will take a while\n",
      "finding Q0 with radius = 0.1 arcseconds\n",
      "number of random sources with no matches: 7117\n",
      "number of real sources with no matches: 6878\n",
      "number of random sources with no matches: 7123\n",
      "number of real sources with no matches: 6878\n",
      "number of random sources with no matches: 7122\n",
      "number of real sources with no matches: 6878\n",
      "number of random sources with no matches: 7122\n",
      "number of real sources with no matches: 6878\n",
      "number of random sources with no matches: 7121\n",
      "number of real sources with no matches: 6878\n",
      "number of random sources with no matches: 7121\n",
      "number of real sources with no matches: 6878\n",
      "number of random sources with no matches: 7120\n",
      "number of real sources with no matches: 6878\n",
      "number of random sources with no matches: 7119\n",
      "number of real sources with no matches: 6878\n",
      "number of random sources with no matches: 7121\n",
      "number of real sources with no matches: 6878\n",
      "number of random sources with no matches: 7121\n",
      "number of real sources with no matches: 6878\n",
      "finding Q0 with radius = 0.37241379310344824 arcseconds\n",
      "number of random sources with no matches: 7091\n",
      "number of real sources with no matches: 4845\n",
      "number of random sources with no matches: 7086\n",
      "number of real sources with no matches: 4845\n",
      "number of random sources with no matches: 7100\n",
      "number of real sources with no matches: 4845\n",
      "number of random sources with no matches: 7098\n",
      "number of real sources with no matches: 4845\n",
      "number of random sources with no matches: 7090\n",
      "number of real sources with no matches: 4845\n",
      "number of random sources with no matches: 7096\n",
      "number of real sources with no matches: 4845\n",
      "number of random sources with no matches: 7092\n",
      "number of real sources with no matches: 4845\n",
      "number of random sources with no matches: 7085\n",
      "number of real sources with no matches: 4845\n",
      "number of random sources with no matches: 7089\n",
      "number of real sources with no matches: 4845\n",
      "number of random sources with no matches: 7100\n",
      "number of real sources with no matches: 4845\n",
      "finding Q0 with radius = 0.6448275862068965 arcseconds\n",
      "number of random sources with no matches: 7041\n",
      "number of real sources with no matches: 2934\n",
      "number of random sources with no matches: 7031\n",
      "number of real sources with no matches: 2934\n",
      "number of random sources with no matches: 7033\n",
      "number of real sources with no matches: 2934\n",
      "number of random sources with no matches: 7044\n",
      "number of real sources with no matches: 2934\n",
      "number of random sources with no matches: 7038\n",
      "number of real sources with no matches: 2934\n",
      "number of random sources with no matches: 7043\n",
      "number of real sources with no matches: 2934\n",
      "number of random sources with no matches: 7022\n",
      "number of real sources with no matches: 2934\n",
      "number of random sources with no matches: 7046\n",
      "number of real sources with no matches: 2934\n",
      "number of random sources with no matches: 7027\n",
      "number of real sources with no matches: 2934\n",
      "number of random sources with no matches: 7039\n",
      "number of real sources with no matches: 2934\n",
      "finding Q0 with radius = 0.9172413793103448 arcseconds\n",
      "number of random sources with no matches: 6938\n",
      "number of real sources with no matches: 1794\n",
      "number of random sources with no matches: 6954\n",
      "number of real sources with no matches: 1794\n",
      "number of random sources with no matches: 6948\n",
      "number of real sources with no matches: 1794\n",
      "number of random sources with no matches: 6953\n",
      "number of real sources with no matches: 1794\n",
      "number of random sources with no matches: 6975\n",
      "number of real sources with no matches: 1794\n",
      "number of random sources with no matches: 6926\n",
      "number of real sources with no matches: 1794\n",
      "number of random sources with no matches: 6970\n",
      "number of real sources with no matches: 1794\n",
      "number of random sources with no matches: 6950\n",
      "number of real sources with no matches: 1794\n",
      "number of random sources with no matches: 6949\n",
      "number of real sources with no matches: 1794\n",
      "number of random sources with no matches: 6949\n",
      "number of real sources with no matches: 1794\n",
      "finding Q0 with radius = 1.1896551724137931 arcseconds\n",
      "number of random sources with no matches: 6798\n",
      "number of real sources with no matches: 1155\n",
      "number of random sources with no matches: 6835\n",
      "number of real sources with no matches: 1155\n",
      "number of random sources with no matches: 6835\n",
      "number of real sources with no matches: 1155\n",
      "number of random sources with no matches: 6825\n",
      "number of real sources with no matches: 1155\n",
      "number of random sources with no matches: 6828\n",
      "number of real sources with no matches: 1155\n",
      "number of random sources with no matches: 6816\n",
      "number of real sources with no matches: 1155\n",
      "number of random sources with no matches: 6839\n",
      "number of real sources with no matches: 1155\n",
      "number of random sources with no matches: 6832\n",
      "number of real sources with no matches: 1155\n",
      "number of random sources with no matches: 6805\n",
      "number of real sources with no matches: 1155\n",
      "number of random sources with no matches: 6850\n",
      "number of real sources with no matches: 1155\n",
      "finding Q0 with radius = 1.4620689655172414 arcseconds\n",
      "number of random sources with no matches: 6664\n",
      "number of real sources with no matches:  830\n",
      "number of random sources with no matches: 6684\n",
      "number of real sources with no matches:  830\n",
      "number of random sources with no matches: 6662\n",
      "number of real sources with no matches:  830\n",
      "number of random sources with no matches: 6665\n",
      "number of real sources with no matches:  830\n",
      "number of random sources with no matches: 6694\n",
      "number of real sources with no matches:  830\n",
      "number of random sources with no matches: 6679\n",
      "number of real sources with no matches:  830\n",
      "number of random sources with no matches: 6680\n",
      "number of real sources with no matches:  830\n",
      "number of random sources with no matches: 6663\n",
      "number of real sources with no matches:  830\n",
      "number of random sources with no matches: 6692\n",
      "number of real sources with no matches:  830\n",
      "number of random sources with no matches: 6671\n",
      "number of real sources with no matches:  830\n",
      "finding Q0 with radius = 1.7344827586206897 arcseconds\n",
      "number of random sources with no matches: 6443\n",
      "number of real sources with no matches:  628\n",
      "number of random sources with no matches: 6466\n",
      "number of real sources with no matches:  628\n",
      "number of random sources with no matches: 6496\n",
      "number of real sources with no matches:  628\n",
      "number of random sources with no matches: 6504\n",
      "number of real sources with no matches:  628\n",
      "number of random sources with no matches: 6443\n",
      "number of real sources with no matches:  628\n",
      "number of random sources with no matches: 6497\n",
      "number of real sources with no matches:  628\n",
      "number of random sources with no matches: 6494\n",
      "number of real sources with no matches:  628\n",
      "number of random sources with no matches: 6496\n",
      "number of real sources with no matches:  628\n",
      "number of random sources with no matches: 6498\n",
      "number of real sources with no matches:  628\n",
      "number of random sources with no matches: 6491\n",
      "number of real sources with no matches:  628\n",
      "finding Q0 with radius = 2.0068965517241377 arcseconds\n",
      "number of random sources with no matches: 6297\n",
      "number of real sources with no matches:  518\n",
      "number of random sources with no matches: 6279\n",
      "number of real sources with no matches:  518\n",
      "number of random sources with no matches: 6291\n",
      "number of real sources with no matches:  518\n",
      "number of random sources with no matches: 6244\n",
      "number of real sources with no matches:  518\n",
      "number of random sources with no matches: 6332\n",
      "number of real sources with no matches:  518\n",
      "number of random sources with no matches: 6301\n",
      "number of real sources with no matches:  518\n",
      "number of random sources with no matches: 6245\n",
      "number of real sources with no matches:  518\n",
      "number of random sources with no matches: 6283\n",
      "number of real sources with no matches:  518\n",
      "number of random sources with no matches: 6227\n",
      "number of real sources with no matches:  518\n",
      "number of random sources with no matches: 6273\n",
      "number of real sources with no matches:  518\n",
      "finding Q0 with radius = 2.279310344827586 arcseconds\n",
      "number of random sources with no matches: 6013\n",
      "number of real sources with no matches:  429\n",
      "number of random sources with no matches: 6067\n",
      "number of real sources with no matches:  429\n",
      "number of random sources with no matches: 6037\n",
      "number of real sources with no matches:  429\n"
     ]
    },
    {
     "name": "stdout",
     "output_type": "stream",
     "text": [
      "number of random sources with no matches: 6061\n",
      "number of real sources with no matches:  429\n",
      "number of random sources with no matches: 5998\n",
      "number of real sources with no matches:  429\n",
      "number of random sources with no matches: 6021\n",
      "number of real sources with no matches:  429\n",
      "number of random sources with no matches: 5981\n",
      "number of real sources with no matches:  429\n",
      "number of random sources with no matches: 6051\n",
      "number of real sources with no matches:  429\n",
      "number of random sources with no matches: 6046\n",
      "number of real sources with no matches:  429\n",
      "number of random sources with no matches: 6042\n",
      "number of real sources with no matches:  429\n",
      "finding Q0 with radius = 2.5517241379310343 arcseconds\n",
      "number of random sources with no matches: 5811\n",
      "number of real sources with no matches:  386\n",
      "number of random sources with no matches: 5761\n",
      "number of real sources with no matches:  386\n",
      "number of random sources with no matches: 5861\n",
      "number of real sources with no matches:  386\n",
      "number of random sources with no matches: 5832\n",
      "number of real sources with no matches:  386\n",
      "number of random sources with no matches: 5751\n",
      "number of real sources with no matches:  386\n",
      "number of random sources with no matches: 5733\n",
      "number of real sources with no matches:  386\n",
      "number of random sources with no matches: 5828\n",
      "number of real sources with no matches:  386\n",
      "number of random sources with no matches: 5757\n",
      "number of real sources with no matches:  386\n",
      "number of random sources with no matches: 5821\n",
      "number of real sources with no matches:  386\n",
      "number of random sources with no matches: 5820\n",
      "number of real sources with no matches:  386\n",
      "finding Q0 with radius = 2.8241379310344827 arcseconds\n",
      "number of random sources with no matches: 5511\n",
      "number of real sources with no matches:  352\n",
      "number of random sources with no matches: 5476\n",
      "number of real sources with no matches:  352\n",
      "number of random sources with no matches: 5457\n",
      "number of real sources with no matches:  352\n",
      "number of random sources with no matches: 5579\n",
      "number of real sources with no matches:  352\n",
      "number of random sources with no matches: 5457\n",
      "number of real sources with no matches:  352\n",
      "number of random sources with no matches: 5469\n",
      "number of real sources with no matches:  352\n",
      "number of random sources with no matches: 5528\n",
      "number of real sources with no matches:  352\n",
      "number of random sources with no matches: 5496\n",
      "number of real sources with no matches:  352\n",
      "number of random sources with no matches: 5491\n",
      "number of real sources with no matches:  352\n",
      "number of random sources with no matches: 5516\n",
      "number of real sources with no matches:  352\n",
      "finding Q0 with radius = 3.0965517241379312 arcseconds\n",
      "number of random sources with no matches: 5216\n",
      "number of real sources with no matches:  313\n",
      "number of random sources with no matches: 5173\n",
      "number of real sources with no matches:  313\n",
      "number of random sources with no matches: 5295\n",
      "number of real sources with no matches:  313\n",
      "number of random sources with no matches: 5257\n",
      "number of real sources with no matches:  313\n",
      "number of random sources with no matches: 5236\n",
      "number of real sources with no matches:  313\n",
      "number of random sources with no matches: 5146\n",
      "number of real sources with no matches:  313\n",
      "number of random sources with no matches: 5230\n",
      "number of real sources with no matches:  313\n",
      "number of random sources with no matches: 5270\n",
      "number of real sources with no matches:  313\n",
      "number of random sources with no matches: 5219\n",
      "number of real sources with no matches:  313\n",
      "number of random sources with no matches: 5249\n",
      "number of real sources with no matches:  313\n",
      "finding Q0 with radius = 3.3689655172413793 arcseconds\n",
      "number of random sources with no matches: 4984\n",
      "number of real sources with no matches:  284\n",
      "number of random sources with no matches: 4946\n",
      "number of real sources with no matches:  284\n",
      "number of random sources with no matches: 4899\n",
      "number of real sources with no matches:  284\n",
      "number of random sources with no matches: 4884\n",
      "number of real sources with no matches:  284\n",
      "number of random sources with no matches: 4921\n",
      "number of real sources with no matches:  284\n",
      "number of random sources with no matches: 4959\n",
      "number of real sources with no matches:  284\n",
      "number of random sources with no matches: 4910\n",
      "number of real sources with no matches:  284\n",
      "number of random sources with no matches: 4956\n",
      "number of real sources with no matches:  284\n",
      "number of random sources with no matches: 4972\n",
      "number of real sources with no matches:  284\n",
      "number of random sources with no matches: 4885\n",
      "number of real sources with no matches:  284\n",
      "finding Q0 with radius = 3.6413793103448273 arcseconds\n",
      "number of random sources with no matches: 4633\n",
      "number of real sources with no matches:  262\n",
      "number of random sources with no matches: 4602\n",
      "number of real sources with no matches:  262\n",
      "number of random sources with no matches: 4633\n",
      "number of real sources with no matches:  262\n",
      "number of random sources with no matches: 4626\n",
      "number of real sources with no matches:  262\n",
      "number of random sources with no matches: 4609\n",
      "number of real sources with no matches:  262\n",
      "number of random sources with no matches: 4647\n",
      "number of real sources with no matches:  262\n",
      "number of random sources with no matches: 4622\n",
      "number of real sources with no matches:  262\n",
      "number of random sources with no matches: 4670\n",
      "number of real sources with no matches:  262\n",
      "number of random sources with no matches: 4628\n",
      "number of real sources with no matches:  262\n",
      "number of random sources with no matches: 4616\n",
      "number of real sources with no matches:  262\n",
      "finding Q0 with radius = 3.913793103448276 arcseconds\n",
      "number of random sources with no matches: 4379\n",
      "number of real sources with no matches:  248\n",
      "number of random sources with no matches: 4269\n",
      "number of real sources with no matches:  248\n",
      "number of random sources with no matches: 4343\n",
      "number of real sources with no matches:  248\n",
      "number of random sources with no matches: 4302\n",
      "number of real sources with no matches:  248\n",
      "number of random sources with no matches: 4314\n",
      "number of real sources with no matches:  248\n",
      "number of random sources with no matches: 4255\n",
      "number of real sources with no matches:  248\n",
      "number of random sources with no matches: 4359\n",
      "number of real sources with no matches:  248\n",
      "number of random sources with no matches: 4393\n",
      "number of real sources with no matches:  248\n",
      "number of random sources with no matches: 4306\n",
      "number of real sources with no matches:  248\n",
      "number of random sources with no matches: 4354\n",
      "number of real sources with no matches:  248\n",
      "finding Q0 with radius = 4.186206896551724 arcseconds\n",
      "number of random sources with no matches: 4084\n",
      "number of real sources with no matches:  242\n",
      "number of random sources with no matches: 4072\n",
      "number of real sources with no matches:  242\n",
      "number of random sources with no matches: 3985\n",
      "number of real sources with no matches:  242\n",
      "number of random sources with no matches: 3995\n",
      "number of real sources with no matches:  242\n",
      "number of random sources with no matches: 4053\n",
      "number of real sources with no matches:  242\n",
      "number of random sources with no matches: 4006\n",
      "number of real sources with no matches:  242\n",
      "number of random sources with no matches: 4003\n",
      "number of real sources with no matches:  242\n",
      "number of random sources with no matches: 4015\n",
      "number of real sources with no matches:  242\n",
      "number of random sources with no matches: 4108\n",
      "number of real sources with no matches:  242\n",
      "number of random sources with no matches: 3947\n",
      "number of real sources with no matches:  242\n",
      "finding Q0 with radius = 4.458620689655172 arcseconds\n",
      "number of random sources with no matches: 3736\n",
      "number of real sources with no matches:  226\n",
      "number of random sources with no matches: 3768\n",
      "number of real sources with no matches:  226\n",
      "number of random sources with no matches: 3674\n",
      "number of real sources with no matches:  226\n",
      "number of random sources with no matches: 3742\n",
      "number of real sources with no matches:  226\n",
      "number of random sources with no matches: 3792\n",
      "number of real sources with no matches:  226\n",
      "number of random sources with no matches: 3700\n",
      "number of real sources with no matches:  226\n",
      "number of random sources with no matches: 3745\n",
      "number of real sources with no matches:  226\n",
      "number of random sources with no matches: 3642\n",
      "number of real sources with no matches:  226\n"
     ]
    },
    {
     "name": "stdout",
     "output_type": "stream",
     "text": [
      "number of random sources with no matches: 3638\n",
      "number of real sources with no matches:  226\n",
      "number of random sources with no matches: 3607\n",
      "number of real sources with no matches:  226\n",
      "finding Q0 with radius = 4.73103448275862 arcseconds\n",
      "number of random sources with no matches: 3486\n",
      "number of real sources with no matches:  217\n",
      "number of random sources with no matches: 3429\n",
      "number of real sources with no matches:  217\n",
      "number of random sources with no matches: 3396\n",
      "number of real sources with no matches:  217\n",
      "number of random sources with no matches: 3415\n",
      "number of real sources with no matches:  217\n",
      "number of random sources with no matches: 3413\n",
      "number of real sources with no matches:  217\n",
      "number of random sources with no matches: 3483\n",
      "number of real sources with no matches:  217\n",
      "number of random sources with no matches: 3405\n",
      "number of real sources with no matches:  217\n",
      "number of random sources with no matches: 3367\n",
      "number of real sources with no matches:  217\n",
      "number of random sources with no matches: 3458\n",
      "number of real sources with no matches:  217\n",
      "number of random sources with no matches: 3406\n",
      "number of real sources with no matches:  217\n",
      "finding Q0 with radius = 5.003448275862068 arcseconds\n",
      "number of random sources with no matches: 3176\n",
      "number of real sources with no matches:  207\n",
      "number of random sources with no matches: 3210\n",
      "number of real sources with no matches:  207\n",
      "number of random sources with no matches: 3153\n",
      "number of real sources with no matches:  207\n",
      "number of random sources with no matches: 3188\n",
      "number of real sources with no matches:  207\n",
      "number of random sources with no matches: 3188\n",
      "number of real sources with no matches:  207\n",
      "number of random sources with no matches: 3034\n",
      "number of real sources with no matches:  207\n",
      "number of random sources with no matches: 3155\n",
      "number of real sources with no matches:  207\n",
      "number of random sources with no matches: 3140\n",
      "number of real sources with no matches:  207\n",
      "number of random sources with no matches: 3129\n",
      "number of real sources with no matches:  207\n",
      "number of random sources with no matches: 3132\n",
      "number of real sources with no matches:  207\n",
      "finding Q0 with radius = 5.275862068965517 arcseconds\n",
      "number of random sources with no matches: 2860\n",
      "number of real sources with no matches:  198\n",
      "number of random sources with no matches: 2812\n",
      "number of real sources with no matches:  198\n",
      "number of random sources with no matches: 2840\n",
      "number of real sources with no matches:  198\n",
      "number of random sources with no matches: 2877\n",
      "number of real sources with no matches:  198\n",
      "number of random sources with no matches: 2877\n",
      "number of real sources with no matches:  198\n",
      "number of random sources with no matches: 2846\n",
      "number of real sources with no matches:  198\n",
      "number of random sources with no matches: 2919\n",
      "number of real sources with no matches:  198\n",
      "number of random sources with no matches: 2900\n",
      "number of real sources with no matches:  198\n",
      "number of random sources with no matches: 2843\n",
      "number of real sources with no matches:  198\n",
      "number of random sources with no matches: 2880\n",
      "number of real sources with no matches:  198\n",
      "finding Q0 with radius = 5.548275862068965 arcseconds\n",
      "number of random sources with no matches: 2558\n",
      "number of real sources with no matches:  186\n",
      "number of random sources with no matches: 2569\n",
      "number of real sources with no matches:  186\n",
      "number of random sources with no matches: 2582\n",
      "number of real sources with no matches:  186\n",
      "number of random sources with no matches: 2654\n",
      "number of real sources with no matches:  186\n",
      "number of random sources with no matches: 2673\n",
      "number of real sources with no matches:  186\n",
      "number of random sources with no matches: 2622\n",
      "number of real sources with no matches:  186\n",
      "number of random sources with no matches: 2590\n",
      "number of real sources with no matches:  186\n",
      "number of random sources with no matches: 2728\n",
      "number of real sources with no matches:  186\n",
      "number of random sources with no matches: 2623\n",
      "number of real sources with no matches:  186\n",
      "number of random sources with no matches: 2510\n",
      "number of real sources with no matches:  186\n",
      "finding Q0 with radius = 5.820689655172413 arcseconds\n",
      "number of random sources with no matches: 2348\n",
      "number of real sources with no matches:  179\n",
      "number of random sources with no matches: 2285\n",
      "number of real sources with no matches:  179\n",
      "number of random sources with no matches: 2368\n",
      "number of real sources with no matches:  179\n",
      "number of random sources with no matches: 2372\n",
      "number of real sources with no matches:  179\n",
      "number of random sources with no matches: 2311\n",
      "number of real sources with no matches:  179\n",
      "number of random sources with no matches: 2319\n",
      "number of real sources with no matches:  179\n",
      "number of random sources with no matches: 2363\n",
      "number of real sources with no matches:  179\n",
      "number of random sources with no matches: 2361\n",
      "number of real sources with no matches:  179\n",
      "number of random sources with no matches: 2395\n",
      "number of real sources with no matches:  179\n",
      "number of random sources with no matches: 2285\n",
      "number of real sources with no matches:  179\n",
      "finding Q0 with radius = 6.093103448275862 arcseconds\n",
      "number of random sources with no matches: 2153\n",
      "number of real sources with no matches:  172\n",
      "number of random sources with no matches: 2127\n",
      "number of real sources with no matches:  172\n",
      "number of random sources with no matches: 2126\n",
      "number of real sources with no matches:  172\n",
      "number of random sources with no matches: 2041\n",
      "number of real sources with no matches:  172\n",
      "number of random sources with no matches: 2165\n",
      "number of real sources with no matches:  172\n",
      "number of random sources with no matches: 2175\n",
      "number of real sources with no matches:  172\n",
      "number of random sources with no matches: 2146\n",
      "number of real sources with no matches:  172\n",
      "number of random sources with no matches: 2144\n",
      "number of real sources with no matches:  172\n",
      "number of random sources with no matches: 2078\n",
      "number of real sources with no matches:  172\n",
      "number of random sources with no matches: 2197\n",
      "number of real sources with no matches:  172\n",
      "finding Q0 with radius = 6.36551724137931 arcseconds\n",
      "number of random sources with no matches: 1845\n",
      "number of real sources with no matches:  165\n",
      "number of random sources with no matches: 1948\n",
      "number of real sources with no matches:  165\n",
      "number of random sources with no matches: 1938\n",
      "number of real sources with no matches:  165\n",
      "number of random sources with no matches: 1900\n",
      "number of real sources with no matches:  165\n",
      "number of random sources with no matches: 1877\n",
      "number of real sources with no matches:  165\n",
      "number of random sources with no matches: 1990\n",
      "number of real sources with no matches:  165\n",
      "number of random sources with no matches: 1856\n",
      "number of real sources with no matches:  165\n",
      "number of random sources with no matches: 1951\n",
      "number of real sources with no matches:  165\n",
      "number of random sources with no matches: 1917\n",
      "number of real sources with no matches:  165\n",
      "number of random sources with no matches: 1882\n",
      "number of real sources with no matches:  165\n",
      "finding Q0 with radius = 6.637931034482758 arcseconds\n",
      "number of random sources with no matches: 1732\n",
      "number of real sources with no matches:  157\n",
      "number of random sources with no matches: 1648\n",
      "number of real sources with no matches:  157\n",
      "number of random sources with no matches: 1707\n",
      "number of real sources with no matches:  157\n",
      "number of random sources with no matches: 1680\n",
      "number of real sources with no matches:  157\n",
      "number of random sources with no matches: 1689\n",
      "number of real sources with no matches:  157\n",
      "number of random sources with no matches: 1661\n",
      "number of real sources with no matches:  157\n",
      "number of random sources with no matches: 1704\n",
      "number of real sources with no matches:  157\n",
      "number of random sources with no matches: 1784\n",
      "number of real sources with no matches:  157\n",
      "number of random sources with no matches: 1706\n",
      "number of real sources with no matches:  157\n",
      "number of random sources with no matches: 1709\n",
      "number of real sources with no matches:  157\n",
      "finding Q0 with radius = 6.910344827586206 arcseconds\n",
      "number of random sources with no matches: 1579\n",
      "number of real sources with no matches:  154\n",
      "number of random sources with no matches: 1553\n",
      "number of real sources with no matches:  154\n"
     ]
    },
    {
     "name": "stdout",
     "output_type": "stream",
     "text": [
      "number of random sources with no matches: 1482\n",
      "number of real sources with no matches:  154\n",
      "number of random sources with no matches: 1540\n",
      "number of real sources with no matches:  154\n",
      "number of random sources with no matches: 1583\n",
      "number of real sources with no matches:  154\n",
      "number of random sources with no matches: 1510\n",
      "number of real sources with no matches:  154\n",
      "number of random sources with no matches: 1521\n",
      "number of real sources with no matches:  154\n",
      "number of random sources with no matches: 1559\n",
      "number of real sources with no matches:  154\n",
      "number of random sources with no matches: 1526\n",
      "number of real sources with no matches:  154\n",
      "number of random sources with no matches: 1498\n",
      "number of real sources with no matches:  154\n",
      "finding Q0 with radius = 7.182758620689654 arcseconds\n",
      "number of random sources with no matches: 1377\n",
      "number of real sources with no matches:  145\n",
      "number of random sources with no matches: 1370\n",
      "number of real sources with no matches:  145\n",
      "number of random sources with no matches: 1372\n",
      "number of real sources with no matches:  145\n",
      "number of random sources with no matches: 1336\n",
      "number of real sources with no matches:  145\n",
      "number of random sources with no matches: 1354\n",
      "number of real sources with no matches:  145\n",
      "number of random sources with no matches: 1395\n",
      "number of real sources with no matches:  145\n",
      "number of random sources with no matches: 1363\n",
      "number of real sources with no matches:  145\n",
      "number of random sources with no matches: 1369\n",
      "number of real sources with no matches:  145\n",
      "number of random sources with no matches: 1307\n",
      "number of real sources with no matches:  145\n",
      "number of random sources with no matches: 1372\n",
      "number of real sources with no matches:  145\n",
      "finding Q0 with radius = 7.455172413793103 arcseconds\n",
      "number of random sources with no matches: 1218\n",
      "number of real sources with no matches:  136\n",
      "number of random sources with no matches: 1169\n",
      "number of real sources with no matches:  136\n",
      "number of random sources with no matches: 1181\n",
      "number of real sources with no matches:  136\n",
      "number of random sources with no matches: 1253\n",
      "number of real sources with no matches:  136\n",
      "number of random sources with no matches: 1282\n",
      "number of real sources with no matches:  136\n",
      "number of random sources with no matches: 1168\n",
      "number of real sources with no matches:  136\n",
      "number of random sources with no matches: 1204\n",
      "number of real sources with no matches:  136\n",
      "number of random sources with no matches: 1233\n",
      "number of real sources with no matches:  136\n",
      "number of random sources with no matches: 1182\n",
      "number of real sources with no matches:  136\n",
      "number of random sources with no matches: 1230\n",
      "number of real sources with no matches:  136\n",
      "finding Q0 with radius = 7.727586206896551 arcseconds\n",
      "number of random sources with no matches: 1063\n",
      "number of real sources with no matches:  128\n",
      "number of random sources with no matches: 1086\n",
      "number of real sources with no matches:  128\n",
      "number of random sources with no matches: 1042\n",
      "number of real sources with no matches:  128\n",
      "number of random sources with no matches: 1083\n",
      "number of real sources with no matches:  128\n",
      "number of random sources with no matches: 1099\n",
      "number of real sources with no matches:  128\n",
      "number of random sources with no matches: 1117\n",
      "number of real sources with no matches:  128\n",
      "number of random sources with no matches: 1128\n",
      "number of real sources with no matches:  128\n",
      "number of random sources with no matches: 1070\n",
      "number of real sources with no matches:  128\n",
      "number of random sources with no matches: 1078\n",
      "number of real sources with no matches:  128\n",
      "number of random sources with no matches: 1085\n",
      "number of real sources with no matches:  128\n",
      "finding Q0 with radius = 8.0 arcseconds\n",
      "number of random sources with no matches:  975\n",
      "number of real sources with no matches:  121\n",
      "number of random sources with no matches:  949\n",
      "number of real sources with no matches:  121\n",
      "number of random sources with no matches:  924\n",
      "number of real sources with no matches:  121\n",
      "number of random sources with no matches:  910\n",
      "number of real sources with no matches:  121\n",
      "number of random sources with no matches:  934\n",
      "number of real sources with no matches:  121\n",
      "number of random sources with no matches:  976\n",
      "number of real sources with no matches:  121\n",
      "number of random sources with no matches:  930\n",
      "number of real sources with no matches:  121\n",
      "number of random sources with no matches:  942\n",
      "number of real sources with no matches:  121\n",
      "number of random sources with no matches:  954\n",
      "number of real sources with no matches:  121\n",
      "number of random sources with no matches:  958\n",
      "number of real sources with no matches:  121\n"
     ]
    }
   ],
=======
   "outputs": [],
>>>>>>> 93a8c5fd990faf0e43987aebebea97c125234b56
   "source": [
    "#onlt run this cell if you have Q0 calculated previosly\n",
    "search_rad_opt = 15\n",
    "Q0_opt = 0.758524446898"
   ]
  },
  {
   "cell_type": "code",
   "execution_count": null,
   "metadata": {},
<<<<<<< HEAD
   "outputs": [
    {
     "data": {
      "image/png": "iVBORw0KGgoAAAANSUhEUgAAAYUAAAEKCAYAAAD9xUlFAAAABHNCSVQICAgIfAhkiAAAAAlwSFlz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\nYII=\n",
      "text/plain": [
       "<matplotlib.figure.Figure at 0x12196f908>"
      ]
     },
     "metadata": {},
     "output_type": "display_data"
    },
    {
     "name": "stdout",
     "output_type": "stream",
     "text": [
      "Q0 = 0.9433945175613662\n",
      "search radius = 3.6413793103448273\n"
     ]
    }
   ],
=======
   "outputs": [],
   "source": [
    "Q0_ir,search_rad_r = Q0_calc(lofar,ir_cat,'RA','DEC',opt_ra,opt_dec,ir_colname,min(lofar['RA']),max(lofar['RA']),min(lofar['DEC']),max(lofar['DEC']),0.1,8,30,moc=moc_overlap)"
   ]
  },
  {
   "cell_type": "code",
   "execution_count": null,
   "metadata": {},
   "outputs": [],
>>>>>>> 93a8c5fd990faf0e43987aebebea97c125234b56
   "source": [
    "x = search_rad_r\n",
    "y = 1 - np.array(Q0_ir)\n",
    "plt.plot(x,y)\n",
    "plt.xlabel('Radius (arcseconds)')\n",
    "plt.ylabel('Q0')\n",
    "plt.show()\n",
    "Q0 = max(Q0_ir)\n",
    "\n",
    "#search_rad_ir = search_rad_r[Q0_ir == Q0][0]\n",
    "search_rad_ir = 15\n",
    "#Q0 = popt[0]\n",
    "#search_rad = 6.9103\n",
    "\n",
    "print('Q0 = {}'.format(Q0))\n",
    "print('search radius = {}'.format(search_rad_ir))\n",
    "Q0_ir = Q0"
   ]
  },
  {
   "cell_type": "markdown",
   "metadata": {},
   "source": [
    "### Prepare the optical likelihood ratio"
   ]
  },
  {
   "cell_type": "code",
   "execution_count": null,
   "metadata": {},
   "outputs": [],
   "source": [
    "opt_cat = opt_ir[opt_num]"
   ]
  },
  {
   "cell_type": "code",
   "execution_count": null,
   "metadata": {},
   "outputs": [],
   "source": [
    "bin_list_opt = np.arange(7,35, 0.05)\n",
    "center_opt = get_center(bin_list_opt)"
   ]
  },
  {
   "cell_type": "code",
   "execution_count": null,
   "metadata": {},
   "outputs": [],
   "source": [
    "bandwidth_opt = 0.5\n",
    "\n",
    "#find the magnitude distribution of all sources n(m)\n",
    "n_m_opt = get_n_m(opt_cat[opt_colname], bin_list_opt, field.area)\n",
    "#find the magnitude distribution of all sources using a kernal instead of bining \n",
    "n_m_opt_kde = get_n_m_kde(opt_cat[opt_colname], center_opt, field.area, bandwidth=bandwidth_opt)\n",
    "n_m_opt_kde_cs = np.cumsum(n_m_opt_kde)\n",
    "\n",
    "#estimate q(m) using the method of Fleuren et al 2012\n",
    "q_m_opt = estimate_q_m(opt_cat[opt_colname], \n",
    "                      bin_list_opt, \n",
    "                      n_m_opt, \n",
    "                      lofar_coords, \n",
    "                      opt_ir_coords[opt_num], \n",
    "                      radius=5)\n",
    "\n",
    "#estimate q(m) using the method of fleuren et al 2012 but instead of binning the magnitudes using a\n",
    "#kernal to create a smoother q(m)\n",
    "q_m_opt_kde = estimate_q_m_kde(opt_cat[opt_colname], \n",
    "                      center_opt, \n",
    "                      n_m_opt_kde, \n",
    "                      lofar_coords, \n",
    "                      opt_ir_coords[opt_num], \n",
    "                      radius=5, \n",
    "                      bandwidth=bandwidth_opt)\n",
    "q_m_opt_kde_cs = np.cumsum(q_m_opt_kde)"
   ]
  },
  {
   "cell_type": "code",
   "execution_count": null,
   "metadata": {},
<<<<<<< HEAD
   "outputs": [
    {
     "data": {
      "image/png": "iVBORw0KGgoAAAANSUhEUgAABJEAAAE/CAYAAAD2YFKLAAAABHNCSVQICAgIfAhkiAAAAAlwSFlz\nAAALEgAACxIB0t1+/AAAADl0RVh0U29mdHdhcmUAbWF0cGxvdGxpYiB2ZXJzaW9uIDIuMS4wLCBo\ndHRwOi8vbWF0cGxvdGxpYi5vcmcvpW3flQAAIABJREFUeJzs3XeUVFXWxuHfppuco0gSFFABI4h5\ndGBQUEkikgVJo4IZEUygnyiOARURJeccFBDFACIGFEQByYhKUoLk2DSc749TjQ10otPt6n6ftVhd\ndevUrbfGWRV2nbOPOecQERERERERERFJSLagA4iIiIiIiIiISManIpKIiIiIiIiIiCRKRSQRERER\nEREREUmUikgiIiIiIiIiIpIoFZFERERERERERCRRKiKJiIiIiIiIiEiiVEQSOQtmVtzM1phZrmTc\nN6eZrTazEmmRTUREgqX3CBGRzCEcX8/N7BszuyKZ951mZnVTO5NkTioiiZydHsBw59yRs72jc+4o\nMAx4MtVTiYhIRqD3CBGRzCFdXs/N7FMzuyUZ+U4/T31gv3Pup2Seoi/QJ6U5JGsw51zQGUTCgpnl\nBLYAlzvnNifzHGWAn4HSoTcYERHJBPQeISKSOaTX67mZ5QU2AqVS+ppvZh8B45xzY1NwjnVAC+fc\n4pRkkcxPM5EkSzOz382sm5ktM7O9ZjYxgWmrVwN7Yr+ZmNmXZvaimX1rZgfMbKaZFTWzsWa2z8wW\nmVn5mPGh++4GrknL5yUiIilnZleY2RIz2x96f5hgZi/GM1zvESIiGVQGfT2vDXwTVwHJzEaY2QAz\n+yiU+XszuyCe55YDqAXMj3Wst5lNNrMxofsvN7PKZtbTzLab2aY4ZkB9CdyeQF4RQEUkEYC7gbpA\nBeBSoF084y4B1sRxvDnQBigNXAB8BwwHigCrgF6njV8FXJbS0CIiknZCH8o/AEbjX88nA00SuIve\nI0REMqAM/Hp+G/BRAre3AJ4HCgPriX+5WSXgRByzpurjn3Nh4CdgDv77f2ngBeD9s8wrAqiIJALw\ntnNuq3NuFzATuDyecYWA/XEcH+6c+9U5txf4GPjVOfe5cy4a/yZ1eoO7/aFziYhIxnUNkB140zl3\nzDk3BViUwHi9R4iIZEwZ9fW8HjA7gdunOed+CJ1/LGf/HWWBc25OrHzFgb7OuWPABKC8mcXOp/cf\nSRIVkUTgr1iXDwH54hm3G8gfx/FtsS4fjuP66efLD+w5y4wiIpK+SgFb3KnNI/9IYLzeI0REMqYM\n93puZpcA+5xzmxLIkdrfUXY6547Hus5p59T7jySJikgiSbcMqJwK57kYWJoK5xERkbTzJ1DazCzW\nsXIJjNd7hIhIxpQRX88TW8p2NtYBZmalU3gevf9IkqiIJJJ0PwCFUvICHbpvEWBhqqUSEZG08B0Q\nDTxkZpFmdidQM4Hxeo8QEcmYMuLr+e0kvJQtyULL0z4HbkrhqW7CL9MTSZCKSCJJ5JyLAkYArVNw\nmpbASG3dLCKSsYVe8+/Eb7awG2gGTEtk/Aj0HiEikqFktNdzMyuIn/XzbQrOf7r38U2/k8XMrgIO\nOud+SL1IklnZqUtDRSQhZlYcWABc4Zw7nNj40+6bEz9F9F/Oue1pkU9ERNKOmY0ANjvnnonndr1H\niIiEgSBfz83sbuAu59zdZx084cf9GnjQOfdTMu47FRjqnEuV2VGSuUUGHUAknDjndgAXJfO+R5N7\nXxERyfj0HiEikjmk8ev5HqBfcs6dyOPekIL7NknNLJK5qYgkIiIiIiIikg6cc58GnUEkJbScTURE\nREREREREEqXG2iIiIiIiIiIikigVkUREREREREREJFFh1ROpWLFirnz58kHHEBHJcH788cedzrni\nQecImt4nRETipvcJvUeIiCQkqe8TYVVEKl++PIsXLw46hohIhmNmfwSdISPQ+4SISNz0PqH3CBGR\nhCT1fULL2UREREREREREJFEqIomIiIiIiIiISKJURBIRERERERERkUSpiCQiIiIiIiIiIolSEUlE\nRERERERERBKlIpKIiIiIiIiIiCRKRSQREREREREREUmUikgiIpLuzGyYmW03s1/iud3M7G0zW29m\ny8zsyvTOKCIiIiIip1IRSUREgjACqJvA7fWASqF/nYGB6ZBJREREREQSEBl0ABGRjMY5iI6GY1GO\nqD2HOLbnIMf3HiB670Hc4SO4Y9G46ONw/Hj8l0N/OXHCn9A5nHNwwp28jnOn3B5ZpiQVHm4Q9NNP\nF865r8ysfAJDGgKjnHMOWGhmhczsXOfcn+kSUCQd7Vj0O2vf/dy/FkiWEtd/8phjp9wUupLvsgu4\nsluttI4lIiISLxWRRCTTOXIE/v4bdu487d8Ox9GN28j5x1ry/bmOIn+vpcT+DeSN3kvuEwfJ4w6Q\n+8RB8nGAfBwgD4fIQ/p9qVuW/3rIIkWkJCgNbIp1fXPo2BlFJDPrjJ+tRLly5dIlnEhqOfDeGHI/\ncD/XuwNBR5Ew8M2CFqAikoiIBEhFJBEJe3v2wNy58Nln/t/fv+6mEuuozNqTf68JXS7A/pP3O2bZ\n2Zm/AofzFyEqZz6icxRnf6587MmZl+hc+TiROy/Hc/u/J/Lmg7z5cDlyYtkjISLC/4sMXY6MwCL/\nOW7ZIyFbNv/PDMtmOPzf2JedZcOyGZiRv1jOAP9XzHAsjmNxVvScc4OAQQA1atTQVA4JD/v3c/z+\nLuQbO5qv7QbcuwOpcGXhoFNJAMxO/RvXbTGXqxbOnT6hRERE4qEikoiEnWPHYOHCf4pGP/wAuU8c\noH3OcXyacyDn8/PJsS5bNo6VLo+rWInsVa6HCytB5cpQqRLZy5Xj3Ei9DGZQm4Gysa6XAbYGlEUk\ndS1ejGvRAvt1A73pxYUjn6FFG70WiYiISManTywikuE5B2vW/FM0+vJL2L/fT/Jpeslq+lV/lxor\nRxJ5cB9ceCm07AsXXwyVK2MVKpAjp2b4hKEZQFczmwBcDexVPyQJeydOQL9+0LMn+/OcQ303l3/3\nuokWbYIOJiIiIpI0KiKJSIb23Xdwzz2wfr2/fv750LrZMe4pNIPqP7xL9q/mQo4c0LQpPPAAXHtt\n3GsCJEMxs/HAzUAxM9sM9AKyAzjn3gNmA7cB64FDwL3BJBVJJdu2Qdu2MGcOW65qxKWLhnBri6L0\n6hV0MBEREZGkUxFJRDKsoUN9Xah0aRg4EOpeupXynw2GQYNg61Y47zx4+WVo3x5KlAg6rpwF51yL\nRG53QJd0iiOStubM8dXwffv4vfu7XPzWfVx5nTFsmGreIiIiEl5URBKRDOfYMXj0URgwAP7zH5j6\n8FcUGNkfuk73y0Hq1oX334d69XwjaxGRjCgqCp5+Gl57DapWZevoL7jmnmqcWwo++ABy5Qo6oIiI\niMjZURFJRDKUHTv8yrT58+Hxx+GVoq8QUb8HFCkCjz0G//0vXHBB0DFFRBK2fj20aAGLF8N997Gv\n1+vcWicPR47AvHlQvHjQAUVERETOnopIIpJhLFkCjRvD9u0wepSj9aqn4amXoXlzGDYMcmtrYxEJ\nA3/9BVdd5S9PnUp0gztpVh9WrYJPPvF9/0VERETCkYpIIpIhjB8PHTpA0aLw9VcnqD7iQXj3XT/z\naMAALVsTkfDxf//nt5BctgyqVOGRrr54NGiQX6IrIiIiEq6yBR1ARLK248ehe3do2RKqV4fFC6Op\n/nZbX0Dq3t131FYBSUTCxfr1vlrUqRNUqUL//r4O3q2bPyQiIiISzjQTSUQCs3u3X6n26adw//3w\nZt8j5LinOXz4IfTpAz17ausiEQkvzz4LOXLAc8/x0UfwyCPQqBH07Rt0MBEREZGUUxFJRAKxYgU0\nbAgbN4Z+tG9xwH/T+uIL6N8funYNOqKIyNlZsgQmTICnnmLp9nNp3hwuvxzGjNGEShEREckctJxN\nRNLd55/DNdfAgQN+l6JOd+2GOnX8lZEjVUASkfDUsycUKcKBB7pTvz4ULAgzZkDevEEHExEJyKpV\n0KMHXHIJvPgiOBd0IhFJoSQVkcysrpmtMbP1ZtYjjttzmtnE0O3fm1n50PGiZjbPzA6Y2TvxnHuG\nmf2SkichIuFj/3645x4oV87vfH19xW1w883+F/wpU/yNIiLhZu5cvzb3qacYOK4gmzb5DQNKlw46\nmIhIOtu92/e0vPpqqFIFXnsNsmXzy33bt4djx4JOKCIpkGgRycwigAFAPaAK0MLMqpw2rAOw2zlX\nEegHvBI6fgR4FugWz7nvBA4kL7qIhKPnn4c//4Rhw6DMiY1w442+Ee2sWdC4cdDxRETOnnP+l/ay\nZTnYrguvvuonV954Y9DBRETSSXQ0zJ4NzZpByZLwwANw+DC88QZs2QI//wy9e8OIEXD77bBvX9CJ\nRSSZktITqSaw3jm3AcDMJgANgZWxxjQEeocuTwHeMTNzzh0Evjaziqef1MzyAY8BnYFJyX4GIhI2\nfvkF3nwTOnaEqwuvhRv+4z9EfPYZXHdd0PFERJJn6lRYtAiGDeO9EbnYsQN69Qo6lIhIOlixwrci\nGD0a/voLihXzu6W0beubwsXeIKVXLz8VvXNn+Ne/4KOPNF1TJAwlpYhUGtgU6/pm4Or4xjjnos1s\nL1AU2JnAef8PeB04lOS0IhK2nPOtjgoUgP+1WQ43/scf/PJL/yFDRCQcRUfD009DlSocuuse/lcR\nateG668POpiISBr64Qf/wW7RIoiM9LOL2rWD227zO1TG5957feGoSRPfIHP2bN8vSUTCRlKKSHHt\nr316R7SkjPlnsNnlQEXn3KMx/ZMSGNsZP1uJcuXKJRhURDKu8eNh/nx4f0A0hbu09FsVzZsHF14Y\ndDQRkeQbNgzWroUPPmDQ0Ai2b9csJBHJ5PbuhbvughMnoF8/aNkSSpSId3h0tN98N2dOqFwZzq1z\nC7ZggS883XADTJ8OtWql4xMQkZRIShFpM1A21vUywNZ4xmw2s0igILArgXNeC1Q3s99DGUqY2ZfO\nuZtPH+icGwQMAqhRo4ba+YuEoX374PHHoUYN6HhsoF/XNm2aCkgiEt4OHfI9Pq67jsN1GvDKBX6f\nAPVCEpFM7ZFHfJ+jb7/1zbPjsWcPDBkC/fvDxo3/HM+bFypXvpxrqy/kuYX1KHZLXf54bhhFHmpN\noULpkF9EUiQpu7MtAiqZWQUzywE0B2acNmYG0DZ0+S5grnPx79/onBvonCvlnCsP3ACsjauAJCKZ\nQ+/esG0bDOqzg2y9n4P//AcaNQo6lohIyrz9tt8poG9fBg8x/vpLs5BEJJObMcM3x+7ZM94C0q+/\nwkMPQdmy8MQTUKGC/+3w88/h3Xd9b8ySJWHOyrJcvPNr5h+/gfN7teHVwn04p4Tjxhuhb9/0fVoi\nknSJzkQK9TjqCswBIoBhzrkVZvYCsNg5NwMYCow2s/X4GUjNY+4fmm1UAMhhZo2AW5xzK09/HBHJ\nnJYv99+zOneGK6Y+AwcOwFtvndpoUUQk3Oza5b/l3H47R666kVea+z6xN98cdDARkTSyYwd06uR7\nWT733Ck3OQdffeVXt82Y4dskNW8Ojz4KV1zxz7jatU89ZVRUITas/oRND3egz5fPcGvRP3ji0Lv0\n7BnJ1VfDv/+dDs9LRM5KUpaz4ZybDcw+7dhzsS4fAZrGc9/yiZz7d6BaUnKISHhxDrp0gUKFoG/T\nH6HOYD8FukqVoKOJiKRM375+re7LLzNkCGzd6jcnEhHJlJzzu67t2eOnFIWaZ0dFwcSJvnj0009Q\ntCg89ZT//HfuuYmfNkcOuOjSHDB3FDxTjn+99BLf1t1ClVITeeqpfHz7rX53FMloklREEhFJjjFj\nYMECGDzIUejZB6F4ca31EJHwt3mzb/LRujVHK19C33q+N6x+MReRTGvcOJg61RfQL7mEgwfhzTdh\nwAC/qvfii+H996FNG8idOxnnN4M+feC884h44AG+Ou8WSi1cwKxZEdSvn+rPRkRSICk9kUREztqe\nPdCtG9SsCe1zjoXvvoOXX4aCBYOOJiKSMr17+12JXniBYcN8f9levfRruUhSmNkwM9tuZr/EOvaq\nma02s2VmNt3MCsW6raeZrTezNWZ2a6zjdUPH1ptZj/R+HlnK5s1+atF11/kPd/ieR888A5dcAh9/\n7PdM6dw5mQWk2Dp3hkGDOGfDdzxQcjpPP+1fbkUk41ARSUTSRK9efun8e6/uJ1uP7nDVVdCuXdCx\nRERSZtUqGD4c7r+fo+eW5+WX4dprz+zzISLxGgHUPe3YZ0A159ylwFqgJ4CZVcH3Wq0aus+7ZhZh\nZhHAAKAeUAVoERorqc056NABjh2DkSMhIoJ16/zFRx6BOXOgbl3IlprfKtu2hcqVeSHniyxf7pg4\nMRXPLSIppiKSiKS6pUvhnXfgvvvgio9e9POc+/dP5U8YIiIBePppvz/1008zYgRs2qRZSCJnwzn3\nFX4jntjHPnXORYeuLgTKhC43BCY45446534D1gM1Q//WO+c2OOeigAmhsZLa3nsPPv0UXnsNKlYE\n4IUXfC+jHmk1/ysiAp56isJ/LKVr+Y947jlfwxKRjEHf6EQkVZ044Wc8FykCL7Vb6zsttmsX7zaw\nIiJhY+FCmD4dunUjqmBxXnrJv7TdckvQwUQylfbAx6HLpYFNsW7bHDoW33FJTevX++Vrt9zifxnE\nT8YcNw66doVzzknDx27ZEsqX54WcL7J+vWPEiDR8LBE5KyoiiUiqGj0avvkGXunrKNT7EciVy/dC\nEhEJZ875n91LlIDHHmPUKNi4UbOQRFKTmT0NRANjYw7FMcwlcDyuc3Y2s8VmtnjHjh2pEzQrOH7c\n/wiYPTsMHXryhe6FFyBPHujePY0fP3t26NGDwmu+58GLv+D55+HIkTR+TBFJEhWRRCTV7NkDTzwB\n11wD7Yp/5Dst9u4NJUsGHU1EJGXmzIH58+HZZzmWMx99+vhWb3VP7+wiIsliZm2BO4BWzrmYgtBm\noGysYWWArQkcP4NzbpBzroZzrkbx4sVTP3hm9frr/lfBd96BMn514S+/wMSJvql2sWLpkKFdOyhV\nihdyvMiWLTBwYDo8pogkSkUkEUk1zz4Lf/8N7/Y7SrbHHoGLLvLznUVEwt3//gdly0LnzoweDb//\nrllIIqnFzOoCTwINnHOHYt00A2huZjnNrAJQCfgBWARUMrMKZpYD33x7RnrnzrSWL/cf6u68E1q1\nOnm4d2/Ilw8efzydcuTMCd27U2jpfB6tsYCXXoL9+9PpsUUkXioiiUiq+OknePdduP9+uGLeG/Dr\nr/DWW77zoohIOFuxAubNgwce4JjloE8fqF4dbrst6GAi4cfMxgPfARea2WYz6wC8A+QHPjOzn83s\nPQDn3ApgErAS+ATo4pw7HmrC3RWYA6wCJoXGSkpFRcE990ChQr6pdqhS/vPPMHUqPPqo73uZbjp1\nguLF6RXZh507fatNEQlWZNABRCT8OeebaRctCn3u3ww1X4RGjdRtVkQyh3ff9b+Id+jAuHGwYQN8\n+KFmIYkkh3OuRRyHhyYwvg/QJ47js4HZqRhNwDc9+vln/yIXa/lf796+rvToo+mcJ08eePxxCvbo\nwRM3L+K11646+ZlTRIKhmUgikmILFsB338GLL0LBl570zRhffz3oWCIiKbdvH4waBc2aEV24OC++\nCFdcAfXrBx1MRCSVff+93wylXTto0ODk4R9/9DWlxx/3haR0d//9ULgwz2Trw4ED8MorAWQQkZNU\nRBKRFBs2DPLnhzblF/h9X594As4/P+hYIiIpN2oUHDgAXbsyfrzf8fq55zQLSUQymehoXzwqUwbe\nfPOUm557zi9he+ihYKJRoAA8/DAF5n5Iz9uX0b8/bI2zjbqIpAcVkUQkRfbtg8mTocXdx8nd/UHf\neLZnz6BjiYiknHMwYABcdRXHr7yKF1+Eyy6Dhg2DDiYiksqmTIHVq30BqWDBk4cXLoTZs/3vgwUK\nBJjvwQchf356upeIjvaz30UkGCoiiUiKTJoEhw7Bk0UGw9Kl8Nprfv26iEi4mzvXf6nq2pWJE2Ht\nWs1CEpFMyDl49VW48MIzquS9evnWSIFvtlukCHTpQr7Zk3im6RoGD/b96UQk/amIJCIpMnw4VK+8\nnwpDn4abb4amTYOOJCKSOgYMgGLFcE3v5vXX4eKL/Z4BIiKZyrx5sGSJb3qU7Z+vh19/DZ9+Ck8+\nCfnyBZgvxqOPQq5cPHH8ZbJn982+RST9qYgkIsm2ejV8+y30uXQCtmsX9Omjn+hFJHPYuNF3ku3Y\nkW9+zMWSJfDww6d8vxIRyRxefRXOOQfatDnlcK9e/vD99weU63QlSsB//0ueqWN4rs1vjBkDK1YE\nHUok69FHIRFJtuHDISICaq0bBFWrwrXXBh1JRCR1vP++/3vffbz5JhQufMb3KxGR8LdsGXzyie+a\nnSvXycNffulX9PbsmcG6FHTrBhERPHL0FfLnh2efDTqQSNajIpKIJMuxYzByJDx4w09kX7oYOnfW\nLCQRyRyOHoXBg6F+ff7gPKZP9y9xGeqLlIhIanjtNcib95TpRs75/m+lSsF//xtgtriULg3t25Nr\n/HCe77SZ6dNh0aKgQ4lkLSoiiUiyfPIJbNsGD+Ue7H+5at066EgiIqlj8mTYsQO6dGHAAF8f79Il\n6FAiIqls0yYYPx46dvTTLUO++AIWLICnnz5lclLG8eSTcPw4Dxx6jWLFfE4RST8qIolIsgwbBuWL\nH6T8N2Pgrrv8rhkiIpnBO+/AhRdy8JraDB4Md94JZcsGHUpEJJW99ZafdvTooycPxcxCKlsWOnQI\nMFtCypeHNm3IMWIQLz64jc8+g/nzgw4lknWoiCQiZ23bNpg1C/peOQnbv9+v8xARyQwWL4bvv4cH\nHmDUmGzs2eMbaouIZCp798KgQXD33XDeeScPf/IJfPcdPPMM5MwZYL7E9OwJR47QYV8/CheGIUOC\nDiSSdaiIJCJnbcwYiI6G+n8NgosughtuCDqSiEjqGDAA8ublRJu2vP021KgB110XdCgRkVT2/vuw\nfz888cTJQzGzkCpUgHvvDTBbUlSuDM2aEfn+AFrftosPP4TDh4MOJZI1qIgkImfFOb+UrdWly8mz\ndKEaaotI5vH3374/SJs2fPZDQVav9rOQ9BInIplKVJRfyla7NlxxxcnDs2b5yZjPPgvZsweYL6me\negoOHOBhe5v9++Hjj4MOJJI1qIgkImdl0SJYuRJ6FBsMOXJoz2tJFjOra2ZrzGy9mfWI4/ZyZjbP\nzH4ys2VmdlsQOSWLGTrU78zWpQtvvQUlS/qVHiIimcq4cbB1K3TvfvKQc9CrF1xwQRh9tLvkEmjU\niPNnvUWFovuYODHoQCJZQ5KKSEn4sJ/TzCaGbv/ezMqHjhcNfQk4YGbvxBqfx8w+MrPVZrbCzPqm\n1hMSkbQ1bBgUznWYqj+OhiZNoFixoCNJmDGzCGAAUA+oArQwsyqnDXsGmOScuwJoDrybviklyzl+\nHAYOhJtuYnVkNT7+2O94nSNH0MFERFLRiRPw6qtw2WVQp87Jw8uWwU8/QbduEBkZYL6z9fTT2J49\n/O/CocyaBQcPBh1IJPNLtIiUxA/7HYDdzrmKQD/gldDxI8CzQLc4Tv2ac+4i4ArgejOrl7ynICLp\n5dAhv9Lj5epTsL171FBbkqsmsN45t8E5FwVMABqeNsYBBUKXCwJb0zGfZEWzZ8Pvv0PXrvTv74tH\n990XdCgRkVT28cd+Snm3bqes1Z00CSIi/Ia7YaVGDahenVt3juHQIZg5M+hAIplfUmYiJeXDfkNg\nZOjyFKC2mZlz7qBz7mt8Mekk59wh59y80OUoYAlQJgXPQ0TSwbRpsG8fNN83CCpVgptuCjqShKfS\nwKZY1zeHjsXWG2htZpuB2cCD6RNNsqwBA6BUKfbc1JCRI6FlSyhRIuhQIiKp7NVXoWxZaNbs5CHn\nfBGpVq0wnWDeqhX51y7hxuKrtaRNJB0kpYiUlA/7J8c456KBvUDRpAQws0JAfeCLpIwXkeAMGwa3\nlFlJweVfQ6dO6jYryRXX/3HcaddbACOcc2WA24DRZhbne5aZdTazxWa2eMeOHakcVbKEtWthzhy4\n7z6GjsrOwYO+obaISKayaBHMnw+PPHJK5+ylS2H9+jDuAde8OWTLxtMVxjJ7NuzdG3QgkcwtKUWk\npHzYT8qYM09sFgmMB952zm2IZ4y+HIhkABs2wLx58Hy5If6DR9u2QUeS8LUZKBvrehnOXK7WAZgE\n4Jz7DsgFxPn7qHNukHOuhnOuRvHixdMgrmR6AwdC9uxE39uJ/v3hX/+Cyy8POpSIZBRTpsC550LY\nfxV59VUoWND/EBhLzFK2xo0DypVS554LtWpx05ZxREU5Pvww6EAimVtSikhJ+bB/ckyoMFQQ2JWE\ncw8C1jnn3oxvgL4ciGQMI0ZALo5w1cqR0KiR1nlISiwCKplZBTPLgW+cPeO0MRuB2gBmdjG+iBTu\nH98lIzp4EIYPh7vuYsYPJfnjD81CEpFTFSgAf/0FK1YEnSQFfv0Vpk71zd7y5z95OGYpW+3aUDRJ\n60gyqFatyLVlA41LLmTChKDDiGRuSSkiJeXD/gwgZlrCXcBc51yCM5HM7EV8semRs4ssIunt+HFf\nROp1yTQi9uxSQ21JkdCy567AHGAVfhe2FWb2gpk1CA17HOhkZkvxM1bbJfa+IpIsY8f6tQ9duvDW\nW1C+PDQ8vfOjiGRpVav6v7/8EmyOFHnjDb/t2kMPnXL4p598fSlsl7LFuPNOyJWLx0uN47PP4O+/\ngw4kknkluoGjcy7azGI+7EcAw2I+7AOLnXMzgKH4fhXr8TOQmsfc38x+x++wk8PMGgG3APuAp4HV\nwBLzfVXecc4NSc0nJyKpY+5c2LQJ2ucfDOef7zsviqSAc242vmF27GPPxbq8Erg+vXNJFuMcvPMO\nXH45P+e5jq++gtde88s6RERilCrlV4GF7UyknTv9jMvWrf2TiWXyZF9batQooGyppUABqF+fmp9P\nhOg3mD49Ox07Bh1KJHNKtIgESfqwfwRoGs99y8dzWnXkFQkTw4bBVQXXUmLll/DSS5AtKZMYRUQy\nuK+/huXLYfBg3nrbyJsXOnQ5rwRTAAAgAElEQVQIOpSIZDRmUK1aGBeRBgyAw4ehW7dTDmeapWwx\nWrYk++TJtC31ORMm1FMRSSSN6JugiCRo1y6YPh1eumCI/6nq3nuDjiQikjreeQcKFWJb7ZaMG+f3\nCyhUKOhQIpIRVa3ql7OF3cLqQ4f8a90dd8DFF59y05IlfuOUsF/KFqNePShUiAeLjGXePNi2LehA\nIpmTikgikqDx48EdPcrNG4ZDgwZQsmTQkUREUm7bNpg2Ddq35/3ReYiKOqNViIjISdWqwe7dvsF2\nWBk50i9ne+KJM26aNCmTLGWLkTMnNG1KtV8/INeJg0yZEnQgkcxJRSQRSdCwYfBI+Q+J3LPzjC1h\nRUTC1siREB1NVNtODBzof8C+8MKgQ4lIRhWWzbWPH4fXX4eaNeHGG0+5yTnfD6lOHShSJKB8aaFV\nKyIOH6RL6Q+ZODHoMCKZk4pIIhKvn3/2U5275BwM553nP2mIiIQ752DIELjxRiYtu4i//oKHHw46\nlIhkZNWq+b9h1Rdp+nS/9Vr37r6xUyw//gi//QZN4+xqG8ZuvBHKlqVTnrEsWACbNwcdSCTzURFJ\nROI1fDhclP1Xyq35HDp21JZFIpI5fPUVrFuH69CRN9+Eiy6CW24JOpSIZGQlSkCxYmFURHLOb4ZS\nqVKc69UmTYLs2TPRUrYY2bJBixZU3DCHYuxg8uSgA4lkPioiiUicjh6FsWPh5QuG+DdkNdQWkcxi\nyBAoWJCFZe7ixx99LyTTnrEikoiY5tph4ZNP4KefoEePM34EjNmVrU4dKFw4oHxpqVUr7PhxHi8z\niQkTgg4jkvmoiCQicZo5E/b+fYx624b7HT1Klw46kohIyu3eDVOmQKtW9Hs/D4UKwT33BB1KRMJB\ntWp+JlKG36HNOXjxRShXDlq3PuPmxYvhjz8y4VK2GJdeCtWq0SbbWH74wS/bE5HUoyKSiMRp4kS4\np9BMcu7eBp07Bx1HRCR1jB0LR46ws1FHpk3zK3Xz5g06lIiEg6pVYf9+2LQp6CSJmD8fvv3W90LK\nkeOMm2OWsjVsGEC29NKqFaU3fkcFNjBpUtBhRDIXFZFE5AxRUfDpp/BovkFQpgzUrRt0JBGRlHMO\nBg+G6tUZsfQKjh/3RSQRkaQIm+baffrAOedA+/Zn3BSzlO2WWzLpUrYYLVoA8GSZcVrSJpLKVEQS\nkTN8/TUU3vc7Vbd8Ch06qKG2iGQOixfDsmW4Dh0ZORKuuQYuvDDoUCJZi5kNM7PtZvZLrGNFzOwz\nM1sX+ls4dNzM7G0zW29my8zsylj3aRsav87M2qZH9qpV/d8M3Rfp++/h88+hWzfInfuMm3/4ATZu\nhLvvDiBbejrvPLjxRppGjeXnnx1r1gQdSCTzUBFJRM4waxZ0ihjur8TxK5aISFgaMgTy5OHnKi34\n5Rdo1y7oQCJZ0gjg9CnOPYAvnHOVgC9C1wHqAZVC/zoDA8EXnYBewNVATaBXTOEpLRUpAiVLZvCZ\nSH36+KD33RfnzZMn+6VsDRqkc64gtGpFke2ruZKfmDgx6DAimYeKSCJyhlmzoE2uydjNN/umjCIi\n4e7AARg3Du6+m2FTCpIzJzRrFnQokazHOfcVsOu0ww2BkaHLI4FGsY6Pct5CoJCZnQvcCnzmnNvl\nnNsNfMaZhak0EdNcO0NautTvjPLww5Av3xk3xyxlu/VWKFQogHzprWlTyJ6d7qXHMmFCGDREFwkT\nKiKJyCnWroWIdasod3AVNGkSdBwRkdQxaRIcOEDUPR0ZNw4aNcoiX6JEwsM5zrk/AUJ/S4SOlwZi\nt7HeHDoW3/EzmFlnM1tsZot37NiR4qBVq8LKlXDiRIpPlfpeegny54cHH4zz5u+/903BM/1SthhF\nikC9etxxYDxrVh3P2MsQRcKIikgicopZs6AJU/2Vxo2DDSMikloGD4aLL2bWruvYtUtL2UTChMVx\nzCVw/MyDzg1yztVwztUoXrx4igNVqwaHDsHvv6f4VKlrzRq/Vq1Ll3g7Zk+a5DdryxJL2WK0akXe\nvX9Sy77UkjaRVKIikoic4qOPoGWuaXDttVCqVNBxRERS7pdfYOFC6NiRESONUqWgTp2gQ4lILNtC\ny9QI/d0eOr4ZKBtrXBlgawLH01yGba7dty/kygWPPhrnzSdOwJQpfilbwYLpnC1I9etD/vw8fu5Y\nJk7UkjaR1KAikoictHcvbJq/gSpHftJSNhHJPIYOhezZ2X5rG2bPhtattemkSAYzA4jZYa0t8GGs\n4/eEdmm7BtgbWu42B7jFzAqHGmrfEjqW5mKKSBmqL9Lvv8Po0dCpE5QoEeeQLLeULUbu3HDnndTa\nPZVN64+wZEnQgUTCn4pIInLSp59Cg+PT/JU77ww2jIhIajhyBEaNgsaNGftpcY4fh7bpshm4iMTF\nzMYD3wEXmtlmM+sA9AXqmNk6oE7oOsBsYAOwHhgMPADgnNsF/B+wKPTvhdCxNFegAJQtm8GKSP/7\nH2TLBk88Ee+QSZMgZ84stpQtRqtW5Di8j0YRs7SkTSQVRAYdQEQyjlmzoGvEVNylV2IVKgQdR0Qk\n5T74AHbtwnXoyPBuULMmVKkSdCiRrMs51yKem2rHMdYBXeI5zzBgWCpGS7KqVTPQcratW2HYMN/o\nrUyZOIecOOHbJd16qy+CZTm1akHJkjzsxtJ84l288gpYXF21RCRJNBNJRAA4fhx+mrmZq44vxO7S\nUjYRySSGDIHy5fm5aG2WL1dDbRFJuWrVYPVqiI4OOgnw+utw7Bg8+WS8QxYuhC1bsuBSthgREdC8\nOTX/ns2+jbtZuDDoQCLhTUUkEQHghx/gpt3T/RX1QxKRzODXX+GLL6BDB0aOzkaOHNCsWdChRCTc\nVa0KR4/6l5hA7dwJ770HLVvCBRfEOyxmKVv9+umYLaNp1YqI6ChaRE5hwoSgw4iENxWRRATwS9nu\nYirHL6oKF14YdBwRkZQbNgyyZSOqZTvGjoWGDaFIkaBDiUjYWbjQV2AOHwb8TCTIAH2R3noLDh2C\nnj3jHRKzlK1u3Sy6lC1G9epQuTIPFBrLpEl+Br6IJI+KSCICwLcfbOcGFhBxt2YhiUgmEB0Nw4dD\nvXrMXlaGnTu1lE1EkunQIf9r20svAXDxxf5woEWkvXuhf3+/EUoCjd6+/da3TcqyS9limEGrVlTb\nOZ/IvzYxb17QgUTCl4pIIsKmTVBx5YdEcEK7solI5jB7Nvz5J3TqxMiRULIk3HJL0KFEJCzVqgWt\nW8Mrr8Dq1eTNCxUqBNxce8AAX0h6+ukEh02erKVsJ7VsCcC9OcczdmzAWUTCmIpIIsJHH0ETphJV\n9gK49NKg44iIpNyQIVCyJDuuuo1Zs/z3v0jtSSsiyfXaa5A3L9x/PzhHtWoBzkQ6eBD69YN69eDK\nK+MdFrOU7bbbIH/+dMyXUVWsCFdfTac8Y5k69eTqRBE5S0kqIplZXTNbY2brzaxHHLfnNLOJodu/\nN7PyoeNFzWyemR0ws3dOu091M1seus/bZtpoUSQo86bvpjZfkL15E+15KiLhb8sWXx2/917GTc5O\ndDS0bRt0KBEJa+ecA337wpdfwpgxVK0Ka9ZAVFQAWQYN8k21E5mF9M03fkJm06bplCscNG9O2d3L\nOGf/OmbODDqMSHhKtIhkZhHAAKAeUAVoYWanL7ztAOx2zlUE+gGvhI4fAZ4FusVx6oFAZ6BS6F/d\n5DwBEUmZQ4cg37yZZCcau0v9kEQkExgxwv8E3749I0dCjRr/NMIVEUm2Tp3gmmvg8ce5svwuoqNh\n3bp0znD0qJ8VddNNcP31CQ4dNMhPnrrjjnTKFg5CbRvuzT9VS9pEkikpM5FqAuudcxucc1HABKDh\naWMaAiNDl6cAtc3MnHMHnXNf44tJJ5nZuUAB59x3zjkHjAIapeSJiEjyzJ0LDY5N5XDxsnDVVUHH\nERFJmRMnYOhQ+Pe/WXqwIj/9pFlIIpJKsmWD996DXbv496d+cUa6L2kbMcJ3yn7mmQSH/fEHjB/v\n615ayhZLuXJQsyZt8kzh449h166gA4mEn6QUkUoDm2Jd3xw6FucY51w0sBcomsg5NydyThFJB59P\n38+tzCF7szu1lE1Ewt/cufDbbycbamfPDi1aBB1KRDKNyy6DRx6h2LTBXG/fpm9z7Z07oU8fqFkT\natdOcGi/fv5j3WOPpVO2cNKkCWW3/UipY78zeXLQYUTCT1KKSHF9q3TJGJOs8WbW2cwWm9niHTt2\nJHBKETlbzkHUB7PJxVEi79ZSNhHJBIYMgcKFOXZHY8aMgQYNoGhCP2uJiJyt3r2hbFmGZr+P1cuP\npc9jHjkCjRrB9u3w9tsJ/vD3998weLDfjKxs2fSJF1aa+M+8D5wzjTFjAs4iEoaSUkTaDMR++SkD\nbI1vjJlFAgWBhCYHbg6dJ6FzAuCcG+Scq+Gcq1G8ePEkxBWRpFq2DG7aNY1DBc6B664LOo6ISMrs\n3AnTp0ObNnzyZS527IB27YIOJSKZTr580L8/F0Ytp/rXb6X94zkHHTr4TtmjRsHVVyc4fMAA3/Py\niSfSPlpYuuACuPxyWuScytdf+6V/IpJ0SSkiLQIqmVkFM8sBNAdmnDZmBhDTceAuYG6o11GcnHN/\nAvvN7JrQrmz3AB+edXoRSZFPph/mdj6Cho0gIiLoOCIiKTN6tN8qqWNHRoyAEiXg1luDDiUimVLD\nhqyq3ICuO3txZE0aVyF694Zx4+Cll+DuuxMceugQ9O8Pt9+uDQUS1KQJZTd+Sym2MG5c0GFEwkui\nRaRQj6OuwBxgFTDJObfCzF4wswahYUOBoma2HngM6BFzfzP7HXgDaGdmm2Pt7HY/MARYD/wKfJw6\nT0lEkurv8Z+Sj4PkaaOlbCIS5pzzS9lq1uTvUpcwcya0bu17IomIpIX1D74NwNH7Hkq7Bxk1Cl54\nAdq3hx49Eh0+fLiflPnkk2kXKVO46y4AHj9/OmPG+LcQEUmayKQMcs7NBmafduy5WJePAE3juW/5\neI4vBlQfFwnIjh1Qbe1UDucqTO6bbw46johIyixcCCtXwuDBjB8Px45pVzYRSVvn//s8etObV7/s\nDh9+CA1P38A6hebPh44doVYtGDgw0Q1QoqPhtdfgmmvghhtSN0qmc9FFUKUKzaKn8vjKrixdCpdf\nHnQokfCQlOVsIpIJzZkZRQNmcLBOQ/1ULyLhb+hQyJsXmjVjxAi48kq49NKgQ4lIZlapErwT8Qh/\nFr8EHnwQDhxIvZOvWQONG/v+PVOmQI4cid5lyhT4/Xc/C0kb7iZBkyaUWv8V50ZsZ+zYoMOIhA8V\nkUSyqD9GzKUQeynSUUvZRCTM7d8PEyZAs2b88kd+fvxRs5BEJO3lyAHnX5idfpXfg02b4PnnU+fE\nO3f6pkaRkfDRR1C4cKJ3cQ5eecVPsGnQINHhAtCkCXbiBE9X/YDx4+H48aADiYQHFZFEsqCoKCiz\ncCqHs+cn2611go4jIpIyEyfCwYPQsSMjR/rJlS1bBh1KRLKCatVg6p/XQadO0K8fLF2ashMeOQKN\nGsHmzX6J3PnnJ+lun30GP//sd2TLpm94SXPppVCxIncylS1b/OpBEUmcXmJEsqBv5kdz27EP+Pua\nOyBnzqDjiIikzJAhUKUK0TWuYfRouOMOKFYs6FAikhVUrQobNsDBZ/v6GUP33QcnTiTvZM5Bhw7w\nzTe+ofa11yb5rq+8AqVKQatWyXvoLMkMmjSh5Mq5lM27S0vaRJJIRSSRLGjloK8pzk6K/ldL2UQk\nzC1fDt9/Dx07MudTY9s2LWUTkfRTLbRN0KptReD1132T/yFDkney3r1h3Dh46SW4++4k323xYpg7\nFx55RL8NnrUmTbDoaJ67fAZTpviJYCKSMBWRRLKgAp9N5Ui23ORuVDfoKCIiKTN0qF+/1qYN770H\n55wDt90WdCgRySqqVvV/V6wA2rSBm2/2na23bTu7E40aBS+8AO3bQ48eZ3XX//0PChSA//737B5S\ngBo1oFw5GkZPZd8+34JKRBIWGXQAEUlfa1efoNbeaWy5tC4X5M0bdBwRkeQ7ehRGj4bGjfl1bzE+\n+giee04bTopI+rngAt9g+5df8MujBg70vXZKl4ayZX1PowoVzvxbvPg/W6jNnw8dO0KtWvDee2e1\ntdr69TB1qu+FVKBA2jzHTC20pK3YgAFULLGPMWMK0EQT9UUSpCKSSBazZOD3NGcr29vpHVKCY2Z1\ngbeACGCIc65vHGPuBnoDDljqnFOrZDnVBx/Arl3QoQMDBkBEhH6JF5H0FRkJF18cmokEfnu0uXNh\nzhzfLOm332DWrDNnJuXN64tJFSrA119DxYq+GnSWVfDXX/cZHn44dZ5PltSkCdavH89dOYuOs1uy\ne3eSNsQTybJURBLJYrJNn8oxy06J9ncEHUWyKDOLAAYAdYDNwCIzm+GcWxlrTCWgJ3C9c263mZUI\nJq1kaEOGwHnnceCa/zC0KTRtCueeG3QoEclqqlaFBQtiHbjhBv8vtoMH4ffffVEpprgUc7lCBZgy\nBQoVOqvH3bYNhg/3feD02pcC114L557LHUenEhXVkilT/GZ7IhI3FZFEspC9exxXbZrKr+fX4aKC\nBYOOI1lXTWC9c24DgJlNABoCK2ON6QQMcM7tBnDObU/3lJKx/fYbfP45PP88o8dmY98+eOihoEOJ\nSFZUrZrvh71vXwJLyvLm9dWmmCZKqeDttyEqCrp1S7VTZk3ZssGdd1Jo2DAur3SQsWPzqogkkgA1\n1hbJQn54/ycq8DsRd2spmwSqNLAp1vXNoWOxVQYqm9k3ZrYwtPxN5B/DhoEZrt299O/ve6NefXXQ\noUQkK4qpC61cmfC41LR/P7z7LjRuDJUrp9/jZlpNmmCHD/PUlZ8wfz5s3Bh0IJGMS0UkkSzk8Nip\nRBNBhUcaBh1Fsra4Ooa6065HApWAm4EWwBAzi3Oev5l1NrPFZrZ4x44dqRpUMqjjx/0ajrp1+WJt\nWVatggcfPKtetCIiqaZaNf/3l1/S7zEHD4Y9e6B79/R7zEztxhuheHHqHpwCwPjxAecRycBURBLJ\nIo4fh4tWTmP1OTcTeU7RoONI1rYZKBvrehlgaxxjPnTOHXPO/QaswReVzuCcG+Scq+Gcq1G8ePE0\nCSwZzJw5sGULdOhA//5QogQ0axZ0KBHJqsqXhzx5YjXXTmNRUfDGG3DTTZqBmWoiI6FRI/J/OYt/\n1TzC2LFBBxLJuFREEskilk9eReXjqzlc786go4gsAiqZWQUzywE0B2acNuYD4N8AZlYMv7xtQ7qm\nlIxryBAoXpzfqtVn5kzo3Bly5gw6lIhkVdmy+R3a0msm0rhxvo7+5JPp83hZRpMmcOAA3a/4jOXL\nYdmyoAOJZEwqIolkETvenw5Axce1lE2C5ZyLBroCc4BVwCTn3Aoze8HMGoSGzQH+NrOVwDzgCefc\n38Eklgzlr79g5kxo25YBg3MQEQH33Rd0KBHJ6qpVS5+ZSCdOwKuvwiWXQF11C0xdtWpB4cLU3j2F\niAg0G0kkHioiiWQRpX6Yzop8V1O42un9i0XSn3NutnOusnPuAudcn9Cx55xzM0KXnXPuMedcFefc\nJc65CcEmlgxj1CiIjuZQiw4MHep/OC6tlzURCVjVqvDnn7BrV9o+zkcf+Qbe3burD1yqy54dGjQg\n16czuL1OFOPH+6KdiJxKRSSRLOCvRZuoemgx269vHHQUEZHkc84vZbvhBsYsvog9e3xDbRHJHMzs\nUTNbYWa/mNl4M8sVWvr8vZmtM7OJoWXQmFnO0PX1odvLB5k9prl2Ws5GWrECnn0WypVTH7g006QJ\n7NnDI5fNY9MmWLAg6EAiGY+KSCJZwIY3PgDg3AdURBKRMLZgAaxbh+vQkbffhiuugOuuCzqUiKQG\nMysNPATUcM5VAyLwPfNeAfo55yoBu4EOobt0AHY75yoC/ULjAlO1qv+bFkWkxYuhcWNfqFq3Dl5/\n3U+akTRQpw7ky8cN26aSN6+WtInERUUkkSwg/+fTWRNZhQvrVw46iohI8g0dCvnz81WJu1ixAh56\nSMs5RDKZSCC3mUUCeYA/gVrAlNDtI4FGocsNQ9cJ3V7bLLhXhLJlIX/+1Guu7RzMnw+33gpXXQVf\nfulnIW3cCHfdlTqPIXHIlQvq1yf7rOk0aRjN5Mlw9GjQoUQyFhWRRDK5o1v/5uKdX/HrJY31ZUtE\nwteePTB5MrRsyZuD81KsGDRvHnQoEUktzrktwGvARnzxaC/wI7AntCEDwGYgpgtaaWBT6L7RofFF\n0zNzbGZ+NlJKZyI5Bx9/DDfeCDffDD//DH37wh9/wAsvQNHAnmEW0qQJ7NxJl0sXsGeP/+8hIv9Q\nEUkkk1vXbyaRHCdfGy1lE5EwNn48HD7Mn7d3ZMYM6NzZ/2AsIpmDmRXGzy6qAJQC8gL14hjqYu6S\nwG2xz9vZzBab2eIdO3akVtw4paSIdOIETJkC1avDbbf5GUf9+8Nvv8GTT0KBAqmbVRJQty7kzk2N\nP6ZSpIj/7yIi/1ARSSSTc9Oms5FyVO90ZdBRRESSb8gQuOwy3lxQHTO4//6gA4lIKvsP8Jtzbodz\n7hgwDbgOKBRa3gZQBtgaurwZKAsQur0gcMbeaM65Qc65Gs65GsWLF0/TJ1CtGuzYAdu3J/0+0dF+\n08mqVaFpUzhwwK/cXb8eunaFPHnSLq/EI29euO02sn0wjUYNTjBzJkRFBR1KJONQEUkkMzt4kEq/\nfcqS8xqRN5/WsolImFqyBJYsIeqejgweYjRuDGXKBB1KRFLZRuAaM8sT6m1UG1gJzANiugC1BT4M\nXZ4Ruk7o9rnOuTNmIqWns22u/euv8K9/Qdu2kCMHTJgAq1ZB+/b+ugSoSRP480/aX/wd+/bBF18E\nHUgk41ARSSQT2zp8DrncEVxDLWUTkTA2dCjkzMmEiFbs3u0baotI5uKc+x7fIHsJsBz/PWUQ8CTw\nmJmtx/c8Ghq6y1CgaOj4Y0CPdA99mmrV/N/Emms7B4MHw2WX+aLR6NG+91GzZhARkfY5JQluvx1y\n5ODqLVPJnx+mTg06kEjGkaQikpnVNbM1ZrbezM54gTaznGY2MXT792ZWPtZtPUPH15jZrbGOP2pm\nK8zsFzMbb2bqbCCSyvaOmM5OinJ51xuCjiIikjyHD8PYsbgmTXh9WGEuuwxu0EuaSKbknOvlnLvI\nOVfNOdfGOXfUObfBOVfTOVfROdfUOXc0NPZI6HrF0O0bgs5fsiQULpzwTKTt26FRI9/X7eqrYdky\naN1aO01mOAUKwK23EvnBVO643fHhh37poYgkoYhkZhHAAHxjuypACzOrctqwDsBu51xFoB/wSui+\nVYDmQFWgLvCumUWYWWngIaCGc64aEBEaJyKp5dgxyiydxYKC9alQKTLx8SIiGdHUqbB3L8uu6siy\nZfDgg/qyJSIZU8wObfHNRJo5089WmjMH3ngDPvsMypZN34xyFpo0gY0b6XDZYnbuhAULgg4kkjEk\nZSZSTWB96FeAKGACfueE2BoCI0OXpwC1Q2uZGwITQr8i/AasD50PIBLIHWqEl4d/muSJSCo4NPtL\n8kfvYc+/tZRNRMLYkCFwwQW8uOAmihSBli2DDiQiEr9q1fxMpNjdmQ4c8DOPGjSAUqVg8WJ49FHI\npsYiGVuDBhAZyY3bp5ArF0ybFnQgkYwhKS9dpYFNsa5vDh2Lc4xzLhrYi1+zHOd9nXNbgNfwDfT+\nBPY65z6N68HTc1tOkczkr4HTOUBeLrivTtBRRESSZ+1amD+fPXe2Z/qH2ejUCXLnDjqUiEj8qlaF\nPXvgzz/99e++g8sv9/Xw7t3h++//6Z0kGVzhwvCf/5Djg8nUvdUxbRqcOBF0KJHgJaWIFNek8dN3\nPohvTJzHzawwfpZSBaAUkNfMWsf14Om5LadIpnHiBEUWfMAXkXW5tpa+cYlImBo8GCIjGXC4Pc7B\n/fcHHUhE5P/Zu/M4Hev9j+Ovz+yMGWMZZSdEqE4Zok6ULUsRkb1EtFBKp9J+WhRKqCMltKCEkiWi\nkrRiKimkbFmSfZ995vv7476dn6MZMxhzzT3zfj4e92Ou+3t/r8v7ynGuuT/f6/u9Tu5YgWjlSnj8\ncd8abmlpsGQJDB8O4eGexpNT1bkzbNpEv3o/8OefsHy514FEvJeTItI24PjZuhX4+9Sz//bxT08r\nDuw7yb7NgU3Oud3OuVTgA+Dy0zkBEfk7t2w5MQk7+OPSDoSGep1GROQ0JCfDm2+S3rYdo949l+uv\nh8qVvQ4lInJyder4fnbtCk8/Db16wU8/QePG3uaS03T99RASQtN9MwkN1VPaRCBnRaQVQA0zq2pm\nYfgWwJ5zQp85wM3+7U7AYuec87d39T+9rSpQA1iObxpbQzMr6l87qRmw9sxPR0QAdr42i1RCKH1z\nW6+jiIicnlmzYM8ePj2vP3v3+hbUFhHJ72JjoVIlCA2FmTPhzTeheHGvU8lpK1kSmjUjYu4MmjX1\nTWlzJ87JESlksi0i+dc4GggsxFfome6cW21mT5lZO3+3iUApM1sPDAaG+PddDUwH1gAfAwOcc+nO\nuWX4FuD+AfjZn2N8rp6ZSGHlHKHzZrGYpjTvFON1GhGR0zN+PK5KFR5a3IK6daFJE68DiYjkzNKl\nsG6d7+FeUgB06gQbNtCv/ko2bvTdWSZSmOXomQDOufnOufOdc9Wcc0P9bY875+b4t5Occ52dc9Wd\ncw2ccxuP23eof7+azrkFx7U/4Zyr5Zyr65zr5ZxLzu2TEymU1qyh1N7f+bFKB8qU8TqMiMhp+O03\n+PxztrXqx48/BTFwoO/R2SIigaByZShd2usUkmuuvx6Cg2l1eAZBQXpKm4geLClSwBydMosMjLBO\n7b2OIiJyeiZMgOBgXtx/C8WKQffuXgcSEZFCq3RpaNqUoh/NoPGVTusiSaGnIpJIAZM47UO+oyFN\nupb1OoqIyKlLToY33q+ago0AACAASURBVCCldTtem1OW7t0hKsrrUCIiUqh17gzr19O/4SrWrIFf\nf/U6kIh3VEQSKUi2bKH05u/5NKoDl1zidRgRkdMwezbs2cPCSv1JTITbbvM6kIiIFHodOkBwMG0T\nZgCa0iaFm4pIIgVI+vsfApDY8nqC9K9bRALR+PG4ypV5bGkL6tWDSy/1OpCIiBR6pUvD1VcTvXAG\nlzXQlDYp3PQ1U6QAOfz2LH6hDvW71/A6iojIqVu/Hj77jK3X9OOnX4J1F5KIiOQfnTrBb79x+xU/\n88MPsHmz14FEvKEikkhBsWcP0T8tZU5QB1q08DqMiMhpeP31/y6oHRUF3bp5HUhERMSvQwcICqJd\niqa0SeGmIpJIQTF3LkEugy31OmgRWhEJPCkpvgW1W13Ha3PL0aMHFCvmdSgRERG/MmXgqqso+ekM\nLr7IqYgkhZaKSCIFRMI7s9hMZWp21YraIhKAZs+G3bv5uGJ/kpKgf3+vA4mIiJygc2dYt47br1zN\nN9/Ajh1eBxLJeyoiiRQER44QtmQRH3I9ba81r9OIiJy68eNxlSrx6NKW1K+PnjApIiL5j39KW8f0\nGTgHH37odSCRvKcikkhB8PHHhKQls7xcB2poTW0RCTQbNsCnn7Kl5a38vEYLaouISD51zjnQuDGx\nX8ygZk30lDYplFREEikA0mbMYjelKdPxn5huRBKRQDNhAgQHM+pAH6KioEsXrwOJiIhkoXNnbO1a\nbr9yNUuWwN69XgcSyVsqIokEupQU3EcfMYd2tLku2Os0IiKnJiUFJk0i5ZpreW1eeXr21ILaIiKS\nj3XsCGbcaDNIT4c5c7wOJJK3VEQSCXSff07o0YMsCO9AkyZehxEROUVz5sCuXSyo4FtQW1PZREQk\nXzv3XGjcmLLfzKRyZU1pk8JHRSSRAOdmfcgRK4a1aE54uNdpRERO0fjxuIoVeWTpNVx2GVx8sdeB\nREREstG5M7Z6Nbc3Wcsnn8ChQ14HEsk7KiKJBLKMDNI+mM1815qW7SK8TiMicmo2boRPPmFLi1tZ\n/Wsw/ft7HUhERCQH/FPauoXMICUFPvrI60AieUdFJJFAtmwZobt3MIsOtGnjdRgRkVM0YQIEBTHy\nQF+io7WgtoiIBIiyZeGf/6TS8hmcey588IHXgUTyjopIIoFs5kxSLZRtF7ahfHmvw4iInILUVN+C\n2i2vZfxH5enVCyIjvQ4lIiKSQ507Y7/8wu1X/cr8+ZCQ4HUgkbyhIpJIoEpLI2PqO3zk2tKkXXGv\n04iInJq5c2HnTuZX6E9yshbUFhGRAHPDDWBGz4iZJCTAokVeBxLJGyoiiQSqxYsJ2vkXb9OLtm29\nDiMicorGj8dVqMDDS1vRsCFceKHXgURERE5BuXJwxRWc9/0MSpbUU9qk8FARSSRQTZ7MkdASrIht\nS4MGXocRETkFmzbBokX80eJW1v4WrLuQREQkMHXujP28in5NfmPuXEhJ8TqQyNmnIpJIIDpyBPfB\nB7ybcSPXdwknONjrQCIip2DCBDBj5P6+FC8ON97odSAREZHT0LEjAL0jZ3DwICxe7HEekTygIpJI\nIJo1C0tI4K30nnTr5nUYEZFT4F9QO7lFW8bPr8BNN0HRol6HEhEROQ0VKsDll3P+qhkUK6YpbVI4\nqIgkEoimTGFHkapsr3wFjRp5HUZE5BTMnQt//cX88v1JSYH+/b0OJCIicgY6dyZo1U/0u+p3Zs3y\njZWIFGQ5KiKZWSszW2dm681sSCafh5vZe/7Pl5lZleM+e8jfvs7MrjmuPcbMZprZr2a21sz0VVgk\nJ3bswH36KROTetK1m2HmdSARkVPw8su4SpV45MtWXH451K3rdSAREZEz0KkTAP1KzmTvXli40OM8\nImdZtkUkMwsGxgKtgdpANzOrfUK3vsB+51x1YBQw3L9vbaArUAdoBbziPx7AGOBj51wt4GJg7Zmf\njkgh8M47WEYGbztNZZPAld3gxHH9OpmZM7O4vMwnZ8nKlbBkCRvb3MXa30O0oLaI/I/MBpnNrKSZ\nfWJmv/t/lvD3NTN7yX8dWWVml3qdXwqpChWgUSNqrZpBqVIwZYrXgUTOrpzcidQAWO+c2+icSwGm\nAe1P6NMeeMu/PRNoZmbmb5/mnEt2zm0C1gMNzCwaaAxMBHDOpTjnDpz56YgUApMnsyaqAWF1ztcj\nsSUg5XBwAjOLAu4GluVtQjlrxoyByEie29WXmBjo3NnrQCKSz2Q2yDwE+Mw5VwP4zP8efNeQGv5X\nf2Bc3scV8evUCVv5IwNabWD2bDh0yOtAImdPTopI5YGtx73f5m/LtI9zLg04CJQ6yb7nAbuBN8zs\nRzObYGaRp3UGIoXJzz/DTz/xyuFedOuGprJJoMrJ4ATA08AIICkvw8lZsmsXvPMOiTfezNtzS3DT\nTVCkiNehRCS/OMkg8/GD1W8B1/u32wNvO5/vgBgzK5vHsUV8/FPa+kTNICkJZs3yOI/IWZSTIlJm\nX1NdDvtk1R4CXAqMc85dAhzl/0cV/vfAZv3NLN7M4nfv3p2DuCIF2JQppAeF8B5d6NrV6zAipy3b\nwQkzuwSo6Jybl93BdJ0IEK++CikpTC11N6mpWlBbRP4mq0Hmc5xzOwD8P8v4++dkoFskb1SqBJdd\nRqVl0znvPE1pk4ItJ0WkbUDF495XAP7Mqo+ZhQDFgX0n2XcbsM05d2yKwkx8RaW/cc6Nd87FOefi\nYmNjcxBXpIBKT4epU/m6WCuqXRZLtWpeBxI5bScdnDCzIHzr692Xk4PpOhEAkpNh3Dhc6zYMnVmT\nJk2gTh2vQ4lIPpPjQWa/nAx0a6BB8k63btiPPzKo5Vo++wz+PPEbs0gBkZMi0gqghplVNbMwfAtl\nzzmhzxzgZv92J2Cxc87527v6n95WFd+c5eXOub+ArWZW079PM2DNGZ6LSMG2ZAls385/DvXSgtoS\n6LIbnIgC6gJLzGwz0BCYo8W1A9j06fDXX3x32SA2b4a77vI6kIjkQ1kNMu88Nk3N/3PXcf2zG+jW\nQIPkna5dITiYHm4KzsG0aV4HEjk7si0i+dc4GggsxLe43XTn3Goze8rM2vm7TQRKmdl6YDD+UQPn\n3GpgOr4C0cfAAOdcun+fu4CpZrYK+AfwbO6dlkgBNGUKSeHRfGTXceONXocROSMnHZxwzh10zpV2\nzlVxzlUBvgPaOefivYkrZ8Q5GD0aLriAJ75qQYUK0D6zFbBEpFA7ySDz8YPVNwOz/dtzgJv8T2lr\nCBw8Nu1NxBPnnAMtW1JqwRQaxGVoSpsUWCE56eScmw/MP6Ht8eO2k4BMn7HinBsKDM2kfSWgUWWR\nnEhIwM2cydzwG2l4RRHKatlICWDOuTQzOzY4EQxMOjY4AcQ7506821UC2ddfww8/8Ne/X+WTfxvP\nPAMhOfrtQ0QKoWODzGHARuAWfIPe082sL7CF///OMR9og+/pzwn+viLe6tkTevTggfZf0unlJqxe\nrenbUvDo1ziRQDB7NnbkCGPpRa/uXocROXPZDU6c0H5VXmSSs2T0aChRghE7ehEWBv36eR1IRPKr\nkwwyN8ukrwMGnPVQIqfi+uuhWDFa75tCcHATpk6FZzXfRgqYnKyJJCJemzyZfVGV+DakMR07eh1G\nRCSHNm+GWbNI7n0br08tSpcuUKZMtnuJiIgEpqJF4YYbKDpvBm2aJvHOO5CR4XUokdylIpJIfrdz\nJ27RIqa6HrRqE0SJEl4HEhHJobFjwYx3S9zJkSNaUFtERAqBnj3h4EHurzWXP/7wzeoWKUhURBLJ\n76ZNw9LTGXekJ901lU1EAsWRI/D667hOnRg2tSINGkD9+l6HEhEROcuuvhrKlaPRxilERqIFtqXA\nURFJJL+bPJk/Sl/KlsjaXHed12FERHLo7bfh4EFWXH4P69bBwIFeBxIREckDwcHQvTshC+fTs9Ue\npk+H5GSvQ4nkHhWRRPKztWvh++95LaEX7dv7plmLiOR7GRkwZgw0aMDQzxoSGws33uh1KBERkTzS\nqxekpXHXudM5cAAWLPA6kEjuURFJJD+bMgUXFMSkhK506+Z1GBGRHPr4Y/jtN3b3uIe5c6F/fwgP\n9zqUiIhIHrnoIrjwQmrHT6ZMGU1pk4JFRSSR/CojA6ZMYdU5LUkteS4tW3odSEQkh8aMgXLleHFL\nJ4KC4PbbvQ4kIiKSx3r1wpZ9x12tfmfuXDhwwOtAIrlDRSSR/OrLL2HLFkbv60WnThAW5nUgEZEc\nWL0aFi0itf8Axr8RSocOUKGC16FERETyWPfuYEaf8KmkpMDMmV4HEskdKiKJ5FdTppAaUYz3kq/X\nVDYRCRwvvQQREUyP6c++fVpQW0RECqny5aFpU8ounsL5NRxTp3odSCR3qIgkkh8lJcGMGXxZuiMl\nyxflyiu9DiQikgN798LkybgePXnhzdLUrQuNG3sdSkRExCO9emEbNjCkybcsWQJbtngdSOTMqYgk\nkh/NnQsHDzJiRy+6dPE9KVREJN97/XVITGRlk0GsXAl33QVmXocSERHxSMeOUKQIHRN9K2u/+67H\neURygYpIIvnR5MkcjSnHJ+lXayqbiASG1FQYOxaaN2fE/LoULw49engdSkRExENRUXD99RRf8B6N\nG6ZoSpsUCCoiieQ3e/bAggXMi+5OtRrB1KvndSARkRz44APYto29PQcxcyb06QORkV6HEhER8Viv\nXrBvHw9etICff4ZVq7wOJHJmVEQSyW/eew/S0nh2Sy+6ddNUEBEJEKNHQ/Xq/GdjG9LT4c47vQ4k\nIiKSD7RoAWXK0OzPyYSEwJQpXgcSOTMqIonkN5Mns7vcRaziIk1lE5HAsGwZfPcdaXfezavjg2jd\nGqpX9zqUiIhIPhASAt26Eb5oLp2a7eeddyA93etQIqdPRSSR/GT5cli2jKkhvfnHP6BWLa8DiYjk\nwJgxEB3NrOK9+esv34LaIiIi4tezJ6SkcF/lmWzfDkuXeh1I5PSpiCSSnwwfTnp0DI9tuZXu3b0O\nIyKSA7/9BtOnQ79+jJ4YRfXq0LKl16FERETykXr1oFYtLlk9magoTWmTwKYikkh+8euvMGsW3146\nkCNE0aWL14FERHLgiScgIoJVrR7gm29gwAAI0m8XIiIi/88MevUi+Osv6d9yMzNnQmKi16FETo9+\nzRPJL0aMwEVEMOTPu/nnP6FSJa8DiYhk46efYNo0GDSI0e+UITISevf2OpSIiEg+5J9mcEf0VA4d\ngnnzPM4jcppURBLJD7ZuhcmT2dLyVr7+LVZfwkQkMDz2GMTEsK/Pv3jnHd9TjGNivA4lIiKSD1Wp\nAo0bc943kylX1jF1qteBRE6Pikgi+cGLLwJw/477KF/et/aeiEi+9t13MHcu3H8/E94vQXKybyqb\niIiIZKFnT2zdOu5v+j3z58PevV4HEjl1KiKJeG3vXhg/np3NuzNjeWXuvx/Cw70OJSKSjUcegTJl\nSOp/N//5D1x9NdSt63UoERGRfKxzZwgLo0fGZFJT4Z13vA4kcupURBLx2ssvQ0ICTxx5gNKl4dZb\nvQ4kIpKNxYt9r4cfZtTrxdi61TezTURERE4iJgauu47YT9+lYb1UXn0VnPM6lMipyVERycxamdk6\nM1tvZkMy+TzczN7zf77MzKoc99lD/vZ1ZnbNCfsFm9mPZqZlxaRwOnIEXn6ZA03a89pXdbj3XoiM\n9DqUiMhJOOe7C6lCBXa0u41nn4UOHXx3IomIiEg2evWC3bt56spPWLMGvvrK60AipybbIpKZBQNj\ngdZAbaCbmdU+oVtfYL9zrjowChju37c20BWoA7QCXvEf75hBwNozPQmRgDVhAuzbx4igIURHaz0R\nEQkA8+b51kN6/HEefSaC5GR4/nmvQ4mIiASI1q2hZEmu3jaZ4sVh3DivA4mcmpzcidQAWO+c2+ic\nSwGmAe1P6NMeeMu/PRNoZmbmb5/mnEt2zm0C1vuPh5lVANoCE878NEQCUEoKjBzJ0fpNGLakIQMH\nQvHiXocSETmJjAx49FGoXp0fLurNG2/APfdAtWpeBxMREQkQYWHQpQsh8z6kf9dDzJwJu3Z5HUok\n53JSRCoPbD3u/TZ/W6Z9nHNpwEGgVDb7jgYeADJOObVIQTB1KmzbxivRD1GkiO+LmIhIvjZjBqxa\nhfv3k9xzfyilS/tmtomIiMgp6NULkpK4t9x7pKbCG294HUgk53JSRLJM2k5c/iurPpm2m9m1wC7n\n3PfZ/uFm/c0s3szid+/enX1akUCQng7Dh5Nc5xIe+rwl/ftDbKzXoURETiItDR5/HOrW5f3Qrnz5\nJTzzjO6gFBEROWUNG8KFF1J21is0aex47TXfzb4igSAnRaRtQMXj3lcA/syqj5mFAMWBfSfZ9wqg\nnZltxjc9rqmZTcnsD3fOjXfOxTnn4mL1LVsKitmzYd06JpcbQlCwcd99XgcSEcnG22/Db7+R8vgz\n3P9gEBddBH37eh1KREQkAJn5FkNduZJHm33Lpk2waJHXoURyJidFpBVADTOramZh+BbKnnNCnznA\nzf7tTsBi55zzt3f1P72tKlADWO6ce8g5V8E5V8V/vMXOuZ65cD4i+Z9zMGwYaVWqcfcXN9C7N1So\n4HUoEZGTSE6GJ5+EBg14cX07Nm+GUaMgODjbPUVERCQzPXpAdDRXr/kPZcrAq696HUgkZ7ItIvnX\nOBoILMT3JLXpzrnVZvaUmbXzd5sIlDKz9cBgYIh/39XAdGAN8DEwwDmXnvunIRJAFi+GFSv4sMYD\nJKcF8+CDXgcSEcnG+PGwZQv7Bj/D0GeN9u2haVOvQ4mIiASwYsXgllsI/mAmg7ruZO5c2Lo1+91E\nvJaTO5Fwzs13zp3vnKvmnBvqb3vcOTfHv53knOvsnKvunGvgnNt43L5D/fvVdM4tyOTYS5xz1+bW\nCYnke8OGkXFOWfp/fTNdu+qpRiKSzx09CkOHwlVX8cCi5iQnw/PPex1KRESkALjzTkhN5Y6Q13EO\nJui55RIAclREEpFcEh8Pn37Kpxfey/6EcB56yOtAIiLZ+M9/YOdOfrt5KJPeMO6+G2rU8DqUiBRU\nZhZsZj+a2Tz/+6pmtszMfjez9/zLa+BfLuM9M1vv/7yKl7lFTsv550OLFpR471XatEzj9dchNdXr\nUCInpyKSSF4aNgwXE0O/+Nto3x7q1vU6kIjISRw4AMOH49q0of+bl1OqFDz6qNehRKSAG4RvCY1j\nhgOjnHM1gP3AsSX9+wL7nXPVgVH+fiKBZ8AA2L6df18ymx07YO5crwOJnJyKSCJ5Zd06+OADvr10\nAFsORPPII14HEhHJxosvwv79LL76Gb74Ap5+GmJivA4lIgWVmVUA2gIT/O8NaArM9Hd5C7jev93e\n/x7/5838/UUCy7XXQqVK1PtuLBUrwrhxXgcSOTkVkUTyyogRuPBw+v98Ny1aQP36XgcSETmJ3bth\n1CjSb+hMv1cuoW5duPVWr0OJSAE3GngAyPC/LwUc8D/oB2AbUN6/XR7YCv99ENBBf3+RwBIcDHfc\ngS35nIevX8Onn8Lvv3sdSiRrKiKJ5IVt22DyZH5ucCurd5fh4Ye9DiQiko1hwyAhgTeqPMWmTTB6\nNISEeB1KRAoqM7sW2OWc+/745ky6uhx8dvxx+5tZvJnF7969OxeSipwFfftCWBi9Do0lJMT3UFSR\n/EpFJJG8MGoULiODO9bfx+WXQ5MmXgcSETmJ7dth7FgSO9/E4PG1aNcOmjXzOpSIFHBXAO3MbDMw\nDd80ttFAjJkdK2FXAP70b28DKgL4Py8O7DvxoM658c65OOdcXGxs7Nk9A5HTFRsLXbsS+f7bdGt7\niDfegKQkr0OJZE5FJJGzbe9eeO01NlzWnW/+rMIjj4Bm7ItIvjZoEABP8ThJSfDCCx7nEZECzzn3\nkHOugnOuCtAVWOyc6wF8DnTyd7sZmO3fnuN/j//zxc65v92JJBIwBgyAI0d4pNJk9u6FmTOz30XE\nCyoiiZxtzz4LR49yz/YH+Mc/oHVrrwOJiJzEzJnw/vv8eduTDJ9elbvugho1vA4lIoXYg8BgM1uP\nb82jif72iUApf/tgYIhH+URyR4MGEBfH+Z+OpUZ1pwW2Jd9SEUnkbPrmGxg1ig3Nb+OjP+ry8MO6\nC0kEwMxamdk6M1tvZn/7xd/MBpvZGjNbZWafmVllL3IWOnv2wIABuHr16LXyPkqWhMce8zqUiBQ2\nzrklzrlr/dsbnXMNnHPVnXOdnXPJ/vYk//vq/s83eptaJBcMGICtXcvQ5p/zzTewapXXgUT+TkUk\nkbMlMRH69MFVrEivv56nZk3o2NHrUCLeM7NgYCzQGqgNdDOz2id0+xGIc85dhO/RzSPyNmUhdc89\nsH8/i7q9weKlITz9NMTEeB1KRESkkOjSBUqVot22sYSHw6uveh1I5O9URBI5W554Atat49u+E/n2\nlyiGDPE9wVNEaACs948up+BbQLX98R2cc5875xL8b7/Dt5iqnE1z58LUqRy591F6DruQevWgXz+v\nQ4mIiBQiRYpA376EL5jNHdduZfJkOHzY61Ai/0tFJJGz4bvvYORIkm7uT+fXmnPBBdCjh9ehRPKN\n8sDW495v87dlpS+w4KwmKuwOHIDbbsNddBF9fxvCoUPw1lsQEpL9riIiIpKLbr8dMjK4r9hrHDkC\n77zjdSCR/6UikkhuS0qCW27BVajA7YeeZ9cumDIFQkO9DiaSb2S2MlimT9Qxs55AHPB8lgcz629m\n8WYWv3v37lyKWMjcdx/s2sXHN05i+odhPP001KnjdSgREZFCqGpVaNuW8gtep17dZMaNAz13UPIT\nFZFEctu//w2//srn3Sfw1qxonnwSLr3U61Ai+co2oOJx7ysAf57YycyaA48A7Y4tpJoZ59x451yc\ncy4uNjY218MWeAsXwqRJHL7jAXqMrEejRr6akoiIiHhk4EBs1y6G1X+fn36CZcu8DiTy/1REEslN\ny5fD889zpFs/Oo5rweWXwwMPeB1KJN9ZAdQws6pmFgZ0BeYc38HMLgFew1dA2uVBxsLh0CHo1w93\nwQXctP5xkpLgzTe1fpuIiIinWrSA6tW5es1YihXTAtuSv6iIJJJbjk1jK1+ertteID0d3n5ba4qI\nnMg5lwYMBBYCa4HpzrnVZvaUmbXzd3seKAbMMLOVZjYni8PJmRgyBLZt46OOk/jw4wieew7OP9/r\nUCIiIoVcUBDceSfBy75hSKsfee892LfP61AiPioiieSWp56CNWuY1fp1PvoymtGjoVo1r0OJ5E/O\nufnOufOdc9Wcc0P9bY875+b4t5s7585xzv3D/2p38iPKKVuyBMaN4/Ct99Lj5YY0aQJ33eV1KBER\nEQGgd28oWpTb08eSlOR74IVIfqAikkhuWLEChg9nX8e+dH/rGtq1gz59vA4lIpKFo0ehb19c9ep0\n3/A06ekwaZJv4FNERETygRIloEcPSn38Di3j9vHyy5Ca6nUoERWRRM5ccjL07o0rW452v42keHF4\n/XWwzJ4/JSKSHzz6KGzcyJx2E5m3uCgvvADnned1KBEREfkfAwZAYiKjLnqDTZt8Az4iXlMRSeRM\n+aexvdFoPF//UpwJE6BMGa9DiYhk4ZtvYMwYDvYaQI/XGtOiBdx2m9ehRERE5G8uvhiuuIILvhjH\nFY0yePppSEz0OpQUdioiiZyJ+HgYPpy/Wt/Cre+3pl8/uO46r0OJiGQhMRH69MFVqkTXjc8RHAwT\nJ+rOSRERkXxr4EBswwbGXb+Q7dth3DivA0lhpyKSyOlKToZbbiGjzDm0/OVFzjsPXnzR61AiIifx\n5JOwbh0ftnmdj7+OYvRoqFjR61AiIiKSpY4d4ZxzuHDxGFq0gOeeg8OHvQ4lhZmKSCKn65ln4Jdf\nGFN7PKu3xzB5MhQr5nUoEZEsrFgBzz/Pwc630uPNFlx7re/BLyIiIpKPhYXB4MGwcCEvX7eIPXtg\n9GivQ0lhpiKSyOn44Qd47jn+uOpmBn/WlocfhkaNvA4lIpKFAwfgpptwZcvSafMLRETA+PGaxiYi\nIhIQBg2CatWo+eq93NA+jRdegL17vQ4lhVWOikhm1srM1pnZejMbksnn4Wb2nv/zZWZW5bjPHvK3\nrzOza/xtFc3sczNba2arzWxQbp2QyFm3bx/06kV67Dk0/WkU9erB4497HUpEJAspKXDDDbBhA++1\nncynK4rzn/9A2bJeBxMREZEcCQ+HkSNhzRpervMqhw/DiBFeh5LCKtsikpkFA2OB1kBtoJuZ1T6h\nW19gv3OuOjAKGO7ftzbQFagDtAJe8R8vDbjPOXcB0BAYkMkxRfKf/fuheXPchg08WmkyfyaWYPJk\nCA31OpiISCac8z16bfFitv17Aje/eTUdO0K3bl4HExERkVPSrh00a0bZcY9zW6e9vPwy7NjhdSgp\njHJyJ1IDYL1zbqNzLgWYBrQ/oU974C3/9kygmZmZv32acy7ZObcJWA80cM7tcM79AOCcOwysBcqf\n+emInEUHDkCLFrB6NfNvncWw5U15/nm44AKvg4mIZOGZZ+DNN0l++N9cN+MmoqN9T3XRNDYREZEA\nY+ZbDOngQYaFP0FqKgwd6nUoKYxyUkQqD2w97v02/l7w+W8f51wacBAolZN9/VPfLgGW5Ty2SB47\neBBatoRVq/jmvvfp+HprWraEO+/0OpiISBamTIHHHyej5010+ulxVq2Ct96CMmW8DiYiIiKnpW5d\nuOMOir/7Ko91+IXx42HzZq9DSWGTkyJSZuOVLod9TrqvmRUD3gfucc4dyvQPN+tvZvFmFr979+4c\nxBXJZYcOQatWsHIln90xkyuHX0tcHEybBkFaml5E8qMlS6BPH9zVV3NP5OvM+8h4+WVo08brYCIi\nInJGnnwSoqN5YMc9BJnjySe9DiSFTU6+Am8DKh73vgLwZ1Z9zCwEKA7sO9m+ZhaKr4A01Tn3QVZ/\nuHNuvHMuzjkXIJwbegAAG6JJREFUFxsbm4O4Irno8GFo3Rri45nbazrNX2pH8+awaBGUKOF1OBGR\nTKxdCx06QPXqjG36AS+/Fsa//qU7J0VERAqEUqXgySeJ+OozxrWew9tv+y79InklJ0WkFUANM6tq\nZmH4Fsqec0KfOcDN/u1OwGLnnPO3d/U/va0qUANY7l8vaSKw1jn3Ym6ciEiuO3IE2rTBLVvGtA7T\naDfpem64AebMgchIr8OJiGRi507f7UZhYcwfOJ+7HouhUycYPtzrYCIiIpJrbr8datfmpp/uI6ZI\nsp4ULXkq2yKSf42jgcBCfAtgT3fOrTazp8ysnb/bRKCUma0HBgND/PuuBqYDa4CPgQHOuXTgCqAX\n0NTMVvpfusle8o+jR6FtW9y33/Jmy3fpNuMG+vTxTWELD/c6nIhIJhIS4LrrYOdOVj07jxvuq0Kj\nRvD225p6KyIiUqCEhsKoUQRv3sC7Dccwcyb88IPXoaSwCMlJJ+fcfGD+CW2PH7edBHTOYt+hwNAT\n2r4i8/WSRLzn/yLmvvqKV/85lTsXdObee2HkSD3RSETyqfR06NED4uPZ8cosmg2pT4UKvjsnixTx\nOpyIiIjkupYt4brraPH509SKuYlHHz2X+fOz303kTGlsUuR4iYnQrh3uiy8Yfcnb3Lm0K089pQKS\niORz//oXfPghR54ZTeOR7XEO5s+H0qW9DiYiIiJnzciRWHIy71V/hAUL4KuvvA4khYGKSCLHJCZC\n+/a4xYsZXutNBn/fg5degsceUwFJRPKxl16C0aNJGzCIVvPvZutWmD0batTwOpiIiIicVTVqwKBB\nXPj9G1xTKp6HHwZ34nPURXKZikgiAElJ0KED7tNPeabqJB5d14u33oK77vI6mIjIScyeDffcg2vX\nnh47R/L11zB5MlxxhdfBREREJE88+igWG8sbxe/hyy8dixZ5HUgKOhWRRJYvh3r1YOFCHi83gWe2\n9WbmTLjpJq+DiYicxOLF0L07xMXx2HlTmT4zmBEjoHOmKxSKiIhIgVS8ODz7LGU3fs3A0u/xyCO6\nG0nOLhWRpPBKSoKHHoJGjUjde5A+ZRcw6kAf5s+H66/3OpyISBacg7FjfQtqVqnCWzfMYejoSO64\nw7c0koiIiBQyvXvDJZcwLON+1nyfwKxZXgeSgkxFJCmcVqzw3X00bBgr6vSm7J5fmJPSis8+g2bN\nvA4nIpKFlBS47TYYOBBat2bRk9/S5+FzadvWtzSS1m8TEREphIKDYcwYIvdt4/nSI3j0Ud+DW0XO\nBhWRpHBJTvbdfdSwIYk7D9K7zHwa/DyRdjfFsHYtXHaZ1wFFRLKwa5evyv366/DQQyy840M69o7m\n4oth2jQICfE6oIiIiHjmyiuhSxduOzSCI2u38NxzXgeSgkpFJCk8VqyASy+FYcP4tEJvyu79hfjY\n1ixdCpMmQWys1wFFRLKwciXUrw/x8aS8+Q6Djj5Lq7bBVK4M8+ZBsWJeBxQROTNmVtHMPjeztWa2\n2swG+dtLmtknZva7/2cJf7uZ2Utmtt7MVpnZpd6egUg+MGIEwUGO9yo/yGOPwZw5XgeSgkhFJCn4\n/HcfuYYNObztIB3C59N+z0QeHh7Djz/6ivYiIvnWzJm+x62lp/PbxC+59PluvPQS3H03xMdDuXJe\nBxQRyRVpwH3OuQuAhsAAM6sNDAE+c87VAD7zvwdoDdTwv/oD4/I+skg+U6kS9sADNPpjGoOrz6FH\nD1i92utQUtCoiCQF23F3H30Q3ZuKh37BtWrNmjXwwAMQGup1QBGRLGRkwBNPQOfOuIsv5pU+8Vx4\nSxx798LHH8OYMVCkiNchRURyh3Nuh3PuB//2YWAtUB5oD7zl7/YWcOzxJ+2Bt53Pd0CMmZXN49gi\n+c+DD0JcHC9s7ULTsK9o1w727vU6lBQkKiJJwbR9OwwejGvYkH2bD9Ka+dxXfCKT58Tw4YdQubLX\nAUVETuLIEejUCZ56iqOde9Mq7HMGPH0ubdrAzz/DNdd4HVBE5OwxsyrAJcAy4Bzn3A7wFZqAMv5u\n5YGtx+22zd8mUrgVLQrz52NVKvN+yrXEbFlFly6QluZ1MCkoVESSgiU+Hnr0wFWpQsboMUwJuYXz\nk3/h4gdbs3o1XHed1wFFRLKxaRNcfjnMns2PN42iwqJJfB0fzoQJ8MEHULq01wFFRM4eMysGvA/c\n45w7dLKumbS5TI7X38zizSx+9+7duRVTJH+LjYWFCwkpXowvi7Viw2ebuO8+r0NJQaEikgS+9HR4\n/3345z+hfn0SZ8xlrA2kmlvPhIYT+OKnGIYNg8hIr4OKiGTjs8+gfn3clq2MuHoBl759DzVrGStX\nQt++YJl9ZRIRKSDMLBRfAWmqc+4Df/POY9PU/D93+du3ARWP270C8OeJx3TOjXfOxTnn4mL1FBUp\nTCpXhoULKWpJLI9pybsv7WLSJK9DSUGgIpIErkOHYNQoMqpVh06d+HPFdu7lRSoHbSO++yje/bYq\nS5ZAnTpeBxURycbmzdClCzRvTkKxWK6OXM7DS1ryxBPw1VdQvbrXAUVEzi4zM2AisNY59+JxH80B\nbvZv3wzMPq79Jv9T2hoCB49NexMRvzp14KOPKJ28na+jWnH/bYf4+muvQ0mgC/E6gMgp27gRXnqJ\n9AmTCD56mO+C/8kLjOT3au3pd3sw63pBiRJehxQRyYHDh2HYMBg5EhcUxKKGT9Bp2f2UqRrJl19C\no0ZeBxQRyTNXAL2An81spb/tYWAYMN3M+gJbgM7+z+YDbYD1QAJwS97GFQkQjRph779P9XbtmBd6\nPV06zOfr7yOoWDH7XUUyoyKSBIZDh2DRItInv4PNnU0GQbznbmRs6L2cd2Mcg2/3PQFbUz1EJCCk\np8Nbb8Ejj8Bff7GiVk+6b36ODcsq0LcvvPgiREV5HVJEJO84574i83WOAJpl0t8BA85qKJGConVr\n7M03adSzJy+n9qBj++l88VUwRYt6HUwCkYpIkn/9/jvMm0fy+/MI/W4pQelpHLBSjHcPML/qQDoM\nLM/cm6FUKa+Dioicgi++gHvvhR9/ZGOZhtwU8iHf/X4ZvXrBvCFQs6bXAUVERKTA6dED9uyh/T33\nsPPHO+nb51Xeedc0CC+nTEUkyT9SUuCrr0idNY+UWfOI3P47AL9Th48YzNcx11KybSNu7hvCkKt0\n15GIBJiNG+H+++GDD9hbtCJ32bu8v78LffsZUx6AKlW8DigiIiIF2qBBsGsX/Z99ll3vxTL8H88w\nZIjXoSTQqIgk3vrzT9yiTzg4dR5FvlxIePJhMghjKU1ZGHI3ey9ry0Xtq9KqJdx/IQRpKXgRCTSH\nDsHQoWSMGk1KRghDeZpxbjA33VOUTf+CcuW8DigiIiKFxjPP4Hbu4tGJQ7nnoVjm1R3Etdd6HUoC\niYpIknd27oTvv+fIF/EkfBFPkbXfE3XoTwxIoCzT6covldoS2a4ZV11bjGevRPN0RSRwbdoEkyaR\nOvY1Qvfv5m1u5rliz9Lp7nKsvQf0pGkRERHJc2bYq+NI272X0XPu4dbOpTnv+x7Uru11MAkUKiLJ\n2bF7Ny7+e/Z/Ek/i199TbG08xQ9vA6AoxhZq8T1N2VgyjuT6V1Kz6yVc29LorxF5EQlkSUkwaxYZ\nEyYStPgzMjA+oRUjo5/i6vvjWDYQYmK8DikiIiKFWkgIIe+9Q1LT1oz7tjd9Lo+m1/TraNnS62AS\nCFREktOXkAAbN5K8ej37v99A8i/rsU0bKLZ9HSUPb8GAksA6zucLa8z2c+uRclEcxa+6hLqNorj2\nYihRwuuTEBHJBatWwYQJZEyeQtCB/WwPrsx4nmJxxd50urcis/tBsWJehxQRERHxi4gg4uPZJDa6\nmslr2vHyNQP5avAwHhsWSWio1+EkP1MRSbKWlAQ7d5K6ZQd7f/yDIz+uJ/23DYRtXU/xPRsomfgn\nAOHAucA+SrCe6mwOvoKdle4i7R9xlGh6CXWvKE6HOlCkiKdnIyKSuw4dgnffhQkTID6e1KAwPrQO\nvMatZPyzKYPuDeLf10JwsNdBRURERDIRHU2R5UtJvf9h7hr3EhtenM+gjyfx4PwmVK7sdTjJr1RE\nKmySk3F795GwbR8H1/3FkfU7SPnjL9K37yBo51+E7fuLyEM7iE78i+i0/QCE4isSAfxJWTZQne+L\nteTgedVJq1SN0FrViL6kGuUvLEnVqlD/HD05TUQKqMOH4Ztv4N13cTNmYAkJbCpWl9GMZkZIT1r1\nKMXIQXDxxV4HFREREcmByEhCXxkDXW/gnM638Mqaqxh//kDOeWMY7btHep1O8qEcFZHMrBUwBggG\nJjjnhp3weTjwNlAP2At0cc5t9n/2ENAXSAfuds4tzMkxJRMZGWQcPkrCzsMk7DxM0u7DJO85TPLe\nw6TtO0za3oOk79kH+/cTfGAfIYf3E3Z0P0WS9lE0eT/Rafso4hIxINL/OiaBIuygLHuCz2Vz0doc\nLdOU5JJlyYg9l6DyZYmoUZGScedRuXYkjSpAiMqPIlIY7NkDX30FX34JS5fCjz9CejopEVHMiujJ\nyIS+bI2sz50PGCtvgzJlvA4sIiIichoaN6bYxlUcGPAw/d96iQ095jNq+iTumNaEiAivw0l+km0p\nwMyCgbFAC2AbsMLM5jjn1hzXrS+w3zlX3cy6AsOBLmZWG+gK1AHKAZ+a2fn+fbI7ZsBJTUwjcV8i\nSfsTST6QSNK+BFIPJZJyMJG0Q77tjCMJpB9OwB05ijuagCUc9b2SEghOPEpwSgIhyUcJTU0gLPUo\nEamHKZJ2mMiMwxRzRwgCivlfWTlCJAcowcGQkhwJLcHuiOokxZQktVgJ0qNLQokSWKmShFU6l8hq\n5xJ1flliz4uiYhmjWlge/ccSkULtTAYnzqpt2+DLL3FfLCVtyZeErlsNQGpwOGuiGvJ50Yf46HBj\nvkm6nNp1Ixk0CG68EcL0/50iIiIS6CIjiXlzDKm9bqB4pz7cO/sq3q0wkEsXDaPmpborSXxycj9J\nA2C9c24jgJlNA9oDxxd82gP/9m/PBP5jZuZvn+acSwY2mdl6//HIwTFzxdGdR1g7cj4Zyam4lFRc\nqu8nKalwbDs1FdJ8Py01FVJSsOQkSEkmKDmJoNQkglKTCUlNIiQtieD0ZELTkwhLTyLMJRGekUgR\nEgkjlVAg+hTyZWAkUJREK0piUCTJwUVJDo4kJaQoCWFlSI2uRlpEFOlFo8iIjMJFRWPRUQQVjyI4\nJorQklGElYoiIjaKiHOKE125BDFlwqgQARVy+z+miEguOJPBibOR58A3azj46AiiVy6lxP5NABwm\niq+5gqX0YCmNWVckjvNqhFOrFlxdC568Cho10tRdERERKXhCmzWm9Laf2NTtYbrNfYmNcfNZ8MAk\nWj3XRL/7SI6KSOWBrce93wZcllUf51yamR0ESvnbvzth3/L+7eyOmSv2rt1F3PPZf+/IwEgllFRC\nSSGMZIsgxSJICYogNTictOAIUkMiSAorSXpoOBmhEWSEReDCwnFFiuIiivhWji5alKDIIgRFFiG4\nWBGCo4oSGl2EkKgihMUUJax4EcJLRhJeMpIipYoSERNBsWA76Z1FIiIFzGkPTjjnXG6HWb8mhcqf\nf8RiGrOq+CB2nn8lYfUvpmbtYJrXgoG1oFw5FYxERESkEImMpOqcMex+/wbCe/ah9fCrWPThQBot\nGUbUuborqTDLSREps1+bT/wlPqs+WbUH5eCYvgOb9Qf6A1SqVCnrlFk4p14F1kz/haDwUEKKhBIc\nEfrf7WPvQ4uGEhIeTEgIFA2FYpmlExGR3HImgxN7cjtMrS4Xs/aiXbS8wLghKrePLiIiIhK4Ym9o\nTHqLn1jW8mFaLnuJrRU/Yk3XwVw8ogcRZUt4HU88kJMi0jag4nHvKwB/ZtFnm5mFAMWBfdnsm90x\nAXDOjQfGA8TFxZ3yCHR4VBi1O9c51d1EROTsOZPBib8f7AwHG4pFGfUbZN9PREREpDAKjo7ksu/G\n8NPLNxD8wGAum3IXiVPu58c6nSj72K2ce2Nj3bJdiOTknpsVQA0zq2pmYfgWyp5zQp85wM3+7U7A\nYv+UgzlAVzMLN7OqQA1geQ6PKSIiBdOpDE5wwuDE3zjnxjvn4pxzcbGxsWchroiIiIhcfFdj6iTE\ns2zcDyyp2ofzVs/h3K5XsT2qJr/3G4H7a6fXESUPZFtEcs6lAQOBhcBaYLpzbrWZPWVm7fzdJgKl\n/AtnDwaG+PddDUzHt87Fx8AA51x6VsfM3VMTEZF86kwGJ0RERETEI2Zw2e2X0HrjWA6u3cGMa99i\na/I51JjwIGllK7Dh4o4kvL8A0tO9jipniQXS7+RxcXEuPj7e6xgiIvmOmX3vnIvzOkdOmVkbYDQQ\nDExyzg01s6eAeOfcHDOLACYDl+C7A6nrsYW4T0bXCRGRzAXadeJs0DVC5OxISoKFY37l8OiJtPzr\nLcqwm/2RFUjt1YcyA2+ECy6AIC08nN/l9DqhIpKISAGgLwc+uk6IiGRO1wldI0TyQvw3KXz38BzO\nXzqB5m4RQTgSwmLYX/MyIq5qRMk2DbGGl0FMjNdR5QQ5vU7kZGFtEREREREREZGTirs8jLglndiz\npxOvjdzCkTmLKfX7t8T9/C11f34Se9mRgbG3zAWk1GtEqbaNiLi6EdSqpbuVAoSKSCIiIiIiIiKS\na0qXhjueqwTP9SY9vTdr18Lbiw+xZ/5ywr7/lmq7vqPhgllELJgIQEJYcfZXqw/nnUf4+ZWJqlOJ\n8BqVoFIlKF8eQkM9PiM5RkUkERERERERETkrgoOhbl2oWzca7m4ONGf/fli+zPHbvN9I+eJbSv72\nLXXX/kDltbMo/dHu/9k/nSAORpbjaKlKpJWthFWpTJGalShatQwRsdGEli4OxYtDdLTvZ9GivhXA\n5axQEUlERERERERE8kyJEnBNK+OaVjWBmmRk9GbTJlizFT5dn8DhNVtJ/n0LtnUL4Tv/IHr/Fsps\n2UKlLSuotOx9wkjN8thpBJMQEk1iaDRJ4cVJiShOapEoMkLCyQgJIyM0jIyQMFxIGC7U/woLg+N+\nEhLim14XFIQLCgIL+u/7/76Cg3FBQZiZr2h1rHB1/E//tgX5fjrsv9sncmTenlX/zJS6rDrV29XO\ncf/ToSKSiIiIiIiIiHgmKAiqVfO9uKooUNP/+n+JibB9O3yzJYM9v/xF8p97Sdt7EHfwEBw8iB06\nSNDRQ4QePUhI4iHCkw5SJPkgRY4eokj6TkJdCmEuhTAyf4WQ7sWp56ollz1I9XbDzuqfoSKSiIiI\niIiIiORrRYpA9epQvXoQNC0HlDut4zgHGRmQluZ/pUNSGqQlp5OWmEra0WRcWjouPQMyMnDpGf+z\nTfr/fkZGhu+ggMtw//+HnKQt01CZNWdk0T8LNc8/55T6nw5zWZ1EPmRmu4E/sulWGtiTB3Fym3Ln\nLeXOO4GYGQIvd2XnXKzXIbym60S+FIi5AzEzKHdeC7Tchf46kcNrBATe3+0xgZg7EDODcuc15c4b\nObpOBFQRKSfMLN45F+d1jlOl3HlLufNOIGaGwM0t2QvUv1vlzjuBmBmUO68Fam7JXqD+3QZi7kDM\nDMqd15Q7fwnyOoCIiIiIiIiIiOR/KiKJiIiIiIiIiEi2CmIRabzXAU6Tcuct5c47gZgZAje3ZC9Q\n/26VO+8EYmZQ7rwWqLkle4H6dxuIuQMxMyh3XlPufKTArYkkIiIiIiIiIiK5ryDeiSQiIiIiIiIi\nIrksoItIZjbJzHaZ2S8ntN9lZuvMbLWZjfAqX1Yyy21m/zCz78xspZnFm1kDLzOeyMwqmtnnZrbW\n/991kL+9pJl9Yma/+3+W8Drr8U6S+3kz+9XMVpnZLDOL8Trr8bLKfdzn/zIzZ2alvcqYmZPlzs//\nLk/yv5N8/e9SsheI14lAvEaArhN5TdeJvKXrRMEUiNcI0HUir+k6kbd0nQgAzrmAfQGNgUvh/9q5\nd1A5yjCM4/8Xomm8IMjRoJEjQgorDQoWippCVCTaWFkErIxVAl6iAW2NiqJ9hCBBiBjUQjEE8dIk\ngoEQIahNvCVG1CKCqARfix1h3ezM7gnyzTd7/j9YzuycLR5m328f+Jhdvhg7dydwEFjbPF/qO+ec\nuQ8A9zTH9wIf9Z1zIvM6YGNzfDHwFXA98Dywozm/A9jVd9Y5c98FrGnO7xpK7ub5euAD4Bvg8r6z\nznm9q16XHbmrXpc+5npvB9cTQ+yIJpc9UUHu5rk9US539WvTR+f7OriO6Mhd/SzaE3Xkbp7bE+Vy\nV782V/oY9J1ImfkJ8OvE6a3Ac5n5Z/Oan4oHm6EldwKXNMeXAieLhpohM09l5pHm+DfgOHAVcD+w\np3nZHuCBfhJO15Y7Mw9k5tnmZYeAq/vKOE3H9QZ4GXiC0cxUpSN31euyI3fV61KzDbEnhtgRYE+U\nZk+UZU8spiF2BNgTpdkTZdkT9Rv0JlKLDcBtEXE4Ij6OiJv7DjSnbcALEfEd8CLwVM95WkXEMnAj\ncBi4IjNPwWjhAEv9Jes2kXvcw8D7pfPMazx3RGwGfsjMo72GmsPE9R7MupzIPZh1qRUZzDyOGdQs\n2hNl2RNl2RMLbzCzOGFQs2hPlGVPlLXoPbGIm0hrgMuAW4DHgX0REf1GmstWYHtmrge2A7t7zjNV\nRFwEvAVsy8wzfeeZV1vuiNgJnAX29pWty3huRjl3As/0GmoOU673INbllNyDWJdasUHM44TBzKI9\nUZY9UZY9sSoMYhanGMws2hNl2RNlrYaeWMRNpO+B/TnyGfA3UNWPhbXYAuxvjt8EqvvBrYi4gNGC\n2JuZ/2Y9HRHrmv+vA6q6rRBacxMRW4D7gIcys7pbOafkvg64FjgaEScY3TJ7JCKu7C/luVqud/Xr\nsiV39etS56X6eZxiELNoT5RlT5RlT6wa1c9ii0HMoj1Rlj1R1mrpiUXcRHob2AQQERuAC4Gfe000\nn5PA7c3xJuDrHrOco9nl3Q0cz8yXxv71LqOFQfP3ndLZurTljoi7gSeBzZn5e1/52kzLnZnHMnMp\nM5czc5nRB+nGzPyxx6j/0TEnVa/LjtxVr0udt6rnsUX1s2hPlGVPlGVPrCpVz2KH6mfRnijLnihr\nNfVEVLhhOreIeAO4g9EO5GngWeB14DXgBuAv4LHM/LCvjNO05P4SeIXRbXp/AI9m5ud9ZZwUEbcC\nnwLHGO36AjzN6Hue+4BrgG+BBzNz8of+etOR+1VgLfBLc+5QZj5SPuF0bbkz872x15wAbsrMmj48\n2673QSpelx25z1DxutRsQ+yJIXYE2BOl2RNl2ROLaYgdAfZEafZEWfZE/Qa9iSRJkiRJkqQyFvHr\nbJIkSZIkSfqfuYkkSZIkSZKkmdxEkiRJkiRJ0kxuIkmSJEmSJGkmN5EkSZIkSZI0k5tIkiRJkiRJ\nmslNJEmSJEmSJM3kJpIkSZIkSZJm+gfGpfvDgPasWAAAAABJRU5ErkJggg==\n",
      "text/plain": [
       "<matplotlib.figure.Figure at 0x3044f6358>"
      ]
     },
     "metadata": {},
     "output_type": "display_data"
    }
   ],
=======
   "outputs": [],
   "source": [
    "print(len(opt_cat[opt_colname]))\n",
    "print(field.area/3600/3600)"
   ]
  },
  {
   "cell_type": "code",
   "execution_count": null,
   "metadata": {},
   "outputs": [],
>>>>>>> 93a8c5fd990faf0e43987aebebea97c125234b56
   "source": [
    "plt.rcParams[\"figure.figsize\"] = (20,5)\n",
    "plt.subplot(1,3,1)\n",
    "plt.plot(center_opt, n_m_opt,color='blue');\n",
    "plt.plot(center_opt, n_m_opt_kde_cs,color='red');\n",
    "plt.title('n (m)')\n",
    "\n",
    "\n",
    "plt.subplot(1,3,2)\n",
    "plt.rcParams[\"figure.figsize\"] = (5,5)\n",
    "plt.plot(center_opt, q_m_opt,color='blue');\n",
    "plt.plot(center_opt, q_m_opt_kde_cs,color='red');\n",
    "plt.title('q (m)')\n",
    "\n",
    "plt.subplot(1,3,3)\n",
    "plt.rcParams[\"figure.figsize\"] = (5,5)\n",
    "plt.plot(center_opt, q_m_opt/n_m_opt,color='blue');\n",
    "plt.plot(center_opt, q_m_opt_kde_cs/n_m_opt_kde_cs,color='red');\n",
    "plt.ylim(0.9*np.min(q_m_opt_kde_cs/n_m_opt_kde_cs),1.1*np.max(q_m_opt_kde_cs/n_m_opt_kde_cs))\n",
    "plt.title('q (m) / n (m)')\n",
    "plt.show()\n",
    "\n",
    "print('maximum value of n(m) is: {}'.format(np.max(n_m_opt_kde_cs)))\n",
    "varstat(n_m_opt_kde_cs)"
   ]
  },
  {
   "cell_type": "code",
   "execution_count": null,
   "metadata": {},
   "outputs": [],
   "source": [
    "'''save = [n_m_opt_kde_cs,q_m_opt_kde_cs]\n",
    "pickle.dump(save,open('help_opt_nqm.pkl','wb'))'''"
   ]
  },
  {
   "cell_type": "code",
   "execution_count": null,
   "metadata": {},
   "outputs": [],
   "source": [
    "varstat(q_m_opt_kde_cs)"
   ]
  },
  {
   "cell_type": "code",
   "execution_count": null,
   "metadata": {},
   "outputs": [],
   "source": [
    "likelihood_ratio_opt = SingleMLEstimator(Q0_opt, n_m_opt_kde_cs, q_m_opt_kde_cs, center_opt)"
   ]
  },
  {
   "cell_type": "markdown",
   "metadata": {},
   "source": [
    "### Prepare the IR likelihood ratio"
   ]
  },
  {
   "cell_type": "code",
   "execution_count": null,
   "metadata": {},
   "outputs": [],
   "source": [
    "ir_cat = opt_ir[ir_num]"
   ]
  },
  {
   "cell_type": "code",
   "execution_count": null,
   "metadata": {},
   "outputs": [],
   "source": [
    "bin_list_ir = np.arange(7, 35, 0.05)\n",
    "center_ir = get_center(bin_list_ir)"
   ]
  },
  {
   "cell_type": "code",
   "execution_count": null,
   "metadata": {},
   "outputs": [],
   "source": [
    "bandwidth_ir = 0.5\n",
    "\n",
    "mask = ~np.isnan(ir_cat[ir_colname])\n",
    "n_m_ir = get_n_m(ir_cat[ir_colname][mask], bin_list_ir, field.area)\n",
    "n_m_ir_kde = get_n_m_kde(ir_cat[ir_colname][mask], center_ir, field.area, bandwidth=bandwidth_ir)\n",
    "n_m_ir_kde_cs = np.cumsum(n_m_ir_kde)\n",
    "\n",
    "q_m_ir = estimate_q_m(ir_cat[ir_colname][mask], \n",
    "                      bin_list_ir, \n",
    "                      n_m_ir, \n",
    "                      lofar_coords, \n",
    "                      opt_ir_coords[ir_num][mask], \n",
    "                      radius=5)\n",
    "\n",
    "q_m_ir_kde = estimate_q_m_kde(ir_cat[ir_colname][mask], \n",
    "                      center_ir, \n",
    "                      n_m_ir_kde, \n",
    "                      lofar_coords, \n",
    "                      opt_ir_coords[ir_num][mask], \n",
    "                      radius=5, \n",
    "                      bandwidth=bandwidth_ir)\n",
    "q_m_ir_kde_cs = np.cumsum(q_m_ir_kde)"
   ]
  },
  {
   "cell_type": "code",
   "execution_count": null,
   "metadata": {},
<<<<<<< HEAD
   "outputs": [
    {
     "data": {
      "image/png": "iVBORw0KGgoAAAANSUhEUgAAA3oAAAE/CAYAAAAQWbGOAAAABHNCSVQICAgIfAhkiAAAAAlwSFlz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\nZBsAAAAASUVORK5CYII=\n",
      "text/plain": [
       "<matplotlib.figure.Figure at 0x519a09c88>"
      ]
     },
     "metadata": {},
     "output_type": "display_data"
    }
   ],
=======
   "outputs": [],
>>>>>>> 93a8c5fd990faf0e43987aebebea97c125234b56
   "source": [
    "plt.rcParams[\"figure.figsize\"] = (15,5)\n",
    "plt.subplot(1,3,1)\n",
    "plt.plot(center_ir, n_m_ir,color='blue');\n",
    "plt.plot(center_ir, n_m_ir_kde_cs,color='red');\n",
    "plt.title('n (m)')\n",
    "\n",
    "plt.subplot(1,3,2)\n",
    "plt.rcParams[\"figure.figsize\"] = (5,5)\n",
    "plt.plot(center_ir, q_m_ir,color='blue');\n",
    "plt.plot(center_ir, q_m_ir_kde_cs,color='red');\n",
    "plt.title('q (m)')\n",
    "\n",
    "plt.subplot(1,3,3)\n",
    "plt.rcParams[\"figure.figsize\"] = (5,5)\n",
    "plt.plot(center_ir, q_m_ir/n_m_ir,color='blue');\n",
    "plt.plot(center_ir, q_m_ir_kde_cs/n_m_ir_kde_cs,color='red');\n",
    "plt.ylim(0.9*np.min(q_m_ir_kde_cs/n_m_ir_kde_cs),1.1*np.max(q_m_ir_kde_cs/n_m_ir_kde_cs))\n",
    "plt.title('q (m) / n (m)')\n",
    "plt.show()"
   ]
  },
  {
   "cell_type": "code",
   "execution_count": null,
   "metadata": {},
   "outputs": [],
   "source": [
    "save = [n_m_ir_kde_cs,q_m_ir_kde_cs]\n",
    "pickle.dump(save,open('help_ir_nqm.pkl','wb'))"
   ]
  },
  {
   "cell_type": "code",
   "execution_count": null,
   "metadata": {},
   "outputs": [],
   "source": [
    "likelihood_ratio_ir = SingleMLEstimator(Q0_ir, n_m_ir_kde_cs, q_m_ir_kde_cs, center_ir)"
   ]
  },
  {
   "cell_type": "markdown",
   "metadata": {},
   "source": [
    "### Start the magnitude only crossmatch"
   ]
  },
  {
   "cell_type": "markdown",
   "metadata": {},
   "source": [
    "#### optical"
   ]
  },
  {
   "cell_type": "code",
   "execution_count": null,
   "metadata": {},
   "outputs": [],
   "source": [
    "import multiprocessing\n",
    "n_cpus_total = multiprocessing.cpu_count()\n",
    "n_cpus = max(1, n_cpus_total-1)"
   ]
  },
  {
   "cell_type": "code",
   "execution_count": null,
   "metadata": {},
   "outputs": [],
   "source": [
    "radius = 15\n",
    "idx_lofar, idx_opt, d2d, d3d = search_around_sky(\n",
    "    lofar_coords, opt_ir_coords[opt_num], radius*u.arcsec)\n",
    "\n",
    "# create an array of the indexs of lofar sources with a possible crossmatch within the search radius\n",
    "idx_lofar_unique = np.unique(idx_lofar)\n",
    "print('number of LOFAR sources with a possible crossmatch within {} arcseconds is {}'.format(radius,len(idx_lofar_unique)))"
   ]
  },
  {
   "cell_type": "code",
   "execution_count": null,
   "metadata": {},
   "outputs": [],
   "source": [
    "lofar[\"lr_opt\"] = np.nan                   # Likelihood ratio\n",
    "lofar[\"lr_dist_opt\"] = np.nan              # Distance to the selected source\n",
    "lofar[\"lr_index_opt\"] = np.nan             # Index of the PanSTARRS source in combined\n",
    "lofar[\"lr_reliability_opt\"] = np.nan\n",
    "lofar[\"helpid_opt\"] = ''"
   ]
  },
  {
   "cell_type": "code",
<<<<<<< HEAD
   "execution_count": 59,
=======
   "execution_count": null,
>>>>>>> 93a8c5fd990faf0e43987aebebea97c125234b56
   "metadata": {},
   "outputs": [],
   "source": [
    "#do the crossmatching for the radio to optical dataset\n",
    "#inputs: i, the index saying which radio source to do the LR analysis for\n",
    "def ml_opt(i):\n",
    "\n",
    "    #get the indexes to the radio and optical catalogues from the cross match done above\n",
    "    idx_0 = idx_opt[idx_lofar == i]\n",
    "    d2d_0 = d2d[idx_lofar == i]\n",
    "    mag = opt_cat[opt_colname][idx_0]\n",
    "    \n",
    "    lofar_ra = lofar[i][\"RA\"]\n",
    "    lofar_dec = lofar[i][\"DEC\"]\n",
    "    lofar_pa = lofar[i][\"PA\"]\n",
    "    lofar_maj_err = lofar[i][\"E_Maj\"]\n",
    "    lofar_min_err = lofar[i][\"E_Min\"]\n",
    "    c_ra = opt_cat[opt_ra][idx_0]\n",
    "    c_dec = opt_cat[opt_dec][idx_0]\n",
    "    c_ra_err = 0.35\n",
    "    c_dec_err = 0.35\n",
    "    \n",
    "    #calculate the positional error of the radio source based on the PA and major and minor axis\n",
    "    #also includes an additional error of 0.6 arcseconds added in quadrature \n",
    "    sigma, sigma_maj, sigma_min = get_sigma_all(lofar_maj_err, lofar_min_err, lofar_pa, \n",
    "                      lofar_ra, lofar_dec, \n",
    "                      c_ra, c_dec, c_ra_err, c_dec_err)\n",
    "    \n",
    "    lr_0 = likelihood_ratio_opt(mag, d2d_0.arcsec, sigma)\n",
    "    #if the radio source has no sources within the search radius then return a row of nans\n",
    "    if len(lr_0) == 0:\n",
    "        result = [np.nan,np.nan,np.nan,np.nan,np.nan]\n",
    "        return result\n",
    "    chosen_index = np.argmax(lr_0)\n",
    "    lr_sum = np.sum(lr_0)\n",
    "    #calculate the realiability using the formula from smith et al 2013\n",
    "    rel = lr_0/(lr_sum + (1-Q0_opt))\n",
    "    helpid = opt_cat['ID'][idx_0][0]\n",
    "    #return the indexs to optical catalogue, the distance to the source, the likelihood ratio\n",
    "    #and the helpid\n",
    "    result = [opt_ir_index[opt_num][idx_0[chosen_index]], # Index\n",
    "              (d2d_0.arcsec)[chosen_index],                        # distance\n",
    "              lr_0[chosen_index],\n",
    "              rel[chosen_index],\n",
    "              helpid]                                  # LR\n",
    "    \n",
    "\n",
    "    return(result)\n",
    "    #return (result,rel[chosen_index],helpid)"
   ]
  },
  {
   "cell_type": "code",
<<<<<<< HEAD
   "execution_count": 60,
   "metadata": {},
   "outputs": [
    {
     "name": "stderr",
     "output_type": "stream",
     "text": [
      "100%|██████████| 11.6k/11.6k [00:42<00:00, 273it/s]\n",
      "100%|██████████| 11618/11618 [00:00<00:00, 321718.56it/s]\n"
     ]
    }
   ],
=======
   "execution_count": null,
   "metadata": {},
   "outputs": [],
>>>>>>> 93a8c5fd990faf0e43987aebebea97c125234b56
   "source": [
    "res = mltier.parallel_process(idx_lofar_unique, ml_opt, n_jobs=n_cpus)"
   ]
  },
  {
   "cell_type": "code",
<<<<<<< HEAD
   "execution_count": 61,
   "metadata": {},
   "outputs": [
    {
     "name": "stderr",
     "output_type": "stream",
     "text": [
      "/Users/im281/anaconda3/lib/python3.6/site-packages/ipykernel/__main__.py:6: StringTruncateWarning: truncated right side string(s) longer than 1 character(s) during assignment\n"
     ]
    }
   ],
=======
   "execution_count": null,
   "metadata": {},
   "outputs": [],
>>>>>>> 93a8c5fd990faf0e43987aebebea97c125234b56
   "source": [
    "#add the crossmatched sources to the radio table\n",
    "(lofar[\"lr_index_opt\"][idx_lofar_unique], \n",
    " lofar[\"lr_dist_opt\"][idx_lofar_unique], \n",
    " lofar[\"lr_opt\"][idx_lofar_unique],\n",
    " lofar[\"lr_reliability_opt\"][idx_lofar_unique],\n",
    " lofar[\"helpid_opt\"][idx_lofar_unique]) = list(map(list, zip(*res)))"
   ]
  },
  {
   "cell_type": "code",
<<<<<<< HEAD
   "execution_count": 62,
=======
   "execution_count": null,
>>>>>>> 93a8c5fd990faf0e43987aebebea97c125234b56
   "metadata": {},
   "outputs": [],
   "source": [
    "lofar[\"lr_opt\"][np.isnan(lofar[\"lr_opt\"])] = 0"
   ]
  },
  {
   "cell_type": "code",
<<<<<<< HEAD
   "execution_count": 63,
   "metadata": {},
   "outputs": [
    {
     "data": {
      "text/plain": [
       "3.58457972454297"
      ]
     },
     "execution_count": 63,
     "metadata": {},
     "output_type": "execute_result"
    }
   ],
=======
   "execution_count": null,
   "metadata": {},
   "outputs": [],
>>>>>>> 93a8c5fd990faf0e43987aebebea97c125234b56
   "source": [
    "#calculate the threshold of trusted crossmatches using Q0 as the fraction of sources that have trusted crossmatches\n",
    "mask = (~np.isnan(lofar['lr_dist_opt'])) & (lofar['lr_opt']>0)\n",
    "threshold_opt = np.percentile(lofar[\"lr_opt\"][mask], 100*(1 - Q0_opt))\n",
    "print('the LR thereshold is: {}'.format(threshold_opt))\n",
    "varstat(lofar['lr_opt'])"
   ]
  },
  {
   "cell_type": "code",
<<<<<<< HEAD
   "execution_count": 64,
   "metadata": {},
   "outputs": [
    {
     "data": {
      "image/png": "iVBORw0KGgoAAAANSUhEUgAAA4EAAAFpCAYAAAAiIi0KAAAABHNCSVQICAgIfAhkiAAAAAlwSFlz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\nCAAA0BEhEAAAoCNCIAAAQEf+Pyxjz4tq4gvTAAAAAElFTkSuQmCC\n",
      "text/plain": [
       "<matplotlib.figure.Figure at 0x47493f860>"
      ]
     },
     "metadata": {},
     "output_type": "display_data"
    }
   ],
=======
   "execution_count": null,
   "metadata": {},
   "outputs": [],
>>>>>>> 93a8c5fd990faf0e43987aebebea97c125234b56
   "source": [
    "plt.rcParams[\"figure.figsize\"] = (15,6)\n",
    "plt.subplot(1,2,1)\n",
    "plt.hist(lofar[lofar[\"lr_opt\"] != 0][\"lr_opt\"], bins=200)\n",
    "plt.vlines([threshold_opt], 0, 1000)\n",
    "plt.ylim([0,1000])\n",
    "\n",
    "plt.subplot(1,2,2)\n",
    "plt.hist(np.log10(lofar[lofar[\"lr_opt\"] != 0][\"lr_opt\"]+1), bins=200)\n",
    "plt.vlines(np.log10(threshold_opt+1), 0, 1000)\n",
    "ticks, _ = plt.xticks()\n",
    "plt.xticks(ticks, [\"{:.1f}\".format(10**t-1) for t in ticks])\n",
    "plt.ylim([0,1000]);\n",
    "plt.show()"
   ]
  },
  {
   "cell_type": "code",
<<<<<<< HEAD
   "execution_count": 65,
   "metadata": {},
   "outputs": [
    {
     "name": "stdout",
     "output_type": "stream",
     "text": [
      "number of xmatches above the threshold is 8959\n"
     ]
    }
   ],
=======
   "execution_count": null,
   "metadata": {},
   "outputs": [],
>>>>>>> 93a8c5fd990faf0e43987aebebea97c125234b56
   "source": [
    "lofar[\"lr_index_sel_opt\"] = lofar[\"lr_index_opt\"]\n",
    "lofar[\"lr_index_sel_opt\"][lofar[\"lr_opt\"] < threshold_opt] = np.nan\n",
    "print('number of xmatches above the threshold is {}'.format(np.sum(lofar['lr_opt']>threshold_opt)))"
   ]
  },
  {
   "cell_type": "code",
<<<<<<< HEAD
   "execution_count": 66,
   "metadata": {},
   "outputs": [
    {
     "name": "stderr",
     "output_type": "stream",
     "text": [
      "/Users/im281/anaconda3/lib/python3.6/site-packages/astropy/table/column.py:965: RuntimeWarning: invalid value encountered in greater\n",
      "  return getattr(self.data, op)(other)\n",
      "/Users/im281/anaconda3/lib/python3.6/site-packages/astropy/table/column.py:965: RuntimeWarning: invalid value encountered in less\n",
      "  return getattr(self.data, op)(other)\n"
     ]
    },
    {
     "data": {
      "image/png": "iVBORw0KGgoAAAANSUhEUgAAA3cAAAFBCAYAAADUj1aPAAAABHNCSVQICAgIfAhkiAAAAAlwSFlz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\nANTciYiIiIiIJAA1dyIiIiIiIgng/wM9tZiSGeN7wwAAAABJRU5ErkJggg==\n",
      "text/plain": [
       "<matplotlib.figure.Figure at 0x5152f5898>"
      ]
     },
     "metadata": {},
     "output_type": "display_data"
    }
   ],
=======
   "execution_count": null,
   "metadata": {},
   "outputs": [],
>>>>>>> 93a8c5fd990faf0e43987aebebea97c125234b56
   "source": [
    "plt.rcParams[\"figure.figsize\"] = (15,5)\n",
    "bins = np.arange(0,search_rad_opt,search_rad_opt/50)\n",
    "plt.subplot(1,3,1)\n",
    "mask = ~np.isnan(lofar['lr_dist_opt'])\n",
    "plt.hist(lofar['lr_dist_opt'][mask],bins=bins,color='red')\n",
    "mask = (lofar['lr_opt'] > threshold_opt) & (~np.isnan(lofar['lr_dist_opt']))\n",
    "plt.hist(lofar['lr_dist_opt'][mask],bins=bins,color='green')\n",
    "plt.xlabel('Seperation (arcseconds)')\n",
    "green_patch = mpatches.Patch(color='green',label='Trusted Crossmatches')\n",
    "red_patch = mpatches.Patch(color='red',label='All Crossmatches')\n",
    "plt.legend(handles=[red_patch,green_patch])\n",
    "\n",
    "plt.subplot(1,3,2)\n",
    "reliability_r = []\n",
    "mask1 = (~np.isnan(lofar['lr_dist_opt']))\n",
    "for n in range(len(bins)-1):\n",
    "    mask = (lofar['lr_dist_opt'] > bins[n]) & (lofar['lr_dist_opt'] < bins[n+1])\n",
    "    mask = mask\n",
    "    rel_temp = lofar['lr_reliability_opt'][mask]\n",
    "    reliability_r.append(np.mean(rel_temp))\n",
    "rad_cent = get_center(bins)\n",
    "plt.plot(rad_cent,reliability_r,color='green')\n",
    "plt.xlabel('Seperation (arcseconds)')\n",
    "plt.ylabel('Reliability')\n",
    "\n",
    "plt.subplot(1,3,3)\n",
    "lrt_r = []\n",
    "mask1 = (~np.isnan(lofar['lr_dist_opt']))\n",
    "for n in range(len(bins)-1):\n",
    "    mask = (lofar['lr_dist_opt'] > bins[n]) & (lofar['lr_dist_opt'] < bins[n+1])\n",
    "    #mask = mask[mask1]\n",
    "    rel_temp = lofar['lr_opt'][mask]\n",
    "    lrt_r.append(np.mean(rel_temp))\n",
    "rad_cent = get_center(bins)\n",
    "plt.plot(rad_cent,lrt_r,color='green')\n",
    "plt.xlabel('Seperation (arcseconds)')\n",
    "plt.ylabel('likelihood ratio')\n",
    "plt.ylim(0,np.max(lrt_r)*1.1)\n",
    "\n",
    "plt.show()"
   ]
  },
  {
   "cell_type": "markdown",
   "metadata": {},
   "source": [
    "#### IR band"
   ]
  },
  {
   "cell_type": "code",
<<<<<<< HEAD
   "execution_count": 43,
=======
   "execution_count": null,
>>>>>>> 93a8c5fd990faf0e43987aebebea97c125234b56
   "metadata": {},
   "outputs": [],
   "source": [
    "idx_lofar, idx_ir, d2d, d3d = search_around_sky(\n",
    "    lofar_coords, opt_ir_coords[ir_num], radius*u.arcsec)\n",
    "\n",
    "idx_lofar_unique = np.unique(idx_lofar)\n",
    "print('number of LOFAR sources with a possible crossmatch within {} arcseconds is {}'.format(radius,len(idx_lofar_unique)))"
   ]
  },
  {
   "cell_type": "code",
<<<<<<< HEAD
   "execution_count": 44,
   "metadata": {},
   "outputs": [
    {
     "data": {
      "text/plain": [
       "733913"
      ]
     },
     "execution_count": 44,
     "metadata": {},
     "output_type": "execute_result"
    }
   ],
=======
   "execution_count": null,
   "metadata": {},
   "outputs": [],
>>>>>>> 93a8c5fd990faf0e43987aebebea97c125234b56
   "source": [
    "len(opt_ir_coords[ir_num])"
   ]
  },
  {
   "cell_type": "code",
<<<<<<< HEAD
   "execution_count": 45,
   "metadata": {},
   "outputs": [
    {
     "data": {
      "text/plain": [
       "733908"
      ]
     },
     "execution_count": 45,
     "metadata": {},
     "output_type": "execute_result"
    }
   ],
=======
   "execution_count": null,
   "metadata": {},
   "outputs": [],
>>>>>>> 93a8c5fd990faf0e43987aebebea97c125234b56
   "source": [
    "max(idx_ir)"
   ]
  },
  {
   "cell_type": "code",
<<<<<<< HEAD
   "execution_count": 46,
=======
   "execution_count": null,
>>>>>>> 93a8c5fd990faf0e43987aebebea97c125234b56
   "metadata": {},
   "outputs": [],
   "source": [
    "radius = 15\n",
    "idx_lofar, idx_ir, d2d, d3d = search_around_sky(\n",
    "    lofar_coords, opt_ir_coords[ir_num], radius*u.arcsec)\n",
    "\n",
    "# create an array of the indexs of lofar sources with a possible crossmatch within the search radius\n",
    "idx_lofar_unique = np.unique(idx_lofar)\n",
    "print('number of LOFAR sources with a possible crossmatch within {} arcseconds is {}'.format(radius,len(idx_lofar_unique)))"
   ]
  },
  {
   "cell_type": "code",
<<<<<<< HEAD
   "execution_count": 47,
=======
   "execution_count": null,
>>>>>>> 93a8c5fd990faf0e43987aebebea97c125234b56
   "metadata": {},
   "outputs": [],
   "source": [
    "lofar[\"lr_ir\"] = np.nan                   # Likelihood ratio\n",
    "lofar[\"lr_dist_ir\"] = np.nan              # Distance to the selected source\n",
    "lofar[\"lr_index_ir\"] = np.nan             # Index of the PanSTARRS source in combined\n",
    "lofar[\"lr_reliability_ir\"] = np.nan\n",
    "lofar[\"helpid_ir\"] = ''"
   ]
  },
  {
   "cell_type": "code",
<<<<<<< HEAD
   "execution_count": 48,
=======
   "execution_count": null,
>>>>>>> 93a8c5fd990faf0e43987aebebea97c125234b56
   "metadata": {},
   "outputs": [],
   "source": [
    "def ml_ir(i):\n",
    "\n",
    "    idx_0 = idx_ir[idx_lofar == i]\n",
    "    d2d_0 = d2d[idx_lofar == i]\n",
    "    mag = ir_cat[ir_colname][idx_0]\n",
    "    \n",
    "    lofar_ra = lofar[i][\"RA\"]\n",
    "    lofar_dec = lofar[i][\"DEC\"]\n",
    "    lofar_pa = lofar[i][\"PA\"]\n",
    "    lofar_maj_err = lofar[i][\"E_Maj\"]\n",
    "    lofar_min_err = lofar[i][\"E_Min\"]\n",
    "    c_ra = ir_cat[opt_ra][idx_0]\n",
    "    c_dec = ir_cat[opt_dec][idx_0]\n",
    "    c_ra_err = 0.35\n",
    "    c_dec_err = 0.35\n",
    "    \n",
    "    sigma, sigma_maj, sigma_min = get_sigma_all(lofar_maj_err, lofar_min_err, lofar_pa, \n",
    "                      lofar_ra, lofar_dec, \n",
    "                      c_ra, c_dec, c_ra_err, c_dec_err)\n",
    "    \n",
    "    lr_0 = likelihood_ratio_ir(mag, d2d_0.arcsec, sigma)\n",
    "    if len(lr_0) == 0:\n",
    "        result = [np.nan,np.nan,np.nan,np.nan,np.nan]\n",
    "        return result\n",
    "    chosen_index = np.argmax(lr_0)\n",
    "    lr_sum = np.sum(lr_0)\n",
    "    rel = lr_0/(lr_sum + (1-Q0_opt))\n",
    "    helpid = ir_cat['ID'][idx_0][0]\n",
    "    result = [opt_ir_index[ir_num][idx_0[chosen_index]], # Index\n",
    "              (d2d_0.arcsec)[chosen_index],                        # distance\n",
    "              lr_0[chosen_index],\n",
    "              rel[chosen_index],\n",
    "              helpid]                                  # LR\n",
    "    \n",
    "\n",
    "    return(result)\n",
    "    #return (result,rel[chosen_index],helpid)"
   ]
  },
  {
   "cell_type": "code",
<<<<<<< HEAD
   "execution_count": 49,
   "metadata": {},
   "outputs": [
    {
     "name": "stderr",
     "output_type": "stream",
     "text": [
      "100%|██████████| 11.6k/11.6k [00:39<00:00, 292it/s]\n",
      "100%|██████████| 11561/11561 [00:00<00:00, 300381.89it/s]\n"
     ]
    }
   ],
=======
   "execution_count": null,
   "metadata": {},
   "outputs": [],
>>>>>>> 93a8c5fd990faf0e43987aebebea97c125234b56
   "source": [
    "res = parallel_process(idx_lofar_unique, ml_ir, n_jobs=n_cpus)"
   ]
  },
  {
   "cell_type": "code",
<<<<<<< HEAD
   "execution_count": 50,
=======
   "execution_count": null,
>>>>>>> 93a8c5fd990faf0e43987aebebea97c125234b56
   "metadata": {},
   "outputs": [],
   "source": [
    "(lofar[\"lr_index_ir\"][idx_lofar_unique], \n",
    " lofar[\"lr_dist_ir\"][idx_lofar_unique], \n",
    " lofar[\"lr_ir\"][idx_lofar_unique],\n",
    " lofar[\"lr_reliability_ir\"][idx_lofar_unique],\n",
    " lofar[\"helpid_ir\"][idx_lofar_unique]) = list(map(list, zip(*res)))"
   ]
  },
  {
   "cell_type": "code",
<<<<<<< HEAD
   "execution_count": 51,
=======
   "execution_count": null,
>>>>>>> 93a8c5fd990faf0e43987aebebea97c125234b56
   "metadata": {},
   "outputs": [],
   "source": [
    "lofar[\"lr_ir\"][np.isnan(lofar[\"lr_ir\"])] = 0"
   ]
  },
  {
   "cell_type": "code",
<<<<<<< HEAD
   "execution_count": 52,
   "metadata": {},
   "outputs": [
    {
     "data": {
      "text/plain": [
       "2.44684906615897"
      ]
     },
     "execution_count": 52,
     "metadata": {},
     "output_type": "execute_result"
    }
   ],
=======
   "execution_count": null,
   "metadata": {},
   "outputs": [],
>>>>>>> 93a8c5fd990faf0e43987aebebea97c125234b56
   "source": [
    "mask = (~np.isnan(lofar['lr_dist_ir'])) & (lofar['lr_ir']>0)\n",
    "threshold_ir = np.percentile(lofar[\"lr_ir\"][mask], 100*(1 - Q0_ir))\n",
    "threshold_ir"
   ]
  },
  {
   "cell_type": "code",
<<<<<<< HEAD
   "execution_count": 53,
   "metadata": {},
   "outputs": [
    {
     "data": {
      "image/png": "iVBORw0KGgoAAAANSUhEUgAAA4EAAAFpCAYAAAAiIi0KAAAABHNCSVQICAgIfAhkiAAAAAlwSFlz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\n",
      "text/plain": [
       "<matplotlib.figure.Figure at 0x478aa6c18>"
      ]
     },
     "metadata": {},
     "output_type": "display_data"
    }
   ],
=======
   "execution_count": null,
   "metadata": {},
   "outputs": [],
   "source": [
    "np.sum(lofar['lr_ir']<threshold_ir)"
   ]
  },
  {
   "cell_type": "code",
   "execution_count": null,
   "metadata": {},
   "outputs": [],
>>>>>>> 93a8c5fd990faf0e43987aebebea97c125234b56
   "source": [
    "plt.rcParams[\"figure.figsize\"] = (15,6)\n",
    "plt.subplot(1,2,1)\n",
    "plt.hist(lofar[lofar[\"lr_ir\"] != 0][\"lr_ir\"], bins=200)\n",
    "plt.vlines([threshold_ir], 0, 1000)\n",
    "plt.ylim([0,1000])\n",
    "\n",
    "plt.subplot(1,2,2)\n",
    "plt.hist(np.log10(lofar[lofar[\"lr_ir\"] != 0][\"lr_ir\"]+1), bins=200)\n",
    "plt.vlines(np.log10(threshold_ir+1), 0, 1000)\n",
    "ticks, _ = plt.xticks()\n",
    "plt.xticks(ticks, [\"{:.1f}\".format(10**t-1) for t in ticks])\n",
    "plt.ylim([0,1000]);\n",
    "plt.show()"
   ]
  },
  {
   "cell_type": "code",
<<<<<<< HEAD
   "execution_count": 54,
   "metadata": {},
   "outputs": [
    {
     "name": "stdout",
     "output_type": "stream",
     "text": [
      "number of xmatches above the threshold is 9236\n"
     ]
    }
   ],
=======
   "execution_count": null,
   "metadata": {},
   "outputs": [],
>>>>>>> 93a8c5fd990faf0e43987aebebea97c125234b56
   "source": [
    "lofar[\"lr_index_sel_ir\"] = lofar[\"lr_index_ir\"]\n",
    "lofar[\"lr_index_sel_ir\"][lofar[\"lr_ir\"] < threshold_ir] = np.nan\n",
    "print('number of xmatches above the threshold is {}'.format(np.sum(lofar['lr_opt']>threshold_ir)))"
   ]
  },
  {
   "cell_type": "code",
<<<<<<< HEAD
   "execution_count": 55,
   "metadata": {},
   "outputs": [
    {
     "name": "stderr",
     "output_type": "stream",
     "text": [
      "/Users/im281/anaconda3/lib/python3.6/site-packages/astropy/table/column.py:965: RuntimeWarning: invalid value encountered in greater\n",
      "  return getattr(self.data, op)(other)\n",
      "/Users/im281/anaconda3/lib/python3.6/site-packages/astropy/table/column.py:965: RuntimeWarning: invalid value encountered in less\n",
      "  return getattr(self.data, op)(other)\n"
     ]
    },
    {
     "data": {
      "image/png": "iVBORw0KGgoAAAANSUhEUgAAA3cAAAFACAYAAAAf04UqAAAABHNCSVQICAgIfAhkiAAAAAlwSFlz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\nCeD/A8FUOcGCQSEkAAAAAElFTkSuQmCC\n",
      "text/plain": [
       "<matplotlib.figure.Figure at 0x4727b03c8>"
      ]
     },
     "metadata": {},
     "output_type": "display_data"
    }
   ],
=======
   "execution_count": null,
   "metadata": {},
   "outputs": [],
>>>>>>> 93a8c5fd990faf0e43987aebebea97c125234b56
   "source": [
    "plt.rcParams[\"figure.figsize\"] = (15,5)\n",
    "bins = np.arange(0,search_rad_opt,search_rad_opt/50)\n",
    "plt.subplot(1,3,1)\n",
    "mask = ~np.isnan(lofar['lr_dist_ir'])\n",
    "plt.hist(lofar['lr_dist_ir'][mask],bins=bins,color='red')\n",
    "mask = (lofar['lr_ir'] > threshold_ir) & (~np.isnan(lofar['lr_dist_ir']))\n",
    "plt.hist(lofar['lr_dist_ir'][mask],bins=bins,color='green')\n",
    "plt.xlabel('Seperation (arcseconds)')\n",
    "green_patch = mpatches.Patch(color='green',label='Trusted Crossmatches')\n",
    "red_patch = mpatches.Patch(color='red',label='All Crossmatches')\n",
    "plt.legend(handles=[red_patch,green_patch])\n",
    "\n",
    "plt.subplot(1,3,2)\n",
    "reliability_r = []\n",
    "mask1 = (~np.isnan(lofar['lr_dist_ir']))\n",
    "for n in range(len(bins)-1):\n",
    "    mask = (lofar['lr_dist_ir'] > bins[n]) & (lofar['lr_dist_ir'] < bins[n+1])\n",
    "    mask = mask\n",
    "    rel_temp = lofar['lr_reliability_ir'][mask]\n",
    "    reliability_r.append(np.mean(rel_temp))\n",
    "rad_cent = get_center(bins)\n",
    "plt.plot(rad_cent,reliability_r,color='green')\n",
    "plt.xlabel('Seperation (arcseconds)')\n",
    "plt.ylabel('Reliability')\n",
    "\n",
    "plt.subplot(1,3,3)\n",
    "lrt_r = []\n",
    "mask1 = (~np.isnan(lofar['lr_dist_ir']))\n",
    "for n in range(len(bins)-1):\n",
    "    mask = (lofar['lr_dist_ir'] > bins[n]) & (lofar['lr_dist_ir'] < bins[n+1])\n",
    "    #mask = mask[mask1]\n",
    "    rel_temp = lofar['lr_ir'][mask]\n",
    "    lrt_r.append(np.mean(rel_temp))\n",
    "rad_cent = get_center(bins)\n",
    "plt.plot(rad_cent,lrt_r,color='green')\n",
    "plt.xlabel('Seperation (arcseconds)')\n",
    "plt.ylabel('likelihood ratio')\n",
    "plt.ylim(0,np.max(lrt_r)*1.1)\n",
    "\n",
    "plt.show()"
   ]
  },
  {
   "cell_type": "markdown",
   "metadata": {},
   "source": [
    "### Final selection of the match\n",
    "\n",
    "We combine the ML matching done in i-band and W1-band. All the galaxies were the LR is above the selection ratio for the respective band are finally selected."
   ]
  },
  {
   "cell_type": "code",
<<<<<<< HEAD
   "execution_count": 56,
=======
   "execution_count": null,
>>>>>>> 93a8c5fd990faf0e43987aebebea97c125234b56
   "metadata": {},
   "outputs": [],
   "source": [
    "# lr_opt_and_ir = (lofar[\"lr_opt\"] != 0) & (lofar[\"lr_ir\"] != 0)\n",
    "# lr_only_opt = (lofar[\"lr_opt\"] != 0) & (lofar[\"lr_ir\"] == 0)\n",
    "# lr_only_ir = (lofar[\"lr_opt\"] == 0) & (lofar[\"lr_ir\"] != 0)\n",
    "# lr_no_match = (lofar[\"lr_opt\"] == 0) & (lofar[\"lr_ir\"] == 0)\n",
    "lr_opt_and_ir = ~np.isnan(lofar[\"lr_index_sel_opt\"]) & ~np.isnan(lofar[\"lr_index_sel_ir\"])\n",
    "lr_only_opt = ~np.isnan(lofar[\"lr_index_sel_opt\"]) & np.isnan(lofar[\"lr_index_sel_ir\"])\n",
    "lr_only_ir = np.isnan(lofar[\"lr_index_sel_opt\"]) & ~np.isnan(lofar[\"lr_index_sel_ir\"])\n",
    "lr_no_match = np.isnan(lofar[\"lr_index_sel_opt\"]) & np.isnan(lofar[\"lr_index_sel_ir\"])"
   ]
  },
  {
   "cell_type": "code",
<<<<<<< HEAD
   "execution_count": 57,
   "metadata": {},
   "outputs": [
    {
     "name": "stdout",
     "output_type": "stream",
     "text": [
      "8765\n",
      "186\n",
      "2146\n",
      "538\n"
     ]
    }
   ],
=======
   "execution_count": null,
   "metadata": {},
   "outputs": [],
>>>>>>> 93a8c5fd990faf0e43987aebebea97c125234b56
   "source": [
    "print(np.sum(lr_opt_and_ir))\n",
    "print(np.sum(lr_only_opt))\n",
    "print(np.sum(lr_only_ir))\n",
    "print(np.sum(lr_no_match))"
   ]
  },
  {
   "cell_type": "code",
<<<<<<< HEAD
   "execution_count": 58,
=======
   "execution_count": null,
>>>>>>> 93a8c5fd990faf0e43987aebebea97c125234b56
   "metadata": {},
   "outputs": [],
   "source": [
    "lofar[\"lr_index_1\"] = np.nan\n",
    "lofar[\"lr_dist_1\"] = np.nan\n",
    "lofar[\"lr_1\"] = np.nan\n",
    "lofar[\"lr_type_1\"] = 0"
   ]
  },
  {
   "cell_type": "code",
<<<<<<< HEAD
   "execution_count": 59,
=======
   "execution_count": null,
>>>>>>> 93a8c5fd990faf0e43987aebebea97c125234b56
   "metadata": {},
   "outputs": [],
   "source": [
    "# Only i matches\n",
    "lofar[\"lr_1\"][lr_only_opt] = lofar[\"lr_opt\"][lr_only_opt]\n",
    "lofar[\"lr_index_1\"][lr_only_opt] = lofar[\"lr_index_opt\"][lr_only_opt]\n",
    "lofar[\"lr_dist_1\"][lr_only_opt] = lofar[\"lr_dist_opt\"][lr_only_opt]\n",
    "lofar[\"lr_type_1\"][lr_only_opt] = 1\n",
    "\n",
    "# Only w1 matches\n",
    "lofar[\"lr_1\"][lr_only_ir] = lofar[\"lr_ir\"][lr_only_ir]\n",
    "lofar[\"lr_index_1\"][lr_only_ir] = lofar[\"lr_index_ir\"][lr_only_ir]\n",
    "lofar[\"lr_dist_1\"][lr_only_ir] = lofar[\"lr_dist_ir\"][lr_only_ir]\n",
    "lofar[\"lr_type_1\"][lr_only_ir] = 2\n",
    "\n",
    "# Both matches\n",
    "lofar[\"lr_1\"][lr_opt_and_ir] = np.max([lofar[\"lr_opt\"][lr_opt_and_ir], lofar[\"lr_ir\"][lr_opt_and_ir]], axis=0)\n",
    "lofar[\"lr_type_1\"][lr_opt_and_ir] = np.argmax([lofar[\"lr_opt\"][lr_opt_and_ir], lofar[\"lr_ir\"][lr_opt_and_ir]], axis=0) + 1\n",
    "\n",
    "c1 = (lofar[\"lr_type_1\"] == 1)\n",
    "c2 = (lofar[\"lr_type_1\"] == 2)\n",
    "lofar[\"lr_index_1\"][lr_opt_and_ir & c1] = lofar[\"lr_index_opt\"][lr_opt_and_ir & c1]\n",
    "lofar[\"lr_index_1\"][lr_opt_and_ir & c2] = lofar[\"lr_index_ir\"][lr_opt_and_ir & c2]\n",
    "lofar[\"lr_dist_1\"][lr_opt_and_ir & c1] = lofar[\"lr_dist_opt\"][lr_opt_and_ir & c1]\n",
    "lofar[\"lr_dist_1\"][lr_opt_and_ir & c2] = lofar[\"lr_dist_ir\"][lr_opt_and_ir & c2]"
   ]
  },
  {
   "cell_type": "code",
<<<<<<< HEAD
   "execution_count": 60,
   "metadata": {},
   "outputs": [
    {
     "name": "stdout",
     "output_type": "stream",
     "text": [
      "match    sel-opt:  403\n",
      "match   sel-ir:  8362\n",
      "match     both:  8765\n",
      "match   opt-only:  186\n",
      "match  ir-only:  2146\n",
      "match      all:  11097\n",
      "         Total:  11635\n"
     ]
    }
   ],
=======
   "execution_count": null,
   "metadata": {},
   "outputs": [],
>>>>>>> 93a8c5fd990faf0e43987aebebea97c125234b56
   "source": [
    "print(\"match    sel-opt: \", np.sum(lofar[\"lr_type_1\"][lr_opt_and_ir] == 1))\n",
    "print(\"match   sel-ir: \", np.sum(lofar[\"lr_type_1\"][lr_opt_and_ir] == 2))\n",
    "print(\"match     both: \", np.sum(lofar[\"lr_type_1\"][lr_opt_and_ir] == 1) + \n",
    "                          np.sum(lofar[\"lr_type_1\"][lr_opt_and_ir] == 2))\n",
    "print(\"match   opt-only: \", np.sum(lofar[\"lr_type_1\"] == 1) - np.sum(lofar[\"lr_type_1\"][lr_opt_and_ir] == 1))\n",
    "print(\"match  ir-only: \", np.sum(lofar[\"lr_type_1\"] == 2) - np.sum(lofar[\"lr_type_1\"][lr_opt_and_ir] == 2))\n",
    "print(\"match      all: \", np.sum(lofar[\"lr_type_1\"] == 1) + \n",
    "                          np.sum(lofar[\"lr_type_1\"] == 2))\n",
    "print(\"         Total: \", len(lofar))\n",
    "print('percentage of sources with a crossmatch is: {}'.format((np.sum(lofar[\"lr_type_1\"] == 1) +np.sum(lofar[\"lr_type_1\"] == 2))/len(lofar)))"
   ]
  },
  {
   "cell_type": "code",
<<<<<<< HEAD
   "execution_count": 61,
   "metadata": {},
   "outputs": [
    {
     "name": "stdout",
     "output_type": "stream",
     "text": [
      "number of sources for which the match in opt-band and ir-band are above the threshold but gives a different match to the combined catalogue is 1045\n"
     ]
    }
   ],
=======
   "execution_count": null,
   "metadata": {},
   "outputs": [],
>>>>>>> 93a8c5fd990faf0e43987aebebea97c125234b56
   "source": [
    "print('number of sources for which the match in opt-band and ir-band are above the threshold but gives a different match to the combined catalogue is {}'.format(np.sum(lofar[\"lr_index_opt\"][lr_opt_and_ir] != lofar[\"lr_index_ir\"][lr_opt_and_ir])))"
   ]
  },
  {
   "cell_type": "markdown",
   "metadata": {},
   "source": [
    "### Define the colour bins to be used later\n",
    "\n",
    "Create color bins in the opt-ir plane."
   ]
  },
  {
   "cell_type": "code",
<<<<<<< HEAD
   "execution_count": 62,
=======
   "execution_count": null,
>>>>>>> 93a8c5fd990faf0e43987aebebea97c125234b56
   "metadata": {},
   "outputs": [],
   "source": [
    "bins=np.arange(-12,10,0.25)\n",
    "y = opt_ir['colour']\n",
    "plt.hist(y,bins=bins,log=True)\n",
    "plt.show()"
   ]
  },
  {
   "cell_type": "code",
<<<<<<< HEAD
   "execution_count": 63,
=======
   "execution_count": null,
>>>>>>> 93a8c5fd990faf0e43987aebebea97c125234b56
   "metadata": {},
   "outputs": [],
   "source": [
    "colour_limits = [0.0, 0.5, 1.0, 1.25, 1.5, 1.75, 2.0, 2.25, 2.5, 2.75, 3.0, 3.5, 4.0]\n",
    "colour_limits = np.arange(-5,5,0.25)"
   ]
  },
  {
   "cell_type": "code",
   "execution_count": null,
   "metadata": {},
   "outputs": [],
   "source": [
    "# start with the only opt or ir detected and the colour < lowest colour bin \n",
    "colour_bin_def = [{\"name\":\"only W1\", \"condition\": opt_ir_num_ir},\n",
    "                  {\"name\":\"only i\", \"condition\": opt_ir_num_opt},\n",
    "                  {\"name\":\"-inf to {}\".format(colour_limits[0]), \n",
    "                   \"condition\": (opt_ir[\"colour\"] < colour_limits[0])}]\n",
    "\n",
    "# Get the colour bins\n",
    "for i in range(len(colour_limits)-1):\n",
    "    name = \"{} to {}\".format(colour_limits[i], colour_limits[i+1])\n",
    "    condition = ((opt_ir[\"colour\"] >= colour_limits[i]) & \n",
    "                 (opt_ir[\"colour\"] < colour_limits[i+1]))\n",
    "    colour_bin_def.append({\"name\":name, \"condition\":condition})\n",
    "\n",
    "# Add the \"more than higher colour\" bin\n",
    "colour_bin_def.append({\"name\":\"{} to inf\".format(colour_limits[-1]), \n",
    "                       \"condition\": (opt_ir[\"colour\"] >= colour_limits[-1])})"
   ]
  },
  {
   "cell_type": "code",
<<<<<<< HEAD
   "execution_count": 64,
=======
   "execution_count": null,
>>>>>>> 93a8c5fd990faf0e43987aebebea97c125234b56
   "metadata": {},
   "outputs": [],
   "source": [
    "# assign every source a number based on which colour bin it is in\n",
    "opt_ir[\"category\"] = np.nan\n",
    "for i in range(len(colour_bin_def)):\n",
    "    opt_ir[\"category\"][colour_bin_def[i][\"condition\"]] = i"
   ]
  },
  {
   "cell_type": "code",
<<<<<<< HEAD
   "execution_count": 65,
   "metadata": {},
   "outputs": [
    {
     "data": {
      "text/plain": [
       "array([237371, 662040,  30068,  34848,  56371,  37158,  41589,  42615,\n",
       "        40476,  36416,  31998,  27124,  22618,  35954,  25546,  33761])"
      ]
     },
     "execution_count": 65,
     "metadata": {},
     "output_type": "execute_result"
    }
   ],
=======
   "execution_count": null,
   "metadata": {},
   "outputs": [],
>>>>>>> 93a8c5fd990faf0e43987aebebea97c125234b56
   "source": [
    "numbers_combined_bins = np.array([np.sum(a[\"condition\"]) for a in colour_bin_def])\n",
    "numbers_combined_bins"
   ]
  },
  {
   "cell_type": "markdown",
   "metadata": {},
   "source": [
    "## Skipped bit on duplicated sources"
   ]
  },
  {
   "cell_type": "code",
<<<<<<< HEAD
   "execution_count": 66,
   "metadata": {},
   "outputs": [
    {
     "data": {
      "text/plain": [
       "array([237371, 662040,  30068,  34848,  56371,  37158,  41589,  42615,\n",
       "        40476,  36416,  31998,  27124,  22618,  35954,  25546,  33761])"
      ]
     },
     "execution_count": 66,
     "metadata": {},
     "output_type": "execute_result"
    }
   ],
=======
   "execution_count": null,
   "metadata": {},
   "outputs": [],
>>>>>>> 93a8c5fd990faf0e43987aebebea97c125234b56
   "source": [
    "bin_list = [bin_list_ir if i == 0 else bin_list_opt for i in range(len(colour_bin_def))]\n",
    "centers = [center_ir if i == 0 else center_opt for i in range(len(colour_bin_def))]\n",
    "\n",
    "numbers_combined_bins = np.array([np.sum(a[\"condition\"]) for a in colour_bin_def])\n",
    "bandwidth_colour = [0.5, 0.5, 0.5, 0.5, 0.5, 0.5, 0.5,0.5, 0.5, 0.5, 0.5, 0.5, 0.5, 0.5, 0.5, 0.5]\n",
    "numbers_combined_bins"
   ]
  },
  {
   "cell_type": "code",
<<<<<<< HEAD
   "execution_count": 67,
=======
   "execution_count": null,
>>>>>>> 93a8c5fd990faf0e43987aebebea97c125234b56
   "metadata": {},
   "outputs": [],
   "source": [
    "#Calculate n(m) and q(m) within each colour bin to give n(m,c) and q(m,c)\n",
    "n_m_kde = []\n",
    "\n",
    "# W1 only sources\n",
    "n_m_kde.append(get_n_m_kde(opt_ir[ir_colname][opt_ir[\"category\"] == 0], \n",
    "                       centers[0], field.area, bandwidth=bandwidth_colour[0]))\n",
    "\n",
    "# Rest of the sources\n",
    "for i in range(1, len(colour_bin_def)):\n",
    "    n_m_kde.append(get_n_m_kde(opt_ir[opt_colname][opt_ir[\"category\"] == i], \n",
    "                           centers[i], field.area, bandwidth=bandwidth_colour[i]))"
   ]
  },
  {
   "cell_type": "code",
<<<<<<< HEAD
   "execution_count": 68,
=======
   "execution_count": null,
>>>>>>> 93a8c5fd990faf0e43987aebebea97c125234b56
   "metadata": {},
   "outputs": [],
   "source": [
    "n_m = []\n",
    "\n",
    "# W1 only sources\n",
    "n_m.append(get_n_m(opt_ir[ir_colname][opt_ir[\"category\"] == 0], bin_list_ir, field.area))\n",
    "\n",
    "# Rest of the sources\n",
    "for i in range(1, len(colour_bin_def)):\n",
    "    n_m.append(get_n_m(opt_ir[opt_colname][opt_ir[\"category\"] == i], bin_list_opt, field.area))"
   ]
  },
  {
   "cell_type": "code",
<<<<<<< HEAD
   "execution_count": 69,
   "metadata": {},
   "outputs": [
    {
     "data": {
      "image/png": "iVBORw0KGgoAAAANSUhEUgAAA4AAAAKpCAYAAADt4EIdAAAABHNCSVQICAgIfAhkiAAAAAlwSFlz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\n",
      "text/plain": [
       "<matplotlib.figure.Figure at 0x51405a4a8>"
      ]
     },
     "metadata": {},
     "output_type": "display_data"
    }
   ],
=======
   "execution_count": null,
   "metadata": {},
   "outputs": [],
>>>>>>> 93a8c5fd990faf0e43987aebebea97c125234b56
   "source": [
    "plt.rcParams[\"figure.figsize\"] = (15,15)\n",
    "for i, n_m_k in enumerate(n_m_kde):\n",
    "    plt.subplot(5,5,i+1)\n",
    "    plt.plot(centers[i], n_m[i])\n",
    "    plt.plot(centers[i], np.cumsum(n_m_k))\n",
    "plt.show()"
   ]
  },
  {
   "cell_type": "code",
<<<<<<< HEAD
   "execution_count": 70,
=======
   "execution_count": null,
>>>>>>> 93a8c5fd990faf0e43987aebebea97c125234b56
   "metadata": {},
   "outputs": [],
   "source": [
    "lofar[\"category\"] = np.nan\n",
    "lofar[ir_colname] = np.nan\n",
    "lofar[opt_colname] = np.nan"
   ]
  },
  {
   "cell_type": "code",
<<<<<<< HEAD
   "execution_count": 71,
=======
   "execution_count": null,
>>>>>>> 93a8c5fd990faf0e43987aebebea97c125234b56
   "metadata": {},
   "outputs": [],
   "source": [
    "c = ~np.isnan(lofar[\"lr_index_1\"])\n",
    "indices = lofar[\"lr_index_1\"][c].astype(int)\n",
    "lofar[\"category\"][c] = opt_ir[indices][\"category\"]\n",
    "lofar[ir_colname][c] = opt_ir[indices][ir_colname]\n",
    "lofar[opt_colname][c] = opt_ir[indices][opt_colname]"
   ]
  },
  {
   "cell_type": "markdown",
   "metadata": {},
   "source": [
    "The next parameter represent the number of matched LOFAR sources in each colour category."
   ]
  },
  {
   "cell_type": "code",
<<<<<<< HEAD
   "execution_count": 72,
   "metadata": {},
   "outputs": [
    {
     "data": {
      "text/plain": [
       "array([2625,  273,   31,  224,  621,  375,  406,  421,  392,  410,  404,\n",
       "        464,  494, 1020, 1022, 1915])"
      ]
     },
     "execution_count": 72,
     "metadata": {},
     "output_type": "execute_result"
    }
   ],
=======
   "execution_count": null,
   "metadata": {},
   "outputs": [],
>>>>>>> 93a8c5fd990faf0e43987aebebea97c125234b56
   "source": [
    "numbers_lofar_combined_bins = np.array([np.sum(lofar[\"category\"] == c) \n",
    "                                        for c in range(len(numbers_combined_bins))])\n",
    "numbers_lofar_combined_bins"
   ]
  },
  {
   "cell_type": "code",
<<<<<<< HEAD
   "execution_count": 73,
   "metadata": {},
   "outputs": [
    {
     "data": {
      "text/plain": [
       "0.9537602062741727"
      ]
     },
     "execution_count": 73,
     "metadata": {},
     "output_type": "execute_result"
    }
   ],
=======
   "execution_count": null,
   "metadata": {},
   "outputs": [],
>>>>>>> 93a8c5fd990faf0e43987aebebea97c125234b56
   "source": [
    "#Q0(c) is defined as the fraction of trsuted crossmatches in each category to give a value of Q0 in each category\n",
    "#and Q0(c) is the sum of these individual Q0's divided by the total number of radio sources\n",
    "Q_0_colour = numbers_lofar_combined_bins/len(lofar)\n",
    "q0_total = np.sum(Q_0_colour)\n",
    "q0_total"
   ]
  },
  {
   "cell_type": "code",
<<<<<<< HEAD
   "execution_count": 74,
=======
   "execution_count": null,
>>>>>>> 93a8c5fd990faf0e43987aebebea97c125234b56
   "metadata": {},
   "outputs": [],
   "source": [
    "#calculate q(m) in each colour bin to calculate q(m,c)\n",
    "q_m = []\n",
    "radius = 15. \n",
    "\n",
    "# W1 only sources\n",
    "q_m.append(get_q_m(lofar[ir_colname][lofar[\"category\"] == 0], \n",
    "                   bin_list_ir, \n",
    "                   numbers_lofar_combined_bins[0], \n",
    "                   n_m[0], \n",
    "                   field.area, \n",
    "                   radius=radius))\n",
    "\n",
    "# Rest of the sources\n",
    "for i in range(1, len(numbers_lofar_combined_bins)):\n",
    "    q_m.append(get_q_m(lofar[opt_colname][lofar[\"category\"] == i], \n",
    "                   bin_list_opt, \n",
    "                   numbers_lofar_combined_bins[i], \n",
    "                   n_m[i], \n",
    "                   field.area, \n",
    "                   radius=radius))"
   ]
  },
  {
   "cell_type": "code",
<<<<<<< HEAD
   "execution_count": 75,
=======
   "execution_count": null,
>>>>>>> 93a8c5fd990faf0e43987aebebea97c125234b56
   "metadata": {},
   "outputs": [],
   "source": [
    "q_m_kde = []\n",
    "radius = 15. \n",
    "\n",
    "# W1 only sources\n",
    "q_m_kde.append(get_q_m_kde(lofar[ir_colname][lofar[\"category\"] == 0], \n",
    "                   centers[0], \n",
    "                   radius=radius,\n",
    "                   bandwidth=0.5))\n",
    "\n",
    "# Rest of the sources\n",
    "for i in range(1, len(numbers_lofar_combined_bins)):\n",
    "    q_m_kde.append(get_q_m_kde(lofar[opt_colname][lofar[\"category\"] == i], \n",
    "                   centers[i], \n",
    "                   radius=radius,\n",
    "                   bandwidth=bandwidth_colour[i]))"
   ]
  },
  {
   "cell_type": "code",
<<<<<<< HEAD
   "execution_count": 76,
   "metadata": {},
   "outputs": [
    {
     "data": {
      "text/plain": [
       "array([16.25, 16.75, 17.25, 17.75, 18.25, 18.75, 19.25, 19.75, 20.25,\n",
       "       20.75, 21.25, 21.75, 22.25, 22.75, 23.25, 23.75, 24.25, 24.75,\n",
       "       25.25, 25.75, 26.25, 26.75, 27.25])"
      ]
     },
     "execution_count": 76,
     "metadata": {},
     "output_type": "execute_result"
    }
   ],
=======
   "execution_count": null,
   "metadata": {},
   "outputs": [],
>>>>>>> 93a8c5fd990faf0e43987aebebea97c125234b56
   "source": [
    "np.ones_like(23)\n",
    "centers[0]"
   ]
  },
  {
   "cell_type": "code",
<<<<<<< HEAD
   "execution_count": 77,
   "metadata": {},
   "outputs": [
    {
     "data": {
      "text/plain": [
       "array([0.5, 0.5, 0.5, 0.5, 0.5, 0.5, 0.5, 0.5, 0.5, 0.5, 0.5, 0.5, 0.5,\n",
       "       0.5, 0.5, 0.5, 0.5, 0.5, 0.5, 0.5, 0.5, 0.5, 0.5])"
      ]
     },
     "execution_count": 77,
     "metadata": {},
     "output_type": "execute_result"
    }
   ],
=======
   "execution_count": null,
   "metadata": {},
   "outputs": [],
>>>>>>> 93a8c5fd990faf0e43987aebebea97c125234b56
   "source": [
    "np.ones_like(centers[0])*0.5"
   ]
  },
  {
   "cell_type": "code",
<<<<<<< HEAD
   "execution_count": 78,
   "metadata": {},
   "outputs": [
    {
     "data": {
      "image/png": "iVBORw0KGgoAAAANSUhEUgAAA20AAAKpCAYAAAAv/MTcAAAABHNCSVQICAgIfAhkiAAAAAlwSFlz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\n",
      "text/plain": [
       "<matplotlib.figure.Figure at 0x4768ba0b8>"
      ]
     },
     "metadata": {},
     "output_type": "display_data"
    }
   ],
=======
   "execution_count": null,
   "metadata": {},
   "outputs": [],
>>>>>>> 93a8c5fd990faf0e43987aebebea97c125234b56
   "source": [
    "plt.rcParams[\"figure.figsize\"] = (15,15)\n",
    "for i, q_m_k in enumerate(q_m_kde):\n",
    "    plt.subplot(5,5,i+1)\n",
    "    plt.plot(centers[i], q_m[i])\n",
    "    plt.plot(centers[i], np.cumsum(q_m_k))\n",
    "plt.show()"
   ]
  },
  {
   "cell_type": "code",
<<<<<<< HEAD
   "execution_count": 79,
   "metadata": {},
   "outputs": [
    {
     "name": "stderr",
     "output_type": "stream",
     "text": [
      "/Users/im281/anaconda3/lib/python3.6/site-packages/ipykernel/__main__.py:23: RuntimeWarning: invalid value encountered in true_divide\n"
     ]
    },
    {
     "data": {
      "image/png": "iVBORw0KGgoAAAANSUhEUgAAAtgAAAJiCAYAAAD9grUWAAAABHNCSVQICAgIfAhkiAAAAAlwSFlz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\nHvr/Gj9ezizADDAAAAAASUVORK5CYII=\n",
      "text/plain": [
       "<matplotlib.figure.Figure at 0x51403f2b0>"
      ]
     },
     "metadata": {},
     "output_type": "display_data"
    }
   ],
=======
   "execution_count": null,
   "metadata": {},
   "outputs": [],
>>>>>>> 93a8c5fd990faf0e43987aebebea97c125234b56
   "source": [
    "#plot q(m,c)/n(m,c) to see that everthing looks okay. The width of the line shows how many sources are in the bin\n",
    "plt.rcParams[\"figure.figsize\"] = (12,10)\n",
    "\n",
    "from matplotlib import cm\n",
    "from matplotlib.collections import LineCollection\n",
    "\n",
    "cm_subsection = np.linspace(0., 1., 16) \n",
    "colors = [ cm.viridis(x) for x in cm_subsection ]\n",
    "\n",
    "low = np.nonzero(centers[1] >= 15)[0][0]\n",
    "high = np.nonzero(centers[1] >= 22.2)[0][0]\n",
    "\n",
    "fig, a = plt.subplots()\n",
    "\n",
    "for i, q_m_k in enumerate(q_m):\n",
    "    #plot(centers[i], q_m_old[i]/n_m_old[i])\n",
    "    a = plt.subplot(4,4,i+1)\n",
    "    if i not in [-1]:\n",
    "        n_m_aux = n_m[i]/np.sum(n_m[i])\n",
    "        lwidths = (n_m_aux/np.max(n_m_aux)*10).astype(float) + 1\n",
    "        #print(lwidths)\n",
    "        \n",
    "        y_aux = q_m_k/n_m[i]\n",
    "        mask = ~np.isnan(y_aux)\n",
    "        y_aux = y_aux[mask]\n",
    "        factor = np.max(y_aux[low:high])\n",
    "        y = y_aux\n",
    "        #print(y)\n",
    "        x = centers[i]\n",
    "        \n",
    "        points = np.array([x, y]).T.reshape(-1, 1, 2)\n",
    "        segments = np.concatenate([points[:-1], points[1:]], axis=1)\n",
    "        \n",
    "        lc = LineCollection(segments, linewidths=lwidths, color=colors[i])\n",
    "        \n",
    "        a.add_collection(lc)\n",
    "        \n",
    "        #plot(centers[i], x/factor, color=colors[i-1])\n",
    "        plt.xlim([12, 30])\n",
    "        if i == 0:\n",
    "            plt.xlim([10, 23])\n",
    "        plt.ylim([0, 1.2*factor])\n",
    "\n",
    "plt.subplots_adjust(left=0.125, \n",
    "                bottom=0.1, \n",
    "                right=0.9, \n",
    "                top=0.9,\n",
    "                wspace=0.4, \n",
    "                hspace=0.2)\n",
    "plt.show()"
   ]
  },
  {
   "cell_type": "code",
<<<<<<< HEAD
   "execution_count": 80,
=======
   "execution_count": null,
>>>>>>> 93a8c5fd990faf0e43987aebebea97c125234b56
   "metadata": {},
   "outputs": [],
   "source": [
    "selection = ~np.isnan(opt_ir[\"category\"]) # Avoid the two dreaded sources with no actual data\n",
    "catalogue = opt_ir[selection]"
   ]
  },
  {
   "cell_type": "code",
<<<<<<< HEAD
   "execution_count": 81,
=======
   "execution_count": null,
>>>>>>> 93a8c5fd990faf0e43987aebebea97c125234b56
   "metadata": {},
   "outputs": [],
   "source": [
    "radius = 15"
   ]
  },
  {
   "cell_type": "code",
<<<<<<< HEAD
   "execution_count": 82,
=======
   "execution_count": null,
>>>>>>> 93a8c5fd990faf0e43987aebebea97c125234b56
   "metadata": {},
   "outputs": [],
   "source": [
    "def apply_ml(i, likelihood_ratio_function):\n",
    "    idx_0 = idx_i[idx_lofar == i]\n",
    "    d2d_0 = d2d[idx_lofar == i]\n",
    "    \n",
    "    category = catalogue[\"category\"][idx_0].astype(int)\n",
    "    mag = catalogue[opt_colname][idx_0]\n",
    "    mag[category == 0] = catalogue[ir_colname][idx_0][category == 0]\n",
    "    \n",
    "    lofar_ra = lofar[i][\"RA\"]\n",
    "    lofar_dec = lofar[i][\"DEC\"]\n",
    "    lofar_pa = lofar[i][\"PA\"]\n",
    "    lofar_maj_err = lofar[i][\"E_Maj\"]\n",
    "    lofar_min_err = lofar[i][\"E_Min\"]\n",
    "    c_ra = catalogue[\"ra\"][idx_0]\n",
    "    c_dec = catalogue[\"dec\"][idx_0]\n",
    "    c_ra_err = 1.0\n",
    "    c_dec_err = 1.0\n",
    "    \n",
    "    sigma, sigma_maj, sigma_min = get_sigma_all(lofar_maj_err, lofar_min_err, lofar_pa, \n",
    "                      lofar_ra, lofar_dec, \n",
    "                      c_ra, c_dec, c_ra_err, c_dec_err)\n",
    "\n",
    "    lr_0 = likelihood_ratio_function(mag, d2d_0.arcsec, sigma, category)\n",
    "    if len(lr_0) == 0:\n",
    "\n",
    "        result = [np.nan,np.nan,np.nan,np.nan,np.nan]\n",
    "        return result\n",
    "    chosen_index = np.argmax(lr_0)\n",
    "    lr_sum = np.sum(lr_0)\n",
    "    rel = lr_0/(lr_sum + (1-q0_total))\n",
    "    helpid = catalogue['help_id'][idx_0][0]\n",
    "    result = [opt_ir_index[selection][idx_0[chosen_index]], # Index\n",
    "              (d2d_0.arcsec)[chosen_index],                        # distance\n",
    "              lr_0[chosen_index],\n",
    "              rel[chosen_index],\n",
    "              helpid]                                  # LR\n",
    "    return result"
   ]
  },
  {
   "cell_type": "markdown",
   "metadata": {},
   "source": [
    "### Run the cross-match\n",
    "\n",
    "This will not need to be repeated after"
   ]
  },
  {
   "cell_type": "code",
<<<<<<< HEAD
   "execution_count": 83,
=======
   "execution_count": null,
>>>>>>> 93a8c5fd990faf0e43987aebebea97c125234b56
   "metadata": {},
   "outputs": [],
   "source": [
    "idx_lofar, idx_i, d2d, d3d = search_around_sky(\n",
    "    lofar_coords, opt_ir_coords[selection], radius*u.arcsec)\n",
    "idx_lofar_unique = np.unique(idx_lofar)"
   ]
  },
  {
   "cell_type": "code",
<<<<<<< HEAD
   "execution_count": 84,
=======
   "execution_count": null,
>>>>>>> 93a8c5fd990faf0e43987aebebea97c125234b56
   "metadata": {},
   "outputs": [],
   "source": [
    "likelihood_ratio = MultiMLEstimator(Q_0_colour, n_m_kde, q_m_kde, centers)"
   ]
  },
  {
   "cell_type": "code",
<<<<<<< HEAD
   "execution_count": 85,
=======
   "execution_count": null,
>>>>>>> 93a8c5fd990faf0e43987aebebea97c125234b56
   "metadata": {},
   "outputs": [],
   "source": [
    "def ml(i):\n",
    "    return apply_ml(i, likelihood_ratio)"
   ]
  },
  {
   "cell_type": "code",
<<<<<<< HEAD
   "execution_count": 86,
   "metadata": {},
   "outputs": [
    {
     "name": "stderr",
     "output_type": "stream",
     "text": [
      "100%|██████████| 11.6k/11.6k [00:56<00:00, 204it/s] \n",
      "100%|██████████| 11626/11626 [00:00<00:00, 255848.74it/s]\n"
     ]
    }
   ],
=======
   "execution_count": null,
   "metadata": {},
   "outputs": [],
>>>>>>> 93a8c5fd990faf0e43987aebebea97c125234b56
   "source": [
    "res = parallel_process(idx_lofar_unique, ml, n_jobs=n_cpus)"
   ]
  },
  {
   "cell_type": "code",
<<<<<<< HEAD
   "execution_count": 87,
=======
   "execution_count": null,
>>>>>>> 93a8c5fd990faf0e43987aebebea97c125234b56
   "metadata": {},
   "outputs": [],
   "source": [
    "lofar[\"lr_index_2\"] = np.nan\n",
    "lofar[\"lr_dist_2\"] = np.nan\n",
    "lofar[\"lr_2\"] = np.nan\n",
    "lofar[\"lr_reliability_2\"] = np.nan\n",
    "lofar[\"helpid_2\"] = ''"
   ]
  },
  {
   "cell_type": "code",
<<<<<<< HEAD
   "execution_count": 88,
=======
   "execution_count": null,
>>>>>>> 93a8c5fd990faf0e43987aebebea97c125234b56
   "metadata": {},
   "outputs": [],
   "source": [
    "(lofar[\"lr_index_2\"][idx_lofar_unique], \n",
    " lofar[\"lr_dist_2\"][idx_lofar_unique], \n",
    " lofar[\"lr_2\"][idx_lofar_unique],\n",
    " lofar[\"lr_reliability_2\"][idx_lofar_unique],\n",
    " lofar[\"helpid_2\"][idx_lofar_unique]) = list(map(list, zip(*res)))"
   ]
  },
  {
   "cell_type": "code",
<<<<<<< HEAD
   "execution_count": 89,
   "metadata": {},
   "outputs": [
    {
     "data": {
      "text/plain": [
       "0.2664323871537029"
      ]
     },
     "execution_count": 89,
     "metadata": {},
     "output_type": "execute_result"
    }
   ],
=======
   "execution_count": null,
   "metadata": {},
   "outputs": [],
>>>>>>> 93a8c5fd990faf0e43987aebebea97c125234b56
   "source": [
    "lofar[\"lr_2\"][np.isnan(lofar[\"lr_2\"])] = 0\n",
    "\n",
    "mask = (~np.isnan(lofar[\"lr_dist_2\"])) & (lofar['lr_2']>0)\n",
    "threshold = np.percentile(lofar[\"lr_2\"][mask], 100*(1 - q0_total))\n",
    "threshold"
   ]
  },
  {
   "cell_type": "code",
<<<<<<< HEAD
   "execution_count": 90,
   "metadata": {},
   "outputs": [
    {
     "data": {
      "image/png": "iVBORw0KGgoAAAANSUhEUgAAA4EAAAFpCAYAAAAiIi0KAAAABHNCSVQICAgIfAhkiAAAAAlwSFlz\nAAALEgAACxIB0t1+/AAAADl0RVh0U29mdHdhcmUAbWF0cGxvdGxpYiB2ZXJzaW9uIDIuMS4wLCBo\ndHRwOi8vbWF0cGxvdGxpYi5vcmcvpW3flQAAHdFJREFUeJzt3X3QrGddH/DvDw4BQTABDjQm0RNq\nGrQOL/FMjC+DlFheYocDrZkJYyGjcTK2oFja0WPtiMV/wGlF6VicNKGGDqNQoJKaKE0DiB2bwAmE\nEIghh0jJMSk5QIi2jNXo1T/2PrB5zj4v59l99u36fGaeeXavvfbe637Zve7v3td9b7XWAgAAQB8e\ntegGAAAAMD9CIAAAQEeEQAAAgI4IgQAAAB0RAgEAADoiBAIAAHRk2xBYVW+rqgeq6o6xsidX1Y1V\ndffw/4yhvKrqLVV1tKpur6oLxp5z+VD/7qq6fG9mBwDmRx8JwCrayZHA30zy4g1lh5Pc1Fo7L8lN\nw/0keUmS84a/K5O8NRl1iElen+S7k1yY5PUnOkUAWGG/GX0kACtm2xDYWvtwki9vKD6U5Nrh9rVJ\nXjZW/vY2cnOS06vqzCQvSnJja+3LrbUHk9yYkztNAFgp+kgAVtFuzwl8emvt/iQZ/j9tKD8ryb1j\n9Y4NZZuVA8C60UcCsNT2zXh6NaGsbVF+8gSqrsxomEye8IQnfNczn/nMqRp01113JUnOP//8qaYD\nwN669dZbv9ha27/oduyhpesje2FfAFhle9E/7jYEfqGqzmyt3T8MZXlgKD+W5JyxemcnuW8of/6G\n8g9NmnBr7aokVyXJwYMH25EjR3bZxJHnP3/0sh/60MSXA2BJVNX/WnQbZmRl+she2BcAVtle9I+7\nHQ56XZITVy+7PMn7xspfNVwB7aIkDw1DYd6f5IVVdcZwsvsLhzIAWDf6SACW2rZHAqvqtzL6hvKp\nVXUsoyuYvTHJu6rqiiSfT3LpUP2GJJckOZrkq0l+NElaa1+uql9K8tGh3htaaxtPpAeAlaKPBGAV\nbRsCW2uv2OShiyfUbUlevcl03pbkbafUOgBYYvpIAFbRboeDAgAAsIKEQAAAgI4IgQAAAB0RAgEA\nADoiBAIAAHRECAQAAOiIEAgAANARIRAAAKAjQiAAAEBHhEAAAICOCIEAAAAdEQIBAAA6IgQCAAB0\nRAgEAADoiBAIAADQESEQAACgI0IgAABAR4RAAACAjgiBAAAAHRECAQAAOiIEAgAAdEQIBAAA6IgQ\nCAAA0BEhEAAAoCNCIAAAQEeEQAAAgI4IgQAAAB0RAgEAADoiBAIAAHRECAQAAOiIEAgAANARIRAA\nAKAjQiAAAEBHhEAAAICOCIEAAAAdEQIBAAA6IgQCAAB0RAgEAADoiBAIAADQESEQAACgI0IgAABA\nR4RAAACAjgiBAAAAHRECAQAAOiIEAgAAdEQIBAAA6IgQCAAA0JEuQuDN93xp0U0AAABYCl2EQAAA\nAEaEQAAAgI4IgQAAAB0RAgEAADoiBAIAAHRECAQAAOiIEAgAANARIRAAAKAjU4XAqvpnVfWpqrqj\nqn6rqh5XVedW1S1VdXdVvbOqThvqPna4f3R4/MAsZgAAlpE+EoBltesQWFVnJfmpJAdba9+Z5NFJ\nLkvypiRvbq2dl+TBJFcMT7kiyYOttW9L8uahHgCsHX0kAMts2uGg+5J8Q1XtS/L4JPcneUGSdw+P\nX5vkZcPtQ8P9DI9fXFU15esDwLLSRwKwlHYdAltrf5rk3yT5fEYd20NJbk3yldbaw0O1Y0nOGm6f\nleTe4bkPD/WfstvXB4BlpY8EYJlNMxz0jIy+uTw3yTcneUKSl0yo2k48ZYvHxqd7ZVUdqaojx48f\n323zAGBh9JEALLNphoP+YJI/aa0db639VZL3JvneJKcPQ1+S5Owk9w23jyU5J0mGx78pyZc3TrS1\ndlVr7WBr7eD+/funaB4ALIw+EoClNU0I/HySi6rq8cN5Cxcn+XSSDyb54aHO5UneN9y+brif4fEP\ntNZO+pYTANaAPhKApTXNOYG3ZHTy+seSfHKY1lVJfjbJ66rqaEbnM1wzPOWaJE8Zyl+X5PAU7QaA\npaWPBGCZ7du+yuZaa69P8voNxfckuXBC3b9Icuk0rwcAq0IfCcCymvYnIgAAAFghQiAAAEBHhEAA\nAICOCIEAAAAdEQIBAAA6IgQCAAB0RAgEAADoiBAIAADQESEQAACgI0IgAABAR4RAAACAjgiBAAAA\nHRECAQAAOiIEAgAAdEQIBAAA6IgQCAAA0BEhEAAAoCNCIAAAQEeEQAAAgI4IgQAAAB0RAgEAADoi\nBAIAAHRECAQAAOiIEAgAANARIRAAAKAjQiAAAEBHhEAAAICOCIEAAAAdEQIBAAA6IgQCAAB0RAgE\nAADoiBAIAADQESEQAACgI0IgAABAR4RAAACAjgiBAAAAHRECAQAAOiIEAgAAdEQIBAAA6IgQCAAA\n0BEhEAAAoCNCIAAAQEeEQAAAgI4IgQAAAB0RAgEAADoiBAIAAHRECAQAAOiIEAgAANARIRAAAKAj\nQiAAAEBHhEAAAICOCIEAAAAdEQIBAAA6IgQCAAB0RAgEAADoiBAIAADQESEQAACgI1OFwKo6vare\nXVV/XFV3VtX3VNWTq+rGqrp7+H/GULeq6i1VdbSqbq+qC2YzCwCwfPSRACyraY8E/lqS32+tPTPJ\ns5PcmeRwkptaa+cluWm4nyQvSXLe8HdlkrdO+doAsMz0kQAspV2HwKp6UpLnJbkmSVprf9la+0qS\nQ0muHapdm+Rlw+1DSd7eRm5OcnpVnbnrlgPAktJHArDMpjkS+Iwkx5P8x6r6eFVdXVVPSPL01tr9\nSTL8f9pQ/6wk9449/9hQ9ghVdWVVHamqI8ePH5+ieQCwMPpIAJbWNCFwX5ILkry1tfbcJP83Xx/W\nMklNKGsnFbR2VWvtYGvt4P79+6doHgAsjD4SgKU1TQg8luRYa+2W4f67M+rwvnBiCMvw/4Gx+ueM\nPf/sJPdN8foAsKz0kQAsrV2HwNba/05yb1WdPxRdnOTTSa5LcvlQdnmS9w23r0vyquEKaBcleejE\nkBgAWCf6SACW2b4pn/+TSd5RVacluSfJj2YULN9VVVck+XySS4e6NyS5JMnRJF8d6gLAutJHArCU\npgqBrbXbkhyc8NDFE+q2JK+e5vUAYFXoIwFYVtP+TiAAAAArRAgEAADoiBAIAADQESEQAACgI0Ig\nAABAR4RAAACAjgiBAAAAHRECAQAAOiIEAgAAdEQIBAAA6IgQCAAA0BEhEAAAoCNCIAAAQEeEQAAA\ngI4IgQAAAB0RAgEAADoiBAIAAHRECAQAAOiIEAgAANARIRAAAKAjQiAAAEBHhEAAAICOCIEAAAAd\nEQIBAAA6IgQCAAB0RAgEAADoiBAIAADQESEQAACgI0IgAABAR4RAAACAjgiBAAAAHRECAQAAOiIE\nAgAAdEQIBAAA6IgQCAAA0BEhEAAAoCNCIAAAQEeEQAAAgI4IgQAAAB0RAgEAADoiBAIAAHRECAQA\nAOiIEAgAANARIRAAAKAjQiAAAEBHhEAAAICOCIEAAAAdEQIBAAA6IgQCAAB0RAgEAADoiBAIAADQ\nESEQAACgI0IgAABAR4RAAACAjgiBAAAAHRECAQAAOjJ1CKyqR1fVx6vqd4f751bVLVV1d1W9s6pO\nG8ofO9w/Ojx+YNrXBoBlpo8EYBnN4kjga5PcOXb/TUne3Fo7L8mDSa4Yyq9I8mBr7duSvHmoBwDr\nTB8JwNKZKgRW1dlJfijJ1cP9SvKCJO8eqlyb5GXD7UPD/QyPXzzUB4C1o48EYFlNeyTwV5P8TJK/\nGe4/JclXWmsPD/ePJTlruH1WknuTZHj8oaH+I1TVlVV1pKqOHD9+fMrmAcDC6CMBWEq7DoFV9Q+S\nPNBau3W8eELVtoPHvl7Q2lWttYOttYP79+/fbfMAYGH0kQAss31TPPf7kry0qi5J8rgkT8roW8/T\nq2rf8E3m2UnuG+ofS3JOkmNVtS/JNyX58hSvDwDLSh8JwNLa9ZHA1trPtdbObq0dSHJZkg+01n4k\nyQeT/PBQ7fIk7xtuXzfcz/D4B1prJ33LCQCrTh8JwDLbi98J/Nkkr6uqoxmdz3DNUH5NkqcM5a9L\ncngPXhsAlpk+EoCFm2Y46Ne01j6U5EPD7XuSXDihzl8kuXQWrwcAq0IfCcCy2YsjgQAAACwpIRAA\nAKAjQiAAAEBHhEAAAICOCIEAAAAdEQIBAAA6IgQCAAB0RAgEAADoiBAIAADQESEQAACgI0IgAABA\nR4RAAACAjgiBAAAAHRECAQAAOiIEAgAAdEQIBAAA6IgQCACslAOHr8+Bw9cvuhkAK0sIBAAA6IgQ\nCAAA0BEhEAAAoCNCIAAAQEeEQAAAgI4IgQAAAB0RAgEAADoiBAIAAHRECAQAAOiIEAgAANARIRAA\nAKAjQiAAAEBHhEAAAICOCIEAAAAdEQIBAAA6IgQCAAB0RAgEAADoiBAIAADQESEQAACgI0IgAABA\nR4RAAACAjgiBAAAAHRECAQAAOiIEAgAAdEQIBAAA6Eg3IfDA4etz4PD1i24GAADAQnUTAgEAABAC\nAQAAuiIEAgAAdEQIBAAA6IgQCAAA0BEhEAAAoCNCIAAAQEe6DYF+NxAAAOhRtyEQAACgR0IgAABA\nR7oLgRuHgRoSCgAA9KS7ELgTgiEAALCuhMC4SAwAANCPXYfAqjqnqj5YVXdW1aeq6rVD+ZOr6saq\nunv4f8ZQXlX1lqo6WlW3V9UFs5oJAFgm+kgAltk0RwIfTvLPW2vfnuSiJK+uqu9IcjjJTa2185Lc\nNNxPkpckOW/4uzLJW6d4bQBYZvpIAJbWrkNga+3+1trHhtt/nuTOJGclOZTk2qHatUleNtw+lOTt\nbeTmJKdX1Zm7bjkALCl9JADLbCbnBFbVgSTPTXJLkqe31u5PRp1gkqcN1c5Kcu/Y044NZQCwtvSR\nACybqUNgVX1jkvck+enW2p9tVXVCWZswvSur6khVHTl+/Pi0zZs5F5ABYKd66yMBWA1ThcCqekxG\nnds7WmvvHYq/cGIIy/D/gaH8WJJzxp5+dpL7Nk6ztXZVa+1ga+3g/v37p2keACyMPhKAZTXN1UEr\nyTVJ7myt/crYQ9cluXy4fXmS942Vv2q4AtpFSR46MSQGANaJPhKAZbZviud+X5JXJvlkVd02lP3L\nJG9M8q6quiLJ55NcOjx2Q5JLkhxN8tUkPzrFa+8JQz0BmJG16yMBWB+7DoGttf+RyecwJMnFE+q3\nJK/e7estsxPh8XNv/KFH3AagT/pIAJbZTK4OCgAAwGoQAgEAADoiBG7jwOHrZ36u4F5MEwAAYCem\nuTBMV041tDk3EAAAWEZC4BR2GgwFQgAAYFkYDgoAANARIXCGnOcHAAAsO8NBN7FVoBP2AACAVeVI\n4B7bLjC6UigAADBPQiAAAEBHhEAAAICOOCdwjvzWIAAAsGiOBC4J5wYCAADzIAQukNAHAMC6cXBj\n+QmBK8AbCQAAmBUhcMmcCHyTQp8gCADAXrCf2RcXhlkxG9+gky4a44IyAADAZhwJXCOGjQIAkGy/\nX2ifsW9C4JrwRgYA6Mu0+3/2H/slBAIAwBowKoydEgIBAGCNnEoQNGy0Ty4Ms+K8MQEA+rIM+38H\nDl/vIoQrTAgEAAB2dIX5ZQigTE8I7JSfkQAA6MOs9vs2BsDx6W72GpPKx6djX3QxhMDOeRMCACzW\ndiFtfOjlNEfidvpcQz3XnxDYgVN9I3vjAwAs3nho2y7AzXqY5rxe2wGJxRACO7GTN6cx3gAA05vn\naTfzDofb2Sw8OsiwXITANSbUAQAsh1M94mU/bnMC5fT8TiAAACzIqQy7xDKaFUcCOWWuLAoAsHt+\nnJ1FcySQiQ4cvt6HEADABI7e7b0T+6Inlq9909kSAtlT3qwAQK/sB+09gXx3DAdlS4Z+AgBsbVa/\n47fudrtslu0KqOtACGRHFnF5YcETAFhWp/LD6+yM/b/5MRyUXds4NnuzD7lTGcNtvDcAMGu73b+w\nTzJ/9gXnw5FApmYsNgCw7hylWi72OacjBAIAwA74aYfl53oWOyMEsjC+UQMAlp1wt5rG15v9zZMJ\ngSzUXn5b45sgAGCnhD164sIwzN1OT/idVG+aE7t9uANA3+wLwIgjgczNtB+8PrgBgJ06lRFB9jHW\nnxFijyQEshR8+AIA82Cfoz/W+cmEQJbeqb5xvdEBYHXt9oiNC87BzgmBrCRDPABgve306o76eTh1\nQiAr7VQv/7sxPLp8MMDqcuRn+Wy1Tjb7Ane8fKeBbrtpbVdGv3xujLg6KF2a5iqjAACwyoRA1sZe\n/gzE+LRP5XWERgCY3mb9qX6W3fDTYUIgnOTEB8Osf49w42ObDVnR0QGwSnb6278b708qm9XrAVtz\nTiAM9vIo4mb3Z/WbNca3A7BTe/F7aafSh+62vxX+YHaEQNilRXZGfvAUYMTn4WxsdaG0aZax4AbL\nSQiEPTCv3zbci6OKADDJxqC4Xd+1m2GiME89XyVeCIQtLKpzmmZ458Y2T5rO+PSFR2AdzGpnbh2G\n1++kHzhRb7s+YqevsdPHgOXgwjCwpDY7aX7WF6wBWDe9fN71Mp/A7DkSCEtu2k5+p1cbnfRjvZPO\nC5nluSIAq2YRn3k7/QH2Wf7+rc92WG9CIPAI251naMcAWAXjn1U33/OlR5SdKD/VIaQ7GQK52Rdp\nO33tZTu6t2ztgb3S2/mBQiB0ZJaX5d7J7zttdq7JZo8BzNpufnt1t+dWn+rr7LbOVp+tu50+8Ejr\nvr8y9xBYVS9O8mtJHp3k6tbaG+fdBmB+TmVo6ak8H9aN/nGxZjWUctJoilm81iyfD2yth/fYXENg\nVT06ya8n+ftJjiX5aFVd11r79DzbAczHTnaGJj2223NbpiFsskj6x+XWww4hMNk6XDF4knkfCbww\nydHW2j1JUlW/neRQEp0cdGi335JvNVRrq+fO4kN8p5deh1OkfwRYUut4vuC8Q+BZSe4du38syXfP\nuQ3ACprF+S578cPFkzqGnUxjq+C63YUl5t0BbXXBi3X9hnQB9I8AK2An5+euQr9YrbX5vVjVpUle\n1Fr78eH+K5Nc2Fr7ybE6Vya5crh7fpK7ZvDST03yxRlMp0eW3e5ZdtOx/HZvVZfdt7bW9i+6EYuw\nk/5xKB/vI78zyR1zbejyWNVtfFZ6nv+e5z3pe/57nvfzW2tPnOUE530k8FiSc8bun53kvvEKrbWr\nklw1yxetqiOttYOznGYvLLvds+ymY/ntnmW3krbtH5NH9pE9r+ee5z3pe/57nvek7/nvfd5nPc1H\nzXqC2/hokvOq6tyqOi3JZUmum3MbAGDZ6B8BmJu5HglsrT1cVa9J8v6MLoH9ttbap+bZBgBYNvpH\nAOZp7r8T2Fq7IckNc37ZmQ4v7Yxlt3uW3XQsv92z7FbQLvrHntdzz/Oe9D3/Pc970vf8m/cZmuuF\nYQAAAFiseZ8TCAAAwAKtdQisqhdX1V1VdbSqDi+6Pcuuqj5XVZ+sqttOXIWoqp5cVTdW1d3D/zMW\n3c5lUVVvq6oHquqOsbKJy6tG3jJsi7dX1QWLa/nibbLsfrGq/nTY/m6rqkvGHvu5YdndVVUvWkyr\nl0NVnVNVH6yqO6vqU1X12qHctremdrIOq+qJY++d26rqi1X1q4to7yxt149X1WOr6p3D47dU1YH5\nt3L2Nnufb6jzI8P2cHtV/VFVPXsRbd0rVfXaqrpjmP+fnvD42ny2VdXjquojVfWJYX7/9VB+7rBd\n3z1s56dt8vxnVdX/HJ77yap63HznYDqT1nVVPXuYp09W1X+tqidt8tyV29ffYn2/ZpiPVlVPHav/\n/Kp6aOzz/Rc2me47hmVxx7Cf9ZgtG9JaW8u/jE6s/2ySZyQ5LcknknzHotu1zH9JPpfkqRvKfjnJ\n4eH24SRvWnQ7l+UvyfOSXJDkju2WV5JLkvxekkpyUZJbFt3+JVx2v5jkX0yo+x3D+/exSc4d3teP\nXvQ8LHDZnZnkguH2E5N8ZlhGtr01/dvNOkxya5LnLbrtU873tv14kn+a5DeG25cleeei2z2jeZ/4\nPt9Q53uTnDHcfsk6vbfz9d/AfHxG16/470nO21BnbT7bhnn4xuH2Y5LcMszTu5JcNpT/RpJ/MuG5\n+5LcnuTZw/2nrFIfudm6zuiKyT8w1PmxJL804bkrua+/xfp+bpID2bA/nuT5SX53B9O9ZJh2Jfmt\nSdvL+N86Hwm8MMnR1to9rbW/TPLbSQ4tuE2r6FCSa4fb1yZ52QLbslRaax9O8uUNxZstr0NJ3t5G\nbk5yelWdOZ+WLp9Nlt1mDiX57dba/2ut/UmSoxm9v7vUWru/tfax4fafJ7kzyVmx7a2zU1qHVXVe\nkqcl+cN5NXCP7KQfH9/u353k4qqqObZxT2zxPh+v80ettQeHuzdn9NuS6+Lbk9zcWvtqa+3hJH+Q\n5OUb6qzNZ9swD/9nuPuY4a8leUFG23Wy+T7YC5Pc3lr7xDCtL7XW/nqPmzxLm63r85N8eKhzY5J/\nNOG5K7mvv9n6bq19vLX2uSmme8Mw7ZbkI9nmM2GdQ+BZSe4du38sGz5AOUlL8t+q6taqunIoe3pr\n7f5k1ClltGPB5jZbXrbHnXnNMKznbfX1oceW3SaGoW/PzehbRNve+jrVdfiKjI6IrfqV33Yy31+r\nM+xAPpTRkZC1seF9vpkrMjoqti7uSPK8qnpKVT0+oyMc52yos1afbVX16Kq6LckDGYWezyb5yrBd\nJ5vP399J0qrq/VX1sar6mfm0eGY2W9d3JHnpUOfSnLz+kxXeBjau79baVu/vJPmeYfjo71XV391m\n2o9J8sokv79VvXUOgZO+CVz1DnGvfV9r7YKMhpW8uqqet+gGrRHb4/bemuRvJ3lOkvuT/Nuh3LKb\noKq+Mcl7kvx0a+3Ptqo6oaz75bdiTnUdXpbRUKBVt5P5Xuvteyfv86r6exmFwJ+dZ9v2UmvtziRv\nyigM/X5Gw/we3lBtrdZ9a+2vW2vPyejozYUZHSE7qdqEsn1Jvj/Jjwz/X15VF+9ZQ2dsi3X9Yxnt\ni96a0ZDov5zw9JXdBjau76r6zi2qfyzJt7bWnp3k3yX5nW0m/++TfLi1tuVokHUOgcfyyG8Nzk5y\n34LashJaa/cN/x9I8l8y+hD6wonhFcP/BxbXwpWw2fKyPW6jtfaF4UPxb5L8h3x9yKdlt8HwLd97\nkryjtfbeodi2t0aq6tUnLgKQ0fra0TocLg6yr7V26xyaudd2su1+rU5V7UvyTdn5UPOltsn7fGOd\nZyW5Osmh1tqX5tm+vdZau6a1dkFr7XkZrdO7N1RZy8+21tpXknwoo3PETh+262Tz+TuW5A9aa19s\nrX01o98aXamL5Exa1621P26tvbC19l0Zfan12QlPXfltYGx9v3iLOn92YvhoG/2e7GPGLxwzrqpe\nn2R/ktdt99rrHAI/muS84cpKp2X0zeh1C27T0qqqJ1TVE0/czmiM+R0ZLbPLh2qXJ3nfYlq4MjZb\nXtcledVwNbOLkjx0YugeIxvO5Xh5RttfMlp2l9XoKoDnZnTC+Efm3b5lMZzvdE2SO1trvzL2kG1v\njbTWfr219pzhm+Lfyc7X4SuyHkcBk5314+Pb/Q8n+cAaDIPd6n0+Xudbkrw3yStba5+ZZ/vmoaqe\nNvz/liT/MCdv12vz2VZV+6vq9OH2NyT5wYzOA/1gRtt1svk+2PuTPKuqHj8Exh9I8um9b/XsTFrX\nY2WPSvKvMrowzkYrua+/yfr+4y3q/60T5zpX1YUZ5beTvvSpqh9P8qIkrxi+UN9aO4Wr2azaX0bj\nij+T0bcHP7/o9izzX0ZXVvrE8PepE8sro3MrbsroG7ibkjx50W1dlr+MOqT7k/xVRt9GXbHZ8spo\nyMKvD9viJ5McXHT7l3DZ/adh2dye0Yf4mWP1f35Ydnclecmi27/gZff9GQ13uT3JbcPfJba99f3b\nah0muW1D3XuSPHPRbZ7hvJ/Ujyd5Q5KXDrcfl+Q/Z3TBqI8kecai2zyj+d7sff4TSX5iqHN1kgfH\nHj+y6HbPeBn8YUZh5hNJLh7Kxud/bT7bkjwryceH9X1Hkl8Yyp8xbNdHh+38sUP5S5O8Yez5/zij\nfbc7kvzyoudnRuv6tcN7/zNJ3pikhvJvTnLD2HNXbl9/i/X9UxntEz2c0RHNq4fy1wzr9xMZXQTq\ne8emdUOSbx5uPzwshxOfCb+wVTtOLFAAAAA6sM7DQQEAANhACAQAAOiIEAgAANARIRAAAKAjQiAA\nAEBHhEAAAICOCIEAAAAdEQIBAAA68v8BVDea7bibAlgAAAAASUVORK5CYII=\n",
      "text/plain": [
       "<matplotlib.figure.Figure at 0x47e6f49e8>"
      ]
     },
     "metadata": {},
     "output_type": "display_data"
    }
   ],
=======
   "execution_count": null,
   "metadata": {},
   "outputs": [],
>>>>>>> 93a8c5fd990faf0e43987aebebea97c125234b56
   "source": [
    "plt.rcParams[\"figure.figsize\"] = (15,6)\n",
    "plt.subplot(1,2,1)\n",
    "plt.hist(lofar[lofar[\"lr_2\"] != 0][\"lr_2\"], bins=200)\n",
    "plt.vlines([threshold], 0, 1000)\n",
    "plt.ylim([0,1000])\n",
    "plt.subplot(1,2,2)\n",
    "plt.hist(np.log10(lofar[lofar[\"lr_2\"] != 0][\"lr_2\"]+1), bins=200)\n",
    "plt.vlines(np.log10(threshold+1), 0, 1000)\n",
    "ticks, _ = plt.xticks()\n",
    "plt.xticks(ticks, [\"{:.1f}\".format(10**t-1) for t in ticks])\n",
    "plt.ylim([0,1000]);\n",
    "plt.show()"
   ]
  },
  {
   "cell_type": "code",
<<<<<<< HEAD
   "execution_count": 91,
=======
   "execution_count": null,
>>>>>>> 93a8c5fd990faf0e43987aebebea97c125234b56
   "metadata": {},
   "outputs": [],
   "source": [
    "lofar[\"lr_index_sel_2\"] = lofar[\"lr_index_2\"]\n",
    "lofar[\"lr_index_sel_2\"][lofar[\"lr_2\"] < threshold] = np.nan"
   ]
  },
  {
   "cell_type": "code",
<<<<<<< HEAD
   "execution_count": 92,
   "metadata": {},
   "outputs": [
    {
     "data": {
      "text/plain": [
       "248"
      ]
     },
     "execution_count": 92,
     "metadata": {},
     "output_type": "execute_result"
    }
   ],
=======
   "execution_count": null,
   "metadata": {},
   "outputs": [],
>>>>>>> 93a8c5fd990faf0e43987aebebea97c125234b56
   "source": [
    "n_changes = np.sum((lofar[\"lr_index_sel_2\"] != lofar[\"lr_index_1\"]) & \n",
    "                   ~np.isnan(lofar[\"lr_index_sel_2\"]) &\n",
    "                   ~np.isnan(lofar[\"lr_index_1\"]))\n",
    "n_changes"
   ]
  },
  {
   "cell_type": "code",
<<<<<<< HEAD
   "execution_count": 93,
=======
   "execution_count": null,
>>>>>>> 93a8c5fd990faf0e43987aebebea97c125234b56
   "metadata": {},
   "outputs": [],
   "source": [
    "lofar[\"category\"] = np.nan\n",
    "lofar[ir_colname] = np.nan\n",
    "lofar[opt_colname] = np.nan\n",
    "\n",
    "c = ~np.isnan(lofar[\"lr_index_sel_2\"])\n",
    "indices = lofar[\"lr_index_sel_2\"][c].astype(int)\n",
    "lofar[\"category\"][c] = opt_ir[indices][\"category\"]\n",
    "lofar[ir_colname][c] = opt_ir[indices][ir_colname]\n",
    "lofar[opt_colname][c] = opt_ir[indices][opt_colname]"
   ]
  },
  {
   "cell_type": "code",
<<<<<<< HEAD
   "execution_count": 94,
   "metadata": {},
   "outputs": [
    {
     "data": {
      "text/plain": [
       "array([2700,   90,   26,  222,  618,  375,  417,  423,  391,  415,  408,\n",
       "        470,  501, 1039, 1044, 1952])"
      ]
     },
     "execution_count": 94,
     "metadata": {},
     "output_type": "execute_result"
    }
   ],
=======
   "execution_count": null,
   "metadata": {},
   "outputs": [],
>>>>>>> 93a8c5fd990faf0e43987aebebea97c125234b56
   "source": [
    "numbers_lofar_combined_bins = np.array([np.sum(lofar[\"category\"] == c) \n",
    "                                        for c in range(len(numbers_combined_bins))])\n",
    "numbers_lofar_combined_bins"
   ]
  },
  {
   "cell_type": "markdown",
   "metadata": {},
   "source": [
    "## Skipped rerun iter section"
   ]
  },
  {
   "cell_type": "code",
<<<<<<< HEAD
   "execution_count": 95,
=======
   "execution_count": null,
>>>>>>> 93a8c5fd990faf0e43987aebebea97c125234b56
   "metadata": {},
   "outputs": [],
   "source": [
    "def plot_q_n_m(q_m, n_m):\n",
    "    fig, a = plt.subplots()\n",
    "\n",
    "    for i, q_m_k in enumerate(q_m):\n",
    "        #plot(centers[i], q_m_old[i]/n_m_old[i])\n",
    "        a = plt.subplot(4,4,i+1)\n",
    "        if i not in [-1]:\n",
    "            n_m_aux = n_m[i]/np.sum(n_m[i])\n",
    "            lwidths = (n_m_aux/np.max(n_m_aux)*10).astype(float) + 1\n",
    "            #print(lwidths)\n",
    "\n",
    "            y_aux = q_m_k/n_m[i]\n",
    "            \n",
    "            y = y_aux\n",
    "            mask = ~np.isnan(y_aux)\n",
    "            y_aux = y_aux[mask]\n",
    "            factor = np.max(y_aux[low:high])\n",
    "            #print(y)\n",
    "            x = centers[i]\n",
    "\n",
    "            points = np.array([x, y]).T.reshape(-1, 1, 2)\n",
    "            segments = np.concatenate([points[:-1], points[1:]], axis=1)\n",
    "\n",
    "            lc = LineCollection(segments, linewidths=lwidths, color=colors[i])\n",
    "\n",
    "            a.add_collection(lc)\n",
    "\n",
    "            #plot(centers[i], x/factor, color=colors[i-1])\n",
    "            plt.xlim([12, 30])\n",
    "            if i == 0:\n",
    "                plt.xlim([10,23])\n",
    "            plt.ylim([0, 1.2*factor])\n",
    "\n",
    "    plt.subplots_adjust(left=0.125, \n",
    "                    bottom=0.1, \n",
    "                    right=0.9, \n",
    "                    top=0.9,\n",
    "                    wspace=0.4, \n",
    "                    hspace=0.2)\n",
    "    return fig"
   ]
  },
  {
   "cell_type": "code",
   "execution_count": null,
   "metadata": {},
   "outputs": [],
   "source": []
  },
  {
   "cell_type": "code",
<<<<<<< HEAD
   "execution_count": 96,
=======
   "execution_count": null,
   "metadata": {},
   "outputs": [],
   "source": []
  },
  {
   "cell_type": "code",
   "execution_count": null,
>>>>>>> 93a8c5fd990faf0e43987aebebea97c125234b56
   "metadata": {},
   "outputs": [],
   "source": [
    "#create a copy of the radio catalogue for debugging\n",
    "original = lofar.copy()"
   ]
  },
  {
   "cell_type": "code",
<<<<<<< HEAD
   "execution_count": 97,
=======
   "execution_count": null,
>>>>>>> 93a8c5fd990faf0e43987aebebea97c125234b56
   "metadata": {},
   "outputs": [],
   "source": [
    "lofar = original.copy()"
   ]
  },
  {
   "cell_type": "code",
<<<<<<< HEAD
   "execution_count": 98,
=======
   "execution_count": null,
>>>>>>> 93a8c5fd990faf0e43987aebebea97c125234b56
   "metadata": {},
   "outputs": [],
   "source": [
    "#Calculate the LR for radio sources using color\n",
    "#returns the reliability and other parameters for each potential crossmatch to allow comparison\n",
    "#the column lr_max is set to true for the crossmatch with the highest LR for each radio source\n",
    "\n",
    "#the column lr_sel is set to true for the crossmatch with the highest LR for each radio source \n",
    "#but will later be set to false if the LR is below the threshold\n",
    "\n",
    "def apply_ml_all(i, likelihood_ratio_function):\n",
    "    \n",
    "    #print(i)\n",
    "    \n",
    "    idx_0 = idx_i[idx_lofar == i]\n",
    "    d2d_0 = d2d[idx_lofar == i]\n",
    "    if len(idx_0) == 0:\n",
    "        print('no sources within search radius')\n",
    "        temp = Table()\n",
    "        col_index = Column(np.nan,name='lr_index_{}'.format(iteration))\n",
    "        col_d2d = Column(np.nan,name='lr_dist_{}'.format(iteration))\n",
    "        col_lr = Column(np.nan,name='lr_{}'.format(iteration))\n",
    "        col_rel = Column(np.nan,name='lr_reliability_{}'.format(iteration))\n",
    "        col_sourceid = Column(np.nan,name='Source_id')\n",
    "        col_helpid = Column('',name='help_id')\n",
    "        col_lr_max = Column(False,name='lr_max_{}'.format(iteration))\n",
    "        col_lr_sel = Column(False,name='lr_sel_{}'.format(iteration))\n",
    "        temp.add_columns([col_index,col_d2d,col_lr,col_rel,col_sourceid,col_helpid,col_lr_max,col_lr_sel])\n",
    "        return temp,0\n",
    "    \n",
    "    if j>0:\n",
    "        s_id = source_ids[i]\n",
    "        mask = (lofar['Source_id'] == s_id)\n",
    "    \n",
    "    category = catalogue[\"category\"][idx_0].astype(int)\n",
    "    mag = catalogue[opt_colname][idx_0]\n",
    "    mag[category == 0] = catalogue[ir_colname][idx_0][category == 0]\n",
    "    #print(mag)\n",
    "    \n",
    "    if j>0:\n",
    "        lofar_ra = original[i][\"RA\"]\n",
    "        lofar_dec = original[i][\"DEC\"]\n",
    "        lofar_pa = original[i][\"PA\"]\n",
    "        lofar_maj_err = original[i][\"E_Maj\"]\n",
    "        lofar_min_err = original[i][\"E_Min\"]\n",
    "        \n",
    "    else:\n",
    "        lofar_ra = lofar[i][\"RA\"]\n",
    "        lofar_dec = lofar[i][\"DEC\"]\n",
    "        lofar_pa = lofar[i][\"PA\"]\n",
    "        lofar_maj_err = lofar[i][\"E_Maj\"]\n",
    "        lofar_min_err = lofar[i][\"E_Min\"]\n",
    "        \n",
    "    c_ra = catalogue[\"ra\"][idx_0]\n",
    "    c_dec = catalogue[\"dec\"][idx_0]\n",
    "    c_ra_err = 1.0\n",
    "    c_dec_err = 1.0\n",
    "    \n",
    "    sigma, sigma_maj, sigma_min = get_sigma_all(lofar_maj_err, lofar_min_err, lofar_pa, \n",
    "                      lofar_ra, lofar_dec, \n",
    "                      c_ra, c_dec, c_ra_err, c_dec_err)\n",
    "\n",
    "    lr_0 = likelihood_ratio_function(mag, d2d_0.arcsec, sigma, category)\n",
    "    #print(lr_0)\n",
    "\n",
    "    chosen_index = np.argmax(lr_0)\n",
    "    lr_sum = np.sum(lr_0)\n",
    "    rel = lr_0/(lr_sum + (1-q0_total))\n",
    "    helpid = catalogue['help_id'][idx_0]\n",
    "    sourceid = (np.zeros(len(lr_0)) + np.unique(lofar['Source_id'])[i]).astype('int')\n",
    "    col_index = Column(opt_ir_index[selection][idx_0],name='lr_index_{}'.format(iteration))\n",
    "    col_d2d = Column(d2d_0.arcsec,name='lr_dist_{}'.format(iteration))\n",
    "    col_lr = Column(lr_0,name='lr_{}'.format(iteration))\n",
    "    col_rel = Column(rel,name='lr_reliability_{}'.format(iteration))\n",
    "    col_sourceid = Column(sourceid,name='Source_id')\n",
    "    col_helpid = Column(helpid,name='help_id')\n",
    "    col_lr_max = Column(np.zeros(len(lr_0),dtype=bool),name='lr_max_{}'.format(iteration))\n",
    "    col_lr_max[chosen_index] = True\n",
    "    col_lr_sel = Column(np.zeros(len(lr_0),dtype=bool),name='lr_sel_{}'.format(iteration))\n",
    "    col_lr_sel[chosen_index] = True\n",
    "\n",
    "    #print(col_sourceid)\n",
    "    #print(col_index,col_d2d,col_lr,col_rel,col_sourceid,col_helpid)\n",
    "    \n",
    "    temp = Table([col_index,col_d2d,col_lr,col_rel,col_sourceid,col_helpid,col_lr_max,col_lr_sel])\n",
    "\n",
    "    lrs = np.max(col_lr)\n",
    "    \n",
    "    #if np.sum(col_lr_max)!=1:\n",
    "    #    print('problem')\n",
    "    #    print(temp)\n",
    "    return (temp,lrs)\n",
    "\n",
    "    #return (result)"
   ]
  },
  {
   "cell_type": "code",
<<<<<<< HEAD
   "execution_count": 99,
   "metadata": {},
   "outputs": [
    {
     "name": "stdout",
     "output_type": "stream",
     "text": [
      "Iteration 3\n",
      "=============\n",
      "numbers_lofar_combined_bins\n",
      "[2700   90   26  222  618  375  417  423  391  415  408  470  501 1039\n",
      " 1044 1952]\n",
      "Q_0_colour\n",
      "[0.23205844 0.00773528 0.00223464 0.01908036 0.0531156  0.03223034\n",
      " 0.03584014 0.03635582 0.0336055  0.03566824 0.03506661 0.04039536\n",
      " 0.04305973 0.08929953 0.08972927 0.16776966]\n",
      "Q_0_total:  0.9532445208422862\n"
     ]
    },
    {
     "name": "stderr",
     "output_type": "stream",
     "text": [
      "100%|██████████| 11.6k/11.6k [01:07<00:00, 173it/s] \n",
      "100%|██████████| 11626/11626 [00:00<00:00, 289240.04it/s]\n"
     ]
    },
    {
     "name": "stdout",
     "output_type": "stream",
     "text": [
      "Threshold:  0.18319611862368892\n"
     ]
    },
    {
     "data": {
      "image/png": "iVBORw0KGgoAAAANSUhEUgAAA3QAAAFpCAYAAADUR2rXAAAABHNCSVQICAgIfAhkiAAAAAlwSFlz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\nAMc0VQIHW4SqAAAAAElFTkSuQmCC\n",
      "text/plain": [
       "<matplotlib.figure.Figure at 0x4790bb908>"
      ]
     },
     "metadata": {},
     "output_type": "display_data"
    },
    {
     "name": "stdout",
     "output_type": "stream",
     "text": [
      "updated Threshold:  0.14\n",
      "N changes:  109\n",
      "T changes:  109\n",
      "******** continue **********\n",
      "Iteration 4\n",
      "=============\n",
      "numbers_lofar_combined_bins\n",
      "[2723   70   26  223  619  375  417  423  396  417  409  469  503 1038\n",
      " 1049 1955]\n",
      "Q_0_colour\n",
      "[0.23403524 0.00601633 0.00223464 0.01916631 0.05320155 0.03223034\n",
      " 0.03584014 0.03635582 0.03403524 0.03584014 0.03515256 0.04030941\n",
      " 0.04323163 0.08921358 0.090159   0.1680275 ]\n",
      "Q_0_total:  0.9550494198538891\n"
     ]
    },
    {
     "name": "stderr",
     "output_type": "stream",
     "text": [
      "100%|██████████| 11.6k/11.6k [01:20<00:00, 145it/s] \n",
      "100%|██████████| 11626/11626 [00:00<00:00, 233200.76it/s]\n"
     ]
    },
    {
     "name": "stdout",
     "output_type": "stream",
     "text": [
      "Threshold:  0.13622926037409694\n"
     ]
    },
    {
     "data": {
      "image/png": "iVBORw0KGgoAAAANSUhEUgAAA3QAAAFpCAYAAADUR2rXAAAABHNCSVQICAgIfAhkiAAAAAlwSFlz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\n",
      "text/plain": [
       "<matplotlib.figure.Figure at 0x60a0b2208>"
      ]
     },
     "metadata": {},
     "output_type": "display_data"
    },
    {
     "name": "stdout",
     "output_type": "stream",
     "text": [
      "updated Threshold:  0.157\n",
      "N changes:  42\n",
      "T changes:  42\n",
      "******** continue **********\n",
      "Iteration 5\n",
      "=============\n",
      "numbers_lofar_combined_bins\n",
      "[2725   61   26  223  619  374  417  422  396  416  410  469  503 1037\n",
      " 1048 1953]\n",
      "Q_0_colour\n",
      "[0.23420713 0.0052428  0.00223464 0.01916631 0.05320155 0.03214439\n",
      " 0.03584014 0.03626988 0.03403524 0.03575419 0.0352385  0.04030941\n",
      " 0.04323163 0.08912763 0.09007306 0.16785561]\n",
      "Q_0_total:  0.953932101418135\n"
     ]
    },
    {
     "name": "stderr",
     "output_type": "stream",
     "text": [
      "100%|██████████| 11.6k/11.6k [01:14<00:00, 155it/s] \n",
      "100%|██████████| 11626/11626 [00:00<00:00, 212883.92it/s]\n"
     ]
    },
    {
     "name": "stdout",
     "output_type": "stream",
     "text": [
      "Threshold:  0.157517031904148\n"
     ]
    },
    {
     "data": {
      "image/png": "iVBORw0KGgoAAAANSUhEUgAAA3QAAAFpCAYAAADUR2rXAAAABHNCSVQICAgIfAhkiAAAAAlwSFlz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\n",
      "text/plain": [
       "<matplotlib.figure.Figure at 0x804ffc4e0>"
      ]
     },
     "metadata": {},
     "output_type": "display_data"
    },
    {
     "name": "stdout",
     "output_type": "stream",
     "text": [
      "updated Threshold:  0.17500000000000002\n",
      "N changes:  38\n",
      "T changes:  38\n",
      "******** continue **********\n"
     ]
    }
   ],
=======
   "execution_count": null,
   "metadata": {},
   "outputs": [],
>>>>>>> 93a8c5fd990faf0e43987aebebea97c125234b56
   "source": [
    "xmatch_iter = []\n",
    "for j in range(3):\n",
    "    iteration = j+3 \n",
    "    print(\"Iteration {}\".format(iteration))\n",
    "    print(\"=============\")\n",
    "    ## Get new parameters\n",
    "    # Number of matched sources per bin\n",
    "    \n",
    "    #select trusted crossmatches to recalculate Q0(c)\n",
    "    if j==0:\n",
    "        #for the first iteration need to use sources with LR>threshold as lr_sel hasn't been created for this iteration\n",
    "        mask_sel = lofar['lr_2']>threshold\n",
    "    else:\n",
    "        mask_sel = lofar['lr_sel_{}'.format(iteration-1)]\n",
    "    numbers_lofar_combined_bins = np.array([np.sum(lofar[mask_sel][\"category\"] == c) \n",
    "                                            for c in range(len(numbers_combined_bins))])\n",
    "    print(\"numbers_lofar_combined_bins\")\n",
    "    print(numbers_lofar_combined_bins)\n",
    "    #recompute Q0(c)\n",
    "    Q_0_colour_est = numbers_lofar_combined_bins/len(np.unique(lofar['Source_id'])) ### Q_0\n",
    "    Q_0_colour = q0_min_level(Q_0_colour_est, min_level=0.001)\n",
    "    print(\"Q_0_colour\")\n",
    "    print(Q_0_colour)\n",
    "    q0_total = np.sum(Q_0_colour)\n",
    "    print(\"Q_0_total: \", q0_total)\n",
    "    #Recompute q(m,c) for the new Q0(c)\n",
    "    q_m = []\n",
    "    # W1 only sources\n",
    "    q_m.append(get_q_m(lofar[mask_sel][ir_colname][lofar[mask_sel][\"category\"] == 0], \n",
    "                   bin_list_ir, numbers_lofar_combined_bins[0], \n",
    "                   n_m[0], field.area, radius=radius))\n",
    "    # Rest of the sources\n",
    "    for i in range(1, len(numbers_lofar_combined_bins)):\n",
    "        q_m.append(get_q_m(lofar[mask_sel][opt_colname][lofar[mask_sel][\"category\"] == i], \n",
    "                       bin_list_opt, numbers_lofar_combined_bins[i],\n",
    "                       n_m[i], field.area, radius=radius))\n",
    "    # q_m\n",
    "    q_m_kde = []\n",
    "    # W1 only sources\n",
    "    q_m_kde.append(get_q_m_kde(lofar[mask_sel][ir_colname][lofar[mask_sel][\"category\"] == 0], \n",
    "                   centers[0], radius=radius, bandwidth=bandwidth_colour[0]))\n",
    "    # Rest of the sources\n",
    "    for i in range(1, len(numbers_lofar_combined_bins)):\n",
    "        q_m_kde.append(get_q_m_kde(lofar[mask_sel][opt_colname][lofar[mask_sel][\"category\"] == i], \n",
    "                       centers[i], radius=radius, bandwidth=bandwidth_colour[i]))\n",
    "    #set plot_intermediate to True if you want to see plots of n(m,c), q(m,c) and q(m,c)/n(m,c)\n",
    "    plot_intermediate = False\n",
    "    if plot_intermediate:\n",
    "        fig = plt.figure(figsize=(15,15))\n",
    "        for i, q_m_k in enumerate(q_m_kde):\n",
    "            plt.subplot(5,5,i+1)\n",
    "            plt.plot(centers[i], np.cumsum(q_m_k))\n",
    "        #plt.savefig('{}/q0_{}.png'.format(idp, iteration))\n",
    "        del fig\n",
    "        fig = plt.figure(figsize=(15,15))\n",
    "        for i, q_m_k in enumerate(q_m_kde):\n",
    "            plt.subplot(5,5,i+1)\n",
    "            plt.plot(centers[i], q_m_k/n_m[i])\n",
    "        #plt.savefig('{}/q_over_n_{}.png'.format(idp, iteration))\n",
    "        del fig\n",
    "        fig = plot_q_n_m(q_m, n_m)\n",
    "        #plt.savefig('{}/q_over_n_nice_{}.png'.format(idp, iteration))\n",
    "        del fig\n",
    "    ## Define new likelihood_ratio\n",
    "    likelihood_ratio = MultiMLEstimator(Q_0_colour, n_m_kde, q_m_kde, centers)\n",
    "    def ml(i):\n",
    "        return apply_ml_all(i, likelihood_ratio)\n",
    "    \n",
    "    #create a seperate copy of the source id column before the lofar table gets expanded with\n",
    "    #all the possible crossmatches\n",
    "    if j==0:\n",
    "        source_ids = lofar['Source_id']\n",
    "        \n",
    "    #idx_lofar, idx_i, d2d, d3d = search_around_sky(lofar_coords, opt_ir_coords[selection], radius*u.arcsec)\n",
    "    #idx_lofar_unique = np.unique(idx_lofar)\n",
    "\n",
    "    #create an empty table to store the crossmatch results with the same columns in it\n",
    "    temp = Table()\n",
    "    col_index = Column(name='lr_index_{}'.format(iteration))\n",
    "    col_d2d = Column(name='lr_dist_{}'.format(iteration))\n",
    "    col_lr = Column(name='lr_{}'.format(iteration))\n",
    "    col_rel = Column(name='lr_reliability_{}'.format(iteration))\n",
    "    col_sourceid = Column(name='Source_id')\n",
    "    col_helpid = Column(name='help_id')\n",
    "    temp.add_columns([col_index,col_d2d,col_lr,col_rel,col_sourceid,col_helpid])\n",
    "    #run the LR calculation\n",
    "    res = parallel_process(np.unique(idx_lofar), ml, n_jobs=n_cpus)\n",
    "    test1 = np.transpose(res)\n",
    "    test2 = test1[0].tolist()\n",
    "    res = astropy.table.vstack(test2)\n",
    "    #create a array of highest LR for each radio source\n",
    "    lrs = test1[1]\n",
    "    \n",
    "    \n",
    "    res[\"lr_{}\".format(iteration)][np.isnan(res[\"lr_{}\".format(iteration)])] = 0\n",
    "    ## Get and apply the threshold calculated from Q0(c) \n",
    "    mask = res['lr_sel_{}'.format(iteration)]\n",
    "    threshold = np.percentile(res[mask]['lr_{}'.format(iteration)], 100*(1 - q0_total))\n",
    "    print(\"Threshold: \", threshold)\n",
    "    \n",
    "    #change lr_sel to False if the value is less than the threshold\n",
    "    #for n,row in enumerate(res[res['lr_max_{}'.format(iteration)]]):\n",
    "    #    if row['lr_{}'.format(iteration)]<threshold:\n",
    "    #        mask = res['help_id']==row['help_id']\n",
    "    #        res['lr_sel_{}'.format(iteration)][mask] = False             \n",
    "    \n",
    "    #Calculate the completeness and reliability as a function of the threshold\n",
    "    #Use this to calculate the thershold that gives an equal completeness and reliability\n",
    "    def completeness(lr, threshold, q0):\n",
    "        n = len(lr)\n",
    "        lrt = lr[lr < threshold]\n",
    "        return 1. - np.sum((q0 * lrt)/(q0 * lrt + (1 - q0)))/(float(n)*q0)\n",
    "    \n",
    "    def reliability(lr, threshold, q0):\n",
    "        n = len(lr)\n",
    "        lrt = lr[lr > threshold]\n",
    "        return 1. - np.sum((1. - q0)/(q0 * lrt + (1 - q0)))/(float(n)*q0)\n",
    "    completeness_v = np.vectorize(completeness, excluded=[0])\n",
    "    reliability_v = np.vectorize(reliability, excluded=[0])\n",
    "    thresholds = np.arange(0., 10., 0.001)\n",
    "    mask = res['lr_max_{}'.format(iteration)]\n",
    "    lr_temp = res['lr_{}'.format(iteration)][mask]\n",
    "    completeness_t = completeness_v(lr_temp , thresholds, Q0)\n",
    "    reliability_t = reliability_v(lr_temp , thresholds, Q0)\n",
    "    diff = abs(completeness_t-reliability_t)\n",
    "    mask = ~np.isnan(diff)\n",
    "    index = np.argmin(diff[mask])\n",
    "    threshold = thresholds[mask][index]\n",
    "    plt.plot(thresholds,completeness_t)\n",
    "    plt.plot(thresholds,reliability_t)\n",
    "    plt.vlines(threshold,0,1)\n",
    "    plt.ylim(0.9,1.0)\n",
    "    plt.show()\n",
    "    print(\"updated Threshold: \", threshold)\n",
    "\n",
    "    for n,row in enumerate(res[res['lr_max_{}'.format(iteration)]]):#####\n",
    "        if row['lr_{}'.format(iteration)]<threshold:\n",
    "            mask = res['help_id']==row['help_id']\n",
    "            res['lr_sel_{}'.format(iteration)][mask] = False\n",
    "    xmatch_iter.append(res)\n",
    "        #only include if you uncomment the earlier redoing of lr_sel after calculating the first threshold\n",
    "        #based on Q0(c)\n",
    "        #else:\n",
    "        #    mask = res['help_id']==row['help_id']\n",
    "        #    res['lr_sel_{}'.format(iteration)][mask] = True\n",
    "    \n",
    "    #join the crossmatch data to te radio table the first time this is done an outer join\n",
    "    #is needed as there are multiple crossmatches for each radio source and all of these are needed\n",
    "    #For subsequent iterations a hstack can be used \n",
    "\n",
    "    lofar = join(lofar,res[res['lr_max_{}'.format(iteration)]],keys='Source_id',join_type='outer')\n",
    "    '''\n",
    "    else:\n",
    "        Table.write(res,'data/xmatch_iter_{}.fits'.format(iteration),format='fits',overwrite=True)\n",
    "        res.remove_column('Source_id')\n",
    "        lofar = astropy.table.hstack([lofar,res])\n",
    "        #lofar = astropy.table.join(lofar,res,keys=['help_id','Source_id'],join_type='inner')\n",
    "    '''\n",
    "    #Table.write(res,'data/xmatch_iter_{}.fits'.format(iteration),format='fits',overwrite=True)\n",
    "    \n",
    "    if plot_intermediate:\n",
    "        fig = plt.figure(figsize=(15,6))\n",
    "        plt.subplot(1,2,1)\n",
    "        plt.hist(lofar[lofar[\"lr_{}\".format(iteration)] != 0][\"lr_{}\".format(iteration)], bins=200)\n",
    "        plt.vlines([threshold], 0, 1000)\n",
    "        plt.ylim([0,1000])\n",
    "        plt.subplot(1,2,2)\n",
    "        plt.hist(np.log10(lofar[lofar[\"lr_{}\".format(iteration)] != 0][\"lr_{}\".format(iteration)]+1), bins=200)\n",
    "        plt.vlines(np.log10(threshold+1), 0, 1000)\n",
    "        ticks, _ = plt.xticks()\n",
    "        plt.xticks(ticks, [\"{:.1f}\".format(10**t-1) for t in ticks])\n",
    "        plt.ylim([0,1000])\n",
    "        #plt.savefig('{}/lr_distribution_{}.png'.format(idp, iteration))\n",
    "        del fig\n",
    "    ## Apply the threshold\n",
    "\n",
    "    ## Enter changes into the catalogue\n",
    "    # Clear aux columns\n",
    "    lofar[\"category\"] = np.nan\n",
    "    lofar[ir_colname] = np.nan\n",
    "    lofar[opt_colname] = np.nan\n",
    "    # Update data\n",
    "    c = ~np.isnan(lofar[\"lr_index_{}\".format(iteration)])\n",
    "    indices = lofar[\"lr_index_{}\".format(iteration)][c].astype(int)\n",
    "    lofar[\"category\"][c] = opt_ir[indices][\"category\"]\n",
    "    lofar[ir_colname][c] = opt_ir[indices][ir_colname]\n",
    "    lofar[opt_colname][c] = opt_ir[indices][opt_colname]\n",
    "    '''# Save the data\n",
    "    if save_intermediate:\n",
    "        lofar[mask_sel].write(\"{}/lofar[mask_sel]_m{}.fits\".format(idp, iteration), format=\"fits\")'''\n",
    "    ## Compute number of changes\n",
    "    n_changes = np.sum((\n",
    "            lofar[\"lr_index_{}\".format(iteration)] != lofar[\"lr_index_{}\".format(iteration-1)]) & \n",
    "            ~np.isnan(lofar[\"lr_index_{}\".format(iteration)]) &\n",
    "            ~np.isnan(lofar[\"lr_index_{}\".format(iteration-1)]))\n",
    "    print(\"N changes: \", n_changes)\n",
    "    t_changes = np.sum((\n",
    "            lofar[\"lr_index_{}\".format(iteration)] != lofar[\"lr_index_{}\".format(iteration-1)]))\n",
    "    print(\"T changes: \", t_changes)\n",
    "    ## Check changes\n",
    "    plt.show()\n",
    "    if n_changes == 0:\n",
    "        break\n",
    "    else:\n",
    "        print(\"******** continue **********\")\n",
    "\n",
    "joined = join(xmatch_iter[0],xmatch_iter[1],keys=['Source_id','help_id'],join_type='inner')\n",
    "for n in range(len(xmatch_iter)-2):\n",
    "    joined = join(joined,xmatch_iter[n+2],keys=['Source_id','help_id'],join_type='inner')\n",
    "for n,name in enumerate(lofar.colnames):\n",
    "    if n >69:\n",
    "        lofar.remove_column(name)\n",
    "lofar = join(lofar,joined,keys='Source_id',join_type='outer')"
   ]
  },
  {
   "cell_type": "code",
<<<<<<< HEAD
   "execution_count": 100,
=======
   "execution_count": null,
>>>>>>> 93a8c5fd990faf0e43987aebebea97c125234b56
   "metadata": {},
   "outputs": [],
   "source": [
    "Table.write(lofar,'data/xmatch_servs_20181122.fits',format='fits')"
   ]
  },
  {
   "cell_type": "markdown",
   "metadata": {},
   "source": [
    "pickle.dump([likelihood_ratio], \n",
    "                open(\"data/LR_class.pckl\", 'wb'))"
   ]
  },
  {
   "cell_type": "code",
   "execution_count": null,
   "metadata": {},
   "outputs": [],
   "source": [
    "for n,name in enumerate(lofar.colnames):\n",
    "    if n >44:\n",
    "        lofar.remove_column(name)"
   ]
  },
  {
   "cell_type": "code",
   "execution_count": null,
   "metadata": {},
   "outputs": [],
   "source": [
    "lofar.colnames"
   ]
  },
  {
   "cell_type": "code",
   "execution_count": null,
   "metadata": {},
   "outputs": [],
   "source": [
    "np.sum(lofar['Source_id_1']==lofar['Source_id_2'])"
   ]
  },
  {
   "cell_type": "code",
   "execution_count": null,
   "metadata": {},
   "outputs": [],
   "source": [
    "len(res)"
   ]
  },
  {
   "cell_type": "code",
   "execution_count": null,
   "metadata": {},
   "outputs": [],
   "source": [
    "len(np.unique(res['help_id']))"
   ]
  },
  {
   "cell_type": "code",
   "execution_count": null,
   "metadata": {},
   "outputs": [],
   "source": [
    "np.sum(np.isnan(lofar['lr_3']))"
   ]
  },
  {
   "cell_type": "code",
   "execution_count": null,
   "metadata": {},
   "outputs": [],
   "source": []
  },
  {
   "cell_type": "code",
   "execution_count": null,
   "metadata": {},
   "outputs": [],
   "source": []
  },
  {
   "cell_type": "code",
   "execution_count": null,
   "metadata": {},
   "outputs": [],
   "source": []
  },
  {
   "cell_type": "code",
   "execution_count": null,
   "metadata": {},
   "outputs": [],
   "source": [
    "lofar"
   ]
  },
  {
   "cell_type": "code",
   "execution_count": null,
   "metadata": {},
   "outputs": [],
   "source": []
  }
 ],
 "metadata": {
  "kernelspec": {
   "display_name": "Python 3",
   "language": "python",
   "name": "python3"
  },
  "language_info": {
   "codemirror_mode": {
    "name": "ipython",
    "version": 3
   },
   "file_extension": ".py",
   "mimetype": "text/x-python",
   "name": "python",
   "nbconvert_exporter": "python",
   "pygments_lexer": "ipython3",
   "version": "3.6.7"
  }
 },
 "nbformat": 4,
 "nbformat_minor": 2
}
