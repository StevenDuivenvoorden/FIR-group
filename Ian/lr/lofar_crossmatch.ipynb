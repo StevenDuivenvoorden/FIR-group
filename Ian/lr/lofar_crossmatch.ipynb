{
 "cells": [
  {
   "cell_type": "code",
   "execution_count": 1,
   "metadata": {},
   "outputs": [],
   "source": [
    "import numpy as np\n",
    "import astropy\n",
    "from astropy.table import Table, Column,join,vstack\n",
    "from astropy import units as u\n",
    "from astropy.coordinates import SkyCoord, search_around_sky\n",
    "from IPython.display import clear_output\n",
    "import pickle\n",
    "import os\n",
    "from glob import glob\n",
    "from shutil import copyfile\n",
    "import pymoc\n",
    "from pymoc import MOC\n",
    "from pymoc.util import catalog\n",
    "from pymoc.io.fits import read_moc_fits\n",
    "import matplotlib.pyplot as plt\n",
    "import matplotlib.patches as mpatches\n",
    "from sklearn.neighbors import KernelDensity\n",
    "\n",
    "import importlib\n",
    "import time"
   ]
  },
  {
   "cell_type": "code",
   "execution_count": 2,
   "metadata": {},
   "outputs": [],
   "source": [
    "\n",
    "#importlib.reload(mltier)\n",
    "from mltier import (get_center, get_n_m, estimate_q_m, Field, SingleMLEstimator, MultiMLEstimator,\n",
    "                     parallel_process, get_sigma_all, get_q_m, get_threshold, q0_min_level, q0_min_numbers,\n",
    "                     get_n_m_kde, estimate_q_m_kde, get_q_m_kde, describe)\n",
    "from Q0_calc import Q0_calc"
   ]
  },
  {
   "cell_type": "code",
   "execution_count": 3,
   "metadata": {},
   "outputs": [],
   "source": [
    "def varstat(distribution):\n",
    "    \"\"\"\n",
    "    Print basic properties about a variable to stdout\n",
    "\n",
    "\n",
    "    Parameters:\n",
    "    ------------\n",
    "\n",
    "    distribution : The input variable/distribution to display the statistic of to stdout\n",
    "\n",
    "    Returns:\n",
    "    -----------\n",
    "    \"\"\"\n",
    "\n",
    "    stat_to_print = [np.nanmean(distribution),np.nanmedian(distribution),\n",
    "                     np.nanstd(distribution),len(distribution),np.nanmin(distribution),\n",
    "                     np.nanmax(distribution),len(distribution[distribution==0.])]\n",
    "\n",
    "    var_to_print = [\"Mean\", \"Median\", \"Std. Dev.\", \"Length\", \"Min\", \"Max\", \"Len_Zeros\"]\n",
    "    var_to_print = [aa.ljust(10) for aa in var_to_print]\n",
    "    print(\" \".join(var_to_print))\n",
    "\n",
    "    #stat_to_print = map(str,stat_to_print)\n",
    "    #print(stat_to_print)\n",
    "    stat_to_print = [str(np.round(bb,6)).ljust(10) for bb in stat_to_print]\n",
    "    stat_to_print[4] = str(np.nanmin(distribution))\n",
    "    print(\" \".join(stat_to_print))\n",
    "    # print(stat_to_print)\n",
    "    return"
   ]
  },
  {
   "cell_type": "markdown",
   "metadata": {},
   "source": [
    "#### Read in the optical and infrared data and the radio data"
   ]
  },
  {
   "cell_type": "code",
   "execution_count": 5,
   "metadata": {},
   "outputs": [],
   "source": [
    "opt_ir_cat = Table.read('../../../HELP/dmu_products/dmu32/dmu32_Lockman-SWIRE/data/Lockman-SWIRE_20180219.fits')"
   ]
  },
  {
   "cell_type": "code",
   "execution_count": 6,
   "metadata": {},
   "outputs": [
    {
     "name": "stdout",
     "output_type": "stream",
     "text": [
      "4366298\n"
     ]
    },
    {
     "data": {
      "text/html": [
       "<i>Row index=0</i>\n",
       "<table id=\"table46913446502696\">\n",
       "<thead><tr><th>help_id</th><th>field</th><th>ra</th><th>dec</th><th>hp_idx</th><th>f_ap_wfc_u</th><th>ferr_ap_wfc_u</th><th>m_ap_wfc_u</th><th>merr_ap_wfc_u</th><th>f_wfc_u</th><th>ferr_wfc_u</th><th>m_wfc_u</th><th>merr_wfc_u</th><th>f_ap_wfc_g</th><th>ferr_ap_wfc_g</th><th>m_ap_wfc_g</th><th>merr_ap_wfc_g</th><th>f_wfc_g</th><th>ferr_wfc_g</th><th>m_wfc_g</th><th>merr_wfc_g</th><th>f_ap_wfc_r</th><th>ferr_ap_wfc_r</th><th>m_ap_wfc_r</th><th>merr_ap_wfc_r</th><th>f_wfc_r</th><th>ferr_wfc_r</th><th>m_wfc_r</th><th>merr_wfc_r</th><th>f_ap_wfc_i</th><th>ferr_ap_wfc_i</th><th>m_ap_wfc_i</th><th>merr_ap_wfc_i</th><th>f_wfc_i</th><th>ferr_wfc_i</th><th>m_wfc_i</th><th>merr_wfc_i</th><th>f_ap_wfc_z</th><th>ferr_ap_wfc_z</th><th>m_ap_wfc_z</th><th>merr_ap_wfc_z</th><th>f_wfc_z</th><th>ferr_wfc_z</th><th>m_wfc_z</th><th>merr_wfc_z</th><th>f_ap_gpc1_g</th><th>ferr_ap_gpc1_g</th><th>m_ap_gpc1_g</th><th>merr_ap_gpc1_g</th><th>f_gpc1_g</th><th>ferr_gpc1_g</th><th>m_gpc1_g</th><th>merr_gpc1_g</th><th>f_ap_gpc1_r</th><th>ferr_ap_gpc1_r</th><th>m_ap_gpc1_r</th><th>merr_ap_gpc1_r</th><th>f_gpc1_r</th><th>ferr_gpc1_r</th><th>m_gpc1_r</th><th>merr_gpc1_r</th><th>f_ap_gpc1_i</th><th>ferr_ap_gpc1_i</th><th>m_ap_gpc1_i</th><th>merr_ap_gpc1_i</th><th>f_gpc1_i</th><th>ferr_gpc1_i</th><th>m_gpc1_i</th><th>merr_gpc1_i</th><th>f_ap_gpc1_z</th><th>ferr_ap_gpc1_z</th><th>m_ap_gpc1_z</th><th>merr_ap_gpc1_z</th><th>f_gpc1_z</th><th>ferr_gpc1_z</th><th>m_gpc1_z</th><th>merr_gpc1_z</th><th>f_ap_gpc1_y</th><th>ferr_ap_gpc1_y</th><th>m_ap_gpc1_y</th><th>merr_ap_gpc1_y</th><th>f_gpc1_y</th><th>ferr_gpc1_y</th><th>m_gpc1_y</th><th>merr_gpc1_y</th><th>f_ap_megacam_u</th><th>ferr_ap_megacam_u</th><th>m_ap_megacam_u</th><th>merr_ap_megacam_u</th><th>f_megacam_u</th><th>ferr_megacam_u</th><th>m_megacam_u</th><th>merr_megacam_u</th><th>f_ap_megacam_g</th><th>ferr_ap_megacam_g</th><th>m_ap_megacam_g</th><th>merr_ap_megacam_g</th><th>f_megacam_g</th><th>ferr_megacam_g</th><th>m_megacam_g</th><th>merr_megacam_g</th><th>f_ap_megacam_r</th><th>ferr_ap_megacam_r</th><th>m_ap_megacam_r</th><th>merr_ap_megacam_r</th><th>f_megacam_r</th><th>ferr_megacam_r</th><th>m_megacam_r</th><th>merr_megacam_r</th><th>f_ap_megacam_z</th><th>ferr_ap_megacam_z</th><th>m_ap_megacam_z</th><th>merr_ap_megacam_z</th><th>f_megacam_z</th><th>ferr_megacam_z</th><th>m_megacam_z</th><th>merr_megacam_z</th><th>f_ap_ukidss_k</th><th>ferr_ap_ukidss_k</th><th>m_ap_ukidss_k</th><th>merr_ap_ukidss_k</th><th>f_ukidss_k</th><th>ferr_ukidss_k</th><th>m_ukidss_k</th><th>merr_ukidss_k</th><th>f_ap_irac_i3</th><th>ferr_ap_irac_i3</th><th>m_ap_irac_i3</th><th>merr_ap_irac_i3</th><th>f_irac_i3</th><th>ferr_irac_i3</th><th>m_irac_i3</th><th>merr_irac_i3</th><th>f_ap_irac_i4</th><th>ferr_ap_irac_i4</th><th>m_ap_irac_i4</th><th>merr_ap_irac_i4</th><th>f_irac_i4</th><th>ferr_irac_i4</th><th>m_irac_i4</th><th>merr_irac_i4</th><th>f_ap_irac_i1</th><th>ferr_ap_irac_i1</th><th>m_ap_irac_i1</th><th>merr_ap_irac_i1</th><th>f_irac_i1</th><th>ferr_irac_i1</th><th>m_irac_i1</th><th>merr_irac_i1</th><th>f_ap_irac_i2</th><th>ferr_ap_irac_i2</th><th>m_ap_irac_i2</th><th>merr_ap_irac_i2</th><th>f_irac_i2</th><th>ferr_irac_i2</th><th>m_irac_i2</th><th>merr_irac_i2</th><th>f_ap_ukidss_j</th><th>ferr_ap_ukidss_j</th><th>m_ap_ukidss_j</th><th>merr_ap_ukidss_j</th><th>f_ukidss_j</th><th>ferr_ukidss_j</th><th>m_ukidss_j</th><th>merr_ukidss_j</th><th>m_megacam_i</th><th>ferr_megacam_i</th><th>merr_megacam_i</th><th>f_megacam_i</th><th>m_megacam_y</th><th>ferr_megacam_y</th><th>merr_megacam_y</th><th>f_megacam_y</th><th>stellarity</th><th>stellarity_origin</th><th>zspec</th><th>zspec_qual</th><th>zspec_association_flag</th><th>ebv</th><th>f_mips_24</th><th>ferr_mips_24</th><th>flag_mips_24</th><th>f_pacs_green</th><th>ferr_pacs_green</th><th>flag_pacs_green</th><th>f_pacs_red</th><th>ferr_pacs_red</th><th>flag_pacs_red</th><th>f_spire_250</th><th>ferr_spire_250</th><th>flag_spire_250</th><th>f_spire_350</th><th>ferr_spire_350</th><th>flag_spire_350</th><th>f_spire_500</th><th>ferr_spire_500</th><th>flag_spire_500</th><th>redshift</th><th>flag_megacam_i</th><th>flag_megacam_y</th><th>flag_cleaned</th><th>flag_merged</th><th>flag_gaia</th><th>flag_optnir_obs</th><th>flag_optnir_det</th><th>flag_gpc1_g</th><th>flag_gpc1_r</th><th>flag_gpc1_i</th><th>flag_gpc1_z</th><th>flag_gpc1_y</th><th>flag_irac_i1</th><th>flag_irac_i2</th><th>flag_irac_i3</th><th>flag_irac_i4</th><th>flag_wfc_u</th><th>flag_megacam_u</th><th>flag_wfc_g</th><th>flag_megacam_g</th><th>flag_wfc_r</th><th>flag_megacam_r</th><th>flag_wfc_i</th><th>flag_wfc_z</th><th>flag_megacam_z</th><th>cigale_mstar</th><th>cigale_mstar_err</th><th>cigale_sfr</th><th>cigale_sfr_err</th><th>cigale_dustlumin</th><th>cigale_dustlumin_err</th><th>cigale_dustlumin_ironly</th><th>cigale_dustlumin_ironly_err</th><th>flag_cigale</th><th>flag_cigale_opt</th><th>flag_cigale_ir</th><th>flag_cigale_ironly</th></tr></thead>\n",
       "<thead><tr><th></th><th></th><th>deg</th><th>deg</th><th></th><th></th><th></th><th></th><th></th><th></th><th></th><th></th><th></th><th></th><th></th><th></th><th></th><th></th><th></th><th></th><th></th><th></th><th></th><th></th><th></th><th></th><th></th><th></th><th></th><th></th><th></th><th></th><th></th><th></th><th></th><th></th><th></th><th></th><th></th><th></th><th></th><th></th><th></th><th></th><th></th><th></th><th></th><th></th><th></th><th></th><th></th><th></th><th></th><th></th><th></th><th></th><th></th><th></th><th></th><th></th><th></th><th></th><th></th><th></th><th></th><th></th><th></th><th></th><th></th><th></th><th></th><th></th><th></th><th></th><th></th><th></th><th></th><th></th><th></th><th></th><th></th><th></th><th></th><th></th><th></th><th></th><th></th><th></th><th></th><th></th><th></th><th>mag</th><th>mag</th><th></th><th></th><th></th><th></th><th></th><th></th><th></th><th></th><th></th><th></th><th></th><th></th><th></th><th></th><th></th><th></th><th></th><th></th><th></th><th></th><th></th><th></th><th></th><th></th><th></th><th></th><th></th><th></th><th></th><th></th><th></th><th></th><th>uJy</th><th>uJy</th><th></th><th></th><th>uJy</th><th>uJy</th><th></th><th></th><th>uJy</th><th>uJy</th><th></th><th></th><th>uJy</th><th>uJy</th><th></th><th></th><th></th><th></th><th></th><th></th><th></th><th></th><th></th><th></th><th></th><th></th><th></th><th></th><th></th><th></th><th></th><th></th><th></th><th></th><th></th><th></th><th></th><th></th><th></th><th></th><th></th><th></th><th></th><th></th><th></th><th></th><th></th><th></th><th></th><th></th><th></th><th></th><th></th><th></th><th>uJy</th><th></th><th></th><th>mJy</th><th></th><th></th><th>mJy</th><th></th><th></th><th>mJy</th><th></th><th></th><th>mJy</th><th></th><th></th><th>mJy</th><th></th><th></th><th></th><th></th><th></th><th></th><th></th><th></th><th></th><th></th><th></th><th></th><th></th><th></th><th></th><th></th><th></th><th></th><th></th><th></th><th></th><th></th><th></th><th></th><th></th><th></th><th></th><th></th><th></th><th></th><th></th><th></th><th></th><th></th><th></th><th></th><th></th><th></th><th></th><th></th></tr></thead>\n",
       "<thead><tr><th>bytes33</th><th>bytes18</th><th>float64</th><th>float64</th><th>int64</th><th>float32</th><th>float32</th><th>float32</th><th>float32</th><th>float32</th><th>float32</th><th>float32</th><th>float32</th><th>float32</th><th>float32</th><th>float32</th><th>float32</th><th>float32</th><th>float32</th><th>float32</th><th>float32</th><th>float32</th><th>float32</th><th>float32</th><th>float32</th><th>float32</th><th>float32</th><th>float32</th><th>float32</th><th>float32</th><th>float32</th><th>float32</th><th>float32</th><th>float32</th><th>float32</th><th>float32</th><th>float32</th><th>float32</th><th>float32</th><th>float32</th><th>float32</th><th>float32</th><th>float32</th><th>float32</th><th>float32</th><th>float64</th><th>float64</th><th>float64</th><th>float64</th><th>float64</th><th>float64</th><th>float64</th><th>float64</th><th>float64</th><th>float64</th><th>float64</th><th>float64</th><th>float64</th><th>float64</th><th>float64</th><th>float64</th><th>float64</th><th>float64</th><th>float64</th><th>float64</th><th>float64</th><th>float64</th><th>float64</th><th>float64</th><th>float64</th><th>float64</th><th>float64</th><th>float64</th><th>float64</th><th>float64</th><th>float64</th><th>float64</th><th>float64</th><th>float64</th><th>float64</th><th>float64</th><th>float64</th><th>float64</th><th>float64</th><th>float64</th><th>float32</th><th>float32</th><th>float32</th><th>float32</th><th>float32</th><th>float32</th><th>float32</th><th>float32</th><th>float32</th><th>float32</th><th>float32</th><th>float32</th><th>float64</th><th>float64</th><th>float64</th><th>float64</th><th>float32</th><th>float32</th><th>float32</th><th>float32</th><th>float64</th><th>float64</th><th>float64</th><th>float64</th><th>float32</th><th>float32</th><th>float32</th><th>float32</th><th>float64</th><th>float64</th><th>float64</th><th>float64</th><th>float32</th><th>float32</th><th>float32</th><th>float32</th><th>float32</th><th>float32</th><th>float32</th><th>float32</th><th>float64</th><th>float64</th><th>float64</th><th>float64</th><th>float64</th><th>float64</th><th>float64</th><th>float64</th><th>float64</th><th>float64</th><th>float64</th><th>float64</th><th>float64</th><th>float64</th><th>float64</th><th>float64</th><th>float64</th><th>float64</th><th>float64</th><th>float64</th><th>float64</th><th>float64</th><th>float64</th><th>float64</th><th>float64</th><th>float64</th><th>float64</th><th>float64</th><th>float64</th><th>float64</th><th>float64</th><th>float64</th><th>float64</th><th>float64</th><th>float64</th><th>float64</th><th>float64</th><th>float64</th><th>float64</th><th>float64</th><th>float32</th><th>float32</th><th>float32</th><th>float32</th><th>float32</th><th>float32</th><th>float32</th><th>float32</th><th>float64</th><th>bytes20</th><th>float64</th><th>int64</th><th>bool</th><th>float64</th><th>float32</th><th>float32</th><th>bool</th><th>float32</th><th>float32</th><th>bool</th><th>float32</th><th>float32</th><th>bool</th><th>float32</th><th>float32</th><th>bool</th><th>float32</th><th>float32</th><th>bool</th><th>float32</th><th>float32</th><th>bool</th><th>float64</th><th>bool</th><th>bool</th><th>bool</th><th>bool</th><th>int64</th><th>int64</th><th>int64</th><th>bool</th><th>bool</th><th>bool</th><th>bool</th><th>bool</th><th>bool</th><th>bool</th><th>bool</th><th>bool</th><th>bool</th><th>bool</th><th>bool</th><th>bool</th><th>bool</th><th>bool</th><th>bool</th><th>bool</th><th>bool</th><th>float64</th><th>float64</th><th>float64</th><th>float64</th><th>float64</th><th>float64</th><th>float64</th><th>float64</th><th>int64</th><th>int64</th><th>int64</th><th>int64</th></tr></thead>\n",
       "<tr><td>HELP_J102305.277+590211.847</td><td>Lockman SWIRE</td><td>155.77198846</td><td>59.0366242157</td><td>121936758</td><td>nan</td><td>nan</td><td>nan</td><td>nan</td><td>nan</td><td>nan</td><td>nan</td><td>nan</td><td>nan</td><td>nan</td><td>nan</td><td>nan</td><td>nan</td><td>nan</td><td>nan</td><td>nan</td><td>nan</td><td>nan</td><td>nan</td><td>nan</td><td>nan</td><td>nan</td><td>nan</td><td>nan</td><td>nan</td><td>nan</td><td>nan</td><td>nan</td><td>nan</td><td>nan</td><td>nan</td><td>nan</td><td>nan</td><td>nan</td><td>nan</td><td>nan</td><td>nan</td><td>nan</td><td>nan</td><td>nan</td><td>nan</td><td>nan</td><td>nan</td><td>nan</td><td>nan</td><td>nan</td><td>nan</td><td>nan</td><td>nan</td><td>nan</td><td>nan</td><td>nan</td><td>nan</td><td>nan</td><td>nan</td><td>nan</td><td>nan</td><td>nan</td><td>nan</td><td>nan</td><td>nan</td><td>nan</td><td>nan</td><td>nan</td><td>nan</td><td>nan</td><td>nan</td><td>nan</td><td>nan</td><td>nan</td><td>nan</td><td>nan</td><td>nan</td><td>nan</td><td>nan</td><td>nan</td><td>nan</td><td>nan</td><td>nan</td><td>nan</td><td>nan</td><td>nan</td><td>nan</td><td>nan</td><td>nan</td><td>nan</td><td>nan</td><td>nan</td><td>nan</td><td>nan</td><td>nan</td><td>nan</td><td>0.477749437094</td><td>0.0158404055983</td><td>24.7019996643</td><td>0.0359990000725</td><td>nan</td><td>nan</td><td>nan</td><td>nan</td><td>0.790678203106</td><td>0.0180689115077</td><td>24.1550006866</td><td>0.0248116999865</td><td>nan</td><td>nan</td><td>nan</td><td>nan</td><td>1.43271517754</td><td>0.0782311409712</td><td>23.5095996857</td><td>0.0592848993838</td><td>nan</td><td>nan</td><td>nan</td><td>nan</td><td>nan</td><td>nan</td><td>nan</td><td>nan</td><td>nan</td><td>nan</td><td>nan</td><td>nan</td><td>nan</td><td>nan</td><td>nan</td><td>nan</td><td>nan</td><td>nan</td><td>nan</td><td>nan</td><td>nan</td><td>nan</td><td>nan</td><td>nan</td><td>nan</td><td>nan</td><td>nan</td><td>nan</td><td>nan</td><td>nan</td><td>nan</td><td>nan</td><td>nan</td><td>nan</td><td>nan</td><td>nan</td><td>nan</td><td>nan</td><td>nan</td><td>nan</td><td>nan</td><td>nan</td><td>nan</td><td>nan</td><td>nan</td><td>nan</td><td>nan</td><td>nan</td><td>nan</td><td>nan</td><td>nan</td><td>nan</td><td>24.0246</td><td>0.0316829</td><td>0.0385824</td><td>0.891579</td><td>0.239999994636</td><td>rcs_stellarity</td><td>nan</td><td>-99</td><td>False</td><td>0.00534795331823</td><td>nan</td><td>nan</td><td>False</td><td>nan</td><td>nan</td><td>False</td><td>nan</td><td>nan</td><td>False</td><td>nan</td><td>nan</td><td>False</td><td>nan</td><td>nan</td><td>False</td><td>nan</td><td>nan</td><td>False</td><td>nan</td><td>False</td><td>False</td><td>False</td><td>False</td><td>0</td><td>3</td><td>1</td><td>False</td><td>False</td><td>False</td><td>False</td><td>False</td><td>False</td><td>False</td><td>False</td><td>False</td><td>False</td><td>False</td><td>False</td><td>False</td><td>False</td><td>False</td><td>False</td><td>False</td><td>False</td><td>nan</td><td>nan</td><td>nan</td><td>nan</td><td>nan</td><td>nan</td><td>nan</td><td>nan</td><td>-1</td><td>-1</td><td>-1</td><td>-1</td></tr>\n",
       "</table>"
      ],
      "text/plain": [
       "<Row index=0>\n",
       "          help_id               field          ra           dec        hp_idx  f_ap_wfc_u ferr_ap_wfc_u m_ap_wfc_u merr_ap_wfc_u f_wfc_u ferr_wfc_u m_wfc_u merr_wfc_u f_ap_wfc_g ferr_ap_wfc_g m_ap_wfc_g merr_ap_wfc_g f_wfc_g ferr_wfc_g m_wfc_g merr_wfc_g f_ap_wfc_r ferr_ap_wfc_r m_ap_wfc_r merr_ap_wfc_r f_wfc_r ferr_wfc_r m_wfc_r merr_wfc_r f_ap_wfc_i ferr_ap_wfc_i m_ap_wfc_i merr_ap_wfc_i f_wfc_i ferr_wfc_i m_wfc_i merr_wfc_i f_ap_wfc_z ferr_ap_wfc_z m_ap_wfc_z merr_ap_wfc_z f_wfc_z ferr_wfc_z m_wfc_z merr_wfc_z f_ap_gpc1_g ferr_ap_gpc1_g m_ap_gpc1_g merr_ap_gpc1_g f_gpc1_g ferr_gpc1_g m_gpc1_g merr_gpc1_g f_ap_gpc1_r ferr_ap_gpc1_r m_ap_gpc1_r merr_ap_gpc1_r f_gpc1_r ferr_gpc1_r m_gpc1_r merr_gpc1_r f_ap_gpc1_i ferr_ap_gpc1_i m_ap_gpc1_i merr_ap_gpc1_i f_gpc1_i ferr_gpc1_i m_gpc1_i merr_gpc1_i f_ap_gpc1_z ferr_ap_gpc1_z m_ap_gpc1_z merr_ap_gpc1_z f_gpc1_z ferr_gpc1_z m_gpc1_z merr_gpc1_z f_ap_gpc1_y ferr_ap_gpc1_y m_ap_gpc1_y merr_ap_gpc1_y f_gpc1_y ferr_gpc1_y m_gpc1_y merr_gpc1_y f_ap_megacam_u ferr_ap_megacam_u m_ap_megacam_u merr_ap_megacam_u f_megacam_u ferr_megacam_u m_megacam_u merr_megacam_u f_ap_megacam_g ferr_ap_megacam_g m_ap_megacam_g merr_ap_megacam_g  f_megacam_g    ferr_megacam_g  m_megacam_g   merr_megacam_g f_ap_megacam_r ferr_ap_megacam_r m_ap_megacam_r merr_ap_megacam_r  f_megacam_r    ferr_megacam_r  m_megacam_r   merr_megacam_r f_ap_megacam_z ferr_ap_megacam_z m_ap_megacam_z merr_ap_megacam_z  f_megacam_z   ferr_megacam_z  m_megacam_z   merr_megacam_z f_ap_ukidss_k ferr_ap_ukidss_k m_ap_ukidss_k merr_ap_ukidss_k f_ukidss_k ferr_ukidss_k m_ukidss_k merr_ukidss_k f_ap_irac_i3 ferr_ap_irac_i3 m_ap_irac_i3 merr_ap_irac_i3 f_irac_i3 ferr_irac_i3 m_irac_i3 merr_irac_i3 f_ap_irac_i4 ferr_ap_irac_i4 m_ap_irac_i4 merr_ap_irac_i4 f_irac_i4 ferr_irac_i4 m_irac_i4 merr_irac_i4 f_ap_irac_i1 ferr_ap_irac_i1 m_ap_irac_i1 merr_ap_irac_i1 f_irac_i1 ferr_irac_i1 m_irac_i1 merr_irac_i1 f_ap_irac_i2 ferr_ap_irac_i2 m_ap_irac_i2 merr_ap_irac_i2 f_irac_i2 ferr_irac_i2 m_irac_i2 merr_irac_i2 f_ap_ukidss_j ferr_ap_ukidss_j m_ap_ukidss_j merr_ap_ukidss_j f_ukidss_j ferr_ukidss_j m_ukidss_j merr_ukidss_j m_megacam_i ferr_megacam_i merr_megacam_i f_megacam_i m_megacam_y ferr_megacam_y merr_megacam_y f_megacam_y   stellarity   stellarity_origin  zspec  zspec_qual zspec_association_flag       ebv        f_mips_24 ferr_mips_24 flag_mips_24 f_pacs_green ferr_pacs_green flag_pacs_green f_pacs_red ferr_pacs_red flag_pacs_red f_spire_250 ferr_spire_250 flag_spire_250 f_spire_350 ferr_spire_350 flag_spire_350 f_spire_500 ferr_spire_500 flag_spire_500 redshift flag_megacam_i flag_megacam_y flag_cleaned flag_merged flag_gaia flag_optnir_obs flag_optnir_det flag_gpc1_g flag_gpc1_r flag_gpc1_i flag_gpc1_z flag_gpc1_y flag_irac_i1 flag_irac_i2 flag_irac_i3 flag_irac_i4 flag_wfc_u flag_megacam_u flag_wfc_g flag_megacam_g flag_wfc_r flag_megacam_r flag_wfc_i flag_wfc_z flag_megacam_z cigale_mstar cigale_mstar_err cigale_sfr cigale_sfr_err cigale_dustlumin cigale_dustlumin_err cigale_dustlumin_ironly cigale_dustlumin_ironly_err flag_cigale flag_cigale_opt flag_cigale_ir flag_cigale_ironly\n",
       "                                              deg           deg                                                                                                                                                                                                                                                                                                                                                                                                                                                                                                                                                                                                                                                                                                                                                                                                                                                                                                                                                                                                                                                                         mag          mag                                                                                                                                                                                                                                                                                                                                                                                                                                                                                                                       uJy            uJy                                       uJy        uJy                                 uJy            uJy                                       uJy        uJy                                                                                                                                                                                                                                                                                                                                                                                                                                                                                                                                                                        uJy                                  mJy                                         mJy                                     mJy                                       mJy                                       mJy                                                                                                                                                                                                                                                                                                                                                                                                                                                                                                                                                                                               \n",
       "          bytes33              bytes18      float64       float64      int64    float32      float32     float32      float32    float32  float32   float32  float32    float32      float32     float32      float32    float32  float32   float32  float32    float32      float32     float32      float32    float32  float32   float32  float32    float32      float32     float32      float32    float32  float32   float32  float32    float32      float32     float32      float32    float32  float32   float32  float32     float64      float64       float64      float64     float64    float64   float64    float64     float64      float64       float64      float64     float64    float64   float64    float64     float64      float64       float64      float64     float64    float64   float64    float64     float64      float64       float64      float64     float64    float64   float64    float64     float64      float64       float64      float64     float64    float64   float64    float64      float32          float32         float32          float32        float32      float32       float32      float32        float32          float32         float32          float32         float64         float64        float64        float64        float32          float32         float32          float32         float64         float64        float64        float64        float32          float32         float32          float32         float64        float64        float64        float64        float32        float32         float32        float32       float32      float32     float32      float32      float64        float64       float64        float64      float64    float64     float64    float64      float64        float64       float64        float64      float64    float64     float64    float64      float64        float64       float64        float64      float64    float64     float64    float64      float64        float64       float64        float64      float64    float64     float64    float64       float64        float64         float64        float64       float64      float64     float64      float64      float32      float32        float32       float32     float32      float32        float32       float32      float64          bytes20      float64   int64             bool              float64       float32    float32        bool       float32        float32           bool       float32      float32         bool       float32      float32          bool        float32      float32          bool        float32      float32          bool      float64       bool           bool          bool         bool      int64        int64           int64          bool        bool        bool        bool        bool        bool         bool         bool         bool        bool         bool         bool         bool         bool         bool         bool       bool         bool        float64        float64       float64      float64         float64            float64                float64                   float64              int64         int64          int64            int64       \n",
       "--------------------------- ------------- ------------ ------------- --------- ---------- ------------- ---------- ------------- ------- ---------- ------- ---------- ---------- ------------- ---------- ------------- ------- ---------- ------- ---------- ---------- ------------- ---------- ------------- ------- ---------- ------- ---------- ---------- ------------- ---------- ------------- ------- ---------- ------- ---------- ---------- ------------- ---------- ------------- ------- ---------- ------- ---------- ----------- -------------- ----------- -------------- -------- ----------- -------- ----------- ----------- -------------- ----------- -------------- -------- ----------- -------- ----------- ----------- -------------- ----------- -------------- -------- ----------- -------- ----------- ----------- -------------- ----------- -------------- -------- ----------- -------- ----------- ----------- -------------- ----------- -------------- -------- ----------- -------- ----------- -------------- ----------------- -------------- ----------------- ----------- -------------- ----------- -------------- -------------- ----------------- -------------- ----------------- -------------- --------------- ------------- --------------- -------------- ----------------- -------------- ----------------- -------------- --------------- ------------- --------------- -------------- ----------------- -------------- ----------------- ------------- --------------- ------------- --------------- ------------- ---------------- ------------- ---------------- ---------- ------------- ---------- ------------- ------------ --------------- ------------ --------------- --------- ------------ --------- ------------ ------------ --------------- ------------ --------------- --------- ------------ --------- ------------ ------------ --------------- ------------ --------------- --------- ------------ --------- ------------ ------------ --------------- ------------ --------------- --------- ------------ --------- ------------ ------------- ---------------- ------------- ---------------- ---------- ------------- ---------- ------------- ----------- -------------- -------------- ----------- ----------- -------------- -------------- ----------- -------------- ----------------- ------- ---------- ---------------------- ---------------- --------- ------------ ------------ ------------ --------------- --------------- ---------- ------------- ------------- ----------- -------------- -------------- ----------- -------------- -------------- ----------- -------------- -------------- -------- -------------- -------------- ------------ ----------- --------- --------------- --------------- ----------- ----------- ----------- ----------- ----------- ------------ ------------ ------------ ------------ ---------- -------------- ---------- -------------- ---------- -------------- ---------- ---------- -------------- ------------ ---------------- ---------- -------------- ---------------- -------------------- ----------------------- --------------------------- ----------- --------------- -------------- ------------------\n",
       "HELP_J102305.277+590211.847 Lockman SWIRE 155.77198846 59.0366242157 121936758        nan           nan        nan           nan     nan        nan     nan        nan        nan           nan        nan           nan     nan        nan     nan        nan        nan           nan        nan           nan     nan        nan     nan        nan        nan           nan        nan           nan     nan        nan     nan        nan        nan           nan        nan           nan     nan        nan     nan        nan         nan            nan         nan            nan      nan         nan      nan         nan         nan            nan         nan            nan      nan         nan      nan         nan         nan            nan         nan            nan      nan         nan      nan         nan         nan            nan         nan            nan      nan         nan      nan         nan         nan            nan         nan            nan      nan         nan      nan         nan            nan               nan            nan               nan         nan            nan         nan            nan            nan               nan            nan               nan 0.477749437094 0.0158404055983 24.7019996643 0.0359990000725            nan               nan            nan               nan 0.790678203106 0.0180689115077 24.1550006866 0.0248116999865            nan               nan            nan               nan 1.43271517754 0.0782311409712 23.5095996857 0.0592848993838           nan              nan           nan              nan        nan           nan        nan           nan          nan             nan          nan             nan       nan          nan       nan          nan          nan             nan          nan             nan       nan          nan       nan          nan          nan             nan          nan             nan       nan          nan       nan          nan          nan             nan          nan             nan       nan          nan       nan          nan           nan              nan           nan              nan        nan           nan        nan           nan         nan            nan            nan         nan     24.0246      0.0316829      0.0385824    0.891579 0.239999994636    rcs_stellarity     nan        -99                  False 0.00534795331823       nan          nan        False          nan             nan           False        nan           nan         False         nan            nan          False         nan            nan          False         nan            nan          False      nan          False          False        False       False         0               3               1       False       False       False       False       False        False        False        False        False      False          False      False          False      False          False      False      False          False          nan              nan        nan            nan              nan                  nan                     nan                         nan          -1              -1             -1                 -1"
      ]
     },
     "execution_count": 6,
     "metadata": {},
     "output_type": "execute_result"
    }
   ],
   "source": [
    "print(len(opt_ir_cat))\n",
    "opt_ir_cat[0]"
   ]
  },
  {
   "cell_type": "code",
   "execution_count": 7,
   "metadata": {},
   "outputs": [],
   "source": [
    "lofar_all = Table.read('../lofar/deep_fields/Lockman/data/edited_cats/radio/image_full_ampphase_di_m.NS_shift.blanked.scaled.cat_foverlap.fits')"
   ]
  },
  {
   "cell_type": "code",
   "execution_count": 8,
   "metadata": {},
   "outputs": [
    {
     "data": {
      "text/html": [
       "<i>Row index=0</i>\n",
       "<table id=\"table46913446200096\">\n",
       "<thead><tr><th>Source_id</th><th>Isl_id</th><th>RA</th><th>E_RA</th><th>DEC</th><th>E_DEC</th><th>Total_flux</th><th>E_Total_flux</th><th>Peak_flux</th><th>E_Peak_flux</th><th>RA_max</th><th>E_RA_max</th><th>DEC_max</th><th>E_DEC_max</th><th>Maj</th><th>E_Maj</th><th>Min</th><th>E_Min</th><th>PA</th><th>E_PA</th><th>Maj_img_plane</th><th>E_Maj_img_plane</th><th>Min_img_plane</th><th>E_Min_img_plane</th><th>PA_img_plane</th><th>E_PA_img_plane</th><th>DC_Maj</th><th>E_DC_Maj</th><th>DC_Min</th><th>E_DC_Min</th><th>DC_PA</th><th>E_DC_PA</th><th>DC_Maj_img_plane</th><th>E_DC_Maj_img_plane</th><th>DC_Min_img_plane</th><th>E_DC_Min_img_plane</th><th>DC_PA_img_plane</th><th>E_DC_PA_img_plane</th><th>Isl_Total_flux</th><th>E_Isl_Total_flux</th><th>Isl_rms</th><th>Isl_mean</th><th>Resid_Isl_rms</th><th>Resid_Isl_mean</th><th>S_Code</th><th>FLAG_OVERLAP</th><th>flag_clean</th><th>Source_Name</th></tr></thead>\n",
       "<thead><tr><th></th><th></th><th>deg</th><th>deg</th><th>deg</th><th>deg</th><th>Jy</th><th>Jy</th><th>Jy / beam</th><th>Jy / beam</th><th>deg</th><th>deg</th><th>deg</th><th>deg</th><th>deg</th><th>deg</th><th>deg</th><th>deg</th><th>deg</th><th>deg</th><th>deg</th><th>deg</th><th>deg</th><th>deg</th><th>deg</th><th>deg</th><th>deg</th><th>deg</th><th>deg</th><th>deg</th><th>deg</th><th>deg</th><th>deg</th><th>deg</th><th>deg</th><th>deg</th><th>deg</th><th>deg</th><th>Jy</th><th>Jy</th><th>Jy / beam</th><th>Jy / beam</th><th>Jy / beam</th><th>Jy / beam</th><th></th><th></th><th></th><th></th></tr></thead>\n",
       "<thead><tr><th>int32</th><th>int32</th><th>float64</th><th>float64</th><th>float64</th><th>float64</th><th>float64</th><th>float64</th><th>float64</th><th>float64</th><th>float64</th><th>float64</th><th>float64</th><th>float64</th><th>float64</th><th>float64</th><th>float64</th><th>float64</th><th>float64</th><th>float64</th><th>float64</th><th>float64</th><th>float64</th><th>float64</th><th>float64</th><th>float64</th><th>float64</th><th>float64</th><th>float64</th><th>float64</th><th>float64</th><th>float64</th><th>float64</th><th>float64</th><th>float64</th><th>float64</th><th>float64</th><th>float64</th><th>float64</th><th>float64</th><th>float64</th><th>float64</th><th>float64</th><th>float64</th><th>bytes1</th><th>int64</th><th>int64</th><th>bytes22</th></tr></thead>\n",
       "<tr><td>0</td><td>2</td><td>167.140371012</td><td>0.000224831119071</td><td>57.7293926059</td><td>6.98686836164e-05</td><td>0.000392924930152</td><td>0.000121253904068</td><td>0.000378014226818</td><td>6.43930593582e-05</td><td>167.140371012</td><td>0.000224831119071</td><td>57.7293926059</td><td>6.98686836164e-05</td><td>0.00231057449509</td><td>0.000530889673946</td><td>0.00125120866868</td><td>0.000158018298889</td><td>97.1852631296</td><td>19.0337910704</td><td>0.00230769444596</td><td>0.000530889673946</td><td>0.00125118242094</td><td>0.000158018298889</td><td>92.6292703714</td><td>19.0337910704</td><td>0.0</td><td>0.000530889673946</td><td>0.0</td><td>0.000158018298889</td><td>0.0</td><td>19.0337910704</td><td>0.0</td><td>0.000530889673946</td><td>0.0</td><td>0.000158018298889</td><td>0.0</td><td>19.0337910704</td><td>0.000351682817313</td><td>7.53038720014e-05</td><td>6.83596881572e-05</td><td>0.0</td><td>2.9045888823e-06</td><td>-4.4299389157e-10</td><td>S</td><td>0</td><td>1</td><td>ILTJ110833.69+574345.8</td></tr>\n",
       "</table>"
      ],
      "text/plain": [
       "<Row index=0>\n",
       "Source_id Isl_id       RA             E_RA            DEC            E_DEC           Total_flux       E_Total_flux       Peak_flux        E_Peak_flux        RA_max         E_RA_max        DEC_max        E_DEC_max           Maj              E_Maj             Min              E_Min             PA           E_PA      Maj_img_plane    E_Maj_img_plane   Min_img_plane    E_Min_img_plane   PA_img_plane E_PA_img_plane  DC_Maj      E_DC_Maj      DC_Min      E_DC_Min      DC_PA     E_DC_PA    DC_Maj_img_plane E_DC_Maj_img_plane DC_Min_img_plane E_DC_Min_img_plane DC_PA_img_plane E_DC_PA_img_plane   Isl_Total_flux   E_Isl_Total_flux      Isl_rms       Isl_mean  Resid_Isl_rms     Resid_Isl_mean  S_Code FLAG_OVERLAP flag_clean      Source_Name      \n",
       "                      deg             deg             deg             deg                Jy                Jy            Jy / beam         Jy / beam          deg             deg             deg             deg              deg               deg              deg               deg             deg           deg            deg               deg              deg               deg             deg           deg         deg          deg          deg          deg          deg        deg            deg               deg               deg               deg               deg              deg                Jy                Jy            Jy / beam     Jy / beam    Jy / beam         Jy / beam                                                          \n",
       "  int32   int32     float64         float64         float64         float64           float64           float64           float64           float64         float64         float64         float64         float64          float64           float64          float64           float64         float64       float64        float64           float64          float64           float64         float64       float64     float64      float64      float64      float64      float64    float64        float64           float64           float64           float64           float64          float64           float64           float64           float64       float64      float64           float64      bytes1    int64       int64           bytes22        \n",
       "--------- ------ ------------- ----------------- ------------- ----------------- ----------------- ----------------- ----------------- ----------------- ------------- ----------------- ------------- ----------------- ---------------- ----------------- ---------------- ----------------- ------------- ------------- ---------------- ----------------- ---------------- ----------------- ------------- -------------- ------- ----------------- ------- ----------------- ------- ------------- ---------------- ------------------ ---------------- ------------------ --------------- ----------------- ----------------- ----------------- ----------------- --------- ---------------- ----------------- ------ ------------ ---------- ----------------------\n",
       "        0      2 167.140371012 0.000224831119071 57.7293926059 6.98686836164e-05 0.000392924930152 0.000121253904068 0.000378014226818 6.43930593582e-05 167.140371012 0.000224831119071 57.7293926059 6.98686836164e-05 0.00231057449509 0.000530889673946 0.00125120866868 0.000158018298889 97.1852631296 19.0337910704 0.00230769444596 0.000530889673946 0.00125118242094 0.000158018298889 92.6292703714  19.0337910704     0.0 0.000530889673946     0.0 0.000158018298889     0.0 19.0337910704              0.0  0.000530889673946              0.0  0.000158018298889             0.0     19.0337910704 0.000351682817313 7.53038720014e-05 6.83596881572e-05       0.0 2.9045888823e-06 -4.4299389157e-10      S            0          1 ILTJ110833.69+574345.8"
      ]
     },
     "execution_count": 8,
     "metadata": {},
     "output_type": "execute_result"
    }
   ],
   "source": [
    "lofar_all[0]"
   ]
  },
  {
   "cell_type": "code",
   "execution_count": 9,
   "metadata": {},
   "outputs": [],
   "source": [
    "opt_colname = 'm_ap_megacam_r'\n",
    "ir_colname = 'm_ap_irac_i2'\n",
    "opt_ra = 'ra'\n",
    "opt_dec = 'dec'"
   ]
  },
  {
   "cell_type": "markdown",
   "metadata": {},
   "source": [
    "#### Define the field "
   ]
  },
  {
   "cell_type": "code",
   "execution_count": 10,
   "metadata": {},
   "outputs": [
    {
     "name": "stdout",
     "output_type": "stream",
     "text": [
      "Area of r-MOC: 13.321917803932173 sq. deg.\n",
      "Area of se2-MOC: 5.574102257180664 sq. deg.\n",
      "Area of sw2-MOC: 10.949807996199757 sq. deg.\n",
      "Area of overlaping moc: 10.73406473187727 sq. deg.\n"
     ]
    }
   ],
   "source": [
    "#select the moc of the optical data\n",
    "#MOC_loc = '../lofar/deep_fields/Lockman/data/Bootes_I-band_MOC.fits'\n",
    "#MHz150_MOC = MOC(filename=MOC_loc)\n",
    "\n",
    "# Load in the MOCs\n",
    "PATH_MOC_r = \"../lofar/deep_fields/Lockman/data/edited_cats/optical/mocs/LH_r_moc_order_18_MOC_with_add.fits\"\n",
    "PATH_MOC_se2 = \"../lofar/deep_fields/Lockman/data/edited_cats/optical/mocs/LH_se2_moc_order_18_MOC.fits\"\n",
    "PATH_MOC_sw2 = \"../lofar/deep_fields/Lockman/data/edited_cats/optical/mocs/LH_sw2_moc_order_18_MOC.fits\"\n",
    "\n",
    "moc_r = pymoc.MOC()\n",
    "read_moc_fits(moc_r, PATH_MOC_r)\n",
    "\n",
    "moc_se2 = pymoc.MOC()\n",
    "read_moc_fits(moc_se2, PATH_MOC_se2)\n",
    "\n",
    "moc_sw2 = pymoc.MOC()\n",
    "read_moc_fits(moc_sw2, PATH_MOC_sw2)\n",
    "\n",
    "print(\"Area of r-MOC: {0} sq. deg.\".format(moc_r.area_sq_deg))\n",
    "print(\"Area of se2-MOC: {0} sq. deg.\".format(moc_se2.area_sq_deg))\n",
    "print(\"Area of sw2-MOC: {0} sq. deg.\".format(moc_sw2.area_sq_deg))\n",
    "\n",
    "moc_overlap = moc_r.intersection(moc_sw2)\n",
    "\n",
    "print(\"Area of overlaping moc: {0} sq. deg.\".format(moc_overlap.area_sq_deg))"
   ]
  },
  {
   "cell_type": "code",
   "execution_count": 11,
   "metadata": {},
   "outputs": [
    {
     "name": "stdout",
     "output_type": "stream",
     "text": [
      "field area is defined by a MOC\n"
     ]
    }
   ],
   "source": [
    "ra_down, ra_up, dec_down, dec_up = min(lofar_all['RA']),max(lofar_all['RA']),min(lofar_all['DEC']),max(lofar_all['DEC'])\n",
    "field = Field(ra_down, ra_up, dec_down, dec_up, moc_overlap)"
   ]
  },
  {
   "cell_type": "markdown",
   "metadata": {},
   "source": [
    "#### Filter the catalogues"
   ]
  },
  {
   "cell_type": "code",
   "execution_count": 12,
   "metadata": {},
   "outputs": [
    {
     "name": "stdout",
     "output_type": "stream",
     "text": [
      "filtering in a MOC\n",
      "number of radio sources is: 21620\n"
     ]
    }
   ],
   "source": [
    "# remove sources with a major axis greater than 30 arcseconds\n",
    "lofar_aux = lofar_all[~np.isnan(lofar_all['Maj'])]\n",
    "lofar = field.filter_catalogue(lofar_aux[(lofar_aux['Maj'] < 10./3600) & (lofar_aux['S_Code']=='S')], \n",
    "                               colnames=(\"RA\", \"DEC\"))\n",
    "print('number of radio sources is: {}'.format(len(lofar)))"
   ]
  },
  {
   "cell_type": "code",
   "execution_count": 13,
   "metadata": {},
   "outputs": [
    {
     "name": "stdout",
     "output_type": "stream",
     "text": [
      "filtering in a MOC\n"
     ]
    }
   ],
   "source": [
    "opt_ir = field.filter_catalogue(opt_ir_cat, \n",
    "                               colnames=(opt_ra, opt_dec))\n",
    "\n",
    "#remove sources with no detection in the opt or ir bands used for xmatching\n",
    "#mask = (~np.isnan(opt_ir[opt_colname])) | (~np.isnan(opt_ir[ir_colname]))\n",
    "#mask = opt_ir['FLAG_DEEP']==1 \n",
    "#opt_ir = opt_ir[mask]"
   ]
  },
  {
   "cell_type": "code",
   "execution_count": 14,
   "metadata": {},
   "outputs": [],
   "source": [
    "opt_ir[\"colour\"] = opt_ir[opt_colname] - opt_ir[ir_colname]"
   ]
  },
  {
   "cell_type": "code",
   "execution_count": 15,
   "metadata": {},
   "outputs": [],
   "source": [
    "opt_ir_index = np.arange(len(opt_ir))"
   ]
  },
  {
   "cell_type": "code",
   "execution_count": 16,
   "metadata": {},
   "outputs": [],
   "source": [
    "opt_ir_coords = SkyCoord(opt_ir[opt_ra], \n",
    "                           opt_ir[opt_dec], \n",
    "                           unit=(u.deg, u.deg), \n",
    "                           frame='icrs')"
   ]
  },
  {
   "cell_type": "code",
   "execution_count": 17,
   "metadata": {},
   "outputs": [],
   "source": [
    "lofar_coords = SkyCoord(lofar['RA'], \n",
    "                       lofar['DEC'], \n",
    "                       unit=(u.deg, u.deg), \n",
    "                       frame='icrs')"
   ]
  },
  {
   "cell_type": "code",
   "execution_count": 18,
   "metadata": {},
   "outputs": [],
   "source": [
    "#remove sources with mag=-99\n",
    "opt_ir_num_both = (~np.isnan(opt_ir[opt_colname]) & ~np.isnan(opt_ir[ir_colname])) # number of sources detected in opt and ir\n",
    "opt_ir_num_opt = (~np.isnan(opt_ir[opt_colname]) & np.isnan(opt_ir[ir_colname])) # number of sources detected in opt only\n",
    "opt_ir_num_ir =(np.isnan(opt_ir[opt_colname]) & ~np.isnan(opt_ir[ir_colname])) # number of sources detected in ir only\n",
    "opt_num = (opt_ir_num_both | opt_ir_num_opt) & (opt_ir[opt_colname]!=-99)\n",
    "ir_num = (opt_ir_num_both | opt_ir_num_ir) & (opt_ir[ir_colname]!=-99)\n",
    "\n",
    "opt_cat = opt_ir[opt_num]\n",
    "ir_cat = opt_ir[ir_num]"
   ]
  },
  {
   "cell_type": "code",
   "execution_count": 19,
   "metadata": {},
   "outputs": [
    {
     "name": "stdout",
     "output_type": "stream",
     "text": [
      "Total    -  2830987\n",
      "opt and ir -  561799\n",
      "Only opt   -  1319555\n",
      "With opt   -  1881354\n",
      "Only ir  -  385409\n",
      "With ir  -  947208\n"
     ]
    }
   ],
   "source": [
    "print(\"Total    - \", len(opt_ir))\n",
    "print(\"opt and ir - \", np.sum(opt_ir_num_both))\n",
    "print(\"Only opt   - \", np.sum(opt_ir_num_opt))\n",
    "print(\"With opt   - \", np.sum(opt_num))\n",
    "print(\"Only ir  - \", np.sum(opt_ir_num_ir))\n",
    "print(\"With ir  - \", np.sum(ir_num))"
   ]
  },
  {
   "cell_type": "markdown",
   "metadata": {},
   "source": [
    "check the distribution of sources to make sure the selected area is correct and that there are no gaps that could influence the calculation of Q0"
   ]
  },
  {
   "cell_type": "code",
   "execution_count": null,
   "metadata": {},
   "outputs": [],
   "source": [
    "x = lofar['RA']\n",
    "y = lofar['DEC']\n",
    "plt.scatter(x,y,s=0.1)\n",
    "\n",
    "x = opt_ir[opt_ra]\n",
    "y = opt_ir[opt_dec]\n",
    "plt.scatter(x,y,s=0.01)\n",
    "plt.show()"
   ]
  },
  {
   "cell_type": "code",
   "execution_count": null,
   "metadata": {},
   "outputs": [],
   "source": [
    "mask = ~np.isnan(opt_ir_cat['m_gpc1_i'])\n",
    "x = opt_ir_cat['ra'][mask]\n",
    "y = opt_ir_cat['dec'][mask]\n",
    "plt.scatter(x,y,s=0.01)\n",
    "plt.xlim(158,159)\n",
    "plt.ylim(58,59)\n",
    "plt.show()"
   ]
  },
  {
   "cell_type": "code",
   "execution_count": null,
   "metadata": {},
   "outputs": [],
   "source": [
    "print(min(lofar['RA']),max(lofar['RA']),min(lofar['DEC']),max(lofar['DEC']))"
   ]
  },
  {
   "cell_type": "markdown",
   "metadata": {},
   "source": [
    "### Compute Q0 for the optical and IR"
   ]
  },
  {
   "cell_type": "code",
   "execution_count": 20,
   "metadata": {},
   "outputs": [
    {
     "name": "stdout",
     "output_type": "stream",
     "text": [
      "field area is defined by a MOC\n",
      "filtering in a MOC\n",
      "filtering in a MOC\n",
      "[    0     1     2 ..., 21617 21618 21619]\n",
      "13816\n",
      "starting to find Q0. This will take a while\n",
      "finding Q0 with radius = 0.1 arcseconds\n",
      "ratio of the random generation area compared to the moc area is: 3.350025161472081\n",
      "number of random sources with no matches: 13810\n",
      "number of real sources with no matches: 13533\n",
      "ratio of the random generation area compared to the moc area is: 3.350025161472081\n",
      "number of random sources with no matches: 13810\n",
      "number of real sources with no matches: 13533\n",
      "ratio of the random generation area compared to the moc area is: 3.350025161472081\n",
      "number of random sources with no matches: 13813\n",
      "number of real sources with no matches: 13533\n",
      "ratio of the random generation area compared to the moc area is: 3.350025161472081\n",
      "number of random sources with no matches: 13809\n",
      "number of real sources with no matches: 13533\n",
      "ratio of the random generation area compared to the moc area is: 3.350025161472081\n",
      "number of random sources with no matches: 13808\n",
      "number of real sources with no matches: 13533\n",
      "ratio of the random generation area compared to the moc area is: 3.350025161472081\n",
      "number of random sources with no matches: 13810\n",
      "number of real sources with no matches: 13533\n",
      "ratio of the random generation area compared to the moc area is: 3.350025161472081\n"
     ]
    },
    {
     "ename": "KeyboardInterrupt",
     "evalue": "",
     "output_type": "error",
     "traceback": [
      "\u001b[0;31m---------------------------------------------------------------------------\u001b[0m",
      "\u001b[0;31mKeyboardInterrupt\u001b[0m                         Traceback (most recent call last)",
      "\u001b[0;32m<ipython-input-20-d9f6799ad0cb>\u001b[0m in \u001b[0;36m<module>\u001b[0;34m\u001b[0m\n\u001b[0;32m----> 1\u001b[0;31m \u001b[0mQ0_opt\u001b[0m\u001b[0;34m,\u001b[0m\u001b[0msearch_rad_r\u001b[0m \u001b[0;34m=\u001b[0m \u001b[0mQ0_calc\u001b[0m\u001b[0;34m(\u001b[0m\u001b[0mlofar\u001b[0m\u001b[0;34m,\u001b[0m\u001b[0mopt_cat\u001b[0m\u001b[0;34m,\u001b[0m\u001b[0;34m'RA'\u001b[0m\u001b[0;34m,\u001b[0m\u001b[0;34m'DEC'\u001b[0m\u001b[0;34m,\u001b[0m\u001b[0mopt_ra\u001b[0m\u001b[0;34m,\u001b[0m\u001b[0mopt_dec\u001b[0m\u001b[0;34m,\u001b[0m\u001b[0mopt_colname\u001b[0m\u001b[0;34m,\u001b[0m\u001b[0mmin\u001b[0m\u001b[0;34m(\u001b[0m\u001b[0mlofar\u001b[0m\u001b[0;34m[\u001b[0m\u001b[0;34m'RA'\u001b[0m\u001b[0;34m]\u001b[0m\u001b[0;34m)\u001b[0m\u001b[0;34m,\u001b[0m\u001b[0mmax\u001b[0m\u001b[0;34m(\u001b[0m\u001b[0mlofar\u001b[0m\u001b[0;34m[\u001b[0m\u001b[0;34m'RA'\u001b[0m\u001b[0;34m]\u001b[0m\u001b[0;34m)\u001b[0m\u001b[0;34m,\u001b[0m\u001b[0mmin\u001b[0m\u001b[0;34m(\u001b[0m\u001b[0mlofar\u001b[0m\u001b[0;34m[\u001b[0m\u001b[0;34m'DEC'\u001b[0m\u001b[0;34m]\u001b[0m\u001b[0;34m)\u001b[0m\u001b[0;34m,\u001b[0m\u001b[0mmax\u001b[0m\u001b[0;34m(\u001b[0m\u001b[0mlofar\u001b[0m\u001b[0;34m[\u001b[0m\u001b[0;34m'DEC'\u001b[0m\u001b[0;34m]\u001b[0m\u001b[0;34m)\u001b[0m\u001b[0;34m,\u001b[0m\u001b[0;36m0.1\u001b[0m\u001b[0;34m,\u001b[0m\u001b[0;36m8\u001b[0m\u001b[0;34m,\u001b[0m\u001b[0;36m30\u001b[0m\u001b[0;34m,\u001b[0m\u001b[0mmoc\u001b[0m\u001b[0;34m=\u001b[0m\u001b[0mmoc_overlap\u001b[0m\u001b[0;34m)\u001b[0m\u001b[0;34m\u001b[0m\u001b[0;34m\u001b[0m\u001b[0m\n\u001b[0m\u001b[1;32m      2\u001b[0m \u001b[0;31m#Q0_opt,search_rad_r = Q0_calc(lofar,opt_cat,'RA','DEC',opt_ra,opt_dec,opt_colname,16,163.5,57.5,58.5,0.1,8,30,moc=moc_overlap)\u001b[0m\u001b[0;34m\u001b[0m\u001b[0;34m\u001b[0m\u001b[0;34m\u001b[0m\u001b[0m\n",
      "\u001b[0;32m/mnt/pact/im281/FIR-group/Ian/lr/Q0_calc.py\u001b[0m in \u001b[0;36mQ0_calc\u001b[0;34m(cat1, cat2, cat1ra, cat1dec, cat2ra, cat2dec, cat2flux, ra_down, ra_up, dec_down, dec_up, radius_low, radius_up, steps, moc)\u001b[0m\n\u001b[1;32m     96\u001b[0m         \u001b[0mq_0_rad_aux\u001b[0m \u001b[0;34m=\u001b[0m \u001b[0;34m[\u001b[0m\u001b[0;34m]\u001b[0m\u001b[0;34m\u001b[0m\u001b[0;34m\u001b[0m\u001b[0m\n\u001b[1;32m     97\u001b[0m         \u001b[0;32mfor\u001b[0m \u001b[0mi\u001b[0m \u001b[0;32min\u001b[0m \u001b[0mrange\u001b[0m\u001b[0;34m(\u001b[0m\u001b[0mn_iter\u001b[0m\u001b[0;34m)\u001b[0m\u001b[0;34m:\u001b[0m\u001b[0;34m\u001b[0m\u001b[0;34m\u001b[0m\u001b[0m\n\u001b[0;32m---> 98\u001b[0;31m             \u001b[0mout\u001b[0m \u001b[0;34m=\u001b[0m \u001b[0mq_0_comp_i\u001b[0m\u001b[0;34m(\u001b[0m\u001b[0mradius\u001b[0m\u001b[0;34m=\u001b[0m\u001b[0mradius\u001b[0m\u001b[0;34m)\u001b[0m\u001b[0;34m\u001b[0m\u001b[0;34m\u001b[0m\u001b[0m\n\u001b[0m\u001b[1;32m     99\u001b[0m             \u001b[0mq_0_rad_aux\u001b[0m\u001b[0;34m.\u001b[0m\u001b[0mappend\u001b[0m\u001b[0;34m(\u001b[0m\u001b[0mout\u001b[0m\u001b[0;34m)\u001b[0m\u001b[0;34m\u001b[0m\u001b[0;34m\u001b[0m\u001b[0m\n\u001b[1;32m    100\u001b[0m         \u001b[0mq_0_rad_i\u001b[0m\u001b[0;34m.\u001b[0m\u001b[0mappend\u001b[0m\u001b[0;34m(\u001b[0m\u001b[0mnp\u001b[0m\u001b[0;34m.\u001b[0m\u001b[0mmean\u001b[0m\u001b[0;34m(\u001b[0m\u001b[0mq_0_rad_aux\u001b[0m\u001b[0;34m)\u001b[0m\u001b[0;34m)\u001b[0m\u001b[0;34m\u001b[0m\u001b[0;34m\u001b[0m\u001b[0m\n",
      "\u001b[0;32m/mnt/pact/im281/FIR-group/Ian/lr/mltier.py\u001b[0m in \u001b[0;36m__call__\u001b[0;34m(self, radius)\u001b[0m\n\u001b[1;32m    224\u001b[0m \u001b[0;34m\u001b[0m\u001b[0m\n\u001b[1;32m    225\u001b[0m         \u001b[0;31m# Generate random catalogue with n sources as the small one\u001b[0m\u001b[0;34m\u001b[0m\u001b[0;34m\u001b[0m\u001b[0;34m\u001b[0m\u001b[0m\n\u001b[0;32m--> 226\u001b[0;31m         \u001b[0mrandom_small\u001b[0m \u001b[0;34m=\u001b[0m \u001b[0mself\u001b[0m\u001b[0;34m.\u001b[0m\u001b[0mfield\u001b[0m\u001b[0;34m.\u001b[0m\u001b[0mrandom_catalogue\u001b[0m\u001b[0;34m(\u001b[0m\u001b[0mself\u001b[0m\u001b[0;34m.\u001b[0m\u001b[0mn_small\u001b[0m\u001b[0;34m)\u001b[0m\u001b[0;34m\u001b[0m\u001b[0;34m\u001b[0m\u001b[0m\n\u001b[0m\u001b[1;32m    227\u001b[0m         idx_random_small, idx_big, d2d, d3d = search_around_sky(\n\u001b[1;32m    228\u001b[0m             random_small, self.coords_big, radius*u.arcsec)\n",
      "\u001b[0;32m/mnt/pact/im281/FIR-group/Ian/lr/mltier.py\u001b[0m in \u001b[0;36mrandom_catalogue\u001b[0;34m(self, n)\u001b[0m\n\u001b[1;32m    204\u001b[0m         \u001b[0;32melse\u001b[0m\u001b[0;34m:\u001b[0m\u001b[0;34m\u001b[0m\u001b[0;34m\u001b[0m\u001b[0m\n\u001b[1;32m    205\u001b[0m             return gen_rand_cat_inMOC(\n\u001b[0;32m--> 206\u001b[0;31m                 n, self.ra_up, self.ra_down, self.dec_up, self.dec_down, self.moc)\n\u001b[0m\u001b[1;32m    207\u001b[0m \u001b[0;34m\u001b[0m\u001b[0m\n\u001b[1;32m    208\u001b[0m \u001b[0;32mclass\u001b[0m \u001b[0mQ_0\u001b[0m\u001b[0;34m(\u001b[0m\u001b[0mobject\u001b[0m\u001b[0;34m)\u001b[0m\u001b[0;34m:\u001b[0m\u001b[0;34m\u001b[0m\u001b[0;34m\u001b[0m\u001b[0m\n",
      "\u001b[0;32m/mnt/pact/im281/FIR-group/Ian/lr/mltier.py\u001b[0m in \u001b[0;36mgen_rand_cat_inMOC\u001b[0;34m(n, RAmax, RAmin, DECmax, DECmin, catmoc)\u001b[0m\n\u001b[1;32m     98\u001b[0m     \u001b[0mrandra\u001b[0m \u001b[0;34m=\u001b[0m \u001b[0mnp\u001b[0m\u001b[0;34m.\u001b[0m\u001b[0mrandom\u001b[0m\u001b[0;34m.\u001b[0m\u001b[0muniform\u001b[0m\u001b[0;34m(\u001b[0m\u001b[0mRAmin\u001b[0m\u001b[0;34m,\u001b[0m \u001b[0mRAmax\u001b[0m\u001b[0;34m,\u001b[0m \u001b[0mint\u001b[0m\u001b[0;34m(\u001b[0m\u001b[0;36m2\u001b[0m\u001b[0;34m*\u001b[0m\u001b[0mn\u001b[0m\u001b[0;34m*\u001b[0m\u001b[0mratio\u001b[0m\u001b[0;34m)\u001b[0m\u001b[0;34m)\u001b[0m\u001b[0;34m\u001b[0m\u001b[0;34m\u001b[0m\u001b[0m\n\u001b[1;32m     99\u001b[0m     \u001b[0mranddec\u001b[0m \u001b[0;34m=\u001b[0m \u001b[0mnp\u001b[0m\u001b[0;34m.\u001b[0m\u001b[0mrandom\u001b[0m\u001b[0;34m.\u001b[0m\u001b[0muniform\u001b[0m\u001b[0;34m(\u001b[0m\u001b[0mDECmin\u001b[0m\u001b[0;34m,\u001b[0m \u001b[0mDECmax\u001b[0m\u001b[0;34m,\u001b[0m \u001b[0mint\u001b[0m\u001b[0;34m(\u001b[0m\u001b[0;36m2\u001b[0m\u001b[0;34m*\u001b[0m\u001b[0mn\u001b[0m\u001b[0;34m*\u001b[0m\u001b[0mratio\u001b[0m\u001b[0;34m)\u001b[0m\u001b[0;34m)\u001b[0m\u001b[0;34m\u001b[0m\u001b[0;34m\u001b[0m\u001b[0m\n\u001b[0;32m--> 100\u001b[0;31m     \u001b[0mmask\u001b[0m \u001b[0;34m=\u001b[0m \u001b[0minMoc\u001b[0m\u001b[0;34m(\u001b[0m\u001b[0mrandra\u001b[0m\u001b[0;34m,\u001b[0m\u001b[0mranddec\u001b[0m\u001b[0;34m,\u001b[0m\u001b[0mcatmoc\u001b[0m\u001b[0;34m)\u001b[0m\u001b[0;34m\u001b[0m\u001b[0;34m\u001b[0m\u001b[0m\n\u001b[0m\u001b[1;32m    101\u001b[0m     \u001b[0;32mif\u001b[0m \u001b[0mnp\u001b[0m\u001b[0;34m.\u001b[0m\u001b[0msum\u001b[0m\u001b[0;34m(\u001b[0m\u001b[0mmask\u001b[0m\u001b[0;34m)\u001b[0m\u001b[0;34m>=\u001b[0m\u001b[0mn\u001b[0m\u001b[0;34m:\u001b[0m\u001b[0;34m\u001b[0m\u001b[0;34m\u001b[0m\u001b[0m\n\u001b[1;32m    102\u001b[0m         \u001b[0mcoords\u001b[0m \u001b[0;34m=\u001b[0m \u001b[0mSkyCoord\u001b[0m\u001b[0;34m(\u001b[0m\u001b[0mrandra\u001b[0m\u001b[0;34m[\u001b[0m\u001b[0mmask\u001b[0m\u001b[0;34m]\u001b[0m\u001b[0;34m[\u001b[0m\u001b[0;34m:\u001b[0m\u001b[0mn\u001b[0m\u001b[0;34m]\u001b[0m\u001b[0;34m,\u001b[0m\u001b[0mranddec\u001b[0m\u001b[0;34m[\u001b[0m\u001b[0mmask\u001b[0m\u001b[0;34m]\u001b[0m\u001b[0;34m[\u001b[0m\u001b[0;34m:\u001b[0m\u001b[0mn\u001b[0m\u001b[0;34m]\u001b[0m\u001b[0;34m,\u001b[0m\u001b[0munit\u001b[0m\u001b[0;34m=\u001b[0m\u001b[0;34m'deg'\u001b[0m\u001b[0;34m)\u001b[0m\u001b[0;34m\u001b[0m\u001b[0;34m\u001b[0m\u001b[0m\n",
      "\u001b[0;32m/mnt/pact/im281/HELP/herschelhelp_internal/herschelhelp_internal/utils.py\u001b[0m in \u001b[0;36minMoc\u001b[0;34m(ra, dec, moc)\u001b[0m\n\u001b[1;32m    266\u001b[0m \u001b[0;34m\u001b[0m\u001b[0m\n\u001b[1;32m    267\u001b[0m     \u001b[0;31m# Array of all the HEALpix cell ids of the MOC at its maximum order.\u001b[0m\u001b[0;34m\u001b[0m\u001b[0;34m\u001b[0m\u001b[0;34m\u001b[0m\u001b[0m\n\u001b[0;32m--> 268\u001b[0;31m     \u001b[0mmoc_healpix_cells\u001b[0m \u001b[0;34m=\u001b[0m \u001b[0mnp\u001b[0m\u001b[0;34m.\u001b[0m\u001b[0marray\u001b[0m\u001b[0;34m(\u001b[0m\u001b[0mlist\u001b[0m\u001b[0;34m(\u001b[0m\u001b[0mmoc\u001b[0m\u001b[0;34m.\u001b[0m\u001b[0mflattened\u001b[0m\u001b[0;34m(\u001b[0m\u001b[0;34m)\u001b[0m\u001b[0;34m)\u001b[0m\u001b[0;34m)\u001b[0m\u001b[0;34m\u001b[0m\u001b[0;34m\u001b[0m\u001b[0m\n\u001b[0m\u001b[1;32m    269\u001b[0m \u001b[0;34m\u001b[0m\u001b[0m\n\u001b[1;32m    270\u001b[0m     \u001b[0;31m# We look for sources that are in the MOC and return the mask\u001b[0m\u001b[0;34m\u001b[0m\u001b[0;34m\u001b[0m\u001b[0;34m\u001b[0m\u001b[0m\n",
      "\u001b[0;32m~/.conda/envs/herschelhelp/lib/python3.6/site-packages/pymoc/moc.py\u001b[0m in \u001b[0;36mflattened\u001b[0;34m(self, order, include_smaller)\u001b[0m\n\u001b[1;32m    675\u001b[0m \u001b[0;34m\u001b[0m\u001b[0m\n\u001b[1;32m    676\u001b[0m             \u001b[0;32mfor\u001b[0m \u001b[0mcell\u001b[0m \u001b[0;32min\u001b[0m \u001b[0mself\u001b[0m\u001b[0;34m[\u001b[0m\u001b[0morder_i\u001b[0m\u001b[0;34m]\u001b[0m\u001b[0;34m:\u001b[0m\u001b[0;34m\u001b[0m\u001b[0;34m\u001b[0m\u001b[0m\n\u001b[0;32m--> 677\u001b[0;31m                 \u001b[0mflat\u001b[0m\u001b[0;34m.\u001b[0m\u001b[0mupdate\u001b[0m\u001b[0;34m(\u001b[0m\u001b[0mrange\u001b[0m\u001b[0;34m(\u001b[0m\u001b[0mcell\u001b[0m \u001b[0;34m<<\u001b[0m \u001b[0mshift\u001b[0m\u001b[0;34m,\u001b[0m \u001b[0;34m(\u001b[0m\u001b[0mcell\u001b[0m \u001b[0;34m+\u001b[0m \u001b[0;36m1\u001b[0m\u001b[0;34m)\u001b[0m \u001b[0;34m<<\u001b[0m \u001b[0mshift\u001b[0m\u001b[0;34m)\u001b[0m\u001b[0;34m)\u001b[0m\u001b[0;34m\u001b[0m\u001b[0;34m\u001b[0m\u001b[0m\n\u001b[0m\u001b[1;32m    678\u001b[0m \u001b[0;34m\u001b[0m\u001b[0m\n\u001b[1;32m    679\u001b[0m         \u001b[0;31m# Look at higher orders unless we have been told to exclude\u001b[0m\u001b[0;34m\u001b[0m\u001b[0;34m\u001b[0m\u001b[0;34m\u001b[0m\u001b[0m\n",
      "\u001b[0;31mKeyboardInterrupt\u001b[0m: "
     ]
    }
   ],
   "source": [
    "Q0_opt,search_rad_r = Q0_calc(lofar,opt_cat,'RA','DEC',opt_ra,opt_dec,opt_colname,min(lofar['RA']),max(lofar['RA']),min(lofar['DEC']),max(lofar['DEC']),0.1,8,30,moc=moc_overlap)\n",
    "#Q0_opt,search_rad_r = Q0_calc(lofar,opt_cat,'RA','DEC',opt_ra,opt_dec,opt_colname,16,163.5,57.5,58.5,0.1,8,30,moc=moc_overlap)"
   ]
  },
  {
   "cell_type": "code",
   "execution_count": null,
   "metadata": {},
   "outputs": [],
   "source": [
    "x = search_rad_r\n",
    "y = 1 - np.array(Q0_opt)\n",
    "plt.plot(x,y)\n",
    "plt.xlabel('Radius (arcseconds)')\n",
    "plt.ylabel('Q0')\n",
    "plt.show()\n",
    "\n",
    "Q0 = max(Q0_opt)\n",
    "#search_rad_opt = search_rad_r[Q0_opt == Q0][0]\n",
    "#using large search rad to make sure every source has a crossmatch and to make sure no true counterparts are missed\n",
    "search_rad_opt = 15\n",
    "#Q0 = popt[0]\n",
    "#search_rad = 6.9103\n",
    "\n",
    "print('Q0 = {}'.format(Q0))\n",
    "print('search radius = {}'.format(search_rad_opt))\n",
    "Q0_opt = Q0\n"
   ]
  },
  {
   "cell_type": "code",
   "execution_count": null,
   "metadata": {},
   "outputs": [],
   "source": [
    "#onlt run this cell if you have Q0 calculated previosly\n",
    "search_rad_opt = 15\n",
    "Q0_opt = 0.758524446898"
   ]
  },
  {
   "cell_type": "code",
   "execution_count": null,
   "metadata": {},
   "outputs": [],
   "source": [
    "Q0_ir,search_rad_r = Q0_calc(lofar,ir_cat,'RA','DEC',opt_ra,opt_dec,ir_colname,min(lofar['RA']),max(lofar['RA']),min(lofar['DEC']),max(lofar['DEC']),0.1,8,30,moc=moc_overlap)"
   ]
  },
  {
   "cell_type": "code",
   "execution_count": null,
   "metadata": {},
   "outputs": [],
   "source": [
    "x = search_rad_r\n",
    "y = 1 - np.array(Q0_ir)\n",
    "plt.plot(x,y)\n",
    "plt.xlabel('Radius (arcseconds)')\n",
    "plt.ylabel('Q0')\n",
    "plt.show()\n",
    "Q0 = max(Q0_ir)\n",
    "\n",
    "#search_rad_ir = search_rad_r[Q0_ir == Q0][0]\n",
    "search_rad_ir = 15\n",
    "#Q0 = popt[0]\n",
    "#search_rad = 6.9103\n",
    "\n",
    "print('Q0 = {}'.format(Q0))\n",
    "print('search radius = {}'.format(search_rad_ir))\n",
    "Q0_ir = Q0"
   ]
  },
  {
   "cell_type": "markdown",
   "metadata": {},
   "source": [
    "### Prepare the optical likelihood ratio"
   ]
  },
  {
   "cell_type": "code",
   "execution_count": null,
   "metadata": {},
   "outputs": [],
   "source": [
    "opt_cat = opt_ir[opt_num]"
   ]
  },
  {
   "cell_type": "code",
   "execution_count": null,
   "metadata": {},
   "outputs": [],
   "source": [
    "bin_list_opt = np.arange(7,35, 0.05)\n",
    "center_opt = get_center(bin_list_opt)"
   ]
  },
  {
   "cell_type": "code",
   "execution_count": null,
   "metadata": {},
   "outputs": [],
   "source": [
    "bandwidth_opt = 0.5\n",
    "\n",
    "#find the magnitude distribution of all sources n(m)\n",
    "n_m_opt = get_n_m(opt_cat[opt_colname], bin_list_opt, field.area)\n",
    "#find the magnitude distribution of all sources using a kernal instead of bining \n",
    "n_m_opt_kde = get_n_m_kde(opt_cat[opt_colname], center_opt, field.area, bandwidth=bandwidth_opt)\n",
    "n_m_opt_kde_cs = np.cumsum(n_m_opt_kde)\n",
    "\n",
    "#estimate q(m) using the method of Fleuren et al 2012\n",
    "q_m_opt = estimate_q_m(opt_cat[opt_colname], \n",
    "                      bin_list_opt, \n",
    "                      n_m_opt, \n",
    "                      lofar_coords, \n",
    "                      opt_ir_coords[opt_num], \n",
    "                      radius=5)\n",
    "\n",
    "#estimate q(m) using the method of fleuren et al 2012 but instead of binning the magnitudes using a\n",
    "#kernal to create a smoother q(m)\n",
    "q_m_opt_kde = estimate_q_m_kde(opt_cat[opt_colname], \n",
    "                      center_opt, \n",
    "                      n_m_opt_kde, \n",
    "                      lofar_coords, \n",
    "                      opt_ir_coords[opt_num], \n",
    "                      radius=5, \n",
    "                      bandwidth=bandwidth_opt)\n",
    "q_m_opt_kde_cs = np.cumsum(q_m_opt_kde)"
   ]
  },
  {
   "cell_type": "code",
   "execution_count": null,
   "metadata": {},
   "outputs": [],
   "source": [
    "print(len(opt_cat[opt_colname]))\n",
    "print(field.area/3600/3600)"
   ]
  },
  {
   "cell_type": "code",
   "execution_count": null,
   "metadata": {},
   "outputs": [],
   "source": [
    "plt.rcParams[\"figure.figsize\"] = (20,5)\n",
    "plt.subplot(1,3,1)\n",
    "plt.plot(center_opt, n_m_opt,color='blue');\n",
    "plt.plot(center_opt, n_m_opt_kde_cs,color='red');\n",
    "plt.title('n (m)')\n",
    "\n",
    "\n",
    "plt.subplot(1,3,2)\n",
    "plt.rcParams[\"figure.figsize\"] = (5,5)\n",
    "plt.plot(center_opt, q_m_opt,color='blue');\n",
    "plt.plot(center_opt, q_m_opt_kde_cs,color='red');\n",
    "plt.title('q (m)')\n",
    "\n",
    "plt.subplot(1,3,3)\n",
    "plt.rcParams[\"figure.figsize\"] = (5,5)\n",
    "plt.plot(center_opt, q_m_opt/n_m_opt,color='blue');\n",
    "plt.plot(center_opt, q_m_opt_kde_cs/n_m_opt_kde_cs,color='red');\n",
    "plt.ylim(0.9*np.min(q_m_opt_kde_cs/n_m_opt_kde_cs),1.1*np.max(q_m_opt_kde_cs/n_m_opt_kde_cs))\n",
    "plt.title('q (m) / n (m)')\n",
    "plt.show()\n",
    "\n",
    "print('maximum value of n(m) is: {}'.format(np.max(n_m_opt_kde_cs)))\n",
    "varstat(n_m_opt_kde_cs)"
   ]
  },
  {
   "cell_type": "code",
   "execution_count": null,
   "metadata": {},
   "outputs": [],
   "source": [
    "'''save = [n_m_opt_kde_cs,q_m_opt_kde_cs]\n",
    "pickle.dump(save,open('help_opt_nqm.pkl','wb'))'''"
   ]
  },
  {
   "cell_type": "code",
   "execution_count": null,
   "metadata": {},
   "outputs": [],
   "source": [
    "varstat(q_m_opt_kde_cs)"
   ]
  },
  {
   "cell_type": "code",
   "execution_count": null,
   "metadata": {},
   "outputs": [],
   "source": [
    "likelihood_ratio_opt = SingleMLEstimator(Q0_opt, n_m_opt_kde_cs, q_m_opt_kde_cs, center_opt)"
   ]
  },
  {
   "cell_type": "markdown",
   "metadata": {},
   "source": [
    "### Prepare the IR likelihood ratio"
   ]
  },
  {
   "cell_type": "code",
   "execution_count": null,
   "metadata": {},
   "outputs": [],
   "source": [
    "ir_cat = opt_ir[ir_num]"
   ]
  },
  {
   "cell_type": "code",
   "execution_count": null,
   "metadata": {},
   "outputs": [],
   "source": [
    "bin_list_ir = np.arange(7, 35, 0.05)\n",
    "center_ir = get_center(bin_list_ir)"
   ]
  },
  {
   "cell_type": "code",
   "execution_count": null,
   "metadata": {},
   "outputs": [],
   "source": [
    "bandwidth_ir = 0.5\n",
    "\n",
    "mask = ~np.isnan(ir_cat[ir_colname])\n",
    "n_m_ir = get_n_m(ir_cat[ir_colname][mask], bin_list_ir, field.area)\n",
    "n_m_ir_kde = get_n_m_kde(ir_cat[ir_colname][mask], center_ir, field.area, bandwidth=bandwidth_ir)\n",
    "n_m_ir_kde_cs = np.cumsum(n_m_ir_kde)\n",
    "\n",
    "q_m_ir = estimate_q_m(ir_cat[ir_colname][mask], \n",
    "                      bin_list_ir, \n",
    "                      n_m_ir, \n",
    "                      lofar_coords, \n",
    "                      opt_ir_coords[ir_num][mask], \n",
    "                      radius=5)\n",
    "\n",
    "q_m_ir_kde = estimate_q_m_kde(ir_cat[ir_colname][mask], \n",
    "                      center_ir, \n",
    "                      n_m_ir_kde, \n",
    "                      lofar_coords, \n",
    "                      opt_ir_coords[ir_num][mask], \n",
    "                      radius=5, \n",
    "                      bandwidth=bandwidth_ir)\n",
    "q_m_ir_kde_cs = np.cumsum(q_m_ir_kde)"
   ]
  },
  {
   "cell_type": "code",
   "execution_count": null,
   "metadata": {},
   "outputs": [],
   "source": [
    "plt.rcParams[\"figure.figsize\"] = (15,5)\n",
    "plt.subplot(1,3,1)\n",
    "plt.plot(center_ir, n_m_ir,color='blue');\n",
    "plt.plot(center_ir, n_m_ir_kde_cs,color='red');\n",
    "plt.title('n (m)')\n",
    "\n",
    "plt.subplot(1,3,2)\n",
    "plt.rcParams[\"figure.figsize\"] = (5,5)\n",
    "plt.plot(center_ir, q_m_ir,color='blue');\n",
    "plt.plot(center_ir, q_m_ir_kde_cs,color='red');\n",
    "plt.title('q (m)')\n",
    "\n",
    "plt.subplot(1,3,3)\n",
    "plt.rcParams[\"figure.figsize\"] = (5,5)\n",
    "plt.plot(center_ir, q_m_ir/n_m_ir,color='blue');\n",
    "plt.plot(center_ir, q_m_ir_kde_cs/n_m_ir_kde_cs,color='red');\n",
    "plt.ylim(0.9*np.min(q_m_ir_kde_cs/n_m_ir_kde_cs),1.1*np.max(q_m_ir_kde_cs/n_m_ir_kde_cs))\n",
    "plt.title('q (m) / n (m)')\n",
    "plt.show()"
   ]
  },
  {
   "cell_type": "code",
   "execution_count": null,
   "metadata": {},
   "outputs": [],
   "source": [
    "save = [n_m_ir_kde_cs,q_m_ir_kde_cs]\n",
    "pickle.dump(save,open('help_ir_nqm.pkl','wb'))"
   ]
  },
  {
   "cell_type": "code",
   "execution_count": null,
   "metadata": {},
   "outputs": [],
   "source": [
    "likelihood_ratio_ir = SingleMLEstimator(Q0_ir, n_m_ir_kde_cs, q_m_ir_kde_cs, center_ir)"
   ]
  },
  {
   "cell_type": "markdown",
   "metadata": {},
   "source": [
    "### Start the magnitude only crossmatch"
   ]
  },
  {
   "cell_type": "markdown",
   "metadata": {},
   "source": [
    "#### optical"
   ]
  },
  {
   "cell_type": "code",
   "execution_count": null,
   "metadata": {},
   "outputs": [],
   "source": [
    "import multiprocessing\n",
    "n_cpus_total = multiprocessing.cpu_count()\n",
    "n_cpus = max(1, n_cpus_total-1)"
   ]
  },
  {
   "cell_type": "code",
   "execution_count": null,
   "metadata": {},
   "outputs": [],
   "source": [
    "radius = 15\n",
    "idx_lofar, idx_opt, d2d, d3d = search_around_sky(\n",
    "    lofar_coords, opt_ir_coords[opt_num], radius*u.arcsec)\n",
    "\n",
    "# create an array of the indexs of lofar sources with a possible crossmatch within the search radius\n",
    "idx_lofar_unique = np.unique(idx_lofar)\n",
    "print('number of LOFAR sources with a possible crossmatch within {} arcseconds is {}'.format(radius,len(idx_lofar_unique)))"
   ]
  },
  {
   "cell_type": "code",
   "execution_count": null,
   "metadata": {},
   "outputs": [],
   "source": [
    "lofar[\"lr_opt\"] = np.nan                   # Likelihood ratio\n",
    "lofar[\"lr_dist_opt\"] = np.nan              # Distance to the selected source\n",
    "lofar[\"lr_index_opt\"] = np.nan             # Index of the PanSTARRS source in combined\n",
    "lofar[\"lr_reliability_opt\"] = np.nan\n",
    "lofar[\"helpid_opt\"] = ''"
   ]
  },
  {
   "cell_type": "code",
   "execution_count": null,
   "metadata": {},
   "outputs": [],
   "source": [
    "#do the crossmatching for the radio to optical dataset\n",
    "#inputs: i, the index saying which radio source to do the LR analysis for\n",
    "def ml_opt(i):\n",
    "\n",
    "    #get the indexes to the radio and optical catalogues from the cross match done above\n",
    "    idx_0 = idx_opt[idx_lofar == i]\n",
    "    d2d_0 = d2d[idx_lofar == i]\n",
    "    mag = opt_cat[opt_colname][idx_0]\n",
    "    \n",
    "    lofar_ra = lofar[i][\"RA\"]\n",
    "    lofar_dec = lofar[i][\"DEC\"]\n",
    "    lofar_pa = lofar[i][\"PA\"]\n",
    "    lofar_maj_err = lofar[i][\"E_Maj\"]\n",
    "    lofar_min_err = lofar[i][\"E_Min\"]\n",
    "    c_ra = opt_cat[opt_ra][idx_0]\n",
    "    c_dec = opt_cat[opt_dec][idx_0]\n",
    "    c_ra_err = 0.35\n",
    "    c_dec_err = 0.35\n",
    "    \n",
    "    #calculate the positional error of the radio source based on the PA and major and minor axis\n",
    "    #also includes an additional error of 0.6 arcseconds added in quadrature \n",
    "    sigma, sigma_maj, sigma_min = get_sigma_all(lofar_maj_err, lofar_min_err, lofar_pa, \n",
    "                      lofar_ra, lofar_dec, \n",
    "                      c_ra, c_dec, c_ra_err, c_dec_err)\n",
    "    \n",
    "    lr_0 = likelihood_ratio_opt(mag, d2d_0.arcsec, sigma)\n",
    "    #if the radio source has no sources within the search radius then return a row of nans\n",
    "    if len(lr_0) == 0:\n",
    "        result = [np.nan,np.nan,np.nan,np.nan,np.nan]\n",
    "        return result\n",
    "    chosen_index = np.argmax(lr_0)\n",
    "    lr_sum = np.sum(lr_0)\n",
    "    #calculate the realiability using the formula from smith et al 2013\n",
    "    rel = lr_0/(lr_sum + (1-Q0_opt))\n",
    "    helpid = opt_cat['ID'][idx_0][0]\n",
    "    #return the indexs to optical catalogue, the distance to the source, the likelihood ratio\n",
    "    #and the helpid\n",
    "    result = [opt_ir_index[opt_num][idx_0[chosen_index]], # Index\n",
    "              (d2d_0.arcsec)[chosen_index],                        # distance\n",
    "              lr_0[chosen_index],\n",
    "              rel[chosen_index],\n",
    "              helpid]                                  # LR\n",
    "    \n",
    "\n",
    "    return(result)\n",
    "    #return (result,rel[chosen_index],helpid)"
   ]
  },
  {
   "cell_type": "code",
   "execution_count": null,
   "metadata": {},
   "outputs": [],
   "source": [
    "res = mltier.parallel_process(idx_lofar_unique, ml_opt, n_jobs=n_cpus)"
   ]
  },
  {
   "cell_type": "code",
   "execution_count": null,
   "metadata": {},
   "outputs": [],
   "source": [
    "#add the crossmatched sources to the radio table\n",
    "(lofar[\"lr_index_opt\"][idx_lofar_unique], \n",
    " lofar[\"lr_dist_opt\"][idx_lofar_unique], \n",
    " lofar[\"lr_opt\"][idx_lofar_unique],\n",
    " lofar[\"lr_reliability_opt\"][idx_lofar_unique],\n",
    " lofar[\"helpid_opt\"][idx_lofar_unique]) = list(map(list, zip(*res)))"
   ]
  },
  {
   "cell_type": "code",
   "execution_count": null,
   "metadata": {},
   "outputs": [],
   "source": [
    "lofar[\"lr_opt\"][np.isnan(lofar[\"lr_opt\"])] = 0"
   ]
  },
  {
   "cell_type": "code",
   "execution_count": null,
   "metadata": {},
   "outputs": [],
   "source": [
    "#calculate the threshold of trusted crossmatches using Q0 as the fraction of sources that have trusted crossmatches\n",
    "mask = (~np.isnan(lofar['lr_dist_opt'])) & (lofar['lr_opt']>0)\n",
    "threshold_opt = np.percentile(lofar[\"lr_opt\"][mask], 100*(1 - Q0_opt))\n",
    "print('the LR thereshold is: {}'.format(threshold_opt))\n",
    "varstat(lofar['lr_opt'])"
   ]
  },
  {
   "cell_type": "code",
   "execution_count": null,
   "metadata": {},
   "outputs": [],
   "source": [
    "plt.rcParams[\"figure.figsize\"] = (15,6)\n",
    "plt.subplot(1,2,1)\n",
    "plt.hist(lofar[lofar[\"lr_opt\"] != 0][\"lr_opt\"], bins=200)\n",
    "plt.vlines([threshold_opt], 0, 1000)\n",
    "plt.ylim([0,1000])\n",
    "\n",
    "plt.subplot(1,2,2)\n",
    "plt.hist(np.log10(lofar[lofar[\"lr_opt\"] != 0][\"lr_opt\"]+1), bins=200)\n",
    "plt.vlines(np.log10(threshold_opt+1), 0, 1000)\n",
    "ticks, _ = plt.xticks()\n",
    "plt.xticks(ticks, [\"{:.1f}\".format(10**t-1) for t in ticks])\n",
    "plt.ylim([0,1000]);\n",
    "plt.show()"
   ]
  },
  {
   "cell_type": "code",
   "execution_count": null,
   "metadata": {},
   "outputs": [],
   "source": [
    "lofar[\"lr_index_sel_opt\"] = lofar[\"lr_index_opt\"]\n",
    "lofar[\"lr_index_sel_opt\"][lofar[\"lr_opt\"] < threshold_opt] = np.nan\n",
    "print('number of xmatches above the threshold is {}'.format(np.sum(lofar['lr_opt']>threshold_opt)))"
   ]
  },
  {
   "cell_type": "code",
   "execution_count": null,
   "metadata": {},
   "outputs": [],
   "source": [
    "plt.rcParams[\"figure.figsize\"] = (15,5)\n",
    "bins = np.arange(0,search_rad_opt,search_rad_opt/50)\n",
    "plt.subplot(1,3,1)\n",
    "mask = ~np.isnan(lofar['lr_dist_opt'])\n",
    "plt.hist(lofar['lr_dist_opt'][mask],bins=bins,color='red')\n",
    "mask = (lofar['lr_opt'] > threshold_opt) & (~np.isnan(lofar['lr_dist_opt']))\n",
    "plt.hist(lofar['lr_dist_opt'][mask],bins=bins,color='green')\n",
    "plt.xlabel('Seperation (arcseconds)')\n",
    "green_patch = mpatches.Patch(color='green',label='Trusted Crossmatches')\n",
    "red_patch = mpatches.Patch(color='red',label='All Crossmatches')\n",
    "plt.legend(handles=[red_patch,green_patch])\n",
    "\n",
    "plt.subplot(1,3,2)\n",
    "reliability_r = []\n",
    "mask1 = (~np.isnan(lofar['lr_dist_opt']))\n",
    "for n in range(len(bins)-1):\n",
    "    mask = (lofar['lr_dist_opt'] > bins[n]) & (lofar['lr_dist_opt'] < bins[n+1])\n",
    "    mask = mask\n",
    "    rel_temp = lofar['lr_reliability_opt'][mask]\n",
    "    reliability_r.append(np.mean(rel_temp))\n",
    "rad_cent = get_center(bins)\n",
    "plt.plot(rad_cent,reliability_r,color='green')\n",
    "plt.xlabel('Seperation (arcseconds)')\n",
    "plt.ylabel('Reliability')\n",
    "\n",
    "plt.subplot(1,3,3)\n",
    "lrt_r = []\n",
    "mask1 = (~np.isnan(lofar['lr_dist_opt']))\n",
    "for n in range(len(bins)-1):\n",
    "    mask = (lofar['lr_dist_opt'] > bins[n]) & (lofar['lr_dist_opt'] < bins[n+1])\n",
    "    #mask = mask[mask1]\n",
    "    rel_temp = lofar['lr_opt'][mask]\n",
    "    lrt_r.append(np.mean(rel_temp))\n",
    "rad_cent = get_center(bins)\n",
    "plt.plot(rad_cent,lrt_r,color='green')\n",
    "plt.xlabel('Seperation (arcseconds)')\n",
    "plt.ylabel('likelihood ratio')\n",
    "plt.ylim(0,np.max(lrt_r)*1.1)\n",
    "\n",
    "plt.show()"
   ]
  },
  {
   "cell_type": "markdown",
   "metadata": {},
   "source": [
    "#### IR band"
   ]
  },
  {
   "cell_type": "code",
   "execution_count": null,
   "metadata": {},
   "outputs": [],
   "source": [
    "idx_lofar, idx_ir, d2d, d3d = search_around_sky(\n",
    "    lofar_coords, opt_ir_coords[ir_num], radius*u.arcsec)\n",
    "\n",
    "idx_lofar_unique = np.unique(idx_lofar)\n",
    "print('number of LOFAR sources with a possible crossmatch within {} arcseconds is {}'.format(radius,len(idx_lofar_unique)))"
   ]
  },
  {
   "cell_type": "code",
   "execution_count": null,
   "metadata": {},
   "outputs": [],
   "source": [
    "len(opt_ir_coords[ir_num])"
   ]
  },
  {
   "cell_type": "code",
   "execution_count": null,
   "metadata": {},
   "outputs": [],
   "source": [
    "max(idx_ir)"
   ]
  },
  {
   "cell_type": "code",
   "execution_count": null,
   "metadata": {},
   "outputs": [],
   "source": [
    "radius = 15\n",
    "idx_lofar, idx_ir, d2d, d3d = search_around_sky(\n",
    "    lofar_coords, opt_ir_coords[ir_num], radius*u.arcsec)\n",
    "\n",
    "# create an array of the indexs of lofar sources with a possible crossmatch within the search radius\n",
    "idx_lofar_unique = np.unique(idx_lofar)\n",
    "print('number of LOFAR sources with a possible crossmatch within {} arcseconds is {}'.format(radius,len(idx_lofar_unique)))"
   ]
  },
  {
   "cell_type": "code",
   "execution_count": null,
   "metadata": {},
   "outputs": [],
   "source": [
    "lofar[\"lr_ir\"] = np.nan                   # Likelihood ratio\n",
    "lofar[\"lr_dist_ir\"] = np.nan              # Distance to the selected source\n",
    "lofar[\"lr_index_ir\"] = np.nan             # Index of the PanSTARRS source in combined\n",
    "lofar[\"lr_reliability_ir\"] = np.nan\n",
    "lofar[\"helpid_ir\"] = ''"
   ]
  },
  {
   "cell_type": "code",
   "execution_count": null,
   "metadata": {},
   "outputs": [],
   "source": [
    "def ml_ir(i):\n",
    "\n",
    "    idx_0 = idx_ir[idx_lofar == i]\n",
    "    d2d_0 = d2d[idx_lofar == i]\n",
    "    mag = ir_cat[ir_colname][idx_0]\n",
    "    \n",
    "    lofar_ra = lofar[i][\"RA\"]\n",
    "    lofar_dec = lofar[i][\"DEC\"]\n",
    "    lofar_pa = lofar[i][\"PA\"]\n",
    "    lofar_maj_err = lofar[i][\"E_Maj\"]\n",
    "    lofar_min_err = lofar[i][\"E_Min\"]\n",
    "    c_ra = ir_cat[opt_ra][idx_0]\n",
    "    c_dec = ir_cat[opt_dec][idx_0]\n",
    "    c_ra_err = 0.35\n",
    "    c_dec_err = 0.35\n",
    "    \n",
    "    sigma, sigma_maj, sigma_min = get_sigma_all(lofar_maj_err, lofar_min_err, lofar_pa, \n",
    "                      lofar_ra, lofar_dec, \n",
    "                      c_ra, c_dec, c_ra_err, c_dec_err)\n",
    "    \n",
    "    lr_0 = likelihood_ratio_ir(mag, d2d_0.arcsec, sigma)\n",
    "    if len(lr_0) == 0:\n",
    "        result = [np.nan,np.nan,np.nan,np.nan,np.nan]\n",
    "        return result\n",
    "    chosen_index = np.argmax(lr_0)\n",
    "    lr_sum = np.sum(lr_0)\n",
    "    rel = lr_0/(lr_sum + (1-Q0_opt))\n",
    "    helpid = ir_cat['ID'][idx_0][0]\n",
    "    result = [opt_ir_index[ir_num][idx_0[chosen_index]], # Index\n",
    "              (d2d_0.arcsec)[chosen_index],                        # distance\n",
    "              lr_0[chosen_index],\n",
    "              rel[chosen_index],\n",
    "              helpid]                                  # LR\n",
    "    \n",
    "\n",
    "    return(result)\n",
    "    #return (result,rel[chosen_index],helpid)"
   ]
  },
  {
   "cell_type": "code",
   "execution_count": null,
   "metadata": {},
   "outputs": [],
   "source": [
    "res = parallel_process(idx_lofar_unique, ml_ir, n_jobs=n_cpus)"
   ]
  },
  {
   "cell_type": "code",
   "execution_count": null,
   "metadata": {},
   "outputs": [],
   "source": [
    "(lofar[\"lr_index_ir\"][idx_lofar_unique], \n",
    " lofar[\"lr_dist_ir\"][idx_lofar_unique], \n",
    " lofar[\"lr_ir\"][idx_lofar_unique],\n",
    " lofar[\"lr_reliability_ir\"][idx_lofar_unique],\n",
    " lofar[\"helpid_ir\"][idx_lofar_unique]) = list(map(list, zip(*res)))"
   ]
  },
  {
   "cell_type": "code",
   "execution_count": null,
   "metadata": {},
   "outputs": [],
   "source": [
    "lofar[\"lr_ir\"][np.isnan(lofar[\"lr_ir\"])] = 0"
   ]
  },
  {
   "cell_type": "code",
   "execution_count": null,
   "metadata": {},
   "outputs": [],
   "source": [
    "mask = (~np.isnan(lofar['lr_dist_ir'])) & (lofar['lr_ir']>0)\n",
    "threshold_ir = np.percentile(lofar[\"lr_ir\"][mask], 100*(1 - Q0_ir))\n",
    "threshold_ir"
   ]
  },
  {
   "cell_type": "code",
   "execution_count": null,
   "metadata": {},
   "outputs": [],
   "source": [
    "np.sum(lofar['lr_ir']<threshold_ir)"
   ]
  },
  {
   "cell_type": "code",
   "execution_count": null,
   "metadata": {},
   "outputs": [],
   "source": [
    "plt.rcParams[\"figure.figsize\"] = (15,6)\n",
    "plt.subplot(1,2,1)\n",
    "plt.hist(lofar[lofar[\"lr_ir\"] != 0][\"lr_ir\"], bins=200)\n",
    "plt.vlines([threshold_ir], 0, 1000)\n",
    "plt.ylim([0,1000])\n",
    "\n",
    "plt.subplot(1,2,2)\n",
    "plt.hist(np.log10(lofar[lofar[\"lr_ir\"] != 0][\"lr_ir\"]+1), bins=200)\n",
    "plt.vlines(np.log10(threshold_ir+1), 0, 1000)\n",
    "ticks, _ = plt.xticks()\n",
    "plt.xticks(ticks, [\"{:.1f}\".format(10**t-1) for t in ticks])\n",
    "plt.ylim([0,1000]);\n",
    "plt.show()"
   ]
  },
  {
   "cell_type": "code",
   "execution_count": null,
   "metadata": {},
   "outputs": [],
   "source": [
    "lofar[\"lr_index_sel_ir\"] = lofar[\"lr_index_ir\"]\n",
    "lofar[\"lr_index_sel_ir\"][lofar[\"lr_ir\"] < threshold_ir] = np.nan\n",
    "print('number of xmatches above the threshold is {}'.format(np.sum(lofar['lr_opt']>threshold_ir)))"
   ]
  },
  {
   "cell_type": "code",
   "execution_count": null,
   "metadata": {},
   "outputs": [],
   "source": [
    "plt.rcParams[\"figure.figsize\"] = (15,5)\n",
    "bins = np.arange(0,search_rad_opt,search_rad_opt/50)\n",
    "plt.subplot(1,3,1)\n",
    "mask = ~np.isnan(lofar['lr_dist_ir'])\n",
    "plt.hist(lofar['lr_dist_ir'][mask],bins=bins,color='red')\n",
    "mask = (lofar['lr_ir'] > threshold_ir) & (~np.isnan(lofar['lr_dist_ir']))\n",
    "plt.hist(lofar['lr_dist_ir'][mask],bins=bins,color='green')\n",
    "plt.xlabel('Seperation (arcseconds)')\n",
    "green_patch = mpatches.Patch(color='green',label='Trusted Crossmatches')\n",
    "red_patch = mpatches.Patch(color='red',label='All Crossmatches')\n",
    "plt.legend(handles=[red_patch,green_patch])\n",
    "\n",
    "plt.subplot(1,3,2)\n",
    "reliability_r = []\n",
    "mask1 = (~np.isnan(lofar['lr_dist_ir']))\n",
    "for n in range(len(bins)-1):\n",
    "    mask = (lofar['lr_dist_ir'] > bins[n]) & (lofar['lr_dist_ir'] < bins[n+1])\n",
    "    mask = mask\n",
    "    rel_temp = lofar['lr_reliability_ir'][mask]\n",
    "    reliability_r.append(np.mean(rel_temp))\n",
    "rad_cent = get_center(bins)\n",
    "plt.plot(rad_cent,reliability_r,color='green')\n",
    "plt.xlabel('Seperation (arcseconds)')\n",
    "plt.ylabel('Reliability')\n",
    "\n",
    "plt.subplot(1,3,3)\n",
    "lrt_r = []\n",
    "mask1 = (~np.isnan(lofar['lr_dist_ir']))\n",
    "for n in range(len(bins)-1):\n",
    "    mask = (lofar['lr_dist_ir'] > bins[n]) & (lofar['lr_dist_ir'] < bins[n+1])\n",
    "    #mask = mask[mask1]\n",
    "    rel_temp = lofar['lr_ir'][mask]\n",
    "    lrt_r.append(np.mean(rel_temp))\n",
    "rad_cent = get_center(bins)\n",
    "plt.plot(rad_cent,lrt_r,color='green')\n",
    "plt.xlabel('Seperation (arcseconds)')\n",
    "plt.ylabel('likelihood ratio')\n",
    "plt.ylim(0,np.max(lrt_r)*1.1)\n",
    "\n",
    "plt.show()"
   ]
  },
  {
   "cell_type": "markdown",
   "metadata": {},
   "source": [
    "### Final selection of the match\n",
    "\n",
    "We combine the ML matching done in i-band and W1-band. All the galaxies were the LR is above the selection ratio for the respective band are finally selected."
   ]
  },
  {
   "cell_type": "code",
   "execution_count": null,
   "metadata": {},
   "outputs": [],
   "source": [
    "# lr_opt_and_ir = (lofar[\"lr_opt\"] != 0) & (lofar[\"lr_ir\"] != 0)\n",
    "# lr_only_opt = (lofar[\"lr_opt\"] != 0) & (lofar[\"lr_ir\"] == 0)\n",
    "# lr_only_ir = (lofar[\"lr_opt\"] == 0) & (lofar[\"lr_ir\"] != 0)\n",
    "# lr_no_match = (lofar[\"lr_opt\"] == 0) & (lofar[\"lr_ir\"] == 0)\n",
    "lr_opt_and_ir = ~np.isnan(lofar[\"lr_index_sel_opt\"]) & ~np.isnan(lofar[\"lr_index_sel_ir\"])\n",
    "lr_only_opt = ~np.isnan(lofar[\"lr_index_sel_opt\"]) & np.isnan(lofar[\"lr_index_sel_ir\"])\n",
    "lr_only_ir = np.isnan(lofar[\"lr_index_sel_opt\"]) & ~np.isnan(lofar[\"lr_index_sel_ir\"])\n",
    "lr_no_match = np.isnan(lofar[\"lr_index_sel_opt\"]) & np.isnan(lofar[\"lr_index_sel_ir\"])"
   ]
  },
  {
   "cell_type": "code",
   "execution_count": null,
   "metadata": {},
   "outputs": [],
   "source": [
    "print(np.sum(lr_opt_and_ir))\n",
    "print(np.sum(lr_only_opt))\n",
    "print(np.sum(lr_only_ir))\n",
    "print(np.sum(lr_no_match))"
   ]
  },
  {
   "cell_type": "code",
   "execution_count": null,
   "metadata": {},
   "outputs": [],
   "source": [
    "lofar[\"lr_index_1\"] = np.nan\n",
    "lofar[\"lr_dist_1\"] = np.nan\n",
    "lofar[\"lr_1\"] = np.nan\n",
    "lofar[\"lr_type_1\"] = 0"
   ]
  },
  {
   "cell_type": "code",
   "execution_count": null,
   "metadata": {},
   "outputs": [],
   "source": [
    "# Only i matches\n",
    "lofar[\"lr_1\"][lr_only_opt] = lofar[\"lr_opt\"][lr_only_opt]\n",
    "lofar[\"lr_index_1\"][lr_only_opt] = lofar[\"lr_index_opt\"][lr_only_opt]\n",
    "lofar[\"lr_dist_1\"][lr_only_opt] = lofar[\"lr_dist_opt\"][lr_only_opt]\n",
    "lofar[\"lr_type_1\"][lr_only_opt] = 1\n",
    "\n",
    "# Only w1 matches\n",
    "lofar[\"lr_1\"][lr_only_ir] = lofar[\"lr_ir\"][lr_only_ir]\n",
    "lofar[\"lr_index_1\"][lr_only_ir] = lofar[\"lr_index_ir\"][lr_only_ir]\n",
    "lofar[\"lr_dist_1\"][lr_only_ir] = lofar[\"lr_dist_ir\"][lr_only_ir]\n",
    "lofar[\"lr_type_1\"][lr_only_ir] = 2\n",
    "\n",
    "# Both matches\n",
    "lofar[\"lr_1\"][lr_opt_and_ir] = np.max([lofar[\"lr_opt\"][lr_opt_and_ir], lofar[\"lr_ir\"][lr_opt_and_ir]], axis=0)\n",
    "lofar[\"lr_type_1\"][lr_opt_and_ir] = np.argmax([lofar[\"lr_opt\"][lr_opt_and_ir], lofar[\"lr_ir\"][lr_opt_and_ir]], axis=0) + 1\n",
    "\n",
    "c1 = (lofar[\"lr_type_1\"] == 1)\n",
    "c2 = (lofar[\"lr_type_1\"] == 2)\n",
    "lofar[\"lr_index_1\"][lr_opt_and_ir & c1] = lofar[\"lr_index_opt\"][lr_opt_and_ir & c1]\n",
    "lofar[\"lr_index_1\"][lr_opt_and_ir & c2] = lofar[\"lr_index_ir\"][lr_opt_and_ir & c2]\n",
    "lofar[\"lr_dist_1\"][lr_opt_and_ir & c1] = lofar[\"lr_dist_opt\"][lr_opt_and_ir & c1]\n",
    "lofar[\"lr_dist_1\"][lr_opt_and_ir & c2] = lofar[\"lr_dist_ir\"][lr_opt_and_ir & c2]"
   ]
  },
  {
   "cell_type": "code",
   "execution_count": null,
   "metadata": {},
   "outputs": [],
   "source": [
    "print(\"match    sel-opt: \", np.sum(lofar[\"lr_type_1\"][lr_opt_and_ir] == 1))\n",
    "print(\"match   sel-ir: \", np.sum(lofar[\"lr_type_1\"][lr_opt_and_ir] == 2))\n",
    "print(\"match     both: \", np.sum(lofar[\"lr_type_1\"][lr_opt_and_ir] == 1) + \n",
    "                          np.sum(lofar[\"lr_type_1\"][lr_opt_and_ir] == 2))\n",
    "print(\"match   opt-only: \", np.sum(lofar[\"lr_type_1\"] == 1) - np.sum(lofar[\"lr_type_1\"][lr_opt_and_ir] == 1))\n",
    "print(\"match  ir-only: \", np.sum(lofar[\"lr_type_1\"] == 2) - np.sum(lofar[\"lr_type_1\"][lr_opt_and_ir] == 2))\n",
    "print(\"match      all: \", np.sum(lofar[\"lr_type_1\"] == 1) + \n",
    "                          np.sum(lofar[\"lr_type_1\"] == 2))\n",
    "print(\"         Total: \", len(lofar))\n",
    "print('percentage of sources with a crossmatch is: {}'.format((np.sum(lofar[\"lr_type_1\"] == 1) +np.sum(lofar[\"lr_type_1\"] == 2))/len(lofar)))"
   ]
  },
  {
   "cell_type": "code",
   "execution_count": null,
   "metadata": {},
   "outputs": [],
   "source": [
    "print('number of sources for which the match in opt-band and ir-band are above the threshold but gives a different match to the combined catalogue is {}'.format(np.sum(lofar[\"lr_index_opt\"][lr_opt_and_ir] != lofar[\"lr_index_ir\"][lr_opt_and_ir])))"
   ]
  },
  {
   "cell_type": "markdown",
   "metadata": {},
   "source": [
    "### Define the colour bins to be used later\n",
    "\n",
    "Create color bins in the opt-ir plane."
   ]
  },
  {
   "cell_type": "code",
   "execution_count": null,
   "metadata": {},
   "outputs": [],
   "source": [
    "bins=np.arange(-12,10,0.25)\n",
    "y = opt_ir['colour']\n",
    "plt.hist(y,bins=bins,log=True)\n",
    "plt.show()"
   ]
  },
  {
   "cell_type": "code",
   "execution_count": null,
   "metadata": {},
   "outputs": [],
   "source": [
    "colour_limits = [0.0, 0.5, 1.0, 1.25, 1.5, 1.75, 2.0, 2.25, 2.5, 2.75, 3.0, 3.5, 4.0]\n",
    "colour_limits = np.arange(-5,5,0.25)"
   ]
  },
  {
   "cell_type": "code",
   "execution_count": null,
   "metadata": {},
   "outputs": [],
   "source": [
    "# start with the only opt or ir detected and the colour < lowest colour bin \n",
    "colour_bin_def = [{\"name\":\"only W1\", \"condition\": opt_ir_num_ir},\n",
    "                  {\"name\":\"only i\", \"condition\": opt_ir_num_opt},\n",
    "                  {\"name\":\"-inf to {}\".format(colour_limits[0]), \n",
    "                   \"condition\": (opt_ir[\"colour\"] < colour_limits[0])}]\n",
    "\n",
    "# Get the colour bins\n",
    "for i in range(len(colour_limits)-1):\n",
    "    name = \"{} to {}\".format(colour_limits[i], colour_limits[i+1])\n",
    "    condition = ((opt_ir[\"colour\"] >= colour_limits[i]) & \n",
    "                 (opt_ir[\"colour\"] < colour_limits[i+1]))\n",
    "    colour_bin_def.append({\"name\":name, \"condition\":condition})\n",
    "\n",
    "# Add the \"more than higher colour\" bin\n",
    "colour_bin_def.append({\"name\":\"{} to inf\".format(colour_limits[-1]), \n",
    "                       \"condition\": (opt_ir[\"colour\"] >= colour_limits[-1])})"
   ]
  },
  {
   "cell_type": "code",
   "execution_count": null,
   "metadata": {},
   "outputs": [],
   "source": [
    "# assign every source a number based on which colour bin it is in\n",
    "opt_ir[\"category\"] = np.nan\n",
    "for i in range(len(colour_bin_def)):\n",
    "    opt_ir[\"category\"][colour_bin_def[i][\"condition\"]] = i"
   ]
  },
  {
   "cell_type": "code",
   "execution_count": null,
   "metadata": {},
   "outputs": [],
   "source": [
    "numbers_combined_bins = np.array([np.sum(a[\"condition\"]) for a in colour_bin_def])\n",
    "numbers_combined_bins"
   ]
  },
  {
   "cell_type": "markdown",
   "metadata": {},
   "source": [
    "## Skipped bit on duplicated sources"
   ]
  },
  {
   "cell_type": "code",
   "execution_count": null,
   "metadata": {},
   "outputs": [],
   "source": [
    "bin_list = [bin_list_ir if i == 0 else bin_list_opt for i in range(len(colour_bin_def))]\n",
    "centers = [center_ir if i == 0 else center_opt for i in range(len(colour_bin_def))]\n",
    "\n",
    "numbers_combined_bins = np.array([np.sum(a[\"condition\"]) for a in colour_bin_def])\n",
    "bandwidth_colour = [0.5, 0.5, 0.5, 0.5, 0.5, 0.5, 0.5,0.5, 0.5, 0.5, 0.5, 0.5, 0.5, 0.5, 0.5, 0.5]\n",
    "numbers_combined_bins"
   ]
  },
  {
   "cell_type": "code",
   "execution_count": null,
   "metadata": {},
   "outputs": [],
   "source": [
    "#Calculate n(m) and q(m) within each colour bin to give n(m,c) and q(m,c)\n",
    "n_m_kde = []\n",
    "\n",
    "# W1 only sources\n",
    "n_m_kde.append(get_n_m_kde(opt_ir[ir_colname][opt_ir[\"category\"] == 0], \n",
    "                       centers[0], field.area, bandwidth=bandwidth_colour[0]))\n",
    "\n",
    "# Rest of the sources\n",
    "for i in range(1, len(colour_bin_def)):\n",
    "    n_m_kde.append(get_n_m_kde(opt_ir[opt_colname][opt_ir[\"category\"] == i], \n",
    "                           centers[i], field.area, bandwidth=bandwidth_colour[i]))"
   ]
  },
  {
   "cell_type": "code",
   "execution_count": null,
   "metadata": {},
   "outputs": [],
   "source": [
    "n_m = []\n",
    "\n",
    "# W1 only sources\n",
    "n_m.append(get_n_m(opt_ir[ir_colname][opt_ir[\"category\"] == 0], bin_list_ir, field.area))\n",
    "\n",
    "# Rest of the sources\n",
    "for i in range(1, len(colour_bin_def)):\n",
    "    n_m.append(get_n_m(opt_ir[opt_colname][opt_ir[\"category\"] == i], bin_list_opt, field.area))"
   ]
  },
  {
   "cell_type": "code",
   "execution_count": null,
   "metadata": {},
   "outputs": [],
   "source": [
    "plt.rcParams[\"figure.figsize\"] = (15,15)\n",
    "for i, n_m_k in enumerate(n_m_kde):\n",
    "    plt.subplot(5,5,i+1)\n",
    "    plt.plot(centers[i], n_m[i])\n",
    "    plt.plot(centers[i], np.cumsum(n_m_k))\n",
    "plt.show()"
   ]
  },
  {
   "cell_type": "code",
   "execution_count": null,
   "metadata": {},
   "outputs": [],
   "source": [
    "lofar[\"category\"] = np.nan\n",
    "lofar[ir_colname] = np.nan\n",
    "lofar[opt_colname] = np.nan"
   ]
  },
  {
   "cell_type": "code",
   "execution_count": null,
   "metadata": {},
   "outputs": [],
   "source": [
    "c = ~np.isnan(lofar[\"lr_index_1\"])\n",
    "indices = lofar[\"lr_index_1\"][c].astype(int)\n",
    "lofar[\"category\"][c] = opt_ir[indices][\"category\"]\n",
    "lofar[ir_colname][c] = opt_ir[indices][ir_colname]\n",
    "lofar[opt_colname][c] = opt_ir[indices][opt_colname]"
   ]
  },
  {
   "cell_type": "markdown",
   "metadata": {},
   "source": [
    "The next parameter represent the number of matched LOFAR sources in each colour category."
   ]
  },
  {
   "cell_type": "code",
   "execution_count": null,
   "metadata": {},
   "outputs": [],
   "source": [
    "numbers_lofar_combined_bins = np.array([np.sum(lofar[\"category\"] == c) \n",
    "                                        for c in range(len(numbers_combined_bins))])\n",
    "numbers_lofar_combined_bins"
   ]
  },
  {
   "cell_type": "code",
   "execution_count": null,
   "metadata": {},
   "outputs": [],
   "source": [
    "#Q0(c) is defined as the fraction of trsuted crossmatches in each category to give a value of Q0 in each category\n",
    "#and Q0(c) is the sum of these individual Q0's divided by the total number of radio sources\n",
    "Q_0_colour = numbers_lofar_combined_bins/len(lofar)\n",
    "q0_total = np.sum(Q_0_colour)\n",
    "q0_total"
   ]
  },
  {
   "cell_type": "code",
   "execution_count": null,
   "metadata": {},
   "outputs": [],
   "source": [
    "#calculate q(m) in each colour bin to calculate q(m,c)\n",
    "q_m = []\n",
    "radius = 15. \n",
    "\n",
    "# W1 only sources\n",
    "q_m.append(get_q_m(lofar[ir_colname][lofar[\"category\"] == 0], \n",
    "                   bin_list_ir, \n",
    "                   numbers_lofar_combined_bins[0], \n",
    "                   n_m[0], \n",
    "                   field.area, \n",
    "                   radius=radius))\n",
    "\n",
    "# Rest of the sources\n",
    "for i in range(1, len(numbers_lofar_combined_bins)):\n",
    "    q_m.append(get_q_m(lofar[opt_colname][lofar[\"category\"] == i], \n",
    "                   bin_list_opt, \n",
    "                   numbers_lofar_combined_bins[i], \n",
    "                   n_m[i], \n",
    "                   field.area, \n",
    "                   radius=radius))"
   ]
  },
  {
   "cell_type": "code",
   "execution_count": null,
   "metadata": {},
   "outputs": [],
   "source": [
    "q_m_kde = []\n",
    "radius = 15. \n",
    "\n",
    "# W1 only sources\n",
    "q_m_kde.append(get_q_m_kde(lofar[ir_colname][lofar[\"category\"] == 0], \n",
    "                   centers[0], \n",
    "                   radius=radius,\n",
    "                   bandwidth=0.5))\n",
    "\n",
    "# Rest of the sources\n",
    "for i in range(1, len(numbers_lofar_combined_bins)):\n",
    "    q_m_kde.append(get_q_m_kde(lofar[opt_colname][lofar[\"category\"] == i], \n",
    "                   centers[i], \n",
    "                   radius=radius,\n",
    "                   bandwidth=bandwidth_colour[i]))"
   ]
  },
  {
   "cell_type": "code",
   "execution_count": null,
   "metadata": {},
   "outputs": [],
   "source": [
    "np.ones_like(23)\n",
    "centers[0]"
   ]
  },
  {
   "cell_type": "code",
   "execution_count": null,
   "metadata": {},
   "outputs": [],
   "source": [
    "np.ones_like(centers[0])*0.5"
   ]
  },
  {
   "cell_type": "code",
   "execution_count": null,
   "metadata": {},
   "outputs": [],
   "source": [
    "plt.rcParams[\"figure.figsize\"] = (15,15)\n",
    "for i, q_m_k in enumerate(q_m_kde):\n",
    "    plt.subplot(5,5,i+1)\n",
    "    plt.plot(centers[i], q_m[i])\n",
    "    plt.plot(centers[i], np.cumsum(q_m_k))\n",
    "plt.show()"
   ]
  },
  {
   "cell_type": "code",
   "execution_count": null,
   "metadata": {},
   "outputs": [],
   "source": [
    "#plot q(m,c)/n(m,c) to see that everthing looks okay. The width of the line shows how many sources are in the bin\n",
    "plt.rcParams[\"figure.figsize\"] = (12,10)\n",
    "\n",
    "from matplotlib import cm\n",
    "from matplotlib.collections import LineCollection\n",
    "\n",
    "cm_subsection = np.linspace(0., 1., 16) \n",
    "colors = [ cm.viridis(x) for x in cm_subsection ]\n",
    "\n",
    "low = np.nonzero(centers[1] >= 15)[0][0]\n",
    "high = np.nonzero(centers[1] >= 22.2)[0][0]\n",
    "\n",
    "fig, a = plt.subplots()\n",
    "\n",
    "for i, q_m_k in enumerate(q_m):\n",
    "    #plot(centers[i], q_m_old[i]/n_m_old[i])\n",
    "    a = plt.subplot(4,4,i+1)\n",
    "    if i not in [-1]:\n",
    "        n_m_aux = n_m[i]/np.sum(n_m[i])\n",
    "        lwidths = (n_m_aux/np.max(n_m_aux)*10).astype(float) + 1\n",
    "        #print(lwidths)\n",
    "        \n",
    "        y_aux = q_m_k/n_m[i]\n",
    "        mask = ~np.isnan(y_aux)\n",
    "        y_aux = y_aux[mask]\n",
    "        factor = np.max(y_aux[low:high])\n",
    "        y = y_aux\n",
    "        #print(y)\n",
    "        x = centers[i]\n",
    "        \n",
    "        points = np.array([x, y]).T.reshape(-1, 1, 2)\n",
    "        segments = np.concatenate([points[:-1], points[1:]], axis=1)\n",
    "        \n",
    "        lc = LineCollection(segments, linewidths=lwidths, color=colors[i])\n",
    "        \n",
    "        a.add_collection(lc)\n",
    "        \n",
    "        #plot(centers[i], x/factor, color=colors[i-1])\n",
    "        plt.xlim([12, 30])\n",
    "        if i == 0:\n",
    "            plt.xlim([10, 23])\n",
    "        plt.ylim([0, 1.2*factor])\n",
    "\n",
    "plt.subplots_adjust(left=0.125, \n",
    "                bottom=0.1, \n",
    "                right=0.9, \n",
    "                top=0.9,\n",
    "                wspace=0.4, \n",
    "                hspace=0.2)\n",
    "plt.show()"
   ]
  },
  {
   "cell_type": "code",
   "execution_count": null,
   "metadata": {},
   "outputs": [],
   "source": [
    "selection = ~np.isnan(opt_ir[\"category\"]) # Avoid the two dreaded sources with no actual data\n",
    "catalogue = opt_ir[selection]"
   ]
  },
  {
   "cell_type": "code",
   "execution_count": null,
   "metadata": {},
   "outputs": [],
   "source": [
    "radius = 15"
   ]
  },
  {
   "cell_type": "code",
   "execution_count": null,
   "metadata": {},
   "outputs": [],
   "source": [
    "def apply_ml(i, likelihood_ratio_function):\n",
    "    idx_0 = idx_i[idx_lofar == i]\n",
    "    d2d_0 = d2d[idx_lofar == i]\n",
    "    \n",
    "    category = catalogue[\"category\"][idx_0].astype(int)\n",
    "    mag = catalogue[opt_colname][idx_0]\n",
    "    mag[category == 0] = catalogue[ir_colname][idx_0][category == 0]\n",
    "    \n",
    "    lofar_ra = lofar[i][\"RA\"]\n",
    "    lofar_dec = lofar[i][\"DEC\"]\n",
    "    lofar_pa = lofar[i][\"PA\"]\n",
    "    lofar_maj_err = lofar[i][\"E_Maj\"]\n",
    "    lofar_min_err = lofar[i][\"E_Min\"]\n",
    "    c_ra = catalogue[\"ra\"][idx_0]\n",
    "    c_dec = catalogue[\"dec\"][idx_0]\n",
    "    c_ra_err = 1.0\n",
    "    c_dec_err = 1.0\n",
    "    \n",
    "    sigma, sigma_maj, sigma_min = get_sigma_all(lofar_maj_err, lofar_min_err, lofar_pa, \n",
    "                      lofar_ra, lofar_dec, \n",
    "                      c_ra, c_dec, c_ra_err, c_dec_err)\n",
    "\n",
    "    lr_0 = likelihood_ratio_function(mag, d2d_0.arcsec, sigma, category)\n",
    "    if len(lr_0) == 0:\n",
    "\n",
    "        result = [np.nan,np.nan,np.nan,np.nan,np.nan]\n",
    "        return result\n",
    "    chosen_index = np.argmax(lr_0)\n",
    "    lr_sum = np.sum(lr_0)\n",
    "    rel = lr_0/(lr_sum + (1-q0_total))\n",
    "    helpid = catalogue['help_id'][idx_0][0]\n",
    "    result = [opt_ir_index[selection][idx_0[chosen_index]], # Index\n",
    "              (d2d_0.arcsec)[chosen_index],                        # distance\n",
    "              lr_0[chosen_index],\n",
    "              rel[chosen_index],\n",
    "              helpid]                                  # LR\n",
    "    return result"
   ]
  },
  {
   "cell_type": "markdown",
   "metadata": {},
   "source": [
    "### Run the cross-match\n",
    "\n",
    "This will not need to be repeated after"
   ]
  },
  {
   "cell_type": "code",
   "execution_count": null,
   "metadata": {},
   "outputs": [],
   "source": [
    "idx_lofar, idx_i, d2d, d3d = search_around_sky(\n",
    "    lofar_coords, opt_ir_coords[selection], radius*u.arcsec)\n",
    "idx_lofar_unique = np.unique(idx_lofar)"
   ]
  },
  {
   "cell_type": "code",
   "execution_count": null,
   "metadata": {},
   "outputs": [],
   "source": [
    "likelihood_ratio = MultiMLEstimator(Q_0_colour, n_m_kde, q_m_kde, centers)"
   ]
  },
  {
   "cell_type": "code",
   "execution_count": null,
   "metadata": {},
   "outputs": [],
   "source": [
    "def ml(i):\n",
    "    return apply_ml(i, likelihood_ratio)"
   ]
  },
  {
   "cell_type": "code",
   "execution_count": null,
   "metadata": {},
   "outputs": [],
   "source": [
    "res = parallel_process(idx_lofar_unique, ml, n_jobs=n_cpus)"
   ]
  },
  {
   "cell_type": "code",
   "execution_count": null,
   "metadata": {},
   "outputs": [],
   "source": [
    "lofar[\"lr_index_2\"] = np.nan\n",
    "lofar[\"lr_dist_2\"] = np.nan\n",
    "lofar[\"lr_2\"] = np.nan\n",
    "lofar[\"lr_reliability_2\"] = np.nan\n",
    "lofar[\"helpid_2\"] = ''"
   ]
  },
  {
   "cell_type": "code",
   "execution_count": null,
   "metadata": {},
   "outputs": [],
   "source": [
    "(lofar[\"lr_index_2\"][idx_lofar_unique], \n",
    " lofar[\"lr_dist_2\"][idx_lofar_unique], \n",
    " lofar[\"lr_2\"][idx_lofar_unique],\n",
    " lofar[\"lr_reliability_2\"][idx_lofar_unique],\n",
    " lofar[\"helpid_2\"][idx_lofar_unique]) = list(map(list, zip(*res)))"
   ]
  },
  {
   "cell_type": "code",
   "execution_count": null,
   "metadata": {},
   "outputs": [],
   "source": [
    "lofar[\"lr_2\"][np.isnan(lofar[\"lr_2\"])] = 0\n",
    "\n",
    "mask = (~np.isnan(lofar[\"lr_dist_2\"])) & (lofar['lr_2']>0)\n",
    "threshold = np.percentile(lofar[\"lr_2\"][mask], 100*(1 - q0_total))\n",
    "threshold"
   ]
  },
  {
   "cell_type": "code",
   "execution_count": null,
   "metadata": {},
   "outputs": [],
   "source": [
    "plt.rcParams[\"figure.figsize\"] = (15,6)\n",
    "plt.subplot(1,2,1)\n",
    "plt.hist(lofar[lofar[\"lr_2\"] != 0][\"lr_2\"], bins=200)\n",
    "plt.vlines([threshold], 0, 1000)\n",
    "plt.ylim([0,1000])\n",
    "plt.subplot(1,2,2)\n",
    "plt.hist(np.log10(lofar[lofar[\"lr_2\"] != 0][\"lr_2\"]+1), bins=200)\n",
    "plt.vlines(np.log10(threshold+1), 0, 1000)\n",
    "ticks, _ = plt.xticks()\n",
    "plt.xticks(ticks, [\"{:.1f}\".format(10**t-1) for t in ticks])\n",
    "plt.ylim([0,1000]);\n",
    "plt.show()"
   ]
  },
  {
   "cell_type": "code",
   "execution_count": null,
   "metadata": {},
   "outputs": [],
   "source": [
    "lofar[\"lr_index_sel_2\"] = lofar[\"lr_index_2\"]\n",
    "lofar[\"lr_index_sel_2\"][lofar[\"lr_2\"] < threshold] = np.nan"
   ]
  },
  {
   "cell_type": "code",
   "execution_count": null,
   "metadata": {},
   "outputs": [],
   "source": [
    "n_changes = np.sum((lofar[\"lr_index_sel_2\"] != lofar[\"lr_index_1\"]) & \n",
    "                   ~np.isnan(lofar[\"lr_index_sel_2\"]) &\n",
    "                   ~np.isnan(lofar[\"lr_index_1\"]))\n",
    "n_changes"
   ]
  },
  {
   "cell_type": "code",
   "execution_count": null,
   "metadata": {},
   "outputs": [],
   "source": [
    "lofar[\"category\"] = np.nan\n",
    "lofar[ir_colname] = np.nan\n",
    "lofar[opt_colname] = np.nan\n",
    "\n",
    "c = ~np.isnan(lofar[\"lr_index_sel_2\"])\n",
    "indices = lofar[\"lr_index_sel_2\"][c].astype(int)\n",
    "lofar[\"category\"][c] = opt_ir[indices][\"category\"]\n",
    "lofar[ir_colname][c] = opt_ir[indices][ir_colname]\n",
    "lofar[opt_colname][c] = opt_ir[indices][opt_colname]"
   ]
  },
  {
   "cell_type": "code",
   "execution_count": null,
   "metadata": {},
   "outputs": [],
   "source": [
    "numbers_lofar_combined_bins = np.array([np.sum(lofar[\"category\"] == c) \n",
    "                                        for c in range(len(numbers_combined_bins))])\n",
    "numbers_lofar_combined_bins"
   ]
  },
  {
   "cell_type": "markdown",
   "metadata": {},
   "source": [
    "## Skipped rerun iter section"
   ]
  },
  {
   "cell_type": "code",
   "execution_count": null,
   "metadata": {},
   "outputs": [],
   "source": [
    "def plot_q_n_m(q_m, n_m):\n",
    "    fig, a = plt.subplots()\n",
    "\n",
    "    for i, q_m_k in enumerate(q_m):\n",
    "        #plot(centers[i], q_m_old[i]/n_m_old[i])\n",
    "        a = plt.subplot(4,4,i+1)\n",
    "        if i not in [-1]:\n",
    "            n_m_aux = n_m[i]/np.sum(n_m[i])\n",
    "            lwidths = (n_m_aux/np.max(n_m_aux)*10).astype(float) + 1\n",
    "            #print(lwidths)\n",
    "\n",
    "            y_aux = q_m_k/n_m[i]\n",
    "            \n",
    "            y = y_aux\n",
    "            mask = ~np.isnan(y_aux)\n",
    "            y_aux = y_aux[mask]\n",
    "            factor = np.max(y_aux[low:high])\n",
    "            #print(y)\n",
    "            x = centers[i]\n",
    "\n",
    "            points = np.array([x, y]).T.reshape(-1, 1, 2)\n",
    "            segments = np.concatenate([points[:-1], points[1:]], axis=1)\n",
    "\n",
    "            lc = LineCollection(segments, linewidths=lwidths, color=colors[i])\n",
    "\n",
    "            a.add_collection(lc)\n",
    "\n",
    "            #plot(centers[i], x/factor, color=colors[i-1])\n",
    "            plt.xlim([12, 30])\n",
    "            if i == 0:\n",
    "                plt.xlim([10,23])\n",
    "            plt.ylim([0, 1.2*factor])\n",
    "\n",
    "    plt.subplots_adjust(left=0.125, \n",
    "                    bottom=0.1, \n",
    "                    right=0.9, \n",
    "                    top=0.9,\n",
    "                    wspace=0.4, \n",
    "                    hspace=0.2)\n",
    "    return fig"
   ]
  },
  {
   "cell_type": "code",
   "execution_count": null,
   "metadata": {},
   "outputs": [],
   "source": []
  },
  {
   "cell_type": "code",
   "execution_count": null,
   "metadata": {},
   "outputs": [],
   "source": []
  },
  {
   "cell_type": "code",
   "execution_count": null,
   "metadata": {},
   "outputs": [],
   "source": [
    "#create a copy of the radio catalogue for debugging\n",
    "#original = lofar.copy()"
   ]
  },
  {
   "cell_type": "code",
   "execution_count": null,
   "metadata": {},
   "outputs": [],
   "source": [
    "#lofar = original.copy()"
   ]
  },
  {
   "cell_type": "code",
   "execution_count": null,
   "metadata": {},
   "outputs": [],
   "source": [
    "#Calculate the LR for radio sources using color\n",
    "#returns the reliability and other parameters for each potential crossmatch to allow comparison\n",
    "#the column lr_max is set to true for the crossmatch with the highest LR for each radio source\n",
    "\n",
    "#the column lr_sel is set to true for the crossmatch with the highest LR for each radio source \n",
    "#but will later be set to false if the LR is below the threshold\n",
    "\n",
    "def apply_ml_all(i, likelihood_ratio_function):\n",
    "    \n",
    "    #print(i)\n",
    "    \n",
    "    idx_0 = idx_i[idx_lofar == i]\n",
    "    d2d_0 = d2d[idx_lofar == i]\n",
    "    if len(idx_0) == 0:\n",
    "        #print('no sources within search radius')\n",
    "        temp = Table()\n",
    "        col_index = Column(np.nan,name='lr_index_{}'.format(iteration))\n",
    "        col_d2d = Column(np.nan,name='lr_dist_{}'.format(iteration))\n",
    "        col_lr = Column(np.nan,name='lr_{}'.format(iteration))\n",
    "        col_rel = Column(np.nan,name='lr_reliability_{}'.format(iteration))\n",
    "        col_sourceid = Column(np.nan,name='Source_id')\n",
    "        col_helpid = Column('',name='help_id')\n",
    "        col_lr_max = Column(False,name='lr_max_{}'.format(iteration))\n",
    "        col_lr_sel = Column(False,name='lr_sel_{}'.format(iteration))\n",
    "        temp.add_columns([col_index,col_d2d,col_lr,col_rel,col_sourceid,col_helpid,col_lr_max,col_lr_sel])\n",
    "        return temp,0\n",
    "    \n",
    "    category = catalogue[\"category\"][idx_0].astype(int)\n",
    "    mag = catalogue[opt_colname][idx_0]\n",
    "    mag[category == 0] = catalogue[ir_colname][idx_0][category == 0]\n",
    "    #print(mag)\n",
    "    \n",
    "    lofar_ra = lofar[i][\"RA\"]\n",
    "    lofar_dec = lofar[i][\"DEC\"]\n",
    "    lofar_pa = lofar[i][\"PA\"]\n",
    "    lofar_maj_err = lofar[i][\"E_Maj\"]\n",
    "    lofar_min_err = lofar[i][\"E_Min\"]\n",
    "    c_ra = catalogue[\"ra\"][idx_0]\n",
    "    c_dec = catalogue[\"dec\"][idx_0]\n",
    "    c_ra_err = 1.0\n",
    "    c_dec_err = 1.0\n",
    "    \n",
    "    sigma, sigma_maj, sigma_min = get_sigma_all(lofar_maj_err, lofar_min_err, lofar_pa, \n",
    "                      lofar_ra, lofar_dec, \n",
    "                      c_ra, c_dec, c_ra_err, c_dec_err)\n",
    "\n",
    "    lr_0 = likelihood_ratio_function(mag, d2d_0.arcsec, sigma, category)\n",
    "    #print(lr_0)\n",
    "\n",
    "    chosen_index = np.argmax(lr_0)\n",
    "    lr_sum = np.sum(lr_0)\n",
    "    rel = lr_0/(lr_sum + (1-q0_total))\n",
    "    helpid = catalogue['help_id'][idx_0]\n",
    "    sourceid = (np.zeros(len(lr_0)) + np.unique(lofar['Source_id'])[i]).astype('int')\n",
    "    col_index = Column(opt_ir_index[selection][idx_0],name='lr_index_{}'.format(iteration))\n",
    "    col_d2d = Column(d2d_0.arcsec,name='lr_dist_{}'.format(iteration))\n",
    "    col_lr = Column(lr_0,name='lr_{}'.format(iteration))\n",
    "    col_rel = Column(rel,name='lr_reliability_{}'.format(iteration))\n",
    "    col_sourceid = Column(sourceid,name='Source_id')\n",
    "    col_helpid = Column(helpid,name='help_id')\n",
    "    col_lr_max = Column(np.zeros(len(lr_0),dtype=bool),name='lr_max_{}'.format(iteration))\n",
    "    col_lr_max[chosen_index] = True\n",
    "    col_lr_sel = Column(np.zeros(len(lr_0),dtype=bool),name='lr_sel_{}'.format(iteration))\n",
    "    col_lr_sel[chosen_index] = True\n",
    "\n",
    "    #print(col_sourceid)\n",
    "    #print(col_index,col_d2d,col_lr,col_rel,col_sourceid,col_helpid)\n",
    "    \n",
    "    temp = Table([col_index,col_d2d,col_lr,col_rel,col_sourceid,col_helpid,col_lr_max,col_lr_sel])\n",
    "\n",
    "    lrs = np.max(col_lr)\n",
    "\n",
    "    return (temp,lrs)\n",
    "\n",
    "    #return (result)"
   ]
  },
  {
   "cell_type": "code",
   "execution_count": null,
   "metadata": {},
   "outputs": [],
   "source": [
    "for j in range(10):\n",
    "    iteration = j+3 \n",
    "    print(\"Iteration {}\".format(iteration))\n",
    "    print(\"=============\")\n",
    "    ## Get new parameters\n",
    "    # Number of matched sources per bin\n",
    "    \n",
    "    #select trusted crossmatches to recalculate Q0(c)\n",
    "    if j==0:\n",
    "        #for the first iteration need to use sources with LR>threshold as lr_sel hasn't been created for this iteration\n",
    "        mask_sel = lofar['lr_2']>threshold\n",
    "    else:\n",
    "        mask_sel = lofar['lr_sel_{}'.format(iteration-1)]\n",
    "    numbers_lofar_combined_bins = np.array([np.sum(lofar[mask_sel][\"category\"] == c) \n",
    "                                            for c in range(len(numbers_combined_bins))])\n",
    "    print(\"numbers_lofar_combined_bins\")\n",
    "    print(numbers_lofar_combined_bins)\n",
    "    #recompute Q0(c)\n",
    "    Q_0_colour_est = numbers_lofar_combined_bins/len(np.unique(lofar['Source_id'])) ### Q_0\n",
    "    Q_0_colour = q0_min_level(Q_0_colour_est, min_level=0.001)\n",
    "    print(\"Q_0_colour\")\n",
    "    print(Q_0_colour)\n",
    "    q0_total = np.sum(Q_0_colour)\n",
    "    print(\"Q_0_total: \", q0_total)\n",
    "    #Recompute q(m,c) for the new Q0(c)\n",
    "    q_m = []\n",
    "    # W1 only sources\n",
    "    q_m.append(get_q_m(lofar[mask_sel][ir_colname][lofar[mask_sel][\"category\"] == 0], \n",
    "                   bin_list_ir, numbers_lofar_combined_bins[0], \n",
    "                   n_m[0], field.area, radius=radius))\n",
    "    # Rest of the sources\n",
    "    for i in range(1, len(numbers_lofar_combined_bins)):\n",
    "        q_m.append(get_q_m(lofar[mask_sel][opt_colname][lofar[mask_sel][\"category\"] == i], \n",
    "                       bin_list_opt, numbers_lofar_combined_bins[i],\n",
    "                       n_m[i], field.area, radius=radius))\n",
    "    # q_m\n",
    "    q_m_kde = []\n",
    "    # W1 only sources\n",
    "    q_m_kde.append(get_q_m_kde(lofar[mask_sel][ir_colname][lofar[mask_sel][\"category\"] == 0], \n",
    "                   centers[0], radius=radius, bandwidth=bandwidth_colour[0]))\n",
    "    # Rest of the sources\n",
    "    for i in range(1, len(numbers_lofar_combined_bins)):\n",
    "        q_m_kde.append(get_q_m_kde(lofar[mask_sel][opt_colname][lofar[mask_sel][\"category\"] == i], \n",
    "                       centers[i], radius=radius, bandwidth=bandwidth_colour[i]))\n",
    "    #set plot_intermediate to True if you want to see plots of n(m,c), q(m,c) and q(m,c)/n(m,c)\n",
    "    plot_intermediate = False\n",
    "    if plot_intermediate:\n",
    "        fig = plt.figure(figsize=(15,15))\n",
    "        for i, q_m_k in enumerate(q_m_kde):\n",
    "            plt.subplot(5,5,i+1)\n",
    "            plt.plot(centers[i], np.cumsum(q_m_k))\n",
    "        #plt.savefig('{}/q0_{}.png'.format(idp, iteration))\n",
    "        del fig\n",
    "        fig = plt.figure(figsize=(15,15))\n",
    "        for i, q_m_k in enumerate(q_m_kde):\n",
    "            plt.subplot(5,5,i+1)\n",
    "            plt.plot(centers[i], q_m_k/n_m[i])\n",
    "        #plt.savefig('{}/q_over_n_{}.png'.format(idp, iteration))\n",
    "        del fig\n",
    "        fig = plot_q_n_m(q_m, n_m)\n",
    "        #plt.savefig('{}/q_over_n_nice_{}.png'.format(idp, iteration))\n",
    "        del fig\n",
    "    ## Define new likelihood_ratio\n",
    "    likelihood_ratio = MultiMLEstimator(Q_0_colour, n_m_kde, q_m_kde, centers)\n",
    "    def ml(i):\n",
    "        return apply_ml_all(i, likelihood_ratio)\n",
    "\n",
    "    #create an empty table to store the crossmatch results with the same columns in it\n",
    "    temp = Table()\n",
    "    col_index = Column(name='lr_index_{}'.format(iteration))\n",
    "    col_d2d = Column(name='lr_dist_{}'.format(iteration))\n",
    "    col_lr = Column(name='lr_{}'.format(iteration))\n",
    "    col_rel = Column(name='lr_reliability_{}'.format(iteration))\n",
    "    col_sourceid = Column(name='Source_id')\n",
    "    col_helpid = Column(name='help_id')\n",
    "    temp.add_columns([col_index,col_d2d,col_lr,col_rel,col_sourceid,col_helpid])\n",
    "    #run the LR calculation\n",
    "    res = parallel_process(np.unique(idx_lofar), ml, n_jobs=n_cpus)\n",
    "    test1 = np.transpose(res)\n",
    "    test2 = test1[0].tolist()\n",
    "    res = astropy.table.vstack(test2)\n",
    "    #create a array of highest LR for each radio source\n",
    "    lrs = test1[1]\n",
    "    \n",
    "    \n",
    "    res[\"lr_{}\".format(iteration)][np.isnan(res[\"lr_{}\".format(iteration)])] = 0\n",
    "    ## Get and apply the threshold calculated from Q0(c) \n",
    "    mask = res['lr_sel_{}'.format(iteration)]\n",
    "    threshold = np.percentile(res[mask]['lr_{}'.format(iteration)], 100*(1 - q0_total))\n",
    "    print(\"Threshold: \", threshold)\n",
    "    \n",
    "    #change lr_sel to False if the value is less than the threshold\n",
    "    #for n,row in enumerate(res[res['lr_max_{}'.format(iteration)]]):\n",
    "    #    if row['lr_{}'.format(iteration)]<threshold:\n",
    "    #        mask = res['help_id']==row['help_id']\n",
    "    #        res['lr_sel_{}'.format(iteration)][mask] = False             \n",
    "    \n",
    "    #Calculate the completeness and reliability as a function of the threshold\n",
    "    #Use this to calculate the thershold that gives an equal completeness and reliability\n",
    "    def completeness(lr, threshold, q0):\n",
    "        n = len(lr)\n",
    "        lrt = lr[lr < threshold]\n",
    "        return 1. - np.sum((q0 * lrt)/(q0 * lrt + (1 - q0)))/(float(n)*q0)\n",
    "    \n",
    "    def reliability(lr, threshold, q0):\n",
    "        n = len(lr)\n",
    "        lrt = lr[lr > threshold]\n",
    "        return 1. - np.sum((1. - q0)/(q0 * lrt + (1 - q0)))/(float(n)*q0)\n",
    "    completeness_v = np.vectorize(completeness, excluded=[0])\n",
    "    reliability_v = np.vectorize(reliability, excluded=[0])\n",
    "    thresholds = np.arange(0., 10., 0.001)\n",
    "    mask = lofar['lr_max_{}'.format(iteration)]\n",
    "    lr_temp = lofar['lr_{}'.format(iteration)][mask]\n",
    "    completeness_t = completeness_v(lr_temp , thresholds, Q0)\n",
    "    reliability_t = reliability_v(lr_temp , thresholds, Q0)\n",
    "    diff = abs(completeness_t-reliability_t)\n",
    "    mask = ~np.isnan(diff)\n",
    "    index = np.argmin(diff[mask])\n",
    "    threshold = thresholds[mask][index]\n",
    "    plt.plot(thresholds,completeness_t)\n",
    "    plt.plot(thresholds,reliability_t)\n",
    "    plt.vlines(threshold,0,1)\n",
    "    plt.ylim(0.9,1.0)\n",
    "    plt.show()\n",
    "    print(\"updated Threshold: \", threshold)\n",
    "\n",
    "    for n,row in enumerate(res[res['lr_max_{}'.format(iteration)]]):#####\n",
    "        if row['lr_{}'.format(iteration)]<threshold:\n",
    "            mask = res['help_id']==row['help_id']\n",
    "            res['lr_sel_{}'.format(iteration)][mask] = False\n",
    "        #only include if you uncomment the earlier redoing of lr_sel after calculating the first threshold\n",
    "        #based on Q0(c)\n",
    "        #else:\n",
    "        #    mask = res['help_id']==row['help_id']\n",
    "        #    res['lr_sel_{}'.format(iteration)][mask] = True\n",
    "    \n",
    "    #join the crossmatch data to te radio table the first time this is done an outer join\n",
    "    #is needed as there are multiple crossmatches for each radio source and all of these are needed\n",
    "    #For subsequent iterations a hstack can be used \n",
    "    if j==0:\n",
    "        lofar = join(lofar,res,keys='Source_id',join_type='outer')\n",
    "    else:\n",
    "        res.remove_column('Source_id')\n",
    "        lofar = astropy.table.hstack([lofar,res])\n",
    "    \n",
    "    if plot_intermediate:\n",
    "        fig = plt.figure(figsize=(15,6))\n",
    "        plt.subplot(1,2,1)\n",
    "        plt.hist(lofar[lofar[\"lr_{}\".format(iteration)] != 0][\"lr_{}\".format(iteration)], bins=200)\n",
    "        plt.vlines([threshold], 0, 1000)\n",
    "        plt.ylim([0,1000])\n",
    "        plt.subplot(1,2,2)\n",
    "        plt.hist(np.log10(lofar[lofar[\"lr_{}\".format(iteration)] != 0][\"lr_{}\".format(iteration)]+1), bins=200)\n",
    "        plt.vlines(np.log10(threshold+1), 0, 1000)\n",
    "        ticks, _ = plt.xticks()\n",
    "        plt.xticks(ticks, [\"{:.1f}\".format(10**t-1) for t in ticks])\n",
    "        plt.ylim([0,1000])\n",
    "        #plt.savefig('{}/lr_distribution_{}.png'.format(idp, iteration))\n",
    "        del fig\n",
    "    ## Apply the threshold\n",
    "\n",
    "    ## Enter changes into the catalogue\n",
    "    # Clear aux columns\n",
    "    lofar[\"category\"] = np.nan\n",
    "    lofar[ir_colname] = np.nan\n",
    "    lofar[opt_colname] = np.nan\n",
    "    # Update data\n",
    "    c = ~np.isnan(lofar[\"lr_index_{}\".format(iteration)])\n",
    "    indices = lofar[\"lr_index_{}\".format(iteration)][c].astype(int)\n",
    "    lofar[\"category\"][c] = opt_ir[indices][\"category\"]\n",
    "    lofar[ir_colname][c] = opt_ir[indices][ir_colname]\n",
    "    lofar[opt_colname][c] = opt_ir[indices][opt_colname]\n",
    "    '''# Save the data\n",
    "    if save_intermediate:\n",
    "        lofar[mask_sel].write(\"{}/lofar[mask_sel]_m{}.fits\".format(idp, iteration), format=\"fits\")'''\n",
    "    ## Compute number of changes\n",
    "    n_changes = np.sum((\n",
    "            lofar[\"lr_index_{}\".format(iteration)] != lofar[\"lr_index_{}\".format(iteration-1)]) & \n",
    "            ~np.isnan(lofar[\"lr_index_{}\".format(iteration)]) &\n",
    "            ~np.isnan(lofar[\"lr_index_{}\".format(iteration-1)]))\n",
    "    print(\"N changes: \", n_changes)\n",
    "    t_changes = np.sum((\n",
    "            lofar[\"lr_index_{}\".format(iteration)] != lofar[\"lr_index_{}\".format(iteration-1)]))\n",
    "    print(\"T changes: \", t_changes)\n",
    "    ## Check changes\n",
    "    plt.show()\n",
    "    if n_changes == 0:\n",
    "        break\n",
    "    else:\n",
    "        print(\"******** continue **********\")"
   ]
  },
  {
   "cell_type": "code",
   "execution_count": null,
   "metadata": {},
   "outputs": [],
   "source": [
    "Table.write(lofar,'data/xmatch_all_20181113',format='fits')"
   ]
  },
  {
   "cell_type": "code",
   "execution_count": null,
   "metadata": {},
   "outputs": [],
   "source": []
  },
  {
   "cell_type": "code",
   "execution_count": null,
   "metadata": {},
   "outputs": [],
   "source": []
  },
  {
   "cell_type": "code",
   "execution_count": null,
   "metadata": {},
   "outputs": [],
   "source": []
  },
  {
   "cell_type": "code",
   "execution_count": null,
   "metadata": {},
   "outputs": [],
   "source": []
  },
  {
   "cell_type": "code",
   "execution_count": null,
   "metadata": {},
   "outputs": [],
   "source": []
  },
  {
   "cell_type": "code",
   "execution_count": null,
   "metadata": {},
   "outputs": [],
   "source": []
  },
  {
   "cell_type": "code",
   "execution_count": null,
   "metadata": {},
   "outputs": [],
   "source": []
  },
  {
   "cell_type": "code",
   "execution_count": null,
   "metadata": {},
   "outputs": [],
   "source": []
  },
  {
   "cell_type": "code",
   "execution_count": null,
   "metadata": {},
   "outputs": [],
   "source": []
  },
  {
   "cell_type": "code",
   "execution_count": null,
   "metadata": {},
   "outputs": [],
   "source": [
    "lofar"
   ]
  },
  {
   "cell_type": "code",
   "execution_count": null,
   "metadata": {},
   "outputs": [],
   "source": []
  }
 ],
 "metadata": {
  "kernelspec": {
   "display_name": "Python 3",
   "language": "python",
   "name": "python3"
  },
  "language_info": {
   "codemirror_mode": {
    "name": "ipython",
    "version": 3
   },
   "file_extension": ".py",
   "mimetype": "text/x-python",
   "name": "python",
   "nbconvert_exporter": "python",
   "pygments_lexer": "ipython3",
   "version": "3.6.7"
  }
 },
 "nbformat": 4,
 "nbformat_minor": 2
}
