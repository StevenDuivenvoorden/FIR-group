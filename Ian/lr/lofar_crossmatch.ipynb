{
 "cells": [
  {
   "cell_type": "code",
   "execution_count": 1,
   "metadata": {},
   "outputs": [],
   "source": [
    "import numpy as np\n",
    "import astropy\n",
    "from astropy.table import Table, Column,join,vstack\n",
    "from astropy import units as u\n",
    "from astropy.coordinates import SkyCoord, search_around_sky\n",
    "from IPython.display import clear_output\n",
    "import pickle\n",
    "import os\n",
    "from glob import glob\n",
    "from shutil import copyfile\n",
    "from pymoc import MOC\n",
    "from pymoc.util import catalog\n",
    "import matplotlib.pyplot as plt\n",
    "import matplotlib.patches as mpatches\n",
    "from sklearn.neighbors import KernelDensity"
   ]
  },
  {
   "cell_type": "code",
   "execution_count": 2,
   "metadata": {},
   "outputs": [],
   "source": [
    "from mltier import (get_center, get_n_m, estimate_q_m, Field, SingleMLEstimator, MultiMLEstimator,\n",
    "                     parallel_process, get_sigma_all, get_q_m, get_threshold, q0_min_level, q0_min_numbers,\n",
    "                     get_n_m_kde, estimate_q_m_kde, get_q_m_kde, describe)\n",
    "from Q0_calc import Q0_calc"
   ]
  },
  {
   "cell_type": "markdown",
   "metadata": {},
   "source": [
    "#### Read in the optical and infrared data and the radio data"
   ]
  },
  {
   "cell_type": "code",
   "execution_count": 3,
   "metadata": {},
   "outputs": [],
   "source": [
    "opt_ir_cat = Table.read('data/Lockman-SWIRE_20180219.fits')"
   ]
  },
  {
   "cell_type": "code",
   "execution_count": 4,
   "metadata": {},
   "outputs": [],
   "source": [
    "lofar_all = Table.read('data/deep-lockman-v0.1.cat.fits')"
   ]
  },
  {
   "cell_type": "code",
   "execution_count": 5,
   "metadata": {},
   "outputs": [],
   "source": [
    "opt_colname = 'm_megacam_r'\n",
    "ir_colname = 'm_irac_i1'"
   ]
  },
  {
   "cell_type": "markdown",
   "metadata": {},
   "source": [
    "#### Define the field "
   ]
  },
  {
   "cell_type": "code",
   "execution_count": 6,
   "metadata": {},
   "outputs": [],
   "source": [
    "#select the moc of the optical data\n",
    "MOC_loc = 'mocs/DF-SERVS_Lockman-SWIRE_MOC.fits'\n",
    "MHz150_MOC = MOC(filename=MOC_loc)"
   ]
  },
  {
   "cell_type": "code",
   "execution_count": 7,
   "metadata": {},
   "outputs": [
    {
     "name": "stdout",
     "output_type": "stream",
     "text": [
      "field area is defined by a MOC\n"
     ]
    }
   ],
   "source": [
    "ra_down, ra_up, dec_down, dec_up = min(lofar_all['RA']),max(lofar_all['RA']),min(lofar_all['DEC']),max(lofar_all['DEC'])\n",
    "field = Field(ra_down, ra_up, dec_down, dec_up, MHz150_MOC)"
   ]
  },
  {
   "cell_type": "markdown",
   "metadata": {},
   "source": [
    "#### Filter the catalogues"
   ]
  },
  {
   "cell_type": "code",
   "execution_count": 8,
   "metadata": {},
   "outputs": [
    {
     "name": "stdout",
     "output_type": "stream",
     "text": [
      "filtering in a MOC\n"
     ]
    }
   ],
   "source": [
    "# remove sources with a major axis greater than 30 arcseconds\n",
    "lofar_aux = lofar_all[~np.isnan(lofar_all['Maj'])]\n",
    "lofar = field.filter_catalogue(lofar_aux[(lofar_aux['Maj'] < 30.)], \n",
    "                               colnames=(\"RA\", \"DEC\"))"
   ]
  },
  {
   "cell_type": "code",
   "execution_count": 9,
   "metadata": {},
   "outputs": [
    {
     "name": "stdout",
     "output_type": "stream",
     "text": [
      "filtering in a MOC\n"
     ]
    }
   ],
   "source": [
    "opt_ir = field.filter_catalogue(opt_ir_cat, \n",
    "                               colnames=(\"ra\", \"dec\"))\n",
    "#remove sources with no detection in the opt or ir bands used for xmatching\n",
    "mask = (~np.isnan(opt_ir[opt_colname])) | (~np.isnan(opt_ir[ir_colname]))\n",
    "opt_ir = opt_ir[mask]"
   ]
  },
  {
   "cell_type": "code",
   "execution_count": 10,
   "metadata": {},
   "outputs": [],
   "source": [
    "opt_ir[\"colour\"] = opt_ir[opt_colname] - opt_ir[ir_colname]"
   ]
  },
  {
   "cell_type": "code",
   "execution_count": 11,
   "metadata": {},
   "outputs": [],
   "source": [
    "opt_ir_index = np.arange(len(opt_ir))"
   ]
  },
  {
   "cell_type": "code",
   "execution_count": 12,
   "metadata": {},
   "outputs": [],
   "source": [
    "opt_ir_coords = SkyCoord(opt_ir['ra'], \n",
    "                           opt_ir['dec'], \n",
    "                           unit=(u.deg, u.deg), \n",
    "                           frame='icrs')"
   ]
  },
  {
   "cell_type": "code",
   "execution_count": 13,
   "metadata": {},
   "outputs": [],
   "source": [
    "lofar_coords = SkyCoord(lofar['RA'], \n",
    "                       lofar['DEC'], \n",
    "                       unit=(u.deg, u.deg), \n",
    "                       frame='icrs')"
   ]
  },
  {
   "cell_type": "code",
   "execution_count": 14,
   "metadata": {},
   "outputs": [],
   "source": [
    "opt_ir_num_both = (~np.isnan(opt_ir[opt_colname]) & ~np.isnan(opt_ir[ir_colname])) # number of sources detected in opt and ir\n",
    "opt_ir_num_opt = (~np.isnan(opt_ir[opt_colname]) & np.isnan(opt_ir[ir_colname])) # number of sources detected in opt only\n",
    "opt_ir_num_ir =(np.isnan(opt_ir[opt_colname]) & ~np.isnan(opt_ir[ir_colname])) # number of sources detected in ir only\n",
    "opt_num = opt_ir_num_both | opt_ir_num_opt\n",
    "ir_num = opt_ir_num_both | opt_ir_num_ir\n",
    "\n",
    "opt_cat = opt_ir[opt_num]\n",
    "ir_cat = opt_ir[ir_num]"
   ]
  },
  {
   "cell_type": "code",
   "execution_count": 15,
   "metadata": {},
   "outputs": [
    {
     "name": "stdout",
     "output_type": "stream",
     "text": [
      "Total    -  1395953\n",
      "i and W1 -  496542\n",
      "Only i   -  662040\n",
      "With i   -  1158582\n",
      "Only W1  -  237371\n",
      "With W1  -  733913\n"
     ]
    }
   ],
   "source": [
    "print(\"Total    - \", len(opt_ir))\n",
    "print(\"opt and ir - \", np.sum(opt_ir_num_both))\n",
    "print(\"Only opt   - \", np.sum(opt_ir_num_opt))\n",
    "print(\"With opt   - \", np.sum(opt_num))\n",
    "print(\"Only ir  - \", np.sum(opt_ir_num_ir))\n",
    "print(\"With ir  - \", np.sum(ir_num))"
   ]
  },
  {
   "cell_type": "markdown",
   "metadata": {},
   "source": [
    "check the distribution of sources to make sure the selected area is correct and that there are no gaps that could influence the calculation of Q0"
   ]
  },
  {
   "cell_type": "code",
   "execution_count": 16,
   "metadata": {},
   "outputs": [
    {
     "data": {
      "image/png": "[encoded data removed]",
      "text/plain": [
       "<matplotlib.figure.Figure at 0x10568dc50>"
      ]
     },
     "metadata": {},
     "output_type": "display_data"
    }
   ],
   "source": [
    "x = lofar['RA']\n",
    "y = lofar['DEC']\n",
    "plt.scatter(x,y,s=0.1)\n",
    "\n",
    "x = opt_ir['ra']\n",
    "y = opt_ir['dec']\n",
    "plt.scatter(x,y,s=0.01)\n",
    "plt.show()"
   ]
  },
  {
   "cell_type": "code",
   "execution_count": 17,
   "metadata": {},
   "outputs": [
    {
     "data": {
      "image/png": "[encoded data removed]",
      "text/plain": [
       "<matplotlib.figure.Figure at 0x11bfaccc0>"
      ]
     },
     "metadata": {},
     "output_type": "display_data"
    }
   ],
   "source": [
    "mask = ~np.isnan(opt_ir_cat['m_gpc1_i'])\n",
    "x = opt_ir_cat['ra'][mask]\n",
    "y = opt_ir_cat['dec'][mask]\n",
    "plt.scatter(x,y,s=0.01)\n",
    "plt.xlim(158,159)\n",
    "plt.ylim(58,59)\n",
    "plt.show()"
   ]
  },
  {
   "cell_type": "code",
   "execution_count": null,
   "metadata": {},
   "outputs": [],
   "source": []
  },
  {
   "cell_type": "markdown",
   "metadata": {},
   "source": [
    "### Compute Q0 for the optical and IR"
   ]
  },
  {
   "cell_type": "code",
   "execution_count": 18,
   "metadata": {},
   "outputs": [
    {
     "name": "stdout",
     "output_type": "stream",
     "text": [
      "field area is defined by a MOC\n",
      "filtering in a MOC\n",
      "filtering in a MOC\n",
      "[    0     1     2 ... 11632 11633 11634]\n",
      "7123\n",
      "starting to find Q0. This will take a while\n",
      "finding Q0 with radius = 0.1 arcseconds\n",
      "number of random sources with no matches: 7119\n",
      "number of real sources with no matches: 6925\n",
      "number of random sources with no matches: 7121\n",
      "number of real sources with no matches: 6925\n",
      "number of random sources with no matches: 7119\n",
      "number of real sources with no matches: 6925\n",
      "number of random sources with no matches: 7120\n",
      "number of real sources with no matches: 6925\n",
      "number of random sources with no matches: 7121\n",
      "number of real sources with no matches: 6925\n",
      "number of random sources with no matches: 7120\n",
      "number of real sources with no matches: 6925\n",
      "number of random sources with no matches: 7120\n",
      "number of real sources with no matches: 6925\n",
      "number of random sources with no matches: 7118\n",
      "number of real sources with no matches: 6925\n",
      "number of random sources with no matches: 7118\n",
      "number of real sources with no matches: 6925\n",
      "number of random sources with no matches: 7122\n",
      "number of real sources with no matches: 6925\n",
      "finding Q0 with radius = 0.37241379310344824 arcseconds\n",
      "number of random sources with no matches: 7086\n",
      "number of real sources with no matches: 5322\n",
      "number of random sources with no matches: 7082\n",
      "number of real sources with no matches: 5322\n",
      "number of random sources with no matches: 7083\n",
      "number of real sources with no matches: 5322\n",
      "number of random sources with no matches: 7077\n",
      "number of real sources with no matches: 5322\n",
      "number of random sources with no matches: 7078\n",
      "number of real sources with no matches: 5322\n",
      "number of random sources with no matches: 7081\n",
      "number of real sources with no matches: 5322\n",
      "number of random sources with no matches: 7084\n",
      "number of real sources with no matches: 5322\n",
      "number of random sources with no matches: 7077\n",
      "number of real sources with no matches: 5322\n",
      "number of random sources with no matches: 7075\n",
      "number of real sources with no matches: 5322\n",
      "number of random sources with no matches: 7080\n",
      "number of real sources with no matches: 5322\n",
      "finding Q0 with radius = 0.6448275862068965 arcseconds\n",
      "number of random sources with no matches: 6981\n",
      "number of real sources with no matches: 3793\n",
      "number of random sources with no matches: 6978\n",
      "number of real sources with no matches: 3793\n",
      "number of random sources with no matches: 6980\n",
      "number of real sources with no matches: 3793\n",
      "number of random sources with no matches: 6976\n",
      "number of real sources with no matches: 3793\n",
      "number of random sources with no matches: 6979\n",
      "number of real sources with no matches: 3793\n",
      "number of random sources with no matches: 6969\n",
      "number of real sources with no matches: 3793\n",
      "number of random sources with no matches: 6979\n",
      "number of real sources with no matches: 3793\n",
      "number of random sources with no matches: 6954\n",
      "number of real sources with no matches: 3793\n",
      "number of random sources with no matches: 6975\n",
      "number of real sources with no matches: 3793\n",
      "number of random sources with no matches: 6981\n",
      "number of real sources with no matches: 3793\n",
      "finding Q0 with radius = 0.9172413793103448 arcseconds\n",
      "number of random sources with no matches: 6823\n",
      "number of real sources with no matches: 2846\n",
      "number of random sources with no matches: 6823\n",
      "number of real sources with no matches: 2846\n",
      "number of random sources with no matches: 6834\n",
      "number of real sources with no matches: 2846\n",
      "number of random sources with no matches: 6825\n",
      "number of real sources with no matches: 2846\n",
      "number of random sources with no matches: 6848\n",
      "number of real sources with no matches: 2846\n",
      "number of random sources with no matches: 6833\n",
      "number of real sources with no matches: 2846\n",
      "number of random sources with no matches: 6849\n",
      "number of real sources with no matches: 2846\n",
      "number of random sources with no matches: 6841\n",
      "number of real sources with no matches: 2846\n",
      "number of random sources with no matches: 6839\n",
      "number of real sources with no matches: 2846\n",
      "number of random sources with no matches: 6827\n",
      "number of real sources with no matches: 2846\n",
      "finding Q0 with radius = 1.1896551724137931 arcseconds\n",
      "number of random sources with no matches: 6667\n",
      "number of real sources with no matches: 2282\n",
      "number of random sources with no matches: 6683\n",
      "number of real sources with no matches: 2282\n",
      "number of random sources with no matches: 6651\n",
      "number of real sources with no matches: 2282\n",
      "number of random sources with no matches: 6694\n",
      "number of real sources with no matches: 2282\n",
      "number of random sources with no matches: 6651\n",
      "number of real sources with no matches: 2282\n",
      "number of random sources with no matches: 6670\n",
      "number of real sources with no matches: 2282\n",
      "number of random sources with no matches: 6659\n",
      "number of real sources with no matches: 2282\n",
      "number of random sources with no matches: 6655\n",
      "number of real sources with no matches: 2282\n",
      "number of random sources with no matches: 6649\n",
      "number of real sources with no matches: 2282\n",
      "number of random sources with no matches: 6680\n",
      "number of real sources with no matches: 2282\n",
      "finding Q0 with radius = 1.4620689655172414 arcseconds\n",
      "number of random sources with no matches: 6425\n",
      "number of real sources with no matches: 1970\n",
      "number of random sources with no matches: 6539\n",
      "number of real sources with no matches: 1970\n",
      "number of random sources with no matches: 6481\n",
      "number of real sources with no matches: 1970\n",
      "number of random sources with no matches: 6458\n",
      "number of real sources with no matches: 1970\n",
      "number of random sources with no matches: 6446\n",
      "number of real sources with no matches: 1970\n",
      "number of random sources with no matches: 6472\n",
      "number of real sources with no matches: 1970\n",
      "number of random sources with no matches: 6423\n",
      "number of real sources with no matches: 1970\n",
      "number of random sources with no matches: 6477\n",
      "number of real sources with no matches: 1970\n",
      "number of random sources with no matches: 6430\n",
      "number of real sources with no matches: 1970\n",
      "number of random sources with no matches: 6441\n",
      "number of real sources with no matches: 1970\n",
      "finding Q0 with radius = 1.7344827586206897 arcseconds\n",
      "number of random sources with no matches: 6189\n",
      "number of real sources with no matches: 1740\n",
      "number of random sources with no matches: 6160\n",
      "number of real sources with no matches: 1740\n",
      "number of random sources with no matches: 6213\n",
      "number of real sources with no matches: 1740\n",
      "number of random sources with no matches: 6194\n",
      "number of real sources with no matches: 1740\n",
      "number of random sources with no matches: 6227\n",
      "number of real sources with no matches: 1740\n",
      "number of random sources with no matches: 6162\n",
      "number of real sources with no matches: 1740\n",
      "number of random sources with no matches: 6202\n",
      "number of real sources with no matches: 1740\n",
      "number of random sources with no matches: 6202\n",
      "number of real sources with no matches: 1740\n",
      "number of random sources with no matches: 6172\n",
      "number of real sources with no matches: 1740\n",
      "number of random sources with no matches: 6149\n",
      "number of real sources with no matches: 1740\n",
      "finding Q0 with radius = 2.0068965517241377 arcseconds\n",
      "number of random sources with no matches: 5918\n",
      "number of real sources with no matches: 1582\n",
      "number of random sources with no matches: 5942\n",
      "number of real sources with no matches: 1582\n",
      "number of random sources with no matches: 5946\n",
      "number of real sources with no matches: 1582\n",
      "number of random sources with no matches: 5900\n",
      "number of real sources with no matches: 1582\n",
      "number of random sources with no matches: 5902\n",
      "number of real sources with no matches: 1582\n",
      "number of random sources with no matches: 5842\n",
      "number of real sources with no matches: 1582\n",
      "number of random sources with no matches: 5890\n",
      "number of real sources with no matches: 1582\n",
      "number of random sources with no matches: 5884\n",
      "number of real sources with no matches: 1582\n",
      "number of random sources with no matches: 5929\n",
      "number of real sources with no matches: 1582\n",
      "number of random sources with no matches: 5923\n",
      "number of real sources with no matches: 1582\n",
      "finding Q0 with radius = 2.279310344827586 arcseconds\n",
      "number of random sources with no matches: 5572\n",
      "number of real sources with no matches: 1451\n",
      "number of random sources with no matches: 5650\n",
      "number of real sources with no matches: 1451\n",
      "number of random sources with no matches: 5536\n",
      "number of real sources with no matches: 1451\n"
     ]
    },
    {
     "name": "stdout",
     "output_type": "stream",
     "text": [
      "number of random sources with no matches: 5579\n",
      "number of real sources with no matches: 1451\n",
      "number of random sources with no matches: 5605\n",
      "number of real sources with no matches: 1451\n",
      "number of random sources with no matches: 5550\n",
      "number of real sources with no matches: 1451\n",
      "number of random sources with no matches: 5618\n",
      "number of real sources with no matches: 1451\n",
      "number of random sources with no matches: 5642\n",
      "number of real sources with no matches: 1451\n",
      "number of random sources with no matches: 5581\n",
      "number of real sources with no matches: 1451\n",
      "number of random sources with no matches: 5563\n",
      "number of real sources with no matches: 1451\n",
      "finding Q0 with radius = 2.5517241379310343 arcseconds\n",
      "number of random sources with no matches: 5295\n",
      "number of real sources with no matches: 1330\n",
      "number of random sources with no matches: 5262\n",
      "number of real sources with no matches: 1330\n",
      "number of random sources with no matches: 5311\n",
      "number of real sources with no matches: 1330\n",
      "number of random sources with no matches: 5290\n",
      "number of real sources with no matches: 1330\n",
      "number of random sources with no matches: 5431\n",
      "number of real sources with no matches: 1330\n",
      "number of random sources with no matches: 5244\n",
      "number of real sources with no matches: 1330\n",
      "number of random sources with no matches: 5302\n",
      "number of real sources with no matches: 1330\n",
      "number of random sources with no matches: 5312\n",
      "number of real sources with no matches: 1330\n",
      "number of random sources with no matches: 5264\n",
      "number of real sources with no matches: 1330\n",
      "number of random sources with no matches: 5239\n",
      "number of real sources with no matches: 1330\n",
      "finding Q0 with radius = 2.8241379310344827 arcseconds\n",
      "number of random sources with no matches: 4941\n",
      "number of real sources with no matches: 1223\n",
      "number of random sources with no matches: 4946\n",
      "number of real sources with no matches: 1223\n",
      "number of random sources with no matches: 4954\n",
      "number of real sources with no matches: 1223\n",
      "number of random sources with no matches: 4947\n",
      "number of real sources with no matches: 1223\n",
      "number of random sources with no matches: 4966\n",
      "number of real sources with no matches: 1223\n",
      "number of random sources with no matches: 5033\n",
      "number of real sources with no matches: 1223\n",
      "number of random sources with no matches: 4928\n",
      "number of real sources with no matches: 1223\n",
      "number of random sources with no matches: 4979\n",
      "number of real sources with no matches: 1223\n",
      "number of random sources with no matches: 4931\n",
      "number of real sources with no matches: 1223\n",
      "number of random sources with no matches: 4911\n",
      "number of real sources with no matches: 1223\n",
      "finding Q0 with radius = 3.0965517241379312 arcseconds\n",
      "number of random sources with no matches: 4632\n",
      "number of real sources with no matches: 1126\n",
      "number of random sources with no matches: 4573\n",
      "number of real sources with no matches: 1126\n",
      "number of random sources with no matches: 4589\n",
      "number of real sources with no matches: 1126\n",
      "number of random sources with no matches: 4636\n",
      "number of real sources with no matches: 1126\n",
      "number of random sources with no matches: 4598\n",
      "number of real sources with no matches: 1126\n",
      "number of random sources with no matches: 4624\n",
      "number of real sources with no matches: 1126\n",
      "number of random sources with no matches: 4623\n",
      "number of real sources with no matches: 1126\n",
      "number of random sources with no matches: 4540\n",
      "number of real sources with no matches: 1126\n",
      "number of random sources with no matches: 4545\n",
      "number of real sources with no matches: 1126\n",
      "number of random sources with no matches: 4593\n",
      "number of real sources with no matches: 1126\n",
      "finding Q0 with radius = 3.3689655172413793 arcseconds\n",
      "number of random sources with no matches: 4287\n",
      "number of real sources with no matches: 1025\n",
      "number of random sources with no matches: 4275\n",
      "number of real sources with no matches: 1025\n",
      "number of random sources with no matches: 4309\n",
      "number of real sources with no matches: 1025\n",
      "number of random sources with no matches: 4301\n",
      "number of real sources with no matches: 1025\n",
      "number of random sources with no matches: 4272\n",
      "number of real sources with no matches: 1025\n",
      "number of random sources with no matches: 4253\n",
      "number of real sources with no matches: 1025\n",
      "number of random sources with no matches: 4248\n",
      "number of real sources with no matches: 1025\n",
      "number of random sources with no matches: 4268\n",
      "number of real sources with no matches: 1025\n",
      "number of random sources with no matches: 4212\n",
      "number of real sources with no matches: 1025\n",
      "number of random sources with no matches: 4234\n",
      "number of real sources with no matches: 1025\n",
      "finding Q0 with radius = 3.6413793103448273 arcseconds\n",
      "number of random sources with no matches: 3890\n",
      "number of real sources with no matches:  929\n",
      "number of random sources with no matches: 3887\n",
      "number of real sources with no matches:  929\n",
      "number of random sources with no matches: 3877\n",
      "number of real sources with no matches:  929\n",
      "number of random sources with no matches: 3938\n",
      "number of real sources with no matches:  929\n",
      "number of random sources with no matches: 3832\n",
      "number of real sources with no matches:  929\n",
      "number of random sources with no matches: 3877\n",
      "number of real sources with no matches:  929\n",
      "number of random sources with no matches: 3914\n",
      "number of real sources with no matches:  929\n",
      "number of random sources with no matches: 3998\n",
      "number of real sources with no matches:  929\n",
      "number of random sources with no matches: 3895\n",
      "number of real sources with no matches:  929\n",
      "number of random sources with no matches: 3899\n",
      "number of real sources with no matches:  929\n",
      "finding Q0 with radius = 3.913793103448276 arcseconds\n",
      "number of random sources with no matches: 3639\n",
      "number of real sources with no matches:  864\n",
      "number of random sources with no matches: 3576\n",
      "number of real sources with no matches:  864\n",
      "number of random sources with no matches: 3618\n",
      "number of real sources with no matches:  864\n",
      "number of random sources with no matches: 3643\n",
      "number of real sources with no matches:  864\n",
      "number of random sources with no matches: 3590\n",
      "number of real sources with no matches:  864\n",
      "number of random sources with no matches: 3637\n",
      "number of real sources with no matches:  864\n",
      "number of random sources with no matches: 3518\n",
      "number of real sources with no matches:  864\n",
      "number of random sources with no matches: 3631\n",
      "number of real sources with no matches:  864\n",
      "number of random sources with no matches: 3569\n",
      "number of real sources with no matches:  864\n",
      "number of random sources with no matches: 3558\n",
      "number of real sources with no matches:  864\n",
      "finding Q0 with radius = 4.186206896551724 arcseconds\n",
      "number of random sources with no matches: 3304\n",
      "number of real sources with no matches:  780\n",
      "number of random sources with no matches: 3224\n",
      "number of real sources with no matches:  780\n",
      "number of random sources with no matches: 3260\n",
      "number of real sources with no matches:  780\n",
      "number of random sources with no matches: 3281\n",
      "number of real sources with no matches:  780\n",
      "number of random sources with no matches: 3231\n",
      "number of real sources with no matches:  780\n",
      "number of random sources with no matches: 3294\n",
      "number of real sources with no matches:  780\n",
      "number of random sources with no matches: 3268\n",
      "number of real sources with no matches:  780\n",
      "number of random sources with no matches: 3273\n",
      "number of real sources with no matches:  780\n",
      "number of random sources with no matches: 3282\n",
      "number of real sources with no matches:  780\n",
      "number of random sources with no matches: 3347\n",
      "number of real sources with no matches:  780\n",
      "finding Q0 with radius = 4.458620689655172 arcseconds\n",
      "number of random sources with no matches: 2909\n",
      "number of real sources with no matches:  703\n",
      "number of random sources with no matches: 2965\n",
      "number of real sources with no matches:  703\n",
      "number of random sources with no matches: 2982\n",
      "number of real sources with no matches:  703\n",
      "number of random sources with no matches: 3023\n",
      "number of real sources with no matches:  703\n",
      "number of random sources with no matches: 3015\n",
      "number of real sources with no matches:  703\n",
      "number of random sources with no matches: 2965\n",
      "number of real sources with no matches:  703\n",
      "number of random sources with no matches: 2925\n",
      "number of real sources with no matches:  703\n",
      "number of random sources with no matches: 3016\n",
      "number of real sources with no matches:  703\n"
     ]
    },
    {
     "name": "stdout",
     "output_type": "stream",
     "text": [
      "number of random sources with no matches: 2963\n",
      "number of real sources with no matches:  703\n",
      "number of random sources with no matches: 2938\n",
      "number of real sources with no matches:  703\n",
      "finding Q0 with radius = 4.73103448275862 arcseconds\n",
      "number of random sources with no matches: 2694\n",
      "number of real sources with no matches:  635\n",
      "number of random sources with no matches: 2727\n",
      "number of real sources with no matches:  635\n",
      "number of random sources with no matches: 2735\n",
      "number of real sources with no matches:  635\n",
      "number of random sources with no matches: 2695\n",
      "number of real sources with no matches:  635\n",
      "number of random sources with no matches: 2641\n",
      "number of real sources with no matches:  635\n",
      "number of random sources with no matches: 2626\n",
      "number of real sources with no matches:  635\n",
      "number of random sources with no matches: 2725\n",
      "number of real sources with no matches:  635\n",
      "number of random sources with no matches: 2736\n",
      "number of real sources with no matches:  635\n",
      "number of random sources with no matches: 2729\n",
      "number of real sources with no matches:  635\n",
      "number of random sources with no matches: 2614\n",
      "number of real sources with no matches:  635\n",
      "finding Q0 with radius = 5.003448275862068 arcseconds\n",
      "number of random sources with no matches: 2423\n",
      "number of real sources with no matches:  579\n",
      "number of random sources with no matches: 2411\n",
      "number of real sources with no matches:  579\n",
      "number of random sources with no matches: 2416\n",
      "number of real sources with no matches:  579\n",
      "number of random sources with no matches: 2446\n",
      "number of real sources with no matches:  579\n",
      "number of random sources with no matches: 2337\n",
      "number of real sources with no matches:  579\n",
      "number of random sources with no matches: 2346\n",
      "number of real sources with no matches:  579\n",
      "number of random sources with no matches: 2356\n",
      "number of real sources with no matches:  579\n",
      "number of random sources with no matches: 2450\n",
      "number of real sources with no matches:  579\n",
      "number of random sources with no matches: 2394\n",
      "number of real sources with no matches:  579\n",
      "number of random sources with no matches: 2507\n",
      "number of real sources with no matches:  579\n",
      "finding Q0 with radius = 5.275862068965517 arcseconds\n",
      "number of random sources with no matches: 2138\n",
      "number of real sources with no matches:  502\n",
      "number of random sources with no matches: 2147\n",
      "number of real sources with no matches:  502\n",
      "number of random sources with no matches: 2168\n",
      "number of real sources with no matches:  502\n",
      "number of random sources with no matches: 2177\n",
      "number of real sources with no matches:  502\n",
      "number of random sources with no matches: 2169\n",
      "number of real sources with no matches:  502\n",
      "number of random sources with no matches: 2099\n",
      "number of real sources with no matches:  502\n",
      "number of random sources with no matches: 2158\n",
      "number of real sources with no matches:  502\n",
      "number of random sources with no matches: 2147\n",
      "number of real sources with no matches:  502\n",
      "number of random sources with no matches: 2153\n",
      "number of real sources with no matches:  502\n",
      "number of random sources with no matches: 2132\n",
      "number of real sources with no matches:  502\n",
      "finding Q0 with radius = 5.548275862068965 arcseconds\n",
      "number of random sources with no matches: 1885\n",
      "number of real sources with no matches:  450\n",
      "number of random sources with no matches: 1946\n",
      "number of real sources with no matches:  450\n",
      "number of random sources with no matches: 1898\n",
      "number of real sources with no matches:  450\n",
      "number of random sources with no matches: 1922\n",
      "number of real sources with no matches:  450\n",
      "number of random sources with no matches: 1898\n",
      "number of real sources with no matches:  450\n",
      "number of random sources with no matches: 1993\n",
      "number of real sources with no matches:  450\n",
      "number of random sources with no matches: 1973\n",
      "number of real sources with no matches:  450\n",
      "number of random sources with no matches: 1899\n",
      "number of real sources with no matches:  450\n",
      "number of random sources with no matches: 1960\n",
      "number of real sources with no matches:  450\n",
      "number of random sources with no matches: 1967\n",
      "number of real sources with no matches:  450\n",
      "finding Q0 with radius = 5.820689655172413 arcseconds\n",
      "number of random sources with no matches: 1688\n",
      "number of real sources with no matches:  395\n",
      "number of random sources with no matches: 1747\n",
      "number of real sources with no matches:  395\n",
      "number of random sources with no matches: 1679\n",
      "number of real sources with no matches:  395\n",
      "number of random sources with no matches: 1710\n",
      "number of real sources with no matches:  395\n",
      "number of random sources with no matches: 1669\n",
      "number of real sources with no matches:  395\n",
      "number of random sources with no matches: 1766\n",
      "number of real sources with no matches:  395\n",
      "number of random sources with no matches: 1775\n",
      "number of real sources with no matches:  395\n",
      "number of random sources with no matches: 1688\n",
      "number of real sources with no matches:  395\n",
      "number of random sources with no matches: 1708\n",
      "number of real sources with no matches:  395\n",
      "number of random sources with no matches: 1704\n",
      "number of real sources with no matches:  395\n",
      "finding Q0 with radius = 6.093103448275862 arcseconds\n",
      "number of random sources with no matches: 1500\n",
      "number of real sources with no matches:  344\n",
      "number of random sources with no matches: 1506\n",
      "number of real sources with no matches:  344\n",
      "number of random sources with no matches: 1486\n",
      "number of real sources with no matches:  344\n",
      "number of random sources with no matches: 1497\n",
      "number of real sources with no matches:  344\n",
      "number of random sources with no matches: 1491\n",
      "number of real sources with no matches:  344\n",
      "number of random sources with no matches: 1481\n",
      "number of real sources with no matches:  344\n",
      "number of random sources with no matches: 1456\n",
      "number of real sources with no matches:  344\n",
      "number of random sources with no matches: 1447\n",
      "number of real sources with no matches:  344\n",
      "number of random sources with no matches: 1457\n",
      "number of real sources with no matches:  344\n",
      "number of random sources with no matches: 1485\n",
      "number of real sources with no matches:  344\n",
      "finding Q0 with radius = 6.36551724137931 arcseconds\n",
      "number of random sources with no matches: 1292\n",
      "number of real sources with no matches:  311\n",
      "number of random sources with no matches: 1353\n",
      "number of real sources with no matches:  311\n",
      "number of random sources with no matches: 1349\n",
      "number of real sources with no matches:  311\n",
      "number of random sources with no matches: 1335\n",
      "number of real sources with no matches:  311\n",
      "number of random sources with no matches: 1288\n",
      "number of real sources with no matches:  311\n",
      "number of random sources with no matches: 1338\n",
      "number of real sources with no matches:  311\n",
      "number of random sources with no matches: 1290\n",
      "number of real sources with no matches:  311\n",
      "number of random sources with no matches: 1313\n",
      "number of real sources with no matches:  311\n",
      "number of random sources with no matches: 1270\n",
      "number of real sources with no matches:  311\n",
      "number of random sources with no matches: 1334\n",
      "number of real sources with no matches:  311\n",
      "finding Q0 with radius = 6.637931034482758 arcseconds\n",
      "number of random sources with no matches: 1146\n",
      "number of real sources with no matches:  269\n",
      "number of random sources with no matches: 1151\n",
      "number of real sources with no matches:  269\n",
      "number of random sources with no matches: 1147\n",
      "number of real sources with no matches:  269\n",
      "number of random sources with no matches: 1089\n",
      "number of real sources with no matches:  269\n",
      "number of random sources with no matches: 1191\n",
      "number of real sources with no matches:  269\n",
      "number of random sources with no matches: 1131\n",
      "number of real sources with no matches:  269\n",
      "number of random sources with no matches: 1160\n",
      "number of real sources with no matches:  269\n",
      "number of random sources with no matches: 1160\n",
      "number of real sources with no matches:  269\n",
      "number of random sources with no matches: 1139\n",
      "number of real sources with no matches:  269\n",
      "number of random sources with no matches: 1161\n",
      "number of real sources with no matches:  269\n",
      "finding Q0 with radius = 6.910344827586206 arcseconds\n",
      "number of random sources with no matches:  989\n",
      "number of real sources with no matches:  240\n",
      "number of random sources with no matches: 1011\n",
      "number of real sources with no matches:  240\n"
     ]
    },
    {
     "name": "stdout",
     "output_type": "stream",
     "text": [
      "number of random sources with no matches:  979\n",
      "number of real sources with no matches:  240\n",
      "number of random sources with no matches: 1023\n",
      "number of real sources with no matches:  240\n",
      "number of random sources with no matches:  983\n",
      "number of real sources with no matches:  240\n",
      "number of random sources with no matches:  989\n",
      "number of real sources with no matches:  240\n",
      "number of random sources with no matches: 1004\n",
      "number of real sources with no matches:  240\n",
      "number of random sources with no matches:  997\n",
      "number of real sources with no matches:  240\n",
      "number of random sources with no matches: 1001\n",
      "number of real sources with no matches:  240\n",
      "number of random sources with no matches: 1029\n",
      "number of real sources with no matches:  240\n",
      "finding Q0 with radius = 7.182758620689654 arcseconds\n",
      "number of random sources with no matches:  849\n",
      "number of real sources with no matches:  213\n",
      "number of random sources with no matches:  849\n",
      "number of real sources with no matches:  213\n",
      "number of random sources with no matches:  884\n",
      "number of real sources with no matches:  213\n",
      "number of random sources with no matches:  904\n",
      "number of real sources with no matches:  213\n",
      "number of random sources with no matches:  874\n",
      "number of real sources with no matches:  213\n",
      "number of random sources with no matches:  843\n",
      "number of real sources with no matches:  213\n",
      "number of random sources with no matches:  967\n",
      "number of real sources with no matches:  213\n",
      "number of random sources with no matches:  850\n",
      "number of real sources with no matches:  213\n",
      "number of random sources with no matches:  891\n",
      "number of real sources with no matches:  213\n",
      "number of random sources with no matches:  881\n",
      "number of real sources with no matches:  213\n",
      "finding Q0 with radius = 7.455172413793103 arcseconds\n",
      "number of random sources with no matches:  719\n",
      "number of real sources with no matches:  189\n",
      "number of random sources with no matches:  783\n",
      "number of real sources with no matches:  189\n",
      "number of random sources with no matches:  765\n",
      "number of real sources with no matches:  189\n",
      "number of random sources with no matches:  793\n",
      "number of real sources with no matches:  189\n",
      "number of random sources with no matches:  734\n",
      "number of real sources with no matches:  189\n",
      "number of random sources with no matches:  744\n",
      "number of real sources with no matches:  189\n",
      "number of random sources with no matches:  759\n",
      "number of real sources with no matches:  189\n",
      "number of random sources with no matches:  779\n",
      "number of real sources with no matches:  189\n",
      "number of random sources with no matches:  786\n",
      "number of real sources with no matches:  189\n",
      "number of random sources with no matches:  777\n",
      "number of real sources with no matches:  189\n",
      "finding Q0 with radius = 7.727586206896551 arcseconds\n",
      "number of random sources with no matches:  663\n",
      "number of real sources with no matches:  172\n",
      "number of random sources with no matches:  659\n",
      "number of real sources with no matches:  172\n",
      "number of random sources with no matches:  645\n",
      "number of real sources with no matches:  172\n",
      "number of random sources with no matches:  658\n",
      "number of real sources with no matches:  172\n",
      "number of random sources with no matches:  722\n",
      "number of real sources with no matches:  172\n",
      "number of random sources with no matches:  617\n",
      "number of real sources with no matches:  172\n",
      "number of random sources with no matches:  665\n",
      "number of real sources with no matches:  172\n",
      "number of random sources with no matches:  681\n",
      "number of real sources with no matches:  172\n",
      "number of random sources with no matches:  670\n",
      "number of real sources with no matches:  172\n",
      "number of random sources with no matches:  665\n",
      "number of real sources with no matches:  172\n",
      "finding Q0 with radius = 8.0 arcseconds\n",
      "number of random sources with no matches:  563\n",
      "number of real sources with no matches:  151\n",
      "number of random sources with no matches:  568\n",
      "number of real sources with no matches:  151\n",
      "number of random sources with no matches:  529\n",
      "number of real sources with no matches:  151\n",
      "number of random sources with no matches:  574\n",
      "number of real sources with no matches:  151\n",
      "number of random sources with no matches:  534\n",
      "number of real sources with no matches:  151\n",
      "number of random sources with no matches:  580\n",
      "number of real sources with no matches:  151\n",
      "number of random sources with no matches:  560\n",
      "number of real sources with no matches:  151\n",
      "number of random sources with no matches:  570\n",
      "number of real sources with no matches:  151\n",
      "number of random sources with no matches:  572\n",
      "number of real sources with no matches:  151\n",
      "number of random sources with no matches:  574\n",
      "number of real sources with no matches:  151\n"
     ]
    }
   ],
   "source": [
    "Q0_opt,search_rad_r = Q0_calc(lofar,opt_cat,'RA','DEC','ra','dec',opt_colname,min(lofar['RA']),max(lofar['RA']),min(lofar['DEC']),max(lofar['DEC']),0.1,8,30,moc=MHz150_MOC)"
   ]
  },
  {
   "cell_type": "code",
   "execution_count": 19,
   "metadata": {},
   "outputs": [
    {
     "data": {
      "image/png": "[encoded data removed]",
      "text/plain": [
       "<matplotlib.figure.Figure at 0x29dfbd1d0>"
      ]
     },
     "metadata": {},
     "output_type": "display_data"
    },
    {
     "name": "stdout",
     "output_type": "stream",
     "text": [
      "Q0 = 0.7693690064489477\n",
      "search radius = 5.820689655172413\n"
     ]
    }
   ],
   "source": [
    "x = search_rad_r\n",
    "y = 1 - np.array(Q0_opt)\n",
    "plt.plot(x,y)\n",
    "plt.xlabel('Radius (arcseconds)')\n",
    "plt.ylabel('Q0')\n",
    "plt.show()\n",
    "\n",
    "Q0 = max(Q0_opt)\n",
    "search_rad_opt = search_rad_r[Q0_opt == Q0][0]\n",
    "#Q0 = popt[0]\n",
    "#search_rad = 6.9103\n",
    "\n",
    "print('Q0 = {}'.format(Q0))\n",
    "print('search radius = {}'.format(search_rad_opt))\n",
    "Q0_opt = Q0"
   ]
  },
  {
   "cell_type": "code",
   "execution_count": 20,
   "metadata": {},
   "outputs": [
    {
     "name": "stdout",
     "output_type": "stream",
     "text": [
      "field area is defined by a MOC\n",
      "filtering in a MOC\n",
      "filtering in a MOC\n",
      "[    0     1     2 ... 11632 11633 11634]\n",
      "7123\n",
      "starting to find Q0. This will take a while\n",
      "finding Q0 with radius = 0.1 arcseconds\n",
      "number of random sources with no matches: 7121\n",
      "number of real sources with no matches: 6878\n",
      "number of random sources with no matches: 7123\n",
      "number of real sources with no matches: 6878\n",
      "number of random sources with no matches: 7120\n",
      "number of real sources with no matches: 6878\n",
      "number of random sources with no matches: 7120\n",
      "number of real sources with no matches: 6878\n",
      "number of random sources with no matches: 7121\n",
      "number of real sources with no matches: 6878\n",
      "number of random sources with no matches: 7122\n",
      "number of real sources with no matches: 6878\n",
      "number of random sources with no matches: 7120\n",
      "number of real sources with no matches: 6878\n",
      "number of random sources with no matches: 7120\n",
      "number of real sources with no matches: 6878\n",
      "number of random sources with no matches: 7122\n",
      "number of real sources with no matches: 6878\n",
      "number of random sources with no matches: 7121\n",
      "number of real sources with no matches: 6878\n",
      "finding Q0 with radius = 0.37241379310344824 arcseconds\n",
      "number of random sources with no matches: 7096\n",
      "number of real sources with no matches: 4845\n",
      "number of random sources with no matches: 7100\n",
      "number of real sources with no matches: 4845\n",
      "number of random sources with no matches: 7090\n",
      "number of real sources with no matches: 4845\n",
      "number of random sources with no matches: 7101\n",
      "number of real sources with no matches: 4845\n",
      "number of random sources with no matches: 7092\n",
      "number of real sources with no matches: 4845\n",
      "number of random sources with no matches: 7098\n",
      "number of real sources with no matches: 4845\n",
      "number of random sources with no matches: 7095\n",
      "number of real sources with no matches: 4845\n",
      "number of random sources with no matches: 7089\n",
      "number of real sources with no matches: 4845\n",
      "number of random sources with no matches: 7098\n",
      "number of real sources with no matches: 4845\n",
      "number of random sources with no matches: 7089\n",
      "number of real sources with no matches: 4845\n",
      "finding Q0 with radius = 0.6448275862068965 arcseconds\n",
      "number of random sources with no matches: 7026\n",
      "number of real sources with no matches: 2934\n",
      "number of random sources with no matches: 7044\n",
      "number of real sources with no matches: 2934\n",
      "number of random sources with no matches: 7052\n",
      "number of real sources with no matches: 2934\n",
      "number of random sources with no matches: 7025\n",
      "number of real sources with no matches: 2934\n",
      "number of random sources with no matches: 7044\n",
      "number of real sources with no matches: 2934\n",
      "number of random sources with no matches: 7036\n",
      "number of real sources with no matches: 2934\n",
      "number of random sources with no matches: 7037\n",
      "number of real sources with no matches: 2934\n",
      "number of random sources with no matches: 7038\n",
      "number of real sources with no matches: 2934\n",
      "number of random sources with no matches: 7044\n",
      "number of real sources with no matches: 2934\n",
      "number of random sources with no matches: 7049\n",
      "number of real sources with no matches: 2934\n",
      "finding Q0 with radius = 0.9172413793103448 arcseconds\n",
      "number of random sources with no matches: 6900\n",
      "number of real sources with no matches: 1794\n",
      "number of random sources with no matches: 6927\n",
      "number of real sources with no matches: 1794\n",
      "number of random sources with no matches: 6941\n",
      "number of real sources with no matches: 1794\n",
      "number of random sources with no matches: 6935\n",
      "number of real sources with no matches: 1794\n",
      "number of random sources with no matches: 6960\n",
      "number of real sources with no matches: 1794\n",
      "number of random sources with no matches: 6949\n",
      "number of real sources with no matches: 1794\n",
      "number of random sources with no matches: 6932\n",
      "number of real sources with no matches: 1794\n",
      "number of random sources with no matches: 6965\n",
      "number of real sources with no matches: 1794\n",
      "number of random sources with no matches: 6951\n",
      "number of real sources with no matches: 1794\n",
      "number of random sources with no matches: 6910\n",
      "number of real sources with no matches: 1794\n",
      "finding Q0 with radius = 1.1896551724137931 arcseconds\n",
      "number of random sources with no matches: 6824\n",
      "number of real sources with no matches: 1155\n",
      "number of random sources with no matches: 6820\n",
      "number of real sources with no matches: 1155\n",
      "number of random sources with no matches: 6841\n",
      "number of real sources with no matches: 1155\n",
      "number of random sources with no matches: 6820\n",
      "number of real sources with no matches: 1155\n",
      "number of random sources with no matches: 6811\n",
      "number of real sources with no matches: 1155\n",
      "number of random sources with no matches: 6811\n",
      "number of real sources with no matches: 1155\n",
      "number of random sources with no matches: 6837\n",
      "number of real sources with no matches: 1155\n",
      "number of random sources with no matches: 6804\n",
      "number of real sources with no matches: 1155\n",
      "number of random sources with no matches: 6824\n",
      "number of real sources with no matches: 1155\n",
      "number of random sources with no matches: 6862\n",
      "number of real sources with no matches: 1155\n",
      "finding Q0 with radius = 1.4620689655172414 arcseconds\n",
      "number of random sources with no matches: 6690\n",
      "number of real sources with no matches:  830\n",
      "number of random sources with no matches: 6679\n",
      "number of real sources with no matches:  830\n",
      "number of random sources with no matches: 6666\n",
      "number of real sources with no matches:  830\n",
      "number of random sources with no matches: 6675\n",
      "number of real sources with no matches:  830\n",
      "number of random sources with no matches: 6682\n",
      "number of real sources with no matches:  830\n",
      "number of random sources with no matches: 6697\n",
      "number of real sources with no matches:  830\n",
      "number of random sources with no matches: 6670\n",
      "number of real sources with no matches:  830\n",
      "number of random sources with no matches: 6651\n",
      "number of real sources with no matches:  830\n",
      "number of random sources with no matches: 6652\n",
      "number of real sources with no matches:  830\n",
      "number of random sources with no matches: 6679\n",
      "number of real sources with no matches:  830\n",
      "finding Q0 with radius = 1.7344827586206897 arcseconds\n",
      "number of random sources with no matches: 6474\n",
      "number of real sources with no matches:  628\n",
      "number of random sources with no matches: 6518\n",
      "number of real sources with no matches:  628\n",
      "number of random sources with no matches: 6520\n",
      "number of real sources with no matches:  628\n",
      "number of random sources with no matches: 6477\n",
      "number of real sources with no matches:  628\n",
      "number of random sources with no matches: 6492\n",
      "number of real sources with no matches:  628\n",
      "number of random sources with no matches: 6489\n",
      "number of real sources with no matches:  628\n",
      "number of random sources with no matches: 6489\n",
      "number of real sources with no matches:  628\n",
      "number of random sources with no matches: 6513\n",
      "number of real sources with no matches:  628\n",
      "number of random sources with no matches: 6491\n",
      "number of real sources with no matches:  628\n",
      "number of random sources with no matches: 6516\n",
      "number of real sources with no matches:  628\n",
      "finding Q0 with radius = 2.0068965517241377 arcseconds\n",
      "number of random sources with no matches: 6282\n",
      "number of real sources with no matches:  518\n",
      "number of random sources with no matches: 6285\n",
      "number of real sources with no matches:  518\n",
      "number of random sources with no matches: 6228\n",
      "number of real sources with no matches:  518\n",
      "number of random sources with no matches: 6324\n",
      "number of real sources with no matches:  518\n",
      "number of random sources with no matches: 6292\n",
      "number of real sources with no matches:  518\n",
      "number of random sources with no matches: 6276\n",
      "number of real sources with no matches:  518\n",
      "number of random sources with no matches: 6270\n",
      "number of real sources with no matches:  518\n",
      "number of random sources with no matches: 6306\n",
      "number of real sources with no matches:  518\n",
      "number of random sources with no matches: 6267\n",
      "number of real sources with no matches:  518\n",
      "number of random sources with no matches: 6314\n",
      "number of real sources with no matches:  518\n",
      "finding Q0 with radius = 2.279310344827586 arcseconds\n",
      "number of random sources with no matches: 6051\n",
      "number of real sources with no matches:  429\n",
      "number of random sources with no matches: 6054\n",
      "number of real sources with no matches:  429\n",
      "number of random sources with no matches: 6011\n",
      "number of real sources with no matches:  429\n"
     ]
    },
    {
     "name": "stdout",
     "output_type": "stream",
     "text": [
      "number of random sources with no matches: 6049\n",
      "number of real sources with no matches:  429\n",
      "number of random sources with no matches: 6060\n",
      "number of real sources with no matches:  429\n",
      "number of random sources with no matches: 6031\n",
      "number of real sources with no matches:  429\n",
      "number of random sources with no matches: 6063\n",
      "number of real sources with no matches:  429\n",
      "number of random sources with no matches: 5985\n",
      "number of real sources with no matches:  429\n",
      "number of random sources with no matches: 6054\n",
      "number of real sources with no matches:  429\n",
      "number of random sources with no matches: 6031\n",
      "number of real sources with no matches:  429\n",
      "finding Q0 with radius = 2.5517241379310343 arcseconds\n",
      "number of random sources with no matches: 5807\n",
      "number of real sources with no matches:  386\n",
      "number of random sources with no matches: 5820\n",
      "number of real sources with no matches:  386\n",
      "number of random sources with no matches: 5767\n",
      "number of real sources with no matches:  386\n",
      "number of random sources with no matches: 5819\n",
      "number of real sources with no matches:  386\n",
      "number of random sources with no matches: 5843\n",
      "number of real sources with no matches:  386\n",
      "number of random sources with no matches: 5776\n",
      "number of real sources with no matches:  386\n",
      "number of random sources with no matches: 5770\n",
      "number of real sources with no matches:  386\n",
      "number of random sources with no matches: 5794\n",
      "number of real sources with no matches:  386\n",
      "number of random sources with no matches: 5807\n",
      "number of real sources with no matches:  386\n",
      "number of random sources with no matches: 5895\n",
      "number of real sources with no matches:  386\n",
      "finding Q0 with radius = 2.8241379310344827 arcseconds\n",
      "number of random sources with no matches: 5518\n",
      "number of real sources with no matches:  352\n",
      "number of random sources with no matches: 5505\n",
      "number of real sources with no matches:  352\n",
      "number of random sources with no matches: 5491\n",
      "number of real sources with no matches:  352\n",
      "number of random sources with no matches: 5541\n",
      "number of real sources with no matches:  352\n",
      "number of random sources with no matches: 5501\n",
      "number of real sources with no matches:  352\n",
      "number of random sources with no matches: 5486\n",
      "number of real sources with no matches:  352\n",
      "number of random sources with no matches: 5482\n",
      "number of real sources with no matches:  352\n",
      "number of random sources with no matches: 5551\n",
      "number of real sources with no matches:  352\n",
      "number of random sources with no matches: 5486\n",
      "number of real sources with no matches:  352\n",
      "number of random sources with no matches: 5541\n",
      "number of real sources with no matches:  352\n",
      "finding Q0 with radius = 3.0965517241379312 arcseconds\n",
      "number of random sources with no matches: 5222\n",
      "number of real sources with no matches:  313\n",
      "number of random sources with no matches: 5247\n",
      "number of real sources with no matches:  313\n",
      "number of random sources with no matches: 5154\n",
      "number of real sources with no matches:  313\n",
      "number of random sources with no matches: 5270\n",
      "number of real sources with no matches:  313\n",
      "number of random sources with no matches: 5255\n",
      "number of real sources with no matches:  313\n",
      "number of random sources with no matches: 5298\n",
      "number of real sources with no matches:  313\n",
      "number of random sources with no matches: 5321\n",
      "number of real sources with no matches:  313\n",
      "number of random sources with no matches: 5239\n",
      "number of real sources with no matches:  313\n",
      "number of random sources with no matches: 5215\n",
      "number of real sources with no matches:  313\n",
      "number of random sources with no matches: 5196\n",
      "number of real sources with no matches:  313\n",
      "finding Q0 with radius = 3.3689655172413793 arcseconds\n",
      "number of random sources with no matches: 4923\n",
      "number of real sources with no matches:  284\n",
      "number of random sources with no matches: 4958\n",
      "number of real sources with no matches:  284\n",
      "number of random sources with no matches: 4953\n",
      "number of real sources with no matches:  284\n",
      "number of random sources with no matches: 4848\n",
      "number of real sources with no matches:  284\n",
      "number of random sources with no matches: 4870\n",
      "number of real sources with no matches:  284\n",
      "number of random sources with no matches: 4951\n",
      "number of real sources with no matches:  284\n",
      "number of random sources with no matches: 4979\n",
      "number of real sources with no matches:  284\n",
      "number of random sources with no matches: 4883\n",
      "number of real sources with no matches:  284\n",
      "number of random sources with no matches: 4942\n",
      "number of real sources with no matches:  284\n",
      "number of random sources with no matches: 4965\n",
      "number of real sources with no matches:  284\n",
      "finding Q0 with radius = 3.6413793103448273 arcseconds\n",
      "number of random sources with no matches: 4572\n",
      "number of real sources with no matches:  262\n",
      "number of random sources with no matches: 4615\n",
      "number of real sources with no matches:  262\n",
      "number of random sources with no matches: 4647\n",
      "number of real sources with no matches:  262\n",
      "number of random sources with no matches: 4627\n",
      "number of real sources with no matches:  262\n",
      "number of random sources with no matches: 4595\n",
      "number of real sources with no matches:  262\n",
      "number of random sources with no matches: 4669\n",
      "number of real sources with no matches:  262\n",
      "number of random sources with no matches: 4668\n",
      "number of real sources with no matches:  262\n",
      "number of random sources with no matches: 4600\n",
      "number of real sources with no matches:  262\n",
      "number of random sources with no matches: 4633\n",
      "number of real sources with no matches:  262\n",
      "number of random sources with no matches: 4599\n",
      "number of real sources with no matches:  262\n",
      "finding Q0 with radius = 3.913793103448276 arcseconds\n",
      "number of random sources with no matches: 4349\n",
      "number of real sources with no matches:  248\n",
      "number of random sources with no matches: 4344\n",
      "number of real sources with no matches:  248\n",
      "number of random sources with no matches: 4310\n",
      "number of real sources with no matches:  248\n",
      "number of random sources with no matches: 4345\n",
      "number of real sources with no matches:  248\n",
      "number of random sources with no matches: 4283\n",
      "number of real sources with no matches:  248\n",
      "number of random sources with no matches: 4318\n",
      "number of real sources with no matches:  248\n",
      "number of random sources with no matches: 4353\n",
      "number of real sources with no matches:  248\n",
      "number of random sources with no matches: 4329\n",
      "number of real sources with no matches:  248\n",
      "number of random sources with no matches: 4272\n",
      "number of real sources with no matches:  248\n",
      "number of random sources with no matches: 4276\n",
      "number of real sources with no matches:  248\n",
      "finding Q0 with radius = 4.186206896551724 arcseconds\n",
      "number of random sources with no matches: 3943\n",
      "number of real sources with no matches:  242\n",
      "number of random sources with no matches: 3980\n",
      "number of real sources with no matches:  242\n",
      "number of random sources with no matches: 4057\n",
      "number of real sources with no matches:  242\n",
      "number of random sources with no matches: 4033\n",
      "number of real sources with no matches:  242\n",
      "number of random sources with no matches: 4056\n",
      "number of real sources with no matches:  242\n",
      "number of random sources with no matches: 3990\n",
      "number of real sources with no matches:  242\n",
      "number of random sources with no matches: 3986\n",
      "number of real sources with no matches:  242\n",
      "number of random sources with no matches: 3994\n",
      "number of real sources with no matches:  242\n",
      "number of random sources with no matches: 4003\n",
      "number of real sources with no matches:  242\n",
      "number of random sources with no matches: 4051\n",
      "number of real sources with no matches:  242\n",
      "finding Q0 with radius = 4.458620689655172 arcseconds\n",
      "number of random sources with no matches: 3755\n",
      "number of real sources with no matches:  226\n",
      "number of random sources with no matches: 3758\n",
      "number of real sources with no matches:  226\n",
      "number of random sources with no matches: 3741\n",
      "number of real sources with no matches:  226\n",
      "number of random sources with no matches: 3732\n",
      "number of real sources with no matches:  226\n",
      "number of random sources with no matches: 3642\n",
      "number of real sources with no matches:  226\n",
      "number of random sources with no matches: 3754\n",
      "number of real sources with no matches:  226\n",
      "number of random sources with no matches: 3725\n",
      "number of real sources with no matches:  226\n",
      "number of random sources with no matches: 3710\n",
      "number of real sources with no matches:  226\n"
     ]
    },
    {
     "name": "stdout",
     "output_type": "stream",
     "text": [
      "number of random sources with no matches: 3760\n",
      "number of real sources with no matches:  226\n",
      "number of random sources with no matches: 3713\n",
      "number of real sources with no matches:  226\n",
      "finding Q0 with radius = 4.73103448275862 arcseconds\n",
      "number of random sources with no matches: 3441\n",
      "number of real sources with no matches:  217\n",
      "number of random sources with no matches: 3472\n",
      "number of real sources with no matches:  217\n",
      "number of random sources with no matches: 3515\n",
      "number of real sources with no matches:  217\n",
      "number of random sources with no matches: 3376\n",
      "number of real sources with no matches:  217\n",
      "number of random sources with no matches: 3376\n",
      "number of real sources with no matches:  217\n",
      "number of random sources with no matches: 3459\n",
      "number of real sources with no matches:  217\n",
      "number of random sources with no matches: 3456\n",
      "number of real sources with no matches:  217\n",
      "number of random sources with no matches: 3476\n",
      "number of real sources with no matches:  217\n",
      "number of random sources with no matches: 3441\n",
      "number of real sources with no matches:  217\n",
      "number of random sources with no matches: 3396\n",
      "number of real sources with no matches:  217\n",
      "finding Q0 with radius = 5.003448275862068 arcseconds\n",
      "number of random sources with no matches: 3141\n",
      "number of real sources with no matches:  207\n",
      "number of random sources with no matches: 3141\n",
      "number of real sources with no matches:  207\n",
      "number of random sources with no matches: 3176\n",
      "number of real sources with no matches:  207\n",
      "number of random sources with no matches: 3115\n",
      "number of real sources with no matches:  207\n",
      "number of random sources with no matches: 3148\n",
      "number of real sources with no matches:  207\n",
      "number of random sources with no matches: 3178\n",
      "number of real sources with no matches:  207\n",
      "number of random sources with no matches: 3162\n",
      "number of real sources with no matches:  207\n",
      "number of random sources with no matches: 3154\n",
      "number of real sources with no matches:  207\n",
      "number of random sources with no matches: 3230\n",
      "number of real sources with no matches:  207\n",
      "number of random sources with no matches: 3134\n",
      "number of real sources with no matches:  207\n",
      "finding Q0 with radius = 5.275862068965517 arcseconds\n",
      "number of random sources with no matches: 2855\n",
      "number of real sources with no matches:  198\n",
      "number of random sources with no matches: 2848\n",
      "number of real sources with no matches:  198\n",
      "number of random sources with no matches: 2831\n",
      "number of real sources with no matches:  198\n",
      "number of random sources with no matches: 2864\n",
      "number of real sources with no matches:  198\n",
      "number of random sources with no matches: 2833\n",
      "number of real sources with no matches:  198\n",
      "number of random sources with no matches: 2831\n",
      "number of real sources with no matches:  198\n",
      "number of random sources with no matches: 2865\n",
      "number of real sources with no matches:  198\n",
      "number of random sources with no matches: 2907\n",
      "number of real sources with no matches:  198\n",
      "number of random sources with no matches: 2876\n",
      "number of real sources with no matches:  198\n",
      "number of random sources with no matches: 2836\n",
      "number of real sources with no matches:  198\n",
      "finding Q0 with radius = 5.548275862068965 arcseconds\n",
      "number of random sources with no matches: 2620\n",
      "number of real sources with no matches:  186\n",
      "number of random sources with no matches: 2573\n",
      "number of real sources with no matches:  186\n",
      "number of random sources with no matches: 2584\n",
      "number of real sources with no matches:  186\n",
      "number of random sources with no matches: 2639\n",
      "number of real sources with no matches:  186\n",
      "number of random sources with no matches: 2546\n",
      "number of real sources with no matches:  186\n",
      "number of random sources with no matches: 2653\n",
      "number of real sources with no matches:  186\n",
      "number of random sources with no matches: 2559\n",
      "number of real sources with no matches:  186\n",
      "number of random sources with no matches: 2560\n",
      "number of real sources with no matches:  186\n",
      "number of random sources with no matches: 2601\n",
      "number of real sources with no matches:  186\n",
      "number of random sources with no matches: 2622\n",
      "number of real sources with no matches:  186\n",
      "finding Q0 with radius = 5.820689655172413 arcseconds\n",
      "number of random sources with no matches: 2447\n",
      "number of real sources with no matches:  179\n",
      "number of random sources with no matches: 2365\n",
      "number of real sources with no matches:  179\n",
      "number of random sources with no matches: 2456\n",
      "number of real sources with no matches:  179\n",
      "number of random sources with no matches: 2404\n",
      "number of real sources with no matches:  179\n",
      "number of random sources with no matches: 2369\n",
      "number of real sources with no matches:  179\n",
      "number of random sources with no matches: 2375\n",
      "number of real sources with no matches:  179\n",
      "number of random sources with no matches: 2390\n",
      "number of real sources with no matches:  179\n",
      "number of random sources with no matches: 2396\n",
      "number of real sources with no matches:  179\n",
      "number of random sources with no matches: 2373\n",
      "number of real sources with no matches:  179\n",
      "number of random sources with no matches: 2352\n",
      "number of real sources with no matches:  179\n",
      "finding Q0 with radius = 6.093103448275862 arcseconds\n",
      "number of random sources with no matches: 2129\n",
      "number of real sources with no matches:  172\n",
      "number of random sources with no matches: 2143\n",
      "number of real sources with no matches:  172\n",
      "number of random sources with no matches: 2066\n",
      "number of real sources with no matches:  172\n",
      "number of random sources with no matches: 2148\n",
      "number of real sources with no matches:  172\n",
      "number of random sources with no matches: 2165\n",
      "number of real sources with no matches:  172\n",
      "number of random sources with no matches: 2150\n",
      "number of real sources with no matches:  172\n",
      "number of random sources with no matches: 2089\n",
      "number of real sources with no matches:  172\n",
      "number of random sources with no matches: 2100\n",
      "number of real sources with no matches:  172\n",
      "number of random sources with no matches: 2199\n",
      "number of real sources with no matches:  172\n",
      "number of random sources with no matches: 2102\n",
      "number of real sources with no matches:  172\n",
      "finding Q0 with radius = 6.36551724137931 arcseconds\n",
      "number of random sources with no matches: 1900\n",
      "number of real sources with no matches:  165\n",
      "number of random sources with no matches: 1889\n",
      "number of real sources with no matches:  165\n",
      "number of random sources with no matches: 1868\n",
      "number of real sources with no matches:  165\n",
      "number of random sources with no matches: 1938\n",
      "number of real sources with no matches:  165\n",
      "number of random sources with no matches: 1914\n",
      "number of real sources with no matches:  165\n",
      "number of random sources with no matches: 1924\n",
      "number of real sources with no matches:  165\n",
      "number of random sources with no matches: 1913\n",
      "number of real sources with no matches:  165\n",
      "number of random sources with no matches: 1913\n",
      "number of real sources with no matches:  165\n",
      "number of random sources with no matches: 1914\n",
      "number of real sources with no matches:  165\n",
      "number of random sources with no matches: 1931\n",
      "number of real sources with no matches:  165\n",
      "finding Q0 with radius = 6.637931034482758 arcseconds\n",
      "number of random sources with no matches: 1715\n",
      "number of real sources with no matches:  157\n",
      "number of random sources with no matches: 1665\n",
      "number of real sources with no matches:  157\n",
      "number of random sources with no matches: 1674\n",
      "number of real sources with no matches:  157\n",
      "number of random sources with no matches: 1729\n",
      "number of real sources with no matches:  157\n",
      "number of random sources with no matches: 1724\n",
      "number of real sources with no matches:  157\n",
      "number of random sources with no matches: 1705\n",
      "number of real sources with no matches:  157\n",
      "number of random sources with no matches: 1766\n",
      "number of real sources with no matches:  157\n",
      "number of random sources with no matches: 1686\n",
      "number of real sources with no matches:  157\n",
      "number of random sources with no matches: 1722\n",
      "number of real sources with no matches:  157\n",
      "number of random sources with no matches: 1751\n",
      "number of real sources with no matches:  157\n",
      "finding Q0 with radius = 6.910344827586206 arcseconds\n",
      "number of random sources with no matches: 1548\n",
      "number of real sources with no matches:  154\n",
      "number of random sources with no matches: 1501\n",
      "number of real sources with no matches:  154\n"
     ]
    },
    {
     "name": "stdout",
     "output_type": "stream",
     "text": [
      "number of random sources with no matches: 1549\n",
      "number of real sources with no matches:  154\n",
      "number of random sources with no matches: 1526\n",
      "number of real sources with no matches:  154\n",
      "number of random sources with no matches: 1510\n",
      "number of real sources with no matches:  154\n",
      "number of random sources with no matches: 1506\n",
      "number of real sources with no matches:  154\n",
      "number of random sources with no matches: 1545\n",
      "number of real sources with no matches:  154\n",
      "number of random sources with no matches: 1512\n",
      "number of real sources with no matches:  154\n",
      "number of random sources with no matches: 1518\n",
      "number of real sources with no matches:  154\n",
      "number of random sources with no matches: 1500\n",
      "number of real sources with no matches:  154\n",
      "finding Q0 with radius = 7.182758620689654 arcseconds\n",
      "number of random sources with no matches: 1403\n",
      "number of real sources with no matches:  145\n",
      "number of random sources with no matches: 1371\n",
      "number of real sources with no matches:  145\n",
      "number of random sources with no matches: 1370\n",
      "number of real sources with no matches:  145\n",
      "number of random sources with no matches: 1369\n",
      "number of real sources with no matches:  145\n",
      "number of random sources with no matches: 1395\n",
      "number of real sources with no matches:  145\n",
      "number of random sources with no matches: 1362\n",
      "number of real sources with no matches:  145\n",
      "number of random sources with no matches: 1361\n",
      "number of real sources with no matches:  145\n",
      "number of random sources with no matches: 1292\n",
      "number of real sources with no matches:  145\n",
      "number of random sources with no matches: 1353\n",
      "number of real sources with no matches:  145\n",
      "number of random sources with no matches: 1375\n",
      "number of real sources with no matches:  145\n",
      "finding Q0 with radius = 7.455172413793103 arcseconds\n",
      "number of random sources with no matches: 1217\n",
      "number of real sources with no matches:  136\n",
      "number of random sources with no matches: 1240\n",
      "number of real sources with no matches:  136\n",
      "number of random sources with no matches: 1182\n",
      "number of real sources with no matches:  136\n",
      "number of random sources with no matches: 1200\n",
      "number of real sources with no matches:  136\n",
      "number of random sources with no matches: 1198\n",
      "number of real sources with no matches:  136\n",
      "number of random sources with no matches: 1246\n",
      "number of real sources with no matches:  136\n",
      "number of random sources with no matches: 1247\n",
      "number of real sources with no matches:  136\n",
      "number of random sources with no matches: 1176\n",
      "number of real sources with no matches:  136\n",
      "number of random sources with no matches: 1234\n",
      "number of real sources with no matches:  136\n",
      "number of random sources with no matches: 1246\n",
      "number of real sources with no matches:  136\n",
      "finding Q0 with radius = 7.727586206896551 arcseconds\n",
      "number of random sources with no matches: 1048\n",
      "number of real sources with no matches:  128\n",
      "number of random sources with no matches: 1069\n",
      "number of real sources with no matches:  128\n",
      "number of random sources with no matches: 1093\n",
      "number of real sources with no matches:  128\n",
      "number of random sources with no matches: 1059\n",
      "number of real sources with no matches:  128\n",
      "number of random sources with no matches: 1047\n",
      "number of real sources with no matches:  128\n",
      "number of random sources with no matches: 1128\n",
      "number of real sources with no matches:  128\n",
      "number of random sources with no matches: 1050\n",
      "number of real sources with no matches:  128\n",
      "number of random sources with no matches: 1077\n",
      "number of real sources with no matches:  128\n",
      "number of random sources with no matches: 1048\n",
      "number of real sources with no matches:  128\n",
      "number of random sources with no matches: 1063\n",
      "number of real sources with no matches:  128\n",
      "finding Q0 with radius = 8.0 arcseconds\n",
      "number of random sources with no matches:  958\n",
      "number of real sources with no matches:  121\n",
      "number of random sources with no matches:  932\n",
      "number of real sources with no matches:  121\n",
      "number of random sources with no matches:  923\n",
      "number of real sources with no matches:  121\n",
      "number of random sources with no matches:  932\n",
      "number of real sources with no matches:  121\n",
      "number of random sources with no matches:  961\n",
      "number of real sources with no matches:  121\n",
      "number of random sources with no matches:  936\n",
      "number of real sources with no matches:  121\n",
      "number of random sources with no matches:  970\n",
      "number of real sources with no matches:  121\n",
      "number of random sources with no matches:  978\n",
      "number of real sources with no matches:  121\n",
      "number of random sources with no matches:  917\n",
      "number of real sources with no matches:  121\n",
      "number of random sources with no matches:  945\n",
      "number of real sources with no matches:  121\n"
     ]
    }
   ],
   "source": [
    "Q0_ir,search_rad_r = Q0_calc(lofar,ir_cat,'RA','DEC','ra','dec',ir_colname,min(lofar['RA']),max(lofar['RA']),min(lofar['DEC']),max(lofar['DEC']),0.1,8,30,moc=MHz150_MOC)"
   ]
  },
  {
   "cell_type": "code",
   "execution_count": 21,
   "metadata": {},
   "outputs": [
    {
     "data": {
      "image/png": "[encoded data removed]",
      "text/plain": [
       "<matplotlib.figure.Figure at 0x29dfebe10>"
      ]
     },
     "metadata": {},
     "output_type": "display_data"
    },
    {
     "name": "stdout",
     "output_type": "stream",
     "text": [
      "Q0 = 0.9433182264476934\n",
      "search radius = 3.6413793103448273\n"
     ]
    }
   ],
   "source": [
    "x = search_rad_r\n",
    "y = 1 - np.array(Q0_ir)\n",
    "plt.plot(x,y)\n",
    "plt.xlabel('Radius (arcseconds)')\n",
    "plt.ylabel('Q0')\n",
    "plt.show()\n",
    "Q0 = max(Q0_ir)\n",
    "\n",
    "search_rad_ir = search_rad_r[Q0_ir == Q0][0]\n",
    "#Q0 = popt[0]\n",
    "#search_rad = 6.9103\n",
    "\n",
    "print('Q0 = {}'.format(Q0))\n",
    "print('search radius = {}'.format(search_rad_ir))\n",
    "Q0_ir = Q0"
   ]
  },
  {
   "cell_type": "markdown",
   "metadata": {},
   "source": [
    "### Prepare the optical likelihood ratio"
   ]
  },
  {
   "cell_type": "code",
   "execution_count": 22,
   "metadata": {},
   "outputs": [],
   "source": [
    "opt_cat = opt_ir[opt_num]"
   ]
  },
  {
   "cell_type": "code",
   "execution_count": 23,
   "metadata": {},
   "outputs": [],
   "source": [
    "bin_list_opt = np.arange(16., 30., 0.5)\n",
    "center_opt = get_center(bin_list_opt)"
   ]
  },
  {
   "cell_type": "code",
   "execution_count": 24,
   "metadata": {},
   "outputs": [],
   "source": [
    "bandwidth_opt = 0.5\n",
    "\n",
    "#find the magnitude distribution of all sources n(m)\n",
    "n_m_opt = get_n_m(opt_cat[opt_colname], bin_list_opt, field.area)\n",
    "#find the magnitude distribution of all sources using a kernal instead of bining \n",
    "n_m_opt_kde = get_n_m_kde(opt_cat[opt_colname], center_opt, field.area, bandwidth=bandwidth_opt)\n",
    "n_m_opt_kde_cs = np.cumsum(n_m_opt_kde)\n",
    "\n",
    "#estimate q(m) using the method of Fleuren et al 2012\n",
    "q_m_opt = estimate_q_m(opt_cat[opt_colname], \n",
    "                      bin_list_opt, \n",
    "                      n_m_opt, \n",
    "                      lofar_coords, \n",
    "                      opt_ir_coords[opt_num], \n",
    "                      radius=5)\n",
    "\n",
    "#estimate q(m) using the method of fleuren et al 2012 but instead of binning the magnitudes using a\n",
    "#kernal to create a smoother q(m)\n",
    "q_m_opt_kde = estimate_q_m_kde(opt_cat[opt_colname], \n",
    "                      center_opt, \n",
    "                      n_m_opt_kde, \n",
    "                      lofar_coords, \n",
    "                      opt_ir_coords[opt_num], \n",
    "                      radius=5, \n",
    "                      bandwidth=bandwidth_opt)\n",
    "q_m_opt_kde_cs = np.cumsum(q_m_opt_kde)"
   ]
  },
  {
   "cell_type": "code",
   "execution_count": 25,
   "metadata": {},
   "outputs": [
    {
     "data": {
      "image/png": "[encoded data removed]",
      "text/plain": [
       "<matplotlib.figure.Figure at 0x1219684e0>"
      ]
     },
     "metadata": {},
     "output_type": "display_data"
    },
    {
     "data": {
      "image/png": "[encoded data removed]",
      "text/plain": [
       "<matplotlib.figure.Figure at 0x29def0a20>"
      ]
     },
     "metadata": {},
     "output_type": "display_data"
    }
   ],
   "source": [
    "plt.rcParams[\"figure.figsize\"] = (20,5)\n",
    "plt.subplot(1,3,1)\n",
    "plt.plot(center_opt, n_m_opt,color='blue');\n",
    "plt.plot(center_opt, n_m_opt_kde_cs,color='red');\n",
    "plt.title('n (m)')\n",
    "\n",
    "\n",
    "plt.subplot(1,3,2)\n",
    "plt.rcParams[\"figure.figsize\"] = (5,5)\n",
    "plt.plot(center_opt, q_m_opt,color='blue');\n",
    "plt.plot(center_opt, q_m_opt_kde_cs,color='red');\n",
    "plt.title('q (m)')\n",
    "\n",
    "plt.subplot(1,3,3)\n",
    "plt.rcParams[\"figure.figsize\"] = (5,5)\n",
    "plt.plot(center_opt, q_m_opt/n_m_opt,color='blue');\n",
    "plt.plot(center_opt, q_m_opt_kde_cs/n_m_opt_kde_cs,color='red');\n",
    "plt.ylim(0.9*np.min(q_m_opt_kde_cs/n_m_opt_kde_cs),1.1*np.max(q_m_opt_kde_cs/n_m_opt_kde_cs))\n",
    "plt.title('q (m) / n (m)')\n",
    "plt.show()"
   ]
  },
  {
   "cell_type": "code",
   "execution_count": 26,
   "metadata": {},
   "outputs": [],
   "source": [
    "likelihood_ratio_opt = SingleMLEstimator(Q0_opt, n_m_opt_kde_cs, q_m_opt_kde_cs, center_opt)"
   ]
  },
  {
   "cell_type": "markdown",
   "metadata": {},
   "source": [
    "### Prepare the IR likelihood ratio"
   ]
  },
  {
   "cell_type": "code",
   "execution_count": 27,
   "metadata": {},
   "outputs": [],
   "source": [
    "ir_cat = opt_ir[ir_num]"
   ]
  },
  {
   "cell_type": "code",
   "execution_count": 28,
   "metadata": {},
   "outputs": [],
   "source": [
    "bin_list_ir = np.arange(16., 28., 0.5)\n",
    "center_ir = get_center(bin_list_ir)"
   ]
  },
  {
   "cell_type": "code",
   "execution_count": 29,
   "metadata": {},
   "outputs": [],
   "source": [
    "bandwidth_ir = 0.5\n",
    "\n",
    "n_m_ir = get_n_m(ir_cat[ir_colname], bin_list_ir, field.area)\n",
    "n_m_ir_kde = get_n_m_kde(ir_cat[ir_colname], center_ir, field.area, bandwidth=bandwidth_ir)\n",
    "n_m_ir_kde_cs = np.cumsum(n_m_ir_kde)\n",
    "\n",
    "q_m_ir = estimate_q_m(ir_cat[ir_colname], \n",
    "                      bin_list_ir, \n",
    "                      n_m_ir, \n",
    "                      lofar_coords, \n",
    "                      opt_ir_coords[ir_num], \n",
    "                      radius=5)\n",
    "\n",
    "q_m_ir_kde = estimate_q_m_kde(ir_cat[ir_colname], \n",
    "                      center_ir, \n",
    "                      n_m_ir_kde, \n",
    "                      lofar_coords, \n",
    "                      opt_ir_coords[ir_num], \n",
    "                      radius=5, \n",
    "                      bandwidth=bandwidth_ir)\n",
    "q_m_ir_kde_cs = np.cumsum(q_m_ir_kde)"
   ]
  },
  {
   "cell_type": "code",
   "execution_count": 30,
   "metadata": {},
   "outputs": [
    {
     "data": {
      "image/png": "[encoded data removed]",
      "text/plain": [
       "<matplotlib.figure.Figure at 0x29341f7b8>"
      ]
     },
     "metadata": {},
     "output_type": "display_data"
    }
   ],
   "source": [
    "plt.rcParams[\"figure.figsize\"] = (15,5)\n",
    "plt.subplot(1,3,1)\n",
    "plt.plot(center_ir, n_m_ir,color='blue');\n",
    "plt.plot(center_ir, n_m_ir_kde_cs,color='red');\n",
    "plt.title('n (m)')\n",
    "\n",
    "plt.subplot(1,3,2)\n",
    "plt.rcParams[\"figure.figsize\"] = (5,5)\n",
    "plt.plot(center_ir, q_m_ir,color='blue');\n",
    "plt.plot(center_ir, q_m_ir_kde_cs,color='red');\n",
    "plt.title('q (m)')\n",
    "\n",
    "plt.subplot(1,3,3)\n",
    "plt.rcParams[\"figure.figsize\"] = (5,5)\n",
    "plt.plot(center_ir, q_m_ir/n_m_ir,color='blue');\n",
    "plt.plot(center_ir, q_m_ir_kde_cs/n_m_ir_kde_cs,color='red');\n",
    "plt.ylim(0.9*np.min(q_m_ir_kde_cs/n_m_ir_kde_cs),1.1*np.max(q_m_ir_kde_cs/n_m_ir_kde_cs))\n",
    "plt.title('q (m) / n (m)')\n",
    "plt.show()"
   ]
  },
  {
   "cell_type": "code",
   "execution_count": 31,
   "metadata": {},
   "outputs": [],
   "source": [
    "likelihood_ratio_ir = SingleMLEstimator(Q0_ir, n_m_ir_kde_cs, q_m_ir_kde_cs, center_ir)"
   ]
  },
  {
   "cell_type": "markdown",
   "metadata": {},
   "source": [
    "### Start the magnitude only crossmatch"
   ]
  },
  {
   "cell_type": "markdown",
   "metadata": {},
   "source": [
    "#### optical"
   ]
  },
  {
   "cell_type": "code",
   "execution_count": 32,
   "metadata": {},
   "outputs": [],
   "source": [
    "import multiprocessing\n",
    "n_cpus_total = multiprocessing.cpu_count()\n",
    "n_cpus = max(1, n_cpus_total-1)"
   ]
  },
  {
   "cell_type": "code",
   "execution_count": 33,
   "metadata": {},
   "outputs": [
    {
     "name": "stdout",
     "output_type": "stream",
     "text": [
      "number of LOFAR sources with a possible crossmatch within 15 arcseconds is 11621\n"
     ]
    }
   ],
   "source": [
    "radius = 15\n",
    "idx_lofar, idx_opt, d2d, d3d = search_around_sky(\n",
    "    lofar_coords, opt_ir_coords[opt_num], radius*u.arcsec)\n",
    "\n",
    "# create an array of the indexs of lofar sources with a possible crossmatch within the search radius\n",
    "idx_lofar_unique = np.unique(idx_lofar)\n",
    "print('number of LOFAR sources with a possible crossmatch within {} arcseconds is {}'.format(radius,len(idx_lofar_unique)))"
   ]
  },
  {
   "cell_type": "code",
   "execution_count": 34,
   "metadata": {},
   "outputs": [],
   "source": [
    "lofar[\"lr_opt\"] = np.nan                   # Likelihood ratio\n",
    "lofar[\"lr_dist_opt\"] = np.nan              # Distance to the selected source\n",
    "lofar[\"lr_index_opt\"] = np.nan             # Index of the PanSTARRS source in combined\n",
    "lofar[\"lr_reliability_opt\"] = np.nan\n",
    "lofar[\"helpid_opt\"] = ''"
   ]
  },
  {
   "cell_type": "code",
   "execution_count": 35,
   "metadata": {},
   "outputs": [],
   "source": [
    "#do the crossmatching for the radio to optical dataset\n",
    "#inputs: i, the index saying which radio source to do the LR analysis for\n",
    "def ml_opt(i):\n",
    "\n",
    "    #get the indexes to the radio and optical catalogues from the cross match done above\n",
    "    idx_0 = idx_opt[idx_lofar == i]\n",
    "    d2d_0 = d2d[idx_lofar == i]\n",
    "    mag = opt_cat[opt_colname][idx_0]\n",
    "    \n",
    "    lofar_ra = lofar[i][\"RA\"]\n",
    "    lofar_dec = lofar[i][\"DEC\"]\n",
    "    lofar_pa = lofar[i][\"PA\"]\n",
    "    lofar_maj_err = lofar[i][\"E_Maj\"]\n",
    "    lofar_min_err = lofar[i][\"E_Min\"]\n",
    "    c_ra = opt_cat[\"ra\"][idx_0]\n",
    "    c_dec = opt_cat[\"dec\"][idx_0]\n",
    "    c_ra_err = 1.0\n",
    "    c_dec_err = 1.0\n",
    "    \n",
    "    #calculate the positional error of the radio source based on the PA and major and minor axis\n",
    "    #also includes an additional error of 0.6 arcseconds added in quadrature \n",
    "    sigma, sigma_maj, sigma_min = get_sigma_all(lofar_maj_err, lofar_min_err, lofar_pa, \n",
    "                      lofar_ra, lofar_dec, \n",
    "                      c_ra, c_dec, c_ra_err, c_dec_err)\n",
    "    \n",
    "    lr_0 = likelihood_ratio_opt(mag, d2d_0.arcsec, sigma)\n",
    "    #if the radio source has no sources within the search radius then return a row of nans\n",
    "    if len(lr_0) == 0:\n",
    "        result = [np.nan,np.nan,np.nan,np.nan,np.nan]\n",
    "        return result\n",
    "    chosen_index = np.argmax(lr_0)\n",
    "    lr_sum = np.sum(lr_0)\n",
    "    #calculate the realiability using the formula from smith et al 2013\n",
    "    rel = lr_0/(lr_sum + (1-Q0_opt))\n",
    "    helpid = opt_cat['help_id'][idx_0][0]\n",
    "    #return the indexs to optical catalogue, the distance to the source, the likelihood ratio\n",
    "    #and the helpid\n",
    "    result = [opt_ir_index[opt_num][idx_0[chosen_index]], # Index\n",
    "              (d2d_0.arcsec)[chosen_index],                        # distance\n",
    "              lr_0[chosen_index],\n",
    "              rel[chosen_index],\n",
    "              helpid]                                  # LR\n",
    "    \n",
    "\n",
    "    return(result)\n",
    "    #return (result,rel[chosen_index],helpid)"
   ]
  },
  {
   "cell_type": "code",
   "execution_count": 37,
   "metadata": {},
   "outputs": [
    {
     "name": "stderr",
     "output_type": "stream",
     "text": [
      "100%|██████████| 11.6k/11.6k [00:23<00:00, 485it/s]  \n",
      "100%|██████████| 11618/11618 [00:00<00:00, 340346.31it/s]\n"
     ]
    }
   ],
   "source": [
    "res = parallel_process(idx_lofar_unique, ml_opt, n_jobs=n_cpus)"
   ]
  },
  {
   "cell_type": "code",
   "execution_count": 38,
   "metadata": {},
   "outputs": [
    {
     "name": "stderr",
     "output_type": "stream",
     "text": [
      "/Users/im281/anaconda3/lib/python3.6/site-packages/ipykernel/__main__.py:5: StringTruncateWarning: truncated right side string(s) longer than 1 character(s) during assignment\n"
     ]
    }
   ],
   "source": [
    "#add the crossmatched sources to the radio table\n",
    "(lofar[\"lr_index_opt\"][idx_lofar_unique], \n",
    " lofar[\"lr_dist_opt\"][idx_lofar_unique], \n",
    " lofar[\"lr_opt\"][idx_lofar_unique],\n",
    " lofar[\"lr_reliability_opt\"][idx_lofar_unique],\n",
    " lofar[\"helpid_opt\"][idx_lofar_unique]) = list(map(list, zip(*res)))"
   ]
  },
  {
   "cell_type": "code",
   "execution_count": 39,
   "metadata": {},
   "outputs": [],
   "source": [
    "lofar[\"lr_opt\"][np.isnan(lofar[\"lr_opt\"])] = 0"
   ]
  },
  {
   "cell_type": "code",
   "execution_count": 40,
   "metadata": {},
   "outputs": [
    {
     "data": {
      "text/plain": [
       "3.6805558495398363"
      ]
     },
     "execution_count": 40,
     "metadata": {},
     "output_type": "execute_result"
    }
   ],
   "source": [
    "#calculate the threshold of trusted crossmatches using Q0 as the fraction of sources that have trusted crossmatches\n",
    "mask = (~np.isnan(lofar['lr_dist_opt'])) & (lofar['lr_opt']>0)\n",
    "threshold_opt = np.percentile(lofar[\"lr_opt\"][mask], 100*(1 - Q0_opt))\n",
    "threshold_opt"
   ]
  },
  {
   "cell_type": "code",
   "execution_count": 41,
   "metadata": {},
   "outputs": [
    {
     "data": {
      "image/png": "[encoded data removed]",
      "text/plain": [
       "<matplotlib.figure.Figure at 0x299297208>"
      ]
     },
     "metadata": {},
     "output_type": "display_data"
    }
   ],
   "source": [
    "plt.rcParams[\"figure.figsize\"] = (15,6)\n",
    "plt.subplot(1,2,1)\n",
    "plt.hist(lofar[lofar[\"lr_opt\"] != 0][\"lr_opt\"], bins=200)\n",
    "plt.vlines([threshold_opt], 0, 1000)\n",
    "plt.ylim([0,1000])\n",
    "\n",
    "plt.subplot(1,2,2)\n",
    "plt.hist(np.log10(lofar[lofar[\"lr_opt\"] != 0][\"lr_opt\"]+1), bins=200)\n",
    "plt.vlines(np.log10(threshold_opt+1), 0, 1000)\n",
    "ticks, _ = plt.xticks()\n",
    "plt.xticks(ticks, [\"{:.1f}\".format(10**t-1) for t in ticks])\n",
    "plt.ylim([0,1000]);\n",
    "plt.show()"
   ]
  },
  {
   "cell_type": "code",
   "execution_count": 42,
   "metadata": {},
   "outputs": [
    {
     "name": "stdout",
     "output_type": "stream",
     "text": [
      "number of xmatches above the threshold is 8941\n"
     ]
    }
   ],
   "source": [
    "lofar[\"lr_index_sel_opt\"] = lofar[\"lr_index_opt\"]\n",
    "lofar[\"lr_index_sel_opt\"][lofar[\"lr_opt\"] < threshold_opt] = np.nan\n",
    "print('number of xmatches above the threshold is {}'.format(np.sum(lofar['lr_opt']>threshold_opt)))"
   ]
  },
  {
   "cell_type": "code",
   "execution_count": 43,
   "metadata": {},
   "outputs": [
    {
     "name": "stderr",
     "output_type": "stream",
     "text": [
      "/Users/im281/anaconda3/lib/python3.6/site-packages/astropy/table/column.py:965: RuntimeWarning: invalid value encountered in greater\n",
      "  return getattr(self.data, op)(other)\n",
      "/Users/im281/anaconda3/lib/python3.6/site-packages/astropy/table/column.py:965: RuntimeWarning: invalid value encountered in less\n",
      "  return getattr(self.data, op)(other)\n"
     ]
    },
    {
     "data": {
      "image/png": "[encoded data removed]",
      "text/plain": [
       "<matplotlib.figure.Figure at 0x293788f28>"
      ]
     },
     "metadata": {},
     "output_type": "display_data"
    }
   ],
   "source": [
    "plt.rcParams[\"figure.figsize\"] = (15,5)\n",
    "bins = np.arange(0,search_rad_opt,search_rad_opt/50)\n",
    "plt.subplot(1,3,1)\n",
    "mask = ~np.isnan(lofar['lr_dist_opt'])\n",
    "plt.hist(lofar['lr_dist_opt'][mask],bins=bins,color='red')\n",
    "mask = (lofar['lr_opt'] > threshold_opt) & (~np.isnan(lofar['lr_dist_opt']))\n",
    "plt.hist(lofar['lr_dist_opt'][mask],bins=bins,color='green')\n",
    "plt.xlabel('Seperation (arcseconds)')\n",
    "green_patch = mpatches.Patch(color='green',label='Trusted Crossmatches')\n",
    "red_patch = mpatches.Patch(color='red',label='All Crossmatches')\n",
    "plt.legend(handles=[red_patch,green_patch])\n",
    "\n",
    "plt.subplot(1,3,2)\n",
    "reliability_r = []\n",
    "mask1 = (~np.isnan(lofar['lr_dist_opt']))\n",
    "for n in range(len(bins)-1):\n",
    "    mask = (lofar['lr_dist_opt'] > bins[n]) & (lofar['lr_dist_opt'] < bins[n+1])\n",
    "    mask = mask\n",
    "    rel_temp = lofar['lr_reliability_opt'][mask]\n",
    "    reliability_r.append(np.mean(rel_temp))\n",
    "rad_cent = get_center(bins)\n",
    "plt.plot(rad_cent,reliability_r,color='green')\n",
    "plt.xlabel('Seperation (arcseconds)')\n",
    "plt.ylabel('Reliability')\n",
    "\n",
    "plt.subplot(1,3,3)\n",
    "lrt_r = []\n",
    "mask1 = (~np.isnan(lofar['lr_dist_opt']))\n",
    "for n in range(len(bins)-1):\n",
    "    mask = (lofar['lr_dist_opt'] > bins[n]) & (lofar['lr_dist_opt'] < bins[n+1])\n",
    "    #mask = mask[mask1]\n",
    "    rel_temp = lofar['lr_opt'][mask]\n",
    "    lrt_r.append(np.mean(rel_temp))\n",
    "rad_cent = get_center(bins)\n",
    "plt.plot(rad_cent,lrt_r,color='green')\n",
    "plt.xlabel('Seperation (arcseconds)')\n",
    "plt.ylabel('likelihood ratio')\n",
    "plt.ylim(0,np.max(lrt_r)*1.1)\n",
    "\n",
    "plt.show()"
   ]
  },
  {
   "cell_type": "markdown",
   "metadata": {},
   "source": [
    "#### IR band"
   ]
  },
  {
   "cell_type": "code",
   "execution_count": 44,
   "metadata": {},
   "outputs": [
    {
     "name": "stdout",
     "output_type": "stream",
     "text": [
      "number of LOFAR sources with a possible crossmatch within 15 arcseconds is 11564\n"
     ]
    }
   ],
   "source": [
    "idx_lofar, idx_ir, d2d, d3d = search_around_sky(\n",
    "    lofar_coords, opt_ir_coords[ir_num], radius*u.arcsec)\n",
    "\n",
    "idx_lofar_unique = np.unique(idx_lofar)\n",
    "print('number of LOFAR sources with a possible crossmatch within {} arcseconds is {}'.format(radius,len(idx_lofar_unique)))"
   ]
  },
  {
   "cell_type": "code",
   "execution_count": 45,
   "metadata": {},
   "outputs": [
    {
     "data": {
      "text/plain": [
       "733913"
      ]
     },
     "execution_count": 45,
     "metadata": {},
     "output_type": "execute_result"
    }
   ],
   "source": [
    "len(opt_ir_coords[ir_num])"
   ]
  },
  {
   "cell_type": "code",
   "execution_count": 46,
   "metadata": {},
   "outputs": [
    {
     "data": {
      "text/plain": [
       "733834"
      ]
     },
     "execution_count": 46,
     "metadata": {},
     "output_type": "execute_result"
    }
   ],
   "source": [
    "max(idx_ir)"
   ]
  },
  {
   "cell_type": "code",
   "execution_count": 47,
   "metadata": {},
   "outputs": [
    {
     "name": "stdout",
     "output_type": "stream",
     "text": [
      "number of LOFAR sources with a possible crossmatch within 15 arcseconds is 11564\n"
     ]
    }
   ],
   "source": [
    "radius = 15\n",
    "idx_lofar, idx_ir, d2d, d3d = search_around_sky(\n",
    "    lofar_coords, opt_ir_coords[ir_num], radius*u.arcsec)\n",
    "\n",
    "# create an array of the indexs of lofar sources with a possible crossmatch within the search radius\n",
    "idx_lofar_unique = np.unique(idx_lofar)\n",
    "print('number of LOFAR sources with a possible crossmatch within {} arcseconds is {}'.format(radius,len(idx_lofar_unique)))"
   ]
  },
  {
   "cell_type": "code",
   "execution_count": 48,
   "metadata": {},
   "outputs": [],
   "source": [
    "lofar[\"lr_ir\"] = np.nan                   # Likelihood ratio\n",
    "lofar[\"lr_dist_ir\"] = np.nan              # Distance to the selected source\n",
    "lofar[\"lr_index_ir\"] = np.nan             # Index of the PanSTARRS source in combined\n",
    "lofar[\"lr_reliability_ir\"] = np.nan\n",
    "lofar[\"helpid_ir\"] = ''"
   ]
  },
  {
   "cell_type": "code",
   "execution_count": 49,
   "metadata": {},
   "outputs": [],
   "source": [
    "def ml_ir(i):\n",
    "\n",
    "    idx_0 = idx_ir[idx_lofar == i]\n",
    "    d2d_0 = d2d[idx_lofar == i]\n",
    "    mag = ir_cat[ir_colname][idx_0]\n",
    "    \n",
    "    lofar_ra = lofar[i][\"RA\"]\n",
    "    lofar_dec = lofar[i][\"DEC\"]\n",
    "    lofar_pa = lofar[i][\"PA\"]\n",
    "    lofar_maj_err = lofar[i][\"E_Maj\"]\n",
    "    lofar_min_err = lofar[i][\"E_Min\"]\n",
    "    c_ra = ir_cat[\"ra\"][idx_0]\n",
    "    c_dec = ir_cat[\"dec\"][idx_0]\n",
    "    c_ra_err = 1.0\n",
    "    c_dec_err = 1.0\n",
    "    \n",
    "    sigma, sigma_maj, sigma_min = get_sigma_all(lofar_maj_err, lofar_min_err, lofar_pa, \n",
    "                      lofar_ra, lofar_dec, \n",
    "                      c_ra, c_dec, c_ra_err, c_dec_err)\n",
    "    \n",
    "    lr_0 = likelihood_ratio_ir(mag, d2d_0.arcsec, sigma)\n",
    "    if len(lr_0) == 0:\n",
    "        result = [np.nan,np.nan,np.nan,np.nan,np.nan]\n",
    "        return result\n",
    "    chosen_index = np.argmax(lr_0)\n",
    "    lr_sum = np.sum(lr_0)\n",
    "    rel = lr_0/(lr_sum + (1-Q0_opt))\n",
    "    helpid = ir_cat['help_id'][idx_0][0]\n",
    "    result = [opt_ir_index[ir_num][idx_0[chosen_index]], # Index\n",
    "              (d2d_0.arcsec)[chosen_index],                        # distance\n",
    "              lr_0[chosen_index],\n",
    "              rel[chosen_index],\n",
    "              helpid]                                  # LR\n",
    "    \n",
    "\n",
    "    return(result)\n",
    "    #return (result,rel[chosen_index],helpid)"
   ]
  },
  {
   "cell_type": "code",
   "execution_count": 50,
   "metadata": {},
   "outputs": [
    {
     "name": "stderr",
     "output_type": "stream",
     "text": [
      "100%|██████████| 11.6k/11.6k [00:30<00:00, 379it/s]\n",
      "100%|██████████| 11561/11561 [00:00<00:00, 370865.92it/s]\n"
     ]
    }
   ],
   "source": [
    "res = parallel_process(idx_lofar_unique, ml_ir, n_jobs=n_cpus)"
   ]
  },
  {
   "cell_type": "code",
   "execution_count": 51,
   "metadata": {},
   "outputs": [
    {
     "name": "stderr",
     "output_type": "stream",
     "text": [
      "/Users/im281/anaconda3/lib/python3.6/site-packages/ipykernel/__main__.py:5: StringTruncateWarning: truncated right side string(s) longer than 1 character(s) during assignment\n"
     ]
    }
   ],
   "source": [
    "(lofar[\"lr_index_ir\"][idx_lofar_unique], \n",
    " lofar[\"lr_dist_ir\"][idx_lofar_unique], \n",
    " lofar[\"lr_ir\"][idx_lofar_unique],\n",
    " lofar[\"lr_reliability_ir\"][idx_lofar_unique],\n",
    " lofar[\"helpid_ir\"][idx_lofar_unique]) = list(map(list, zip(*res)))"
   ]
  },
  {
   "cell_type": "code",
   "execution_count": 52,
   "metadata": {},
   "outputs": [],
   "source": [
    "lofar[\"lr_ir\"][np.isnan(lofar[\"lr_ir\"])] = 0"
   ]
  },
  {
   "cell_type": "code",
   "execution_count": 53,
   "metadata": {},
   "outputs": [
    {
     "data": {
      "text/plain": [
       "2.5006399778663124"
      ]
     },
     "execution_count": 53,
     "metadata": {},
     "output_type": "execute_result"
    }
   ],
   "source": [
    "mask = (~np.isnan(lofar['lr_dist_ir'])) & (lofar['lr_ir']>0)\n",
    "threshold_ir = np.percentile(lofar[\"lr_ir\"][mask], 100*(1 - Q0_ir))\n",
    "threshold_ir"
   ]
  },
  {
   "cell_type": "code",
   "execution_count": 54,
   "metadata": {},
   "outputs": [
    {
     "data": {
      "image/png": "[encoded data removed]",
      "text/plain": [
       "<matplotlib.figure.Figure at 0x56735e198>"
      ]
     },
     "metadata": {},
     "output_type": "display_data"
    }
   ],
   "source": [
    "plt.rcParams[\"figure.figsize\"] = (15,6)\n",
    "plt.subplot(1,2,1)\n",
    "plt.hist(lofar[lofar[\"lr_ir\"] != 0][\"lr_ir\"], bins=200)\n",
    "plt.vlines([threshold_ir], 0, 1000)\n",
    "plt.ylim([0,1000])\n",
    "\n",
    "plt.subplot(1,2,2)\n",
    "plt.hist(np.log10(lofar[lofar[\"lr_ir\"] != 0][\"lr_ir\"]+1), bins=200)\n",
    "plt.vlines(np.log10(threshold_ir+1), 0, 1000)\n",
    "ticks, _ = plt.xticks()\n",
    "plt.xticks(ticks, [\"{:.1f}\".format(10**t-1) for t in ticks])\n",
    "plt.ylim([0,1000]);\n",
    "plt.show()"
   ]
  },
  {
   "cell_type": "code",
   "execution_count": 55,
   "metadata": {},
   "outputs": [
    {
     "name": "stdout",
     "output_type": "stream",
     "text": [
      "number of xmatches above the threshold is 9231\n"
     ]
    }
   ],
   "source": [
    "lofar[\"lr_index_sel_ir\"] = lofar[\"lr_index_ir\"]\n",
    "lofar[\"lr_index_sel_ir\"][lofar[\"lr_ir\"] < threshold_ir] = np.nan\n",
    "print('number of xmatches above the threshold is {}'.format(np.sum(lofar['lr_opt']>threshold_ir)))"
   ]
  },
  {
   "cell_type": "code",
   "execution_count": 56,
   "metadata": {},
   "outputs": [
    {
     "name": "stderr",
     "output_type": "stream",
     "text": [
      "/Users/im281/anaconda3/lib/python3.6/site-packages/astropy/table/column.py:965: RuntimeWarning: invalid value encountered in greater\n",
      "  return getattr(self.data, op)(other)\n",
      "/Users/im281/anaconda3/lib/python3.6/site-packages/astropy/table/column.py:965: RuntimeWarning: invalid value encountered in less\n",
      "  return getattr(self.data, op)(other)\n"
     ]
    },
    {
     "data": {
      "image/png": "[encoded data removed]",
      "text/plain": [
       "<matplotlib.figure.Figure at 0x566834748>"
      ]
     },
     "metadata": {},
     "output_type": "display_data"
    }
   ],
   "source": [
    "plt.rcParams[\"figure.figsize\"] = (15,5)\n",
    "bins = np.arange(0,search_rad_opt,search_rad_opt/50)\n",
    "plt.subplot(1,3,1)\n",
    "mask = ~np.isnan(lofar['lr_dist_ir'])\n",
    "plt.hist(lofar['lr_dist_ir'][mask],bins=bins,color='red')\n",
    "mask = (lofar['lr_ir'] > threshold_ir) & (~np.isnan(lofar['lr_dist_ir']))\n",
    "plt.hist(lofar['lr_dist_ir'][mask],bins=bins,color='green')\n",
    "plt.xlabel('Seperation (arcseconds)')\n",
    "green_patch = mpatches.Patch(color='green',label='Trusted Crossmatches')\n",
    "red_patch = mpatches.Patch(color='red',label='All Crossmatches')\n",
    "plt.legend(handles=[red_patch,green_patch])\n",
    "\n",
    "plt.subplot(1,3,2)\n",
    "reliability_r = []\n",
    "mask1 = (~np.isnan(lofar['lr_dist_ir']))\n",
    "for n in range(len(bins)-1):\n",
    "    mask = (lofar['lr_dist_ir'] > bins[n]) & (lofar['lr_dist_ir'] < bins[n+1])\n",
    "    mask = mask\n",
    "    rel_temp = lofar['lr_reliability_ir'][mask]\n",
    "    reliability_r.append(np.mean(rel_temp))\n",
    "rad_cent = get_center(bins)\n",
    "plt.plot(rad_cent,reliability_r,color='green')\n",
    "plt.xlabel('Seperation (arcseconds)')\n",
    "plt.ylabel('Reliability')\n",
    "\n",
    "plt.subplot(1,3,3)\n",
    "lrt_r = []\n",
    "mask1 = (~np.isnan(lofar['lr_dist_ir']))\n",
    "for n in range(len(bins)-1):\n",
    "    mask = (lofar['lr_dist_ir'] > bins[n]) & (lofar['lr_dist_ir'] < bins[n+1])\n",
    "    #mask = mask[mask1]\n",
    "    rel_temp = lofar['lr_ir'][mask]\n",
    "    lrt_r.append(np.mean(rel_temp))\n",
    "rad_cent = get_center(bins)\n",
    "plt.plot(rad_cent,lrt_r,color='green')\n",
    "plt.xlabel('Seperation (arcseconds)')\n",
    "plt.ylabel('likelihood ratio')\n",
    "plt.ylim(0,np.max(lrt_r)*1.1)\n",
    "\n",
    "plt.show()"
   ]
  },
  {
   "cell_type": "markdown",
   "metadata": {},
   "source": [
    "### Final selection of the match\n",
    "\n",
    "We combine the ML matching done in i-band and W1-band. All the galaxies were the LR is above the selection ratio for the respective band are finally selected."
   ]
  },
  {
   "cell_type": "code",
   "execution_count": 57,
   "metadata": {},
   "outputs": [],
   "source": [
    "# lr_opt_and_ir = (lofar[\"lr_opt\"] != 0) & (lofar[\"lr_ir\"] != 0)\n",
    "# lr_only_opt = (lofar[\"lr_opt\"] != 0) & (lofar[\"lr_ir\"] == 0)\n",
    "# lr_only_ir = (lofar[\"lr_opt\"] == 0) & (lofar[\"lr_ir\"] != 0)\n",
    "# lr_no_match = (lofar[\"lr_opt\"] == 0) & (lofar[\"lr_ir\"] == 0)\n",
    "lr_opt_and_ir = ~np.isnan(lofar[\"lr_index_sel_opt\"]) & ~np.isnan(lofar[\"lr_index_sel_ir\"])\n",
    "lr_only_opt = ~np.isnan(lofar[\"lr_index_sel_opt\"]) & np.isnan(lofar[\"lr_index_sel_ir\"])\n",
    "lr_only_ir = np.isnan(lofar[\"lr_index_sel_opt\"]) & ~np.isnan(lofar[\"lr_index_sel_ir\"])\n",
    "lr_no_match = np.isnan(lofar[\"lr_index_sel_opt\"]) & np.isnan(lofar[\"lr_index_sel_ir\"])"
   ]
  },
  {
   "cell_type": "code",
   "execution_count": 58,
   "metadata": {},
   "outputs": [
    {
     "name": "stdout",
     "output_type": "stream",
     "text": [
      "8754\n",
      "187\n",
      "2154\n",
      "540\n"
     ]
    }
   ],
   "source": [
    "print(np.sum(lr_opt_and_ir))\n",
    "print(np.sum(lr_only_opt))\n",
    "print(np.sum(lr_only_ir))\n",
    "print(np.sum(lr_no_match))"
   ]
  },
  {
   "cell_type": "code",
   "execution_count": 59,
   "metadata": {},
   "outputs": [],
   "source": [
    "lofar[\"lr_index_1\"] = np.nan\n",
    "lofar[\"lr_dist_1\"] = np.nan\n",
    "lofar[\"lr_1\"] = np.nan\n",
    "lofar[\"lr_type_1\"] = 0"
   ]
  },
  {
   "cell_type": "code",
   "execution_count": 60,
   "metadata": {},
   "outputs": [],
   "source": [
    "# Only i matches\n",
    "lofar[\"lr_1\"][lr_only_opt] = lofar[\"lr_opt\"][lr_only_opt]\n",
    "lofar[\"lr_index_1\"][lr_only_opt] = lofar[\"lr_index_opt\"][lr_only_opt]\n",
    "lofar[\"lr_dist_1\"][lr_only_opt] = lofar[\"lr_dist_opt\"][lr_only_opt]\n",
    "lofar[\"lr_type_1\"][lr_only_opt] = 1\n",
    "\n",
    "# Only w1 matches\n",
    "lofar[\"lr_1\"][lr_only_ir] = lofar[\"lr_ir\"][lr_only_ir]\n",
    "lofar[\"lr_index_1\"][lr_only_ir] = lofar[\"lr_index_ir\"][lr_only_ir]\n",
    "lofar[\"lr_dist_1\"][lr_only_ir] = lofar[\"lr_dist_ir\"][lr_only_ir]\n",
    "lofar[\"lr_type_1\"][lr_only_ir] = 2\n",
    "\n",
    "# Both matches\n",
    "lofar[\"lr_1\"][lr_opt_and_ir] = np.max([lofar[\"lr_opt\"][lr_opt_and_ir], lofar[\"lr_ir\"][lr_opt_and_ir]], axis=0)\n",
    "lofar[\"lr_type_1\"][lr_opt_and_ir] = np.argmax([lofar[\"lr_opt\"][lr_opt_and_ir], lofar[\"lr_ir\"][lr_opt_and_ir]], axis=0) + 1\n",
    "\n",
    "c1 = (lofar[\"lr_type_1\"] == 1)\n",
    "c2 = (lofar[\"lr_type_1\"] == 2)\n",
    "lofar[\"lr_index_1\"][lr_opt_and_ir & c1] = lofar[\"lr_index_opt\"][lr_opt_and_ir & c1]\n",
    "lofar[\"lr_index_1\"][lr_opt_and_ir & c2] = lofar[\"lr_index_ir\"][lr_opt_and_ir & c2]\n",
    "lofar[\"lr_dist_1\"][lr_opt_and_ir & c1] = lofar[\"lr_dist_opt\"][lr_opt_and_ir & c1]\n",
    "lofar[\"lr_dist_1\"][lr_opt_and_ir & c2] = lofar[\"lr_dist_ir\"][lr_opt_and_ir & c2]"
   ]
  },
  {
   "cell_type": "code",
   "execution_count": 61,
   "metadata": {},
   "outputs": [
    {
     "name": "stdout",
     "output_type": "stream",
     "text": [
      "match    sel-opt:  398\n",
      "match   sel-ir:  8356\n",
      "match     both:  8754\n",
      "match   opt-only:  187\n",
      "match  ir-only:  2154\n",
      "match      all:  11095\n",
      "         Total:  11635\n"
     ]
    }
   ],
   "source": [
    "print(\"match    sel-opt: \", np.sum(lofar[\"lr_type_1\"][lr_opt_and_ir] == 1))\n",
    "print(\"match   sel-ir: \", np.sum(lofar[\"lr_type_1\"][lr_opt_and_ir] == 2))\n",
    "print(\"match     both: \", np.sum(lofar[\"lr_type_1\"][lr_opt_and_ir] == 1) + \n",
    "                          np.sum(lofar[\"lr_type_1\"][lr_opt_and_ir] == 2))\n",
    "print(\"match   opt-only: \", np.sum(lofar[\"lr_type_1\"] == 1) - np.sum(lofar[\"lr_type_1\"][lr_opt_and_ir] == 1))\n",
    "print(\"match  ir-only: \", np.sum(lofar[\"lr_type_1\"] == 2) - np.sum(lofar[\"lr_type_1\"][lr_opt_and_ir] == 2))\n",
    "print(\"match      all: \", np.sum(lofar[\"lr_type_1\"] == 1) + \n",
    "                          np.sum(lofar[\"lr_type_1\"] == 2))\n",
    "print(\"         Total: \", len(lofar))"
   ]
  },
  {
   "cell_type": "code",
   "execution_count": 62,
   "metadata": {},
   "outputs": [
    {
     "name": "stdout",
     "output_type": "stream",
     "text": [
      "number of sources for which the match in opt-band and ir-band are above the threshold but gives a different match to the combined catalogue is 1038\n"
     ]
    }
   ],
   "source": [
    "print('number of sources for which the match in opt-band and ir-band are above the threshold but gives a different match to the combined catalogue is {}'.format(np.sum(lofar[\"lr_index_opt\"][lr_opt_and_ir] != lofar[\"lr_index_ir\"][lr_opt_and_ir])))"
   ]
  },
  {
   "cell_type": "markdown",
   "metadata": {},
   "source": [
    "### Define the colour bins to be used later\n",
    "\n",
    "Create color bins in the opt-ir plane."
   ]
  },
  {
   "cell_type": "code",
   "execution_count": 63,
   "metadata": {},
   "outputs": [],
   "source": [
    "colour_limits = [0.0, 0.5, 1.0, 1.25, 1.5, 1.75, 2.0, 2.25, 2.5, 2.75, 3.0, 3.5, 4.0]"
   ]
  },
  {
   "cell_type": "code",
   "execution_count": 64,
   "metadata": {},
   "outputs": [
    {
     "name": "stderr",
     "output_type": "stream",
     "text": [
      "/Users/im281/anaconda3/lib/python3.6/site-packages/astropy/table/column.py:965: RuntimeWarning: invalid value encountered in less\n",
      "  return getattr(self.data, op)(other)\n",
      "/Users/im281/anaconda3/lib/python3.6/site-packages/astropy/table/column.py:965: RuntimeWarning: invalid value encountered in greater_equal\n",
      "  return getattr(self.data, op)(other)\n"
     ]
    }
   ],
   "source": [
    "# start with the only opt or ir detected and the colour < lowest colour bin \n",
    "colour_bin_def = [{\"name\":\"only W1\", \"condition\": opt_ir_num_ir},\n",
    "                  {\"name\":\"only i\", \"condition\": opt_ir_num_opt},\n",
    "                  {\"name\":\"-inf to {}\".format(colour_limits[0]), \n",
    "                   \"condition\": (opt_ir[\"colour\"] < colour_limits[0])}]\n",
    "\n",
    "# Get the colour bins\n",
    "for i in range(len(colour_limits)-1):\n",
    "    name = \"{} to {}\".format(colour_limits[i], colour_limits[i+1])\n",
    "    condition = ((opt_ir[\"colour\"] >= colour_limits[i]) & \n",
    "                 (opt_ir[\"colour\"] < colour_limits[i+1]))\n",
    "    colour_bin_def.append({\"name\":name, \"condition\":condition})\n",
    "\n",
    "# Add the \"more than higher colour\" bin\n",
    "colour_bin_def.append({\"name\":\"{} to inf\".format(colour_limits[-1]), \n",
    "                       \"condition\": (opt_ir[\"colour\"] >= colour_limits[-1])})"
   ]
  },
  {
   "cell_type": "code",
   "execution_count": 65,
   "metadata": {},
   "outputs": [],
   "source": [
    "# assign every source a number based on which colour bin it is in\n",
    "opt_ir[\"category\"] = np.nan\n",
    "for i in range(len(colour_bin_def)):\n",
    "    opt_ir[\"category\"][colour_bin_def[i][\"condition\"]] = i"
   ]
  },
  {
   "cell_type": "code",
   "execution_count": 66,
   "metadata": {},
   "outputs": [
    {
     "data": {
      "text/plain": [
       "array([237371, 662040,  30068,  34848,  56371,  37158,  41589,  42615,\n",
       "        40476,  36416,  31998,  27124,  22618,  35954,  25546,  33761])"
      ]
     },
     "execution_count": 66,
     "metadata": {},
     "output_type": "execute_result"
    }
   ],
   "source": [
    "numbers_combined_bins = np.array([np.sum(a[\"condition\"]) for a in colour_bin_def])\n",
    "numbers_combined_bins"
   ]
  },
  {
   "cell_type": "markdown",
   "metadata": {},
   "source": [
    "## Skipped bit on duplicated sources"
   ]
  },
  {
   "cell_type": "code",
   "execution_count": 67,
   "metadata": {},
   "outputs": [
    {
     "data": {
      "text/plain": [
       "array([237371, 662040,  30068,  34848,  56371,  37158,  41589,  42615,\n",
       "        40476,  36416,  31998,  27124,  22618,  35954,  25546,  33761])"
      ]
     },
     "execution_count": 67,
     "metadata": {},
     "output_type": "execute_result"
    }
   ],
   "source": [
    "bin_list = [bin_list_ir if i == 0 else bin_list_opt for i in range(len(colour_bin_def))]\n",
    "centers = [center_ir if i == 0 else center_opt for i in range(len(colour_bin_def))]\n",
    "\n",
    "numbers_combined_bins = np.array([np.sum(a[\"condition\"]) for a in colour_bin_def])\n",
    "bandwidth_colour = [0.5, 0.5, 0.5, 0.5, 0.5, 0.5, 0.5,0.5, 0.5, 0.5, 0.5, 0.5, 0.5, 0.5, 0.5, 0.5]\n",
    "numbers_combined_bins"
   ]
  },
  {
   "cell_type": "code",
   "execution_count": 68,
   "metadata": {},
   "outputs": [],
   "source": [
    "#Calculate n(m) and q(m) within each colour bin to give n(m,c) and q(m,c)\n",
    "n_m_kde = []\n",
    "\n",
    "# W1 only sources\n",
    "n_m_kde.append(get_n_m_kde(opt_ir[ir_colname][opt_ir[\"category\"] == 0], \n",
    "                       centers[0], field.area, bandwidth=bandwidth_colour[0]))\n",
    "\n",
    "# Rest of the sources\n",
    "for i in range(1, len(colour_bin_def)):\n",
    "    n_m_kde.append(get_n_m_kde(opt_ir[opt_colname][opt_ir[\"category\"] == i], \n",
    "                           centers[i], field.area, bandwidth=bandwidth_colour[i]))"
   ]
  },
  {
   "cell_type": "code",
   "execution_count": 69,
   "metadata": {},
   "outputs": [],
   "source": [
    "n_m = []\n",
    "\n",
    "# W1 only sources\n",
    "n_m.append(get_n_m(opt_ir[ir_colname][opt_ir[\"category\"] == 0], bin_list_ir, field.area))\n",
    "\n",
    "# Rest of the sources\n",
    "for i in range(1, len(colour_bin_def)):\n",
    "    n_m.append(get_n_m(opt_ir[opt_colname][opt_ir[\"category\"] == i], bin_list_opt, field.area))"
   ]
  },
  {
   "cell_type": "code",
   "execution_count": 70,
   "metadata": {},
   "outputs": [
    {
     "data": {
      "image/png": "[encoded data removed]",
      "text/plain": [
       "<matplotlib.figure.Figure at 0x42a3b3358>"
      ]
     },
     "metadata": {},
     "output_type": "display_data"
    }
   ],
   "source": [
    "plt.rcParams[\"figure.figsize\"] = (15,15)\n",
    "for i, n_m_k in enumerate(n_m_kde):\n",
    "    plt.subplot(5,5,i+1)\n",
    "    plt.plot(centers[i], n_m[i])\n",
    "    plt.plot(centers[i], np.cumsum(n_m_k))\n",
    "plt.show()"
   ]
  },
  {
   "cell_type": "code",
   "execution_count": 71,
   "metadata": {},
   "outputs": [],
   "source": [
    "lofar[\"category\"] = np.nan\n",
    "lofar[ir_colname] = np.nan\n",
    "lofar[opt_colname] = np.nan"
   ]
  },
  {
   "cell_type": "code",
   "execution_count": 72,
   "metadata": {},
   "outputs": [],
   "source": [
    "c = ~np.isnan(lofar[\"lr_index_1\"])\n",
    "indices = lofar[\"lr_index_1\"][c].astype(int)\n",
    "lofar[\"category\"][c] = opt_ir[indices][\"category\"]\n",
    "lofar[ir_colname][c] = opt_ir[indices][ir_colname]\n",
    "lofar[opt_colname][c] = opt_ir[indices][opt_colname]"
   ]
  },
  {
   "cell_type": "markdown",
   "metadata": {},
   "source": [
    "The next parameter represent the number of matched LOFAR sources in each colour category."
   ]
  },
  {
   "cell_type": "code",
   "execution_count": 73,
   "metadata": {},
   "outputs": [
    {
     "data": {
      "text/plain": [
       "array([2624,  273,   31,  224,  621,  375,  406,  420,  392,  410,  404,\n",
       "        464,  494, 1020, 1022, 1915])"
      ]
     },
     "execution_count": 73,
     "metadata": {},
     "output_type": "execute_result"
    }
   ],
   "source": [
    "numbers_lofar_combined_bins = np.array([np.sum(lofar[\"category\"] == c) \n",
    "                                        for c in range(len(numbers_combined_bins))])\n",
    "numbers_lofar_combined_bins"
   ]
  },
  {
   "cell_type": "code",
   "execution_count": 74,
   "metadata": {},
   "outputs": [
    {
     "data": {
      "text/plain": [
       "0.9535883111302105"
      ]
     },
     "execution_count": 74,
     "metadata": {},
     "output_type": "execute_result"
    }
   ],
   "source": [
    "#Q0(c) is defined as the fraction of trsuted crossmatches in each category to give a value of Q0 in each category\n",
    "#and Q0(c) is the sum of these individual Q0's divided by the total number of radio sources\n",
    "Q_0_colour = numbers_lofar_combined_bins/len(lofar)\n",
    "q0_total = np.sum(Q_0_colour)\n",
    "q0_total"
   ]
  },
  {
   "cell_type": "code",
   "execution_count": 75,
   "metadata": {},
   "outputs": [],
   "source": [
    "#calculate q(m) in each colour bin to calculate q(m,c)\n",
    "q_m = []\n",
    "radius = 15. \n",
    "\n",
    "# W1 only sources\n",
    "q_m.append(get_q_m(lofar[ir_colname][lofar[\"category\"] == 0], \n",
    "                   bin_list_ir, \n",
    "                   numbers_lofar_combined_bins[0], \n",
    "                   n_m[0], \n",
    "                   field.area, \n",
    "                   radius=radius))\n",
    "\n",
    "# Rest of the sources\n",
    "for i in range(1, len(numbers_lofar_combined_bins)):\n",
    "    q_m.append(get_q_m(lofar[opt_colname][lofar[\"category\"] == i], \n",
    "                   bin_list_opt, \n",
    "                   numbers_lofar_combined_bins[i], \n",
    "                   n_m[i], \n",
    "                   field.area, \n",
    "                   radius=radius))"
   ]
  },
  {
   "cell_type": "code",
   "execution_count": 76,
   "metadata": {},
   "outputs": [],
   "source": [
    "q_m_kde = []\n",
    "radius = 15. \n",
    "\n",
    "# W1 only sources\n",
    "q_m_kde.append(get_q_m_kde(lofar[ir_colname][lofar[\"category\"] == 0], \n",
    "                   centers[0], \n",
    "                   radius=radius,\n",
    "                   bandwidth=0.5))\n",
    "\n",
    "# Rest of the sources\n",
    "for i in range(1, len(numbers_lofar_combined_bins)):\n",
    "    q_m_kde.append(get_q_m_kde(lofar[opt_colname][lofar[\"category\"] == i], \n",
    "                   centers[i], \n",
    "                   radius=radius,\n",
    "                   bandwidth=bandwidth_colour[i]))"
   ]
  },
  {
   "cell_type": "code",
   "execution_count": 77,
   "metadata": {},
   "outputs": [
    {
     "data": {
      "text/plain": [
       "array([16.25, 16.75, 17.25, 17.75, 18.25, 18.75, 19.25, 19.75, 20.25,\n",
       "       20.75, 21.25, 21.75, 22.25, 22.75, 23.25, 23.75, 24.25, 24.75,\n",
       "       25.25, 25.75, 26.25, 26.75, 27.25])"
      ]
     },
     "execution_count": 77,
     "metadata": {},
     "output_type": "execute_result"
    }
   ],
   "source": [
    "np.ones_like(23)\n",
    "centers[0]"
   ]
  },
  {
   "cell_type": "code",
   "execution_count": 78,
   "metadata": {},
   "outputs": [
    {
     "data": {
      "text/plain": [
       "array([0.5, 0.5, 0.5, 0.5, 0.5, 0.5, 0.5, 0.5, 0.5, 0.5, 0.5, 0.5, 0.5,\n",
       "       0.5, 0.5, 0.5, 0.5, 0.5, 0.5, 0.5, 0.5, 0.5, 0.5])"
      ]
     },
     "execution_count": 78,
     "metadata": {},
     "output_type": "execute_result"
    }
   ],
   "source": [
    "np.ones_like(centers[0])*0.5"
   ]
  },
  {
   "cell_type": "code",
   "execution_count": 79,
   "metadata": {},
   "outputs": [
    {
     "data": {
      "image/png": "[encoded data removed]",
      "text/plain": [
       "<matplotlib.figure.Figure at 0x42c0d8518>"
      ]
     },
     "metadata": {},
     "output_type": "display_data"
    }
   ],
   "source": [
    "plt.rcParams[\"figure.figsize\"] = (15,15)\n",
    "for i, q_m_k in enumerate(q_m_kde):\n",
    "    plt.subplot(5,5,i+1)\n",
    "    plt.plot(centers[i], q_m[i])\n",
    "    plt.plot(centers[i], np.cumsum(q_m_k))\n",
    "plt.show()"
   ]
  },
  {
   "cell_type": "code",
   "execution_count": 80,
   "metadata": {},
   "outputs": [
    {
     "name": "stderr",
     "output_type": "stream",
     "text": [
      "/Users/im281/anaconda3/lib/python3.6/site-packages/ipykernel/__main__.py:22: RuntimeWarning: invalid value encountered in true_divide\n"
     ]
    },
    {
     "data": {
      "image/png": "[encoded data removed]",
      "text/plain": [
       "<matplotlib.figure.Figure at 0x29dfef0b8>"
      ]
     },
     "metadata": {},
     "output_type": "display_data"
    }
   ],
   "source": [
    "#plot q(m,c)/n(m,c) to see that everthing looks okay. The width of the line shows how many sources are in the bin\n",
    "plt.rcParams[\"figure.figsize\"] = (12,10)\n",
    "\n",
    "from matplotlib import cm\n",
    "from matplotlib.collections import LineCollection\n",
    "\n",
    "cm_subsection = np.linspace(0., 1., 16) \n",
    "colors = [ cm.viridis(x) for x in cm_subsection ]\n",
    "\n",
    "low = np.nonzero(centers[1] >= 15)[0][0]\n",
    "high = np.nonzero(centers[1] >= 22.2)[0][0]\n",
    "\n",
    "fig, a = plt.subplots()\n",
    "\n",
    "for i, q_m_k in enumerate(q_m):\n",
    "    #plot(centers[i], q_m_old[i]/n_m_old[i])\n",
    "    a = plt.subplot(4,4,i+1)\n",
    "    if i not in [-1]:\n",
    "        n_m_aux = n_m[i]/np.sum(n_m[i])\n",
    "        lwidths = (n_m_aux/np.max(n_m_aux)*10).astype(float) + 1\n",
    "        #print(lwidths)\n",
    "        \n",
    "        y_aux = q_m_k/n_m[i]\n",
    "        mask = ~np.isnan(y_aux)\n",
    "        y_aux = y_aux[mask]\n",
    "        factor = np.max(y_aux[low:high])\n",
    "        y = y_aux\n",
    "        #print(y)\n",
    "        x = centers[i]\n",
    "        \n",
    "        points = np.array([x, y]).T.reshape(-1, 1, 2)\n",
    "        segments = np.concatenate([points[:-1], points[1:]], axis=1)\n",
    "        \n",
    "        lc = LineCollection(segments, linewidths=lwidths, color=colors[i])\n",
    "        \n",
    "        a.add_collection(lc)\n",
    "        \n",
    "        #plot(centers[i], x/factor, color=colors[i-1])\n",
    "        plt.xlim([12, 30])\n",
    "        if i == 0:\n",
    "            plt.xlim([10, 23])\n",
    "        plt.ylim([0, 1.2*factor])\n",
    "\n",
    "plt.subplots_adjust(left=0.125, \n",
    "                bottom=0.1, \n",
    "                right=0.9, \n",
    "                top=0.9,\n",
    "                wspace=0.4, \n",
    "                hspace=0.2)\n",
    "plt.show()"
   ]
  },
  {
   "cell_type": "code",
   "execution_count": 81,
   "metadata": {},
   "outputs": [],
   "source": [
    "selection = ~np.isnan(opt_ir[\"category\"]) # Avoid the two dreaded sources with no actual data\n",
    "catalogue = opt_ir[selection]"
   ]
  },
  {
   "cell_type": "code",
   "execution_count": 82,
   "metadata": {},
   "outputs": [],
   "source": [
    "radius = 15"
   ]
  },
  {
   "cell_type": "code",
   "execution_count": 83,
   "metadata": {},
   "outputs": [],
   "source": [
    "def apply_ml(i, likelihood_ratio_function):\n",
    "    idx_0 = idx_i[idx_lofar == i]\n",
    "    d2d_0 = d2d[idx_lofar == i]\n",
    "    \n",
    "    category = catalogue[\"category\"][idx_0].astype(int)\n",
    "    mag = catalogue[opt_colname][idx_0]\n",
    "    mag[category == 0] = catalogue[ir_colname][idx_0][category == 0]\n",
    "    \n",
    "    lofar_ra = lofar[i][\"RA\"]\n",
    "    lofar_dec = lofar[i][\"DEC\"]\n",
    "    lofar_pa = lofar[i][\"PA\"]\n",
    "    lofar_maj_err = lofar[i][\"E_Maj\"]\n",
    "    lofar_min_err = lofar[i][\"E_Min\"]\n",
    "    c_ra = catalogue[\"ra\"][idx_0]\n",
    "    c_dec = catalogue[\"dec\"][idx_0]\n",
    "    c_ra_err = 1.0\n",
    "    c_dec_err = 1.0\n",
    "    \n",
    "    sigma, sigma_maj, sigma_min = get_sigma_all(lofar_maj_err, lofar_min_err, lofar_pa, \n",
    "                      lofar_ra, lofar_dec, \n",
    "                      c_ra, c_dec, c_ra_err, c_dec_err)\n",
    "\n",
    "    lr_0 = likelihood_ratio_function(mag, d2d_0.arcsec, sigma, category)\n",
    "    if len(lr_0) == 0:\n",
    "\n",
    "        result = [np.nan,np.nan,np.nan,np.nan,np.nan]\n",
    "        return result\n",
    "    chosen_index = np.argmax(lr_0)\n",
    "    lr_sum = np.sum(lr_0)\n",
    "    rel = lr_0/(lr_sum + (1-q0_total))\n",
    "    helpid = catalogue['help_id'][idx_0][0]\n",
    "    result = [opt_ir_index[selection][idx_0[chosen_index]], # Index\n",
    "              (d2d_0.arcsec)[chosen_index],                        # distance\n",
    "              lr_0[chosen_index],\n",
    "              rel[chosen_index],\n",
    "              helpid]                                  # LR\n",
    "    return result"
   ]
  },
  {
   "cell_type": "markdown",
   "metadata": {},
   "source": [
    "### Run the cross-match\n",
    "\n",
    "This will not need to be repeated after"
   ]
  },
  {
   "cell_type": "code",
   "execution_count": 84,
   "metadata": {},
   "outputs": [],
   "source": [
    "idx_lofar, idx_i, d2d, d3d = search_around_sky(\n",
    "    lofar_coords, opt_ir_coords[selection], radius*u.arcsec)\n",
    "idx_lofar_unique = np.unique(idx_lofar)"
   ]
  },
  {
   "cell_type": "code",
   "execution_count": 85,
   "metadata": {},
   "outputs": [],
   "source": [
    "likelihood_ratio = MultiMLEstimator(Q_0_colour, n_m_kde, q_m_kde, centers)"
   ]
  },
  {
   "cell_type": "code",
   "execution_count": 86,
   "metadata": {},
   "outputs": [],
   "source": [
    "def ml(i):\n",
    "    return apply_ml(i, likelihood_ratio)"
   ]
  },
  {
   "cell_type": "code",
   "execution_count": 87,
   "metadata": {},
   "outputs": [
    {
     "name": "stderr",
     "output_type": "stream",
     "text": [
      "100%|██████████| 11.6k/11.6k [00:20<00:00, 565it/s]  \n",
      "100%|██████████| 11626/11626 [00:00<00:00, 337044.87it/s]\n"
     ]
    }
   ],
   "source": [
    "res = parallel_process(idx_lofar_unique, ml, n_jobs=n_cpus)"
   ]
  },
  {
   "cell_type": "code",
   "execution_count": 88,
   "metadata": {},
   "outputs": [],
   "source": [
    "lofar[\"lr_index_2\"] = np.nan\n",
    "lofar[\"lr_dist_2\"] = np.nan\n",
    "lofar[\"lr_2\"] = np.nan\n",
    "lofar[\"lr_reliability_2\"] = np.nan\n",
    "lofar[\"helpid_2\"] = ''"
   ]
  },
  {
   "cell_type": "code",
   "execution_count": 89,
   "metadata": {},
   "outputs": [
    {
     "name": "stderr",
     "output_type": "stream",
     "text": [
      "/Users/im281/anaconda3/lib/python3.6/site-packages/ipykernel/__main__.py:5: StringTruncateWarning: truncated right side string(s) longer than 1 character(s) during assignment\n"
     ]
    }
   ],
   "source": [
    "(lofar[\"lr_index_2\"][idx_lofar_unique], \n",
    " lofar[\"lr_dist_2\"][idx_lofar_unique], \n",
    " lofar[\"lr_2\"][idx_lofar_unique],\n",
    " lofar[\"lr_reliability_2\"][idx_lofar_unique],\n",
    " lofar[\"helpid_2\"][idx_lofar_unique]) = list(map(list, zip(*res)))"
   ]
  },
  {
   "cell_type": "code",
   "execution_count": 90,
   "metadata": {},
   "outputs": [
    {
     "data": {
      "text/plain": [
       "0.2679172162722483"
      ]
     },
     "execution_count": 90,
     "metadata": {},
     "output_type": "execute_result"
    }
   ],
   "source": [
    "lofar[\"lr_2\"][np.isnan(lofar[\"lr_2\"])] = 0\n",
    "\n",
    "mask = (~np.isnan(lofar[\"lr_dist_2\"])) & (lofar['lr_2']>0)\n",
    "threshold = np.percentile(lofar[\"lr_2\"][mask], 100*(1 - q0_total))\n",
    "threshold"
   ]
  },
  {
   "cell_type": "code",
   "execution_count": 91,
   "metadata": {},
   "outputs": [
    {
     "data": {
      "image/png": "[encoded data removed]",
      "text/plain": [
       "<matplotlib.figure.Figure at 0x570d4fe48>"
      ]
     },
     "metadata": {},
     "output_type": "display_data"
    }
   ],
   "source": [
    "plt.rcParams[\"figure.figsize\"] = (15,6)\n",
    "plt.subplot(1,2,1)\n",
    "plt.hist(lofar[lofar[\"lr_2\"] != 0][\"lr_2\"], bins=200)\n",
    "plt.vlines([threshold], 0, 1000)\n",
    "plt.ylim([0,1000])\n",
    "plt.subplot(1,2,2)\n",
    "plt.hist(np.log10(lofar[lofar[\"lr_2\"] != 0][\"lr_2\"]+1), bins=200)\n",
    "plt.vlines(np.log10(threshold+1), 0, 1000)\n",
    "ticks, _ = plt.xticks()\n",
    "plt.xticks(ticks, [\"{:.1f}\".format(10**t-1) for t in ticks])\n",
    "plt.ylim([0,1000]);\n",
    "plt.show()"
   ]
  },
  {
   "cell_type": "code",
   "execution_count": 92,
   "metadata": {},
   "outputs": [],
   "source": [
    "lofar[\"lr_index_sel_2\"] = lofar[\"lr_index_2\"]\n",
    "lofar[\"lr_index_sel_2\"][lofar[\"lr_2\"] < threshold] = np.nan"
   ]
  },
  {
   "cell_type": "code",
   "execution_count": 93,
   "metadata": {},
   "outputs": [
    {
     "data": {
      "text/plain": [
       "248"
      ]
     },
     "execution_count": 93,
     "metadata": {},
     "output_type": "execute_result"
    }
   ],
   "source": [
    "n_changes = np.sum((lofar[\"lr_index_sel_2\"] != lofar[\"lr_index_1\"]) & \n",
    "                   ~np.isnan(lofar[\"lr_index_sel_2\"]) &\n",
    "                   ~np.isnan(lofar[\"lr_index_1\"]))\n",
    "n_changes"
   ]
  },
  {
   "cell_type": "code",
   "execution_count": 94,
   "metadata": {},
   "outputs": [],
   "source": [
    "lofar[\"category\"] = np.nan\n",
    "lofar[ir_colname] = np.nan\n",
    "lofar[opt_colname] = np.nan\n",
    "\n",
    "c = ~np.isnan(lofar[\"lr_index_sel_2\"])\n",
    "indices = lofar[\"lr_index_sel_2\"][c].astype(int)\n",
    "lofar[\"category\"][c] = opt_ir[indices][\"category\"]\n",
    "lofar[ir_colname][c] = opt_ir[indices][ir_colname]\n",
    "lofar[opt_colname][c] = opt_ir[indices][opt_colname]"
   ]
  },
  {
   "cell_type": "code",
   "execution_count": 95,
   "metadata": {},
   "outputs": [
    {
     "data": {
      "text/plain": [
       "array([2700,   89,   26,  221,  618,  375,  417,  423,  391,  415,  408,\n",
       "        470,  501, 1039, 1044, 1952])"
      ]
     },
     "execution_count": 95,
     "metadata": {},
     "output_type": "execute_result"
    }
   ],
   "source": [
    "numbers_lofar_combined_bins = np.array([np.sum(lofar[\"category\"] == c) \n",
    "                                        for c in range(len(numbers_combined_bins))])\n",
    "numbers_lofar_combined_bins"
   ]
  },
  {
   "cell_type": "markdown",
   "metadata": {},
   "source": [
    "## Skipped rerun iter section"
   ]
  },
  {
   "cell_type": "code",
   "execution_count": 96,
   "metadata": {},
   "outputs": [],
   "source": [
    "def plot_q_n_m(q_m, n_m):\n",
    "    fig, a = plt.subplots()\n",
    "\n",
    "    for i, q_m_k in enumerate(q_m):\n",
    "        #plot(centers[i], q_m_old[i]/n_m_old[i])\n",
    "        a = plt.subplot(4,4,i+1)\n",
    "        if i not in [-1]:\n",
    "            n_m_aux = n_m[i]/np.sum(n_m[i])\n",
    "            lwidths = (n_m_aux/np.max(n_m_aux)*10).astype(float) + 1\n",
    "            #print(lwidths)\n",
    "\n",
    "            y_aux = q_m_k/n_m[i]\n",
    "            \n",
    "            y = y_aux\n",
    "            mask = ~np.isnan(y_aux)\n",
    "            y_aux = y_aux[mask]\n",
    "            factor = np.max(y_aux[low:high])\n",
    "            #print(y)\n",
    "            x = centers[i]\n",
    "\n",
    "            points = np.array([x, y]).T.reshape(-1, 1, 2)\n",
    "            segments = np.concatenate([points[:-1], points[1:]], axis=1)\n",
    "\n",
    "            lc = LineCollection(segments, linewidths=lwidths, color=colors[i])\n",
    "\n",
    "            a.add_collection(lc)\n",
    "\n",
    "            #plot(centers[i], x/factor, color=colors[i-1])\n",
    "            plt.xlim([12, 30])\n",
    "            if i == 0:\n",
    "                plt.xlim([10,23])\n",
    "            plt.ylim([0, 1.2*factor])\n",
    "\n",
    "    plt.subplots_adjust(left=0.125, \n",
    "                    bottom=0.1, \n",
    "                    right=0.9, \n",
    "                    top=0.9,\n",
    "                    wspace=0.4, \n",
    "                    hspace=0.2)\n",
    "    return fig"
   ]
  },
  {
   "cell_type": "code",
   "execution_count": null,
   "metadata": {},
   "outputs": [],
   "source": []
  },
  {
   "cell_type": "code",
   "execution_count": null,
   "metadata": {},
   "outputs": [],
   "source": []
  },
  {
   "cell_type": "code",
   "execution_count": 99,
   "metadata": {},
   "outputs": [],
   "source": [
    "#create a copy of the radio catalogue for debugging\n",
    "#original = lofar.copy()"
   ]
  },
  {
   "cell_type": "code",
   "execution_count": 100,
   "metadata": {},
   "outputs": [],
   "source": [
    "#lofar = original.copy()"
   ]
  },
  {
   "cell_type": "code",
   "execution_count": 101,
   "metadata": {},
   "outputs": [],
   "source": [
    "#Calculate the LR for radio sources using color\n",
    "#returns the reliability and other parameters for each potential crossmatch to allow comparison\n",
    "#the column lr_max is set to true for the crossmatch with the highest LR for each radio source\n",
    "\n",
    "#the column lr_sel is set to true for the crossmatch with the highest LR for each radio source \n",
    "#but will later be set to false if the LR is below the threshold\n",
    "\n",
    "def apply_ml_all(i, likelihood_ratio_function):\n",
    "    \n",
    "    #print(i)\n",
    "    \n",
    "    idx_0 = idx_i[idx_lofar == i]\n",
    "    d2d_0 = d2d[idx_lofar == i]\n",
    "    if len(idx_0) == 0:\n",
    "        #print('no sources within search radius')\n",
    "        temp = Table()\n",
    "        col_index = Column(np.nan,name='lr_index_{}'.format(iteration))\n",
    "        col_d2d = Column(np.nan,name='lr_dist_{}'.format(iteration))\n",
    "        col_lr = Column(np.nan,name='lr_{}'.format(iteration))\n",
    "        col_rel = Column(np.nan,name='lr_reliability_{}'.format(iteration))\n",
    "        col_sourceid = Column(np.nan,name='Source_id')\n",
    "        col_helpid = Column('',name='help_id')\n",
    "        col_lr_max = Column(False,name='lr_max_{}'.format(iteration))\n",
    "        col_lr_sel = Column(False,name='lr_sel_{}'.format(iteration))\n",
    "        temp.add_columns([col_index,col_d2d,col_lr,col_rel,col_sourceid,col_helpid,col_lr_max,col_lr_sel])\n",
    "        return temp,0\n",
    "    \n",
    "    category = catalogue[\"category\"][idx_0].astype(int)\n",
    "    mag = catalogue[opt_colname][idx_0]\n",
    "    mag[category == 0] = catalogue[ir_colname][idx_0][category == 0]\n",
    "    #print(mag)\n",
    "    \n",
    "    lofar_ra = lofar[i][\"RA\"]\n",
    "    lofar_dec = lofar[i][\"DEC\"]\n",
    "    lofar_pa = lofar[i][\"PA\"]\n",
    "    lofar_maj_err = lofar[i][\"E_Maj\"]\n",
    "    lofar_min_err = lofar[i][\"E_Min\"]\n",
    "    c_ra = catalogue[\"ra\"][idx_0]\n",
    "    c_dec = catalogue[\"dec\"][idx_0]\n",
    "    c_ra_err = 1.0\n",
    "    c_dec_err = 1.0\n",
    "    \n",
    "    sigma, sigma_maj, sigma_min = get_sigma_all(lofar_maj_err, lofar_min_err, lofar_pa, \n",
    "                      lofar_ra, lofar_dec, \n",
    "                      c_ra, c_dec, c_ra_err, c_dec_err)\n",
    "\n",
    "    lr_0 = likelihood_ratio_function(mag, d2d_0.arcsec, sigma, category)\n",
    "    #print(lr_0)\n",
    "\n",
    "    chosen_index = np.argmax(lr_0)\n",
    "    lr_sum = np.sum(lr_0)\n",
    "    rel = lr_0/(lr_sum + (1-q0_total))\n",
    "    helpid = catalogue['help_id'][idx_0]\n",
    "    sourceid = (np.zeros(len(lr_0)) + np.unique(lofar['Source_id'])[i]).astype('int')\n",
    "    col_index = Column(opt_ir_index[selection][idx_0],name='lr_index_{}'.format(iteration))\n",
    "    col_d2d = Column(d2d_0.arcsec,name='lr_dist_{}'.format(iteration))\n",
    "    col_lr = Column(lr_0,name='lr_{}'.format(iteration))\n",
    "    col_rel = Column(rel,name='lr_reliability_{}'.format(iteration))\n",
    "    col_sourceid = Column(sourceid,name='Source_id')\n",
    "    col_helpid = Column(helpid,name='help_id')\n",
    "    col_lr_max = Column(np.zeros(len(lr_0),dtype=bool),name='lr_max_{}'.format(iteration))\n",
    "    col_lr_max[chosen_index] = True\n",
    "    col_lr_sel = Column(np.zeros(len(lr_0),dtype=bool),name='lr_sel_{}'.format(iteration))\n",
    "    col_lr_sel[chosen_index] = True\n",
    "\n",
    "    #print(col_sourceid)\n",
    "    #print(col_index,col_d2d,col_lr,col_rel,col_sourceid,col_helpid)\n",
    "    \n",
    "    temp = Table([col_index,col_d2d,col_lr,col_rel,col_sourceid,col_helpid,col_lr_max,col_lr_sel])\n",
    "\n",
    "    lrs = np.max(col_lr)\n",
    "\n",
    "    return (temp,lrs)\n",
    "\n",
    "    #return (result)"
   ]
  },
  {
   "cell_type": "code",
   "execution_count": 102,
   "metadata": {},
   "outputs": [
    {
     "name": "stdout",
     "output_type": "stream",
     "text": [
      "Iteration 3\n",
      "=============\n",
      "numbers_lofar_combined_bins\n",
      "[2700   89   26  221  618  375  417  423  391  415  408  470  501 1039\n",
      " 1044 1952]\n",
      "Q_0_colour\n",
      "[0.23205844 0.00764933 0.00223464 0.01899441 0.0531156  0.03223034\n",
      " 0.03584014 0.03635582 0.0336055  0.03566824 0.03506661 0.04039536\n",
      " 0.04305973 0.08929953 0.08972927 0.16776966]\n",
      "Q_0_total:  0.953072625698324\n"
     ]
    },
    {
     "name": "stderr",
     "output_type": "stream",
     "text": [
      "100%|██████████| 11.6k/11.6k [00:00<00:00, 12.5kit/s]\n",
      "100%|██████████| 11626/11626 [00:00<00:00, 311447.21it/s]\n"
     ]
    },
    {
     "name": "stdout",
     "output_type": "stream",
     "text": [
      "Threshold:  0.18714854408610804\n"
     ]
    },
    {
     "name": "stderr",
     "output_type": "stream",
     "text": [
      "/Users/im281/anaconda3/lib/python3.6/site-packages/numpy/lib/function_base.py:2051: UserWarning: Warning: converting a masked element to nan.\n",
      "  res = array(outputs, copy=False, subok=True, dtype=otypes[0])\n"
     ]
    },
    {
     "data": {
      "image/png": "[encoded data removed]",
      "text/plain": [
       "<matplotlib.figure.Figure at 0x566786da0>"
      ]
     },
     "metadata": {},
     "output_type": "display_data"
    },
    {
     "name": "stdout",
     "output_type": "stream",
     "text": [
      "updated Threshold:  0.14400000000000002\n",
      "N changes:  156111\n",
      "T changes:  156111\n",
      "******** continue **********\n",
      "Iteration 4\n",
      "=============\n",
      "numbers_lofar_combined_bins\n",
      "[2713   63   26  222  619  374  417  423  394  415  408  469  502 1037\n",
      " 1047 1952]\n",
      "Q_0_colour\n",
      "[0.23317576 0.0054147  0.00223464 0.01908036 0.05320155 0.03214439\n",
      " 0.03584014 0.03635582 0.03386334 0.03566824 0.03506661 0.04030941\n",
      " 0.04314568 0.08912763 0.08998711 0.16776966]\n",
      "Q_0_total:  0.9523850451224752\n"
     ]
    },
    {
     "name": "stderr",
     "output_type": "stream",
     "text": [
      "100%|██████████| 11.6k/11.6k [00:45<00:00, 254it/s]  \n",
      "100%|██████████| 11626/11626 [00:00<00:00, 309993.95it/s]\n"
     ]
    },
    {
     "name": "stdout",
     "output_type": "stream",
     "text": [
      "Threshold:  0.12603399981751853\n"
     ]
    },
    {
     "name": "stderr",
     "output_type": "stream",
     "text": [
      "/Users/im281/anaconda3/lib/python3.6/site-packages/numpy/lib/function_base.py:2051: UserWarning: Warning: converting a masked element to nan.\n",
      "  res = array(outputs, copy=False, subok=True, dtype=otypes[0])\n"
     ]
    },
    {
     "data": {
      "image/png": "[encoded data removed]",
      "text/plain": [
       "<matplotlib.figure.Figure at 0x293428908>"
      ]
     },
     "metadata": {},
     "output_type": "display_data"
    },
    {
     "name": "stdout",
     "output_type": "stream",
     "text": [
      "updated Threshold:  0.155\n",
      "N changes:  160599\n",
      "T changes:  160599\n",
      "******** continue **********\n",
      "Iteration 5\n",
      "=============\n",
      "numbers_lofar_combined_bins\n",
      "[2716   60   24  222  619  375  414  420  397  419  409  472  500 1037\n",
      " 1047 1941]\n",
      "Q_0_colour\n",
      "[0.23343361 0.00515685 0.00206274 0.01908036 0.05320155 0.03223034\n",
      " 0.03558229 0.03609798 0.03412119 0.03601203 0.03515256 0.04056725\n",
      " 0.04297379 0.08912763 0.08998711 0.16682424]\n",
      "Q_0_total:  0.9516115169746454\n"
     ]
    },
    {
     "name": "stderr",
     "output_type": "stream",
     "text": [
      "100%|██████████| 11.6k/11.6k [00:44<00:00, 262it/s]  \n",
      "100%|██████████| 11626/11626 [00:00<00:00, 165440.12it/s]\n"
     ]
    },
    {
     "name": "stdout",
     "output_type": "stream",
     "text": [
      "Threshold:  0.14412586707226074\n"
     ]
    },
    {
     "name": "stderr",
     "output_type": "stream",
     "text": [
      "/Users/im281/anaconda3/lib/python3.6/site-packages/numpy/lib/function_base.py:2051: UserWarning: Warning: converting a masked element to nan.\n",
      "  res = array(outputs, copy=False, subok=True, dtype=otypes[0])\n"
     ]
    },
    {
     "data": {
      "image/png": "[encoded data removed]",
      "text/plain": [
       "<matplotlib.figure.Figure at 0x6828bf630>"
      ]
     },
     "metadata": {},
     "output_type": "display_data"
    },
    {
     "name": "stdout",
     "output_type": "stream",
     "text": [
      "updated Threshold:  0.15\n",
      "N changes:  0\n",
      "T changes:  0\n"
     ]
    }
   ],
   "source": [
    "for j in range(10):\n",
    "    iteration = j+3 \n",
    "    print(\"Iteration {}\".format(iteration))\n",
    "    print(\"=============\")\n",
    "    ## Get new parameters\n",
    "    # Number of matched sources per bin\n",
    "    \n",
    "    #select trusted crossmatches to recalculate Q0(c)\n",
    "    if j==0:\n",
    "        #for the first iteration need to use sources with LR>threshold as lr_sel hasn't been created for this iteration\n",
    "        mask_sel = lofar['lr_2']>threshold\n",
    "    else:\n",
    "        mask_sel = lofar['lr_sel_{}'.format(iteration-1)]\n",
    "    numbers_lofar_combined_bins = np.array([np.sum(lofar[mask_sel][\"category\"] == c) \n",
    "                                            for c in range(len(numbers_combined_bins))])\n",
    "    print(\"numbers_lofar_combined_bins\")\n",
    "    print(numbers_lofar_combined_bins)\n",
    "    #recompute Q0(c)\n",
    "    Q_0_colour_est = numbers_lofar_combined_bins/len(np.unique(lofar['Source_id'])) ### Q_0\n",
    "    Q_0_colour = q0_min_level(Q_0_colour_est, min_level=0.001)\n",
    "    print(\"Q_0_colour\")\n",
    "    print(Q_0_colour)\n",
    "    q0_total = np.sum(Q_0_colour)\n",
    "    print(\"Q_0_total: \", q0_total)\n",
    "    #Recompute q(m,c) for the new Q0(c)\n",
    "    q_m = []\n",
    "    # W1 only sources\n",
    "    q_m.append(get_q_m(lofar[mask_sel][ir_colname][lofar[mask_sel][\"category\"] == 0], \n",
    "                   bin_list_ir, numbers_lofar_combined_bins[0], \n",
    "                   n_m[0], field.area, radius=radius))\n",
    "    # Rest of the sources\n",
    "    for i in range(1, len(numbers_lofar_combined_bins)):\n",
    "        q_m.append(get_q_m(lofar[mask_sel][opt_colname][lofar[mask_sel][\"category\"] == i], \n",
    "                       bin_list_opt, numbers_lofar_combined_bins[i],\n",
    "                       n_m[i], field.area, radius=radius))\n",
    "    # q_m\n",
    "    q_m_kde = []\n",
    "    # W1 only sources\n",
    "    q_m_kde.append(get_q_m_kde(lofar[mask_sel][ir_colname][lofar[mask_sel][\"category\"] == 0], \n",
    "                   centers[0], radius=radius, bandwidth=bandwidth_colour[0]))\n",
    "    # Rest of the sources\n",
    "    for i in range(1, len(numbers_lofar_combined_bins)):\n",
    "        q_m_kde.append(get_q_m_kde(lofar[mask_sel][opt_colname][lofar[mask_sel][\"category\"] == i], \n",
    "                       centers[i], radius=radius, bandwidth=bandwidth_colour[i]))\n",
    "    #set plot_intermediate to True if you want to see plots of n(m,c), q(m,c) and q(m,c)/n(m,c)\n",
    "    plot_intermediate = False\n",
    "    if plot_intermediate:\n",
    "        fig = plt.figure(figsize=(15,15))\n",
    "        for i, q_m_k in enumerate(q_m_kde):\n",
    "            plt.subplot(5,5,i+1)\n",
    "            plt.plot(centers[i], np.cumsum(q_m_k))\n",
    "        #plt.savefig('{}/q0_{}.png'.format(idp, iteration))\n",
    "        del fig\n",
    "        fig = plt.figure(figsize=(15,15))\n",
    "        for i, q_m_k in enumerate(q_m_kde):\n",
    "            plt.subplot(5,5,i+1)\n",
    "            plt.plot(centers[i], q_m_k/n_m[i])\n",
    "        #plt.savefig('{}/q_over_n_{}.png'.format(idp, iteration))\n",
    "        del fig\n",
    "        fig = plot_q_n_m(q_m, n_m)\n",
    "        #plt.savefig('{}/q_over_n_nice_{}.png'.format(idp, iteration))\n",
    "        del fig\n",
    "    ## Define new likelihood_ratio\n",
    "    likelihood_ratio = MultiMLEstimator(Q_0_colour, n_m_kde, q_m_kde, centers)\n",
    "    def ml(i):\n",
    "        return apply_ml_all(i, likelihood_ratio)\n",
    "\n",
    "    #create an empty table to store the crossmatch results with the same columns in it\n",
    "    temp = Table()\n",
    "    col_index = Column(name='lr_index_{}'.format(iteration))\n",
    "    col_d2d = Column(name='lr_dist_{}'.format(iteration))\n",
    "    col_lr = Column(name='lr_{}'.format(iteration))\n",
    "    col_rel = Column(name='lr_reliability_{}'.format(iteration))\n",
    "    col_sourceid = Column(name='Source_id')\n",
    "    col_helpid = Column(name='help_id')\n",
    "    temp.add_columns([col_index,col_d2d,col_lr,col_rel,col_sourceid,col_helpid])\n",
    "    #run the LR calculation\n",
    "    res = parallel_process(np.unique(idx_lofar), ml, n_jobs=n_cpus)\n",
    "    test1 = np.transpose(res)\n",
    "    test2 = test1[0].tolist()\n",
    "    res = astropy.table.vstack(test2)\n",
    "    #create a array of highest LR for each radio source\n",
    "    lrs = test1[1]\n",
    "    \n",
    "    \n",
    "    res[\"lr_{}\".format(iteration)][np.isnan(res[\"lr_{}\".format(iteration)])] = 0\n",
    "    ## Get and apply the threshold calculated from Q0(c) \n",
    "    mask = res['lr_sel_{}'.format(iteration)]\n",
    "    threshold = np.percentile(res[mask]['lr_{}'.format(iteration)], 100*(1 - q0_total))\n",
    "    print(\"Threshold: \", threshold)\n",
    "    \n",
    "    #change lr_sel to False if the value is less than the threshold\n",
    "    #for n,row in enumerate(res[res['lr_max_{}'.format(iteration)]]):\n",
    "    #    if row['lr_{}'.format(iteration)]<threshold:\n",
    "    #        mask = res['help_id']==row['help_id']\n",
    "    #        res['lr_sel_{}'.format(iteration)][mask] = False             \n",
    "    \n",
    "    #Calculate the completeness and reliability as a function of the threshold\n",
    "    #Use this to calculate the thershold that gives an equal completeness and reliability\n",
    "    def completeness(lr, threshold, q0):\n",
    "        n = len(lr)\n",
    "        lrt = lr[lr < threshold]\n",
    "        return 1. - np.sum((q0 * lrt)/(q0 * lrt + (1 - q0)))/(float(n)*q0)\n",
    "    \n",
    "    def reliability(lr, threshold, q0):\n",
    "        n = len(lr)\n",
    "        lrt = lr[lr > threshold]\n",
    "        return 1. - np.sum((1. - q0)/(q0 * lrt + (1 - q0)))/(float(n)*q0)\n",
    "    completeness_v = np.vectorize(completeness, excluded=[0])\n",
    "    reliability_v = np.vectorize(reliability, excluded=[0])\n",
    "    thresholds = np.arange(0., 10., 0.001)\n",
    "    mask = lofar['lr_max_{}'.format(iteration)]\n",
    "    lr_temp = lofar['lr_{}'.format(iteration)][mask]\n",
    "    completeness_t = completeness_v(lr_temp , thresholds, Q0)\n",
    "    reliability_t = reliability_v(lr_temp , thresholds, Q0)\n",
    "    diff = abs(completeness_t-reliability_t)\n",
    "    mask = ~np.isnan(diff)\n",
    "    index = np.argmin(diff[mask])\n",
    "    threshold = thresholds[mask][index]\n",
    "    plt.plot(thresholds,completeness_t)\n",
    "    plt.plot(thresholds,reliability_t)\n",
    "    plt.vlines(threshold,0,1)\n",
    "    plt.ylim(0.9,1.0)\n",
    "    plt.show()\n",
    "    print(\"updated Threshold: \", threshold)\n",
    "\n",
    "    for n,row in enumerate(res[res['lr_max_{}'.format(iteration)]]):#####\n",
    "        if row['lr_{}'.format(iteration)]<threshold:\n",
    "            mask = res['help_id']==row['help_id']\n",
    "            res['lr_sel_{}'.format(iteration)][mask] = False\n",
    "        #only include if you uncomment the earlier redoing of lr_sel after calculating the first threshold\n",
    "        #based on Q0(c)\n",
    "        #else:\n",
    "        #    mask = res['help_id']==row['help_id']\n",
    "        #    res['lr_sel_{}'.format(iteration)][mask] = True\n",
    "    \n",
    "    #join the crossmatch data to te radio table the first time this is done an outer join\n",
    "    #is needed as there are multiple crossmatches for each radio source and all of these are needed\n",
    "    #For subsequent iterations a hstack can be used \n",
    "    if j==0:\n",
    "        lofar = join(lofar,res,keys='Source_id',join_type='outer')\n",
    "    else:\n",
    "        res.remove_column('Source_id')\n",
    "        lofar = astropy.table.hstack([lofar,res])\n",
    "    \n",
    "    if plot_intermediate:\n",
    "        fig = plt.figure(figsize=(15,6))\n",
    "        plt.subplot(1,2,1)\n",
    "        plt.hist(lofar[lofar[\"lr_{}\".format(iteration)] != 0][\"lr_{}\".format(iteration)], bins=200)\n",
    "        plt.vlines([threshold], 0, 1000)\n",
    "        plt.ylim([0,1000])\n",
    "        plt.subplot(1,2,2)\n",
    "        plt.hist(np.log10(lofar[lofar[\"lr_{}\".format(iteration)] != 0][\"lr_{}\".format(iteration)]+1), bins=200)\n",
    "        plt.vlines(np.log10(threshold+1), 0, 1000)\n",
    "        ticks, _ = plt.xticks()\n",
    "        plt.xticks(ticks, [\"{:.1f}\".format(10**t-1) for t in ticks])\n",
    "        plt.ylim([0,1000])\n",
    "        #plt.savefig('{}/lr_distribution_{}.png'.format(idp, iteration))\n",
    "        del fig\n",
    "    ## Apply the threshold\n",
    "\n",
    "    ## Enter changes into the catalogue\n",
    "    # Clear aux columns\n",
    "    lofar[\"category\"] = np.nan\n",
    "    lofar[ir_colname] = np.nan\n",
    "    lofar[opt_colname] = np.nan\n",
    "    # Update data\n",
    "    c = ~np.isnan(lofar[\"lr_index_{}\".format(iteration)])\n",
    "    indices = lofar[\"lr_index_{}\".format(iteration)][c].astype(int)\n",
    "    lofar[\"category\"][c] = opt_ir[indices][\"category\"]\n",
    "    lofar[ir_colname][c] = opt_ir[indices][ir_colname]\n",
    "    lofar[opt_colname][c] = opt_ir[indices][opt_colname]\n",
    "    '''# Save the data\n",
    "    if save_intermediate:\n",
    "        lofar[mask_sel].write(\"{}/lofar[mask_sel]_m{}.fits\".format(idp, iteration), format=\"fits\")'''\n",
    "    ## Compute number of changes\n",
    "    n_changes = np.sum((\n",
    "            lofar[\"lr_index_{}\".format(iteration)] != lofar[\"lr_index_{}\".format(iteration-1)]) & \n",
    "            ~np.isnan(lofar[\"lr_index_{}\".format(iteration)]) &\n",
    "            ~np.isnan(lofar[\"lr_index_{}\".format(iteration-1)]))\n",
    "    print(\"N changes: \", n_changes)\n",
    "    t_changes = np.sum((\n",
    "            lofar[\"lr_index_{}\".format(iteration)] != lofar[\"lr_index_{}\".format(iteration-1)]))\n",
    "    print(\"T changes: \", t_changes)\n",
    "    ## Check changes\n",
    "    plt.show()\n",
    "    if n_changes == 0:\n",
    "        break\n",
    "    else:\n",
    "        print(\"******** continue **********\")"
   ]
  },
  {
   "cell_type": "code",
   "execution_count": 115,
   "metadata": {},
   "outputs": [],
   "source": [
    "Table.write(lofar,'data/xmatch_all_20181113',format='fits')"
   ]
  },
  {
   "cell_type": "code",
   "execution_count": null,
   "metadata": {},
   "outputs": [],
   "source": []
  },
  {
   "cell_type": "code",
   "execution_count": null,
   "metadata": {},
   "outputs": [],
   "source": []
  },
  {
   "cell_type": "code",
   "execution_count": null,
   "metadata": {},
   "outputs": [],
   "source": []
  },
  {
   "cell_type": "code",
   "execution_count": null,
   "metadata": {},
   "outputs": [],
   "source": []
  },
  {
   "cell_type": "code",
   "execution_count": null,
   "metadata": {},
   "outputs": [],
   "source": []
  },
  {
   "cell_type": "code",
   "execution_count": null,
   "metadata": {},
   "outputs": [],
   "source": []
  },
  {
   "cell_type": "code",
   "execution_count": null,
   "metadata": {},
   "outputs": [],
   "source": []
  },
  {
   "cell_type": "code",
   "execution_count": null,
   "metadata": {},
   "outputs": [],
   "source": []
  },
  {
   "cell_type": "code",
   "execution_count": null,
   "metadata": {},
   "outputs": [],
   "source": []
  },
  {
   "cell_type": "code",
   "execution_count": null,
   "metadata": {},
   "outputs": [],
   "source": []
  },
  {
   "cell_type": "code",
   "execution_count": null,
   "metadata": {},
   "outputs": [],
   "source": [
    "lofar"
   ]
  },
  {
   "cell_type": "code",
   "execution_count": null,
   "metadata": {},
   "outputs": [],
   "source": []
  }
 ],
 "metadata": {
  "kernelspec": {
   "display_name": "Python [conda env:anaconda3]",
   "language": "python",
   "name": "conda-env-anaconda3-py"
  },
  "language_info": {
   "codemirror_mode": {
    "name": "ipython",
    "version": 3
   },
   "file_extension": ".py",
   "mimetype": "text/x-python",
   "name": "python",
   "nbconvert_exporter": "python",
   "pygments_lexer": "ipython3",
   "version": "3.6.5"
  }
 },
 "nbformat": 4,
 "nbformat_minor": 2
}
